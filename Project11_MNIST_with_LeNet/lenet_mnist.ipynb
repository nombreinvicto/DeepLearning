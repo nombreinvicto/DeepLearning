{
 "cells": [
  {
   "cell_type": "markdown",
   "source": [
    "### Import necessary libraries and utility modules"
   ],
   "metadata": {
    "collapsed": false
   }
  },
  {
   "cell_type": "code",
   "execution_count": 1,
   "metadata": {
    "pycharm": {
     "is_executing": false,
     "name": "#%%\n"
    }
   },
   "outputs": [],
   "source": [
    "# import the packages\n",
    "from loader_util.nn.conv import LeNet\n",
    "from tensorflow.keras.optimizers import SGD\n",
    "from tensorflow.keras.datasets import mnist\n",
    "from sklearn.preprocessing import LabelBinarizer\n",
    "from sklearn.metrics import classification_report\n",
    "from tensorflow.keras import backend as K\n",
    "import numpy as np\n",
    "import pandas as pd\n",
    "import seaborn as sns\n",
    "import matplotlib.pyplot as plt\n",
    "import matplotlib.axes._axes as axes\n",
    "sns.set()"
   ]
  },
  {
   "cell_type": "markdown",
   "source": [
    "### Here we load the MNIST dataset from the Keras repositories."
   ],
   "metadata": {
    "collapsed": false
   }
  },
  {
   "cell_type": "code",
   "execution_count": 2,
   "metadata": {
    "pycharm": {
     "is_executing": false,
     "name": "#%%\n"
    }
   },
   "outputs": [
    {
     "name": "stdout",
     "output_type": "stream",
     "text": [
      "[INFO] Accessing MNIST\n",
      "Downloading data from https://storage.googleapis.com/tensorflow/tf-keras-datasets/mnist.npz\n",
      "11493376/11490434 [==============================] - 0s 0us/step\n",
      "(10000, 28, 28)\n"
     ]
    }
   ],
   "source": [
    "# grab the MNIST dataset \n",
    "print(\"[INFO] Accessing MNIST\")\n",
    "(trainData, trainLabels), (testData, testLabels) =  mnist.load_data()\n",
    "print(testData.shape)"
   ]
  },
  {
   "cell_type": "markdown",
   "source": [
    "### Change channel infrastructure"
   ],
   "metadata": {
    "collapsed": false
   }
  },
  {
   "cell_type": "code",
   "execution_count": 3,
   "metadata": {
    "pycharm": {
     "is_executing": false,
     "name": "#%%\n"
    }
   },
   "outputs": [],
   "source": [
    "#if using channel first make sure shape of image is right\n",
    "if K.image_data_format() == 'channel_first':\n",
    "    trainData = trainData.reshape((trainData.shape[0], 1, 28, 28))\n",
    "    testData = testData.reshape((testData.shape[0], 1, 28, 28))\n",
    "else:\n",
    "    trainData = trainData.reshape((trainData.shape[0], 28, 28, 1))\n",
    "    testData = testData.reshape((testData.shape[0], 28, 28, 1))"
   ]
  },
  {
   "cell_type": "markdown",
   "source": [
    "### Scaling input data and vectorizing  the output labels"
   ],
   "metadata": {
    "collapsed": false
   }
  },
  {
   "cell_type": "code",
   "execution_count": 4,
   "metadata": {
    "pycharm": {
     "is_executing": false,
     "name": "#%%\n"
    }
   },
   "outputs": [],
   "source": [
    "# now scale the data to the range [0-1]\n",
    "trainData = trainData.astype('float32') / 255.0\n",
    "testData = testData.astype('float32') / 255.0\n",
    "\n",
    "# convert labels from integers to vectors\n",
    "le = LabelBinarizer()\n",
    "trainLabels = le.fit_transform(trainLabels)\n",
    "testLabels = le.transform(testLabels)"
   ]
  },
  {
   "cell_type": "markdown",
   "source": [
    "### Compiling model and training for 20 epochs"
   ],
   "metadata": {
    "collapsed": false
   }
  },
  {
   "cell_type": "code",
   "execution_count": 6,
   "metadata": {
    "pycharm": {
     "is_executing": false,
     "name": "#%%\n"
    }
   },
   "outputs": [
    {
     "name": "stdout",
     "output_type": "stream",
     "text": [
      "[INFO] compiling model.....\n",
      "WARNING:tensorflow:From /usr/local/lib/python3.6/dist-packages/tensorflow/python/ops/resource_variable_ops.py:435: colocate_with (from tensorflow.python.framework.ops) is deprecated and will be removed in a future version.\n",
      "Instructions for updating:\n",
      "Colocations handled automatically by placer.\n",
      "Train on 60000 samples, validate on 10000 samples\n",
      "WARNING:tensorflow:From /usr/local/lib/python3.6/dist-packages/tensorflow/python/ops/math_ops.py:3066: to_int32 (from tensorflow.python.ops.math_ops) is deprecated and will be removed in a future version.\n",
      "Instructions for updating:\n",
      "Use tf.cast instead.\n",
      "Epoch 1/20\n",
      "60000/60000 [==============================] - 21s 347us/sample - loss: 0.9981 - acc: 0.7361 - val_loss: 0.2804 - val_acc: 0.9220\n",
      "Epoch 2/20\n",
      "60000/60000 [==============================] - 5s 86us/sample - loss: 0.2518 - acc: 0.9255 - val_loss: 0.1809 - val_acc: 0.9465\n",
      "Epoch 3/20\n",
      "60000/60000 [==============================] - 5s 79us/sample - loss: 0.1797 - acc: 0.9457 - val_loss: 0.1414 - val_acc: 0.9570\n",
      "Epoch 4/20\n",
      "60000/60000 [==============================] - 5s 81us/sample - loss: 0.1418 - acc: 0.9576 - val_loss: 0.1113 - val_acc: 0.9671\n",
      "Epoch 5/20\n",
      "60000/60000 [==============================] - 5s 78us/sample - loss: 0.1173 - acc: 0.9653 - val_loss: 0.0963 - val_acc: 0.9689\n",
      "Epoch 6/20\n",
      "60000/60000 [==============================] - 5s 78us/sample - loss: 0.1026 - acc: 0.9695 - val_loss: 0.1070 - val_acc: 0.9665\n",
      "Epoch 7/20\n",
      "60000/60000 [==============================] - 5s 81us/sample - loss: 0.0899 - acc: 0.9732 - val_loss: 0.0781 - val_acc: 0.9764\n",
      "Epoch 8/20\n",
      "60000/60000 [==============================] - 5s 81us/sample - loss: 0.0811 - acc: 0.9753 - val_loss: 0.0684 - val_acc: 0.9795\n",
      "Epoch 9/20\n",
      "60000/60000 [==============================] - 5s 77us/sample - loss: 0.0747 - acc: 0.9774 - val_loss: 0.0636 - val_acc: 0.9813\n",
      "Epoch 10/20\n",
      "60000/60000 [==============================] - 5s 80us/sample - loss: 0.0693 - acc: 0.9795 - val_loss: 0.0605 - val_acc: 0.9808\n",
      "Epoch 11/20\n",
      "60000/60000 [==============================] - 5s 84us/sample - loss: 0.0638 - acc: 0.9810 - val_loss: 0.0590 - val_acc: 0.9825\n",
      "Epoch 12/20\n",
      "60000/60000 [==============================] - 5s 81us/sample - loss: 0.0596 - acc: 0.9822 - val_loss: 0.0514 - val_acc: 0.9840\n",
      "Epoch 13/20\n",
      "60000/60000 [==============================] - 5s 82us/sample - loss: 0.0570 - acc: 0.9828 - val_loss: 0.0535 - val_acc: 0.9829\n",
      "Epoch 14/20\n",
      "60000/60000 [==============================] - 5s 79us/sample - loss: 0.0539 - acc: 0.9837 - val_loss: 0.0472 - val_acc: 0.9850\n",
      "Epoch 15/20\n",
      "60000/60000 [==============================] - 5s 79us/sample - loss: 0.0507 - acc: 0.9851 - val_loss: 0.0482 - val_acc: 0.9843\n",
      "Epoch 16/20\n",
      "60000/60000 [==============================] - 5s 83us/sample - loss: 0.0483 - acc: 0.9854 - val_loss: 0.0590 - val_acc: 0.9785\n",
      "Epoch 17/20\n",
      "60000/60000 [==============================] - 5s 81us/sample - loss: 0.0463 - acc: 0.9863 - val_loss: 0.0444 - val_acc: 0.9859\n",
      "Epoch 18/20\n",
      "60000/60000 [==============================] - 5s 81us/sample - loss: 0.0444 - acc: 0.9866 - val_loss: 0.0461 - val_acc: 0.9856\n",
      "Epoch 19/20\n",
      "60000/60000 [==============================] - 5s 79us/sample - loss: 0.0424 - acc: 0.9870 - val_loss: 0.0432 - val_acc: 0.9869\n",
      "Epoch 20/20\n",
      "60000/60000 [==============================] - 5s 82us/sample - loss: 0.0402 - acc: 0.9877 - val_loss: 0.0432 - val_acc: 0.9856\n"
     ]
    }
   ],
   "source": [
    "# initialise the optimier and the model\n",
    "print(\"[INFO] compiling model.....\")\n",
    "opt = SGD(lr=0.01)\n",
    "model = LeNet.build(width=28, height=28, depth=1, classes=10)\n",
    "model.compile(loss='categorical_crossentropy', optimizer=opt, \n",
    "              metrics=['accuracy'])\n",
    "H = model.fit(trainData, trainLabels,\n",
    "              validation_data=(testData, testLabels),\n",
    "              batch_size=128, epochs=20, verbose=1)"
   ]
  },
  {
   "cell_type": "code",
   "execution_count": 10,
   "metadata": {
    "pycharm": {
     "name": "#%%\n"
    }
   },
   "outputs": [
    {
     "name": "stdout",
     "output_type": "stream",
     "text": [
      "[INFO] evaluating network\n"
     ]
    }
   ],
   "source": [
    "# evaluate the network\n",
    "print(\"[INFO] evaluating network\")\n",
    "preds = model.predict(testData, batch_size=128)\n",
    "\n",
    "epochs = range(1,21)\n",
    "loss = H.history['loss']\n",
    "accuracy = H.history['acc']\n",
    "val_loss = H.history['val_loss']\n",
    "val_accuracy = H.history['val_acc']\n",
    "plot_df = pd.DataFrame(data=np.c_[epochs,loss,accuracy,val_loss,val_accuracy], \n",
    "                       columns=['epochs','loss', 'accuracy', 'val_loss', 'val_accuracy'])"
   ]
  },
  {
   "cell_type": "markdown",
   "metadata": {},
   "source": [
    "### Plot the loss and accuracy trends"
   ]
  },
  {
   "cell_type": "code",
   "execution_count": 11,
   "metadata": {
    "pycharm": {
     "name": "#%%\n"
    }
   },
   "outputs": [
    {
     "data": {
      "image/png": "[encoded data removed]",
      "text/plain": [
       "<Figure size 1080x576 with 1 Axes>"
      ]
     },
     "metadata": {},
     "output_type": "display_data"
    }
   ],
   "source": [
    "sns.set(font_scale=1)\n",
    "f, ax = plt.subplots(1, 1, figsize=(15,8))\n",
    "sns.lineplot(data=plot_df, x='epochs', y='loss', ax=ax, label='train loss', linewidth=3)\n",
    "sns.lineplot(data=plot_df, x='epochs', y='accuracy', ax=ax, label='train accuracy', linewidth=3)\n",
    "sns.lineplot(data=plot_df, x='epochs', y='val_loss', ax=ax, label='val loss', linewidth=3)\n",
    "sns.lineplot(data=plot_df, x='epochs', y='val_accuracy', ax=ax, label='val_accuracy', linewidth=3)\n",
    "ax.set_ylabel('Loss or Accuracy')\n",
    "ax.set_xlabel('Epochs')\n",
    "plt.setp(ax.get_legend().get_texts(), fontsize='18'); # for legend text"
   ]
  }
 ],
 "metadata": {
  "kernelspec": {
   "display_name": "Python 3",
   "language": "python",
   "name": "python3"
  },
  "language_info": {
   "codemirror_mode": {
    "name": "ipython",
    "version": 3
   },
   "file_extension": ".py",
   "mimetype": "text/x-python",
   "name": "python",
   "nbconvert_exporter": "python",
   "pygments_lexer": "ipython3",
   "version": "3.6.8"
  },
  "pycharm": {
   "stem_cell": {
    "cell_type": "raw",
    "source": [],
    "metadata": {
     "collapsed": false
    }
   }
  }
 },
 "nbformat": 4,
 "nbformat_minor": 1
}