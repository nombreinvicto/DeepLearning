{
  "cells": [
    {
      "cell_type": "code",
      "execution_count": 9,
      "id": "initial_id",
      "metadata": {
        "colab": {
          "base_uri": "https://localhost:8080/",
          "height": 0
        },
        "collapsed": true,
        "id": "initial_id",
        "outputId": "c084785f-0590-44ce-fb71-c065873e5976"
      },
      "outputs": [
        {
          "output_type": "stream",
          "name": "stdout",
          "text": [
            "Drive already mounted at /content/drive; to attempt to forcibly remount, call drive.mount(\"/content/drive\", force_remount=True).\n"
          ]
        }
      ],
      "source": [
        "import sys\n",
        "from google.colab import drive\n",
        "\n",
        "drive.mount('/content/drive')\n",
        "sys.path.append(r\"/content/drive/MyDrive/\")"
      ]
    },
    {
      "cell_type": "code",
      "execution_count": 10,
      "id": "bc0f894e2e268858",
      "metadata": {
        "id": "bc0f894e2e268858"
      },
      "outputs": [],
      "source": [
        "from loader_util.preprocessing import (\n",
        "    ImageToArrayPreprocessor,\n",
        "    SimplePreprocessor,\n",
        "    MeanPreprocessor,\n",
        "    CropPreprocessor\n",
        ")\n",
        "from loader_util.io import HDF5DatasetGenerator\n",
        "from loader_util.utils import rankn_accuracy\n",
        "from tensorflow.keras.models import load_model, Model\n",
        "import numpy as np\n",
        "from tqdm import tqdm\n",
        "import json"
      ]
    },
    {
      "cell_type": "code",
      "execution_count": 11,
      "id": "7eb89e92f2591afe",
      "metadata": {
        "id": "7eb89e92f2591afe"
      },
      "outputs": [],
      "source": [
        "# script constants\n",
        "dataset_mean_path = r\"/content/drive/MyDrive/Colab Notebooks/ImageDataset/book2/kaggle_dogs_vs_cats/hdf5/output/kaggle_cats_dogs.json\"\n",
        "saved_model_path = r\"/content/drive/MyDrive/Colab Notebooks/ImageDataset/book2/kaggle_dogs_vs_cats/hdf5/output/alexnet_cats_dogs_model.keras\"\n",
        "test_data_path = r\"/content/drive/MyDrive/Colab Notebooks/ImageDataset/book2/kaggle_dogs_vs_cats/hdf5/test.hdf5\"\n",
        "BATCH_SIZE = 64"
      ]
    },
    {
      "cell_type": "code",
      "execution_count": 12,
      "id": "acff94b31841691c",
      "metadata": {
        "colab": {
          "base_uri": "https://localhost:8080/",
          "height": 0
        },
        "id": "acff94b31841691c",
        "outputId": "f9c9be2c-be97-4052-bb0a-d7937536cddc"
      },
      "outputs": [
        {
          "output_type": "stream",
          "name": "stdout",
          "text": [
            "[INFO] loading model......\n"
          ]
        },
        {
          "output_type": "stream",
          "name": "stderr",
          "text": [
            "/usr/local/lib/python3.12/dist-packages/keras/src/saving/saving_lib.py:802: UserWarning: Skipping variable loading for optimizer 'rmsprop', because it has 32 variables whereas the saved optimizer has 62 variables. \n",
            "  saveable.load_own_variables(weights_store.get(inner_path))\n"
          ]
        }
      ],
      "source": [
        "means = json.loads(open(dataset_mean_path).read())\n",
        "sp = SimplePreprocessor(227, 227)\n",
        "mp = MeanPreprocessor(means[\"r\"], means[\"g\"], means[\"b\"])\n",
        "cp = CropPreprocessor(227, 227)\n",
        "iap = ImageToArrayPreprocessor()\n",
        "\n",
        "print(f\"[INFO] loading model......\")\n",
        "model = load_model(saved_model_path)\n",
        "model: Model"
      ]
    },
    {
      "cell_type": "code",
      "execution_count": 13,
      "id": "6038f2637cf8ea3d",
      "metadata": {
        "colab": {
          "base_uri": "https://localhost:8080/",
          "height": 0
        },
        "id": "6038f2637cf8ea3d",
        "outputId": "1f371114-46fe-4442-f20c-e0bb0ba84ae6"
      },
      "outputs": [
        {
          "output_type": "stream",
          "name": "stdout",
          "text": [
            "[INFO] predicting on test data (no additional crops)......\n",
            "[INFO] initialised HDF5 generator with 2500 data across 2 classes\n",
            "\u001b[1m39/39\u001b[0m \u001b[32m━━━━━━━━━━━━━━━━━━━━\u001b[0m\u001b[37m\u001b[0m \u001b[1m9s\u001b[0m 220ms/step\n",
            "[INFO] rank1_acc:  0.93\n"
          ]
        }
      ],
      "source": [
        "print(f\"[INFO] predicting on test data (no additional crops)......\")\n",
        "test_gen = HDF5DatasetGenerator(dbpath=test_data_path,\n",
        "                                batch_size=BATCH_SIZE,\n",
        "                                preprocessors=[sp, mp, iap])\n",
        "\n",
        "simple_predictions = model.predict(test_gen.generator(),\n",
        "                                   steps=test_gen.num_images // BATCH_SIZE)\n",
        "rank1_acc, rank5_acc = rankn_accuracy(simple_predictions, test_gen.db[\"labels\"])\n",
        "print(f\"[INFO] rank1_acc: {rank1_acc: 0.2f}\")\n",
        "test_gen.close()"
      ]
    },
    {
      "cell_type": "code",
      "execution_count": 26,
      "id": "b0d1c0aec55e6505",
      "metadata": {
        "colab": {
          "base_uri": "https://localhost:8080/"
        },
        "id": "b0d1c0aec55e6505",
        "outputId": "309bbef2-5e84-4f07-a579-34fc742d723f"
      },
      "outputs": [
        {
          "output_type": "stream",
          "name": "stdout",
          "text": [
            "[INFO] predicting on test data (with crops now)......\n",
            "[INFO] initialised HDF5 generator with 2500 data across 2 classes\n"
          ]
        }
      ],
      "source": [
        "print(f\"[INFO] predicting on test data (with crops now)......\")\n",
        "test_gen = HDF5DatasetGenerator(dbpath=test_data_path,\n",
        "                                batch_size=BATCH_SIZE,\n",
        "                                preprocessors=[mp])\n",
        "crop_predictions = []"
      ]
    },
    {
      "cell_type": "code",
      "execution_count": 27,
      "id": "f12141c77a44da92",
      "metadata": {
        "colab": {
          "base_uri": "https://localhost:8080/"
        },
        "id": "f12141c77a44da92",
        "outputId": "f965b54b-680a-4470-e087-15ee8b9fbe7b"
      },
      "outputs": [
        {
          "output_type": "stream",
          "name": "stdout",
          "text": [
            "completed with batch : 1\n",
            "completed with batch : 2\n",
            "completed with batch : 3\n",
            "completed with batch : 4\n",
            "completed with batch : 5\n",
            "completed with batch : 6\n",
            "completed with batch : 7\n",
            "completed with batch : 8\n",
            "completed with batch : 9\n",
            "completed with batch : 10\n",
            "completed with batch : 11\n",
            "completed with batch : 12\n",
            "completed with batch : 13\n",
            "completed with batch : 14\n",
            "completed with batch : 15\n",
            "completed with batch : 16\n",
            "completed with batch : 17\n",
            "completed with batch : 18\n",
            "completed with batch : 19\n",
            "completed with batch : 20\n",
            "completed with batch : 21\n",
            "completed with batch : 22\n",
            "completed with batch : 23\n",
            "completed with batch : 24\n",
            "completed with batch : 25\n",
            "completed with batch : 26\n",
            "completed with batch : 27\n",
            "completed with batch : 28\n",
            "completed with batch : 29\n",
            "completed with batch : 30\n",
            "completed with batch : 31\n",
            "completed with batch : 32\n",
            "completed with batch : 33\n",
            "completed with batch : 34\n",
            "completed with batch : 35\n",
            "completed with batch : 36\n",
            "completed with batch : 37\n",
            "completed with batch : 38\n",
            "completed with batch : 39\n",
            "completed with batch : 40\n"
          ]
        }
      ],
      "source": [
        "# loop over a single pass\n",
        "for i, (batch_images, batch_labels) in enumerate(test_gen.generator(passes=1)):\n",
        "    for image in batch_images:\n",
        "        crops = cp.preprocess(image)\n",
        "        crops = np.array([iap.preprocess(cp)\n",
        "                          for cp in crops], dtype=\"float32\")\n",
        "\n",
        "        crop_prediction = model.predict(crops, verbose=0)\n",
        "        crop_predictions.append(crop_prediction.mean(axis=0))\n",
        "    print(f\"completed with batch : {i + 1}\")"
      ]
    },
    {
      "cell_type": "code",
      "source": [
        "len(crop_predictions)"
      ],
      "metadata": {
        "colab": {
          "base_uri": "https://localhost:8080/"
        },
        "id": "J5Gp7RI5kTK8",
        "outputId": "ecd16d8e-de14-4b6c-b8b3-30b3525e688b"
      },
      "id": "J5Gp7RI5kTK8",
      "execution_count": 28,
      "outputs": [
        {
          "output_type": "execute_result",
          "data": {
            "text/plain": [
              "2500"
            ]
          },
          "metadata": {},
          "execution_count": 28
        }
      ]
    },
    {
      "cell_type": "code",
      "execution_count": 30,
      "id": "bc6a00b4c12862c2",
      "metadata": {
        "id": "bc6a00b4c12862c2",
        "colab": {
          "base_uri": "https://localhost:8080/"
        },
        "outputId": "25af5465-0735-44df-c3a2-cb859e84dfda"
      },
      "outputs": [
        {
          "output_type": "stream",
          "name": "stdout",
          "text": [
            "[INFO] rank1_acc:  0.93\n"
          ]
        }
      ],
      "source": [
        "rank1_acc, rank5_acc = rankn_accuracy(np.array(crop_predictions), test_gen.db[\"labels\"])\n",
        "print(f\"[INFO] rank1_acc: {rank1_acc: 0.2f}\")\n",
        "test_gen.close()"
      ]
    },
    {
      "cell_type": "code",
      "source": [],
      "metadata": {
        "id": "aTMYmMOFiWPP"
      },
      "id": "aTMYmMOFiWPP",
      "execution_count": null,
      "outputs": []
    }
  ],
  "metadata": {
    "accelerator": "GPU",
    "colab": {
      "gpuType": "T4",
      "machine_shape": "hm",
      "provenance": []
    },
    "kernelspec": {
      "display_name": "Python 3",
      "name": "python3"
    },
    "language_info": {
      "codemirror_mode": {
        "name": "ipython",
        "version": 2
      },
      "file_extension": ".py",
      "mimetype": "text/x-python",
      "name": "python",
      "nbconvert_exporter": "python",
      "pygments_lexer": "ipython2",
      "version": "2.7.6"
    }
  },
  "nbformat": 4,
  "nbformat_minor": 5
}