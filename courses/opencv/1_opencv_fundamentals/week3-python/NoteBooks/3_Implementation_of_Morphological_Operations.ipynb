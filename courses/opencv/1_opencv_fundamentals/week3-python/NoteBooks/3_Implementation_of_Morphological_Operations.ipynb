{
 "cells": [
  {
   "cell_type": "markdown",
   "metadata": {},
   "source": [
    "# <font style = \"color:rgb(50,120,229)\">Implementation of Morphological Operations</font>\n",
    "We had discussed how to use dilation and erosion operations in the previous section. In this section, we will see what is going on under the hood. The most important concept that you need to understand is the Structuring element. We will discuss about the structuring element and how it is used for performing these morphological operations."
   ]
  },
  {
   "cell_type": "markdown",
   "metadata": {},
   "source": [
    "# <font style=\"color:rgb(50,120,229)\">What is a Structuring Element? </font>\n",
    "We had seen in the video that a circular ( a.k.a ellipse ) structuring element was used to perform dilation and erosion operations. Let us discuss a bit more about the structuring element.\n",
    "\n",
    "Structuring elements ( a.k.a Kernels ) are used to modify the shape of the blobs. These are used to scan the image and modify the pixels on the basis of some rule/algorithm ( which governs whether you are doing Erosion or Dilation or something else )"
   ]
  },
  {
   "cell_type": "markdown",
   "metadata": {},
   "source": [
    "There are 3 types of structuring elements supported by OpenCV. \n",
    "1. Ellipse/Circular shaped\n",
    "1. Rectangular shaped\n",
    "1. Cross shaped\n",
    "\n",
    "For creating structuring elements, OpenCV provides the function [**`cv2.getStructuringElement`**](https://docs.opencv.org/4.1.0/d4/d86/group__imgproc__filter.html#gac342a1bb6eabf6f55c803b09268e36dc)\n",
    "\n",
    "`\n",
    "element = cv2.getStructuringElement(elementType, kernelSize, anchor)\n",
    "`\n",
    "\n",
    "You can also create any other structuring element using numpy arrays. It is simply a matrix."
   ]
  },
  {
   "cell_type": "markdown",
   "metadata": {},
   "source": [
    "Let's see how to implement the Dilation operation using a elliptical structuring element with an example. We will discuss two ways to arrive at the same output."
   ]
  },
  {
   "cell_type": "markdown",
   "metadata": {},
   "source": [
    "## <font style=\"color:rgb(50,120,229)\">Method 1</font>\n",
    "1. Scan the kernel through the image \n",
    "1. when you find a white pixel overlapping with the center of the kernel, perform an OR operation of the Kernel and the pixel Neighborhood.\n",
    "\n",
    "#### <font style = \"color:rgb(200,0,0)\">We have given sample code which implements this algorithm below </font>"
   ]
  },
  {
   "cell_type": "markdown",
   "metadata": {},
   "source": [
    "## <font style=\"color:rgb(50,120,229)\">Method 2</font>\n",
    "1. Scan through the image and superimpose the kernel on the neighborhood of each pixel. \n",
    "1. Perform an AND operation of the neighborhood with the kernel.\n",
    "1. Replace the pixel value with the `maximum` value in the neighborhood given by the kernel. \n",
    "\n",
    "This means that you check every pixel and its neighborhood with respect to the kernel and change the pixel to white if any of the pixel in this neighborhood is white. OpenCV implements an optimized version of this method. This will work even if the image is not a binary image.\n",
    "\n",
    "#### <font style = \"color:rgb(200,0,0)\">You will implement this method for both Dilation and Erosion in the assignment. We will provide hints along with the assignment.</font>"
   ]
  },
  {
   "cell_type": "markdown",
   "metadata": {},
   "source": [
    "## <font style=\"color:rgb(50,120,229)\">Import Libraries </font>"
   ]
  },
  {
   "cell_type": "code",
   "execution_count": 1,
   "metadata": {
    "collapsed": true
   },
   "outputs": [],
   "source": [
    "import cv2\n",
    "import numpy as np\n",
    "from dataPath import DATA_PATH\n",
    "import matplotlib.pyplot as plt\n",
    "%matplotlib inline"
   ]
  },
  {
   "cell_type": "code",
   "execution_count": 2,
   "metadata": {
    "collapsed": true
   },
   "outputs": [],
   "source": [
    "import matplotlib\n",
    "matplotlib.rcParams['figure.figsize'] = (6.0, 6.0)\n",
    "matplotlib.rcParams['image.cmap'] = 'gray'"
   ]
  },
  {
   "cell_type": "markdown",
   "metadata": {},
   "source": [
    "# <font style=\"color:rgb(50,120,229)\">Create a Demo Image</font>\n",
    "## <font style=\"color:rgb(50,120,229)\">Create an empty matrix </font>"
   ]
  },
  {
   "cell_type": "code",
   "execution_count": 3,
   "metadata": {},
   "outputs": [
    {
     "name": "stdout",
     "output_type": "stream",
     "text": [
      "[[0 0 0 0 0 0 0 0 0 0]\n",
      " [0 0 0 0 0 0 0 0 0 0]\n",
      " [0 0 0 0 0 0 0 0 0 0]\n",
      " [0 0 0 0 0 0 0 0 0 0]\n",
      " [0 0 0 0 0 0 0 0 0 0]\n",
      " [0 0 0 0 0 0 0 0 0 0]\n",
      " [0 0 0 0 0 0 0 0 0 0]\n",
      " [0 0 0 0 0 0 0 0 0 0]\n",
      " [0 0 0 0 0 0 0 0 0 0]\n",
      " [0 0 0 0 0 0 0 0 0 0]]\n"
     ]
    },
    {
     "data": {
      "text/plain": [
       "<matplotlib.image.AxesImage at 0x7fbe4dcd7828>"
      ]
     },
     "execution_count": 3,
     "metadata": {},
     "output_type": "execute_result"
    },
    {
     "data": {
      "image/png": "[encoded data removed]",
      "text/plain": [
       "<Figure size 432x432 with 1 Axes>"
      ]
     },
     "metadata": {},
     "output_type": "display_data"
    }
   ],
   "source": [
    "im = np.zeros((10,10),dtype='uint8')\n",
    "print(im);\n",
    "plt.imshow(im)"
   ]
  },
  {
   "cell_type": "markdown",
   "metadata": {},
   "source": [
    "## <font style=\"color:rgb(50,120,229)\">Lets add some white blobs</font>\n",
    "\n",
    "We have added the blobs at different places so that all boundary cases are covered in this example."
   ]
  },
  {
   "cell_type": "code",
   "execution_count": 4,
   "metadata": {},
   "outputs": [
    {
     "name": "stdout",
     "output_type": "stream",
     "text": [
      "[[0 1 0 0 0 0 0 0 0 0]\n",
      " [0 0 0 0 0 0 0 0 0 0]\n",
      " [0 0 1 0 0 0 0 0 0 0]\n",
      " [0 0 0 0 0 0 0 0 0 0]\n",
      " [0 0 0 0 0 0 0 0 0 0]\n",
      " [0 0 0 0 0 1 1 1 0 0]\n",
      " [0 0 0 0 0 1 1 1 0 0]\n",
      " [0 0 0 0 0 1 1 1 0 0]\n",
      " [0 0 0 0 0 0 0 0 0 1]\n",
      " [1 0 0 0 0 0 0 0 0 0]]\n"
     ]
    },
    {
     "data": {
      "text/plain": [
       "<matplotlib.image.AxesImage at 0x7fbe4d79db38>"
      ]
     },
     "execution_count": 4,
     "metadata": {},
     "output_type": "execute_result"
    },
    {
     "data": {
      "image/png": "[encoded data removed]",
      "text/plain": [
       "<Figure size 432x432 with 1 Axes>"
      ]
     },
     "metadata": {},
     "output_type": "display_data"
    }
   ],
   "source": [
    "im[0,1] = 1\n",
    "im[-1,0]= 1\n",
    "im[-2,-1]=1\n",
    "im[2,2] = 1\n",
    "im[5:8,5:8] = 1\n",
    "\n",
    "print(im)\n",
    "plt.imshow(im)"
   ]
  },
  {
   "cell_type": "markdown",
   "metadata": {},
   "source": [
    "This becomes our demo Image for illustration purpose"
   ]
  },
  {
   "cell_type": "markdown",
   "metadata": {},
   "source": [
    "## <font style=\"color:rgb(50,120,229)\">Create an Ellipse Structuring Element </font>\n",
    "Let us create a 3x3 ellipse structuring element."
   ]
  },
  {
   "cell_type": "code",
   "execution_count": 5,
   "metadata": {},
   "outputs": [
    {
     "name": "stdout",
     "output_type": "stream",
     "text": [
      "[[0 1 0]\n",
      " [1 1 1]\n",
      " [0 1 0]]\n"
     ]
    }
   ],
   "source": [
    "element = cv2.getStructuringElement(cv2.MORPH_ELLIPSE, (3,3))\n",
    "print(element)"
   ]
  },
  {
   "cell_type": "code",
   "execution_count": 6,
   "metadata": {
    "collapsed": true
   },
   "outputs": [],
   "source": [
    "ksize = element.shape[0]"
   ]
  },
  {
   "cell_type": "code",
   "execution_count": 7,
   "metadata": {
    "collapsed": true
   },
   "outputs": [],
   "source": [
    "height,width = im.shape[:2]"
   ]
  },
  {
   "cell_type": "markdown",
   "metadata": {},
   "source": [
    "## <font style=\"color:rgb(50,120,229)\">Dilation from scratch : Method 1</font>"
   ]
  },
  {
   "cell_type": "code",
   "execution_count": 8,
   "metadata": {
    "scrolled": true
   },
   "outputs": [
    {
     "name": "stdout",
     "output_type": "stream",
     "text": [
      "White Pixel Found @ 1,2\n",
      "[[0 0 1 0 0 0 0 0 0 0 0 0]\n",
      " [0 1 1 1 0 0 0 0 0 0 0 0]\n",
      " [0 0 1 0 0 0 0 0 0 0 0 0]\n",
      " [0 0 0 1 0 0 0 0 0 0 0 0]\n",
      " [0 0 0 0 0 0 0 0 0 0 0 0]\n",
      " [0 0 0 0 0 0 0 0 0 0 0 0]\n",
      " [0 0 0 0 0 0 1 1 1 0 0 0]\n",
      " [0 0 0 0 0 0 1 1 1 0 0 0]\n",
      " [0 0 0 0 0 0 1 1 1 0 0 0]\n",
      " [0 0 0 0 0 0 0 0 0 0 1 0]\n",
      " [0 1 0 0 0 0 0 0 0 0 0 0]\n",
      " [0 0 0 0 0 0 0 0 0 0 0 0]]\n"
     ]
    },
    {
     "data": {
      "image/png": "[encoded data removed]",
      "text/plain": [
       "<Figure size 432x432 with 1 Axes>"
      ]
     },
     "metadata": {},
     "output_type": "display_data"
    },
    {
     "name": "stdout",
     "output_type": "stream",
     "text": [
      "White Pixel Found @ 3,3\n",
      "[[0 0 1 0 0 0 0 0 0 0 0 0]\n",
      " [0 1 1 1 0 0 0 0 0 0 0 0]\n",
      " [0 0 1 1 0 0 0 0 0 0 0 0]\n",
      " [0 0 1 1 1 0 0 0 0 0 0 0]\n",
      " [0 0 0 1 0 0 0 0 0 0 0 0]\n",
      " [0 0 0 0 0 0 0 0 0 0 0 0]\n",
      " [0 0 0 0 0 0 1 1 1 0 0 0]\n",
      " [0 0 0 0 0 0 1 1 1 0 0 0]\n",
      " [0 0 0 0 0 0 1 1 1 0 0 0]\n",
      " [0 0 0 0 0 0 0 0 0 0 1 0]\n",
      " [0 1 0 0 0 0 0 0 0 0 0 0]\n",
      " [0 0 0 0 0 0 0 0 0 0 0 0]]\n"
     ]
    },
    {
     "data": {
      "image/png": "[encoded data removed]",
      "text/plain": [
       "<Figure size 432x432 with 1 Axes>"
      ]
     },
     "metadata": {},
     "output_type": "display_data"
    },
    {
     "name": "stdout",
     "output_type": "stream",
     "text": [
      "White Pixel Found @ 6,6\n",
      "[[0 0 1 0 0 0 0 0 0 0 0 0]\n",
      " [0 1 1 1 0 0 0 0 0 0 0 0]\n",
      " [0 0 1 1 0 0 0 0 0 0 0 0]\n",
      " [0 0 1 1 1 0 0 0 0 0 0 0]\n",
      " [0 0 0 1 0 0 0 0 0 0 0 0]\n",
      " [0 0 0 0 0 0 1 0 0 0 0 0]\n",
      " [0 0 0 0 0 1 1 1 1 0 0 0]\n",
      " [0 0 0 0 0 0 1 1 1 0 0 0]\n",
      " [0 0 0 0 0 0 1 1 1 0 0 0]\n",
      " [0 0 0 0 0 0 0 0 0 0 1 0]\n",
      " [0 1 0 0 0 0 0 0 0 0 0 0]\n",
      " [0 0 0 0 0 0 0 0 0 0 0 0]]\n"
     ]
    },
    {
     "data": {
      "image/png": "[encoded data removed]",
      "text/plain": [
       "<Figure size 432x432 with 1 Axes>"
      ]
     },
     "metadata": {},
     "output_type": "display_data"
    },
    {
     "name": "stdout",
     "output_type": "stream",
     "text": [
      "White Pixel Found @ 6,7\n",
      "[[0 0 1 0 0 0 0 0 0 0 0 0]\n",
      " [0 1 1 1 0 0 0 0 0 0 0 0]\n",
      " [0 0 1 1 0 0 0 0 0 0 0 0]\n",
      " [0 0 1 1 1 0 0 0 0 0 0 0]\n",
      " [0 0 0 1 0 0 0 0 0 0 0 0]\n",
      " [0 0 0 0 0 0 1 1 0 0 0 0]\n",
      " [0 0 0 0 0 1 1 1 1 0 0 0]\n",
      " [0 0 0 0 0 0 1 1 1 0 0 0]\n",
      " [0 0 0 0 0 0 1 1 1 0 0 0]\n",
      " [0 0 0 0 0 0 0 0 0 0 1 0]\n",
      " [0 1 0 0 0 0 0 0 0 0 0 0]\n",
      " [0 0 0 0 0 0 0 0 0 0 0 0]]\n"
     ]
    },
    {
     "data": {
      "image/png": "[encoded data removed]",
      "text/plain": [
       "<Figure size 432x432 with 1 Axes>"
      ]
     },
     "metadata": {},
     "output_type": "display_data"
    },
    {
     "name": "stdout",
     "output_type": "stream",
     "text": [
      "White Pixel Found @ 6,8\n",
      "[[0 0 1 0 0 0 0 0 0 0 0 0]\n",
      " [0 1 1 1 0 0 0 0 0 0 0 0]\n",
      " [0 0 1 1 0 0 0 0 0 0 0 0]\n",
      " [0 0 1 1 1 0 0 0 0 0 0 0]\n",
      " [0 0 0 1 0 0 0 0 0 0 0 0]\n",
      " [0 0 0 0 0 0 1 1 1 0 0 0]\n",
      " [0 0 0 0 0 1 1 1 1 1 0 0]\n",
      " [0 0 0 0 0 0 1 1 1 0 0 0]\n",
      " [0 0 0 0 0 0 1 1 1 0 0 0]\n",
      " [0 0 0 0 0 0 0 0 0 0 1 0]\n",
      " [0 1 0 0 0 0 0 0 0 0 0 0]\n",
      " [0 0 0 0 0 0 0 0 0 0 0 0]]\n"
     ]
    },
    {
     "data": {
      "image/png": "[encoded data removed]",
      "text/plain": [
       "<Figure size 432x432 with 1 Axes>"
      ]
     },
     "metadata": {},
     "output_type": "display_data"
    },
    {
     "name": "stdout",
     "output_type": "stream",
     "text": [
      "White Pixel Found @ 7,6\n",
      "[[0 0 1 0 0 0 0 0 0 0 0 0]\n",
      " [0 1 1 1 0 0 0 0 0 0 0 0]\n",
      " [0 0 1 1 0 0 0 0 0 0 0 0]\n",
      " [0 0 1 1 1 0 0 0 0 0 0 0]\n",
      " [0 0 0 1 0 0 0 0 0 0 0 0]\n",
      " [0 0 0 0 0 0 1 1 1 0 0 0]\n",
      " [0 0 0 0 0 1 1 1 1 1 0 0]\n",
      " [0 0 0 0 0 1 1 1 1 0 0 0]\n",
      " [0 0 0 0 0 0 1 1 1 0 0 0]\n",
      " [0 0 0 0 0 0 0 0 0 0 1 0]\n",
      " [0 1 0 0 0 0 0 0 0 0 0 0]\n",
      " [0 0 0 0 0 0 0 0 0 0 0 0]]\n"
     ]
    },
    {
     "data": {
      "image/png": "[encoded data removed]",
      "text/plain": [
       "<Figure size 432x432 with 1 Axes>"
      ]
     },
     "metadata": {},
     "output_type": "display_data"
    },
    {
     "name": "stdout",
     "output_type": "stream",
     "text": [
      "White Pixel Found @ 7,7\n",
      "[[0 0 1 0 0 0 0 0 0 0 0 0]\n",
      " [0 1 1 1 0 0 0 0 0 0 0 0]\n",
      " [0 0 1 1 0 0 0 0 0 0 0 0]\n",
      " [0 0 1 1 1 0 0 0 0 0 0 0]\n",
      " [0 0 0 1 0 0 0 0 0 0 0 0]\n",
      " [0 0 0 0 0 0 1 1 1 0 0 0]\n",
      " [0 0 0 0 0 1 1 1 1 1 0 0]\n",
      " [0 0 0 0 0 1 1 1 1 0 0 0]\n",
      " [0 0 0 0 0 0 1 1 1 0 0 0]\n",
      " [0 0 0 0 0 0 0 0 0 0 1 0]\n",
      " [0 1 0 0 0 0 0 0 0 0 0 0]\n",
      " [0 0 0 0 0 0 0 0 0 0 0 0]]\n"
     ]
    },
    {
     "data": {
      "image/png": "[encoded data removed]",
      "text/plain": [
       "<Figure size 432x432 with 1 Axes>"
      ]
     },
     "metadata": {},
     "output_type": "display_data"
    },
    {
     "name": "stdout",
     "output_type": "stream",
     "text": [
      "White Pixel Found @ 7,8\n",
      "[[0 0 1 0 0 0 0 0 0 0 0 0]\n",
      " [0 1 1 1 0 0 0 0 0 0 0 0]\n",
      " [0 0 1 1 0 0 0 0 0 0 0 0]\n",
      " [0 0 1 1 1 0 0 0 0 0 0 0]\n",
      " [0 0 0 1 0 0 0 0 0 0 0 0]\n",
      " [0 0 0 0 0 0 1 1 1 0 0 0]\n",
      " [0 0 0 0 0 1 1 1 1 1 0 0]\n",
      " [0 0 0 0 0 1 1 1 1 1 0 0]\n",
      " [0 0 0 0 0 0 1 1 1 0 0 0]\n",
      " [0 0 0 0 0 0 0 0 0 0 1 0]\n",
      " [0 1 0 0 0 0 0 0 0 0 0 0]\n",
      " [0 0 0 0 0 0 0 0 0 0 0 0]]\n"
     ]
    },
    {
     "data": {
      "image/png": "[encoded data removed]",
      "text/plain": [
       "<Figure size 432x432 with 1 Axes>"
      ]
     },
     "metadata": {},
     "output_type": "display_data"
    },
    {
     "name": "stdout",
     "output_type": "stream",
     "text": [
      "White Pixel Found @ 8,6\n",
      "[[0 0 1 0 0 0 0 0 0 0 0 0]\n",
      " [0 1 1 1 0 0 0 0 0 0 0 0]\n",
      " [0 0 1 1 0 0 0 0 0 0 0 0]\n",
      " [0 0 1 1 1 0 0 0 0 0 0 0]\n",
      " [0 0 0 1 0 0 0 0 0 0 0 0]\n",
      " [0 0 0 0 0 0 1 1 1 0 0 0]\n",
      " [0 0 0 0 0 1 1 1 1 1 0 0]\n",
      " [0 0 0 0 0 1 1 1 1 1 0 0]\n",
      " [0 0 0 0 0 1 1 1 1 0 0 0]\n",
      " [0 0 0 0 0 0 1 0 0 0 1 0]\n",
      " [0 1 0 0 0 0 0 0 0 0 0 0]\n",
      " [0 0 0 0 0 0 0 0 0 0 0 0]]\n"
     ]
    },
    {
     "data": {
      "image/png": "[encoded data removed]",
      "text/plain": [
       "<Figure size 432x432 with 1 Axes>"
      ]
     },
     "metadata": {},
     "output_type": "display_data"
    },
    {
     "name": "stdout",
     "output_type": "stream",
     "text": [
      "White Pixel Found @ 8,7\n",
      "[[0 0 1 0 0 0 0 0 0 0 0 0]\n",
      " [0 1 1 1 0 0 0 0 0 0 0 0]\n",
      " [0 0 1 1 0 0 0 0 0 0 0 0]\n",
      " [0 0 1 1 1 0 0 0 0 0 0 0]\n",
      " [0 0 0 1 0 0 0 0 0 0 0 0]\n",
      " [0 0 0 0 0 0 1 1 1 0 0 0]\n",
      " [0 0 0 0 0 1 1 1 1 1 0 0]\n",
      " [0 0 0 0 0 1 1 1 1 1 0 0]\n",
      " [0 0 0 0 0 1 1 1 1 0 0 0]\n",
      " [0 0 0 0 0 0 1 1 0 0 1 0]\n",
      " [0 1 0 0 0 0 0 0 0 0 0 0]\n",
      " [0 0 0 0 0 0 0 0 0 0 0 0]]\n"
     ]
    },
    {
     "data": {
      "image/png": "[encoded data removed]",
      "text/plain": [
       "<Figure size 432x432 with 1 Axes>"
      ]
     },
     "metadata": {},
     "output_type": "display_data"
    },
    {
     "name": "stdout",
     "output_type": "stream",
     "text": [
      "White Pixel Found @ 8,8\n",
      "[[0 0 1 0 0 0 0 0 0 0 0 0]\n",
      " [0 1 1 1 0 0 0 0 0 0 0 0]\n",
      " [0 0 1 1 0 0 0 0 0 0 0 0]\n",
      " [0 0 1 1 1 0 0 0 0 0 0 0]\n",
      " [0 0 0 1 0 0 0 0 0 0 0 0]\n",
      " [0 0 0 0 0 0 1 1 1 0 0 0]\n",
      " [0 0 0 0 0 1 1 1 1 1 0 0]\n",
      " [0 0 0 0 0 1 1 1 1 1 0 0]\n",
      " [0 0 0 0 0 1 1 1 1 1 0 0]\n",
      " [0 0 0 0 0 0 1 1 1 0 1 0]\n",
      " [0 1 0 0 0 0 0 0 0 0 0 0]\n",
      " [0 0 0 0 0 0 0 0 0 0 0 0]]\n"
     ]
    },
    {
     "data": {
      "image/png": "[encoded data removed]",
      "text/plain": [
       "<Figure size 432x432 with 1 Axes>"
      ]
     },
     "metadata": {},
     "output_type": "display_data"
    },
    {
     "name": "stdout",
     "output_type": "stream",
     "text": [
      "White Pixel Found @ 9,10\n",
      "[[0 0 1 0 0 0 0 0 0 0 0 0]\n",
      " [0 1 1 1 0 0 0 0 0 0 0 0]\n",
      " [0 0 1 1 0 0 0 0 0 0 0 0]\n",
      " [0 0 1 1 1 0 0 0 0 0 0 0]\n",
      " [0 0 0 1 0 0 0 0 0 0 0 0]\n",
      " [0 0 0 0 0 0 1 1 1 0 0 0]\n",
      " [0 0 0 0 0 1 1 1 1 1 0 0]\n",
      " [0 0 0 0 0 1 1 1 1 1 0 0]\n",
      " [0 0 0 0 0 1 1 1 1 1 1 0]\n",
      " [0 0 0 0 0 0 1 1 1 1 1 1]\n",
      " [0 1 0 0 0 0 0 0 0 0 1 0]\n",
      " [0 0 0 0 0 0 0 0 0 0 0 0]]\n"
     ]
    },
    {
     "data": {
      "image/png": "[encoded data removed]",
      "text/plain": [
       "<Figure size 432x432 with 1 Axes>"
      ]
     },
     "metadata": {},
     "output_type": "display_data"
    },
    {
     "name": "stdout",
     "output_type": "stream",
     "text": [
      "White Pixel Found @ 10,1\n",
      "[[0 0 1 0 0 0 0 0 0 0 0 0]\n",
      " [0 1 1 1 0 0 0 0 0 0 0 0]\n",
      " [0 0 1 1 0 0 0 0 0 0 0 0]\n",
      " [0 0 1 1 1 0 0 0 0 0 0 0]\n",
      " [0 0 0 1 0 0 0 0 0 0 0 0]\n",
      " [0 0 0 0 0 0 1 1 1 0 0 0]\n",
      " [0 0 0 0 0 1 1 1 1 1 0 0]\n",
      " [0 0 0 0 0 1 1 1 1 1 0 0]\n",
      " [0 0 0 0 0 1 1 1 1 1 1 0]\n",
      " [0 1 0 0 0 0 1 1 1 1 1 1]\n",
      " [1 1 1 0 0 0 0 0 0 0 1 0]\n",
      " [0 1 0 0 0 0 0 0 0 0 0 0]]\n"
     ]
    },
    {
     "data": {
      "image/png": "[encoded data removed]",
      "text/plain": [
       "<Figure size 432x432 with 1 Axes>"
      ]
     },
     "metadata": {},
     "output_type": "display_data"
    }
   ],
   "source": [
    "border = ksize//2\n",
    "# Create a padded image with zeros padding\n",
    "paddedIm = np.zeros((height + border*2, width + border*2))\n",
    "paddedIm = cv2.copyMakeBorder(im, border, border, border, border, cv2.BORDER_CONSTANT, value = 0)\n",
    "for h_i in range(border, height+border):\n",
    "    for w_i in range(border,width+border):\n",
    "        # When you find a white pixel\n",
    "        if im[h_i-border,w_i-border]:\n",
    "            print(\"White Pixel Found @ {},{}\".format(h_i,w_i))\n",
    "            \n",
    "            paddedIm[ h_i - border : (h_i + border)+1, w_i - border : (w_i + border)+1] = \\\n",
    "                cv2.bitwise_or(paddedIm[ h_i - border : (h_i + border)+1, w_i - border : (w_i + border)+1],element)\n",
    "            \n",
    "            # Print the intermediate result\n",
    "            print(paddedIm)\n",
    "            plt.imshow(paddedIm);plt.show()\n"
   ]
  },
  {
   "cell_type": "code",
   "execution_count": 9,
   "metadata": {},
   "outputs": [
    {
     "data": {
      "text/plain": [
       "<matplotlib.image.AxesImage at 0x7fbe4d713828>"
      ]
     },
     "execution_count": 9,
     "metadata": {},
     "output_type": "execute_result"
    },
    {
     "data": {
      "image/png": "[encoded data removed]",
      "text/plain": [
       "<Figure size 432x432 with 1 Axes>"
      ]
     },
     "metadata": {},
     "output_type": "display_data"
    }
   ],
   "source": [
    "# Crop out the original dimension from the padded output image\n",
    "dilatedImage = paddedIm[border:border+height,border:border+width]\n",
    "plt.imshow(dilatedImage)"
   ]
  },
  {
   "cell_type": "markdown",
   "metadata": {},
   "source": [
    "## <font style=\"color:rgb(50,120,229)\">Compare using cv2.dilate</font>"
   ]
  },
  {
   "cell_type": "code",
   "execution_count": 10,
   "metadata": {
    "scrolled": false
   },
   "outputs": [
    {
     "name": "stdout",
     "output_type": "stream",
     "text": [
      "[[1 1 1 0 0 0 0 0 0 0]\n",
      " [0 1 1 0 0 0 0 0 0 0]\n",
      " [0 1 1 1 0 0 0 0 0 0]\n",
      " [0 0 1 0 0 0 0 0 0 0]\n",
      " [0 0 0 0 0 1 1 1 0 0]\n",
      " [0 0 0 0 1 1 1 1 1 0]\n",
      " [0 0 0 0 1 1 1 1 1 0]\n",
      " [0 0 0 0 1 1 1 1 1 1]\n",
      " [1 0 0 0 0 1 1 1 1 1]\n",
      " [1 1 0 0 0 0 0 0 0 1]]\n"
     ]
    },
    {
     "data": {
      "text/plain": [
       "<matplotlib.image.AxesImage at 0x7fbe4d699c18>"
      ]
     },
     "execution_count": 10,
     "metadata": {},
     "output_type": "execute_result"
    },
    {
     "data": {
      "image/png": "[encoded data removed]",
      "text/plain": [
       "<Figure size 432x432 with 1 Axes>"
      ]
     },
     "metadata": {},
     "output_type": "display_data"
    }
   ],
   "source": [
    "dilatedEllipseKernel = cv2.dilate(im, element)\n",
    "print(dilatedEllipseKernel)\n",
    "plt.imshow(dilatedEllipseKernel)"
   ]
  }
 ],
 "metadata": {
  "kernelspec": {
   "display_name": "Python 3.7",
   "language": "python",
   "name": "python3"
  },
  "language_info": {
   "codemirror_mode": {
    "name": "ipython",
    "version": 3
   },
   "file_extension": ".py",
   "mimetype": "text/x-python",
   "name": "python",
   "nbconvert_exporter": "python",
   "pygments_lexer": "ipython3",
   "version": "3.7.5"
  }
 },
 "nbformat": 4,
 "nbformat_minor": 2
}
