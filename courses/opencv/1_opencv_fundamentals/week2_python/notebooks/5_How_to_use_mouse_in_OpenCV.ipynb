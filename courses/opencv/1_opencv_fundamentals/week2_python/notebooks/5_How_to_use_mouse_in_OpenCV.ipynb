{
 "cells": [
  {
   "cell_type": "markdown",
   "metadata": {},
   "source": [
    "# <font style=\"color:rgb(50,120,229)\"> How to use the Mouse in OpenCV </font>\n",
    "\n",
    "We can detect mouse events like *left-click*, *right-click* or *position* of the mouse on the window using OpenCV. For doing that, we need to create a **named window** and assign a **callback function** to the window. We will see how it is done in the code.\n",
    "\n",
    "The code given below draws a circle on the image. You first mark the center of the circle and then drag the mouse according to the radius desired. Multiple circles can be drawn. 'c' is used to clear the screen (the circles) and pressing 'ESC' terminates the program. We will see the detailed code in the code video. For now, let's just focus on the callback function.\n",
    "\n",
    "```python\n",
    "def drawCircle(action, x, y, flags, userdata):\n",
    "  # Referencing global variables \n",
    "  global center, circumference\n",
    "  # Action to be taken when left mouse button is pressed\n",
    "  if action==cv2.EVENT_LBUTTONDOWN:\n",
    "    center=[(x,y)]\n",
    "    # Mark the center\n",
    "    cv2.circle(source, center[0], 1, (255,255,0), 2, cv2.LINE_AA );\n",
    "\n",
    "  # Action to be taken when left mouse button is released\n",
    "  elif action==cv2.EVENT_LBUTTONUP:\n",
    "    circumference=[(x,y)]\n",
    "    # Calculate radius of the circle\n",
    "    radius = math.sqrt(math.pow(center[0][0]-circumference[0][0],2)+math.pow(center[0][1]-circumference[0][1],2))\n",
    "    # Draw the circle\n",
    "    cv2.circle(source, center[0], int(radius), (0,255,0),2, cv2.LINE_AA)\n",
    "    cv2.imshow(\"Window\",source)\n",
    "```\n",
    "\n",
    "**`drawCircle`** the callback function is called when there is a mouse event like left click ( indicated by **`EVENT_LBUTTONDOWN`** ). The coordinates relative to the namedWindow is captured by this function in the variables (x,y). The function records the points of the circle’s center and a point on the circumference, hence allowing us to draw the desired circle on the image.\n",
    "\n",
    "This is how the callback function is used:\n",
    "\n",
    "```python\n",
    "# highgui function called when mouse events occur\n",
    "cv2.setMouseCallback(\"Window\", drawCircle)\n",
    "```\n",
    "\n",
    "### <font style=\"color:rgb(8,133,37)\">Function Syntax </font>\n",
    "\n",
    "The function syntax for [**`cv2.setMouseCallback`**](https://docs.opencv.org/4.1.0/d7/dfc/group__highgui.html#ga89e7806b0a616f6f1d502bd8c183ad3e) is as follows.\n",
    "\n",
    "``` python\n",
    "cv.setMouseCallback(winname, onMouse, userdata\t)\n",
    "```\n",
    "\n",
    "**Parameters**\n",
    "\n",
    "- **`winname`** -\tName of the window.\n",
    "- **`onMouse`** -\tCallback function for mouse events.\n",
    "- **`userdata`** -\tThe optional parameter passed to the callback."
   ]
  },
  {
   "cell_type": "markdown",
   "metadata": {},
   "source": [
    "### <font style=\"color:rgb(8,133,37)\">Python [ Highgui - Mouse] [ using_the_mouse_for_annotation.py ]</font>"
   ]
  },
  {
   "cell_type": "code",
   "execution_count": 1,
   "metadata": {
    "collapsed": true
   },
   "outputs": [],
   "source": [
    "import cv2\n",
    "import math"
   ]
  },
  {
   "cell_type": "markdown",
   "metadata": {},
   "source": [
    "This program shows how highgui enables us to take mouse inputs. In this code we use mouse input to draw a circle on an image. The mouse is dragged from the center to one of the points on the circumference. ‘c’ can be pressed to remove the drawn circles."
   ]
  },
  {
   "cell_type": "code",
   "execution_count": 2,
   "metadata": {
    "collapsed": true
   },
   "outputs": [],
   "source": [
    "# Lists to store the points\n",
    "center=[]\n",
    "circumference=[]"
   ]
  },
  {
   "cell_type": "markdown",
   "metadata": {},
   "source": [
    "`drawCircle` is the callback function associated with the namedwindow. It is called when there is a mouse event like left click ( indicated by `EVENT_LBUTTONDOWN` ). \n",
    "\n",
    "The coordinates relative to the namedWindow is captured by this function in the variables `(x,y)`. The function records the points of the circle’s center and a point on the circumference, hence allowing us to draw the desired circle on the image."
   ]
  },
  {
   "cell_type": "code",
   "execution_count": 3,
   "metadata": {
    "collapsed": true
   },
   "outputs": [],
   "source": [
    "def drawCircle(action, x, y, flags, userdata):\n",
    "  # Referencing global variables \n",
    "  global center, circumference\n",
    "  # Action to be taken when left mouse button is pressed\n",
    "  if action==cv2.EVENT_LBUTTONDOWN:\n",
    "    center=[(x,y)]\n",
    "    # Mark the center\n",
    "    cv2.circle(source, center[0], 1, (255,255,0), 2, cv2.LINE_AA );\n",
    "\n",
    "    # Action to be taken when left mouse button is released\n",
    "  elif action==cv2.EVENT_LBUTTONUP:\n",
    "    circumference=[(x,y)]\n",
    "    # Calculate radius of the circle\n",
    "    radius = math.sqrt(math.pow(center[0][0]-circumference[0][0],2)+\n",
    "                        math.pow(center[0][1]-circumference[0][1],2))\n",
    "    # Draw the circle\n",
    "    cv2.circle(source, center[0], int(radius), (0,255,0),2, \n",
    "                    cv2.LINE_AA)\n",
    "    cv2.imshow(\"Window\",source)"
   ]
  },
  {
   "cell_type": "markdown",
   "metadata": {},
   "source": [
    "This is the main function. We read the image, setup the mouse callback function and loops till the ESC character is pressed.\n",
    "\n",
    "We use the `setMouseCallback` function to assign the function `drawCircle` defined above to the window named \"Window\""
   ]
  },
  {
   "cell_type": "code",
   "execution_count": 4,
   "metadata": {
    "collapsed": true
   },
   "outputs": [],
   "source": [
    "source = cv2.imread(\"../data/images/sample.jpg\",1)\n",
    "# Make a dummy image, will be useful to clear the drawing\n",
    "dummy = source.copy()\n",
    "cv2.namedWindow(\"Window\")\n",
    "# highgui function called when mouse events occur\n",
    "cv2.setMouseCallback(\"Window\", drawCircle)\n",
    "k = 0\n",
    "# loop until escape character is pressed\n",
    "while k!=27 :\n",
    "\n",
    "    cv2.imshow(\"Window\", source)\n",
    "    cv2.putText(source,'''Choose center, and drag, \n",
    "                      Press ESC to exit and c to clear''' ,\n",
    "              (10,30), cv2.FONT_HERSHEY_SIMPLEX, \n",
    "              0.7,(255,255,255), 2 );\n",
    "    k = cv2.waitKey(20) & 0xFF\n",
    "    # Another way of cloning\n",
    "    if k==99:\n",
    "        source= dummy.copy()\n",
    "\n",
    "\n",
    "cv2.destroyAllWindows()"
   ]
  },
  {
   "cell_type": "markdown",
   "metadata": {},
   "source": [
    "<center><img src = \"https://www.learnopencv.com/wp-content/uploads/2017/12/opcv4face-w1-m6-highGUIMouse.png\"/></center>\n",
    "<center>Figure showing the output of the above program</center>"
   ]
  }
 ],
 "metadata": {
  "kernelspec": {
   "display_name": "Python 3.7",
   "language": "python",
   "name": "python3"
  },
  "language_info": {
   "codemirror_mode": {
    "name": "ipython",
    "version": 3
   },
   "file_extension": ".py",
   "mimetype": "text/x-python",
   "name": "python",
   "nbconvert_exporter": "python",
   "pygments_lexer": "ipython3",
   "version": "3.7.5"
  }
 },
 "nbformat": 4,
 "nbformat_minor": 2
}
