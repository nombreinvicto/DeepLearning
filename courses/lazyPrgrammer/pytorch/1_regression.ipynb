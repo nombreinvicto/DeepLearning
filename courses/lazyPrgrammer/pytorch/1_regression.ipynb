{
 "cells": [
  {
   "cell_type": "code",
   "id": "initial_id",
   "metadata": {
    "collapsed": true,
    "ExecuteTime": {
     "end_time": "2025-04-17T18:45:28.096720Z",
     "start_time": "2025-04-17T18:45:28.079814Z"
    }
   },
   "source": [
    "import sys, os, json\n",
    "import numpy as np\n",
    "import pandas as pd\n",
    "import seaborn as sns\n",
    "import argparse\n",
    "import matplotlib.pyplot as plt\n",
    "from matplotlib.figure import Figure\n",
    "from matplotlib.axes import Axes\n",
    "from datetime import datetime\n",
    "\n",
    "sns.set()\n"
   ],
   "outputs": [],
   "execution_count": 2
  },
  {
   "metadata": {
    "ExecuteTime": {
     "end_time": "2025-04-17T18:45:38.861087Z",
     "start_time": "2025-04-17T18:45:34.133916Z"
    }
   },
   "cell_type": "code",
   "source": [
    "import torch\n",
    "import torchvision\n",
    "from torch import nn\n",
    "from torch import optim\n",
    "import torch.nn.functional as F\n",
    "from torch.utils.data import DataLoader\n",
    "from torchvision import datasets, transforms, models"
   ],
   "id": "2b96711989b85d0d",
   "outputs": [],
   "execution_count": 3
  },
  {
   "metadata": {
    "ExecuteTime": {
     "end_time": "2025-04-17T18:45:39.836408Z",
     "start_time": "2025-04-17T18:45:39.823907Z"
    }
   },
   "cell_type": "code",
   "source": [
    "# generate N data points\n",
    "N = 20\n",
    "\n",
    "# random data on the x axis in (-5, +5)\n",
    "# randowm returns floats in [0-1]\n",
    "x = np.random.random(N) * 10 - 5\n",
    "\n",
    "# a line plus some noise\n",
    "# true slope = 0.5\n",
    "# true intercept = 1\n",
    "# when we use gaussian noise, MSE is the correct loss function\n",
    "y = 0.5 * x - 1 + np.random.randn(N)"
   ],
   "id": "daa1437c85addef0",
   "outputs": [],
   "execution_count": 4
  },
  {
   "metadata": {
    "ExecuteTime": {
     "end_time": "2025-04-17T18:45:42.517180Z",
     "start_time": "2025-04-17T18:45:42.320853Z"
    }
   },
   "cell_type": "code",
   "source": [
    "# init fig and axes objects\n",
    "# plot the data\n",
    "sns.set(font_scale=1.5)\n",
    "nrows = 1\n",
    "ncols = 1\n",
    "fig_height = nrows * 4\n",
    "fig_width = ncols * 8\n",
    "f: Figure\n",
    "ax: Axes\n",
    "f, ax = plt.subplots(nrows=nrows, ncols=ncols, figsize=(fig_width, fig_height))\n",
    "# %% ##################################################################\n",
    "ax_ = sns.scatterplot(x=x, y=y, ax=ax)"
   ],
   "id": "f9822bf79fe465f6",
   "outputs": [
    {
     "data": {
      "text/plain": [
       "<Figure size 800x400 with 1 Axes>"
      ],
      "image/png": "[encoded data removed]"
     },
     "metadata": {},
     "output_type": "display_data"
    }
   ],
   "execution_count": 5
  },
  {
   "metadata": {
    "ExecuteTime": {
     "end_time": "2025-01-29T04:21:37.442485Z",
     "start_time": "2025-01-29T04:21:37.404764Z"
    }
   },
   "cell_type": "code",
   "source": [
    "# start the training process\n",
    "# stuff to store\n",
    "epochs = 100\n",
    "model = nn.Linear(1, 1)\n",
    "criterion = nn.MSELoss()\n",
    "optimizer = optim.SGD(model.parameters(), lr=0.01)\n",
    "\n",
    "x = x.reshape(N, 1)\n",
    "y = y.reshape(N, 1)\n",
    "inputs = torch.from_numpy(x.astype(np.float32))\n",
    "targets = torch.from_numpy(y.astype(np.float32))\n",
    "\n",
    "type(inputs)\n"
   ],
   "id": "467d039ce31b4002",
   "outputs": [
    {
     "data": {
      "text/plain": [
       "torch.Tensor"
      ]
     },
     "execution_count": 11,
     "metadata": {},
     "output_type": "execute_result"
    }
   ],
   "execution_count": 11
  },
  {
   "metadata": {
    "ExecuteTime": {
     "end_time": "2025-01-29T04:24:33.553688Z",
     "start_time": "2025-01-29T04:24:33.512093Z"
    }
   },
   "cell_type": "code",
   "source": [
    "n_epochs = 100\n",
    "losses = []\n",
    "\n",
    "for epoch in range(n_epochs):\n",
    "    optimizer.zero_grad()\n",
    "\n",
    "    # forward pass\n",
    "    outputs = model(inputs)\n",
    "    loss = criterion(outputs, targets)\n",
    "    losses.append(loss.item())\n",
    "\n",
    "    loss.backward()\n",
    "    optimizer.step()"
   ],
   "id": "235471bb48065e11",
   "outputs": [],
   "execution_count": 14
  },
  {
   "metadata": {
    "ExecuteTime": {
     "end_time": "2025-01-29T04:24:34.516172Z",
     "start_time": "2025-01-29T04:24:34.382933Z"
    }
   },
   "cell_type": "code",
   "source": [
    "# init fig and axes objects\n",
    "sns.set(font_scale=1)\n",
    "nrows = 1\n",
    "ncols = 1\n",
    "fig_height = nrows * 4\n",
    "fig_width = ncols * 8\n",
    "f: Figure\n",
    "ax: Axes\n",
    "f, ax = plt.subplots(nrows=nrows, ncols=ncols, figsize=(fig_width, fig_height))\n",
    "# %% ##################################################################\n",
    "ax = sns.scatterplot(x=range(n_epochs), y=losses, ax=ax)"
   ],
   "id": "94f255b385144e4d",
   "outputs": [
    {
     "data": {
      "text/plain": [
       "<Figure size 800x400 with 1 Axes>"
      ],
      "image/png": "[encoded data removed]"
     },
     "metadata": {},
     "output_type": "display_data"
    }
   ],
   "execution_count": 15
  },
  {
   "metadata": {},
   "cell_type": "code",
   "outputs": [],
   "execution_count": null,
   "source": "",
   "id": "e0c75b5fd9b8126"
  },
  {
   "metadata": {},
   "cell_type": "code",
   "outputs": [],
   "execution_count": null,
   "source": [
    "example_variable = 100\n",
    "example_variable_2 = 100"
   ],
   "id": "5d4faa37ab32f3ac"
  }
 ],
 "metadata": {
  "kernelspec": {
   "display_name": "Python 3",
   "language": "python",
   "name": "python3"
  },
  "language_info": {
   "codemirror_mode": {
    "name": "ipython",
    "version": 2
   },
   "file_extension": ".py",
   "mimetype": "text/x-python",
   "name": "python",
   "nbconvert_exporter": "python",
   "pygments_lexer": "ipython2",
   "version": "2.7.6"
  }
 },
 "nbformat": 4,
 "nbformat_minor": 5
}
