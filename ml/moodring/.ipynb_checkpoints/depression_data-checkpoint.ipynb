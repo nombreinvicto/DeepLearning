{
 "cells": [
  {
   "cell_type": "code",
   "execution_count": null,
   "metadata": {},
   "outputs": [],
   "source": [
    "import sys\n",
    "import os\n",
    "import numpy as np\n",
    "import pandas as pd\n",
    "import seaborn as sns\n",
    "import matplotlib.pyplot as plt\n",
    "from matplotlib.figure import Figure\n",
    "import matplotlib.axes._axes as axes\n",
    "sns.set()"
   ]
  },
  {
   "cell_type": "code",
   "execution_count": null,
   "metadata": {
    "pycharm": {
     "name": "#%%\n"
    }
   },
   "outputs": [],
   "source": [
    "# import the necessary keras packages\n",
    "from sklearn.preprocessing import LabelBinarizer\n",
    "from sklearn.model_selection import train_test_split\n",
    "from sklearn.metrics import classification_report\n",
    "\n",
    "from tensorflow.keras.layers import Conv2D, Activation, Flatten, Dense\n",
    "from tensorflow.keras.preprocessing.image import ImageDataGenerator\n",
    "from tensorflow.keras.optimizers import RMSprop, SGD\n",
    "from tensorflow.keras.applications import VGG16\n",
    "from tensorflow.keras.layers import Input\n",
    "from tensorflow.keras.models import Model, Sequential\n",
    "from tensorflow.keras.utils import plot_model\n",
    "from tensorflow.keras import backend as K\n",
    "from imutils import paths"
   ]
  },
  {
   "cell_type": "code",
   "execution_count": null,
   "metadata": {
    "pycharm": {
     "name": "#%%\n"
    }
   },
   "outputs": [],
   "source": [
    "cwd = os.getcwd()\n",
    "data_file = f\"{cwd}//df_depressionlevel_median_imputed.csv\"\n",
    "depression_data = pd.read_csv(data_file)\n",
    "depression_data.head()"
   ]
  },
  {
   "cell_type": "code",
   "execution_count": null,
   "metadata": {
    "pycharm": {
     "name": "#%%\n"
    }
   },
   "outputs": [],
   "source": [
    "x_features = depression_data.drop(axis=1,\n",
    "                                  labels=['Patient-ID', 'depression_score',\n",
    "                                          'date', 'week_num',\n",
    "                                          'depression_level'])\n",
    "\n",
    "y_features = depression_data['depression_score']"
   ]
  },
  {
   "cell_type": "code",
   "execution_count": null,
   "metadata": {
    "pycharm": {
     "name": "#%%\n"
    }
   },
   "outputs": [],
   "source": [
    "from sklearn.preprocessing import StandardScaler\n",
    "scaler = StandardScaler()\n",
    "x_features_transformed = scaler.fit_transform(x_features)"
   ]
  },
  {
   "cell_type": "code",
   "execution_count": null,
   "metadata": {},
   "outputs": [],
   "source": []
  },
  {
   "cell_type": "code",
   "execution_count": 142,
   "metadata": {
    "pycharm": {
     "name": "#%%\n"
    }
   },
   "outputs": [
    {
     "name": "stdout",
     "output_type": "stream",
     "text": [
      "Model: \"sequential_13\"\n",
      "_________________________________________________________________\n",
      "Layer (type)                 Output Shape              Param #   \n",
      "=================================================================\n",
      "dense_38 (Dense)             (None, 64)                3968      \n",
      "_________________________________________________________________\n",
      "activation_25 (Activation)   (None, 64)                0         \n",
      "_________________________________________________________________\n",
      "dense_39 (Dense)             (None, 64)                4160      \n",
      "_________________________________________________________________\n",
      "activation_26 (Activation)   (None, 64)                0         \n",
      "_________________________________________________________________\n",
      "dense_40 (Dense)             (None, 1)                 65        \n",
      "=================================================================\n",
      "Total params: 8,193\n",
      "Trainable params: 8,193\n",
      "Non-trainable params: 0\n",
      "_________________________________________________________________\n"
     ]
    }
   ],
   "source": [
    "# make the FC model\n",
    "\n",
    "model = Sequential()\n",
    "model.add(Dense(units=64, input_shape=(61, )))\n",
    "model.add(Activation('relu'))\n",
    "model.add(Dense(units=64))\n",
    "model.add(Activation('relu'))\n",
    "# model.add(Dense(units=512))\n",
    "# model.add(Activation('relu'))\n",
    "model.add(Dense(units=1))\n",
    "model.summary()"
   ]
  },
  {
   "cell_type": "code",
   "execution_count": 143,
   "metadata": {
    "pycharm": {
     "name": "#%%\n"
    }
   },
   "outputs": [],
   "source": [
    "trainx, testx, trainy, testy = train_test_split(x_features_transformed,\n",
    "                                                np.array(y_features),\n",
    "                                                test_size=0.5,\n",
    "                                                random_state=42)"
   ]
  },
  {
   "cell_type": "code",
   "execution_count": 144,
   "metadata": {
    "pycharm": {
     "name": "#%%\n"
    }
   },
   "outputs": [],
   "source": [
    "def coeff_determination(y_true, y_pred):\n",
    "    SS_res =  K.sum(K.square( y_true-y_pred ))\n",
    "    SS_tot = K.sum(K.square( y_true - K.mean(y_true) ) )\n",
    "    return ( 1 - SS_res/(SS_tot + K.epsilon()) )"
   ]
  },
  {
   "cell_type": "code",
   "execution_count": 145,
   "metadata": {
    "pycharm": {
     "name": "#%%\n"
    }
   },
   "outputs": [
    {
     "name": "stdout",
     "output_type": "stream",
     "text": [
      "Train on 96 samples, validate on 96 samples\n",
      "Epoch 1/100\n",
      "96/96 [==============================] - 1s 15ms/sample - loss: 57.5335 - coeff_determination: -575335296.0000 - val_loss: 28.9111 - val_coeff_determination: -289111136.0000\n",
      "Epoch 2/100\n",
      "96/96 [==============================] - 1s 6ms/sample - loss: 24.2517 - coeff_determination: -242517136.0000 - val_loss: 19.8937 - val_coeff_determination: -198937168.0000\n",
      "Epoch 3/100\n",
      "96/96 [==============================] - 1s 6ms/sample - loss: 18.7134 - coeff_determination: -187134400.0000 - val_loss: 18.7335 - val_coeff_determination: -187334976.0000\n",
      "Epoch 4/100\n",
      "96/96 [==============================] - 1s 6ms/sample - loss: 16.4591 - coeff_determination: -164591376.0000 - val_loss: 18.6728 - val_coeff_determination: -186727936.0000\n",
      "Epoch 5/100\n",
      "96/96 [==============================] - 1s 6ms/sample - loss: 14.8435 - coeff_determination: -148435472.0000 - val_loss: 17.4094 - val_coeff_determination: -174094368.0000\n",
      "Epoch 6/100\n",
      "96/96 [==============================] - 1s 6ms/sample - loss: 13.5187 - coeff_determination: -135186736.0000 - val_loss: 17.0656 - val_coeff_determination: -170656384.0000\n",
      "Epoch 7/100\n",
      "96/96 [==============================] - 1s 6ms/sample - loss: 12.1197 - coeff_determination: -121196896.0000 - val_loss: 17.8052 - val_coeff_determination: -178051616.0000\n",
      "Epoch 8/100\n",
      "96/96 [==============================] - 1s 6ms/sample - loss: 11.2164 - coeff_determination: -112163552.0000 - val_loss: 16.9307 - val_coeff_determination: -169306592.0000\n",
      "Epoch 9/100\n",
      "96/96 [==============================] - 1s 6ms/sample - loss: 10.7147 - coeff_determination: -107146504.0000 - val_loss: 16.9017 - val_coeff_determination: -169017328.0000\n",
      "Epoch 10/100\n",
      "96/96 [==============================] - 1s 6ms/sample - loss: 9.8139 - coeff_determination: -98138528.0000 - val_loss: 17.4076 - val_coeff_determination: -174075696.0000\n",
      "Epoch 11/100\n",
      "96/96 [==============================] - 1s 6ms/sample - loss: 9.2782 - coeff_determination: -92782456.0000 - val_loss: 16.7942 - val_coeff_determination: -167942304.0000\n",
      "Epoch 12/100\n",
      "96/96 [==============================] - 1s 6ms/sample - loss: 8.2463 - coeff_determination: -82463192.0000 - val_loss: 16.9300 - val_coeff_determination: -169300064.0000\n",
      "Epoch 13/100\n",
      "96/96 [==============================] - 1s 6ms/sample - loss: 8.2425 - coeff_determination: -82425216.0000 - val_loss: 17.2556 - val_coeff_determination: -172556336.0000\n",
      "Epoch 14/100\n",
      "96/96 [==============================] - 1s 6ms/sample - loss: 7.1478 - coeff_determination: -71477736.0000 - val_loss: 18.5228 - val_coeff_determination: -185228288.0000\n",
      "Epoch 15/100\n",
      "96/96 [==============================] - 1s 6ms/sample - loss: 6.8830 - coeff_determination: -68830104.0000 - val_loss: 18.4241 - val_coeff_determination: -184241408.0000\n",
      "Epoch 16/100\n",
      "96/96 [==============================] - 1s 6ms/sample - loss: 6.4764 - coeff_determination: -64763520.0000 - val_loss: 18.8165 - val_coeff_determination: -188165248.0000\n",
      "Epoch 17/100\n",
      "96/96 [==============================] - 1s 6ms/sample - loss: 4.8457 - coeff_determination: -48456820.0000 - val_loss: 18.9506 - val_coeff_determination: -189506320.0000\n",
      "Epoch 18/100\n",
      "96/96 [==============================] - 1s 6ms/sample - loss: 5.3481 - coeff_determination: -53481308.0000 - val_loss: 20.4068 - val_coeff_determination: -204067888.0000\n",
      "Epoch 19/100\n",
      "96/96 [==============================] - 1s 7ms/sample - loss: 5.2824 - coeff_determination: -52823708.0000 - val_loss: 19.9954 - val_coeff_determination: -199954064.0000\n",
      "Epoch 20/100\n",
      "96/96 [==============================] - 1s 7ms/sample - loss: 4.5840 - coeff_determination: -45840444.0000 - val_loss: 19.9680 - val_coeff_determination: -199680336.0000\n",
      "Epoch 21/100\n",
      "96/96 [==============================] - 1s 6ms/sample - loss: 4.1215 - coeff_determination: -41215144.0000 - val_loss: 20.0533 - val_coeff_determination: -200533296.0000\n",
      "Epoch 22/100\n",
      "96/96 [==============================] - 1s 6ms/sample - loss: 3.6829 - coeff_determination: -36828876.0000 - val_loss: 21.4893 - val_coeff_determination: -214892864.0000\n",
      "Epoch 23/100\n",
      "96/96 [==============================] - 1s 6ms/sample - loss: 3.4090 - coeff_determination: -34090476.0000 - val_loss: 21.0147 - val_coeff_determination: -210146960.0000\n",
      "Epoch 24/100\n",
      "96/96 [==============================] - 1s 6ms/sample - loss: 2.9404 - coeff_determination: -29404222.0000 - val_loss: 21.9231 - val_coeff_determination: -219230864.0000\n",
      "Epoch 25/100\n",
      "96/96 [==============================] - 1s 6ms/sample - loss: 2.5455 - coeff_determination: -25455194.0000 - val_loss: 21.8297 - val_coeff_determination: -218297328.0000\n",
      "Epoch 26/100\n",
      "96/96 [==============================] - 1s 6ms/sample - loss: 2.6039 - coeff_determination: -26039392.0000 - val_loss: 22.0306 - val_coeff_determination: -220306352.0000\n",
      "Epoch 27/100\n",
      "96/96 [==============================] - 1s 6ms/sample - loss: 2.2832 - coeff_determination: -22832328.0000 - val_loss: 25.4580 - val_coeff_determination: -254580032.0000\n",
      "Epoch 28/100\n",
      "96/96 [==============================] - 1s 6ms/sample - loss: 2.1729 - coeff_determination: -21728554.0000 - val_loss: 22.9482 - val_coeff_determination: -229481776.0000\n",
      "Epoch 29/100\n",
      "96/96 [==============================] - 1s 6ms/sample - loss: 1.5675 - coeff_determination: -15674627.0000 - val_loss: 23.8176 - val_coeff_determination: -238176176.0000\n",
      "Epoch 30/100\n",
      "96/96 [==============================] - 1s 6ms/sample - loss: 2.0721 - coeff_determination: -20720600.0000 - val_loss: 25.6734 - val_coeff_determination: -256733712.0000\n",
      "Epoch 31/100\n",
      "96/96 [==============================] - 1s 6ms/sample - loss: 1.5890 - coeff_determination: -15890056.0000 - val_loss: 24.4765 - val_coeff_determination: -244765312.0000\n",
      "Epoch 32/100\n",
      "96/96 [==============================] - 1s 6ms/sample - loss: 1.5521 - coeff_determination: -15521200.0000 - val_loss: 26.1985 - val_coeff_determination: -261984496.0000\n",
      "Epoch 33/100\n",
      "96/96 [==============================] - 1s 6ms/sample - loss: 1.3323 - coeff_determination: -13322901.0000 - val_loss: 26.6412 - val_coeff_determination: -266412112.0000\n",
      "Epoch 34/100\n",
      "96/96 [==============================] - 1s 6ms/sample - loss: 1.3279 - coeff_determination: -13278867.0000 - val_loss: 26.9618 - val_coeff_determination: -269618016.0000\n",
      "Epoch 35/100\n",
      "96/96 [==============================] - 1s 6ms/sample - loss: 1.4389 - coeff_determination: -14389265.0000 - val_loss: 26.0508 - val_coeff_determination: -260508144.0000\n",
      "Epoch 36/100\n",
      "96/96 [==============================] - 1s 6ms/sample - loss: 1.1952 - coeff_determination: -11951731.0000 - val_loss: 26.6351 - val_coeff_determination: -266350576.0000\n",
      "Epoch 37/100\n",
      "96/96 [==============================] - 1s 6ms/sample - loss: 1.2666 - coeff_determination: -12665909.0000 - val_loss: 25.4397 - val_coeff_determination: -254397376.0000\n",
      "Epoch 38/100\n",
      "96/96 [==============================] - 1s 6ms/sample - loss: 1.3465 - coeff_determination: -13465293.0000 - val_loss: 24.0403 - val_coeff_determination: -240403440.0000\n",
      "Epoch 39/100\n",
      "96/96 [==============================] - 1s 7ms/sample - loss: 1.0323 - coeff_determination: -10323282.0000 - val_loss: 27.4750 - val_coeff_determination: -274749696.0000\n",
      "Epoch 40/100\n",
      "96/96 [==============================] - 1s 6ms/sample - loss: 1.2277 - coeff_determination: -12277224.0000 - val_loss: 26.7588 - val_coeff_determination: -267588272.0000\n",
      "Epoch 41/100\n",
      "96/96 [==============================] - 1s 7ms/sample - loss: 0.9649 - coeff_determination: -9648557.0000 - val_loss: 24.3332 - val_coeff_determination: -243331856.0000\n",
      "Epoch 42/100\n",
      "96/96 [==============================] - 1s 6ms/sample - loss: 1.2955 - coeff_determination: -12955281.0000 - val_loss: 24.6853 - val_coeff_determination: -246852992.0000\n",
      "Epoch 43/100\n",
      "96/96 [==============================] - 1s 6ms/sample - loss: 0.8423 - coeff_determination: -8422561.0000 - val_loss: 23.9312 - val_coeff_determination: -239312064.0000\n",
      "Epoch 44/100\n",
      "96/96 [==============================] - 1s 6ms/sample - loss: 0.9507 - coeff_determination: -9507043.0000 - val_loss: 25.7551 - val_coeff_determination: -257550656.0000\n",
      "Epoch 45/100\n",
      "96/96 [==============================] - 1s 6ms/sample - loss: 0.9788 - coeff_determination: -9787967.0000 - val_loss: 23.6984 - val_coeff_determination: -236984144.0000\n",
      "Epoch 46/100\n",
      "96/96 [==============================] - 1s 6ms/sample - loss: 0.9296 - coeff_determination: -9295728.0000 - val_loss: 25.0184 - val_coeff_determination: -250183552.0000\n",
      "Epoch 47/100\n",
      "96/96 [==============================] - 1s 6ms/sample - loss: 0.9472 - coeff_determination: -9472166.0000 - val_loss: 25.3735 - val_coeff_determination: -253734992.0000\n",
      "Epoch 48/100\n",
      "96/96 [==============================] - 1s 6ms/sample - loss: 0.7792 - coeff_determination: -7791559.5000 - val_loss: 25.3518 - val_coeff_determination: -253518000.0000\n",
      "Epoch 49/100\n",
      "96/96 [==============================] - 1s 6ms/sample - loss: 0.7768 - coeff_determination: -7768252.0000 - val_loss: 28.4387 - val_coeff_determination: -284387552.0000\n",
      "Epoch 50/100\n",
      "96/96 [==============================] - 1s 6ms/sample - loss: 0.9373 - coeff_determination: -9373492.0000 - val_loss: 25.8994 - val_coeff_determination: -258993712.0000\n",
      "Epoch 51/100\n",
      "96/96 [==============================] - 1s 6ms/sample - loss: 0.7634 - coeff_determination: -7634457.5000 - val_loss: 24.2338 - val_coeff_determination: -242338320.0000\n",
      "Epoch 52/100\n",
      "96/96 [==============================] - 1s 6ms/sample - loss: 0.7873 - coeff_determination: -7872977.5000 - val_loss: 27.4058 - val_coeff_determination: -274057600.0000\n",
      "Epoch 53/100\n",
      "96/96 [==============================] - 1s 6ms/sample - loss: 0.9436 - coeff_determination: -9435659.0000 - val_loss: 25.8875 - val_coeff_determination: -258875120.0000\n",
      "Epoch 54/100\n",
      "96/96 [==============================] - 1s 6ms/sample - loss: 0.7103 - coeff_determination: -7103436.0000 - val_loss: 26.5412 - val_coeff_determination: -265411728.0000\n",
      "Epoch 55/100\n",
      "96/96 [==============================] - 1s 6ms/sample - loss: 0.5983 - coeff_determination: -5982979.5000 - val_loss: 26.8393 - val_coeff_determination: -268392528.0000\n",
      "Epoch 56/100\n",
      "96/96 [==============================] - 1s 6ms/sample - loss: 0.8300 - coeff_determination: -8299842.0000 - val_loss: 26.7010 - val_coeff_determination: -267009984.0000\n",
      "Epoch 57/100\n",
      "96/96 [==============================] - 1s 6ms/sample - loss: 0.8324 - coeff_determination: -8324432.5000 - val_loss: 28.8253 - val_coeff_determination: -288253088.0000\n",
      "Epoch 58/100\n",
      "96/96 [==============================] - 1s 6ms/sample - loss: 0.8190 - coeff_determination: -8190449.5000 - val_loss: 27.4562 - val_coeff_determination: -274561664.0000\n",
      "Epoch 59/100\n",
      "96/96 [==============================] - 1s 6ms/sample - loss: 0.5395 - coeff_determination: -5395462.5000 - val_loss: 27.8296 - val_coeff_determination: -278295808.0000\n",
      "Epoch 60/100\n",
      "96/96 [==============================] - 1s 6ms/sample - loss: 0.8244 - coeff_determination: -8244105.5000 - val_loss: 25.7662 - val_coeff_determination: -257661776.0000\n",
      "Epoch 61/100\n",
      "96/96 [==============================] - 1s 6ms/sample - loss: 0.7619 - coeff_determination: -7619116.0000 - val_loss: 24.5132 - val_coeff_determination: -245131600.0000\n",
      "Epoch 62/100\n",
      "96/96 [==============================] - 1s 6ms/sample - loss: 0.8531 - coeff_determination: -8530973.0000 - val_loss: 25.2655 - val_coeff_determination: -252655232.0000\n",
      "Epoch 63/100\n",
      "96/96 [==============================] - 1s 6ms/sample - loss: 0.6072 - coeff_determination: -6071994.0000 - val_loss: 26.5323 - val_coeff_determination: -265323088.0000\n",
      "Epoch 64/100\n",
      "96/96 [==============================] - 1s 6ms/sample - loss: 0.7674 - coeff_determination: -7674016.0000 - val_loss: 26.0571 - val_coeff_determination: -260571248.0000\n",
      "Epoch 65/100\n",
      "96/96 [==============================] - 1s 7ms/sample - loss: 0.5000 - coeff_determination: -5000272.5000 - val_loss: 23.5151 - val_coeff_determination: -235151184.0000\n",
      "Epoch 66/100\n",
      "96/96 [==============================] - 1s 6ms/sample - loss: 0.6907 - coeff_determination: -6906765.5000 - val_loss: 26.8247 - val_coeff_determination: -268246672.0000\n",
      "Epoch 67/100\n",
      "96/96 [==============================] - 1s 6ms/sample - loss: 0.7916 - coeff_determination: -7915696.0000 - val_loss: 26.2728 - val_coeff_determination: -262727680.0000\n",
      "Epoch 68/100\n",
      "96/96 [==============================] - 1s 6ms/sample - loss: 0.6603 - coeff_determination: -6603308.0000 - val_loss: 25.0830 - val_coeff_determination: -250829712.0000\n",
      "Epoch 69/100\n",
      "96/96 [==============================] - 1s 6ms/sample - loss: 0.6927 - coeff_determination: -6926632.5000 - val_loss: 25.2037 - val_coeff_determination: -252037392.0000\n",
      "Epoch 70/100\n",
      "96/96 [==============================] - 1s 6ms/sample - loss: 0.6028 - coeff_determination: -6027554.0000 - val_loss: 27.1522 - val_coeff_determination: -271522336.0000\n",
      "Epoch 71/100\n",
      "96/96 [==============================] - 1s 6ms/sample - loss: 0.8108 - coeff_determination: -8107676.0000 - val_loss: 25.5067 - val_coeff_determination: -255067152.0000\n",
      "Epoch 72/100\n",
      "96/96 [==============================] - 1s 6ms/sample - loss: 0.6717 - coeff_determination: -6717260.0000 - val_loss: 26.6682 - val_coeff_determination: -266682432.0000\n",
      "Epoch 73/100\n",
      "96/96 [==============================] - 1s 6ms/sample - loss: 0.6122 - coeff_determination: -6122004.5000 - val_loss: 27.7960 - val_coeff_determination: -277959680.0000\n",
      "Epoch 74/100\n",
      "96/96 [==============================] - 1s 6ms/sample - loss: 0.6122 - coeff_determination: -6121735.5000 - val_loss: 26.4425 - val_coeff_determination: -264424704.0000\n",
      "Epoch 75/100\n",
      "96/96 [==============================] - 1s 6ms/sample - loss: 0.6343 - coeff_determination: -6343196.5000 - val_loss: 28.8319 - val_coeff_determination: -288318656.0000\n",
      "Epoch 76/100\n",
      "96/96 [==============================] - 1s 6ms/sample - loss: 0.4902 - coeff_determination: -4902113.5000 - val_loss: 27.2366 - val_coeff_determination: -272366368.0000\n",
      "Epoch 77/100\n",
      "96/96 [==============================] - 1s 6ms/sample - loss: 1.2792 - coeff_determination: -12792123.0000 - val_loss: 26.3676 - val_coeff_determination: -263676336.0000\n",
      "Epoch 78/100\n",
      "96/96 [==============================] - 1s 6ms/sample - loss: 0.5797 - coeff_determination: -5796878.5000 - val_loss: 26.7025 - val_coeff_determination: -267025424.0000\n",
      "Epoch 79/100\n",
      "96/96 [==============================] - 1s 6ms/sample - loss: 0.5057 - coeff_determination: -5056572.5000 - val_loss: 27.4061 - val_coeff_determination: -274060768.0000\n",
      "Epoch 80/100\n",
      "96/96 [==============================] - 1s 6ms/sample - loss: 0.7083 - coeff_determination: -7083156.5000 - val_loss: 25.2675 - val_coeff_determination: -252674928.0000\n",
      "Epoch 81/100\n",
      "96/96 [==============================] - 1s 6ms/sample - loss: 0.6131 - coeff_determination: -6131203.5000 - val_loss: 26.5236 - val_coeff_determination: -265235632.0000\n",
      "Epoch 82/100\n",
      "96/96 [==============================] - 1s 6ms/sample - loss: 0.4695 - coeff_determination: -4695317.5000 - val_loss: 25.9720 - val_coeff_determination: -259719872.0000\n",
      "Epoch 83/100\n",
      "96/96 [==============================] - 1s 6ms/sample - loss: 0.6723 - coeff_determination: -6722648.0000 - val_loss: 25.1731 - val_coeff_determination: -251730800.0000\n",
      "Epoch 84/100\n",
      "96/96 [==============================] - 1s 6ms/sample - loss: 0.6298 - coeff_determination: -6297854.0000 - val_loss: 24.7836 - val_coeff_determination: -247836112.0000\n",
      "Epoch 85/100\n",
      "96/96 [==============================] - 1s 6ms/sample - loss: 0.6140 - coeff_determination: -6140175.5000 - val_loss: 26.0062 - val_coeff_determination: -260062400.0000\n",
      "Epoch 86/100\n",
      "96/96 [==============================] - 1s 7ms/sample - loss: 0.4674 - coeff_determination: -4674084.5000 - val_loss: 26.2422 - val_coeff_determination: -262421968.0000\n",
      "Epoch 87/100\n",
      "96/96 [==============================] - 1s 6ms/sample - loss: 0.7919 - coeff_determination: -7918794.5000 - val_loss: 25.4560 - val_coeff_determination: -254560336.0000\n",
      "Epoch 88/100\n",
      "96/96 [==============================] - 1s 6ms/sample - loss: 0.4812 - coeff_determination: -4812453.5000 - val_loss: 26.3434 - val_coeff_determination: -263434240.0000\n",
      "Epoch 89/100\n",
      "96/96 [==============================] - 1s 6ms/sample - loss: 0.6798 - coeff_determination: -6798222.5000 - val_loss: 25.7610 - val_coeff_determination: -257609552.0000\n"
     ]
    },
    {
     "name": "stdout",
     "output_type": "stream",
     "text": [
      "Epoch 90/100\n",
      "96/96 [==============================] - 1s 6ms/sample - loss: 0.5831 - coeff_determination: -5831151.5000 - val_loss: 25.7770 - val_coeff_determination: -257770000.0000\n",
      "Epoch 91/100\n",
      "96/96 [==============================] - 1s 6ms/sample - loss: 0.6259 - coeff_determination: -6258944.0000 - val_loss: 24.4916 - val_coeff_determination: -244915952.0000\n",
      "Epoch 92/100\n",
      "96/96 [==============================] - 1s 6ms/sample - loss: 0.4487 - coeff_determination: -4486787.0000 - val_loss: 25.9046 - val_coeff_determination: -259046128.0000\n",
      "Epoch 93/100\n",
      "96/96 [==============================] - 1s 6ms/sample - loss: 0.5941 - coeff_determination: -5941373.5000 - val_loss: 24.5871 - val_coeff_determination: -245870528.0000\n",
      "Epoch 94/100\n",
      "96/96 [==============================] - 1s 6ms/sample - loss: 0.5339 - coeff_determination: -5338591.5000 - val_loss: 26.0902 - val_coeff_determination: -260901712.0000\n",
      "Epoch 95/100\n",
      "96/96 [==============================] - 1s 6ms/sample - loss: 0.7119 - coeff_determination: -7118833.5000 - val_loss: 26.6859 - val_coeff_determination: -266859456.0000\n",
      "Epoch 96/100\n",
      "96/96 [==============================] - 1s 6ms/sample - loss: 0.4447 - coeff_determination: -4446904.5000 - val_loss: 27.0531 - val_coeff_determination: -270531424.0000\n",
      "Epoch 97/100\n",
      "96/96 [==============================] - 1s 6ms/sample - loss: 0.5919 - coeff_determination: -5919411.5000 - val_loss: 26.1790 - val_coeff_determination: -261789952.0000\n",
      "Epoch 98/100\n",
      "96/96 [==============================] - 1s 6ms/sample - loss: 0.4646 - coeff_determination: -4646196.0000 - val_loss: 25.7307 - val_coeff_determination: -257307504.0000\n",
      "Epoch 99/100\n",
      "96/96 [==============================] - 1s 6ms/sample - loss: 0.8546 - coeff_determination: -8545753.0000 - val_loss: 26.3281 - val_coeff_determination: -263281424.0000\n",
      "Epoch 100/100\n",
      "96/96 [==============================] - 1s 7ms/sample - loss: 0.4506 - coeff_determination: -4506134.0000 - val_loss: 26.5276 - val_coeff_determination: -265276208.0000\n"
     ]
    }
   ],
   "source": [
    "opt = RMSprop()\n",
    "epochs = 100\n",
    "model.compile(loss='mse',\n",
    "              optimizer=opt,\n",
    "              metrics=[coeff_determination])\n",
    "H = model.fit(trainx, trainy, validation_data=(testx, testy),\n",
    "              epochs=epochs, batch_size=1)"
   ]
  },
  {
   "cell_type": "code",
   "execution_count": 146,
   "metadata": {},
   "outputs": [
    {
     "data": {
      "image/png": "[encoded data removed]",
      "text/plain": [
       "<Figure size 1080x576 with 1 Axes>"
      ]
     },
     "metadata": {},
     "output_type": "display_data"
    }
   ],
   "source": [
    "\n",
    "# plot the performance\n",
    "epoch_num = range(1,epochs+1)\n",
    "loss = H.history['loss']\n",
    "r2 = H.history['coeff_determination']\n",
    "val_loss = H.history['val_loss']\n",
    "val_r2 = H.history['val_coeff_determination']\n",
    "plot_df = pd.DataFrame(data=np.c_[epoch_num,loss,r2,val_loss,val_r2], \n",
    "                       columns=['epochs','loss', 'r2', 'val_loss', 'val_r2'])\n",
    "\n",
    "# do the actual plots\n",
    "sns.set(font_scale=1)\n",
    "f, ax = plt.subplots(1, 1, figsize=(15,8))\n",
    "#sns.lineplot(data=plot_df, x='epochs', y='loss', ax=ax, label='train loss', linewidth=3)\n",
    "sns.lineplot(data=plot_df, x='epochs', y='r2', ax=ax, label='train r2', linewidth=3)\n",
    "#sns.lineplot(data=plot_df, x='epochs', y='val_loss', ax=ax, label='val loss', linewidth=3)\n",
    "sns.lineplot(data=plot_df, x='epochs', y='val_r2', ax=ax, label='val_r2', linewidth=3)\n",
    "ax.set_ylabel('Loss or R2')\n",
    "ax.set_xlabel('Epochs')\n",
    "ax.set_ylim(-2, 2)\n",
    "plt.setp(ax.get_legend().get_texts(), fontsize='18'); # for legend text"
   ]
  },
  {
   "cell_type": "code",
   "execution_count": null,
   "metadata": {},
   "outputs": [],
   "source": []
  },
  {
   "cell_type": "code",
   "execution_count": null,
   "metadata": {},
   "outputs": [],
   "source": []
  }
 ],
 "metadata": {
  "kernelspec": {
   "display_name": "Python 3",
   "language": "python",
   "name": "python3"
  },
  "language_info": {
   "codemirror_mode": {
    "name": "ipython",
    "version": 3
   },
   "file_extension": ".py",
   "mimetype": "text/x-python",
   "name": "python",
   "nbconvert_exporter": "python",
   "pygments_lexer": "ipython3",
   "version": "3.6.4"
  }
 },
 "nbformat": 4,
 "nbformat_minor": 1
}
