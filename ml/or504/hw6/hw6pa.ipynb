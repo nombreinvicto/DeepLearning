{
 "cells": [
  {
   "cell_type": "markdown",
   "metadata": {
    "collapsed": true
   },
   "source": [
    "# Home Work 6\n",
    "### The problems in this homework have been solved using the Keras neural network package of the Python language."
   ]
  },
  {
   "cell_type": "markdown",
   "metadata": {},
   "source": [
    "## Question 1"
   ]
  },
  {
   "cell_type": "markdown",
   "metadata": {},
   "source": [
    "First we will load the dataset and see the first few rows."
   ]
  },
  {
   "cell_type": "code",
   "execution_count": 42,
   "metadata": {},
   "outputs": [
    {
     "data": {
      "text/html": [
       "<div>\n",
       "<style scoped>\n",
       "    .dataframe tbody tr th:only-of-type {\n",
       "        vertical-align: middle;\n",
       "    }\n",
       "\n",
       "    .dataframe tbody tr th {\n",
       "        vertical-align: top;\n",
       "    }\n",
       "\n",
       "    .dataframe thead th {\n",
       "        text-align: right;\n",
       "    }\n",
       "</style>\n",
       "<table border=\"1\" class=\"dataframe\">\n",
       "  <thead>\n",
       "    <tr style=\"text-align: right;\">\n",
       "      <th></th>\n",
       "      <th>Type</th>\n",
       "      <th>Duration</th>\n",
       "      <th>Height</th>\n",
       "      <th>Drop</th>\n",
       "      <th>Length</th>\n",
       "      <th>Inversion</th>\n",
       "      <th>Speed</th>\n",
       "    </tr>\n",
       "  </thead>\n",
       "  <tbody>\n",
       "    <tr>\n",
       "      <th>1</th>\n",
       "      <td>Steel</td>\n",
       "      <td>165</td>\n",
       "      <td>310.0</td>\n",
       "      <td>300.0</td>\n",
       "      <td>6595.0</td>\n",
       "      <td>No</td>\n",
       "      <td>93.0</td>\n",
       "    </tr>\n",
       "    <tr>\n",
       "      <th>2</th>\n",
       "      <td>Steel</td>\n",
       "      <td>180</td>\n",
       "      <td>235.0</td>\n",
       "      <td>255.0</td>\n",
       "      <td>4500.0</td>\n",
       "      <td>No</td>\n",
       "      <td>85.0</td>\n",
       "    </tr>\n",
       "    <tr>\n",
       "      <th>3</th>\n",
       "      <td>Steel</td>\n",
       "      <td>210</td>\n",
       "      <td>245.0</td>\n",
       "      <td>255.0</td>\n",
       "      <td>5312.0</td>\n",
       "      <td>No</td>\n",
       "      <td>85.0</td>\n",
       "    </tr>\n",
       "    <tr>\n",
       "      <th>4</th>\n",
       "      <td>Steel</td>\n",
       "      <td>62</td>\n",
       "      <td>205.0</td>\n",
       "      <td>130.0</td>\n",
       "      <td>2202.0</td>\n",
       "      <td>No</td>\n",
       "      <td>82.0</td>\n",
       "    </tr>\n",
       "    <tr>\n",
       "      <th>5</th>\n",
       "      <td>Steel</td>\n",
       "      <td>163</td>\n",
       "      <td>209.0</td>\n",
       "      <td>225.0</td>\n",
       "      <td>5843.0</td>\n",
       "      <td>No</td>\n",
       "      <td>80.0</td>\n",
       "    </tr>\n",
       "  </tbody>\n",
       "</table>\n",
       "</div>"
      ],
      "text/plain": [
       "    Type  Duration  Height   Drop  Length Inversion  Speed\n",
       "1  Steel       165   310.0  300.0  6595.0        No   93.0\n",
       "2  Steel       180   235.0  255.0  4500.0        No   85.0\n",
       "3  Steel       210   245.0  255.0  5312.0        No   85.0\n",
       "4  Steel        62   205.0  130.0  2202.0        No   82.0\n",
       "5  Steel       163   209.0  225.0  5843.0        No   80.0"
      ]
     },
     "execution_count": 42,
     "metadata": {},
     "output_type": "execute_result"
    }
   ],
   "source": [
    "import pandas as pd\n",
    "coaster_data = pd.read_excel('coaster.xls')\n",
    "coaster_data.head()"
   ]
  },
  {
   "cell_type": "markdown",
   "metadata": {},
   "source": [
    "The table above shows that the dataset has been loaded successfully. It can be seen that the Type and the Inversion Columns are categorical columns. In Keras, input data needs to be numerical. As a result, we will use a map method to convert those categorical columns to their numerical counterparts. As far as the Type column is concerned, we will consider \"Steel\" to be 1.0 and \"Wooden\" to be 0.0. Similarly, for the Inversion column, \"Yes\" will be considered to be 1.0 and \"No\" will be considered to be 0.0."
   ]
  },
  {
   "cell_type": "code",
   "execution_count": 43,
   "metadata": {},
   "outputs": [
    {
     "data": {
      "text/html": [
       "<div>\n",
       "<style scoped>\n",
       "    .dataframe tbody tr th:only-of-type {\n",
       "        vertical-align: middle;\n",
       "    }\n",
       "\n",
       "    .dataframe tbody tr th {\n",
       "        vertical-align: top;\n",
       "    }\n",
       "\n",
       "    .dataframe thead th {\n",
       "        text-align: right;\n",
       "    }\n",
       "</style>\n",
       "<table border=\"1\" class=\"dataframe\">\n",
       "  <thead>\n",
       "    <tr style=\"text-align: right;\">\n",
       "      <th></th>\n",
       "      <th>Type</th>\n",
       "      <th>Duration</th>\n",
       "      <th>Height</th>\n",
       "      <th>Drop</th>\n",
       "      <th>Length</th>\n",
       "      <th>Inversion</th>\n",
       "      <th>Speed</th>\n",
       "    </tr>\n",
       "  </thead>\n",
       "  <tbody>\n",
       "    <tr>\n",
       "      <th>1</th>\n",
       "      <td>1</td>\n",
       "      <td>165</td>\n",
       "      <td>310.0</td>\n",
       "      <td>300.0</td>\n",
       "      <td>6595.0</td>\n",
       "      <td>0</td>\n",
       "      <td>93.0</td>\n",
       "    </tr>\n",
       "    <tr>\n",
       "      <th>2</th>\n",
       "      <td>1</td>\n",
       "      <td>180</td>\n",
       "      <td>235.0</td>\n",
       "      <td>255.0</td>\n",
       "      <td>4500.0</td>\n",
       "      <td>0</td>\n",
       "      <td>85.0</td>\n",
       "    </tr>\n",
       "    <tr>\n",
       "      <th>3</th>\n",
       "      <td>1</td>\n",
       "      <td>210</td>\n",
       "      <td>245.0</td>\n",
       "      <td>255.0</td>\n",
       "      <td>5312.0</td>\n",
       "      <td>0</td>\n",
       "      <td>85.0</td>\n",
       "    </tr>\n",
       "    <tr>\n",
       "      <th>4</th>\n",
       "      <td>1</td>\n",
       "      <td>62</td>\n",
       "      <td>205.0</td>\n",
       "      <td>130.0</td>\n",
       "      <td>2202.0</td>\n",
       "      <td>0</td>\n",
       "      <td>82.0</td>\n",
       "    </tr>\n",
       "    <tr>\n",
       "      <th>5</th>\n",
       "      <td>1</td>\n",
       "      <td>163</td>\n",
       "      <td>209.0</td>\n",
       "      <td>225.0</td>\n",
       "      <td>5843.0</td>\n",
       "      <td>0</td>\n",
       "      <td>80.0</td>\n",
       "    </tr>\n",
       "  </tbody>\n",
       "</table>\n",
       "</div>"
      ],
      "text/plain": [
       "   Type  Duration  Height   Drop  Length  Inversion  Speed\n",
       "1     1       165   310.0  300.0  6595.0          0   93.0\n",
       "2     1       180   235.0  255.0  4500.0          0   85.0\n",
       "3     1       210   245.0  255.0  5312.0          0   85.0\n",
       "4     1        62   205.0  130.0  2202.0          0   82.0\n",
       "5     1       163   209.0  225.0  5843.0          0   80.0"
      ]
     },
     "execution_count": 43,
     "metadata": {},
     "output_type": "execute_result"
    }
   ],
   "source": [
    "coaster_data['Type'] = coaster_data['Type'].map({\"Steel\": 1, \"Wooden\": 0})\n",
    "coaster_data['Inversion'] = coaster_data['Inversion'].map({\"Yes\": 1, \"No\": 0})\n",
    "coaster_data.head()"
   ]
  },
  {
   "cell_type": "markdown",
   "metadata": {},
   "source": [
    "The dataset above shows that the categorical columns have been converted to their numerical counterparts. Now, it is time to divide the dataset into features (input) and target (output) variables for the neural network. Let use first get the input dataset and the output target variable \"Speed\" from the dataset. We will only looks at the first few lines."
   ]
  },
  {
   "cell_type": "code",
   "execution_count": 44,
   "metadata": {},
   "outputs": [
    {
     "name": "stdout",
     "output_type": "stream",
     "text": [
      "\n",
      " Coaster Features: \n",
      "   Type  Duration  Height   Drop  Length  Inversion\n",
      "1     1       165   310.0  300.0  6595.0          0\n",
      "2     1       180   235.0  255.0  4500.0          0\n",
      "3     1       210   245.0  255.0  5312.0          0\n",
      "4     1        62   205.0  130.0  2202.0          0\n",
      "5     1       163   209.0  225.0  5843.0          0\n"
     ]
    }
   ],
   "source": [
    "coaster_features = coaster_data.drop(['Speed'], axis=1, inplace=False)\n",
    "print(\"\\n Coaster Features: \")\n",
    "print(coaster_features.head())"
   ]
  },
  {
   "cell_type": "code",
   "execution_count": 45,
   "metadata": {},
   "outputs": [
    {
     "name": "stdout",
     "output_type": "stream",
     "text": [
      "\n",
      " Coaster Targets\n",
      "   Speed\n",
      "1   93.0\n",
      "2   85.0\n",
      "3   85.0\n",
      "4   82.0\n",
      "5   80.0\n"
     ]
    }
   ],
   "source": [
    "coaster_targets = coaster_data.drop(['Type', 'Duration', 'Height', 'Drop', 'Length',\n",
    "                                     'Inversion'], axis=1, inplace=False)\n",
    "print(\"\\n Coaster Targets\")\n",
    "print(coaster_targets.head())"
   ]
  },
  {
   "cell_type": "markdown",
   "metadata": {},
   "source": [
    "All the columns in the dataset represent variables with different scales. Generally, for machine learning algorithms, it is advisable to scale all the variables across different categories within the same range so that large deviations of one variable do not adversely affect the performance of the algorithm. Therefore, using min-max scaling, we will scale all the variables in the dataset in the range [0, 1]. Consequently our feature and target variables would be values in that range as shown below."
   ]
  },
  {
   "cell_type": "code",
   "execution_count": 46,
   "metadata": {},
   "outputs": [],
   "source": [
    "from sklearn import preprocessing\n",
    "\n",
    "feature_scaler = preprocessing.MinMaxScaler()\n",
    "scaled_coaster_features = pd.DataFrame(data=feature_scaler.fit_transform(coaster_features),\n",
    "                                       columns=coaster_features.columns.values)\n",
    "# %%\n",
    "target_scaler = preprocessing.MinMaxScaler()\n",
    "scaled_coaster_targets = pd.DataFrame(data=target_scaler.fit_transform(coaster_targets),\n",
    "                                      columns=coaster_targets.columns.values)"
   ]
  },
  {
   "cell_type": "code",
   "execution_count": 47,
   "metadata": {},
   "outputs": [
    {
     "name": "stdout",
     "output_type": "stream",
     "text": [
      "\n",
      " The following are the scaled features: \n",
      "   Type  Duration    Height      Drop    Length  Inversion\n",
      "0   1.0  0.631336  0.968661  0.974013  0.794868        0.0\n",
      "1   1.0  0.700461  0.683761  0.800770  0.515464        0.0\n",
      "2   1.0  0.838710  0.721747  0.800770  0.623758        0.0\n",
      "3   1.0  0.156682  0.569801  0.319538  0.208986        0.0\n",
      "4   1.0  0.622120  0.584995  0.685274  0.694576        0.0\n"
     ]
    }
   ],
   "source": [
    "print(\"\\n The following are the scaled features: \")\n",
    "print(scaled_coaster_features.head())"
   ]
  },
  {
   "cell_type": "code",
   "execution_count": 48,
   "metadata": {},
   "outputs": [
    {
     "name": "stdout",
     "output_type": "stream",
     "text": [
      "\n",
      " The following are the scaled targets: \n",
      "      Speed\n",
      "0  0.883333\n",
      "1  0.750000\n",
      "2  0.750000\n",
      "3  0.700000\n",
      "4  0.666667\n"
     ]
    }
   ],
   "source": [
    "print(\"\\n The following are the scaled targets: \")\n",
    "print(scaled_coaster_targets.head())"
   ]
  },
  {
   "cell_type": "markdown",
   "metadata": {},
   "source": [
    "Now the dataset is appropriately preprocessed for input into a neural network algorithm. We will now divide the dataset into a training and testing set, keeping 10 of the data points for future testing and the remaining for training the network. We will form a neural network with a single hidden layer with 6 inputs from the scaled features and outputs leading to a single node representing the estimated scaled value for the roller coaster Speed. We will keep 7 nodes in the hidden layer (this is a matter of trial and error). The idea is to have sufficient nodes in the hidden layer just so that our model can accurately predict values and not to overwhelm the model with too many hidden layer nodes to make it unnecessarily complex and slow. The optimizer used for the model will be a stochastic gradient descent optimizer that would be trying to minimise a mean squared error loss function typical for regression problems. The learning rate and momentum for the minimization problem would be, as suggested in the question, 0.7 and 0.8 respectively. The number of cycles, or epochs would be 5000."
   ]
  },
  {
   "cell_type": "code",
   "execution_count": 55,
   "metadata": {},
   "outputs": [
    {
     "name": "stdout",
     "output_type": "stream",
     "text": [
      "_________________________________________________________________\n",
      "Layer (type)                 Output Shape              Param #   \n",
      "=================================================================\n",
      "dense_13 (Dense)             (None, 7)                 49        \n",
      "_________________________________________________________________\n",
      "dropout_8 (Dropout)          (None, 7)                 0         \n",
      "_________________________________________________________________\n",
      "dense_14 (Dense)             (None, 1)                 8         \n",
      "=================================================================\n",
      "Total params: 57\n",
      "Trainable params: 57\n",
      "Non-trainable params: 0\n",
      "_________________________________________________________________\n"
     ]
    }
   ],
   "source": [
    "# %%\n",
    "from sklearn.model_selection import train_test_split\n",
    "\n",
    "xtrain, xtest, ytrain, ytest = train_test_split(scaled_coaster_features, scaled_coaster_targets,\n",
    "                                                random_state=42,\n",
    "                                                test_size=0.12)\n",
    "from keras.models import Sequential\n",
    "from keras.layers.core import Dense, Dropout\n",
    "from keras import optimizers\n",
    "\n",
    "sgd = optimizers.SGD(lr=0.7, momentum=0.8)\n",
    "activation_func = 'relu'\n",
    "\n",
    "# Just NN model\n",
    "model = Sequential()\n",
    "\n",
    "model.add(Dense(7, activation=activation_func, input_shape=(6,)))\n",
    "model.add(Dropout(.1))\n",
    "model.add(Dense(1))\n",
    "\n",
    "model.compile(optimizer=sgd, loss='mean_squared_error', metrics=['mse'])\n",
    "model.summary()"
   ]
  },
  {
   "cell_type": "markdown",
   "metadata": {},
   "source": [
    "The output above shows that the resulting model with 7 hidden layer nodes, 6 inputs and 1 output will have a total of 57 parametric weights and biases to be trained. We then train the model with our training data for 5000 cycles (epochs in Keras terms) as follows."
   ]
  },
  {
   "cell_type": "code",
   "execution_count": 50,
   "metadata": {},
   "outputs": [
    {
     "data": {
      "text/plain": [
       "<keras.callbacks.History at 0x1acf402a630>"
      ]
     },
     "execution_count": 50,
     "metadata": {},
     "output_type": "execute_result"
    }
   ],
   "source": [
    "# %%\n",
    "import numpy as np\n",
    "\n",
    "train_features = np.array(xtrain)\n",
    "train_targets = np.array(ytrain)\n",
    "\n",
    "test_features = np.array(xtest)\n",
    "test_targets = np.array(ytest)\n",
    "\n",
    "model.fit(train_features, train_targets, epochs=5000, batch_size=5, verbose=0)"
   ]
  },
  {
   "cell_type": "markdown",
   "metadata": {},
   "source": [
    "Now that the model has been trained, it is time to see how much is the mean square error when our model is tested on the initially separated 10 testing datasets."
   ]
  },
  {
   "cell_type": "code",
   "execution_count": 51,
   "metadata": {},
   "outputs": [
    {
     "name": "stdout",
     "output_type": "stream",
     "text": [
      "10/10 [==============================] - 0s 17ms/step\n",
      "\n",
      " Mean Square Error for testing data: 0.0039041941054165363\n"
     ]
    }
   ],
   "source": [
    "# %%\n",
    "# Evaluating the model on the testing set\n",
    "score = model.evaluate(test_features, test_targets)\n",
    "print(\"\\n Mean Square Error for testing data:\", score[1])"
   ]
  },
  {
   "cell_type": "markdown",
   "metadata": {},
   "source": [
    "It can be observed that the mean square error for the testing data shown above is quite low, an indication that we have ended up with a good predictive model. Now it is time to test our sample data. According to the question, for the sample data:\n",
    "\n",
    "Type: Steel; Duration: 170; Height: 300;  Drop: 306; length6100; Inversion: No  \n",
    "\n",
    "we can convert the sampled data into its scaled version and then feed into the trained neural network to give us a measure of the predicted speed of the roller coaster."
   ]
  },
  {
   "cell_type": "code",
   "execution_count": 52,
   "metadata": {},
   "outputs": [
    {
     "name": "stdout",
     "output_type": "stream",
     "text": [
      "\n",
      " This is the predicted speed of the roller coaster for the sample dataset: \n",
      "[[91.623474]]\n"
     ]
    }
   ],
   "source": [
    "# Testing our sample data\n",
    "sample = [1, 170, 300, 306, 6100, 0]\n",
    "scaled_sample_features = feature_scaler.transform(np.array([sample]))\n",
    "sample_prediction = model.predict(scaled_sample_features)\n",
    "print(\"\\n This is the predicted speed of the roller coaster for the sample dataset: \")\n",
    "descaled_sample_prediction = target_scaler.inverse_transform(sample_prediction)\n",
    "print(descaled_sample_prediction)"
   ]
  },
  {
   "cell_type": "markdown",
   "metadata": {},
   "source": [
    "#### From the above cell, it can be observed that the predicted speed of the new roller coaster for the given sample data set is 91.62. "
   ]
  },
  {
   "cell_type": "markdown",
   "metadata": {},
   "source": [
    "We can observe the performance of our trained neural network model to ensure it did infact give us a good predictive system, by looking at the trend of the mean squared error over the 5000 cycles/epoch as follows."
   ]
  },
  {
   "cell_type": "code",
   "execution_count": 54,
   "metadata": {},
   "outputs": [
    {
     "data": {
      "image/png": "[encoded data removed]",
      "text/plain": [
       "<Figure size 432x288 with 1 Axes>"
      ]
     },
     "metadata": {},
     "output_type": "display_data"
    }
   ],
   "source": [
    "import matplotlib.pyplot as plt\n",
    "%matplotlib inline\n",
    "mse_errors = model.history.history['mean_squared_error']\n",
    "plt.plot(mse_errors, marker='+', color='r')\n",
    "plt.xlabel(\"Cycles\")\n",
    "plt.ylabel(\"Mean Squared Errors\")\n",
    "plt.title(\"Mean Squared Error Trend Over 5000 Cycles\")\n",
    "plt.show()"
   ]
  },
  {
   "cell_type": "markdown",
   "metadata": {},
   "source": [
    "It can be observed from the graph above that our trained model did infact improve over the 5000 cycles, with the mean squared error of regression decreasing over the 5000 cycles."
   ]
  },
  {
   "cell_type": "markdown",
   "metadata": {},
   "source": [
    "## Answer"
   ]
  },
  {
   "cell_type": "markdown",
   "metadata": {},
   "source": [
    "### The predicted new roller coaster speed is: 91.62"
   ]
  }
 ],
 "metadata": {
  "kernelspec": {
   "display_name": "Python 3",
   "language": "python",
   "name": "python3"
  },
  "language_info": {
   "codemirror_mode": {
    "name": "ipython",
    "version": 3
   },
   "file_extension": ".py",
   "mimetype": "text/x-python",
   "name": "python",
   "nbconvert_exporter": "python",
   "pygments_lexer": "ipython3",
   "version": "3.6.5"
  }
 },
 "nbformat": 4,
 "nbformat_minor": 1
}
