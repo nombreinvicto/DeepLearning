{
 "cells": [
  {
   "cell_type": "markdown",
   "metadata": {
    "collapsed": true
   },
   "source": [
    "# Home Work 6\n",
    "### The problems in this homework have been solved using the Keras neural network package of the Python language."
   ]
  },
  {
   "cell_type": "markdown",
   "metadata": {},
   "source": [
    "## Question 2"
   ]
  },
  {
   "cell_type": "markdown",
   "metadata": {},
   "source": [
    "First we will load the dataset and see the first few rows."
   ]
  },
  {
   "cell_type": "code",
   "execution_count": 39,
   "metadata": {},
   "outputs": [
    {
     "data": {
      "text/html": [
       "<div>\n",
       "<style scoped>\n",
       "    .dataframe tbody tr th:only-of-type {\n",
       "        vertical-align: middle;\n",
       "    }\n",
       "\n",
       "    .dataframe tbody tr th {\n",
       "        vertical-align: top;\n",
       "    }\n",
       "\n",
       "    .dataframe thead th {\n",
       "        text-align: right;\n",
       "    }\n",
       "</style>\n",
       "<table border=\"1\" class=\"dataframe\">\n",
       "  <thead>\n",
       "    <tr style=\"text-align: right;\">\n",
       "      <th></th>\n",
       "      <th>Distance</th>\n",
       "      <th>Weather</th>\n",
       "      <th>Wind15</th>\n",
       "      <th>Temperature</th>\n",
       "      <th>Grass</th>\n",
       "      <th>Pressure</th>\n",
       "      <th>Ice</th>\n",
       "      <th>Good</th>\n",
       "    </tr>\n",
       "  </thead>\n",
       "  <tbody>\n",
       "    <tr>\n",
       "      <th>1</th>\n",
       "      <td>29</td>\n",
       "      <td>Sun</td>\n",
       "      <td>0</td>\n",
       "      <td>Nice</td>\n",
       "      <td>1</td>\n",
       "      <td>N</td>\n",
       "      <td>0</td>\n",
       "      <td>Y</td>\n",
       "    </tr>\n",
       "    <tr>\n",
       "      <th>2</th>\n",
       "      <td>33</td>\n",
       "      <td>Sun</td>\n",
       "      <td>0</td>\n",
       "      <td>Nice</td>\n",
       "      <td>1</td>\n",
       "      <td>N</td>\n",
       "      <td>0</td>\n",
       "      <td>Y</td>\n",
       "    </tr>\n",
       "    <tr>\n",
       "      <th>3</th>\n",
       "      <td>25</td>\n",
       "      <td>Sun</td>\n",
       "      <td>0</td>\n",
       "      <td>Nice</td>\n",
       "      <td>1</td>\n",
       "      <td>N</td>\n",
       "      <td>0</td>\n",
       "      <td>N</td>\n",
       "    </tr>\n",
       "    <tr>\n",
       "      <th>4</th>\n",
       "      <td>23</td>\n",
       "      <td>Sun</td>\n",
       "      <td>0</td>\n",
       "      <td>Nice</td>\n",
       "      <td>1</td>\n",
       "      <td>N</td>\n",
       "      <td>0</td>\n",
       "      <td>Y</td>\n",
       "    </tr>\n",
       "    <tr>\n",
       "      <th>5</th>\n",
       "      <td>48</td>\n",
       "      <td>Sun</td>\n",
       "      <td>0</td>\n",
       "      <td>Nice</td>\n",
       "      <td>1</td>\n",
       "      <td>N</td>\n",
       "      <td>0</td>\n",
       "      <td>N</td>\n",
       "    </tr>\n",
       "  </tbody>\n",
       "</table>\n",
       "</div>"
      ],
      "text/plain": [
       "   Distance Weather  Wind15 Temperature  Grass Pressure  Ice Good\n",
       "1        29     Sun       0        Nice      1        N    0    Y\n",
       "2        33     Sun       0        Nice      1        N    0    Y\n",
       "3        25     Sun       0        Nice      1        N    0    N\n",
       "4        23     Sun       0        Nice      1        N    0    Y\n",
       "5        48     Sun       0        Nice      1        N    0    N"
      ]
     },
     "execution_count": 39,
     "metadata": {},
     "output_type": "execute_result"
    }
   ],
   "source": [
    "import pandas as pd\n",
    "goals_data = pd.read_excel('goals.xls')\n",
    "goals_data.head()"
   ]
  },
  {
   "cell_type": "markdown",
   "metadata": {},
   "source": [
    "The table above shows that the dataset has been loaded successfully. It can be seen that the \"Pressure\" and the \"Good\" Columns are categorical columns. In Keras, data needs to be numerical. As a result, we will use map methods to convert those categorical columns to their numerical counterparts. As far as the Pressure column is concerned, we will consider \"Y\" to be 1.0 and \"N\" to be 0.0. Similarly, for the Good column, \"Y\" will be considered to be 1.0 and \"N\" will be considered to be 0.0."
   ]
  },
  {
   "cell_type": "code",
   "execution_count": 40,
   "metadata": {},
   "outputs": [
    {
     "data": {
      "text/html": [
       "<div>\n",
       "<style scoped>\n",
       "    .dataframe tbody tr th:only-of-type {\n",
       "        vertical-align: middle;\n",
       "    }\n",
       "\n",
       "    .dataframe tbody tr th {\n",
       "        vertical-align: top;\n",
       "    }\n",
       "\n",
       "    .dataframe thead th {\n",
       "        text-align: right;\n",
       "    }\n",
       "</style>\n",
       "<table border=\"1\" class=\"dataframe\">\n",
       "  <thead>\n",
       "    <tr style=\"text-align: right;\">\n",
       "      <th></th>\n",
       "      <th>Distance</th>\n",
       "      <th>Weather</th>\n",
       "      <th>Wind15</th>\n",
       "      <th>Temperature</th>\n",
       "      <th>Grass</th>\n",
       "      <th>Pressure</th>\n",
       "      <th>Ice</th>\n",
       "      <th>Good</th>\n",
       "    </tr>\n",
       "  </thead>\n",
       "  <tbody>\n",
       "    <tr>\n",
       "      <th>1</th>\n",
       "      <td>29</td>\n",
       "      <td>Sun</td>\n",
       "      <td>0</td>\n",
       "      <td>Nice</td>\n",
       "      <td>1</td>\n",
       "      <td>0</td>\n",
       "      <td>0</td>\n",
       "      <td>1</td>\n",
       "    </tr>\n",
       "    <tr>\n",
       "      <th>2</th>\n",
       "      <td>33</td>\n",
       "      <td>Sun</td>\n",
       "      <td>0</td>\n",
       "      <td>Nice</td>\n",
       "      <td>1</td>\n",
       "      <td>0</td>\n",
       "      <td>0</td>\n",
       "      <td>1</td>\n",
       "    </tr>\n",
       "    <tr>\n",
       "      <th>3</th>\n",
       "      <td>25</td>\n",
       "      <td>Sun</td>\n",
       "      <td>0</td>\n",
       "      <td>Nice</td>\n",
       "      <td>1</td>\n",
       "      <td>0</td>\n",
       "      <td>0</td>\n",
       "      <td>0</td>\n",
       "    </tr>\n",
       "    <tr>\n",
       "      <th>4</th>\n",
       "      <td>23</td>\n",
       "      <td>Sun</td>\n",
       "      <td>0</td>\n",
       "      <td>Nice</td>\n",
       "      <td>1</td>\n",
       "      <td>0</td>\n",
       "      <td>0</td>\n",
       "      <td>1</td>\n",
       "    </tr>\n",
       "    <tr>\n",
       "      <th>5</th>\n",
       "      <td>48</td>\n",
       "      <td>Sun</td>\n",
       "      <td>0</td>\n",
       "      <td>Nice</td>\n",
       "      <td>1</td>\n",
       "      <td>0</td>\n",
       "      <td>0</td>\n",
       "      <td>0</td>\n",
       "    </tr>\n",
       "  </tbody>\n",
       "</table>\n",
       "</div>"
      ],
      "text/plain": [
       "   Distance Weather  Wind15 Temperature  Grass  Pressure  Ice  Good\n",
       "1        29     Sun       0        Nice      1         0    0     1\n",
       "2        33     Sun       0        Nice      1         0    0     1\n",
       "3        25     Sun       0        Nice      1         0    0     0\n",
       "4        23     Sun       0        Nice      1         0    0     1\n",
       "5        48     Sun       0        Nice      1         0    0     0"
      ]
     },
     "execution_count": 40,
     "metadata": {},
     "output_type": "execute_result"
    }
   ],
   "source": [
    "# %%\n",
    "goals_data['Pressure'] = goals_data['Pressure'].map({\"Y\": 1, \"N\": 0})\n",
    "goals_data['Good'] = goals_data['Good'].map({\"Y\": 1, \"N\": 0})\n",
    "goals_data.head()"
   ]
  },
  {
   "cell_type": "markdown",
   "metadata": {},
   "source": [
    "The dataset above shows that the categorical columns have been converted to their numerical counterparts. The columns \"Weather\" and \"Temperature\" have values across more than 2 categories and hence they would be converted into more than 2 indicator variables."
   ]
  },
  {
   "cell_type": "code",
   "execution_count": 41,
   "metadata": {},
   "outputs": [
    {
     "data": {
      "text/html": [
       "<div>\n",
       "<style scoped>\n",
       "    .dataframe tbody tr th:only-of-type {\n",
       "        vertical-align: middle;\n",
       "    }\n",
       "\n",
       "    .dataframe tbody tr th {\n",
       "        vertical-align: top;\n",
       "    }\n",
       "\n",
       "    .dataframe thead th {\n",
       "        text-align: right;\n",
       "    }\n",
       "</style>\n",
       "<table border=\"1\" class=\"dataframe\">\n",
       "  <thead>\n",
       "    <tr style=\"text-align: right;\">\n",
       "      <th></th>\n",
       "      <th>Distance</th>\n",
       "      <th>Wind15</th>\n",
       "      <th>Grass</th>\n",
       "      <th>Pressure</th>\n",
       "      <th>Ice</th>\n",
       "      <th>Good</th>\n",
       "      <th>Weather_Clouds</th>\n",
       "      <th>Weather_Inside</th>\n",
       "      <th>Weather_SnowRain</th>\n",
       "      <th>Weather_Sun</th>\n",
       "      <th>Temperature_Cold</th>\n",
       "      <th>Temperature_Hot</th>\n",
       "      <th>Temperature_Nice</th>\n",
       "    </tr>\n",
       "  </thead>\n",
       "  <tbody>\n",
       "    <tr>\n",
       "      <th>1</th>\n",
       "      <td>29</td>\n",
       "      <td>0</td>\n",
       "      <td>1</td>\n",
       "      <td>0</td>\n",
       "      <td>0</td>\n",
       "      <td>1</td>\n",
       "      <td>0</td>\n",
       "      <td>0</td>\n",
       "      <td>0</td>\n",
       "      <td>1</td>\n",
       "      <td>0</td>\n",
       "      <td>0</td>\n",
       "      <td>1</td>\n",
       "    </tr>\n",
       "    <tr>\n",
       "      <th>2</th>\n",
       "      <td>33</td>\n",
       "      <td>0</td>\n",
       "      <td>1</td>\n",
       "      <td>0</td>\n",
       "      <td>0</td>\n",
       "      <td>1</td>\n",
       "      <td>0</td>\n",
       "      <td>0</td>\n",
       "      <td>0</td>\n",
       "      <td>1</td>\n",
       "      <td>0</td>\n",
       "      <td>0</td>\n",
       "      <td>1</td>\n",
       "    </tr>\n",
       "    <tr>\n",
       "      <th>3</th>\n",
       "      <td>25</td>\n",
       "      <td>0</td>\n",
       "      <td>1</td>\n",
       "      <td>0</td>\n",
       "      <td>0</td>\n",
       "      <td>0</td>\n",
       "      <td>0</td>\n",
       "      <td>0</td>\n",
       "      <td>0</td>\n",
       "      <td>1</td>\n",
       "      <td>0</td>\n",
       "      <td>0</td>\n",
       "      <td>1</td>\n",
       "    </tr>\n",
       "    <tr>\n",
       "      <th>4</th>\n",
       "      <td>23</td>\n",
       "      <td>0</td>\n",
       "      <td>1</td>\n",
       "      <td>0</td>\n",
       "      <td>0</td>\n",
       "      <td>1</td>\n",
       "      <td>0</td>\n",
       "      <td>0</td>\n",
       "      <td>0</td>\n",
       "      <td>1</td>\n",
       "      <td>0</td>\n",
       "      <td>0</td>\n",
       "      <td>1</td>\n",
       "    </tr>\n",
       "    <tr>\n",
       "      <th>5</th>\n",
       "      <td>48</td>\n",
       "      <td>0</td>\n",
       "      <td>1</td>\n",
       "      <td>0</td>\n",
       "      <td>0</td>\n",
       "      <td>0</td>\n",
       "      <td>0</td>\n",
       "      <td>0</td>\n",
       "      <td>0</td>\n",
       "      <td>1</td>\n",
       "      <td>0</td>\n",
       "      <td>0</td>\n",
       "      <td>1</td>\n",
       "    </tr>\n",
       "  </tbody>\n",
       "</table>\n",
       "</div>"
      ],
      "text/plain": [
       "   Distance  Wind15  Grass  Pressure  Ice  Good  Weather_Clouds  \\\n",
       "1        29       0      1         0    0     1               0   \n",
       "2        33       0      1         0    0     1               0   \n",
       "3        25       0      1         0    0     0               0   \n",
       "4        23       0      1         0    0     1               0   \n",
       "5        48       0      1         0    0     0               0   \n",
       "\n",
       "   Weather_Inside  Weather_SnowRain  Weather_Sun  Temperature_Cold  \\\n",
       "1               0                 0            1                 0   \n",
       "2               0                 0            1                 0   \n",
       "3               0                 0            1                 0   \n",
       "4               0                 0            1                 0   \n",
       "5               0                 0            1                 0   \n",
       "\n",
       "   Temperature_Hot  Temperature_Nice  \n",
       "1                0                 1  \n",
       "2                0                 1  \n",
       "3                0                 1  \n",
       "4                0                 1  \n",
       "5                0                 1  "
      ]
     },
     "execution_count": 41,
     "metadata": {},
     "output_type": "execute_result"
    }
   ],
   "source": [
    "# %%\n",
    "# Converting multiclass categorical input data into numerical data\n",
    "goals_data_dummied = pd.get_dummies(goals_data)\n",
    "goals_data_dummied.head()"
   ]
  },
  {
   "cell_type": "markdown",
   "metadata": {},
   "source": [
    "We will then divide the dataset into input features and output targets as follows."
   ]
  },
  {
   "cell_type": "code",
   "execution_count": 42,
   "metadata": {},
   "outputs": [
    {
     "name": "stdout",
     "output_type": "stream",
     "text": [
      "\n",
      " Goal Features: \n",
      "   Distance  Wind15  Grass  Pressure  Ice  Weather_Clouds  Weather_Inside  \\\n",
      "1        29       0      1         0    0               0               0   \n",
      "2        33       0      1         0    0               0               0   \n",
      "3        25       0      1         0    0               0               0   \n",
      "4        23       0      1         0    0               0               0   \n",
      "5        48       0      1         0    0               0               0   \n",
      "\n",
      "   Weather_SnowRain  Weather_Sun  Temperature_Cold  Temperature_Hot  \\\n",
      "1                 0            1                 0                0   \n",
      "2                 0            1                 0                0   \n",
      "3                 0            1                 0                0   \n",
      "4                 0            1                 0                0   \n",
      "5                 0            1                 0                0   \n",
      "\n",
      "   Temperature_Nice  \n",
      "1                 1  \n",
      "2                 1  \n",
      "3                 1  \n",
      "4                 1  \n",
      "5                 1  \n"
     ]
    }
   ],
   "source": [
    "# %%\n",
    "goals_features = goals_data_dummied.drop(['Good'], axis=1, inplace=False)\n",
    "goals_targets = pd.DataFrame(goals_data_dummied['Good'], columns=['Good'])\n",
    "print(\"\\n Goal Features: \")\n",
    "print(goals_features.head())"
   ]
  },
  {
   "cell_type": "code",
   "execution_count": 43,
   "metadata": {},
   "outputs": [
    {
     "name": "stdout",
     "output_type": "stream",
     "text": [
      "\n",
      " Goal Targets\n",
      "   Good\n",
      "1     1\n",
      "2     1\n",
      "3     0\n",
      "4     1\n",
      "5     0\n"
     ]
    }
   ],
   "source": [
    "print(\"\\n Goal Targets\")\n",
    "print(goals_targets.head())"
   ]
  },
  {
   "cell_type": "markdown",
   "metadata": {},
   "source": [
    "All the columns in the dataset represent variables with different scales. Generally, for machine learning algorithms, it is advisable to scale all the variables across different categories within the same range so that large deviations of one variable do not adversely affect the performance of the algorithm. Therefore, using min-max scaling, we will scale all the variables in the dataset in the range [0, 1]. Consequently our feature and target variables would be values in that range as shown below."
   ]
  },
  {
   "cell_type": "code",
   "execution_count": 44,
   "metadata": {},
   "outputs": [
    {
     "name": "stdout",
     "output_type": "stream",
     "text": [
      "\n",
      " The following are the scaled features: \n",
      "   Distance  Wind15  Grass  Pressure  Ice  Weather_Clouds  Weather_Inside  \\\n",
      "0  0.250000     0.0    1.0       0.0  0.0             0.0             0.0   \n",
      "1  0.340909     0.0    1.0       0.0  0.0             0.0             0.0   \n",
      "2  0.159091     0.0    1.0       0.0  0.0             0.0             0.0   \n",
      "3  0.113636     0.0    1.0       0.0  0.0             0.0             0.0   \n",
      "4  0.681818     0.0    1.0       0.0  0.0             0.0             0.0   \n",
      "\n",
      "   Weather_SnowRain  Weather_Sun  Temperature_Cold  Temperature_Hot  \\\n",
      "0               0.0          1.0               0.0              0.0   \n",
      "1               0.0          1.0               0.0              0.0   \n",
      "2               0.0          1.0               0.0              0.0   \n",
      "3               0.0          1.0               0.0              0.0   \n",
      "4               0.0          1.0               0.0              0.0   \n",
      "\n",
      "   Temperature_Nice  \n",
      "0               1.0  \n",
      "1               1.0  \n",
      "2               1.0  \n",
      "3               1.0  \n",
      "4               1.0  \n"
     ]
    }
   ],
   "source": [
    "# %%\n",
    "from sklearn import preprocessing\n",
    "\n",
    "feature_scaler = preprocessing.MinMaxScaler()\n",
    "scaled_goals_features = pd.DataFrame(data=feature_scaler.fit_transform(goals_features),\n",
    "                                     columns=goals_features.columns.values)\n",
    "# %%\n",
    "target_scaler = preprocessing.MinMaxScaler()\n",
    "scaled_goals_targets = pd.DataFrame(data=target_scaler.fit_transform(goals_targets),\n",
    "                                    columns=goals_targets.columns.values)\n",
    "print(\"\\n The following are the scaled features: \")\n",
    "print(scaled_goals_features.head())\n",
    "# print(\"\\n The following are the scaled targets: \")\n",
    "# print(scaled_goals_targets.head())"
   ]
  },
  {
   "cell_type": "markdown",
   "metadata": {},
   "source": [
    "Now the dataset is appropriately preprocessed for input into a neural network algorithm. We will now divide the dataset into a training and testing set, keeping 10 of the data points for future testing and the remaining for training the network. We will form a neural network with a single hidden layer with inputs from the scaled features and outputs leading to 2 nodes representing the the outputs of a softmax activation function across 2 categories, namely a successfull goal attempt and an unsuccessfull goal attempt. The optimizer used for the model will be a stochastic gradient descent optimizer that would be trying to maximise the accuracy of this binary classification problem. The learning rate and momentum for the minimization problem would be, as suggested in the question, 0.7 and 0.8 respectively. The number of cycles, or epochs would be 5000."
   ]
  },
  {
   "cell_type": "code",
   "execution_count": 45,
   "metadata": {},
   "outputs": [
    {
     "name": "stdout",
     "output_type": "stream",
     "text": [
      "_________________________________________________________________\n",
      "Layer (type)                 Output Shape              Param #   \n",
      "=================================================================\n",
      "dense_5 (Dense)              (None, 256)               3328      \n",
      "_________________________________________________________________\n",
      "dropout_4 (Dropout)          (None, 256)               0         \n",
      "_________________________________________________________________\n",
      "dense_6 (Dense)              (None, 128)               32896     \n",
      "_________________________________________________________________\n",
      "dropout_5 (Dropout)          (None, 128)               0         \n",
      "_________________________________________________________________\n",
      "dense_7 (Dense)              (None, 64)                8256      \n",
      "_________________________________________________________________\n",
      "dropout_6 (Dropout)          (None, 64)                0         \n",
      "_________________________________________________________________\n",
      "dense_8 (Dense)              (None, 2)                 130       \n",
      "=================================================================\n",
      "Total params: 44,610\n",
      "Trainable params: 44,610\n",
      "Non-trainable params: 0\n",
      "_________________________________________________________________\n"
     ]
    }
   ],
   "source": [
    "# %%\n",
    "from sklearn.model_selection import train_test_split\n",
    "\n",
    "xtrain, xtest, ytrain, ytest = train_test_split(scaled_goals_features, goals_targets,\n",
    "                                                random_state=42,\n",
    "                                                test_size=0.12)\n",
    "import keras\n",
    "from keras.models import Sequential\n",
    "from keras.layers.core import Dense, Dropout\n",
    "from keras import optimizers\n",
    "\n",
    "sgd = optimizers.SGD(lr=0.7)\n",
    "model = Sequential()\n",
    "# My model\n",
    "model.add(Dense(256, activation='relu', input_shape=(12,)))\n",
    "model.add(Dropout(.2))\n",
    "model.add(Dense(128, activation='relu'))\n",
    "model.add(Dropout(.1))\n",
    "model.add(Dense(64, activation='relu'))\n",
    "model.add(Dropout(.1))\n",
    "model.add(Dense(2, activation='softmax'))\n",
    "\n",
    "model.compile(optimizer=sgd, loss='categorical_crossentropy', metrics=['accuracy'])\n",
    "model.summary()"
   ]
  },
  {
   "cell_type": "markdown",
   "metadata": {},
   "source": [
    "The output above shows that the resulting model with a total of 44,610 parametric weights and biases to be trained. We then train the model with our training data for 5000 cycles (epochs in Keras terms) as follows."
   ]
  },
  {
   "cell_type": "code",
   "execution_count": 48,
   "metadata": {},
   "outputs": [
    {
     "data": {
      "text/plain": [
       "<keras.callbacks.History at 0x18b62d5cf98>"
      ]
     },
     "execution_count": 48,
     "metadata": {},
     "output_type": "execute_result"
    }
   ],
   "source": [
    "# %%\n",
    "import numpy as np\n",
    "\n",
    "train_features = np.array(xtrain)\n",
    "test_features = np.array(xtest)\n",
    "\n",
    "final_targets_train = np.array(keras.utils.to_categorical(ytrain, 2))\n",
    "final_targets_test = np.array(keras.utils.to_categorical(ytest, 2))\n",
    "\n",
    "model.fit(train_features, final_targets_train, epochs=5000, batch_size=10, verbose=0)"
   ]
  },
  {
   "cell_type": "markdown",
   "metadata": {},
   "source": [
    "Now that the model has been trained, it is time to see how much is the accuracy when our model is tested on the initially separated 10 testing datasets."
   ]
  },
  {
   "cell_type": "code",
   "execution_count": 52,
   "metadata": {},
   "outputs": [
    {
     "name": "stdout",
     "output_type": "stream",
     "text": [
      "241/241 [==============================] - 0s 37us/step\n",
      "\n",
      " Accuracy Score: 0.7800829880465115\n"
     ]
    }
   ],
   "source": [
    "# Evaluating the model on the testing set\n",
    "score = model.evaluate(test_features, final_targets_test)\n",
    "print(\"\\n Accuracy Score:\", score[1])"
   ]
  },
  {
   "cell_type": "markdown",
   "metadata": {},
   "source": [
    "It can be observed that the accuracy of prediction for the testing data shown above is quite high, an indication that we have ended up with a good predictive model. Now it is time to test our sample data. According to the question, for the sample data:\n",
    "\n",
    "Distance:57; Weather:SnowRain; Wind15:true; Temperature:Cold; Grass:true; Pressure:Y; Ice:true. \n",
    "\n",
    "we can convert the sampled data into its scaled version and then feed into the trained neural network to give us a prediction as to whether the goal attempt would be successfull or not."
   ]
  },
  {
   "cell_type": "code",
   "execution_count": 55,
   "metadata": {},
   "outputs": [
    {
     "name": "stdout",
     "output_type": "stream",
     "text": [
      "The prediction sigmoid probability of the output for the sample test data: 0.0009026780026033521\n"
     ]
    }
   ],
   "source": [
    "# %%\n",
    "# Testing our sample data\n",
    "sample = np.array([[57, 1, 1, 1, 1, 0, 0, 1, 0, 1, 0, 0]])\n",
    "sample_df = pd.DataFrame(sample, columns=xtrain.columns.values)\n",
    "scaled_sample_data = pd.DataFrame(feature_scaler.transform(sample_df),\n",
    "                                  columns=sample_df.columns.values)\n",
    "sample_prediction = model.predict(np.array(scaled_sample_data))\n",
    "print(f\"The prediction sigmoid probability of the output for the sample test data: {sample_prediction[0][1]}\")"
   ]
  },
  {
   "cell_type": "markdown",
   "metadata": {},
   "source": [
    "#### From the above cell, it can be observed that there is a very low probability that the goal attempt will be successfull due to the predicted output value for the Goal which can be considered to be zero (value = 0.0009). A value of 0 for the goal means the attempt has a value of \"N\" which in turn means an unsuccessfull goal attempt."
   ]
  },
  {
   "cell_type": "markdown",
   "metadata": {},
   "source": [
    "We can observe the performance of our trained neural network model to ensure it did infact give us a good predictive system, by looking at the trend of the accuracy over the 5000 cycles/epoch as follows."
   ]
  },
  {
   "cell_type": "code",
   "execution_count": 16,
   "metadata": {},
   "outputs": [
    {
     "data": {
      "image/png": "[encoded data removed]",
      "text/plain": [
       "<Figure size 432x288 with 1 Axes>"
      ]
     },
     "metadata": {},
     "output_type": "display_data"
    }
   ],
   "source": [
    "import matplotlib.pyplot as plt\n",
    "%matplotlib inline\n",
    "accuracy_history = model.history.history['acc']\n",
    "plt.plot(accuracy_history, marker='+', color='r')\n",
    "plt.xlabel(\"Cycles\")\n",
    "plt.ylabel(\"Accuracy Scores\")\n",
    "plt.title(\"Accuracy Trend Over 5000 Cycles\")\n",
    "plt.show()\n"
   ]
  },
  {
   "cell_type": "markdown",
   "metadata": {},
   "source": [
    "It can be observed from the graph above that our trained model did infact improve over the 5000 cycles."
   ]
  },
  {
   "cell_type": "markdown",
   "metadata": {},
   "source": [
    "## Answer (part a)"
   ]
  },
  {
   "cell_type": "markdown",
   "metadata": {},
   "source": [
    "### The goal attempt is predicted to be NOT successfull."
   ]
  },
  {
   "cell_type": "markdown",
   "metadata": {},
   "source": [
    "## Answer (part b)"
   ]
  },
  {
   "cell_type": "markdown",
   "metadata": {},
   "source": [
    "With all other inputs remaining constant, let us find out the approximate maximum distance for which the field goal attempt is predicted to be successfull. We will do that by trial and error, decreasing the distance by a single unit until the prediction value for the Good column becomes close to 1.0 (i.e \"Y\")."
   ]
  },
  {
   "cell_type": "code",
   "execution_count": 81,
   "metadata": {},
   "outputs": [
    {
     "name": "stdout",
     "output_type": "stream",
     "text": [
      "The prediction sigmoid probability of the output for the sample test data: 0.9446671009063721\n"
     ]
    }
   ],
   "source": [
    "sample = np.array([[47, 1, 1, 1, 1, 0, 0, 1, 0, 1, 0, 0]])\n",
    "sample_df = pd.DataFrame(sample, columns=xtrain.columns.values)\n",
    "scaled_sample_data = pd.DataFrame(feature_scaler.transform(sample_df),\n",
    "                                  columns=sample_df.columns.values)\n",
    "sample_prediction = model.predict(np.array(scaled_sample_data))\n",
    "print(f\"The prediction sigmoid probability of the output for the sample test data: {sample_prediction[0][1]}\")"
   ]
  },
  {
   "cell_type": "markdown",
   "metadata": {},
   "source": [
    "#### It can be observed from the cell above that gradually decreasing the distance by 1 unit every step gives us an approximately successfull goal attempt (sigmoid probability = 0.944 and hence can be considered to be 1.0) at a distance of around 47 yards. It is obvious that decreasing the distance further will push that predicted sigmoid probability even more towards unity."
   ]
  }
 ],
 "metadata": {
  "kernelspec": {
   "display_name": "Python 3",
   "language": "python",
   "name": "python3"
  },
  "language_info": {
   "codemirror_mode": {
    "name": "ipython",
    "version": 3
   },
   "file_extension": ".py",
   "mimetype": "text/x-python",
   "name": "python",
   "nbconvert_exporter": "python",
   "pygments_lexer": "ipython3",
   "version": "3.6.5"
  }
 },
 "nbformat": 4,
 "nbformat_minor": 1
}
