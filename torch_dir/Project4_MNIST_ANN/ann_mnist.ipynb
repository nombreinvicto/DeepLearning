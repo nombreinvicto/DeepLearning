{
 "cells": [
  {
   "cell_type": "code",
   "execution_count": 159,
   "metadata": {
    "collapsed": true,
    "pycharm": {
     "name": "#%%\n"
    }
   },
   "outputs": [],
   "source": [
    "import torch\n",
    "from torch import nn\n",
    "from torch import optim\n",
    "import torch.nn.functional as F\n",
    "from torch.utils.data import DataLoader\n",
    "from torchvision import datasets, transforms, models"
   ]
  },
  {
   "cell_type": "code",
   "execution_count": 160,
   "outputs": [],
   "source": [
    "import numpy as np\n",
    "import pandas as pd\n",
    "import seaborn as sns\n",
    "import matplotlib.pyplot as plt\n",
    "from matplotlib.figure import Figure\n",
    "import matplotlib.axes._axes as axes\n",
    "sns.set()"
   ],
   "metadata": {
    "collapsed": false,
    "pycharm": {
     "name": "#%%\n"
    }
   }
  },
  {
   "cell_type": "code",
   "execution_count": 161,
   "outputs": [],
   "source": [
    "train_dataset = datasets.MNIST(\n",
    "    root=\"./\",\n",
    "    train=True,\n",
    "    transform=transforms.ToTensor(),\n",
    "    download=True\n",
    ")"
   ],
   "metadata": {
    "collapsed": false,
    "pycharm": {
     "name": "#%%\n"
    }
   }
  },
  {
   "cell_type": "code",
   "execution_count": 162,
   "outputs": [],
   "source": [
    "test_dataset = datasets.MNIST(\n",
    "    root=\"./\",\n",
    "    train=False,\n",
    "    transform=transforms.ToTensor(),\n",
    "    download=True\n",
    ")"
   ],
   "metadata": {
    "collapsed": false,
    "pycharm": {
     "name": "#%%\n"
    }
   }
  },
  {
   "cell_type": "code",
   "execution_count": 163,
   "outputs": [
    {
     "name": "stdout",
     "output_type": "stream",
     "text": [
      "cpu\n"
     ]
    }
   ],
   "source": [
    "device = torch.device(\"cuda:0\" if torch.cuda.is_available() else \"cpu\")\n",
    "print(device)"
   ],
   "metadata": {
    "collapsed": false,
    "pycharm": {
     "name": "#%%\n"
    }
   }
  },
  {
   "cell_type": "code",
   "execution_count": 164,
   "outputs": [
    {
     "data": {
      "text/plain": "Sequential(\n  (0): Linear(in_features=784, out_features=128, bias=True)\n  (1): ReLU()\n  (2): Linear(in_features=128, out_features=10, bias=True)\n)"
     },
     "execution_count": 164,
     "metadata": {},
     "output_type": "execute_result"
    }
   ],
   "source": [
    "# Build the model\n",
    "model = nn.Sequential(\n",
    "    nn.Linear(in_features=784, out_features=128),\n",
    "    nn.ReLU(),\n",
    "    nn.Linear(in_features=128, out_features=10)\n",
    ")\n",
    "\n",
    "model.to(device)"
   ],
   "metadata": {
    "collapsed": false,
    "pycharm": {
     "name": "#%%\n"
    }
   }
  },
  {
   "cell_type": "code",
   "execution_count": 165,
   "outputs": [],
   "source": [
    "# Loss and Optimizer\n",
    "criterion = nn.CrossEntropyLoss() # combines the softmax by itself\n",
    "optimizer = optim.Adam(model.parameters())\n"
   ],
   "metadata": {
    "collapsed": false,
    "pycharm": {
     "name": "#%%\n"
    }
   }
  },
  {
   "cell_type": "code",
   "execution_count": 166,
   "outputs": [],
   "source": [
    "# data loader/generators\n",
    "batch_size = 128\n",
    "train_loader = torch.utils.data.DataLoader(\n",
    "    dataset=train_dataset,\n",
    "    batch_size=batch_size,\n",
    "    shuffle=True\n",
    ")\n",
    "\n",
    "test_loader = torch.utils.data.DataLoader(\n",
    "    dataset=test_dataset,\n",
    "    batch_size=batch_size,\n",
    "    shuffle=False\n",
    ")"
   ],
   "metadata": {
    "collapsed": false,
    "pycharm": {
     "name": "#%%\n"
    }
   }
  },
  {
   "cell_type": "code",
   "execution_count": 167,
   "outputs": [
    {
     "name": "stdout",
     "output_type": "stream",
     "text": [
      "Epoch:1, TrainLoss::0.410, TestLoss::0.224\n",
      "Epoch:1, TrainAcc::0.893, TestAcc::0.926\n",
      "==================================================\n",
      "Epoch:2, TrainLoss::0.191, TestLoss::0.159\n",
      "Epoch:2, TrainAcc::0.945, TestAcc::0.942\n",
      "==================================================\n",
      "Epoch:3, TrainLoss::0.140, TestLoss::0.128\n",
      "Epoch:3, TrainAcc::0.959, TestAcc::0.950\n",
      "==================================================\n",
      "Epoch:4, TrainLoss::0.109, TestLoss::0.114\n",
      "Epoch:4, TrainAcc::0.968, TestAcc::0.954\n",
      "==================================================\n",
      "Epoch:5, TrainLoss::0.090, TestLoss::0.093\n",
      "Epoch:5, TrainAcc::0.974, TestAcc::0.961\n",
      "==================================================\n",
      "Epoch:6, TrainLoss::0.073, TestLoss::0.093\n",
      "Epoch:6, TrainAcc::0.978, TestAcc::0.961\n",
      "==================================================\n",
      "Epoch:7, TrainLoss::0.062, TestLoss::0.079\n",
      "Epoch:7, TrainAcc::0.982, TestAcc::0.965\n",
      "==================================================\n",
      "Epoch:8, TrainLoss::0.052, TestLoss::0.077\n",
      "Epoch:8, TrainAcc::0.984, TestAcc::0.965\n",
      "==================================================\n",
      "Epoch:9, TrainLoss::0.046, TestLoss::0.071\n",
      "Epoch:9, TrainAcc::0.986, TestAcc::0.968\n",
      "==================================================\n",
      "Epoch:10, TrainLoss::0.038, TestLoss::0.077\n",
      "Epoch:10, TrainAcc::0.989, TestAcc::0.966\n",
      "==================================================\n",
      "Epoch:11, TrainLoss::0.033, TestLoss::0.070\n",
      "Epoch:11, TrainAcc::0.991, TestAcc::0.967\n",
      "==================================================\n",
      "Epoch:12, TrainLoss::0.028, TestLoss::0.067\n",
      "Epoch:12, TrainAcc::0.992, TestAcc::0.970\n",
      "==================================================\n",
      "Epoch:13, TrainLoss::0.024, TestLoss::0.070\n",
      "Epoch:13, TrainAcc::0.993, TestAcc::0.969\n",
      "==================================================\n",
      "Epoch:14, TrainLoss::0.021, TestLoss::0.068\n",
      "Epoch:14, TrainAcc::0.994, TestAcc::0.969\n",
      "==================================================\n",
      "Epoch:15, TrainLoss::0.017, TestLoss::0.074\n",
      "Epoch:15, TrainAcc::0.995, TestAcc::0.968\n",
      "==================================================\n",
      "Epoch:16, TrainLoss::0.015, TestLoss::0.072\n",
      "Epoch:16, TrainAcc::0.996, TestAcc::0.970\n",
      "==================================================\n",
      "Epoch:17, TrainLoss::0.013, TestLoss::0.070\n",
      "Epoch:17, TrainAcc::0.997, TestAcc::0.968\n",
      "==================================================\n",
      "Epoch:18, TrainLoss::0.011, TestLoss::0.074\n",
      "Epoch:18, TrainAcc::0.997, TestAcc::0.967\n",
      "==================================================\n",
      "Epoch:19, TrainLoss::0.009, TestLoss::0.073\n",
      "Epoch:19, TrainAcc::0.998, TestAcc::0.970\n",
      "==================================================\n",
      "Epoch:20, TrainLoss::0.008, TestLoss::0.078\n",
      "Epoch:20, TrainAcc::0.998, TestAcc::0.967\n",
      "==================================================\n"
     ]
    }
   ],
   "source": [
    "# Train the model\n",
    "\n",
    "epochs = 20\n",
    "\n",
    "epoch_train_losses = np.zeros(epochs)\n",
    "epoch_train_acc = np.zeros(epochs)\n",
    "\n",
    "epoch_test_losses = np.zeros(epochs)\n",
    "epoch_test_acc = np.zeros(epochs)\n",
    "\n",
    "for epoch in range(epochs):\n",
    "    batch_train_losses = []\n",
    "    batch_train_acc = []\n",
    "\n",
    "    for inputs, targets in train_loader:\n",
    "        # move data to device\n",
    "        inputs, targets = inputs.to(device), targets.to(device)\n",
    "\n",
    "        # reshape the input from 28x28 to 784\n",
    "        inputs = inputs.view(-1, 784)\n",
    "\n",
    "        # zero the parameter gradient\n",
    "        optimizer.zero_grad()\n",
    "\n",
    "        # forward pass\n",
    "        outputs = model(inputs)\n",
    "        loss = criterion(outputs, targets)\n",
    "\n",
    "        # get accuracy\n",
    "        max_val_batch_array, indices = torch.max(outputs, dim=1)\n",
    "        current_batch_corrects = (indices == targets).sum().item()\n",
    "\n",
    "\n",
    "\n",
    "        # backprop\n",
    "        loss.backward()\n",
    "        optimizer.step()\n",
    "\n",
    "        # save the batch loss and accuracy\n",
    "        batch_train_losses.append(loss.item())\n",
    "        batch_train_acc.append(current_batch_corrects / batch_size)\n",
    "\n",
    "    # calculate the epoch loss and accuracy\n",
    "    current_epoch_train_loss = np.mean(batch_train_losses)\n",
    "    current_epoch_train_acc = np.mean(batch_train_acc)\n",
    "\n",
    "# ================ Training Done ======================\n",
    "\n",
    "    batch_test_losses = []\n",
    "    batch_test_acc = []\n",
    "\n",
    "    for inputs, targets in test_loader:\n",
    "        inputs, targets = inputs.to(device), targets.to(device)\n",
    "        inputs = inputs.view(-1, 784)\n",
    "\n",
    "        outputs = model(inputs)\n",
    "        loss = criterion(outputs, targets)\n",
    "\n",
    "        # get accuracy\n",
    "        max_val_batch_array, indices = torch.max(outputs, dim=1)\n",
    "        current_batch_corrects = (indices == targets).sum().item()\n",
    "\n",
    "        # save the batch loss and accuracy\n",
    "        batch_test_losses.append(loss.item())\n",
    "        batch_test_acc.append(current_batch_corrects / batch_size)\n",
    "\n",
    "\n",
    "        batch_test_losses.append(loss.item())\n",
    "\n",
    "    # calculate the epoch loss and accuracy\n",
    "    current_epoch_test_loss = np.mean(batch_test_losses)\n",
    "    current_epoch_test_acc = np.mean(batch_test_acc)\n",
    "\n",
    "# =============== Testing Done =========================\n",
    "\n",
    "    # save the losses\n",
    "    epoch_train_losses[epoch] = current_epoch_train_loss\n",
    "    epoch_test_losses[epoch] = current_epoch_test_loss\n",
    "    epoch_train_acc[epoch] = current_epoch_train_acc\n",
    "    epoch_test_acc[epoch] = current_epoch_test_acc\n",
    "\n",
    "    print(f\"Epoch:{epoch+1}, TrainLoss::{epoch_train_losses[epoch]:0.3f}, \"\n",
    "          f\"TestLoss::{epoch_test_losses[epoch]:0.3f}\")\n",
    "    print(f\"Epoch:{epoch+1}, TrainAcc::{epoch_train_acc[epoch]:0.3f}, \"\n",
    "          f\"TestAcc::{epoch_test_acc[epoch]:0.3f}\")\n",
    "    print(\"=\" * 50)"
   ],
   "metadata": {
    "collapsed": false,
    "pycharm": {
     "name": "#%%\n"
    }
   }
  },
  {
   "cell_type": "code",
   "execution_count": 169,
   "outputs": [
    {
     "data": {
      "text/plain": "<Figure size 1080x576 with 1 Axes>",
      "image/png": "[encoded data removed]"
     },
     "metadata": {},
     "output_type": "display_data"
    }
   ],
   "source": [
    "# plot the performance\n",
    "import pandas as pd\n",
    "epochx = range(1, epochs+1)\n",
    "plot_df = pd.DataFrame(data=np.c_[epochx,\n",
    "                                  epoch_train_losses,\n",
    "                                  epoch_test_losses,\n",
    "                                  epoch_train_acc,\n",
    "                                  epoch_test_acc],\n",
    "                       columns=['epochs',\n",
    "                                'train_loss',\n",
    "                                'test_loss',\n",
    "                                'train_acc',\n",
    "                                'test_acc'])\n",
    "\n",
    "# do the actual plots\n",
    "sns.set(font_scale=1)\n",
    "f, ax = plt.subplots(1, 1, figsize=(15,8))\n",
    "sns.lineplot(data=plot_df, x='epochs', y='train_loss', ax=ax,\n",
    "             label='train_loss', linewidth=3)\n",
    "sns.lineplot(data=plot_df, x='epochs', y='test_loss', ax=ax, label='test_loss',\n",
    "             linewidth=3)\n",
    "sns.lineplot(data=plot_df, x='epochs', y='train_acc', ax=ax,\n",
    "             label='train_acc', linewidth=3)\n",
    "sns.lineplot(data=plot_df, x='epochs', y='test_acc', ax=ax, label='test_acc',\n",
    "             linewidth=3)\n",
    "\n",
    "ax.set_ylabel('Loss')\n",
    "ax.set_xlabel('Epochs')\n",
    "plt.setp(ax.get_legend().get_texts(), fontsize='18');\n",
    "# for legend text"
   ],
   "metadata": {
    "collapsed": false,
    "pycharm": {
     "name": "#%%\n"
    }
   }
  },
  {
   "cell_type": "code",
   "execution_count": 168,
   "outputs": [],
   "source": [],
   "metadata": {
    "collapsed": false,
    "pycharm": {
     "name": "#%%\n"
    }
   }
  }
 ],
 "metadata": {
  "kernelspec": {
   "display_name": "Python 3",
   "language": "python",
   "name": "python3"
  },
  "language_info": {
   "codemirror_mode": {
    "name": "ipython",
    "version": 2
   },
   "file_extension": ".py",
   "mimetype": "text/x-python",
   "name": "python",
   "nbconvert_exporter": "python",
   "pygments_lexer": "ipython2",
   "version": "2.7.6"
  }
 },
 "nbformat": 4,
 "nbformat_minor": 0
}