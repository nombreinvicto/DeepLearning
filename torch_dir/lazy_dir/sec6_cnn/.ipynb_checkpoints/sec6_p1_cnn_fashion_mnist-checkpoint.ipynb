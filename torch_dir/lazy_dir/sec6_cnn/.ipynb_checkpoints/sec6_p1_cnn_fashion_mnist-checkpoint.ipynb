{
 "cells": [
  {
   "cell_type": "markdown",
   "metadata": {
    "id": "mW4XCIJP5y6h",
    "pycharm": {
     "name": "#%% md\n"
    }
   },
   "source": [
    "# Section - 6 CNN Fashion MNIST"
   ]
  },
  {
   "cell_type": "code",
   "execution_count": 1,
   "metadata": {
    "pycharm": {
     "name": "#%%\n"
    }
   },
   "outputs": [],
   "source": [
    "import sys, os, json\n",
    "import numpy as np\n",
    "import pandas as pd\n",
    "import seaborn as sns\n",
    "import argparse\n",
    "import matplotlib.pyplot as plt\n",
    "from matplotlib.figure import Figure\n",
    "from matplotlib.axes import Axes\n",
    "import time\n",
    "\n",
    "sns.set()"
   ]
  },
  {
   "cell_type": "code",
   "execution_count": 2,
   "metadata": {
    "pycharm": {
     "name": "#%%\n"
    }
   },
   "outputs": [],
   "source": [
    "import torch\n",
    "import torchvision\n",
    "from torch import nn\n",
    "from torch import optim\n",
    "import torch.nn.functional as F\n",
    "from torch.utils.data import DataLoader\n",
    "from torchvision import datasets, transforms, models"
   ]
  },
  {
   "cell_type": "code",
   "execution_count": 3,
   "metadata": {
    "pycharm": {
     "name": "#%%\n"
    }
   },
   "outputs": [],
   "source": [
    "# load the dataset\n",
    "train_dataset = datasets.FashionMNIST(\n",
    "    root=\".\",\n",
    "    train=True,\n",
    "    transform=transforms.ToTensor(),\n",
    "    download=True\n",
    ")"
   ]
  },
  {
   "cell_type": "code",
   "execution_count": 4,
   "metadata": {
    "pycharm": {
     "name": "#%%\n"
    }
   },
   "outputs": [
    {
     "data": {
      "text/plain": [
       "tensor(255, dtype=torch.uint8)"
      ]
     },
     "execution_count": 4,
     "metadata": {},
     "output_type": "execute_result"
    }
   ],
   "source": [
    "train_dataset.data.max()"
   ]
  },
  {
   "cell_type": "code",
   "execution_count": 5,
   "metadata": {
    "pycharm": {
     "name": "#%%\n"
    }
   },
   "outputs": [
    {
     "data": {
      "text/plain": [
       "torch.Size([60000, 28, 28])"
      ]
     },
     "execution_count": 5,
     "metadata": {},
     "output_type": "execute_result"
    }
   ],
   "source": [
    "train_dataset.data.shape"
   ]
  },
  {
   "cell_type": "code",
   "execution_count": 6,
   "metadata": {
    "pycharm": {
     "name": "#%%\n"
    }
   },
   "outputs": [
    {
     "data": {
      "text/plain": [
       "tensor([9, 0, 0,  ..., 3, 0, 5])"
      ]
     },
     "execution_count": 6,
     "metadata": {},
     "output_type": "execute_result"
    }
   ],
   "source": [
    "train_dataset.targets"
   ]
  },
  {
   "cell_type": "code",
   "execution_count": 7,
   "metadata": {
    "pycharm": {
     "name": "#%%\n"
    }
   },
   "outputs": [],
   "source": [
    "# load the test dataset\n",
    "test_dataset = datasets.FashionMNIST(\n",
    "    root=\".\",\n",
    "    train=False,\n",
    "    transform=transforms.ToTensor(),\n",
    "    download=True\n",
    ")"
   ]
  },
  {
   "cell_type": "code",
   "execution_count": 8,
   "metadata": {
    "pycharm": {
     "name": "#%%\n"
    }
   },
   "outputs": [
    {
     "name": "stdout",
     "output_type": "stream",
     "text": [
      "[INFO] no of classes: 10......\n"
     ]
    }
   ],
   "source": [
    "# number of classes\n",
    "no_of_classes = len(set(train_dataset.targets.numpy()))\n",
    "print(f\"[INFO] no of classes: {no_of_classes}......\")"
   ]
  },
  {
   "cell_type": "code",
   "execution_count": 9,
   "metadata": {
    "pycharm": {
     "name": "#%%\n"
    }
   },
   "outputs": [],
   "source": [
    "# build the model\n",
    "class CNN(nn.Module):\n",
    "    def __init__(self, K):\n",
    "        super(CNN, self).__init__()\n",
    "        self.conv_layers = nn.Sequential(\n",
    "            # channel in is 1 since grayscale image\n",
    "            # notice channels increasing in power of 2\n",
    "            nn.Conv2d(in_channels=1, out_channels=32, kernel_size=3, stride=2),\n",
    "            nn.ReLU(),\n",
    "            nn.Conv2d(in_channels=32, out_channels=64, kernel_size=3, stride=2),\n",
    "            nn.ReLU(),\n",
    "            nn.Conv2d(in_channels=64, out_channels=128, kernel_size=3, stride=2),\n",
    "            nn.ReLU(),\n",
    "        )\n",
    "\n",
    "        self.dense_layers = nn.Sequential(\n",
    "            # notice Droput only applied in fully connected layers\n",
    "            nn.Dropout(0.2),\n",
    "            nn.Linear(in_features=2 * 2 * 128, out_features=512),\n",
    "            nn.ReLU(),\n",
    "            nn.Dropout(0.2),\n",
    "            nn.Linear(512, no_of_classes)\n",
    "        )\n",
    "\n",
    "    def forward(self, x):\n",
    "        out = self.conv_layers(x)  # output is 2 x 2 x 128\n",
    "        out = out.view(out.size(0), -1)\n",
    "        out = self.dense_layers(out)  # out.size(0) gives the batch\n",
    "        return out"
   ]
  },
  {
   "cell_type": "code",
   "execution_count": 10,
   "metadata": {
    "pycharm": {
     "name": "#%%\n"
    }
   },
   "outputs": [],
   "source": [
    "# instantiate the model\n",
    "model = CNN(no_of_classes)"
   ]
  },
  {
   "cell_type": "code",
   "execution_count": 11,
   "metadata": {
    "pycharm": {
     "name": "#%%\n"
    }
   },
   "outputs": [
    {
     "name": "stdout",
     "output_type": "stream",
     "text": [
      "[INFO] device is: cuda:0......\n"
     ]
    }
   ],
   "source": [
    "# set the device for the project\n",
    "device = torch.device(\"cuda:0\" if torch.cuda.is_available() else \"cpu\")\n",
    "model.to(device)\n",
    "print(f\"[INFO] device is: {device}......\")"
   ]
  },
  {
   "cell_type": "code",
   "execution_count": 12,
   "metadata": {
    "pycharm": {
     "name": "#%%\n"
    }
   },
   "outputs": [],
   "source": [
    "# instantiate loss and optimizaers\n",
    "criterion = nn.CrossEntropyLoss()  # expects raw logits from model\n",
    "optimizer = optim.Adam(model.parameters())"
   ]
  },
  {
   "cell_type": "code",
   "execution_count": 13,
   "metadata": {
    "pycharm": {
     "name": "#%%\n"
    }
   },
   "outputs": [],
   "source": [
    "# create the data loaders\n",
    "batch_size=128\n",
    "train_loader = DataLoader(dataset=train_dataset,\n",
    "                          batch_size=batch_size, shuffle=True)\n",
    "test_loader = DataLoader(dataset=test_dataset,\n",
    "                         batch_size=batch_size, shuffle=False)"
   ]
  },
  {
   "cell_type": "code",
   "execution_count": 14,
   "metadata": {
    "pycharm": {
     "name": "#%%\n"
    }
   },
   "outputs": [],
   "source": [
    "# train the model\n",
    "def batch_gd(model: nn.Module, criterion, optimizer, epochs, batch_size=128):\n",
    "\n",
    "    # initialise the loass arrays\n",
    "    train_losses_for_epochs = np.zeros(epochs)\n",
    "    test_losses_for_epochs = np.zeros(epochs)\n",
    "\n",
    "    # start the training loops\n",
    "    for i in range(epochs):\n",
    "        # initialise the batch losss arrays\n",
    "        train_losses_for_batches = []\n",
    "        test_losses_for_batches = []\n",
    "\n",
    "        model.train()  # turn on dropout and batch norm\n",
    "        t0 = time.time()\n",
    "\n",
    "        # inputs is batch_size x 1 x 28 x 28 and target is 1D size batch_size\n",
    "        for inputs, targets in train_loader:\n",
    "            #move data to GPU\n",
    "            inputs, targets = inputs.to(device), targets.to(device)\n",
    "\n",
    "            # zero the optimizer\n",
    "            optimizer.zero_grad()\n",
    "\n",
    "            # forward pass\n",
    "            outputs = model(inputs)\n",
    "            loss = criterion(outputs, targets)\n",
    "\n",
    "            # backward step and optimize\n",
    "            loss.backward()\n",
    "            optimizer.step()\n",
    "\n",
    "            # store the average batch loss\n",
    "            train_losses_for_batches.append(loss.item())\n",
    "\n",
    "        # once 1 loop of training is done\n",
    "        train_losses_for_epochs[i] = np.mean(train_losses_for_batches)\n",
    "\n",
    "        # now evaluating the model\n",
    "        model.eval()\n",
    "        for inputs, targets in test_loader:\n",
    "            inputs, targets = inputs.to(device), targets.to(device)\n",
    "            outputs = model(inputs)\n",
    "            loss = criterion(outputs, targets)\n",
    "            test_losses_for_batches.append(loss.item())\n",
    "\n",
    "        # once a loop of eval done\n",
    "        test_losses_for_epochs[i] = np.mean(test_losses_for_batches)\n",
    "\n",
    "        dt = time.time() - t0\n",
    "\n",
    "        print(f\"[INFO] epoch: {i+1}/{epochs} with train_loss: {train_losses_for_epochs[i]: 0.4f} and test_loss: {test_losses_for_epochs[i]: 0.4f} and duration: {dt:0.3f}.....\")\n",
    "\n",
    "    return train_losses_for_epochs, test_losses_for_epochs\n"
   ]
  },
  {
   "cell_type": "code",
   "execution_count": 15,
   "metadata": {
    "pycharm": {
     "name": "#%%\n"
    }
   },
   "outputs": [
    {
     "name": "stdout",
     "output_type": "stream",
     "text": [
      "[INFO] epoch: 1/15 with train_loss:  0.6526 and test_loss:  0.4862 and duration: 33.170.....\n",
      "[INFO] epoch: 2/15 with train_loss:  0.4392 and test_loss:  0.4003 and duration: 25.559.....\n",
      "[INFO] epoch: 3/15 with train_loss:  0.3816 and test_loss:  0.3822 and duration: 29.705.....\n",
      "[INFO] epoch: 4/15 with train_loss:  0.3419 and test_loss:  0.3329 and duration: 31.284.....\n",
      "[INFO] epoch: 5/15 with train_loss:  0.3165 and test_loss:  0.3177 and duration: 31.100.....\n",
      "[INFO] epoch: 6/15 with train_loss:  0.2909 and test_loss:  0.3033 and duration: 31.333.....\n",
      "[INFO] epoch: 7/15 with train_loss:  0.2718 and test_loss:  0.2959 and duration: 36.934.....\n",
      "[INFO] epoch: 8/15 with train_loss:  0.2570 and test_loss:  0.2925 and duration: 31.916.....\n",
      "[INFO] epoch: 9/15 with train_loss:  0.2432 and test_loss:  0.2827 and duration: 36.427.....\n",
      "[INFO] epoch: 10/15 with train_loss:  0.2295 and test_loss:  0.2815 and duration: 31.932.....\n",
      "[INFO] epoch: 11/15 with train_loss:  0.2165 and test_loss:  0.2780 and duration: 39.184.....\n",
      "[INFO] epoch: 12/15 with train_loss:  0.2064 and test_loss:  0.2856 and duration: 55.024.....\n",
      "[INFO] epoch: 13/15 with train_loss:  0.1947 and test_loss:  0.2793 and duration: 36.290.....\n",
      "[INFO] epoch: 14/15 with train_loss:  0.1831 and test_loss:  0.2826 and duration: 33.952.....\n",
      "[INFO] epoch: 15/15 with train_loss:  0.1769 and test_loss:  0.2851 and duration: 49.310.....\n"
     ]
    }
   ],
   "source": [
    "train_losses, test_losses = batch_gd(model=model,\n",
    "                                     criterion=criterion,\n",
    "                                     optimizer=optimizer,\n",
    "                                     epochs=15)"
   ]
  },
  {
   "cell_type": "code",
   "execution_count": 16,
   "metadata": {
    "pycharm": {
     "name": "#%%\n"
    }
   },
   "outputs": [
    {
     "data": {
      "image/png": "[encoded data removed]",
      "text/plain": [
       "<Figure size 864x576 with 1 Axes>"
      ]
     },
     "metadata": {},
     "output_type": "display_data"
    }
   ],
   "source": [
    "sns.set(font_scale=1)\n",
    "f, ax = plt.subplots(1, 1, figsize=(12, 8)) # type: Figure, Axes\n",
    "x_epochs = np.arange(15) + 1\n",
    "sns.lineplot(x=x_epochs, y=train_losses, color=\"blue\", label=\"train_loss\", ax=ax)\n",
    "sns.lineplot(x=x_epochs, y=test_losses, color=\"red\", label=\"test_loss\", ax=ax)\n",
    "ax.set_xlabel(\"Epochs\")\n",
    "ax.set_ylabel(\"Loss\");"
   ]
  },
  {
   "cell_type": "code",
   "execution_count": 17,
   "metadata": {
    "pycharm": {
     "name": "#%%\n"
    }
   },
   "outputs": [
    {
     "name": "stdout",
     "output_type": "stream",
     "text": [
      "[INFO] train_acc: 0.95115......\n"
     ]
    }
   ],
   "source": [
    "# calculate the model accuracies for train and test\n",
    "model.eval()\n",
    "\n",
    "total_corrects_in_train = 0\n",
    "total_corrects_in_test = 0\n",
    "total_train_samples = 0\n",
    "\n",
    "for inputs, targets in train_loader:\n",
    "    inputs, targets = inputs.to(device), targets.to(device)\n",
    "    outputs = model(inputs) # remember these are logits of size batch x no_of_clas\n",
    "    max_val, index = torch.max(outputs, dim=1)\n",
    "    no_correct_in_batch = (targets == index).sum().item()\n",
    "    total_corrects_in_train += no_correct_in_batch\n",
    "    total_train_samples += targets.shape[0]\n",
    "train_acc = total_corrects_in_train / total_train_samples\n",
    "print(f\"[INFO] train_acc: {train_acc}......\")"
   ]
  },
  {
   "cell_type": "code",
   "execution_count": 18,
   "metadata": {
    "pycharm": {
     "name": "#%%\n"
    }
   },
   "outputs": [
    {
     "name": "stdout",
     "output_type": "stream",
     "text": [
      "[INFO] test_acc: 0.9041......\n"
     ]
    }
   ],
   "source": [
    "model.eval()\n",
    "\n",
    "total_corrects_in_test = 0\n",
    "total_test_samples = 0\n",
    "\n",
    "for inputs, targets in test_loader:\n",
    "    inputs, targets = inputs.to(device), targets.to(device)\n",
    "    outputs = model(inputs) # remember these are logits of size batch x no_of_clas\n",
    "    max_val, index = torch.max(outputs, dim=1)\n",
    "    no_correct_in_batch = (targets == index).sum().item()\n",
    "    total_corrects_in_test += no_correct_in_batch\n",
    "    total_test_samples += targets.shape[0]\n",
    "test_acc = total_corrects_in_test / total_test_samples\n",
    "print(f\"[INFO] test_acc: {test_acc}......\")"
   ]
  },
  {
   "cell_type": "code",
   "execution_count": 19,
   "metadata": {
    "pycharm": {
     "name": "#%%\n"
    }
   },
   "outputs": [
    {
     "data": {
      "text/plain": [
       "10000"
      ]
     },
     "execution_count": 19,
     "metadata": {},
     "output_type": "execute_result"
    }
   ],
   "source": [
    "total_test_samples"
   ]
  },
  {
   "cell_type": "code",
   "execution_count": 20,
   "metadata": {
    "pycharm": {
     "name": "#%%\n"
    }
   },
   "outputs": [],
   "source": [
    "# get all true targets and predictions\n",
    "p_test = np.array([])\n",
    "y_test = np.array([])\n",
    "x_test = test_dataset.data.numpy()\n",
    "model.eval()\n",
    "for inputs, targets in test_loader:\n",
    "        inputs, targets = inputs.to(device), targets.to(device)\n",
    "        outputs = model(inputs)\n",
    "        max_vals, preds = torch.max(outputs, dim=1)\n",
    "        p_test = np.concatenate((p_test, preds.cpu().numpy()))\n",
    "        y_test = np.concatenate((y_test, targets.cpu().numpy()))"
   ]
  },
  {
   "cell_type": "code",
   "execution_count": 21,
   "metadata": {
    "pycharm": {
     "name": "#%%\n"
    }
   },
   "outputs": [
    {
     "data": {
      "text/plain": [
       "9041"
      ]
     },
     "execution_count": 21,
     "metadata": {},
     "output_type": "execute_result"
    }
   ],
   "source": [
    "(p_test == y_test).sum()"
   ]
  },
  {
   "cell_type": "code",
   "execution_count": 22,
   "metadata": {
    "pycharm": {
     "name": "#%%\n"
    }
   },
   "outputs": [
    {
     "data": {
      "image/png": "[encoded data removed]",
      "text/plain": [
       "<Figure size 720x504 with 2 Axes>"
      ]
     },
     "metadata": {},
     "output_type": "display_data"
    }
   ],
   "source": [
    "from sklearn.metrics import confusion_matrix\n",
    "\n",
    "cm = confusion_matrix(y_test, p_test)\n",
    "def print_confusion_matrix(confusion_matrix, class_names, figsize = (10,7), fontsize=14):\n",
    "    \n",
    "    df_cm = pd.DataFrame(confusion_matrix, index=class_names, columns=class_names)\n",
    "    fig = plt.figure(figsize=figsize)\n",
    "    \n",
    "    try:\n",
    "        heatmap = sns.heatmap(df_cm, annot=True, fmt=\"d\", cmap='viridis')\n",
    "    except ValueError:\n",
    "        raise ValueError(\"Confusion matrix values must be integers\")\n",
    "        \n",
    "    heatmap.yaxis.set_ticklabels(heatmap.yaxis.get_ticklabels(), rotation=0, ha='right', fontsize=fontsize)\n",
    "    heatmap.xaxis.set_ticklabels(heatmap.xaxis.get_ticklabels(), rotation=45, ha='right', fontsize=fontsize)\n",
    "    plt.ylabel('True label')\n",
    "    plt.xlabel('Predicted label')\n",
    "\n",
    "print_confusion_matrix(cm, class_names=['tshirt', 'trouser', 'pullover', 'dress', 'coat', 'sandal', 'shirt', 'sneaker', 'bag', 'ankle_boot'])"
   ]
  },
  {
   "cell_type": "code",
   "execution_count": 23,
   "metadata": {
    "pycharm": {
     "name": "#%%\n"
    }
   },
   "outputs": [],
   "source": [
    "# show samples missclassified\n",
    "class_names = ['tshirt', 'trouser', 'pullover', 'dress', 'coat', 'sandal', 'shirt', 'sneaker', 'bag', 'ankle_boot']\n",
    "class_names_dict = {i:class_name for i,class_name in enumerate(class_names)}\n",
    "miss_classified_indices = np.where(p_test != y_test)[0]"
   ]
  },
  {
   "cell_type": "code",
   "execution_count": 24,
   "metadata": {
    "pycharm": {
     "name": "#%%\n"
    }
   },
   "outputs": [
    {
     "data": {
      "text/plain": [
       "(959,)"
      ]
     },
     "execution_count": 24,
     "metadata": {},
     "output_type": "execute_result"
    }
   ],
   "source": [
    "miss_classified_indices.shape"
   ]
  },
  {
   "cell_type": "code",
   "execution_count": 25,
   "metadata": {
    "pycharm": {
     "name": "#%%\n"
    }
   },
   "outputs": [
    {
     "name": "stdout",
     "output_type": "stream",
     "text": [
      "Actual Label: pullover\n",
      "True Label: shirt\n"
     ]
    },
    {
     "data": {
      "text/plain": [
       "<matplotlib.image.AxesImage at 0x2d09775cef0>"
      ]
     },
     "execution_count": 25,
     "metadata": {},
     "output_type": "execute_result"
    },
    {
     "data": {
      "image/png": "[encoded data removed]",
      "text/plain": [
       "<Figure size 432x288 with 1 Axes>"
      ]
     },
     "metadata": {},
     "output_type": "display_data"
    }
   ],
   "source": [
    "# randomly choose sample\n",
    "random_ix = np.random.choice(miss_classified_indices)\n",
    "random_x = x_test[random_ix]\n",
    "random_y = y_test[random_ix]\n",
    "random_p = p_test[random_ix]\n",
    "\n",
    "# plot the random pic\n",
    "print(f\"Actual Label: {class_names_dict[random_y]}\")\n",
    "print(f\"True Label: {class_names_dict[random_p]}\")\n",
    "plt.imshow(random_x, cmap=\"gray\")"
   ]
  },
  {
   "cell_type": "code",
   "execution_count": null,
   "metadata": {
    "id": "YTJtC6AgOb6X",
    "pycharm": {
     "name": "#%%\n"
    }
   },
   "outputs": [],
   "source": []
  }
 ],
 "metadata": {
  "accelerator": "GPU",
  "colab": {
   "collapsed_sections": [],
   "machine_shape": "hm",
   "name": "sec6_p1_cnn_fashion_mnist.ipynb",
   "provenance": []
  },
  "kernelspec": {
   "display_name": "Python 3",
   "language": "python",
   "name": "python3"
  },
  "language_info": {
   "codemirror_mode": {
    "name": "ipython",
    "version": 3
   },
   "file_extension": ".py",
   "mimetype": "text/x-python",
   "name": "python",
   "nbconvert_exporter": "python",
   "pygments_lexer": "ipython3",
   "version": "3.6.5"
  }
 },
 "nbformat": 4,
 "nbformat_minor": 1
}
