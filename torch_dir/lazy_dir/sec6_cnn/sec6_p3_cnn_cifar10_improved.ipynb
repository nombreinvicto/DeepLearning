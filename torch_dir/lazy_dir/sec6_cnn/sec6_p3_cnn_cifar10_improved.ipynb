{
 "cells": [
  {
   "cell_type": "code",
   "execution_count": 1,
   "metadata": {
    "id": "Ulom4hwyZ907",
    "pycharm": {
     "name": "#%%\n"
    }
   },
   "outputs": [],
   "source": [
    "import sys, os, json, time\n",
    "import numpy as np\n",
    "import pandas as pd\n",
    "import seaborn as sns\n",
    "import argparse, progressbar\n",
    "import matplotlib.pyplot as plt\n",
    "from matplotlib.figure import Figure\n",
    "from matplotlib.axes import Axes\n",
    "\n",
    "sns.set()"
   ]
  },
  {
   "cell_type": "code",
   "execution_count": 2,
   "metadata": {
    "id": "pNGsn0sdZ91B",
    "pycharm": {
     "name": "#%%\n"
    }
   },
   "outputs": [],
   "source": [
    "import torch\n",
    "import torchvision\n",
    "from torch import nn\n",
    "from torch import optim\n",
    "import torch.nn.functional as F\n",
    "from torch.utils.data import DataLoader\n",
    "from torchvision import datasets, transforms, models"
   ]
  },
  {
   "cell_type": "code",
   "execution_count": 3,
   "metadata": {
    "colab": {
     "base_uri": "https://localhost:8080/",
     "height": 103,
     "referenced_widgets": [
      "f43d1354d40c4282994b4bfbc3298ccd",
      "e4aee15186c9478ab65fa97400ceb8d8",
      "b822531d504b4d02a76b6d498207862b",
      "ebb032e68a3142179e5e69f55bf8825d",
      "e4d007581af841bb80b8eee215c117a9",
      "de6afeee9c824f9f9e10ab80318495fc",
      "11a9176dc98844c3be85cb97cdc97545",
      "3ebd62f7cf234633b4520a4ac1fa9dae",
      "878df470188f4201b67ace18dbdd7535",
      "a1e2952bf3924c0f95715de99507f7a4",
      "fce1d5932be746d8b0357a72b0b64f8c"
     ]
    },
    "id": "U3W8neEaZ91D",
    "outputId": "b91b64cc-a33c-4429-911c-69add8f64bd1",
    "pycharm": {
     "name": "#%%\n"
    }
   },
   "outputs": [
    {
     "name": "stdout",
     "output_type": "stream",
     "text": [
      "Downloading https://www.cs.toronto.edu/~kriz/cifar-10-python.tar.gz to ./cifar-10-python.tar.gz\n"
     ]
    },
    {
     "data": {
      "application/vnd.jupyter.widget-view+json": {
       "model_id": "f43d1354d40c4282994b4bfbc3298ccd",
       "version_major": 2,
       "version_minor": 0
      },
      "text/plain": [
       "  0%|          | 0/170498071 [00:00<?, ?it/s]"
      ]
     },
     "metadata": {},
     "output_type": "display_data"
    },
    {
     "name": "stdout",
     "output_type": "stream",
     "text": [
      "Extracting ./cifar-10-python.tar.gz to .\n",
      "Files already downloaded and verified\n"
     ]
    }
   ],
   "source": [
    "# transformer for data augmentation\n",
    "train_transformer = transforms.Compose([\n",
    "    transforms.RandomCrop(size=32, padding=4),\n",
    "    transforms.RandomHorizontalFlip(p=0.5),\n",
    "    transforms.RandomAffine(degrees=0, translate=(0.1, 0.1)),\n",
    "    transforms.ToTensor(),\n",
    "])\n",
    "\n",
    "train_dataset = datasets.CIFAR10(\n",
    "    root=\".\",\n",
    "    train=True,\n",
    "    transform=train_transformer,\n",
    "    download=True\n",
    ")\n",
    "\n",
    "test_dataset = datasets.CIFAR10(\n",
    "    root=\".\",\n",
    "    train=False,\n",
    "    transform=transforms.ToTensor(),\n",
    "    download=True\n",
    ")"
   ]
  },
  {
   "cell_type": "code",
   "execution_count": 4,
   "metadata": {
    "colab": {
     "base_uri": "https://localhost:8080/"
    },
    "id": "E-ylKowsZ91I",
    "outputId": "7fe33665-c5f6-4a07-edc5-8085cbbc4377",
    "pycharm": {
     "name": "#%%\n"
    }
   },
   "outputs": [
    {
     "name": "stdout",
     "output_type": "stream",
     "text": [
      "[INFO] train_dataset_shape: (50000, 32, 32, 3)......\n",
      "[INFO] test_dataset_shape: (10000, 32, 32, 3)......\n"
     ]
    }
   ],
   "source": [
    "# explore the datasets a little\n",
    "train_dataset_shape = train_dataset.data.shape\n",
    "print(f\"[INFO] train_dataset_shape: {train_dataset_shape}......\")\n",
    "\n",
    "test_dataset_shape = test_dataset.data.shape\n",
    "print(f\"[INFO] test_dataset_shape: {test_dataset_shape}......\")"
   ]
  },
  {
   "cell_type": "code",
   "execution_count": 5,
   "metadata": {
    "colab": {
     "base_uri": "https://localhost:8080/"
    },
    "id": "qjDY4CJ3Z91J",
    "outputId": "dbb88b5e-a831-4485-aacb-7212a1617a91",
    "pycharm": {
     "name": "#%%\n"
    }
   },
   "outputs": [
    {
     "name": "stdout",
     "output_type": "stream",
     "text": [
      "[INFO] there are total 10 unique classes......\n"
     ]
    }
   ],
   "source": [
    "# evaluate the unique no of classes\n",
    "num_classes = len(set(train_dataset.targets))\n",
    "print(f\"[INFO] there are total {num_classes} unique classes......\")"
   ]
  },
  {
   "cell_type": "code",
   "execution_count": 6,
   "metadata": {
    "id": "A81lxTgGZ91L",
    "pycharm": {
     "name": "#%%\n"
    }
   },
   "outputs": [],
   "source": [
    "# now create the dataloaders\n",
    "batch_size = 128\n",
    "train_loader = DataLoader(\n",
    "    dataset=train_dataset,\n",
    "    batch_size=batch_size,\n",
    "    shuffle=True\n",
    ")\n",
    "\n",
    "test_loader = DataLoader(\n",
    "    dataset=test_dataset,\n",
    "    batch_size=batch_size,\n",
    "    shuffle=False\n",
    ")"
   ]
  },
  {
   "cell_type": "code",
   "execution_count": 7,
   "metadata": {
    "id": "6WCpQtq3Z91N",
    "pycharm": {
     "name": "#%%\n"
    }
   },
   "outputs": [],
   "source": [
    "# define the CNN model\n",
    "class CNN(nn.Module):\n",
    "    def __init__(self, num_classes):\n",
    "        super(CNN, self).__init__()\n",
    "\n",
    "        # define conv layers\n",
    "        self.conv1 = nn.Sequential(\n",
    "            # padding p = 1 so that output same size. basically \"same\" padding\n",
    "            nn.Conv2d(3, 32, kernel_size=3, padding=1),\n",
    "            nn.ReLU(),\n",
    "            nn.BatchNorm2d(32),\n",
    "            nn.Conv2d(32, 32, kernel_size=3, padding=1),\n",
    "            nn.ReLU(),\n",
    "            nn.BatchNorm2d(32),\n",
    "            # output should now be 16 x 16 x 32\n",
    "            nn.MaxPool2d(2)\n",
    "        )\n",
    "\n",
    "        self.conv2 = nn.Sequential(\n",
    "            nn.Conv2d(32, 64, kernel_size=3, padding=1),\n",
    "            nn.ReLU(),\n",
    "            nn.BatchNorm2d(64),\n",
    "            nn.Conv2d(64, 64, kernel_size=3, padding=1),\n",
    "            nn.ReLU(),\n",
    "            nn.BatchNorm2d(64),\n",
    "            # output should now be 8 x 8 x 64\n",
    "            nn.MaxPool2d(2)\n",
    "        )\n",
    "\n",
    "        self.conv3 = nn.Sequential(\n",
    "            nn.Conv2d(64, 128, kernel_size=3, padding=1),\n",
    "            nn.ReLU(),\n",
    "            nn.BatchNorm2d(128),\n",
    "            nn.Conv2d(128, 128, kernel_size=3, padding=1),\n",
    "            nn.ReLU(),\n",
    "            nn.BatchNorm2d(128),\n",
    "            # output should now be 4 x 4 x 128\n",
    "            nn.MaxPool2d(2)\n",
    "        )\n",
    "\n",
    "        # output of last conv is 3 x 3 activation map\n",
    "        # define linear layers\n",
    "        self.fc1 = nn.Linear(128 * 4 * 4, 1024)\n",
    "        self.fc2 = nn.Linear(1024, num_classes)\n",
    "\n",
    "    def forward(self, x):\n",
    "        # different - we are using Functional module\n",
    "        x = self.conv1(x)\n",
    "        x = self.conv2(x)\n",
    "        x = self.conv3(x)\n",
    "        x = x.view(x.size(0), -1)\n",
    "        x = F.dropout(x, p=0.5)\n",
    "        x = F.relu(self.fc1(x))\n",
    "        x = F.dropout(x, p=0.2)\n",
    "        x = self.fc2(x)\n",
    "\n",
    "        return x"
   ]
  },
  {
   "cell_type": "code",
   "execution_count": 8,
   "metadata": {
    "colab": {
     "base_uri": "https://localhost:8080/"
    },
    "id": "Yi8cLGVRZ91O",
    "outputId": "384c20fe-c9b8-4f31-fba5-4fc861bb2835",
    "pycharm": {
     "name": "#%%\n"
    }
   },
   "outputs": [
    {
     "name": "stdout",
     "output_type": "stream",
     "text": [
      "[INFO] available device: cuda:0......\n"
     ]
    },
    {
     "data": {
      "text/plain": [
       "CNN(\n",
       "  (conv1): Sequential(\n",
       "    (0): Conv2d(3, 32, kernel_size=(3, 3), stride=(1, 1), padding=(1, 1))\n",
       "    (1): ReLU()\n",
       "    (2): BatchNorm2d(32, eps=1e-05, momentum=0.1, affine=True, track_running_stats=True)\n",
       "    (3): Conv2d(32, 32, kernel_size=(3, 3), stride=(1, 1), padding=(1, 1))\n",
       "    (4): ReLU()\n",
       "    (5): BatchNorm2d(32, eps=1e-05, momentum=0.1, affine=True, track_running_stats=True)\n",
       "    (6): MaxPool2d(kernel_size=2, stride=2, padding=0, dilation=1, ceil_mode=False)\n",
       "  )\n",
       "  (conv2): Sequential(\n",
       "    (0): Conv2d(32, 64, kernel_size=(3, 3), stride=(1, 1), padding=(1, 1))\n",
       "    (1): ReLU()\n",
       "    (2): BatchNorm2d(64, eps=1e-05, momentum=0.1, affine=True, track_running_stats=True)\n",
       "    (3): Conv2d(64, 64, kernel_size=(3, 3), stride=(1, 1), padding=(1, 1))\n",
       "    (4): ReLU()\n",
       "    (5): BatchNorm2d(64, eps=1e-05, momentum=0.1, affine=True, track_running_stats=True)\n",
       "    (6): MaxPool2d(kernel_size=2, stride=2, padding=0, dilation=1, ceil_mode=False)\n",
       "  )\n",
       "  (conv3): Sequential(\n",
       "    (0): Conv2d(64, 128, kernel_size=(3, 3), stride=(1, 1), padding=(1, 1))\n",
       "    (1): ReLU()\n",
       "    (2): BatchNorm2d(128, eps=1e-05, momentum=0.1, affine=True, track_running_stats=True)\n",
       "    (3): Conv2d(128, 128, kernel_size=(3, 3), stride=(1, 1), padding=(1, 1))\n",
       "    (4): ReLU()\n",
       "    (5): BatchNorm2d(128, eps=1e-05, momentum=0.1, affine=True, track_running_stats=True)\n",
       "    (6): MaxPool2d(kernel_size=2, stride=2, padding=0, dilation=1, ceil_mode=False)\n",
       "  )\n",
       "  (fc1): Linear(in_features=2048, out_features=1024, bias=True)\n",
       "  (fc2): Linear(in_features=1024, out_features=10, bias=True)\n",
       ")"
      ]
     },
     "execution_count": 8,
     "metadata": {},
     "output_type": "execute_result"
    }
   ],
   "source": [
    "# set device and instantiate model\n",
    "model = CNN(num_classes=num_classes)\n",
    "\n",
    "device = \"cuda:0\" if torch.cuda.is_available() else \"cpu\"\n",
    "print(f\"[INFO] available device: {device}......\")\n",
    "\n",
    "# move model to device\n",
    "model.to(device=device)"
   ]
  },
  {
   "cell_type": "code",
   "execution_count": 9,
   "metadata": {
    "id": "tifQCchLZ91O",
    "pycharm": {
     "name": "#%%\n"
    }
   },
   "outputs": [],
   "source": [
    "# set the criterions and the optimizer\n",
    "criterion = nn.CrossEntropyLoss()\n",
    "optimizer = optim.Adam(model.parameters())"
   ]
  },
  {
   "cell_type": "code",
   "execution_count": 10,
   "metadata": {
    "id": "kVg1YcCJZ91R",
    "pycharm": {
     "name": "#%%\n"
    }
   },
   "outputs": [],
   "source": [
    "# function to train the model\n",
    "def batch_gd(model: nn.Module,\n",
    "             criterion: nn.CrossEntropyLoss,\n",
    "             optimizer: optim.Adam,\n",
    "             train_loader: DataLoader,\n",
    "             test_loader: DataLoader,\n",
    "             epochs: int):\n",
    "    # initalise the loss arrays\n",
    "    epoch_train_losses = np.zeros(epochs)\n",
    "    epoch_test_losses = np.zeros(epochs)\n",
    "\n",
    "    # start the training loop\n",
    "    for epoch in range(epochs):\n",
    "        # set mode to model train to turn on dropout, batchnorm\n",
    "        model.train()\n",
    "        start_epoch = time.time()\n",
    "        batch_train_losses = []\n",
    "        batch_test_losses = []\n",
    "\n",
    "        for inputs, targets in train_loader:\n",
    "            # move data to device\n",
    "            inputs, targets = inputs.to(device), targets.to(device)\n",
    "\n",
    "            # zero the optimizer\n",
    "            optimizer.zero_grad()\n",
    "\n",
    "            # forward pass\n",
    "            outputs = model(inputs)\n",
    "            loss = criterion(outputs, targets)\n",
    "\n",
    "            # backward step and optimize\n",
    "            loss.backward()\n",
    "            optimizer.step()\n",
    "            batch_train_losses.append(loss.item())\n",
    "\n",
    "        # now start the eval loop\n",
    "        for inputs, targets in test_loader:\n",
    "            model.eval()\n",
    "            inputs, targets = inputs.to(device), targets.to(device)\n",
    "            outputs = model(inputs)\n",
    "            loss = criterion(outputs, targets)\n",
    "            batch_test_losses.append(loss.item())\n",
    "\n",
    "        # after everything is done\n",
    "        end_epoch = time.time()\n",
    "        epoch_train_loss = np.mean(batch_train_losses)\n",
    "        epoch_test_loss = np.mean(batch_test_losses)\n",
    "        epoch_train_losses[epoch] = epoch_train_loss\n",
    "        epoch_test_losses[epoch] = epoch_test_loss\n",
    "\n",
    "        print(f\"[INFO] epoch: {epoch + 1} with train_loss: {epoch_train_loss: 0.3f} and test_loss: {epoch_test_loss: 0.3f} took {end_epoch - start_epoch: 0.3f} seconds......\")\n",
    "\n",
    "    return epoch_train_losses, epoch_test_losses"
   ]
  },
  {
   "cell_type": "code",
   "execution_count": 11,
   "metadata": {
    "colab": {
     "base_uri": "https://localhost:8080/"
    },
    "id": "XrBIRQVOZ91R",
    "outputId": "3ca22df7-fda5-4c46-e341-9883c93c4f39",
    "pycharm": {
     "name": "#%%\n"
    }
   },
   "outputs": [
    {
     "name": "stdout",
     "output_type": "stream",
     "text": [
      "[INFO] epoch: 1 with train_loss:  1.430 and test_loss:  1.058 took  22.738 seconds......\n",
      "[INFO] epoch: 2 with train_loss:  1.021 and test_loss:  0.918 took  21.820 seconds......\n",
      "[INFO] epoch: 3 with train_loss:  0.850 and test_loss:  0.802 took  21.490 seconds......\n",
      "[INFO] epoch: 4 with train_loss:  0.756 and test_loss:  0.711 took  21.676 seconds......\n",
      "[INFO] epoch: 5 with train_loss:  0.687 and test_loss:  0.748 took  21.365 seconds......\n",
      "[INFO] epoch: 6 with train_loss:  0.640 and test_loss:  0.622 took  21.439 seconds......\n",
      "[INFO] epoch: 7 with train_loss:  0.604 and test_loss:  0.670 took  21.705 seconds......\n",
      "[INFO] epoch: 8 with train_loss:  0.573 and test_loss:  0.615 took  21.461 seconds......\n",
      "[INFO] epoch: 9 with train_loss:  0.549 and test_loss:  0.588 took  21.685 seconds......\n",
      "[INFO] epoch: 10 with train_loss:  0.524 and test_loss:  0.532 took  21.633 seconds......\n",
      "[INFO] epoch: 11 with train_loss:  0.506 and test_loss:  0.543 took  21.546 seconds......\n",
      "[INFO] epoch: 12 with train_loss:  0.489 and test_loss:  0.544 took  21.548 seconds......\n",
      "[INFO] epoch: 13 with train_loss:  0.474 and test_loss:  0.465 took  21.690 seconds......\n",
      "[INFO] epoch: 14 with train_loss:  0.454 and test_loss:  0.496 took  21.619 seconds......\n",
      "[INFO] epoch: 15 with train_loss:  0.447 and test_loss:  0.485 took  21.592 seconds......\n",
      "[INFO] epoch: 16 with train_loss:  0.439 and test_loss:  0.465 took  21.503 seconds......\n",
      "[INFO] epoch: 17 with train_loss:  0.421 and test_loss:  0.469 took  21.499 seconds......\n",
      "[INFO] epoch: 18 with train_loss:  0.411 and test_loss:  0.506 took  21.676 seconds......\n",
      "[INFO] epoch: 19 with train_loss:  0.400 and test_loss:  0.453 took  21.502 seconds......\n",
      "[INFO] epoch: 20 with train_loss:  0.395 and test_loss:  0.487 took  21.465 seconds......\n",
      "[INFO] epoch: 21 with train_loss:  0.389 and test_loss:  0.467 took  21.772 seconds......\n",
      "[INFO] epoch: 22 with train_loss:  0.380 and test_loss:  0.461 took  21.629 seconds......\n",
      "[INFO] epoch: 23 with train_loss:  0.361 and test_loss:  0.607 took  21.496 seconds......\n",
      "[INFO] epoch: 24 with train_loss:  0.360 and test_loss:  0.422 took  21.572 seconds......\n",
      "[INFO] epoch: 25 with train_loss:  0.357 and test_loss:  0.430 took  21.669 seconds......\n",
      "[INFO] epoch: 26 with train_loss:  0.348 and test_loss:  0.496 took  21.541 seconds......\n",
      "[INFO] epoch: 27 with train_loss:  0.342 and test_loss:  0.437 took  21.547 seconds......\n",
      "[INFO] epoch: 28 with train_loss:  0.330 and test_loss:  0.443 took  21.735 seconds......\n",
      "[INFO] epoch: 29 with train_loss:  0.327 and test_loss:  0.418 took  21.572 seconds......\n",
      "[INFO] epoch: 30 with train_loss:  0.326 and test_loss:  0.399 took  21.727 seconds......\n",
      "[INFO] epoch: 31 with train_loss:  0.314 and test_loss:  0.409 took  21.548 seconds......\n",
      "[INFO] epoch: 32 with train_loss:  0.312 and test_loss:  0.396 took  21.724 seconds......\n",
      "[INFO] epoch: 33 with train_loss:  0.309 and test_loss:  0.418 took  21.647 seconds......\n",
      "[INFO] epoch: 34 with train_loss:  0.305 and test_loss:  0.409 took  21.639 seconds......\n",
      "[INFO] epoch: 35 with train_loss:  0.297 and test_loss:  0.398 took  21.632 seconds......\n",
      "[INFO] epoch: 36 with train_loss:  0.290 and test_loss:  0.404 took  21.553 seconds......\n",
      "[INFO] epoch: 37 with train_loss:  0.282 and test_loss:  0.404 took  21.595 seconds......\n",
      "[INFO] epoch: 38 with train_loss:  0.283 and test_loss:  0.505 took  21.674 seconds......\n",
      "[INFO] epoch: 39 with train_loss:  0.282 and test_loss:  0.399 took  21.547 seconds......\n",
      "[INFO] epoch: 40 with train_loss:  0.274 and test_loss:  0.439 took  21.441 seconds......\n",
      "[INFO] epoch: 41 with train_loss:  0.273 and test_loss:  0.383 took  21.502 seconds......\n",
      "[INFO] epoch: 42 with train_loss:  0.269 and test_loss:  0.396 took  21.556 seconds......\n",
      "[INFO] epoch: 43 with train_loss:  0.259 and test_loss:  0.384 took  21.517 seconds......\n",
      "[INFO] epoch: 44 with train_loss:  0.256 and test_loss:  0.395 took  21.621 seconds......\n",
      "[INFO] epoch: 45 with train_loss:  0.256 and test_loss:  0.406 took  21.487 seconds......\n",
      "[INFO] epoch: 46 with train_loss:  0.250 and test_loss:  0.386 took  21.525 seconds......\n",
      "[INFO] epoch: 47 with train_loss:  0.251 and test_loss:  0.380 took  21.586 seconds......\n",
      "[INFO] epoch: 48 with train_loss:  0.247 and test_loss:  0.392 took  21.613 seconds......\n",
      "[INFO] epoch: 49 with train_loss:  0.245 and test_loss:  0.384 took  21.586 seconds......\n",
      "[INFO] epoch: 50 with train_loss:  0.240 and test_loss:  0.386 took  21.643 seconds......\n",
      "[INFO] epoch: 51 with train_loss:  0.245 and test_loss:  0.423 took  21.654 seconds......\n",
      "[INFO] epoch: 52 with train_loss:  0.236 and test_loss:  0.390 took  21.532 seconds......\n",
      "[INFO] epoch: 53 with train_loss:  0.232 and test_loss:  0.418 took  21.384 seconds......\n",
      "[INFO] epoch: 54 with train_loss:  0.232 and test_loss:  0.393 took  21.500 seconds......\n",
      "[INFO] epoch: 55 with train_loss:  0.227 and test_loss:  0.403 took  21.674 seconds......\n",
      "[INFO] epoch: 56 with train_loss:  0.226 and test_loss:  0.415 took  21.685 seconds......\n",
      "[INFO] epoch: 57 with train_loss:  0.225 and test_loss:  0.382 took  21.513 seconds......\n",
      "[INFO] epoch: 58 with train_loss:  0.224 and test_loss:  0.385 took  21.586 seconds......\n",
      "[INFO] epoch: 59 with train_loss:  0.219 and test_loss:  0.418 took  21.571 seconds......\n",
      "[INFO] epoch: 60 with train_loss:  0.214 and test_loss:  0.366 took  21.625 seconds......\n",
      "[INFO] epoch: 61 with train_loss:  0.218 and test_loss:  0.396 took  21.425 seconds......\n",
      "[INFO] epoch: 62 with train_loss:  0.212 and test_loss:  0.393 took  21.628 seconds......\n",
      "[INFO] epoch: 63 with train_loss:  0.214 and test_loss:  0.388 took  21.733 seconds......\n",
      "[INFO] epoch: 64 with train_loss:  0.212 and test_loss:  0.383 took  21.367 seconds......\n",
      "[INFO] epoch: 65 with train_loss:  0.208 and test_loss:  0.385 took  21.628 seconds......\n",
      "[INFO] epoch: 66 with train_loss:  0.207 and test_loss:  0.380 took  21.494 seconds......\n",
      "[INFO] epoch: 67 with train_loss:  0.209 and test_loss:  0.390 took  21.580 seconds......\n",
      "[INFO] epoch: 68 with train_loss:  0.205 and test_loss:  0.357 took  21.381 seconds......\n",
      "[INFO] epoch: 69 with train_loss:  0.199 and test_loss:  0.398 took  21.451 seconds......\n",
      "[INFO] epoch: 70 with train_loss:  0.201 and test_loss:  0.379 took  21.546 seconds......\n",
      "[INFO] epoch: 71 with train_loss:  0.196 and test_loss:  0.408 took  21.422 seconds......\n",
      "[INFO] epoch: 72 with train_loss:  0.194 and test_loss:  0.411 took  21.490 seconds......\n",
      "[INFO] epoch: 73 with train_loss:  0.200 and test_loss:  0.383 took  21.784 seconds......\n",
      "[INFO] epoch: 74 with train_loss:  0.196 and test_loss:  0.408 took  21.616 seconds......\n",
      "[INFO] epoch: 75 with train_loss:  0.192 and test_loss:  0.410 took  21.593 seconds......\n",
      "[INFO] epoch: 76 with train_loss:  0.192 and test_loss:  0.390 took  21.489 seconds......\n",
      "[INFO] epoch: 77 with train_loss:  0.188 and test_loss:  0.374 took  21.473 seconds......\n",
      "[INFO] epoch: 78 with train_loss:  0.189 and test_loss:  0.393 took  21.407 seconds......\n",
      "[INFO] epoch: 79 with train_loss:  0.187 and test_loss:  0.383 took  21.556 seconds......\n",
      "[INFO] epoch: 80 with train_loss:  0.185 and test_loss:  0.387 took  21.464 seconds......\n"
     ]
    }
   ],
   "source": [
    "# train the model\n",
    "train_losses, test_losses = batch_gd(model=model,\n",
    "         criterion=criterion,\n",
    "         optimizer=optimizer,\n",
    "         train_loader=train_loader,\n",
    "         test_loader=test_loader,\n",
    "         epochs=80)"
   ]
  },
  {
   "cell_type": "code",
   "execution_count": 12,
   "metadata": {
    "colab": {
     "base_uri": "https://localhost:8080/",
     "height": 515
    },
    "id": "MYQ3I9XiZ91R",
    "outputId": "08ff4379-2da5-48b9-e04d-18c4a483570a",
    "pycharm": {
     "name": "#%%\n"
    }
   },
   "outputs": [
    {
     "data": {
      "image/png": "[encoded data removed]",
      "text/plain": [
       "<Figure size 864x576 with 1 Axes>"
      ]
     },
     "metadata": {},
     "output_type": "display_data"
    }
   ],
   "source": [
    "sns.set(font_scale=1.5)\n",
    "f, ax = plt.subplots(1, 1, figsize=(12, 8))  # type: Figure, Axes\n",
    "x = np.arange(80) + 1\n",
    "sns.lineplot(x=x, y=train_losses, ax=ax, color=\"blue\", label=\"train_loss\")\n",
    "sns.lineplot(x=x, y=test_losses, ax=ax, color=\"red\", label=\"test_loss\")\n",
    "ax.set_xlabel(\"Epochs\")\n",
    "ax.set_ylabel(\"Loss\");\n"
   ]
  },
  {
   "cell_type": "code",
   "execution_count": 13,
   "metadata": {
    "colab": {
     "base_uri": "https://localhost:8080/"
    },
    "id": "iKn8fgGFZ91S",
    "outputId": "10b4dbd5-de2b-48a6-9601-dd7c3ec3fe15",
    "pycharm": {
     "name": "#%%\n"
    }
   },
   "outputs": [
    {
     "name": "stdout",
     "output_type": "stream",
     "text": [
      "[INFO] train_acc:  0.941 and test_acc:  0.887......\n"
     ]
    }
   ],
   "source": [
    "# calculate model accuracies\n",
    "train_corrects = 0\n",
    "test_corrects = 0\n",
    "train_total = 0\n",
    "test_total = 0\n",
    "\n",
    "model.eval()\n",
    "with torch.no_grad():\n",
    "    for inputs, targets in train_loader:\n",
    "        inputs, targets = inputs.to(device), targets.to(device)\n",
    "        outputs = model(inputs)\n",
    "        _, indices = torch.max(outputs, dim=1)\n",
    "        corrects = (targets == indices).sum().item()\n",
    "        train_corrects += corrects\n",
    "        total = targets.shape[0]\n",
    "        train_total += total\n",
    "\n",
    "    for inputs, targets in test_loader:\n",
    "        inputs, targets = inputs.to(device), targets.to(device)\n",
    "        outputs = model(inputs)\n",
    "        _, indices = torch.max(outputs, dim=1)\n",
    "        corrects = (targets == indices).sum().item()\n",
    "        test_corrects += corrects\n",
    "        total = targets.shape[0]\n",
    "        test_total += total\n",
    "\n",
    "print(f\"[INFO] train_acc: {(train_corrects/train_total): 0.3f} and test_acc: {(test_corrects/test_total): 0.3f}......\")"
   ]
  },
  {
   "cell_type": "code",
   "execution_count": 14,
   "metadata": {
    "id": "DGgGybJiZ91S",
    "pycharm": {
     "name": "#%%\n"
    }
   },
   "outputs": [],
   "source": [
    "# plot the confusion matrix\n",
    "x_test = test_dataset.data\n",
    "all_true_targets = np.array([])\n",
    "all_predictions = np.array([])\n",
    "\n",
    "model.eval()\n",
    "with torch.no_grad():\n",
    "    for inputs, targets in test_loader:\n",
    "        inputs, targets = inputs.to(device), targets.to(device)\n",
    "        outputs = model(inputs)\n",
    "        _, indices = torch.max(outputs, dim=1)\n",
    "        all_true_targets = np.concatenate((all_true_targets, targets.cpu().numpy()))\n",
    "        all_predictions = np.concatenate((all_predictions, indices.cpu().numpy()))"
   ]
  },
  {
   "cell_type": "code",
   "execution_count": 15,
   "metadata": {
    "id": "KwGfU8I1Z91T",
    "pycharm": {
     "name": "#%%\n"
    }
   },
   "outputs": [],
   "source": [
    "# get the confusion matrix\n",
    "from sklearn.metrics import confusion_matrix\n",
    "\n",
    "\n",
    "def print_confusion_matrix(confusion_matrix, class_names, figsize=(10, 7), fontsize=14):\n",
    "    df_cm = pd.DataFrame(confusion_matrix, index=class_names, columns=class_names)\n",
    "    fig = plt.figure(figsize=figsize)\n",
    "\n",
    "    try:\n",
    "        heatmap = sns.heatmap(df_cm, annot=True, fmt=\"d\", cmap='viridis')\n",
    "    except ValueError:\n",
    "        raise ValueError(\"Confusion matrix values must be integers\")\n",
    "\n",
    "    heatmap.yaxis.set_ticklabels(heatmap.yaxis.get_ticklabels(), rotation=0, ha='right', fontsize=fontsize)\n",
    "    heatmap.xaxis.set_ticklabels(heatmap.xaxis.get_ticklabels(), rotation=45, ha='right', fontsize=fontsize)\n",
    "    plt.ylabel('True label')\n",
    "    plt.xlabel('Predicted label')"
   ]
  },
  {
   "cell_type": "code",
   "execution_count": 16,
   "metadata": {
    "colab": {
     "base_uri": "https://localhost:8080/",
     "height": 509
    },
    "id": "nq12cYmBZ91T",
    "outputId": "bb308d69-8150-4b1b-cefa-ea0c98cc8cb6",
    "pycharm": {
     "name": "#%%\n"
    }
   },
   "outputs": [
    {
     "data": {
      "image/png": "[encoded data removed]",
      "text/plain": [
       "<Figure size 720x504 with 2 Axes>"
      ]
     },
     "metadata": {},
     "output_type": "display_data"
    }
   ],
   "source": [
    "labels = ['airplane', 'automobile', 'bird', 'cat', 'deer', 'dog', 'frog', 'horse', 'ship','truck']\n",
    "id_to_names = {i:name for i, name in enumerate(labels)}\n",
    "cm = confusion_matrix(all_true_targets, all_predictions)\n",
    "print_confusion_matrix(cm, class_names=labels)"
   ]
  },
  {
   "cell_type": "code",
   "execution_count": 19,
   "metadata": {
    "colab": {
     "base_uri": "https://localhost:8080/",
     "height": 297
    },
    "id": "JxnCaargZ91U",
    "outputId": "15b3fa88-c10c-4998-e553-8eba97dfadcc",
    "pycharm": {
     "name": "#%%\n"
    }
   },
   "outputs": [
    {
     "name": "stdout",
     "output_type": "stream",
     "text": [
      "[INFO] true_label: dog and predicted_label: bird......\n"
     ]
    },
    {
     "data": {
      "image/png": "[encoded data removed]",
      "text/plain": [
       "<Figure size 432x288 with 1 Axes>"
      ]
     },
     "metadata": {},
     "output_type": "display_data"
    }
   ],
   "source": [
    "# indices where preds dont match targets\n",
    "no_match_indices= np.where(all_true_targets != all_predictions)[0]\n",
    "\n",
    "# look at misclassified images\n",
    "random_id = np.random.choice(no_match_indices)\n",
    "\n",
    "# choose a rnadom image from test set\n",
    "x_random = x_test[random_id]\n",
    "\n",
    "# plt the randomly chosen image\n",
    "plt.imshow(x_random)\n",
    "\n",
    "# get the true target label\n",
    "true_label = id_to_names[all_true_targets[random_id]]\n",
    "predicted_label = id_to_names[all_predictions[random_id]]\n",
    "print(f\"[INFO] true_label: {true_label} and predicted_label: {predicted_label}......\")"
   ]
  },
  {
   "cell_type": "code",
   "execution_count": null,
   "metadata": {
    "id": "3ZklSuIOZ91V",
    "pycharm": {
     "name": "#%%\n"
    }
   },
   "outputs": [],
   "source": []
  }
 ],
 "metadata": {
  "accelerator": "GPU",
  "colab": {
   "collapsed_sections": [],
   "machine_shape": "hm",
   "name": "sec6_p3_cnn_cifar10_improved.ipynb",
   "provenance": []
  },
  "kernelspec": {
   "display_name": "Python 3",
   "language": "python",
   "name": "python3"
  },
  "language_info": {
   "codemirror_mode": {
    "name": "ipython",
    "version": 3
   },
   "file_extension": ".py",
   "mimetype": "text/x-python",
   "name": "python",
   "nbconvert_exporter": "python",
   "pygments_lexer": "ipython3",
   "version": "3.6.5"
  },
  "widgets": {
   "application/vnd.jupyter.widget-state+json": {
    "11a9176dc98844c3be85cb97cdc97545": {
     "model_module": "@jupyter-widgets/controls",
     "model_module_version": "1.5.0",
     "model_name": "DescriptionStyleModel",
     "state": {
      "_model_module": "@jupyter-widgets/controls",
      "_model_module_version": "1.5.0",
      "_model_name": "DescriptionStyleModel",
      "_view_count": null,
      "_view_module": "@jupyter-widgets/base",
      "_view_module_version": "1.2.0",
      "_view_name": "StyleView",
      "description_width": ""
     }
    },
    "3ebd62f7cf234633b4520a4ac1fa9dae": {
     "model_module": "@jupyter-widgets/base",
     "model_module_version": "1.2.0",
     "model_name": "LayoutModel",
     "state": {
      "_model_module": "@jupyter-widgets/base",
      "_model_module_version": "1.2.0",
      "_model_name": "LayoutModel",
      "_view_count": null,
      "_view_module": "@jupyter-widgets/base",
      "_view_module_version": "1.2.0",
      "_view_name": "LayoutView",
      "align_content": null,
      "align_items": null,
      "align_self": null,
      "border": null,
      "bottom": null,
      "display": null,
      "flex": null,
      "flex_flow": null,
      "grid_area": null,
      "grid_auto_columns": null,
      "grid_auto_flow": null,
      "grid_auto_rows": null,
      "grid_column": null,
      "grid_gap": null,
      "grid_row": null,
      "grid_template_areas": null,
      "grid_template_columns": null,
      "grid_template_rows": null,
      "height": null,
      "justify_content": null,
      "justify_items": null,
      "left": null,
      "margin": null,
      "max_height": null,
      "max_width": null,
      "min_height": null,
      "min_width": null,
      "object_fit": null,
      "object_position": null,
      "order": null,
      "overflow": null,
      "overflow_x": null,
      "overflow_y": null,
      "padding": null,
      "right": null,
      "top": null,
      "visibility": null,
      "width": null
     }
    },
    "878df470188f4201b67ace18dbdd7535": {
     "model_module": "@jupyter-widgets/controls",
     "model_module_version": "1.5.0",
     "model_name": "ProgressStyleModel",
     "state": {
      "_model_module": "@jupyter-widgets/controls",
      "_model_module_version": "1.5.0",
      "_model_name": "ProgressStyleModel",
      "_view_count": null,
      "_view_module": "@jupyter-widgets/base",
      "_view_module_version": "1.2.0",
      "_view_name": "StyleView",
      "bar_color": null,
      "description_width": ""
     }
    },
    "a1e2952bf3924c0f95715de99507f7a4": {
     "model_module": "@jupyter-widgets/base",
     "model_module_version": "1.2.0",
     "model_name": "LayoutModel",
     "state": {
      "_model_module": "@jupyter-widgets/base",
      "_model_module_version": "1.2.0",
      "_model_name": "LayoutModel",
      "_view_count": null,
      "_view_module": "@jupyter-widgets/base",
      "_view_module_version": "1.2.0",
      "_view_name": "LayoutView",
      "align_content": null,
      "align_items": null,
      "align_self": null,
      "border": null,
      "bottom": null,
      "display": null,
      "flex": null,
      "flex_flow": null,
      "grid_area": null,
      "grid_auto_columns": null,
      "grid_auto_flow": null,
      "grid_auto_rows": null,
      "grid_column": null,
      "grid_gap": null,
      "grid_row": null,
      "grid_template_areas": null,
      "grid_template_columns": null,
      "grid_template_rows": null,
      "height": null,
      "justify_content": null,
      "justify_items": null,
      "left": null,
      "margin": null,
      "max_height": null,
      "max_width": null,
      "min_height": null,
      "min_width": null,
      "object_fit": null,
      "object_position": null,
      "order": null,
      "overflow": null,
      "overflow_x": null,
      "overflow_y": null,
      "padding": null,
      "right": null,
      "top": null,
      "visibility": null,
      "width": null
     }
    },
    "b822531d504b4d02a76b6d498207862b": {
     "model_module": "@jupyter-widgets/controls",
     "model_module_version": "1.5.0",
     "model_name": "FloatProgressModel",
     "state": {
      "_dom_classes": [],
      "_model_module": "@jupyter-widgets/controls",
      "_model_module_version": "1.5.0",
      "_model_name": "FloatProgressModel",
      "_view_count": null,
      "_view_module": "@jupyter-widgets/controls",
      "_view_module_version": "1.5.0",
      "_view_name": "ProgressView",
      "bar_style": "success",
      "description": "",
      "description_tooltip": null,
      "layout": "IPY_MODEL_3ebd62f7cf234633b4520a4ac1fa9dae",
      "max": 170498071,
      "min": 0,
      "orientation": "horizontal",
      "style": "IPY_MODEL_878df470188f4201b67ace18dbdd7535",
      "value": 170498071
     }
    },
    "de6afeee9c824f9f9e10ab80318495fc": {
     "model_module": "@jupyter-widgets/base",
     "model_module_version": "1.2.0",
     "model_name": "LayoutModel",
     "state": {
      "_model_module": "@jupyter-widgets/base",
      "_model_module_version": "1.2.0",
      "_model_name": "LayoutModel",
      "_view_count": null,
      "_view_module": "@jupyter-widgets/base",
      "_view_module_version": "1.2.0",
      "_view_name": "LayoutView",
      "align_content": null,
      "align_items": null,
      "align_self": null,
      "border": null,
      "bottom": null,
      "display": null,
      "flex": null,
      "flex_flow": null,
      "grid_area": null,
      "grid_auto_columns": null,
      "grid_auto_flow": null,
      "grid_auto_rows": null,
      "grid_column": null,
      "grid_gap": null,
      "grid_row": null,
      "grid_template_areas": null,
      "grid_template_columns": null,
      "grid_template_rows": null,
      "height": null,
      "justify_content": null,
      "justify_items": null,
      "left": null,
      "margin": null,
      "max_height": null,
      "max_width": null,
      "min_height": null,
      "min_width": null,
      "object_fit": null,
      "object_position": null,
      "order": null,
      "overflow": null,
      "overflow_x": null,
      "overflow_y": null,
      "padding": null,
      "right": null,
      "top": null,
      "visibility": null,
      "width": null
     }
    },
    "e4aee15186c9478ab65fa97400ceb8d8": {
     "model_module": "@jupyter-widgets/controls",
     "model_module_version": "1.5.0",
     "model_name": "HTMLModel",
     "state": {
      "_dom_classes": [],
      "_model_module": "@jupyter-widgets/controls",
      "_model_module_version": "1.5.0",
      "_model_name": "HTMLModel",
      "_view_count": null,
      "_view_module": "@jupyter-widgets/controls",
      "_view_module_version": "1.5.0",
      "_view_name": "HTMLView",
      "description": "",
      "description_tooltip": null,
      "layout": "IPY_MODEL_de6afeee9c824f9f9e10ab80318495fc",
      "placeholder": "​",
      "style": "IPY_MODEL_11a9176dc98844c3be85cb97cdc97545",
      "value": ""
     }
    },
    "e4d007581af841bb80b8eee215c117a9": {
     "model_module": "@jupyter-widgets/base",
     "model_module_version": "1.2.0",
     "model_name": "LayoutModel",
     "state": {
      "_model_module": "@jupyter-widgets/base",
      "_model_module_version": "1.2.0",
      "_model_name": "LayoutModel",
      "_view_count": null,
      "_view_module": "@jupyter-widgets/base",
      "_view_module_version": "1.2.0",
      "_view_name": "LayoutView",
      "align_content": null,
      "align_items": null,
      "align_self": null,
      "border": null,
      "bottom": null,
      "display": null,
      "flex": null,
      "flex_flow": null,
      "grid_area": null,
      "grid_auto_columns": null,
      "grid_auto_flow": null,
      "grid_auto_rows": null,
      "grid_column": null,
      "grid_gap": null,
      "grid_row": null,
      "grid_template_areas": null,
      "grid_template_columns": null,
      "grid_template_rows": null,
      "height": null,
      "justify_content": null,
      "justify_items": null,
      "left": null,
      "margin": null,
      "max_height": null,
      "max_width": null,
      "min_height": null,
      "min_width": null,
      "object_fit": null,
      "object_position": null,
      "order": null,
      "overflow": null,
      "overflow_x": null,
      "overflow_y": null,
      "padding": null,
      "right": null,
      "top": null,
      "visibility": null,
      "width": null
     }
    },
    "ebb032e68a3142179e5e69f55bf8825d": {
     "model_module": "@jupyter-widgets/controls",
     "model_module_version": "1.5.0",
     "model_name": "HTMLModel",
     "state": {
      "_dom_classes": [],
      "_model_module": "@jupyter-widgets/controls",
      "_model_module_version": "1.5.0",
      "_model_name": "HTMLModel",
      "_view_count": null,
      "_view_module": "@jupyter-widgets/controls",
      "_view_module_version": "1.5.0",
      "_view_name": "HTMLView",
      "description": "",
      "description_tooltip": null,
      "layout": "IPY_MODEL_a1e2952bf3924c0f95715de99507f7a4",
      "placeholder": "​",
      "style": "IPY_MODEL_fce1d5932be746d8b0357a72b0b64f8c",
      "value": " 170499072/? [00:03&lt;00:00, 50685169.10it/s]"
     }
    },
    "f43d1354d40c4282994b4bfbc3298ccd": {
     "model_module": "@jupyter-widgets/controls",
     "model_module_version": "1.5.0",
     "model_name": "HBoxModel",
     "state": {
      "_dom_classes": [],
      "_model_module": "@jupyter-widgets/controls",
      "_model_module_version": "1.5.0",
      "_model_name": "HBoxModel",
      "_view_count": null,
      "_view_module": "@jupyter-widgets/controls",
      "_view_module_version": "1.5.0",
      "_view_name": "HBoxView",
      "box_style": "",
      "children": [
       "IPY_MODEL_e4aee15186c9478ab65fa97400ceb8d8",
       "IPY_MODEL_b822531d504b4d02a76b6d498207862b",
       "IPY_MODEL_ebb032e68a3142179e5e69f55bf8825d"
      ],
      "layout": "IPY_MODEL_e4d007581af841bb80b8eee215c117a9"
     }
    },
    "fce1d5932be746d8b0357a72b0b64f8c": {
     "model_module": "@jupyter-widgets/controls",
     "model_module_version": "1.5.0",
     "model_name": "DescriptionStyleModel",
     "state": {
      "_model_module": "@jupyter-widgets/controls",
      "_model_module_version": "1.5.0",
      "_model_name": "DescriptionStyleModel",
      "_view_count": null,
      "_view_module": "@jupyter-widgets/base",
      "_view_module_version": "1.2.0",
      "_view_name": "StyleView",
      "description_width": ""
     }
    }
   }
  }
 },
 "nbformat": 4,
 "nbformat_minor": 1
}