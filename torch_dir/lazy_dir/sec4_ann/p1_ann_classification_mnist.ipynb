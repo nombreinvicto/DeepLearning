{
 "cells": [
  {
   "cell_type": "code",
   "execution_count": 57,
   "metadata": {},
   "outputs": [],
   "source": [
    "import numpy as np\n",
    "import pandas as pd\n",
    "import seaborn as sns\n",
    "import matplotlib.pyplot as plt\n",
    "from matplotlib.figure import Figure\n",
    "import matplotlib.axes._axes as axes\n",
    "from sklearn.metrics import confusion_matrix\n",
    "sns.set()"
   ]
  },
  {
   "cell_type": "code",
   "execution_count": 58,
   "metadata": {
    "pycharm": {
     "name": "#%%\n"
    }
   },
   "outputs": [],
   "source": [
    "# import pytorch specific utils\n",
    "import torch\n",
    "from torch import nn\n",
    "from torch import optim\n",
    "import torch.nn.functional as F\n",
    "from torch.utils.data import DataLoader\n",
    "from torchvision import datasets, transforms, models"
   ]
  },
  {
   "cell_type": "code",
   "execution_count": 59,
   "metadata": {
    "pycharm": {
     "name": "#%%\n"
    }
   },
   "outputs": [],
   "source": [
    "# import the datasets\n",
    "train_dataset = datasets.MNIST(\n",
    "    root='.',\n",
    "    train=True,\n",
    "    transform=transforms.ToTensor(),\n",
    "    download=True\n",
    ")\n",
    "\n",
    "test_dataset = datasets.MNIST(\n",
    "    root='.',\n",
    "    train=False,\n",
    "    transform=transforms.ToTensor(),\n",
    "    download=True\n",
    ")"
   ]
  },
  {
   "cell_type": "code",
   "execution_count": 60,
   "metadata": {
    "pycharm": {
     "name": "#%%\n"
    }
   },
   "outputs": [
    {
     "data": {
      "text/plain": [
       "device(type='cuda', index=0)"
      ]
     },
     "execution_count": 60,
     "metadata": {},
     "output_type": "execute_result"
    }
   ],
   "source": [
    "# set the computation device\n",
    "device = torch.device(\"cuda:0\" if torch.cuda.is_available() else \"cpu\")\n",
    "device"
   ]
  },
  {
   "cell_type": "code",
   "execution_count": 61,
   "metadata": {
    "pycharm": {
     "name": "#%%\n"
    }
   },
   "outputs": [
    {
     "data": {
      "text/plain": [
       "Sequential(\n",
       "  (0): Linear(in_features=784, out_features=128, bias=True)\n",
       "  (1): ReLU()\n",
       "  (2): Linear(in_features=128, out_features=10, bias=True)\n",
       ")"
      ]
     },
     "execution_count": 61,
     "metadata": {},
     "output_type": "execute_result"
    }
   ],
   "source": [
    "# construct the model\n",
    "model = nn.Sequential(\n",
    "    nn.Linear(784, 128),\n",
    "    nn.ReLU(),\n",
    "    nn.Linear(128, 10)\n",
    ")\n",
    "\n",
    "model.to(device)"
   ]
  },
  {
   "cell_type": "code",
   "execution_count": 62,
   "metadata": {
    "pycharm": {
     "name": "#%%\n"
    }
   },
   "outputs": [],
   "source": [
    "# loss and optimizer instantiation\n",
    "criterion = nn.CrossEntropyLoss()\n",
    "optimizer = optim.Adam(model.parameters())"
   ]
  },
  {
   "cell_type": "code",
   "execution_count": 63,
   "metadata": {
    "pycharm": {
     "name": "#%%\n"
    }
   },
   "outputs": [],
   "source": [
    "# create data loader i.e generators\n",
    "batch_size = 128\n",
    "trainloader = DataLoader(dataset=train_dataset,\n",
    "                         batch_size=batch_size,\n",
    "                         shuffle=True)\n",
    "\n",
    "testloader = DataLoader(dataset=test_dataset,\n",
    "                        batch_size=batch_size,\n",
    "                        shuffle=False)"
   ]
  },
  {
   "cell_type": "code",
   "execution_count": 64,
   "metadata": {
    "pycharm": {
     "name": "#%%\n"
    }
   },
   "outputs": [
    {
     "name": "stdout",
     "output_type": "stream",
     "text": [
      "Training Network.....\n",
      "Evaluating Network.....\n",
      "==================================================\n",
      "Epoch: 1  TrainLoss: 0.421  TestLoss: 0.221\n",
      "          TrainAcc: 0.892  TestAccus: 0.9357199367088608:0.3f\n",
      "==================================================\n",
      "Training Network.....\n",
      "Evaluating Network.....\n",
      "==================================================\n",
      "Epoch: 2  TrainLoss: 0.195  TestLoss: 0.163\n",
      "          TrainAcc: 0.944  TestAccus: 0.9525316455696202:0.3f\n",
      "==================================================\n",
      "Training Network.....\n",
      "Evaluating Network.....\n",
      "==================================================\n",
      "Epoch: 3  TrainLoss: 0.144  TestLoss: 0.129\n",
      "          TrainAcc: 0.959  TestAccus: 0.9617286392405063:0.3f\n",
      "==================================================\n",
      "Training Network.....\n",
      "Evaluating Network.....\n",
      "==================================================\n",
      "Epoch: 4  TrainLoss: 0.113  TestLoss: 0.109\n",
      "          TrainAcc: 0.967  TestAccus: 0.968057753164557:0.3f\n",
      "==================================================\n",
      "Training Network.....\n",
      "Evaluating Network.....\n",
      "==================================================\n",
      "Epoch: 5  TrainLoss: 0.092  TestLoss: 0.098\n",
      "          TrainAcc: 0.974  TestAccus: 0.9720134493670886:0.3f\n",
      "==================================================\n",
      "Training Network.....\n",
      "Evaluating Network.....\n",
      "==================================================\n",
      "Epoch: 6  TrainLoss: 0.076  TestLoss: 0.091\n",
      "          TrainAcc: 0.977  TestAccus: 0.9721123417721519:0.3f\n",
      "==================================================\n",
      "Training Network.....\n",
      "Evaluating Network.....\n",
      "==================================================\n",
      "Epoch: 7  TrainLoss: 0.064  TestLoss: 0.084\n",
      "          TrainAcc: 0.981  TestAccus: 0.9749802215189873:0.3f\n",
      "==================================================\n",
      "Training Network.....\n",
      "Evaluating Network.....\n",
      "==================================================\n",
      "Epoch: 8  TrainLoss: 0.054  TestLoss: 0.081\n",
      "          TrainAcc: 0.984  TestAccus: 0.9751780063291139:0.3f\n",
      "==================================================\n",
      "Training Network.....\n",
      "Evaluating Network.....\n",
      "==================================================\n",
      "Epoch: 9  TrainLoss: 0.046  TestLoss: 0.075\n",
      "          TrainAcc: 0.987  TestAccus: 0.9760680379746836:0.3f\n",
      "==================================================\n",
      "Training Network.....\n",
      "Evaluating Network.....\n",
      "==================================================\n",
      "Epoch: 10  TrainLoss: 0.039  TestLoss: 0.073\n",
      "          TrainAcc: 0.989  TestAccus: 0.9771558544303798:0.3f\n",
      "==================================================\n"
     ]
    }
   ],
   "source": [
    "# train the model\n",
    "epochs = 10\n",
    "\n",
    "# stuff to store\n",
    "train_losses = np.zeros(epochs)\n",
    "test_losses = np.zeros(epochs)\n",
    "\n",
    "train_accus = np.zeros(epochs)\n",
    "test_accus = np.zeros(epochs)\n",
    "\n",
    "for epoch in range(epochs):\n",
    "    train_batch_losses = []\n",
    "    test_batch_losses = []\n",
    "\n",
    "    train_batch_accus = []\n",
    "    test_batch_accus = []\n",
    "    \n",
    "    print(\"Training Network.....\")\n",
    "    for inputs, targets in trainloader:\n",
    "        \n",
    "        #move data to gpu\n",
    "        inputs, targets = inputs.to(device), targets.to(device)\n",
    "\n",
    "        # reshape input coz input is size 1 x 28 x 28\n",
    "        inputs = inputs.view(-1, 784)\n",
    "\n",
    "        # zero the grad\n",
    "        optimizer.zero_grad()\n",
    "\n",
    "        # forwards pass and get losses\n",
    "        logits = model(inputs)\n",
    "        train_batch_loss = criterion(logits, targets)\n",
    "        train_batch_losses.append(train_batch_loss.item())\n",
    "\n",
    "        # get accus\n",
    "        # convert from logits to probabilities\n",
    "        train_logit_probs = torch.exp(logits) / \\\n",
    "                            torch.sum(torch.exp(logits), dim=1).view(-1, 1)\n",
    "        probs, indices = torch.topk(train_logit_probs, k=1, dim=1,)\n",
    "        equals = targets.view(-1, 1) == indices\n",
    "        train_batch_accu = np.mean(equals.detach().cpu().numpy())\n",
    "        train_batch_accus.append(train_batch_accu)\n",
    "\n",
    "        # BACKSTEP\n",
    "        train_batch_loss.backward()\n",
    "        optimizer.step()\n",
    "\n",
    "\n",
    "    # Now validate\n",
    "    print(\"Evaluating Network.....\")\n",
    "    with torch.no_grad():\n",
    "        for inputs, targets in testloader:\n",
    "            \n",
    "            #move data to gpu\n",
    "            inputs, targets = inputs.to(device), targets.to(device)\n",
    "\n",
    "            # reshape input coz input is size 1 x 28 x 28\n",
    "            inputs = inputs.view(-1, 784)\n",
    "\n",
    "            # forwards pass and get losses\n",
    "            logits = model(inputs)\n",
    "            test_batch_loss = criterion(logits, targets)\n",
    "            test_batch_losses.append(test_batch_loss.item())\n",
    "\n",
    "            # get accus\n",
    "            # convert from logits to probabilities\n",
    "            test_logit_probs = torch.exp(logits) / \\\n",
    "                                torch.sum(torch.exp(logits), dim=1).view(-1, 1)\n",
    "            probs, indices = torch.topk(test_logit_probs, k=1, dim=1,)\n",
    "            equals = targets.view(-1, 1) == indices\n",
    "            test_batch_accu = np.mean(equals.cpu().numpy())\n",
    "            test_batch_accus.append(test_batch_accu)\n",
    "\n",
    "    print(\"=\" * 50)\n",
    "    # now getting out to the next epoch - all batches done - store epoch\n",
    "    # loss and accus\n",
    "    train_losses[epoch] = np.mean(train_batch_losses)\n",
    "    test_losses[epoch] = np.mean(test_batch_losses)\n",
    "    train_accus[epoch] = np.mean(train_batch_accus)\n",
    "    test_accus[epoch] = np.mean(test_batch_accus)\n",
    "\n",
    "\n",
    "    print(f\"Epoch: {epoch+1}  TrainLoss: {train_losses[epoch]:0.3f}  \"\n",
    "          f\"TestLoss: {test_losses[epoch]:0.3f}\")\n",
    "    print(f\"          TrainAcc: {train_accus[epoch]:0.3f}  TestAccus: \"\n",
    "          f\"{test_accus[epoch]}:0.3f\")\n",
    "    print(\"=\" * 50)"
   ]
  },
  {
   "cell_type": "code",
   "execution_count": 66,
   "metadata": {
    "pycharm": {
     "name": "#%%\n"
    }
   },
   "outputs": [
    {
     "data": {
      "image/png": "[encoded data removed]",
      "text/plain": [
       "<Figure size 1080x576 with 1 Axes>"
      ]
     },
     "metadata": {},
     "output_type": "display_data"
    }
   ],
   "source": [
    "# plot the performance\n",
    "num_epochs = range(1, epochs+1)\n",
    "plot_df = pd.DataFrame(data=np.c_[num_epochs,train_losses,train_accus,test_losses,test_accus],\n",
    "                       columns=['epochs','loss', 'accuracy', 'val_loss', 'val_accuracy'])\n",
    "\n",
    "# do the actual plots\n",
    "sns.set(font_scale=1)\n",
    "f, ax = plt.subplots(1, 1, figsize=(15,8))\n",
    "sns.lineplot(data=plot_df, x='epochs', y='loss', ax=ax, label='train loss', linewidth=3)\n",
    "sns.lineplot(data=plot_df, x='epochs', y='accuracy', ax=ax, label='train accuracy', linewidth=3)\n",
    "sns.lineplot(data=plot_df, x='epochs', y='val_loss', ax=ax, label='val loss', linewidth=3)\n",
    "sns.lineplot(data=plot_df, x='epochs', y='val_accuracy', ax=ax, label='val_accuracy', linewidth=3)\n",
    "ax.set_ylabel('Loss or Accuracy')\n",
    "ax.set_xlabel('Epochs')\n",
    "plt.setp(ax.get_legend().get_texts(), fontsize='18'); #"
   ]
  },
  {
   "cell_type": "code",
   "execution_count": 67,
   "metadata": {},
   "outputs": [],
   "source": [
    "# evaluate the network for confusion matrix and classification report\n",
    "x_test = test_dataset.data.numpy()\n",
    "y_test = test_dataset.targets.numpy().reshape(-1, 1)\n",
    "p_test = np.array([]).reshape(0, 1)\n",
    "\n",
    "with torch.no_grad():\n",
    "        for inputs, targets in testloader:\n",
    "            \n",
    "            #move data to gpu\n",
    "            inputs, targets = inputs.to(device), targets.to(device)\n",
    "\n",
    "            # reshape input coz input is size 1 x 28 x 28\n",
    "            inputs = inputs.view(-1, 784)\n",
    "\n",
    "            # forwards pass and get losses\n",
    "            logits = model(inputs)\n",
    "\n",
    "            # get accus\n",
    "            # convert from logits to probabilities\n",
    "            test_logit_probs = torch.exp(logits) / \\\n",
    "                                torch.sum(torch.exp(logits), dim=1).view(-1, 1)\n",
    "            probs, indices = torch.topk(test_logit_probs, k=1, dim=1,)\n",
    "            equals = targets.view(-1, 1) == indices\n",
    "            \n",
    "            # i are indices with highest probs predicted by the network\n",
    "            i = indices.cpu().numpy()\n",
    "            p_test = np.concatenate((p_test, i))"
   ]
  },
  {
   "cell_type": "code",
   "execution_count": 68,
   "metadata": {},
   "outputs": [
    {
     "name": "stdout",
     "output_type": "stream",
     "text": [
      "              precision    recall  f1-score   support\n",
      "\n",
      "           0       0.98      0.99      0.99       980\n",
      "           1       0.99      0.99      0.99      1135\n",
      "           2       0.96      0.98      0.97      1032\n",
      "           3       0.98      0.97      0.97      1010\n",
      "           4       0.97      0.98      0.97       982\n",
      "           5       0.98      0.98      0.98       892\n",
      "           6       0.99      0.97      0.98       958\n",
      "           7       0.97      0.97      0.97      1028\n",
      "           8       0.98      0.97      0.97       974\n",
      "           9       0.97      0.97      0.97      1009\n",
      "\n",
      "    accuracy                           0.98     10000\n",
      "   macro avg       0.98      0.98      0.98     10000\n",
      "weighted avg       0.98      0.98      0.98     10000\n",
      "\n"
     ]
    }
   ],
   "source": [
    "# evaluate the network\n",
    "from sklearn.metrics import classification_report\n",
    "classNames = [str(i) for i in range(10)]\n",
    "print (classification_report(y_test,\n",
    "p_test, target_names=classNames))"
   ]
  },
  {
   "cell_type": "code",
   "execution_count": 69,
   "metadata": {},
   "outputs": [
    {
     "data": {
      "text/plain": [
       "array([[ 968,    0,    2,    0,    2,    2,    4,    1,    1,    0],\n",
       "       [   0, 1126,    4,    0,    0,    0,    1,    0,    4,    0],\n",
       "       [   3,    2, 1012,    0,    2,    0,    2,    7,    3,    1],\n",
       "       [   0,    0,   12,  979,    2,    3,    0,    5,    2,    7],\n",
       "       [   0,    0,    5,    0,  960,    1,    2,    5,    1,    8],\n",
       "       [   2,    0,    0,    9,    1,  871,    3,    1,    2,    3],\n",
       "       [   6,    3,    2,    1,    6,    6,  931,    0,    3,    0],\n",
       "       [   0,    5,   12,    2,    2,    0,    0, 1000,    1,    6],\n",
       "       [   3,    0,    7,    6,    4,    4,    1,    2,  945,    2],\n",
       "       [   1,    5,    1,    4,    9,    2,    1,    6,    3,  977]])"
      ]
     },
     "execution_count": 69,
     "metadata": {},
     "output_type": "execute_result"
    }
   ],
   "source": [
    "cm = confusion_matrix(y_test, p_test)\n",
    "cm"
   ]
  },
  {
   "cell_type": "code",
   "execution_count": 70,
   "metadata": {},
   "outputs": [],
   "source": [
    "def print_confusion_matrix(confusion_matrix, class_names, figsize = (10,7), fontsize=14):\n",
    "    df_cm = pd.DataFrame(\n",
    "        confusion_matrix, index=class_names, columns=class_names, \n",
    "    )\n",
    "    fig = plt.figure(figsize=figsize)\n",
    "    try:\n",
    "        heatmap = sns.heatmap(df_cm, annot=True, fmt=\"d\")\n",
    "    except ValueError:\n",
    "        raise ValueError(\"Confusion matrix values must be integers.\")\n",
    "    heatmap.yaxis.set_ticklabels(heatmap.yaxis.get_ticklabels(), rotation=0, ha='right', fontsize=fontsize)\n",
    "    heatmap.xaxis.set_ticklabels(heatmap.xaxis.get_ticklabels(), rotation=45, ha='right', fontsize=fontsize)\n",
    "    plt.ylabel('True label')\n",
    "    plt.xlabel('Predicted label')"
   ]
  },
  {
   "cell_type": "code",
   "execution_count": 71,
   "metadata": {},
   "outputs": [
    {
     "data": {
      "image/png": "[encoded data removed]",
      "text/plain": [
       "<Figure size 720x504 with 2 Axes>"
      ]
     },
     "metadata": {},
     "output_type": "display_data"
    }
   ],
   "source": [
    "print_confusion_matrix(cm, classNames, figsize = (10,7), fontsize=14)"
   ]
  },
  {
   "cell_type": "code",
   "execution_count": 102,
   "metadata": {},
   "outputs": [
    {
     "name": "stdout",
     "output_type": "stream",
     "text": [
      "The image is actually : 6 but was predicted as: 5\n"
     ]
    },
    {
     "data": {
      "image/png": "[encoded data removed]",
      "text/plain": [
       "<Figure size 432x288 with 1 Axes>"
      ]
     },
     "metadata": {},
     "output_type": "display_data"
    }
   ],
   "source": [
    "# find out indices where the predicted index and the actual index are not the same\n",
    "bool_filter = p_test != y_test\n",
    "indices_where_mismatch_occured = np.nonzero(bool_filter)[0]\n",
    "\n",
    "#choose a random mismatch from the sequence\n",
    "random_id = np.random.choice(indices_where_mismatch_occured)\n",
    "\n",
    "# grab the image with that id\n",
    "image = x_test[random_id]\n",
    "\n",
    "# plot the image\n",
    "print(f\"The image is actually : {y_test[random_id][0]} but was predicted as: {int(p_test[random_id][0])}\")\n",
    "plt.imshow(image);"
   ]
  }
 ],
 "metadata": {
  "kernelspec": {
   "display_name": "Python 3",
   "language": "python",
   "name": "python3"
  },
  "language_info": {
   "codemirror_mode": {
    "name": "ipython",
    "version": 3
   },
   "file_extension": ".py",
   "mimetype": "text/x-python",
   "name": "python",
   "nbconvert_exporter": "python",
   "pygments_lexer": "ipython3",
   "version": "3.6.7"
  }
 },
 "nbformat": 4,
 "nbformat_minor": 1
}
