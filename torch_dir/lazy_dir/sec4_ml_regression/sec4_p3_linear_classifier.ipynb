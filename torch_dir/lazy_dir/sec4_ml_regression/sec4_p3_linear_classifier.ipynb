{
 "cells": [
  {
   "cell_type": "code",
   "execution_count": 1,
   "metadata": {
    "pycharm": {
     "name": "#%%\n"
    }
   },
   "outputs": [],
   "source": [
    "import sys, os, json\n",
    "import numpy as np\n",
    "import pandas as pd\n",
    "import seaborn as sns\n",
    "import argparse\n",
    "import matplotlib.pyplot as plt\n",
    "from matplotlib.figure import Figure\n",
    "from matplotlib.axes import Axes\n",
    "\n",
    "sns.set()"
   ]
  },
  {
   "cell_type": "code",
   "execution_count": 2,
   "metadata": {
    "pycharm": {
     "name": "#%%\n"
    }
   },
   "outputs": [],
   "source": [
    "import torch\n",
    "from torch import nn\n",
    "from torch import optim\n",
    "import torch.nn.functional as F\n",
    "from torch.utils.data import DataLoader\n",
    "from torchvision import datasets, transforms, models"
   ]
  },
  {
   "cell_type": "code",
   "execution_count": 3,
   "metadata": {
    "pycharm": {
     "name": "#%%\n"
    }
   },
   "outputs": [
    {
     "name": "stdout",
     "output_type": "stream",
     "text": [
      "dict_keys(['data', 'target', 'frame', 'target_names', 'DESCR', 'feature_names', 'filename'])\n"
     ]
    }
   ],
   "source": [
    "# load the datasset\n",
    "from sklearn.datasets import load_breast_cancer\n",
    "\n",
    "data = load_breast_cancer()\n",
    "\n",
    "# data is a dict like object\n",
    "print(data.keys())"
   ]
  },
  {
   "cell_type": "code",
   "execution_count": 4,
   "metadata": {
    "pycharm": {
     "name": "#%%\n"
    }
   },
   "outputs": [
    {
     "name": "stdout",
     "output_type": "stream",
     "text": [
      "['mean radius' 'mean texture' 'mean perimeter' 'mean area'\n",
      " 'mean smoothness' 'mean compactness' 'mean concavity'\n",
      " 'mean concave points' 'mean symmetry' 'mean fractal dimension'\n",
      " 'radius error' 'texture error' 'perimeter error' 'area error'\n",
      " 'smoothness error' 'compactness error' 'concavity error'\n",
      " 'concave points error' 'symmetry error' 'fractal dimension error'\n",
      " 'worst radius' 'worst texture' 'worst perimeter' 'worst area'\n",
      " 'worst smoothness' 'worst compactness' 'worst concavity'\n",
      " 'worst concave points' 'worst symmetry' 'worst fractal dimension']\n"
     ]
    }
   ],
   "source": [
    "# features in the data\n",
    "print(data.feature_names)"
   ]
  },
  {
   "cell_type": "code",
   "execution_count": 5,
   "metadata": {
    "pycharm": {
     "name": "#%%\n"
    }
   },
   "outputs": [
    {
     "name": "stdout",
     "output_type": "stream",
     "text": [
      "['malignant' 'benign']\n"
     ]
    }
   ],
   "source": [
    "# target types in the data\n",
    "print(data.target_names)"
   ]
  },
  {
   "cell_type": "markdown",
   "metadata": {
    "pycharm": {
     "name": "#%% md\n"
    }
   },
   "source": [
    "From the target names it becomes evident that this is actually a binary classification problem as there are only 2 targets to detect."
   ]
  },
  {
   "cell_type": "code",
   "execution_count": 6,
   "metadata": {
    "pycharm": {
     "name": "#%%\n"
    }
   },
   "outputs": [
    {
     "name": "stdout",
     "output_type": "stream",
     "text": [
      "[INFO] x has shape: (569, 30) and y has shape: (569,)......\n"
     ]
    }
   ],
   "source": [
    "x = data.data\n",
    "y = data.target\n",
    "\n",
    "print(f\"[INFO] x has shape: {x.shape} and y has shape: {y.shape}......\")"
   ]
  },
  {
   "cell_type": "markdown",
   "metadata": {
    "pycharm": {
     "name": "#%% md\n"
    }
   },
   "source": [
    "So there are 569 samples in the dataset with 30 features. Notice that y is 1D. Will need to be reshaped for pytorch. Also exploring x reveals that it is not normalised."
   ]
  },
  {
   "cell_type": "code",
   "execution_count": 7,
   "metadata": {
    "pycharm": {
     "name": "#%%\n"
    }
   },
   "outputs": [],
   "source": [
    "from sklearn.model_selection import train_test_split\n",
    "\n",
    "# split the data into train and test\n",
    "trainx, testx, trainy, testy = train_test_split(x, y, test_size=0.30)"
   ]
  },
  {
   "cell_type": "markdown",
   "metadata": {
    "pycharm": {
     "name": "#%% md\n"
    }
   },
   "source": [
    "Next, we will scale data. This is important in DL because of optimization. Also, scale the test set using params from train set. Thats why train test split needs to happen earlier."
   ]
  },
  {
   "cell_type": "code",
   "execution_count": 8,
   "metadata": {
    "pycharm": {
     "name": "#%%\n"
    }
   },
   "outputs": [],
   "source": [
    "from sklearn.preprocessing import StandardScaler\n",
    "\n",
    "scaler = StandardScaler()\n",
    "trainx_norm = scaler.fit_transform(trainx)\n",
    "testx_norm = scaler.transform(testx)\n",
    "\n",
    "D = trainx.shape[1]"
   ]
  },
  {
   "cell_type": "code",
   "execution_count": 9,
   "metadata": {
    "pycharm": {
     "name": "#%%\n"
    }
   },
   "outputs": [],
   "source": [
    "# 1. build the model\n",
    "model = nn.Sequential(\n",
    "    nn.Linear(in_features=D, out_features=1),\n",
    "    nn.Sigmoid()\n",
    ")"
   ]
  },
  {
   "cell_type": "code",
   "execution_count": 10,
   "metadata": {
    "pycharm": {
     "name": "#%%\n"
    }
   },
   "outputs": [],
   "source": [
    "# 2. loss and optmizer\n",
    "criterion = nn.BCELoss()\n",
    "optimizer = optim.Adam(model.parameters(), lr=0.001)"
   ]
  },
  {
   "cell_type": "code",
   "execution_count": 11,
   "metadata": {
    "pycharm": {
     "name": "#%%\n"
    }
   },
   "outputs": [],
   "source": [
    "# prepare the dataset\n",
    "inputs_train = torch.from_numpy(trainx_norm.astype(np.float32))\n",
    "inputs_test = torch.from_numpy(testx_norm.astype(np.float32))\n",
    "\n",
    "targets_train = torch.from_numpy(trainy.astype(np.float32)).reshape(-1, 1)\n",
    "targets_test = torch.from_numpy(testy.astype(np.float32)).reshape(-1, 1)"
   ]
  },
  {
   "cell_type": "code",
   "execution_count": 12,
   "metadata": {
    "pycharm": {
     "name": "#%%\n"
    }
   },
   "outputs": [
    {
     "name": "stdout",
     "output_type": "stream",
     "text": [
      "[INFO] Epoch: 5-----loss_train: 0.5765689015388489 ----- loss_test: 0.57587069272995......\n",
      "[INFO] Epoch: 10-----loss_train: 0.5512163043022156 ----- loss_test: 0.5517200827598572......\n",
      "[INFO] Epoch: 15-----loss_train: 0.5275099277496338 ----- loss_test: 0.5291377902030945......\n",
      "[INFO] Epoch: 20-----loss_train: 0.5054453611373901 ----- loss_test: 0.5080942511558533......\n",
      "[INFO] Epoch: 25-----loss_train: 0.48498058319091797 ----- loss_test: 0.48852694034576416......\n",
      "[INFO] Epoch: 30-----loss_train: 0.46604347229003906 ----- loss_test: 0.47034868597984314......\n",
      "[INFO] Epoch: 35-----loss_train: 0.44854050874710083 ----- loss_test: 0.45345667004585266......\n",
      "[INFO] Epoch: 40-----loss_train: 0.4323652982711792 ----- loss_test: 0.4377410113811493......\n",
      "[INFO] Epoch: 45-----loss_train: 0.41740646958351135 ----- loss_test: 0.4230915606021881......\n",
      "[INFO] Epoch: 50-----loss_train: 0.40355363488197327 ----- loss_test: 0.40940308570861816......\n",
      "[INFO] Epoch: 55-----loss_train: 0.3907012939453125 ----- loss_test: 0.39657869935035706......\n",
      "[INFO] Epoch: 60-----loss_train: 0.37875163555145264 ----- loss_test: 0.3845313787460327......\n",
      "[INFO] Epoch: 65-----loss_train: 0.36761558055877686 ----- loss_test: 0.3731844127178192......\n",
      "[INFO] Epoch: 70-----loss_train: 0.3572133779525757 ----- loss_test: 0.36247119307518005......\n",
      "[INFO] Epoch: 75-----loss_train: 0.3474743366241455 ----- loss_test: 0.35233426094055176......\n",
      "[INFO] Epoch: 80-----loss_train: 0.3383358418941498 ----- loss_test: 0.342724472284317......\n",
      "[INFO] Epoch: 85-----loss_train: 0.32974308729171753 ----- loss_test: 0.3335992991924286......\n",
      "[INFO] Epoch: 90-----loss_train: 0.3216477930545807 ----- loss_test: 0.324922114610672......\n",
      "[INFO] Epoch: 95-----loss_train: 0.31400758028030396 ----- loss_test: 0.3166610896587372......\n",
      "[INFO] Epoch: 100-----loss_train: 0.3067849278450012 ----- loss_test: 0.3087881803512573......\n",
      "[INFO] Epoch: 105-----loss_train: 0.299946665763855 ----- loss_test: 0.3012785315513611......\n",
      "[INFO] Epoch: 110-----loss_train: 0.29346340894699097 ----- loss_test: 0.29410964250564575......\n",
      "[INFO] Epoch: 115-----loss_train: 0.2873087227344513 ----- loss_test: 0.28726130723953247......\n",
      "[INFO] Epoch: 120-----loss_train: 0.28145909309387207 ----- loss_test: 0.2807149291038513......\n",
      "[INFO] Epoch: 125-----loss_train: 0.27589312195777893 ----- loss_test: 0.27445337176322937......\n",
      "[INFO] Epoch: 130-----loss_train: 0.2705916464328766 ----- loss_test: 0.2684606611728668......\n",
      "[INFO] Epoch: 135-----loss_train: 0.2655370235443115 ----- loss_test: 0.262721985578537......\n",
      "[INFO] Epoch: 140-----loss_train: 0.2607133388519287 ----- loss_test: 0.2572234570980072......\n",
      "[INFO] Epoch: 145-----loss_train: 0.2561059594154358 ----- loss_test: 0.25195202231407166......\n",
      "[INFO] Epoch: 150-----loss_train: 0.2517014741897583 ----- loss_test: 0.24689550697803497......\n",
      "[INFO] Epoch: 155-----loss_train: 0.247487410902977 ----- loss_test: 0.24204234778881073......\n",
      "[INFO] Epoch: 160-----loss_train: 0.2434525042772293 ----- loss_test: 0.23738175630569458......\n",
      "[INFO] Epoch: 165-----loss_train: 0.23958614468574524 ----- loss_test: 0.23290352523326874......\n",
      "[INFO] Epoch: 170-----loss_train: 0.2358786016702652 ----- loss_test: 0.22859811782836914......\n",
      "[INFO] Epoch: 175-----loss_train: 0.23232075572013855 ----- loss_test: 0.22445647418498993......\n",
      "[INFO] Epoch: 180-----loss_train: 0.22890424728393555 ----- loss_test: 0.2204701453447342......\n",
      "[INFO] Epoch: 185-----loss_train: 0.22562119364738464 ----- loss_test: 0.21663112938404083......\n",
      "[INFO] Epoch: 190-----loss_train: 0.22246429324150085 ----- loss_test: 0.21293194591999054......\n",
      "[INFO] Epoch: 195-----loss_train: 0.21942676603794098 ----- loss_test: 0.20936548709869385......\n",
      "[INFO] Epoch: 200-----loss_train: 0.21650221943855286 ----- loss_test: 0.2059251368045807......\n",
      "[INFO] Epoch: 205-----loss_train: 0.21368470788002014 ----- loss_test: 0.20260466635227203......\n",
      "[INFO] Epoch: 210-----loss_train: 0.2109687477350235 ----- loss_test: 0.19939817488193512......\n",
      "[INFO] Epoch: 215-----loss_train: 0.20834898948669434 ----- loss_test: 0.19630013406276703......\n",
      "[INFO] Epoch: 220-----loss_train: 0.20582066476345062 ----- loss_test: 0.19330532848834991......\n",
      "[INFO] Epoch: 225-----loss_train: 0.20337912440299988 ----- loss_test: 0.19040881097316742......\n",
      "[INFO] Epoch: 230-----loss_train: 0.20102010667324066 ----- loss_test: 0.18760599195957184......\n",
      "[INFO] Epoch: 235-----loss_train: 0.19873963296413422 ----- loss_test: 0.18489253520965576......\n",
      "[INFO] Epoch: 240-----loss_train: 0.19653378427028656 ----- loss_test: 0.1822643131017685......\n",
      "[INFO] Epoch: 245-----loss_train: 0.19439910352230072 ----- loss_test: 0.17971739172935486......\n",
      "[INFO] Epoch: 250-----loss_train: 0.1923322081565857 ----- loss_test: 0.17724819481372833......\n",
      "[INFO] Epoch: 255-----loss_train: 0.190329909324646 ----- loss_test: 0.17485323548316956......\n",
      "[INFO] Epoch: 260-----loss_train: 0.18838928639888763 ----- loss_test: 0.17252925038337708......\n",
      "[INFO] Epoch: 265-----loss_train: 0.18650749325752258 ----- loss_test: 0.17027315497398376......\n",
      "[INFO] Epoch: 270-----loss_train: 0.18468192219734192 ----- loss_test: 0.1680821031332016......\n",
      "[INFO] Epoch: 275-----loss_train: 0.1829100400209427 ----- loss_test: 0.16595324873924255......\n",
      "[INFO] Epoch: 280-----loss_train: 0.18118950724601746 ----- loss_test: 0.1638840287923813......\n",
      "[INFO] Epoch: 285-----loss_train: 0.17951811850070953 ----- loss_test: 0.161871999502182......\n",
      "[INFO] Epoch: 290-----loss_train: 0.1778937429189682 ----- loss_test: 0.1599147766828537......\n",
      "[INFO] Epoch: 295-----loss_train: 0.17631442844867706 ----- loss_test: 0.15801016986370087......\n",
      "[INFO] Epoch: 300-----loss_train: 0.17477823793888092 ----- loss_test: 0.15615607798099518......\n",
      "[INFO] Epoch: 305-----loss_train: 0.1732834428548813 ----- loss_test: 0.15435054898262024......\n",
      "[INFO] Epoch: 310-----loss_train: 0.17182832956314087 ----- loss_test: 0.15259164571762085......\n",
      "[INFO] Epoch: 315-----loss_train: 0.17041128873825073 ----- loss_test: 0.15087760984897614......\n",
      "[INFO] Epoch: 320-----loss_train: 0.1690308004617691 ----- loss_test: 0.1492067128419876......\n",
      "[INFO] Epoch: 325-----loss_train: 0.16768547892570496 ----- loss_test: 0.14757736027240753......\n",
      "[INFO] Epoch: 330-----loss_train: 0.16637392342090607 ----- loss_test: 0.14598803222179413......\n",
      "[INFO] Epoch: 335-----loss_train: 0.165094792842865 ----- loss_test: 0.14443722367286682......\n",
      "[INFO] Epoch: 340-----loss_train: 0.16384689509868622 ----- loss_test: 0.14292354881763458......\n",
      "[INFO] Epoch: 345-----loss_train: 0.16262906789779663 ----- loss_test: 0.14144569635391235......\n",
      "[INFO] Epoch: 350-----loss_train: 0.1614401936531067 ----- loss_test: 0.14000239968299866......\n",
      "[INFO] Epoch: 355-----loss_train: 0.16027916967868805 ----- loss_test: 0.13859248161315918......\n",
      "[INFO] Epoch: 360-----loss_train: 0.1591450423002243 ----- loss_test: 0.13721473515033722......\n",
      "[INFO] Epoch: 365-----loss_train: 0.15803679823875427 ----- loss_test: 0.1358681172132492......\n",
      "[INFO] Epoch: 370-----loss_train: 0.15695355832576752 ----- loss_test: 0.134551540017128......\n",
      "[INFO] Epoch: 375-----loss_train: 0.1558944284915924 ----- loss_test: 0.13326407968997955......\n",
      "[INFO] Epoch: 380-----loss_train: 0.1548585593700409 ----- loss_test: 0.13200469315052032......\n",
      "[INFO] Epoch: 385-----loss_train: 0.1538451761007309 ----- loss_test: 0.13077254593372345......\n",
      "[INFO] Epoch: 390-----loss_train: 0.15285351872444153 ----- loss_test: 0.12956668436527252......\n",
      "[INFO] Epoch: 395-----loss_train: 0.1518828570842743 ----- loss_test: 0.12838634848594666......\n",
      "[INFO] Epoch: 400-----loss_train: 0.15093249082565308 ----- loss_test: 0.1272306889295578......\n",
      "[INFO] Epoch: 405-----loss_train: 0.15000174939632416 ----- loss_test: 0.12609896063804626......\n",
      "[INFO] Epoch: 410-----loss_train: 0.1490900069475174 ----- loss_test: 0.12499044090509415......\n",
      "[INFO] Epoch: 415-----loss_train: 0.14819665253162384 ----- loss_test: 0.12390439957380295......\n",
      "[INFO] Epoch: 420-----loss_train: 0.14732111990451813 ----- loss_test: 0.12284018844366074......\n",
      "[INFO] Epoch: 425-----loss_train: 0.1464628428220749 ----- loss_test: 0.12179715186357498......\n",
      "[INFO] Epoch: 430-----loss_train: 0.14562125504016876 ----- loss_test: 0.12077464163303375......\n",
      "[INFO] Epoch: 435-----loss_train: 0.14479587972164154 ----- loss_test: 0.11977209895849228......\n",
      "[INFO] Epoch: 440-----loss_train: 0.14398622512817383 ----- loss_test: 0.11878892779350281......\n",
      "[INFO] Epoch: 445-----loss_train: 0.14319179952144623 ----- loss_test: 0.11782458424568176......\n",
      "[INFO] Epoch: 450-----loss_train: 0.14241217076778412 ----- loss_test: 0.11687853932380676......\n",
      "[INFO] Epoch: 455-----loss_train: 0.1416468620300293 ----- loss_test: 0.11595028638839722......\n",
      "[INFO] Epoch: 460-----loss_train: 0.1408955305814743 ----- loss_test: 0.11503928899765015......\n",
      "[INFO] Epoch: 465-----loss_train: 0.14015769958496094 ----- loss_test: 0.11414513736963272......\n",
      "[INFO] Epoch: 470-----loss_train: 0.13943305611610413 ----- loss_test: 0.11326733976602554......\n",
      "[INFO] Epoch: 475-----loss_train: 0.13872115314006805 ----- loss_test: 0.11240547895431519......\n",
      "[INFO] Epoch: 480-----loss_train: 0.13802167773246765 ----- loss_test: 0.11155909299850464......\n",
      "[INFO] Epoch: 485-----loss_train: 0.13733428716659546 ----- loss_test: 0.11072780936956406......\n",
      "[INFO] Epoch: 490-----loss_train: 0.1366586536169052 ----- loss_test: 0.10991121828556061......\n",
      "[INFO] Epoch: 495-----loss_train: 0.13599443435668945 ----- loss_test: 0.10910896211862564......\n",
      "[INFO] Epoch: 500-----loss_train: 0.1353413611650467 ----- loss_test: 0.10832061618566513......\n",
      "[INFO] Epoch: 505-----loss_train: 0.13469910621643066 ----- loss_test: 0.1075458824634552......\n",
      "[INFO] Epoch: 510-----loss_train: 0.1340673565864563 ----- loss_test: 0.1067843958735466......\n",
      "[INFO] Epoch: 515-----loss_train: 0.13344594836235046 ----- loss_test: 0.10603583604097366......\n",
      "[INFO] Epoch: 520-----loss_train: 0.13283449411392212 ----- loss_test: 0.10529986768960953......\n",
      "[INFO] Epoch: 525-----loss_train: 0.13223278522491455 ----- loss_test: 0.10457617789506912......\n",
      "[INFO] Epoch: 530-----loss_train: 0.13164059817790985 ----- loss_test: 0.10386449098587036......\n",
      "[INFO] Epoch: 535-----loss_train: 0.13105764985084534 ----- loss_test: 0.10316449403762817......\n",
      "[INFO] Epoch: 540-----loss_train: 0.13048377633094788 ----- loss_test: 0.10247591882944107......\n",
      "[INFO] Epoch: 545-----loss_train: 0.1299186795949936 ----- loss_test: 0.10179847478866577......\n",
      "[INFO] Epoch: 550-----loss_train: 0.12936218082904816 ----- loss_test: 0.10113193094730377......\n",
      "[INFO] Epoch: 555-----loss_train: 0.12881411612033844 ----- loss_test: 0.10047600418329239......\n",
      "[INFO] Epoch: 560-----loss_train: 0.12827418744564056 ----- loss_test: 0.09983044862747192......\n",
      "[INFO] Epoch: 565-----loss_train: 0.12774229049682617 ----- loss_test: 0.09919504821300507......\n",
      "[INFO] Epoch: 570-----loss_train: 0.12721817195415497 ----- loss_test: 0.09856954962015152......\n",
      "[INFO] Epoch: 575-----loss_train: 0.1267016977071762 ----- loss_test: 0.09795372933149338......\n",
      "[INFO] Epoch: 580-----loss_train: 0.12619267404079437 ----- loss_test: 0.09734737128019333......\n",
      "[INFO] Epoch: 585-----loss_train: 0.12569090723991394 ----- loss_test: 0.09675026684999466......\n",
      "[INFO] Epoch: 590-----loss_train: 0.12519626319408417 ----- loss_test: 0.09616220742464066......\n",
      "[INFO] Epoch: 595-----loss_train: 0.12470858544111252 ----- loss_test: 0.0955829918384552......\n",
      "[INFO] Epoch: 600-----loss_train: 0.12422770261764526 ----- loss_test: 0.09501243382692337......\n",
      "[INFO] Epoch: 605-----loss_train: 0.12375345826148987 ----- loss_test: 0.09445033222436905......\n",
      "[INFO] Epoch: 610-----loss_train: 0.12328572571277618 ----- loss_test: 0.09389650076627731......\n",
      "[INFO] Epoch: 615-----loss_train: 0.12282434105873108 ----- loss_test: 0.09335076063871384......\n",
      "[INFO] Epoch: 620-----loss_train: 0.1223692074418068 ----- loss_test: 0.09281297028064728......\n",
      "[INFO] Epoch: 625-----loss_train: 0.1219201385974884 ----- loss_test: 0.09228292852640152......\n",
      "[INFO] Epoch: 630-----loss_train: 0.12147703766822815 ----- loss_test: 0.09176047891378403......\n",
      "[INFO] Epoch: 635-----loss_train: 0.12103980034589767 ----- loss_test: 0.09124547988176346......\n",
      "[INFO] Epoch: 640-----loss_train: 0.12060824781656265 ----- loss_test: 0.09073775261640549......\n",
      "[INFO] Epoch: 645-----loss_train: 0.12018229812383652 ----- loss_test: 0.09023715555667877......\n",
      "[INFO] Epoch: 650-----loss_train: 0.11976182460784912 ----- loss_test: 0.08974353969097137......\n",
      "[INFO] Epoch: 655-----loss_train: 0.1193467453122139 ----- loss_test: 0.08925678580999374......\n",
      "[INFO] Epoch: 660-----loss_train: 0.11893689632415771 ----- loss_test: 0.08877671509981155......\n",
      "[INFO] Epoch: 665-----loss_train: 0.1185322180390358 ----- loss_test: 0.08830320835113525......\n",
      "[INFO] Epoch: 670-----loss_train: 0.11813259869813919 ----- loss_test: 0.08783616870641708......\n",
      "[INFO] Epoch: 675-----loss_train: 0.11773791909217834 ----- loss_test: 0.08737540990114212......\n",
      "[INFO] Epoch: 680-----loss_train: 0.11734811961650848 ----- loss_test: 0.0869208350777626......\n",
      "[INFO] Epoch: 685-----loss_train: 0.11696306616067886 ----- loss_test: 0.08647233992815018......\n",
      "[INFO] Epoch: 690-----loss_train: 0.11658269166946411 ----- loss_test: 0.0860297754406929......\n",
      "[INFO] Epoch: 695-----loss_train: 0.11620689183473587 ----- loss_test: 0.08559303730726242......\n",
      "[INFO] Epoch: 700-----loss_train: 0.11583558470010757 ----- loss_test: 0.08516200631856918......\n",
      "[INFO] Epoch: 705-----loss_train: 0.11546868830919266 ----- loss_test: 0.08473658561706543......\n",
      "[INFO] Epoch: 710-----loss_train: 0.11510613560676575 ----- loss_test: 0.084316685795784......\n",
      "[INFO] Epoch: 715-----loss_train: 0.1147477999329567 ----- loss_test: 0.08390215039253235......\n",
      "[INFO] Epoch: 720-----loss_train: 0.11439364403486252 ----- loss_test: 0.0834929347038269......\n",
      "[INFO] Epoch: 725-----loss_train: 0.11404359340667725 ----- loss_test: 0.08308888226747513......\n",
      "[INFO] Epoch: 730-----loss_train: 0.11369755864143372 ----- loss_test: 0.08268994837999344......\n",
      "[INFO] Epoch: 735-----loss_train: 0.11335546523332596 ----- loss_test: 0.08229600638151169......\n",
      "[INFO] Epoch: 740-----loss_train: 0.1130172535777092 ----- loss_test: 0.08190697431564331......\n",
      "[INFO] Epoch: 745-----loss_train: 0.11268283426761627 ----- loss_test: 0.08152277022600174......\n",
      "[INFO] Epoch: 750-----loss_train: 0.1123521476984024 ----- loss_test: 0.08114329725503922......\n",
      "[INFO] Epoch: 755-----loss_train: 0.11202514171600342 ----- loss_test: 0.08076846599578857......\n",
      "[INFO] Epoch: 760-----loss_train: 0.11170174181461334 ----- loss_test: 0.08039817214012146......\n",
      "[INFO] Epoch: 765-----loss_train: 0.1113818883895874 ----- loss_test: 0.08003240078687668......\n",
      "[INFO] Epoch: 770-----loss_train: 0.11106553673744202 ----- loss_test: 0.07967100292444229......\n",
      "[INFO] Epoch: 775-----loss_train: 0.11075259745121002 ----- loss_test: 0.07931393384933472......\n",
      "[INFO] Epoch: 780-----loss_train: 0.11044301092624664 ----- loss_test: 0.07896110415458679......\n",
      "[INFO] Epoch: 785-----loss_train: 0.11013674736022949 ----- loss_test: 0.07861245423555374......\n",
      "[INFO] Epoch: 790-----loss_train: 0.1098337322473526 ----- loss_test: 0.0782679095864296......\n",
      "[INFO] Epoch: 795-----loss_train: 0.10953394323587418 ----- loss_test: 0.07792738080024719......\n",
      "[INFO] Epoch: 800-----loss_train: 0.10923727601766586 ----- loss_test: 0.07759080827236176......\n",
      "[INFO] Epoch: 805-----loss_train: 0.10894371569156647 ----- loss_test: 0.07725812494754791......\n",
      "[INFO] Epoch: 810-----loss_train: 0.10865319520235062 ----- loss_test: 0.07692927867174149......\n",
      "[INFO] Epoch: 815-----loss_train: 0.10836567729711533 ----- loss_test: 0.07660416513681412......\n",
      "[INFO] Epoch: 820-----loss_train: 0.10808110982179642 ----- loss_test: 0.07628276944160461......\n",
      "[INFO] Epoch: 825-----loss_train: 0.10779942572116852 ----- loss_test: 0.07596499472856522......\n",
      "[INFO] Epoch: 830-----loss_train: 0.10752061009407043 ----- loss_test: 0.07565080374479294......\n",
      "[INFO] Epoch: 835-----loss_train: 0.1072445958852768 ----- loss_test: 0.07534010708332062......\n",
      "[INFO] Epoch: 840-----loss_train: 0.1069713607430458 ----- loss_test: 0.07503286749124527......\n",
      "[INFO] Epoch: 845-----loss_train: 0.1067008301615715 ----- loss_test: 0.07472903281450272......\n",
      "[INFO] Epoch: 850-----loss_train: 0.10643298923969269 ----- loss_test: 0.07442852854728699......\n",
      "[INFO] Epoch: 855-----loss_train: 0.10616778582334518 ----- loss_test: 0.0741313174366951......\n",
      "[INFO] Epoch: 860-----loss_train: 0.10590516775846481 ----- loss_test: 0.07383734732866287......\n",
      "[INFO] Epoch: 865-----loss_train: 0.10564512759447098 ----- loss_test: 0.07354654371738434......\n",
      "[INFO] Epoch: 870-----loss_train: 0.1053875982761383 ----- loss_test: 0.07325887680053711......\n",
      "[INFO] Epoch: 875-----loss_train: 0.10513255000114441 ----- loss_test: 0.07297427952289581......\n",
      "[INFO] Epoch: 880-----loss_train: 0.1048799380660057 ----- loss_test: 0.07269273698329926......\n",
      "[INFO] Epoch: 885-----loss_train: 0.1046297550201416 ----- loss_test: 0.07241416722536087......\n",
      "[INFO] Epoch: 890-----loss_train: 0.10438192635774612 ----- loss_test: 0.07213852554559708......\n",
      "[INFO] Epoch: 895-----loss_train: 0.10413645207881927 ----- loss_test: 0.07186577469110489......\n",
      "[INFO] Epoch: 900-----loss_train: 0.10389324277639389 ----- loss_test: 0.07159586995840073......\n",
      "[INFO] Epoch: 905-----loss_train: 0.10365235060453415 ----- loss_test: 0.0713287740945816......\n",
      "[INFO] Epoch: 910-----loss_train: 0.1034136712551117 ----- loss_test: 0.07106442749500275......\n",
      "[INFO] Epoch: 915-----loss_train: 0.10317718982696533 ----- loss_test: 0.07080280035734177......\n",
      "[INFO] Epoch: 920-----loss_train: 0.10294289141893387 ----- loss_test: 0.07054384797811508......\n",
      "[INFO] Epoch: 925-----loss_train: 0.10271073132753372 ----- loss_test: 0.07028752565383911......\n",
      "[INFO] Epoch: 930-----loss_train: 0.1024806946516037 ----- loss_test: 0.07003378868103027......\n",
      "[INFO] Epoch: 935-----loss_train: 0.10225272923707962 ----- loss_test: 0.06978262215852737......\n",
      "[INFO] Epoch: 940-----loss_train: 0.1020268127322197 ----- loss_test: 0.06953395903110504......\n",
      "[INFO] Epoch: 945-----loss_train: 0.10180292278528214 ----- loss_test: 0.06928777694702148......\n",
      "[INFO] Epoch: 950-----loss_train: 0.10158102959394455 ----- loss_test: 0.06904403865337372......\n",
      "[INFO] Epoch: 955-----loss_train: 0.10136109590530396 ----- loss_test: 0.06880271434783936......\n",
      "[INFO] Epoch: 960-----loss_train: 0.10114311426877975 ----- loss_test: 0.06856374442577362......\n",
      "[INFO] Epoch: 965-----loss_train: 0.10092705488204956 ----- loss_test: 0.06832712143659592......\n",
      "[INFO] Epoch: 970-----loss_train: 0.10071288049221039 ----- loss_test: 0.06809279322624207......\n",
      "[INFO] Epoch: 975-----loss_train: 0.10050054639577866 ----- loss_test: 0.06786073744297028......\n",
      "[INFO] Epoch: 980-----loss_train: 0.10029007494449615 ----- loss_test: 0.06763091683387756......\n",
      "[INFO] Epoch: 985-----loss_train: 0.1000814214348793 ----- loss_test: 0.06740331649780273......\n",
      "[INFO] Epoch: 990-----loss_train: 0.09987454116344452 ----- loss_test: 0.06717786192893982......\n",
      "[INFO] Epoch: 995-----loss_train: 0.0996694415807724 ----- loss_test: 0.06695456057786942......\n",
      "[INFO] Epoch: 1000-----loss_train: 0.09946607798337936 ----- loss_test: 0.06673337519168854......\n"
     ]
    }
   ],
   "source": [
    "# train the model\n",
    "epochs = 1000\n",
    "\n",
    "# loss history storing\n",
    "avg_train_losses_per_batch = np.zeros(epochs)\n",
    "avg_test_losses_per_batch = np.zeros(epochs)\n",
    "\n",
    "for i in range(epochs):\n",
    "    # zero the optimizer\n",
    "    optimizer.zero_grad()\n",
    "\n",
    "    # forward pass\n",
    "    outputs_train = model(inputs_train)\n",
    "    loss_train = criterion(outputs_train, targets_train)  # type: nn.BCELoss\n",
    "    avg_train_losses_per_batch[i] = loss_train.item()\n",
    "\n",
    "    # backward\n",
    "    loss_train.backward()\n",
    "    optimizer.step()\n",
    "\n",
    "    # get test loss\n",
    "    with torch.no_grad():\n",
    "        outputs_test = model(inputs_test)\n",
    "        loss_test = criterion(outputs_test, targets_test)\n",
    "        avg_test_losses_per_batch[i] = loss_test.item()\n",
    "\n",
    "    if (i + 1) % 5 == 0:\n",
    "        print(f\"[INFO] Epoch: {i+1}-----loss_train: {loss_train.item()} ----- loss_test: {loss_test.item()}......\")       "
   ]
  },
  {
   "cell_type": "code",
   "execution_count": 13,
   "metadata": {
    "pycharm": {
     "name": "#%%\n"
    }
   },
   "outputs": [
    {
     "data": {
      "text/plain": "<AxesSubplot:>"
     },
     "execution_count": 13,
     "metadata": {},
     "output_type": "execute_result"
    },
    {
     "data": {
      "text/plain": "<Figure size 864x576 with 1 Axes>",
      "image/png": "[encoded data removed]"
     },
     "metadata": {},
     "output_type": "display_data"
    }
   ],
   "source": [
    "f, ax = plt.subplots(1, 1, figsize=(12, 8)) # type: Figure, Axes\n",
    "sns.lineplot(x=np.arange(epochs)+1, y=avg_train_losses_per_batch,color=\"blue\", label=\"train_loss\", ax=ax)\n",
    "sns.lineplot(x=np.arange(epochs)+1, y=avg_test_losses_per_batch, color=\"red\", label=\"test_loss\", ax=ax)\n"
   ]
  },
  {
   "cell_type": "code",
   "execution_count": 14,
   "metadata": {
    "pycharm": {
     "name": "#%%\n"
    }
   },
   "outputs": [
    {
     "name": "stdout",
     "output_type": "stream",
     "text": [
      "[INFO] train_acc: 0.9824120402336121  and test_acc: 0.9941520690917969......\n"
     ]
    }
   ],
   "source": [
    "# now calculate accuracy on the test set\n",
    "with torch.no_grad():\n",
    "    # train accuracy\n",
    "    train_pred_probs = model(inputs_train)\n",
    "    train_pred = torch.round(train_pred_probs)\n",
    "    train_acc_mask = train_pred == targets_train\n",
    "    train_acc = (torch.sum(train_acc_mask) / train_acc_mask.shape[0]).item()\n",
    "    \n",
    "    # test accuracy\n",
    "    test_pred_probs = model(inputs_test)\n",
    "    test_pred = torch.round(test_pred_probs)\n",
    "    test_acc_mask = test_pred == targets_test\n",
    "    test_acc = (torch.sum(test_acc_mask) / test_acc_mask.shape[0]).item()\n",
    "    \n",
    "    print(f\"[INFO] train_acc: {train_acc}  and test_acc: {test_acc}......\")\n",
    "\n"
   ]
  },
  {
   "cell_type": "code",
   "execution_count": null,
   "metadata": {
    "pycharm": {
     "name": "#%%\n"
    }
   },
   "outputs": [],
   "source": []
  }
 ],
 "metadata": {
  "kernelspec": {
   "display_name": "Python 3",
   "language": "python",
   "name": "python3"
  },
  "language_info": {
   "codemirror_mode": {
    "name": "ipython",
    "version": 3
   },
   "file_extension": ".py",
   "mimetype": "text/x-python",
   "name": "python",
   "nbconvert_exporter": "python",
   "pygments_lexer": "ipython3",
   "version": "3.6.5"
  }
 },
 "nbformat": 4,
 "nbformat_minor": 1
}