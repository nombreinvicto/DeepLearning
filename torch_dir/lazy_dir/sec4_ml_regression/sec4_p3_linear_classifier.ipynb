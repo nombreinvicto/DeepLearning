{
 "cells": [
  {
   "cell_type": "code",
   "execution_count": 62,
   "metadata": {
    "pycharm": {
     "name": "#%%\n"
    }
   },
   "outputs": [],
   "source": [
    "import sys, os, json\n",
    "import numpy as np\n",
    "import pandas as pd\n",
    "import seaborn as sns\n",
    "import argparse\n",
    "import matplotlib.pyplot as plt\n",
    "from matplotlib.figure import Figure\n",
    "from matplotlib.axes import Axes\n",
    "\n",
    "sns.set()"
   ]
  },
  {
   "cell_type": "code",
   "execution_count": 63,
   "metadata": {
    "pycharm": {
     "name": "#%%\n"
    }
   },
   "outputs": [],
   "source": [
    "import torch\n",
    "from torch import nn\n",
    "from torch import optim\n",
    "import torch.nn.functional as F\n",
    "from torch.utils.data import DataLoader\n",
    "from torchvision import datasets, transforms, models"
   ]
  },
  {
   "cell_type": "code",
   "execution_count": 64,
   "metadata": {
    "pycharm": {
     "name": "#%%\n"
    }
   },
   "outputs": [
    {
     "name": "stdout",
     "output_type": "stream",
     "text": [
      "dict_keys(['data', 'target', 'frame', 'target_names', 'DESCR', 'feature_names', 'filename'])\n"
     ]
    }
   ],
   "source": [
    "# load the datasset\n",
    "from sklearn.datasets import load_breast_cancer\n",
    "\n",
    "data = load_breast_cancer()\n",
    "\n",
    "# data is a dict like object\n",
    "print(data.keys())"
   ]
  },
  {
   "cell_type": "code",
   "execution_count": 65,
   "metadata": {
    "pycharm": {
     "name": "#%%\n"
    }
   },
   "outputs": [
    {
     "name": "stdout",
     "output_type": "stream",
     "text": [
      "['mean radius' 'mean texture' 'mean perimeter' 'mean area'\n",
      " 'mean smoothness' 'mean compactness' 'mean concavity'\n",
      " 'mean concave points' 'mean symmetry' 'mean fractal dimension'\n",
      " 'radius error' 'texture error' 'perimeter error' 'area error'\n",
      " 'smoothness error' 'compactness error' 'concavity error'\n",
      " 'concave points error' 'symmetry error' 'fractal dimension error'\n",
      " 'worst radius' 'worst texture' 'worst perimeter' 'worst area'\n",
      " 'worst smoothness' 'worst compactness' 'worst concavity'\n",
      " 'worst concave points' 'worst symmetry' 'worst fractal dimension']\n"
     ]
    }
   ],
   "source": [
    "# features in the data\n",
    "print(data.feature_names)"
   ]
  },
  {
   "cell_type": "code",
   "execution_count": 66,
   "metadata": {
    "pycharm": {
     "name": "#%%\n"
    }
   },
   "outputs": [
    {
     "name": "stdout",
     "output_type": "stream",
     "text": [
      "['malignant' 'benign']\n"
     ]
    }
   ],
   "source": [
    "# target types in the data\n",
    "print(data.target_names)"
   ]
  },
  {
   "cell_type": "markdown",
   "metadata": {
    "pycharm": {
     "name": "#%% md\n"
    }
   },
   "source": [
    "From the target names it becomes evident that this is actually a binary classification problem as there are only 2 targets to detect."
   ]
  },
  {
   "cell_type": "code",
   "execution_count": 67,
   "metadata": {
    "pycharm": {
     "name": "#%%\n"
    }
   },
   "outputs": [
    {
     "name": "stdout",
     "output_type": "stream",
     "text": [
      "[INFO] x has shape: (569, 30) and y has shape: (569,)......\n"
     ]
    }
   ],
   "source": [
    "x = data.data\n",
    "y = data.target\n",
    "\n",
    "print(f\"[INFO] x has shape: {x.shape} and y has shape: {y.shape}......\")"
   ]
  },
  {
   "cell_type": "markdown",
   "metadata": {
    "pycharm": {
     "name": "#%% md\n"
    }
   },
   "source": [
    "So there are 569 samples in the dataset with 30 features. Notice that y is 1D. Will need to be reshaped for pytorch. Also exploring x reveals that it is not normalised."
   ]
  },
  {
   "cell_type": "code",
   "execution_count": 68,
   "metadata": {
    "pycharm": {
     "name": "#%%\n"
    }
   },
   "outputs": [],
   "source": [
    "from sklearn.model_selection import train_test_split\n",
    "\n",
    "# split the data into train and test\n",
    "trainx, testx, trainy, testy = train_test_split(x, y, test_size=0.30)"
   ]
  },
  {
   "cell_type": "markdown",
   "metadata": {
    "pycharm": {
     "name": "#%% md\n"
    }
   },
   "source": [
    "Next, we will scale data. This is important in DL because of optimization. Also, scale the test set using params from train set. Thats why train test split needs to happen earlier."
   ]
  },
  {
   "cell_type": "code",
   "execution_count": 69,
   "metadata": {
    "pycharm": {
     "name": "#%%\n"
    }
   },
   "outputs": [],
   "source": [
    "from sklearn.preprocessing import StandardScaler\n",
    "\n",
    "scaler = StandardScaler()\n",
    "trainx_norm = scaler.fit_transform(trainx)\n",
    "testx_norm = scaler.transform(testx)\n",
    "\n",
    "D = trainx.shape[1]"
   ]
  },
  {
   "cell_type": "code",
   "execution_count": 70,
   "metadata": {
    "pycharm": {
     "name": "#%%\n"
    }
   },
   "outputs": [],
   "source": [
    "# 1. build the model\n",
    "model = nn.Sequential(\n",
    "    nn.Linear(in_features=D, out_features=1),\n",
    "    nn.Sigmoid()\n",
    ")"
   ]
  },
  {
   "cell_type": "code",
   "execution_count": 71,
   "metadata": {
    "pycharm": {
     "name": "#%%\n"
    }
   },
   "outputs": [],
   "source": [
    "# 2. loss and optmizer\n",
    "criterion = nn.BCELoss()\n",
    "optimizer = optim.Adam(model.parameters(), lr=0.001)"
   ]
  },
  {
   "cell_type": "code",
   "execution_count": 72,
   "metadata": {
    "pycharm": {
     "name": "#%%\n"
    }
   },
   "outputs": [],
   "source": [
    "# prepare the dataset\n",
    "inputs_train = torch.from_numpy(trainx_norm.astype(np.float32))\n",
    "inputs_test = torch.from_numpy(testx_norm.astype(np.float32))\n",
    "\n",
    "targets_train = torch.from_numpy(trainy.astype(np.float32)).reshape(-1, 1)\n",
    "targets_test = torch.from_numpy(testy.astype(np.float32)).reshape(-1, 1)"
   ]
  },
  {
   "cell_type": "code",
   "execution_count": 73,
   "metadata": {
    "pycharm": {
     "name": "#%%\n"
    }
   },
   "outputs": [
    {
     "name": "stdout",
     "output_type": "stream",
     "text": [
      "[INFO] Epoch: 5-----loss_train: 0.6924100518226624 ----- loss_test: 0.7151458263397217......\n",
      "[INFO] Epoch: 10-----loss_train: 0.6573970913887024 ----- loss_test: 0.6804785132408142......\n",
      "[INFO] Epoch: 15-----loss_train: 0.6247820258140564 ----- loss_test: 0.6478260159492493......\n",
      "[INFO] Epoch: 20-----loss_train: 0.5946282744407654 ----- loss_test: 0.6172606348991394......\n",
      "[INFO] Epoch: 25-----loss_train: 0.566904604434967 ----- loss_test: 0.5887840390205383......\n",
      "[INFO] Epoch: 30-----loss_train: 0.5414983630180359 ----- loss_test: 0.5623429417610168......\n",
      "[INFO] Epoch: 35-----loss_train: 0.5182446241378784 ----- loss_test: 0.5378553867340088......\n",
      "[INFO] Epoch: 40-----loss_train: 0.4969581961631775 ----- loss_test: 0.5152261257171631......\n",
      "[INFO] Epoch: 45-----loss_train: 0.47745418548583984 ----- loss_test: 0.4943498373031616......\n",
      "[INFO] Epoch: 50-----loss_train: 0.45955774188041687 ----- loss_test: 0.4751102328300476......\n",
      "[INFO] Epoch: 55-----loss_train: 0.44310683012008667 ----- loss_test: 0.4573840796947479......\n",
      "[INFO] Epoch: 60-----loss_train: 0.4279528260231018 ----- loss_test: 0.44104576110839844......\n",
      "[INFO] Epoch: 65-----loss_train: 0.41396063566207886 ----- loss_test: 0.4259723424911499......\n",
      "[INFO] Epoch: 70-----loss_train: 0.4010085165500641 ----- loss_test: 0.41204696893692017......\n",
      "[INFO] Epoch: 75-----loss_train: 0.38898739218711853 ----- loss_test: 0.39916086196899414......\n",
      "[INFO] Epoch: 80-----loss_train: 0.3778001368045807 ----- loss_test: 0.38721418380737305......\n",
      "[INFO] Epoch: 85-----loss_train: 0.36736080050468445 ----- loss_test: 0.37611624598503113......\n",
      "[INFO] Epoch: 90-----loss_train: 0.3575933873653412 ----- loss_test: 0.36578550934791565......\n",
      "[INFO] Epoch: 95-----loss_train: 0.34843114018440247 ----- loss_test: 0.35614868998527527......\n",
      "[INFO] Epoch: 100-----loss_train: 0.33981525897979736 ----- loss_test: 0.3471403121948242......\n",
      "[INFO] Epoch: 105-----loss_train: 0.33169421553611755 ----- loss_test: 0.338701993227005......\n",
      "[INFO] Epoch: 110-----loss_train: 0.32402268052101135 ----- loss_test: 0.33078163862228394......\n",
      "[INFO] Epoch: 115-----loss_train: 0.3167608082294464 ----- loss_test: 0.32333284616470337......\n",
      "[INFO] Epoch: 120-----loss_train: 0.30987349152565 ----- loss_test: 0.31631436944007874......\n",
      "[INFO] Epoch: 125-----loss_train: 0.303329735994339 ----- loss_test: 0.30968916416168213......\n",
      "[INFO] Epoch: 130-----loss_train: 0.29710209369659424 ----- loss_test: 0.30342453718185425......\n",
      "[INFO] Epoch: 135-----loss_train: 0.29116618633270264 ----- loss_test: 0.2974909842014313......\n",
      "[INFO] Epoch: 140-----loss_train: 0.28550034761428833 ----- loss_test: 0.2918623089790344......\n",
      "[INFO] Epoch: 145-----loss_train: 0.280085027217865 ----- loss_test: 0.2865149676799774......\n",
      "[INFO] Epoch: 150-----loss_train: 0.27490290999412537 ----- loss_test: 0.2814277410507202......\n",
      "[INFO] Epoch: 155-----loss_train: 0.26993823051452637 ----- loss_test: 0.27658164501190186......\n",
      "[INFO] Epoch: 160-----loss_train: 0.2651768624782562 ----- loss_test: 0.27195948362350464......\n",
      "[INFO] Epoch: 165-----loss_train: 0.26060596108436584 ----- loss_test: 0.2675457298755646......\n",
      "[INFO] Epoch: 170-----loss_train: 0.25621381402015686 ----- loss_test: 0.26332637667655945......\n",
      "[INFO] Epoch: 175-----loss_train: 0.25198984146118164 ----- loss_test: 0.2592885196208954......\n",
      "[INFO] Epoch: 180-----loss_train: 0.24792425334453583 ----- loss_test: 0.25542059540748596......\n",
      "[INFO] Epoch: 185-----loss_train: 0.24400809407234192 ----- loss_test: 0.2517118752002716......\n",
      "[INFO] Epoch: 190-----loss_train: 0.24023322761058807 ----- loss_test: 0.24815265834331512......\n",
      "[INFO] Epoch: 195-----loss_train: 0.23659200966358185 ----- loss_test: 0.2447340041399002......\n",
      "[INFO] Epoch: 200-----loss_train: 0.23307746648788452 ----- loss_test: 0.24144767224788666......\n",
      "[INFO] Epoch: 205-----loss_train: 0.22968311607837677 ----- loss_test: 0.23828604817390442......\n",
      "[INFO] Epoch: 210-----loss_train: 0.2264028936624527 ----- loss_test: 0.23524218797683716......\n",
      "[INFO] Epoch: 215-----loss_train: 0.2232312709093094 ----- loss_test: 0.23230962455272675......\n",
      "[INFO] Epoch: 220-----loss_train: 0.22016292810440063 ----- loss_test: 0.2294822782278061......\n",
      "[INFO] Epoch: 225-----loss_train: 0.21719305217266083 ----- loss_test: 0.22675463557243347......\n",
      "[INFO] Epoch: 230-----loss_train: 0.21431705355644226 ----- loss_test: 0.22412154078483582......\n",
      "[INFO] Epoch: 235-----loss_train: 0.21153061091899872 ----- loss_test: 0.2215781807899475......\n",
      "[INFO] Epoch: 240-----loss_train: 0.20882979035377502 ----- loss_test: 0.21912001073360443......\n",
      "[INFO] Epoch: 245-----loss_train: 0.20621074736118317 ----- loss_test: 0.2167428880929947......\n",
      "[INFO] Epoch: 250-----loss_train: 0.20366989076137543 ----- loss_test: 0.21444283425807953......\n",
      "[INFO] Epoch: 255-----loss_train: 0.20120395720005035 ----- loss_test: 0.21221624314785004......\n",
      "[INFO] Epoch: 260-----loss_train: 0.19880975782871246 ----- loss_test: 0.21005965769290924......\n",
      "[INFO] Epoch: 265-----loss_train: 0.19648423790931702 ----- loss_test: 0.20796984434127808......\n",
      "[INFO] Epoch: 270-----loss_train: 0.19422464072704315 ----- loss_test: 0.2059437483549118......\n",
      "[INFO] Epoch: 275-----loss_train: 0.1920282244682312 ----- loss_test: 0.2039785534143448......\n",
      "[INFO] Epoch: 280-----loss_train: 0.18989253044128418 ----- loss_test: 0.20207160711288452......\n",
      "[INFO] Epoch: 285-----loss_train: 0.18781507015228271 ----- loss_test: 0.20022034645080566......\n",
      "[INFO] Epoch: 290-----loss_train: 0.18579360842704773 ----- loss_test: 0.1984223872423172......\n",
      "[INFO] Epoch: 295-----loss_train: 0.18382595479488373 ----- loss_test: 0.19667552411556244......\n",
      "[INFO] Epoch: 300-----loss_train: 0.18191003799438477 ----- loss_test: 0.19497761130332947......\n",
      "[INFO] Epoch: 305-----loss_train: 0.18004392087459564 ----- loss_test: 0.1933266520500183......\n",
      "[INFO] Epoch: 310-----loss_train: 0.17822572588920593 ----- loss_test: 0.19172072410583496......\n",
      "[INFO] Epoch: 315-----loss_train: 0.17645364999771118 ----- loss_test: 0.19015806913375854......\n",
      "[INFO] Epoch: 320-----loss_train: 0.17472605407238007 ----- loss_test: 0.18863695859909058......\n",
      "[INFO] Epoch: 325-----loss_train: 0.17304128408432007 ----- loss_test: 0.1871558278799057......\n",
      "[INFO] Epoch: 330-----loss_train: 0.17139780521392822 ----- loss_test: 0.18571309745311737......\n",
      "[INFO] Epoch: 335-----loss_train: 0.16979412734508514 ----- loss_test: 0.18430733680725098......\n",
      "[INFO] Epoch: 340-----loss_train: 0.1682288646697998 ----- loss_test: 0.18293717503547668......\n",
      "[INFO] Epoch: 345-----loss_train: 0.16670067608356476 ----- loss_test: 0.18160128593444824......\n",
      "[INFO] Epoch: 350-----loss_train: 0.16520829498767853 ----- loss_test: 0.18029843270778656......\n",
      "[INFO] Epoch: 355-----loss_train: 0.16375043988227844 ----- loss_test: 0.17902743816375732......\n",
      "[INFO] Epoch: 360-----loss_train: 0.16232600808143616 ----- loss_test: 0.1777871549129486......\n",
      "[INFO] Epoch: 365-----loss_train: 0.16093383729457855 ----- loss_test: 0.17657651007175446......\n",
      "[INFO] Epoch: 370-----loss_train: 0.15957282483577728 ----- loss_test: 0.1753944754600525......\n",
      "[INFO] Epoch: 375-----loss_train: 0.15824200212955475 ----- loss_test: 0.1742400825023651......\n",
      "[INFO] Epoch: 380-----loss_train: 0.15694032609462738 ----- loss_test: 0.1731123924255371......\n",
      "[INFO] Epoch: 385-----loss_train: 0.15566690266132355 ----- loss_test: 0.17201048135757446......\n",
      "[INFO] Epoch: 390-----loss_train: 0.15442080795764923 ----- loss_test: 0.1709335297346115......\n",
      "[INFO] Epoch: 395-----loss_train: 0.153201162815094 ----- loss_test: 0.1698807179927826......\n",
      "[INFO] Epoch: 400-----loss_train: 0.15200714766979218 ----- loss_test: 0.16885128617286682......\n",
      "[INFO] Epoch: 405-----loss_train: 0.1508379429578781 ----- loss_test: 0.16784444451332092......\n",
      "[INFO] Epoch: 410-----loss_train: 0.14969278872013092 ----- loss_test: 0.1668594777584076......\n",
      "[INFO] Epoch: 415-----loss_train: 0.1485709697008133 ----- loss_test: 0.1658957302570343......\n",
      "[INFO] Epoch: 420-----loss_train: 0.14747175574302673 ----- loss_test: 0.16495253145694733......\n",
      "[INFO] Epoch: 425-----loss_train: 0.14639444649219513 ----- loss_test: 0.1640292853116989......\n",
      "[INFO] Epoch: 430-----loss_train: 0.14533841609954834 ----- loss_test: 0.16312530636787415......\n",
      "[INFO] Epoch: 435-----loss_train: 0.14430302381515503 ----- loss_test: 0.16224008798599243......\n",
      "[INFO] Epoch: 440-----loss_train: 0.14328767359256744 ----- loss_test: 0.1613730490207672......\n",
      "[INFO] Epoch: 445-----loss_train: 0.14229179918766022 ----- loss_test: 0.16052362322807312......\n",
      "[INFO] Epoch: 450-----loss_train: 0.1413148045539856 ----- loss_test: 0.15969136357307434......\n",
      "[INFO] Epoch: 455-----loss_train: 0.1403561532497406 ----- loss_test: 0.1588757336139679......\n",
      "[INFO] Epoch: 460-----loss_train: 0.13941532373428345 ----- loss_test: 0.15807625651359558......\n",
      "[INFO] Epoch: 465-----loss_train: 0.13849185407161713 ----- loss_test: 0.15729248523712158......\n",
      "[INFO] Epoch: 470-----loss_train: 0.13758520781993866 ----- loss_test: 0.15652397274971008......\n",
      "[INFO] Epoch: 475-----loss_train: 0.13669496774673462 ----- loss_test: 0.15577030181884766......\n",
      "[INFO] Epoch: 480-----loss_train: 0.1358206421136856 ----- loss_test: 0.15503104031085968......\n",
      "[INFO] Epoch: 485-----loss_train: 0.1349618285894394 ----- loss_test: 0.1543058305978775......\n",
      "[INFO] Epoch: 490-----loss_train: 0.13411810994148254 ----- loss_test: 0.1535942554473877......\n",
      "[INFO] Epoch: 495-----loss_train: 0.13328905403614044 ----- loss_test: 0.15289601683616638......\n",
      "[INFO] Epoch: 500-----loss_train: 0.13247428834438324 ----- loss_test: 0.15221068263053894......\n",
      "[INFO] Epoch: 505-----loss_train: 0.13167345523834229 ----- loss_test: 0.1515379548072815......\n",
      "[INFO] Epoch: 510-----loss_train: 0.13088616728782654 ----- loss_test: 0.15087750554084778......\n",
      "[INFO] Epoch: 515-----loss_train: 0.13011208176612854 ----- loss_test: 0.15022896230220795......\n",
      "[INFO] Epoch: 520-----loss_train: 0.12935087084770203 ----- loss_test: 0.14959213137626648......\n",
      "[INFO] Epoch: 525-----loss_train: 0.12860217690467834 ----- loss_test: 0.14896661043167114......\n",
      "[INFO] Epoch: 530-----loss_train: 0.1278657168149948 ----- loss_test: 0.14835214614868164......\n",
      "[INFO] Epoch: 535-----loss_train: 0.12714116275310516 ----- loss_test: 0.14774848520755768......\n",
      "[INFO] Epoch: 540-----loss_train: 0.12642821669578552 ----- loss_test: 0.14715532958507538......\n",
      "[INFO] Epoch: 545-----loss_train: 0.1257266253232956 ----- loss_test: 0.14657244086265564......\n",
      "[INFO] Epoch: 550-----loss_train: 0.1250360608100891 ----- loss_test: 0.14599956572055817......\n",
      "[INFO] Epoch: 555-----loss_train: 0.12435629218816757 ----- loss_test: 0.14543643593788147......\n",
      "[INFO] Epoch: 560-----loss_train: 0.12368706613779068 ----- loss_test: 0.14488284289836884......\n",
      "[INFO] Epoch: 565-----loss_train: 0.12302809953689575 ----- loss_test: 0.14433859288692474......\n",
      "[INFO] Epoch: 570-----loss_train: 0.12237916141748428 ----- loss_test: 0.14380338788032532......\n",
      "[INFO] Epoch: 575-----loss_train: 0.12174002826213837 ----- loss_test: 0.14327707886695862......\n",
      "[INFO] Epoch: 580-----loss_train: 0.1211104467511177 ----- loss_test: 0.14275944232940674......\n",
      "[INFO] Epoch: 585-----loss_train: 0.1204901933670044 ----- loss_test: 0.14225025475025177......\n",
      "[INFO] Epoch: 590-----loss_train: 0.1198790967464447 ----- loss_test: 0.1417493373155594......\n",
      "[INFO] Epoch: 595-----loss_train: 0.11927689611911774 ----- loss_test: 0.14125651121139526......\n",
      "[INFO] Epoch: 600-----loss_train: 0.11868344247341156 ----- loss_test: 0.14077158272266388......\n",
      "[INFO] Epoch: 605-----loss_train: 0.11809848248958588 ----- loss_test: 0.1402943879365921......\n",
      "[INFO] Epoch: 610-----loss_train: 0.11752185225486755 ----- loss_test: 0.1398247331380844......\n",
      "[INFO] Epoch: 615-----loss_train: 0.11695337295532227 ----- loss_test: 0.13936246931552887......\n",
      "[INFO] Epoch: 620-----loss_train: 0.11639285087585449 ----- loss_test: 0.13890743255615234......\n",
      "[INFO] Epoch: 625-----loss_train: 0.1158401295542717 ----- loss_test: 0.13845942914485931......\n",
      "[INFO] Epoch: 630-----loss_train: 0.11529503762722015 ----- loss_test: 0.1380183845758438......\n",
      "[INFO] Epoch: 635-----loss_train: 0.11475738137960434 ----- loss_test: 0.13758409023284912......\n",
      "[INFO] Epoch: 640-----loss_train: 0.11422701925039291 ----- loss_test: 0.1371564418077469......\n",
      "[INFO] Epoch: 645-----loss_train: 0.11370380222797394 ----- loss_test: 0.1367352306842804......\n",
      "[INFO] Epoch: 650-----loss_train: 0.11318758130073547 ----- loss_test: 0.13632036745548248......\n",
      "[INFO] Epoch: 655-----loss_train: 0.11267820000648499 ----- loss_test: 0.1359117478132248......\n",
      "[INFO] Epoch: 660-----loss_train: 0.11217551678419113 ----- loss_test: 0.135509192943573......\n",
      "[INFO] Epoch: 665-----loss_train: 0.11167939007282257 ----- loss_test: 0.13511259853839874......\n",
      "[INFO] Epoch: 670-----loss_train: 0.11118969321250916 ----- loss_test: 0.13472183048725128......\n",
      "[INFO] Epoch: 675-----loss_train: 0.11070629209280014 ----- loss_test: 0.13433679938316345......\n",
      "[INFO] Epoch: 680-----loss_train: 0.11022906005382538 ----- loss_test: 0.1339573711156845......\n",
      "[INFO] Epoch: 685-----loss_train: 0.10975787043571472 ----- loss_test: 0.1335834264755249......\n",
      "[INFO] Epoch: 690-----loss_train: 0.10929258912801743 ----- loss_test: 0.13321486115455627......\n",
      "[INFO] Epoch: 695-----loss_train: 0.10883313417434692 ----- loss_test: 0.13285158574581146......\n",
      "[INFO] Epoch: 700-----loss_train: 0.10837936401367188 ----- loss_test: 0.13249345123767853......\n",
      "[INFO] Epoch: 705-----loss_train: 0.10793116688728333 ----- loss_test: 0.1321404129266739......\n",
      "[INFO] Epoch: 710-----loss_train: 0.10748843848705292 ----- loss_test: 0.131792351603508......\n",
      "[INFO] Epoch: 715-----loss_train: 0.1070510745048523 ----- loss_test: 0.1314491331577301......\n",
      "[INFO] Epoch: 720-----loss_train: 0.10661894828081131 ----- loss_test: 0.13111072778701782......\n",
      "[INFO] Epoch: 725-----loss_train: 0.10619200021028519 ----- loss_test: 0.1307770013809204......\n",
      "[INFO] Epoch: 730-----loss_train: 0.10577011853456497 ----- loss_test: 0.1304478794336319......\n",
      "[INFO] Epoch: 735-----loss_train: 0.10535319894552231 ----- loss_test: 0.1301232874393463......\n",
      "[INFO] Epoch: 740-----loss_train: 0.10494112968444824 ----- loss_test: 0.1298031210899353......\n",
      "[INFO] Epoch: 745-----loss_train: 0.1045338436961174 ----- loss_test: 0.1294873058795929......\n",
      "[INFO] Epoch: 750-----loss_train: 0.10413126647472382 ----- loss_test: 0.12917573750019073......\n",
      "[INFO] Epoch: 755-----loss_train: 0.10373328626155853 ----- loss_test: 0.12886840105056763......\n",
      "[INFO] Epoch: 760-----loss_train: 0.10333984345197678 ----- loss_test: 0.12856516242027283......\n",
      "[INFO] Epoch: 765-----loss_train: 0.1029508039355278 ----- loss_test: 0.12826596200466156......\n",
      "[INFO] Epoch: 770-----loss_train: 0.10256614536046982 ----- loss_test: 0.12797074019908905......\n",
      "[INFO] Epoch: 775-----loss_train: 0.10218577086925507 ----- loss_test: 0.12767942249774933......\n",
      "[INFO] Epoch: 780-----loss_train: 0.10180959105491638 ----- loss_test: 0.12739190459251404......\n",
      "[INFO] Epoch: 785-----loss_train: 0.1014375314116478 ----- loss_test: 0.12710817158222198......\n",
      "[INFO] Epoch: 790-----loss_train: 0.10106953233480453 ----- loss_test: 0.1268281489610672......\n",
      "[INFO] Epoch: 795-----loss_train: 0.10070552676916122 ----- loss_test: 0.12655173242092133......\n",
      "[INFO] Epoch: 800-----loss_train: 0.1003454327583313 ----- loss_test: 0.12627887725830078......\n",
      "[INFO] Epoch: 805-----loss_train: 0.09998917579650879 ----- loss_test: 0.12600955367088318......\n",
      "[INFO] Epoch: 810-----loss_train: 0.09963670372962952 ----- loss_test: 0.12574367225170135......\n",
      "[INFO] Epoch: 815-----loss_train: 0.09928794205188751 ----- loss_test: 0.12548118829727173......\n",
      "[INFO] Epoch: 820-----loss_train: 0.0989428386092186 ----- loss_test: 0.12522199749946594......\n",
      "[INFO] Epoch: 825-----loss_train: 0.0986013188958168 ----- loss_test: 0.124966099858284......\n",
      "[INFO] Epoch: 830-----loss_train: 0.09826333075761795 ----- loss_test: 0.12471340596675873......\n",
      "[INFO] Epoch: 835-----loss_train: 0.09792882204055786 ----- loss_test: 0.12446391582489014......\n",
      "[INFO] Epoch: 840-----loss_train: 0.09759771823883057 ----- loss_test: 0.12421753257513046......\n",
      "[INFO] Epoch: 845-----loss_train: 0.09726995974779129 ----- loss_test: 0.12397418171167374......\n",
      "[INFO] Epoch: 850-----loss_train: 0.09694551676511765 ----- loss_test: 0.12373385578393936......\n",
      "[INFO] Epoch: 855-----loss_train: 0.09662431478500366 ----- loss_test: 0.12349649518728256......\n",
      "[INFO] Epoch: 860-----loss_train: 0.09630628675222397 ----- loss_test: 0.12326206266880035......\n",
      "[INFO] Epoch: 865-----loss_train: 0.09599143266677856 ----- loss_test: 0.12303047627210617......\n",
      "[INFO] Epoch: 870-----loss_train: 0.0956796407699585 ----- loss_test: 0.12280172854661942......\n",
      "[INFO] Epoch: 875-----loss_train: 0.09537090361118317 ----- loss_test: 0.12257575243711472......\n",
      "[INFO] Epoch: 880-----loss_train: 0.0950651690363884 ----- loss_test: 0.1223524883389473......\n",
      "[INFO] Epoch: 885-----loss_train: 0.09476236253976822 ----- loss_test: 0.12213195860385895......\n",
      "[INFO] Epoch: 890-----loss_train: 0.09446245431900024 ----- loss_test: 0.12191406637430191......\n",
      "[INFO] Epoch: 895-----loss_train: 0.09416542202234268 ----- loss_test: 0.121698759496212......\n",
      "[INFO] Epoch: 900-----loss_train: 0.09387116879224777 ----- loss_test: 0.12148603051900864......\n",
      "[INFO] Epoch: 905-----loss_train: 0.09357970207929611 ----- loss_test: 0.12127581983804703......\n",
      "[INFO] Epoch: 910-----loss_train: 0.09329096227884293 ----- loss_test: 0.12106814235448837......\n",
      "[INFO] Epoch: 915-----loss_train: 0.09300486743450165 ----- loss_test: 0.12086286395788193......\n",
      "[INFO] Epoch: 920-----loss_train: 0.09272143989801407 ----- loss_test: 0.12066002190113068......\n",
      "[INFO] Epoch: 925-----loss_train: 0.09244061261415482 ----- loss_test: 0.12045956403017044......\n",
      "[INFO] Epoch: 930-----loss_train: 0.09216232597827911 ----- loss_test: 0.12026143074035645......\n",
      "[INFO] Epoch: 935-----loss_train: 0.09188658744096756 ----- loss_test: 0.1200655996799469......\n",
      "[INFO] Epoch: 940-----loss_train: 0.09161332249641418 ----- loss_test: 0.1198720633983612......\n",
      "[INFO] Epoch: 945-----loss_train: 0.091342493891716 ----- loss_test: 0.1196807473897934......\n",
      "[INFO] Epoch: 950-----loss_train: 0.09107407927513123 ----- loss_test: 0.11949162930250168......\n",
      "[INFO] Epoch: 955-----loss_train: 0.09080804139375687 ----- loss_test: 0.11930470168590546......\n",
      "[INFO] Epoch: 960-----loss_train: 0.09054435044527054 ----- loss_test: 0.11911993473768234......\n",
      "[INFO] Epoch: 965-----loss_train: 0.09028295427560806 ----- loss_test: 0.11893726140260696......\n",
      "[INFO] Epoch: 970-----loss_train: 0.09002384543418884 ----- loss_test: 0.11875668913125992......\n",
      "[INFO] Epoch: 975-----loss_train: 0.0897669643163681 ----- loss_test: 0.11857814341783524......\n",
      "[INFO] Epoch: 980-----loss_train: 0.08951230347156525 ----- loss_test: 0.11840160191059113......\n",
      "[INFO] Epoch: 985-----loss_train: 0.0892597958445549 ----- loss_test: 0.11822709441184998......\n",
      "[INFO] Epoch: 990-----loss_train: 0.08900945633649826 ----- loss_test: 0.11805453151464462......\n",
      "[INFO] Epoch: 995-----loss_train: 0.08876122534275055 ----- loss_test: 0.11788389086723328......\n",
      "[INFO] Epoch: 1000-----loss_train: 0.08851506561040878 ----- loss_test: 0.11771520972251892......\n"
     ]
    }
   ],
   "source": [
    "# train the model\n",
    "epochs = 1000\n",
    "\n",
    "# loss history storing\n",
    "avg_train_losses_per_batch = np.zeros(epochs)\n",
    "avg_test_losses_per_batch = np.zeros(epochs)\n",
    "\n",
    "for i in range(epochs):\n",
    "    # zero the optimizer\n",
    "    optimizer.zero_grad()\n",
    "\n",
    "    # forward pass\n",
    "    outputs_train = model(inputs_train)\n",
    "    loss_train = criterion(outputs_train, targets_train)  # type: nn.BCELoss\n",
    "    avg_train_losses_per_batch[i] = loss_train.item()\n",
    "\n",
    "    # backward\n",
    "    loss_train.backward()\n",
    "    optimizer.step()\n",
    "\n",
    "    # get test loss\n",
    "    with torch.no_grad():\n",
    "        outputs_test = model(inputs_test)\n",
    "        loss_test = criterion(outputs_test, targets_test)\n",
    "        avg_test_losses_per_batch[i] = loss_test.item()\n",
    "\n",
    "    if (i + 1) % 5 == 0:\n",
    "        print(f\"[INFO] Epoch: {i+1}-----loss_train: {loss_train.item()} ----- loss_test: {loss_test.item()}......\")       "
   ]
  },
  {
   "cell_type": "code",
   "execution_count": 74,
   "metadata": {
    "pycharm": {
     "name": "#%%\n"
    }
   },
   "outputs": [
    {
     "data": {
      "text/plain": [
       "<AxesSubplot:>"
      ]
     },
     "execution_count": 74,
     "metadata": {},
     "output_type": "execute_result"
    },
    {
     "data": {
      "image/png": "[encoded data removed]",
      "text/plain": [
       "<Figure size 864x576 with 1 Axes>"
      ]
     },
     "metadata": {},
     "output_type": "display_data"
    }
   ],
   "source": [
    "f, ax = plt.subplots(1, 1, figsize=(12, 8)) # type: Figure, Axes\n",
    "sns.lineplot(x=np.arange(epochs)+1, y=avg_train_losses_per_batch,color=\"blue\", label=\"train_loss\", ax=ax)\n",
    "sns.lineplot(x=np.arange(epochs)+1, y=avg_test_losses_per_batch, color=\"red\", label=\"test_loss\", ax=ax)\n"
   ]
  },
  {
   "cell_type": "code",
   "execution_count": 75,
   "metadata": {
    "pycharm": {
     "name": "#%%\n"
    }
   },
   "outputs": [
    {
     "name": "stdout",
     "output_type": "stream",
     "text": [
      "[INFO] train_acc: 0.9773869514465332  and test_acc: 0.9766082167625427......\n"
     ]
    }
   ],
   "source": [
    "# now calculate accuracy on the test set\n",
    "with torch.no_grad():\n",
    "    # train accuracy\n",
    "    train_pred_probs = model(inputs_train)\n",
    "    train_pred = torch.round(train_pred_probs)\n",
    "    train_acc_mask = train_pred == targets_train\n",
    "    train_acc = (torch.sum(train_acc_mask) / train_acc_mask.shape[0]).item()\n",
    "    \n",
    "    # test accuracy\n",
    "    test_pred_probs = model(inputs_test)\n",
    "    test_pred = torch.round(test_pred_probs)\n",
    "    test_acc_mask = test_pred == targets_test\n",
    "    test_acc = (torch.sum(test_acc_mask) / test_acc_mask.shape[0]).item()\n",
    "    \n",
    "    print(f\"[INFO] train_acc: {train_acc}  and test_acc: {test_acc}......\")\n",
    "\n"
   ]
  },
  {
   "cell_type": "code",
   "execution_count": null,
   "metadata": {
    "pycharm": {
     "name": "#%%\n"
    }
   },
   "outputs": [],
   "source": []
  }
 ],
 "metadata": {
  "kernelspec": {
   "display_name": "Python 3",
   "language": "python",
   "name": "python3"
  },
  "language_info": {
   "codemirror_mode": {
    "name": "ipython",
    "version": 3
   },
   "file_extension": ".py",
   "mimetype": "text/x-python",
   "name": "python",
   "nbconvert_exporter": "python",
   "pygments_lexer": "ipython3",
   "version": "3.6.5"
  }
 },
 "nbformat": 4,
 "nbformat_minor": 1
}