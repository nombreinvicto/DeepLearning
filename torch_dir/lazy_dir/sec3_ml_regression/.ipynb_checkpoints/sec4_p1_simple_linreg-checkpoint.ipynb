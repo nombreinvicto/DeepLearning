{
 "cells": [
  {
   "cell_type": "code",
   "execution_count": 45,
   "metadata": {
    "pycharm": {
     "name": "#%%\n"
    }
   },
   "outputs": [],
   "source": [
    "import sys, os, json\n",
    "import numpy as np\n",
    "import pandas as pd\n",
    "import seaborn as sns\n",
    "import argparse\n",
    "import matplotlib.pyplot as plt\n",
    "from matplotlib.figure import Figure\n",
    "from matplotlib.axes import Axes\n",
    "\n",
    "sns.set()"
   ]
  },
  {
   "cell_type": "code",
   "execution_count": 55,
   "metadata": {
    "pycharm": {
     "name": "#%%\n"
    }
   },
   "outputs": [],
   "source": [
    "import torch\n",
    "from torch import nn\n",
    "from torch import optim\n",
    "import torch.nn.functional as F\n",
    "from torch.utils.data import DataLoader\n",
    "from torchvision import datasets, transforms, models"
   ]
  },
  {
   "cell_type": "code",
   "execution_count": 56,
   "metadata": {
    "pycharm": {
     "name": "#%%\n"
    }
   },
   "outputs": [],
   "source": [
    "# we would like to generate 20 points\n",
    "N = 20\n",
    "\n",
    "# random data points\n",
    "# random.random() returns floats in the range [0-1.0]\n",
    "x = np.random.random(N) * 10 - 5  # now range becomes [-5, +5]\n",
    "\n",
    "# a line plus some noise\n",
    "y = (0.5 * x - 1) + np.random.randn(N)  # randn generates random nos in [0-1] uniform dist"
   ]
  },
  {
   "cell_type": "markdown",
   "metadata": {
    "pycharm": {
     "name": "#%% md\n"
    }
   },
   "source": [
    "The line above is the equation: $ Y = 0.5X - 1 + \\epsilon $ .\n",
    "\n",
    "Remember that the $\\epsilon$ part is only added to introduce randomness to the (x,y) pairs so that they do not fall exactly on the linear line. Otherwise MSE = 0. The algorithm would infact be trying to model something close to $0.5X - 1$\n"
   ]
  },
  {
   "cell_type": "code",
   "execution_count": 57,
   "metadata": {
    "pycharm": {
     "name": "#%%\n"
    }
   },
   "outputs": [
    {
     "data": {
      "text/plain": [
       "<matplotlib.collections.PathCollection at 0x1f746793588>"
      ]
     },
     "execution_count": 57,
     "metadata": {},
     "output_type": "execute_result"
    },
    {
     "data": {
      "image/png": "[encoded data removed]",
      "text/plain": [
       "<Figure size 432x288 with 1 Axes>"
      ]
     },
     "metadata": {},
     "output_type": "display_data"
    }
   ],
   "source": [
    "# plot the data\n",
    "plt.scatter(x, y)"
   ]
  },
  {
   "cell_type": "markdown",
   "metadata": {
    "pycharm": {
     "name": "#%% md\n"
    }
   },
   "source": [
    "Only when the errors are gaussian noises, then MSE becomes the right loss function. Go to indepth series of courses to understand why this is the case."
   ]
  },
  {
   "cell_type": "code",
   "execution_count": 61,
   "metadata": {
    "pycharm": {
     "name": "#%%\n"
    }
   },
   "outputs": [],
   "source": [
    "# create the model\n",
    "model = nn.Linear(in_features=1, out_features=1)\n",
    "\n",
    "# init the loss and optimizer\n",
    "criterion = nn.MSELoss()\n",
    "optimizer = optim.SGD(model.parameters(), lr=0.1)\n"
   ]
  },
  {
   "cell_type": "code",
   "execution_count": 62,
   "metadata": {
    "pycharm": {
     "name": "#%%\n"
    }
   },
   "outputs": [],
   "source": [
    "# preprocess the data\n",
    "# pytorch wants things in 2D i.e samples X features\n",
    "x = x.reshape(N, 1)\n",
    "y = y.reshape(N, 1)\n",
    "\n",
    "# create torch tensor inputs\n",
    "inputs = torch.from_numpy(x.astype(np.float32))\n",
    "targets = torch.from_numpy(y.astype(np.float32))"
   ]
  },
  {
   "cell_type": "code",
   "execution_count": 63,
   "metadata": {
    "pycharm": {
     "name": "#%%\n"
    }
   },
   "outputs": [
    {
     "name": "stdout",
     "output_type": "stream",
     "text": [
      "[INFO] epoch 1/50 with loss 7.5540......\n",
      "[INFO] epoch 2/50 with loss 1.5876......\n",
      "[INFO] epoch 3/50 with loss 1.3453......\n",
      "[INFO] epoch 4/50 with loss 1.2632......\n",
      "[INFO] epoch 5/50 with loss 1.2122......\n",
      "[INFO] epoch 6/50 with loss 1.1796......\n",
      "[INFO] epoch 7/50 with loss 1.1587......\n",
      "[INFO] epoch 8/50 with loss 1.1453......\n",
      "[INFO] epoch 9/50 with loss 1.1368......\n",
      "[INFO] epoch 10/50 with loss 1.1313......\n",
      "[INFO] epoch 11/50 with loss 1.1278......\n",
      "[INFO] epoch 12/50 with loss 1.1255......\n",
      "[INFO] epoch 13/50 with loss 1.1241......\n",
      "[INFO] epoch 14/50 with loss 1.1232......\n",
      "[INFO] epoch 15/50 with loss 1.1226......\n",
      "[INFO] epoch 16/50 with loss 1.1222......\n",
      "[INFO] epoch 17/50 with loss 1.1220......\n",
      "[INFO] epoch 18/50 with loss 1.1218......\n",
      "[INFO] epoch 19/50 with loss 1.1217......\n",
      "[INFO] epoch 20/50 with loss 1.1216......\n",
      "[INFO] epoch 21/50 with loss 1.1216......\n",
      "[INFO] epoch 22/50 with loss 1.1216......\n",
      "[INFO] epoch 23/50 with loss 1.1216......\n",
      "[INFO] epoch 24/50 with loss 1.1216......\n",
      "[INFO] epoch 25/50 with loss 1.1215......\n",
      "[INFO] epoch 26/50 with loss 1.1215......\n",
      "[INFO] epoch 27/50 with loss 1.1215......\n",
      "[INFO] epoch 28/50 with loss 1.1215......\n",
      "[INFO] epoch 29/50 with loss 1.1215......\n",
      "[INFO] epoch 30/50 with loss 1.1215......\n",
      "[INFO] epoch 31/50 with loss 1.1215......\n",
      "[INFO] epoch 32/50 with loss 1.1215......\n",
      "[INFO] epoch 33/50 with loss 1.1215......\n",
      "[INFO] epoch 34/50 with loss 1.1215......\n",
      "[INFO] epoch 35/50 with loss 1.1215......\n",
      "[INFO] epoch 36/50 with loss 1.1215......\n",
      "[INFO] epoch 37/50 with loss 1.1215......\n",
      "[INFO] epoch 38/50 with loss 1.1215......\n",
      "[INFO] epoch 39/50 with loss 1.1215......\n",
      "[INFO] epoch 40/50 with loss 1.1215......\n",
      "[INFO] epoch 41/50 with loss 1.1215......\n",
      "[INFO] epoch 42/50 with loss 1.1215......\n",
      "[INFO] epoch 43/50 with loss 1.1215......\n",
      "[INFO] epoch 44/50 with loss 1.1215......\n",
      "[INFO] epoch 45/50 with loss 1.1215......\n",
      "[INFO] epoch 46/50 with loss 1.1215......\n",
      "[INFO] epoch 47/50 with loss 1.1215......\n",
      "[INFO] epoch 48/50 with loss 1.1215......\n",
      "[INFO] epoch 49/50 with loss 1.1215......\n",
      "[INFO] epoch 50/50 with loss 1.1215......\n"
     ]
    }
   ],
   "source": [
    "# train the model\n",
    "epochs = 50\n",
    "epoch_losses = []\n",
    "for i in range(epochs):\n",
    "\n",
    "    # zero the gradients\n",
    "    optimizer.zero_grad()\n",
    "\n",
    "    # forward pass\n",
    "    outputs = model(inputs)\n",
    "    loss = criterion(outputs, targets) # avg loss of each batch\n",
    "\n",
    "    # store loss history\n",
    "    epoch_losses.append(loss.item()) # converts loss to single Python number\n",
    "    # it is not an array so we wont call .detach().numpy()\n",
    "\n",
    "    # backward pass\n",
    "    loss.backward()\n",
    "    optimizer.step()\n",
    "\n",
    "    print(f\"[INFO] epoch {i+1}/{epochs} with loss {loss:0.4f}......\")"
   ]
  },
  {
   "cell_type": "code",
   "execution_count": 64,
   "metadata": {
    "pycharm": {
     "name": "#%%\n"
    }
   },
   "outputs": [
    {
     "data": {
      "text/plain": [
       "[<matplotlib.lines.Line2D at 0x1f74732cc88>]"
      ]
     },
     "execution_count": 64,
     "metadata": {},
     "output_type": "execute_result"
    },
    {
     "data": {
      "image/png": "[encoded data removed]",
      "text/plain": [
       "<Figure size 432x288 with 1 Axes>"
      ]
     },
     "metadata": {},
     "output_type": "display_data"
    }
   ],
   "source": [
    "# plot the losses\n",
    "plt.plot(epoch_losses)"
   ]
  },
  {
   "cell_type": "code",
   "execution_count": 65,
   "metadata": {
    "pycharm": {
     "name": "#%%\n"
    }
   },
   "outputs": [
    {
     "data": {
      "image/png": "[encoded data removed]",
      "text/plain": [
       "<Figure size 1152x576 with 1 Axes>"
      ]
     },
     "metadata": {},
     "output_type": "display_data"
    }
   ],
   "source": [
    "# plot the predicted line overlaid with actual points\n",
    "f, ax = plt.subplots(nrows=1, ncols=1, figsize=(16, 8)) # type: Figure, Axes\n",
    "predicted_y = model(inputs).detach().numpy()\n",
    "\n",
    "sns.scatterplot(x=x.ravel(), y=y.ravel(), ax=ax, color=\"green\")\n",
    "sns.lineplot(x=x.ravel(), y=predicted_y.ravel(), ax=ax, color=\"red\")\n",
    "ax.set_xlabel(\"X\")\n",
    "ax.set_ylabel(\"Y\");\n"
   ]
  },
  {
   "cell_type": "code",
   "execution_count": 66,
   "metadata": {
    "pycharm": {
     "name": "#%%\n"
    }
   },
   "outputs": [
    {
     "name": "stdout",
     "output_type": "stream",
     "text": [
      "[INFO] estimated slope: [[0.48969176]] and bias/intercept : [-1.553011]......\n"
     ]
    }
   ],
   "source": [
    "# look at the estimated parameters\n",
    "w = model.weight.data.numpy()\n",
    "b = model.bias.data.numpy()\n",
    "\n",
    "print(f\"[INFO] estimated slope: {w} and bias/intercept : {b}......\")"
   ]
  },
  {
   "cell_type": "code",
   "execution_count": null,
   "metadata": {
    "pycharm": {
     "name": "#%%\n"
    }
   },
   "outputs": [],
   "source": []
  }
 ],
 "metadata": {
  "kernelspec": {
   "display_name": "Python 3",
   "language": "python",
   "name": "python3"
  },
  "language_info": {
   "codemirror_mode": {
    "name": "ipython",
    "version": 3
   },
   "file_extension": ".py",
   "mimetype": "text/x-python",
   "name": "python",
   "nbconvert_exporter": "python",
   "pygments_lexer": "ipython3",
   "version": "3.6.5"
  }
 },
 "nbformat": 4,
 "nbformat_minor": 1
}
