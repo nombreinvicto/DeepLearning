{
 "cells": [
  {
   "cell_type": "code",
   "execution_count": 21,
   "metadata": {
    "collapsed": true
   },
   "outputs": [],
   "source": [
    "import torch\n",
    "from torch import nn\n",
    "from torch import optim\n",
    "import torch.nn.functional as F\n",
    "from torch.utils.data import DataLoader\n",
    "from torchvision import datasets, transforms, models\n",
    "\n",
    "import numpy as np\n",
    "import matplotlib.pyplot as plt"
   ]
  },
  {
   "cell_type": "code",
   "execution_count": 22,
   "outputs": [],
   "source": [
    "# generate 20 sample points\n",
    "N = 20\n",
    "\n",
    "# random data points along the x axis in the range -5 to +5\n",
    "x = np.random.random(N) * 10 - 5\n",
    "\n",
    "# a line plus some noise\n",
    "y = 0.5*x + np.random.randn(N)\n"
   ],
   "metadata": {
    "collapsed": false,
    "pycharm": {
     "name": "#%%\n"
    }
   }
  },
  {
   "cell_type": "code",
   "execution_count": 23,
   "outputs": [
    {
     "data": {
      "text/plain": "<matplotlib.collections.PathCollection at 0x141a0c895c0>"
     },
     "execution_count": 23,
     "metadata": {},
     "output_type": "execute_result"
    },
    {
     "data": {
      "text/plain": "<Figure size 432x288 with 1 Axes>",
      "image/png": "[encoded data removed]"
     },
     "metadata": {
      "needs_background": "light"
     },
     "output_type": "display_data"
    }
   ],
   "source": [
    "# plot the data\n",
    "plt.scatter(x, y)"
   ],
   "metadata": {
    "collapsed": false,
    "pycharm": {
     "name": "#%%\n"
    }
   }
  },
  {
   "cell_type": "code",
   "execution_count": 24,
   "outputs": [],
   "source": [
    "## MODEL\n",
    "# create the model\n",
    "model = nn.Linear(in_features=1, out_features=1)\n",
    "\n",
    "# loos and optimizer\n",
    "criterion = nn.MSELoss()\n",
    "optimizer = torch.optim.SGD(model.parameters(), lr=0.01)\n",
    "\n",
    "# reshape the data\n",
    "x = x.reshape(N, 1)\n",
    "y = y.reshape(N, 1)\n",
    "\n",
    "# do tensor conversions\n",
    "inputs = torch.from_numpy(x.astype(np.float32))\n",
    "targets = torch.from_numpy(y.astype(np.float32))"
   ],
   "metadata": {
    "collapsed": false,
    "pycharm": {
     "name": "#%%\n"
    }
   }
  },
  {
   "cell_type": "code",
   "execution_count": 25,
   "outputs": [
    {
     "name": "stdout",
     "output_type": "stream",
     "text": [
      "Epoch: 1 and loss: 14.161382675170898\n",
      "Epoch: 2 and loss: 10.648093223571777\n",
      "Epoch: 3 and loss: 8.049160957336426\n",
      "Epoch: 4 and loss: 6.126593112945557\n",
      "Epoch: 5 and loss: 4.704346656799316\n",
      "Epoch: 6 and loss: 3.652198314666748\n",
      "Epoch: 7 and loss: 2.8738210201263428\n",
      "Epoch: 8 and loss: 2.297959089279175\n",
      "Epoch: 9 and loss: 1.8719046115875244\n",
      "Epoch: 10 and loss: 1.5566669702529907\n",
      "Epoch: 11 and loss: 1.3234059810638428\n",
      "Epoch: 12 and loss: 1.150787115097046\n",
      "Epoch: 13 and loss: 1.0230287313461304\n",
      "Epoch: 14 and loss: 0.9284573793411255\n",
      "Epoch: 15 and loss: 0.8584372401237488\n",
      "Epoch: 16 and loss: 0.8065807223320007\n",
      "Epoch: 17 and loss: 0.7681624889373779\n",
      "Epoch: 18 and loss: 0.7396869659423828\n",
      "Epoch: 19 and loss: 0.7185686826705933\n",
      "Epoch: 20 and loss: 0.7028945684432983\n",
      "Epoch: 21 and loss: 0.6912497282028198\n",
      "Epoch: 22 and loss: 0.6825875043869019\n",
      "Epoch: 23 and loss: 0.6761333346366882\n",
      "Epoch: 24 and loss: 0.6713143587112427\n",
      "Epoch: 25 and loss: 0.6677067875862122\n",
      "Epoch: 26 and loss: 0.6649969220161438\n",
      "Epoch: 27 and loss: 0.6629527807235718\n",
      "Epoch: 28 and loss: 0.6614025831222534\n",
      "Epoch: 29 and loss: 0.6602193117141724\n",
      "Epoch: 30 and loss: 0.6593090295791626\n",
      "Epoch: 31 and loss: 0.6586018800735474\n",
      "Epoch: 32 and loss: 0.6580464243888855\n",
      "Epoch: 33 and loss: 0.6576043367385864\n",
      "Epoch: 34 and loss: 0.6572474837303162\n",
      "Epoch: 35 and loss: 0.6569546461105347\n",
      "Epoch: 36 and loss: 0.6567106246948242\n",
      "Epoch: 37 and loss: 0.6565034985542297\n",
      "Epoch: 38 and loss: 0.6563248634338379\n",
      "Epoch: 39 and loss: 0.6561683416366577\n",
      "Epoch: 40 and loss: 0.6560289859771729\n",
      "Epoch: 41 and loss: 0.6559033989906311\n",
      "Epoch: 42 and loss: 0.655788779258728\n",
      "Epoch: 43 and loss: 0.655683159828186\n",
      "Epoch: 44 and loss: 0.6555851697921753\n",
      "Epoch: 45 and loss: 0.6554933786392212\n",
      "Epoch: 46 and loss: 0.6554070711135864\n",
      "Epoch: 47 and loss: 0.6553254127502441\n",
      "Epoch: 48 and loss: 0.6552481055259705\n",
      "Epoch: 49 and loss: 0.6551746129989624\n",
      "Epoch: 50 and loss: 0.6551043391227722\n",
      "Epoch: 51 and loss: 0.6550374031066895\n",
      "Epoch: 52 and loss: 0.6549733281135559\n",
      "Epoch: 53 and loss: 0.6549121737480164\n",
      "Epoch: 54 and loss: 0.6548534035682678\n",
      "Epoch: 55 and loss: 0.6547970175743103\n",
      "Epoch: 56 and loss: 0.6547431349754333\n",
      "Epoch: 57 and loss: 0.6546913981437683\n",
      "Epoch: 58 and loss: 0.6546417474746704\n",
      "Epoch: 59 and loss: 0.6545939445495605\n",
      "Epoch: 60 and loss: 0.6545482873916626\n",
      "Epoch: 61 and loss: 0.6545042991638184\n",
      "Epoch: 62 and loss: 0.6544620990753174\n",
      "Epoch: 63 and loss: 0.6544215679168701\n",
      "Epoch: 64 and loss: 0.654382586479187\n",
      "Epoch: 65 and loss: 0.6543452739715576\n",
      "Epoch: 66 and loss: 0.6543093323707581\n",
      "Epoch: 67 and loss: 0.6542748212814331\n",
      "Epoch: 68 and loss: 0.654241681098938\n",
      "Epoch: 69 and loss: 0.6542099714279175\n",
      "Epoch: 70 and loss: 0.6541793346405029\n",
      "Epoch: 71 and loss: 0.6541500687599182\n",
      "Epoch: 72 and loss: 0.6541218757629395\n",
      "Epoch: 73 and loss: 0.6540948152542114\n",
      "Epoch: 74 and loss: 0.6540688276290894\n",
      "Epoch: 75 and loss: 0.6540437936782837\n",
      "Epoch: 76 and loss: 0.654019832611084\n",
      "Epoch: 77 and loss: 0.6539968252182007\n",
      "Epoch: 78 and loss: 0.6539745926856995\n",
      "Epoch: 79 and loss: 0.6539534330368042\n",
      "Epoch: 80 and loss: 0.6539329290390015\n",
      "Epoch: 81 and loss: 0.6539133787155151\n",
      "Epoch: 82 and loss: 0.6538944840431213\n",
      "Epoch: 83 and loss: 0.6538763046264648\n",
      "Epoch: 84 and loss: 0.6538589596748352\n",
      "Epoch: 85 and loss: 0.6538422703742981\n",
      "Epoch: 86 and loss: 0.653826117515564\n",
      "Epoch: 87 and loss: 0.6538107395172119\n",
      "Epoch: 88 and loss: 0.6537959575653076\n",
      "Epoch: 89 and loss: 0.6537817716598511\n",
      "Epoch: 90 and loss: 0.6537680625915527\n",
      "Epoch: 91 and loss: 0.6537550091743469\n",
      "Epoch: 92 and loss: 0.6537423133850098\n",
      "Epoch: 93 and loss: 0.6537302732467651\n",
      "Epoch: 94 and loss: 0.6537185907363892\n",
      "Epoch: 95 and loss: 0.6537073850631714\n",
      "Epoch: 96 and loss: 0.6536968350410461\n",
      "Epoch: 97 and loss: 0.6536864638328552\n",
      "Epoch: 98 and loss: 0.6536765694618225\n",
      "Epoch: 99 and loss: 0.6536670923233032\n",
      "Epoch: 100 and loss: 0.6536577939987183\n"
     ]
    }
   ],
   "source": [
    "## TRAIN\n",
    "n_epochs = 100\n",
    "losees = []\n",
    "\n",
    "for it in range(n_epochs):\n",
    "\n",
    "    # xero the gradients\n",
    "    optimizer.zero_grad()\n",
    "\n",
    "    # forward pass\n",
    "    outputs = model(inputs)\n",
    "    loss = criterion(outputs, targets)\n",
    "\n",
    "    losees.append(loss.item())\n",
    "\n",
    "    # backprop\n",
    "    loss.backward()\n",
    "    optimizer.step()\n",
    "\n",
    "    print(f\"Epoch: {it+1} and loss: {loss.item()}\")"
   ],
   "metadata": {
    "collapsed": false,
    "pycharm": {
     "name": "#%%\n"
    }
   }
  },
  {
   "cell_type": "code",
   "execution_count": 26,
   "outputs": [
    {
     "data": {
      "text/plain": "[<matplotlib.lines.Line2D at 0x1419f6c0fd0>]"
     },
     "execution_count": 26,
     "metadata": {},
     "output_type": "execute_result"
    },
    {
     "data": {
      "text/plain": "<Figure size 432x288 with 1 Axes>",
      "image/png": "[encoded data removed]"
     },
     "metadata": {
      "needs_background": "light"
     },
     "output_type": "display_data"
    }
   ],
   "source": [
    "plt.plot(range(n_epochs), losees)"
   ],
   "metadata": {
    "collapsed": false,
    "pycharm": {
     "name": "#%%\n"
    }
   }
  }
 ],
 "metadata": {
  "kernelspec": {
   "display_name": "Python 3",
   "language": "python",
   "name": "python3"
  },
  "language_info": {
   "codemirror_mode": {
    "name": "ipython",
    "version": 2
   },
   "file_extension": ".py",
   "mimetype": "text/x-python",
   "name": "python",
   "nbconvert_exporter": "python",
   "pygments_lexer": "ipython2",
   "version": "2.7.6"
  }
 },
 "nbformat": 4,
 "nbformat_minor": 0
}