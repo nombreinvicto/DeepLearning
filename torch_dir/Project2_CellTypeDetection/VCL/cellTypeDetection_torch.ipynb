{
 "cells": [
  {
   "cell_type": "code",
   "execution_count": 17,
   "metadata": {
    "pycharm": {
     "is_executing": false,
     "name": "#%%\n"
    }
   },
   "outputs": [],
   "source": [
    "import torch\n",
    "from torch import nn\n",
    "from torch import optim\n",
    "import numpy as np\n",
    "import torch.nn.functional as F\n",
    "import seaborn as sns\n",
    "import matplotlib.pyplot as plt\n",
    "from torch.utils.data import DataLoader\n",
    "from loader_util.datasets import CustomTorchDataset, train_test_split_paths \n",
    "from torchvision import datasets, transforms, models"
   ]
  },
  {
   "cell_type": "code",
   "execution_count": 2,
   "metadata": {
    "pycharm": {
     "is_executing": false,
     "name": "#%%\n"
    }
   },
   "outputs": [],
   "source": [
    "# define constants\n",
    "batch_size = 32\n",
    "num_epochs = 10"
   ]
  },
  {
   "cell_type": "code",
   "execution_count": 3,
   "metadata": {
    "pycharm": {
     "is_executing": false,
     "name": "#%%\n"
    }
   },
   "outputs": [],
   "source": [
    "data_dir = r\"/home/mhasan3/Desktop/WorkFolder/cellImages3/\""
   ]
  },
  {
   "cell_type": "code",
   "execution_count": 5,
   "metadata": {
    "pycharm": {
     "is_executing": false,
     "name": "#%%\n"
    }
   },
   "outputs": [],
   "source": [
    "baseModel = models.vgg16(pretrained=True)"
   ]
  },
  {
   "cell_type": "code",
   "execution_count": 6,
   "metadata": {
    "pycharm": {
     "is_executing": false,
     "name": "#%%\n"
    }
   },
   "outputs": [],
   "source": [
    "# remove classifier head\n",
    "for param in baseModel.parameters():\n",
    "    param.requires_grad = False"
   ]
  },
  {
   "cell_type": "code",
   "execution_count": 7,
   "metadata": {
    "pycharm": {
     "is_executing": false,
     "name": "#%%    \n"
    }
   },
   "outputs": [],
   "source": [
    "# remove head\n",
    "cell_types = 3\n",
    "fcHead = nn.Linear(in_features=4096, out_features=cell_types)\n",
    "baseModel.classifier[6] = fcHead"
   ]
  },
  {
   "cell_type": "code",
   "execution_count": 8,
   "metadata": {
    "pycharm": {
     "is_executing": false,
     "name": "#%%\n"
    }
   },
   "outputs": [],
   "source": [
    "train_transform = transforms.Compose([\n",
    "    transforms.RandomResizedCrop(224),\n",
    "    transforms.RandomHorizontalFlip(),\n",
    "    transforms.RandomVerticalFlip(),\n",
    "    transforms.ToTensor(),\n",
    "    transforms.Normalize([0.485, 0.456, 0.406], [0.229, 0.224, 0.225])\n",
    "])\n",
    "\n",
    "valid_transforms = transforms.Compose([\n",
    "        transforms.Resize(224),\n",
    "        transforms.CenterCrop(224),\n",
    "        transforms.ToTensor(),\n",
    "        transforms.Normalize([0.485, 0.456, 0.406], [0.229, 0.224, 0.225])])"
   ]
  },
  {
   "cell_type": "code",
   "execution_count": 9,
   "metadata": {
    "pycharm": {
     "is_executing": false,
     "name": "#%%    \n"
    }
   },
   "outputs": [],
   "source": [
    "trainPaths, testPaths = train_test_split_paths(data_dir)"
   ]
  },
  {
   "cell_type": "code",
   "execution_count": 10,
   "metadata": {
    "pycharm": {
     "is_executing": false,
     "name": "#%%\n"
    }
   },
   "outputs": [],
   "source": [
    "train_data = CustomTorchDataset(pathList=trainPaths,\n",
    "                                tranforms=train_transform)\n",
    "test_data = CustomTorchDataset(pathList=testPaths,\n",
    "                                tranforms=valid_transforms)"
   ]
  },
  {
   "cell_type": "code",
   "execution_count": 11,
   "metadata": {
    "pycharm": {
     "is_executing": false,
     "name": "#%%\n"
    }
   },
   "outputs": [],
   "source": [
    "train_loader = DataLoader(train_data,\n",
    "                          batch_size=batch_size,\n",
    "                          shuffle=True,\n",
    "                          num_workers=4)\n",
    "test_loader = DataLoader(test_data,\n",
    "                         batch_size=batch_size)"
   ]
  },
  {
   "cell_type": "code",
   "execution_count": 12,
   "metadata": {
    "pycharm": {
     "is_executing": false,
     "name": "#%%\n"
    }
   },
   "outputs": [
    {
     "data": {
      "text/plain": [
       "device(type='cuda', index=0)"
      ]
     },
     "execution_count": 12,
     "metadata": {},
     "output_type": "execute_result"
    }
   ],
   "source": [
    "# Detect if we have a GPU available\n",
    "device = torch.device(\"cuda:0\" if torch.cuda.is_available() else \"cpu\")\n",
    "baseModel.to(device=device)\n",
    "device"
   ]
  },
  {
   "cell_type": "code",
   "execution_count": 13,
   "metadata": {
    "pycharm": {
     "is_executing": false,
     "name": "#%%\n"
    }
   },
   "outputs": [
    {
     "name": "stdout",
     "output_type": "stream",
     "text": [
      "Params to learn:\n",
      "\t classifier.6.weight\n",
      "\t classifier.6.bias\n"
     ]
    }
   ],
   "source": [
    "params_to_update = []\n",
    "print(\"Params to learn:\")\n",
    "\n",
    "for name,param in baseModel.named_parameters():\n",
    "    if param.requires_grad == True:\n",
    "        params_to_update.append(param)\n",
    "        print(\"\\t\",name)"
   ]
  },
  {
   "cell_type": "code",
   "execution_count": 14,
   "metadata": {
    "pycharm": {
     "name": "#%%\n"
    }
   },
   "outputs": [
    {
     "name": "stdout",
     "output_type": "stream",
     "text": [
      "Epoch: 1\n",
      "38 train batches completed\n",
      "Training loss: 0.5803627183562831 \n",
      "Train accu: 0.7594888663967612\n",
      "17 test batches completed\n",
      "Validation loss: 0.2512383198036867\n",
      "Validation accu: 0.9319852941176471\n",
      "==================================================\n",
      "Epoch: 2\n",
      "38 train batches completed\n",
      "Training loss: 0.24833209989102265 \n",
      "Train accu: 0.9262398785425102\n",
      "17 test batches completed\n",
      "Validation loss: 0.18606916245292215\n",
      "Validation accu: 0.9491421568627452\n",
      "==================================================\n",
      "Epoch: 3\n",
      "38 train batches completed\n",
      "Training loss: 0.19950045743270925 \n",
      "Train accu: 0.9305414979757084\n",
      "17 test batches completed\n",
      "Validation loss: 0.12992741824949489\n",
      "Validation accu: 0.9736519607843137\n",
      "==================================================\n",
      "Epoch: 4\n",
      "38 train batches completed\n",
      "Training loss: 0.15757418816026889 \n",
      "Train accu: 0.9496457489878543\n",
      "17 test batches completed\n",
      "Validation loss: 0.11506309009650174\n",
      "Validation accu: 0.9816176470588235\n",
      "==================================================\n",
      "Epoch: 5\n",
      "38 train batches completed\n",
      "Training loss: 0.1652799595735575 \n",
      "Train accu: 0.9463562753036436\n",
      "17 test batches completed\n",
      "Validation loss: 0.09723128729006823\n",
      "Validation accu: 0.9834558823529411\n",
      "==================================================\n",
      "Epoch: 6\n",
      "38 train batches completed\n",
      "Training loss: 0.16413102789144768 \n",
      "Train accu: 0.93895495951417\n",
      "17 test batches completed\n",
      "Validation loss: 0.09482137595905978\n",
      "Validation accu: 0.9871323529411765\n",
      "==================================================\n",
      "Epoch: 7\n",
      "38 train batches completed\n",
      "Training loss: 0.15511939370710598 \n",
      "Train accu: 0.9504681174089068\n",
      "17 test batches completed\n",
      "Validation loss: 0.08393899592406609\n",
      "Validation accu: 0.9852941176470589\n",
      "==================================================\n",
      "Epoch: 8\n",
      "38 train batches completed\n",
      "Training loss: 0.1244921587211521 \n",
      "Train accu: 0.9593243927125505\n",
      "17 test batches completed\n",
      "Validation loss: 0.0776924295898746\n",
      "Validation accu: 0.9871323529411765\n",
      "==================================================\n",
      "Epoch: 9\n",
      "38 train batches completed\n",
      "Training loss: 0.14561075217237598 \n",
      "Train accu: 0.9494559716599189\n",
      "17 test batches completed\n",
      "Validation loss: 0.07326708843602854\n",
      "Validation accu: 0.9908088235294118\n",
      "==================================================\n",
      "Epoch: 10\n",
      "38 train batches completed\n",
      "Training loss: 0.11573474040549052 \n",
      "Train accu: 0.9662828947368421\n",
      "17 test batches completed\n",
      "Validation loss: 0.06700904755031362\n",
      "Validation accu: 0.9908088235294118\n",
      "==================================================\n"
     ]
    }
   ],
   "source": [
    "epoch_train_losses = []\n",
    "epoch_train_accus = []\n",
    "epoch_valid_losses = []\n",
    "epoch_valid_accus = []\n",
    "\n",
    "# define the loss\n",
    "criterion = nn.CrossEntropyLoss()\n",
    "\n",
    "# create the optimizer\n",
    "optimizer = optim.SGD(params_to_update, lr=0.001, momentum=0.9)\n",
    "\n",
    "# loop over the epochs\n",
    "for epoch in range (1, num_epochs + 1):\n",
    "    \n",
    "    # keep track of all losses\n",
    "    running_train_loss = 0\n",
    "    running_valid_loss = 0\n",
    "    \n",
    "    running_train_acc = 0\n",
    "    running_valid_acc = 0\n",
    "    \n",
    "    train_batch_no = 0\n",
    "    valid_batch_no = 0\n",
    "    \n",
    "    # TRAIN\n",
    "    baseModel.train()\n",
    "    for images, labels in train_loader:\n",
    "        images, labels = images.to(device), labels.to(device)\n",
    "\n",
    "        train_batch_no += 1\n",
    "        \n",
    "        # Training pass\n",
    "        optimizer.zero_grad()\n",
    "        logits = baseModel(images)\n",
    "        loss = criterion(logits, labels)\n",
    "        \n",
    "        # exponentiate the logits\n",
    "        exp_logits = torch.exp(logits)\n",
    "        \n",
    "        # pass thru softmax to calculate probs\n",
    "        probs = exp_logits / (torch.sum(exp_logits, dim=1).view(exp_logits.shape[0],-1))\n",
    "        \n",
    "        # get top class and to class prob\n",
    "        top_p, top_class = probs.topk(1, dim=1)\n",
    "        \n",
    "        # reshape labels into column vector\n",
    "        labels = labels.view(labels.shape[0], -1)\n",
    "    \n",
    "        # find which labels are correctly classified\n",
    "        acc_boolean = top_class == labels\n",
    "       \n",
    "        # finally calculate accuracy\n",
    "        running_train_acc += np.sum(acc_boolean.cpu().numpy()) / len(acc_boolean)\n",
    "        \n",
    "        # make gradient descent step\n",
    "        loss.backward()\n",
    "        optimizer.step()\n",
    "\n",
    "        running_train_loss += loss.item()\n",
    "    else:\n",
    "        epoch_train_loss = running_train_loss / train_batch_no\n",
    "        epoch_train_losses.append(epoch_train_loss)\n",
    "        epoch_train_accu = running_train_acc / train_batch_no\n",
    "        epoch_train_accus.append(epoch_train_accu)\n",
    "        print(f\"Epoch: {epoch}\")\n",
    "        print(f'{train_batch_no} train batches completed')\n",
    "        \n",
    "        \n",
    "    \n",
    "    # VALIDATE\n",
    "    baseModel.eval()\n",
    "    with torch.no_grad():\n",
    "        for valid_images, valid_labels in test_loader:\n",
    "            valid_images, valid_labels = valid_images.to(device), valid_labels.to\\\n",
    "                (device)\n",
    "            valid_batch_no += 1\n",
    "            \n",
    "            # Validation pass\n",
    "            valid_logits = baseModel(valid_images)\n",
    "            valid_loss = criterion(valid_logits, valid_labels)\n",
    "            \n",
    "            # exponentiate the logits\n",
    "            valid_exp_logits = torch.exp(valid_logits)\n",
    "            \n",
    "            # pass thru softmax to calculate probs\n",
    "            valid_probs = valid_exp_logits / (torch.sum(valid_exp_logits, dim=1)\n",
    "                                              .view(valid_exp_logits.shape[0],-1))\n",
    "            \n",
    "            # get top class and to class prob\n",
    "            valid_top_p, valid_top_class = valid_probs.topk(1, dim=1)\n",
    "            \n",
    "            # reshape labels into column vector\n",
    "            valid_labels = valid_labels.view(valid_labels.shape[0], -1)\n",
    "        \n",
    "            # find which labels are correctly classified\n",
    "            valid_acc_boolean = valid_top_class == valid_labels\n",
    "           \n",
    "            # finally calculate accuracy\n",
    "            running_valid_acc += np.sum(valid_acc_boolean.cpu().numpy()) / len\\\n",
    "                (valid_acc_boolean)\n",
    "    \n",
    "            running_valid_loss += valid_loss.item()\n",
    "        else:\n",
    "            # dividing because running loss is the sum loss of all batches \n",
    "            epoch_valid_loss = running_valid_loss / valid_batch_no\n",
    "            epoch_valid_accu = running_valid_acc / valid_batch_no\n",
    "            epoch_valid_losses.append(epoch_valid_loss)\n",
    "            epoch_valid_accus.append(epoch_valid_accu)\n",
    "            print ( f\"Training loss: {epoch_train_loss} \" )\n",
    "            print(f'Train accu: {epoch_train_accu}')\n",
    "            print(f'{valid_batch_no} test batches completed')\n",
    "            print ( f\"Validation loss: {epoch_valid_loss}\")\n",
    "            print(f'Validation accu: {epoch_valid_accu}')\n",
    "            print(\"=\" * 50)"
   ]
  },
  {
   "cell_type": "code",
   "execution_count": 18,
   "metadata": {
    "pycharm": {
     "name": "#%%   \n"
    }
   },
   "outputs": [
    {
     "data": {
      "image/png": "[encoded data removed]",
      "text/plain": [
       "<Figure size 1080x576 with 1 Axes>"
      ]
     },
     "metadata": {},
     "output_type": "display_data"
    }
   ],
   "source": [
    "# evaluate the network\n",
    "# plot the performance\n",
    "import pandas as pd\n",
    "epochs = range(1, num_epochs+1)\n",
    "plot_df = pd.DataFrame(data=np.c_[epochs, epoch_train_losses, \n",
    "                                  epoch_valid_losses, epoch_train_accus, \n",
    "                                  epoch_valid_accus], \n",
    "                       columns=['epochs','train_loss', 'test_loss', \n",
    "                                'train_acc', 'valid_acc'])\n",
    "\n",
    "# do the actual plots\n",
    "sns.set(font_scale=1)\n",
    "f, ax = plt.subplots(1, 1, figsize=(15,8))\n",
    "sns.lineplot(data=plot_df, x='epochs', y='train_loss', ax=ax, label='trainloss', linewidth=3)\n",
    "sns.lineplot(data=plot_df, x='epochs', y='test_loss', ax=ax, label='val loss', linewidth=3)\n",
    "sns.lineplot(data=plot_df, x='epochs', y='valid_acc', ax=ax, label='val_acc', \n",
    "             linewidth=3)\n",
    "sns.lineplot(data=plot_df, x='epochs', y='train_acc', ax=ax, \n",
    "             label='train_acc', linewidth=3)\n",
    "ax.set_ylabel('Loss/Accuracy')\n",
    "ax.set_xlabel('Epochs')\n",
    "plt.setp(ax.get_legend().get_texts(), fontsize='18'); # for legend text         "
   ]
  },
  {
   "cell_type": "code",
   "execution_count": null,
   "metadata": {},
   "outputs": [],
   "source": []
  }
 ],
 "metadata": {
  "kernelspec": {
   "display_name": "Python 3",
   "language": "python",
   "name": "python3"
  },
  "language_info": {
   "codemirror_mode": {
    "name": "ipython",
    "version": 3
   },
   "file_extension": ".py",
   "mimetype": "text/x-python",
   "name": "python",
   "nbconvert_exporter": "python",
   "pygments_lexer": "ipython3",
   "version": "3.6.7"
  },
  "pycharm": {
   "stem_cell": {
    "cell_type": "raw",
    "metadata": {
     "collapsed": false
    },
    "source": []
   }
  }
 },
 "nbformat": 4,
 "nbformat_minor": 1
}
