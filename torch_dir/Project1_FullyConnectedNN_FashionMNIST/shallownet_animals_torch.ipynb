{
 "cells": [
  {
   "cell_type": "code",
   "execution_count": 7,
   "metadata": {
    "pycharm": {
     "is_executing": false,
     "name": "#%%\n"
    }
   },
   "outputs": [
    {
     "name": "stdout",
     "output_type": "stream",
     "text": [
      "CUDA is available! Training on GPU\n"
     ]
    }
   ],
   "source": [
    "# import miscellaneous helper libraries\n",
    "import os\n",
    "import imutils\n",
    "from imutils import paths\n",
    "from loader_util.nn.conv import ShallowNetTorch\n",
    "\n",
    "# import pytorch imports\n",
    "import torch\n",
    "from torch import nn, optim\n",
    "from torchvision import datasets, transforms, models\n",
    "from torch.utils.data.sampler import SubsetRandomSampler\n",
    "from torch.utils.data import DataLoader\n",
    "\n",
    "# import numpy-pandas imports\n",
    "import numpy as np\n",
    "import seaborn as sns\n",
    "import matplotlib.pyplot as plt\n",
    "import matplotlib.axes._axes as axes\n",
    "sns.set()\n",
    "\n",
    "\n",
    "# check if CUDA is available or not\n",
    "if not torch.cuda.is_available():\n",
    "    print('CUDA is not available. Tranin on CPU....')\n",
    "else:\n",
    "    print('CUDA is available! Training on GPU')\n",
    "    device = torch.device(\"cuda\")"
   ]
  },
  {
   "cell_type": "code",
   "execution_count": 8,
   "metadata": {
    "pycharm": {
     "is_executing": false,
     "name": "#%%\n"
    }
   },
   "outputs": [],
   "source": [
    "# construct imagePaths\n",
    "pyth_dir = r\"C:\\Users\\mhasa\\Google Drive\\Tutorial Corner\\PYTH\"\n",
    "image_folder = os.path.join(pyth_dir,\n",
    "                            'DeepLearning',\n",
    "                            'DeepLearning-DL4CV',\n",
    "                            'Edition3',\n",
    "                            'SB_Code',\n",
    "                            'datasets',\n",
    "                            'animals')\n",
    "args = {\n",
    "    'dataset': image_folder\n",
    "}\n",
    "imagePaths = list(paths.list_images(args['dataset']))"
   ]
  },
  {
   "cell_type": "code",
   "execution_count": 9,
   "metadata": {
    "pycharm": {
     "is_executing": false,
     "name": "#%%\n"
    }
   },
   "outputs": [],
   "source": [
    "# Construct Transformations\n",
    "train_transforms = transforms.Compose([\n",
    "    transforms.RandomRotation(30),\n",
    "    transforms.Resize(size=(32,32)),\n",
    "    transforms.RandomHorizontalFlip(),\n",
    "    transforms.ToTensor(),\n",
    "    transforms.Normalize((0.5,0.5,0.5),(0.5,0.5,0.5))\n",
    "])\n",
    "\n",
    "valid_transforms = transforms.Compose([\n",
    "    transforms.Resize(size=(64,64)),\n",
    "    transforms.ToTensor(),\n",
    "    transforms.Normalize((0.5,0.5,0.5),(0.5,0.5,0.5))\n",
    "])\n",
    "\n",
    "# create and load the dataset\n",
    "data = datasets.ImageFolder(image_folder, transform=valid_transforms) \n",
    "data_len = len(data)\n",
    "data_indices = list(range(data_len))\n",
    "\n",
    "test_data_percentage = 10\n",
    "test_data_len = int(np.floor(data_len * test_data_percentage / 100))\n",
    "\n",
    "test_idx, train_idx = data_indices[:test_data_len], \\\n",
    "                      data_indices[test_data_len:]\n",
    "\n",
    "train_sampler = SubsetRandomSampler(train_idx)\n",
    "test_sampler = SubsetRandomSampler(test_idx)\n",
    "\n",
    "trainLoader = DataLoader(dataset=data,\n",
    "                         batch_size=32,\n",
    "                         sampler=train_sampler)\n",
    "validLoader = DataLoader(dataset=data,\n",
    "                         batch_size=32,\n",
    "                         sampler=test_sampler)"
   ]
  },
  {
   "cell_type": "code",
   "execution_count": 10,
   "metadata": {
    "pycharm": {
     "is_executing": false,
     "name": "#%%\n"
    }
   },
   "outputs": [
    {
     "data": {
      "text/plain": [
       "ShallowNetTorch(\n",
       "  (conv1): Conv2d(3, 32, kernel_size=(3, 3), stride=(1, 1), padding=(1, 1))\n",
       "  (activation): ReLU()\n",
       "  (fc1): Linear(in_features=131072, out_features=3, bias=True)\n",
       ")"
      ]
     },
     "execution_count": 10,
     "metadata": {},
     "output_type": "execute_result"
    }
   ],
   "source": [
    "# initialise the model on CUDA\n",
    "model = ShallowNetTorch(width=64, height=64, depth=3, classes=3)\n",
    "model.to(device)"
   ]
  },
  {
   "cell_type": "code",
   "execution_count": 11,
   "metadata": {
    "pycharm": {
     "is_executing": false,
     "name": "#%%\n"
    }
   },
   "outputs": [
    {
     "data": {
      "text/plain": [
       "10"
      ]
     },
     "execution_count": 11,
     "metadata": {},
     "output_type": "execute_result"
    }
   ],
   "source": [
    "len(validLoader)"
   ]
  },
  {
   "cell_type": "code",
   "execution_count": 14,
   "metadata": {
    "pycharm": {
     "is_executing": false,
     "name": "#%%\n"
    }
   },
   "outputs": [
    {
     "name": "stdout",
     "output_type": "stream",
     "text": [
      "Epoch: 1\n",
      "85 train batches completed\n",
      "Training loss: 0.0006236118428847369 \n",
      "Train accu: 1.0\n",
      "10 test batches completed\n",
      "Validation loss: 2.807943320274353\n",
      "Validation accu: 0.5\n",
      "==================================================\n",
      "Epoch: 2\n",
      "85 train batches completed\n",
      "Training loss: 0.0006188927909961956 \n",
      "Train accu: 1.0\n",
      "10 test batches completed\n",
      "Validation loss: 2.855488634109497\n",
      "Validation accu: 0.5052083333333333\n",
      "==================================================\n",
      "Epoch: 3\n",
      "85 train batches completed\n",
      "Training loss: 0.0006105310194577803 \n",
      "Train accu: 1.0\n",
      "10 test batches completed\n",
      "Validation loss: 2.906231415271759\n",
      "Validation accu: 0.5041666666666667\n",
      "==================================================\n",
      "Epoch: 4\n",
      "85 train batches completed\n",
      "Training loss: 0.000604245183058083 \n",
      "Train accu: 1.0\n",
      "10 test batches completed\n",
      "Validation loss: 3.002025508880615\n",
      "Validation accu: 0.5083333333333333\n",
      "==================================================\n",
      "Epoch: 5\n",
      "85 train batches completed\n",
      "Training loss: 0.000597945849329014 \n",
      "Train accu: 1.0\n",
      "10 test batches completed\n",
      "Validation loss: 2.8842676877975464\n",
      "Validation accu: 0.5041666666666667\n",
      "==================================================\n",
      "Epoch: 6\n",
      "85 train batches completed\n",
      "Training loss: 0.0005880999796585563 \n",
      "Train accu: 1.0\n",
      "10 test batches completed\n",
      "Validation loss: 2.766901695728302\n",
      "Validation accu: 0.5239583333333333\n",
      "==================================================\n",
      "Epoch: 7\n",
      "85 train batches completed\n",
      "Training loss: 0.0005860422758440322 \n",
      "Train accu: 1.0\n",
      "10 test batches completed\n",
      "Validation loss: 2.9197059631347657\n",
      "Validation accu: 0.5135416666666667\n",
      "==================================================\n",
      "Epoch: 8\n",
      "85 train batches completed\n",
      "Training loss: 0.0005762463688905187 \n",
      "Train accu: 1.0\n",
      "10 test batches completed\n",
      "Validation loss: 2.835879909992218\n",
      "Validation accu: 0.525\n",
      "==================================================\n",
      "Epoch: 9\n",
      "85 train batches completed\n",
      "Training loss: 0.0005680159610860488 \n",
      "Train accu: 1.0\n",
      "10 test batches completed\n",
      "Validation loss: 2.9647091388702393\n",
      "Validation accu: 0.5041666666666667\n",
      "==================================================\n",
      "Epoch: 10\n",
      "85 train batches completed\n",
      "Training loss: 0.0005638667183709057 \n",
      "Train accu: 1.0\n",
      "10 test batches completed\n",
      "Validation loss: 2.89119930267334\n",
      "Validation accu: 0.5072916666666667\n",
      "==================================================\n"
     ]
    }
   ],
   "source": [
    "# Train the model\n",
    "epochs = 10\n",
    "epoch_train_losses = []\n",
    "epoch_train_accus = []\n",
    "epoch_valid_losses = []\n",
    "epoch_valid_accus = []\n",
    "\n",
    "# define the loss\n",
    "criterion = nn.CrossEntropyLoss()\n",
    "\n",
    "# create the optimizer\n",
    "optimizer = optim.SGD(model.parameters(), lr=0.005, momentum=0.9)\n",
    "\n",
    "# loop over the epochs\n",
    "for epoch in range (1, epochs + 1):\n",
    "    \n",
    "    # keep track of all losses\n",
    "    running_train_loss = 0\n",
    "    running_valid_loss = 0\n",
    "    \n",
    "    running_train_acc = 0\n",
    "    running_valid_acc = 0\n",
    "    \n",
    "    train_batch_no = 0\n",
    "    test_batch_no = 0\n",
    "    \n",
    "    # TRAIN\n",
    "    model.train()\n",
    "    for images, labels in trainLoader:\n",
    "        images, labels = images.to(device), labels.to(device)\n",
    "        train_batch_no += 1\n",
    "        \n",
    "        # Training pass\n",
    "        optimizer.zero_grad()\n",
    "        logits = model(images)\n",
    "        loss = criterion(logits, labels)\n",
    "        \n",
    "        # exponentiate the logits\n",
    "        exp_logits = torch.exp(logits)\n",
    "        \n",
    "        # pass thru softmax to calculate probs\n",
    "        probs = exp_logits / (torch.sum(exp_logits, dim=1).view(exp_logits.shape[0],-1))\n",
    "        \n",
    "        # get top class and to class prob\n",
    "        top_p, top_class = probs.topk(1, dim=1)\n",
    "        \n",
    "        # reshape labels into column vector\n",
    "        labels = labels.view(labels.shape[0], -1)\n",
    "    \n",
    "        # find which labels are correctly classified\n",
    "        acc_boolean = top_class == labels\n",
    "       \n",
    "        # finally calculate accuracy\n",
    "        running_train_acc += np.sum(acc_boolean.cpu().numpy()) / len(acc_boolean)\n",
    "        \n",
    "        \n",
    "        loss.backward()\n",
    "        optimizer.step()\n",
    "\n",
    "        running_train_loss += loss.item()\n",
    "    else:\n",
    "        # dividing because running loss is the sum loss of all batches \n",
    "        epoch_train_loss = running_train_loss / train_batch_no\n",
    "        epoch_train_losses.append(epoch_train_loss)\n",
    "        epoch_train_accu = running_train_acc / train_batch_no\n",
    "        epoch_train_accus.append(epoch_train_accu)\n",
    "        print(f\"Epoch: {epoch}\")\n",
    "        print(f'{train_batch_no} train batches completed')\n",
    "        \n",
    "        \n",
    "    \n",
    "    # VALIDATE\n",
    "    model.eval()\n",
    "    for images, labels in validLoader:\n",
    "        images, labels = images.to(device), labels.to(device)\n",
    "        test_batch_no += 1\n",
    "        \n",
    "        # Validation pass\n",
    "        logits = model(images)\n",
    "        loss = criterion(logits, labels)\n",
    "        \n",
    "        # exponentiate the logits\n",
    "        exp_logits = torch.exp(logits)\n",
    "        \n",
    "        # pass thru softmax to calculate probs\n",
    "        probs = exp_logits / (torch.sum(exp_logits, dim=1).view(exp_logits.shape[0],-1))\n",
    "        \n",
    "        # get top class and to class prob\n",
    "        top_p, top_class = probs.topk(1, dim=1)\n",
    "        \n",
    "        # reshape labels into column vector\n",
    "        labels = labels.view(labels.shape[0], -1)\n",
    "    \n",
    "        # find which labels are correctly classified\n",
    "        acc_boolean = top_class == labels\n",
    "       \n",
    "        # finally calculate accuracy\n",
    "        running_valid_acc += np.sum(acc_boolean.cpu().numpy()) / len(acc_boolean)\n",
    "\n",
    "        running_valid_loss += loss.item()\n",
    "    else:\n",
    "        # dividing because running loss is the sum loss of all batches \n",
    "        epoch_test_loss = running_valid_loss / test_batch_no\n",
    "        epoch_test_accu = running_valid_acc / test_batch_no\n",
    "        epoch_valid_losses.append(epoch_test_loss)\n",
    "        epoch_valid_accus.append(epoch_test_accu)\n",
    "        print ( f\"Training loss: {epoch_train_loss} \" )\n",
    "        print(f'Train accu: {epoch_train_accu}')\n",
    "        print(f'{test_batch_no} test batches completed')\n",
    "        print ( f\"Validation loss: {epoch_test_loss}\")\n",
    "        print(f'Validation accu: {epoch_test_accu}')\n",
    "        print(\"=\" * 50)"
   ]
  },
  {
   "cell_type": "code",
   "execution_count": 15,
   "metadata": {
    "pycharm": {
     "is_executing": false,
     "name": "#%%\n"
    }
   },
   "outputs": [
    {
     "data": {
      "image/png": "[encoded data removed]",
      "text/plain": [
       "<Figure size 1080x576 with 1 Axes>"
      ]
     },
     "metadata": {},
     "output_type": "display_data"
    }
   ],
   "source": [
    "# evaluate the network\n",
    "# plot the performance\n",
    "import pandas as pd\n",
    "epochs = range(1, epochs+1)\n",
    "plot_df = pd.DataFrame(data=np.c_[epochs, epoch_train_losses, \n",
    "                                  epoch_valid_losses, epoch_train_accus, \n",
    "                                  epoch_valid_accus], \n",
    "                       columns=['epochs','train_loss', 'test_loss', \n",
    "                                'train_acc', 'valid_acc'])\n",
    "\n",
    "# do the actual plots\n",
    "sns.set(font_scale=1)\n",
    "f, ax = plt.subplots(1, 1, figsize=(15,8))\n",
    "sns.lineplot(data=plot_df, x='epochs', y='train_loss', ax=ax, label='trainloss', linewidth=3)\n",
    "sns.lineplot(data=plot_df, x='epochs', y='test_loss', ax=ax, label='val loss', linewidth=3)\n",
    "sns.lineplot(data=plot_df, x='epochs', y='valid_acc', ax=ax, label='val_acc', \n",
    "             linewidth=3)\n",
    "sns.lineplot(data=plot_df, x='epochs', y='train_acc', ax=ax, \n",
    "             label='train_acc', linewidth=3)\n",
    "ax.set_ylabel('Loss')\n",
    "ax.set_xlabel('Epochs')\n",
    "plt.setp(ax.get_legend().get_texts(), fontsize='18'); # for legend text"
   ]
  },
  {
   "cell_type": "code",
   "execution_count": 32,
   "metadata": {
    "pycharm": {
     "is_executing": false,
     "name": "#%%\n"
    }
   },
   "outputs": [],
   "source": []
  }
 ],
 "metadata": {
  "kernelspec": {
   "display_name": "Python 3",
   "language": "python",
   "name": "python3"
  },
  "language_info": {
   "codemirror_mode": {
    "name": "ipython",
    "version": 3
   },
   "file_extension": ".py",
   "mimetype": "text/x-python",
   "name": "python",
   "nbconvert_exporter": "python",
   "pygments_lexer": "ipython3",
   "version": "3.6.4"
  },
  "pycharm": {
   "stem_cell": {
    "cell_type": "raw",
    "source": [],
    "metadata": {
     "collapsed": false
    }
   }
  }
 },
 "nbformat": 4,
 "nbformat_minor": 1
}