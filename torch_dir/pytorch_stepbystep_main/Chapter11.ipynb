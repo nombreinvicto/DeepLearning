{
 "cells": [
  {
   "cell_type": "markdown",
   "metadata": {},
   "source": [
    "# Deep Learning with PyTorch Step-by-Step: A Beginner's Guide"
   ]
  },
  {
   "cell_type": "markdown",
   "metadata": {},
   "source": [
    "# Chapter 11"
   ]
  },
  {
   "cell_type": "markdown",
   "metadata": {},
   "source": [
    "## Additional Setup"
   ]
  },
  {
   "cell_type": "code",
   "execution_count": 1,
   "metadata": {},
   "outputs": [],
   "source": [
    "# !pip install gensim==3.8.3\n",
    "# !pip install allennlp==0.9.0\n",
    "# !pip install flair==0.8.0.post1 # uses PyTorch 1.7.1\n",
    "# # HuggingFace\n",
    "# !pip install transformers==4.5.1\n",
    "# !pip install datasets==1.6.0"
   ]
  },
  {
   "cell_type": "code",
   "execution_count": 1,
   "metadata": {},
   "outputs": [],
   "source": [
    "try:\n",
    "    import google.colab\n",
    "    import requests\n",
    "    url = 'https://raw.githubusercontent.com/dvgodoy/PyTorchStepByStep/master/config.py'\n",
    "    r = requests.get(url, allow_redirects=True)\n",
    "    open('config.py', 'wb').write(r.content)    \n",
    "except ModuleNotFoundError:\n",
    "    pass\n",
    "\n",
    "from config import *\n",
    "config_chapter11()\n",
    "# This is needed to render the plots in this chapter\n",
    "from plots.chapter11 import *"
   ]
  },
  {
   "cell_type": "code",
   "execution_count": 1,
   "metadata": {},
   "outputs": [],
   "source": [
    "import os\n",
    "import json\n",
    "import errno\n",
    "import requests\n",
    "import numpy as np\n",
    "from copy import deepcopy\n",
    "from operator import itemgetter\n",
    "\n",
    "import torch\n",
    "import torch.optim as optim\n",
    "import torch.nn as nn\n",
    "import torch.nn.functional as F\n",
    "from torch.utils.data import DataLoader, TensorDataset, Dataset\n",
    "\n",
    "from data_generation.nlp import ALICE_URL, WIZARD_URL, download_text\n",
    "from stepbystep.v4 import StepByStep\n",
    "# These are the classes we built in Chapter 10\n",
    "from seq2seq import *\n",
    "\n",
    "import nltk\n",
    "from nltk.tokenize import sent_tokenize\n",
    "\n",
    "import gensim\n",
    "from gensim import corpora, downloader\n",
    "from gensim.parsing.preprocessing import *\n",
    "from gensim.utils import simple_preprocess\n",
    "from gensim.models import Word2Vec\n",
    "\n",
    "from flair.data import Sentence\n",
    "from flair.embeddings import ELMoEmbeddings, WordEmbeddings, \\\n",
    "    TransformerWordEmbeddings, TransformerDocumentEmbeddings\n",
    "\n",
    "from datasets import load_dataset, Split\n",
    "from transformers import (\n",
    "    DataCollatorForLanguageModeling,\n",
    "    BertModel, BertTokenizer, BertForSequenceClassification,\n",
    "    DistilBertModel, DistilBertTokenizer, \n",
    "    DistilBertForSequenceClassification,\n",
    "    AutoModelForSequenceClassification,\n",
    "    AutoModel, AutoTokenizer, AutoModelForCausalLM,\n",
    "    Trainer, TrainingArguments, pipeline, TextClassificationPipeline\n",
    ")\n",
    "from transformers.pipelines import SUPPORTED_TASKS"
   ]
  },
  {
   "cell_type": "markdown",
   "metadata": {},
   "source": [
    "# Down the Yellow Brick Rabbit Hole"
   ]
  },
  {
   "cell_type": "markdown",
   "metadata": {},
   "source": [
    "![](images/alice_dorothy.png)\n",
    "\n",
    "*Left: \"Alice and the Baby Pig\" illustration by John Tenniel's, from \"Alice's Adventure's in Wonderland\" (1865).*\n",
    "\n",
    "*Right: \"Dorothy meets the Cowardly Lion\" illustration by W.W. Denslow, from \"The Wonderful Wizard of Oz\" (1900)*"
   ]
  },
  {
   "cell_type": "markdown",
   "metadata": {},
   "source": [
    "# Building a Dataset"
   ]
  },
  {
   "cell_type": "code",
   "execution_count": 3,
   "metadata": {},
   "outputs": [],
   "source": [
    "localfolder = 'texts'\n",
    "download_text(ALICE_URL, localfolder)\n",
    "download_text(WIZARD_URL, localfolder)"
   ]
  },
  {
   "cell_type": "code",
   "execution_count": 4,
   "metadata": {},
   "outputs": [],
   "source": [
    "with open(os.path.join(localfolder, 'alice28-1476.txt'), 'r') as f:\n",
    "    alice = ''.join(f.readlines()[104:3704])\n",
    "    \n",
    "with open(os.path.join(localfolder, 'wizoz10-1740.txt'), 'r') as f:\n",
    "    wizard = ''.join(f.readlines()[310:5100])"
   ]
  },
  {
   "cell_type": "code",
   "execution_count": 5,
   "metadata": {},
   "outputs": [
    {
     "name": "stdout",
     "output_type": "stream",
     "text": [
      "                ALICE'S ADVENTURES IN WONDERLAND\n",
      "\n",
      "                          Lewis Carroll\n",
      "\n",
      "               THE MILLENNIUM FULCRUM EDITION 2.8\n",
      "\n",
      "\n",
      "\n",
      "\n",
      "                            CHAPTER I\n",
      "\n",
      "                      Down the Rabbit-Hole\n",
      "\n",
      "\n",
      "  Alice was beginning to get very tired of sitting by her sister\n",
      "on the bank, and of having nothing to do:  once or twice she had\n",
      "peeped into the book her sister was reading, but it had no\n",
      "pictures or conversations in it, `and what is the use of a book,'\n",
      "thought Alice `w\n",
      "\n",
      "\n",
      "                    THE WONDERFUL WIZARD OF OZ\n",
      "\n",
      "\n",
      "                          1.  The Cyclone\n",
      "\n",
      "\n",
      "    Dorothy lived in the midst of the great Kansas prairies, with\n",
      "Uncle Henry, who was a farmer, and Aunt Em, who was the farmer's\n",
      "wife.  Their house was small, for the lumber to build it had to be\n",
      "carried by wagon many miles.  There were four walls, a floor and a\n",
      "roof, which made one room; and this room contained a rusty looking\n",
      "cookstove, a cupboard for the dishes, a table, three or four\n",
      "chairs, and th\n"
     ]
    }
   ],
   "source": [
    "print(alice[:500])\n",
    "print('\\n')\n",
    "print(wizard[:500])"
   ]
  },
  {
   "cell_type": "code",
   "execution_count": 6,
   "metadata": {},
   "outputs": [],
   "source": [
    "text_cfg = \"\"\"fname,start,end\n",
    "alice28-1476.txt,104,3704\n",
    "wizoz10-1740.txt,310,5100\"\"\"\n",
    "bytes_written = open(os.path.join(localfolder, 'lines.cfg'), 'w').write(text_cfg)"
   ]
  },
  {
   "cell_type": "markdown",
   "metadata": {},
   "source": [
    "## Sentence Tokenization"
   ]
  },
  {
   "cell_type": "code",
   "execution_count": 7,
   "metadata": {},
   "outputs": [
    {
     "data": {
      "text/plain": [
       "[\"I'm\", 'following', 'the', 'white', 'rabbit']"
      ]
     },
     "execution_count": 7,
     "metadata": {},
     "output_type": "execute_result"
    }
   ],
   "source": [
    "sentence = \"I'm following the white rabbit\"\n",
    "tokens = sentence.split(' ')\n",
    "tokens"
   ]
  },
  {
   "cell_type": "code",
   "execution_count": 8,
   "metadata": {},
   "outputs": [
    {
     "name": "stderr",
     "output_type": "stream",
     "text": [
      "[nltk_data] Downloading package punkt to /home/dvgodoy/nltk_data...\n",
      "[nltk_data]   Package punkt is already up-to-date!\n"
     ]
    },
    {
     "data": {
      "text/plain": [
       "(1612, 2240)"
      ]
     },
     "execution_count": 8,
     "metadata": {},
     "output_type": "execute_result"
    }
   ],
   "source": [
    "import nltk\n",
    "from nltk.tokenize import sent_tokenize\n",
    "\n",
    "nltk.download('punkt')\n",
    "corpus_alice = sent_tokenize(alice)\n",
    "corpus_wizard = sent_tokenize(wizard)\n",
    "len(corpus_alice), len(corpus_wizard)"
   ]
  },
  {
   "cell_type": "code",
   "execution_count": 9,
   "metadata": {},
   "outputs": [
    {
     "data": {
      "text/plain": [
       "'There was nothing so VERY remarkable in that; nor did Alice\\nthink it so VERY much out of the way to hear the Rabbit say to\\nitself, `Oh dear!'"
      ]
     },
     "execution_count": 9,
     "metadata": {},
     "output_type": "execute_result"
    }
   ],
   "source": [
    "corpus_alice[2]"
   ]
  },
  {
   "cell_type": "code",
   "execution_count": 10,
   "metadata": {},
   "outputs": [
    {
     "data": {
      "text/plain": [
       "'\"There\\'s a cyclone coming, Em,\" he called to his wife.'"
      ]
     },
     "execution_count": 10,
     "metadata": {},
     "output_type": "execute_result"
    }
   ],
   "source": [
    "corpus_wizard[30]"
   ]
  },
  {
   "cell_type": "code",
   "execution_count": 11,
   "metadata": {},
   "outputs": [],
   "source": [
    "def sentence_tokenize(source, quote_char='\\\\', sep_char=',',\n",
    "                      include_header=True, include_source=True, \n",
    "                      extensions=('txt'), **kwargs):\n",
    "    nltk.download('punkt')\n",
    "    # If source is a folder, goes through all files inside it\n",
    "    # that match the desired extensions ('txt' by default)\n",
    "    if os.path.isdir(source):\n",
    "        filenames = [f for f in os.listdir(source)\n",
    "                     if os.path.isfile(os.path.join(source, f)) and\n",
    "                        os.path.splitext(f)[1][1:] in extensions]\n",
    "    elif isinstance(source, str):\n",
    "        filenames = [source]\n",
    "    \n",
    "    # If there is a configuration file, builds a dictionary with\n",
    "    # the corresponding start and end lines of each text file\n",
    "    config_file = os.path.join(source, 'lines.cfg')\n",
    "    config = {}\n",
    "    if os.path.exists(config_file):\n",
    "        with open(config_file, 'r') as f:\n",
    "            rows = f.readlines()\n",
    "\n",
    "        for r in rows[1:]:\n",
    "            fname, start, end = r.strip().split(',')\n",
    "            config.update({fname: (int(start), int(end))})\n",
    "       \n",
    "    new_fnames = []\n",
    "    # For each file of text\n",
    "    for fname in filenames:\n",
    "        # If there's a start and end line for that file, use it\n",
    "        try:\n",
    "            start, end = config[fname]\n",
    "        except KeyError:\n",
    "            start = None\n",
    "            end = None\n",
    "            \n",
    "        # Opens the file, slices the configures lines (if any)\n",
    "        # cleans line breaks and uses the sentence tokenizer\n",
    "        with open(os.path.join(source, fname), 'r') as f:\n",
    "            contents = (''.join(f.readlines()[slice(start, end, None)])\n",
    "                        .replace('\\n', ' ').replace('\\r', ''))\n",
    "        corpus = sent_tokenize(contents, **kwargs)\n",
    "        \n",
    "        # Builds a CSV file containing tokenized sentences\n",
    "        base = os.path.splitext(fname)[0]\n",
    "        new_fname = f'{base}.sent.csv'\n",
    "        new_fname = os.path.join(source, new_fname)\n",
    "        with open(new_fname, 'w') as f:\n",
    "            # Header of the file\n",
    "            if include_header:\n",
    "                if include_source:\n",
    "                    f.write('sentence,source\\n')\n",
    "                else:\n",
    "                    f.write('sentence\\n')\n",
    "            # Writes one line for each sentence\n",
    "            for sentence in corpus:\n",
    "                if include_source:\n",
    "                    f.write(f'{quote_char}{sentence}{quote_char}{sep_char}{fname}\\n')\n",
    "                else:\n",
    "                    f.write(f'{quote_char}{sentence}{quote_char}\\n')\n",
    "        new_fnames.append(new_fname)\n",
    "        \n",
    "    # Returns list of the newly generated CSV files\n",
    "    return sorted(new_fnames)"
   ]
  },
  {
   "cell_type": "code",
   "execution_count": 12,
   "metadata": {},
   "outputs": [
    {
     "name": "stderr",
     "output_type": "stream",
     "text": [
      "[nltk_data] Downloading package punkt to /home/dvgodoy/nltk_data...\n",
      "[nltk_data]   Package punkt is already up-to-date!\n"
     ]
    },
    {
     "data": {
      "text/plain": [
       "['texts/alice28-1476.sent.csv', 'texts/wizoz10-1740.sent.csv']"
      ]
     },
     "execution_count": 12,
     "metadata": {},
     "output_type": "execute_result"
    }
   ],
   "source": [
    "new_fnames = sentence_tokenize(localfolder)\n",
    "new_fnames"
   ]
  },
  {
   "cell_type": "code",
   "execution_count": 13,
   "metadata": {},
   "outputs": [],
   "source": [
    "# import spacy\n",
    "# nlp = spacy.blank(\"en\")\n",
    "# nlp.add_pipe(nlp.create_pipe(\"sentencizer\"))\n",
    "\n",
    "# sentences = []\n",
    "# for doc in nlp.pipe(corpus_alice):\n",
    "#     sentences.extend(sent.text for sent in doc.sents)\n",
    "    \n",
    "# len(sentences), sentences[2]"
   ]
  },
  {
   "cell_type": "markdown",
   "metadata": {},
   "source": [
    "## HuggingFace's Dataset"
   ]
  },
  {
   "cell_type": "markdown",
   "metadata": {},
   "source": [
    "## Loading a Dataset"
   ]
  },
  {
   "cell_type": "code",
   "execution_count": 14,
   "metadata": {},
   "outputs": [
    {
     "name": "stderr",
     "output_type": "stream",
     "text": [
      "Using custom data configuration default-5f3dd563caa0ef2a\n"
     ]
    },
    {
     "name": "stdout",
     "output_type": "stream",
     "text": [
      "Downloading and preparing dataset csv/default (download: Unknown size, generated: Unknown size, post-processed: Unknown size, total: Unknown size) to /home/dvgodoy/.cache/huggingface/datasets/csv/default-5f3dd563caa0ef2a/0.0.0/2dc6629a9ff6b5697d82c25b73731dd440507a69cbce8b425db50b751e8fcfd0...\n"
     ]
    },
    {
     "data": {
      "application/vnd.jupyter.widget-view+json": {
       "model_id": "",
       "version_major": 2,
       "version_minor": 0
      },
      "text/plain": [
       "HBox(children=(FloatProgress(value=1.0, bar_style='info', layout=Layout(width='20px'), max=1.0), HTML(value=''…"
      ]
     },
     "metadata": {},
     "output_type": "display_data"
    },
    {
     "name": "stdout",
     "output_type": "stream",
     "text": [
      "Dataset csv downloaded and prepared to /home/dvgodoy/.cache/huggingface/datasets/csv/default-5f3dd563caa0ef2a/0.0.0/2dc6629a9ff6b5697d82c25b73731dd440507a69cbce8b425db50b751e8fcfd0. Subsequent calls will reuse this data.\n"
     ]
    }
   ],
   "source": [
    "from datasets import load_dataset, Split\n",
    "\n",
    "dataset = load_dataset(path='csv', data_files=new_fnames, quotechar='\\\\', split=Split.TRAIN)"
   ]
  },
  {
   "cell_type": "markdown",
   "metadata": {},
   "source": [
    "### Attributes"
   ]
  },
  {
   "cell_type": "code",
   "execution_count": 15,
   "metadata": {},
   "outputs": [
    {
     "data": {
      "text/plain": [
       "({'sentence': Value(dtype='string', id=None),\n",
       "  'source': Value(dtype='string', id=None)},\n",
       " 2,\n",
       " (3852, 2))"
      ]
     },
     "execution_count": 15,
     "metadata": {},
     "output_type": "execute_result"
    }
   ],
   "source": [
    "dataset.features, dataset.num_columns, dataset.shape"
   ]
  },
  {
   "cell_type": "code",
   "execution_count": 16,
   "metadata": {},
   "outputs": [
    {
     "data": {
      "text/plain": [
       "{'sentence': 'There was nothing so VERY remarkable in that; nor did Alice think it so VERY much out of the way to hear the Rabbit say to itself, `Oh dear!',\n",
       " 'source': 'alice28-1476.txt'}"
      ]
     },
     "execution_count": 16,
     "metadata": {},
     "output_type": "execute_result"
    }
   ],
   "source": [
    "dataset[2]"
   ]
  },
  {
   "cell_type": "code",
   "execution_count": 17,
   "metadata": {},
   "outputs": [
    {
     "data": {
      "text/plain": [
       "['alice28-1476.txt', 'alice28-1476.txt', 'alice28-1476.txt']"
      ]
     },
     "execution_count": 17,
     "metadata": {},
     "output_type": "execute_result"
    }
   ],
   "source": [
    "dataset['source'][:3]"
   ]
  },
  {
   "cell_type": "markdown",
   "metadata": {},
   "source": [
    "### Methods"
   ]
  },
  {
   "cell_type": "code",
   "execution_count": 18,
   "metadata": {},
   "outputs": [
    {
     "data": {
      "text/plain": [
       "['alice28-1476.txt', 'wizoz10-1740.txt']"
      ]
     },
     "execution_count": 18,
     "metadata": {},
     "output_type": "execute_result"
    }
   ],
   "source": [
    "dataset.unique('source')"
   ]
  },
  {
   "cell_type": "code",
   "execution_count": 19,
   "metadata": {},
   "outputs": [
    {
     "data": {
      "application/vnd.jupyter.widget-view+json": {
       "model_id": "29b4ed6e6f174d5ebe4ca9be7b911055",
       "version_major": 2,
       "version_minor": 0
      },
      "text/plain": [
       "HBox(children=(FloatProgress(value=0.0, max=3852.0), HTML(value='')))"
      ]
     },
     "metadata": {},
     "output_type": "display_data"
    },
    {
     "name": "stdout",
     "output_type": "stream",
     "text": [
      "\n"
     ]
    }
   ],
   "source": [
    "def is_alice_label(row):\n",
    "    is_alice = int(row['source'] == 'alice28-1476.txt')\n",
    "    return {'labels': is_alice}\n",
    "\n",
    "dataset = dataset.map(is_alice_label)"
   ]
  },
  {
   "cell_type": "code",
   "execution_count": 20,
   "metadata": {},
   "outputs": [
    {
     "data": {
      "text/plain": [
       "{'labels': 1,\n",
       " 'sentence': 'There was nothing so VERY remarkable in that; nor did Alice think it so VERY much out of the way to hear the Rabbit say to itself, `Oh dear!',\n",
       " 'source': 'alice28-1476.txt'}"
      ]
     },
     "execution_count": 20,
     "metadata": {},
     "output_type": "execute_result"
    }
   ],
   "source": [
    "dataset[2]"
   ]
  },
  {
   "cell_type": "code",
   "execution_count": 21,
   "metadata": {},
   "outputs": [],
   "source": [
    "shuffled_dataset = dataset.shuffle(seed=42)"
   ]
  },
  {
   "cell_type": "code",
   "execution_count": 22,
   "metadata": {},
   "outputs": [
    {
     "data": {
      "text/plain": [
       "DatasetDict({\n",
       "    train: Dataset({\n",
       "        features: ['labels', 'sentence', 'source'],\n",
       "        num_rows: 3081\n",
       "    })\n",
       "    test: Dataset({\n",
       "        features: ['labels', 'sentence', 'source'],\n",
       "        num_rows: 771\n",
       "    })\n",
       "})"
      ]
     },
     "execution_count": 22,
     "metadata": {},
     "output_type": "execute_result"
    }
   ],
   "source": [
    "split_dataset = shuffled_dataset.train_test_split(test_size=0.2)\n",
    "split_dataset"
   ]
  },
  {
   "cell_type": "code",
   "execution_count": 23,
   "metadata": {},
   "outputs": [],
   "source": [
    "train_dataset, test_dataset = split_dataset['train'], split_dataset['test']"
   ]
  },
  {
   "cell_type": "markdown",
   "metadata": {},
   "source": [
    "## Data Augmentation"
   ]
  },
  {
   "cell_type": "code",
   "execution_count": 24,
   "metadata": {},
   "outputs": [],
   "source": [
    "# !pip install textattack\n",
    "# from textattack.augmentation import EmbeddingAugmenter\n",
    "# augmenter = EmbeddingAugmenter()\n",
    "# feynman = 'What I cannot create, I do not understand.'"
   ]
  },
  {
   "cell_type": "code",
   "execution_count": 25,
   "metadata": {},
   "outputs": [],
   "source": [
    "# for i in range(5):\n",
    "#     print(augmenter.augment(feynman))"
   ]
  },
  {
   "cell_type": "markdown",
   "metadata": {},
   "source": [
    "# Word Tokenization"
   ]
  },
  {
   "cell_type": "code",
   "execution_count": 26,
   "metadata": {},
   "outputs": [
    {
     "data": {
      "text/plain": [
       "[\"I'm\", 'following', 'the', 'white', 'rabbit']"
      ]
     },
     "execution_count": 26,
     "metadata": {},
     "output_type": "execute_result"
    }
   ],
   "source": [
    "sentence = \"I'm following the white rabbit\"\n",
    "tokens = sentence.split(' ')\n",
    "tokens"
   ]
  },
  {
   "cell_type": "code",
   "execution_count": 27,
   "metadata": {},
   "outputs": [
    {
     "data": {
      "text/plain": [
       "['follow', 'white', 'rabbit']"
      ]
     },
     "execution_count": 27,
     "metadata": {},
     "output_type": "execute_result"
    }
   ],
   "source": [
    "from gensim.parsing.preprocessing import *\n",
    "\n",
    "preprocess_string(sentence)"
   ]
  },
  {
   "cell_type": "code",
   "execution_count": 28,
   "metadata": {},
   "outputs": [
    {
     "data": {
      "text/plain": [
       "['i', 'm', 'following', 'the', 'white', 'rabbit']"
      ]
     },
     "execution_count": 28,
     "metadata": {},
     "output_type": "execute_result"
    }
   ],
   "source": [
    "filters = [lambda x: x.lower(), strip_tags, strip_punctuation, strip_multiple_whitespaces, strip_numeric]\n",
    "preprocess_string(sentence, filters=filters)"
   ]
  },
  {
   "cell_type": "code",
   "execution_count": 29,
   "metadata": {},
   "outputs": [
    {
     "data": {
      "text/plain": [
       "['following', 'the', 'white', 'rabbit']"
      ]
     },
     "execution_count": 29,
     "metadata": {},
     "output_type": "execute_result"
    }
   ],
   "source": [
    "from gensim.utils import simple_preprocess\n",
    "\n",
    "tokens = simple_preprocess(sentence)\n",
    "tokens"
   ]
  },
  {
   "cell_type": "markdown",
   "metadata": {},
   "source": [
    "## Vocabulary"
   ]
  },
  {
   "cell_type": "code",
   "execution_count": 30,
   "metadata": {},
   "outputs": [
    {
     "data": {
      "text/plain": [
       "['and', 'so', 'far', 'as', 'they', 'knew', 'they', 'were', 'quite', 'right']"
      ]
     },
     "execution_count": 30,
     "metadata": {},
     "output_type": "execute_result"
    }
   ],
   "source": [
    "sentences = train_dataset['sentence']\n",
    "tokens = [simple_preprocess(sent) for sent in sentences]\n",
    "tokens[0]"
   ]
  },
  {
   "cell_type": "code",
   "execution_count": 31,
   "metadata": {},
   "outputs": [
    {
     "name": "stdout",
     "output_type": "stream",
     "text": [
      "Dictionary(3704 unique tokens: ['and', 'as', 'far', 'knew', 'quite']...)\n"
     ]
    }
   ],
   "source": [
    "from gensim import corpora\n",
    "\n",
    "dictionary = corpora.Dictionary(tokens)\n",
    "print(dictionary)"
   ]
  },
  {
   "cell_type": "code",
   "execution_count": 32,
   "metadata": {},
   "outputs": [
    {
     "data": {
      "text/plain": [
       "3081"
      ]
     },
     "execution_count": 32,
     "metadata": {},
     "output_type": "execute_result"
    }
   ],
   "source": [
    "dictionary.num_docs"
   ]
  },
  {
   "cell_type": "code",
   "execution_count": 33,
   "metadata": {},
   "outputs": [
    {
     "data": {
      "text/plain": [
       "50802"
      ]
     },
     "execution_count": 33,
     "metadata": {},
     "output_type": "execute_result"
    }
   ],
   "source": [
    "dictionary.num_pos # processed words"
   ]
  },
  {
   "cell_type": "code",
   "execution_count": 34,
   "metadata": {
    "scrolled": true
   },
   "outputs": [
    {
     "data": {
      "text/plain": [
       "{'and': 0,\n",
       " 'as': 1,\n",
       " 'far': 2,\n",
       " 'knew': 3,\n",
       " 'quite': 4,\n",
       " 'right': 5,\n",
       " 'so': 6,\n",
       " 'they': 7,\n",
       " 'were': 8,\n",
       " 'beginning': 9,\n",
       " 'begun': 10,\n",
       " 'cried': 11,\n",
       " 'cry': 12,\n",
       " 'gryphon': 13,\n",
       " 'had': 14,\n",
       " 'it': 15,\n",
       " 'just': 16,\n",
       " 'mock': 17,\n",
       " 'of': 18,\n",
       " 'repeat': 19,\n",
       " 'the': 20,\n",
       " 'to': 21,\n",
       " 'trial': 22,\n",
       " 'turtle': 23,\n",
       " 'when': 24,\n",
       " 'across': 25,\n",
       " 'at': 26,\n",
       " 'broad': 27,\n",
       " 'but': 28,\n",
       " 'could': 29,\n",
       " 'deep': 30,\n",
       " 'he': 31,\n",
       " 'leap': 32,\n",
       " 'lion': 33,\n",
       " 'not': 34,\n",
       " 'once': 35,\n",
       " 'one': 36,\n",
       " 'that': 37,\n",
       " 'this': 38,\n",
       " 'was': 39,\n",
       " 'are': 40,\n",
       " 'do': 41,\n",
       " 'me': 42,\n",
       " 'seek': 43,\n",
       " 'who': 44,\n",
       " 'why': 45,\n",
       " 'you': 46,\n",
       " 'destroy': 47,\n",
       " 'for': 48,\n",
       " 'her': 49,\n",
       " 'mean': 50,\n",
       " 'perhaps': 51,\n",
       " 'said': 52,\n",
       " 'scarecrow': 53,\n",
       " 'we': 54,\n",
       " 'alice': 55,\n",
       " 'afterward': 56,\n",
       " 'city': 57,\n",
       " 'emerald': 58,\n",
       " 'gate': 59,\n",
       " 'into': 60,\n",
       " 'on': 61,\n",
       " 'passed': 62,\n",
       " 'through': 63,\n",
       " 'added': 64,\n",
       " 'care': 65,\n",
       " 'chin': 66,\n",
       " 'digging': 67,\n",
       " 'duchess': 68,\n",
       " 'is': 69,\n",
       " 'little': 70,\n",
       " 'means': 71,\n",
       " 'moral': 72,\n",
       " 'much': 73,\n",
       " 'same': 74,\n",
       " 'sense': 75,\n",
       " 'sharp': 76,\n",
       " 'she': 77,\n",
       " 'shoulder': 78,\n",
       " 'sounds': 79,\n",
       " 'take': 80,\n",
       " 'themselves': 81,\n",
       " 'thing': 82,\n",
       " 'will': 83,\n",
       " 'arms': 84,\n",
       " 'dorothy': 85,\n",
       " 'down': 86,\n",
       " 'held': 87,\n",
       " 'in': 88,\n",
       " 'middle': 89,\n",
       " 'raft': 90,\n",
       " 'sat': 91,\n",
       " 'toto': 92,\n",
       " 'about': 93,\n",
       " 'his': 94,\n",
       " 'toes': 95,\n",
       " 'both': 96,\n",
       " 'fury': 97,\n",
       " 'go': 98,\n",
       " 'house': 99,\n",
       " 'idea': 100,\n",
       " 'kept': 101,\n",
       " 'law': 102,\n",
       " 'let': 103,\n",
       " 'like': 104,\n",
       " 'met': 105,\n",
       " 'mouse': 106,\n",
       " 'prosecute': 107,\n",
       " 'puzzling': 108,\n",
       " 'something': 109,\n",
       " 'speaking': 110,\n",
       " 'tale': 111,\n",
       " 'us': 112,\n",
       " 'while': 113,\n",
       " 'hastily': 114,\n",
       " 'lory': 115,\n",
       " 'princess': 116,\n",
       " 'king': 117,\n",
       " 'may': 118,\n",
       " 'replied': 119,\n",
       " 'sit': 120,\n",
       " 'then': 121,\n",
       " 'clock': 122,\n",
       " 'day': 123,\n",
       " 'doesn': 124,\n",
       " 'month': 125,\n",
       " 'tell': 126,\n",
       " 'tells': 127,\n",
       " 'what': 128,\n",
       " 'answer': 129,\n",
       " 'no': 130,\n",
       " 'would': 131,\n",
       " 'anything': 132,\n",
       " 'basket': 133,\n",
       " 'cap': 134,\n",
       " 'carry': 135,\n",
       " 'charm': 136,\n",
       " 'did': 137,\n",
       " 'golden': 138,\n",
       " 'know': 139,\n",
       " 'made': 140,\n",
       " 'mind': 141,\n",
       " 'pretty': 142,\n",
       " 'saw': 143,\n",
       " 'sunbonnet': 144,\n",
       " 'up': 145,\n",
       " 'wear': 146,\n",
       " 'after': 147,\n",
       " 'air': 148,\n",
       " 'appearance': 149,\n",
       " 'away': 150,\n",
       " 'be': 151,\n",
       " 'being': 152,\n",
       " 'cat': 153,\n",
       " 'cheshire': 154,\n",
       " 'curious': 155,\n",
       " 'escape': 156,\n",
       " 'first': 157,\n",
       " 'get': 158,\n",
       " 'grin': 159,\n",
       " 'have': 160,\n",
       " 'herself': 161,\n",
       " 'looking': 162,\n",
       " 'minute': 163,\n",
       " 'noticed': 164,\n",
       " 'now': 165,\n",
       " 'or': 166,\n",
       " 'out': 167,\n",
       " 'puzzled': 168,\n",
       " 'seen': 169,\n",
       " 'shall': 170,\n",
       " 'some': 171,\n",
       " 'somebody': 172,\n",
       " 'talk': 173,\n",
       " 'two': 174,\n",
       " 'very': 175,\n",
       " 'watching': 176,\n",
       " 'way': 177,\n",
       " 'whether': 178,\n",
       " 'without': 179,\n",
       " 'wondering': 180,\n",
       " 'again': 181,\n",
       " 'find': 182,\n",
       " 'garden': 183,\n",
       " 'got': 184,\n",
       " 'grow': 185,\n",
       " 'lovely': 186,\n",
       " 'my': 187,\n",
       " 'second': 188,\n",
       " 'size': 189,\n",
       " 've': 190,\n",
       " 'wandered': 191,\n",
       " 'wood': 192,\n",
       " 'politely': 193,\n",
       " 'thank': 194,\n",
       " 'well': 195,\n",
       " 'pig': 196,\n",
       " 'corner': 197,\n",
       " 'couch': 198,\n",
       " 'hurt': 199,\n",
       " 'leg': 200,\n",
       " 'lying': 201,\n",
       " 'man': 202,\n",
       " 'all': 203,\n",
       " 'blue': 204,\n",
       " 'bodices': 205,\n",
       " 'breeches': 206,\n",
       " 'brightly': 207,\n",
       " 'buckles': 208,\n",
       " 'caps': 209,\n",
       " 'cheeks': 210,\n",
       " 'clowns': 211,\n",
       " 'colored': 212,\n",
       " 'crowns': 213,\n",
       " 'doublets': 214,\n",
       " 'dressed': 215,\n",
       " 'ermine': 216,\n",
       " 'frocks': 217,\n",
       " 'funny': 218,\n",
       " 'gold': 219,\n",
       " 'gorgeous': 220,\n",
       " 'gowns': 221,\n",
       " 'heads': 222,\n",
       " 'jeweled': 223,\n",
       " 'knee': 224,\n",
       " 'milkmaids': 225,\n",
       " 'most': 226,\n",
       " 'over': 227,\n",
       " 'pink': 228,\n",
       " 'pointed': 229,\n",
       " 'princes': 230,\n",
       " 'princesses': 231,\n",
       " 'purple': 232,\n",
       " 'red': 233,\n",
       " 'robes': 234,\n",
       " 'round': 235,\n",
       " 'ruffled': 236,\n",
       " 'satin': 237,\n",
       " 'shepherdesses': 238,\n",
       " 'shepherds': 239,\n",
       " 'shoes': 240,\n",
       " 'silver': 241,\n",
       " 'spots': 242,\n",
       " 'stripes': 243,\n",
       " 'tall': 244,\n",
       " 'their': 245,\n",
       " 'them': 246,\n",
       " 'there': 247,\n",
       " 'upon': 248,\n",
       " 'wearing': 249,\n",
       " 'with': 250,\n",
       " 'yellow': 251,\n",
       " 'axe': 252,\n",
       " 'chopped': 253,\n",
       " 'cleared': 254,\n",
       " 'entire': 255,\n",
       " 'party': 256,\n",
       " 'passage': 257,\n",
       " 'set': 258,\n",
       " 'soon': 259,\n",
       " 'tin': 260,\n",
       " 'woodman': 261,\n",
       " 'work': 262,\n",
       " 'courage': 263,\n",
       " 'give': 264,\n",
       " 'oz': 265,\n",
       " 'sort': 266,\n",
       " 'tomorrow': 267,\n",
       " 'alone': 268,\n",
       " 'shoulders': 269,\n",
       " 'where': 270,\n",
       " 'really': 271,\n",
       " 'began': 272,\n",
       " 'chance': 273,\n",
       " 'everything': 274,\n",
       " 'pass': 275,\n",
       " 'seemed': 276,\n",
       " 'time': 277,\n",
       " 'here': 278,\n",
       " 'too': 279,\n",
       " 'anger': 280,\n",
       " 'bank': 281,\n",
       " 'beat': 282,\n",
       " 'brushing': 283,\n",
       " 'came': 284,\n",
       " 'dead': 285,\n",
       " 'face': 286,\n",
       " 'fluttered': 287,\n",
       " 'flying': 288,\n",
       " 'found': 289,\n",
       " 'fright': 290,\n",
       " 'from': 291,\n",
       " 'gave': 292,\n",
       " 'gently': 293,\n",
       " 'half': 294,\n",
       " 'head': 295,\n",
       " 'lap': 296,\n",
       " 'leaves': 297,\n",
       " 'off': 298,\n",
       " 'pack': 299,\n",
       " 'rose': 300,\n",
       " 'scream': 301,\n",
       " 'sister': 302,\n",
       " 'trees': 303,\n",
       " 'tried': 304,\n",
       " 'whole': 305,\n",
       " 'attended': 306,\n",
       " 'exclaimed': 307,\n",
       " 'last': 308,\n",
       " 'remark': 309,\n",
       " 'vegetable': 310,\n",
       " 'beautiful': 311,\n",
       " 'body': 312,\n",
       " 'cut': 313,\n",
       " 'halves': 314,\n",
       " 'kill': 315,\n",
       " 'love': 316,\n",
       " 'maiden': 317,\n",
       " 'munchkin': 318,\n",
       " 'new': 319,\n",
       " 'slip': 320,\n",
       " 'splitting': 321,\n",
       " 'thought': 322,\n",
       " 'back': 323,\n",
       " 'hear': 324,\n",
       " 'left': 325,\n",
       " 'room': 326,\n",
       " 'sorrowfully': 327,\n",
       " 'throne': 328,\n",
       " 'waiting': 329,\n",
       " 'went': 330,\n",
       " 'hurried': 331,\n",
       " 'low': 332,\n",
       " 'rabbit': 333,\n",
       " 'tone': 334,\n",
       " 'hope': 335,\n",
       " 'won': 336,\n",
       " 'bigger': 337,\n",
       " 'crossed': 338,\n",
       " 'forward': 339,\n",
       " 'him': 340,\n",
       " 'kalidahs': 341,\n",
       " 'next': 342,\n",
       " 'only': 343,\n",
       " 'remembering': 344,\n",
       " 'rushed': 345,\n",
       " 'see': 346,\n",
       " 'seeing': 347,\n",
       " 'than': 348,\n",
       " 'tree': 349,\n",
       " 'turned': 350,\n",
       " 'brain': 351,\n",
       " 'going': 352,\n",
       " 'more': 353,\n",
       " 'splendid': 354,\n",
       " 'surely': 355,\n",
       " 'think': 356,\n",
       " 'thoughts': 357,\n",
       " 'turn': 358,\n",
       " 'should': 359,\n",
       " 'hanging': 360,\n",
       " 'shame': 361,\n",
       " 'bottom': 362,\n",
       " 'couldn': 363,\n",
       " 'living': 364,\n",
       " 'sea': 365,\n",
       " 'wanted': 366,\n",
       " 'by': 367,\n",
       " 'confusing': 368,\n",
       " 'ever': 369,\n",
       " 'heard': 370,\n",
       " 'people': 371,\n",
       " 'stop': 372,\n",
       " 'comrades': 373,\n",
       " 'fate': 374,\n",
       " 'sad': 375,\n",
       " 'stood': 376,\n",
       " 'thinking': 377,\n",
       " 'anxious': 378,\n",
       " 'been': 379,\n",
       " 'greatly': 380,\n",
       " 'heart': 381,\n",
       " 'interested': 382,\n",
       " 'story': 383,\n",
       " 'easily': 384,\n",
       " 'remarked': 385,\n",
       " 'demand': 386,\n",
       " 'gates': 387,\n",
       " 'great': 388,\n",
       " 'guardian': 389,\n",
       " 'strangers': 390,\n",
       " 'afraid': 391,\n",
       " 'forget': 392,\n",
       " 'makes': 393,\n",
       " 'unhappy': 394,\n",
       " 'unless': 395,\n",
       " 'before': 396,\n",
       " 'dear': 397,\n",
       " 'fit': 398,\n",
       " 'fits': 399,\n",
       " 'never': 400,\n",
       " 'feel': 401,\n",
       " 'girl': 402,\n",
       " 'how': 403,\n",
       " 'sorry': 404,\n",
       " 'truly': 405,\n",
       " 'understand': 406,\n",
       " 'consider': 407,\n",
       " 'jury': 408,\n",
       " 'verdict': 409,\n",
       " 'your': 410,\n",
       " 'asked': 411,\n",
       " 'offered': 412,\n",
       " 'piece': 413,\n",
       " 'refused': 414,\n",
       " 'any': 415,\n",
       " 'don': 416,\n",
       " 'longer': 417,\n",
       " 'stay': 418,\n",
       " 'sure': 419,\n",
       " 'want': 420,\n",
       " 'can': 421,\n",
       " 'fast': 422,\n",
       " 'hold': 423,\n",
       " 'if': 424,\n",
       " 'pull': 425,\n",
       " 'shore': 426,\n",
       " 'swim': 427,\n",
       " 'tail': 428,\n",
       " 'tip': 429,\n",
       " 'answered': 430,\n",
       " 'child': 431,\n",
       " 'indeed': 432,\n",
       " 'yes': 433,\n",
       " 'alarmed': 434,\n",
       " 'proposal': 435,\n",
       " 'rather': 436,\n",
       " 'am': 437,\n",
       " 'straw': 438,\n",
       " 'stuffed': 439,\n",
       " 'books': 440,\n",
       " 'flowers': 441,\n",
       " 'green': 442,\n",
       " 'row': 443,\n",
       " 'shelf': 444,\n",
       " 'windows': 445,\n",
       " 'cross': 446,\n",
       " 'due': 447,\n",
       " 'except': 448,\n",
       " 'must': 449,\n",
       " 'order': 450,\n",
       " 'other': 451,\n",
       " 'place': 452,\n",
       " 'side': 453,\n",
       " 'south': 454,\n",
       " 'strange': 455,\n",
       " 'unwise': 456,\n",
       " 'big': 457,\n",
       " 'fond': 458,\n",
       " 'glad': 459,\n",
       " 'grown': 460,\n",
       " 'rescued': 461,\n",
       " 'along': 462,\n",
       " 'door': 463,\n",
       " 'hole': 464,\n",
       " 'knelt': 465,\n",
       " 'larger': 466,\n",
       " 'led': 467,\n",
       " 'looked': 468,\n",
       " 'loveliest': 469,\n",
       " 'opened': 470,\n",
       " 'rat': 471,\n",
       " 'small': 472,\n",
       " 'animals': 473,\n",
       " 'because': 474,\n",
       " 'birds': 475,\n",
       " 'box': 476,\n",
       " 'creatures': 477,\n",
       " 'jurors': 478,\n",
       " 'obliged': 479,\n",
       " 'say': 480,\n",
       " 'suppose': 481,\n",
       " 'those': 482,\n",
       " 'twelve': 483,\n",
       " 'confused': 484,\n",
       " 'dormouse': 485,\n",
       " 'interrupting': 486,\n",
       " 'poor': 487,\n",
       " 'appeared': 488,\n",
       " 'deeply': 489,\n",
       " 'moment': 490,\n",
       " 'evidence': 491,\n",
       " 'feeling': 492,\n",
       " 'fumbled': 493,\n",
       " 'haven': 494,\n",
       " 'list': 495,\n",
       " 'watched': 496,\n",
       " 'white': 497,\n",
       " 'witness': 498,\n",
       " 'yet': 499,\n",
       " 'costume': 500,\n",
       " 'grandfather': 501,\n",
       " 'rich': 502,\n",
       " 'silk': 503,\n",
       " 'velvet': 504,\n",
       " 'players': 505,\n",
       " 'playing': 506,\n",
       " 'quarrelling': 507,\n",
       " 'queen': 508,\n",
       " 'shouting': 509,\n",
       " 'kick': 510,\n",
       " 'll': 511,\n",
       " 'stairs': 512,\n",
       " 'die': 513,\n",
       " 'leave': 514,\n",
       " 'advantage': 515,\n",
       " 'change': 516,\n",
       " 'deal': 517,\n",
       " 'good': 518,\n",
       " 'hare': 519,\n",
       " 'hatter': 520,\n",
       " 'jug': 521,\n",
       " 'march': 522,\n",
       " 'milk': 523,\n",
       " 'plate': 524,\n",
       " 'upset': 525,\n",
       " 'worse': 526,\n",
       " 'advisable': 527,\n",
       " 'atheling': 528,\n",
       " 'crown': 529,\n",
       " 'edgar': 530,\n",
       " 'hurriedly': 531,\n",
       " 'meet': 532,\n",
       " 'notice': 533,\n",
       " 'offer': 534,\n",
       " 'question': 535,\n",
       " 'william': 536,\n",
       " 'these': 537,\n",
       " 'dance': 538,\n",
       " 'join': 539,\n",
       " 'branch': 540,\n",
       " 'caught': 541,\n",
       " 'howled': 542,\n",
       " 'injury': 543,\n",
       " 'ran': 544,\n",
       " 'shaken': 545,\n",
       " 'under': 546,\n",
       " 'until': 547,\n",
       " 'bats': 548,\n",
       " 'cats': 549,\n",
       " 'dreamy': 550,\n",
       " 'eat': 551,\n",
       " 'saying': 552,\n",
       " 'sleepy': 553,\n",
       " 'already': 554,\n",
       " 'confusion': 555,\n",
       " 'executed': 556,\n",
       " 'game': 557,\n",
       " 'having': 558,\n",
       " 'look': 559,\n",
       " 'missed': 560,\n",
       " 'sentence': 561,\n",
       " 'such': 562,\n",
       " 'things': 563,\n",
       " 'three': 564,\n",
       " 'turns': 565,\n",
       " 'come': 566,\n",
       " 'even': 567,\n",
       " 'wicked': 568,\n",
       " 'witch': 569,\n",
       " 'beau': 570,\n",
       " 'oop': 571,\n",
       " 'ootiful': 572,\n",
       " 'soo': 573,\n",
       " 'done': 574,\n",
       " 'however': 575,\n",
       " 'wonder': 576,\n",
       " 'helped': 577,\n",
       " 'put': 578,\n",
       " 'pole': 579,\n",
       " 'river': 580,\n",
       " 'stuck': 581,\n",
       " 'use': 582,\n",
       " 'downwards': 583,\n",
       " 'haste': 584,\n",
       " 'its': 585,\n",
       " 'lizard': 586,\n",
       " 'melancholy': 587,\n",
       " 'move': 588,\n",
       " 'unable': 589,\n",
       " 'waving': 590,\n",
       " 'anybody': 591,\n",
       " 'aunt': 592,\n",
       " 'dried': 593,\n",
       " 'em': 594,\n",
       " 'eyes': 595,\n",
       " 'try': 596,\n",
       " 'clearer': 597,\n",
       " 'nothing': 598,\n",
       " 'beast': 599,\n",
       " 'demanded': 600,\n",
       " 'ease': 601,\n",
       " 'edge': 602,\n",
       " 'farther': 603,\n",
       " 'four': 604,\n",
       " 'travelers': 605,\n",
       " 'walked': 606,\n",
       " 'probably': 607,\n",
       " 'cheers': 608,\n",
       " 'journey': 609,\n",
       " 'many': 610,\n",
       " 'prepared': 611,\n",
       " 'started': 612,\n",
       " 'winkies': 613,\n",
       " 'wishes': 614,\n",
       " 'loudly': 615,\n",
       " 'rate': 616,\n",
       " 'matter': 617,\n",
       " 'opinion': 618,\n",
       " 'help': 619,\n",
       " 'mad': 620,\n",
       " 'oh': 621,\n",
       " 're': 622,\n",
       " 'flat': 623,\n",
       " 'hill': 624,\n",
       " 'lightning': 625,\n",
       " 'neck': 626,\n",
       " 'quick': 627,\n",
       " 'sent': 628,\n",
       " 'shot': 629,\n",
       " 'stretched': 630,\n",
       " 'struck': 631,\n",
       " 'top': 632,\n",
       " 'tumbling': 633,\n",
       " 'bees': 634,\n",
       " 'black': 635,\n",
       " 'buzzing': 636,\n",
       " 'forthwith': 637,\n",
       " 'swarm': 638,\n",
       " 'toward': 639,\n",
       " 'explain': 640,\n",
       " 'hard': 641,\n",
       " 'word': 642,\n",
       " 'bye': 643,\n",
       " 'country': 644,\n",
       " 'dangerous': 645,\n",
       " 'end': 646,\n",
       " 'places': 647,\n",
       " 'pleasant': 648,\n",
       " 'reach': 649,\n",
       " 'rough': 650,\n",
       " 'angry': 651,\n",
       " 'became': 652,\n",
       " 'caused': 653,\n",
       " 'dashed': 654,\n",
       " 'echoed': 655,\n",
       " 'giving': 656,\n",
       " 'laughter': 657,\n",
       " 'loud': 658,\n",
       " 'mishap': 659,\n",
       " 'roar': 660,\n",
       " 'thunder': 661,\n",
       " 'another': 662,\n",
       " 'fill': 663,\n",
       " 'float': 664,\n",
       " 'hot': 665,\n",
       " 'make': 666,\n",
       " 'which': 667,\n",
       " 'nor': 668,\n",
       " 'allow': 669,\n",
       " 'friend': 670,\n",
       " 'introduce': 671,\n",
       " 'mine': 672,\n",
       " 'bring': 673,\n",
       " 'each': 674,\n",
       " 'long': 675,\n",
       " 'possible': 676,\n",
       " 'send': 677,\n",
       " 'string': 678,\n",
       " 'sh': 679,\n",
       " 'sing': 680,\n",
       " 'calling': 681,\n",
       " 'doing': 682,\n",
       " 'eating': 683,\n",
       " 'forest': 684,\n",
       " 'free': 685,\n",
       " 'fruit': 686,\n",
       " 'happily': 687,\n",
       " 'leader': 688,\n",
       " 'master': 689,\n",
       " 'nuts': 690,\n",
       " 'pleased': 691,\n",
       " 'believe': 692,\n",
       " 'best': 693,\n",
       " 'desert': 694,\n",
       " 'followed': 695,\n",
       " 'others': 696,\n",
       " 'turning': 697,\n",
       " 'case': 698,\n",
       " 'peep': 699,\n",
       " 'sleep': 700,\n",
       " 'supper': 701,\n",
       " 'taking': 702,\n",
       " 'woman': 703,\n",
       " 'almost': 704,\n",
       " 'brains': 705,\n",
       " 'instead': 706,\n",
       " 'suspect': 707,\n",
       " 'danger': 708,\n",
       " 'faces': 709,\n",
       " 'didn': 710,\n",
       " 'knave': 711,\n",
       " 'majesty': 712,\n",
       " 'name': 713,\n",
       " 'please': 714,\n",
       " 'prove': 715,\n",
       " 'signed': 716,\n",
       " 'write': 717,\n",
       " 'beg': 718,\n",
       " 'hearted': 719,\n",
       " 'kindly': 720,\n",
       " 'ladies': 721,\n",
       " 'lady': 722,\n",
       " 'natural': 723,\n",
       " 'quietly': 724,\n",
       " 'arm': 725,\n",
       " 'carried': 726,\n",
       " 'cornfield': 727,\n",
       " 'farmer': 728,\n",
       " 'stick': 729,\n",
       " 'around': 730,\n",
       " 'besides': 731,\n",
       " 'dare': 732,\n",
       " 'direction': 733,\n",
       " 'extend': 734,\n",
       " 'fear': 735,\n",
       " 'getting': 736,\n",
       " 'lost': 737,\n",
       " 'pity': 738,\n",
       " 'respect': 739,\n",
       " 'treated': 740,\n",
       " 'course': 741,\n",
       " 'fish': 742,\n",
       " 'porpoise': 743,\n",
       " 'told': 744,\n",
       " 'pardon': 745,\n",
       " 'every': 746,\n",
       " 'everyone': 747,\n",
       " 'riding': 748,\n",
       " 'rising': 749,\n",
       " 'shouted': 750,\n",
       " 'sky': 751,\n",
       " 'upward': 752,\n",
       " 'wizard': 753,\n",
       " 'blacking': 754,\n",
       " 'crows': 755,\n",
       " 'enough': 756,\n",
       " 'fellow': 757,\n",
       " 'scare': 758,\n",
       " 'hardly': 759,\n",
       " 'person': 760,\n",
       " 'respectable': 761,\n",
       " 'agree': 762,\n",
       " 'large': 763,\n",
       " 'mustard': 764,\n",
       " 'near': 765,\n",
       " 'ready': 766,\n",
       " 'conqueror': 767,\n",
       " 'daresay': 768,\n",
       " 'english': 769,\n",
       " 'french': 770,\n",
       " 'croquet': 771,\n",
       " 'play': 772,\n",
       " 'bad': 773,\n",
       " 'breaking': 774,\n",
       " 'church': 775,\n",
       " 'cow': 776,\n",
       " 'harm': 777,\n",
       " 'lucky': 778,\n",
       " 'has': 779,\n",
       " 'morning': 780,\n",
       " 'soldier': 781,\n",
       " 'whiskers': 782,\n",
       " 'clumsy': 783,\n",
       " 'dropped': 784,\n",
       " 'hands': 785,\n",
       " 'padded': 786,\n",
       " 'desire': 787,\n",
       " 'mercy': 788,\n",
       " 'promises': 789,\n",
       " 'roll': 790,\n",
       " 'breathe': 791,\n",
       " 'might': 792,\n",
       " 'talking': 793,\n",
       " 'few': 794,\n",
       " 'kansas': 795,\n",
       " 'wants': 796,\n",
       " 'above': 797,\n",
       " 'clouds': 798,\n",
       " 'current': 799,\n",
       " 'miles': 800,\n",
       " 'hurry': 801,\n",
       " 'interrupted': 802,\n",
       " 'changed': 803,\n",
       " 'mabel': 804,\n",
       " 'behind': 805,\n",
       " 'ears': 806,\n",
       " 'groan': 807,\n",
       " 'reached': 808,\n",
       " 'sound': 809,\n",
       " 'life': 810,\n",
       " 'saving': 811,\n",
       " 'continued': 812,\n",
       " 'secret': 813,\n",
       " 'clinging': 814,\n",
       " 'swept': 815,\n",
       " 'center': 816,\n",
       " 'exactly': 817,\n",
       " 'ruled': 818,\n",
       " 'bill': 819,\n",
       " 'bottle': 820,\n",
       " 'guinea': 821,\n",
       " 'pigs': 822,\n",
       " 'geography': 823,\n",
       " 'multiplication': 824,\n",
       " 'signify': 825,\n",
       " 'table': 826,\n",
       " 'hate': 827,\n",
       " 'history': 828,\n",
       " 'offended': 829,\n",
       " 'promised': 830,\n",
       " 'whisper': 831,\n",
       " 'sadly': 832,\n",
       " 'evening': 833,\n",
       " 'night': 834,\n",
       " 'rest': 835,\n",
       " 'tired': 836,\n",
       " 'walk': 837,\n",
       " 'always': 838,\n",
       " 'blew': 839,\n",
       " 'given': 840,\n",
       " 'mice': 841,\n",
       " 'since': 842,\n",
       " 'whistle': 843,\n",
       " 'balloon': 844,\n",
       " 'picked': 845,\n",
       " 'towards': 846,\n",
       " 'chattering': 847,\n",
       " 'crowd': 848,\n",
       " 'dark': 849,\n",
       " 'immense': 850,\n",
       " 'laughing': 851,\n",
       " 'monkeys': 852,\n",
       " 'pair': 853,\n",
       " 'powerful': 854,\n",
       " 'rushing': 855,\n",
       " 'show': 856,\n",
       " 'sun': 857,\n",
       " 'surrounded': 858,\n",
       " 'wings': 859,\n",
       " 'explained': 860,\n",
       " 'also': 861,\n",
       " 'an': 862,\n",
       " 'belonged': 863,\n",
       " 'clothes': 864,\n",
       " 'faded': 865,\n",
       " 'figure': 866,\n",
       " 'hat': 867,\n",
       " 'old': 868,\n",
       " 'perched': 869,\n",
       " 'suit': 870,\n",
       " 'worn': 871,\n",
       " 'encouraging': 872,\n",
       " 'wine': 873,\n",
       " 'hush': 874,\n",
       " 'able': 875,\n",
       " 'bar': 876,\n",
       " 'fell': 877,\n",
       " 'floor': 878,\n",
       " 'full': 879,\n",
       " 'length': 880,\n",
       " 'stumbled': 881,\n",
       " 'banks': 882,\n",
       " 'between': 883,\n",
       " 'brook': 884,\n",
       " 'dry': 885,\n",
       " 'grateful': 886,\n",
       " 'gray': 887,\n",
       " 'lived': 888,\n",
       " 'murmuring': 889,\n",
       " 'prairies': 890,\n",
       " 'sparkling': 891,\n",
       " 'voice': 892,\n",
       " 'ask': 893,\n",
       " 'forms': 894,\n",
       " 'frighten': 895,\n",
       " 'grant': 896,\n",
       " 'himself': 897,\n",
       " 'loudest': 898,\n",
       " 'wondered': 899,\n",
       " 'spectacles': 900,\n",
       " 'unlocked': 901,\n",
       " 'speak': 902,\n",
       " 'choked': 903,\n",
       " 'sobs': 904,\n",
       " 'thick': 905,\n",
       " 'traveled': 906,\n",
       " 'brutes': 907,\n",
       " 'carrying': 908,\n",
       " 'crash': 909,\n",
       " 'gulf': 910,\n",
       " 'nearly': 911,\n",
       " 'pieces': 912,\n",
       " 'rocks': 913,\n",
       " 'snarling': 914,\n",
       " 'ugly': 915,\n",
       " 'sight': 916,\n",
       " 'battered': 917,\n",
       " 'dented': 918,\n",
       " 'distance': 919,\n",
       " 'lay': 920,\n",
       " 'neither': 921,\n",
       " 'beside': 922,\n",
       " 'fight': 923,\n",
       " 'dwelt': 924,\n",
       " 'east': 925,\n",
       " 'killed': 926,\n",
       " 'land': 927,\n",
       " 'lives': 928,\n",
       " 'west': 929,\n",
       " 'witches': 930,\n",
       " 'growing': 931,\n",
       " 'meekly': 932,\n",
       " 'angrily': 933,\n",
       " 'beasts': 934,\n",
       " 'keep': 935,\n",
       " 'welcome': 936,\n",
       " 'wild': 937,\n",
       " 'elephant': 938,\n",
       " 'strong': 939,\n",
       " 'weight': 940,\n",
       " 'alas': 941,\n",
       " 'speed': 942,\n",
       " 'beheaded': 943,\n",
       " 'shan': 944,\n",
       " 'grinned': 945,\n",
       " 'flew': 946,\n",
       " 'forehead': 947,\n",
       " 'grinning': 948,\n",
       " 'hairy': 949,\n",
       " 'kiss': 950,\n",
       " 'mark': 951,\n",
       " 'motioning': 952,\n",
       " 'short': 953,\n",
       " 'stopped': 954,\n",
       " 'terribly': 955,\n",
       " 'touch': 956,\n",
       " 'winged': 957,\n",
       " 'ladder': 958,\n",
       " 'waked': 959,\n",
       " 'bells': 960,\n",
       " 'brims': 961,\n",
       " 'foot': 962,\n",
       " 'hats': 963,\n",
       " 'moved': 964,\n",
       " 'point': 965,\n",
       " 'sweetly': 966,\n",
       " 'tinkled': 967,\n",
       " 'wore': 968,\n",
       " 'built': 969,\n",
       " 'myself': 970,\n",
       " 'palace': 971,\n",
       " 'shut': 972,\n",
       " 'trap': 973,\n",
       " 'destroyed': 974,\n",
       " 'carefully': 975,\n",
       " 'castle': 976,\n",
       " 'doorstep': 977,\n",
       " 'front': 978,\n",
       " 'lifted': 979,\n",
       " 'swiftly': 980,\n",
       " 'clown': 981,\n",
       " 'completely': 982,\n",
       " 'covered': 983,\n",
       " 'cracks': 984,\n",
       " 'jolly': 985,\n",
       " 'mended': 986,\n",
       " 'plainly': 987,\n",
       " 'running': 988,\n",
       " 'showing': 989,\n",
       " 'spite': 990,\n",
       " 'walking': 991,\n",
       " 'engaged': 992,\n",
       " 'sitting': 993,\n",
       " 'window': 994,\n",
       " 'ear': 995,\n",
       " 'holding': 996,\n",
       " 'pocket': 997,\n",
       " 'shaking': 998,\n",
       " 'taken': 999,\n",
       " ...}"
      ]
     },
     "execution_count": 34,
     "metadata": {},
     "output_type": "execute_result"
    }
   ],
   "source": [
    "dictionary.token2id"
   ]
  },
  {
   "cell_type": "code",
   "execution_count": 35,
   "metadata": {},
   "outputs": [
    {
     "data": {
      "text/plain": [
       "['and', 'as', 'far', 'knew', 'quite']"
      ]
     },
     "execution_count": 35,
     "metadata": {},
     "output_type": "execute_result"
    }
   ],
   "source": [
    "vocab = list(dictionary.token2id.keys())\n",
    "vocab[:5]"
   ]
  },
  {
   "cell_type": "code",
   "execution_count": 36,
   "metadata": {},
   "outputs": [
    {
     "data": {
      "text/plain": [
       "{0: 2024,\n",
       " 6: 362,\n",
       " 2: 29,\n",
       " 1: 473,\n",
       " 7: 443,\n",
       " 3: 36,\n",
       " 8: 231,\n",
       " 4: 65,\n",
       " 5: 45,\n",
       " 11: 36,\n",
       " 20: 3725,\n",
       " 13: 46,\n",
       " 17: 46,\n",
       " 23: 49,\n",
       " 14: 360,\n",
       " 16: 72,\n",
       " 10: 8,\n",
       " 21: 1481,\n",
       " 19: 5,\n",
       " 15: 811,\n",
       " 24: 172,\n",
       " 12: 12,\n",
       " 18: 1107,\n",
       " 22: 9,\n",
       " 9: 14,\n",
       " 28: 369,\n",
       " 38: 230,\n",
       " 36: 189,\n",
       " 39: 693,\n",
       " 27: 5,\n",
       " 30: 12,\n",
       " 37: 550,\n",
       " 33: 140,\n",
       " 26: 383,\n",
       " 35: 77,\n",
       " 31: 466,\n",
       " 29: 161,\n",
       " 34: 297,\n",
       " 32: 2,\n",
       " 25: 15,\n",
       " 44: 144,\n",
       " 40: 143,\n",
       " 46: 706,\n",
       " 45: 67,\n",
       " 41: 160,\n",
       " 43: 6,\n",
       " 42: 220,\n",
       " 51: 22,\n",
       " 52: 613,\n",
       " 53: 173,\n",
       " 48: 390,\n",
       " 54: 154,\n",
       " 50: 10,\n",
       " 47: 6,\n",
       " 49: 502,\n",
       " 55: 305,\n",
       " 56: 3,\n",
       " 62: 20,\n",
       " 61: 278,\n",
       " 63: 56,\n",
       " 59: 13,\n",
       " 60: 121,\n",
       " 58: 52,\n",
       " 57: 66,\n",
       " 71: 9,\n",
       " 73: 82,\n",
       " 74: 33,\n",
       " 82: 59,\n",
       " 68: 34,\n",
       " 67: 4,\n",
       " 76: 17,\n",
       " 70: 199,\n",
       " 66: 8,\n",
       " 78: 4,\n",
       " 77: 749,\n",
       " 64: 27,\n",
       " 72: 7,\n",
       " 69: 292,\n",
       " 80: 37,\n",
       " 65: 12,\n",
       " 75: 4,\n",
       " 79: 3,\n",
       " 83: 158,\n",
       " 81: 10,\n",
       " 85: 293,\n",
       " 91: 37,\n",
       " 86: 145,\n",
       " 88: 681,\n",
       " 89: 19,\n",
       " 90: 12,\n",
       " 87: 7,\n",
       " 92: 72,\n",
       " 84: 34,\n",
       " 93: 104,\n",
       " 94: 254,\n",
       " 95: 5,\n",
       " 101: 18,\n",
       " 108: 4,\n",
       " 113: 50,\n",
       " 106: 40,\n",
       " 110: 3,\n",
       " 100: 13,\n",
       " 111: 3,\n",
       " 109: 22,\n",
       " 104: 122,\n",
       " 97: 3,\n",
       " 105: 11,\n",
       " 99: 43,\n",
       " 103: 43,\n",
       " 112: 66,\n",
       " 96: 24,\n",
       " 98: 98,\n",
       " 102: 2,\n",
       " 107: 1,\n",
       " 115: 7,\n",
       " 114: 13,\n",
       " 116: 9,\n",
       " 121: 184,\n",
       " 118: 28,\n",
       " 120: 10,\n",
       " 117: 66,\n",
       " 119: 68,\n",
       " 127: 2,\n",
       " 123: 56,\n",
       " 125: 2,\n",
       " 124: 18,\n",
       " 126: 49,\n",
       " 128: 193,\n",
       " 122: 6,\n",
       " 131: 163,\n",
       " 129: 14,\n",
       " 130: 165,\n",
       " 137: 117,\n",
       " 139: 109,\n",
       " 132: 35,\n",
       " 136: 14,\n",
       " 138: 30,\n",
       " 134: 26,\n",
       " 143: 55,\n",
       " 142: 24,\n",
       " 140: 95,\n",
       " 145: 165,\n",
       " 141: 24,\n",
       " 146: 8,\n",
       " 135: 22,\n",
       " 144: 2,\n",
       " 133: 20,\n",
       " 162: 36,\n",
       " 171: 73,\n",
       " 177: 99,\n",
       " 156: 6,\n",
       " 180: 7,\n",
       " 178: 15,\n",
       " 158: 107,\n",
       " 150: 68,\n",
       " 179: 30,\n",
       " 152: 34,\n",
       " 169: 24,\n",
       " 164: 11,\n",
       " 155: 13,\n",
       " 149: 1,\n",
       " 148: 44,\n",
       " 168: 12,\n",
       " 175: 175,\n",
       " 157: 87,\n",
       " 147: 93,\n",
       " 176: 3,\n",
       " 163: 23,\n",
       " 166: 102,\n",
       " 174: 48,\n",
       " 167: 182,\n",
       " 151: 260,\n",
       " 159: 3,\n",
       " 161: 80,\n",
       " 154: 6,\n",
       " 153: 36,\n",
       " 165: 119,\n",
       " 170: 85,\n",
       " 160: 196,\n",
       " 172: 7,\n",
       " 173: 14,\n",
       " 190: 34,\n",
       " 184: 52,\n",
       " 191: 2,\n",
       " 192: 13,\n",
       " 185: 11,\n",
       " 187: 198,\n",
       " 189: 13,\n",
       " 181: 134,\n",
       " 188: 8,\n",
       " 182: 46,\n",
       " 186: 17,\n",
       " 183: 15,\n",
       " 195: 99,\n",
       " 194: 11,\n",
       " 193: 8,\n",
       " 196: 10,\n",
       " 202: 58,\n",
       " 199: 21,\n",
       " 200: 9,\n",
       " 201: 19,\n",
       " 198: 1,\n",
       " 197: 14,\n",
       " 247: 173,\n",
       " 225: 1,\n",
       " 238: 1,\n",
       " 250: 364,\n",
       " 207: 5,\n",
       " 212: 2,\n",
       " 205: 1,\n",
       " 242: 2,\n",
       " 203: 334,\n",
       " 227: 96,\n",
       " 245: 121,\n",
       " 221: 3,\n",
       " 231: 1,\n",
       " 226: 19,\n",
       " 220: 3,\n",
       " 217: 1,\n",
       " 241: 25,\n",
       " 219: 4,\n",
       " 232: 4,\n",
       " 239: 1,\n",
       " 215: 15,\n",
       " 224: 6,\n",
       " 206: 1,\n",
       " 228: 3,\n",
       " 251: 25,\n",
       " 204: 17,\n",
       " 243: 1,\n",
       " 246: 258,\n",
       " 208: 1,\n",
       " 240: 37,\n",
       " 230: 1,\n",
       " 223: 1,\n",
       " 213: 1,\n",
       " 248: 93,\n",
       " 222: 17,\n",
       " 249: 3,\n",
       " 216: 1,\n",
       " 234: 1,\n",
       " 237: 3,\n",
       " 214: 1,\n",
       " 218: 4,\n",
       " 211: 2,\n",
       " 236: 1,\n",
       " 235: 38,\n",
       " 233: 9,\n",
       " 210: 4,\n",
       " 244: 7,\n",
       " 229: 6,\n",
       " 209: 1,\n",
       " 260: 115,\n",
       " 261: 140,\n",
       " 258: 29,\n",
       " 262: 22,\n",
       " 252: 25,\n",
       " 253: 8,\n",
       " 259: 62,\n",
       " 254: 1,\n",
       " 257: 4,\n",
       " 255: 2,\n",
       " 256: 13,\n",
       " 264: 43,\n",
       " 266: 21,\n",
       " 263: 24,\n",
       " 267: 7,\n",
       " 265: 131,\n",
       " 268: 7,\n",
       " 270: 81,\n",
       " 269: 5,\n",
       " 271: 27,\n",
       " 276: 45,\n",
       " 273: 6,\n",
       " 272: 69,\n",
       " 274: 28,\n",
       " 275: 12,\n",
       " 277: 84,\n",
       " 278: 77,\n",
       " 279: 46,\n",
       " 305: 12,\n",
       " 299: 6,\n",
       " 300: 8,\n",
       " 284: 124,\n",
       " 288: 8,\n",
       " 292: 34,\n",
       " 301: 1,\n",
       " 294: 20,\n",
       " 290: 3,\n",
       " 280: 1,\n",
       " 304: 25,\n",
       " 282: 9,\n",
       " 298: 88,\n",
       " 289: 63,\n",
       " 281: 5,\n",
       " 295: 119,\n",
       " 296: 3,\n",
       " 302: 5,\n",
       " 293: 8,\n",
       " 283: 1,\n",
       " 285: 11,\n",
       " 297: 9,\n",
       " 287: 3,\n",
       " 291: 124,\n",
       " 303: 35,\n",
       " 286: 34,\n",
       " 307: 13,\n",
       " 306: 2,\n",
       " 308: 52,\n",
       " 309: 9,\n",
       " 310: 1,\n",
       " 322: 104,\n",
       " 319: 19,\n",
       " 315: 12,\n",
       " 316: 11,\n",
       " 311: 43,\n",
       " 318: 9,\n",
       " 317: 2,\n",
       " 320: 2,\n",
       " 313: 17,\n",
       " 312: 19,\n",
       " 321: 1,\n",
       " 314: 1,\n",
       " 327: 5,\n",
       " 325: 32,\n",
       " 328: 26,\n",
       " 326: 63,\n",
       " 330: 96,\n",
       " 323: 108,\n",
       " 329: 14,\n",
       " 324: 17,\n",
       " 333: 39,\n",
       " 332: 20,\n",
       " 331: 9,\n",
       " 334: 30,\n",
       " 335: 10,\n",
       " 336: 26,\n",
       " 347: 10,\n",
       " 337: 6,\n",
       " 348: 58,\n",
       " 344: 2,\n",
       " 343: 76,\n",
       " 340: 179,\n",
       " 341: 7,\n",
       " 345: 4,\n",
       " 339: 7,\n",
       " 338: 5,\n",
       " 349: 32,\n",
       " 350: 28,\n",
       " 346: 125,\n",
       " 342: 52,\n",
       " 355: 10,\n",
       " 356: 72,\n",
       " 353: 71,\n",
       " 354: 2,\n",
       " 357: 2,\n",
       " 351: 3,\n",
       " 352: 40,\n",
       " 358: 10,\n",
       " 359: 71,\n",
       " 360: 7,\n",
       " 361: 2,\n",
       " 363: 10,\n",
       " 366: 12,\n",
       " 364: 11,\n",
       " 362: 11,\n",
       " 365: 12,\n",
       " 367: 121,\n",
       " 368: 2,\n",
       " 369: 40,\n",
       " 370: 42,\n",
       " 372: 9,\n",
       " 371: 61,\n",
       " 376: 34,\n",
       " 375: 7,\n",
       " 374: 1,\n",
       " 373: 4,\n",
       " 377: 16,\n",
       " 379: 80,\n",
       " 380: 12,\n",
       " 382: 4,\n",
       " 383: 15,\n",
       " 378: 10,\n",
       " 381: 56,\n",
       " 384: 12,\n",
       " 385: 19,\n",
       " 390: 11,\n",
       " 389: 11,\n",
       " 387: 12,\n",
       " 386: 2,\n",
       " 388: 144,\n",
       " 394: 10,\n",
       " 395: 8,\n",
       " 393: 13,\n",
       " 392: 3,\n",
       " 391: 29,\n",
       " 396: 83,\n",
       " 398: 4,\n",
       " 400: 90,\n",
       " 399: 1,\n",
       " 397: 36,\n",
       " 406: 12,\n",
       " 403: 105,\n",
       " 401: 14,\n",
       " 402: 82,\n",
       " 405: 3,\n",
       " 404: 12,\n",
       " 407: 6,\n",
       " 410: 102,\n",
       " 409: 4,\n",
       " 408: 17,\n",
       " 411: 112,\n",
       " 412: 2,\n",
       " 413: 8,\n",
       " 414: 2,\n",
       " 419: 40,\n",
       " 416: 73,\n",
       " 420: 19,\n",
       " 418: 8,\n",
       " 415: 64,\n",
       " 417: 9,\n",
       " 421: 111,\n",
       " 427: 6,\n",
       " 426: 6,\n",
       " 425: 3,\n",
       " 424: 179,\n",
       " 423: 14,\n",
       " 422: 19,\n",
       " 429: 3,\n",
       " 428: 13,\n",
       " 433: 25,\n",
       " 432: 34,\n",
       " 430: 56,\n",
       " 431: 21,\n",
       " 436: 27,\n",
       " 434: 1,\n",
       " 435: 1,\n",
       " 437: 89,\n",
       " 439: 24,\n",
       " 438: 25,\n",
       " 442: 97,\n",
       " 441: 17,\n",
       " 445: 1,\n",
       " 444: 4,\n",
       " 443: 7,\n",
       " 440: 3,\n",
       " 449: 95,\n",
       " 446: 14,\n",
       " 455: 19,\n",
       " 452: 25,\n",
       " 450: 6,\n",
       " 451: 72,\n",
       " 453: 34,\n",
       " 456: 1,\n",
       " 448: 12,\n",
       " 447: 2,\n",
       " 454: 14,\n",
       " 460: 9,\n",
       " 458: 6,\n",
       " 457: 37,\n",
       " 459: 23,\n",
       " 461: 1,\n",
       " 470: 18,\n",
       " 463: 47,\n",
       " 467: 14,\n",
       " 472: 33,\n",
       " 466: 8,\n",
       " 471: 1,\n",
       " 464: 13,\n",
       " 465: 1,\n",
       " 468: 84,\n",
       " 462: 31,\n",
       " 469: 1,\n",
       " 476: 12,\n",
       " 482: 20,\n",
       " 483: 4,\n",
       " 477: 10,\n",
       " 479: 6,\n",
       " 480: 51,\n",
       " 474: 24,\n",
       " 473: 10,\n",
       " 475: 19,\n",
       " 481: 19,\n",
       " 478: 3,\n",
       " 484: 4,\n",
       " 487: 29,\n",
       " 485: 33,\n",
       " 486: 2,\n",
       " 488: 9,\n",
       " 489: 4,\n",
       " 490: 34,\n",
       " 496: 6,\n",
       " 497: 34,\n",
       " 493: 1,\n",
       " 495: 3,\n",
       " 492: 8,\n",
       " 498: 7,\n",
       " 494: 7,\n",
       " 491: 4,\n",
       " 499: 22,\n",
       " 502: 8,\n",
       " 500: 1,\n",
       " 503: 12,\n",
       " 504: 5,\n",
       " 501: 5,\n",
       " 506: 2,\n",
       " 508: 79,\n",
       " 507: 2,\n",
       " 505: 3,\n",
       " 509: 2,\n",
       " 511: 56,\n",
       " 510: 4,\n",
       " 512: 2,\n",
       " 514: 12,\n",
       " 513: 2,\n",
       " 520: 41,\n",
       " 515: 2,\n",
       " 516: 11,\n",
       " 518: 102,\n",
       " 517: 12,\n",
       " 526: 5,\n",
       " 522: 29,\n",
       " 519: 26,\n",
       " 525: 2,\n",
       " 523: 3,\n",
       " 521: 1,\n",
       " 524: 4,\n",
       " 533: 4,\n",
       " 535: 15,\n",
       " 531: 3,\n",
       " 527: 2,\n",
       " 530: 1,\n",
       " 528: 1,\n",
       " 532: 3,\n",
       " 536: 7,\n",
       " 534: 2,\n",
       " 529: 3,\n",
       " 537: 44,\n",
       " 539: 10,\n",
       " 538: 12,\n",
       " 544: 30,\n",
       " 546: 23,\n",
       " 543: 1,\n",
       " 541: 10,\n",
       " 540: 3,\n",
       " 545: 2,\n",
       " 547: 54,\n",
       " 542: 3,\n",
       " 553: 3,\n",
       " 552: 22,\n",
       " 550: 1,\n",
       " 549: 7,\n",
       " 551: 23,\n",
       " 548: 3,\n",
       " 554: 3,\n",
       " 561: 4,\n",
       " 564: 47,\n",
       " 556: 4,\n",
       " 558: 21,\n",
       " 560: 1,\n",
       " 565: 3,\n",
       " 559: 39,\n",
       " 563: 29,\n",
       " 557: 8,\n",
       " 562: 43,\n",
       " 555: 4,\n",
       " 566: 95,\n",
       " 567: 34,\n",
       " 568: 63,\n",
       " 569: 106,\n",
       " 570: 3,\n",
       " 572: 3,\n",
       " 573: 5,\n",
       " 571: 5,\n",
       " 575: 30,\n",
       " 574: 28,\n",
       " 576: 21,\n",
       " 577: 7,\n",
       " 578: 59,\n",
       " 582: 30,\n",
       " 581: 6,\n",
       " 579: 13,\n",
       " 580: 19,\n",
       " 584: 1,\n",
       " 586: 6,\n",
       " 583: 1,\n",
       " 590: 5,\n",
       " 585: 66,\n",
       " 587: 4,\n",
       " 589: 3,\n",
       " 588: 9,\n",
       " 593: 9,\n",
       " 595: 52,\n",
       " 596: 23,\n",
       " 591: 2,\n",
       " 592: 24,\n",
       " 594: 24,\n",
       " 598: 54,\n",
       " 597: 1,\n",
       " 600: 2,\n",
       " 599: 19,\n",
       " 604: 22,\n",
       " 605: 21,\n",
       " 606: 49,\n",
       " 601: 2,\n",
       " 603: 14,\n",
       " 602: 9,\n",
       " 607: 4,\n",
       " 611: 1,\n",
       " 609: 27,\n",
       " 612: 22,\n",
       " 613: 23,\n",
       " 608: 1,\n",
       " 610: 49,\n",
       " 614: 5,\n",
       " 615: 6,\n",
       " 616: 10,\n",
       " 617: 15,\n",
       " 618: 2,\n",
       " 621: 67,\n",
       " 619: 45,\n",
       " 622: 34,\n",
       " 620: 14,\n",
       " 627: 7,\n",
       " 625: 1,\n",
       " 629: 4,\n",
       " 626: 18,\n",
       " 630: 7,\n",
       " 632: 21,\n",
       " 623: 5,\n",
       " 631: 6,\n",
       " 628: 12,\n",
       " 633: 2,\n",
       " 624: 8,\n",
       " 637: 1,\n",
       " 636: 1,\n",
       " 638: 1,\n",
       " 635: 7,\n",
       " 634: 7,\n",
       " 639: 19,\n",
       " 641: 25,\n",
       " 642: 13,\n",
       " 640: 9,\n",
       " 643: 21,\n",
       " 644: 55,\n",
       " 648: 4,\n",
       " 650: 5,\n",
       " 645: 3,\n",
       " 647: 5,\n",
       " 649: 8,\n",
       " 646: 33,\n",
       " 652: 18,\n",
       " 651: 14,\n",
       " 657: 2,\n",
       " 653: 3,\n",
       " 659: 3,\n",
       " 656: 5,\n",
       " 658: 14,\n",
       " 660: 7,\n",
       " 655: 1,\n",
       " 661: 2,\n",
       " 654: 5,\n",
       " 662: 41,\n",
       " 666: 62,\n",
       " 664: 4,\n",
       " 667: 87,\n",
       " 663: 3,\n",
       " 665: 10,\n",
       " 668: 21,\n",
       " 670: 13,\n",
       " 672: 10,\n",
       " 669: 5,\n",
       " 671: 3,\n",
       " 677: 14,\n",
       " 676: 6,\n",
       " 674: 21,\n",
       " 673: 9,\n",
       " 675: 82,\n",
       " 678: 3,\n",
       " 679: 2,\n",
       " 680: 6,\n",
       " 688: 7,\n",
       " 685: 10,\n",
       " 687: 2,\n",
       " 684: 40,\n",
       " 683: 2,\n",
       " 690: 5,\n",
       " 686: 8,\n",
       " 682: 8,\n",
       " 691: 18,\n",
       " 681: 3,\n",
       " 689: 4,\n",
       " 692: 14,\n",
       " 693: 19,\n",
       " 694: 11,\n",
       " 696: 14,\n",
       " 695: 18,\n",
       " 697: 14,\n",
       " 703: 28,\n",
       " 702: 10,\n",
       " 699: 1,\n",
       " 698: 7,\n",
       " 701: 6,\n",
       " 700: 12,\n",
       " 704: 8,\n",
       " 707: 1,\n",
       " 705: 39,\n",
       " 706: 9,\n",
       " 709: 8,\n",
       " 708: 7,\n",
       " 714: 24,\n",
       " 712: 11,\n",
       " 711: 8,\n",
       " 710: 13,\n",
       " 717: 5,\n",
       " 715: 1,\n",
       " 713: 15,\n",
       " 716: 2,\n",
       " 722: 13,\n",
       " 718: 9,\n",
       " 721: 2,\n",
       " 720: 6,\n",
       " 719: 4,\n",
       " 724: 5,\n",
       " 723: 3,\n",
       " 728: 15,\n",
       " 726: 27,\n",
       " 725: 17,\n",
       " 727: 6,\n",
       " 729: 7,\n",
       " 730: 35,\n",
       " 734: 1,\n",
       " 731: 12,\n",
       " 732: 10,\n",
       " 733: 7,\n",
       " 735: 14,\n",
       " 736: 19,\n",
       " 737: 13,\n",
       " 738: 3,\n",
       " 740: 7,\n",
       " 739: 3,\n",
       " 741: 41,\n",
       " 742: 7,\n",
       " 744: 24,\n",
       " 743: 3,\n",
       " 745: 5,\n",
       " 750: 11,\n",
       " 747: 9,\n",
       " 752: 1,\n",
       " 753: 29,\n",
       " 748: 3,\n",
       " 749: 3,\n",
       " 746: 32,\n",
       " 751: 13,\n",
       " 754: 1,\n",
       " 757: 7,\n",
       " 758: 4,\n",
       " 755: 12,\n",
       " 756: 26,\n",
       " 759: 13,\n",
       " 761: 1,\n",
       " 760: 9,\n",
       " 766: 20,\n",
       " 762: 2,\n",
       " 763: 31,\n",
       " 764: 3,\n",
       " 765: 29,\n",
       " 769: 6,\n",
       " 768: 1,\n",
       " 770: 4,\n",
       " 767: 2,\n",
       " 772: 6,\n",
       " 771: 7,\n",
       " 773: 8,\n",
       " 778: 2,\n",
       " 777: 7,\n",
       " 774: 1,\n",
       " 776: 5,\n",
       " 775: 1,\n",
       " 780: 29,\n",
       " 781: 22,\n",
       " 782: 11,\n",
       " 779: 36,\n",
       " 786: 1,\n",
       " 785: 20,\n",
       " 783: 3,\n",
       " 784: 8,\n",
       " 788: 1,\n",
       " 790: 2,\n",
       " 789: 3,\n",
       " 787: 2,\n",
       " 792: 40,\n",
       " 793: 14,\n",
       " 791: 4,\n",
       " 795: 41,\n",
       " 796: 2,\n",
       " 794: 22,\n",
       " 797: 8,\n",
       " 798: 4,\n",
       " 799: 3,\n",
       " 800: 9,\n",
       " 802: 8,\n",
       " 801: 6,\n",
       " 803: 7,\n",
       " 804: 3,\n",
       " 807: 3,\n",
       " 808: 14,\n",
       " 806: 9,\n",
       " 809: 8,\n",
       " 805: 26,\n",
       " 811: 5,\n",
       " 810: 26,\n",
       " 813: 2,\n",
       " 812: 17,\n",
       " 815: 3,\n",
       " 814: 1,\n",
       " 817: 11,\n",
       " 816: 3,\n",
       " 818: 5,\n",
       " 819: 17,\n",
       " 821: 6,\n",
       " 822: 6,\n",
       " 820: 9,\n",
       " 824: 1,\n",
       " 826: 17,\n",
       " 825: 1,\n",
       " 823: 1,\n",
       " 830: 8,\n",
       " 828: 7,\n",
       " 827: 2,\n",
       " 831: 4,\n",
       " 829: 7,\n",
       " 832: 8,\n",
       " 833: 6,\n",
       " 836: 14,\n",
       " 837: 14,\n",
       " 834: 22,\n",
       " 835: 21,\n",
       " 839: 7,\n",
       " 843: 6,\n",
       " 838: 25,\n",
       " 842: 12,\n",
       " 841: 23,\n",
       " 840: 7,\n",
       " 845: 11,\n",
       " 846: 2,\n",
       " 844: 20,\n",
       " 855: 2,\n",
       " 859: 8,\n",
       " 847: 3,\n",
       " 851: 5,\n",
       " 857: 20,\n",
       " 849: 15,\n",
       " 856: 8,\n",
       " 858: 2,\n",
       " 848: 6,\n",
       " 852: 34,\n",
       " 853: 5,\n",
       " 850: 1,\n",
       " 854: 12,\n",
       " 860: 5,\n",
       " 862: 75,\n",
       " 868: 48,\n",
       " 867: 2,\n",
       " 863: 2,\n",
       " 869: 4,\n",
       " 866: 7,\n",
       " 870: 2,\n",
       " 864: 11,\n",
       " 871: 4,\n",
       " 865: 3,\n",
       " 861: 25,\n",
       " 873: 1,\n",
       " 872: 2,\n",
       " 874: 4,\n",
       " 878: 13,\n",
       " 881: 3,\n",
       " 876: 2,\n",
       " 875: 7,\n",
       " 877: 29,\n",
       " 879: 20,\n",
       " 880: 3,\n",
       " 884: 4,\n",
       " 891: 3,\n",
       " 883: 11,\n",
       " 882: 2,\n",
       " 889: 1,\n",
       " 892: 66,\n",
       " 886: 6,\n",
       " 888: 20,\n",
       " 885: 9,\n",
       " 887: 12,\n",
       " 890: 2,\n",
       " 899: 5,\n",
       " 894: 2,\n",
       " 897: 23,\n",
       " 898: 1,\n",
       " 895: 2,\n",
       " 896: 4,\n",
       " 893: 25,\n",
       " 901: 3,\n",
       " 900: 11,\n",
       " 902: 21,\n",
       " 904: 4,\n",
       " 903: 3,\n",
       " 906: 3,\n",
       " 905: 12,\n",
       " 911: 23,\n",
       " 909: 6,\n",
       " 910: 4,\n",
       " 908: 3,\n",
       " 915: 5,\n",
       " 914: 2,\n",
       " 907: 1,\n",
       " 912: 8,\n",
       " 913: 6,\n",
       " 916: 15,\n",
       " 919: 9,\n",
       " 920: 19,\n",
       " 917: 2,\n",
       " 918: 2,\n",
       " 921: 7,\n",
       " 922: 21,\n",
       " 923: 8,\n",
       " 924: 2,\n",
       " 925: 17,\n",
       " 929: 22,\n",
       " 930: 13,\n",
       " 926: 16,\n",
       " 927: 30,\n",
       " 928: 8,\n",
       " 932: 5,\n",
       " 931: 12,\n",
       " 933: 9,\n",
       " 936: 5,\n",
       " 935: 29,\n",
       " 937: 9,\n",
       " 934: 16,\n",
       " 938: 3,\n",
       " 939: 7,\n",
       " 940: 2,\n",
       " 942: 2,\n",
       " 941: 5,\n",
       " 944: 6,\n",
       " 943: 3,\n",
       " 945: 2,\n",
       " 957: 24,\n",
       " 946: 22,\n",
       " 949: 1,\n",
       " 948: 2,\n",
       " 955: 5,\n",
       " 951: 8,\n",
       " 950: 5,\n",
       " 947: 4,\n",
       " 954: 14,\n",
       " 953: 16,\n",
       " 952: 1,\n",
       " 956: 4,\n",
       " 959: 1,\n",
       " 958: 9,\n",
       " 968: 8,\n",
       " 963: 4,\n",
       " 965: 2,\n",
       " 962: 19,\n",
       " 960: 2,\n",
       " 961: 1,\n",
       " 967: 1,\n",
       " 966: 3,\n",
       " 964: 9,\n",
       " 971: 21,\n",
       " 969: 9,\n",
       " 972: 10,\n",
       " 970: 16,\n",
       " 973: 4,\n",
       " 974: 4,\n",
       " 975: 15,\n",
       " 979: 6,\n",
       " 980: 4,\n",
       " 976: 18,\n",
       " 978: 6,\n",
       " 977: 2,\n",
       " 985: 1,\n",
       " 981: 3,\n",
       " 991: 19,\n",
       " 990: 5,\n",
       " 982: 1,\n",
       " 983: 8,\n",
       " 984: 1,\n",
       " 988: 16,\n",
       " 989: 2,\n",
       " 987: 1,\n",
       " 986: 4,\n",
       " 993: 18,\n",
       " 994: 12,\n",
       " 992: 2,\n",
       " 999: 9,\n",
       " 1001: 6,\n",
       " 997: 7,\n",
       " 1000: 2,\n",
       " 998: 7,\n",
       " ...}"
      ]
     },
     "execution_count": 36,
     "metadata": {},
     "output_type": "execute_result"
    }
   ],
   "source": [
    "dictionary.cfs"
   ]
  },
  {
   "cell_type": "code",
   "execution_count": 37,
   "metadata": {},
   "outputs": [
    {
     "data": {
      "text/plain": [
       "{0: 1306,\n",
       " 6: 351,\n",
       " 2: 27,\n",
       " 1: 338,\n",
       " 7: 342,\n",
       " 3: 34,\n",
       " 8: 201,\n",
       " 4: 61,\n",
       " 5: 45,\n",
       " 11: 36,\n",
       " 20: 1884,\n",
       " 13: 45,\n",
       " 17: 46,\n",
       " 23: 48,\n",
       " 14: 315,\n",
       " 16: 72,\n",
       " 10: 8,\n",
       " 21: 1072,\n",
       " 19: 5,\n",
       " 15: 609,\n",
       " 24: 165,\n",
       " 12: 12,\n",
       " 18: 833,\n",
       " 22: 9,\n",
       " 9: 14,\n",
       " 28: 358,\n",
       " 38: 225,\n",
       " 36: 175,\n",
       " 39: 550,\n",
       " 27: 5,\n",
       " 30: 12,\n",
       " 37: 491,\n",
       " 33: 138,\n",
       " 26: 345,\n",
       " 35: 75,\n",
       " 31: 366,\n",
       " 29: 153,\n",
       " 34: 267,\n",
       " 32: 2,\n",
       " 25: 14,\n",
       " 44: 140,\n",
       " 40: 132,\n",
       " 46: 549,\n",
       " 45: 67,\n",
       " 41: 157,\n",
       " 43: 6,\n",
       " 42: 193,\n",
       " 51: 22,\n",
       " 52: 605,\n",
       " 53: 173,\n",
       " 48: 358,\n",
       " 54: 131,\n",
       " 50: 10,\n",
       " 47: 6,\n",
       " 49: 371,\n",
       " 55: 295,\n",
       " 56: 3,\n",
       " 62: 20,\n",
       " 61: 260,\n",
       " 63: 55,\n",
       " 59: 12,\n",
       " 60: 115,\n",
       " 58: 52,\n",
       " 57: 65,\n",
       " 71: 9,\n",
       " 73: 81,\n",
       " 74: 33,\n",
       " 82: 57,\n",
       " 68: 32,\n",
       " 67: 4,\n",
       " 76: 17,\n",
       " 70: 188,\n",
       " 66: 7,\n",
       " 78: 4,\n",
       " 77: 498,\n",
       " 64: 27,\n",
       " 72: 7,\n",
       " 69: 263,\n",
       " 80: 36,\n",
       " 65: 11,\n",
       " 75: 4,\n",
       " 79: 3,\n",
       " 83: 138,\n",
       " 81: 10,\n",
       " 85: 288,\n",
       " 91: 36,\n",
       " 86: 135,\n",
       " 88: 590,\n",
       " 89: 19,\n",
       " 90: 11,\n",
       " 87: 7,\n",
       " 92: 70,\n",
       " 84: 33,\n",
       " 93: 103,\n",
       " 94: 206,\n",
       " 95: 5,\n",
       " 101: 18,\n",
       " 108: 4,\n",
       " 113: 50,\n",
       " 106: 39,\n",
       " 110: 3,\n",
       " 100: 13,\n",
       " 111: 3,\n",
       " 109: 22,\n",
       " 104: 116,\n",
       " 97: 3,\n",
       " 105: 11,\n",
       " 99: 41,\n",
       " 103: 43,\n",
       " 112: 60,\n",
       " 96: 24,\n",
       " 98: 97,\n",
       " 102: 2,\n",
       " 107: 1,\n",
       " 115: 6,\n",
       " 114: 13,\n",
       " 116: 9,\n",
       " 121: 174,\n",
       " 118: 28,\n",
       " 120: 10,\n",
       " 117: 63,\n",
       " 119: 68,\n",
       " 127: 2,\n",
       " 123: 51,\n",
       " 125: 2,\n",
       " 124: 18,\n",
       " 126: 49,\n",
       " 128: 187,\n",
       " 122: 5,\n",
       " 131: 143,\n",
       " 129: 14,\n",
       " 130: 155,\n",
       " 137: 113,\n",
       " 139: 104,\n",
       " 132: 35,\n",
       " 136: 14,\n",
       " 138: 29,\n",
       " 134: 25,\n",
       " 143: 55,\n",
       " 142: 24,\n",
       " 140: 92,\n",
       " 145: 157,\n",
       " 141: 24,\n",
       " 146: 8,\n",
       " 135: 22,\n",
       " 144: 2,\n",
       " 133: 20,\n",
       " 162: 36,\n",
       " 171: 70,\n",
       " 177: 93,\n",
       " 156: 6,\n",
       " 180: 7,\n",
       " 178: 15,\n",
       " 158: 107,\n",
       " 150: 67,\n",
       " 179: 30,\n",
       " 152: 34,\n",
       " 169: 24,\n",
       " 164: 11,\n",
       " 155: 13,\n",
       " 149: 1,\n",
       " 148: 42,\n",
       " 168: 12,\n",
       " 175: 165,\n",
       " 157: 85,\n",
       " 147: 92,\n",
       " 176: 3,\n",
       " 163: 23,\n",
       " 166: 90,\n",
       " 174: 47,\n",
       " 167: 176,\n",
       " 151: 239,\n",
       " 159: 3,\n",
       " 161: 75,\n",
       " 154: 6,\n",
       " 153: 36,\n",
       " 165: 117,\n",
       " 170: 85,\n",
       " 160: 182,\n",
       " 172: 7,\n",
       " 173: 14,\n",
       " 190: 33,\n",
       " 184: 51,\n",
       " 191: 2,\n",
       " 192: 13,\n",
       " 185: 8,\n",
       " 187: 177,\n",
       " 189: 13,\n",
       " 181: 130,\n",
       " 188: 8,\n",
       " 182: 46,\n",
       " 186: 16,\n",
       " 183: 15,\n",
       " 195: 97,\n",
       " 194: 11,\n",
       " 193: 8,\n",
       " 196: 10,\n",
       " 202: 56,\n",
       " 199: 21,\n",
       " 200: 9,\n",
       " 201: 18,\n",
       " 198: 1,\n",
       " 197: 13,\n",
       " 247: 169,\n",
       " 225: 1,\n",
       " 238: 1,\n",
       " 250: 322,\n",
       " 207: 5,\n",
       " 212: 2,\n",
       " 205: 1,\n",
       " 242: 1,\n",
       " 203: 309,\n",
       " 227: 93,\n",
       " 245: 107,\n",
       " 221: 2,\n",
       " 231: 1,\n",
       " 226: 19,\n",
       " 220: 3,\n",
       " 217: 1,\n",
       " 241: 25,\n",
       " 219: 4,\n",
       " 232: 4,\n",
       " 239: 1,\n",
       " 215: 15,\n",
       " 224: 6,\n",
       " 206: 1,\n",
       " 228: 3,\n",
       " 251: 25,\n",
       " 204: 12,\n",
       " 243: 1,\n",
       " 246: 231,\n",
       " 208: 1,\n",
       " 240: 37,\n",
       " 230: 1,\n",
       " 223: 1,\n",
       " 213: 1,\n",
       " 248: 88,\n",
       " 222: 17,\n",
       " 249: 3,\n",
       " 216: 1,\n",
       " 234: 1,\n",
       " 237: 3,\n",
       " 214: 1,\n",
       " 218: 4,\n",
       " 211: 2,\n",
       " 236: 1,\n",
       " 235: 37,\n",
       " 233: 9,\n",
       " 210: 4,\n",
       " 244: 7,\n",
       " 229: 6,\n",
       " 209: 1,\n",
       " 260: 114,\n",
       " 261: 137,\n",
       " 258: 29,\n",
       " 262: 21,\n",
       " 252: 23,\n",
       " 253: 8,\n",
       " 259: 61,\n",
       " 254: 1,\n",
       " 257: 3,\n",
       " 255: 2,\n",
       " 256: 13,\n",
       " 264: 43,\n",
       " 266: 21,\n",
       " 263: 22,\n",
       " 267: 7,\n",
       " 265: 130,\n",
       " 268: 7,\n",
       " 270: 81,\n",
       " 269: 5,\n",
       " 271: 27,\n",
       " 276: 45,\n",
       " 273: 6,\n",
       " 272: 68,\n",
       " 274: 28,\n",
       " 275: 12,\n",
       " 277: 81,\n",
       " 278: 76,\n",
       " 279: 44,\n",
       " 305: 12,\n",
       " 299: 6,\n",
       " 300: 8,\n",
       " 284: 120,\n",
       " 288: 8,\n",
       " 292: 30,\n",
       " 301: 1,\n",
       " 294: 18,\n",
       " 290: 3,\n",
       " 280: 1,\n",
       " 304: 25,\n",
       " 282: 9,\n",
       " 298: 85,\n",
       " 289: 61,\n",
       " 281: 5,\n",
       " 295: 113,\n",
       " 296: 3,\n",
       " 302: 4,\n",
       " 293: 8,\n",
       " 283: 1,\n",
       " 285: 11,\n",
       " 297: 9,\n",
       " 287: 3,\n",
       " 291: 121,\n",
       " 303: 33,\n",
       " 286: 33,\n",
       " 307: 13,\n",
       " 306: 2,\n",
       " 308: 52,\n",
       " 309: 9,\n",
       " 310: 1,\n",
       " 322: 104,\n",
       " 319: 19,\n",
       " 315: 12,\n",
       " 316: 9,\n",
       " 311: 42,\n",
       " 318: 9,\n",
       " 317: 2,\n",
       " 320: 2,\n",
       " 313: 16,\n",
       " 312: 19,\n",
       " 321: 1,\n",
       " 314: 1,\n",
       " 327: 5,\n",
       " 325: 32,\n",
       " 328: 25,\n",
       " 326: 59,\n",
       " 330: 94,\n",
       " 323: 107,\n",
       " 329: 14,\n",
       " 324: 17,\n",
       " 333: 35,\n",
       " 332: 20,\n",
       " 331: 9,\n",
       " 334: 30,\n",
       " 335: 10,\n",
       " 336: 20,\n",
       " 347: 10,\n",
       " 337: 5,\n",
       " 348: 57,\n",
       " 344: 2,\n",
       " 343: 76,\n",
       " 340: 151,\n",
       " 341: 7,\n",
       " 345: 4,\n",
       " 339: 7,\n",
       " 338: 5,\n",
       " 349: 30,\n",
       " 350: 28,\n",
       " 346: 120,\n",
       " 342: 50,\n",
       " 355: 10,\n",
       " 356: 72,\n",
       " 353: 68,\n",
       " 354: 2,\n",
       " 357: 2,\n",
       " 351: 3,\n",
       " 352: 38,\n",
       " 358: 10,\n",
       " 359: 68,\n",
       " 360: 7,\n",
       " 361: 2,\n",
       " 363: 10,\n",
       " 366: 12,\n",
       " 364: 11,\n",
       " 362: 11,\n",
       " 365: 12,\n",
       " 367: 116,\n",
       " 368: 2,\n",
       " 369: 40,\n",
       " 370: 42,\n",
       " 372: 9,\n",
       " 371: 61,\n",
       " 376: 34,\n",
       " 375: 7,\n",
       " 374: 1,\n",
       " 373: 4,\n",
       " 377: 16,\n",
       " 379: 75,\n",
       " 380: 12,\n",
       " 382: 4,\n",
       " 383: 15,\n",
       " 378: 10,\n",
       " 381: 51,\n",
       " 384: 12,\n",
       " 385: 19,\n",
       " 390: 11,\n",
       " 389: 11,\n",
       " 387: 12,\n",
       " 386: 2,\n",
       " 388: 140,\n",
       " 394: 9,\n",
       " 395: 8,\n",
       " 393: 10,\n",
       " 392: 3,\n",
       " 391: 29,\n",
       " 396: 82,\n",
       " 398: 4,\n",
       " 400: 87,\n",
       " 399: 1,\n",
       " 397: 35,\n",
       " 406: 12,\n",
       " 403: 97,\n",
       " 401: 14,\n",
       " 402: 81,\n",
       " 405: 3,\n",
       " 404: 12,\n",
       " 407: 6,\n",
       " 410: 99,\n",
       " 409: 4,\n",
       " 408: 17,\n",
       " 411: 112,\n",
       " 412: 2,\n",
       " 413: 8,\n",
       " 414: 2,\n",
       " 419: 39,\n",
       " 416: 70,\n",
       " 420: 19,\n",
       " 418: 8,\n",
       " 415: 61,\n",
       " 417: 9,\n",
       " 421: 106,\n",
       " 427: 5,\n",
       " 426: 6,\n",
       " 425: 3,\n",
       " 424: 175,\n",
       " 423: 14,\n",
       " 422: 19,\n",
       " 429: 3,\n",
       " 428: 13,\n",
       " 433: 25,\n",
       " 432: 34,\n",
       " 430: 56,\n",
       " 431: 21,\n",
       " 436: 27,\n",
       " 434: 1,\n",
       " 435: 1,\n",
       " 437: 82,\n",
       " 439: 24,\n",
       " 438: 25,\n",
       " 442: 72,\n",
       " 441: 17,\n",
       " 445: 1,\n",
       " 444: 4,\n",
       " 443: 7,\n",
       " 440: 3,\n",
       " 449: 91,\n",
       " 446: 14,\n",
       " 455: 19,\n",
       " 452: 24,\n",
       " 450: 6,\n",
       " 451: 69,\n",
       " 453: 31,\n",
       " 456: 1,\n",
       " 448: 12,\n",
       " 447: 2,\n",
       " 454: 14,\n",
       " 460: 9,\n",
       " 458: 6,\n",
       " 457: 37,\n",
       " 459: 23,\n",
       " 461: 1,\n",
       " 470: 18,\n",
       " 463: 46,\n",
       " 467: 14,\n",
       " 472: 33,\n",
       " 466: 8,\n",
       " 471: 1,\n",
       " 464: 13,\n",
       " 465: 1,\n",
       " 468: 81,\n",
       " 462: 31,\n",
       " 469: 1,\n",
       " 476: 12,\n",
       " 482: 20,\n",
       " 483: 4,\n",
       " 477: 9,\n",
       " 479: 6,\n",
       " 480: 49,\n",
       " 474: 21,\n",
       " 473: 10,\n",
       " 475: 18,\n",
       " 481: 19,\n",
       " 478: 3,\n",
       " 484: 4,\n",
       " 487: 29,\n",
       " 485: 30,\n",
       " 486: 2,\n",
       " 488: 9,\n",
       " 489: 4,\n",
       " 490: 32,\n",
       " 496: 6,\n",
       " 497: 32,\n",
       " 493: 1,\n",
       " 495: 3,\n",
       " 492: 8,\n",
       " 498: 6,\n",
       " 494: 7,\n",
       " 491: 4,\n",
       " 499: 21,\n",
       " 502: 8,\n",
       " 500: 1,\n",
       " 503: 12,\n",
       " 504: 5,\n",
       " 501: 5,\n",
       " 506: 2,\n",
       " 508: 76,\n",
       " 507: 2,\n",
       " 505: 3,\n",
       " 509: 2,\n",
       " 511: 51,\n",
       " 510: 4,\n",
       " 512: 2,\n",
       " 514: 12,\n",
       " 513: 2,\n",
       " 520: 41,\n",
       " 515: 2,\n",
       " 516: 9,\n",
       " 518: 95,\n",
       " 517: 12,\n",
       " 526: 5,\n",
       " 522: 26,\n",
       " 519: 25,\n",
       " 525: 2,\n",
       " 523: 3,\n",
       " 521: 1,\n",
       " 524: 4,\n",
       " 533: 4,\n",
       " 535: 15,\n",
       " 531: 3,\n",
       " 527: 2,\n",
       " 530: 1,\n",
       " 528: 1,\n",
       " 532: 3,\n",
       " 536: 7,\n",
       " 534: 2,\n",
       " 529: 3,\n",
       " 537: 43,\n",
       " 539: 10,\n",
       " 538: 12,\n",
       " 544: 29,\n",
       " 546: 23,\n",
       " 543: 1,\n",
       " 541: 10,\n",
       " 540: 3,\n",
       " 545: 2,\n",
       " 547: 54,\n",
       " 542: 3,\n",
       " 553: 3,\n",
       " 552: 22,\n",
       " 550: 1,\n",
       " 549: 7,\n",
       " 551: 22,\n",
       " 548: 3,\n",
       " 554: 3,\n",
       " 561: 4,\n",
       " 564: 46,\n",
       " 556: 4,\n",
       " 558: 21,\n",
       " 560: 1,\n",
       " 565: 3,\n",
       " 559: 38,\n",
       " 563: 28,\n",
       " 557: 8,\n",
       " 562: 40,\n",
       " 555: 4,\n",
       " 566: 93,\n",
       " 567: 34,\n",
       " 568: 60,\n",
       " 569: 106,\n",
       " 570: 3,\n",
       " 572: 3,\n",
       " 573: 5,\n",
       " 571: 5,\n",
       " 575: 30,\n",
       " 574: 28,\n",
       " 576: 21,\n",
       " 577: 7,\n",
       " 578: 59,\n",
       " 582: 30,\n",
       " 581: 6,\n",
       " 579: 13,\n",
       " 580: 19,\n",
       " 584: 1,\n",
       " 586: 6,\n",
       " 583: 1,\n",
       " 590: 4,\n",
       " 585: 54,\n",
       " 587: 4,\n",
       " 589: 3,\n",
       " 588: 9,\n",
       " 593: 9,\n",
       " 595: 52,\n",
       " 596: 23,\n",
       " 591: 2,\n",
       " 592: 24,\n",
       " 594: 23,\n",
       " 598: 54,\n",
       " 597: 1,\n",
       " 600: 2,\n",
       " 599: 19,\n",
       " 604: 19,\n",
       " 605: 21,\n",
       " 606: 49,\n",
       " 601: 2,\n",
       " 603: 12,\n",
       " 602: 9,\n",
       " 607: 4,\n",
       " 611: 1,\n",
       " 609: 27,\n",
       " 612: 22,\n",
       " 613: 22,\n",
       " 608: 1,\n",
       " 610: 48,\n",
       " 614: 5,\n",
       " 615: 6,\n",
       " 616: 10,\n",
       " 617: 15,\n",
       " 618: 2,\n",
       " 621: 67,\n",
       " 619: 44,\n",
       " 622: 32,\n",
       " 620: 13,\n",
       " 627: 7,\n",
       " 625: 1,\n",
       " 629: 4,\n",
       " 626: 18,\n",
       " 630: 7,\n",
       " 632: 21,\n",
       " 623: 5,\n",
       " 631: 6,\n",
       " 628: 12,\n",
       " 633: 2,\n",
       " 624: 8,\n",
       " 637: 1,\n",
       " 636: 1,\n",
       " 638: 1,\n",
       " 635: 6,\n",
       " 634: 6,\n",
       " 639: 19,\n",
       " 641: 24,\n",
       " 642: 13,\n",
       " 640: 9,\n",
       " 643: 21,\n",
       " 644: 53,\n",
       " 648: 4,\n",
       " 650: 5,\n",
       " 645: 3,\n",
       " 647: 5,\n",
       " 649: 8,\n",
       " 646: 32,\n",
       " 652: 18,\n",
       " 651: 14,\n",
       " 657: 2,\n",
       " 653: 3,\n",
       " 659: 3,\n",
       " 656: 5,\n",
       " 658: 14,\n",
       " 660: 7,\n",
       " 655: 1,\n",
       " 661: 2,\n",
       " 654: 5,\n",
       " 662: 41,\n",
       " 666: 59,\n",
       " 664: 4,\n",
       " 667: 85,\n",
       " 663: 3,\n",
       " 665: 10,\n",
       " 668: 17,\n",
       " 670: 13,\n",
       " 672: 10,\n",
       " 669: 5,\n",
       " 671: 3,\n",
       " 677: 14,\n",
       " 676: 6,\n",
       " 674: 20,\n",
       " 673: 9,\n",
       " 675: 80,\n",
       " 678: 3,\n",
       " 679: 2,\n",
       " 680: 6,\n",
       " 688: 7,\n",
       " 685: 10,\n",
       " 687: 2,\n",
       " 684: 38,\n",
       " 683: 2,\n",
       " 690: 5,\n",
       " 686: 8,\n",
       " 682: 8,\n",
       " 691: 18,\n",
       " 681: 3,\n",
       " 689: 4,\n",
       " 692: 14,\n",
       " 693: 19,\n",
       " 694: 11,\n",
       " 696: 14,\n",
       " 695: 18,\n",
       " 697: 14,\n",
       " 703: 28,\n",
       " 702: 10,\n",
       " 699: 1,\n",
       " 698: 7,\n",
       " 701: 6,\n",
       " 700: 10,\n",
       " 704: 8,\n",
       " 707: 1,\n",
       " 705: 37,\n",
       " 706: 9,\n",
       " 709: 8,\n",
       " 708: 7,\n",
       " 714: 24,\n",
       " 712: 11,\n",
       " 711: 8,\n",
       " 710: 13,\n",
       " 717: 5,\n",
       " 715: 1,\n",
       " 713: 15,\n",
       " 716: 2,\n",
       " 722: 12,\n",
       " 718: 9,\n",
       " 721: 2,\n",
       " 720: 6,\n",
       " 719: 4,\n",
       " 724: 5,\n",
       " 723: 3,\n",
       " 728: 14,\n",
       " 726: 27,\n",
       " 725: 16,\n",
       " 727: 6,\n",
       " 729: 4,\n",
       " 730: 34,\n",
       " 734: 1,\n",
       " 731: 12,\n",
       " 732: 10,\n",
       " 733: 6,\n",
       " 735: 14,\n",
       " 736: 18,\n",
       " 737: 13,\n",
       " 738: 3,\n",
       " 740: 6,\n",
       " 739: 3,\n",
       " 741: 39,\n",
       " 742: 7,\n",
       " 744: 24,\n",
       " 743: 3,\n",
       " 745: 5,\n",
       " 750: 11,\n",
       " 747: 9,\n",
       " 752: 1,\n",
       " 753: 29,\n",
       " 748: 3,\n",
       " 749: 3,\n",
       " 746: 32,\n",
       " 751: 13,\n",
       " 754: 1,\n",
       " 757: 7,\n",
       " 758: 4,\n",
       " 755: 12,\n",
       " 756: 26,\n",
       " 759: 13,\n",
       " 761: 1,\n",
       " 760: 9,\n",
       " 766: 20,\n",
       " 762: 2,\n",
       " 763: 30,\n",
       " 764: 3,\n",
       " 765: 29,\n",
       " 769: 6,\n",
       " 768: 1,\n",
       " 770: 4,\n",
       " 767: 2,\n",
       " 772: 6,\n",
       " 771: 7,\n",
       " 773: 8,\n",
       " 778: 2,\n",
       " 777: 7,\n",
       " 774: 1,\n",
       " 776: 5,\n",
       " 775: 1,\n",
       " 780: 29,\n",
       " 781: 22,\n",
       " 782: 11,\n",
       " 779: 35,\n",
       " 786: 1,\n",
       " 785: 20,\n",
       " 783: 3,\n",
       " 784: 8,\n",
       " 788: 1,\n",
       " 790: 2,\n",
       " 789: 3,\n",
       " 787: 2,\n",
       " 792: 38,\n",
       " 793: 14,\n",
       " 791: 3,\n",
       " 795: 41,\n",
       " 796: 2,\n",
       " 794: 22,\n",
       " 797: 8,\n",
       " 798: 4,\n",
       " 799: 3,\n",
       " 800: 8,\n",
       " 802: 8,\n",
       " 801: 6,\n",
       " 803: 7,\n",
       " 804: 3,\n",
       " 807: 3,\n",
       " 808: 14,\n",
       " 806: 9,\n",
       " 809: 8,\n",
       " 805: 26,\n",
       " 811: 5,\n",
       " 810: 26,\n",
       " 813: 2,\n",
       " 812: 17,\n",
       " 815: 3,\n",
       " 814: 1,\n",
       " 817: 11,\n",
       " 816: 3,\n",
       " 818: 5,\n",
       " 819: 15,\n",
       " 821: 6,\n",
       " 822: 6,\n",
       " 820: 8,\n",
       " 824: 1,\n",
       " 826: 17,\n",
       " 825: 1,\n",
       " 823: 1,\n",
       " 830: 8,\n",
       " 828: 7,\n",
       " 827: 2,\n",
       " 831: 4,\n",
       " 829: 7,\n",
       " 832: 8,\n",
       " 833: 6,\n",
       " 836: 14,\n",
       " 837: 14,\n",
       " 834: 22,\n",
       " 835: 21,\n",
       " 839: 7,\n",
       " 843: 6,\n",
       " 838: 25,\n",
       " 842: 12,\n",
       " 841: 20,\n",
       " 840: 7,\n",
       " 845: 11,\n",
       " 846: 2,\n",
       " 844: 20,\n",
       " 855: 2,\n",
       " 859: 7,\n",
       " 847: 3,\n",
       " 851: 5,\n",
       " 857: 20,\n",
       " 849: 14,\n",
       " 856: 8,\n",
       " 858: 2,\n",
       " 848: 6,\n",
       " 852: 33,\n",
       " 853: 5,\n",
       " 850: 1,\n",
       " 854: 12,\n",
       " 860: 5,\n",
       " 862: 74,\n",
       " 868: 48,\n",
       " 867: 2,\n",
       " 863: 2,\n",
       " 869: 4,\n",
       " 866: 7,\n",
       " 870: 2,\n",
       " 864: 11,\n",
       " 871: 4,\n",
       " 865: 3,\n",
       " 861: 25,\n",
       " 873: 1,\n",
       " 872: 2,\n",
       " 874: 4,\n",
       " 878: 13,\n",
       " 881: 3,\n",
       " 876: 2,\n",
       " 875: 7,\n",
       " 877: 28,\n",
       " 879: 19,\n",
       " 880: 3,\n",
       " 884: 4,\n",
       " 891: 3,\n",
       " 883: 11,\n",
       " 882: 2,\n",
       " 889: 1,\n",
       " 892: 66,\n",
       " 886: 6,\n",
       " 888: 20,\n",
       " 885: 9,\n",
       " 887: 11,\n",
       " 890: 2,\n",
       " 899: 5,\n",
       " 894: 2,\n",
       " 897: 22,\n",
       " 898: 1,\n",
       " 895: 2,\n",
       " 896: 4,\n",
       " 893: 25,\n",
       " 901: 3,\n",
       " 900: 11,\n",
       " 902: 21,\n",
       " 904: 4,\n",
       " 903: 3,\n",
       " 906: 3,\n",
       " 905: 12,\n",
       " 911: 23,\n",
       " 909: 6,\n",
       " 910: 4,\n",
       " 908: 3,\n",
       " 915: 5,\n",
       " 914: 2,\n",
       " 907: 1,\n",
       " 912: 8,\n",
       " 913: 6,\n",
       " 916: 15,\n",
       " 919: 9,\n",
       " 920: 18,\n",
       " 917: 2,\n",
       " 918: 2,\n",
       " 921: 7,\n",
       " 922: 21,\n",
       " 923: 8,\n",
       " 924: 2,\n",
       " 925: 17,\n",
       " 929: 20,\n",
       " 930: 10,\n",
       " 926: 16,\n",
       " 927: 30,\n",
       " 928: 7,\n",
       " 932: 5,\n",
       " 931: 11,\n",
       " 933: 9,\n",
       " 936: 5,\n",
       " 935: 28,\n",
       " 937: 9,\n",
       " 934: 16,\n",
       " 938: 3,\n",
       " 939: 7,\n",
       " 940: 2,\n",
       " 942: 2,\n",
       " 941: 5,\n",
       " 944: 6,\n",
       " 943: 3,\n",
       " 945: 2,\n",
       " 957: 24,\n",
       " 946: 21,\n",
       " 949: 1,\n",
       " 948: 2,\n",
       " 955: 5,\n",
       " 951: 8,\n",
       " 950: 5,\n",
       " 947: 4,\n",
       " 954: 14,\n",
       " 953: 16,\n",
       " 952: 1,\n",
       " 956: 4,\n",
       " 959: 1,\n",
       " 958: 9,\n",
       " 968: 8,\n",
       " 963: 4,\n",
       " 965: 2,\n",
       " 962: 19,\n",
       " 960: 2,\n",
       " 961: 1,\n",
       " 967: 1,\n",
       " 966: 3,\n",
       " 964: 8,\n",
       " 971: 21,\n",
       " 969: 9,\n",
       " 972: 10,\n",
       " 970: 16,\n",
       " 973: 4,\n",
       " 974: 4,\n",
       " 975: 15,\n",
       " 979: 6,\n",
       " 980: 4,\n",
       " 976: 18,\n",
       " 978: 6,\n",
       " 977: 2,\n",
       " 985: 1,\n",
       " 981: 3,\n",
       " 991: 19,\n",
       " 990: 5,\n",
       " 982: 1,\n",
       " 983: 8,\n",
       " 984: 1,\n",
       " 988: 16,\n",
       " 989: 2,\n",
       " 987: 1,\n",
       " 986: 4,\n",
       " 993: 18,\n",
       " 994: 12,\n",
       " 992: 2,\n",
       " 999: 8,\n",
       " 1001: 5,\n",
       " 997: 6,\n",
       " 1000: 2,\n",
       " 998: 7,\n",
       " ...}"
      ]
     },
     "execution_count": 37,
     "metadata": {},
     "output_type": "execute_result"
    }
   ],
   "source": [
    "dictionary.dfs"
   ]
  },
  {
   "cell_type": "code",
   "execution_count": 38,
   "metadata": {},
   "outputs": [
    {
     "name": "stdout",
     "output_type": "stream",
     "text": [
      "['follow', 'the', 'white', 'rabbit']\n",
      "[1482, 20, 497, 333]\n"
     ]
    }
   ],
   "source": [
    "sentence = 'follow the white rabbit'\n",
    "new_tokens = simple_preprocess(sentence)\n",
    "ids = dictionary.doc2idx(new_tokens)\n",
    "print(new_tokens)\n",
    "print(ids)"
   ]
  },
  {
   "cell_type": "code",
   "execution_count": 39,
   "metadata": {},
   "outputs": [],
   "source": [
    "special_tokens = {'[PAD]': 0, '[UNK]': 1}\n",
    "dictionary.patch_with_special_tokens(special_tokens)"
   ]
  },
  {
   "cell_type": "code",
   "execution_count": 40,
   "metadata": {},
   "outputs": [],
   "source": [
    "def get_rare_ids(dictionary, min_freq):\n",
    "    rare_ids = [t[0] for t in dictionary.cfs.items() if t[1] < min_freq]\n",
    "    return rare_ids"
   ]
  },
  {
   "cell_type": "code",
   "execution_count": 41,
   "metadata": {},
   "outputs": [],
   "source": [
    "def make_vocab(sentences, folder=None, special_tokens=None, vocab_size=None, min_freq=None):\n",
    "    if folder is not None:\n",
    "        if not os.path.exists(folder):\n",
    "            os.mkdir(folder)\n",
    "            \n",
    "    # tokenizes the sentences and create a Dictionary\n",
    "    tokens = [simple_preprocess(sent) for sent in sentences]\n",
    "    dictionary = corpora.Dictionary(tokens)\n",
    "    # keeps only the most frequent words (vocab size)\n",
    "    if vocab_size is not None:\n",
    "        dictionary.filter_extremes(keep_n=vocab_size)\n",
    "    # removes rare words (in case the vocab size still\n",
    "    # includes words with low frequency)\n",
    "    if min_freq is not None:\n",
    "        rare_tokens = get_rare_ids(dictionary, min_freq)\n",
    "        dictionary.filter_tokens(bad_ids=rare_tokens)\n",
    "    # gets the whole list of tokens and frequencies\n",
    "    items = dictionary.cfs.items()\n",
    "    # sorts the tokens in descending order\n",
    "    words = [dictionary[t[0]] for t in sorted(dictionary.cfs.items(), key=lambda t: -t[1])]\n",
    "    # prepends special tokens, if any\n",
    "    if special_tokens is not None:\n",
    "        to_add = []\n",
    "        for special_token in special_tokens:\n",
    "            if special_token not in words:\n",
    "                to_add.append(special_token)\n",
    "        words = to_add + words\n",
    "                \n",
    "    with open(os.path.join(folder, 'vocab.txt'), 'w') as f:\n",
    "        for word in words:\n",
    "            f.write(f'{word}\\n')"
   ]
  },
  {
   "cell_type": "code",
   "execution_count": 42,
   "metadata": {},
   "outputs": [],
   "source": [
    "make_vocab(train_dataset['sentence'], 'our_vocab/', special_tokens=['[PAD]', '[UNK]', '[SEP]', '[CLS]', '[MASK]'], min_freq=2)"
   ]
  },
  {
   "cell_type": "markdown",
   "metadata": {},
   "source": [
    "## HugginFace's Tokenizer"
   ]
  },
  {
   "cell_type": "code",
   "execution_count": 43,
   "metadata": {},
   "outputs": [],
   "source": [
    "from transformers import BertTokenizer\n",
    "\n",
    "tokenizer = BertTokenizer('our_vocab/vocab.txt')"
   ]
  },
  {
   "cell_type": "code",
   "execution_count": 44,
   "metadata": {},
   "outputs": [
    {
     "data": {
      "text/plain": [
       "['follow', 'the', 'white', 'rabbit', '[UNK]']"
      ]
     },
     "execution_count": 44,
     "metadata": {},
     "output_type": "execute_result"
    }
   ],
   "source": [
    "new_sentence = 'follow the white rabbit neo'\n",
    "new_tokens = tokenizer.tokenize(new_sentence)\n",
    "new_tokens"
   ]
  },
  {
   "cell_type": "code",
   "execution_count": 45,
   "metadata": {},
   "outputs": [
    {
     "data": {
      "text/plain": [
       "[1219, 5, 229, 200, 1]"
      ]
     },
     "execution_count": 45,
     "metadata": {},
     "output_type": "execute_result"
    }
   ],
   "source": [
    "new_ids = tokenizer.convert_tokens_to_ids(new_tokens)\n",
    "new_ids"
   ]
  },
  {
   "cell_type": "code",
   "execution_count": 46,
   "metadata": {},
   "outputs": [
    {
     "data": {
      "text/plain": [
       "[3, 1219, 5, 229, 200, 1, 2]"
      ]
     },
     "execution_count": 46,
     "metadata": {},
     "output_type": "execute_result"
    }
   ],
   "source": [
    "new_ids = tokenizer.encode(new_sentence)\n",
    "new_ids"
   ]
  },
  {
   "cell_type": "code",
   "execution_count": 47,
   "metadata": {},
   "outputs": [
    {
     "data": {
      "text/plain": [
       "['[CLS]', 'follow', 'the', 'white', 'rabbit', '[UNK]', '[SEP]']"
      ]
     },
     "execution_count": 47,
     "metadata": {},
     "output_type": "execute_result"
    }
   ],
   "source": [
    "tokenizer.convert_ids_to_tokens(new_ids)"
   ]
  },
  {
   "cell_type": "code",
   "execution_count": 48,
   "metadata": {},
   "outputs": [
    {
     "data": {
      "text/plain": [
       "[1219, 5, 229, 200, 1]"
      ]
     },
     "execution_count": 48,
     "metadata": {},
     "output_type": "execute_result"
    }
   ],
   "source": [
    "tokenizer.encode(new_sentence, add_special_tokens=False)"
   ]
  },
  {
   "cell_type": "code",
   "execution_count": 49,
   "metadata": {},
   "outputs": [
    {
     "data": {
      "text/plain": [
       "{'input_ids': tensor([[1219,    5,  229,  200,    1]]), 'token_type_ids': tensor([[0, 0, 0, 0, 0]]), 'attention_mask': tensor([[1, 1, 1, 1, 1]])}"
      ]
     },
     "execution_count": 49,
     "metadata": {},
     "output_type": "execute_result"
    }
   ],
   "source": [
    "tokenizer(new_sentence, add_special_tokens=False, return_tensors='pt')"
   ]
  },
  {
   "cell_type": "code",
   "execution_count": 50,
   "metadata": {},
   "outputs": [
    {
     "data": {
      "text/plain": [
       "{'input_ids': [3, 1219, 5, 229, 200, 1, 2, 51, 42, 78, 32, 307, 41, 5, 1, 30, 2], 'token_type_ids': [0, 0, 0, 0, 0, 0, 0, 1, 1, 1, 1, 1, 1, 1, 1, 1, 1], 'attention_mask': [1, 1, 1, 1, 1, 1, 1, 1, 1, 1, 1, 1, 1, 1, 1, 1, 1]}"
      ]
     },
     "execution_count": 50,
     "metadata": {},
     "output_type": "execute_result"
    }
   ],
   "source": [
    "sentence1 = 'follow the white rabbit neo'\n",
    "sentence2 = 'no one can be told what the matrix is'\n",
    "joined_sentences = tokenizer(sentence1, sentence2)\n",
    "joined_sentences"
   ]
  },
  {
   "cell_type": "code",
   "execution_count": 51,
   "metadata": {},
   "outputs": [
    {
     "name": "stdout",
     "output_type": "stream",
     "text": [
      "['[CLS]', 'follow', 'the', 'white', 'rabbit', '[UNK]', '[SEP]', 'no', 'one', 'can', 'be', 'told', 'what', 'the', '[UNK]', 'is', '[SEP]']\n"
     ]
    }
   ],
   "source": [
    "print(tokenizer.convert_ids_to_tokens(joined_sentences['input_ids']))"
   ]
  },
  {
   "cell_type": "code",
   "execution_count": 52,
   "metadata": {},
   "outputs": [
    {
     "data": {
      "text/plain": [
       "{'input_ids': [[3, 1219, 5, 229, 200, 1, 2, 0, 0, 0, 0], [3, 51, 42, 78, 32, 307, 41, 5, 1, 30, 2]], 'token_type_ids': [[0, 0, 0, 0, 0, 0, 0, 0, 0, 0, 0], [0, 0, 0, 0, 0, 0, 0, 0, 0, 0, 0]], 'attention_mask': [[1, 1, 1, 1, 1, 1, 1, 0, 0, 0, 0], [1, 1, 1, 1, 1, 1, 1, 1, 1, 1, 1]]}"
      ]
     },
     "execution_count": 52,
     "metadata": {},
     "output_type": "execute_result"
    }
   ],
   "source": [
    "separate_sentences = tokenizer([sentence1, sentence2], padding=True)\n",
    "separate_sentences"
   ]
  },
  {
   "cell_type": "code",
   "execution_count": 53,
   "metadata": {},
   "outputs": [
    {
     "name": "stdout",
     "output_type": "stream",
     "text": [
      "['[CLS]', 'follow', 'the', 'white', 'rabbit', '[UNK]', '[SEP]', '[PAD]', '[PAD]', '[PAD]', '[PAD]']\n",
      "[1, 1, 1, 1, 1, 1, 1, 0, 0, 0, 0]\n"
     ]
    }
   ],
   "source": [
    "print(tokenizer.convert_ids_to_tokens(separate_sentences['input_ids'][0]))\n",
    "print(separate_sentences['attention_mask'][0])"
   ]
  },
  {
   "cell_type": "code",
   "execution_count": 54,
   "metadata": {},
   "outputs": [
    {
     "name": "stdout",
     "output_type": "stream",
     "text": [
      "['[CLS]', 'follow', 'the', 'white', 'rabbit', '[UNK]', '[SEP]', 'no', 'one', 'can', 'be', 'told', 'what', 'the', '[UNK]', 'is', '[SEP]']\n",
      "['[CLS]', 'another', 'first', 'sentence', '[SEP]', '[UNK]', 'second', 'sentence', 'here', '[SEP]']\n"
     ]
    }
   ],
   "source": [
    "first_sentences = [sentence1, 'another first sentence']\n",
    "second_sentences = [sentence2, 'a second sentence here']\n",
    "batch_of_pairs = tokenizer(first_sentences, second_sentences)\n",
    "first_input = tokenizer.convert_ids_to_tokens(batch_of_pairs['input_ids'][0])\n",
    "second_input = tokenizer.convert_ids_to_tokens(batch_of_pairs['input_ids'][1])\n",
    "print(first_input)\n",
    "print(second_input)"
   ]
  },
  {
   "cell_type": "code",
   "execution_count": 55,
   "metadata": {},
   "outputs": [
    {
     "data": {
      "text/plain": [
       "tensor([[   3,   27,    1,  ...,   86,  870,    2],\n",
       "        [   3,   24,   10,  ..., 1573,    5,    2],\n",
       "        [   3,   49,   12,  ...,    0,    0,    0],\n",
       "        ...,\n",
       "        [   3,    1,    6,  ...,    0,    0,    0],\n",
       "        [   3,    6,  132,  ...,    0,    0,    0],\n",
       "        [   3,    1,    1,  ...,    0,    0,    0]])"
      ]
     },
     "execution_count": 55,
     "metadata": {},
     "output_type": "execute_result"
    }
   ],
   "source": [
    "tokenized_dataset = tokenizer(dataset['sentence'], \n",
    "                              padding=True, \n",
    "                              return_tensors='pt', \n",
    "                              max_length=50, \n",
    "                              truncation=True)\n",
    "tokenized_dataset['input_ids']"
   ]
  },
  {
   "cell_type": "markdown",
   "metadata": {},
   "source": [
    "# Before Word Embeddings"
   ]
  },
  {
   "cell_type": "markdown",
   "metadata": {},
   "source": [
    "## One-Hot Encoding (OHE)"
   ]
  },
  {
   "cell_type": "markdown",
   "metadata": {},
   "source": [
    "![](images/ohe1.png)"
   ]
  },
  {
   "cell_type": "markdown",
   "metadata": {},
   "source": [
    "![](images/ohe2.png)"
   ]
  },
  {
   "cell_type": "markdown",
   "metadata": {},
   "source": [
    "## Bag of Words (BoW)"
   ]
  },
  {
   "cell_type": "code",
   "execution_count": 56,
   "metadata": {},
   "outputs": [
    {
     "data": {
      "text/plain": [
       "['the', 'white', 'rabbit', 'is', 'rabbit']"
      ]
     },
     "execution_count": 56,
     "metadata": {},
     "output_type": "execute_result"
    }
   ],
   "source": [
    "sentence = 'the white rabbit is a rabbit'\n",
    "bow_tokens = simple_preprocess(sentence)\n",
    "bow_tokens"
   ]
  },
  {
   "cell_type": "code",
   "execution_count": 57,
   "metadata": {},
   "outputs": [
    {
     "data": {
      "text/plain": [
       "[(20, 1), (69, 1), (333, 2), (497, 1)]"
      ]
     },
     "execution_count": 57,
     "metadata": {},
     "output_type": "execute_result"
    }
   ],
   "source": [
    "bow = dictionary.doc2bow(bow_tokens)\n",
    "bow"
   ]
  },
  {
   "cell_type": "markdown",
   "metadata": {},
   "source": [
    "## Language Models\n",
    "\n",
    "![](images/blank1.png)\n",
    "\n",
    "![](images/blank2.png)\n",
    "\n",
    "![](images/fill1.png)\n",
    "\n",
    "![](images/fill2.png)\n",
    "\n",
    "## N-grams\n",
    "\n",
    "![](images/ngrams.png)\n",
    "\n",
    "## Continuous Bag-of-Words (CBoW)\n",
    "\n",
    "![](images/blank_end.png)\n",
    "\n",
    "![](images/blank_center.png)"
   ]
  },
  {
   "cell_type": "markdown",
   "metadata": {},
   "source": [
    "# Word Embeddings\n",
    "\n",
    "## Word2Vec\n",
    "\n",
    "![](images/cbow.png)"
   ]
  },
  {
   "cell_type": "code",
   "execution_count": 58,
   "metadata": {},
   "outputs": [],
   "source": [
    "class CBOW(nn.Module):\n",
    "    def __init__(self, vocab_size, embedding_size):\n",
    "        super().__init__()\n",
    "        self.embedding = nn.Embedding(vocab_size, embedding_size)\n",
    "        self.linear = nn.Linear(embedding_size, vocab_size)\n",
    "        \n",
    "    def forward(self, X):\n",
    "        embeddings = self.embedding(X)\n",
    "        bow = embeddings.mean(dim=1)\n",
    "        logits = self.linear(bow)\n",
    "        return logits"
   ]
  },
  {
   "cell_type": "code",
   "execution_count": 59,
   "metadata": {},
   "outputs": [
    {
     "data": {
      "text/plain": [
       "OrderedDict([('weight',\n",
       "              tensor([[ 0.3367,  0.1288,  0.2345],\n",
       "                      [ 0.2303, -1.1229, -0.1863],\n",
       "                      [ 2.2082, -0.6380,  0.4617],\n",
       "                      [ 0.2674,  0.5349,  0.8094],\n",
       "                      [ 1.1103, -1.6898, -0.9890]]))])"
      ]
     },
     "execution_count": 59,
     "metadata": {},
     "output_type": "execute_result"
    }
   ],
   "source": [
    "torch.manual_seed(42)\n",
    "dummy_cbow = CBOW(vocab_size=5, embedding_size=3)\n",
    "dummy_cbow.embedding.state_dict()"
   ]
  },
  {
   "cell_type": "markdown",
   "metadata": {},
   "source": [
    "![](images/w2v_embed.png)"
   ]
  },
  {
   "cell_type": "code",
   "execution_count": 60,
   "metadata": {},
   "outputs": [
    {
     "data": {
      "text/plain": [
       "tensor([[ 2.2082, -0.6380,  0.4617],\n",
       "        [ 0.2674,  0.5349,  0.8094]], grad_fn=<EmbeddingBackward>)"
      ]
     },
     "execution_count": 60,
     "metadata": {},
     "output_type": "execute_result"
    }
   ],
   "source": [
    "# tokens: ['is', 'barking']\n",
    "dummy_cbow.embedding(torch.as_tensor([2, 3]))"
   ]
  },
  {
   "cell_type": "code",
   "execution_count": 61,
   "metadata": {},
   "outputs": [],
   "source": [
    "tiny_vocab = ['the', 'small', 'is', 'barking', 'dog']\n",
    "context_words = ['the', 'small', 'is', 'barking']\n",
    "target_words = ['dog']"
   ]
  },
  {
   "cell_type": "code",
   "execution_count": 62,
   "metadata": {},
   "outputs": [],
   "source": [
    "batch_context = torch.as_tensor([[0, 1, 2, 3]]).long()\n",
    "batch_target = torch.as_tensor([4]).long()"
   ]
  },
  {
   "cell_type": "markdown",
   "metadata": {},
   "source": [
    "![](images/w2v_cbow.png)"
   ]
  },
  {
   "cell_type": "code",
   "execution_count": 63,
   "metadata": {},
   "outputs": [
    {
     "data": {
      "text/plain": [
       "tensor([[ 0.7606, -0.2743,  0.3298]], grad_fn=<MeanBackward1>)"
      ]
     },
     "execution_count": 63,
     "metadata": {},
     "output_type": "execute_result"
    }
   ],
   "source": [
    "cbow_features = dummy_cbow.embedding(batch_context).mean(dim=1)\n",
    "cbow_features"
   ]
  },
  {
   "cell_type": "markdown",
   "metadata": {},
   "source": [
    "![](images/w2v_logits.png)"
   ]
  },
  {
   "cell_type": "code",
   "execution_count": 64,
   "metadata": {},
   "outputs": [
    {
     "data": {
      "text/plain": [
       "tensor([[ 0.3542,  0.6937, -0.2028, -0.5873,  0.2099]],\n",
       "       grad_fn=<AddmmBackward>)"
      ]
     },
     "execution_count": 64,
     "metadata": {},
     "output_type": "execute_result"
    }
   ],
   "source": [
    "logits = dummy_cbow.linear(cbow_features)\n",
    "logits"
   ]
  },
  {
   "cell_type": "markdown",
   "metadata": {},
   "source": [
    "## What is an Embeddings Anyway?"
   ]
  },
  {
   "cell_type": "markdown",
   "metadata": {},
   "source": [
    "![](images/rest_discrete.png)"
   ]
  },
  {
   "cell_type": "markdown",
   "metadata": {},
   "source": [
    "![](images/rest_continuous.png)"
   ]
  },
  {
   "cell_type": "code",
   "execution_count": 65,
   "metadata": {},
   "outputs": [
    {
     "data": {
      "text/plain": [
       "tensor([[ 1.0000, -0.4318,  0.9976, -0.2974],\n",
       "        [-0.4318,  1.0000, -0.4270,  0.3581],\n",
       "        [ 0.9976, -0.4270,  1.0000, -0.3598],\n",
       "        [-0.2974,  0.3581, -0.3598,  1.0000]])"
      ]
     },
     "execution_count": 65,
     "metadata": {},
     "output_type": "execute_result"
    }
   ],
   "source": [
    "ratings = torch.as_tensor([[.7, -.4, .7],\n",
    "                           [.3, .7, -.5],\n",
    "                           [.9, -.55, .8],\n",
    "                           [-.3, .8, .34]]).float()\n",
    "sims = torch.zeros(4, 4)\n",
    "for i in range(4):\n",
    "    for j in range(4):\n",
    "        sims[i, j] = F.cosine_similarity(ratings[i], ratings[j], dim=0)\n",
    "sims"
   ]
  },
  {
   "cell_type": "markdown",
   "metadata": {},
   "source": [
    "## Pre-trained Word2Vec"
   ]
  },
  {
   "cell_type": "markdown",
   "metadata": {},
   "source": [
    "## Global Vectors (GloVe)"
   ]
  },
  {
   "cell_type": "code",
   "execution_count": 66,
   "metadata": {},
   "outputs": [
    {
     "data": {
      "text/plain": [
       "400000"
      ]
     },
     "execution_count": 66,
     "metadata": {},
     "output_type": "execute_result"
    }
   ],
   "source": [
    "from gensim import downloader\n",
    "\n",
    "glove = downloader.load('glove-wiki-gigaword-50')\n",
    "len(glove.vocab)"
   ]
  },
  {
   "cell_type": "code",
   "execution_count": 67,
   "metadata": {},
   "outputs": [
    {
     "data": {
      "text/plain": [
       "array([ 0.16386 ,  0.57795 , -0.59197 , -0.32446 ,  0.29762 ,  0.85151 ,\n",
       "       -0.76695 , -0.20733 ,  0.21491 , -0.51587 , -0.17517 ,  0.94459 ,\n",
       "        0.12705 , -0.33031 ,  0.75951 ,  0.44449 ,  0.16553 , -0.19235 ,\n",
       "        0.065533, -0.12394 ,  0.61446 ,  0.89784 ,  0.17413 ,  0.41149 ,\n",
       "        1.191   , -0.39461 , -0.459   ,  0.022161, -0.50843 , -0.44464 ,\n",
       "        0.68721 , -0.7167  ,  0.20835 , -0.23437 ,  0.02604 , -0.47993 ,\n",
       "        0.31873 , -0.29135 ,  0.50273 , -0.55144 , -0.066692,  0.43873 ,\n",
       "       -0.24293 , -1.0247  ,  0.029375,  0.068499,  0.25451 , -1.9663  ,\n",
       "        0.26673 ,  0.88486 ], dtype=float32)"
      ]
     },
     "execution_count": 67,
     "metadata": {},
     "output_type": "execute_result"
    }
   ],
   "source": [
    "glove['alice']"
   ]
  },
  {
   "cell_type": "code",
   "execution_count": 68,
   "metadata": {},
   "outputs": [],
   "source": [
    "synthetic_queen = glove['king'] - glove['man'] + glove['woman']"
   ]
  },
  {
   "cell_type": "code",
   "execution_count": 69,
   "metadata": {},
   "outputs": [
    {
     "name": "stderr",
     "output_type": "stream",
     "text": [
      "/home/dvgodoy/projects/PyTorchStepByStep/plots/chapter11.py:22: UserWarning: FixedFormatter should only be used together with FixedLocator\n",
      "  axs[i].set_yticklabels(['', word, ''])\n"
     ]
    },
    {
     "data": {
      "image/png": "[encoded data removed]",
      "text/plain": [
       "<Figure size 1296x252 with 5 Axes>"
      ]
     },
     "metadata": {},
     "output_type": "display_data"
    }
   ],
   "source": [
    "fig = plot_word_vectors(glove, \n",
    "                        ['king', 'man', 'woman', 'synthetic', 'queen'],\n",
    "                        other={'synthetic': synthetic_queen})"
   ]
  },
  {
   "cell_type": "code",
   "execution_count": 70,
   "metadata": {},
   "outputs": [
    {
     "data": {
      "text/plain": [
       "[('king', 0.8859835863113403),\n",
       " ('queen', 0.8609581589698792),\n",
       " ('daughter', 0.7684512138366699),\n",
       " ('prince', 0.7640699148178101),\n",
       " ('throne', 0.7634971141815186)]"
      ]
     },
     "execution_count": 70,
     "metadata": {},
     "output_type": "execute_result"
    }
   ],
   "source": [
    "glove.similar_by_vector(synthetic_queen, topn=5)"
   ]
  },
  {
   "cell_type": "markdown",
   "metadata": {},
   "source": [
    "![](images/embed_arithmetic.png)"
   ]
  },
  {
   "cell_type": "markdown",
   "metadata": {},
   "source": [
    "$$\n",
    "\\Large\n",
    "w_{king} - w_{man}\\approx w_{queen}-w_{woman} \\implies w_{king} - w_{man} + w_{woman} \\approx w_{queen}\n",
    "$$"
   ]
  },
  {
   "cell_type": "markdown",
   "metadata": {},
   "source": [
    "## Using Word Embeddings"
   ]
  },
  {
   "cell_type": "markdown",
   "metadata": {},
   "source": [
    "### Vocabulary Coverage"
   ]
  },
  {
   "cell_type": "code",
   "execution_count": 71,
   "metadata": {},
   "outputs": [
    {
     "data": {
      "text/plain": [
       "3706"
      ]
     },
     "execution_count": 71,
     "metadata": {},
     "output_type": "execute_result"
    }
   ],
   "source": [
    "vocab = list(dictionary.token2id.keys())\n",
    "len(vocab)"
   ]
  },
  {
   "cell_type": "code",
   "execution_count": 72,
   "metadata": {},
   "outputs": [
    {
     "name": "stdout",
     "output_type": "stream",
     "text": [
      "44\n",
      "['[PAD]', '[UNK]', 'arrum', 'barrowful', 'beauti']\n"
     ]
    }
   ],
   "source": [
    "unknown_words = sorted(list(set(vocab).difference(set(glove.vocab))))\n",
    "print(len(unknown_words))\n",
    "print(unknown_words[:5])"
   ]
  },
  {
   "cell_type": "code",
   "execution_count": 73,
   "metadata": {},
   "outputs": [
    {
     "data": {
      "text/plain": [
       "(82, 50802)"
      ]
     },
     "execution_count": 73,
     "metadata": {},
     "output_type": "execute_result"
    }
   ],
   "source": [
    "unknown_ids = [dictionary.token2id[w] for w in unknown_words if w not in ['[PAD]', '[UNK]']]\n",
    "unknown_count = np.sum([dictionary.cfs[idx] for idx in unknown_ids])\n",
    "unknown_count, dictionary.num_pos"
   ]
  },
  {
   "cell_type": "code",
   "execution_count": 74,
   "metadata": {},
   "outputs": [],
   "source": [
    "def vocab_coverage(gensim_dict, pretrained_wv, special_tokens=('[PAD]', '[UNK]')):\n",
    "    vocab = list(gensim_dict.token2id.keys())\n",
    "    unknown_words = sorted(list(set(vocab).difference(set(pretrained_wv.vocab))))\n",
    "    unknown_ids = [gensim_dict.token2id[w] for w in unknown_words if w not in special_tokens]\n",
    "    unknown_count = np.sum([gensim_dict.cfs[idx] for idx in unknown_ids])\n",
    "    cov = 1 - unknown_count / gensim_dict.num_pos\n",
    "    return cov"
   ]
  },
  {
   "cell_type": "code",
   "execution_count": 75,
   "metadata": {},
   "outputs": [
    {
     "data": {
      "text/plain": [
       "0.9983858903192788"
      ]
     },
     "execution_count": 75,
     "metadata": {},
     "output_type": "execute_result"
    }
   ],
   "source": [
    "vocab_coverage(dictionary, glove)"
   ]
  },
  {
   "cell_type": "markdown",
   "metadata": {},
   "source": [
    "### Tokenizer"
   ]
  },
  {
   "cell_type": "code",
   "execution_count": 76,
   "metadata": {},
   "outputs": [],
   "source": [
    "def make_vocab_from_wv(wv, folder=None, special_tokens=None):\n",
    "    if folder is not None:\n",
    "        if not os.path.exists(folder):\n",
    "            os.mkdir(folder)\n",
    "\n",
    "    words = wv.index2word\n",
    "    if special_tokens is not None:\n",
    "        to_add = []\n",
    "        for special_token in special_tokens:\n",
    "            if special_token not in words:\n",
    "                to_add.append(special_token)\n",
    "        words = to_add + words\n",
    "                \n",
    "    with open(os.path.join(folder, 'vocab.txt'), 'w') as f:\n",
    "        for word in words:\n",
    "            f.write(f'{word}\\n')    "
   ]
  },
  {
   "cell_type": "code",
   "execution_count": 77,
   "metadata": {},
   "outputs": [],
   "source": [
    "make_vocab_from_wv(glove, 'glove_vocab/', special_tokens=['[PAD]', '[UNK]'])"
   ]
  },
  {
   "cell_type": "code",
   "execution_count": 78,
   "metadata": {},
   "outputs": [],
   "source": [
    "glove_tokenizer = BertTokenizer('glove_vocab/vocab.txt')"
   ]
  },
  {
   "cell_type": "code",
   "execution_count": 79,
   "metadata": {},
   "outputs": [
    {
     "data": {
      "text/plain": [
       "[7101, 930, 2, 300, 12427]"
      ]
     },
     "execution_count": 79,
     "metadata": {},
     "output_type": "execute_result"
    }
   ],
   "source": [
    "glove_tokenizer.encode('alice followed the white rabbit', add_special_tokens=False)"
   ]
  },
  {
   "cell_type": "code",
   "execution_count": 80,
   "metadata": {},
   "outputs": [
    {
     "data": {
      "text/plain": [
       "(400002, 400000)"
      ]
     },
     "execution_count": 80,
     "metadata": {},
     "output_type": "execute_result"
    }
   ],
   "source": [
    "len(glove_tokenizer.vocab), len(glove.vectors)"
   ]
  },
  {
   "cell_type": "markdown",
   "metadata": {},
   "source": [
    "### Special Tokens' Embeddings"
   ]
  },
  {
   "cell_type": "code",
   "execution_count": 81,
   "metadata": {},
   "outputs": [],
   "source": [
    "special_embeddings = np.zeros((2, glove.vector_size))"
   ]
  },
  {
   "cell_type": "code",
   "execution_count": 82,
   "metadata": {},
   "outputs": [
    {
     "data": {
      "text/plain": [
       "(400002, 50)"
      ]
     },
     "execution_count": 82,
     "metadata": {},
     "output_type": "execute_result"
    }
   ],
   "source": [
    "extended_embeddings = np.concatenate([special_embeddings, glove.vectors], axis=0)\n",
    "extended_embeddings.shape"
   ]
  },
  {
   "cell_type": "code",
   "execution_count": 83,
   "metadata": {},
   "outputs": [
    {
     "data": {
      "text/plain": [
       "True"
      ]
     },
     "execution_count": 83,
     "metadata": {},
     "output_type": "execute_result"
    }
   ],
   "source": [
    "alice_idx = glove_tokenizer.encode('alice', add_special_tokens=False)\n",
    "np.all(extended_embeddings[alice_idx] == glove['alice'])"
   ]
  },
  {
   "cell_type": "markdown",
   "metadata": {},
   "source": [
    "## Model I - GloVe + Classifier"
   ]
  },
  {
   "cell_type": "markdown",
   "metadata": {},
   "source": [
    "### Data Preparation"
   ]
  },
  {
   "cell_type": "code",
   "execution_count": 84,
   "metadata": {},
   "outputs": [],
   "source": [
    "train_sentences = train_dataset['sentence']\n",
    "train_labels = train_dataset['labels']\n",
    "\n",
    "test_sentences = test_dataset['sentence']\n",
    "test_labels = test_dataset['labels']"
   ]
  },
  {
   "cell_type": "code",
   "execution_count": 85,
   "metadata": {},
   "outputs": [],
   "source": [
    "train_ids = glove_tokenizer(train_sentences, \n",
    "                            truncation=True,\n",
    "                            padding=True, \n",
    "                            max_length=60, \n",
    "                            add_special_tokens=False, \n",
    "                            return_tensors='pt')['input_ids']\n",
    "train_labels = torch.as_tensor(train_labels).float().view(-1, 1)\n",
    "\n",
    "test_ids = glove_tokenizer(test_sentences, \n",
    "                           truncation=True,\n",
    "                           padding=True, \n",
    "                           max_length=60, \n",
    "                           add_special_tokens=False, \n",
    "                           return_tensors='pt')['input_ids']\n",
    "test_labels = torch.as_tensor(test_labels).float().view(-1, 1)"
   ]
  },
  {
   "cell_type": "code",
   "execution_count": 86,
   "metadata": {},
   "outputs": [],
   "source": [
    "train_tensor_dataset = TensorDataset(train_ids, train_labels)\n",
    "generator = torch.Generator()\n",
    "train_loader = DataLoader(train_tensor_dataset, batch_size=32, shuffle=True, generator=generator)\n",
    "test_tensor_dataset = TensorDataset(test_ids, test_labels)\n",
    "test_loader = DataLoader(test_tensor_dataset, batch_size=32)"
   ]
  },
  {
   "cell_type": "markdown",
   "metadata": {},
   "source": [
    "### Pre-Trained PyTorch Embeddings"
   ]
  },
  {
   "cell_type": "code",
   "execution_count": 87,
   "metadata": {},
   "outputs": [],
   "source": [
    "extended_embeddings = torch.as_tensor(extended_embeddings).float()\n",
    "torch_embeddings = nn.Embedding.from_pretrained(extended_embeddings)"
   ]
  },
  {
   "cell_type": "code",
   "execution_count": 88,
   "metadata": {},
   "outputs": [
    {
     "data": {
      "text/plain": [
       "tensor([[  36,   63,    1,  ...,    0,    0,    0],\n",
       "        [ 934,   16,   14,  ...,    0,    0,    0],\n",
       "        [  57,  311,    8,  ...,  140,    3,   83],\n",
       "        ...,\n",
       "        [7101,   59, 1536,  ...,    0,    0,    0],\n",
       "        [  43,   59, 1995,  ...,    0,    0,    0],\n",
       "        [ 102,   41,  210,  ...,  685,    3,    7]])"
      ]
     },
     "execution_count": 88,
     "metadata": {},
     "output_type": "execute_result"
    }
   ],
   "source": [
    "token_ids, labels = next(iter(train_loader))\n",
    "token_ids"
   ]
  },
  {
   "cell_type": "code",
   "execution_count": 89,
   "metadata": {},
   "outputs": [
    {
     "data": {
      "text/plain": [
       "torch.Size([32, 60, 50])"
      ]
     },
     "execution_count": 89,
     "metadata": {},
     "output_type": "execute_result"
    }
   ],
   "source": [
    "token_embeddings = torch_embeddings(token_ids)\n",
    "token_embeddings.shape"
   ]
  },
  {
   "cell_type": "code",
   "execution_count": 90,
   "metadata": {},
   "outputs": [
    {
     "data": {
      "text/plain": [
       "tensor([[ 0.0665, -0.0071, -0.0534,  ..., -0.1906, -0.0202, -0.1432],\n",
       "        [ 0.0514,  0.0495,  0.0083,  ..., -0.0272,  0.0162,  0.0687],\n",
       "        [ 0.2431,  0.1981, -0.0282,  ..., -0.2559, -0.0252,  0.0176],\n",
       "        ...,\n",
       "        [-0.0018,  0.0598,  0.0083,  ..., -0.0792,  0.0222,  0.0261],\n",
       "        [ 0.0516,  0.1091,  0.0917,  ..., -0.0851,  0.0037,  0.0553],\n",
       "        [ 0.1972,  0.1069, -0.2049,  ..., -0.4969, -0.1026, -0.3731]])"
      ]
     },
     "execution_count": 90,
     "metadata": {},
     "output_type": "execute_result"
    }
   ],
   "source": [
    "token_embeddings.mean(dim=1)"
   ]
  },
  {
   "cell_type": "code",
   "execution_count": 91,
   "metadata": {},
   "outputs": [
    {
     "data": {
      "text/plain": [
       "tensor([[ 0.0665, -0.0071, -0.0534,  ..., -0.1906, -0.0202, -0.1432],\n",
       "        [ 0.0514,  0.0495,  0.0083,  ..., -0.0272,  0.0162,  0.0687],\n",
       "        [ 0.2431,  0.1981, -0.0282,  ..., -0.2559, -0.0252,  0.0176],\n",
       "        ...,\n",
       "        [-0.0018,  0.0598,  0.0083,  ..., -0.0792,  0.0222,  0.0261],\n",
       "        [ 0.0516,  0.1091,  0.0917,  ..., -0.0851,  0.0037,  0.0553],\n",
       "        [ 0.1972,  0.1069, -0.2049,  ..., -0.4969, -0.1026, -0.3731]])"
      ]
     },
     "execution_count": 91,
     "metadata": {},
     "output_type": "execute_result"
    }
   ],
   "source": [
    "boe_mean = nn.EmbeddingBag.from_pretrained(extended_embeddings, mode='mean')\n",
    "boe_mean(token_ids)"
   ]
  },
  {
   "cell_type": "markdown",
   "metadata": {},
   "source": [
    "### Model Configuration & Training"
   ]
  },
  {
   "cell_type": "code",
   "execution_count": 92,
   "metadata": {},
   "outputs": [],
   "source": [
    "extended_embeddings = torch.as_tensor(extended_embeddings).float()\n",
    "boe_mean = nn.EmbeddingBag.from_pretrained(\n",
    "    extended_embeddings, mode='mean'\n",
    ")\n",
    "torch.manual_seed(41)\n",
    "model = nn.Sequential(\n",
    "    # Embeddings\n",
    "    boe_mean,\n",
    "    # Classifier\n",
    "    nn.Linear(boe_mean.embedding_dim, 128), \n",
    "    nn.ReLU(),\n",
    "    nn.Linear(128, 1)\n",
    ")\n",
    "loss_fn = nn.BCEWithLogitsLoss()\n",
    "optimizer = optim.Adam(model.parameters(), lr=0.01)"
   ]
  },
  {
   "cell_type": "code",
   "execution_count": 93,
   "metadata": {},
   "outputs": [],
   "source": [
    "sbs_emb = StepByStep(model, loss_fn, optimizer)\n",
    "sbs_emb.set_loaders(train_loader, test_loader)\n",
    "sbs_emb.train(20)"
   ]
  },
  {
   "cell_type": "code",
   "execution_count": 94,
   "metadata": {},
   "outputs": [
    {
     "data": {
      "image/png": "[encoded data removed]",
      "text/plain": [
       "<Figure size 720x288 with 1 Axes>"
      ]
     },
     "metadata": {},
     "output_type": "display_data"
    }
   ],
   "source": [
    "fig = sbs_emb.plot_losses()"
   ]
  },
  {
   "cell_type": "code",
   "execution_count": 96,
   "metadata": {},
   "outputs": [
    {
     "data": {
      "text/plain": [
       "tensor([[380, 440],\n",
       "        [311, 331]])"
      ]
     },
     "execution_count": 96,
     "metadata": {},
     "output_type": "execute_result"
    }
   ],
   "source": [
    "StepByStep.loader_apply(test_loader, sbs_emb.correct)"
   ]
  },
  {
   "cell_type": "markdown",
   "metadata": {},
   "source": [
    "## Model II - GloVe + Transformer"
   ]
  },
  {
   "cell_type": "code",
   "execution_count": 97,
   "metadata": {},
   "outputs": [],
   "source": [
    "class TransfClassifier(nn.Module):\n",
    "    def __init__(self, embedding_layer, encoder, n_outputs):\n",
    "        super().__init__()\n",
    "        self.d_model = encoder.d_model\n",
    "        self.n_outputs = n_outputs\n",
    "        self.encoder = encoder\n",
    "        self.mlp = nn.Linear(self.d_model, n_outputs)\n",
    "\n",
    "        self.embed = embedding_layer\n",
    "        self.cls_token = nn.Parameter(torch.zeros(1, 1, self.d_model))\n",
    "            \n",
    "    def preprocess(self, X):\n",
    "        # N, L -> N, L, D\n",
    "        src = self.embed(X)\n",
    "        # Special classifier token\n",
    "        # 1, 1, D -> N, 1, D\n",
    "        cls_tokens = self.cls_token.expand(X.size(0), -1, -1)\n",
    "        # Concatenates CLS tokens -> N, 1 + L, D\n",
    "        src = torch.cat((cls_tokens, src), dim=1)\n",
    "        return src\n",
    "    \n",
    "    def encode(self, source, source_mask=None):\n",
    "        # Encoder generates \"hidden states\"\n",
    "        states = self.encoder(source, source_mask)\n",
    "        # Gets state from first token only: [CLS]\n",
    "        cls_state = states[:, 0]  # N, 1, D\n",
    "        return cls_state\n",
    "    \n",
    "    @staticmethod\n",
    "    def source_mask(X):\n",
    "        cls_mask = torch.ones(X.size(0), 1).type_as(X)\n",
    "        pad_mask = torch.cat((cls_mask, X > 0), dim=1).bool()\n",
    "        return pad_mask.unsqueeze(1)\n",
    "        \n",
    "    def forward(self, X):\n",
    "        src = self.preprocess(X)\n",
    "        # Featurizer\n",
    "        cls_state = self.encode(src, self.source_mask(X))\n",
    "        # Classifier\n",
    "        out = self.mlp(cls_state) # N, 1, outputs\n",
    "        return out"
   ]
  },
  {
   "cell_type": "code",
   "execution_count": 98,
   "metadata": {},
   "outputs": [],
   "source": [
    "torch.manual_seed(33)\n",
    "# Loads the pretrained GloVe embeddings into an embedding layer\n",
    "torch_embeddings = nn.Embedding.from_pretrained(extended_embeddings)\n",
    "# Creates a Transformer Encoder\n",
    "layer = EncoderLayer(n_heads=2, d_model=torch_embeddings.embedding_dim, ff_units=128)\n",
    "encoder = EncoderTransf(layer, n_layers=1)\n",
    "# Uses both layers above to build our model\n",
    "model = TransfClassifier(torch_embeddings, encoder, n_outputs=1)\n",
    "loss_fn = nn.BCEWithLogitsLoss()\n",
    "optimizer = optim.Adam(model.parameters(), lr=1e-4)"
   ]
  },
  {
   "cell_type": "code",
   "execution_count": 99,
   "metadata": {},
   "outputs": [],
   "source": [
    "sbs_transf = StepByStep(model, loss_fn, optimizer)\n",
    "sbs_transf.set_loaders(train_loader, test_loader)\n",
    "sbs_transf.train(10)"
   ]
  },
  {
   "cell_type": "code",
   "execution_count": 100,
   "metadata": {},
   "outputs": [
    {
     "data": {
      "image/png": "[encoded data removed]",
      "text/plain": [
       "<Figure size 720x288 with 1 Axes>"
      ]
     },
     "metadata": {},
     "output_type": "display_data"
    }
   ],
   "source": [
    "fig = sbs_transf.plot_losses()"
   ]
  },
  {
   "cell_type": "code",
   "execution_count": 101,
   "metadata": {},
   "outputs": [
    {
     "data": {
      "text/plain": [
       "tensor([[410, 440],\n",
       "        [300, 331]])"
      ]
     },
     "execution_count": 101,
     "metadata": {},
     "output_type": "execute_result"
    }
   ],
   "source": [
    "StepByStep.loader_apply(test_loader, sbs_transf.correct)"
   ]
  },
  {
   "cell_type": "markdown",
   "metadata": {},
   "source": [
    "### Visualizing Attention"
   ]
  },
  {
   "cell_type": "code",
   "execution_count": 102,
   "metadata": {},
   "outputs": [
    {
     "data": {
      "text/plain": [
       "tensor([[    2,   300, 12427,     7,  7101,  1423,   422],\n",
       "        [    2,  6659,   811, 11238,    15,     2,   588]], device='cuda:0')"
      ]
     },
     "execution_count": 102,
     "metadata": {},
     "output_type": "execute_result"
    }
   ],
   "source": [
    "sentences = ['The white rabbit and Alice ran away', 'The lion met Dorothy on the road']\n",
    "inputs = glove_tokenizer(sentences, add_special_tokens=False, return_tensors='pt')['input_ids']\n",
    "inputs = inputs.to(sbs_transf.device)\n",
    "inputs"
   ]
  },
  {
   "cell_type": "code",
   "execution_count": 103,
   "metadata": {},
   "outputs": [
    {
     "data": {
      "text/plain": [
       "tensor([[0.9888],\n",
       "        [0.0101]], device='cuda:0', grad_fn=<SigmoidBackward>)"
      ]
     },
     "execution_count": 103,
     "metadata": {},
     "output_type": "execute_result"
    }
   ],
   "source": [
    "sbs_transf.model.eval()\n",
    "out = sbs_transf.model(inputs)\n",
    "# our model outputs logits, so we turn them into probs\n",
    "torch.sigmoid(out)"
   ]
  },
  {
   "cell_type": "code",
   "execution_count": 104,
   "metadata": {},
   "outputs": [
    {
     "data": {
      "text/plain": [
       "tensor([[[2.6334e-01, 6.9912e-02, 1.6958e-01, 1.6574e-01, 1.1365e-01,\n",
       "          1.3449e-01, 6.6508e-02, 1.6772e-02],\n",
       "         [2.7878e-05, 2.5806e-03, 2.9353e-03, 1.3467e-01, 1.7490e-03,\n",
       "          8.5641e-01, 7.3843e-04, 8.8371e-04]],\n",
       "\n",
       "        [[6.8102e-02, 1.8080e-02, 1.0238e-01, 6.1889e-02, 6.2652e-01,\n",
       "          1.0388e-02, 1.6588e-02, 9.6055e-02],\n",
       "         [2.2783e-04, 2.1089e-02, 3.4972e-01, 2.3252e-02, 5.2879e-01,\n",
       "          3.5840e-02, 2.5432e-02, 1.5650e-02]]], device='cuda:0')"
      ]
     },
     "execution_count": 104,
     "metadata": {},
     "output_type": "execute_result"
    }
   ],
   "source": [
    "alphas = sbs_transf.model.encoder.layers[0].self_attn_heads.alphas\n",
    "alphas[:, :, 0, :].squeeze()"
   ]
  },
  {
   "cell_type": "code",
   "execution_count": 107,
   "metadata": {},
   "outputs": [
    {
     "name": "stderr",
     "output_type": "stream",
     "text": [
      "<ipython-input-107-a1f395f91ca0>:23: UserWarning: FixedFormatter should only be used together with FixedLocator\n",
      "  ax.set_yticklabels(['', f'Head #{i}', ''])\n"
     ]
    },
    {
     "data": {
      "image/png": "[encoded data removed]",
      "text/plain": [
       "<Figure size 1152x144 with 4 Axes>"
      ]
     },
     "metadata": {},
     "output_type": "display_data"
    }
   ],
   "source": [
    "tokens = [['[CLS]'] + glove_tokenizer.tokenize(sent) for sent in sentences]\n",
    "fig = plot_attention(tokens, alphas)"
   ]
  },
  {
   "cell_type": "markdown",
   "metadata": {},
   "source": [
    "# Contextual Word Embeddings"
   ]
  },
  {
   "cell_type": "markdown",
   "metadata": {},
   "source": [
    "## ELMo"
   ]
  },
  {
   "cell_type": "code",
   "execution_count": 137,
   "metadata": {},
   "outputs": [],
   "source": [
    "watch1 = \"\"\"\n",
    "The Hatter was the first to break the silence. `What day of the month is it?' he said, turning to Alice:  he had taken his watch out of his pocket, and was looking at it uneasily, shaking it every now and then, and holding it to his ear.\n",
    "\"\"\"\n",
    "\n",
    "watch2 = \"\"\"\n",
    "Alice thought this a very curious thing, and she went nearer to watch them, and just as she came up to them she heard one of them say, `Look out now, Five!  Don't go splashing paint over me like that!\n",
    "\"\"\"\n",
    "\n",
    "sentences = [watch1, watch2]"
   ]
  },
  {
   "cell_type": "code",
   "execution_count": 138,
   "metadata": {},
   "outputs": [
    {
     "data": {
      "text/plain": [
       "Sentence: \"The Hatter was the first to break the silence . ` What day of the month is it ? ' he said , turning to Alice : he had taken his watch out of his pocket , and was looking at it uneasily , shaking it every now and then , and holding it to his ear .\"   [− Tokens: 58]"
      ]
     },
     "execution_count": 138,
     "metadata": {},
     "output_type": "execute_result"
    }
   ],
   "source": [
    "from flair.data import Sentence\n",
    "\n",
    "flair_sentences = [Sentence(s) for s in sentences]\n",
    "flair_sentences[0]"
   ]
  },
  {
   "cell_type": "code",
   "execution_count": 139,
   "metadata": {},
   "outputs": [
    {
     "data": {
      "text/plain": [
       "Token: 32 watch"
      ]
     },
     "execution_count": 139,
     "metadata": {},
     "output_type": "execute_result"
    }
   ],
   "source": [
    "flair_sentences[0].get_token(32)"
   ]
  },
  {
   "cell_type": "code",
   "execution_count": 140,
   "metadata": {},
   "outputs": [
    {
     "data": {
      "text/plain": [
       "Token: 32 watch"
      ]
     },
     "execution_count": 140,
     "metadata": {},
     "output_type": "execute_result"
    }
   ],
   "source": [
    "flair_sentences[0].tokens[31]"
   ]
  },
  {
   "cell_type": "code",
   "execution_count": 141,
   "metadata": {},
   "outputs": [],
   "source": [
    "from flair.embeddings import ELMoEmbeddings\n",
    "elmo = ELMoEmbeddings()"
   ]
  },
  {
   "cell_type": "code",
   "execution_count": 142,
   "metadata": {},
   "outputs": [
    {
     "data": {
      "text/plain": [
       "[Sentence: \"The Hatter was the first to break the silence . ` What day of the month is it ? ' he said , turning to Alice : he had taken his watch out of his pocket , and was looking at it uneasily , shaking it every now and then , and holding it to his ear .\"   [− Tokens: 58],\n",
       " Sentence: \"Alice thought this a very curious thing , and she went nearer to watch them , and just as she came up to them she heard one of them say , ` Look out now , Five ! Do n't go splashing paint over me like that !\"   [− Tokens: 48]]"
      ]
     },
     "execution_count": 142,
     "metadata": {},
     "output_type": "execute_result"
    }
   ],
   "source": [
    "elmo.embed(flair_sentences)"
   ]
  },
  {
   "cell_type": "code",
   "execution_count": 143,
   "metadata": {},
   "outputs": [
    {
     "data": {
      "text/plain": [
       "(Token: 32 watch, Token: 14 watch)"
      ]
     },
     "execution_count": 143,
     "metadata": {},
     "output_type": "execute_result"
    }
   ],
   "source": [
    "token_watch1 = flair_sentences[0].tokens[31]\n",
    "token_watch2 = flair_sentences[1].tokens[13]\n",
    "token_watch1, token_watch2"
   ]
  },
  {
   "cell_type": "code",
   "execution_count": 144,
   "metadata": {},
   "outputs": [
    {
     "data": {
      "text/plain": [
       "(tensor([-0.5047, -0.4183,  0.0910,  ...,  2.4156, -0.2228,  0.7794],\n",
       "        device='cuda:0'),\n",
       " tensor([-0.5047, -0.4183,  0.0910,  ...,  0.2134,  0.8352, -0.5018],\n",
       "        device='cuda:0'))"
      ]
     },
     "execution_count": 144,
     "metadata": {},
     "output_type": "execute_result"
    }
   ],
   "source": [
    "token_watch1.embedding, token_watch2.embedding"
   ]
  },
  {
   "cell_type": "markdown",
   "metadata": {},
   "source": [
    "### Where do ELMo Embeddings come from?\n",
    "\n",
    "![](images/elmo_lstm.png)\n",
    "\n",
    "![](images/elmo_embed.png)"
   ]
  },
  {
   "cell_type": "code",
   "execution_count": 145,
   "metadata": {},
   "outputs": [
    {
     "data": {
      "text/plain": [
       "(tensor(-0.5047, device='cuda:0'), tensor(-0.5047, device='cuda:0'))"
      ]
     },
     "execution_count": 145,
     "metadata": {},
     "output_type": "execute_result"
    }
   ],
   "source": [
    "token_watch1.embedding[0], token_watch1.embedding[512]"
   ]
  },
  {
   "cell_type": "code",
   "execution_count": 146,
   "metadata": {},
   "outputs": [
    {
     "data": {
      "text/plain": [
       "tensor(True, device='cuda:0')"
      ]
     },
     "execution_count": 146,
     "metadata": {},
     "output_type": "execute_result"
    }
   ],
   "source": [
    "(token_watch1.embedding[:1024] == token_watch2.embedding[:1024]).all()"
   ]
  },
  {
   "cell_type": "code",
   "execution_count": 147,
   "metadata": {
    "scrolled": true
   },
   "outputs": [
    {
     "data": {
      "text/plain": [
       "tensor(0.5949, device='cuda:0')"
      ]
     },
     "execution_count": 147,
     "metadata": {},
     "output_type": "execute_result"
    }
   ],
   "source": [
    "similarity = nn.CosineSimilarity(dim=0, eps=1e-6)\n",
    "similarity(token_watch1.embedding, token_watch2.embedding)"
   ]
  },
  {
   "cell_type": "code",
   "execution_count": 148,
   "metadata": {},
   "outputs": [],
   "source": [
    "def get_embeddings(embeddings, sentence):\n",
    "    sent = Sentence(sentence)\n",
    "    embeddings.embed(sent)\n",
    "    return torch.stack([token.embedding for token in sent.tokens]).float()"
   ]
  },
  {
   "cell_type": "code",
   "execution_count": 149,
   "metadata": {
    "scrolled": true
   },
   "outputs": [
    {
     "data": {
      "text/plain": [
       "tensor([[-0.3288,  0.2022, -0.5940,  ..., -0.0425,  1.0605,  0.2637],\n",
       "        [-0.7142,  0.4210, -0.9504,  ...,  0.3226, -0.6685,  1.7245],\n",
       "        [ 0.2981, -0.0738, -0.1319,  ...,  0.3250,  1.1165,  0.6453],\n",
       "        ...,\n",
       "        [ 0.0475,  0.2325, -0.2013,  ...,  0.7386, -0.5294, -0.8543],\n",
       "        [ 0.1599,  0.6898,  0.2946,  ...,  1.5656,  0.9583,  1.0337],\n",
       "        [-0.8872, -0.2004, -1.0601,  ..., -0.0166, -0.0841,  0.0618]],\n",
       "       device='cuda:0')"
      ]
     },
     "execution_count": 149,
     "metadata": {},
     "output_type": "execute_result"
    }
   ],
   "source": [
    "get_embeddings(elmo, watch1)"
   ]
  },
  {
   "cell_type": "markdown",
   "metadata": {},
   "source": [
    "## GloVe"
   ]
  },
  {
   "cell_type": "code",
   "execution_count": 150,
   "metadata": {},
   "outputs": [],
   "source": [
    "from flair.embeddings import WordEmbeddings\n",
    "glove_embedding = WordEmbeddings('glove')"
   ]
  },
  {
   "cell_type": "code",
   "execution_count": 151,
   "metadata": {},
   "outputs": [
    {
     "data": {
      "text/plain": [
       "[Sentence: \"The Hatter was the first to break the silence . ` What day of the month is it ? ' he said , turning to Alice : he had taken his watch out of his pocket , and was looking at it uneasily , shaking it every now and then , and holding it to his ear .\"   [− Tokens: 58],\n",
       " Sentence: \"Alice thought this a very curious thing , and she went nearer to watch them , and just as she came up to them she heard one of them say , ` Look out now , Five ! Do n't go splashing paint over me like that !\"   [− Tokens: 48]]"
      ]
     },
     "execution_count": 151,
     "metadata": {},
     "output_type": "execute_result"
    }
   ],
   "source": [
    "new_flair_sentences = [Sentence(s) for s in sentences]\n",
    "glove_embedding.embed(new_flair_sentences)"
   ]
  },
  {
   "cell_type": "code",
   "execution_count": 152,
   "metadata": {},
   "outputs": [
    {
     "data": {
      "text/plain": [
       "tensor(True, device='cuda:0')"
      ]
     },
     "execution_count": 152,
     "metadata": {},
     "output_type": "execute_result"
    }
   ],
   "source": [
    "torch.all(new_flair_sentences[0].tokens[31].embedding == new_flair_sentences[1].tokens[13].embedding)"
   ]
  },
  {
   "cell_type": "markdown",
   "metadata": {},
   "source": [
    "## BERT"
   ]
  },
  {
   "cell_type": "code",
   "execution_count": 153,
   "metadata": {},
   "outputs": [],
   "source": [
    "from flair.embeddings import TransformerWordEmbeddings\n",
    "bert_flair = TransformerWordEmbeddings('bert-base-uncased', layers='-1')"
   ]
  },
  {
   "cell_type": "code",
   "execution_count": 154,
   "metadata": {},
   "outputs": [
    {
     "data": {
      "text/plain": [
       "tensor([[ 0.6554, -0.3799, -0.2842,  ...,  0.0601,  0.8865,  0.4760],\n",
       "        [-0.1459, -0.0204, -0.0615,  ..., -0.0257,  0.5052,  0.3324],\n",
       "        [-0.0436, -0.0401, -0.0135,  ...,  0.3920,  0.5231,  0.9067],\n",
       "        ...,\n",
       "        [-0.2582,  0.6933,  0.2688,  ..., -0.0325,  0.0772,  0.2187],\n",
       "        [-0.1868,  0.6398, -0.8127,  ..., -0.5957,  0.2793,  0.1880],\n",
       "        [-0.1021,  0.5222, -0.7142,  ...,  0.3644,  0.0600, -0.1419]],\n",
       "       device='cuda:0')"
      ]
     },
     "execution_count": 154,
     "metadata": {},
     "output_type": "execute_result"
    }
   ],
   "source": [
    "embed1 = get_embeddings(bert_flair, watch1)\n",
    "embed2 = get_embeddings(bert_flair, watch2)\n",
    "embed2"
   ]
  },
  {
   "cell_type": "code",
   "execution_count": 155,
   "metadata": {},
   "outputs": [
    {
     "data": {
      "text/plain": [
       "(tensor([ 8.5760e-01,  3.5888e-01, -3.7825e-01, -8.3564e-01,  1.3528e+00,\n",
       "          1.0204e-01, -8.2618e-01,  3.1570e-01,  3.1091e-01, -4.2653e-01,\n",
       "          1.6632e-01,  7.2439e-02, -1.0276e+00,  4.4680e-01, -1.4549e-01,\n",
       "          1.8315e-01,  3.7484e-01, -4.0245e-01, -1.4190e-01, -5.1596e-01,\n",
       "          1.1984e+00,  6.8202e-01,  1.1028e+00, -4.3955e-02,  1.6932e-02,\n",
       "          7.4420e-01, -1.0604e-01,  3.8719e-01,  7.3662e-02,  2.2424e-01,\n",
       "         -5.0281e-02,  1.9586e-01,  1.0773e+00,  1.0341e+00,  4.4217e-01,\n",
       "         -6.5567e-01, -5.6308e-01, -1.1827e-01,  1.2862e-01,  4.6581e-01,\n",
       "         -7.1305e-01, -1.5682e-01, -1.3552e-01,  4.5852e-02,  8.2853e-03,\n",
       "          5.2762e-01,  1.6906e+00,  5.5388e-01, -7.3778e-02,  5.1504e-01,\n",
       "         -2.0619e-01, -2.9505e-03,  2.5389e-01, -1.5379e-01,  8.4900e-01,\n",
       "          6.5440e-01, -3.2925e-01, -1.1198e+00,  2.4251e-01,  1.5586e-01,\n",
       "          5.7514e-01,  8.5832e-02,  3.3306e-01, -3.9344e-01, -4.1766e-01,\n",
       "          1.0790e+00,  1.1719e-02,  7.0214e-01, -6.0665e-01,  7.3702e-01,\n",
       "          6.8223e-02, -3.7110e-01, -7.7589e-01, -1.3057e-01,  1.7179e-01,\n",
       "          6.2051e-01, -6.4163e-01,  4.2881e-01,  5.7445e-01,  3.9801e-02,\n",
       "         -2.1279e-01, -5.1984e-01,  7.5919e-01,  3.0600e-01, -3.3987e-01,\n",
       "         -3.0427e-01, -5.7486e-01, -5.2273e-02, -6.8957e-01,  7.3935e-01,\n",
       "         -1.6545e-01, -8.2786e-01,  3.4169e-02,  7.1547e-01, -5.6962e-01,\n",
       "         -7.8686e-01,  3.6913e-01, -1.9961e-02, -5.7287e-01, -2.6407e-01,\n",
       "          8.5581e-01, -6.1418e-02,  3.8184e-01, -9.1563e-03, -1.0273e+00,\n",
       "         -5.3303e-01,  4.4014e-01,  1.7875e-01,  9.1851e-01,  5.9216e-01,\n",
       "         -4.8853e-01, -3.9106e-01, -8.8284e-02, -7.1936e-01, -3.8647e-01,\n",
       "          9.9550e-02,  2.2983e-01, -1.5325e+00,  6.5410e-02, -1.0896e+00,\n",
       "          1.2108e-01, -1.9921e-01, -2.5195e-01,  1.4421e-01,  2.7530e-02,\n",
       "         -3.0479e-01, -3.8533e-01, -1.1540e-01, -8.3979e-01, -7.7467e-01,\n",
       "          6.5181e-01,  3.1980e-01,  4.7616e-01, -8.2181e-01, -4.4323e-01,\n",
       "          1.2445e-01, -2.9082e-01, -4.2669e-01, -6.8031e-01,  1.1736e+00,\n",
       "          1.0199e+00,  7.3959e-01, -6.1510e-01,  1.0691e+00,  5.6806e-01,\n",
       "          9.4541e-01, -9.8110e-01, -7.1101e-01,  3.6151e-01,  2.0443e-01,\n",
       "         -5.0706e-02, -2.8713e-01,  1.2332e-01,  3.9614e-01, -4.4268e-01,\n",
       "         -5.5477e-01,  2.8325e-01,  5.5901e-01, -3.8944e-01, -4.2003e-01,\n",
       "         -1.2470e-01, -9.5830e-01, -3.4774e-02,  1.0381e+00, -2.2606e-02,\n",
       "          4.7267e-01,  8.1840e-01,  9.0778e-01, -1.9271e-02,  9.3007e-03,\n",
       "         -2.9097e-01,  5.1579e-01,  6.5791e-01,  3.1353e-01,  4.7983e-01,\n",
       "          6.2282e-01,  1.4813e-01, -3.8600e-01,  1.8680e-01, -7.3365e-01,\n",
       "         -5.2868e-01, -3.5756e-01,  1.4778e+00,  1.7065e+00,  5.2843e-01,\n",
       "          4.3788e-01, -6.0783e-01, -2.0891e-01, -2.6378e-01, -3.5563e-01,\n",
       "         -1.9136e-01,  4.4895e-01, -2.1980e-01, -2.2114e-01, -6.3080e-01,\n",
       "         -1.1537e+00,  3.8770e-01, -6.5095e-01, -1.4381e-01, -3.3387e-01,\n",
       "         -4.8165e-01, -2.2852e-01,  4.4550e-01, -1.4106e-01, -1.9820e-01,\n",
       "          1.2682e-01,  5.7340e-01,  5.2960e-01,  3.8535e-01, -1.8421e-01,\n",
       "         -2.7734e-01,  2.1106e-02, -5.1269e-01,  1.2724e-01, -5.2737e-01,\n",
       "          1.9794e-01,  6.6517e-01, -4.9908e-01, -5.2315e-01, -3.3081e-01,\n",
       "         -6.9502e-01, -2.1738e-01, -9.1546e-01,  8.4446e-01, -8.6271e-01,\n",
       "          9.8701e-01, -5.3786e-01,  2.2177e-01, -7.9477e-01,  1.6505e-01,\n",
       "         -3.9847e-01, -2.9883e-01,  2.0877e-01,  2.4684e-01,  1.0068e-01,\n",
       "          1.6014e-01, -1.1922e+00, -1.5679e-01, -2.0230e-03, -5.7467e-01,\n",
       "          4.6132e-03, -2.6884e-01,  4.2084e-01, -7.2796e-03,  3.4695e-01,\n",
       "          5.3609e-01,  2.1878e-01,  3.3520e-01, -2.8570e-01, -5.0958e-01,\n",
       "         -3.9454e-01, -8.9165e-01,  1.2181e+00, -6.8443e-01,  1.9280e-01,\n",
       "         -2.1449e-01,  4.6195e-02,  5.2594e-01, -4.3565e-02,  2.4555e-01,\n",
       "          1.9387e+00,  1.5278e-01,  9.9872e-01,  4.8577e-01, -4.1082e-01,\n",
       "         -8.3016e-01,  2.7045e-01,  4.8655e-01, -2.4722e-01, -1.8512e-01,\n",
       "          2.0524e-01, -6.6170e-02,  2.3728e-01,  1.2404e+00, -2.6077e-01,\n",
       "         -1.6077e-01,  1.3507e-01,  1.1847e-01, -2.9235e-01,  5.5437e-01,\n",
       "         -1.8559e-01,  1.3344e+00, -3.6667e-01, -3.7478e-01, -5.5664e-02,\n",
       "         -3.4930e-01,  8.5271e-01,  1.5741e+00,  6.0562e-01,  4.3779e-01,\n",
       "         -1.0298e+00,  4.0720e-01, -8.2617e-02,  2.7544e-02, -4.9199e-01,\n",
       "          7.3797e-01,  2.4101e-01,  9.6176e-01,  6.4367e-01,  1.1653e-01,\n",
       "          9.4047e-01, -2.6082e-01,  1.0976e+00, -1.1490e-01, -9.5253e-01,\n",
       "          5.8644e-02, -2.3060e-01, -6.7886e-02, -3.0703e+00,  2.4538e-02,\n",
       "          2.7582e-01, -4.3797e-01, -7.8420e-02,  4.2382e-01,  1.0763e+00,\n",
       "          1.8140e-01, -1.0572e+00, -3.9120e-01, -9.3492e-02, -3.7970e-01,\n",
       "          5.3946e-02,  1.1576e+00,  8.4130e-01,  1.8007e-01, -5.2631e-01,\n",
       "         -2.0291e-01, -1.9092e-02,  6.1720e-01,  1.1918e-01, -1.4457e+00,\n",
       "         -2.5592e-01, -1.2389e-01,  2.3928e-01,  1.1959e+00, -5.4284e-01,\n",
       "         -8.6952e-01, -4.8750e-01,  2.3500e-01,  1.3829e-02, -2.6659e-01,\n",
       "          9.7897e-01, -8.5489e-01,  3.1946e-01, -4.9998e-01, -3.2241e-01,\n",
       "         -1.3864e-01,  1.2900e-01, -7.5765e-01, -4.5315e-01,  2.9473e-01,\n",
       "          8.7803e-02, -1.3806e-01,  4.5430e-01,  8.0649e-02, -4.1994e-01,\n",
       "          5.8681e-03, -7.0910e-02,  3.8368e-01, -1.3059e-01,  8.7690e-01,\n",
       "         -6.1343e-01, -6.1015e-01, -7.0236e-01,  3.7512e-01,  3.3982e-01,\n",
       "          8.0857e-01, -1.6385e-01, -1.0569e-01,  6.1968e-01, -5.8364e-02,\n",
       "          2.3294e-01, -2.7713e-01,  5.2177e-01, -1.7158e-01, -1.0602e+00,\n",
       "         -4.3479e-01, -6.6953e-02,  3.6794e-01, -2.3135e-01, -2.0400e-01,\n",
       "         -5.3282e-01, -1.2286e+00, -2.4327e-01, -2.8658e-01,  1.3142e+00,\n",
       "          3.1902e-01, -9.1673e-02, -6.9225e-01, -3.0026e-01, -9.0491e-01,\n",
       "          8.4393e-02,  2.1298e-01,  8.2160e-01, -6.7558e-01, -8.9888e-01,\n",
       "          3.5113e-01, -5.2840e-01, -3.1060e-02, -2.8948e-01,  5.1492e-01,\n",
       "         -2.2328e-02,  1.6455e-01, -1.3406e-01,  7.9522e-01, -1.0633e-01,\n",
       "          4.0473e-01,  3.6492e-01, -6.1566e-01, -5.1250e-01, -5.4742e-01,\n",
       "          3.2135e-02, -4.5447e-02,  5.3155e-02,  7.0305e-01, -1.5488e+00,\n",
       "          6.2800e-01, -4.1181e-01,  3.1976e-01,  3.9906e-01, -1.7447e-01,\n",
       "          1.0357e+00, -5.4064e-01,  2.1086e-01, -5.4963e-01, -3.4768e-02,\n",
       "         -1.6814e-01,  4.8931e-01,  1.6012e-01, -6.6077e-01, -6.7637e-02,\n",
       "          9.2604e-02, -1.1114e+00,  4.6336e-01, -3.5745e-01, -3.2055e-02,\n",
       "          3.4265e-01,  3.5538e-01,  6.7498e-01, -2.0282e-01,  2.1987e-02,\n",
       "         -1.0548e+00,  9.8446e-01, -5.6733e-01,  6.9381e-02, -4.7736e-01,\n",
       "         -9.9546e-01, -3.5255e-02,  4.6173e-01,  7.1046e-01,  3.3707e-01,\n",
       "         -8.1136e-02, -4.8355e-01,  5.4515e-01,  3.7670e-02,  5.2528e-01,\n",
       "          4.1853e-02, -1.2563e+00, -3.2226e-01, -8.2649e-01, -7.5457e-02,\n",
       "         -7.5999e-01, -1.8107e-01,  1.1781e+00,  7.7896e-01,  6.6844e-01,\n",
       "         -7.6050e-01, -4.5029e-01, -5.4186e-01,  2.7287e-03,  2.3229e-01,\n",
       "         -6.9320e-01, -4.4791e-02, -7.4108e-02,  9.3096e-01, -4.1993e-01,\n",
       "         -7.3685e-01,  6.3003e-02,  4.0879e-01, -7.2932e-01, -1.6402e-01,\n",
       "         -2.7400e-01,  7.5048e-01, -6.5255e-01, -4.3226e-01, -6.2632e-02,\n",
       "         -8.2434e-01, -9.1996e-01,  5.1996e-01,  3.3342e-01,  3.0552e-03,\n",
       "         -3.7381e-01,  8.1910e-01, -2.5230e-01, -8.2635e-01,  3.8007e-01,\n",
       "         -1.0642e+00, -7.9937e-01,  1.0933e-01, -2.3652e-01,  4.5540e-01,\n",
       "         -2.9788e-01, -1.5564e+00, -2.3166e-01, -1.1862e+00, -2.9165e-01,\n",
       "         -2.1934e-01,  1.1169e-01,  1.3712e-01, -5.1983e-01, -2.5509e-01,\n",
       "         -4.4754e-01, -4.7948e-01,  4.6833e-01, -1.8625e-01,  6.9716e-01,\n",
       "         -1.1866e-01,  6.1084e-01,  6.3114e-01, -8.4579e-01, -4.6913e-01,\n",
       "          9.2668e-02,  2.9337e-02,  2.5508e-01,  4.5543e-01,  1.8251e-01,\n",
       "         -1.1855e-01, -1.2805e-01,  8.3519e-02,  1.7325e-01,  6.1112e-01,\n",
       "         -3.9921e-01,  1.6798e-01, -8.4275e-02,  3.9789e-01,  9.2255e-01,\n",
       "          7.7275e-02, -4.0163e-01,  3.1146e-01, -3.0563e-01, -5.8679e-01,\n",
       "          4.1130e-01, -4.3299e-01, -1.2496e+00, -8.5653e-01, -2.3101e-01,\n",
       "         -1.2980e+00, -2.7850e-01,  1.3634e-01,  3.4895e-01,  4.5002e-01,\n",
       "         -6.9828e-01,  6.2787e-01, -2.2598e-01, -1.7732e-01, -3.2117e-02,\n",
       "          4.8136e-01,  5.0901e-01,  5.0199e-01,  3.6993e-01, -4.5981e-01,\n",
       "         -6.7486e-02, -8.6722e-01, -5.7723e-01, -3.2765e-01,  7.8836e-01,\n",
       "          4.0974e-01, -1.8077e-01, -8.4645e-01, -2.5588e-01,  1.0655e+00,\n",
       "         -3.7329e-01, -4.9543e-01, -2.4806e-01, -3.7839e-02,  9.1718e-02,\n",
       "         -1.5725e-01,  2.4216e-01,  6.5864e-02,  1.3641e+00, -1.2707e+00,\n",
       "          7.8174e-02, -1.0401e+00, -3.9388e-01, -2.5627e-01, -4.9158e-01,\n",
       "         -4.0819e-01,  7.3981e-01, -4.4651e-01, -3.1208e-01,  6.2193e-01,\n",
       "          1.1230e+00, -4.4226e-02, -1.2044e+00,  2.2500e-01, -9.1115e-02,\n",
       "          3.5365e-01, -3.7870e-01, -1.0870e-01,  3.2082e-01,  1.2314e-01,\n",
       "         -2.1645e-02,  1.1413e+00,  1.3573e-02, -9.9737e-02,  9.3759e-01,\n",
       "          5.0418e-02, -4.9671e-01,  9.0127e-01,  1.4177e-01,  2.0027e-01,\n",
       "          6.3084e-01, -2.0751e-02,  3.0619e-01,  4.5247e-01, -7.6788e-01,\n",
       "         -7.2624e-01, -5.2419e-01,  6.0564e-01, -1.9887e-02, -2.9045e-01,\n",
       "          4.0384e-01,  9.0467e-01, -9.9711e-01,  1.0205e-02,  1.7958e-01,\n",
       "          3.5785e-02, -2.3696e-01,  6.4812e-01,  1.5352e-01,  3.1153e-02,\n",
       "          1.3805e-01, -1.4471e-01, -9.9713e-01,  1.7288e-01,  1.8073e-01,\n",
       "         -2.8294e-02,  7.8877e-01,  3.7700e-01, -7.0564e-02,  1.0712e+00,\n",
       "         -4.2392e-01,  4.1656e-01, -6.8028e-01,  1.6911e-01,  2.6617e-01,\n",
       "         -1.1312e+00,  1.6047e-01, -4.5070e-01,  4.9935e-01,  3.4413e-01,\n",
       "          6.4540e-01, -2.6726e-01,  1.5033e-01,  4.2149e-01,  3.4961e-01,\n",
       "         -1.5505e-01,  1.5471e+00,  7.7871e-01, -2.7912e-01, -4.5703e-01,\n",
       "         -7.9149e-01, -5.7845e-01, -2.4879e-01, -6.0028e-01,  6.9574e-02,\n",
       "         -1.9024e-02,  2.0336e-01,  1.3373e+00,  1.7257e-01, -3.3320e-01,\n",
       "          1.4024e-01, -2.2573e-02, -2.2282e-01,  3.4986e-02, -1.4985e-01,\n",
       "          5.2162e-02,  1.5562e-01, -2.3856e-01, -7.4213e-02, -2.1547e-01,\n",
       "          7.6899e-01,  1.1663e-01,  5.3913e-02, -2.6869e-01, -2.3951e-01,\n",
       "          8.8453e-01,  3.2750e-01, -7.8229e-02,  4.5901e-01, -4.3255e-01,\n",
       "         -4.4316e-01, -3.2504e-01, -1.4550e+00, -8.6594e-02, -7.3577e-02,\n",
       "         -2.0595e-01, -6.1714e-01, -7.1308e-01,  8.2567e-01,  1.6622e-01,\n",
       "         -8.5806e-01, -6.5291e-01, -1.5517e-02, -6.2837e-01,  5.6276e-01,\n",
       "          9.6670e-02,  4.9524e-01,  3.4259e-01, -6.7065e-01, -4.1591e-01,\n",
       "         -3.3399e-01, -7.4808e-01,  3.2285e-01, -5.1326e-02,  4.1144e-01,\n",
       "          2.6481e-01, -9.0313e-01, -4.4464e-01,  6.6253e-02,  4.1635e-01,\n",
       "         -7.5472e-01,  1.2165e+00, -4.2961e-01,  6.3139e-01, -2.1191e-02,\n",
       "         -4.6616e-01, -1.4575e-01, -7.4167e-01, -2.7592e-01, -4.6199e-02,\n",
       "          4.5393e-01,  4.7207e-01, -1.7622e-01, -6.7738e-01,  3.7787e-01,\n",
       "          5.3374e-01,  3.6832e-01,  1.3724e-01, -1.1172e+00, -2.5947e-01,\n",
       "          1.1888e+00, -1.0117e-01, -4.8335e-01,  5.8898e-02,  1.6610e-01,\n",
       "          6.6885e-01, -9.0577e-01, -2.3182e-01,  5.9258e-01,  1.1081e-01,\n",
       "          1.8942e-01,  6.5041e-01,  4.6973e-01, -3.1615e-01, -5.9470e-01,\n",
       "         -5.1061e-01, -9.7604e-01,  6.0229e-01, -6.3250e-01, -4.2595e-01,\n",
       "         -5.7413e-01, -7.1769e-01,  9.2507e-01, -6.2844e-01,  1.8694e-01,\n",
       "          2.0768e-01,  1.1880e-01,  4.1445e-01], device='cuda:0'),\n",
       " tensor([-9.8449e-02,  1.4698e+00,  2.8573e-01, -3.9569e-01,  9.6890e-02,\n",
       "          8.6436e-01, -3.7401e-01,  2.1752e-01, -2.5937e-01, -4.2487e-01,\n",
       "         -6.1411e-02,  3.3272e-01, -1.9102e-01, -2.9803e-02, -1.7782e-01,\n",
       "          7.1223e-01, -3.6092e-01,  4.7531e-01,  1.8901e-01, -1.9464e-01,\n",
       "          5.5041e-01, -2.0075e-01, -4.9742e-01, -1.3700e-02,  6.5577e-02,\n",
       "          2.2761e-01,  7.6017e-01, -7.9264e-02,  2.7941e-01, -5.4700e-02,\n",
       "         -2.6595e-01,  5.5095e-01, -2.1662e-01,  1.4397e-01, -3.8731e-01,\n",
       "         -1.9042e-01,  1.3155e-01,  2.2447e-01,  2.9488e-01,  2.7523e-01,\n",
       "         -2.7458e-01, -5.0479e-01, -3.9631e-01,  3.0837e-01, -6.3027e-01,\n",
       "         -3.5416e-01,  1.1855e+00,  8.9831e-02,  4.4822e-01,  4.0406e-01,\n",
       "         -3.4759e-01,  5.6113e-01,  1.0385e+00,  1.5012e-01,  3.7633e-01,\n",
       "         -3.9084e-01,  1.0627e-01, -5.0344e-02,  2.2779e-01, -5.2758e-01,\n",
       "         -1.9242e-01,  1.8374e-02,  5.2802e-01,  1.6686e-01, -7.3694e-01,\n",
       "          4.7303e-01, -4.7016e-01,  1.6289e-01,  9.7774e-02,  1.2824e-01,\n",
       "         -2.8870e-01, -3.9116e-01, -1.8324e-01,  5.2460e-01, -1.9830e-01,\n",
       "          5.4971e-01,  4.1160e-02, -3.3559e-01,  2.1169e-02, -8.5710e-02,\n",
       "          1.3109e-01, -3.6348e-01,  2.7382e-01,  1.1263e+00, -2.5038e-01,\n",
       "         -6.4161e-01, -3.2357e-01, -1.3938e-01, -1.0110e+00,  7.3331e-01,\n",
       "          1.0102e-01,  1.5387e-01, -2.9724e-01,  2.5424e-01,  3.2296e-01,\n",
       "         -3.5495e-01,  1.2272e-01,  9.6730e-02,  2.1487e-02,  9.1426e-02,\n",
       "         -1.4177e-01,  5.2628e-01,  2.1227e-01, -1.7098e-01, -3.8353e-01,\n",
       "          1.6601e-01,  4.4298e-01,  6.3222e-03, -5.9510e-01,  3.5965e-01,\n",
       "         -7.1791e-01, -3.6388e-01, -7.0434e-02,  1.8896e-01,  5.4333e-03,\n",
       "          1.1766e-02,  1.0752e-01, -5.5094e-01, -6.7836e-02,  3.5240e-01,\n",
       "         -2.6229e-01,  3.7230e-01, -8.1172e-02,  4.8515e-01,  1.0484e-02,\n",
       "         -2.9454e-01, -3.1111e-01, -2.6310e-01,  6.3381e-02, -1.0854e-01,\n",
       "          1.3688e+00,  2.9465e-01,  2.0623e-01,  3.8318e-02,  5.4437e-02,\n",
       "         -1.5726e+00,  3.7239e-01, -6.0964e-01, -8.8024e-01,  2.4682e-01,\n",
       "          6.7070e-01, -5.6562e-01,  2.1737e-01,  8.4505e-02, -2.6882e-01,\n",
       "          1.4112e-01, -8.0701e-01, -1.1845e-01, -3.2562e-01,  7.8287e-01,\n",
       "         -1.8123e-01, -7.1260e-01,  2.0073e-01, -2.2902e-01, -1.7190e-01,\n",
       "          8.2328e-02,  3.2728e-01,  3.3844e-01, -4.3359e-01, -2.0109e-01,\n",
       "          5.2177e-01, -2.1286e-01, -5.4271e-01,  4.2771e-01, -2.8439e-02,\n",
       "          6.8534e-01,  3.0166e-01,  3.3880e-01, -7.2538e-01,  4.7892e-02,\n",
       "         -5.7754e-01,  4.3418e-01,  6.2832e-01,  1.1230e-01,  1.6312e-02,\n",
       "         -3.1558e-01,  3.0021e-01, -3.4793e-01, -4.2287e-01,  8.9215e-02,\n",
       "         -1.7020e-01,  5.5911e-01,  4.3507e-01,  1.0352e+00, -6.0532e-02,\n",
       "          6.4033e-02,  6.3265e-01,  5.8860e-01, -6.2739e-01, -3.6926e-01,\n",
       "         -1.3001e-01,  3.0337e-01, -7.3679e-01, -1.0968e+00, -4.9620e-01,\n",
       "         -2.4886e-02,  6.0554e-02, -2.8982e-01, -5.5470e-01,  9.2083e-02,\n",
       "         -3.5928e-01, -6.8506e-01,  7.0260e-01,  7.4057e-01,  4.1953e-02,\n",
       "         -2.2261e-01,  3.1581e-02, -5.7034e-01, -1.5258e-01, -1.9746e-01,\n",
       "         -5.7486e-01, -6.6855e-01, -5.3475e-01,  2.1482e-01, -8.8653e-01,\n",
       "          9.2317e-02, -2.2076e-02,  9.8558e-01, -8.5093e-01, -1.6057e-02,\n",
       "         -1.1169e-01, -2.8778e-01, -4.2301e-01,  7.7859e-02,  6.9498e-02,\n",
       "          4.2390e-01, -7.0423e-02,  7.7604e-02, -4.0021e-01, -2.4131e-01,\n",
       "          1.3328e-01, -1.1587e-01,  9.0171e-01, -3.4312e-01,  6.0788e-01,\n",
       "          3.1653e-01, -2.4758e-01,  4.5197e-02,  4.9370e-01,  3.8995e-01,\n",
       "         -3.4692e-01,  3.3056e-02,  2.0106e-01,  4.0234e-01,  1.2993e-01,\n",
       "          2.9119e-01,  9.2159e-01, -4.1758e-01,  1.5004e-02,  5.2865e-02,\n",
       "          6.0922e-01,  7.6300e-02,  2.6940e-01, -6.3987e-01,  1.7187e-01,\n",
       "         -1.4997e-01, -2.2630e-01, -5.7578e-01, -5.4688e-02, -1.4096e-01,\n",
       "         -1.8318e-01,  1.6508e-01,  5.1326e-01,  4.4380e-01, -2.8080e-01,\n",
       "         -4.5417e-01, -3.0488e-01,  4.8723e-01, -1.7721e-01, -2.2288e-01,\n",
       "          6.0853e-01, -2.2009e-04,  5.6217e-01,  1.1224e+00, -1.4180e+00,\n",
       "         -3.6117e-01,  1.5190e-01, -1.7284e-01, -1.7632e-02, -2.1651e-01,\n",
       "         -8.6195e-01,  4.2032e-02, -4.6597e-01,  7.2990e-02, -6.2120e-02,\n",
       "         -3.9781e-01,  3.5995e-01, -3.4646e-01, -3.0336e-01, -1.5005e-02,\n",
       "          3.3628e-01,  5.7878e-02, -3.3315e-01,  1.1097e-01,  3.0777e-02,\n",
       "         -7.1115e-01,  3.6039e-01,  1.6007e-01,  3.4098e-01, -5.3309e-01,\n",
       "          5.6319e-01,  2.1157e-01,  2.6252e-01,  4.2321e-01, -5.2220e-01,\n",
       "          2.4814e-01, -3.6991e-01, -5.4816e-01, -5.3290e+00,  1.0130e-01,\n",
       "         -2.4280e-01,  2.6960e-01,  6.2188e-01,  3.4420e-01,  2.2724e-01,\n",
       "          1.2104e-01, -3.0778e-01, -1.3375e-01,  1.2070e-01,  6.9458e-01,\n",
       "         -1.7730e-01,  6.3572e-01,  3.9321e-01,  1.0833e-03, -4.1992e-01,\n",
       "         -3.1437e-01,  4.6219e-01,  3.0782e-01, -2.4236e-01, -6.3911e-01,\n",
       "         -7.2801e-03, -2.1637e-02,  2.9671e-01,  8.6041e-01, -1.6743e-01,\n",
       "         -5.2726e-01, -7.3630e-01, -4.9699e-01, -4.0285e-02, -5.5160e-02,\n",
       "         -2.8419e-01,  3.4066e-01,  1.9508e-01, -3.1847e-01,  1.1065e-01,\n",
       "         -1.3114e+00, -6.5144e-02, -5.2608e-01, -2.2926e-01, -4.9479e-01,\n",
       "         -3.6531e-01, -1.5899e-01,  9.3910e-02,  1.2114e-01, -1.5592e-01,\n",
       "          1.9144e-01, -7.1318e-01, -1.7203e-01, -6.8007e-02,  4.2680e-01,\n",
       "          2.7249e-01, -8.1867e-02, -7.7034e-01,  4.4867e-02,  6.1248e-01,\n",
       "          6.4211e-01, -4.2664e-01, -4.1450e-01, -4.6396e-02, -5.7337e-01,\n",
       "          4.2681e-01, -4.0819e-02,  2.8339e-02, -3.5921e-01, -2.4894e-01,\n",
       "         -4.9876e-02,  5.8249e-01, -1.4033e-02, -3.2829e-01,  1.0102e-01,\n",
       "         -4.5791e-01, -1.0023e+00, -2.6306e-01, -2.5233e-01,  6.0858e-01,\n",
       "          2.0588e-01, -2.5912e-01, -1.0158e-01, -3.4643e-01, -1.6082e-01,\n",
       "         -3.1902e-01,  5.3895e-01,  2.7880e-01, -6.8466e-01, -7.6329e-02,\n",
       "          9.4315e-02,  1.3531e-01, -8.8651e-01, -5.7966e-01, -3.3632e-01,\n",
       "          3.1987e-01, -1.9380e-01,  2.8006e-01,  5.9293e-01,  5.4404e-01,\n",
       "          3.7746e-01,  1.5074e-01,  1.3050e-01,  1.8917e-01, -8.2221e-03,\n",
       "         -3.1581e-01,  3.0006e-01,  2.2615e-01, -4.7198e-01,  2.9255e-01,\n",
       "          3.9098e-01,  7.1997e-01, -6.5656e-01, -5.7878e-02, -7.4665e-01,\n",
       "          4.5998e-01, -1.7215e-01,  3.4801e-01, -3.4560e-01,  3.4529e-01,\n",
       "          4.9162e-01,  3.4105e-01,  5.2297e-01, -5.5147e-01,  2.9069e-02,\n",
       "         -1.3466e+00,  1.6773e-01, -2.8781e-01, -6.5206e-01, -2.8571e-01,\n",
       "          4.4820e-01, -8.2600e-01,  2.7299e-01, -1.6052e-01, -4.9491e-01,\n",
       "         -4.4123e-01, -3.0832e-02,  3.5858e-01, -3.2000e-01, -3.6482e-01,\n",
       "         -4.6250e-01,  6.8682e-01,  6.2212e-01, -6.7616e-01,  4.4652e-01,\n",
       "          6.3600e-02,  5.6310e-01,  9.1847e-01,  4.4499e-01,  4.0972e-01,\n",
       "          6.3157e-01, -4.8508e-01, -4.0152e-01, -5.0366e-01, -4.5478e-02,\n",
       "         -4.5590e-01, -7.5448e-01,  6.8782e-01, -3.8171e-01,  2.5105e-01,\n",
       "          1.3606e-01,  1.9530e-01, -1.6731e-01,  1.8509e-01,  2.4151e-01,\n",
       "         -1.2497e-01,  7.3940e-02,  8.0915e-02,  4.0503e-01, -4.4470e-01,\n",
       "          1.4211e-01, -6.2766e-02, -1.0847e+00,  1.5061e-02,  3.1443e-01,\n",
       "          6.1792e-02, -2.7084e-01, -9.5111e-02,  8.0670e-01,  3.4657e-01,\n",
       "          1.7020e-01, -3.4658e-01,  6.2307e-01, -3.1217e-01,  6.7439e-02,\n",
       "         -4.2302e-01,  6.6040e-01,  2.8155e-01, -3.0294e-02,  1.3720e-01,\n",
       "         -4.0739e-01,  4.6180e-01,  7.8493e-01, -2.0656e-01, -6.3213e-02,\n",
       "         -8.2126e-01,  1.9584e-01, -8.8633e-02, -1.0430e+00,  2.6545e-01,\n",
       "          1.2379e+00,  6.7183e-01, -6.8933e-01,  2.3559e-01,  6.4715e-01,\n",
       "          1.2309e-01, -2.8892e-01,  2.7236e-01, -4.1748e-01,  9.3375e-01,\n",
       "          1.2763e-01, -4.8758e-01,  4.1386e-01, -5.7510e-01,  3.0247e-02,\n",
       "         -5.2484e-01, -3.5384e-01, -4.3309e-01, -5.0379e-01, -1.4411e-01,\n",
       "         -9.1641e-02,  1.3801e-01, -2.2797e-01,  4.0613e-01, -5.3039e-01,\n",
       "          2.8264e-01,  1.4536e-01, -3.8260e-01, -1.0636e-01, -1.9395e-01,\n",
       "          2.4888e-01,  3.9480e-01, -1.9706e-01, -9.8293e-02, -5.3219e-01,\n",
       "          3.9783e-01, -3.8129e-01,  1.8971e-01, -3.3756e-01, -6.2739e-01,\n",
       "         -7.0887e-01,  3.7720e-01,  2.1101e-01, -5.8501e-01, -4.8129e-01,\n",
       "          2.2947e-01, -1.3340e-01,  1.1180e+00,  6.6438e-02,  4.8484e-01,\n",
       "         -2.2995e-01, -3.2569e-01,  4.2933e-02,  3.4589e-01, -2.4830e-01,\n",
       "          1.0948e-01, -1.3069e-01, -5.7944e-01, -1.9196e-01, -7.8060e-02,\n",
       "          1.1934e-01, -2.3422e-01, -2.1563e-01, -3.3932e-01,  8.7396e-02,\n",
       "          2.8107e-01, -4.7971e-01,  2.1479e-01, -1.1446e-01, -5.0093e-01,\n",
       "         -1.2180e-01,  5.6778e-01, -1.7505e-01,  5.0499e-01, -6.7217e-01,\n",
       "          3.6737e-01, -1.8358e-01,  2.3660e-01,  2.9737e-02, -3.5624e-01,\n",
       "         -1.1451e-01,  6.5315e-01, -4.0913e-01, -5.6405e-01,  7.2596e-01,\n",
       "         -2.3398e-01,  1.7279e-01, -4.2138e-01,  1.0075e-01,  1.4012e-01,\n",
       "          1.6682e-01,  2.0844e-01,  7.5970e-02,  2.4352e-01,  1.3456e-01,\n",
       "          1.4141e-01,  1.7959e-01,  1.4143e+00,  1.2107e-01,  3.6410e-01,\n",
       "         -5.9567e-01,  4.5287e-02,  4.0947e-02, -6.3151e-03, -1.5476e-02,\n",
       "         -5.4966e-02,  4.0419e-02,  5.3073e-01,  3.6719e-01,  5.9932e-03,\n",
       "         -6.0457e-01, -4.0461e-02,  3.0526e-01,  2.2857e-01,  3.1699e-01,\n",
       "         -6.1115e-01, -3.5432e-01, -1.7680e-01,  3.0425e-01,  4.4631e-01,\n",
       "         -8.0750e-02,  3.3444e-02, -1.7067e-01,  2.9058e-01,  1.1439e-01,\n",
       "         -1.2962e-02,  2.6377e-01, -2.9394e-01, -2.3483e-01,  2.1922e-01,\n",
       "          7.9876e-01,  9.3168e-01, -1.6078e-01, -6.8044e-02, -2.8835e-01,\n",
       "         -3.7442e-02,  8.7288e-01, -3.0851e-02, -2.6066e-01,  8.7559e-01,\n",
       "          5.2805e-02,  4.2036e-01, -4.4657e-01, -6.0128e-01,  2.4042e-01,\n",
       "          1.0409e+00,  4.5662e-02, -5.9405e-01, -7.7239e-02,  4.4467e-01,\n",
       "          2.8607e-01,  3.1795e-01,  4.0720e-01, -4.4101e-01,  1.0156e-01,\n",
       "          8.4665e-02,  2.2385e-01,  3.2971e-02,  8.5590e-01, -8.3134e-02,\n",
       "          2.4421e-01, -2.5320e-01,  3.0961e-01,  3.2430e-01,  7.6288e-01,\n",
       "         -4.1389e-01, -7.4261e-01, -1.0888e-01,  3.0744e-02, -8.4961e-02,\n",
       "         -3.3006e-01, -9.4410e-02, -1.7684e-01,  9.1215e-02,  3.9247e-01,\n",
       "         -1.6165e-01, -2.5071e-01,  3.2119e-01, -5.8943e-01,  5.3371e-01,\n",
       "         -3.9494e-01,  4.5296e-01, -3.2192e-02,  2.9046e-02,  9.0094e-02,\n",
       "          8.0394e-02, -3.8424e-01, -2.4358e-01, -5.8893e-01, -1.6014e-01,\n",
       "         -5.0848e-01, -2.1314e-02, -5.0818e-01, -9.5969e-02,  4.0968e-01,\n",
       "          3.0001e-01, -5.3867e-01,  2.3648e-01, -5.9909e-01,  1.8138e-01,\n",
       "          5.6676e-01,  3.3343e-01,  3.6125e-02, -7.1760e-01, -2.8207e-01,\n",
       "         -1.7438e-01, -9.5262e-02,  2.1486e-01, -5.2020e-02, -1.4080e-04,\n",
       "         -1.5751e-01, -6.5504e-02,  3.1234e-01, -1.2235e-01, -1.2310e-01,\n",
       "         -2.6430e-01,  6.9013e-01, -8.8553e-01,  1.4780e-01, -4.3434e-01,\n",
       "          9.2149e-03, -5.1354e-01, -4.0582e-01,  4.0951e-02, -9.0218e-01,\n",
       "          1.7678e-01,  8.2160e-01,  9.0611e-02,  1.0791e-01, -5.0325e-01,\n",
       "          5.2987e-01, -4.0699e-01,  1.9170e-01, -2.1431e-01,  4.5255e-01,\n",
       "          5.6901e-01,  2.7348e-01, -4.4278e-01,  1.8978e-01,  1.3641e-03,\n",
       "          2.6983e-01,  6.8033e-01, -4.7854e-01,  8.3501e-01,  5.7284e-01,\n",
       "          5.5623e-01, -3.8540e-01, -1.7700e-02,  3.0426e-01,  2.9132e-01,\n",
       "         -2.5081e-01, -5.4555e-01,  4.0296e-02, -3.4137e-01,  4.2379e-01,\n",
       "         -5.2939e-01,  1.7819e-01, -1.2489e-02,  5.5839e-01,  1.0675e-01,\n",
       "          3.1746e-01, -2.8264e-01, -2.1325e-01], device='cuda:0'))"
      ]
     },
     "execution_count": 155,
     "metadata": {},
     "output_type": "execute_result"
    }
   ],
   "source": [
    "bert_watch1 = embed1[31]\n",
    "bert_watch2 = embed2[13]\n",
    "bert_watch1, bert_watch2"
   ]
  },
  {
   "cell_type": "code",
   "execution_count": 156,
   "metadata": {},
   "outputs": [
    {
     "data": {
      "text/plain": [
       "tensor(0.3504, device='cuda:0')"
      ]
     },
     "execution_count": 156,
     "metadata": {},
     "output_type": "execute_result"
    }
   ],
   "source": [
    "similarity = nn.CosineSimilarity(dim=0, eps=1e-6)\n",
    "similarity(bert_watch1, bert_watch2)"
   ]
  },
  {
   "cell_type": "markdown",
   "metadata": {},
   "source": [
    "## Document Embeddings"
   ]
  },
  {
   "cell_type": "code",
   "execution_count": 157,
   "metadata": {},
   "outputs": [],
   "source": [
    "documents = [Sentence(watch1), Sentence(watch2)]"
   ]
  },
  {
   "cell_type": "code",
   "execution_count": 158,
   "metadata": {},
   "outputs": [
    {
     "data": {
      "text/plain": [
       "[Sentence: \"The Hatter was the first to break the silence . ` What day of the month is it ? ' he said , turning to Alice : he had taken his watch out of his pocket , and was looking at it uneasily , shaking it every now and then , and holding it to his ear .\"   [− Tokens: 58],\n",
       " Sentence: \"Alice thought this a very curious thing , and she went nearer to watch them , and just as she came up to them she heard one of them say , ` Look out now , Five ! Do n't go splashing paint over me like that !\"   [− Tokens: 48]]"
      ]
     },
     "execution_count": 158,
     "metadata": {},
     "output_type": "execute_result"
    }
   ],
   "source": [
    "from flair.embeddings import TransformerDocumentEmbeddings\n",
    "bert_doc = TransformerDocumentEmbeddings('bert-base-uncased')\n",
    "bert_doc.embed(documents)"
   ]
  },
  {
   "cell_type": "code",
   "execution_count": 159,
   "metadata": {},
   "outputs": [
    {
     "data": {
      "text/plain": [
       "tensor([-6.4245e-02,  3.5365e-01, -2.4962e-01, -5.3912e-01, -1.9917e-01,\n",
       "        -2.7712e-01,  1.6942e-01,  1.0867e-01, -4.0799e-01, -1.4945e-01,\n",
       "         4.4678e-02, -1.9687e-01, -3.0574e-01,  9.6215e-02,  2.8053e-01,\n",
       "         9.0462e-01, -3.0250e-01,  1.7854e-01, -1.6856e-01, -1.7227e-01,\n",
       "        -1.8270e-01,  4.5121e-01,  3.6128e-01,  1.2310e-01, -1.2047e-02,\n",
       "        -5.0255e-01,  4.2645e-01, -3.7184e-02, -1.7052e-01, -4.8920e-02,\n",
       "         1.0503e-01,  3.3456e-01, -3.8483e-02, -4.7287e-01, -7.4431e-02,\n",
       "         2.3990e-01, -8.3232e-02,  1.7974e-01,  4.8939e-01,  9.3019e-03,\n",
       "        -4.2722e-01,  2.6337e-01, -1.3216e-01, -1.3950e-01, -1.1859e-01,\n",
       "         4.5834e-02, -3.9031e+00, -1.0726e-01,  5.1103e-02, -9.9710e-02,\n",
       "         1.5913e-01, -9.5331e-02,  2.1513e-01,  4.7707e-01,  2.1226e-01,\n",
       "         4.3450e-01, -4.5154e-01,  1.8344e-01, -1.0171e-01, -3.6373e-01,\n",
       "         8.9560e-01,  3.5931e-01, -2.8519e-01,  2.9427e-02,  3.3968e-01,\n",
       "         4.1062e-01, -2.1050e-02,  2.7802e-02,  2.8888e-01,  4.5761e-01,\n",
       "        -3.8254e-01, -1.9211e-01, -2.6551e-01,  1.7064e-01, -2.0920e-01,\n",
       "        -3.3608e-01, -1.0044e-01, -2.9611e-01, -5.6573e-01,  4.3841e-01,\n",
       "        -8.9238e-02, -1.4644e-02,  2.2009e-01,  2.5755e-01, -2.6711e-01,\n",
       "        -1.4440e-01, -2.8944e-01,  2.2546e-01,  6.0303e-01,  1.0250e-01,\n",
       "        -2.0606e-01, -1.5392e-01, -3.2990e-03,  7.7604e-02,  1.8428e-01,\n",
       "         1.6114e-01,  2.5668e-01, -8.3616e-02,  2.7078e-01, -5.4945e-02,\n",
       "         4.9633e-01, -2.7734e-01,  4.1486e-01, -5.3347e-01, -7.8131e-01,\n",
       "         1.7047e-01,  2.8687e-01,  4.9673e-02,  4.6922e-01, -1.6500e+00,\n",
       "         4.6991e-01, -1.5328e-01,  2.7729e-01, -1.0157e+00,  1.5022e-01,\n",
       "        -1.7466e-01,  4.1232e-02, -4.4218e-01, -5.0299e-01,  1.1937e-01,\n",
       "         1.8505e-01,  1.7673e-01,  2.1935e-01, -1.3052e+00, -3.4139e-01,\n",
       "        -3.8844e-02, -2.4191e-01,  2.5906e-01,  1.2551e-01, -1.7339e-02,\n",
       "         4.4672e-01,  3.3219e-01, -2.1076e-01, -2.6042e-01,  2.1486e-01,\n",
       "         1.6804e-01, -1.6398e-01,  1.1147e-01, -1.4731e-01,  1.0370e-01,\n",
       "        -2.0025e-01, -1.7985e-01, -2.5822e+00, -9.3411e-02,  5.8352e-01,\n",
       "         4.2851e-01,  1.3719e-01, -4.4423e-01, -2.4911e-03,  6.3892e-01,\n",
       "         4.1029e-01, -3.2187e-01,  5.8879e-02, -2.1344e-01, -4.0473e-02,\n",
       "        -4.0414e-01,  3.8056e-01,  1.7888e-01, -4.1893e-01,  1.6880e-01,\n",
       "        -4.6561e-02, -3.3560e-01,  1.3599e-02,  2.4541e-01, -1.9910e-01,\n",
       "         5.3978e-01,  5.7401e-01,  5.7995e-01, -3.8400e-02, -4.4134e-02,\n",
       "         3.8312e-01, -1.6357e-02,  7.0812e-01, -1.6653e-01, -4.0108e-01,\n",
       "         8.2581e-02,  4.2481e-01, -1.2611e-01,  4.2772e-01, -7.9697e-02,\n",
       "        -7.4779e-01,  7.4372e-02,  2.0130e-01,  8.0436e-01,  8.2707e-01,\n",
       "         3.8594e-01, -2.6690e-02, -2.8838e-01,  2.1367e-01,  2.3883e-01,\n",
       "         1.4772e-01, -1.7737e-01, -1.6458e-01, -4.7632e-01, -9.9866e-02,\n",
       "        -7.7609e-02,  3.6381e-01, -5.1024e-01, -3.6723e-01, -2.4667e-01,\n",
       "        -2.0106e-01,  1.8970e-01,  1.2936e-01, -7.0922e-01,  1.8065e-01,\n",
       "         4.2441e+00,  3.2519e-01, -3.5622e-01,  7.9890e-02,  4.0457e-01,\n",
       "        -5.2027e-01, -4.0209e-01,  1.1543e-01,  5.4013e-01, -8.5186e-01,\n",
       "         5.7481e-01,  3.0116e-01,  3.0603e-01,  3.0002e-02, -3.7785e-01,\n",
       "        -2.3895e-01,  1.0855e-01, -7.3347e-02, -2.2568e-02, -1.8636e-01,\n",
       "         5.5137e-01, -2.5551e-01,  5.6109e-01,  8.9961e-02, -1.4174e+00,\n",
       "         1.9548e-01,  1.8128e-01,  5.7270e-01,  3.7286e-01,  2.1191e-02,\n",
       "         2.0575e-01, -2.7981e-01, -4.0404e-02, -5.4553e-02, -2.4785e-01,\n",
       "        -2.4466e-01, -4.0419e-03,  8.9292e-02,  5.5506e-01, -1.7438e-01,\n",
       "         4.4969e-01,  3.9400e-01, -5.3704e-01,  6.6374e-01,  3.8592e-01,\n",
       "         6.9357e-01,  6.0498e-01, -2.1726e-01, -1.0124e-01, -2.2627e-01,\n",
       "         5.7905e-01,  4.2297e-01, -1.2389e-01,  2.0031e-01,  4.5129e-01,\n",
       "         1.7262e-01,  1.0963e-02,  3.6436e-01,  5.7858e-01, -5.3210e-01,\n",
       "        -1.4754e-02,  6.1678e-01, -3.0254e-01, -3.7331e-01,  4.2933e-02,\n",
       "        -2.8411e-01,  2.5481e-01, -3.1135e-01, -2.4889e+00,  1.2208e-01,\n",
       "        -8.3915e-02, -1.0063e-01,  1.6028e-01,  9.8307e-02, -1.5816e-01,\n",
       "        -3.4994e-02, -1.4911e-01, -8.0463e-01,  5.4030e-01,  7.1562e-02,\n",
       "         1.7398e-01,  1.4491e-01, -7.0773e-01,  3.9191e-01,  1.0117e-01,\n",
       "        -2.8370e-01,  2.8936e-01,  1.5133e-01,  5.0763e-02, -2.4023e-01,\n",
       "         4.4110e-01, -3.9492e-02,  2.6435e-01,  3.1356e-01, -1.8297e-01,\n",
       "        -2.4273e-01, -1.7542e-01,  1.4501e-01,  3.0055e-01, -2.8845e-01,\n",
       "        -1.5901e-01,  1.7493e-01, -2.9559e-01, -3.4490e+00,  1.3099e-01,\n",
       "        -3.8233e-01, -1.0336e-01,  6.8291e-01,  6.9417e-01,  6.1574e-01,\n",
       "        -8.2423e-02, -1.2499e-01, -1.2243e-01,  2.8974e-01, -4.1564e-01,\n",
       "         6.8799e-02,  6.7222e-01,  5.1716e-01, -3.0252e-02,  3.6390e-01,\n",
       "        -5.9201e-01,  2.2436e-01, -2.7201e-01, -8.8383e-02, -5.5831e-01,\n",
       "         1.0460e-01, -3.3686e-01,  4.6233e-01,  6.3347e-01, -5.7720e-01,\n",
       "        -4.1045e-01, -6.3033e-02, -2.6181e-01,  2.5220e-01, -5.7010e-01,\n",
       "        -4.4242e-02, -2.5702e-03, -2.6010e-01, -2.0902e-01,  2.1671e-01,\n",
       "        -1.5338e-01,  2.3135e-02,  8.3758e-02,  2.4785e-01,  8.1829e-01,\n",
       "         4.6562e-01,  1.6161e-01,  1.5305e-01, -2.2000e-01, -2.5913e-01,\n",
       "        -3.0355e-01,  2.0841e-01, -8.6139e-02, -1.0182e-01,  7.8481e-01,\n",
       "         1.0315e+00, -5.8092e-01, -2.5592e-01,  1.4235e-01,  2.2627e-01,\n",
       "        -3.8135e-01, -1.7177e-01,  6.8986e-01,  9.5218e-01, -4.2518e-01,\n",
       "         2.9856e-01, -7.7871e-01,  4.6342e-01,  3.8082e-01,  3.3461e-01,\n",
       "        -3.6359e-01,  1.3449e-01,  6.0971e-02, -6.3682e-01,  6.5791e-01,\n",
       "        -3.4900e-01, -1.6919e+00, -1.1290e-01, -8.9330e-03,  7.0164e-01,\n",
       "        -2.4298e-01, -5.0134e-01, -9.4679e-02,  9.2998e-02, -6.9514e-01,\n",
       "         1.6732e-01,  1.0738e-01, -3.5135e-01, -4.1886e-01, -5.6835e-02,\n",
       "         1.8974e-01, -6.7744e-01, -5.0675e-02, -2.8237e-01, -9.4652e-02,\n",
       "         2.3333e-01,  2.1025e-01, -1.3943e-01,  4.7849e-01, -3.5598e-02,\n",
       "        -5.0288e-02,  2.2644e-01,  1.7870e-01, -8.6450e-02, -4.6139e-01,\n",
       "        -9.7895e-02,  9.5696e-03, -6.0332e-01, -1.0339e-01, -6.9934e-01,\n",
       "         8.6564e-01,  2.4269e-01,  1.2407e-01, -4.4824e-01,  6.2005e-02,\n",
       "         1.1447e-01, -4.3742e-02,  1.5308e+00, -4.7716e-01,  4.9675e-01,\n",
       "         8.2663e-01,  4.4054e-01, -8.6616e-02,  2.1151e-01, -1.6980e-02,\n",
       "         3.6449e-02,  5.2057e-02, -4.3879e-01, -2.0526e-01, -1.0826e-01,\n",
       "        -2.0655e-01,  5.4324e-02, -2.3006e-01, -2.3910e-01,  3.5886e-01,\n",
       "        -3.6865e-01, -4.1345e-01,  3.2852e-01, -2.1309e-01, -7.7967e-01,\n",
       "        -4.0635e-01,  4.1312e-01,  4.5644e-01,  5.6297e-01, -4.0113e-02,\n",
       "        -7.8325e-02,  3.5196e-01, -4.0508e-01,  4.9119e-01,  2.8871e-01,\n",
       "         1.2004e-02,  2.1122e-02,  5.8201e-01,  7.2554e-02, -1.2406e-01,\n",
       "        -2.2747e-01, -3.6875e-01,  1.2822e-01, -1.3220e-02, -2.5432e-01,\n",
       "        -5.4382e-01, -1.6104e-01, -4.9271e-01, -2.7111e-05, -1.6866e-01,\n",
       "        -2.0367e+00, -1.8150e-01,  7.2432e-01,  2.6644e-01,  2.3441e-01,\n",
       "         1.3906e-01, -7.0425e-03,  4.3320e-01, -3.9089e-01,  3.8913e-01,\n",
       "        -1.3505e-01,  1.8608e-01, -2.7714e-01,  7.7001e-02, -3.5178e-01,\n",
       "         3.1395e-01, -6.1126e-01, -1.9384e-01,  3.4077e-02,  7.6536e-02,\n",
       "        -6.3849e-01,  9.1557e-02,  6.1446e-01, -9.3747e-02,  2.7309e-02,\n",
       "        -2.9999e-01,  8.1415e-02,  2.3125e-01,  4.6290e-02,  1.2134e-01,\n",
       "         1.3592e-01, -5.6097e-01, -2.1794e-01, -6.8162e-01,  6.4019e-01,\n",
       "        -1.8568e-01, -1.6626e-01,  3.4131e-01,  1.8143e-01,  1.4511e-01,\n",
       "         4.1716e-02,  3.5290e-01,  2.6542e-01, -3.3044e-01,  6.5737e-01,\n",
       "        -4.8462e-01, -4.2369e-01,  5.4556e-01, -4.1632e-01, -7.4869e-02,\n",
       "        -2.7194e-01, -5.6730e-02, -1.9846e-01, -2.5328e-01, -8.4373e-01,\n",
       "        -2.5077e-01, -7.6245e-02,  1.3954e-01, -7.3810e-01, -7.1694e-02,\n",
       "         3.7180e-01, -6.6641e-01, -7.3949e-02,  1.0741e-02,  6.6874e-02,\n",
       "        -5.4790e-01, -2.3494e-01, -5.4339e-02, -2.7594e-01,  2.3640e-01,\n",
       "         9.0829e-02, -2.4924e-02, -6.5618e-01, -1.5407e-01,  6.5142e-03,\n",
       "        -1.8896e-01, -4.8536e-01,  4.1967e-01,  4.9990e-01, -2.3470e-01,\n",
       "         2.3999e-01,  2.2489e-02,  7.1898e-02,  3.7770e-01,  2.2666e-01,\n",
       "        -4.6463e-02,  7.9462e-02, -1.3600e-01,  2.6624e-01, -1.0557e-01,\n",
       "        -5.1542e-01, -2.1026e-01, -3.6529e-01,  3.7681e-01,  4.2558e-01,\n",
       "        -2.0673e-01,  1.7708e-01, -9.5000e-01,  3.5931e-01, -6.9485e-01,\n",
       "         2.6662e-01, -3.8393e-01, -1.4876e-01,  3.5606e-01, -1.9180e-01,\n",
       "         5.2491e-02,  6.9162e-01,  1.2743e-01, -2.9465e-01, -6.5748e-01,\n",
       "        -1.3319e-01, -1.6700e-01,  3.4043e-01,  1.0655e-01,  1.4711e-01,\n",
       "        -5.7975e-01, -1.9442e-01, -5.5820e-01,  1.5113e+00,  2.5854e-01,\n",
       "        -7.7181e-02,  1.9113e-01, -2.0155e-01,  5.2040e-02, -6.6809e-02,\n",
       "         7.7022e-01,  4.3337e-01,  2.1713e-01, -1.9559e-01,  1.1622e-01,\n",
       "         6.9701e-02,  1.9887e-01,  4.4560e-01, -2.0377e-01,  9.3891e-02,\n",
       "        -3.8858e-01, -1.0287e+00, -8.7257e-02,  3.0796e-01,  1.1579e-01,\n",
       "         2.2186e-01,  2.4396e-02, -2.2758e-01,  7.7906e-01,  8.9298e-02,\n",
       "        -5.7492e-01, -2.8990e-01,  5.5056e-01, -3.1180e-01,  5.1760e-01,\n",
       "        -2.1880e-01,  3.5772e-01, -9.8653e-01,  3.4400e-02, -1.5934e-01,\n",
       "        -2.6761e-01,  4.0133e-02,  7.4575e-02,  3.0935e-01,  2.3990e-02,\n",
       "        -2.4070e-01,  1.9046e-01, -3.6814e-01,  3.0127e-01,  1.0484e-01,\n",
       "         3.0938e-02,  3.2499e-01,  4.0934e-01, -1.7192e-01,  5.4189e-01,\n",
       "         3.5965e-01,  1.4977e-01, -2.0299e-01,  2.5858e-02, -2.3124e-01,\n",
       "        -5.2681e-01, -5.0654e-02, -4.0077e-01,  3.5185e-02,  6.1388e-01,\n",
       "         1.7713e-01, -5.8146e-01,  1.2276e-01,  2.9924e-02, -5.3960e-02,\n",
       "        -4.8978e-01,  8.5426e-02, -1.6308e-01,  2.2882e-02,  2.6261e-01,\n",
       "         2.0515e-01,  3.4557e-01,  2.7707e-01,  3.1900e-01,  6.0790e-01,\n",
       "        -5.5657e-01, -4.6023e-01, -1.5954e+00,  1.5275e-01,  3.5691e-01,\n",
       "         4.9637e-01, -1.7432e-01,  1.8391e-01,  5.2575e-01,  1.6172e-01,\n",
       "        -1.6158e-01,  1.2285e-01,  1.7329e-01,  1.0693e+00,  4.1782e-01,\n",
       "         2.6315e-01, -2.6413e-02, -3.4535e-01,  3.1312e-01,  3.1305e-03,\n",
       "        -1.3553e-01,  9.2501e-02,  1.8213e-01,  1.0432e-01, -5.5064e-02,\n",
       "        -5.2151e-01, -5.9766e-01, -3.0186e-01,  1.1255e-02,  6.2411e-01,\n",
       "        -2.4277e-01,  2.0318e-01, -1.6011e-01,  8.6397e-01, -2.2691e-02,\n",
       "        -4.4046e-01, -6.2857e-02, -3.9069e-01,  1.0784e-01,  1.1981e-01,\n",
       "         4.9630e-01, -3.8374e-03, -4.2250e-01,  1.0451e+00, -2.6349e-01,\n",
       "        -1.4386e-01,  2.8545e-01,  2.6442e-01,  5.0848e-01, -3.4544e-01,\n",
       "         2.0938e-01,  3.9765e-01, -2.8668e-01, -2.9289e-01,  1.0621e-01,\n",
       "         1.2800e-01,  4.2874e-01, -7.5396e-02,  2.4798e-01,  8.1016e-02,\n",
       "        -2.1906e-02, -2.7718e-01, -7.3759e-02, -5.9758e-02, -1.1127e-01,\n",
       "        -1.2804e-01,  2.8441e-01, -1.5104e-01, -2.0100e-01,  7.6934e-01,\n",
       "         3.0968e-01, -5.9233e-01, -3.4167e-01, -1.5913e-01, -5.3265e-02,\n",
       "         2.1583e-01, -3.5234e-01, -1.2197e-01,  3.0294e-01,  7.3882e-01,\n",
       "         1.3297e-01, -3.4018e-01, -8.1062e-02, -2.5973e-01,  1.7507e-01,\n",
       "         2.3974e-02,  4.1746e-01, -6.2070e+00,  1.1619e-01, -5.7523e-01,\n",
       "        -2.6148e-01, -3.7661e-01, -2.8330e-01,  1.3297e-01,  3.6957e-01,\n",
       "         7.4661e-02, -3.4777e-01,  1.5740e-01,  3.4407e-01, -5.0272e-01,\n",
       "         1.7432e-01,  7.9398e-01,  7.3562e-01], device='cuda:0',\n",
       "       grad_fn=<CatBackward>)"
      ]
     },
     "execution_count": 159,
     "metadata": {},
     "output_type": "execute_result"
    }
   ],
   "source": [
    "documents[0].embedding"
   ]
  },
  {
   "cell_type": "code",
   "execution_count": 160,
   "metadata": {},
   "outputs": [
    {
     "data": {
      "text/plain": [
       "tensor([], device='cuda:0')"
      ]
     },
     "execution_count": 160,
     "metadata": {},
     "output_type": "execute_result"
    }
   ],
   "source": [
    "documents[0].tokens[31].embedding"
   ]
  },
  {
   "cell_type": "code",
   "execution_count": 161,
   "metadata": {},
   "outputs": [],
   "source": [
    "def get_embeddings(embeddings, sentence):\n",
    "    sent = Sentence(sentence)\n",
    "    embeddings.embed(sent)\n",
    "    if len(sent.embedding):\n",
    "        return sent.embedding.float()\n",
    "    else:\n",
    "        return torch.stack([token.embedding for token in sent.tokens]).float()"
   ]
  },
  {
   "cell_type": "code",
   "execution_count": 162,
   "metadata": {},
   "outputs": [
    {
     "data": {
      "text/plain": [
       "tensor([-6.4245e-02,  3.5365e-01, -2.4962e-01, -5.3912e-01, -1.9917e-01,\n",
       "        -2.7712e-01,  1.6942e-01,  1.0867e-01, -4.0799e-01, -1.4945e-01,\n",
       "         4.4678e-02, -1.9687e-01, -3.0574e-01,  9.6215e-02,  2.8053e-01,\n",
       "         9.0462e-01, -3.0250e-01,  1.7854e-01, -1.6856e-01, -1.7227e-01,\n",
       "        -1.8270e-01,  4.5121e-01,  3.6128e-01,  1.2310e-01, -1.2047e-02,\n",
       "        -5.0255e-01,  4.2645e-01, -3.7184e-02, -1.7052e-01, -4.8920e-02,\n",
       "         1.0503e-01,  3.3456e-01, -3.8483e-02, -4.7287e-01, -7.4431e-02,\n",
       "         2.3990e-01, -8.3232e-02,  1.7974e-01,  4.8939e-01,  9.3019e-03,\n",
       "        -4.2722e-01,  2.6337e-01, -1.3216e-01, -1.3950e-01, -1.1859e-01,\n",
       "         4.5834e-02, -3.9031e+00, -1.0726e-01,  5.1103e-02, -9.9710e-02,\n",
       "         1.5913e-01, -9.5331e-02,  2.1513e-01,  4.7707e-01,  2.1226e-01,\n",
       "         4.3450e-01, -4.5154e-01,  1.8344e-01, -1.0171e-01, -3.6373e-01,\n",
       "         8.9560e-01,  3.5931e-01, -2.8519e-01,  2.9427e-02,  3.3968e-01,\n",
       "         4.1062e-01, -2.1050e-02,  2.7802e-02,  2.8888e-01,  4.5761e-01,\n",
       "        -3.8254e-01, -1.9211e-01, -2.6551e-01,  1.7064e-01, -2.0920e-01,\n",
       "        -3.3608e-01, -1.0044e-01, -2.9611e-01, -5.6573e-01,  4.3841e-01,\n",
       "        -8.9238e-02, -1.4644e-02,  2.2009e-01,  2.5755e-01, -2.6711e-01,\n",
       "        -1.4440e-01, -2.8944e-01,  2.2546e-01,  6.0303e-01,  1.0250e-01,\n",
       "        -2.0606e-01, -1.5392e-01, -3.2990e-03,  7.7604e-02,  1.8428e-01,\n",
       "         1.6114e-01,  2.5668e-01, -8.3616e-02,  2.7078e-01, -5.4945e-02,\n",
       "         4.9633e-01, -2.7734e-01,  4.1486e-01, -5.3347e-01, -7.8131e-01,\n",
       "         1.7047e-01,  2.8687e-01,  4.9673e-02,  4.6922e-01, -1.6500e+00,\n",
       "         4.6991e-01, -1.5328e-01,  2.7729e-01, -1.0157e+00,  1.5022e-01,\n",
       "        -1.7466e-01,  4.1232e-02, -4.4218e-01, -5.0299e-01,  1.1937e-01,\n",
       "         1.8505e-01,  1.7673e-01,  2.1935e-01, -1.3052e+00, -3.4139e-01,\n",
       "        -3.8844e-02, -2.4191e-01,  2.5906e-01,  1.2551e-01, -1.7339e-02,\n",
       "         4.4672e-01,  3.3219e-01, -2.1076e-01, -2.6042e-01,  2.1486e-01,\n",
       "         1.6804e-01, -1.6398e-01,  1.1147e-01, -1.4731e-01,  1.0370e-01,\n",
       "        -2.0025e-01, -1.7985e-01, -2.5822e+00, -9.3411e-02,  5.8352e-01,\n",
       "         4.2851e-01,  1.3719e-01, -4.4423e-01, -2.4911e-03,  6.3892e-01,\n",
       "         4.1029e-01, -3.2187e-01,  5.8879e-02, -2.1344e-01, -4.0473e-02,\n",
       "        -4.0414e-01,  3.8056e-01,  1.7888e-01, -4.1893e-01,  1.6880e-01,\n",
       "        -4.6561e-02, -3.3560e-01,  1.3599e-02,  2.4541e-01, -1.9910e-01,\n",
       "         5.3978e-01,  5.7401e-01,  5.7995e-01, -3.8400e-02, -4.4134e-02,\n",
       "         3.8312e-01, -1.6357e-02,  7.0812e-01, -1.6653e-01, -4.0108e-01,\n",
       "         8.2581e-02,  4.2481e-01, -1.2611e-01,  4.2772e-01, -7.9697e-02,\n",
       "        -7.4779e-01,  7.4372e-02,  2.0130e-01,  8.0436e-01,  8.2707e-01,\n",
       "         3.8594e-01, -2.6690e-02, -2.8838e-01,  2.1367e-01,  2.3883e-01,\n",
       "         1.4772e-01, -1.7737e-01, -1.6458e-01, -4.7632e-01, -9.9866e-02,\n",
       "        -7.7609e-02,  3.6381e-01, -5.1024e-01, -3.6723e-01, -2.4667e-01,\n",
       "        -2.0106e-01,  1.8970e-01,  1.2936e-01, -7.0922e-01,  1.8065e-01,\n",
       "         4.2441e+00,  3.2519e-01, -3.5622e-01,  7.9890e-02,  4.0457e-01,\n",
       "        -5.2027e-01, -4.0209e-01,  1.1543e-01,  5.4013e-01, -8.5186e-01,\n",
       "         5.7481e-01,  3.0116e-01,  3.0603e-01,  3.0002e-02, -3.7785e-01,\n",
       "        -2.3895e-01,  1.0855e-01, -7.3347e-02, -2.2568e-02, -1.8636e-01,\n",
       "         5.5137e-01, -2.5551e-01,  5.6109e-01,  8.9961e-02, -1.4174e+00,\n",
       "         1.9548e-01,  1.8128e-01,  5.7270e-01,  3.7286e-01,  2.1191e-02,\n",
       "         2.0575e-01, -2.7981e-01, -4.0404e-02, -5.4553e-02, -2.4785e-01,\n",
       "        -2.4466e-01, -4.0419e-03,  8.9292e-02,  5.5506e-01, -1.7438e-01,\n",
       "         4.4969e-01,  3.9400e-01, -5.3704e-01,  6.6374e-01,  3.8592e-01,\n",
       "         6.9357e-01,  6.0498e-01, -2.1726e-01, -1.0124e-01, -2.2627e-01,\n",
       "         5.7905e-01,  4.2297e-01, -1.2389e-01,  2.0031e-01,  4.5129e-01,\n",
       "         1.7262e-01,  1.0963e-02,  3.6436e-01,  5.7858e-01, -5.3210e-01,\n",
       "        -1.4754e-02,  6.1678e-01, -3.0254e-01, -3.7331e-01,  4.2933e-02,\n",
       "        -2.8411e-01,  2.5481e-01, -3.1135e-01, -2.4889e+00,  1.2208e-01,\n",
       "        -8.3915e-02, -1.0063e-01,  1.6028e-01,  9.8307e-02, -1.5816e-01,\n",
       "        -3.4994e-02, -1.4911e-01, -8.0463e-01,  5.4030e-01,  7.1562e-02,\n",
       "         1.7398e-01,  1.4491e-01, -7.0773e-01,  3.9191e-01,  1.0117e-01,\n",
       "        -2.8370e-01,  2.8936e-01,  1.5133e-01,  5.0763e-02, -2.4023e-01,\n",
       "         4.4110e-01, -3.9492e-02,  2.6435e-01,  3.1356e-01, -1.8297e-01,\n",
       "        -2.4273e-01, -1.7542e-01,  1.4501e-01,  3.0055e-01, -2.8845e-01,\n",
       "        -1.5901e-01,  1.7493e-01, -2.9559e-01, -3.4490e+00,  1.3099e-01,\n",
       "        -3.8233e-01, -1.0336e-01,  6.8291e-01,  6.9417e-01,  6.1574e-01,\n",
       "        -8.2423e-02, -1.2499e-01, -1.2243e-01,  2.8974e-01, -4.1564e-01,\n",
       "         6.8799e-02,  6.7222e-01,  5.1716e-01, -3.0252e-02,  3.6390e-01,\n",
       "        -5.9201e-01,  2.2436e-01, -2.7201e-01, -8.8383e-02, -5.5831e-01,\n",
       "         1.0460e-01, -3.3686e-01,  4.6233e-01,  6.3347e-01, -5.7720e-01,\n",
       "        -4.1045e-01, -6.3033e-02, -2.6181e-01,  2.5220e-01, -5.7010e-01,\n",
       "        -4.4242e-02, -2.5702e-03, -2.6010e-01, -2.0902e-01,  2.1671e-01,\n",
       "        -1.5338e-01,  2.3135e-02,  8.3758e-02,  2.4785e-01,  8.1829e-01,\n",
       "         4.6562e-01,  1.6161e-01,  1.5305e-01, -2.2000e-01, -2.5913e-01,\n",
       "        -3.0355e-01,  2.0841e-01, -8.6139e-02, -1.0182e-01,  7.8481e-01,\n",
       "         1.0315e+00, -5.8092e-01, -2.5592e-01,  1.4235e-01,  2.2627e-01,\n",
       "        -3.8135e-01, -1.7177e-01,  6.8986e-01,  9.5218e-01, -4.2518e-01,\n",
       "         2.9856e-01, -7.7871e-01,  4.6342e-01,  3.8082e-01,  3.3461e-01,\n",
       "        -3.6359e-01,  1.3449e-01,  6.0971e-02, -6.3682e-01,  6.5791e-01,\n",
       "        -3.4900e-01, -1.6919e+00, -1.1290e-01, -8.9330e-03,  7.0164e-01,\n",
       "        -2.4298e-01, -5.0134e-01, -9.4679e-02,  9.2998e-02, -6.9514e-01,\n",
       "         1.6732e-01,  1.0738e-01, -3.5135e-01, -4.1886e-01, -5.6835e-02,\n",
       "         1.8974e-01, -6.7744e-01, -5.0675e-02, -2.8237e-01, -9.4652e-02,\n",
       "         2.3333e-01,  2.1025e-01, -1.3943e-01,  4.7849e-01, -3.5598e-02,\n",
       "        -5.0288e-02,  2.2644e-01,  1.7870e-01, -8.6450e-02, -4.6139e-01,\n",
       "        -9.7895e-02,  9.5696e-03, -6.0332e-01, -1.0339e-01, -6.9934e-01,\n",
       "         8.6564e-01,  2.4269e-01,  1.2407e-01, -4.4824e-01,  6.2005e-02,\n",
       "         1.1447e-01, -4.3742e-02,  1.5308e+00, -4.7716e-01,  4.9675e-01,\n",
       "         8.2663e-01,  4.4054e-01, -8.6616e-02,  2.1151e-01, -1.6980e-02,\n",
       "         3.6449e-02,  5.2057e-02, -4.3879e-01, -2.0526e-01, -1.0826e-01,\n",
       "        -2.0655e-01,  5.4324e-02, -2.3006e-01, -2.3910e-01,  3.5886e-01,\n",
       "        -3.6865e-01, -4.1345e-01,  3.2852e-01, -2.1309e-01, -7.7967e-01,\n",
       "        -4.0635e-01,  4.1312e-01,  4.5644e-01,  5.6297e-01, -4.0113e-02,\n",
       "        -7.8325e-02,  3.5196e-01, -4.0508e-01,  4.9119e-01,  2.8871e-01,\n",
       "         1.2004e-02,  2.1122e-02,  5.8201e-01,  7.2554e-02, -1.2406e-01,\n",
       "        -2.2747e-01, -3.6875e-01,  1.2822e-01, -1.3220e-02, -2.5432e-01,\n",
       "        -5.4382e-01, -1.6104e-01, -4.9271e-01, -2.7111e-05, -1.6866e-01,\n",
       "        -2.0367e+00, -1.8150e-01,  7.2432e-01,  2.6644e-01,  2.3441e-01,\n",
       "         1.3906e-01, -7.0425e-03,  4.3320e-01, -3.9089e-01,  3.8913e-01,\n",
       "        -1.3505e-01,  1.8608e-01, -2.7714e-01,  7.7001e-02, -3.5178e-01,\n",
       "         3.1395e-01, -6.1126e-01, -1.9384e-01,  3.4077e-02,  7.6536e-02,\n",
       "        -6.3849e-01,  9.1557e-02,  6.1446e-01, -9.3747e-02,  2.7309e-02,\n",
       "        -2.9999e-01,  8.1415e-02,  2.3125e-01,  4.6290e-02,  1.2134e-01,\n",
       "         1.3592e-01, -5.6097e-01, -2.1794e-01, -6.8162e-01,  6.4019e-01,\n",
       "        -1.8568e-01, -1.6626e-01,  3.4131e-01,  1.8143e-01,  1.4511e-01,\n",
       "         4.1716e-02,  3.5290e-01,  2.6542e-01, -3.3044e-01,  6.5737e-01,\n",
       "        -4.8462e-01, -4.2369e-01,  5.4556e-01, -4.1632e-01, -7.4869e-02,\n",
       "        -2.7194e-01, -5.6730e-02, -1.9846e-01, -2.5328e-01, -8.4373e-01,\n",
       "        -2.5077e-01, -7.6245e-02,  1.3954e-01, -7.3810e-01, -7.1694e-02,\n",
       "         3.7180e-01, -6.6641e-01, -7.3949e-02,  1.0741e-02,  6.6874e-02,\n",
       "        -5.4790e-01, -2.3494e-01, -5.4339e-02, -2.7594e-01,  2.3640e-01,\n",
       "         9.0829e-02, -2.4924e-02, -6.5618e-01, -1.5407e-01,  6.5142e-03,\n",
       "        -1.8896e-01, -4.8536e-01,  4.1967e-01,  4.9990e-01, -2.3470e-01,\n",
       "         2.3999e-01,  2.2489e-02,  7.1898e-02,  3.7770e-01,  2.2666e-01,\n",
       "        -4.6463e-02,  7.9462e-02, -1.3600e-01,  2.6624e-01, -1.0557e-01,\n",
       "        -5.1542e-01, -2.1026e-01, -3.6529e-01,  3.7681e-01,  4.2558e-01,\n",
       "        -2.0673e-01,  1.7708e-01, -9.5000e-01,  3.5931e-01, -6.9485e-01,\n",
       "         2.6662e-01, -3.8393e-01, -1.4876e-01,  3.5606e-01, -1.9180e-01,\n",
       "         5.2491e-02,  6.9162e-01,  1.2743e-01, -2.9465e-01, -6.5748e-01,\n",
       "        -1.3319e-01, -1.6700e-01,  3.4043e-01,  1.0655e-01,  1.4711e-01,\n",
       "        -5.7975e-01, -1.9442e-01, -5.5820e-01,  1.5113e+00,  2.5854e-01,\n",
       "        -7.7181e-02,  1.9113e-01, -2.0155e-01,  5.2040e-02, -6.6809e-02,\n",
       "         7.7022e-01,  4.3337e-01,  2.1713e-01, -1.9559e-01,  1.1622e-01,\n",
       "         6.9701e-02,  1.9887e-01,  4.4560e-01, -2.0377e-01,  9.3891e-02,\n",
       "        -3.8858e-01, -1.0287e+00, -8.7257e-02,  3.0796e-01,  1.1579e-01,\n",
       "         2.2186e-01,  2.4396e-02, -2.2758e-01,  7.7906e-01,  8.9298e-02,\n",
       "        -5.7492e-01, -2.8990e-01,  5.5056e-01, -3.1180e-01,  5.1760e-01,\n",
       "        -2.1880e-01,  3.5772e-01, -9.8653e-01,  3.4400e-02, -1.5934e-01,\n",
       "        -2.6761e-01,  4.0133e-02,  7.4575e-02,  3.0935e-01,  2.3990e-02,\n",
       "        -2.4070e-01,  1.9046e-01, -3.6814e-01,  3.0127e-01,  1.0484e-01,\n",
       "         3.0938e-02,  3.2499e-01,  4.0934e-01, -1.7192e-01,  5.4189e-01,\n",
       "         3.5965e-01,  1.4977e-01, -2.0299e-01,  2.5858e-02, -2.3124e-01,\n",
       "        -5.2681e-01, -5.0654e-02, -4.0077e-01,  3.5185e-02,  6.1388e-01,\n",
       "         1.7713e-01, -5.8146e-01,  1.2276e-01,  2.9924e-02, -5.3960e-02,\n",
       "        -4.8978e-01,  8.5426e-02, -1.6308e-01,  2.2882e-02,  2.6261e-01,\n",
       "         2.0515e-01,  3.4557e-01,  2.7707e-01,  3.1900e-01,  6.0790e-01,\n",
       "        -5.5657e-01, -4.6023e-01, -1.5954e+00,  1.5275e-01,  3.5691e-01,\n",
       "         4.9637e-01, -1.7432e-01,  1.8391e-01,  5.2575e-01,  1.6172e-01,\n",
       "        -1.6158e-01,  1.2285e-01,  1.7329e-01,  1.0693e+00,  4.1782e-01,\n",
       "         2.6315e-01, -2.6413e-02, -3.4535e-01,  3.1312e-01,  3.1305e-03,\n",
       "        -1.3553e-01,  9.2501e-02,  1.8213e-01,  1.0432e-01, -5.5064e-02,\n",
       "        -5.2151e-01, -5.9766e-01, -3.0186e-01,  1.1255e-02,  6.2411e-01,\n",
       "        -2.4277e-01,  2.0318e-01, -1.6011e-01,  8.6397e-01, -2.2691e-02,\n",
       "        -4.4046e-01, -6.2857e-02, -3.9069e-01,  1.0784e-01,  1.1981e-01,\n",
       "         4.9630e-01, -3.8374e-03, -4.2250e-01,  1.0451e+00, -2.6349e-01,\n",
       "        -1.4386e-01,  2.8545e-01,  2.6442e-01,  5.0848e-01, -3.4544e-01,\n",
       "         2.0938e-01,  3.9765e-01, -2.8668e-01, -2.9289e-01,  1.0621e-01,\n",
       "         1.2800e-01,  4.2874e-01, -7.5396e-02,  2.4798e-01,  8.1016e-02,\n",
       "        -2.1906e-02, -2.7718e-01, -7.3759e-02, -5.9758e-02, -1.1127e-01,\n",
       "        -1.2804e-01,  2.8441e-01, -1.5104e-01, -2.0100e-01,  7.6934e-01,\n",
       "         3.0968e-01, -5.9233e-01, -3.4167e-01, -1.5913e-01, -5.3265e-02,\n",
       "         2.1583e-01, -3.5234e-01, -1.2197e-01,  3.0294e-01,  7.3882e-01,\n",
       "         1.3297e-01, -3.4018e-01, -8.1062e-02, -2.5973e-01,  1.7507e-01,\n",
       "         2.3974e-02,  4.1746e-01, -6.2070e+00,  1.1619e-01, -5.7523e-01,\n",
       "        -2.6148e-01, -3.7661e-01, -2.8330e-01,  1.3297e-01,  3.6957e-01,\n",
       "         7.4661e-02, -3.4777e-01,  1.5740e-01,  3.4407e-01, -5.0272e-01,\n",
       "         1.7432e-01,  7.9398e-01,  7.3562e-01], device='cuda:0',\n",
       "       grad_fn=<CatBackward>)"
      ]
     },
     "execution_count": 162,
     "metadata": {},
     "output_type": "execute_result"
    }
   ],
   "source": [
    "get_embeddings(bert_doc, watch1)"
   ]
  },
  {
   "cell_type": "markdown",
   "metadata": {},
   "source": [
    "## Model III - Preprocessing Embeddings"
   ]
  },
  {
   "cell_type": "markdown",
   "metadata": {},
   "source": [
    "### Data Preparation"
   ]
  },
  {
   "cell_type": "code",
   "execution_count": 163,
   "metadata": {},
   "outputs": [
    {
     "data": {
      "application/vnd.jupyter.widget-view+json": {
       "model_id": "aac06999ef7f4ed398eb3849201585b9",
       "version_major": 2,
       "version_minor": 0
      },
      "text/plain": [
       "HBox(children=(FloatProgress(value=0.0, max=3081.0), HTML(value='')))"
      ]
     },
     "metadata": {},
     "output_type": "display_data"
    },
    {
     "name": "stdout",
     "output_type": "stream",
     "text": [
      "\n"
     ]
    },
    {
     "data": {
      "application/vnd.jupyter.widget-view+json": {
       "model_id": "80060133f2e44a45b5d444392d156fea",
       "version_major": 2,
       "version_minor": 0
      },
      "text/plain": [
       "HBox(children=(FloatProgress(value=0.0, max=771.0), HTML(value='')))"
      ]
     },
     "metadata": {},
     "output_type": "display_data"
    },
    {
     "name": "stdout",
     "output_type": "stream",
     "text": [
      "\n"
     ]
    }
   ],
   "source": [
    "train_dataset_doc = train_dataset.map(lambda row: {'embeddings': get_embeddings(bert_doc, row['sentence'])})\n",
    "test_dataset_doc = test_dataset.map(lambda row: {'embeddings': get_embeddings(bert_doc, row['sentence'])})"
   ]
  },
  {
   "cell_type": "code",
   "execution_count": 164,
   "metadata": {},
   "outputs": [],
   "source": [
    "train_dataset_doc.set_format(type='torch', columns=['embeddings', 'labels'])\n",
    "test_dataset_doc.set_format(type='torch', columns=['embeddings', 'labels'])"
   ]
  },
  {
   "cell_type": "code",
   "execution_count": 165,
   "metadata": {},
   "outputs": [
    {
     "data": {
      "text/plain": [
       "tensor([[-0.2932,  0.2595, -0.1252,  ..., -0.2407,  0.2998,  0.1157],\n",
       "        [ 0.4934,  0.0129, -0.1991,  ...,  0.6354,  0.6320,  0.7036],\n",
       "        [-0.6256, -0.3536, -0.4682,  ...,  0.5507,  0.2467,  0.6108],\n",
       "        ...,\n",
       "        [-0.5786,  0.0274, -0.1081,  ..., -0.0108,  0.0329,  0.9563],\n",
       "        [ 0.1244,  0.3181,  0.0352,  ...,  0.3957,  0.6648,  0.9231],\n",
       "        [ 0.2124,  0.6195, -0.2281,  ..., -0.0835,  0.4346,  0.6358]])"
      ]
     },
     "execution_count": 165,
     "metadata": {},
     "output_type": "execute_result"
    }
   ],
   "source": [
    "train_dataset_doc['embeddings']"
   ]
  },
  {
   "cell_type": "code",
   "execution_count": 166,
   "metadata": {},
   "outputs": [],
   "source": [
    "train_dataset_doc = TensorDataset(train_dataset_doc['embeddings'].float(), \n",
    "                                  train_dataset_doc['labels'].view(-1, 1).float())\n",
    "generator = torch.Generator()\n",
    "train_loader = DataLoader(train_dataset_doc, batch_size=32, shuffle=True, generator=generator)\n",
    "\n",
    "test_dataset_doc = TensorDataset(test_dataset_doc['embeddings'].float(), \n",
    "                                 test_dataset_doc['labels'].view(-1, 1).float())\n",
    "test_loader = DataLoader(test_dataset_doc, batch_size=32, shuffle=True)"
   ]
  },
  {
   "cell_type": "markdown",
   "metadata": {},
   "source": [
    "### Model Configuration & Training"
   ]
  },
  {
   "cell_type": "code",
   "execution_count": 167,
   "metadata": {},
   "outputs": [],
   "source": [
    "torch.manual_seed(41)\n",
    "model = nn.Sequential(\n",
    "    # Classifier\n",
    "    nn.Linear(bert_doc.embedding_length, 3), \n",
    "    nn.ReLU(),\n",
    "    nn.Linear(3, 1)\n",
    ")\n",
    "loss_fn = nn.BCEWithLogitsLoss()\n",
    "optimizer = optim.Adam(model.parameters(), lr=1e-3)"
   ]
  },
  {
   "cell_type": "code",
   "execution_count": 168,
   "metadata": {},
   "outputs": [],
   "source": [
    "sbs_doc_emb = StepByStep(model, loss_fn, optimizer)\n",
    "sbs_doc_emb.set_loaders(train_loader, test_loader)\n",
    "sbs_doc_emb.train(20)"
   ]
  },
  {
   "cell_type": "code",
   "execution_count": 169,
   "metadata": {},
   "outputs": [
    {
     "data": {
      "image/png": "[encoded data removed]",
      "text/plain": [
       "<Figure size 720x288 with 1 Axes>"
      ]
     },
     "metadata": {},
     "output_type": "display_data"
    }
   ],
   "source": [
    "fig = sbs_doc_emb.plot_losses()"
   ]
  },
  {
   "cell_type": "code",
   "execution_count": 171,
   "metadata": {},
   "outputs": [
    {
     "data": {
      "text/plain": [
       "tensor([[424, 440],\n",
       "        [310, 331]])"
      ]
     },
     "execution_count": 171,
     "metadata": {},
     "output_type": "execute_result"
    }
   ],
   "source": [
    "StepByStep.loader_apply(test_loader, sbs_doc_emb.correct)"
   ]
  },
  {
   "cell_type": "markdown",
   "metadata": {},
   "source": [
    "# BERT"
   ]
  },
  {
   "cell_type": "code",
   "execution_count": 174,
   "metadata": {},
   "outputs": [
    {
     "name": "stdout",
     "output_type": "stream",
     "text": [
      "<class 'transformers.models.bert.modeling_bert.BertModel'>\n"
     ]
    }
   ],
   "source": [
    "from transformers import AutoModel\n",
    "auto_model = AutoModel.from_pretrained('bert-base-uncased')\n",
    "print(auto_model.__class__)"
   ]
  },
  {
   "cell_type": "code",
   "execution_count": 172,
   "metadata": {},
   "outputs": [],
   "source": [
    "from transformers import BertModel\n",
    "bert_model = BertModel.from_pretrained('bert-base-uncased')"
   ]
  },
  {
   "cell_type": "code",
   "execution_count": 173,
   "metadata": {},
   "outputs": [
    {
     "data": {
      "text/plain": [
       "BertConfig {\n",
       "  \"_name_or_path\": \"bert-base-uncased\",\n",
       "  \"architectures\": [\n",
       "    \"BertForMaskedLM\"\n",
       "  ],\n",
       "  \"attention_probs_dropout_prob\": 0.1,\n",
       "  \"gradient_checkpointing\": false,\n",
       "  \"hidden_act\": \"gelu\",\n",
       "  \"hidden_dropout_prob\": 0.1,\n",
       "  \"hidden_size\": 768,\n",
       "  \"initializer_range\": 0.02,\n",
       "  \"intermediate_size\": 3072,\n",
       "  \"layer_norm_eps\": 1e-12,\n",
       "  \"max_position_embeddings\": 512,\n",
       "  \"model_type\": \"bert\",\n",
       "  \"num_attention_heads\": 12,\n",
       "  \"num_hidden_layers\": 12,\n",
       "  \"pad_token_id\": 0,\n",
       "  \"position_embedding_type\": \"absolute\",\n",
       "  \"transformers_version\": \"4.5.1\",\n",
       "  \"type_vocab_size\": 2,\n",
       "  \"use_cache\": true,\n",
       "  \"vocab_size\": 30522\n",
       "}"
      ]
     },
     "execution_count": 173,
     "metadata": {},
     "output_type": "execute_result"
    }
   ],
   "source": [
    "bert_model.config"
   ]
  },
  {
   "cell_type": "markdown",
   "metadata": {},
   "source": [
    "## Tokenization"
   ]
  },
  {
   "cell_type": "code",
   "execution_count": 175,
   "metadata": {
    "scrolled": true
   },
   "outputs": [
    {
     "data": {
      "text/plain": [
       "30522"
      ]
     },
     "execution_count": 175,
     "metadata": {},
     "output_type": "execute_result"
    }
   ],
   "source": [
    "from transformers import BertTokenizer\n",
    "bert_tokenizer = BertTokenizer.from_pretrained('bert-base-uncased')\n",
    "len(bert_tokenizer.vocab)"
   ]
  },
  {
   "cell_type": "code",
   "execution_count": 176,
   "metadata": {},
   "outputs": [
    {
     "data": {
      "text/plain": [
       "{'input_ids': tensor([[  101,  5650,  2003,  1999, 10288, 24759,  5555,  6321,  2206,  1996,\n",
       "          2317, 10442,   102,  3582,  1996,  2317, 10442,  1010,  9253,   102]]), 'token_type_ids': tensor([[0, 0, 0, 0, 0, 0, 0, 0, 0, 0, 0, 0, 0, 1, 1, 1, 1, 1, 1, 1]]), 'attention_mask': tensor([[1, 1, 1, 1, 1, 1, 1, 1, 1, 1, 1, 1, 1, 1, 1, 1, 1, 1, 1, 1]])}"
      ]
     },
     "execution_count": 176,
     "metadata": {},
     "output_type": "execute_result"
    }
   ],
   "source": [
    "sentence1 = 'Alice is inexplicably following the white rabbit'\n",
    "sentence2 = 'Follow the white rabbit, Neo'\n",
    "tokens = bert_tokenizer(sentence1, sentence2, return_tensors='pt')\n",
    "tokens"
   ]
  },
  {
   "cell_type": "code",
   "execution_count": 177,
   "metadata": {},
   "outputs": [
    {
     "name": "stdout",
     "output_type": "stream",
     "text": [
      "['[CLS]', 'alice', 'is', 'in', '##ex', '##pl', '##ica', '##bly', 'following', 'the', 'white', 'rabbit', '[SEP]', 'follow', 'the', 'white', 'rabbit', ',', 'neo', '[SEP]']\n"
     ]
    }
   ],
   "source": [
    "print(bert_tokenizer.convert_ids_to_tokens(tokens['input_ids'][0]))"
   ]
  },
  {
   "cell_type": "code",
   "execution_count": 178,
   "metadata": {},
   "outputs": [
    {
     "name": "stdout",
     "output_type": "stream",
     "text": [
      "<class 'transformers.models.bert.tokenization_bert_fast.BertTokenizerFast'>\n"
     ]
    }
   ],
   "source": [
    "from transformers import AutoTokenizer\n",
    "auto_tokenizer = AutoTokenizer.from_pretrained('bert-base-uncased')\n",
    "print(auto_tokenizer.__class__)"
   ]
  },
  {
   "cell_type": "markdown",
   "metadata": {},
   "source": [
    "## Input Embeddings\n",
    "\n",
    "![](images/bert_input_embed.png)"
   ]
  },
  {
   "cell_type": "code",
   "execution_count": 179,
   "metadata": {},
   "outputs": [
    {
     "data": {
      "text/plain": [
       "BertEmbeddings(\n",
       "  (word_embeddings): Embedding(30522, 768, padding_idx=0)\n",
       "  (position_embeddings): Embedding(512, 768)\n",
       "  (token_type_embeddings): Embedding(2, 768)\n",
       "  (LayerNorm): LayerNorm((768,), eps=1e-12, elementwise_affine=True)\n",
       "  (dropout): Dropout(p=0.1, inplace=False)\n",
       ")"
      ]
     },
     "execution_count": 179,
     "metadata": {},
     "output_type": "execute_result"
    }
   ],
   "source": [
    "input_embeddings = bert_model.embeddings\n",
    "input_embeddings"
   ]
  },
  {
   "cell_type": "code",
   "execution_count": 180,
   "metadata": {},
   "outputs": [
    {
     "data": {
      "text/plain": [
       "Embedding(30522, 768, padding_idx=0)"
      ]
     },
     "execution_count": 180,
     "metadata": {},
     "output_type": "execute_result"
    }
   ],
   "source": [
    "token_embeddings = input_embeddings.word_embeddings\n",
    "token_embeddings"
   ]
  },
  {
   "cell_type": "code",
   "execution_count": 181,
   "metadata": {},
   "outputs": [
    {
     "data": {
      "text/plain": [
       "tensor([[[ 1.3630e-02, -2.6490e-02, -2.3503e-02,  ...,  8.6805e-03,\n",
       "           7.1340e-03,  1.5147e-02],\n",
       "         [-6.9710e-02, -8.8202e-02,  5.0619e-03,  ...,  1.4105e-02,\n",
       "           2.1815e-02, -1.3769e-02],\n",
       "         [-3.6044e-02, -2.4606e-02, -2.5735e-02,  ...,  3.3691e-03,\n",
       "          -1.8300e-03,  2.6855e-02],\n",
       "         ...,\n",
       "         [ 5.2089e-05, -1.0468e-02, -9.9103e-03,  ...,  1.4558e-02,\n",
       "           1.3217e-02,  2.2406e-02],\n",
       "         [-3.5037e-02, -7.2933e-02, -3.6124e-02,  ..., -5.7723e-02,\n",
       "          -5.5074e-03,  7.2688e-03],\n",
       "         [-1.4521e-02, -9.9615e-03,  6.0263e-03,  ..., -2.5035e-02,\n",
       "           4.6379e-03, -1.5378e-03]]], grad_fn=<EmbeddingBackward>)"
      ]
     },
     "execution_count": 181,
     "metadata": {},
     "output_type": "execute_result"
    }
   ],
   "source": [
    "input_token_emb = token_embeddings(tokens['input_ids'])\n",
    "input_token_emb"
   ]
  },
  {
   "cell_type": "code",
   "execution_count": 182,
   "metadata": {},
   "outputs": [
    {
     "data": {
      "text/plain": [
       "Embedding(512, 768)"
      ]
     },
     "execution_count": 182,
     "metadata": {},
     "output_type": "execute_result"
    }
   ],
   "source": [
    "position_embeddings = input_embeddings.position_embeddings\n",
    "position_embeddings"
   ]
  },
  {
   "cell_type": "code",
   "execution_count": 183,
   "metadata": {},
   "outputs": [
    {
     "data": {
      "text/plain": [
       "tensor([[  0,   1,   2,   3,   4,   5,   6,   7,   8,   9,  10,  11,  12,  13,\n",
       "          14,  15,  16,  17,  18,  19,  20,  21,  22,  23,  24,  25,  26,  27,\n",
       "          28,  29,  30,  31,  32,  33,  34,  35,  36,  37,  38,  39,  40,  41,\n",
       "          42,  43,  44,  45,  46,  47,  48,  49,  50,  51,  52,  53,  54,  55,\n",
       "          56,  57,  58,  59,  60,  61,  62,  63,  64,  65,  66,  67,  68,  69,\n",
       "          70,  71,  72,  73,  74,  75,  76,  77,  78,  79,  80,  81,  82,  83,\n",
       "          84,  85,  86,  87,  88,  89,  90,  91,  92,  93,  94,  95,  96,  97,\n",
       "          98,  99, 100, 101, 102, 103, 104, 105, 106, 107, 108, 109, 110, 111,\n",
       "         112, 113, 114, 115, 116, 117, 118, 119, 120, 121, 122, 123, 124, 125,\n",
       "         126, 127, 128, 129, 130, 131, 132, 133, 134, 135, 136, 137, 138, 139,\n",
       "         140, 141, 142, 143, 144, 145, 146, 147, 148, 149, 150, 151, 152, 153,\n",
       "         154, 155, 156, 157, 158, 159, 160, 161, 162, 163, 164, 165, 166, 167,\n",
       "         168, 169, 170, 171, 172, 173, 174, 175, 176, 177, 178, 179, 180, 181,\n",
       "         182, 183, 184, 185, 186, 187, 188, 189, 190, 191, 192, 193, 194, 195,\n",
       "         196, 197, 198, 199, 200, 201, 202, 203, 204, 205, 206, 207, 208, 209,\n",
       "         210, 211, 212, 213, 214, 215, 216, 217, 218, 219, 220, 221, 222, 223,\n",
       "         224, 225, 226, 227, 228, 229, 230, 231, 232, 233, 234, 235, 236, 237,\n",
       "         238, 239, 240, 241, 242, 243, 244, 245, 246, 247, 248, 249, 250, 251,\n",
       "         252, 253, 254, 255, 256, 257, 258, 259, 260, 261, 262, 263, 264, 265,\n",
       "         266, 267, 268, 269, 270, 271, 272, 273, 274, 275, 276, 277, 278, 279,\n",
       "         280, 281, 282, 283, 284, 285, 286, 287, 288, 289, 290, 291, 292, 293,\n",
       "         294, 295, 296, 297, 298, 299, 300, 301, 302, 303, 304, 305, 306, 307,\n",
       "         308, 309, 310, 311, 312, 313, 314, 315, 316, 317, 318, 319, 320, 321,\n",
       "         322, 323, 324, 325, 326, 327, 328, 329, 330, 331, 332, 333, 334, 335,\n",
       "         336, 337, 338, 339, 340, 341, 342, 343, 344, 345, 346, 347, 348, 349,\n",
       "         350, 351, 352, 353, 354, 355, 356, 357, 358, 359, 360, 361, 362, 363,\n",
       "         364, 365, 366, 367, 368, 369, 370, 371, 372, 373, 374, 375, 376, 377,\n",
       "         378, 379, 380, 381, 382, 383, 384, 385, 386, 387, 388, 389, 390, 391,\n",
       "         392, 393, 394, 395, 396, 397, 398, 399, 400, 401, 402, 403, 404, 405,\n",
       "         406, 407, 408, 409, 410, 411, 412, 413, 414, 415, 416, 417, 418, 419,\n",
       "         420, 421, 422, 423, 424, 425, 426, 427, 428, 429, 430, 431, 432, 433,\n",
       "         434, 435, 436, 437, 438, 439, 440, 441, 442, 443, 444, 445, 446, 447,\n",
       "         448, 449, 450, 451, 452, 453, 454, 455, 456, 457, 458, 459, 460, 461,\n",
       "         462, 463, 464, 465, 466, 467, 468, 469, 470, 471, 472, 473, 474, 475,\n",
       "         476, 477, 478, 479, 480, 481, 482, 483, 484, 485, 486, 487, 488, 489,\n",
       "         490, 491, 492, 493, 494, 495, 496, 497, 498, 499, 500, 501, 502, 503,\n",
       "         504, 505, 506, 507, 508, 509, 510, 511]])"
      ]
     },
     "execution_count": 183,
     "metadata": {},
     "output_type": "execute_result"
    }
   ],
   "source": [
    "position_ids = torch.arange(512).expand((1, -1))\n",
    "position_ids"
   ]
  },
  {
   "cell_type": "code",
   "execution_count": 184,
   "metadata": {},
   "outputs": [
    {
     "data": {
      "text/plain": [
       "tensor([[[ 1.7505e-02, -2.5631e-02, -3.6642e-02,  ...,  3.3437e-05,\n",
       "           6.8312e-04,  1.5441e-02],\n",
       "         [ 7.7580e-03,  2.2613e-03, -1.9444e-02,  ...,  2.8910e-02,\n",
       "           2.9753e-02, -5.3247e-03],\n",
       "         [-1.1287e-02, -1.9644e-03, -1.1573e-02,  ...,  1.4908e-02,\n",
       "           1.8741e-02, -7.3140e-03],\n",
       "         ...,\n",
       "         [-9.2809e-03,  8.3268e-03, -4.1643e-03,  ...,  3.4903e-02,\n",
       "          -1.8319e-02, -2.9017e-03],\n",
       "         [-8.5999e-03,  3.2205e-04, -2.1249e-03,  ...,  2.7744e-02,\n",
       "          -7.2760e-03, -2.0280e-03],\n",
       "         [-3.4622e-04, -8.3709e-04, -2.2228e-02,  ...,  2.3493e-02,\n",
       "          -4.5198e-04, -5.7741e-04]]], grad_fn=<EmbeddingBackward>)"
      ]
     },
     "execution_count": 184,
     "metadata": {},
     "output_type": "execute_result"
    }
   ],
   "source": [
    "seq_length = tokens['input_ids'].size(1)\n",
    "input_pos_emb = position_embeddings(position_ids[:, :seq_length])\n",
    "input_pos_emb"
   ]
  },
  {
   "cell_type": "code",
   "execution_count": 185,
   "metadata": {},
   "outputs": [
    {
     "data": {
      "text/plain": [
       "Embedding(2, 768)"
      ]
     },
     "execution_count": 185,
     "metadata": {},
     "output_type": "execute_result"
    }
   ],
   "source": [
    "segment_embeddings = input_embeddings.token_type_embeddings\n",
    "segment_embeddings"
   ]
  },
  {
   "cell_type": "code",
   "execution_count": 186,
   "metadata": {},
   "outputs": [
    {
     "data": {
      "text/plain": [
       "tensor([[[ 0.0004,  0.0110,  0.0037,  ..., -0.0066, -0.0034, -0.0086],\n",
       "         [ 0.0004,  0.0110,  0.0037,  ..., -0.0066, -0.0034, -0.0086],\n",
       "         [ 0.0004,  0.0110,  0.0037,  ..., -0.0066, -0.0034, -0.0086],\n",
       "         ...,\n",
       "         [ 0.0011, -0.0030, -0.0032,  ...,  0.0047, -0.0052, -0.0112],\n",
       "         [ 0.0011, -0.0030, -0.0032,  ...,  0.0047, -0.0052, -0.0112],\n",
       "         [ 0.0011, -0.0030, -0.0032,  ...,  0.0047, -0.0052, -0.0112]]],\n",
       "       grad_fn=<EmbeddingBackward>)"
      ]
     },
     "execution_count": 186,
     "metadata": {},
     "output_type": "execute_result"
    }
   ],
   "source": [
    "input_seg_emb = segment_embeddings(tokens['token_type_ids'])\n",
    "input_seg_emb"
   ]
  },
  {
   "cell_type": "code",
   "execution_count": 187,
   "metadata": {},
   "outputs": [
    {
     "data": {
      "text/plain": [
       "tensor([[[ 0.0316, -0.0411, -0.0564,  ...,  0.0021,  0.0044,  0.0219],\n",
       "         [-0.0615, -0.0750, -0.0107,  ...,  0.0364,  0.0482, -0.0277],\n",
       "         [-0.0469, -0.0156, -0.0336,  ...,  0.0117,  0.0135,  0.0109],\n",
       "         ...,\n",
       "         [-0.0081, -0.0051, -0.0172,  ...,  0.0542, -0.0103,  0.0083],\n",
       "         [-0.0425, -0.0756, -0.0414,  ..., -0.0252, -0.0180, -0.0060],\n",
       "         [-0.0138, -0.0138, -0.0194,  ...,  0.0032, -0.0011, -0.0133]]],\n",
       "       grad_fn=<AddBackward0>)"
      ]
     },
     "execution_count": 187,
     "metadata": {},
     "output_type": "execute_result"
    }
   ],
   "source": [
    "input_emb = input_token_emb + input_pos_emb + input_seg_emb\n",
    "input_emb"
   ]
  },
  {
   "cell_type": "markdown",
   "metadata": {},
   "source": [
    "## Pretraining Tasks"
   ]
  },
  {
   "cell_type": "markdown",
   "metadata": {},
   "source": [
    "### Masked Language Model (MLM)\n",
    "\n",
    "![](images/bert_mlm.png)"
   ]
  },
  {
   "cell_type": "code",
   "execution_count": 188,
   "metadata": {},
   "outputs": [
    {
     "data": {
      "text/plain": [
       "[101, 5650, 2003, 1999, 10288, 24759, 5555, 6321, 2206, 1996, 2317, 10442, 102]"
      ]
     },
     "execution_count": 188,
     "metadata": {},
     "output_type": "execute_result"
    }
   ],
   "source": [
    "sentence = 'Alice is inexplicably following the white rabbit'\n",
    "tokens = bert_tokenizer(sentence)\n",
    "tokens['input_ids']"
   ]
  },
  {
   "cell_type": "code",
   "execution_count": 189,
   "metadata": {},
   "outputs": [
    {
     "data": {
      "text/plain": [
       "{'input_ids': tensor([[  101,  5650,  2003,  1999, 10288, 24759,   103,  6321,  2206,  1996,\n",
       "          2317, 10442,   102]]), 'token_type_ids': tensor([[0, 0, 0, 0, 0, 0, 0, 0, 0, 0, 0, 0, 0]]), 'attention_mask': tensor([[1, 1, 1, 1, 1, 1, 1, 1, 1, 1, 1, 1, 1]]), 'labels': tensor([[-100, -100, -100, -100, -100, -100, 5555, -100, -100, -100, -100, -100,\n",
       "         -100]])}"
      ]
     },
     "execution_count": 189,
     "metadata": {},
     "output_type": "execute_result"
    }
   ],
   "source": [
    "from transformers import DataCollatorForLanguageModeling\n",
    "torch.manual_seed(41)\n",
    "data_collator = DataCollatorForLanguageModeling(tokenizer=bert_tokenizer, mlm_probability=0.15)\n",
    "mlm_tokens = data_collator([tokens])\n",
    "mlm_tokens"
   ]
  },
  {
   "cell_type": "code",
   "execution_count": 190,
   "metadata": {
    "scrolled": true
   },
   "outputs": [
    {
     "name": "stdout",
     "output_type": "stream",
     "text": [
      "['[CLS]', 'alice', 'is', 'in', '##ex', '##pl', '##ica', '##bly', 'following', 'the', 'white', 'rabbit', '[SEP]']\n",
      "['[CLS]', 'alice', 'is', 'in', '##ex', '##pl', '[MASK]', '##bly', 'following', 'the', 'white', 'rabbit', '[SEP]']\n"
     ]
    }
   ],
   "source": [
    "print(bert_tokenizer.convert_ids_to_tokens(tokens['input_ids']))\n",
    "print(bert_tokenizer.convert_ids_to_tokens(mlm_tokens['input_ids'][0]))"
   ]
  },
  {
   "cell_type": "markdown",
   "metadata": {},
   "source": [
    "### Next Sentence Prediction (NSP)\n",
    "\n",
    "![](images/bert_nsp.png)"
   ]
  },
  {
   "cell_type": "code",
   "execution_count": 191,
   "metadata": {},
   "outputs": [
    {
     "data": {
      "text/plain": [
       "BertPooler(\n",
       "  (dense): Linear(in_features=768, out_features=768, bias=True)\n",
       "  (activation): Tanh()\n",
       ")"
      ]
     },
     "execution_count": 191,
     "metadata": {},
     "output_type": "execute_result"
    }
   ],
   "source": [
    "bert_model.pooler"
   ]
  },
  {
   "cell_type": "code",
   "execution_count": 192,
   "metadata": {},
   "outputs": [
    {
     "data": {
      "text/plain": [
       "{'input_ids': tensor([[  101,  5650,  4076,  1996,  2317, 10442,   102,  3582,  1996,  2317,\n",
       "         10442,  9253,   102]]), 'token_type_ids': tensor([[0, 0, 0, 0, 0, 0, 0, 1, 1, 1, 1, 1, 1]]), 'attention_mask': tensor([[1, 1, 1, 1, 1, 1, 1, 1, 1, 1, 1, 1, 1]])}"
      ]
     },
     "execution_count": 192,
     "metadata": {},
     "output_type": "execute_result"
    }
   ],
   "source": [
    "sentence1 = 'alice follows the white rabbit'\n",
    "sentence2 = 'follow the white rabbit neo'\n",
    "bert_tokenizer(sentence1, sentence2, return_tensors='pt')"
   ]
  },
  {
   "cell_type": "markdown",
   "metadata": {},
   "source": [
    "## Outputs"
   ]
  },
  {
   "cell_type": "code",
   "execution_count": 193,
   "metadata": {},
   "outputs": [
    {
     "data": {
      "text/plain": [
       "'And, so far as they knew, they were quite right.'"
      ]
     },
     "execution_count": 193,
     "metadata": {},
     "output_type": "execute_result"
    }
   ],
   "source": [
    "sentence = train_dataset[0]['sentence']\n",
    "sentence"
   ]
  },
  {
   "cell_type": "code",
   "execution_count": 194,
   "metadata": {},
   "outputs": [
    {
     "data": {
      "text/plain": [
       "{'input_ids': tensor([[ 101, 1998, 1010, 2061, 2521, 2004, 2027, 2354, 1010, 2027, 2020, 3243,\n",
       "         2157, 1012,  102,    0,    0,    0,    0,    0,    0,    0,    0,    0,\n",
       "            0,    0,    0,    0,    0,    0]]), 'token_type_ids': tensor([[0, 0, 0, 0, 0, 0, 0, 0, 0, 0, 0, 0, 0, 0, 0, 0, 0, 0, 0, 0, 0, 0, 0, 0,\n",
       "         0, 0, 0, 0, 0, 0]]), 'attention_mask': tensor([[1, 1, 1, 1, 1, 1, 1, 1, 1, 1, 1, 1, 1, 1, 1, 0, 0, 0, 0, 0, 0, 0, 0, 0,\n",
       "         0, 0, 0, 0, 0, 0]])}"
      ]
     },
     "execution_count": 194,
     "metadata": {},
     "output_type": "execute_result"
    }
   ],
   "source": [
    "tokens = bert_tokenizer(sentence,\n",
    "                        padding='max_length',\n",
    "                        max_length=30, \n",
    "                        truncation=True, \n",
    "                        return_tensors=\"pt\")\n",
    "tokens"
   ]
  },
  {
   "cell_type": "code",
   "execution_count": 195,
   "metadata": {},
   "outputs": [
    {
     "data": {
      "text/plain": [
       "odict_keys(['last_hidden_state', 'pooler_output', 'hidden_states', 'attentions'])"
      ]
     },
     "execution_count": 195,
     "metadata": {},
     "output_type": "execute_result"
    }
   ],
   "source": [
    "bert_model.eval()\n",
    "out = bert_model(input_ids=tokens['input_ids'], \n",
    "                 attention_mask=tokens['attention_mask'], \n",
    "                 output_attentions=True,\n",
    "                 output_hidden_states=True,\n",
    "                 return_dict=True)\n",
    "out.keys()"
   ]
  },
  {
   "cell_type": "markdown",
   "metadata": {},
   "source": [
    "![](images/bert_embeddings.png)"
   ]
  },
  {
   "cell_type": "code",
   "execution_count": 196,
   "metadata": {},
   "outputs": [
    {
     "data": {
      "text/plain": [
       "tensor([[ 0.0100,  0.8575, -0.5429,  ...,  0.1661,  0.4241, -0.2035],\n",
       "        [-0.3705,  1.1001,  0.3326,  ..., -0.4595,  0.0656, -0.5644],\n",
       "        [-0.2947,  0.5797,  0.1997,  ..., -0.2929, -0.3062,  0.6690],\n",
       "        ...,\n",
       "        [ 0.0691,  0.7393,  0.0553,  ..., -0.1853, -0.4896, -0.4832],\n",
       "        [-0.1566,  0.6177,  0.1536,  ..., -0.1396,  0.0904, -0.4917],\n",
       "        [ 0.7511,  0.3110, -0.3116,  ...,  0.3498, -0.1740, -0.2337]],\n",
       "       grad_fn=<SliceBackward>)"
      ]
     },
     "execution_count": 196,
     "metadata": {},
     "output_type": "execute_result"
    }
   ],
   "source": [
    "last_hidden_batch = out['last_hidden_state']\n",
    "last_hidden_sentence = last_hidden_batch[0]\n",
    "# Removes hidden states for [PAD] tokens using the mask\n",
    "mask = tokens['attention_mask'].squeeze().bool()\n",
    "embeddings = last_hidden_sentence[mask]\n",
    "# Removes embeddings for the first [CLS] and last [SEP] tokens\n",
    "embeddings[1:-1]"
   ]
  },
  {
   "cell_type": "code",
   "execution_count": 197,
   "metadata": {},
   "outputs": [
    {
     "data": {
      "text/plain": [
       "tensor([[ 0.0100,  0.8575, -0.5429,  ...,  0.1661,  0.4241, -0.2035],\n",
       "        [-0.3705,  1.1001,  0.3326,  ..., -0.4595,  0.0656, -0.5644],\n",
       "        [-0.2947,  0.5797,  0.1997,  ..., -0.2929, -0.3062,  0.6690],\n",
       "        ...,\n",
       "        [ 0.0691,  0.7393,  0.0552,  ..., -0.1853, -0.4896, -0.4832],\n",
       "        [-0.1566,  0.6177,  0.1536,  ..., -0.1396,  0.0904, -0.4917],\n",
       "        [ 0.7511,  0.3110, -0.3116,  ...,  0.3498, -0.1740, -0.2337]],\n",
       "       device='cuda:0')"
      ]
     },
     "execution_count": 197,
     "metadata": {},
     "output_type": "execute_result"
    }
   ],
   "source": [
    "get_embeddings(bert_flair, sentence)"
   ]
  },
  {
   "cell_type": "code",
   "execution_count": 198,
   "metadata": {},
   "outputs": [
    {
     "name": "stdout",
     "output_type": "stream",
     "text": [
      "13\n",
      "torch.Size([1, 30, 768])\n"
     ]
    }
   ],
   "source": [
    "print(len(out['hidden_states']))\n",
    "print(out['hidden_states'][0].shape)"
   ]
  },
  {
   "cell_type": "code",
   "execution_count": 199,
   "metadata": {},
   "outputs": [
    {
     "data": {
      "text/plain": [
       "tensor(True)"
      ]
     },
     "execution_count": 199,
     "metadata": {},
     "output_type": "execute_result"
    }
   ],
   "source": [
    "(out['hidden_states'][0] == bert_model.embeddings(tokens['input_ids'])).all()"
   ]
  },
  {
   "cell_type": "code",
   "execution_count": 200,
   "metadata": {},
   "outputs": [
    {
     "data": {
      "text/plain": [
       "tensor(True)"
      ]
     },
     "execution_count": 200,
     "metadata": {},
     "output_type": "execute_result"
    }
   ],
   "source": [
    "(out['hidden_states'][-1] == out['last_hidden_state']).all()"
   ]
  },
  {
   "cell_type": "code",
   "execution_count": 201,
   "metadata": {},
   "outputs": [
    {
     "data": {
      "text/plain": [
       "tensor(True)"
      ]
     },
     "execution_count": 201,
     "metadata": {},
     "output_type": "execute_result"
    }
   ],
   "source": [
    "(out['pooler_output'] == bert_model.pooler(out['last_hidden_state'])).all()"
   ]
  },
  {
   "cell_type": "code",
   "execution_count": 202,
   "metadata": {},
   "outputs": [
    {
     "name": "stdout",
     "output_type": "stream",
     "text": [
      "12\n",
      "torch.Size([1, 12, 30, 30])\n"
     ]
    }
   ],
   "source": [
    "print(len(out['attentions']))\n",
    "print(out['attentions'][0].shape)"
   ]
  },
  {
   "cell_type": "markdown",
   "metadata": {},
   "source": [
    "## Model IV - Classifying using BERT"
   ]
  },
  {
   "cell_type": "code",
   "execution_count": 203,
   "metadata": {},
   "outputs": [],
   "source": [
    "class BERTClassifier(nn.Module):\n",
    "    def __init__(self, bert_model, ff_units, n_outputs, dropout=0.3):\n",
    "        super().__init__()\n",
    "        self.d_model = bert_model.config.dim\n",
    "        self.n_outputs = n_outputs\n",
    "        self.encoder = bert_model\n",
    "        self.mlp = nn.Sequential(\n",
    "            nn.Linear(self.d_model, ff_units),\n",
    "            nn.ReLU(),\n",
    "            nn.Dropout(dropout),\n",
    "            nn.Linear(ff_units, n_outputs)\n",
    "        )\n",
    "        \n",
    "    def encode(self, source, source_mask=None):\n",
    "        states = self.encoder(input_ids=source, \n",
    "                              attention_mask=source_mask)[0]\n",
    "        cls_state = states[:, 0]\n",
    "        return cls_state\n",
    "\n",
    "    def forward(self, X):\n",
    "        source_mask = (X > 0)\n",
    "        # Featurizer\n",
    "        cls_state = self.encode(X, source_mask)\n",
    "        # Classifier\n",
    "        out = self.mlp(cls_state)\n",
    "        return out"
   ]
  },
  {
   "cell_type": "markdown",
   "metadata": {},
   "source": [
    "### Data Preparation"
   ]
  },
  {
   "cell_type": "code",
   "execution_count": 204,
   "metadata": {},
   "outputs": [],
   "source": [
    "def tokenize_dataset(hf_dataset, sentence_field, label_field, tokenizer, **kwargs):\n",
    "    sentences = hf_dataset[sentence_field]\n",
    "    token_ids = tokenizer(sentences, return_tensors='pt', **kwargs)['input_ids']\n",
    "    labels = torch.as_tensor(hf_dataset[label_field])\n",
    "    dataset = TensorDataset(token_ids, labels)\n",
    "    return dataset"
   ]
  },
  {
   "cell_type": "code",
   "execution_count": 205,
   "metadata": {},
   "outputs": [],
   "source": [
    "auto_tokenizer = AutoTokenizer.from_pretrained('distilbert-base-uncased')\n",
    "tokenizer_kwargs = dict(truncation=True, padding=True, max_length=30, add_special_tokens=True)"
   ]
  },
  {
   "cell_type": "code",
   "execution_count": 206,
   "metadata": {},
   "outputs": [
    {
     "data": {
      "application/vnd.jupyter.widget-view+json": {
       "model_id": "3668556b9d86415c98ee39326fd90b63",
       "version_major": 2,
       "version_minor": 0
      },
      "text/plain": [
       "HBox(children=(FloatProgress(value=0.0, max=3081.0), HTML(value='')))"
      ]
     },
     "metadata": {},
     "output_type": "display_data"
    },
    {
     "name": "stdout",
     "output_type": "stream",
     "text": [
      "\n"
     ]
    },
    {
     "data": {
      "application/vnd.jupyter.widget-view+json": {
       "model_id": "be3af643eece4a8db360e7fa2e18d8df",
       "version_major": 2,
       "version_minor": 0
      },
      "text/plain": [
       "HBox(children=(FloatProgress(value=0.0, max=771.0), HTML(value='')))"
      ]
     },
     "metadata": {},
     "output_type": "display_data"
    },
    {
     "name": "stdout",
     "output_type": "stream",
     "text": [
      "\n"
     ]
    }
   ],
   "source": [
    "train_dataset_float = train_dataset.map(lambda row: {'labels': [float(row['labels'])]})\n",
    "test_dataset_float = test_dataset.map(lambda row: {'labels': [float(row['labels'])]})\n",
    "\n",
    "train_tensor_dataset = tokenize_dataset(train_dataset_float, 'sentence', 'labels', auto_tokenizer, **tokenizer_kwargs)\n",
    "test_tensor_dataset = tokenize_dataset(test_dataset_float, 'sentence', 'labels', auto_tokenizer, **tokenizer_kwargs)\n",
    "\n",
    "generator = torch.Generator()\n",
    "train_loader = DataLoader(train_tensor_dataset, batch_size=4, shuffle=True, generator=generator)\n",
    "test_loader = DataLoader(test_tensor_dataset, batch_size=8)"
   ]
  },
  {
   "cell_type": "markdown",
   "metadata": {},
   "source": [
    "### Model Configuration & Training"
   ]
  },
  {
   "cell_type": "code",
   "execution_count": 207,
   "metadata": {},
   "outputs": [],
   "source": [
    "torch.manual_seed(41)\n",
    "bert_model = AutoModel.from_pretrained(\"distilbert-base-uncased\")\n",
    "model = BERTClassifier(bert_model, 128, n_outputs=1)\n",
    "loss_fn = nn.BCEWithLogitsLoss()\n",
    "optimizer = optim.Adam(model.parameters(), lr=1e-5)"
   ]
  },
  {
   "cell_type": "code",
   "execution_count": 208,
   "metadata": {},
   "outputs": [],
   "source": [
    "sbs_bert = StepByStep(model, loss_fn, optimizer)\n",
    "sbs_bert.set_loaders(train_loader, test_loader)\n",
    "sbs_bert.train(1)"
   ]
  },
  {
   "cell_type": "code",
   "execution_count": 209,
   "metadata": {},
   "outputs": [
    {
     "data": {
      "text/plain": [
       "66461441"
      ]
     },
     "execution_count": 209,
     "metadata": {},
     "output_type": "execute_result"
    }
   ],
   "source": [
    "sbs_bert.count_parameters()"
   ]
  },
  {
   "cell_type": "code",
   "execution_count": 210,
   "metadata": {},
   "outputs": [
    {
     "data": {
      "text/plain": [
       "tensor([[424, 440],\n",
       "        [317, 331]])"
      ]
     },
     "execution_count": 210,
     "metadata": {},
     "output_type": "execute_result"
    }
   ],
   "source": [
    "StepByStep.loader_apply(test_loader, sbs_bert.correct)"
   ]
  },
  {
   "cell_type": "markdown",
   "metadata": {},
   "source": [
    "# Fine-Tuning with HuggingFace"
   ]
  },
  {
   "cell_type": "markdown",
   "metadata": {},
   "source": [
    "## Sequence Classification (or Regression)"
   ]
  },
  {
   "cell_type": "code",
   "execution_count": 211,
   "metadata": {},
   "outputs": [
    {
     "name": "stderr",
     "output_type": "stream",
     "text": [
      "Some weights of the model checkpoint at distilbert-base-uncased were not used when initializing DistilBertForSequenceClassification: ['vocab_transform.weight', 'vocab_transform.bias', 'vocab_layer_norm.weight', 'vocab_layer_norm.bias', 'vocab_projector.weight', 'vocab_projector.bias']\n",
      "- This IS expected if you are initializing DistilBertForSequenceClassification from the checkpoint of a model trained on another task or with another architecture (e.g. initializing a BertForSequenceClassification model from a BertForPreTraining model).\n",
      "- This IS NOT expected if you are initializing DistilBertForSequenceClassification from the checkpoint of a model that you expect to be exactly identical (initializing a BertForSequenceClassification model from a BertForSequenceClassification model).\n",
      "Some weights of DistilBertForSequenceClassification were not initialized from the model checkpoint at distilbert-base-uncased and are newly initialized: ['pre_classifier.weight', 'pre_classifier.bias', 'classifier.weight', 'classifier.bias']\n",
      "You should probably TRAIN this model on a down-stream task to be able to use it for predictions and inference.\n"
     ]
    }
   ],
   "source": [
    "from transformers import DistilBertForSequenceClassification\n",
    "torch.manual_seed(42)\n",
    "bert_cls = DistilBertForSequenceClassification.from_pretrained('distilbert-base-uncased', num_labels=2)"
   ]
  },
  {
   "cell_type": "code",
   "execution_count": 212,
   "metadata": {},
   "outputs": [
    {
     "name": "stderr",
     "output_type": "stream",
     "text": [
      "Some weights of the model checkpoint at distilbert-base-uncased were not used when initializing DistilBertForSequenceClassification: ['vocab_transform.weight', 'vocab_transform.bias', 'vocab_layer_norm.weight', 'vocab_layer_norm.bias', 'vocab_projector.weight', 'vocab_projector.bias']\n",
      "- This IS expected if you are initializing DistilBertForSequenceClassification from the checkpoint of a model trained on another task or with another architecture (e.g. initializing a BertForSequenceClassification model from a BertForPreTraining model).\n",
      "- This IS NOT expected if you are initializing DistilBertForSequenceClassification from the checkpoint of a model that you expect to be exactly identical (initializing a BertForSequenceClassification model from a BertForSequenceClassification model).\n",
      "Some weights of DistilBertForSequenceClassification were not initialized from the model checkpoint at distilbert-base-uncased and are newly initialized: ['pre_classifier.weight', 'pre_classifier.bias', 'classifier.weight', 'classifier.bias']\n",
      "You should probably TRAIN this model on a down-stream task to be able to use it for predictions and inference.\n"
     ]
    },
    {
     "name": "stdout",
     "output_type": "stream",
     "text": [
      "<class 'transformers.models.distilbert.modeling_distilbert.DistilBertForSequenceClassification'>\n"
     ]
    }
   ],
   "source": [
    "from transformers import AutoModelForSequenceClassification\n",
    "auto_cls = AutoModelForSequenceClassification.from_pretrained('distilbert-base-uncased', num_labels=2)\n",
    "print(auto_cls.__class__)"
   ]
  },
  {
   "cell_type": "markdown",
   "metadata": {},
   "source": [
    "## Tokenized Dataset"
   ]
  },
  {
   "cell_type": "code",
   "execution_count": 213,
   "metadata": {},
   "outputs": [],
   "source": [
    "auto_tokenizer = AutoTokenizer.from_pretrained('distilbert-base-uncased')\n",
    "def tokenize(row):\n",
    "    return auto_tokenizer(row['sentence'], \n",
    "                          truncation=True, \n",
    "                          padding='max_length',\n",
    "                          max_length=30)"
   ]
  },
  {
   "cell_type": "code",
   "execution_count": 214,
   "metadata": {},
   "outputs": [
    {
     "data": {
      "application/vnd.jupyter.widget-view+json": {
       "model_id": "bef768a50eeb4fba808a0b9cd37369b7",
       "version_major": 2,
       "version_minor": 0
      },
      "text/plain": [
       "HBox(children=(FloatProgress(value=0.0, max=4.0), HTML(value='')))"
      ]
     },
     "metadata": {},
     "output_type": "display_data"
    },
    {
     "name": "stdout",
     "output_type": "stream",
     "text": [
      "\n"
     ]
    },
    {
     "data": {
      "application/vnd.jupyter.widget-view+json": {
       "model_id": "f937f4ab79bc4b8c8cabbfee6bd46d38",
       "version_major": 2,
       "version_minor": 0
      },
      "text/plain": [
       "HBox(children=(FloatProgress(value=0.0, max=1.0), HTML(value='')))"
      ]
     },
     "metadata": {},
     "output_type": "display_data"
    },
    {
     "name": "stdout",
     "output_type": "stream",
     "text": [
      "\n"
     ]
    }
   ],
   "source": [
    "tokenized_train_dataset = train_dataset.map(tokenize, batched=True)\n",
    "tokenized_test_dataset = test_dataset.map(tokenize, batched=True)"
   ]
  },
  {
   "cell_type": "code",
   "execution_count": 215,
   "metadata": {},
   "outputs": [
    {
     "name": "stdout",
     "output_type": "stream",
     "text": [
      "{'attention_mask': [1, 1, 1, 1, 1, 1, 1, 1, 1, 1, 1, 1, 1, 1, 1, 0, 0, 0, 0, 0, 0, 0, 0, 0, 0, 0, 0, 0, 0, 0], 'input_ids': [101, 1998, 1010, 2061, 2521, 2004, 2027, 2354, 1010, 2027, 2020, 3243, 2157, 1012, 102, 0, 0, 0, 0, 0, 0, 0, 0, 0, 0, 0, 0, 0, 0, 0], 'labels': 0, 'sentence': 'And, so far as they knew, they were quite right.', 'source': 'wizoz10-1740.txt'}\n"
     ]
    }
   ],
   "source": [
    "print(tokenized_train_dataset[0])"
   ]
  },
  {
   "cell_type": "code",
   "execution_count": 216,
   "metadata": {},
   "outputs": [],
   "source": [
    "tokenized_train_dataset.set_format(type='torch', columns=['input_ids', 'attention_mask', 'labels'])\n",
    "tokenized_test_dataset.set_format(type='torch', columns=['input_ids', 'attention_mask', 'labels'])"
   ]
  },
  {
   "cell_type": "code",
   "execution_count": 217,
   "metadata": {},
   "outputs": [
    {
     "data": {
      "text/plain": [
       "{'attention_mask': tensor([1, 1, 1, 1, 1, 1, 1, 1, 1, 1, 1, 1, 1, 1, 1, 0, 0, 0, 0, 0, 0, 0, 0, 0,\n",
       "         0, 0, 0, 0, 0, 0]),\n",
       " 'input_ids': tensor([ 101, 1998, 1010, 2061, 2521, 2004, 2027, 2354, 1010, 2027, 2020, 3243,\n",
       "         2157, 1012,  102,    0,    0,    0,    0,    0,    0,    0,    0,    0,\n",
       "            0,    0,    0,    0,    0,    0]),\n",
       " 'labels': tensor(0)}"
      ]
     },
     "execution_count": 217,
     "metadata": {},
     "output_type": "execute_result"
    }
   ],
   "source": [
    "tokenized_train_dataset[0]"
   ]
  },
  {
   "cell_type": "markdown",
   "metadata": {},
   "source": [
    "## Trainer"
   ]
  },
  {
   "cell_type": "code",
   "execution_count": 218,
   "metadata": {},
   "outputs": [],
   "source": [
    "from transformers import Trainer\n",
    "trainer = Trainer(model=bert_cls, train_dataset=tokenized_train_dataset)"
   ]
  },
  {
   "cell_type": "code",
   "execution_count": 219,
   "metadata": {},
   "outputs": [
    {
     "data": {
      "text/plain": [
       "TrainingArguments(output_dir=tmp_trainer, overwrite_output_dir=False, do_train=False, do_eval=None, do_predict=False, evaluation_strategy=IntervalStrategy.NO, prediction_loss_only=False, per_device_train_batch_size=8, per_device_eval_batch_size=8, gradient_accumulation_steps=1, eval_accumulation_steps=None, learning_rate=5e-05, weight_decay=0.0, adam_beta1=0.9, adam_beta2=0.999, adam_epsilon=1e-08, max_grad_norm=1.0, num_train_epochs=3.0, max_steps=-1, lr_scheduler_type=SchedulerType.LINEAR, warmup_ratio=0.0, warmup_steps=0, logging_dir=runs/Apr21_20-33-20_MONSTER, logging_strategy=IntervalStrategy.STEPS, logging_first_step=False, logging_steps=500, save_strategy=IntervalStrategy.STEPS, save_steps=500, save_total_limit=None, no_cuda=False, seed=42, fp16=False, fp16_opt_level=O1, fp16_backend=auto, fp16_full_eval=False, local_rank=-1, tpu_num_cores=None, tpu_metrics_debug=False, debug=False, dataloader_drop_last=False, eval_steps=500, dataloader_num_workers=0, past_index=-1, run_name=tmp_trainer, disable_tqdm=False, remove_unused_columns=True, label_names=None, load_best_model_at_end=False, metric_for_best_model=None, greater_is_better=None, ignore_data_skip=False, sharded_ddp=[], deepspeed=None, label_smoothing_factor=0.0, adafactor=False, group_by_length=False, length_column_name=length, report_to=['tensorboard'], ddp_find_unused_parameters=None, dataloader_pin_memory=True, skip_memory_metrics=False, _n_gpu=1, mp_parameters=)"
      ]
     },
     "execution_count": 219,
     "metadata": {},
     "output_type": "execute_result"
    }
   ],
   "source": [
    "trainer.args"
   ]
  },
  {
   "cell_type": "code",
   "execution_count": 220,
   "metadata": {},
   "outputs": [],
   "source": [
    "from transformers import TrainingArguments\n",
    "training_args = TrainingArguments(\n",
    "    output_dir='output',\n",
    "    num_train_epochs=1,             \n",
    "    per_device_train_batch_size=1,\n",
    "    per_device_eval_batch_size=8,\n",
    "    evaluation_strategy='steps',\n",
    "    eval_steps=300,\n",
    "    logging_steps=300,\n",
    "    gradient_accumulation_steps=8,\n",
    ")"
   ]
  },
  {
   "cell_type": "code",
   "execution_count": 221,
   "metadata": {},
   "outputs": [],
   "source": [
    "def compute_metrics(eval_pred):\n",
    "    predictions = eval_pred.predictions\n",
    "    labels = eval_pred.label_ids\n",
    "    predictions = np.argmax(predictions, axis=1)\n",
    "    return {\"accuracy\": (predictions == labels).mean()}"
   ]
  },
  {
   "cell_type": "code",
   "execution_count": 222,
   "metadata": {},
   "outputs": [],
   "source": [
    "trainer = Trainer(model=bert_cls, \n",
    "                  args=training_args, \n",
    "                  train_dataset=tokenized_train_dataset, \n",
    "                  eval_dataset=tokenized_test_dataset,\n",
    "                  compute_metrics=compute_metrics)"
   ]
  },
  {
   "cell_type": "code",
   "execution_count": 223,
   "metadata": {},
   "outputs": [
    {
     "data": {
      "text/html": [
       "\n",
       "    <div>\n",
       "        <style>\n",
       "            /* Turns off some styling */\n",
       "            progress {\n",
       "                /* gets rid of default border in Firefox and Opera. */\n",
       "                border: none;\n",
       "                /* Needs to be in here for Safari polyfill so background images work as expected. */\n",
       "                background-size: auto;\n",
       "            }\n",
       "        </style>\n",
       "      \n",
       "      <progress value='385' max='385' style='width:300px; height:20px; vertical-align: middle;'></progress>\n",
       "      [385/385 01:19, Epoch 0/1]\n",
       "    </div>\n",
       "    <table border=\"1\" class=\"dataframe\">\n",
       "  <thead>\n",
       "    <tr style=\"text-align: left;\">\n",
       "      <th>Step</th>\n",
       "      <th>Training Loss</th>\n",
       "      <th>Validation Loss</th>\n",
       "      <th>Accuracy</th>\n",
       "      <th>Runtime</th>\n",
       "      <th>Samples Per Second</th>\n",
       "    </tr>\n",
       "  </thead>\n",
       "  <tbody>\n",
       "    <tr>\n",
       "      <td>300</td>\n",
       "      <td>0.194600</td>\n",
       "      <td>0.159694</td>\n",
       "      <td>0.953307</td>\n",
       "      <td>1.648500</td>\n",
       "      <td>467.697000</td>\n",
       "    </tr>\n",
       "  </tbody>\n",
       "</table><p>"
      ],
      "text/plain": [
       "<IPython.core.display.HTML object>"
      ]
     },
     "metadata": {},
     "output_type": "display_data"
    },
    {
     "data": {
      "text/plain": [
       "TrainOutput(global_step=385, training_loss=0.17661244776341822, metrics={'train_runtime': 80.0324, 'train_samples_per_second': 4.811, 'total_flos': 37119857544000.0, 'epoch': 1.0, 'init_mem_cpu_alloc_delta': 0, 'init_mem_gpu_alloc_delta': 0, 'init_mem_cpu_peaked_delta': 0, 'init_mem_gpu_peaked_delta': 0, 'train_mem_cpu_alloc_delta': 5025792, 'train_mem_gpu_alloc_delta': 806599168, 'train_mem_cpu_peaked_delta': 0, 'train_mem_gpu_peaked_delta': 96468992})"
      ]
     },
     "execution_count": 223,
     "metadata": {},
     "output_type": "execute_result"
    }
   ],
   "source": [
    "trainer.train()"
   ]
  },
  {
   "cell_type": "code",
   "execution_count": 224,
   "metadata": {},
   "outputs": [
    {
     "data": {
      "text/html": [
       "\n",
       "    <div>\n",
       "        <style>\n",
       "            /* Turns off some styling */\n",
       "            progress {\n",
       "                /* gets rid of default border in Firefox and Opera. */\n",
       "                border: none;\n",
       "                /* Needs to be in here for Safari polyfill so background images work as expected. */\n",
       "                background-size: auto;\n",
       "            }\n",
       "        </style>\n",
       "      \n",
       "      <progress value='97' max='97' style='width:300px; height:20px; vertical-align: middle;'></progress>\n",
       "      [97/97 00:01]\n",
       "    </div>\n",
       "    "
      ],
      "text/plain": [
       "<IPython.core.display.HTML object>"
      ]
     },
     "metadata": {},
     "output_type": "display_data"
    },
    {
     "data": {
      "text/plain": [
       "{'eval_loss': 0.142591193318367,\n",
       " 'eval_accuracy': 0.9610894941634242,\n",
       " 'eval_runtime': 1.6634,\n",
       " 'eval_samples_per_second': 463.51,\n",
       " 'epoch': 1.0,\n",
       " 'eval_mem_cpu_alloc_delta': 0,\n",
       " 'eval_mem_gpu_alloc_delta': 0,\n",
       " 'eval_mem_cpu_peaked_delta': 0,\n",
       " 'eval_mem_gpu_peaked_delta': 8132096}"
      ]
     },
     "execution_count": 224,
     "metadata": {},
     "output_type": "execute_result"
    }
   ],
   "source": [
    "trainer.evaluate()"
   ]
  },
  {
   "cell_type": "code",
   "execution_count": 225,
   "metadata": {},
   "outputs": [
    {
     "data": {
      "text/plain": [
       "['training_args.bin', 'config.json', 'pytorch_model.bin']"
      ]
     },
     "execution_count": 225,
     "metadata": {},
     "output_type": "execute_result"
    }
   ],
   "source": [
    "trainer.save_model('bert_alice_vs_wizard')\n",
    "os.listdir('bert_alice_vs_wizard')"
   ]
  },
  {
   "cell_type": "code",
   "execution_count": 226,
   "metadata": {},
   "outputs": [
    {
     "data": {
      "text/plain": [
       "device(type='cpu')"
      ]
     },
     "execution_count": 226,
     "metadata": {},
     "output_type": "execute_result"
    }
   ],
   "source": [
    "loaded_model = AutoModelForSequenceClassification.from_pretrained('bert_alice_vs_wizard')\n",
    "loaded_model.device"
   ]
  },
  {
   "cell_type": "code",
   "execution_count": 227,
   "metadata": {
    "scrolled": true
   },
   "outputs": [
    {
     "data": {
      "text/plain": [
       "device(type='cuda', index=0)"
      ]
     },
     "execution_count": 227,
     "metadata": {},
     "output_type": "execute_result"
    }
   ],
   "source": [
    "device = 'cuda' if torch.cuda.is_available() else 'cpu'\n",
    "loaded_model.to(device)\n",
    "loaded_model.device"
   ]
  },
  {
   "cell_type": "markdown",
   "metadata": {},
   "source": [
    "## Predictions"
   ]
  },
  {
   "cell_type": "code",
   "execution_count": 228,
   "metadata": {},
   "outputs": [
    {
     "data": {
      "text/plain": [
       "{'input_ids': tensor([[  101,  2091,  1996,  3756,  5318, 10442,  4920,   102]]), 'attention_mask': tensor([[1, 1, 1, 1, 1, 1, 1, 1]])}"
      ]
     },
     "execution_count": 228,
     "metadata": {},
     "output_type": "execute_result"
    }
   ],
   "source": [
    "sentence = 'Down the yellow brick rabbit hole'\n",
    "tokens = auto_tokenizer(sentence, return_tensors='pt')\n",
    "tokens"
   ]
  },
  {
   "cell_type": "code",
   "execution_count": 229,
   "metadata": {},
   "outputs": [
    {
     "name": "stdout",
     "output_type": "stream",
     "text": [
      "<class 'transformers.tokenization_utils_base.BatchEncoding'>\n"
     ]
    },
    {
     "data": {
      "text/plain": [
       "{'input_ids': tensor([[  101,  2091,  1996,  3756,  5318, 10442,  4920,   102]],\n",
       "       device='cuda:0'), 'attention_mask': tensor([[1, 1, 1, 1, 1, 1, 1, 1]], device='cuda:0')}"
      ]
     },
     "execution_count": 229,
     "metadata": {},
     "output_type": "execute_result"
    }
   ],
   "source": [
    "print(type(tokens))\n",
    "tokens.to(loaded_model.device)"
   ]
  },
  {
   "cell_type": "code",
   "execution_count": 230,
   "metadata": {},
   "outputs": [
    {
     "data": {
      "text/plain": [
       "SequenceClassifierOutput(loss=None, logits=tensor([[ 2.7745, -2.5539]], device='cuda:0', grad_fn=<AddmmBackward>), hidden_states=None, attentions=None)"
      ]
     },
     "execution_count": 230,
     "metadata": {},
     "output_type": "execute_result"
    }
   ],
   "source": [
    "loaded_model.eval()\n",
    "logits = loaded_model(input_ids=tokens['input_ids'], attention_mask=tokens['attention_mask'])\n",
    "logits"
   ]
  },
  {
   "cell_type": "code",
   "execution_count": 233,
   "metadata": {},
   "outputs": [
    {
     "data": {
      "text/plain": [
       "tensor([0], device='cuda:0')"
      ]
     },
     "execution_count": 233,
     "metadata": {},
     "output_type": "execute_result"
    }
   ],
   "source": [
    "logits.logits.argmax(dim=1)"
   ]
  },
  {
   "cell_type": "markdown",
   "metadata": {},
   "source": [
    "## Pipeline"
   ]
  },
  {
   "cell_type": "code",
   "execution_count": 234,
   "metadata": {},
   "outputs": [],
   "source": [
    "from transformers import TextClassificationPipeline\n",
    "device_index = loaded_model.device.index if loaded_model.device.type != 'cpu' else -1\n",
    "classifier = TextClassificationPipeline(model=loaded_model,\n",
    "                                        tokenizer=auto_tokenizer, \n",
    "                                        device=device_index)"
   ]
  },
  {
   "cell_type": "code",
   "execution_count": 235,
   "metadata": {},
   "outputs": [
    {
     "data": {
      "text/plain": [
       "[{'label': 'LABEL_0', 'score': 0.9951714277267456},\n",
       " {'label': 'LABEL_1', 'score': 0.9985325336456299}]"
      ]
     },
     "execution_count": 235,
     "metadata": {},
     "output_type": "execute_result"
    }
   ],
   "source": [
    "classifier(['Down the Yellow Brick Rabbit Hole', 'Alice rules!'])"
   ]
  },
  {
   "cell_type": "code",
   "execution_count": 236,
   "metadata": {},
   "outputs": [],
   "source": [
    "loaded_model.config.id2label = {0: 'Wizard', 1: 'Alice'}"
   ]
  },
  {
   "cell_type": "code",
   "execution_count": 237,
   "metadata": {},
   "outputs": [
    {
     "data": {
      "text/plain": [
       "[{'label': 'Wizard', 'score': 0.9951714277267456},\n",
       " {'label': 'Alice', 'score': 0.9985325336456299}]"
      ]
     },
     "execution_count": 237,
     "metadata": {},
     "output_type": "execute_result"
    }
   ],
   "source": [
    "classifier(['Down the Yellow Brick Rabbit Hole', 'Alice rules!'])"
   ]
  },
  {
   "cell_type": "markdown",
   "metadata": {},
   "source": [
    "## More Pipelines"
   ]
  },
  {
   "cell_type": "code",
   "execution_count": 238,
   "metadata": {},
   "outputs": [
    {
     "data": {
      "application/vnd.jupyter.widget-view+json": {
       "model_id": "f7a51b4024854a9198898c4ca0d1bc1f",
       "version_major": 2,
       "version_minor": 0
      },
      "text/plain": [
       "HBox(children=(FloatProgress(value=0.0, description='Downloading', max=48.0, style=ProgressStyle(description_w…"
      ]
     },
     "metadata": {},
     "output_type": "display_data"
    },
    {
     "name": "stdout",
     "output_type": "stream",
     "text": [
      "\n"
     ]
    }
   ],
   "source": [
    "from transformers import pipeline\n",
    "sentiment = pipeline('sentiment-analysis')"
   ]
  },
  {
   "cell_type": "code",
   "execution_count": 239,
   "metadata": {},
   "outputs": [
    {
     "name": "stdout",
     "output_type": "stream",
     "text": [
      "And, so far as they knew, they were quite right.\n",
      "[{'label': 'POSITIVE', 'score': 0.9998356699943542}]\n"
     ]
    }
   ],
   "source": [
    "sentence = train_dataset[0]['sentence']\n",
    "print(sentence)\n",
    "print(sentiment(sentence))"
   ]
  },
  {
   "cell_type": "code",
   "execution_count": 240,
   "metadata": {},
   "outputs": [
    {
     "data": {
      "text/plain": [
       "{'impl': transformers.pipelines.text_classification.TextClassificationPipeline,\n",
       " 'tf': None,\n",
       " 'pt': types.AutoModelForSequenceClassification,\n",
       " 'default': {'model': {'pt': 'distilbert-base-uncased-finetuned-sst-2-english',\n",
       "   'tf': 'distilbert-base-uncased-finetuned-sst-2-english'}}}"
      ]
     },
     "execution_count": 240,
     "metadata": {},
     "output_type": "execute_result"
    }
   ],
   "source": [
    "from transformers.pipelines import SUPPORTED_TASKS\n",
    "SUPPORTED_TASKS['sentiment-analysis'] # 'text-classification' from v4.6.0 on"
   ]
  },
  {
   "cell_type": "code",
   "execution_count": 241,
   "metadata": {},
   "outputs": [
    {
     "data": {
      "text/plain": [
       "{'impl': transformers.pipelines.text_generation.TextGenerationPipeline,\n",
       " 'tf': None,\n",
       " 'pt': types.AutoModelForCausalLM,\n",
       " 'default': {'model': {'pt': 'gpt2', 'tf': 'gpt2'}}}"
      ]
     },
     "execution_count": 241,
     "metadata": {},
     "output_type": "execute_result"
    }
   ],
   "source": [
    "SUPPORTED_TASKS['text-generation']"
   ]
  },
  {
   "cell_type": "markdown",
   "metadata": {},
   "source": [
    "# GPT-2"
   ]
  },
  {
   "cell_type": "code",
   "execution_count": 242,
   "metadata": {},
   "outputs": [],
   "source": [
    "text_generator = pipeline(\"text-generation\")"
   ]
  },
  {
   "cell_type": "code",
   "execution_count": 243,
   "metadata": {},
   "outputs": [
    {
     "data": {
      "text/plain": [
       "{'text-generation': {'do_sample': True, 'max_length': 50}}"
      ]
     },
     "execution_count": 243,
     "metadata": {},
     "output_type": "execute_result"
    }
   ],
   "source": [
    "text_generator.model.config.task_specific_params"
   ]
  },
  {
   "cell_type": "code",
   "execution_count": 21,
   "metadata": {},
   "outputs": [],
   "source": [
    "base_text = \"\"\"\n",
    "Alice was beginning to get very tired of sitting by her sister on the bank, and of having nothing to do:  once or twice she had peeped into the book her sister was reading, but it had no pictures or conversations in it, `and what is the use of a book,'thought Alice `without pictures or conversation?' So she was considering in her own mind (as well as she could, for the hot day made her feel very sleepy and stupid), whether the pleasure of making a daisy-chain would be worth the trouble of getting up and picking the daisies, when suddenly a White Rabbit with pink eyes ran close by her.\n",
    "\"\"\""
   ]
  },
  {
   "cell_type": "code",
   "execution_count": 245,
   "metadata": {},
   "outputs": [
    {
     "name": "stderr",
     "output_type": "stream",
     "text": [
      "Setting `pad_token_id` to `eos_token_id`:50256 for open-end generation.\n"
     ]
    },
    {
     "name": "stdout",
     "output_type": "stream",
     "text": [
      "\n",
      "Alice was beginning to get very tired of sitting by her sister on the bank, and of having nothing to do:  once or twice she had peeped into the book her sister was reading, but it had no pictures or conversations in it, `and what is the use of a book,'thought Alice `without pictures or conversation?' So she was considering in her own mind (as well as she could, for the hot day made her feel very sleepy and stupid), whether the pleasure of making a daisy-chain would be worth the trouble of getting up and picking the daisies, when suddenly a White Rabbit with pink eyes ran close by her.\n",
      "\n",
      "After about a week, when Alice had finished reading about animals and people, the White Rabbit went up to the dining-room door. 'Sir,'she said, `you have to see a White Rabbit!' she said, `and what was it about it that struck you?'\n",
      "\n",
      "Alice smiled. 'It was just to tell you.'\n",
      "\n",
      "'Then I had no idea,' said Alice, `that it was like a book. But it does seem to me (like a book,)a book of dreams. I have tried it for the night. If\n"
     ]
    }
   ],
   "source": [
    "result = text_generator(base_text, max_length=250)\n",
    "print(result[0]['generated_text'])"
   ]
  },
  {
   "cell_type": "markdown",
   "metadata": {},
   "source": [
    "# Putting It All Together"
   ]
  },
  {
   "cell_type": "markdown",
   "metadata": {},
   "source": [
    "## Data Preparation"
   ]
  },
  {
   "cell_type": "code",
   "execution_count": 5,
   "metadata": {},
   "outputs": [
    {
     "name": "stderr",
     "output_type": "stream",
     "text": [
      "Using custom data configuration default-b2e45ba3a816baa2\n",
      "Reusing dataset csv (/home/dvgodoy/.cache/huggingface/datasets/csv/default-b2e45ba3a816baa2/0.0.0/2dc6629a9ff6b5697d82c25b73731dd440507a69cbce8b425db50b751e8fcfd0)\n"
     ]
    }
   ],
   "source": [
    "dataset = load_dataset(path='csv', data_files=['texts/alice28-1476.sent.csv'], quotechar='\\\\', split=Split.TRAIN)"
   ]
  },
  {
   "cell_type": "code",
   "execution_count": 6,
   "metadata": {},
   "outputs": [],
   "source": [
    "shuffled_dataset = dataset.shuffle(seed=42)\n",
    "split_dataset = shuffled_dataset.train_test_split(test_size=0.2, seed=42)\n",
    "train_dataset, test_dataset = split_dataset['train'], split_dataset['test']"
   ]
  },
  {
   "cell_type": "code",
   "execution_count": 7,
   "metadata": {},
   "outputs": [],
   "source": [
    "auto_tokenizer = AutoTokenizer.from_pretrained('gpt2')\n",
    "def tokenize(row):\n",
    "    return auto_tokenizer(row['sentence'])"
   ]
  },
  {
   "cell_type": "code",
   "execution_count": 8,
   "metadata": {},
   "outputs": [
    {
     "data": {
      "application/vnd.jupyter.widget-view+json": {
       "model_id": "ac3386d9ffcb4ce19dd2a5ce7ae5a628",
       "version_major": 2,
       "version_minor": 0
      },
      "text/plain": [
       "HBox(children=(FloatProgress(value=0.0, max=2.0), HTML(value='')))"
      ]
     },
     "metadata": {},
     "output_type": "display_data"
    },
    {
     "name": "stdout",
     "output_type": "stream",
     "text": [
      "\n"
     ]
    },
    {
     "data": {
      "application/vnd.jupyter.widget-view+json": {
       "model_id": "eaab2355206949bf8e99462698ecc013",
       "version_major": 2,
       "version_minor": 0
      },
      "text/plain": [
       "HBox(children=(FloatProgress(value=0.0, max=1.0), HTML(value='')))"
      ]
     },
     "metadata": {},
     "output_type": "display_data"
    },
    {
     "name": "stdout",
     "output_type": "stream",
     "text": [
      "\n"
     ]
    }
   ],
   "source": [
    "tokenized_train_dataset = train_dataset.map(tokenize, remove_columns=['source', 'sentence'], batched=True)\n",
    "tokenized_test_dataset = test_dataset.map(tokenize, remove_columns=['source', 'sentence'], batched=True)"
   ]
  },
  {
   "cell_type": "code",
   "execution_count": 9,
   "metadata": {},
   "outputs": [
    {
     "data": {
      "text/plain": [
       "[9, 28, 20, 9, 34, 29]"
      ]
     },
     "execution_count": 9,
     "metadata": {},
     "output_type": "execute_result"
    }
   ],
   "source": [
    "list(map(len, tokenized_train_dataset[0:6]['input_ids']))"
   ]
  },
  {
   "cell_type": "markdown",
   "metadata": {},
   "source": [
    "### \"Packed\" Dataset"
   ]
  },
  {
   "cell_type": "markdown",
   "metadata": {},
   "source": [
    "![](images/block_tokens.png)"
   ]
  },
  {
   "cell_type": "code",
   "execution_count": 10,
   "metadata": {},
   "outputs": [],
   "source": [
    "# Adapted from https://github.com/huggingface/transformers/blob/master/examples/pytorch/language-modeling/run_clm.py\n",
    "def group_texts(examples, block_size=128):\n",
    "    # Concatenate all texts.\n",
    "    concatenated_examples = {k: sum(examples[k], []) for k in examples.keys()}\n",
    "    total_length = len(concatenated_examples[list(examples.keys())[0]])\n",
    "    # We drop the small remainder, we could add padding if the model supported it instead of this drop, you can\n",
    "    # customize this part to your needs.\n",
    "    total_length = (total_length // block_size) * block_size\n",
    "    # Split by chunks of max_len.\n",
    "    result = {\n",
    "        k: [t[i : i + block_size] for i in range(0, total_length, block_size)]\n",
    "        for k, t in concatenated_examples.items()\n",
    "    }\n",
    "    result[\"labels\"] = result[\"input_ids\"].copy()\n",
    "    return result"
   ]
  },
  {
   "cell_type": "code",
   "execution_count": 11,
   "metadata": {},
   "outputs": [
    {
     "data": {
      "application/vnd.jupyter.widget-view+json": {
       "model_id": "d09af828b9c74e8db7e3d770ed7b1111",
       "version_major": 2,
       "version_minor": 0
      },
      "text/plain": [
       "HBox(children=(FloatProgress(value=0.0, max=2.0), HTML(value='')))"
      ]
     },
     "metadata": {},
     "output_type": "display_data"
    },
    {
     "name": "stdout",
     "output_type": "stream",
     "text": [
      "\n"
     ]
    },
    {
     "data": {
      "application/vnd.jupyter.widget-view+json": {
       "model_id": "6af3f3e1c9ca4213b1123f0ffb900cb2",
       "version_major": 2,
       "version_minor": 0
      },
      "text/plain": [
       "HBox(children=(FloatProgress(value=0.0, max=1.0), HTML(value='')))"
      ]
     },
     "metadata": {},
     "output_type": "display_data"
    },
    {
     "name": "stdout",
     "output_type": "stream",
     "text": [
      "\n"
     ]
    }
   ],
   "source": [
    "lm_train_dataset = tokenized_train_dataset.map(group_texts, batched=True)\n",
    "lm_test_dataset = tokenized_test_dataset.map(group_texts, batched=True)\n",
    "lm_train_dataset.set_format(type='torch')\n",
    "lm_test_dataset.set_format(type='torch')"
   ]
  },
  {
   "cell_type": "code",
   "execution_count": 12,
   "metadata": {},
   "outputs": [
    {
     "name": "stdout",
     "output_type": "stream",
     "text": [
      "tensor([   63,  2437,   466,   345,   760,   314,  1101,  8805,  8348,   464,\n",
      "         2677,  3114,  7296,  6819,   379,   262,  2635, 25498,    11,   508,\n",
      "          531,   287,   257,  1877,  3809,    11,  4600,  7120, 25788,  1276,\n",
      "         3272,    12,  1069,  9862, 12680,  4973,  2637,  1537,   611,   314,\n",
      "         1101,   407,   262,   976,    11,   262,  1306,  1808,   318,    11,\n",
      "         5338,   287,   262,   995,   716,   314,    30,   464,   360,   579,\n",
      "         1076,  6364,  4721,   465,  2951,    13,    63,  1026,   373,   881,\n",
      "        21289,   272,   353,   379,  1363,  4032,  1807,  3595, 14862,    11,\n",
      "         4600, 12518,   530,  2492,   470,  1464,  3957,  4025,   290,  4833,\n",
      "           11,   290,   852,  6149,   546,   416, 10693,   290, 33043,    13,\n",
      "         1870, 14862,   373,   523,   881, 24776,   326,   673,  4966,   572,\n",
      "          379,  1752,   287,   262,  4571,   340,  6235,   284,    11,  1231,\n",
      "         2111,   284,  4727,   262,  7457,   340,   550,   925])\n"
     ]
    }
   ],
   "source": [
    "print(lm_train_dataset[0]['input_ids'])"
   ]
  },
  {
   "cell_type": "code",
   "execution_count": 13,
   "metadata": {},
   "outputs": [
    {
     "data": {
      "text/plain": [
       "(239, 56)"
      ]
     },
     "execution_count": 13,
     "metadata": {},
     "output_type": "execute_result"
    }
   ],
   "source": [
    "len(lm_train_dataset), len(lm_test_dataset)"
   ]
  },
  {
   "cell_type": "markdown",
   "metadata": {},
   "source": [
    "## Model Configuration & Training"
   ]
  },
  {
   "cell_type": "code",
   "execution_count": 14,
   "metadata": {},
   "outputs": [
    {
     "name": "stdout",
     "output_type": "stream",
     "text": [
      "<class 'transformers.models.gpt2.modeling_gpt2.GPT2LMHeadModel'>\n"
     ]
    }
   ],
   "source": [
    "from transformers import AutoModelForCausalLM\n",
    "model = AutoModelForCausalLM.from_pretrained('gpt2')\n",
    "print(model.__class__)"
   ]
  },
  {
   "cell_type": "code",
   "execution_count": 15,
   "metadata": {},
   "outputs": [
    {
     "data": {
      "text/plain": [
       "Embedding(50257, 768)"
      ]
     },
     "execution_count": 15,
     "metadata": {},
     "output_type": "execute_result"
    }
   ],
   "source": [
    "model.resize_token_embeddings(len(auto_tokenizer))"
   ]
  },
  {
   "cell_type": "code",
   "execution_count": 16,
   "metadata": {},
   "outputs": [],
   "source": [
    "training_args = TrainingArguments(\n",
    "    output_dir='output',\n",
    "    num_train_epochs=1,             \n",
    "    per_device_train_batch_size=1,\n",
    "    per_device_eval_batch_size=8,\n",
    "    evaluation_strategy='steps',\n",
    "    eval_steps=50,\n",
    "    logging_steps=50,\n",
    "    gradient_accumulation_steps=4,\n",
    "    prediction_loss_only=True,\n",
    ")\n",
    "\n",
    "trainer = Trainer(model=model, \n",
    "                  args=training_args, \n",
    "                  train_dataset=lm_train_dataset, \n",
    "                  eval_dataset=lm_test_dataset)"
   ]
  },
  {
   "cell_type": "code",
   "execution_count": 17,
   "metadata": {},
   "outputs": [
    {
     "data": {
      "text/html": [
       "\n",
       "    <div>\n",
       "        <style>\n",
       "            /* Turns off some styling */\n",
       "            progress {\n",
       "                /* gets rid of default border in Firefox and Opera. */\n",
       "                border: none;\n",
       "                /* Needs to be in here for Safari polyfill so background images work as expected. */\n",
       "                background-size: auto;\n",
       "            }\n",
       "        </style>\n",
       "      \n",
       "      <progress value='59' max='59' style='width:300px; height:20px; vertical-align: middle;'></progress>\n",
       "      [59/59 00:22, Epoch 0/1]\n",
       "    </div>\n",
       "    <table border=\"1\" class=\"dataframe\">\n",
       "  <thead>\n",
       "    <tr style=\"text-align: left;\">\n",
       "      <th>Step</th>\n",
       "      <th>Training Loss</th>\n",
       "      <th>Validation Loss</th>\n",
       "      <th>Runtime</th>\n",
       "      <th>Samples Per Second</th>\n",
       "    </tr>\n",
       "  </thead>\n",
       "  <tbody>\n",
       "    <tr>\n",
       "      <td>50</td>\n",
       "      <td>3.587500</td>\n",
       "      <td>3.327199</td>\n",
       "      <td>0.891100</td>\n",
       "      <td>62.845000</td>\n",
       "    </tr>\n",
       "  </tbody>\n",
       "</table><p>"
      ],
      "text/plain": [
       "<IPython.core.display.HTML object>"
      ]
     },
     "metadata": {},
     "output_type": "display_data"
    },
    {
     "data": {
      "text/plain": [
       "TrainOutput(global_step=59, training_loss=3.5507330167091498, metrics={'train_runtime': 22.6958, 'train_samples_per_second': 2.6, 'total_flos': 22554466320384.0, 'epoch': 0.99, 'init_mem_cpu_alloc_delta': 1316954112, 'init_mem_gpu_alloc_delta': 511148032, 'init_mem_cpu_peaked_delta': 465375232, 'init_mem_gpu_peaked_delta': 0, 'train_mem_cpu_alloc_delta': 13103104, 'train_mem_gpu_alloc_delta': 1499219456, 'train_mem_cpu_peaked_delta': 0, 'train_mem_gpu_peaked_delta': 730768896})"
      ]
     },
     "execution_count": 17,
     "metadata": {},
     "output_type": "execute_result"
    }
   ],
   "source": [
    "trainer.train()"
   ]
  },
  {
   "cell_type": "code",
   "execution_count": 18,
   "metadata": {},
   "outputs": [
    {
     "data": {
      "text/html": [
       "\n",
       "    <div>\n",
       "        <style>\n",
       "            /* Turns off some styling */\n",
       "            progress {\n",
       "                /* gets rid of default border in Firefox and Opera. */\n",
       "                border: none;\n",
       "                /* Needs to be in here for Safari polyfill so background images work as expected. */\n",
       "                background-size: auto;\n",
       "            }\n",
       "        </style>\n",
       "      \n",
       "      <progress value='7' max='7' style='width:300px; height:20px; vertical-align: middle;'></progress>\n",
       "      [7/7 00:00]\n",
       "    </div>\n",
       "    "
      ],
      "text/plain": [
       "<IPython.core.display.HTML object>"
      ]
     },
     "metadata": {},
     "output_type": "display_data"
    },
    {
     "data": {
      "text/plain": [
       "{'eval_loss': 3.320632219314575,\n",
       " 'eval_runtime': 0.9266,\n",
       " 'eval_samples_per_second': 60.438,\n",
       " 'epoch': 0.99,\n",
       " 'eval_mem_cpu_alloc_delta': 151552,\n",
       " 'eval_mem_gpu_alloc_delta': 0,\n",
       " 'eval_mem_cpu_peaked_delta': 0,\n",
       " 'eval_mem_gpu_peaked_delta': 730768896}"
      ]
     },
     "execution_count": 18,
     "metadata": {},
     "output_type": "execute_result"
    }
   ],
   "source": [
    "trainer.evaluate()"
   ]
  },
  {
   "cell_type": "markdown",
   "metadata": {},
   "source": [
    "## Generating Text"
   ]
  },
  {
   "cell_type": "code",
   "execution_count": 19,
   "metadata": {},
   "outputs": [],
   "source": [
    "device_index = model.device.index if model.device.type != 'cpu' else -1\n",
    "gpt2_gen = pipeline('text-generation', model=model, tokenizer=auto_tokenizer, device=device_index)"
   ]
  },
  {
   "cell_type": "code",
   "execution_count": 22,
   "metadata": {},
   "outputs": [
    {
     "name": "stderr",
     "output_type": "stream",
     "text": [
      "Setting `pad_token_id` to `eos_token_id`:50256 for open-end generation.\n"
     ]
    },
    {
     "name": "stdout",
     "output_type": "stream",
     "text": [
      "\n",
      "Alice was beginning to get very tired of sitting by her sister on the bank, and of having nothing to do:  once or twice she had peeped into the book her sister was reading, but it had no pictures or conversations in it, `and what is the use of a book,'thought Alice `without pictures or conversation?' So she was considering in her own mind (as well as she could, for the hot day made her feel very sleepy and stupid), whether the pleasure of making a daisy-chain would be worth the trouble of getting up and picking the daisies, when suddenly a White Rabbit with pink eyes ran close by her.\n",
      "`Oh, the way you were,'said Alice; `you've done your best to put it right--'and the Rabbit began to laugh, and it stopped.`Oh!--that's a bad feeling, indeed,'said Alice, `and that's certainly no good, or at all pleasant, to you.`You know, there is just an hour!'The Rabbit said timidly--as she stood up a bit, and looked at the room again.`As you like it,'said Alice again, `you've been talking!'--and she rose\n"
     ]
    }
   ],
   "source": [
    "result = gpt2_gen(base_text, max_length=250)\n",
    "print(result[0]['generated_text'])"
   ]
  },
  {
   "cell_type": "code",
   "execution_count": null,
   "metadata": {},
   "outputs": [],
   "source": []
  }
 ],
 "metadata": {
  "kernelspec": {
   "display_name": "Python 3",
   "language": "python",
   "name": "python3"
  },
  "language_info": {
   "codemirror_mode": {
    "name": "ipython",
    "version": 3
   },
   "file_extension": ".py",
   "mimetype": "text/x-python",
   "name": "python",
   "nbconvert_exporter": "python",
   "pygments_lexer": "ipython3",
   "version": "3.7.5"
  }
 },
 "nbformat": 4,
 "nbformat_minor": 2
}
