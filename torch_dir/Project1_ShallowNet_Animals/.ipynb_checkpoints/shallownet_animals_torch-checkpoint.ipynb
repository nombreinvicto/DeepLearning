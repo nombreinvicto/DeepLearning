{
 "cells": [
  {
   "cell_type": "code",
   "execution_count": 7,
   "metadata": {
    "pycharm": {
     "is_executing": false,
     "name": "#%%\n"
    }
   },
   "outputs": [
    {
     "name": "stdout",
     "output_type": "stream",
     "text": [
      "CUDA is available! Training on GPU\n"
     ]
    }
   ],
   "source": [
    "# import miscellaneous helper libraries\n",
    "import os\n",
    "import imutils\n",
    "from imutils import paths\n",
    "from loader_util.nn.conv import ShallowNetTorch\n",
    "\n",
    "# import pytorch imports\n",
    "import torch\n",
    "from torch import nn, optim\n",
    "from torchvision import datasets, transforms, models\n",
    "from torch.utils.data.sampler import SubsetRandomSampler\n",
    "from torch.utils.data import DataLoader\n",
    "\n",
    "# import numpy-pandas imports\n",
    "import numpy as np\n",
    "import seaborn as sns\n",
    "import matplotlib.pyplot as plt\n",
    "import matplotlib.axes._axes as axes\n",
    "sns.set()\n",
    "\n",
    "\n",
    "# check if CUDA is available or not\n",
    "if not torch.cuda.is_available():\n",
    "    print('CUDA is not available. Tranin on CPU....')\n",
    "else:\n",
    "    print('CUDA is available! Training on GPU')\n",
    "    device = torch.device(\"cuda\")"
   ]
  },
  {
   "cell_type": "code",
   "execution_count": 8,
   "metadata": {
    "pycharm": {
     "is_executing": false,
     "name": "#%%\n"
    }
   },
   "outputs": [],
   "source": [
    "# construct imagePaths\n",
    "pyth_dir = r\"C:\\Users\\mhasa\\Google Drive\\Tutorial Corner\\PYTH\"\n",
    "image_folder = os.path.join(pyth_dir,\n",
    "                            'DeepLearning',\n",
    "                            'DeepLearning-DL4CV',\n",
    "                            'Edition3',\n",
    "                            'SB_Code',\n",
    "                            'datasets',\n",
    "                            'animals')\n",
    "args = {\n",
    "    'dataset': image_folder\n",
    "}\n",
    "imagePaths = list(paths.list_images(args['dataset']))"
   ]
  },
  {
   "cell_type": "code",
   "execution_count": 9,
   "metadata": {
    "pycharm": {
     "is_executing": false,
     "name": "#%%\n"
    }
   },
   "outputs": [],
   "source": [
    "# Construct Transformations\n",
    "train_transforms = transforms.Compose([\n",
    "    transforms.RandomRotation(30),\n",
    "    transforms.Resize(size=(32,32)),\n",
    "    transforms.RandomHorizontalFlip(),\n",
    "    transforms.ToTensor(),\n",
    "    transforms.Normalize((0.5,0.5,0.5),(0.5,0.5,0.5))\n",
    "])\n",
    "\n",
    "valid_transforms = transforms.Compose([\n",
    "    transforms.Resize(size=(64,64)),\n",
    "    transforms.ToTensor(),\n",
    "    transforms.Normalize((0.5,0.5,0.5),(0.5,0.5,0.5))\n",
    "])\n",
    "\n",
    "# create and load the dataset\n",
    "data = datasets.ImageFolder(image_folder, transform=valid_transforms) \n",
    "data_len = len(data)\n",
    "data_indices = list(range(data_len))\n",
    "\n",
    "test_data_percentage = 10\n",
    "test_data_len = int(np.floor(data_len * test_data_percentage / 100))\n",
    "\n",
    "test_idx, train_idx = data_indices[:test_data_len], \\\n",
    "                      data_indices[test_data_len:]\n",
    "\n",
    "train_sampler = SubsetRandomSampler(train_idx)\n",
    "test_sampler = SubsetRandomSampler(test_idx)\n",
    "\n",
    "trainLoader = DataLoader(dataset=data,\n",
    "                         batch_size=32,\n",
    "                         sampler=train_sampler)\n",
    "validLoader = DataLoader(dataset=data,\n",
    "                         batch_size=32,\n",
    "                         sampler=test_sampler)"
   ]
  },
  {
   "cell_type": "code",
   "execution_count": 10,
   "metadata": {
    "pycharm": {
     "is_executing": false,
     "name": "#%%\n"
    }
   },
   "outputs": [
    {
     "data": {
      "text/plain": [
       "ShallowNetTorch(\n",
       "  (conv1): Conv2d(3, 32, kernel_size=(3, 3), stride=(1, 1), padding=(1, 1))\n",
       "  (activation): ReLU()\n",
       "  (fc1): Linear(in_features=131072, out_features=3, bias=True)\n",
       ")"
      ]
     },
     "execution_count": 10,
     "metadata": {},
     "output_type": "execute_result"
    }
   ],
   "source": [
    "# initialise the model on CUDA\n",
    "model = ShallowNetTorch(width=64, height=64, depth=3, classes=3)\n",
    "model.to(device)"
   ]
  },
  {
   "cell_type": "code",
   "execution_count": 11,
   "metadata": {
    "pycharm": {
     "is_executing": false,
     "name": "#%%\n"
    }
   },
   "outputs": [
    {
     "data": {
      "text/plain": [
       "10"
      ]
     },
     "execution_count": 11,
     "metadata": {},
     "output_type": "execute_result"
    }
   ],
   "source": [
    "len(validLoader)"
   ]
  },
  {
   "cell_type": "code",
   "execution_count": null,
   "metadata": {
    "pycharm": {
     "is_executing": false,
     "name": "#%%\n"
    }
   },
   "outputs": [
    {
     "name": "stdout",
     "output_type": "stream",
     "text": [
      "Epoch: 1\n",
      "85 train batches completed\n",
      "Training loss: 1.014868545181611 \n",
      "Train accu: 0.5799019607843137\n",
      "10 test batches completed\n",
      "Validation loss: 1.0747727453708649\n",
      "Validation accu: 0.4479166666666667\n",
      "==================================================\n",
      "Epoch: 2\n",
      "85 train batches completed\n",
      "Training loss: 0.6376755942316616 \n",
      "Train accu: 0.7197303921568627\n",
      "10 test batches completed\n",
      "Validation loss: 0.837216067314148\n",
      "Validation accu: 0.56875\n",
      "==================================================\n",
      "Epoch: 3\n",
      "85 train batches completed\n",
      "Training loss: 0.4770677577046787 \n",
      "Train accu: 0.798406862745098\n",
      "10 test batches completed\n",
      "Validation loss: 1.045801931619644\n",
      "Validation accu: 0.5447916666666667\n",
      "==================================================\n",
      "Epoch: 4\n",
      "85 train batches completed\n",
      "Training loss: 0.3288847463972428 \n",
      "Train accu: 0.8746323529411765\n",
      "10 test batches completed\n",
      "Validation loss: 1.0854844331741333\n",
      "Validation accu: 0.5239583333333333\n",
      "==================================================\n",
      "Epoch: 5\n",
      "85 train batches completed\n",
      "Training loss: 0.24672454429023405 \n",
      "Train accu: 0.9098039215686274\n",
      "10 test batches completed\n",
      "Validation loss: 1.0088489949703217\n",
      "Validation accu: 0.5739583333333333\n",
      "==================================================\n",
      "Epoch: 6\n",
      "85 train batches completed\n",
      "Training loss: 0.1766443150008426 \n",
      "Train accu: 0.95\n",
      "10 test batches completed\n",
      "Validation loss: 1.4235580563545227\n",
      "Validation accu: 0.4916666666666667\n",
      "==================================================\n",
      "Epoch: 7\n",
      "85 train batches completed\n",
      "Training loss: 0.11410500104813015 \n",
      "Train accu: 0.9724264705882353\n",
      "10 test batches completed\n",
      "Validation loss: 1.5474796891212463\n",
      "Validation accu: 0.4895833333333333\n",
      "==================================================\n",
      "Epoch: 8\n",
      "85 train batches completed\n",
      "Training loss: 0.07492254766471246 \n",
      "Train accu: 0.9882352941176471\n",
      "10 test batches completed\n",
      "Validation loss: 1.3298226356506349\n",
      "Validation accu: 0.5885416666666667\n",
      "==================================================\n",
      "Epoch: 9\n",
      "85 train batches completed\n",
      "Training loss: 0.05589626690044123 \n",
      "Train accu: 0.9941176470588236\n",
      "10 test batches completed\n",
      "Validation loss: 1.3447619915008544\n",
      "Validation accu: 0.5979166666666667\n",
      "==================================================\n",
      "Epoch: 10\n",
      "85 train batches completed\n",
      "Training loss: 0.038852397308630104 \n",
      "Train accu: 0.9966911764705882\n",
      "10 test batches completed\n",
      "Validation loss: 1.601183032989502\n",
      "Validation accu: 0.521875\n",
      "==================================================\n",
      "Epoch: 11\n",
      "85 train batches completed\n",
      "Training loss: 0.024181562432033173 \n",
      "Train accu: 0.9996323529411765\n",
      "10 test batches completed\n",
      "Validation loss: 1.850880753993988\n",
      "Validation accu: 0.4822916666666667\n",
      "==================================================\n"
     ]
    }
   ],
   "source": [
    "# Train the model\n",
    "epochs = 100\n",
    "epoch_train_losses = []\n",
    "epoch_train_accus = []\n",
    "epoch_valid_losses = []\n",
    "epoch_valid_accus = []\n",
    "\n",
    "# define the loss\n",
    "criterion = nn.CrossEntropyLoss()\n",
    "\n",
    "# create the optimizer\n",
    "optimizer = optim.SGD(model.parameters(), lr=0.005, momentum=0.9)\n",
    "\n",
    "# loop over the epochs\n",
    "for epoch in range (1, epochs + 1):\n",
    "    \n",
    "    # keep track of all losses\n",
    "    running_train_loss = 0\n",
    "    running_valid_loss = 0\n",
    "    \n",
    "    running_train_acc = 0\n",
    "    running_valid_acc = 0\n",
    "    \n",
    "    train_batch_no = 0\n",
    "    test_batch_no = 0\n",
    "    \n",
    "    # TRAIN\n",
    "    model.train()\n",
    "    for images, labels in trainLoader:\n",
    "        images, labels = images.to(device), labels.to(device)\n",
    "        train_batch_no += 1\n",
    "        \n",
    "        # Training pass\n",
    "        optimizer.zero_grad()\n",
    "        logits = model(images)\n",
    "        loss = criterion(logits, labels)\n",
    "        \n",
    "        # exponentiate the logits\n",
    "        exp_logits = torch.exp(logits)\n",
    "        \n",
    "        # pass thru softmax to calculate probs\n",
    "        probs = exp_logits / (torch.sum(exp_logits, dim=1).view(exp_logits.shape[0],-1))\n",
    "        \n",
    "        # get top class and to class prob\n",
    "        top_p, top_class = probs.topk(1, dim=1)\n",
    "        \n",
    "        # reshape labels into column vector\n",
    "        labels = labels.view(labels.shape[0], -1)\n",
    "    \n",
    "        # find which labels are correctly classified\n",
    "        acc_boolean = top_class == labels\n",
    "       \n",
    "        # finally calculate accuracy\n",
    "        running_train_acc += np.sum(acc_boolean.cpu().numpy()) / len(acc_boolean)\n",
    "        \n",
    "        \n",
    "        loss.backward()\n",
    "        optimizer.step()\n",
    "\n",
    "        running_train_loss += loss.item()\n",
    "    else:\n",
    "        # dividing because running loss is the sum loss of all batches \n",
    "        epoch_train_loss = running_train_loss / train_batch_no\n",
    "        epoch_train_losses.append(epoch_train_loss)\n",
    "        epoch_train_accu = running_train_acc / train_batch_no\n",
    "        epoch_train_accus.append(epoch_train_accu)\n",
    "        print(f\"Epoch: {epoch}\")\n",
    "        print(f'{train_batch_no} train batches completed')\n",
    "        \n",
    "        \n",
    "    \n",
    "    # VALIDATE\n",
    "    model.eval()\n",
    "    for images, labels in validLoader:\n",
    "        images, labels = images.to(device), labels.to(device)\n",
    "        test_batch_no += 1\n",
    "        \n",
    "        # Validation pass\n",
    "        logits = model(images)\n",
    "        loss = criterion(logits, labels)\n",
    "        \n",
    "        # exponentiate the logits\n",
    "        exp_logits = torch.exp(logits)\n",
    "        \n",
    "        # pass thru softmax to calculate probs\n",
    "        probs = exp_logits / (torch.sum(exp_logits, dim=1).view(exp_logits.shape[0],-1))\n",
    "        \n",
    "        # get top class and to class prob\n",
    "        top_p, top_class = probs.topk(1, dim=1)\n",
    "        \n",
    "        # reshape labels into column vector\n",
    "        labels = labels.view(labels.shape[0], -1)\n",
    "    \n",
    "        # find which labels are correctly classified\n",
    "        acc_boolean = top_class == labels\n",
    "       \n",
    "        # finally calculate accuracy\n",
    "        running_valid_acc += np.sum(acc_boolean.cpu().numpy()) / len(acc_boolean)\n",
    "\n",
    "        running_valid_loss += loss.item()\n",
    "    else:\n",
    "        # dividing because running loss is the sum loss of all batches \n",
    "        epoch_test_loss = running_valid_loss / test_batch_no\n",
    "        epoch_test_accu = running_valid_acc / test_batch_no\n",
    "        epoch_valid_losses.append(epoch_test_loss)\n",
    "        epoch_valid_accus.append(epoch_test_accu)\n",
    "        print ( f\"Training loss: {epoch_train_loss} \" )\n",
    "        print(f'Train accu: {epoch_train_accu}')\n",
    "        print(f'{test_batch_no} test batches completed')\n",
    "        print ( f\"Validation loss: {epoch_test_loss}\")\n",
    "        print(f'Validation accu: {epoch_test_accu}')\n",
    "        print(\"=\" * 50)"
   ]
  },
  {
   "cell_type": "code",
   "execution_count": 39,
   "metadata": {
    "pycharm": {
     "is_executing": false,
     "name": "#%%\n"
    }
   },
   "outputs": [
    {
     "data": {
      "image/png": "[encoded data removed]",
      "text/plain": [
       "<Figure size 1080x576 with 1 Axes>"
      ]
     },
     "metadata": {},
     "output_type": "display_data"
    }
   ],
   "source": [
    "# evaluate the network\n",
    "# plot the performance\n",
    "import pandas as pd\n",
    "epochs = range(1, epochs+1)\n",
    "plot_df = pd.DataFrame(data=np.c_[epochs, epoch_train_losses, \n",
    "                                  epoch_valid_losses, epoch_train_accus, \n",
    "                                  epoch_valid_accus], \n",
    "                       columns=['epochs','train_loss', 'test_loss', \n",
    "                                'train_acc', 'valid_acc'])\n",
    "\n",
    "# do the actual plots\n",
    "sns.set(font_scale=1)\n",
    "f, ax = plt.subplots(1, 1, figsize=(15,8))\n",
    "sns.lineplot(data=plot_df, x='epochs', y='train_loss', ax=ax, label='trainloss', linewidth=3)\n",
    "sns.lineplot(data=plot_df, x='epochs', y='test_loss', ax=ax, label='val loss', linewidth=3)\n",
    "sns.lineplot(data=plot_df, x='epochs', y='valid_acc', ax=ax, label='val_acc', \n",
    "             linewidth=3)\n",
    "sns.lineplot(data=plot_df, x='epochs', y='train_acc', ax=ax, \n",
    "             label='train_acc', linewidth=3)\n",
    "ax.set_ylabel('Loss')\n",
    "ax.set_xlabel('Epochs')\n",
    "plt.setp(ax.get_legend().get_texts(), fontsize='18'); # for legend text"
   ]
  },
  {
   "cell_type": "code",
   "execution_count": 32,
   "metadata": {
    "pycharm": {
     "is_executing": false,
     "name": "#%%\n"
    }
   },
   "outputs": [],
   "source": []
  }
 ],
 "metadata": {
  "kernelspec": {
   "display_name": "Python 3",
   "language": "python",
   "name": "python3"
  },
  "language_info": {
   "codemirror_mode": {
    "name": "ipython",
    "version": 3
   },
   "file_extension": ".py",
   "mimetype": "text/x-python",
   "name": "python",
   "nbconvert_exporter": "python",
   "pygments_lexer": "ipython3",
   "version": "3.6.4"
  },
  "pycharm": {
   "stem_cell": {
    "cell_type": "raw",
    "metadata": {
     "collapsed": false
    },
    "source": []
   }
  }
 },
 "nbformat": 4,
 "nbformat_minor": 1
}
