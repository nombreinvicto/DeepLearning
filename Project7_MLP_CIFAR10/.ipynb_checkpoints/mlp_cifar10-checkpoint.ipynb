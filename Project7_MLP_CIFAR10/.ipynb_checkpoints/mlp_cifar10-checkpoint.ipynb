{
 "cells": [
  {
   "cell_type": "markdown",
   "metadata": {},
   "source": [
    "## Project 7: MultiLayer Perceptron (MLP) Network Performance on Cifar10 Dataset"
   ]
  },
  {
   "cell_type": "code",
   "execution_count": 14,
   "metadata": {
    "pycharm": {
     "is_executing": false,
     "name": "#%%\n"
    }
   },
   "outputs": [],
   "source": [
    "# do necessary imports\n",
    "from sklearn.preprocessing import LabelBinarizer\n",
    "from sklearn.metrics import classification_report\n",
    "from keras.models import Sequential\n",
    "from keras.layers.core import Dense\n",
    "from keras.optimizers import SGD\n",
    "from keras.datasets import cifar10\n",
    "import matplotlib.pyplot as plt\n",
    "import seaborn as sns\n",
    "import numpy as np\n",
    "import warnings\n",
    "\n",
    "warnings.filterwarnings('ignore')\n",
    "sns.set_style('darkgrid')"
   ]
  },
  {
   "cell_type": "code",
   "execution_count": 15,
   "metadata": {
    "pycharm": {
     "is_executing": false,
     "name": "#%%\n"
    }
   },
   "outputs": [
    {
     "data": {
      "text/plain": [
       "(50000, 32, 32, 3)"
      ]
     },
     "execution_count": 15,
     "metadata": {},
     "output_type": "execute_result"
    }
   ],
   "source": [
    "# load the cifar10 dataset\n",
    "(trainx, trainy), (testx, testy) = cifar10.load_data()\n",
    "trainx.shape"
   ]
  },
  {
   "cell_type": "markdown",
   "metadata": {},
   "source": [
    "As you can see, the images in the data set come in the form of \n",
    "32x32x3 size numpy arrays. We need to reshape the train dataset as \n",
    "follows:"
   ]
  },
  {
   "cell_type": "code",
   "execution_count": 16,
   "metadata": {
    "pycharm": {
     "is_executing": false,
     "name": "#%%\n"
    }
   },
   "outputs": [],
   "source": [
    "trainx = trainx.reshape((trainx.shape[0], 3072))\n",
    "testx = testx.reshape((testx.shape[0], 3072))\n",
    "trainx = trainx.astype('float')/255.0\n",
    "testx = testx.astype('float')/255.0"
   ]
  },
  {
   "cell_type": "code",
   "execution_count": 17,
   "metadata": {
    "pycharm": {
     "is_executing": false,
     "name": "#%%\n"
    }
   },
   "outputs": [],
   "source": [
    "# convert the labels from integers to vectors\n",
    "lb = LabelBinarizer()\n",
    "trainy = lb.fit_transform(trainy)\n",
    "testy = lb.transform(testy)\n",
    "\n",
    "#initialise label names\n",
    "labelNames = ['airplane', 'automobile', 'bird', 'cat', 'deer', \n",
    "              'dog', 'frog', 'horse', 'ship', 'truck']"
   ]
  },
  {
   "cell_type": "code",
   "execution_count": 18,
   "metadata": {
    "pycharm": {
     "is_executing": false,
     "name": "#%%\n"
    }
   },
   "outputs": [
    {
     "name": "stdout",
     "output_type": "stream",
     "text": [
      "_________________________________________________________________\n",
      "Layer (type)                 Output Shape              Param #   \n",
      "=================================================================\n",
      "dense_7 (Dense)              (None, 1024)              3146752   \n",
      "_________________________________________________________________\n",
      "dense_8 (Dense)              (None, 512)               524800    \n",
      "_________________________________________________________________\n",
      "dense_9 (Dense)              (None, 10)                5130      \n",
      "=================================================================\n",
      "Total params: 3,676,682\n",
      "Trainable params: 3,676,682\n",
      "Non-trainable params: 0\n",
      "_________________________________________________________________\n"
     ]
    }
   ],
   "source": [
    "# construct the MLP deep neural network using Keras\n",
    "model = Sequential()\n",
    "model.add(Dense(1024, input_shape=(3072,), activation='relu'))\n",
    "model.add(Dense(512, activation='relu'))\n",
    "model.add(Dense(10, activation='softmax'))\n",
    "model.summary()"
   ]
  },
  {
   "cell_type": "code",
   "execution_count": 19,
   "metadata": {
    "pycharm": {
     "name": "#%%\n"
    }
   },
   "outputs": [
    {
     "name": "stdout",
     "output_type": "stream",
     "text": [
      "Train on 50000 samples, validate on 10000 samples\n",
      "Epoch 1/100\n",
      "50000/50000 [==============================] - 3s 57us/step - loss: 1.9359 - acc: 0.3135 - val_loss: 1.8470 - val_acc: 0.3354\n",
      "Epoch 2/100\n",
      "50000/50000 [==============================] - 2s 49us/step - loss: 1.7742 - acc: 0.3759 - val_loss: 1.7469 - val_acc: 0.3897\n",
      "Epoch 3/100\n",
      "50000/50000 [==============================] - 2s 49us/step - loss: 1.7078 - acc: 0.4023 - val_loss: 1.6792 - val_acc: 0.4107\n",
      "Epoch 4/100\n",
      "50000/50000 [==============================] - 3s 52us/step - loss: 1.6585 - acc: 0.4198 - val_loss: 1.6577 - val_acc: 0.4133\n",
      "Epoch 5/100\n",
      "50000/50000 [==============================] - 3s 61us/step - loss: 1.6205 - acc: 0.4326 - val_loss: 1.6307 - val_acc: 0.4252\n",
      "Epoch 6/100\n",
      "50000/50000 [==============================] - 3s 55us/step - loss: 1.5881 - acc: 0.4433 - val_loss: 1.5789 - val_acc: 0.4475\n",
      "Epoch 7/100\n",
      "50000/50000 [==============================] - 3s 53us/step - loss: 1.5626 - acc: 0.4516 - val_loss: 1.5804 - val_acc: 0.4459\n",
      "Epoch 8/100\n",
      "50000/50000 [==============================] - 3s 51us/step - loss: 1.5378 - acc: 0.4640 - val_loss: 1.5447 - val_acc: 0.4576\n",
      "Epoch 9/100\n",
      "50000/50000 [==============================] - 2s 49us/step - loss: 1.5136 - acc: 0.4710 - val_loss: 1.5547 - val_acc: 0.4442\n",
      "Epoch 10/100\n",
      "50000/50000 [==============================] - 2s 49us/step - loss: 1.4952 - acc: 0.4774 - val_loss: 1.5249 - val_acc: 0.4587\n",
      "Epoch 11/100\n",
      "50000/50000 [==============================] - 3s 50us/step - loss: 1.4775 - acc: 0.4814 - val_loss: 1.5120 - val_acc: 0.4659\n",
      "Epoch 12/100\n",
      "50000/50000 [==============================] - 2s 50us/step - loss: 1.4606 - acc: 0.4896 - val_loss: 1.5308 - val_acc: 0.4478\n",
      "Epoch 13/100\n",
      "50000/50000 [==============================] - 2s 49us/step - loss: 1.4403 - acc: 0.4964 - val_loss: 1.5131 - val_acc: 0.4542\n",
      "Epoch 14/100\n",
      "50000/50000 [==============================] - 3s 50us/step - loss: 1.4253 - acc: 0.5026 - val_loss: 1.4763 - val_acc: 0.4815\n",
      "Epoch 15/100\n",
      "50000/50000 [==============================] - 2s 50us/step - loss: 1.4096 - acc: 0.5109 - val_loss: 1.4490 - val_acc: 0.4898\n",
      "Epoch 16/100\n",
      "50000/50000 [==============================] - 3s 65us/step - loss: 1.3956 - acc: 0.5118 - val_loss: 1.5016 - val_acc: 0.4701\n",
      "Epoch 17/100\n",
      "50000/50000 [==============================] - 3s 59us/step - loss: 1.3810 - acc: 0.5179 - val_loss: 1.4200 - val_acc: 0.5000\n",
      "Epoch 18/100\n",
      "50000/50000 [==============================] - 3s 50us/step - loss: 1.3636 - acc: 0.5240 - val_loss: 1.4576 - val_acc: 0.4837\n",
      "Epoch 19/100\n",
      "50000/50000 [==============================] - 2s 49us/step - loss: 1.3543 - acc: 0.5285 - val_loss: 1.4540 - val_acc: 0.4889\n",
      "Epoch 20/100\n",
      "50000/50000 [==============================] - 2s 49us/step - loss: 1.3388 - acc: 0.5334 - val_loss: 1.4368 - val_acc: 0.4875\n",
      "Epoch 21/100\n",
      "50000/50000 [==============================] - 2s 50us/step - loss: 1.3246 - acc: 0.5404 - val_loss: 1.4341 - val_acc: 0.4819\n",
      "Epoch 22/100\n",
      "50000/50000 [==============================] - 2s 49us/step - loss: 1.3139 - acc: 0.5424 - val_loss: 1.3866 - val_acc: 0.5086\n",
      "Epoch 23/100\n",
      "50000/50000 [==============================] - 3s 52us/step - loss: 1.3021 - acc: 0.5457 - val_loss: 1.4047 - val_acc: 0.4962\n",
      "Epoch 24/100\n",
      "50000/50000 [==============================] - 3s 52us/step - loss: 1.2908 - acc: 0.5497 - val_loss: 1.3823 - val_acc: 0.5091\n",
      "Epoch 25/100\n",
      "50000/50000 [==============================] - 3s 51us/step - loss: 1.2816 - acc: 0.5520 - val_loss: 1.3765 - val_acc: 0.5085\n",
      "Epoch 26/100\n",
      "50000/50000 [==============================] - 3s 56us/step - loss: 1.2686 - acc: 0.5580 - val_loss: 1.3978 - val_acc: 0.5054\n",
      "Epoch 27/100\n",
      "50000/50000 [==============================] - 3s 59us/step - loss: 1.2567 - acc: 0.5625 - val_loss: 1.3627 - val_acc: 0.5198\n",
      "Epoch 28/100\n",
      "50000/50000 [==============================] - 3s 55us/step - loss: 1.2473 - acc: 0.5660 - val_loss: 1.3785 - val_acc: 0.5201\n",
      "Epoch 29/100\n",
      "50000/50000 [==============================] - 2s 49us/step - loss: 1.2335 - acc: 0.5696 - val_loss: 1.3654 - val_acc: 0.5206\n",
      "Epoch 30/100\n",
      "50000/50000 [==============================] - 2s 49us/step - loss: 1.2273 - acc: 0.5727 - val_loss: 1.4730 - val_acc: 0.4844\n",
      "Epoch 31/100\n",
      "50000/50000 [==============================] - 2s 49us/step - loss: 1.2169 - acc: 0.5757 - val_loss: 1.3513 - val_acc: 0.5170\n",
      "Epoch 32/100\n",
      "50000/50000 [==============================] - 2s 49us/step - loss: 1.2060 - acc: 0.5804 - val_loss: 1.3556 - val_acc: 0.5182\n",
      "Epoch 33/100\n",
      "50000/50000 [==============================] - 2s 49us/step - loss: 1.1971 - acc: 0.5849 - val_loss: 1.3394 - val_acc: 0.5236\n",
      "Epoch 34/100\n",
      "50000/50000 [==============================] - 2s 49us/step - loss: 1.1837 - acc: 0.5889 - val_loss: 1.3493 - val_acc: 0.5206\n",
      "Epoch 35/100\n",
      "50000/50000 [==============================] - 2s 47us/step - loss: 1.1769 - acc: 0.5924 - val_loss: 1.3734 - val_acc: 0.5138\n",
      "Epoch 36/100\n",
      "50000/50000 [==============================] - 2s 49us/step - loss: 1.1675 - acc: 0.5950 - val_loss: 1.3442 - val_acc: 0.5184\n",
      "Epoch 37/100\n",
      "50000/50000 [==============================] - 2s 48us/step - loss: 1.1530 - acc: 0.5985 - val_loss: 1.4520 - val_acc: 0.4916\n",
      "Epoch 38/100\n",
      "50000/50000 [==============================] - 3s 54us/step - loss: 1.1498 - acc: 0.6020 - val_loss: 1.3596 - val_acc: 0.5173\n",
      "Epoch 39/100\n",
      "50000/50000 [==============================] - 3s 62us/step - loss: 1.1367 - acc: 0.6069 - val_loss: 1.3361 - val_acc: 0.5196\n",
      "Epoch 40/100\n",
      "50000/50000 [==============================] - 2s 48us/step - loss: 1.1292 - acc: 0.6077 - val_loss: 1.3294 - val_acc: 0.5264\n",
      "Epoch 41/100\n",
      "50000/50000 [==============================] - 2s 46us/step - loss: 1.1169 - acc: 0.6130 - val_loss: 1.3674 - val_acc: 0.5234\n",
      "Epoch 42/100\n",
      "50000/50000 [==============================] - 2s 46us/step - loss: 1.1081 - acc: 0.6157 - val_loss: 1.3222 - val_acc: 0.5290\n",
      "Epoch 43/100\n",
      "50000/50000 [==============================] - 2s 47us/step - loss: 1.1025 - acc: 0.6179 - val_loss: 1.4110 - val_acc: 0.5083\n",
      "Epoch 44/100\n",
      "50000/50000 [==============================] - 2s 46us/step - loss: 1.0912 - acc: 0.6224 - val_loss: 1.3436 - val_acc: 0.5240\n",
      "Epoch 45/100\n",
      "50000/50000 [==============================] - 2s 47us/step - loss: 1.0868 - acc: 0.6252 - val_loss: 1.3117 - val_acc: 0.5412\n",
      "Epoch 46/100\n",
      "50000/50000 [==============================] - 2s 46us/step - loss: 1.0771 - acc: 0.6283 - val_loss: 1.3322 - val_acc: 0.5264\n",
      "Epoch 47/100\n",
      "50000/50000 [==============================] - 2s 47us/step - loss: 1.0663 - acc: 0.6308 - val_loss: 1.3336 - val_acc: 0.5364\n",
      "Epoch 48/100\n",
      "50000/50000 [==============================] - 3s 50us/step - loss: 1.0581 - acc: 0.6339 - val_loss: 1.4406 - val_acc: 0.4998\n",
      "Epoch 49/100\n",
      "50000/50000 [==============================] - 3s 54us/step - loss: 1.0484 - acc: 0.6387 - val_loss: 1.3284 - val_acc: 0.5268\n",
      "Epoch 50/100\n",
      "50000/50000 [==============================] - 3s 59us/step - loss: 1.0412 - acc: 0.6392 - val_loss: 1.3200 - val_acc: 0.5366\n",
      "Epoch 51/100\n",
      "50000/50000 [==============================] - 2s 48us/step - loss: 1.0348 - acc: 0.6411 - val_loss: 1.2935 - val_acc: 0.5489\n",
      "Epoch 52/100\n",
      "50000/50000 [==============================] - 2s 47us/step - loss: 1.0263 - acc: 0.6458 - val_loss: 1.3192 - val_acc: 0.5346\n",
      "Epoch 53/100\n",
      "50000/50000 [==============================] - 2s 47us/step - loss: 1.0145 - acc: 0.6505 - val_loss: 1.3009 - val_acc: 0.5409\n",
      "Epoch 54/100\n",
      "50000/50000 [==============================] - 2s 47us/step - loss: 1.0046 - acc: 0.6527 - val_loss: 1.3717 - val_acc: 0.5230\n",
      "Epoch 55/100\n",
      "50000/50000 [==============================] - 2s 47us/step - loss: 0.9999 - acc: 0.6552 - val_loss: 1.3228 - val_acc: 0.5315\n",
      "Epoch 56/100\n",
      "50000/50000 [==============================] - 2s 48us/step - loss: 0.9876 - acc: 0.6597 - val_loss: 1.4463 - val_acc: 0.4919\n",
      "Epoch 57/100\n",
      "50000/50000 [==============================] - 3s 51us/step - loss: 0.9832 - acc: 0.6601 - val_loss: 1.3320 - val_acc: 0.5410\n",
      "Epoch 58/100\n",
      "50000/50000 [==============================] - 3s 55us/step - loss: 0.9743 - acc: 0.6640 - val_loss: 1.3668 - val_acc: 0.5265\n",
      "Epoch 59/100\n"
     ]
    },
    {
     "name": "stdout",
     "output_type": "stream",
     "text": [
      "50000/50000 [==============================] - 3s 53us/step - loss: 0.9590 - acc: 0.6719 - val_loss: 1.3154 - val_acc: 0.5374\n",
      "Epoch 60/100\n",
      "50000/50000 [==============================] - 3s 59us/step - loss: 0.9560 - acc: 0.6703 - val_loss: 1.3839 - val_acc: 0.5216\n",
      "Epoch 61/100\n",
      "50000/50000 [==============================] - 2s 48us/step - loss: 0.9496 - acc: 0.6745 - val_loss: 1.4173 - val_acc: 0.5147\n",
      "Epoch 62/100\n",
      "50000/50000 [==============================] - 2s 46us/step - loss: 0.9411 - acc: 0.6791 - val_loss: 1.3866 - val_acc: 0.5203\n",
      "Epoch 63/100\n",
      "50000/50000 [==============================] - 2s 49us/step - loss: 0.9341 - acc: 0.6787 - val_loss: 1.4207 - val_acc: 0.5185\n",
      "Epoch 64/100\n",
      "50000/50000 [==============================] - 2s 49us/step - loss: 0.9242 - acc: 0.6808 - val_loss: 1.3164 - val_acc: 0.5420\n",
      "Epoch 65/100\n",
      "50000/50000 [==============================] - 2s 48us/step - loss: 0.9190 - acc: 0.6837 - val_loss: 1.4562 - val_acc: 0.4986\n",
      "Epoch 66/100\n",
      "50000/50000 [==============================] - 2s 46us/step - loss: 0.9116 - acc: 0.6876 - val_loss: 1.3176 - val_acc: 0.5432\n",
      "Epoch 67/100\n",
      "50000/50000 [==============================] - 2s 48us/step - loss: 0.9020 - acc: 0.6918 - val_loss: 1.3415 - val_acc: 0.5342\n",
      "Epoch 68/100\n",
      "50000/50000 [==============================] - 2s 47us/step - loss: 0.8861 - acc: 0.6967 - val_loss: 1.3500 - val_acc: 0.5366\n",
      "Epoch 69/100\n",
      "50000/50000 [==============================] - 2s 49us/step - loss: 0.8808 - acc: 0.6993 - val_loss: 1.3419 - val_acc: 0.5334\n",
      "Epoch 70/100\n",
      "50000/50000 [==============================] - 3s 54us/step - loss: 0.8769 - acc: 0.7007 - val_loss: 1.4053 - val_acc: 0.5237\n",
      "Epoch 71/100\n",
      "50000/50000 [==============================] - 3s 59us/step - loss: 0.8738 - acc: 0.7024 - val_loss: 1.3449 - val_acc: 0.5447\n",
      "Epoch 72/100\n",
      "50000/50000 [==============================] - 2s 50us/step - loss: 0.8599 - acc: 0.7052 - val_loss: 1.3334 - val_acc: 0.5416\n",
      "Epoch 73/100\n",
      "50000/50000 [==============================] - 2s 49us/step - loss: 0.8611 - acc: 0.7060 - val_loss: 1.3491 - val_acc: 0.5437\n",
      "Epoch 74/100\n",
      "50000/50000 [==============================] - 2s 48us/step - loss: 0.8488 - acc: 0.7118 - val_loss: 1.2981 - val_acc: 0.5536\n",
      "Epoch 75/100\n",
      "50000/50000 [==============================] - 2s 49us/step - loss: 0.8376 - acc: 0.7164 - val_loss: 1.3457 - val_acc: 0.5426\n",
      "Epoch 76/100\n",
      "50000/50000 [==============================] - 2s 47us/step - loss: 0.8266 - acc: 0.7197 - val_loss: 1.3205 - val_acc: 0.5438\n",
      "Epoch 77/100\n",
      "50000/50000 [==============================] - 2s 46us/step - loss: 0.8244 - acc: 0.7205 - val_loss: 1.4757 - val_acc: 0.5082\n",
      "Epoch 78/100\n",
      "50000/50000 [==============================] - 2s 46us/step - loss: 0.8074 - acc: 0.7255 - val_loss: 1.3430 - val_acc: 0.5465\n",
      "Epoch 79/100\n",
      "50000/50000 [==============================] - 2s 46us/step - loss: 0.8084 - acc: 0.7250 - val_loss: 1.3652 - val_acc: 0.5407\n",
      "Epoch 80/100\n",
      "50000/50000 [==============================] - 2s 46us/step - loss: 0.8028 - acc: 0.7265 - val_loss: 1.3100 - val_acc: 0.5556\n",
      "Epoch 81/100\n",
      "50000/50000 [==============================] - 2s 50us/step - loss: 0.7888 - acc: 0.7324 - val_loss: 1.3638 - val_acc: 0.5410\n",
      "Epoch 82/100\n",
      "50000/50000 [==============================] - 2s 48us/step - loss: 0.7839 - acc: 0.7336 - val_loss: 1.3602 - val_acc: 0.5423\n",
      "Epoch 83/100\n",
      "50000/50000 [==============================] - 3s 64us/step - loss: 0.7698 - acc: 0.7410 - val_loss: 1.3502 - val_acc: 0.5446\n",
      "Epoch 84/100\n",
      "50000/50000 [==============================] - 3s 59us/step - loss: 0.7618 - acc: 0.7420 - val_loss: 1.3700 - val_acc: 0.5483\n",
      "Epoch 85/100\n",
      "50000/50000 [==============================] - 3s 51us/step - loss: 0.7605 - acc: 0.7417 - val_loss: 1.2939 - val_acc: 0.5563\n",
      "Epoch 86/100\n",
      "50000/50000 [==============================] - 3s 50us/step - loss: 0.7495 - acc: 0.7467 - val_loss: 1.5110 - val_acc: 0.5132\n",
      "Epoch 87/100\n",
      "50000/50000 [==============================] - 2s 50us/step - loss: 0.7496 - acc: 0.7487 - val_loss: 1.4172 - val_acc: 0.5267\n",
      "Epoch 88/100\n",
      "50000/50000 [==============================] - 2s 49us/step - loss: 0.7393 - acc: 0.7500 - val_loss: 1.3582 - val_acc: 0.5521\n",
      "Epoch 89/100\n",
      "50000/50000 [==============================] - 2s 49us/step - loss: 0.7311 - acc: 0.7541 - val_loss: 1.3514 - val_acc: 0.5463\n",
      "Epoch 90/100\n",
      "50000/50000 [==============================] - 3s 50us/step - loss: 0.7173 - acc: 0.7580 - val_loss: 1.5273 - val_acc: 0.5119\n",
      "Epoch 91/100\n",
      "50000/50000 [==============================] - 3s 53us/step - loss: 0.7121 - acc: 0.7621 - val_loss: 1.5370 - val_acc: 0.5143\n",
      "Epoch 92/100\n",
      "50000/50000 [==============================] - 3s 52us/step - loss: 0.7080 - acc: 0.7626 - val_loss: 1.4765 - val_acc: 0.5270\n",
      "Epoch 93/100\n",
      "50000/50000 [==============================] - 3s 68us/step - loss: 0.7047 - acc: 0.7627 - val_loss: 1.4061 - val_acc: 0.5448\n",
      "Epoch 94/100\n",
      "50000/50000 [==============================] - 3s 54us/step - loss: 0.6892 - acc: 0.7682 - val_loss: 1.4548 - val_acc: 0.5261\n",
      "Epoch 95/100\n",
      "50000/50000 [==============================] - 2s 49us/step - loss: 0.6900 - acc: 0.7682 - val_loss: 1.3651 - val_acc: 0.5581\n",
      "Epoch 96/100\n",
      "50000/50000 [==============================] - 2s 49us/step - loss: 0.6821 - acc: 0.7723 - val_loss: 1.3718 - val_acc: 0.5558\n",
      "Epoch 97/100\n",
      "50000/50000 [==============================] - 2s 50us/step - loss: 0.6732 - acc: 0.7749 - val_loss: 1.4140 - val_acc: 0.5334\n",
      "Epoch 98/100\n",
      "50000/50000 [==============================] - 2s 49us/step - loss: 0.6596 - acc: 0.7800 - val_loss: 1.4632 - val_acc: 0.5290\n",
      "Epoch 99/100\n",
      "50000/50000 [==============================] - 2s 49us/step - loss: 0.6483 - acc: 0.7862 - val_loss: 1.3691 - val_acc: 0.5556\n",
      "Epoch 100/100\n",
      "50000/50000 [==============================] - 3s 51us/step - loss: 0.6479 - acc: 0.7826 - val_loss: 1.3930 - val_acc: 0.5523\n"
     ]
    }
   ],
   "source": [
    "# instantiate a stochastic gradient optimiser and use categorical cross entropy loss\n",
    "# we will terminate model training after 100 epochs\n",
    "sgd = SGD(0.01)\n",
    "model.compile(loss='categorical_crossentropy',\n",
    "              optimizer=sgd,\n",
    "              metrics=['accuracy'])\n",
    "H = model.fit(trainx, trainy, validation_data=(testx, testy),\n",
    "              epochs=100, batch_size=128)"
   ]
  },
  {
   "cell_type": "code",
   "execution_count": 20,
   "metadata": {
    "pycharm": {
     "name": "#%%\n"
    }
   },
   "outputs": [
    {
     "name": "stdout",
     "output_type": "stream",
     "text": [
      "              precision    recall  f1-score   support\n",
      "\n",
      "    airplane       0.68      0.64      0.66      1000\n",
      "  automobile       0.64      0.74      0.68      1000\n",
      "        bird       0.48      0.45      0.46      1000\n",
      "         cat       0.31      0.53      0.39      1000\n",
      "        deer       0.56      0.41      0.47      1000\n",
      "         dog       0.41      0.52      0.46      1000\n",
      "        frog       0.65      0.56      0.61      1000\n",
      "       horse       0.75      0.48      0.59      1000\n",
      "        ship       0.71      0.66      0.68      1000\n",
      "       truck       0.66      0.54      0.59      1000\n",
      "\n",
      "    accuracy                           0.55     10000\n",
      "   macro avg       0.58      0.55      0.56     10000\n",
      "weighted avg       0.58      0.55      0.56     10000\n",
      "\n"
     ]
    }
   ],
   "source": [
    "predictions = model.predict(testx, batch_size=32)\n",
    "print(classification_report(\n",
    "        testy.argmax(axis=1), \n",
    "        predictions.argmax(axis=1),\n",
    "        target_names=labelNames))"
   ]
  },
  {
   "cell_type": "markdown",
   "metadata": {},
   "source": [
    "After 100 epochs, we have a training accuracy of around 78% and a validation accuracy of around 55%. This already gives an indication that we might have an overfit model."
   ]
  },
  {
   "cell_type": "code",
   "execution_count": 22,
   "metadata": {
    "pycharm": {
     "name": "#%%\n"
    },
    "scrolled": true
   },
   "outputs": [
    {
     "data": {
      "text/plain": [
       "Text(0, 0.5, 'Loss/Accuracy')"
      ]
     },
     "execution_count": 22,
     "metadata": {},
     "output_type": "execute_result"
    },
    {
     "data": {
      "image/png": "[encoded data removed]",
      "text/plain": [
       "<Figure size 1080x504 with 1 Axes>"
      ]
     },
     "metadata": {},
     "output_type": "display_data"
    }
   ],
   "source": [
    "# Plot the loss and accuracy curves to ascertain model performane\n",
    "f, ax = plt.subplots(1, 1, figsize=(15, 7))\n",
    "sns.lineplot(x=range(0,100),\n",
    "             y=H.history['loss'],\n",
    "             label=\"train-loss\",\n",
    "             ax=ax)\n",
    "sns.lineplot(x=range(0,100),\n",
    "             y=H.history['val_loss'], \n",
    "             label=\"validation-loss\", \n",
    "             ax=ax)\n",
    "sns.lineplot(x=range(0,100), \n",
    "             y=H.history['acc'], \n",
    "             label=\"train-acc\",\n",
    "             ax=ax)\n",
    "sns.lineplot(x=range(0,100), \n",
    "             y=H.history['val_acc'], \n",
    "             label=\"validation-acc\",\n",
    "             ax=ax)\n",
    "ax.set_xlabel('Epochs')\n",
    "ax.set_ylabel('Loss/Accuracy')"
   ]
  },
  {
   "cell_type": "markdown",
   "metadata": {},
   "source": [
    "The training and validation loss curves above diverge at larger epochs showing that the model that has been trained so far is grossly overfit on the training data and hence requires hyperparameter optimization for better performance."
   ]
  }
 ],
 "metadata": {
  "kernelspec": {
   "display_name": "Python 3",
   "language": "python",
   "name": "python3"
  },
  "language_info": {
   "codemirror_mode": {
    "name": "ipython",
    "version": 3
   },
   "file_extension": ".py",
   "mimetype": "text/x-python",
   "name": "python",
   "nbconvert_exporter": "python",
   "pygments_lexer": "ipython3",
   "version": "3.6.7"
  },
  "pycharm": {
   "stem_cell": {
    "cell_type": "raw",
    "metadata": {
     "collapsed": false
    },
    "source": []
   }
  }
 },
 "nbformat": 4,
 "nbformat_minor": 1
}
