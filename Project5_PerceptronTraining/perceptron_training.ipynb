{
 "cells": [
  {
   "cell_type": "code",
   "execution_count": 23,
   "metadata": {
    "collapsed": true,
    "pycharm": {
     "name": "#%%\n",
     "is_executing": false
    }
   },
   "outputs": [],
   "source": [
    "# do the necessary imports\n",
    "import numpy as np"
   ]
  },
  {
   "cell_type": "markdown",
   "source": [
    "Below, we will create a simple multi-input, single layer perceptron\n",
    " class that will have a fit method to fit to the training data of \n",
    " binary values and a predict function to predict new incoming \n",
    " binary value sets."
   ],
   "metadata": {
    "collapsed": false
   }
  },
  {
   "cell_type": "code",
   "execution_count": 24,
   "outputs": [],
   "source": [
    "# create the perceptreon class\n",
    "class Perceptron:\n",
    "    def __init__(self, N, alpha=0.1):\n",
    "        # init the weight matrix and store the learning rate\n",
    "        self.W = np.random.randn(N+1)\n",
    "        self.alpha = alpha\n",
    "        \n",
    "    def step(self, x):\n",
    "        # apply the step function\n",
    "        return  1 if x > 0 else 0\n",
    "    \n",
    "    def fit(self, X, y, epochs=10):\n",
    "        # insert a column of 1's as the last entry in the feature \n",
    "        # matrix. this allows to treat the bias as a trainable param\n",
    "        X = np.c_[X, np.ones((X.shape[0]))]\n",
    "        \n",
    "        for epoch in range(epochs+1):\n",
    "            for x, target in zip(X, y):\n",
    "                # calculate the prediction\n",
    "                p = self.step(x.dot(self.W))\n",
    "                \n",
    "                # only perform weight update if our prediction \n",
    "                # doesnt match the target value\n",
    "                if p != target:\n",
    "                    error = p - target\n",
    "                    \n",
    "                    # update the weight matrix\n",
    "                    self.W += -self.alpha * error * x\n",
    "    \n",
    "    def predict(self, X, addBias=True):\n",
    "        # ensure the input is a matrix\n",
    "        X = np.atleast_2d(X)\n",
    "        \n",
    "        # check to see if the bias column shud be added or not\n",
    "        if addBias:\n",
    "            X = np.c_[X, np.ones((X.shape[0]))]\n",
    "            \n",
    "        return self.step(X.dot(self.W))"
   ],
   "metadata": {
    "collapsed": false,
    "pycharm": {
     "name": "#%%\n",
     "is_executing": false
    }
   }
  },
  {
   "cell_type": "markdown",
   "source": [
    "Below, we will test the performance of the trained Perceptron model\n",
    " for inputs that will be OR'ed together. From the image below, we \n",
    " can see that both OR'ed and AND'ed outputs on a 2D plane can be \n",
    " easily separated using a straight line. However, those for XOR \n",
    " outputs cannot be separated bymerely a stright line and hence \n",
    " would require a non linear model. Our weight matrix in all cases \n",
    " would include weights for the bias, and the two features in the x \n",
    " vector and hence would always constitute a linear model. \n",
    " Consequently, we expect that our trained Perceptron model would be\n",
    "  able to predict the OR'ed and AND'ed outputs correctly but will \n",
    "  not be able to predict the XOR'ed outputs correctly no matter \n",
    "  over how many epochs we have trained the model.\n",
    "  \n",
    " ![](https://miro.medium.com/max/700/1*Tc8UgR_fjI_h0p3y4H9MwA.png)\n",
    "    "
   ],
   "metadata": {
    "collapsed": false,
    "pycharm": {
     "name": "#%% md\n"
    }
   }
  },
  {
   "cell_type": "code",
   "execution_count": 25,
   "outputs": [
    {
     "name": "stdout",
     "text": [
      "[INFO] Testing Peceptron\n[INFO] input = [0 0], truth = [0], prediction = 0\n[INFO] input = [0 1], truth = [1], prediction = 1\n[INFO] input = [1 0], truth = [1], prediction = 1\n[INFO] input = [1 1], truth = [1], prediction = 1\n"
     ],
     "output_type": "stream"
    }
   ],
   "source": [
    "# Evaluating the OR performance\n",
    "X = np.array([[0,0], [0,1], [1,0], [1,1]])\n",
    "y = np.array([[0], [1], [1], [1]])\n",
    "\n",
    "# define perceptron and train it\n",
    "p = Perceptron(X.shape[1], alpha=0.1)\n",
    "p.fit(X, y, epochs=20)\n",
    "\n",
    "print(f'[INFO] Testing Peceptron')\n",
    "# now that the network is trained, loop over the data points\n",
    "for x, target in zip(X, y):\n",
    "    pred = p.predict(x)\n",
    "    print(f\"[INFO] input = {x}, truth = {target}, prediction = {pred}\")"
   ],
   "metadata": {
    "collapsed": false,
    "pycharm": {
     "name": "#%%\n",
     "is_executing": false
    }
   }
  },
  {
   "cell_type": "markdown",
   "source": [
    "The output above is clear testimony to the fact that our trained \n",
    "Perceptron was able to predict the OR outputs with 100% accuracy."
   ],
   "metadata": {
    "collapsed": false
   }
  },
  {
   "cell_type": "code",
   "execution_count": 26,
   "outputs": [
    {
     "name": "stdout",
     "text": [
      "[INFO] Testing Peceptron\n[INFO] input = [0 0], truth = [0], prediction = 0\n[INFO] input = [0 1], truth = [0], prediction = 0\n[INFO] input = [1 0], truth = [0], prediction = 0\n[INFO] input = [1 1], truth = [1], prediction = 1\n"
     ],
     "output_type": "stream"
    }
   ],
   "source": [
    "# Evaluating the AND performance\n",
    "X = np.array([[0,0], [0,1], [1,0], [1,1]])\n",
    "y = np.array([[0], [0], [0], [1]])\n",
    "\n",
    "# define perceptron and train it\n",
    "p = Perceptron(X.shape[1], alpha=0.1)\n",
    "p.fit(X, y, epochs=20)\n",
    "\n",
    "print(f'[INFO] Testing Peceptron')\n",
    "# now that the network is trained, loop over the data points\n",
    "for x, target in zip(X, y):\n",
    "    pred = p.predict(x)\n",
    "    print(f\"[INFO] input = {x}, truth = {target}, prediction = {pred}\")"
   ],
   "metadata": {
    "collapsed": false,
    "pycharm": {
     "name": "#%%\n",
     "is_executing": false
    }
   }
  },
  {
   "cell_type": "markdown",
   "source": [
    "The output above is a clear testimony to the fact that our trained \n",
    "Perceptron was able to predict the AND outputs with 100% accuracy."
   ],
   "metadata": {
    "collapsed": false,
    "pycharm": {
     "name": "#%% md\n"
    }
   }
  },
  {
   "cell_type": "code",
   "execution_count": 27,
   "outputs": [
    {
     "name": "stdout",
     "text": [
      "[INFO] Testing Peceptron\n[INFO] input = [0 0], truth = [0], prediction = 1\n[INFO] input = [0 1], truth = [1], prediction = 0\n[INFO] input = [1 0], truth = [1], prediction = 0\n[INFO] input = [1 1], truth = [0], prediction = 0\n"
     ],
     "output_type": "stream"
    }
   ],
   "source": [
    "# Evaluating the AND performance\n",
    "X = np.array([[0,0], [0,1], [1,0], [1,1]])\n",
    "y = np.array([[0], [1], [1], [0]])\n",
    "\n",
    "# define perceptron and train it\n",
    "p = Perceptron(X.shape[1], alpha=0.1)\n",
    "p.fit(X, y, epochs=200)\n",
    "\n",
    "print(f'[INFO] Testing Peceptron')\n",
    "# now that the network is trained, loop over the data points\n",
    "for x, target in zip(X, y):\n",
    "    pred = p.predict(x)\n",
    "    print(f\"[INFO] input = {x}, truth = {target}, prediction = {pred}\")"
   ],
   "metadata": {
    "collapsed": false,
    "pycharm": {
     "name": "#%%\n",
     "is_executing": false
    }
   }
  },
  {
   "cell_type": "markdown",
   "source": [
    "Like we expected, our trained Perceptron was not able to predict \n",
    "the XOR outputs correctly no matter how large the epochs were or \n",
    "how judiciously we changed the alpha values. It s just not possible\n",
    " to segregate XOR outputs using just a straight line.\n",
    "\n"
   ],
   "metadata": {
    "collapsed": false,
    "pycharm": {
     "name": "#%% md\n"
    }
   }
  }
 ],
 "metadata": {
  "language_info": {
   "codemirror_mode": {
    "name": "ipython",
    "version": 2
   },
   "file_extension": ".py",
   "mimetype": "text/x-python",
   "name": "python",
   "nbconvert_exporter": "python",
   "pygments_lexer": "ipython2",
   "version": "2.7.6"
  },
  "kernelspec": {
   "name": "python3",
   "language": "python",
   "display_name": "Python 3"
  },
  "pycharm": {
   "stem_cell": {
    "cell_type": "raw",
    "source": [],
    "metadata": {
     "collapsed": false
    }
   }
  }
 },
 "nbformat": 4,
 "nbformat_minor": 0
}