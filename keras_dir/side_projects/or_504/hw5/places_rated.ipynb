{
 "cells": [
  {
   "cell_type": "markdown",
   "metadata": {
    "collapsed": true
   },
   "source": [
    "### Home Work 5 Question 2\n",
    "### Author: Mahmud Hasan\n",
    "### Student ID: 200076270"
   ]
  },
  {
   "cell_type": "markdown",
   "metadata": {},
   "source": [
    "#### Here we are importing the necessary libraries."
   ]
  },
  {
   "cell_type": "code",
   "execution_count": 3,
   "metadata": {},
   "outputs": [],
   "source": [
    "import pandas as pd\n",
    "import numpy as np"
   ]
  },
  {
   "cell_type": "markdown",
   "metadata": {},
   "source": [
    "#### Here we are displaying the imported dataset and showing the first few rows."
   ]
  },
  {
   "cell_type": "code",
   "execution_count": null,
   "metadata": {},
   "outputs": [
    {
     "ename": "FileNotFoundError",
     "evalue": "File b'places.csv' does not exist",
     "traceback": [
      "\u001b[1;31m---------------------------------------------------------------------------\u001b[0m",
      "\u001b[1;31mFileNotFoundError\u001b[0m                         Traceback (most recent call last)",
      "\u001b[1;32m<ipython-input-3-2b1a636c1865>\u001b[0m in \u001b[0;36m<module>\u001b[1;34m()\u001b[0m\n\u001b[1;32m----> 1\u001b[1;33m \u001b[0mdf\u001b[0m \u001b[1;33m=\u001b[0m \u001b[0mpd\u001b[0m\u001b[1;33m.\u001b[0m\u001b[0mread_csv\u001b[0m\u001b[1;33m(\u001b[0m\u001b[1;34m'places.csv'\u001b[0m\u001b[1;33m,\u001b[0m \u001b[0mindex_col\u001b[0m\u001b[1;33m=\u001b[0m\u001b[1;36m0\u001b[0m\u001b[1;33m)\u001b[0m\u001b[1;33m\u001b[0m\u001b[0m\n\u001b[0m\u001b[0;32m      2\u001b[0m \u001b[0mdf\u001b[0m\u001b[1;33m.\u001b[0m\u001b[0mhead\u001b[0m\u001b[1;33m(\u001b[0m\u001b[1;33m)\u001b[0m\u001b[1;33m\u001b[0m\u001b[0m\n",
      "\u001b[1;32mC:\\Anaconda3\\lib\\site-packages\\pandas\\io\\parsers.py\u001b[0m in \u001b[0;36mparser_f\u001b[1;34m(filepath_or_buffer, sep, delimiter, header, names, index_col, usecols, squeeze, prefix, mangle_dupe_cols, dtype, engine, converters, true_values, false_values, skipinitialspace, skiprows, nrows, na_values, keep_default_na, na_filter, verbose, skip_blank_lines, parse_dates, infer_datetime_format, keep_date_col, date_parser, dayfirst, iterator, chunksize, compression, thousands, decimal, lineterminator, quotechar, quoting, escapechar, comment, encoding, dialect, tupleize_cols, error_bad_lines, warn_bad_lines, skipfooter, doublequote, delim_whitespace, low_memory, memory_map, float_precision)\u001b[0m\n\u001b[0;32m    676\u001b[0m                     skip_blank_lines=skip_blank_lines)\n\u001b[0;32m    677\u001b[0m \u001b[1;33m\u001b[0m\u001b[0m\n\u001b[1;32m--> 678\u001b[1;33m         \u001b[1;32mreturn\u001b[0m \u001b[0m_read\u001b[0m\u001b[1;33m(\u001b[0m\u001b[0mfilepath_or_buffer\u001b[0m\u001b[1;33m,\u001b[0m \u001b[0mkwds\u001b[0m\u001b[1;33m)\u001b[0m\u001b[1;33m\u001b[0m\u001b[0m\n\u001b[0m\u001b[0;32m    679\u001b[0m \u001b[1;33m\u001b[0m\u001b[0m\n\u001b[0;32m    680\u001b[0m     \u001b[0mparser_f\u001b[0m\u001b[1;33m.\u001b[0m\u001b[0m__name__\u001b[0m \u001b[1;33m=\u001b[0m \u001b[0mname\u001b[0m\u001b[1;33m\u001b[0m\u001b[0m\n",
      "\u001b[1;32mC:\\Anaconda3\\lib\\site-packages\\pandas\\io\\parsers.py\u001b[0m in \u001b[0;36m_read\u001b[1;34m(filepath_or_buffer, kwds)\u001b[0m\n\u001b[0;32m    438\u001b[0m \u001b[1;33m\u001b[0m\u001b[0m\n\u001b[0;32m    439\u001b[0m     \u001b[1;31m# Create the parser.\u001b[0m\u001b[1;33m\u001b[0m\u001b[1;33m\u001b[0m\u001b[0m\n\u001b[1;32m--> 440\u001b[1;33m     \u001b[0mparser\u001b[0m \u001b[1;33m=\u001b[0m \u001b[0mTextFileReader\u001b[0m\u001b[1;33m(\u001b[0m\u001b[0mfilepath_or_buffer\u001b[0m\u001b[1;33m,\u001b[0m \u001b[1;33m**\u001b[0m\u001b[0mkwds\u001b[0m\u001b[1;33m)\u001b[0m\u001b[1;33m\u001b[0m\u001b[0m\n\u001b[0m\u001b[0;32m    441\u001b[0m \u001b[1;33m\u001b[0m\u001b[0m\n\u001b[0;32m    442\u001b[0m     \u001b[1;32mif\u001b[0m \u001b[0mchunksize\u001b[0m \u001b[1;32mor\u001b[0m \u001b[0miterator\u001b[0m\u001b[1;33m:\u001b[0m\u001b[1;33m\u001b[0m\u001b[0m\n",
      "\u001b[1;32mC:\\Anaconda3\\lib\\site-packages\\pandas\\io\\parsers.py\u001b[0m in \u001b[0;36m__init__\u001b[1;34m(self, f, engine, **kwds)\u001b[0m\n\u001b[0;32m    785\u001b[0m             \u001b[0mself\u001b[0m\u001b[1;33m.\u001b[0m\u001b[0moptions\u001b[0m\u001b[1;33m[\u001b[0m\u001b[1;34m'has_index_names'\u001b[0m\u001b[1;33m]\u001b[0m \u001b[1;33m=\u001b[0m \u001b[0mkwds\u001b[0m\u001b[1;33m[\u001b[0m\u001b[1;34m'has_index_names'\u001b[0m\u001b[1;33m]\u001b[0m\u001b[1;33m\u001b[0m\u001b[0m\n\u001b[0;32m    786\u001b[0m \u001b[1;33m\u001b[0m\u001b[0m\n\u001b[1;32m--> 787\u001b[1;33m         \u001b[0mself\u001b[0m\u001b[1;33m.\u001b[0m\u001b[0m_make_engine\u001b[0m\u001b[1;33m(\u001b[0m\u001b[0mself\u001b[0m\u001b[1;33m.\u001b[0m\u001b[0mengine\u001b[0m\u001b[1;33m)\u001b[0m\u001b[1;33m\u001b[0m\u001b[0m\n\u001b[0m\u001b[0;32m    788\u001b[0m \u001b[1;33m\u001b[0m\u001b[0m\n\u001b[0;32m    789\u001b[0m     \u001b[1;32mdef\u001b[0m \u001b[0mclose\u001b[0m\u001b[1;33m(\u001b[0m\u001b[0mself\u001b[0m\u001b[1;33m)\u001b[0m\u001b[1;33m:\u001b[0m\u001b[1;33m\u001b[0m\u001b[0m\n",
      "\u001b[1;32mC:\\Anaconda3\\lib\\site-packages\\pandas\\io\\parsers.py\u001b[0m in \u001b[0;36m_make_engine\u001b[1;34m(self, engine)\u001b[0m\n\u001b[0;32m   1012\u001b[0m     \u001b[1;32mdef\u001b[0m \u001b[0m_make_engine\u001b[0m\u001b[1;33m(\u001b[0m\u001b[0mself\u001b[0m\u001b[1;33m,\u001b[0m \u001b[0mengine\u001b[0m\u001b[1;33m=\u001b[0m\u001b[1;34m'c'\u001b[0m\u001b[1;33m)\u001b[0m\u001b[1;33m:\u001b[0m\u001b[1;33m\u001b[0m\u001b[0m\n\u001b[0;32m   1013\u001b[0m         \u001b[1;32mif\u001b[0m \u001b[0mengine\u001b[0m \u001b[1;33m==\u001b[0m \u001b[1;34m'c'\u001b[0m\u001b[1;33m:\u001b[0m\u001b[1;33m\u001b[0m\u001b[0m\n\u001b[1;32m-> 1014\u001b[1;33m             \u001b[0mself\u001b[0m\u001b[1;33m.\u001b[0m\u001b[0m_engine\u001b[0m \u001b[1;33m=\u001b[0m \u001b[0mCParserWrapper\u001b[0m\u001b[1;33m(\u001b[0m\u001b[0mself\u001b[0m\u001b[1;33m.\u001b[0m\u001b[0mf\u001b[0m\u001b[1;33m,\u001b[0m \u001b[1;33m**\u001b[0m\u001b[0mself\u001b[0m\u001b[1;33m.\u001b[0m\u001b[0moptions\u001b[0m\u001b[1;33m)\u001b[0m\u001b[1;33m\u001b[0m\u001b[0m\n\u001b[0m\u001b[0;32m   1015\u001b[0m         \u001b[1;32melse\u001b[0m\u001b[1;33m:\u001b[0m\u001b[1;33m\u001b[0m\u001b[0m\n\u001b[0;32m   1016\u001b[0m             \u001b[1;32mif\u001b[0m \u001b[0mengine\u001b[0m \u001b[1;33m==\u001b[0m \u001b[1;34m'python'\u001b[0m\u001b[1;33m:\u001b[0m\u001b[1;33m\u001b[0m\u001b[0m\n",
      "\u001b[1;32mC:\\Anaconda3\\lib\\site-packages\\pandas\\io\\parsers.py\u001b[0m in \u001b[0;36m__init__\u001b[1;34m(self, src, **kwds)\u001b[0m\n\u001b[0;32m   1706\u001b[0m         \u001b[0mkwds\u001b[0m\u001b[1;33m[\u001b[0m\u001b[1;34m'usecols'\u001b[0m\u001b[1;33m]\u001b[0m \u001b[1;33m=\u001b[0m \u001b[0mself\u001b[0m\u001b[1;33m.\u001b[0m\u001b[0musecols\u001b[0m\u001b[1;33m\u001b[0m\u001b[0m\n\u001b[0;32m   1707\u001b[0m \u001b[1;33m\u001b[0m\u001b[0m\n\u001b[1;32m-> 1708\u001b[1;33m         \u001b[0mself\u001b[0m\u001b[1;33m.\u001b[0m\u001b[0m_reader\u001b[0m \u001b[1;33m=\u001b[0m \u001b[0mparsers\u001b[0m\u001b[1;33m.\u001b[0m\u001b[0mTextReader\u001b[0m\u001b[1;33m(\u001b[0m\u001b[0msrc\u001b[0m\u001b[1;33m,\u001b[0m \u001b[1;33m**\u001b[0m\u001b[0mkwds\u001b[0m\u001b[1;33m)\u001b[0m\u001b[1;33m\u001b[0m\u001b[0m\n\u001b[0m\u001b[0;32m   1709\u001b[0m \u001b[1;33m\u001b[0m\u001b[0m\n\u001b[0;32m   1710\u001b[0m         \u001b[0mpassed_names\u001b[0m \u001b[1;33m=\u001b[0m \u001b[0mself\u001b[0m\u001b[1;33m.\u001b[0m\u001b[0mnames\u001b[0m \u001b[1;32mis\u001b[0m \u001b[1;32mNone\u001b[0m\u001b[1;33m\u001b[0m\u001b[0m\n",
      "\u001b[1;32mpandas\\_libs\\parsers.pyx\u001b[0m in \u001b[0;36mpandas._libs.parsers.TextReader.__cinit__\u001b[1;34m()\u001b[0m\n",
      "\u001b[1;32mpandas\\_libs\\parsers.pyx\u001b[0m in \u001b[0;36mpandas._libs.parsers.TextReader._setup_parser_source\u001b[1;34m()\u001b[0m\n",
      "\u001b[1;31mFileNotFoundError\u001b[0m: File b'places.csv' does not exist"
     ],
     "output_type": "error"
    }
   ],
   "source": [
    "f = r\"C:\\Users\\mhasa\\Google Drive\\Tutorial Corner\\PYTH\\PyCharm Projects\\PyPlay\\or504_hw5\"\n",
    "df = pd.read_csv(f+'\\places.csv', index_col=0)\n",
    "df.head()"
   ]
  },
  {
   "cell_type": "markdown",
   "metadata": {},
   "source": [
    "#### Now we shall be transforming the data in the imported data table using a base 10 log."
   ]
  },
  {
   "cell_type": "code",
   "execution_count": 3,
   "metadata": {},
   "outputs": [],
   "source": [
    "log_transformed_data = df.apply(lambda x : np.log10(x))"
   ]
  },
  {
   "cell_type": "code",
   "execution_count": 4,
   "metadata": {},
   "outputs": [
    {
     "data": {
      "text/html": [
       "<div>\n",
       "<style scoped>\n",
       "    .dataframe tbody tr th:only-of-type {\n",
       "        vertical-align: middle;\n",
       "    }\n",
       "\n",
       "    .dataframe tbody tr th {\n",
       "        vertical-align: top;\n",
       "    }\n",
       "\n",
       "    .dataframe thead th {\n",
       "        text-align: right;\n",
       "    }\n",
       "</style>\n",
       "<table border=\"1\" class=\"dataframe\">\n",
       "  <thead>\n",
       "    <tr style=\"text-align: right;\">\n",
       "      <th></th>\n",
       "      <th>Climate</th>\n",
       "      <th>Housingcost</th>\n",
       "      <th>HealthCare</th>\n",
       "      <th>Crime</th>\n",
       "      <th>Trans</th>\n",
       "      <th>Educ</th>\n",
       "      <th>Arts</th>\n",
       "      <th>Recreat</th>\n",
       "      <th>Econ</th>\n",
       "    </tr>\n",
       "  </thead>\n",
       "  <tbody>\n",
       "    <tr>\n",
       "      <th>Abilene,TX</th>\n",
       "      <td>2.716838</td>\n",
       "      <td>3.792392</td>\n",
       "      <td>2.374748</td>\n",
       "      <td>2.965202</td>\n",
       "      <td>3.605413</td>\n",
       "      <td>3.440437</td>\n",
       "      <td>2.998259</td>\n",
       "      <td>3.147676</td>\n",
       "      <td>3.882695</td>\n",
       "    </tr>\n",
       "    <tr>\n",
       "      <th>Akron,OH</th>\n",
       "      <td>2.759668</td>\n",
       "      <td>3.910518</td>\n",
       "      <td>3.219060</td>\n",
       "      <td>2.947434</td>\n",
       "      <td>3.688687</td>\n",
       "      <td>3.387034</td>\n",
       "      <td>3.745387</td>\n",
       "      <td>3.420286</td>\n",
       "      <td>3.638489</td>\n",
       "    </tr>\n",
       "    <tr>\n",
       "      <th>Albany,GA</th>\n",
       "      <td>2.670246</td>\n",
       "      <td>3.865637</td>\n",
       "      <td>2.790988</td>\n",
       "      <td>2.986772</td>\n",
       "      <td>3.403292</td>\n",
       "      <td>3.408240</td>\n",
       "      <td>2.374748</td>\n",
       "      <td>2.933993</td>\n",
       "      <td>3.720159</td>\n",
       "    </tr>\n",
       "    <tr>\n",
       "      <th>Albany-Schenectady-Troy,NY</th>\n",
       "      <td>2.677607</td>\n",
       "      <td>3.898067</td>\n",
       "      <td>3.155640</td>\n",
       "      <td>2.785330</td>\n",
       "      <td>3.837778</td>\n",
       "      <td>3.531351</td>\n",
       "      <td>3.667920</td>\n",
       "      <td>3.208710</td>\n",
       "      <td>3.768194</td>\n",
       "    </tr>\n",
       "    <tr>\n",
       "      <th>Albuquerque,NM</th>\n",
       "      <td>2.818885</td>\n",
       "      <td>3.923917</td>\n",
       "      <td>3.267875</td>\n",
       "      <td>3.171141</td>\n",
       "      <td>3.816771</td>\n",
       "      <td>3.480869</td>\n",
       "      <td>3.652826</td>\n",
       "      <td>3.416973</td>\n",
       "      <td>3.757927</td>\n",
       "    </tr>\n",
       "  </tbody>\n",
       "</table>\n",
       "</div>"
      ],
      "text/plain": [
       "                             Climate  Housingcost  HealthCare     Crime  \\\n",
       "Abilene,TX                  2.716838     3.792392    2.374748  2.965202   \n",
       "Akron,OH                    2.759668     3.910518    3.219060  2.947434   \n",
       "Albany,GA                   2.670246     3.865637    2.790988  2.986772   \n",
       "Albany-Schenectady-Troy,NY  2.677607     3.898067    3.155640  2.785330   \n",
       "Albuquerque,NM              2.818885     3.923917    3.267875  3.171141   \n",
       "\n",
       "                               Trans      Educ      Arts   Recreat      Econ  \n",
       "Abilene,TX                  3.605413  3.440437  2.998259  3.147676  3.882695  \n",
       "Akron,OH                    3.688687  3.387034  3.745387  3.420286  3.638489  \n",
       "Albany,GA                   3.403292  3.408240  2.374748  2.933993  3.720159  \n",
       "Albany-Schenectady-Troy,NY  3.837778  3.531351  3.667920  3.208710  3.768194  \n",
       "Albuquerque,NM              3.816771  3.480869  3.652826  3.416973  3.757927  "
      ]
     },
     "execution_count": 4,
     "metadata": {},
     "output_type": "execute_result"
    }
   ],
   "source": [
    "# Here we are displaying the logged data\n",
    "\n",
    "log_transformed_data.head()"
   ]
  },
  {
   "cell_type": "markdown",
   "metadata": {},
   "source": [
    "#### Now we will find out the 9 x 9 correlation matrix of the provided data."
   ]
  },
  {
   "cell_type": "code",
   "execution_count": 5,
   "metadata": {},
   "outputs": [],
   "source": [
    "correlation_matrix = log_transformed_data.corr()"
   ]
  },
  {
   "cell_type": "code",
   "execution_count": 6,
   "metadata": {},
   "outputs": [
    {
     "data": {
      "text/html": [
       "<div>\n",
       "<style scoped>\n",
       "    .dataframe tbody tr th:only-of-type {\n",
       "        vertical-align: middle;\n",
       "    }\n",
       "\n",
       "    .dataframe tbody tr th {\n",
       "        vertical-align: top;\n",
       "    }\n",
       "\n",
       "    .dataframe thead th {\n",
       "        text-align: right;\n",
       "    }\n",
       "</style>\n",
       "<table border=\"1\" class=\"dataframe\">\n",
       "  <thead>\n",
       "    <tr style=\"text-align: right;\">\n",
       "      <th></th>\n",
       "      <th>Climate</th>\n",
       "      <th>Housingcost</th>\n",
       "      <th>HealthCare</th>\n",
       "      <th>Crime</th>\n",
       "      <th>Trans</th>\n",
       "      <th>Educ</th>\n",
       "      <th>Arts</th>\n",
       "      <th>Recreat</th>\n",
       "      <th>Econ</th>\n",
       "    </tr>\n",
       "  </thead>\n",
       "  <tbody>\n",
       "    <tr>\n",
       "      <th>Climate</th>\n",
       "      <td>1.000000</td>\n",
       "      <td>0.272964</td>\n",
       "      <td>0.150561</td>\n",
       "      <td>0.227751</td>\n",
       "      <td>0.021559</td>\n",
       "      <td>0.077458</td>\n",
       "      <td>0.172683</td>\n",
       "      <td>0.120610</td>\n",
       "      <td>-0.100727</td>\n",
       "    </tr>\n",
       "    <tr>\n",
       "      <th>Housingcost</th>\n",
       "      <td>0.272964</td>\n",
       "      <td>1.000000</td>\n",
       "      <td>0.431935</td>\n",
       "      <td>0.139234</td>\n",
       "      <td>0.317732</td>\n",
       "      <td>0.202088</td>\n",
       "      <td>0.508501</td>\n",
       "      <td>0.460696</td>\n",
       "      <td>0.297058</td>\n",
       "    </tr>\n",
       "    <tr>\n",
       "      <th>HealthCare</th>\n",
       "      <td>0.150561</td>\n",
       "      <td>0.431935</td>\n",
       "      <td>1.000000</td>\n",
       "      <td>0.183625</td>\n",
       "      <td>0.418850</td>\n",
       "      <td>0.464764</td>\n",
       "      <td>0.678129</td>\n",
       "      <td>0.254036</td>\n",
       "      <td>0.054047</td>\n",
       "    </tr>\n",
       "    <tr>\n",
       "      <th>Crime</th>\n",
       "      <td>0.227751</td>\n",
       "      <td>0.139234</td>\n",
       "      <td>0.183625</td>\n",
       "      <td>1.000000</td>\n",
       "      <td>0.273852</td>\n",
       "      <td>0.055508</td>\n",
       "      <td>0.346462</td>\n",
       "      <td>0.292124</td>\n",
       "      <td>0.276182</td>\n",
       "    </tr>\n",
       "    <tr>\n",
       "      <th>Trans</th>\n",
       "      <td>0.021559</td>\n",
       "      <td>0.317732</td>\n",
       "      <td>0.418850</td>\n",
       "      <td>0.273852</td>\n",
       "      <td>1.000000</td>\n",
       "      <td>0.311237</td>\n",
       "      <td>0.547634</td>\n",
       "      <td>0.390684</td>\n",
       "      <td>0.062680</td>\n",
       "    </tr>\n",
       "    <tr>\n",
       "      <th>Educ</th>\n",
       "      <td>0.077458</td>\n",
       "      <td>0.202088</td>\n",
       "      <td>0.464764</td>\n",
       "      <td>0.055508</td>\n",
       "      <td>0.311237</td>\n",
       "      <td>1.000000</td>\n",
       "      <td>0.347899</td>\n",
       "      <td>0.093001</td>\n",
       "      <td>0.128858</td>\n",
       "    </tr>\n",
       "    <tr>\n",
       "      <th>Arts</th>\n",
       "      <td>0.172683</td>\n",
       "      <td>0.508501</td>\n",
       "      <td>0.678129</td>\n",
       "      <td>0.346462</td>\n",
       "      <td>0.547634</td>\n",
       "      <td>0.347899</td>\n",
       "      <td>1.000000</td>\n",
       "      <td>0.496519</td>\n",
       "      <td>0.134761</td>\n",
       "    </tr>\n",
       "    <tr>\n",
       "      <th>Recreat</th>\n",
       "      <td>0.120610</td>\n",
       "      <td>0.460696</td>\n",
       "      <td>0.254036</td>\n",
       "      <td>0.292124</td>\n",
       "      <td>0.390684</td>\n",
       "      <td>0.093001</td>\n",
       "      <td>0.496519</td>\n",
       "      <td>1.000000</td>\n",
       "      <td>0.175914</td>\n",
       "    </tr>\n",
       "    <tr>\n",
       "      <th>Econ</th>\n",
       "      <td>-0.100727</td>\n",
       "      <td>0.297058</td>\n",
       "      <td>0.054047</td>\n",
       "      <td>0.276182</td>\n",
       "      <td>0.062680</td>\n",
       "      <td>0.128858</td>\n",
       "      <td>0.134761</td>\n",
       "      <td>0.175914</td>\n",
       "      <td>1.000000</td>\n",
       "    </tr>\n",
       "  </tbody>\n",
       "</table>\n",
       "</div>"
      ],
      "text/plain": [
       "              Climate  Housingcost  HealthCare     Crime     Trans      Educ  \\\n",
       "Climate      1.000000     0.272964    0.150561  0.227751  0.021559  0.077458   \n",
       "Housingcost  0.272964     1.000000    0.431935  0.139234  0.317732  0.202088   \n",
       "HealthCare   0.150561     0.431935    1.000000  0.183625  0.418850  0.464764   \n",
       "Crime        0.227751     0.139234    0.183625  1.000000  0.273852  0.055508   \n",
       "Trans        0.021559     0.317732    0.418850  0.273852  1.000000  0.311237   \n",
       "Educ         0.077458     0.202088    0.464764  0.055508  0.311237  1.000000   \n",
       "Arts         0.172683     0.508501    0.678129  0.346462  0.547634  0.347899   \n",
       "Recreat      0.120610     0.460696    0.254036  0.292124  0.390684  0.093001   \n",
       "Econ        -0.100727     0.297058    0.054047  0.276182  0.062680  0.128858   \n",
       "\n",
       "                 Arts   Recreat      Econ  \n",
       "Climate      0.172683  0.120610 -0.100727  \n",
       "Housingcost  0.508501  0.460696  0.297058  \n",
       "HealthCare   0.678129  0.254036  0.054047  \n",
       "Crime        0.346462  0.292124  0.276182  \n",
       "Trans        0.547634  0.390684  0.062680  \n",
       "Educ         0.347899  0.093001  0.128858  \n",
       "Arts         1.000000  0.496519  0.134761  \n",
       "Recreat      0.496519  1.000000  0.175914  \n",
       "Econ         0.134761  0.175914  1.000000  "
      ]
     },
     "execution_count": 6,
     "metadata": {},
     "output_type": "execute_result"
    }
   ],
   "source": [
    "# Diplaying the correlation matrix\n",
    "\n",
    "correlation_matrix"
   ]
  },
  {
   "cell_type": "markdown",
   "metadata": {},
   "source": [
    "covar mat"
   ]
  },
  {
   "cell_type": "code",
   "execution_count": 7,
   "metadata": {},
   "outputs": [
    {
     "data": {
      "text/html": [
       "<div>\n",
       "<style scoped>\n",
       "    .dataframe tbody tr th:only-of-type {\n",
       "        vertical-align: middle;\n",
       "    }\n",
       "\n",
       "    .dataframe tbody tr th {\n",
       "        vertical-align: top;\n",
       "    }\n",
       "\n",
       "    .dataframe thead th {\n",
       "        text-align: right;\n",
       "    }\n",
       "</style>\n",
       "<table border=\"1\" class=\"dataframe\">\n",
       "  <thead>\n",
       "    <tr style=\"text-align: right;\">\n",
       "      <th></th>\n",
       "      <th>Climate</th>\n",
       "      <th>Housingcost</th>\n",
       "      <th>HealthCare</th>\n",
       "      <th>Crime</th>\n",
       "      <th>Trans</th>\n",
       "      <th>Educ</th>\n",
       "      <th>Arts</th>\n",
       "      <th>Recreat</th>\n",
       "      <th>Econ</th>\n",
       "    </tr>\n",
       "  </thead>\n",
       "  <tbody>\n",
       "    <tr>\n",
       "      <th>Climate</th>\n",
       "      <td>0.012892</td>\n",
       "      <td>0.003268</td>\n",
       "      <td>0.005479</td>\n",
       "      <td>0.004374</td>\n",
       "      <td>0.000386</td>\n",
       "      <td>0.000442</td>\n",
       "      <td>0.010689</td>\n",
       "      <td>0.002573</td>\n",
       "      <td>-0.000966</td>\n",
       "    </tr>\n",
       "    <tr>\n",
       "      <th>Housingcost</th>\n",
       "      <td>0.003268</td>\n",
       "      <td>0.011116</td>\n",
       "      <td>0.014596</td>\n",
       "      <td>0.002483</td>\n",
       "      <td>0.005279</td>\n",
       "      <td>0.001070</td>\n",
       "      <td>0.029226</td>\n",
       "      <td>0.009127</td>\n",
       "      <td>0.002646</td>\n",
       "    </tr>\n",
       "    <tr>\n",
       "      <th>HealthCare</th>\n",
       "      <td>0.005479</td>\n",
       "      <td>0.014596</td>\n",
       "      <td>0.102728</td>\n",
       "      <td>0.009955</td>\n",
       "      <td>0.021153</td>\n",
       "      <td>0.007478</td>\n",
       "      <td>0.118484</td>\n",
       "      <td>0.015299</td>\n",
       "      <td>0.001463</td>\n",
       "    </tr>\n",
       "    <tr>\n",
       "      <th>Crime</th>\n",
       "      <td>0.004374</td>\n",
       "      <td>0.002483</td>\n",
       "      <td>0.009955</td>\n",
       "      <td>0.028611</td>\n",
       "      <td>0.007299</td>\n",
       "      <td>0.000471</td>\n",
       "      <td>0.031947</td>\n",
       "      <td>0.009285</td>\n",
       "      <td>0.003946</td>\n",
       "    </tr>\n",
       "    <tr>\n",
       "      <th>Trans</th>\n",
       "      <td>0.000386</td>\n",
       "      <td>0.005279</td>\n",
       "      <td>0.021153</td>\n",
       "      <td>0.007299</td>\n",
       "      <td>0.024829</td>\n",
       "      <td>0.002462</td>\n",
       "      <td>0.047041</td>\n",
       "      <td>0.011567</td>\n",
       "      <td>0.000834</td>\n",
       "    </tr>\n",
       "    <tr>\n",
       "      <th>Educ</th>\n",
       "      <td>0.000442</td>\n",
       "      <td>0.001070</td>\n",
       "      <td>0.007478</td>\n",
       "      <td>0.000471</td>\n",
       "      <td>0.002462</td>\n",
       "      <td>0.002520</td>\n",
       "      <td>0.009520</td>\n",
       "      <td>0.000877</td>\n",
       "      <td>0.000546</td>\n",
       "    </tr>\n",
       "    <tr>\n",
       "      <th>Arts</th>\n",
       "      <td>0.010689</td>\n",
       "      <td>0.029226</td>\n",
       "      <td>0.118484</td>\n",
       "      <td>0.031947</td>\n",
       "      <td>0.047041</td>\n",
       "      <td>0.009520</td>\n",
       "      <td>0.297173</td>\n",
       "      <td>0.050860</td>\n",
       "      <td>0.006206</td>\n",
       "    </tr>\n",
       "    <tr>\n",
       "      <th>Recreat</th>\n",
       "      <td>0.002573</td>\n",
       "      <td>0.009127</td>\n",
       "      <td>0.015299</td>\n",
       "      <td>0.009285</td>\n",
       "      <td>0.011567</td>\n",
       "      <td>0.000877</td>\n",
       "      <td>0.050860</td>\n",
       "      <td>0.035308</td>\n",
       "      <td>0.002792</td>\n",
       "    </tr>\n",
       "    <tr>\n",
       "      <th>Econ</th>\n",
       "      <td>-0.000966</td>\n",
       "      <td>0.002646</td>\n",
       "      <td>0.001463</td>\n",
       "      <td>0.003946</td>\n",
       "      <td>0.000834</td>\n",
       "      <td>0.000546</td>\n",
       "      <td>0.006206</td>\n",
       "      <td>0.002792</td>\n",
       "      <td>0.007137</td>\n",
       "    </tr>\n",
       "  </tbody>\n",
       "</table>\n",
       "</div>"
      ],
      "text/plain": [
       "              Climate  Housingcost  HealthCare     Crime     Trans      Educ  \\\n",
       "Climate      0.012892     0.003268    0.005479  0.004374  0.000386  0.000442   \n",
       "Housingcost  0.003268     0.011116    0.014596  0.002483  0.005279  0.001070   \n",
       "HealthCare   0.005479     0.014596    0.102728  0.009955  0.021153  0.007478   \n",
       "Crime        0.004374     0.002483    0.009955  0.028611  0.007299  0.000471   \n",
       "Trans        0.000386     0.005279    0.021153  0.007299  0.024829  0.002462   \n",
       "Educ         0.000442     0.001070    0.007478  0.000471  0.002462  0.002520   \n",
       "Arts         0.010689     0.029226    0.118484  0.031947  0.047041  0.009520   \n",
       "Recreat      0.002573     0.009127    0.015299  0.009285  0.011567  0.000877   \n",
       "Econ        -0.000966     0.002646    0.001463  0.003946  0.000834  0.000546   \n",
       "\n",
       "                 Arts   Recreat      Econ  \n",
       "Climate      0.010689  0.002573 -0.000966  \n",
       "Housingcost  0.029226  0.009127  0.002646  \n",
       "HealthCare   0.118484  0.015299  0.001463  \n",
       "Crime        0.031947  0.009285  0.003946  \n",
       "Trans        0.047041  0.011567  0.000834  \n",
       "Educ         0.009520  0.000877  0.000546  \n",
       "Arts         0.297173  0.050860  0.006206  \n",
       "Recreat      0.050860  0.035308  0.002792  \n",
       "Econ         0.006206  0.002792  0.007137  "
      ]
     },
     "execution_count": 7,
     "metadata": {},
     "output_type": "execute_result"
    }
   ],
   "source": [
    "log_transformed_data.cov()"
   ]
  },
  {
   "cell_type": "markdown",
   "metadata": {},
   "source": [
    "#### (i) Now we will be finding the 9 eigenvalues of the 9 x 9 correlation matrix.\n",
    "The output array is an array of the 9 eigen values in descending order."
   ]
  },
  {
   "cell_type": "code",
   "execution_count": 148,
   "metadata": {},
   "outputs": [
    {
     "data": {
      "text/plain": [
       "array([3.297793  , 1.21356187, 1.10552987, 0.90727984, 0.86062869,\n",
       "       0.5621858 , 0.48382061, 0.31807215, 0.25112816])"
      ]
     },
     "execution_count": 148,
     "metadata": {},
     "output_type": "execute_result"
    }
   ],
   "source": [
    "eigenvalues, eigenvectors = np.linalg.eig(correlation_matrix.values)\n",
    "eigenvectors = -eigenvectors\n",
    "eigenvalues.sort()\n",
    "eigenvalues = eigenvalues[::-1]\n",
    "eigenvalues"
   ]
  },
  {
   "cell_type": "markdown",
   "metadata": {},
   "source": [
    "#### (ii) Now we would be finding out the eigenvectors corresponding to the eigenvalues found in (i)"
   ]
  },
  {
   "cell_type": "code",
   "execution_count": 149,
   "metadata": {},
   "outputs": [
    {
     "data": {
      "text/plain": [
       "array([[ 0.15794137,  0.06862938,  0.79970997, -0.03009755,  0.34112819,\n",
       "        -0.15135161,  0.21669497, -0.37680952,  0.04104588],\n",
       "       [ 0.3844053 ,  0.13920883,  0.07961647,  0.04226906, -0.60610102,\n",
       "        -0.2751971 , -0.08222008, -0.19654301, -0.57986793],\n",
       "       [ 0.40990962, -0.37181203, -0.01947537, -0.59412763,  0.15005752,\n",
       "         0.13497502, -0.5348756 , -0.11252206,  0.02956935],\n",
       "       [ 0.2591017 ,  0.47413246,  0.12846722, -0.05101188, -0.42012549,\n",
       "         0.10950357, -0.13990092,  0.04229962,  0.692171  ],\n",
       "       [ 0.37488902, -0.14148642, -0.14106828, -0.13584327,  0.11883253,\n",
       "        -0.67856704,  0.3238914 ,  0.43007675,  0.19141608],\n",
       "       [ 0.27432537, -0.45235526, -0.24105584,  0.1101242 , -0.21117489,\n",
       "         0.26209582,  0.52658273, -0.45694297,  0.22474374],\n",
       "       [ 0.47384706, -0.1044102 ,  0.01102628,  0.74672678,  0.2598673 ,\n",
       "         0.12049856, -0.32105707,  0.1468813 ,  0.01193024],\n",
       "       [ 0.35341176,  0.29194243,  0.04181639, -0.22636544,  0.13771814,\n",
       "         0.55309377,  0.39413877,  0.40401889, -0.30565371],\n",
       "       [ 0.16401345,  0.54045312, -0.50731026, -0.04790278,  0.41477357,\n",
       "        -0.1468669 , -0.00097374, -0.47578009, -0.03710776]])"
      ]
     },
     "execution_count": 149,
     "metadata": {},
     "output_type": "execute_result"
    }
   ],
   "source": [
    "eigenvectors"
   ]
  },
  {
   "cell_type": "code",
   "execution_count": 150,
   "metadata": {},
   "outputs": [
    {
     "data": {
      "text/plain": [
       "array([0.15794137, 0.3844053 , 0.40990962, 0.2591017 , 0.37488902,\n",
       "       0.27432537, 0.47384706, 0.35341176, 0.16401345])"
      ]
     },
     "execution_count": 150,
     "metadata": {},
     "output_type": "execute_result"
    }
   ],
   "source": [
    "# The first eigenvector corresponding to eigenvalue of 3.297793. \n",
    "# The following is an array of the vector components.\n",
    "# Note that the vectors are normalised so that their magnitude is 1.0\n",
    "eigenvectors[:,0]"
   ]
  },
  {
   "cell_type": "code",
   "execution_count": 151,
   "metadata": {},
   "outputs": [
    {
     "data": {
      "text/plain": [
       "array([ 0.06862938,  0.13920883, -0.37181203,  0.47413246, -0.14148642,\n",
       "       -0.45235526, -0.1044102 ,  0.29194243,  0.54045312])"
      ]
     },
     "execution_count": 151,
     "metadata": {},
     "output_type": "execute_result"
    }
   ],
   "source": [
    "# The second eigenvector corresponding to eigenvalue of 1.21356187. \n",
    "# The following is an array of the vector components.\n",
    "eigenvectors[:,1]"
   ]
  },
  {
   "cell_type": "markdown",
   "metadata": {},
   "source": [
    "#### (iii) expressions of the first principal component, PC1, and the second principal component, PC2, in terms of the standardized log base 10 values."
   ]
  },
  {
   "cell_type": "markdown",
   "metadata": {},
   "source": [
    "#### The principal components can now be expressed in terms of the eigenvector components.\n",
    "\n",
    "\n",
    "<b>PC1</b> = 0.15794137 x <b>Climate</b> +  0.3844053 x <b>Housing</b> + 0.40990962 x <b>HealthCare</b> + 0.2591017 x <b>Crime</b> + 0.37488902 x <b>Trans</b> +  0.27432537 x <b>Educ</b> + 0.47384706 + <b>Arts</b> + 0.35341176 + <b>Recreat</b> + 0.16401345 x <b>Econ</b>\n",
    "\n",
    "\n",
    "#### It is to be noted that the data values Climate, Housing, HealthCare and so on are NOT the raw data values but the standardised log tranformed data values.\n",
    "\n",
    "\n",
    "Similarly,\n",
    "\n",
    "\n",
    "<b>PC2</b> = 0.06862938 x <b>Climate</b> +  0.13920883 x <b>Housing</b> - 0.37181203 x <b>HealthCare</b> + 0.47413246 x <b>Crime</b> - 0.14148642 x <b>Trans</b> - 0.45235526 x <b>Educ</b> - 0.1044102 x <b>Arts</b> + 0.29194243 x <b>Recreat</b> + 0.54045312 x <b>Econ</b>"
   ]
  },
  {
   "cell_type": "markdown",
   "metadata": {},
   "source": [
    "#### (iv) the percentage of variation explained by PC1"
   ]
  },
  {
   "cell_type": "code",
   "execution_count": 152,
   "metadata": {},
   "outputs": [
    {
     "data": {
      "text/plain": [
       "36.642144444163485"
      ]
     },
     "execution_count": 152,
     "metadata": {},
     "output_type": "execute_result"
    }
   ],
   "source": [
    "percent_var_P1 = (eigenvalues[0] / sum(eigenvalues)) * 100\n",
    "percent_var_P1"
   ]
  },
  {
   "cell_type": "markdown",
   "metadata": {},
   "source": [
    "So PC1 explains 36.64 % of the variation."
   ]
  },
  {
   "cell_type": "code",
   "execution_count": 155,
   "metadata": {},
   "outputs": [
    {
     "data": {
      "text/plain": [
       "50.12616527671426"
      ]
     },
     "execution_count": 155,
     "metadata": {},
     "output_type": "execute_result"
    }
   ],
   "source": [
    "# total percentage of variation explained by PC1 PC2.\n",
    "total_percent_var = (sum(eigenvalues[0:2]) / sum(eigenvalues)) * 100\n",
    "total_percent_var"
   ]
  },
  {
   "cell_type": "markdown",
   "metadata": {},
   "source": [
    "So PC1 and PC2 explains 50.12 % of the variation."
   ]
  },
  {
   "cell_type": "markdown",
   "metadata": {},
   "source": [
    "#### (v) briefly interpret PC1 and PC2."
   ]
  },
  {
   "cell_type": "markdown",
   "metadata": {},
   "source": [
    "PC1 = The PC1 expression shows relatively higher positive values of eigenvector components for Healthcare and Arts data. So, PC1 is associated with high Healthcare and Arts quality ratings for a city. If the dimensionality of the actual dataset had to be reduced, Healthcare and Arts could be replaced with PC1 since it is a measure of the quality of healthcare and arts in a city due to the aforementioned reasons."
   ]
  },
  {
   "cell_type": "markdown",
   "metadata": {},
   "source": [
    "PC2 = The PC2 expression shows relatively higher eigenvector component values for crime (positive) and education (negative). Thus, it can be said that PC2 represents and distinguishes cities with high crime rates and low education ratings and could be indirectly taken as a measure of crime severity and education qualities of cities."
   ]
  }
 ],
 "metadata": {
  "kernelspec": {
   "display_name": "Python 3",
   "language": "python",
   "name": "python3"
  },
  "language_info": {
   "codemirror_mode": {
    "name": "ipython",
    "version": 3
   },
   "file_extension": ".py",
   "mimetype": "text/x-python",
   "name": "python",
   "nbconvert_exporter": "python",
   "pygments_lexer": "ipython3",
   "version": "3.6.5"
  }
 },
 "nbformat": 4,
 "nbformat_minor": 1
}
