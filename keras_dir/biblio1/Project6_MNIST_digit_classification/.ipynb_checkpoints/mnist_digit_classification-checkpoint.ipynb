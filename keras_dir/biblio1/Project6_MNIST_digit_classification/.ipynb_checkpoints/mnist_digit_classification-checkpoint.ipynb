{
 "cells": [
  {
   "cell_type": "code",
   "execution_count": 26,
   "metadata": {
    "pycharm": {
     "is_executing": false,
     "name": "#%%\n"
    }
   },
   "outputs": [],
   "source": [
    "# do the necessary imports\n",
    "from sklearn.preprocessing import LabelBinarizer\n",
    "from sklearn.model_selection import train_test_split\n",
    "from sklearn.metrics import classification_report\n",
    "from keras.models import Sequential\n",
    "from keras.layers.core import Dense\n",
    "from keras.optimizers import SGD\n",
    "from sklearn import datasets\n",
    "import matplotlib.pyplot as plt\n",
    "import numpy as np\n",
    "import warnings\n",
    "import os\n",
    "\n",
    "warnings.filterwarnings(\"ignore\")"
   ]
  },
  {
   "cell_type": "markdown",
   "metadata": {},
   "source": [
    "We will now grab the full MNIST dataset for digits and split it \n",
    "into training and testing sets."
   ]
  },
  {
   "cell_type": "code",
   "execution_count": 27,
   "metadata": {
    "pycharm": {
     "is_executing": false,
     "name": "#%%\n"
    }
   },
   "outputs": [
    {
     "name": "stdout",
     "output_type": "stream",
     "text": [
      "[INFO] loading MNIST dataset.....\n"
     ]
    }
   ],
   "source": [
    "print(f\"[INFO] loading MNIST dataset.....\")\n",
    "\n",
    "dataset = datasets.fetch_mldata(\"mnist-original\", \n",
    "                                data_home=os.getcwd())\n",
    "data = dataset.data.astype(\"float\")/255\n",
    "trainx, testx, trainy, testy = train_test_split(data, \n",
    "                                                dataset.target,\n",
    "                                                test_size=0.25)"
   ]
  },
  {
   "cell_type": "code",
   "execution_count": 28,
   "metadata": {
    "pycharm": {
     "is_executing": false,
     "name": "#%%\n"
    }
   },
   "outputs": [],
   "source": [
    "# onw hot encode labels which are in the range of 0 - 9\n",
    "lb = LabelBinarizer()\n",
    "trainy = lb.fit_transform(trainy)\n",
    "testy = lb.transform(testy)"
   ]
  },
  {
   "cell_type": "markdown",
   "metadata": {},
   "source": [
    "Below, we shall construct our deep neural network model with a \n",
    "784-256-128-10 architecture with sigmoid activations. Each grayscale image in the MNIST dataset is encoded as a flattened vector of length 784 elements, resulting from the 28 x 28 images in the original dataset."
   ]
  },
  {
   "cell_type": "code",
   "execution_count": 29,
   "metadata": {
    "pycharm": {
     "is_executing": false,
     "name": "#%%\n"
    }
   },
   "outputs": [
    {
     "name": "stdout",
     "output_type": "stream",
     "text": [
      "_________________________________________________________________\n",
      "Layer (type)                 Output Shape              Param #   \n",
      "=================================================================\n",
      "dense_4 (Dense)              (None, 256)               200960    \n",
      "_________________________________________________________________\n",
      "dense_5 (Dense)              (None, 128)               32896     \n",
      "_________________________________________________________________\n",
      "dense_6 (Dense)              (None, 10)                1290      \n",
      "=================================================================\n",
      "Total params: 235,146\n",
      "Trainable params: 235,146\n",
      "Non-trainable params: 0\n",
      "_________________________________________________________________\n"
     ]
    }
   ],
   "source": [
    "# define the 784-256-128-10 neural network architecture using Keras\n",
    "model = Sequential()\n",
    "model.add(Dense(256, \n",
    "                input_shape=(784,), \n",
    "                activation='sigmoid'))\n",
    "model.add(Dense(128, activation='sigmoid'))\n",
    "model.add(Dense(10, activation='softmax'))\n",
    "model.summary()"
   ]
  },
  {
   "cell_type": "code",
   "execution_count": 30,
   "metadata": {
    "pycharm": {
     "is_executing": true,
     "name": "#%%\n"
    },
    "scrolled": true
   },
   "outputs": [
    {
     "name": "stdout",
     "output_type": "stream",
     "text": [
      "[INFO] training network......\n",
      "Epoch 1/100\n",
      "52500/52500 [==============================] - 1s 22us/step - loss: 2.2849 - acc: 0.1761\n",
      "Epoch 2/100\n",
      "52500/52500 [==============================] - 1s 19us/step - loss: 2.2276 - acc: 0.3428\n",
      "Epoch 3/100\n",
      "52500/52500 [==============================] - 1s 19us/step - loss: 2.1621 - acc: 0.5040\n",
      "Epoch 4/100\n",
      "52500/52500 [==============================] - 1s 21us/step - loss: 2.0729 - acc: 0.5694\n",
      "Epoch 5/100\n",
      "52500/52500 [==============================] - 1s 20us/step - loss: 1.9492 - acc: 0.6097\n",
      "Epoch 6/100\n",
      "52500/52500 [==============================] - 1s 19us/step - loss: 1.7873 - acc: 0.6410\n",
      "Epoch 7/100\n",
      "52500/52500 [==============================] - 1s 19us/step - loss: 1.5995 - acc: 0.6751\n",
      "Epoch 8/100\n",
      "52500/52500 [==============================] - 1s 19us/step - loss: 1.4095 - acc: 0.7085\n",
      "Epoch 9/100\n",
      "52500/52500 [==============================] - 1s 19us/step - loss: 1.2391 - acc: 0.7379\n",
      "Epoch 10/100\n",
      "52500/52500 [==============================] - 1s 20us/step - loss: 1.0972 - acc: 0.7631\n",
      "Epoch 11/100\n",
      "52500/52500 [==============================] - 1s 20us/step - loss: 0.9835 - acc: 0.7836\n",
      "Epoch 12/100\n",
      "52500/52500 [==============================] - 1s 19us/step - loss: 0.8921 - acc: 0.8010\n",
      "Epoch 13/100\n",
      "52500/52500 [==============================] - 1s 20us/step - loss: 0.8182 - acc: 0.8132\n",
      "Epoch 14/100\n",
      "52500/52500 [==============================] - 1s 23us/step - loss: 0.7574 - acc: 0.8238\n",
      "Epoch 15/100\n",
      "52500/52500 [==============================] - 1s 21us/step - loss: 0.7069 - acc: 0.8322\n",
      "Epoch 16/100\n",
      "52500/52500 [==============================] - 1s 19us/step - loss: 0.6649 - acc: 0.8393\n",
      "Epoch 17/100\n",
      "52500/52500 [==============================] - 1s 20us/step - loss: 0.6292 - acc: 0.8462\n",
      "Epoch 18/100\n",
      "52500/52500 [==============================] - 1s 19us/step - loss: 0.5989 - acc: 0.8508\n",
      "Epoch 19/100\n",
      "52500/52500 [==============================] - 1s 20us/step - loss: 0.5729 - acc: 0.8563\n",
      "Epoch 20/100\n",
      "52500/52500 [==============================] - 1s 20us/step - loss: 0.5504 - acc: 0.8603\n",
      "Epoch 21/100\n",
      "52500/52500 [==============================] - 1s 20us/step - loss: 0.5307 - acc: 0.8642\n",
      "Epoch 22/100\n",
      "52500/52500 [==============================] - 1s 21us/step - loss: 0.5133 - acc: 0.8676\n",
      "Epoch 23/100\n",
      "52500/52500 [==============================] - 1s 20us/step - loss: 0.4980 - acc: 0.8703\n",
      "Epoch 24/100\n",
      "52500/52500 [==============================] - 1s 19us/step - loss: 0.4842 - acc: 0.8729\n",
      "Epoch 25/100\n",
      "52500/52500 [==============================] - 1s 19us/step - loss: 0.4721 - acc: 0.8755\n",
      "Epoch 26/100\n",
      "52500/52500 [==============================] - 1s 19us/step - loss: 0.4610 - acc: 0.8779\n",
      "Epoch 27/100\n",
      "52500/52500 [==============================] - 1s 20us/step - loss: 0.4510 - acc: 0.8801\n",
      "Epoch 28/100\n",
      "52500/52500 [==============================] - 1s 19us/step - loss: 0.4419 - acc: 0.8822\n",
      "Epoch 29/100\n",
      "52500/52500 [==============================] - 1s 20us/step - loss: 0.4335 - acc: 0.8834\n",
      "Epoch 30/100\n",
      "52500/52500 [==============================] - 1s 19us/step - loss: 0.4259 - acc: 0.8853\n",
      "Epoch 31/100\n",
      "52500/52500 [==============================] - 1s 19us/step - loss: 0.4189 - acc: 0.8862\n",
      "Epoch 32/100\n",
      "52500/52500 [==============================] - 1s 19us/step - loss: 0.4124 - acc: 0.8875\n",
      "Epoch 33/100\n",
      "52500/52500 [==============================] - 1s 19us/step - loss: 0.4064 - acc: 0.8886\n",
      "Epoch 34/100\n",
      "52500/52500 [==============================] - 1s 24us/step - loss: 0.4007 - acc: 0.8902\n",
      "Epoch 35/100\n",
      "52500/52500 [==============================] - 1s 20us/step - loss: 0.3956 - acc: 0.8910\n",
      "Epoch 36/100\n",
      "52500/52500 [==============================] - 1s 19us/step - loss: 0.3906 - acc: 0.8921\n",
      "Epoch 37/100\n",
      "52500/52500 [==============================] - 1s 20us/step - loss: 0.3861 - acc: 0.8927\n",
      "Epoch 38/100\n",
      "52500/52500 [==============================] - 1s 19us/step - loss: 0.3818 - acc: 0.8937\n",
      "Epoch 39/100\n",
      "52500/52500 [==============================] - 1s 19us/step - loss: 0.3778 - acc: 0.8951\n",
      "Epoch 40/100\n",
      "52500/52500 [==============================] - 1s 19us/step - loss: 0.3739 - acc: 0.8958\n",
      "Epoch 41/100\n",
      "52500/52500 [==============================] - 1s 19us/step - loss: 0.3702 - acc: 0.8966\n",
      "Epoch 42/100\n",
      "52500/52500 [==============================] - 1s 19us/step - loss: 0.3669 - acc: 0.8969\n",
      "Epoch 43/100\n",
      "52500/52500 [==============================] - 1s 19us/step - loss: 0.3636 - acc: 0.8977\n",
      "Epoch 44/100\n",
      "52500/52500 [==============================] - 1s 19us/step - loss: 0.3605 - acc: 0.8979\n",
      "Epoch 45/100\n",
      "52500/52500 [==============================] - 1s 19us/step - loss: 0.3574 - acc: 0.8987\n",
      "Epoch 46/100\n",
      "52500/52500 [==============================] - 1s 20us/step - loss: 0.3547 - acc: 0.8993\n",
      "Epoch 47/100\n",
      "52500/52500 [==============================] - 1s 19us/step - loss: 0.3520 - acc: 0.9003\n",
      "Epoch 48/100\n",
      "52500/52500 [==============================] - 1s 20us/step - loss: 0.3493 - acc: 0.9010\n",
      "Epoch 49/100\n",
      "52500/52500 [==============================] - 1s 19us/step - loss: 0.3467 - acc: 0.9012\n",
      "Epoch 50/100\n",
      "52500/52500 [==============================] - 1s 19us/step - loss: 0.3444 - acc: 0.9015\n",
      "Epoch 51/100\n",
      "52500/52500 [==============================] - 1s 19us/step - loss: 0.3420 - acc: 0.9024\n",
      "Epoch 52/100\n",
      "52500/52500 [==============================] - 1s 20us/step - loss: 0.3398 - acc: 0.9033\n",
      "Epoch 53/100\n",
      "52500/52500 [==============================] - 1s 21us/step - loss: 0.3375 - acc: 0.9032\n",
      "Epoch 54/100\n",
      "52500/52500 [==============================] - 1s 20us/step - loss: 0.3355 - acc: 0.9040\n",
      "Epoch 55/100\n",
      "52500/52500 [==============================] - 1s 19us/step - loss: 0.3335 - acc: 0.9046\n",
      "Epoch 56/100\n",
      "52500/52500 [==============================] - 1s 23us/step - loss: 0.3316 - acc: 0.9048\n",
      "Epoch 57/100\n",
      "52500/52500 [==============================] - 1s 21us/step - loss: 0.3295 - acc: 0.9057\n",
      "Epoch 58/100\n",
      "52500/52500 [==============================] - 1s 19us/step - loss: 0.3277 - acc: 0.9062\n",
      "Epoch 59/100\n",
      "52500/52500 [==============================] - 1s 20us/step - loss: 0.3259 - acc: 0.9066\n",
      "Epoch 60/100\n",
      "52500/52500 [==============================] - 1s 20us/step - loss: 0.3241 - acc: 0.9067\n",
      "Epoch 61/100\n",
      "52500/52500 [==============================] - 1s 19us/step - loss: 0.3224 - acc: 0.9073\n",
      "Epoch 62/100\n",
      "52500/52500 [==============================] - 1s 19us/step - loss: 0.3207 - acc: 0.9078\n",
      "Epoch 63/100\n",
      "52500/52500 [==============================] - 1s 20us/step - loss: 0.3191 - acc: 0.9082\n",
      "Epoch 64/100\n",
      "52500/52500 [==============================] - 1s 20us/step - loss: 0.3175 - acc: 0.9086\n",
      "Epoch 65/100\n",
      "52500/52500 [==============================] - 1s 20us/step - loss: 0.3159 - acc: 0.9089\n",
      "Epoch 66/100\n",
      "52500/52500 [==============================] - 1s 19us/step - loss: 0.3144 - acc: 0.9095\n",
      "Epoch 67/100\n",
      "52500/52500 [==============================] - 1s 19us/step - loss: 0.3129 - acc: 0.9100\n",
      "Epoch 68/100\n",
      "52500/52500 [==============================] - 1s 20us/step - loss: 0.3115 - acc: 0.9102\n",
      "Epoch 69/100\n",
      "52500/52500 [==============================] - 1s 20us/step - loss: 0.3100 - acc: 0.9103\n",
      "Epoch 70/100\n",
      "52500/52500 [==============================] - 1s 21us/step - loss: 0.3087 - acc: 0.9113\n",
      "Epoch 71/100\n",
      "52500/52500 [==============================] - 1s 20us/step - loss: 0.3072 - acc: 0.9111\n",
      "Epoch 72/100\n",
      "52500/52500 [==============================] - 1s 19us/step - loss: 0.3060 - acc: 0.9115\n",
      "Epoch 73/100\n",
      "52500/52500 [==============================] - 1s 19us/step - loss: 0.3047 - acc: 0.9122\n",
      "Epoch 74/100\n",
      "52500/52500 [==============================] - 1s 19us/step - loss: 0.3034 - acc: 0.9122\n",
      "Epoch 75/100\n",
      "52500/52500 [==============================] - 1s 19us/step - loss: 0.3021 - acc: 0.9130\n",
      "Epoch 76/100\n",
      "52500/52500 [==============================] - 1s 19us/step - loss: 0.3008 - acc: 0.9133\n",
      "Epoch 77/100\n",
      "52500/52500 [==============================] - 1s 23us/step - loss: 0.2996 - acc: 0.9135\n",
      "Epoch 78/100\n",
      "52500/52500 [==============================] - 1s 22us/step - loss: 0.2984 - acc: 0.9140\n",
      "Epoch 79/100\n",
      "52500/52500 [==============================] - 1s 19us/step - loss: 0.2972 - acc: 0.9142\n",
      "Epoch 80/100\n",
      "52500/52500 [==============================] - 1s 20us/step - loss: 0.2961 - acc: 0.9147\n",
      "Epoch 81/100\n"
     ]
    },
    {
     "name": "stdout",
     "output_type": "stream",
     "text": [
      "52500/52500 [==============================] - 1s 20us/step - loss: 0.2949 - acc: 0.9150\n",
      "Epoch 82/100\n",
      "52500/52500 [==============================] - 1s 20us/step - loss: 0.2938 - acc: 0.9150\n",
      "Epoch 83/100\n",
      "52500/52500 [==============================] - 1s 19us/step - loss: 0.2927 - acc: 0.9156\n",
      "Epoch 84/100\n",
      "52500/52500 [==============================] - 1s 19us/step - loss: 0.2916 - acc: 0.9159\n",
      "Epoch 85/100\n",
      "52500/52500 [==============================] - 1s 20us/step - loss: 0.2905 - acc: 0.9159\n",
      "Epoch 86/100\n",
      "52500/52500 [==============================] - 1s 21us/step - loss: 0.2894 - acc: 0.9162\n",
      "Epoch 87/100\n",
      "52500/52500 [==============================] - 1s 19us/step - loss: 0.2884 - acc: 0.9165\n",
      "Epoch 88/100\n",
      "52500/52500 [==============================] - 1s 19us/step - loss: 0.2874 - acc: 0.9168\n",
      "Epoch 89/100\n",
      "52500/52500 [==============================] - 1s 20us/step - loss: 0.2863 - acc: 0.9170\n",
      "Epoch 90/100\n",
      "52500/52500 [==============================] - 1s 19us/step - loss: 0.2854 - acc: 0.9172\n",
      "Epoch 91/100\n",
      "52500/52500 [==============================] - 1s 19us/step - loss: 0.2843 - acc: 0.9175\n",
      "Epoch 92/100\n",
      "52500/52500 [==============================] - 1s 19us/step - loss: 0.2833 - acc: 0.9178\n",
      "Epoch 93/100\n",
      "52500/52500 [==============================] - 1s 19us/step - loss: 0.2823 - acc: 0.9181\n",
      "Epoch 94/100\n",
      "52500/52500 [==============================] - 1s 19us/step - loss: 0.2814 - acc: 0.9182\n",
      "Epoch 95/100\n",
      "52500/52500 [==============================] - 1s 19us/step - loss: 0.2804 - acc: 0.9186\n",
      "Epoch 96/100\n",
      "52500/52500 [==============================] - 1s 19us/step - loss: 0.2795 - acc: 0.9190\n",
      "Epoch 97/100\n",
      "52500/52500 [==============================] - 1s 19us/step - loss: 0.2785 - acc: 0.9191\n",
      "Epoch 98/100\n",
      "52500/52500 [==============================] - 1s 20us/step - loss: 0.2777 - acc: 0.9192\n",
      "Epoch 99/100\n",
      "52500/52500 [==============================] - 1s 20us/step - loss: 0.2767 - acc: 0.9193\n",
      "Epoch 100/100\n",
      "52500/52500 [==============================] - 1s 19us/step - loss: 0.2758 - acc: 0.9199\n"
     ]
    }
   ],
   "source": [
    "print(f\"[INFO] training network......\")\n",
    "sgd = SGD()\n",
    "model.compile(loss='categorical_crossentropy', \n",
    "              optimizer=sgd, metrics=['accuracy'])\n",
    "H = model.fit(trainx, trainy, batch_size=128, epochs=100)"
   ]
  },
  {
   "cell_type": "code",
   "execution_count": 31,
   "metadata": {
    "pycharm": {
     "name": "#%%\n"
    }
   },
   "outputs": [
    {
     "name": "stdout",
     "output_type": "stream",
     "text": [
      "              precision    recall  f1-score   support\n",
      "\n",
      "         0.0       0.95      0.96      0.96      1769\n",
      "         1.0       0.95      0.97      0.96      2013\n",
      "         2.0       0.93      0.89      0.91      1765\n",
      "         3.0       0.91      0.89      0.90      1765\n",
      "         4.0       0.91      0.92      0.92      1674\n",
      "         5.0       0.88      0.87      0.88      1544\n",
      "         6.0       0.92      0.96      0.94      1633\n",
      "         7.0       0.94      0.93      0.93      1850\n",
      "         8.0       0.89      0.89      0.89      1718\n",
      "         9.0       0.89      0.91      0.90      1769\n",
      "\n",
      "    accuracy                           0.92     17500\n",
      "   macro avg       0.92      0.92      0.92     17500\n",
      "weighted avg       0.92      0.92      0.92     17500\n",
      "\n"
     ]
    }
   ],
   "source": [
    "# evaluate the network\n",
    "predictions = model.predict(testx, batch_size=128)\n",
    "print(classification_report(testy.argmax(axis=1), \n",
    "                            predictions.argmax(axis=1), \n",
    "                            target_names=[str(x) for x in lb.classes_]))"
   ]
  },
  {
   "cell_type": "code",
   "execution_count": 32,
   "metadata": {},
   "outputs": [],
   "source": [
    "# plot the loss and accuracy trends\n",
    "import seaborn as sns\n",
    "sns.set_style(\"darkgrid\")"
   ]
  },
  {
   "cell_type": "code",
   "execution_count": 33,
   "metadata": {
    "scrolled": true
   },
   "outputs": [
    {
     "data": {
      "text/plain": [
       "Text(0, 0.5, 'Loss/Accuracy')"
      ]
     },
     "execution_count": 33,
     "metadata": {},
     "output_type": "execute_result"
    },
    {
     "data": {
      "image/png": "[encoded data removed]",
      "text/plain": [
       "<Figure size 1152x504 with 1 Axes>"
      ]
     },
     "metadata": {},
     "output_type": "display_data"
    }
   ],
   "source": [
    "f, ax = plt.subplots(1, 1, figsize=(16, 7))\n",
    "ax.set_title(\"Plot of Loss/Accuracy over Epochs\")\n",
    "sns.lineplot(x=range(len(H.history['loss'])), y=H.history['loss'], ax=ax, label=\"Loss\")\n",
    "sns.lineplot(x=range(len(H.history['loss'])), y=H.history['acc'], ax=ax, label=\"accuracy\")\n",
    "ax.set_xlabel(\"Epochs\")\n",
    "ax.set_ylabel(\"Loss/Accuracy\")"
   ]
  },
  {
   "cell_type": "markdown",
   "metadata": {},
   "source": [
    "From the accuracy and the loss curves above, it is evident that the constructed neural network architecture was able to reduce loss (via the implementation of gradient descent) and consequently was able to increase accuracy upto over 92%."
   ]
  }
 ],
 "metadata": {
  "kernelspec": {
   "display_name": "Python 3",
   "language": "python",
   "name": "python3"
  },
  "language_info": {
   "codemirror_mode": {
    "name": "ipython",
    "version": 3
   },
   "file_extension": ".py",
   "mimetype": "text/x-python",
   "name": "python",
   "nbconvert_exporter": "python",
   "pygments_lexer": "ipython3",
   "version": "3.6.7"
  },
  "pycharm": {
   "stem_cell": {
    "cell_type": "raw",
    "metadata": {
     "collapsed": false
    },
    "source": []
   }
  }
 },
 "nbformat": 4,
 "nbformat_minor": 1
}
