{
 "cells": [
  {
   "cell_type": "markdown",
   "source": [
    "### Import the necessary modules and libraries"
   ],
   "metadata": {
    "collapsed": false
   }
  },
  {
   "cell_type": "code",
   "execution_count": 1,
   "metadata": {
    "pycharm": {
     "is_executing": false
    }
   },
   "outputs": [],
   "source": [
    "from sklearn.preprocessing import LabelBinarizer\n",
    "from loader_util.nn.conv import MinVGGNet\n",
    "from tensorflow.keras.callbacks import ModelCheckpoint\n",
    "from tensorflow.keras.optimizers import SGD\n",
    "from tensorflow.keras.datasets import cifar10\n",
    "import os"
   ]
  },
  {
   "cell_type": "markdown",
   "source": [
    "### Load data and normalise train and test data"
   ],
   "metadata": {
    "collapsed": false
   }
  },
  {
   "cell_type": "code",
   "execution_count": 2,
   "metadata": {
    "pycharm": {
     "name": "#%%\n"
    }
   },
   "outputs": [
    {
     "name": "stdout",
     "output_type": "stream",
     "text": [
      "[INFO] loading CIFAR-10 data......\n"
     ]
    }
   ],
   "source": [
    "# we need an args that points to path where weight checkpoint will be saved\n",
    "args = {\n",
    "    'weights': 'weights'\n",
    "}\n",
    "\n",
    "# load the training and testing data and then normalise\n",
    "print('[INFO] loading CIFAR-10 data......')\n",
    "(trainx, trainy), (testx, testy) = cifar10.load_data()\n",
    "trainx = trainx.astype('float') / 255.0\n",
    "testx = testx.astype('float') / 255.0\n",
    "\n",
    "# convert the labels from integers to vectors\n",
    "lb = LabelBinarizer()\n",
    "trainy = lb.fit_transform(trainy)\n",
    "testy = lb.transform(testy)"
   ]
  },
  {
   "cell_type": "markdown",
   "source": [
    "### Compile the model and initialise the optimizer"
   ],
   "metadata": {
    "collapsed": false
   }
  },
  {
   "cell_type": "code",
   "execution_count": 4,
   "metadata": {
    "pycharm": {
     "name": "#%%\n"
    }
   },
   "outputs": [
    {
     "name": "stdout",
     "output_type": "stream",
     "text": [
      "[INFO] compiling model......\n"
     ]
    }
   ],
   "source": [
    "# initialise the optimizer and the model\n",
    "print('[INFO] compiling model......')\n",
    "opt = SGD(lr=0.01, decay=0.01/40, momentum=0.9, nesterov=True)\n",
    "model = MinVGGNet.build(width=32, height=32, depth=3, classes=10)\n",
    "model.compile(loss='categorical_crossentropy',\n",
    "              optimizer=opt,\n",
    "              metrics=['accuracy'])"
   ]
  },
  {
   "cell_type": "markdown",
   "source": [
    "### Create filepath for checkpoint and create checkpoint callback"
   ],
   "metadata": {
    "collapsed": false
   }
  },
  {
   "cell_type": "code",
   "execution_count": 6,
   "metadata": {
    "pycharm": {
     "name": "#%%\n"
    }
   },
   "outputs": [],
   "source": [
    "# construct the callback to save only the best model to disk based on \n",
    "# VALIDATIN LOSS\n",
    "fname = os.path.sep.join([args[ \"weights\" ],\"weights-{epoch:03d}-{val_loss:.4f}.hdf5\" ])\n",
    "checkpoint = ModelCheckpoint(filepath=fname, monitor='val_loss',\n",
    "                             mode='min', save_best_only=True, verbose=1)\n",
    "callbacks = [checkpoint]"
   ]
  },
  {
   "cell_type": "markdown",
   "source": [
    "### Train the model"
   ],
   "metadata": {
    "collapsed": false
   }
  },
  {
   "cell_type": "code",
   "execution_count": 7,
   "metadata": {
    "pycharm": {
     "name": "#%%\n"
    }
   },
   "outputs": [
    {
     "name": "stdout",
     "output_type": "stream",
     "text": [
      "[INFO] training network ........\n",
      "Train on 50000 samples, validate on 10000 samples\n",
      "WARNING:tensorflow:From /usr/local/lib/python3.6/dist-packages/tensorflow/python/ops/math_ops.py:3066: to_int32 (from tensorflow.python.ops.math_ops) is deprecated and will be removed in a future version.\n",
      "Instructions for updating:\n",
      "Use tf.cast instead.\n",
      "Epoch 1/40\n",
      "49856/50000 [============================>.] - ETA: 0s - loss: 1.6815 - acc: 0.4376\n",
      "Epoch 00001: val_loss improved from inf to 1.29505, saving model to weights/weights-001-1.2950.hdf5\n",
      "50000/50000 [==============================] - 23s 462us/sample - loss: 1.6808 - acc: 0.4379 - val_loss: 1.2950 - val_acc: 0.5502\n",
      "Epoch 2/40\n",
      "49984/50000 [============================>.] - ETA: 0s - loss: 1.1793 - acc: 0.5879\n",
      "Epoch 00002: val_loss improved from 1.29505 to 0.94675, saving model to weights/weights-002-0.9467.hdf5\n",
      "50000/50000 [==============================] - 19s 390us/sample - loss: 1.1791 - acc: 0.5879 - val_loss: 0.9467 - val_acc: 0.6629\n",
      "Epoch 3/40\n",
      "49984/50000 [============================>.] - ETA: 0s - loss: 0.9804 - acc: 0.6551\n",
      "Epoch 00003: val_loss improved from 0.94675 to 0.93197, saving model to weights/weights-003-0.9320.hdf5\n",
      "50000/50000 [==============================] - 19s 386us/sample - loss: 0.9805 - acc: 0.6551 - val_loss: 0.9320 - val_acc: 0.6713\n",
      "Epoch 4/40\n",
      "49920/50000 [============================>.] - ETA: 0s - loss: 0.8702 - acc: 0.6954\n",
      "Epoch 00004: val_loss improved from 0.93197 to 0.76796, saving model to weights/weights-004-0.7680.hdf5\n",
      "50000/50000 [==============================] - 19s 384us/sample - loss: 0.8701 - acc: 0.6955 - val_loss: 0.7680 - val_acc: 0.7245\n",
      "Epoch 5/40\n",
      "49856/50000 [============================>.] - ETA: 0s - loss: 0.7970 - acc: 0.7203\n",
      "Epoch 00005: val_loss improved from 0.76796 to 0.71637, saving model to weights/weights-005-0.7164.hdf5\n",
      "50000/50000 [==============================] - 19s 389us/sample - loss: 0.7970 - acc: 0.7202 - val_loss: 0.7164 - val_acc: 0.7505\n",
      "Epoch 6/40\n",
      "49920/50000 [============================>.] - ETA: 0s - loss: 0.7498 - acc: 0.7353\n",
      "Epoch 00006: val_loss did not improve from 0.71637\n",
      "50000/50000 [==============================] - 21s 412us/sample - loss: 0.7496 - acc: 0.7353 - val_loss: 0.7205 - val_acc: 0.7546\n",
      "Epoch 7/40\n",
      "49920/50000 [============================>.] - ETA: 0s - loss: 0.6950 - acc: 0.7529\n",
      "Epoch 00007: val_loss did not improve from 0.71637\n",
      "50000/50000 [==============================] - 19s 389us/sample - loss: 0.6952 - acc: 0.7529 - val_loss: 0.7571 - val_acc: 0.7353\n",
      "Epoch 8/40\n",
      "49984/50000 [============================>.] - ETA: 0s - loss: 0.6511 - acc: 0.7698\n",
      "Epoch 00008: val_loss improved from 0.71637 to 0.64322, saving model to weights/weights-008-0.6432.hdf5\n",
      "50000/50000 [==============================] - 19s 386us/sample - loss: 0.6512 - acc: 0.7698 - val_loss: 0.6432 - val_acc: 0.7796\n",
      "Epoch 9/40\n",
      "49920/50000 [============================>.] - ETA: 0s - loss: 0.6224 - acc: 0.7802\n",
      "Epoch 00009: val_loss improved from 0.64322 to 0.62290, saving model to weights/weights-009-0.6229.hdf5\n",
      "50000/50000 [==============================] - 20s 408us/sample - loss: 0.6225 - acc: 0.7802 - val_loss: 0.6229 - val_acc: 0.7835\n",
      "Epoch 10/40\n",
      "49856/50000 [============================>.] - ETA: 0s - loss: 0.5905 - acc: 0.7901\n",
      "Epoch 00010: val_loss improved from 0.62290 to 0.60903, saving model to weights/weights-010-0.6090.hdf5\n",
      "50000/50000 [==============================] - 20s 396us/sample - loss: 0.5908 - acc: 0.7900 - val_loss: 0.6090 - val_acc: 0.7910\n",
      "Epoch 11/40\n",
      "49984/50000 [============================>.] - ETA: 0s - loss: 0.5648 - acc: 0.8015\n",
      "Epoch 00011: val_loss improved from 0.60903 to 0.60496, saving model to weights/weights-011-0.6050.hdf5\n",
      "50000/50000 [==============================] - 19s 388us/sample - loss: 0.5650 - acc: 0.8015 - val_loss: 0.6050 - val_acc: 0.7898\n",
      "Epoch 12/40\n",
      "49984/50000 [============================>.] - ETA: 0s - loss: 0.5486 - acc: 0.8058\n",
      "Epoch 00012: val_loss improved from 0.60496 to 0.59304, saving model to weights/weights-012-0.5930.hdf5\n",
      "50000/50000 [==============================] - 19s 381us/sample - loss: 0.5488 - acc: 0.8057 - val_loss: 0.5930 - val_acc: 0.7913\n",
      "Epoch 13/40\n",
      "49920/50000 [============================>.] - ETA: 0s - loss: 0.5168 - acc: 0.8171\n",
      "Epoch 00013: val_loss improved from 0.59304 to 0.58376, saving model to weights/weights-013-0.5838.hdf5\n",
      "50000/50000 [==============================] - 19s 384us/sample - loss: 0.5172 - acc: 0.8169 - val_loss: 0.5838 - val_acc: 0.7949\n",
      "Epoch 14/40\n",
      "49984/50000 [============================>.] - ETA: 0s - loss: 0.4983 - acc: 0.8245\n",
      "Epoch 00014: val_loss improved from 0.58376 to 0.56840, saving model to weights/weights-014-0.5684.hdf5\n",
      "50000/50000 [==============================] - 19s 385us/sample - loss: 0.4983 - acc: 0.8245 - val_loss: 0.5684 - val_acc: 0.8056\n",
      "Epoch 15/40\n",
      "49856/50000 [============================>.] - ETA: 0s - loss: 0.4826 - acc: 0.8293\n",
      "Epoch 00015: val_loss did not improve from 0.56840\n",
      "50000/50000 [==============================] - 20s 391us/sample - loss: 0.4829 - acc: 0.8293 - val_loss: 0.5726 - val_acc: 0.8032\n",
      "Epoch 16/40\n",
      "49920/50000 [============================>.] - ETA: 0s - loss: 0.4606 - acc: 0.8366\n",
      "Epoch 00016: val_loss did not improve from 0.56840\n",
      "50000/50000 [==============================] - 20s 397us/sample - loss: 0.4607 - acc: 0.8366 - val_loss: 0.7369 - val_acc: 0.7546\n",
      "Epoch 17/40\n",
      "49856/50000 [============================>.] - ETA: 0s - loss: 0.4528 - acc: 0.8391\n",
      "Epoch 00017: val_loss did not improve from 0.56840\n",
      "50000/50000 [==============================] - 19s 372us/sample - loss: 0.4528 - acc: 0.8392 - val_loss: 0.5713 - val_acc: 0.8032\n",
      "Epoch 18/40\n",
      "49984/50000 [============================>.] - ETA: 0s - loss: 0.4346 - acc: 0.8455\n",
      "Epoch 00018: val_loss improved from 0.56840 to 0.56824, saving model to weights/weights-018-0.5682.hdf5\n",
      "50000/50000 [==============================] - 19s 380us/sample - loss: 0.4347 - acc: 0.8454 - val_loss: 0.5682 - val_acc: 0.8061\n",
      "Epoch 19/40\n",
      "49856/50000 [============================>.] - ETA: 0s - loss: 0.4273 - acc: 0.8477\n",
      "Epoch 00019: val_loss did not improve from 0.56824\n",
      "50000/50000 [==============================] - 19s 387us/sample - loss: 0.4272 - acc: 0.8478 - val_loss: 0.5753 - val_acc: 0.8084\n",
      "Epoch 20/40\n",
      "49920/50000 [============================>.] - ETA: 0s - loss: 0.4026 - acc: 0.8561\n",
      "Epoch 00020: val_loss improved from 0.56824 to 0.56100, saving model to weights/weights-020-0.5610.hdf5\n",
      "50000/50000 [==============================] - 19s 381us/sample - loss: 0.4029 - acc: 0.8559 - val_loss: 0.5610 - val_acc: 0.8110\n",
      "Epoch 21/40\n",
      "49920/50000 [============================>.] - ETA: 0s - loss: 0.3982 - acc: 0.8588\n",
      "Epoch 00021: val_loss improved from 0.56100 to 0.55362, saving model to weights/weights-021-0.5536.hdf5\n",
      "50000/50000 [==============================] - 19s 370us/sample - loss: 0.3983 - acc: 0.8587 - val_loss: 0.5536 - val_acc: 0.8145\n",
      "Epoch 22/40\n",
      "49984/50000 [============================>.] - ETA: 0s - loss: 0.3802 - acc: 0.8652\n",
      "Epoch 00022: val_loss did not improve from 0.55362\n",
      "50000/50000 [==============================] - 19s 379us/sample - loss: 0.3805 - acc: 0.8651 - val_loss: 0.5552 - val_acc: 0.8151\n",
      "Epoch 23/40\n",
      "49920/50000 [============================>.] - ETA: 0s - loss: 0.3721 - acc: 0.8665\n",
      "Epoch 00023: val_loss did not improve from 0.55362\n",
      "50000/50000 [==============================] - 19s 374us/sample - loss: 0.3722 - acc: 0.8665 - val_loss: 0.5661 - val_acc: 0.8126\n",
      "Epoch 24/40\n",
      "49856/50000 [============================>.] - ETA: 0s - loss: 0.3615 - acc: 0.8696\n",
      "Epoch 00024: val_loss improved from 0.55362 to 0.54581, saving model to weights/weights-024-0.5458.hdf5\n",
      "50000/50000 [==============================] - 19s 382us/sample - loss: 0.3618 - acc: 0.8694 - val_loss: 0.5458 - val_acc: 0.8189\n",
      "Epoch 25/40\n",
      "49856/50000 [============================>.] - ETA: 0s - loss: 0.3531 - acc: 0.8732\n",
      "Epoch 00025: val_loss did not improve from 0.54581\n",
      "50000/50000 [==============================] - 19s 382us/sample - loss: 0.3530 - acc: 0.8733 - val_loss: 0.5649 - val_acc: 0.8116\n",
      "Epoch 26/40\n",
      "49920/50000 [============================>.] - ETA: 0s - loss: 0.3452 - acc: 0.8746\n",
      "Epoch 00026: val_loss did not improve from 0.54581\n",
      "50000/50000 [==============================] - 19s 386us/sample - loss: 0.3450 - acc: 0.8746 - val_loss: 0.5589 - val_acc: 0.8185\n"
     ]
    },
    {
     "name": "stdout",
     "output_type": "stream",
     "text": [
      "Epoch 27/40\n",
      "49856/50000 [============================>.] - ETA: 0s - loss: 0.3371 - acc: 0.8789\n",
      "Epoch 00027: val_loss improved from 0.54581 to 0.54244, saving model to weights/weights-027-0.5424.hdf5\n",
      "50000/50000 [==============================] - 19s 380us/sample - loss: 0.3376 - acc: 0.8788 - val_loss: 0.5424 - val_acc: 0.8195\n",
      "Epoch 28/40\n",
      "49984/50000 [============================>.] - ETA: 0s - loss: 0.3272 - acc: 0.8819\n",
      "Epoch 00028: val_loss did not improve from 0.54244\n",
      "50000/50000 [==============================] - 19s 375us/sample - loss: 0.3273 - acc: 0.8819 - val_loss: 0.5511 - val_acc: 0.8140\n",
      "Epoch 29/40\n",
      "49920/50000 [============================>.] - ETA: 0s - loss: 0.3208 - acc: 0.8857\n",
      "Epoch 00029: val_loss did not improve from 0.54244\n",
      "50000/50000 [==============================] - 19s 379us/sample - loss: 0.3206 - acc: 0.8858 - val_loss: 0.5557 - val_acc: 0.8180\n",
      "Epoch 30/40\n",
      "49920/50000 [============================>.] - ETA: 0s - loss: 0.3093 - acc: 0.8891\n",
      "Epoch 00030: val_loss did not improve from 0.54244\n",
      "50000/50000 [==============================] - 19s 374us/sample - loss: 0.3095 - acc: 0.8891 - val_loss: 0.5425 - val_acc: 0.8219\n",
      "Epoch 31/40\n",
      "49984/50000 [============================>.] - ETA: 0s - loss: 0.3058 - acc: 0.8922\n",
      "Epoch 00031: val_loss did not improve from 0.54244\n",
      "50000/50000 [==============================] - 19s 376us/sample - loss: 0.3058 - acc: 0.8922 - val_loss: 0.5597 - val_acc: 0.8219\n",
      "Epoch 32/40\n",
      "49920/50000 [============================>.] - ETA: 0s - loss: 0.2983 - acc: 0.8934\n",
      "Epoch 00032: val_loss did not improve from 0.54244\n",
      "50000/50000 [==============================] - 18s 370us/sample - loss: 0.2984 - acc: 0.8934 - val_loss: 0.5515 - val_acc: 0.8217\n",
      "Epoch 33/40\n",
      "49984/50000 [============================>.] - ETA: 0s - loss: 0.2907 - acc: 0.8957\n",
      "Epoch 00033: val_loss did not improve from 0.54244\n",
      "50000/50000 [==============================] - 18s 367us/sample - loss: 0.2907 - acc: 0.8957 - val_loss: 0.5477 - val_acc: 0.8247\n",
      "Epoch 34/40\n",
      "49984/50000 [============================>.] - ETA: 0s - loss: 0.2862 - acc: 0.8961\n",
      "Epoch 00034: val_loss did not improve from 0.54244\n",
      "50000/50000 [==============================] - 19s 378us/sample - loss: 0.2863 - acc: 0.8961 - val_loss: 0.5449 - val_acc: 0.8251\n",
      "Epoch 35/40\n",
      "49920/50000 [============================>.] - ETA: 0s - loss: 0.2855 - acc: 0.8963\n",
      "Epoch 00035: val_loss did not improve from 0.54244\n",
      "50000/50000 [==============================] - 18s 370us/sample - loss: 0.2857 - acc: 0.8963 - val_loss: 0.5435 - val_acc: 0.8240\n",
      "Epoch 36/40\n",
      "49920/50000 [============================>.] - ETA: 0s - loss: 0.2743 - acc: 0.9026\n",
      "Epoch 00036: val_loss did not improve from 0.54244\n",
      "50000/50000 [==============================] - 19s 373us/sample - loss: 0.2744 - acc: 0.9026 - val_loss: 0.5500 - val_acc: 0.8242\n",
      "Epoch 37/40\n",
      "49856/50000 [============================>.] - ETA: 0s - loss: 0.2692 - acc: 0.9036\n",
      "Epoch 00037: val_loss did not improve from 0.54244\n",
      "50000/50000 [==============================] - 18s 368us/sample - loss: 0.2693 - acc: 0.9035 - val_loss: 0.5451 - val_acc: 0.8250\n",
      "Epoch 38/40\n",
      "49920/50000 [============================>.] - ETA: 0s - loss: 0.2661 - acc: 0.9046- ETA: 2\n",
      "Epoch 00038: val_loss improved from 0.54244 to 0.54204, saving model to weights/weights-038-0.5420.hdf5\n",
      "50000/50000 [==============================] - 19s 380us/sample - loss: 0.2661 - acc: 0.9046 - val_loss: 0.5420 - val_acc: 0.8244\n",
      "Epoch 39/40\n",
      "49856/50000 [============================>.] - ETA: 0s - loss: 0.2642 - acc: 0.9042\n",
      "Epoch 00039: val_loss did not improve from 0.54204\n",
      "50000/50000 [==============================] - 19s 375us/sample - loss: 0.2641 - acc: 0.9042 - val_loss: 0.5523 - val_acc: 0.8249\n",
      "Epoch 40/40\n",
      "49920/50000 [============================>.] - ETA: 0s - loss: 0.2578 - acc: 0.9079\n",
      "Epoch 00040: val_loss did not improve from 0.54204\n",
      "50000/50000 [==============================] - 19s 376us/sample - loss: 0.2576 - acc: 0.9080 - val_loss: 0.5552 - val_acc: 0.8270\n"
     ]
    }
   ],
   "source": [
    "# train the network\n",
    "print('[INFO] training network ........')\n",
    "H = model.fit(trainx, trainy,\n",
    "              validation_data=(testx, testy),\n",
    "              batch_size=64,\n",
    "              epochs=40,\n",
    "              callbacks=callbacks,\n",
    "              verbose=1)"
   ]
  },
  {
   "cell_type": "code",
   "execution_count": null,
   "metadata": {
    "pycharm": {
     "name": "#%%"
    }
   },
   "outputs": [],
   "source": []
  }
 ],
 "metadata": {
  "kernelspec": {
   "display_name": "Python 3",
   "language": "python",
   "name": "python3"
  },
  "language_info": {
   "codemirror_mode": {
    "name": "ipython",
    "version": 3
   },
   "file_extension": ".py",
   "mimetype": "text/x-python",
   "name": "python",
   "nbconvert_exporter": "python",
   "pygments_lexer": "ipython3",
   "version": "3.6.8"
  },
  "pycharm": {
   "stem_cell": {
    "cell_type": "raw",
    "source": [],
    "metadata": {
     "collapsed": false
    }
   }
  }
 },
 "nbformat": 4,
 "nbformat_minor": 1
}