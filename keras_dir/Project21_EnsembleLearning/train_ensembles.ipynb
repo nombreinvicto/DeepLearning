{
 "cells": [
  {
   "cell_type": "code",
   "execution_count": 1,
   "metadata": {
    "collapsed": true,
    "pycharm": {
     "is_executing": false
    }
   },
   "outputs": [],
   "source": [
    "# import the necessary packages\n",
    "from sklearn.preprocessing import LabelBinarizer\n",
    "from sklearn.metrics import classification_report\n",
    "from loader_util.nn.conv import MinVGGNet\n",
    "from tensorflow.keras.preprocessing.image import ImageDataGenerator\n",
    "from tensorflow.keras.optimizers import SGD\n",
    "from tensorflow.keras.datasets import cifar10\n",
    "import numpy as np\n",
    "import pandas as pd\n",
    "import seaborn as sns\n",
    "import matplotlib.pyplot as plt\n",
    "from matplotlib.figure import Figure\n",
    "import matplotlib.axes._axes as axes\n",
    "import os\n",
    "sns.set()"
   ]
  },
  {
   "cell_type": "code",
   "execution_count": null,
   "outputs": [],
   "source": [
    "args = {\n",
    "    'output': '',\n",
    "    'models': '',\n",
    "    'num_models': 5\n",
    "}"
   ],
   "metadata": {
    "collapsed": false,
    "pycharm": {
     "name": "#%%\n"
    }
   }
  },
  {
   "cell_type": "code",
   "execution_count": null,
   "outputs": [],
   "source": [
    "# load trianing and testing data\n",
    "(trainx,trainy),(testx, testy) = cifar10.load_data()\n",
    "trainx = trainx.astype('float') / 255.0\n",
    "testx = testx.astype('float') / 255.0\n",
    "\n",
    "# convert the labels from integers to vectors\n",
    "lb = LabelBinarizer()\n",
    "trainy = lb.fit_transform(trainy)\n",
    "testy = lb.transform(testy)\n",
    "\n",
    "labelNames = ['airplanes', 'automobile', 'bird', 'cat', 'deer',\n",
    "              'dog', 'frog', 'horse', 'ship', 'truck']"
   ],
   "metadata": {
    "collapsed": false,
    "pycharm": {
     "name": "#%%\n"
    }
   }
  },
  {
   "cell_type": "code",
   "execution_count": null,
   "outputs": [],
   "source": [
    "# initialise image data egenrator\n",
    "aug = ImageDataGenerator(rotation_range=10, width_shift_range=0.1,\n",
    "                         height_shift_range=0.1, horizontal_flip=True,\n",
    "                         fill_mode='nearest')"
   ],
   "metadata": {
    "collapsed": false,
    "pycharm": {
     "name": "#%%\n"
    }
   }
  },
  {
   "cell_type": "code",
   "execution_count": null,
   "outputs": [],
   "source": [
    "# loop over the no of mdoels to train\n",
    "total_epochs = 40\n",
    "for i in range(0, args['num_models']):\n",
    "    # initialise the opt and model\n",
    "    print(f\"[INFO] training model {i+1}/{args['num_models']}\")\n",
    "    opt = SGD(learning_rate=0.01, decay=0.01/40, momentum=0.9, nesterov=True)\n",
    "    model = MinVGGNet.build(width=32, height=32, depth=3, classes=10)\n",
    "    model.compile(loss='categorical_crossentropy', optimizer=opt, \n",
    "                  metrics=['accuracy'])\n",
    "    \n",
    "    # train the network\n",
    "    H = model.fit_generator(aug.flow(trainx, trainy, batch_size=64),\n",
    "                            validation_data=(testx, testy),\n",
    "                            epochs=total_epochs,\n",
    "                            steps_per_epoch=len(trainx) // 64,\n",
    "                            verbose=1)\n",
    "    # save model to disk\n",
    "    p = [args['models'], f\"model_{i}.model\"]\n",
    "    model.save(os.path.sep.join(p))\n",
    "    \n",
    "    # evaluate the network\n",
    "    preds = model.predict(testx, batch_size=64)\n",
    "    report = classification_report(testy.argmax(axis=1),\n",
    "                                   preds.argmax(axis=1),\n",
    "                                   target_names=labelNames)\n",
    "    \n",
    "    # save the classification report to file\n",
    "    p = [args['output'], f\"model_{i}.txt\"]\n",
    "    f = open(os.path.sep.join(p), \"w\")\n",
    "    f.write(report)\n",
    "    f.close()\n",
    "    \n",
    "    \n",
    "    # now do the accuracy loss plotting\n",
    "    p = [args['output'], f\"model_{i}.png\"]\n",
    "    epochs = range(1,total_epochs+1)\n",
    "    loss = H.history['loss']\n",
    "    accuracy = H.history['acc']\n",
    "    val_loss = H.history['val_loss']\n",
    "    val_accuracy = H.history['val_acc']\n",
    "    plot_df = pd.DataFrame(data=np.c_[epochs,loss,accuracy,val_loss,val_accuracy], \n",
    "                       columns=['epochs','loss', 'accuracy', 'val_loss', 'val_accuracy'])\n",
    "\n",
    "    sns.set(font_scale=1)\n",
    "    f, ax = plt.subplots(1, 1, figsize=(18,10))\n",
    "    sns.lineplot(data=plot_df, x='epochs', y='loss', ax=ax, label='train loss', linewidth=3)\n",
    "    sns.lineplot(data=plot_df, x='epochs', y='accuracy', ax=ax, label='train accuracy', linewidth=3)\n",
    "    sns.lineplot(data=plot_df, x='epochs', y='val_loss', ax=ax, label='val loss', linewidth=3)\n",
    "    sns.lineplot(data=plot_df, x='epochs', y='val_accuracy', ax=ax, label='val_accuracy', linewidth=3)\n",
    "    ax.set_ylabel('Loss or Accuracy')\n",
    "    ax.set_xlabel('Epochs')\n",
    "    plt.setp(ax.get_legend().get_texts(), fontsize='18'); # for legend text\n",
    "    f.savefig(os.path.sep.join(p))"
   ],
   "metadata": {
    "collapsed": false,
    "pycharm": {
     "name": "#%%\n"
    }
   }
  },
  {
   "cell_type": "code",
   "execution_count": null,
   "outputs": [],
   "source": [],
   "metadata": {
    "collapsed": false,
    "pycharm": {
     "name": "#%%"
    }
   }
  }
 ],
 "metadata": {
  "kernelspec": {
   "display_name": "Python 3",
   "language": "python",
   "name": "python3"
  },
  "language_info": {
   "codemirror_mode": {
    "name": "ipython",
    "version": 2
   },
   "file_extension": ".py",
   "mimetype": "text/x-python",
   "name": "python",
   "nbconvert_exporter": "python",
   "pygments_lexer": "ipython2",
   "version": "2.7.6"
  },
  "pycharm": {
   "stem_cell": {
    "cell_type": "raw",
    "source": [],
    "metadata": {
     "collapsed": false
    }
   }
  }
 },
 "nbformat": 4,
 "nbformat_minor": 0
}