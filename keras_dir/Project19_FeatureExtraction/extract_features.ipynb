{
 "cells": [
  {
   "cell_type": "code",
   "execution_count": 1,
   "metadata": {
    "collapsed": true,
    "pycharm": {
     "is_executing": false
    }
   },
   "outputs": [],
   "source": [
    "from tensorflow.keras.applications import VGG16, imagenet_utils\n",
    "from tensorflow.keras.preprocessing.image import img_to_array, load_img\n",
    "from sklearn.preprocessing import LabelEncoder\n",
    "from loader_util.io import HDF5DatasetWriter\n",
    "from imutils import paths\n",
    "import numpy as np\n",
    "import progressbar\n",
    "import random\n",
    "import os"
   ]
  },
  {
   "cell_type": "code",
   "execution_count": 2,
   "outputs": [],
   "source": [
    "args = {\n",
    "    'dataset': r'C:\\Users\\mhasa\\Google Drive\\Tutorial Corner\\PYTH\\DeepLearning\\DeepLearning-DL4CV\\ImageDatasets\\animals\\images',\n",
    "    'output': 'myFeatures_new.hdf5',\n",
    "    'batch_size': 32,\n",
    "    'buffer_size': 1000\n",
    "}\n",
    "bs = args['batch_size']\n",
    "imagePaths = list(paths.list_images(args['dataset']))\n",
    "random.shuffle(imagePaths)\n",
    "\n",
    "# extract class labels\n",
    "labels = [p.split(os.path.sep)[-2] for p in imagePaths]\n",
    "le = LabelEncoder()\n",
    "labels = le.fit_transform(labels)"
   ],
   "metadata": {
    "collapsed": false,
    "pycharm": {
     "name": "#%%\n",
     "is_executing": false
    }
   }
  },
  {
   "cell_type": "code",
   "execution_count": 3,
   "outputs": [
    {
     "name": "stdout",
     "text": [
      "[INFO] loading network....\n"
     ],
     "output_type": "stream"
    }
   ],
   "source": [
    "#load the VGG16 model\n",
    "print('[INFO] loading network....')\n",
    "model = VGG16(weights=\"imagenet\", include_top=False)\n",
    "\n",
    "# initialise  the HdF5 dataset writer and then store the class label names \n",
    "# in the dataset\n",
    "dataset = HDF5DatasetWriter(dims=(len(imagePaths), 512*7*7),\n",
    "                            outputPath=args['output'],\n",
    "                            dataKey='features',\n",
    "                            bufSize=args['buffer_size'])\n",
    "dataset.storeClassLabels(le.classes_)"
   ],
   "metadata": {
    "collapsed": false,
    "pycharm": {
     "name": "#%%\n",
     "is_executing": false
    }
   }
  },
  {
   "cell_type": "code",
   "execution_count": 4,
   "outputs": [
    {
     "name": "stderr",
     "text": [
      "Extracting Features:  99% |################################### | ETA:   0:00:00"
     ],
     "output_type": "stream"
    }
   ],
   "source": [
    "# initialise the progress bar\n",
    "widgets = [\"Extracting Features: \", progressbar.Percentage(), \" \", \n",
    "           progressbar.Bar(), \" \", progressbar.ETA()]\n",
    "pbar = progressbar.ProgressBar(maxval=len(imagePaths), widgets=widgets).start()\n",
    "\n",
    "# loop over the images in batches\n",
    "for i in range(0, len(imagePaths), bs):\n",
    "    # extract the batch of images and labels, then initialise the list of \n",
    "    # actual images that will be passed thru the network for feature extraction\n",
    "    batchPaths = imagePaths[i: i+bs]\n",
    "    batchLabels = labels[i: i+bs]\n",
    "    batchImages = []\n",
    "    \n",
    "    # loop over the images and the labels in the current batch\n",
    "    for j, imagePath in enumerate(batchPaths):\n",
    "        # load the input iage using the Keras helper utility while ensuring \n",
    "        # the image is resized to 224x224\n",
    "        image = load_img(imagePath, target_size=(224,224))\n",
    "        image = img_to_array(image)\n",
    "        \n",
    "        # preprocess the image by (1) expanding the dimensions and (2) \n",
    "        # subtracting the mean RGB pixel intensity from the Imagenet dataset\n",
    "        image = np.expand_dims(image, axis=0)\n",
    "        image = imagenet_utils.preprocess_input(image)\n",
    "        \n",
    "        # add image to batch\n",
    "        batchImages.append(image)\n",
    "        \n",
    "    # pass the images through the network and use the outputs as feature\n",
    "    # vectors\n",
    "    batchImages = np.vstack(batchImages)\n",
    "    features = model.predict(batchImages, batch_size=bs) # type: np.ndarray\n",
    "    \n",
    "    # reshape features so that each feature represenets a flattened vect\n",
    "    features = features.reshape((features.shape[0], 512*7*7))\n",
    "    \n",
    "    # add features and labels to our HDF5 dataset\n",
    "    dataset.add(features, batchLabels)\n",
    "    pbar.update(i)"
   ],
   "metadata": {
    "collapsed": false,
    "pycharm": {
     "name": "#%%\n",
     "is_executing": false
    }
   }
  },
  {
   "cell_type": "code",
   "execution_count": 5,
   "outputs": [
    {
     "name": "stderr",
     "text": [
      "Extracting Features: 100% |####################################| Time:  0:01:12\n"
     ],
     "output_type": "stream"
    }
   ],
   "source": [
    "dataset.close()\n",
    "pbar.finish()"
   ],
   "metadata": {
    "collapsed": false,
    "pycharm": {
     "name": "#%%\n",
     "is_executing": false
    }
   }
  },
  {
   "cell_type": "code",
   "execution_count": 6,
   "outputs": [
    {
     "name": "stderr",
     "text": [
      "c:\\users\\mhasa\\google drive\\tutorial corner\\pyth\\pycharm projects\\deeplearningcv\\venv\\lib\\site-packages\\ipykernel_launcher.py:5: H5pyDeprecationWarning: The default file mode will change to 'r' (read-only) in h5py 3.0. To suppress this warning, pass the mode you need to h5py.File(), or set the global default h5.get_config().default_file_mode, or set the environment variable H5PY_DEFAULT_READONLY=1. Available modes are: 'r', 'r+', 'w', 'w-'/'x', 'a'. See the docs for details.\n",
      "  \"\"\"\n"
     ],
     "output_type": "stream"
    }
   ],
   "source": [
    "import h5py\n",
    "# now check hdf5 file contents\n",
    "p = r'C:\\Users\\mhasa\\Google Drive\\Tutorial Corner\\PYTH\\PyCharm Projects\\DeepLearningCV\\keras_dir\\Project19_FeatureExtraction'\n",
    "file = p + r'\\myFeatures_new.hdf5'\n",
    "db = h5py.File(file)"
   ],
   "metadata": {
    "collapsed": false,
    "pycharm": {
     "name": "#%%\n",
     "is_executing": false
    }
   }
  },
  {
   "cell_type": "code",
   "execution_count": 7,
   "outputs": [
    {
     "data": {
      "text/plain": "<KeysViewHDF5 ['features', 'label_names', 'labels']>"
     },
     "metadata": {},
     "output_type": "execute_result",
     "execution_count": 7
    }
   ],
   "source": [
    "db.keys()"
   ],
   "metadata": {
    "collapsed": false,
    "pycharm": {
     "name": "#%%\n",
     "is_executing": false
    }
   }
  },
  {
   "cell_type": "code",
   "execution_count": 8,
   "outputs": [
    {
     "data": {
      "text/plain": "(3000, 25088)"
     },
     "metadata": {},
     "output_type": "execute_result",
     "execution_count": 8
    }
   ],
   "source": [
    "db['features'].shape"
   ],
   "metadata": {
    "collapsed": false,
    "pycharm": {
     "name": "#%%\n",
     "is_executing": false
    }
   }
  },
  {
   "cell_type": "code",
   "execution_count": 9,
   "outputs": [
    {
     "data": {
      "text/plain": "(3000,)"
     },
     "metadata": {},
     "output_type": "execute_result",
     "execution_count": 9
    }
   ],
   "source": [
    "db['labels']"
   ],
   "metadata": {
    "collapsed": false,
    "pycharm": {
     "name": "#%%\n",
     "is_executing": false
    }
   }
  },
  {
   "cell_type": "code",
   "execution_count": 15,
   "outputs": [
    {
     "data": {
      "text/plain": "array([b'cats', b'dogs', b'panda'], dtype=object)"
     },
     "metadata": {},
     "output_type": "execute_result",
     "execution_count": 15
    }
   ],
   "source": [
    "db['label_names'][:]"
   ],
   "metadata": {
    "collapsed": false,
    "pycharm": {
     "name": "#%%\n",
     "is_executing": false
    }
   }
  },
  {
   "cell_type": "code",
   "execution_count": null,
   "outputs": [],
   "source": [],
   "metadata": {
    "collapsed": false,
    "pycharm": {
     "name": "#%%"
    }
   }
  }
 ],
 "metadata": {
  "kernelspec": {
   "display_name": "Python 3",
   "language": "python",
   "name": "python3"
  },
  "language_info": {
   "codemirror_mode": {
    "name": "ipython",
    "version": 2
   },
   "file_extension": ".py",
   "mimetype": "text/x-python",
   "name": "python",
   "nbconvert_exporter": "python",
   "pygments_lexer": "ipython2",
   "version": "2.7.6"
  },
  "pycharm": {
   "stem_cell": {
    "cell_type": "raw",
    "source": [],
    "metadata": {
     "collapsed": false
    }
   }
  }
 },
 "nbformat": 4,
 "nbformat_minor": 0
}