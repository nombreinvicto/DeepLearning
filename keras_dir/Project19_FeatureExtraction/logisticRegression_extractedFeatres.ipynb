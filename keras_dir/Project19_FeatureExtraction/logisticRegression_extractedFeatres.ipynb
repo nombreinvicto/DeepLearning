{
 "cells": [
  {
   "cell_type": "code",
   "execution_count": 7,
   "metadata": {
    "collapsed": true,
    "pycharm": {
     "is_executing": false
    }
   },
   "outputs": [],
   "source": [
    "from sklearn.linear_model import LogisticRegression\n",
    "from sklearn.model_selection import GridSearchCV\n",
    "from sklearn.metrics import classification_report\n",
    "import argparse\n",
    "import pickle\n",
    "import h5py"
   ]
  },
  {
   "cell_type": "code",
   "execution_count": 8,
   "outputs": [],
   "source": [
    "args = {\n",
    "    'db': 'myFeatures_new.hdf5',\n",
    "    'model': 'animals.cpickle',\n",
    "    'jobs': -1, \n",
    "}"
   ],
   "metadata": {
    "collapsed": false,
    "pycharm": {
     "name": "#%%\n",
     "is_executing": false
    }
   }
  },
  {
   "cell_type": "code",
   "execution_count": 9,
   "outputs": [],
   "source": [
    "# open HDF5 dataset for reading then determine the index of the training and\n",
    "# testing split provided this data was already shuffled \n",
    "db = h5py.File(args['db'], mode='r')\n",
    "i = int(db['labels'].shape[0] * 0.75)"
   ],
   "metadata": {
    "collapsed": false,
    "pycharm": {
     "name": "#%%\n",
     "is_executing": false
    }
   }
  },
  {
   "cell_type": "code",
   "execution_count": 10,
   "outputs": [
    {
     "name": "stdout",
     "text": [
      "[INFO] tuning hyperparameters\n",
      "[INFO] Best Hyperparameters are: {'C': 100.0}\n"
     ],
     "output_type": "stream"
    }
   ],
   "source": [
    "print('[INFO] tuning hyperparameters')\n",
    "params = {'C': [0.1, 1.0, 10.0, 100.0, 1000.0, 10_000.0]}\n",
    "model = GridSearchCV(LogisticRegression(solver=\"lbfgs\", multi_class='auto'),\n",
    "                     param_grid=params, cv=3, n_jobs=args['jobs'])\n",
    "model.fit(db['features'][:i], db['labels'][:i])\n",
    "print(f'[INFO] Best Hyperparameters are: {model.best_params_}')"
   ],
   "metadata": {
    "collapsed": false,
    "pycharm": {
     "name": "#%%\n",
     "is_executing": false
    }
   }
  },
  {
   "cell_type": "code",
   "execution_count": 16,
   "outputs": [
    {
     "name": "stdout",
     "text": [
      "[INFO] evaluating the model......\n",
      "              precision    recall  f1-score   support\n",
      "\n",
      "        cats       0.98      1.00      0.99       248\n",
      "        dogs       1.00      0.97      0.98       250\n",
      "       panda       0.99      1.00      1.00       252\n",
      "\n",
      "    accuracy                           0.99       750\n",
      "   macro avg       0.99      0.99      0.99       750\n",
      "weighted avg       0.99      0.99      0.99       750\n",
      "\n"
     ],
     "output_type": "stream"
    }
   ],
   "source": [
    "# evaluate the model\n",
    "target_names = db['label_names'][:]\n",
    "target_names = [name.decode('utf8') for name in target_names]\n",
    "\n",
    "print('[INFO] evaluating the model......')\n",
    "preds = model.predict(db['features'][i:])\n",
    "print(classification_report(db['labels'][i:], preds, \n",
    "                            target_names=target_names))"
   ],
   "metadata": {
    "collapsed": false,
    "pycharm": {
     "name": "#%%\n",
     "is_executing": false
    }
   }
  },
  {
   "cell_type": "code",
   "execution_count": 17,
   "outputs": [],
   "source": [
    "# serialise the model to disk\n",
    "f = open(args['model'], mode='wb')\n",
    "f.write(pickle.dumps(model.best_estimator_))\n",
    "f.close()\n",
    "db.close()"
   ],
   "metadata": {
    "collapsed": false,
    "pycharm": {
     "name": "#%%\n",
     "is_executing": false
    }
   }
  },
  {
   "cell_type": "code",
   "execution_count": null,
   "outputs": [],
   "source": [],
   "metadata": {
    "collapsed": false,
    "pycharm": {
     "name": "#%%"
    }
   }
  }
 ],
 "metadata": {
  "kernelspec": {
   "display_name": "Python 3",
   "language": "python",
   "name": "python3"
  },
  "language_info": {
   "codemirror_mode": {
    "name": "ipython",
    "version": 2
   },
   "file_extension": ".py",
   "mimetype": "text/x-python",
   "name": "python",
   "nbconvert_exporter": "python",
   "pygments_lexer": "ipython2",
   "version": "2.7.6"
  },
  "pycharm": {
   "stem_cell": {
    "cell_type": "raw",
    "source": [],
    "metadata": {
     "collapsed": false
    }
   }
  }
 },
 "nbformat": 4,
 "nbformat_minor": 0
}