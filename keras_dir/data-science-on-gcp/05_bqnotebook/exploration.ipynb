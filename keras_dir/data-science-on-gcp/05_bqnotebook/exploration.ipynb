{
 "cells": [
  {
   "cell_type": "markdown",
   "metadata": {},
   "source": [
    "# Ch 5. Interactive Data Analysis\n",
    "\n",
    "This notebook introduces carrying out interactive data analysis of data in BigQuery using a Jupyter Notebook managed by Vertex AI Workbench.\n",
    "\n",
    "This cell, for example, is a mark-down cell.  Which is why you are seeing text. The cell that follows is a Python code cell. The output of that cell is whatever is printed out from it."
   ]
  },
  {
   "cell_type": "code",
   "execution_count": 1,
   "metadata": {
    "collapsed": false,
    "jupyter": {
     "outputs_hidden": false
    }
   },
   "outputs": [
    {
     "name": "stdout",
     "output_type": "stream",
     "text": [
      "a=3 b=8\n"
     ]
    }
   ],
   "source": [
    "a = 3\n",
    "b = a + 5\n",
    "print(\"a={} b={}\".format(a,b))"
   ]
  },
  {
   "cell_type": "markdown",
   "metadata": {},
   "source": [
    "## Relative path\n",
    "\n",
    "I created this notebook in 05_bqnotebook folder of the git repo for the book. So, you might see a path that ends in that. But the path will start with /home/jupyter which is mapped to a local folder if you are running this in a container."
   ]
  },
  {
   "cell_type": "code",
   "execution_count": 2,
   "metadata": {
    "collapsed": false,
    "jupyter": {
     "outputs_hidden": false
    }
   },
   "outputs": [
    {
     "name": "stdout",
     "output_type": "stream",
     "text": [
      "/home/jupyter/data-science-on-gcp/05_bqnotebook\n"
     ]
    }
   ],
   "source": [
    "!pwd"
   ]
  },
  {
   "cell_type": "markdown",
   "metadata": {},
   "source": [
    "## What's installed?"
   ]
  },
  {
   "cell_type": "code",
   "execution_count": 3,
   "metadata": {
    "tags": []
   },
   "outputs": [
    {
     "name": "stdout",
     "output_type": "stream",
     "text": [
      "absl-py @ file:///home/conda/feedstock_root/build_artifacts/absl-py_1637088766493/work\n",
      "aiohttp @ file:///home/conda/feedstock_root/build_artifacts/aiohttp_1637087016127/work\n",
      "aiosignal @ file:///home/conda/feedstock_root/build_artifacts/aiosignal_1636093929600/work\n",
      "ansiwrap==0.8.4\n",
      "anyio @ file:///home/conda/feedstock_root/build_artifacts/anyio_1641898037838/work/dist\n",
      "apache-beam==2.36.0\n",
      "appdirs @ file:///home/conda/feedstock_root/build_artifacts/appdirs_1603108395799/work\n",
      "argon2-cffi @ file:///home/conda/feedstock_root/build_artifacts/argon2-cffi_1640817743617/work\n",
      "argon2-cffi-bindings @ file:///home/conda/feedstock_root/build_artifacts/argon2-cffi-bindings_1640855138034/work\n",
      "arrow @ file:///home/conda/feedstock_root/build_artifacts/arrow_1643313750486/work\n",
      "asn1crypto @ file:///home/conda/feedstock_root/build_artifacts/asn1crypto_1595949944546/work\n",
      "astunparse==1.6.3\n",
      "async-timeout @ file:///home/conda/feedstock_root/build_artifacts/async-timeout_1640026696943/work\n",
      "asynctest==0.13.0\n",
      "attrs @ file:///home/conda/feedstock_root/build_artifacts/attrs_1640799537051/work\n",
      "Babel @ file:///home/conda/feedstock_root/build_artifacts/babel_1619719576210/work\n",
      "backcall @ file:///home/conda/feedstock_root/build_artifacts/backcall_1592338393461/work\n",
      "backports.functools-lru-cache @ file:///home/conda/feedstock_root/build_artifacts/backports.functools_lru_cache_1618230623929/work\n",
      "beatrix-jupyterlab @ file:///tmp/beatrix_jupyterlab-latest.tar.gz\n",
      "binaryornot==0.4.4\n",
      "black @ file:///home/conda/feedstock_root/build_artifacts/black-recipe_1643636307408/work\n",
      "bleach @ file:///home/conda/feedstock_root/build_artifacts/bleach_1629908509068/work\n",
      "blinker==1.4\n",
      "Bottleneck @ file:///home/conda/feedstock_root/build_artifacts/bottleneck_1645538059630/work\n",
      "brotlipy==0.7.0\n",
      "cached-property==1.5.2\n",
      "cachetools==4.2.4\n",
      "certifi==2021.10.8\n",
      "cffi @ file:///home/conda/feedstock_root/build_artifacts/cffi_1636046052501/work\n",
      "chardet @ file:///tmp/build/80754af9/chardet_1607706768982/work\n",
      "charset-normalizer @ file:///home/conda/feedstock_root/build_artifacts/charset-normalizer_1644853463426/work\n",
      "click @ file:///home/conda/feedstock_root/build_artifacts/click_1645238117885/work\n",
      "cloud-tpu-client==0.10\n",
      "cloud-tpu-profiler==2.4.0\n",
      "cloudml-hypertune==0.1.0.dev6\n",
      "cloudpickle @ file:///home/conda/feedstock_root/build_artifacts/cloudpickle_1631273254894/work\n",
      "colorama @ file:///home/conda/feedstock_root/build_artifacts/colorama_1602866480661/work\n",
      "conda==4.11.0\n",
      "conda-package-handling @ file:///tmp/build/80754af9/conda-package-handling_1618262151086/work\n",
      "confuse @ file:///home/conda/feedstock_root/build_artifacts/confuse_1638044079768/work\n",
      "cookiecutter @ file:///home/conda/feedstock_root/build_artifacts/cookiecutter_1643669229020/work\n",
      "crcmod==1.7\n",
      "cryptography @ file:///home/conda/feedstock_root/build_artifacts/cryptography_1639699266208/work\n",
      "cycler @ file:///home/conda/feedstock_root/build_artifacts/cycler_1635519461629/work\n",
      "dataclasses @ file:///home/conda/feedstock_root/build_artifacts/dataclasses_1628958434797/work\n",
      "debugpy @ file:///home/conda/feedstock_root/build_artifacts/debugpy_1636043256745/work\n",
      "decorator @ file:///home/conda/feedstock_root/build_artifacts/decorator_1641555617451/work\n",
      "defusedxml @ file:///home/conda/feedstock_root/build_artifacts/defusedxml_1615232257335/work\n",
      "Deprecated==1.2.13\n",
      "dill==0.3.4\n",
      "distlib==0.3.4\n",
      "dm-tree==0.1.6\n",
      "docker @ file:///home/conda/feedstock_root/build_artifacts/docker-py_1638897274897/work\n",
      "docker-pycreds==0.4.0\n",
      "docopt==0.6.2\n",
      "docstring-parser==0.13\n",
      "entrypoints @ file:///home/conda/feedstock_root/build_artifacts/entrypoints_1643888246732/work\n",
      "explainable-ai-sdk @ file:///opt/conda/conda-bld/dlenv-tf-2-8-cpu_1645925758554/work/explainable_ai_sdk-1-py3-none-any.whl\n",
      "explainers @ file:///opt/conda/conda-bld/dlenv-tf-2-8-cpu_1645925758554/work/explainers-1-cp37-cp37m-linux_x86_64.whl\n",
      "fastavro==1.4.9\n",
      "fasteners==0.17.3\n",
      "filelock==3.6.0\n",
      "fire==0.4.0\n",
      "flatbuffers==2.0\n",
      "flit_core @ file:///home/conda/feedstock_root/build_artifacts/flit-core_1645629044586/work/source/flit_core\n",
      "fonttools @ file:///home/conda/feedstock_root/build_artifacts/fonttools_1643722425517/work\n",
      "frozenlist @ file:///home/conda/feedstock_root/build_artifacts/frozenlist_1643222566314/work\n",
      "fsspec @ file:///home/conda/feedstock_root/build_artifacts/fsspec_1645566723803/work\n",
      "future==0.18.2\n",
      "gast==0.5.3\n",
      "gcsfs @ file:///home/conda/feedstock_root/build_artifacts/gcsfs_1645586049768/work\n",
      "gitdb @ file:///home/conda/feedstock_root/build_artifacts/gitdb_1635085722655/work\n",
      "GitPython @ file:///home/conda/feedstock_root/build_artifacts/gitpython_1645531658201/work\n",
      "google-api-core @ file:///home/conda/feedstock_root/build_artifacts/google-api-core-split_1644877687275/work\n",
      "google-api-python-client==1.12.10\n",
      "google-apitools==0.5.31\n",
      "google-auth==1.35.0\n",
      "google-auth-httplib2 @ file:///home/conda/feedstock_root/build_artifacts/google-auth-httplib2_1617387471894/work\n",
      "google-auth-oauthlib @ file:///home/conda/feedstock_root/build_artifacts/google-auth-oauthlib_1630497468950/work\n",
      "google-cloud-aiplatform==1.10.0\n",
      "google-cloud-appengine-logging==1.1.0\n",
      "google-cloud-audit-log==0.2.0\n",
      "google-cloud-bigquery==2.34.0\n",
      "google-cloud-bigquery-storage==2.12.0\n",
      "google-cloud-bigtable==2.5.2\n",
      "google-cloud-core @ file:///home/conda/feedstock_root/build_artifacts/google-cloud-core_1642607638110/work\n",
      "google-cloud-dataproc==3.3.0\n",
      "google-cloud-datastore==2.4.0\n",
      "google-cloud-dlp==3.6.0\n",
      "google-cloud-firestore==2.3.4\n",
      "google-cloud-kms==2.11.0\n",
      "google-cloud-language==2.3.2\n",
      "google-cloud-logging==3.0.0\n",
      "google-cloud-monitoring==2.8.0\n",
      "google-cloud-pubsub==2.9.0\n",
      "google-cloud-pubsublite==1.4.0\n",
      "google-cloud-recommendations-ai==0.2.0\n",
      "google-cloud-scheduler==2.6.0\n",
      "google-cloud-spanner==3.13.0\n",
      "google-cloud-speech==2.12.0\n",
      "google-cloud-storage==1.44.0\n",
      "google-cloud-tasks==2.8.0\n",
      "google-cloud-translate==3.7.0\n",
      "google-cloud-videointelligence==2.6.0\n",
      "google-cloud-vision==2.6.3\n",
      "google-crc32c @ file:///home/conda/feedstock_root/build_artifacts/google-crc32c_1636020892126/work\n",
      "google-pasta==0.2.0\n",
      "google-resumable-media @ file:///home/conda/feedstock_root/build_artifacts/google-resumable-media_1635195007097/work\n",
      "googleapis-common-protos @ file:///home/conda/feedstock_root/build_artifacts/googleapis-common-protos-feedstock_1641396310439/work\n",
      "greenlet @ file:///home/conda/feedstock_root/build_artifacts/greenlet_1635836788663/work\n",
      "grpc-google-iam-v1==0.12.3\n",
      "grpcio @ file:///home/conda/feedstock_root/build_artifacts/grpcio_1645230326358/work\n",
      "grpcio-gcp @ file:///home/conda/feedstock_root/build_artifacts/grpcio-gcp_1635875856259/work\n",
      "grpcio-status==1.44.0\n",
      "gviz-api==1.10.0\n",
      "h5py==3.6.0\n",
      "hdfs==2.6.0\n",
      "horovod==0.23.0\n",
      "htmlmin==0.1.12\n",
      "httplib2 @ file:///home/conda/feedstock_root/build_artifacts/httplib2_1644593570376/work\n",
      "idna @ file:///home/conda/feedstock_root/build_artifacts/idna_1642433548627/work\n",
      "ImageHash @ file:///home/conda/feedstock_root/build_artifacts/imagehash_1626361020540/work\n",
      "imageio==2.16.0\n",
      "importlib-metadata @ file:///home/conda/feedstock_root/build_artifacts/importlib-metadata_1644934521437/work\n",
      "importlib-resources @ file:///home/conda/feedstock_root/build_artifacts/importlib_resources_1635615662634/work\n",
      "ipykernel @ file:///home/conda/feedstock_root/build_artifacts/ipykernel_1644979796763/work/dist/ipykernel-6.9.1-py3-none-any.whl\n",
      "ipython @ file:///home/conda/feedstock_root/build_artifacts/ipython_1645888813068/work\n",
      "ipython-genutils==0.2.0\n",
      "ipython-sql @ file:///home/conda/feedstock_root/build_artifacts/ipython-sql_1636816912182/work\n",
      "ipywidgets @ file:///home/conda/feedstock_root/build_artifacts/ipywidgets_1631590360471/work\n",
      "jedi @ file:///home/conda/feedstock_root/build_artifacts/jedi_1637175076767/work\n",
      "jeepney==0.7.1\n",
      "Jinja2 @ file:///home/conda/feedstock_root/build_artifacts/jinja2_1612119311452/work\n",
      "jinja2-time==0.2.0\n",
      "joblib @ file:///home/conda/feedstock_root/build_artifacts/joblib_1612898609989/work\n",
      "json5 @ file:///home/conda/feedstock_root/build_artifacts/json5_1600692310011/work\n",
      "jsonschema==3.2.0\n",
      "jupyter==1.0.0\n",
      "jupyter-client @ file:///home/conda/feedstock_root/build_artifacts/jupyter_client_1642858610849/work\n",
      "jupyter-console==6.4.0\n",
      "jupyter-core @ file:///home/conda/feedstock_root/build_artifacts/jupyter_core_1645024288521/work\n",
      "jupyter-http-over-ws==0.0.8\n",
      "jupyter-server @ file:///home/conda/feedstock_root/build_artifacts/jupyter_server_1644505208279/work\n",
      "jupyter-server-mathjax @ file:///home/conda/feedstock_root/build_artifacts/jupyter-server-mathjax_1645541128695/work\n",
      "jupyter-server-proxy @ file:///home/conda/feedstock_root/build_artifacts/jupyter-server-proxy_1643080298941/work\n",
      "jupyterlab @ file:///home/conda/feedstock_root/build_artifacts/jupyterlab_1643984239174/work\n",
      "jupyterlab-git @ file:///home/conda/feedstock_root/build_artifacts/jupyterlab-git_1642185789282/work\n",
      "jupyterlab-pygments @ file:///home/conda/feedstock_root/build_artifacts/jupyterlab_pygments_1601375948261/work\n",
      "jupyterlab-server @ file:///home/conda/feedstock_root/build_artifacts/jupyterlab_server_1641592475363/work\n",
      "jupyterlab-widgets @ file:///home/conda/feedstock_root/build_artifacts/jupyterlab_widgets_1631590465624/work\n",
      "jupytext @ file:///home/conda/feedstock_root/build_artifacts/jupytext_1644914976718/work\n",
      "keras==2.8.0rc0\n",
      "Keras-Preprocessing==1.1.2\n",
      "keras-tuner==1.1.0\n",
      "keyring==23.5.0\n",
      "keyrings.google-artifactregistry-auth==1.0.0\n",
      "kfp==1.8.11\n",
      "kfp-pipeline-spec==0.1.13\n",
      "kfp-server-api==1.8.1\n",
      "kiwisolver @ file:///home/conda/feedstock_root/build_artifacts/kiwisolver_1635836699543/work\n",
      "kt-legacy==1.0.4\n",
      "kubernetes==18.20.0\n",
      "libclang==13.0.0\n",
      "libcst==0.4.1\n",
      "llvmlite==0.38.0\n",
      "Markdown @ file:///home/conda/feedstock_root/build_artifacts/markdown_1637220118004/work\n",
      "markdown-it-py @ file:///home/conda/feedstock_root/build_artifacts/markdown-it-py_1620659057741/work\n",
      "MarkupSafe @ file:///home/conda/feedstock_root/build_artifacts/markupsafe_1635833550185/work\n",
      "matplotlib @ file:///home/conda/feedstock_root/build_artifacts/matplotlib-suite_1639358971400/work\n",
      "matplotlib-inline @ file:///home/conda/feedstock_root/build_artifacts/matplotlib-inline_1631080358261/work\n",
      "mdit-py-plugins @ file:///home/conda/feedstock_root/build_artifacts/mdit-py-plugins_1639763187273/work\n",
      "missingno==0.4.2\n",
      "mistune @ file:///home/conda/feedstock_root/build_artifacts/mistune_1635844677043/work\n",
      "multidict @ file:///home/conda/feedstock_root/build_artifacts/multidict_1643055370770/work\n",
      "multimethod @ file:///home/conda/feedstock_root/build_artifacts/multimethod_1603129052241/work\n",
      "munkres==1.1.4\n",
      "mypy-extensions @ file:///home/conda/feedstock_root/build_artifacts/mypy_extensions_1635839681723/work\n",
      "nb-conda @ file:///home/conda/feedstock_root/build_artifacts/nb_conda_1611345550379/work\n",
      "nb-conda-kernels @ file:///home/conda/feedstock_root/build_artifacts/nb_conda_kernels_1636999991206/work\n",
      "nbclassic @ file:///home/conda/feedstock_root/build_artifacts/nbclassic_1641934401341/work\n",
      "nbclient @ file:///home/conda/feedstock_root/build_artifacts/nbclient_1644884378444/work\n",
      "nbconvert @ file:///home/conda/feedstock_root/build_artifacts/nbconvert_1644591272508/work\n",
      "nbdime @ file:///home/conda/feedstock_root/build_artifacts/nbdime_1635269257164/work\n",
      "nbformat @ file:///home/conda/feedstock_root/build_artifacts/nbformat_1617383142101/work\n",
      "nest-asyncio @ file:///home/conda/feedstock_root/build_artifacts/nest-asyncio_1638419302549/work\n",
      "networkx @ file:///home/conda/feedstock_root/build_artifacts/networkx_1635253012265/work\n",
      "notebook @ file:///home/conda/feedstock_root/build_artifacts/notebook_1643149609895/work\n",
      "notebook-executor @ file:///opt/conda/conda-bld/dlenv-base_1645923907312/work/packages/notebook_executor\n",
      "numba @ file:///home/conda/feedstock_root/build_artifacts/numba_1644003856013/work\n",
      "numpy==1.21.5\n",
      "oauth2client==4.1.3\n",
      "oauthlib @ file:///home/conda/feedstock_root/build_artifacts/oauthlib_1643507977997/work\n",
      "opt-einsum==3.3.0\n",
      "orjson==3.6.7\n",
      "overrides==6.1.0\n",
      "packaging @ file:///home/conda/feedstock_root/build_artifacts/packaging_1637239678211/work\n",
      "pandas==1.3.5\n",
      "pandas-profiling @ file:///home/conda/feedstock_root/build_artifacts/pandas-profiling_1632836752399/work\n",
      "pandocfilters @ file:///home/conda/feedstock_root/build_artifacts/pandocfilters_1631603243851/work\n",
      "papermill @ file:///home/conda/feedstock_root/build_artifacts/papermill_1642949624634/work\n",
      "parso @ file:///home/conda/feedstock_root/build_artifacts/parso_1638334955874/work\n",
      "pathspec @ file:///home/conda/feedstock_root/build_artifacts/pathspec_1626613672358/work\n",
      "patsy @ file:///home/conda/feedstock_root/build_artifacts/patsy_1632667180946/work\n",
      "pexpect @ file:///home/conda/feedstock_root/build_artifacts/pexpect_1602535608087/work\n",
      "phik @ file:///home/conda/feedstock_root/build_artifacts/phik_1636795276417/work\n",
      "pickleshare @ file:///home/conda/feedstock_root/build_artifacts/pickleshare_1602536217715/work\n",
      "Pillow @ file:///home/conda/feedstock_root/build_artifacts/pillow_1645323161513/work\n",
      "platformdirs @ file:///home/conda/feedstock_root/build_artifacts/platformdirs_1645298319244/work\n",
      "pluggy==1.0.0\n",
      "poyo==0.5.0\n",
      "prettytable @ file:///home/conda/feedstock_root/build_artifacts/prettytable_1645048701962/work\n",
      "prometheus-client @ file:///home/conda/feedstock_root/build_artifacts/prometheus_client_1643395600215/work\n",
      "promise==2.3\n",
      "prompt-toolkit @ file:///home/conda/feedstock_root/build_artifacts/prompt-toolkit_1644497866770/work\n",
      "proto-plus==1.20.3\n",
      "protobuf==3.19.4\n",
      "psutil==5.9.0\n",
      "ptyprocess @ file:///home/conda/feedstock_root/build_artifacts/ptyprocess_1609419310487/work/dist/ptyprocess-0.7.0-py2.py3-none-any.whl\n",
      "pyarrow==7.0.0\n",
      "pyasn1==0.4.8\n",
      "pyasn1-modules==0.2.7\n",
      "pycosat==0.6.3\n",
      "pycparser @ file:///home/conda/feedstock_root/build_artifacts/pycparser_1636257122734/work\n",
      "pydantic @ file:///home/conda/feedstock_root/build_artifacts/pydantic_1641053086857/work\n",
      "pydot==1.4.2\n",
      "Pygments @ file:///home/conda/feedstock_root/build_artifacts/pygments_1641580240686/work\n",
      "PyJWT @ file:///home/conda/feedstock_root/build_artifacts/pyjwt_1638819640841/work\n",
      "pymongo==3.12.3\n",
      "pyOpenSSL @ file:///home/conda/feedstock_root/build_artifacts/pyopenssl_1643496850550/work\n",
      "pyparsing @ file:///home/conda/feedstock_root/build_artifacts/pyparsing_1642753572664/work\n",
      "pyrsistent @ file:///home/conda/feedstock_root/build_artifacts/pyrsistent_1642534376236/work\n",
      "PySocks @ file:///tmp/build/80754af9/pysocks_1594394576006/work\n",
      "python-dateutil @ file:///home/conda/feedstock_root/build_artifacts/python-dateutil_1626286286081/work\n",
      "python-slugify @ file:///home/conda/feedstock_root/build_artifacts/python-slugify_1645567164813/work\n",
      "pytz @ file:///home/conda/feedstock_root/build_artifacts/pytz_1633452062248/work\n",
      "pyu2f @ file:///home/conda/feedstock_root/build_artifacts/pyu2f_1604248910016/work\n",
      "PyWavelets @ file:///home/conda/feedstock_root/build_artifacts/pywavelets_1638209732773/work\n",
      "PyYAML==5.4.1\n",
      "pyzmq @ file:///home/conda/feedstock_root/build_artifacts/pyzmq_1635877395563/work\n",
      "qtconsole==5.2.2\n",
      "QtPy==2.0.1\n",
      "requests @ file:///home/conda/feedstock_root/build_artifacts/requests_1641580202195/work\n",
      "requests-oauthlib @ file:///home/conda/feedstock_root/build_artifacts/requests-oauthlib_1643557462909/work\n",
      "requests-toolbelt==0.9.1\n",
      "retrying==1.3.3\n",
      "rsa @ file:///home/conda/feedstock_root/build_artifacts/rsa_1637781155505/work\n",
      "ruamel-yaml-conda @ file:///tmp/build/80754af9/ruamel_yaml_1616016701961/work\n",
      "scikit-image==0.19.2\n",
      "scikit-learn @ file:///home/conda/feedstock_root/build_artifacts/scikit-learn_1640464152916/work\n",
      "scipy @ file:///home/conda/feedstock_root/build_artifacts/scipy_1637806658031/work\n",
      "seaborn @ file:///home/conda/feedstock_root/build_artifacts/seaborn-split_1629095986539/work\n",
      "SecretStorage==3.3.1\n",
      "Send2Trash @ file:///home/conda/feedstock_root/build_artifacts/send2trash_1628511208346/work\n",
      "simpervisor @ file:///home/conda/feedstock_root/build_artifacts/simpervisor_1609865618711/work\n",
      "six @ file:///tmp/build/80754af9/six_1623709665295/work\n",
      "smmap @ file:///home/conda/feedstock_root/build_artifacts/smmap_1611376390914/work\n",
      "sniffio @ file:///home/conda/feedstock_root/build_artifacts/sniffio_1635844655971/work\n",
      "SQLAlchemy @ file:///home/conda/feedstock_root/build_artifacts/sqlalchemy_1642761928857/work\n",
      "sqlparse @ file:///home/conda/feedstock_root/build_artifacts/sqlparse_1631317292236/work\n",
      "statsmodels @ file:///home/conda/feedstock_root/build_artifacts/statsmodels_1644535599043/work\n",
      "strip-hints==0.1.10\n",
      "tabulate==0.8.9\n",
      "tangled-up-in-unicode @ file:///home/conda/feedstock_root/build_artifacts/tangled-up-in-unicode_1620720635379/work\n",
      "tenacity @ file:///home/conda/feedstock_root/build_artifacts/tenacity_1626090218611/work\n",
      "tensorboard==2.7.0\n",
      "tensorboard-data-server==0.6.1\n",
      "tensorboard-plugin-profile==2.5.0\n",
      "tensorboard-plugin-wit==1.8.1\n",
      "tensorflow @ file:///opt/conda/conda-bld/dlenv-tf-2-8-cpu_1645925758554/work/tensorflow-2.8.0-cp37-cp37m-linux_x86_64.whl\n",
      "tensorflow-cloud==0.1.16\n",
      "tensorflow-datasets==4.4.0\n",
      "tensorflow-estimator==2.8.0\n",
      "tensorflow-hub==0.12.0\n",
      "tensorflow-io==0.23.1\n",
      "tensorflow-io-gcs-filesystem==0.24.0\n",
      "tensorflow-metadata==1.6.0\n",
      "tensorflow-probability==0.14.1\n",
      "tensorflow-serving-api==2.7.0\n",
      "tensorflow-transform==1.6.0\n",
      "termcolor==1.1.0\n",
      "terminado @ file:///home/conda/feedstock_root/build_artifacts/terminado_1643296485362/work\n",
      "testpath @ file:///home/conda/feedstock_root/build_artifacts/testpath_1645693042223/work\n",
      "text-unidecode==1.3\n",
      "textwrap3==0.9.2\n",
      "tf-estimator-nightly==2.8.0.dev2021122109\n",
      "tfx-bsl==1.6.0\n",
      "threadpoolctl @ file:///home/conda/feedstock_root/build_artifacts/threadpoolctl_1643647933166/work\n",
      "tifffile==2021.11.2\n",
      "toml @ file:///home/conda/feedstock_root/build_artifacts/toml_1604308577558/work\n",
      "tomli @ file:///home/conda/feedstock_root/build_artifacts/tomli_1644342247877/work\n",
      "tornado @ file:///home/conda/feedstock_root/build_artifacts/tornado_1635819587639/work\n",
      "tqdm @ file:///home/conda/feedstock_root/build_artifacts/tqdm_1632160078689/work\n",
      "traitlets @ file:///home/conda/feedstock_root/build_artifacts/traitlets_1635260543454/work\n",
      "typed-ast @ file:///home/conda/feedstock_root/build_artifacts/typed-ast_1643045769112/work\n",
      "typer==0.4.0\n",
      "typing-extensions==3.10.0.2\n",
      "typing-inspect==0.7.1\n",
      "typing-utils==0.1.0\n",
      "ujson @ file:///home/conda/feedstock_root/build_artifacts/ujson_1640095826149/work\n",
      "unicodedata2 @ file:///home/conda/feedstock_root/build_artifacts/unicodedata2_1640030998004/work\n",
      "Unidecode @ file:///home/conda/feedstock_root/build_artifacts/unidecode_1645371071762/work\n",
      "uritemplate==3.0.1\n",
      "urllib3 @ file:///home/conda/feedstock_root/build_artifacts/urllib3_1641584929973/work\n",
      "virtualenv==20.13.2\n",
      "visions @ file:///home/conda/feedstock_root/build_artifacts/visions_1632831254311/work\n",
      "wcwidth @ file:///home/conda/feedstock_root/build_artifacts/wcwidth_1600965781394/work\n",
      "webencodings==0.5.1\n",
      "websocket-client @ file:///home/conda/feedstock_root/build_artifacts/websocket-client_1645884408572/work\n",
      "Werkzeug==2.0.3\n",
      "widgetsnbextension @ file:///home/conda/feedstock_root/build_artifacts/widgetsnbextension_1637174133839/work\n",
      "witwidget==1.8.0\n",
      "wrapt @ file:///home/conda/feedstock_root/build_artifacts/wrapt_1635836382399/work\n",
      "xai-tabular-widget @ file:///opt/conda/conda-bld/dlenv-tf-2-8-cpu_1645925758554/work/xai_tabular_widget-1-py3-none-any.whl\n",
      "yarl @ file:///home/conda/feedstock_root/build_artifacts/yarl_1636046815749/work\n",
      "zipp @ file:///home/conda/feedstock_root/build_artifacts/zipp_1643828507773/work\n",
      "Note: you may need to restart the kernel to use updated packages.\n"
     ]
    }
   ],
   "source": [
    "%pip freeze"
   ]
  },
  {
   "cell_type": "code",
   "execution_count": 4,
   "metadata": {
    "tags": []
   },
   "outputs": [],
   "source": [
    "import matplotlib.pyplot as plt\n",
    "import seaborn as sns\n",
    "import pandas as pd\n",
    "import numpy as np\n",
    "\n",
    "from google.cloud import bigquery"
   ]
  },
  {
   "cell_type": "markdown",
   "metadata": {},
   "source": [
    "## Installing dependencies\n",
    "\n",
    "Regular Python dependencies can be installed using pip"
   ]
  },
  {
   "cell_type": "code",
   "execution_count": 5,
   "metadata": {
    "collapsed": false,
    "jupyter": {
     "outputs_hidden": false
    }
   },
   "outputs": [
    {
     "name": "stdout",
     "output_type": "stream",
     "text": [
      "Requirement already satisfied: pytz in /opt/conda/lib/python3.7/site-packages (2021.3)\n",
      "Note: you may need to restart the kernel to use updated packages.\n"
     ]
    }
   ],
   "source": [
    "%pip install pytz"
   ]
  },
  {
   "cell_type": "markdown",
   "metadata": {},
   "source": [
    "## Juypter magic"
   ]
  },
  {
   "cell_type": "code",
   "execution_count": 6,
   "metadata": {
    "collapsed": false,
    "jupyter": {
     "outputs_hidden": false
    }
   },
   "outputs": [
    {
     "data": {
      "text/html": [
       "This cell will print out a <b> HTML </b> string.\n"
      ],
      "text/plain": [
       "<IPython.core.display.HTML object>"
      ]
     },
     "metadata": {},
     "output_type": "display_data"
    }
   ],
   "source": [
    "%%html\n",
    "This cell will print out a <b> HTML </b> string."
   ]
  },
  {
   "cell_type": "markdown",
   "metadata": {},
   "source": [
    "The `%%bigquery` cell magic will return SQL results in a Pandas DataFrame:"
   ]
  },
  {
   "cell_type": "code",
   "execution_count": 7,
   "metadata": {
    "collapsed": false,
    "jupyter": {
     "outputs_hidden": false
    }
   },
   "outputs": [
    {
     "name": "stderr",
     "output_type": "stream",
     "text": [
      "Query complete after 0.00s: 100%|██████████| 1/1 [00:00<00:00, 737.27query/s] \n",
      "Downloading: 100%|██████████| 1/1 [00:01<00:00,  1.34s/rows]\n"
     ]
    },
    {
     "data": {
      "text/html": [
       "<div>\n",
       "<style scoped>\n",
       "    .dataframe tbody tr th:only-of-type {\n",
       "        vertical-align: middle;\n",
       "    }\n",
       "\n",
       "    .dataframe tbody tr th {\n",
       "        vertical-align: top;\n",
       "    }\n",
       "\n",
       "    .dataframe thead th {\n",
       "        text-align: right;\n",
       "    }\n",
       "</style>\n",
       "<table border=\"1\" class=\"dataframe\">\n",
       "  <thead>\n",
       "    <tr style=\"text-align: right;\">\n",
       "      <th></th>\n",
       "      <th>frac_delayed</th>\n",
       "    </tr>\n",
       "  </thead>\n",
       "  <tbody>\n",
       "    <tr>\n",
       "      <th>0</th>\n",
       "      <td>0.185803</td>\n",
       "    </tr>\n",
       "  </tbody>\n",
       "</table>\n",
       "</div>"
      ],
      "text/plain": [
       "   frac_delayed\n",
       "0      0.185803"
      ]
     },
     "execution_count": 7,
     "metadata": {},
     "output_type": "execute_result"
    }
   ],
   "source": [
    "%%bigquery\n",
    "SELECT \n",
    "  COUNTIF(arr_delay >= 15)/COUNT(arr_delay) AS frac_delayed\n",
    "FROM dsongcp.flights_tzcorr"
   ]
  },
  {
   "cell_type": "markdown",
   "metadata": {},
   "source": [
    "## Calls to BigQuery\n",
    "We can also directly query BigQuery with the Python library:"
   ]
  },
  {
   "cell_type": "code",
   "execution_count": 8,
   "metadata": {},
   "outputs": [],
   "source": [
    "bq = bigquery.Client()"
   ]
  },
  {
   "cell_type": "code",
   "execution_count": 9,
   "metadata": {},
   "outputs": [
    {
     "data": {
      "text/html": [
       "<div>\n",
       "<style scoped>\n",
       "    .dataframe tbody tr th:only-of-type {\n",
       "        vertical-align: middle;\n",
       "    }\n",
       "\n",
       "    .dataframe tbody tr th {\n",
       "        vertical-align: top;\n",
       "    }\n",
       "\n",
       "    .dataframe thead th {\n",
       "        text-align: right;\n",
       "    }\n",
       "</style>\n",
       "<table border=\"1\" class=\"dataframe\">\n",
       "  <thead>\n",
       "    <tr style=\"text-align: right;\">\n",
       "      <th></th>\n",
       "      <th>frac_delayed</th>\n",
       "    </tr>\n",
       "  </thead>\n",
       "  <tbody>\n",
       "    <tr>\n",
       "      <th>0</th>\n",
       "      <td>0.185803</td>\n",
       "    </tr>\n",
       "  </tbody>\n",
       "</table>\n",
       "</div>"
      ],
      "text/plain": [
       "   frac_delayed\n",
       "0      0.185803"
      ]
     },
     "execution_count": 9,
     "metadata": {},
     "output_type": "execute_result"
    }
   ],
   "source": [
    "sql = \"\"\"\n",
    "SELECT\n",
    "  COUNTIF(arr_delay >= 15)/COUNT(arr_delay) AS frac_delayed\n",
    "FROM dsongcp.flights_tzcorr\n",
    "\"\"\"\n",
    "bq.query(sql).to_dataframe()"
   ]
  },
  {
   "cell_type": "markdown",
   "metadata": {},
   "source": [
    "Let's draw a Probability Distribution Function (PDF) of different arrival delays. In a Notebook we can assign the output of a cell magic query to a variable, in this case `df`:"
   ]
  },
  {
   "cell_type": "code",
   "execution_count": 10,
   "metadata": {
    "collapsed": false,
    "jupyter": {
     "outputs_hidden": false
    }
   },
   "outputs": [
    {
     "name": "stderr",
     "output_type": "stream",
     "text": [
      "Query complete after 0.00s: 100%|██████████| 1/1 [00:00<00:00, 618.26query/s] \n",
      "Downloading: 100%|██████████| 6637446/6637446 [00:03<00:00, 1970068.56rows/s]\n"
     ]
    }
   ],
   "source": [
    "%%bigquery df\n",
    "SELECT ARR_DELAY, DEP_DELAY\n",
    "FROM dsongcp.flights_tzcorr\n",
    "WHERE DEP_DELAY >= 10"
   ]
  },
  {
   "cell_type": "code",
   "execution_count": 11,
   "metadata": {},
   "outputs": [
    {
     "data": {
      "text/plain": [
       "pandas.core.frame.DataFrame"
      ]
     },
     "execution_count": 11,
     "metadata": {},
     "output_type": "execute_result"
    }
   ],
   "source": [
    "type(df)"
   ]
  },
  {
   "cell_type": "code",
   "execution_count": 12,
   "metadata": {
    "collapsed": false,
    "jupyter": {
     "outputs_hidden": false
    }
   },
   "outputs": [
    {
     "data": {
      "text/html": [
       "<div>\n",
       "<style scoped>\n",
       "    .dataframe tbody tr th:only-of-type {\n",
       "        vertical-align: middle;\n",
       "    }\n",
       "\n",
       "    .dataframe tbody tr th {\n",
       "        vertical-align: top;\n",
       "    }\n",
       "\n",
       "    .dataframe thead th {\n",
       "        text-align: right;\n",
       "    }\n",
       "</style>\n",
       "<table border=\"1\" class=\"dataframe\">\n",
       "  <thead>\n",
       "    <tr style=\"text-align: right;\">\n",
       "      <th></th>\n",
       "      <th>ARR_DELAY</th>\n",
       "      <th>DEP_DELAY</th>\n",
       "    </tr>\n",
       "  </thead>\n",
       "  <tbody>\n",
       "    <tr>\n",
       "      <th>count</th>\n",
       "      <td>6.599852e+06</td>\n",
       "      <td>6.637446e+06</td>\n",
       "    </tr>\n",
       "    <tr>\n",
       "      <th>mean</th>\n",
       "      <td>5.113637e+01</td>\n",
       "      <td>5.598984e+01</td>\n",
       "    </tr>\n",
       "    <tr>\n",
       "      <th>std</th>\n",
       "      <td>7.764071e+01</td>\n",
       "      <td>7.581221e+01</td>\n",
       "    </tr>\n",
       "    <tr>\n",
       "      <th>min</th>\n",
       "      <td>-8.100000e+01</td>\n",
       "      <td>1.000000e+01</td>\n",
       "    </tr>\n",
       "    <tr>\n",
       "      <th>25%</th>\n",
       "      <td>1.100000e+01</td>\n",
       "      <td>1.700000e+01</td>\n",
       "    </tr>\n",
       "    <tr>\n",
       "      <th>50%</th>\n",
       "      <td>2.900000e+01</td>\n",
       "      <td>3.200000e+01</td>\n",
       "    </tr>\n",
       "    <tr>\n",
       "      <th>75%</th>\n",
       "      <td>6.400000e+01</td>\n",
       "      <td>6.500000e+01</td>\n",
       "    </tr>\n",
       "    <tr>\n",
       "      <th>max</th>\n",
       "      <td>2.695000e+03</td>\n",
       "      <td>2.755000e+03</td>\n",
       "    </tr>\n",
       "  </tbody>\n",
       "</table>\n",
       "</div>"
      ],
      "text/plain": [
       "          ARR_DELAY     DEP_DELAY\n",
       "count  6.599852e+06  6.637446e+06\n",
       "mean   5.113637e+01  5.598984e+01\n",
       "std    7.764071e+01  7.581221e+01\n",
       "min   -8.100000e+01  1.000000e+01\n",
       "25%    1.100000e+01  1.700000e+01\n",
       "50%    2.900000e+01  3.200000e+01\n",
       "75%    6.400000e+01  6.500000e+01\n",
       "max    2.695000e+03  2.755000e+03"
      ]
     },
     "execution_count": 12,
     "metadata": {},
     "output_type": "execute_result"
    }
   ],
   "source": [
    "df.describe()"
   ]
  },
  {
   "cell_type": "code",
   "execution_count": 13,
   "metadata": {
    "collapsed": false,
    "jupyter": {
     "outputs_hidden": false
    }
   },
   "outputs": [
    {
     "data": {
      "image/png": "[encoded data removed]",
      "text/plain": [
       "<Figure size 432x288 with 1 Axes>"
      ]
     },
     "metadata": {},
     "output_type": "display_data"
    }
   ],
   "source": [
    "sns.set_style(\"whitegrid\")\n",
    "# sns.set(font_scale = 1.5)\n",
    "ax = sns.violinplot(data=df, x='ARR_DELAY', inner='box', orient='h')\n",
    "ax.axes.set_xlim(-50, 300);"
   ]
  },
  {
   "cell_type": "markdown",
   "metadata": {},
   "source": [
    "## Plotting distributions"
   ]
  },
  {
   "cell_type": "code",
   "execution_count": 14,
   "metadata": {
    "tags": []
   },
   "outputs": [
    {
     "name": "stderr",
     "output_type": "stream",
     "text": [
      "Query complete after 0.00s: 100%|██████████| 1/1 [00:00<00:00, 797.09query/s] \n",
      "Downloading: 100%|██████████| 30622371/30622371 [00:12<00:00, 2461625.10rows/s]\n"
     ]
    }
   ],
   "source": [
    "%%bigquery df\n",
    "SELECT ARR_DELAY, DEP_DELAY\n",
    "FROM dsongcp.flights_tzcorr"
   ]
  },
  {
   "cell_type": "code",
   "execution_count": 15,
   "metadata": {
    "collapsed": false,
    "jupyter": {
     "outputs_hidden": false
    }
   },
   "outputs": [
    {
     "data": {
      "text/html": [
       "<div>\n",
       "<style scoped>\n",
       "    .dataframe tbody tr th:only-of-type {\n",
       "        vertical-align: middle;\n",
       "    }\n",
       "\n",
       "    .dataframe tbody tr th {\n",
       "        vertical-align: top;\n",
       "    }\n",
       "\n",
       "    .dataframe thead th {\n",
       "        text-align: right;\n",
       "    }\n",
       "</style>\n",
       "<table border=\"1\" class=\"dataframe\">\n",
       "  <thead>\n",
       "    <tr style=\"text-align: right;\">\n",
       "      <th></th>\n",
       "      <th>ARR_DELAY</th>\n",
       "      <th>DEP_DELAY</th>\n",
       "    </tr>\n",
       "  </thead>\n",
       "  <tbody>\n",
       "    <tr>\n",
       "      <th>count</th>\n",
       "      <td>3.007053e+07</td>\n",
       "      <td>3.016062e+07</td>\n",
       "    </tr>\n",
       "    <tr>\n",
       "      <th>mean</th>\n",
       "      <td>4.562742e+00</td>\n",
       "      <td>9.823851e+00</td>\n",
       "    </tr>\n",
       "    <tr>\n",
       "      <th>std</th>\n",
       "      <td>4.549344e+01</td>\n",
       "      <td>4.339682e+01</td>\n",
       "    </tr>\n",
       "    <tr>\n",
       "      <th>min</th>\n",
       "      <td>-2.380000e+02</td>\n",
       "      <td>-2.340000e+02</td>\n",
       "    </tr>\n",
       "    <tr>\n",
       "      <th>25%</th>\n",
       "      <td>-1.400000e+01</td>\n",
       "      <td>-5.000000e+00</td>\n",
       "    </tr>\n",
       "    <tr>\n",
       "      <th>50%</th>\n",
       "      <td>-6.000000e+00</td>\n",
       "      <td>-2.000000e+00</td>\n",
       "    </tr>\n",
       "    <tr>\n",
       "      <th>75%</th>\n",
       "      <td>7.000000e+00</td>\n",
       "      <td>7.000000e+00</td>\n",
       "    </tr>\n",
       "    <tr>\n",
       "      <th>max</th>\n",
       "      <td>2.695000e+03</td>\n",
       "      <td>2.755000e+03</td>\n",
       "    </tr>\n",
       "  </tbody>\n",
       "</table>\n",
       "</div>"
      ],
      "text/plain": [
       "          ARR_DELAY     DEP_DELAY\n",
       "count  3.007053e+07  3.016062e+07\n",
       "mean   4.562742e+00  9.823851e+00\n",
       "std    4.549344e+01  4.339682e+01\n",
       "min   -2.380000e+02 -2.340000e+02\n",
       "25%   -1.400000e+01 -5.000000e+00\n",
       "50%   -6.000000e+00 -2.000000e+00\n",
       "75%    7.000000e+00  7.000000e+00\n",
       "max    2.695000e+03  2.755000e+03"
      ]
     },
     "execution_count": 15,
     "metadata": {},
     "output_type": "execute_result"
    }
   ],
   "source": [
    "df.describe()"
   ]
  },
  {
   "cell_type": "code",
   "execution_count": 16,
   "metadata": {
    "collapsed": false,
    "jupyter": {
     "outputs_hidden": false
    }
   },
   "outputs": [
    {
     "data": {
      "text/html": [
       "<div>\n",
       "<style scoped>\n",
       "    .dataframe tbody tr th:only-of-type {\n",
       "        vertical-align: middle;\n",
       "    }\n",
       "\n",
       "    .dataframe tbody tr th {\n",
       "        vertical-align: top;\n",
       "    }\n",
       "\n",
       "    .dataframe thead th {\n",
       "        text-align: right;\n",
       "    }\n",
       "</style>\n",
       "<table border=\"1\" class=\"dataframe\">\n",
       "  <thead>\n",
       "    <tr style=\"text-align: right;\">\n",
       "      <th></th>\n",
       "      <th>ARR_DELAY</th>\n",
       "      <th>DEP_DELAY</th>\n",
       "      <th>ontime</th>\n",
       "    </tr>\n",
       "  </thead>\n",
       "  <tbody>\n",
       "    <tr>\n",
       "      <th>0</th>\n",
       "      <td>229.0</td>\n",
       "      <td>236.0</td>\n",
       "      <td>False</td>\n",
       "    </tr>\n",
       "    <tr>\n",
       "      <th>1</th>\n",
       "      <td>91.0</td>\n",
       "      <td>63.0</td>\n",
       "      <td>False</td>\n",
       "    </tr>\n",
       "    <tr>\n",
       "      <th>2</th>\n",
       "      <td>92.0</td>\n",
       "      <td>97.0</td>\n",
       "      <td>False</td>\n",
       "    </tr>\n",
       "    <tr>\n",
       "      <th>3</th>\n",
       "      <td>31.0</td>\n",
       "      <td>35.0</td>\n",
       "      <td>False</td>\n",
       "    </tr>\n",
       "    <tr>\n",
       "      <th>4</th>\n",
       "      <td>55.0</td>\n",
       "      <td>45.0</td>\n",
       "      <td>False</td>\n",
       "    </tr>\n",
       "  </tbody>\n",
       "</table>\n",
       "</div>"
      ],
      "text/plain": [
       "   ARR_DELAY  DEP_DELAY  ontime\n",
       "0      229.0      236.0   False\n",
       "1       91.0       63.0   False\n",
       "2       92.0       97.0   False\n",
       "3       31.0       35.0   False\n",
       "4       55.0       45.0   False"
      ]
     },
     "execution_count": 16,
     "metadata": {},
     "output_type": "execute_result"
    }
   ],
   "source": [
    "df['ontime'] = df['DEP_DELAY'] < 10\n",
    "df[df['ARR_DELAY'] > 0].head()"
   ]
  },
  {
   "cell_type": "code",
   "execution_count": 17,
   "metadata": {
    "collapsed": false,
    "jupyter": {
     "outputs_hidden": false
    }
   },
   "outputs": [
    {
     "data": {
      "image/png": "[encoded data removed]",
      "text/plain": [
       "<Figure size 432x288 with 1 Axes>"
      ]
     },
     "metadata": {},
     "output_type": "display_data"
    }
   ],
   "source": [
    "sns.set_style(\"whitegrid\")\n",
    "ax = sns.violinplot(data=df, x='ARR_DELAY', y='ontime', inner='box', orient='h')\n",
    "ax.set_xlim(-50, 200);"
   ]
  },
  {
   "cell_type": "code",
   "execution_count": 18,
   "metadata": {
    "collapsed": false,
    "jupyter": {
     "outputs_hidden": false
    }
   },
   "outputs": [
    {
     "data": {
      "text/plain": [
       "(-50.0, 200.0)"
      ]
     },
     "execution_count": 18,
     "metadata": {},
     "output_type": "execute_result"
    },
    {
     "data": {
      "image/png": "[encoded data removed]",
      "text/plain": [
       "<Figure size 432x288 with 1 Axes>"
      ]
     },
     "metadata": {},
     "output_type": "display_data"
    }
   ],
   "source": [
    "ax = sns.violinplot(data=df, x='ARR_DELAY', y='ontime', \n",
    "                    inner='box', orient='h', gridsize=1000)\n",
    "ax.set_xlim(-50, 200)"
   ]
  },
  {
   "cell_type": "markdown",
   "metadata": {},
   "source": [
    "## Oddball values"
   ]
  },
  {
   "cell_type": "code",
   "execution_count": 19,
   "metadata": {},
   "outputs": [
    {
     "name": "stderr",
     "output_type": "stream",
     "text": [
      "Query complete after 0.00s: 100%|██████████| 1/1 [00:00<00:00, 660.52query/s] \n",
      "Downloading: 100%|██████████| 1742/1742 [00:01<00:00, 1299.38rows/s]\n"
     ]
    }
   ],
   "source": [
    "%%bigquery depdelay\n",
    "SELECT\n",
    "  DEP_DELAY,\n",
    "  AVG(ARR_DELAY) AS arrival_delay,\n",
    "  COUNT(ARR_DELAY) AS numflights\n",
    "FROM\n",
    "  dsongcp.flights_tzcorr\n",
    "GROUP BY\n",
    "  DEP_DELAY\n",
    "ORDER BY\n",
    "  DEP_DELAY"
   ]
  },
  {
   "cell_type": "code",
   "execution_count": 20,
   "metadata": {},
   "outputs": [
    {
     "data": {
      "text/plain": [
       "1742"
      ]
     },
     "execution_count": 20,
     "metadata": {},
     "output_type": "execute_result"
    }
   ],
   "source": [
    "len(depdelay)"
   ]
  },
  {
   "cell_type": "code",
   "execution_count": 21,
   "metadata": {},
   "outputs": [
    {
     "data": {
      "text/html": [
       "<div>\n",
       "<style scoped>\n",
       "    .dataframe tbody tr th:only-of-type {\n",
       "        vertical-align: middle;\n",
       "    }\n",
       "\n",
       "    .dataframe tbody tr th {\n",
       "        vertical-align: top;\n",
       "    }\n",
       "\n",
       "    .dataframe thead th {\n",
       "        text-align: right;\n",
       "    }\n",
       "</style>\n",
       "<table border=\"1\" class=\"dataframe\">\n",
       "  <thead>\n",
       "    <tr style=\"text-align: right;\">\n",
       "      <th></th>\n",
       "      <th>DEP_DELAY</th>\n",
       "      <th>arrival_delay</th>\n",
       "      <th>numflights</th>\n",
       "    </tr>\n",
       "  </thead>\n",
       "  <tbody>\n",
       "    <tr>\n",
       "      <th>0</th>\n",
       "      <td>NaN</td>\n",
       "      <td>-6.036576</td>\n",
       "      <td>4019</td>\n",
       "    </tr>\n",
       "    <tr>\n",
       "      <th>1</th>\n",
       "      <td>-234.0</td>\n",
       "      <td>-235.000000</td>\n",
       "      <td>1</td>\n",
       "    </tr>\n",
       "    <tr>\n",
       "      <th>2</th>\n",
       "      <td>-229.0</td>\n",
       "      <td>-238.000000</td>\n",
       "      <td>1</td>\n",
       "    </tr>\n",
       "    <tr>\n",
       "      <th>3</th>\n",
       "      <td>-204.0</td>\n",
       "      <td>-119.000000</td>\n",
       "      <td>1</td>\n",
       "    </tr>\n",
       "    <tr>\n",
       "      <th>4</th>\n",
       "      <td>-201.0</td>\n",
       "      <td>-194.000000</td>\n",
       "      <td>1</td>\n",
       "    </tr>\n",
       "  </tbody>\n",
       "</table>\n",
       "</div>"
      ],
      "text/plain": [
       "   DEP_DELAY  arrival_delay  numflights\n",
       "0        NaN      -6.036576        4019\n",
       "1     -234.0    -235.000000           1\n",
       "2     -229.0    -238.000000           1\n",
       "3     -204.0    -119.000000           1\n",
       "4     -201.0    -194.000000           1"
      ]
     },
     "execution_count": 21,
     "metadata": {},
     "output_type": "execute_result"
    }
   ],
   "source": [
    "depdelay[:5]"
   ]
  },
  {
   "cell_type": "code",
   "execution_count": 22,
   "metadata": {},
   "outputs": [
    {
     "data": {
      "text/html": [
       "<div>\n",
       "<style scoped>\n",
       "    .dataframe tbody tr th:only-of-type {\n",
       "        vertical-align: middle;\n",
       "    }\n",
       "\n",
       "    .dataframe tbody tr th {\n",
       "        vertical-align: top;\n",
       "    }\n",
       "\n",
       "    .dataframe thead th {\n",
       "        text-align: right;\n",
       "    }\n",
       "</style>\n",
       "<table border=\"1\" class=\"dataframe\">\n",
       "  <thead>\n",
       "    <tr style=\"text-align: right;\">\n",
       "      <th></th>\n",
       "      <th>DEP_DELAY</th>\n",
       "      <th>arrival_delay</th>\n",
       "      <th>numflights</th>\n",
       "    </tr>\n",
       "  </thead>\n",
       "  <tbody>\n",
       "    <tr>\n",
       "      <th>55</th>\n",
       "      <td>-40.0</td>\n",
       "      <td>-38.947368</td>\n",
       "      <td>57</td>\n",
       "    </tr>\n",
       "    <tr>\n",
       "      <th>56</th>\n",
       "      <td>-39.0</td>\n",
       "      <td>-38.194030</td>\n",
       "      <td>67</td>\n",
       "    </tr>\n",
       "    <tr>\n",
       "      <th>57</th>\n",
       "      <td>-38.0</td>\n",
       "      <td>-37.265060</td>\n",
       "      <td>83</td>\n",
       "    </tr>\n",
       "    <tr>\n",
       "      <th>58</th>\n",
       "      <td>-37.0</td>\n",
       "      <td>-36.500000</td>\n",
       "      <td>104</td>\n",
       "    </tr>\n",
       "    <tr>\n",
       "      <th>59</th>\n",
       "      <td>-36.0</td>\n",
       "      <td>-34.961165</td>\n",
       "      <td>103</td>\n",
       "    </tr>\n",
       "  </tbody>\n",
       "</table>\n",
       "</div>"
      ],
      "text/plain": [
       "    DEP_DELAY  arrival_delay  numflights\n",
       "55      -40.0     -38.947368          57\n",
       "56      -39.0     -38.194030          67\n",
       "57      -38.0     -37.265060          83\n",
       "58      -37.0     -36.500000         104\n",
       "59      -36.0     -34.961165         103"
      ]
     },
     "execution_count": 22,
     "metadata": {},
     "output_type": "execute_result"
    }
   ],
   "source": [
    "depdelay[55:60]"
   ]
  },
  {
   "cell_type": "markdown",
   "metadata": {},
   "source": [
    "## Filtering Data on Occurence Frequency"
   ]
  },
  {
   "cell_type": "code",
   "execution_count": 23,
   "metadata": {},
   "outputs": [
    {
     "name": "stderr",
     "output_type": "stream",
     "text": [
      "Query complete after 0.00s: 100%|██████████| 1/1 [00:00<00:00, 702.56query/s] \n",
      "Downloading: 100%|██████████| 9/9 [00:01<00:00,  7.09rows/s]\n"
     ]
    }
   ],
   "source": [
    "%%bigquery df\n",
    "DECLARE total_flights INT64;\n",
    "SET total_flights = (\n",
    "    SELECT COUNT(*) FROM dsongcp.flights_tzcorr\n",
    ");\n",
    "\n",
    "CREATE TEMPORARY FUNCTION linear_fit(NUM_TOTAL INT64, THRESH INT64)\n",
    "RETURNS STRUCT<thresh INT64, num_removed INT64, lm FLOAT64>\n",
    "AS ((\n",
    "    SELECT AS STRUCT\n",
    "        THRESH,\n",
    "        (NUM_TOTAL - SUM(numflights)) AS num_removed,\n",
    "        ROUND(AVG(arrival_delay * numflights) / AVG(dep_delay * numflights), 2) AS lm\n",
    "    FROM\n",
    "    (\n",
    "        SELECT\n",
    "            DEP_DELAY,\n",
    "            AVG(ARR_DELAY) AS arrival_delay,\n",
    "            STDDEV(ARR_DELAY) AS stddev_arrival_delay,\n",
    "            COUNT(ARR_DELAY) AS numflights\n",
    "        FROM\n",
    "            dsongcp.flights_tzcorr\n",
    "        GROUP BY\n",
    "            DEP_DELAY\n",
    "    )\n",
    "    WHERE numflights > THRESH\n",
    "))\n",
    ";\n",
    "\n",
    "SELECT linear_fit(total_flights, 1000) stats\n",
    "UNION ALL SELECT linear_fit(total_flights, 500)\n",
    "UNION ALL SELECT linear_fit(total_flights, 370)\n",
    "UNION ALL SELECT linear_fit(total_flights, 300)\n",
    "UNION ALL SELECT linear_fit(total_flights, 200)\n",
    "UNION ALL SELECT linear_fit(total_flights, 100)\n",
    "UNION ALL SELECT linear_fit(total_flights, 22)\n",
    "UNION ALL SELECT linear_fit(total_flights, 10)\n",
    "UNION ALL SELECT linear_fit(total_flights, 5)\n",
    "ORDER BY stats.thresh DESC"
   ]
  },
  {
   "cell_type": "code",
   "execution_count": 24,
   "metadata": {},
   "outputs": [
    {
     "data": {
      "text/plain": [
       "0    (1000, 663833, 0.36)\n",
       "1     (500, 620163, 0.39)\n",
       "2      (370, 607222, 0.4)\n",
       "3     (300, 601551, 0.41)\n",
       "4     (200, 591733, 0.41)\n",
       "5     (100, 579700, 0.43)\n",
       "6      (22, 556437, 0.46)\n",
       "7      (10, 553591, 0.46)\n",
       "8       (5, 552777, 0.47)\n",
       "Name: stats, dtype: object"
      ]
     },
     "execution_count": 24,
     "metadata": {},
     "output_type": "execute_result"
    }
   ],
   "source": [
    "df['stats'].map(lambda x: (x['thresh'], x['num_removed'], x['lm']))"
   ]
  },
  {
   "cell_type": "markdown",
   "metadata": {},
   "source": [
    "## Arrival delay conditioned on departure delay"
   ]
  },
  {
   "cell_type": "code",
   "execution_count": 25,
   "metadata": {
    "collapsed": false,
    "jupyter": {
     "outputs_hidden": false
    }
   },
   "outputs": [
    {
     "name": "stderr",
     "output_type": "stream",
     "text": [
      "Query complete after 0.00s: 100%|██████████| 1/1 [00:00<00:00, 956.51query/s] \n",
      "Downloading: 100%|██████████| 393/393 [00:01<00:00, 315.09rows/s]\n"
     ]
    }
   ],
   "source": [
    "%%bigquery depdelay\n",
    "SELECT\n",
    "    DEP_DELAY,\n",
    "    AVG(ARR_DELAY) AS arrival_delay,\n",
    "    STDDEV(ARR_DELAY) AS stddev_arrival_delay,\n",
    "    COUNT(ARR_DELAY) AS numflights\n",
    "FROM\n",
    "    dsongcp.flights_tzcorr\n",
    "GROUP BY\n",
    "    DEP_DELAY\n",
    "HAVING numflights > 370\n",
    "ORDER BY DEP_DELAY"
   ]
  },
  {
   "cell_type": "code",
   "execution_count": 26,
   "metadata": {
    "collapsed": false,
    "jupyter": {
     "outputs_hidden": false
    }
   },
   "outputs": [
    {
     "data": {
      "text/html": [
       "<div>\n",
       "<style scoped>\n",
       "    .dataframe tbody tr th:only-of-type {\n",
       "        vertical-align: middle;\n",
       "    }\n",
       "\n",
       "    .dataframe tbody tr th {\n",
       "        vertical-align: top;\n",
       "    }\n",
       "\n",
       "    .dataframe thead th {\n",
       "        text-align: right;\n",
       "    }\n",
       "</style>\n",
       "<table border=\"1\" class=\"dataframe\">\n",
       "  <thead>\n",
       "    <tr style=\"text-align: right;\">\n",
       "      <th></th>\n",
       "      <th>DEP_DELAY</th>\n",
       "      <th>arrival_delay</th>\n",
       "      <th>stddev_arrival_delay</th>\n",
       "      <th>numflights</th>\n",
       "    </tr>\n",
       "  </thead>\n",
       "  <tbody>\n",
       "    <tr>\n",
       "      <th>0</th>\n",
       "      <td>NaN</td>\n",
       "      <td>-6.036576</td>\n",
       "      <td>15.250012</td>\n",
       "      <td>4019</td>\n",
       "    </tr>\n",
       "    <tr>\n",
       "      <th>1</th>\n",
       "      <td>-30.0</td>\n",
       "      <td>-29.273839</td>\n",
       "      <td>13.359410</td>\n",
       "      <td>409</td>\n",
       "    </tr>\n",
       "    <tr>\n",
       "      <th>2</th>\n",
       "      <td>-29.0</td>\n",
       "      <td>-28.245704</td>\n",
       "      <td>12.297647</td>\n",
       "      <td>582</td>\n",
       "    </tr>\n",
       "    <tr>\n",
       "      <th>3</th>\n",
       "      <td>-28.0</td>\n",
       "      <td>-27.404196</td>\n",
       "      <td>12.572267</td>\n",
       "      <td>715</td>\n",
       "    </tr>\n",
       "    <tr>\n",
       "      <th>4</th>\n",
       "      <td>-27.0</td>\n",
       "      <td>-27.028487</td>\n",
       "      <td>12.339278</td>\n",
       "      <td>1018</td>\n",
       "    </tr>\n",
       "  </tbody>\n",
       "</table>\n",
       "</div>"
      ],
      "text/plain": [
       "   DEP_DELAY  arrival_delay  stddev_arrival_delay  numflights\n",
       "0        NaN      -6.036576             15.250012        4019\n",
       "1      -30.0     -29.273839             13.359410         409\n",
       "2      -29.0     -28.245704             12.297647         582\n",
       "3      -28.0     -27.404196             12.572267         715\n",
       "4      -27.0     -27.028487             12.339278        1018"
      ]
     },
     "execution_count": 26,
     "metadata": {},
     "output_type": "execute_result"
    }
   ],
   "source": [
    "depdelay[:5]"
   ]
  },
  {
   "cell_type": "code",
   "execution_count": 27,
   "metadata": {
    "collapsed": false,
    "jupyter": {
     "outputs_hidden": false
    }
   },
   "outputs": [
    {
     "data": {
      "image/png": "[encoded data removed]",
      "text/plain": [
       "<Figure size 432x288 with 1 Axes>"
      ]
     },
     "metadata": {},
     "output_type": "display_data"
    }
   ],
   "source": [
    "ax = depdelay.plot(kind='line', x='DEP_DELAY', \n",
    "              y='arrival_delay', yerr='stddev_arrival_delay')"
   ]
  },
  {
   "cell_type": "code",
   "execution_count": 28,
   "metadata": {
    "collapsed": false,
    "jupyter": {
     "outputs_hidden": false
    }
   },
   "outputs": [
    {
     "data": {
      "image/png": "[encoded data removed]",
      "text/plain": [
       "<Figure size 432x288 with 1 Axes>"
      ]
     },
     "metadata": {},
     "output_type": "display_data"
    }
   ],
   "source": [
    "Z_30 = 0.52\n",
    "depdelay['arr_delay_30'] = (Z_30 * depdelay['stddev_arrival_delay']) \\\n",
    "             + depdelay['arrival_delay']\n",
    "\n",
    "ax = plt.axes()\n",
    "depdelay.plot(kind='line', x='DEP_DELAY', y='arr_delay_30',\n",
    "              ax=ax, ylim=(0,30), xlim=(0,30), legend=False)\n",
    "ax.set_xlabel('Departure Delay (minutes)')\n",
    "ax.set_ylabel('> 30% prob of this\\n Arrival Delay (minutes)');\n",
    "\n",
    "x = np.arange(0, 30)\n",
    "y = np.ones_like(x) * 15\n",
    "ax.plot(x, y, 'r.');\n",
    "\n",
    "y = np.arange(0, 30)\n",
    "x = np.ones_like(y) * 13\n",
    "ax.plot(x, y, 'g.');"
   ]
  },
  {
   "cell_type": "code",
   "execution_count": 29,
   "metadata": {
    "tags": []
   },
   "outputs": [
    {
     "name": "stderr",
     "output_type": "stream",
     "text": [
      "Query complete after 0.00s: 100%|██████████| 1/1 [00:00<00:00, 915.39query/s] \n",
      "Downloading: 100%|██████████| 393/393 [00:01<00:00, 324.58rows/s]\n"
     ]
    }
   ],
   "source": [
    "%%bigquery depdelay\n",
    "SELECT\n",
    "    DEP_DELAY,\n",
    "    APPROX_QUANTILES(ARR_DELAY, 101)[OFFSET(70)] AS arrival_delay,\n",
    "    COUNT(ARR_DELAY) AS numflights\n",
    "FROM\n",
    "    dsongcp.flights_tzcorr\n",
    "GROUP BY\n",
    "    DEP_DELAY\n",
    "HAVING numflights > 370\n",
    "ORDER BY DEP_DELAY"
   ]
  },
  {
   "cell_type": "code",
   "execution_count": 30,
   "metadata": {
    "collapsed": false,
    "jupyter": {
     "outputs_hidden": false
    }
   },
   "outputs": [
    {
     "data": {
      "image/png": "[encoded data removed]",
      "text/plain": [
       "<Figure size 432x288 with 1 Axes>"
      ]
     },
     "metadata": {},
     "output_type": "display_data"
    }
   ],
   "source": [
    "ax = plt.axes()\n",
    "depdelay.plot(kind='line', x='DEP_DELAY', y='arrival_delay',\n",
    "              ax=ax, ylim=(0,30), xlim=(0,30), legend=False)\n",
    "ax.set_xlabel('Departure Delay (minutes)')\n",
    "ax.set_ylabel('> 30% prob of this\\n Arrival Delay (minutes)');\n",
    "\n",
    "x = np.arange(0, 30)\n",
    "y = np.ones_like(x) * 15\n",
    "ax.plot(x, y, 'r.');\n",
    "\n",
    "y = np.arange(0, 30)\n",
    "x = np.ones_like(y) * 16\n",
    "ax.plot(x, y, 'g.');"
   ]
  },
  {
   "cell_type": "markdown",
   "metadata": {},
   "source": [
    "## Creating training/evaluation dataset"
   ]
  },
  {
   "cell_type": "code",
   "execution_count": 31,
   "metadata": {},
   "outputs": [
    {
     "name": "stderr",
     "output_type": "stream",
     "text": [
      "Query complete after 0.00s: 100%|██████████| 1/1 [00:00<00:00, 882.83query/s] \n",
      "Downloading: 100%|██████████| 5/5 [00:01<00:00,  4.42rows/s]\n"
     ]
    },
    {
     "data": {
      "text/html": [
       "<div>\n",
       "<style scoped>\n",
       "    .dataframe tbody tr th:only-of-type {\n",
       "        vertical-align: middle;\n",
       "    }\n",
       "\n",
       "    .dataframe tbody tr th {\n",
       "        vertical-align: top;\n",
       "    }\n",
       "\n",
       "    .dataframe thead th {\n",
       "        text-align: right;\n",
       "    }\n",
       "</style>\n",
       "<table border=\"1\" class=\"dataframe\">\n",
       "  <thead>\n",
       "    <tr style=\"text-align: right;\">\n",
       "      <th></th>\n",
       "      <th>FL_DATE</th>\n",
       "      <th>is_train_day</th>\n",
       "    </tr>\n",
       "  </thead>\n",
       "  <tbody>\n",
       "    <tr>\n",
       "      <th>0</th>\n",
       "      <td>2015-01-01</td>\n",
       "      <td>True</td>\n",
       "    </tr>\n",
       "    <tr>\n",
       "      <th>1</th>\n",
       "      <td>2015-01-02</td>\n",
       "      <td>False</td>\n",
       "    </tr>\n",
       "    <tr>\n",
       "      <th>2</th>\n",
       "      <td>2015-01-03</td>\n",
       "      <td>False</td>\n",
       "    </tr>\n",
       "    <tr>\n",
       "      <th>3</th>\n",
       "      <td>2015-01-04</td>\n",
       "      <td>True</td>\n",
       "    </tr>\n",
       "    <tr>\n",
       "      <th>4</th>\n",
       "      <td>2015-01-05</td>\n",
       "      <td>True</td>\n",
       "    </tr>\n",
       "  </tbody>\n",
       "</table>\n",
       "</div>"
      ],
      "text/plain": [
       "      FL_DATE is_train_day\n",
       "0  2015-01-01         True\n",
       "1  2015-01-02        False\n",
       "2  2015-01-03        False\n",
       "3  2015-01-04         True\n",
       "4  2015-01-05         True"
      ]
     },
     "execution_count": 31,
     "metadata": {},
     "output_type": "execute_result"
    }
   ],
   "source": [
    "%%bigquery\n",
    "SELECT\n",
    "  FL_DATE,\n",
    "  IF(ABS(MOD(FARM_FINGERPRINT(CAST(FL_DATE AS STRING)), 100)) < 70,\n",
    "     'True', 'False') AS is_train_day\n",
    "FROM (\n",
    "  SELECT\n",
    "    DISTINCT(FL_DATE) AS FL_DATE\n",
    "  FROM\n",
    "    dsongcp.flights_tzcorr)\n",
    "ORDER BY\n",
    "  FL_DATE\n",
    "LIMIT 5"
   ]
  },
  {
   "cell_type": "code",
   "execution_count": 32,
   "metadata": {},
   "outputs": [
    {
     "name": "stderr",
     "output_type": "stream",
     "text": [
      "Query complete after 0.00s: 100%|██████████| 3/3 [00:00<00:00, 1610.10query/s]                        \n"
     ]
    },
    {
     "data": {
      "text/html": [
       "<div>\n",
       "<style scoped>\n",
       "    .dataframe tbody tr th:only-of-type {\n",
       "        vertical-align: middle;\n",
       "    }\n",
       "\n",
       "    .dataframe tbody tr th {\n",
       "        vertical-align: top;\n",
       "    }\n",
       "\n",
       "    .dataframe thead th {\n",
       "        text-align: right;\n",
       "    }\n",
       "</style>\n",
       "<table border=\"1\" class=\"dataframe\">\n",
       "  <thead>\n",
       "    <tr style=\"text-align: right;\">\n",
       "      <th></th>\n",
       "    </tr>\n",
       "  </thead>\n",
       "  <tbody>\n",
       "  </tbody>\n",
       "</table>\n",
       "</div>"
      ],
      "text/plain": [
       "Empty DataFrame\n",
       "Columns: []\n",
       "Index: []"
      ]
     },
     "execution_count": 32,
     "metadata": {},
     "output_type": "execute_result"
    }
   ],
   "source": [
    "%%bigquery\n",
    "CREATE OR REPLACE TABLE dsongcp.trainday AS\n",
    "\n",
    "SELECT\n",
    "  FL_DATE,\n",
    "  IF(ABS(MOD(FARM_FINGERPRINT(CAST(FL_DATE AS STRING)), 100)) < 70,\n",
    "     'True', 'False') AS is_train_day\n",
    "FROM (\n",
    "  SELECT\n",
    "    DISTINCT(FL_DATE) AS FL_DATE\n",
    "  FROM\n",
    "    dsongcp.flights_tzcorr)\n",
    "ORDER BY\n",
    "  FL_DATE"
   ]
  },
  {
   "cell_type": "code",
   "execution_count": 33,
   "metadata": {
    "tags": []
   },
   "outputs": [
    {
     "name": "stderr",
     "output_type": "stream",
     "text": [
      "Query complete after 0.00s: 100%|██████████| 4/4 [00:00<00:00, 2270.57query/s]                        \n",
      "Downloading: 100%|██████████| 358/358 [00:01<00:00, 298.65rows/s]\n"
     ]
    }
   ],
   "source": [
    "%%bigquery depdelay\n",
    "SELECT\n",
    "    DEP_DELAY,\n",
    "    APPROX_QUANTILES(ARR_DELAY, 101)[OFFSET(70)] AS arrival_delay,\n",
    "    COUNT(ARR_DELAY) AS numflights\n",
    "FROM\n",
    "    dsongcp.flights_tzcorr\n",
    "JOIN dsongcp.trainday USING(FL_DATE)\n",
    "WHERE is_train_day = 'True'\n",
    "GROUP BY\n",
    "    DEP_DELAY\n",
    "HAVING numflights > 370\n",
    "ORDER BY DEP_DELAY"
   ]
  },
  {
   "cell_type": "code",
   "execution_count": 34,
   "metadata": {
    "collapsed": false,
    "jupyter": {
     "outputs_hidden": false
    }
   },
   "outputs": [
    {
     "data": {
      "image/png": "[encoded data removed]",
      "text/plain": [
       "<Figure size 432x288 with 1 Axes>"
      ]
     },
     "metadata": {},
     "output_type": "display_data"
    }
   ],
   "source": [
    "ax = plt.axes()\n",
    "depdelay.plot(kind='line', x='DEP_DELAY', y='arrival_delay',\n",
    "              ax=ax, ylim=(0,30), xlim=(0,30), legend=False)\n",
    "ax.set_xlabel('Departure Delay (minutes)')\n",
    "ax.set_ylabel('> 30% prob of this\\n Arrival Delay (minutes)');\n",
    "\n",
    "x = np.arange(0, 30)\n",
    "y = np.ones_like(x) * 15\n",
    "ax.plot(x, y, 'r.');\n",
    "\n",
    "y = np.arange(0, 30)\n",
    "x = np.ones_like(y) * 16\n",
    "ax.plot(x, y, 'g.');"
   ]
  },
  {
   "cell_type": "code",
   "execution_count": 35,
   "metadata": {
    "tags": []
   },
   "outputs": [
    {
     "name": "stderr",
     "output_type": "stream",
     "text": [
      "Query complete after 0.00s: 100%|██████████| 3/3 [00:00<00:00, 1671.48query/s]                        \n",
      "Downloading: 100%|██████████| 1/1 [00:01<00:00,  1.17s/rows]\n"
     ]
    }
   ],
   "source": [
    "%%bigquery df_eval\n",
    "SELECT\n",
    "  SUM(IF(DEP_DELAY < 16\n",
    "      AND arr_delay < 15, 1, 0)) AS correct_nocancel,\n",
    "  SUM(IF(DEP_DELAY < 16\n",
    "      AND arr_delay >= 15, 1, 0)) AS wrong_nocancel,\n",
    "  SUM(IF(DEP_DELAY >= 16\n",
    "      AND arr_delay < 15, 1, 0)) AS wrong_cancel,\n",
    "  SUM(IF(DEP_DELAY >= 16\n",
    "      AND arr_delay >= 15, 1, 0)) AS correct_cancel\n",
    "FROM (\n",
    "  SELECT\n",
    "    DEP_DELAY,\n",
    "    ARR_DELAY\n",
    "  FROM\n",
    "    dsongcp.flights_tzcorr\n",
    "  JOIN dsongcp.trainday USING(FL_DATE)\n",
    "  WHERE is_train_day = 'False' \n",
    ")"
   ]
  },
  {
   "cell_type": "code",
   "execution_count": 36,
   "metadata": {
    "collapsed": false,
    "jupyter": {
     "outputs_hidden": false
    }
   },
   "outputs": [
    {
     "name": "stdout",
     "output_type": "stream",
     "text": [
      "0    0.947403\n",
      "dtype: float64\n",
      "0    0.8187\n",
      "dtype: float64\n"
     ]
    }
   ],
   "source": [
    "print(df_eval['correct_nocancel'] /\n",
    "      (df_eval['correct_nocancel'] + df_eval['wrong_nocancel']))\n",
    "print(df_eval['correct_cancel'] / \n",
    "      (df_eval['correct_cancel'] + df_eval['wrong_cancel']))"
   ]
  },
  {
   "cell_type": "code",
   "execution_count": 37,
   "metadata": {
    "collapsed": false,
    "jupyter": {
     "outputs_hidden": false
    }
   },
   "outputs": [
    {
     "data": {
      "text/html": [
       "<div>\n",
       "<style scoped>\n",
       "    .dataframe tbody tr th:only-of-type {\n",
       "        vertical-align: middle;\n",
       "    }\n",
       "\n",
       "    .dataframe tbody tr th {\n",
       "        vertical-align: top;\n",
       "    }\n",
       "\n",
       "    .dataframe thead th {\n",
       "        text-align: right;\n",
       "    }\n",
       "</style>\n",
       "<table border=\"1\" class=\"dataframe\">\n",
       "  <thead>\n",
       "    <tr style=\"text-align: right;\">\n",
       "      <th></th>\n",
       "      <th>correct_nocancel</th>\n",
       "      <th>wrong_nocancel</th>\n",
       "      <th>wrong_cancel</th>\n",
       "      <th>correct_cancel</th>\n",
       "    </tr>\n",
       "  </thead>\n",
       "  <tbody>\n",
       "    <tr>\n",
       "      <th>0</th>\n",
       "      <td>7365039</td>\n",
       "      <td>408885</td>\n",
       "      <td>303860</td>\n",
       "      <td>1372148</td>\n",
       "    </tr>\n",
       "  </tbody>\n",
       "</table>\n",
       "</div>"
      ],
      "text/plain": [
       "   correct_nocancel  wrong_nocancel  wrong_cancel  correct_cancel\n",
       "0           7365039          408885        303860         1372148"
      ]
     },
     "execution_count": 37,
     "metadata": {},
     "output_type": "execute_result"
    }
   ],
   "source": [
    "df_eval.head()"
   ]
  },
  {
   "cell_type": "code",
   "execution_count": 38,
   "metadata": {
    "tags": []
   },
   "outputs": [
    {
     "name": "stderr",
     "output_type": "stream",
     "text": [
      "Query complete after 0.00s: 100%|██████████| 3/3 [00:00<00:00, 1639.68query/s]                        \n",
      "Downloading: 100%|██████████| 1/1 [00:01<00:00,  1.36s/rows]\n"
     ]
    }
   ],
   "source": [
    "%%bigquery df_eval\n",
    "SELECT\n",
    "  SUM(IF(DEP_DELAY = 15\n",
    "      AND arr_delay < 15, 1, 0)) AS correct_nocancel,\n",
    "  SUM(IF(DEP_DELAY = 15\n",
    "      AND arr_delay >= 15, 1, 0)) AS wrong_nocancel,\n",
    "  SUM(IF(DEP_DELAY = 16\n",
    "      AND arr_delay < 15, 1, 0)) AS wrong_cancel,\n",
    "  SUM(IF(DEP_DELAY = 16\n",
    "      AND arr_delay >= 15, 1, 0)) AS correct_cancel\n",
    "FROM (\n",
    "  SELECT\n",
    "    DEP_DELAY,\n",
    "    ARR_DELAY\n",
    "  FROM\n",
    "    dsongcp.flights_tzcorr\n",
    "  JOIN dsongcp.trainday USING(FL_DATE)\n",
    "  WHERE is_train_day = 'False' \n",
    ")"
   ]
  },
  {
   "cell_type": "code",
   "execution_count": 39,
   "metadata": {
    "collapsed": false,
    "jupyter": {
     "outputs_hidden": false
    }
   },
   "outputs": [
    {
     "data": {
      "text/html": [
       "<div>\n",
       "<style scoped>\n",
       "    .dataframe tbody tr th:only-of-type {\n",
       "        vertical-align: middle;\n",
       "    }\n",
       "\n",
       "    .dataframe tbody tr th {\n",
       "        vertical-align: top;\n",
       "    }\n",
       "\n",
       "    .dataframe thead th {\n",
       "        text-align: right;\n",
       "    }\n",
       "</style>\n",
       "<table border=\"1\" class=\"dataframe\">\n",
       "  <thead>\n",
       "    <tr style=\"text-align: right;\">\n",
       "      <th></th>\n",
       "      <th>correct_nocancel</th>\n",
       "      <th>wrong_nocancel</th>\n",
       "      <th>wrong_cancel</th>\n",
       "      <th>correct_cancel</th>\n",
       "    </tr>\n",
       "  </thead>\n",
       "  <tbody>\n",
       "    <tr>\n",
       "      <th>0</th>\n",
       "      <td>42667</td>\n",
       "      <td>16670</td>\n",
       "      <td>37871</td>\n",
       "      <td>16969</td>\n",
       "    </tr>\n",
       "  </tbody>\n",
       "</table>\n",
       "</div>"
      ],
      "text/plain": [
       "   correct_nocancel  wrong_nocancel  wrong_cancel  correct_cancel\n",
       "0             42667           16670         37871           16969"
      ]
     },
     "execution_count": 39,
     "metadata": {},
     "output_type": "execute_result"
    }
   ],
   "source": [
    "df_eval.head()"
   ]
  },
  {
   "cell_type": "code",
   "execution_count": 40,
   "metadata": {
    "collapsed": false,
    "jupyter": {
     "outputs_hidden": false
    }
   },
   "outputs": [
    {
     "name": "stdout",
     "output_type": "stream",
     "text": [
      "0    0.719062\n",
      "dtype: float64\n",
      "0    0.309427\n",
      "dtype: float64\n"
     ]
    }
   ],
   "source": [
    "print(df_eval['correct_nocancel'] / (df_eval['correct_nocancel'] + df_eval['wrong_nocancel']))\n",
    "print(df_eval['correct_cancel'] / (df_eval['correct_cancel'] + df_eval['wrong_cancel']))"
   ]
  },
  {
   "cell_type": "markdown",
   "metadata": {},
   "source": [
    "Copyright 2021 Google Inc. Licensed under the Apache License, Version 2.0 (the \"License\"); you may not use this file except in compliance with the License. You may obtain a copy of the License at http://www.apache.org/licenses/LICENSE-2.0 Unless required by applicable law or agreed to in writing, software distributed under the License is distributed on an \"AS IS\" BASIS, WITHOUT WARRANTIES OR CONDITIONS OF ANY KIND, either express or implied. See the License for the specific language governing permissions and limitations under the License."
   ]
  }
 ],
 "metadata": {
  "environment": {
   "kernel": "python3",
   "name": "tf2-gpu.2-8.m90",
   "type": "gcloud",
   "uri": "gcr.io/deeplearning-platform-release/tf2-gpu.2-8:m90"
  },
  "kernelspec": {
   "display_name": "Python 3",
   "language": "python",
   "name": "python3"
  },
  "language_info": {
   "codemirror_mode": {
    "name": "ipython",
    "version": 3
   },
   "file_extension": ".py",
   "mimetype": "text/x-python",
   "name": "python",
   "nbconvert_exporter": "python",
   "pygments_lexer": "ipython3",
   "version": "3.7.12"
  }
 },
 "nbformat": 4,
 "nbformat_minor": 4
}
