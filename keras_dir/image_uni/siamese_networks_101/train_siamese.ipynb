{
  "cells": [
    {
      "cell_type": "code",
      "execution_count": 1,
      "metadata": {
        "collapsed": true,
        "colab": {
          "base_uri": "https://localhost:8080/"
        },
        "id": "Jz6Js9CnBLJh",
        "outputId": "f2cf2a65-e9a2-4d8d-bf85-ade235045332"
      },
      "outputs": [
        {
          "output_type": "stream",
          "name": "stdout",
          "text": [
            "Looking in indexes: https://pypi.org/simple, https://us-python.pkg.dev/colab-wheels/public/simple/\n",
            "Collecting opencv-python==4.5.5.64\n",
            "  Downloading opencv_python-4.5.5.64-cp36-abi3-manylinux_2_17_x86_64.manylinux2014_x86_64.whl (60.5 MB)\n",
            "\u001b[2K     \u001b[90m━━━━━━━━━━━━━━━━━━━━━━━━━━━━━━━━━━━━━━━━\u001b[0m \u001b[32m60.5/60.5 MB\u001b[0m \u001b[31m22.8 MB/s\u001b[0m eta \u001b[36m0:00:00\u001b[0m\n",
            "\u001b[?25hRequirement already satisfied: numpy>=1.21.2 in /usr/local/lib/python3.10/dist-packages (from opencv-python==4.5.5.64) (1.22.4)\n",
            "Installing collected packages: opencv-python\n",
            "  Attempting uninstall: opencv-python\n",
            "    Found existing installation: opencv-python 4.7.0.72\n",
            "    Uninstalling opencv-python-4.7.0.72:\n",
            "      Successfully uninstalled opencv-python-4.7.0.72\n",
            "Successfully installed opencv-python-4.5.5.64\n"
          ]
        }
      ],
      "source": [
        "! pip install opencv-python==4.5.5.64"
      ]
    },
    {
      "cell_type": "code",
      "execution_count": 2,
      "outputs": [
        {
          "output_type": "stream",
          "name": "stdout",
          "text": [
            "Mounted at /content/drive\n"
          ]
        }
      ],
      "source": [
        "import sys\n",
        "from google.colab import drive\n",
        "\n",
        "drive.mount('/content/drive')\n",
        "sys.path.append(r\"/content/drive/MyDrive/\")"
      ],
      "metadata": {
        "colab": {
          "base_uri": "https://localhost:8080/"
        },
        "id": "b6ca_3PkBLJl",
        "outputId": "9cf7111f-3414-4cb3-d272-2a7a542608a6"
      }
    },
    {
      "cell_type": "code",
      "execution_count": 10,
      "outputs": [],
      "source": [
        "# import the necessary packages\n",
        "from loader_util.projects.siamese import build_siamese_model\n",
        "from loader_util.projects.siamese import config\n",
        "from loader_util.projects.siamese import utils\n",
        "from tensorflow.keras.models import Model\n",
        "from tensorflow.keras.layers import Dense\n",
        "from tensorflow.keras.layers import Input\n",
        "from tensorflow.keras.layers import Lambda\n",
        "from tensorflow.keras.datasets import mnist\n",
        "import numpy as np"
      ],
      "metadata": {
        "ExecuteTime": {
          "end_time": "2023-06-16T02:18:33.954566900Z",
          "start_time": "2023-06-16T02:18:31.476271400Z"
        },
        "id": "ftHgAyfxBLJm"
      }
    },
    {
      "cell_type": "code",
      "execution_count": 11,
      "outputs": [
        {
          "output_type": "stream",
          "name": "stdout",
          "text": [
            "[INFO] loading MNIST dataset...\n",
            "[INFO] preparing positive and negative pairs...\n",
            "[INFO] looping over: 60000 times......\n",
            "[INFO] looping over: 10000 times......\n"
          ]
        }
      ],
      "source": [
        "# load MNIST dataset and scale the pixel values to the range of [0, 1]\n",
        "print(\"[INFO] loading MNIST dataset...\")\n",
        "(trainX, trainY), (testX, testY) = mnist.load_data()\n",
        "trainX = trainX / 255.0\n",
        "testX = testX / 255.0\n",
        "\n",
        "# add a channel dimension to the images\n",
        "trainX = np.expand_dims(trainX, axis=-1)\n",
        "testX = np.expand_dims(testX, axis=-1)\n",
        "\n",
        "# prepare the positive and negative pairs\n",
        "print(\"[INFO] preparing positive and negative pairs...\")\n",
        "(pairTrain, labelTrain) = utils.make_pairs(trainX, trainY)\n",
        "(pairTest, labelTest) = utils.make_pairs(testX, testY)"
      ],
      "metadata": {
        "ExecuteTime": {
          "end_time": "2023-06-16T02:18:52.046172100Z",
          "start_time": "2023-06-16T02:18:37.921125400Z"
        },
        "colab": {
          "base_uri": "https://localhost:8080/"
        },
        "id": "jY40Ji51BLJn",
        "outputId": "34c96b78-7aad-4679-ebdd-3457ac9e5786"
      }
    },
    {
      "cell_type": "code",
      "execution_count": 12,
      "outputs": [
        {
          "output_type": "stream",
          "name": "stdout",
          "text": [
            "[INFO] building siamese network...\n"
          ]
        }
      ],
      "source": [
        "# configure the siamese network\n",
        "print(\"[INFO] building siamese network...\")\n",
        "imgA = Input(shape=config.img_shape)\n",
        "imgB = Input(shape=config.img_shape)\n",
        "\n",
        "featureExtractor = build_siamese_model(config.img_shape)\n",
        "featsA = featureExtractor(imgA)\n",
        "featsB = featureExtractor(imgB)"
      ],
      "metadata": {
        "ExecuteTime": {
          "end_time": "2023-06-16T02:19:00.539671900Z",
          "start_time": "2023-06-16T02:18:59.527108600Z"
        },
        "colab": {
          "base_uri": "https://localhost:8080/"
        },
        "id": "W4XAAc7DBLJp",
        "outputId": "e8049966-3e26-45d9-d2c9-2cc3e484d4f6"
      }
    },
    {
      "cell_type": "code",
      "source": [
        "featureExtractor.summary()"
      ],
      "metadata": {
        "colab": {
          "base_uri": "https://localhost:8080/"
        },
        "id": "trya4DcaFQT8",
        "outputId": "597571d4-d834-4c1e-ee0c-822b878e36f5"
      },
      "execution_count": 13,
      "outputs": [
        {
          "output_type": "stream",
          "name": "stdout",
          "text": [
            "Model: \"model_2\"\n",
            "_________________________________________________________________\n",
            " Layer (type)                Output Shape              Param #   \n",
            "=================================================================\n",
            " input_6 (InputLayer)        [(None, 28, 28, 1)]       0         \n",
            "                                                                 \n",
            " conv2d_2 (Conv2D)           (None, 28, 28, 64)        320       \n",
            "                                                                 \n",
            " max_pooling2d_2 (MaxPooling  (None, 14, 14, 64)       0         \n",
            " 2D)                                                             \n",
            "                                                                 \n",
            " dropout_2 (Dropout)         (None, 14, 14, 64)        0         \n",
            "                                                                 \n",
            " conv2d_3 (Conv2D)           (None, 14, 14, 64)        16448     \n",
            "                                                                 \n",
            " max_pooling2d_3 (MaxPooling  (None, 7, 7, 64)         0         \n",
            " 2D)                                                             \n",
            "                                                                 \n",
            " dropout_3 (Dropout)         (None, 7, 7, 64)          0         \n",
            "                                                                 \n",
            " global_average_pooling2d_1   (None, 64)               0         \n",
            " (GlobalAveragePooling2D)                                        \n",
            "                                                                 \n",
            " dense_2 (Dense)             (None, 48)                3120      \n",
            "                                                                 \n",
            "=================================================================\n",
            "Total params: 19,888\n",
            "Trainable params: 19,888\n",
            "Non-trainable params: 0\n",
            "_________________________________________________________________\n"
          ]
        }
      ]
    },
    {
      "cell_type": "code",
      "source": [],
      "metadata": {
        "id": "TgBesEXOFQ4T"
      },
      "execution_count": null,
      "outputs": []
    },
    {
      "cell_type": "code",
      "execution_count": 14,
      "outputs": [],
      "source": [
        "# finally, construct the siamese network\n",
        "distance = Lambda(utils.euclidean_distance)([featsA, featsB])\n",
        "\n",
        "# sigmoid activation function values closer to “1”\n",
        "# imply more similar while values closer to “0”\n",
        "# indicate “less similar.”\n",
        "outputs = Dense(1, activation=\"sigmoid\")(distance)\n",
        "model = Model(inputs=[imgA, imgB], outputs=outputs)"
      ],
      "metadata": {
        "ExecuteTime": {
          "end_time": "2023-06-16T02:19:03.270185100Z",
          "start_time": "2023-06-16T02:19:03.193875800Z"
        },
        "id": "rfHeqw3ZBLJq"
      }
    },
    {
      "cell_type": "code",
      "execution_count": 15,
      "outputs": [
        {
          "output_type": "stream",
          "name": "stdout",
          "text": [
            "Model: \"model_3\"\n",
            "__________________________________________________________________________________________________\n",
            " Layer (type)                   Output Shape         Param #     Connected to                     \n",
            "==================================================================================================\n",
            " input_4 (InputLayer)           [(None, 28, 28, 1)]  0           []                               \n",
            "                                                                                                  \n",
            " input_5 (InputLayer)           [(None, 28, 28, 1)]  0           []                               \n",
            "                                                                                                  \n",
            " model_2 (Functional)           (None, 48)           19888       ['input_4[0][0]',                \n",
            "                                                                  'input_5[0][0]']                \n",
            "                                                                                                  \n",
            " lambda_1 (Lambda)              (None, 1)            0           ['model_2[0][0]',                \n",
            "                                                                  'model_2[1][0]']                \n",
            "                                                                                                  \n",
            " dense_3 (Dense)                (None, 1)            2           ['lambda_1[0][0]']               \n",
            "                                                                                                  \n",
            "==================================================================================================\n",
            "Total params: 19,890\n",
            "Trainable params: 19,890\n",
            "Non-trainable params: 0\n",
            "__________________________________________________________________________________________________\n"
          ]
        }
      ],
      "source": [
        "model.summary()"
      ],
      "metadata": {
        "ExecuteTime": {
          "end_time": "2023-06-16T02:19:09.193229500Z",
          "start_time": "2023-06-16T02:19:09.182255600Z"
        },
        "colab": {
          "base_uri": "https://localhost:8080/"
        },
        "id": "8PgpI_98BLJr",
        "outputId": "9202756e-c27d-48f1-a8bf-381fd5e7d094"
      }
    },
    {
      "cell_type": "code",
      "execution_count": 16,
      "outputs": [
        {
          "output_type": "stream",
          "name": "stdout",
          "text": [
            "[INFO] compiling model...\n",
            "[INFO] training model...\n",
            "Epoch 1/100\n",
            "1875/1875 [==============================] - 15s 7ms/step - loss: 0.6214 - accuracy: 0.6444 - val_loss: 0.5520 - val_accuracy: 0.7394\n",
            "Epoch 2/100\n",
            "1875/1875 [==============================] - 13s 7ms/step - loss: 0.5440 - accuracy: 0.7315 - val_loss: 0.4811 - val_accuracy: 0.7865\n",
            "Epoch 3/100\n",
            "1875/1875 [==============================] - 13s 7ms/step - loss: 0.4992 - accuracy: 0.7610 - val_loss: 0.4375 - val_accuracy: 0.8085\n",
            "Epoch 4/100\n",
            "1875/1875 [==============================] - 13s 7ms/step - loss: 0.4723 - accuracy: 0.7763 - val_loss: 0.4164 - val_accuracy: 0.8158\n",
            "Epoch 5/100\n",
            "1875/1875 [==============================] - 13s 7ms/step - loss: 0.4518 - accuracy: 0.7887 - val_loss: 0.3910 - val_accuracy: 0.8275\n",
            "Epoch 6/100\n",
            "1875/1875 [==============================] - 13s 7ms/step - loss: 0.4337 - accuracy: 0.8006 - val_loss: 0.3778 - val_accuracy: 0.8332\n",
            "Epoch 7/100\n",
            "1875/1875 [==============================] - 13s 7ms/step - loss: 0.4220 - accuracy: 0.8077 - val_loss: 0.3650 - val_accuracy: 0.8430\n",
            "Epoch 8/100\n",
            "1875/1875 [==============================] - 13s 7ms/step - loss: 0.4108 - accuracy: 0.8141 - val_loss: 0.3511 - val_accuracy: 0.8483\n",
            "Epoch 9/100\n",
            "1875/1875 [==============================] - 13s 7ms/step - loss: 0.4022 - accuracy: 0.8187 - val_loss: 0.3474 - val_accuracy: 0.8503\n",
            "Epoch 10/100\n",
            "1875/1875 [==============================] - 13s 7ms/step - loss: 0.3976 - accuracy: 0.8210 - val_loss: 0.3308 - val_accuracy: 0.8582\n",
            "Epoch 11/100\n",
            "1875/1875 [==============================] - 13s 7ms/step - loss: 0.3924 - accuracy: 0.8252 - val_loss: 0.3300 - val_accuracy: 0.8580\n",
            "Epoch 12/100\n",
            "1875/1875 [==============================] - 13s 7ms/step - loss: 0.3854 - accuracy: 0.8284 - val_loss: 0.3380 - val_accuracy: 0.8535\n",
            "Epoch 13/100\n",
            "1875/1875 [==============================] - 13s 7ms/step - loss: 0.3809 - accuracy: 0.8303 - val_loss: 0.3228 - val_accuracy: 0.8608\n",
            "Epoch 14/100\n",
            "1875/1875 [==============================] - 13s 7ms/step - loss: 0.3769 - accuracy: 0.8340 - val_loss: 0.3330 - val_accuracy: 0.8546\n",
            "Epoch 15/100\n",
            "1875/1875 [==============================] - 13s 7ms/step - loss: 0.3743 - accuracy: 0.8354 - val_loss: 0.3262 - val_accuracy: 0.8582\n",
            "Epoch 16/100\n",
            "1875/1875 [==============================] - 13s 7ms/step - loss: 0.3727 - accuracy: 0.8357 - val_loss: 0.3195 - val_accuracy: 0.8608\n",
            "Epoch 17/100\n",
            "1875/1875 [==============================] - 13s 7ms/step - loss: 0.3697 - accuracy: 0.8373 - val_loss: 0.2960 - val_accuracy: 0.8731\n",
            "Epoch 18/100\n",
            "1875/1875 [==============================] - 13s 7ms/step - loss: 0.3668 - accuracy: 0.8384 - val_loss: 0.3068 - val_accuracy: 0.8689\n",
            "Epoch 19/100\n",
            "1875/1875 [==============================] - 13s 7ms/step - loss: 0.3648 - accuracy: 0.8404 - val_loss: 0.3240 - val_accuracy: 0.8579\n",
            "Epoch 20/100\n",
            "1875/1875 [==============================] - 13s 7ms/step - loss: 0.3622 - accuracy: 0.8414 - val_loss: 0.3164 - val_accuracy: 0.8609\n",
            "Epoch 21/100\n",
            "1875/1875 [==============================] - 13s 7ms/step - loss: 0.3614 - accuracy: 0.8419 - val_loss: 0.3070 - val_accuracy: 0.8670\n",
            "Epoch 22/100\n",
            "1875/1875 [==============================] - 13s 7ms/step - loss: 0.3595 - accuracy: 0.8425 - val_loss: 0.2975 - val_accuracy: 0.8741\n",
            "Epoch 23/100\n",
            "1875/1875 [==============================] - 13s 7ms/step - loss: 0.3578 - accuracy: 0.8436 - val_loss: 0.3006 - val_accuracy: 0.8695\n",
            "Epoch 24/100\n",
            "1875/1875 [==============================] - 13s 7ms/step - loss: 0.3575 - accuracy: 0.8440 - val_loss: 0.3066 - val_accuracy: 0.8682\n",
            "Epoch 25/100\n",
            "1875/1875 [==============================] - 13s 7ms/step - loss: 0.3544 - accuracy: 0.8467 - val_loss: 0.2996 - val_accuracy: 0.8709\n",
            "Epoch 26/100\n",
            "1875/1875 [==============================] - 13s 7ms/step - loss: 0.3547 - accuracy: 0.8464 - val_loss: 0.3108 - val_accuracy: 0.8632\n",
            "Epoch 27/100\n",
            "1875/1875 [==============================] - 13s 7ms/step - loss: 0.3510 - accuracy: 0.8472 - val_loss: 0.3039 - val_accuracy: 0.8673\n",
            "Epoch 28/100\n",
            "1875/1875 [==============================] - 13s 7ms/step - loss: 0.3520 - accuracy: 0.8472 - val_loss: 0.2960 - val_accuracy: 0.8706\n",
            "Epoch 29/100\n",
            "1875/1875 [==============================] - 13s 7ms/step - loss: 0.3497 - accuracy: 0.8486 - val_loss: 0.3099 - val_accuracy: 0.8629\n",
            "Epoch 30/100\n",
            "1875/1875 [==============================] - 13s 7ms/step - loss: 0.3489 - accuracy: 0.8491 - val_loss: 0.2931 - val_accuracy: 0.8732\n",
            "Epoch 31/100\n",
            "1875/1875 [==============================] - 13s 7ms/step - loss: 0.3498 - accuracy: 0.8486 - val_loss: 0.3140 - val_accuracy: 0.8604\n",
            "Epoch 32/100\n",
            "1875/1875 [==============================] - 13s 7ms/step - loss: 0.3491 - accuracy: 0.8476 - val_loss: 0.3177 - val_accuracy: 0.8581\n",
            "Epoch 33/100\n",
            "1875/1875 [==============================] - 13s 7ms/step - loss: 0.3476 - accuracy: 0.8486 - val_loss: 0.2780 - val_accuracy: 0.8826\n",
            "Epoch 34/100\n",
            "1875/1875 [==============================] - 13s 7ms/step - loss: 0.3460 - accuracy: 0.8487 - val_loss: 0.3035 - val_accuracy: 0.8669\n",
            "Epoch 35/100\n",
            "1875/1875 [==============================] - 13s 7ms/step - loss: 0.3469 - accuracy: 0.8485 - val_loss: 0.2893 - val_accuracy: 0.8759\n",
            "Epoch 36/100\n",
            "1875/1875 [==============================] - 13s 7ms/step - loss: 0.3461 - accuracy: 0.8508 - val_loss: 0.2927 - val_accuracy: 0.8731\n",
            "Epoch 37/100\n",
            "1875/1875 [==============================] - 13s 7ms/step - loss: 0.3465 - accuracy: 0.8498 - val_loss: 0.2860 - val_accuracy: 0.8785\n",
            "Epoch 38/100\n",
            "1875/1875 [==============================] - 13s 7ms/step - loss: 0.3457 - accuracy: 0.8504 - val_loss: 0.2853 - val_accuracy: 0.8767\n",
            "Epoch 39/100\n",
            "1875/1875 [==============================] - 13s 7ms/step - loss: 0.3425 - accuracy: 0.8513 - val_loss: 0.2985 - val_accuracy: 0.8698\n",
            "Epoch 40/100\n",
            "1875/1875 [==============================] - 13s 7ms/step - loss: 0.3445 - accuracy: 0.8502 - val_loss: 0.3048 - val_accuracy: 0.8647\n",
            "Epoch 41/100\n",
            "1875/1875 [==============================] - 13s 7ms/step - loss: 0.3427 - accuracy: 0.8514 - val_loss: 0.2876 - val_accuracy: 0.8752\n",
            "Epoch 42/100\n",
            "1875/1875 [==============================] - 13s 7ms/step - loss: 0.3424 - accuracy: 0.8515 - val_loss: 0.3223 - val_accuracy: 0.8540\n",
            "Epoch 43/100\n",
            "1875/1875 [==============================] - 13s 7ms/step - loss: 0.3414 - accuracy: 0.8516 - val_loss: 0.2892 - val_accuracy: 0.8735\n",
            "Epoch 44/100\n",
            "1875/1875 [==============================] - 13s 7ms/step - loss: 0.3419 - accuracy: 0.8517 - val_loss: 0.2807 - val_accuracy: 0.8781\n",
            "Epoch 45/100\n",
            "1875/1875 [==============================] - 13s 7ms/step - loss: 0.3412 - accuracy: 0.8519 - val_loss: 0.2956 - val_accuracy: 0.8706\n",
            "Epoch 46/100\n",
            "1875/1875 [==============================] - 13s 7ms/step - loss: 0.3423 - accuracy: 0.8518 - val_loss: 0.3136 - val_accuracy: 0.8584\n",
            "Epoch 47/100\n",
            "1875/1875 [==============================] - 13s 7ms/step - loss: 0.3398 - accuracy: 0.8535 - val_loss: 0.2918 - val_accuracy: 0.8741\n",
            "Epoch 48/100\n",
            "1875/1875 [==============================] - 13s 7ms/step - loss: 0.3401 - accuracy: 0.8531 - val_loss: 0.2693 - val_accuracy: 0.8860\n",
            "Epoch 49/100\n",
            "1875/1875 [==============================] - 13s 7ms/step - loss: 0.3371 - accuracy: 0.8546 - val_loss: 0.2801 - val_accuracy: 0.8777\n",
            "Epoch 50/100\n",
            "1875/1875 [==============================] - 13s 7ms/step - loss: 0.3382 - accuracy: 0.8536 - val_loss: 0.2991 - val_accuracy: 0.8684\n",
            "Epoch 51/100\n",
            "1875/1875 [==============================] - 13s 7ms/step - loss: 0.3379 - accuracy: 0.8540 - val_loss: 0.2989 - val_accuracy: 0.8673\n",
            "Epoch 52/100\n",
            "1875/1875 [==============================] - 13s 7ms/step - loss: 0.3388 - accuracy: 0.8531 - val_loss: 0.2965 - val_accuracy: 0.8695\n",
            "Epoch 53/100\n",
            "1875/1875 [==============================] - 13s 7ms/step - loss: 0.3404 - accuracy: 0.8521 - val_loss: 0.2936 - val_accuracy: 0.8721\n",
            "Epoch 54/100\n",
            "1875/1875 [==============================] - 13s 7ms/step - loss: 0.3361 - accuracy: 0.8556 - val_loss: 0.2978 - val_accuracy: 0.8675\n",
            "Epoch 55/100\n",
            "1875/1875 [==============================] - 13s 7ms/step - loss: 0.3376 - accuracy: 0.8546 - val_loss: 0.2804 - val_accuracy: 0.8795\n",
            "Epoch 56/100\n",
            "1875/1875 [==============================] - 13s 7ms/step - loss: 0.3361 - accuracy: 0.8553 - val_loss: 0.3115 - val_accuracy: 0.8614\n",
            "Epoch 57/100\n",
            "1875/1875 [==============================] - 13s 7ms/step - loss: 0.3374 - accuracy: 0.8542 - val_loss: 0.2844 - val_accuracy: 0.8756\n",
            "Epoch 58/100\n",
            "1875/1875 [==============================] - 13s 7ms/step - loss: 0.3361 - accuracy: 0.8549 - val_loss: 0.2816 - val_accuracy: 0.8781\n",
            "Epoch 59/100\n",
            "1875/1875 [==============================] - 13s 7ms/step - loss: 0.3359 - accuracy: 0.8542 - val_loss: 0.2808 - val_accuracy: 0.8791\n",
            "Epoch 60/100\n",
            "1875/1875 [==============================] - 13s 7ms/step - loss: 0.3348 - accuracy: 0.8551 - val_loss: 0.2878 - val_accuracy: 0.8744\n",
            "Epoch 61/100\n",
            "1875/1875 [==============================] - 13s 7ms/step - loss: 0.3350 - accuracy: 0.8547 - val_loss: 0.2878 - val_accuracy: 0.8747\n",
            "Epoch 62/100\n",
            "1875/1875 [==============================] - 13s 7ms/step - loss: 0.3340 - accuracy: 0.8557 - val_loss: 0.2889 - val_accuracy: 0.8742\n",
            "Epoch 63/100\n",
            "1875/1875 [==============================] - 13s 7ms/step - loss: 0.3328 - accuracy: 0.8559 - val_loss: 0.2786 - val_accuracy: 0.8802\n",
            "Epoch 64/100\n",
            "1875/1875 [==============================] - 13s 7ms/step - loss: 0.3347 - accuracy: 0.8558 - val_loss: 0.2822 - val_accuracy: 0.8795\n",
            "Epoch 65/100\n",
            "1875/1875 [==============================] - 13s 7ms/step - loss: 0.3334 - accuracy: 0.8570 - val_loss: 0.3003 - val_accuracy: 0.8676\n",
            "Epoch 66/100\n",
            "1875/1875 [==============================] - 13s 7ms/step - loss: 0.3328 - accuracy: 0.8559 - val_loss: 0.2926 - val_accuracy: 0.8723\n",
            "Epoch 67/100\n",
            "1875/1875 [==============================] - 13s 7ms/step - loss: 0.3337 - accuracy: 0.8559 - val_loss: 0.2965 - val_accuracy: 0.8692\n",
            "Epoch 68/100\n",
            "1875/1875 [==============================] - 13s 7ms/step - loss: 0.3356 - accuracy: 0.8544 - val_loss: 0.3034 - val_accuracy: 0.8632\n",
            "Epoch 69/100\n",
            "1875/1875 [==============================] - 13s 7ms/step - loss: 0.3305 - accuracy: 0.8573 - val_loss: 0.2927 - val_accuracy: 0.8720\n",
            "Epoch 70/100\n",
            "1875/1875 [==============================] - 13s 7ms/step - loss: 0.3299 - accuracy: 0.8592 - val_loss: 0.2867 - val_accuracy: 0.8752\n",
            "Epoch 71/100\n",
            "1875/1875 [==============================] - 13s 7ms/step - loss: 0.3329 - accuracy: 0.8567 - val_loss: 0.2767 - val_accuracy: 0.8804\n",
            "Epoch 72/100\n",
            "1875/1875 [==============================] - 13s 7ms/step - loss: 0.3314 - accuracy: 0.8577 - val_loss: 0.2938 - val_accuracy: 0.8716\n",
            "Epoch 73/100\n",
            "1875/1875 [==============================] - 13s 7ms/step - loss: 0.3342 - accuracy: 0.8559 - val_loss: 0.2707 - val_accuracy: 0.8835\n",
            "Epoch 74/100\n",
            "1875/1875 [==============================] - 13s 7ms/step - loss: 0.3296 - accuracy: 0.8582 - val_loss: 0.2954 - val_accuracy: 0.8695\n",
            "Epoch 75/100\n",
            "1875/1875 [==============================] - 13s 7ms/step - loss: 0.3305 - accuracy: 0.8576 - val_loss: 0.3069 - val_accuracy: 0.8630\n",
            "Epoch 76/100\n",
            "1875/1875 [==============================] - 13s 7ms/step - loss: 0.3305 - accuracy: 0.8566 - val_loss: 0.2959 - val_accuracy: 0.8684\n",
            "Epoch 77/100\n",
            "1875/1875 [==============================] - 13s 7ms/step - loss: 0.3306 - accuracy: 0.8581 - val_loss: 0.2962 - val_accuracy: 0.8702\n",
            "Epoch 78/100\n",
            "1875/1875 [==============================] - 13s 7ms/step - loss: 0.3339 - accuracy: 0.8568 - val_loss: 0.2914 - val_accuracy: 0.8719\n",
            "Epoch 79/100\n",
            "1875/1875 [==============================] - 13s 7ms/step - loss: 0.3304 - accuracy: 0.8581 - val_loss: 0.2847 - val_accuracy: 0.8760\n",
            "Epoch 80/100\n",
            "1875/1875 [==============================] - 13s 7ms/step - loss: 0.3310 - accuracy: 0.8563 - val_loss: 0.2944 - val_accuracy: 0.8703\n",
            "Epoch 81/100\n",
            "1875/1875 [==============================] - 13s 7ms/step - loss: 0.3298 - accuracy: 0.8573 - val_loss: 0.2978 - val_accuracy: 0.8675\n",
            "Epoch 82/100\n",
            "1875/1875 [==============================] - 13s 7ms/step - loss: 0.3313 - accuracy: 0.8570 - val_loss: 0.2752 - val_accuracy: 0.8821\n",
            "Epoch 83/100\n",
            "1875/1875 [==============================] - 13s 7ms/step - loss: 0.3305 - accuracy: 0.8572 - val_loss: 0.2915 - val_accuracy: 0.8721\n",
            "Epoch 84/100\n",
            "1875/1875 [==============================] - 13s 7ms/step - loss: 0.3302 - accuracy: 0.8575 - val_loss: 0.3048 - val_accuracy: 0.8633\n",
            "Epoch 85/100\n",
            "1875/1875 [==============================] - 13s 7ms/step - loss: 0.3305 - accuracy: 0.8577 - val_loss: 0.3018 - val_accuracy: 0.8659\n",
            "Epoch 86/100\n",
            "1875/1875 [==============================] - 13s 7ms/step - loss: 0.3297 - accuracy: 0.8573 - val_loss: 0.2719 - val_accuracy: 0.8824\n",
            "Epoch 87/100\n",
            "1875/1875 [==============================] - 13s 7ms/step - loss: 0.3287 - accuracy: 0.8593 - val_loss: 0.3026 - val_accuracy: 0.8644\n",
            "Epoch 88/100\n",
            "1875/1875 [==============================] - 13s 7ms/step - loss: 0.3288 - accuracy: 0.8581 - val_loss: 0.2818 - val_accuracy: 0.8777\n",
            "Epoch 89/100\n",
            "1875/1875 [==============================] - 13s 7ms/step - loss: 0.3291 - accuracy: 0.8586 - val_loss: 0.2904 - val_accuracy: 0.8718\n",
            "Epoch 90/100\n",
            "1875/1875 [==============================] - 13s 7ms/step - loss: 0.3300 - accuracy: 0.8583 - val_loss: 0.2891 - val_accuracy: 0.8736\n",
            "Epoch 91/100\n",
            "1875/1875 [==============================] - 13s 7ms/step - loss: 0.3299 - accuracy: 0.8586 - val_loss: 0.2905 - val_accuracy: 0.8730\n",
            "Epoch 92/100\n",
            "1875/1875 [==============================] - 13s 7ms/step - loss: 0.3306 - accuracy: 0.8577 - val_loss: 0.3025 - val_accuracy: 0.8640\n",
            "Epoch 93/100\n",
            "1875/1875 [==============================] - 13s 7ms/step - loss: 0.3319 - accuracy: 0.8569 - val_loss: 0.3024 - val_accuracy: 0.8658\n",
            "Epoch 94/100\n",
            "1875/1875 [==============================] - 13s 7ms/step - loss: 0.3285 - accuracy: 0.8594 - val_loss: 0.2888 - val_accuracy: 0.8730\n",
            "Epoch 95/100\n",
            "1875/1875 [==============================] - 13s 7ms/step - loss: 0.3279 - accuracy: 0.8590 - val_loss: 0.2919 - val_accuracy: 0.8716\n",
            "Epoch 96/100\n",
            "1875/1875 [==============================] - 13s 7ms/step - loss: 0.3294 - accuracy: 0.8588 - val_loss: 0.2785 - val_accuracy: 0.8791\n",
            "Epoch 97/100\n",
            "1875/1875 [==============================] - 13s 7ms/step - loss: 0.3291 - accuracy: 0.8586 - val_loss: 0.2748 - val_accuracy: 0.8829\n",
            "Epoch 98/100\n",
            "1875/1875 [==============================] - 13s 7ms/step - loss: 0.3286 - accuracy: 0.8586 - val_loss: 0.2865 - val_accuracy: 0.8736\n",
            "Epoch 99/100\n",
            "1875/1875 [==============================] - 13s 7ms/step - loss: 0.3287 - accuracy: 0.8596 - val_loss: 0.2944 - val_accuracy: 0.8701\n",
            "Epoch 100/100\n",
            "1875/1875 [==============================] - 13s 7ms/step - loss: 0.3289 - accuracy: 0.8594 - val_loss: 0.2817 - val_accuracy: 0.8772\n"
          ]
        }
      ],
      "source": [
        "# compile the model\n",
        "print(\"[INFO] compiling model...\")\n",
        "model.compile(loss=\"binary_crossentropy\",\n",
        "              optimizer=\"adam\",\n",
        "              metrics=[\"accuracy\"])\n",
        "\n",
        "# train the model\n",
        "print(\"[INFO] training model...\")\n",
        "history = model.fit(\n",
        "    [pairTrain[:, 0], pairTrain[:, 1]], labelTrain[:],\n",
        "    validation_data=([pairTest[:, 0], pairTest[:, 1]], labelTest[:]),\n",
        "    batch_size=config.batch_size,\n",
        "    epochs=config.num_epochs)"
      ],
      "metadata": {
        "ExecuteTime": {
          "end_time": "2023-06-16T01:39:10.863703800Z",
          "start_time": "2023-06-16T01:39:10.833783900Z"
        },
        "colab": {
          "base_uri": "https://localhost:8080/"
        },
        "id": "IcZXCnycBLJs",
        "outputId": "6e95c5fe-f77f-4b52-eede-24869928627d"
      }
    },
    {
      "cell_type": "code",
      "execution_count": 18,
      "outputs": [
        {
          "output_type": "stream",
          "name": "stdout",
          "text": [
            "[INFO] saving siamese model...\n"
          ]
        },
        {
          "output_type": "stream",
          "name": "stderr",
          "text": [
            "WARNING:absl:Found untraced functions such as _jit_compiled_convolution_op, _jit_compiled_convolution_op while saving (showing 2 of 2). These functions will not be directly callable after loading.\n"
          ]
        },
        {
          "output_type": "stream",
          "name": "stdout",
          "text": [
            "[INFO] plotting training history...\n"
          ]
        },
        {
          "output_type": "display_data",
          "data": {
            "text/plain": [
              "<Figure size 640x480 with 1 Axes>"
            ],
            "image/png": "[encoded data removed]"
          },
          "metadata": {}
        }
      ],
      "source": [
        "# serialize the model to disk\n",
        "print(\"[INFO] saving siamese model...\")\n",
        "model.save(config.model_path)\n",
        "\n",
        "# plot the training history\n",
        "print(\"[INFO] plotting training history...\")\n",
        "utils.plot_training(history, config.plot_path)"
      ],
      "metadata": {
        "ExecuteTime": {
          "end_time": "2023-06-16T01:39:10.894621900Z",
          "start_time": "2023-06-16T01:39:10.865699100Z"
        },
        "colab": {
          "base_uri": "https://localhost:8080/",
          "height": 549
        },
        "id": "wQtOH10IBLJt",
        "outputId": "f59bc094-7073-4d17-9d8d-a6aa55bfbbe1"
      }
    },
    {
      "cell_type": "code",
      "source": [
        "config.model_path"
      ],
      "metadata": {
        "colab": {
          "base_uri": "https://localhost:8080/",
          "height": 35
        },
        "id": "jJ5Y4wGJLCMQ",
        "outputId": "94a718b2-08b9-40f0-bcf1-e338806dd5c6"
      },
      "execution_count": 17,
      "outputs": [
        {
          "output_type": "execute_result",
          "data": {
            "text/plain": [
              "'output/siamese_model'"
            ],
            "application/vnd.google.colaboratory.intrinsic+json": {
              "type": "string"
            }
          },
          "metadata": {},
          "execution_count": 17
        }
      ]
    },
    {
      "cell_type": "code",
      "source": [
        "!mv /content/output/* '/content/drive/MyDrive/Colab Notebooks/pyimagesearch/projects/siamese_networks_101/output/'"
      ],
      "metadata": {
        "id": "r7-xp96fLFGw"
      },
      "execution_count": 20,
      "outputs": []
    },
    {
      "cell_type": "code",
      "source": [],
      "metadata": {
        "id": "q-rOslAbLxzC"
      },
      "execution_count": null,
      "outputs": []
    }
  ],
  "metadata": {
    "kernelspec": {
      "display_name": "Python 3",
      "name": "python3"
    },
    "language_info": {
      "codemirror_mode": {
        "name": "ipython",
        "version": 2
      },
      "file_extension": ".py",
      "mimetype": "text/x-python",
      "name": "python",
      "nbconvert_exporter": "python",
      "pygments_lexer": "ipython2",
      "version": "2.7.6"
    },
    "colab": {
      "provenance": [],
      "machine_shape": "hm",
      "gpuType": "T4"
    },
    "accelerator": "GPU"
  },
  "nbformat": 4,
  "nbformat_minor": 0
}