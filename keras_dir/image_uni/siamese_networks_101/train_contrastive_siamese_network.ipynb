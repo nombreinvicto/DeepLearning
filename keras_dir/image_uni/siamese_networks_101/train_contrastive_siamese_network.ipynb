{
  "cells": [
    {
      "cell_type": "code",
      "source": [
        "! pip install opencv-python==4.5.5.64"
      ],
      "metadata": {
        "colab": {
          "base_uri": "https://localhost:8080/"
        },
        "id": "jcdq6Uy-tFEH",
        "outputId": "53749bb0-ecfd-49f5-e234-dac6e85072e0"
      },
      "execution_count": 7,
      "outputs": [
        {
          "output_type": "stream",
          "name": "stdout",
          "text": [
            "Looking in indexes: https://pypi.org/simple, https://us-python.pkg.dev/colab-wheels/public/simple/\n",
            "Requirement already satisfied: opencv-python==4.5.5.64 in /usr/local/lib/python3.10/dist-packages (4.5.5.64)\n",
            "Requirement already satisfied: numpy>=1.21.2 in /usr/local/lib/python3.10/dist-packages (from opencv-python==4.5.5.64) (1.22.4)\n"
          ]
        }
      ]
    },
    {
      "cell_type": "code",
      "source": [
        "import sys\n",
        "from google.colab import drive\n",
        "drive.mount('/content/drive')\n",
        "sys.path.append(r\"/content/drive/MyDrive/\")"
      ],
      "metadata": {
        "colab": {
          "base_uri": "https://localhost:8080/"
        },
        "id": "yd4IWSjGtFr8",
        "outputId": "e1c15d4f-a936-4a19-8ed5-e737db640a7c"
      },
      "execution_count": 8,
      "outputs": [
        {
          "output_type": "stream",
          "name": "stdout",
          "text": [
            "Drive already mounted at /content/drive; to attempt to forcibly remount, call drive.mount(\"/content/drive\", force_remount=True).\n"
          ]
        }
      ]
    },
    {
      "cell_type": "code",
      "execution_count": 10,
      "metadata": {
        "collapsed": true,
        "id": "bfSx1-eDtAck"
      },
      "outputs": [],
      "source": [
        "# import the necessary packages\n",
        "from loader_util.projects.siamese import build_siamese_model\n",
        "from loader_util.projects.siamese import config\n",
        "from loader_util.projects.siamese import utils\n",
        "from tensorflow.keras.models import Model\n",
        "from tensorflow.keras.layers import Input\n",
        "from tensorflow.keras.layers import Lambda\n",
        "from tensorflow.keras.datasets import mnist\n",
        "import numpy as np"
      ]
    },
    {
      "cell_type": "code",
      "execution_count": 11,
      "outputs": [
        {
          "output_type": "stream",
          "name": "stdout",
          "text": [
            "[INFO] loading MNIST dataset...\n",
            "[INFO] preparing positive and negative pairs...\n",
            "[INFO] looping over: 60000 times......\n",
            "[INFO] looping over: 10000 times......\n"
          ]
        }
      ],
      "source": [
        "# load MNIST dataset and scale the pixel values to the range of [0, 1]\n",
        "print(\"[INFO] loading MNIST dataset...\")\n",
        "(trainx, trainy), (testx, testy) = mnist.load_data()\n",
        "trainx = trainx / 255.0\n",
        "testx = testx / 255.0\n",
        "\n",
        "# add a channel dimension to the images\n",
        "trainx = np.expand_dims(trainx, axis=-1)\n",
        "testx = np.expand_dims(testx, axis=-1)\n",
        "\n",
        "# prepare the positive and negative pairs\n",
        "print(\"[INFO] preparing positive and negative pairs...\")\n",
        "(pair_train, label_train) = utils.make_pairs(trainx, trainy)\n",
        "(pair_test, label_test) = utils.make_pairs(testx, testy)"
      ],
      "metadata": {
        "colab": {
          "base_uri": "https://localhost:8080/"
        },
        "id": "iVGHRh2MtAcp",
        "outputId": "ee6c2d99-8ffb-4a3b-edc0-c0214b4e0c30"
      }
    },
    {
      "cell_type": "code",
      "execution_count": 12,
      "outputs": [
        {
          "output_type": "stream",
          "name": "stdout",
          "text": [
            "[INFO] building siamese network...\n"
          ]
        }
      ],
      "source": [
        "# configure the siamese network\n",
        "print(\"[INFO] building siamese network...\")\n",
        "imgA = Input(shape=config.img_shape)\n",
        "imgB = Input(shape=config.img_shape)\n",
        "\n",
        "featureExtractor = build_siamese_model(config.img_shape)\n",
        "featsA = featureExtractor(imgA)\n",
        "featsB = featureExtractor(imgB)\n",
        "\n",
        "# finally, construct the siamese network\n",
        "distance = Lambda(utils.euclidean_distance)([featsA, featsB])\n",
        "\n",
        "# notice how here we are not sending outputs from a single node Dense\n",
        "# with sigmoid activation. we need the pure distance as output\n",
        "# since the contrast loss will use that directly to calculate loss\n",
        "model = Model(inputs=[imgA, imgB], outputs=distance)"
      ],
      "metadata": {
        "colab": {
          "base_uri": "https://localhost:8080/"
        },
        "id": "e2GArjTItAcq",
        "outputId": "39bec6ea-7cbd-439b-f2e7-370db4523513"
      }
    },
    {
      "cell_type": "code",
      "execution_count": 13,
      "outputs": [
        {
          "output_type": "stream",
          "name": "stdout",
          "text": [
            "[INFO] compiling model...\n",
            "[INFO] training model...\n",
            "Epoch 1/100\n",
            "1875/1875 [==============================] - 14s 6ms/step - loss: 0.2016 - val_loss: 0.1702\n",
            "Epoch 2/100\n",
            "1875/1875 [==============================] - 12s 6ms/step - loss: 0.1761 - val_loss: 0.1533\n",
            "Epoch 3/100\n",
            "1875/1875 [==============================] - 12s 6ms/step - loss: 0.1633 - val_loss: 0.1446\n",
            "Epoch 4/100\n",
            "1875/1875 [==============================] - 12s 6ms/step - loss: 0.1553 - val_loss: 0.1342\n",
            "Epoch 5/100\n",
            "1875/1875 [==============================] - 12s 6ms/step - loss: 0.1504 - val_loss: 0.1310\n",
            "Epoch 6/100\n",
            "1875/1875 [==============================] - 12s 6ms/step - loss: 0.1463 - val_loss: 0.1257\n",
            "Epoch 7/100\n",
            "1875/1875 [==============================] - 12s 6ms/step - loss: 0.1440 - val_loss: 0.1242\n",
            "Epoch 8/100\n",
            "1875/1875 [==============================] - 12s 6ms/step - loss: 0.1417 - val_loss: 0.1203\n",
            "Epoch 9/100\n",
            "1875/1875 [==============================] - 12s 6ms/step - loss: 0.1401 - val_loss: 0.1166\n",
            "Epoch 10/100\n",
            "1875/1875 [==============================] - 12s 6ms/step - loss: 0.1383 - val_loss: 0.1216\n",
            "Epoch 11/100\n",
            "1875/1875 [==============================] - 12s 7ms/step - loss: 0.1377 - val_loss: 0.1163\n",
            "Epoch 12/100\n",
            "1875/1875 [==============================] - 12s 6ms/step - loss: 0.1361 - val_loss: 0.1115\n",
            "Epoch 13/100\n",
            "1875/1875 [==============================] - 12s 6ms/step - loss: 0.1353 - val_loss: 0.1143\n",
            "Epoch 14/100\n",
            "1875/1875 [==============================] - 12s 6ms/step - loss: 0.1345 - val_loss: 0.1128\n",
            "Epoch 15/100\n",
            "1875/1875 [==============================] - 12s 6ms/step - loss: 0.1339 - val_loss: 0.1119\n",
            "Epoch 16/100\n",
            "1875/1875 [==============================] - 12s 6ms/step - loss: 0.1336 - val_loss: 0.1138\n",
            "Epoch 17/100\n",
            "1875/1875 [==============================] - 12s 6ms/step - loss: 0.1331 - val_loss: 0.1112\n",
            "Epoch 18/100\n",
            "1875/1875 [==============================] - 12s 6ms/step - loss: 0.1331 - val_loss: 0.1111\n",
            "Epoch 19/100\n",
            "1875/1875 [==============================] - 12s 6ms/step - loss: 0.1325 - val_loss: 0.1119\n",
            "Epoch 20/100\n",
            "1875/1875 [==============================] - 12s 6ms/step - loss: 0.1325 - val_loss: 0.1108\n",
            "Epoch 21/100\n",
            "1875/1875 [==============================] - 12s 6ms/step - loss: 0.1319 - val_loss: 0.1100\n",
            "Epoch 22/100\n",
            "1875/1875 [==============================] - 12s 6ms/step - loss: 0.1317 - val_loss: 0.1140\n",
            "Epoch 23/100\n",
            "1875/1875 [==============================] - 12s 6ms/step - loss: 0.1310 - val_loss: 0.1100\n",
            "Epoch 24/100\n",
            "1875/1875 [==============================] - 12s 6ms/step - loss: 0.1312 - val_loss: 0.1116\n",
            "Epoch 25/100\n",
            "1875/1875 [==============================] - 12s 6ms/step - loss: 0.1309 - val_loss: 0.1088\n",
            "Epoch 26/100\n",
            "1875/1875 [==============================] - 12s 6ms/step - loss: 0.1308 - val_loss: 0.1112\n",
            "Epoch 27/100\n",
            "1875/1875 [==============================] - 12s 6ms/step - loss: 0.1308 - val_loss: 0.1066\n",
            "Epoch 28/100\n",
            "1875/1875 [==============================] - 12s 6ms/step - loss: 0.1307 - val_loss: 0.1109\n",
            "Epoch 29/100\n",
            "1875/1875 [==============================] - 12s 6ms/step - loss: 0.1300 - val_loss: 0.1096\n",
            "Epoch 30/100\n",
            "1875/1875 [==============================] - 12s 6ms/step - loss: 0.1302 - val_loss: 0.1109\n",
            "Epoch 31/100\n",
            "1875/1875 [==============================] - 12s 6ms/step - loss: 0.1300 - val_loss: 0.1107\n",
            "Epoch 32/100\n",
            "1875/1875 [==============================] - 12s 6ms/step - loss: 0.1299 - val_loss: 0.1095\n",
            "Epoch 33/100\n",
            "1875/1875 [==============================] - 12s 6ms/step - loss: 0.1299 - val_loss: 0.1068\n",
            "Epoch 34/100\n",
            "1875/1875 [==============================] - 12s 6ms/step - loss: 0.1292 - val_loss: 0.1113\n",
            "Epoch 35/100\n",
            "1875/1875 [==============================] - 12s 6ms/step - loss: 0.1292 - val_loss: 0.1096\n",
            "Epoch 36/100\n",
            "1875/1875 [==============================] - 12s 6ms/step - loss: 0.1289 - val_loss: 0.1083\n",
            "Epoch 37/100\n",
            "1875/1875 [==============================] - 12s 6ms/step - loss: 0.1291 - val_loss: 0.1097\n",
            "Epoch 38/100\n",
            "1875/1875 [==============================] - 12s 6ms/step - loss: 0.1292 - val_loss: 0.1068\n",
            "Epoch 39/100\n",
            "1875/1875 [==============================] - 12s 7ms/step - loss: 0.1290 - val_loss: 0.1128\n",
            "Epoch 40/100\n",
            "1875/1875 [==============================] - 12s 6ms/step - loss: 0.1285 - val_loss: 0.1057\n",
            "Epoch 41/100\n",
            "1875/1875 [==============================] - 12s 6ms/step - loss: 0.1285 - val_loss: 0.1097\n",
            "Epoch 42/100\n",
            "1875/1875 [==============================] - 12s 6ms/step - loss: 0.1284 - val_loss: 0.1081\n",
            "Epoch 43/100\n",
            "1875/1875 [==============================] - 12s 6ms/step - loss: 0.1285 - val_loss: 0.1096\n",
            "Epoch 44/100\n",
            "1875/1875 [==============================] - 12s 6ms/step - loss: 0.1277 - val_loss: 0.1095\n",
            "Epoch 45/100\n",
            "1875/1875 [==============================] - 12s 6ms/step - loss: 0.1278 - val_loss: 0.1098\n",
            "Epoch 46/100\n",
            "1875/1875 [==============================] - 12s 6ms/step - loss: 0.1284 - val_loss: 0.1084\n",
            "Epoch 47/100\n",
            "1875/1875 [==============================] - 12s 6ms/step - loss: 0.1281 - val_loss: 0.1081\n",
            "Epoch 48/100\n",
            "1875/1875 [==============================] - 12s 6ms/step - loss: 0.1276 - val_loss: 0.1123\n",
            "Epoch 49/100\n",
            "1875/1875 [==============================] - 12s 6ms/step - loss: 0.1279 - val_loss: 0.1077\n",
            "Epoch 50/100\n",
            "1875/1875 [==============================] - 12s 6ms/step - loss: 0.1279 - val_loss: 0.1086\n",
            "Epoch 51/100\n",
            "1875/1875 [==============================] - 12s 6ms/step - loss: 0.1277 - val_loss: 0.1128\n",
            "Epoch 52/100\n",
            "1875/1875 [==============================] - 12s 6ms/step - loss: 0.1274 - val_loss: 0.1123\n",
            "Epoch 53/100\n",
            "1875/1875 [==============================] - 12s 6ms/step - loss: 0.1278 - val_loss: 0.1101\n",
            "Epoch 54/100\n",
            "1875/1875 [==============================] - 12s 6ms/step - loss: 0.1279 - val_loss: 0.1105\n",
            "Epoch 55/100\n",
            "1875/1875 [==============================] - 12s 6ms/step - loss: 0.1271 - val_loss: 0.1058\n",
            "Epoch 56/100\n",
            "1875/1875 [==============================] - 12s 6ms/step - loss: 0.1272 - val_loss: 0.1057\n",
            "Epoch 57/100\n",
            "1875/1875 [==============================] - 12s 6ms/step - loss: 0.1272 - val_loss: 0.1070\n",
            "Epoch 58/100\n",
            "1875/1875 [==============================] - 12s 6ms/step - loss: 0.1270 - val_loss: 0.1077\n",
            "Epoch 59/100\n",
            "1875/1875 [==============================] - 12s 6ms/step - loss: 0.1268 - val_loss: 0.1061\n",
            "Epoch 60/100\n",
            "1875/1875 [==============================] - 12s 6ms/step - loss: 0.1273 - val_loss: 0.1076\n",
            "Epoch 61/100\n",
            "1875/1875 [==============================] - 12s 6ms/step - loss: 0.1270 - val_loss: 0.1046\n",
            "Epoch 62/100\n",
            "1875/1875 [==============================] - 12s 6ms/step - loss: 0.1266 - val_loss: 0.1079\n",
            "Epoch 63/100\n",
            "1875/1875 [==============================] - 12s 6ms/step - loss: 0.1270 - val_loss: 0.1061\n",
            "Epoch 64/100\n",
            "1875/1875 [==============================] - 12s 6ms/step - loss: 0.1266 - val_loss: 0.1094\n",
            "Epoch 65/100\n",
            "1875/1875 [==============================] - 12s 6ms/step - loss: 0.1265 - val_loss: 0.1061\n",
            "Epoch 66/100\n",
            "1875/1875 [==============================] - 12s 6ms/step - loss: 0.1267 - val_loss: 0.1115\n",
            "Epoch 67/100\n",
            "1875/1875 [==============================] - 12s 6ms/step - loss: 0.1263 - val_loss: 0.1071\n",
            "Epoch 68/100\n",
            "1875/1875 [==============================] - 12s 6ms/step - loss: 0.1266 - val_loss: 0.1068\n",
            "Epoch 69/100\n",
            "1875/1875 [==============================] - 12s 6ms/step - loss: 0.1262 - val_loss: 0.1039\n",
            "Epoch 70/100\n",
            "1875/1875 [==============================] - 12s 6ms/step - loss: 0.1265 - val_loss: 0.1093\n",
            "Epoch 71/100\n",
            "1875/1875 [==============================] - 12s 6ms/step - loss: 0.1267 - val_loss: 0.1064\n",
            "Epoch 72/100\n",
            "1875/1875 [==============================] - 12s 6ms/step - loss: 0.1260 - val_loss: 0.1070\n",
            "Epoch 73/100\n",
            "1875/1875 [==============================] - 12s 6ms/step - loss: 0.1265 - val_loss: 0.1059\n",
            "Epoch 74/100\n",
            "1875/1875 [==============================] - 12s 6ms/step - loss: 0.1265 - val_loss: 0.1106\n",
            "Epoch 75/100\n",
            "1875/1875 [==============================] - 12s 6ms/step - loss: 0.1261 - val_loss: 0.1100\n",
            "Epoch 76/100\n",
            "1875/1875 [==============================] - 12s 6ms/step - loss: 0.1265 - val_loss: 0.1082\n",
            "Epoch 77/100\n",
            "1875/1875 [==============================] - 12s 6ms/step - loss: 0.1262 - val_loss: 0.1069\n",
            "Epoch 78/100\n",
            "1875/1875 [==============================] - 12s 6ms/step - loss: 0.1265 - val_loss: 0.1094\n",
            "Epoch 79/100\n",
            "1875/1875 [==============================] - 12s 6ms/step - loss: 0.1260 - val_loss: 0.1064\n",
            "Epoch 80/100\n",
            "1875/1875 [==============================] - 12s 6ms/step - loss: 0.1263 - val_loss: 0.1089\n",
            "Epoch 81/100\n",
            "1875/1875 [==============================] - 12s 6ms/step - loss: 0.1258 - val_loss: 0.1072\n",
            "Epoch 82/100\n",
            "1875/1875 [==============================] - 12s 6ms/step - loss: 0.1261 - val_loss: 0.1075\n",
            "Epoch 83/100\n",
            "1875/1875 [==============================] - 12s 6ms/step - loss: 0.1262 - val_loss: 0.1069\n",
            "Epoch 84/100\n",
            "1875/1875 [==============================] - 12s 6ms/step - loss: 0.1259 - val_loss: 0.1089\n",
            "Epoch 85/100\n",
            "1875/1875 [==============================] - 12s 6ms/step - loss: 0.1256 - val_loss: 0.1080\n",
            "Epoch 86/100\n",
            "1875/1875 [==============================] - 12s 6ms/step - loss: 0.1259 - val_loss: 0.1082\n",
            "Epoch 87/100\n",
            "1875/1875 [==============================] - 12s 6ms/step - loss: 0.1256 - val_loss: 0.1075\n",
            "Epoch 88/100\n",
            "1875/1875 [==============================] - 12s 6ms/step - loss: 0.1257 - val_loss: 0.1076\n",
            "Epoch 89/100\n",
            "1875/1875 [==============================] - 12s 6ms/step - loss: 0.1258 - val_loss: 0.1060\n",
            "Epoch 90/100\n",
            "1875/1875 [==============================] - 12s 6ms/step - loss: 0.1254 - val_loss: 0.1030\n",
            "Epoch 91/100\n",
            "1875/1875 [==============================] - 12s 6ms/step - loss: 0.1255 - val_loss: 0.1049\n",
            "Epoch 92/100\n",
            "1875/1875 [==============================] - 12s 6ms/step - loss: 0.1258 - val_loss: 0.1054\n",
            "Epoch 93/100\n",
            "1875/1875 [==============================] - 12s 6ms/step - loss: 0.1254 - val_loss: 0.1081\n",
            "Epoch 94/100\n",
            "1875/1875 [==============================] - 12s 6ms/step - loss: 0.1254 - val_loss: 0.1077\n",
            "Epoch 95/100\n",
            "1875/1875 [==============================] - 12s 6ms/step - loss: 0.1256 - val_loss: 0.1062\n",
            "Epoch 96/100\n",
            "1875/1875 [==============================] - 12s 6ms/step - loss: 0.1255 - val_loss: 0.1093\n",
            "Epoch 97/100\n",
            "1875/1875 [==============================] - 12s 6ms/step - loss: 0.1248 - val_loss: 0.1059\n",
            "Epoch 98/100\n",
            "1875/1875 [==============================] - 12s 6ms/step - loss: 0.1256 - val_loss: 0.1044\n",
            "Epoch 99/100\n",
            "1875/1875 [==============================] - 12s 6ms/step - loss: 0.1253 - val_loss: 0.1052\n",
            "Epoch 100/100\n",
            "1875/1875 [==============================] - 12s 6ms/step - loss: 0.1252 - val_loss: 0.1080\n"
          ]
        }
      ],
      "source": [
        "# compile the model\n",
        "print(\"[INFO] compiling model...\")\n",
        "model.compile(loss=utils.contrastive_loss,\n",
        "              optimizer=\"adam\")\n",
        "\n",
        "# train the model\n",
        "print(\"[INFO] training model...\")\n",
        "history = model.fit(\n",
        "    [pair_train[:, 0], pair_train[:, 1]], label_train[:],\n",
        "    validation_data=([pair_test[:, 0], pair_test[:, 1]], label_test[:]),\n",
        "    batch_size=config.batch_size,\n",
        "    epochs=config.num_epochs)\n",
        "\n"
      ],
      "metadata": {
        "colab": {
          "base_uri": "https://localhost:8080/"
        },
        "id": "3YdyHlAXtAcr",
        "outputId": "319fcc46-5d6a-4f1b-d7d1-ab3655976ec1"
      }
    },
    {
      "cell_type": "code",
      "source": [
        "# serialize the model to disk\n",
        "print(\"[INFO] saving siamese model...\")\n",
        "model.save(config.contrast_model_path)\n",
        "\n",
        "# plot the training history\n",
        "print(\"[INFO] plotting training history...\")\n",
        "utils.plot_training(history, config.contrast_plot_path)"
      ],
      "metadata": {
        "colab": {
          "base_uri": "https://localhost:8080/",
          "height": 806
        },
        "id": "8henVWjLEXOl",
        "outputId": "3c7f541c-c651-4f6e-a34f-ebf5965efb63"
      },
      "execution_count": 14,
      "outputs": [
        {
          "output_type": "stream",
          "name": "stdout",
          "text": [
            "[INFO] saving siamese model...\n"
          ]
        },
        {
          "output_type": "stream",
          "name": "stderr",
          "text": [
            "WARNING:absl:Found untraced functions such as _jit_compiled_convolution_op, _jit_compiled_convolution_op while saving (showing 2 of 2). These functions will not be directly callable after loading.\n"
          ]
        },
        {
          "output_type": "stream",
          "name": "stdout",
          "text": [
            "[INFO] plotting training history...\n"
          ]
        },
        {
          "output_type": "error",
          "ename": "KeyError",
          "evalue": "ignored",
          "traceback": [
            "\u001b[0;31m---------------------------------------------------------------------------\u001b[0m",
            "\u001b[0;31mKeyError\u001b[0m                                  Traceback (most recent call last)",
            "\u001b[0;32m<ipython-input-14-a90956660e1f>\u001b[0m in \u001b[0;36m<cell line: 7>\u001b[0;34m()\u001b[0m\n\u001b[1;32m      5\u001b[0m \u001b[0;31m# plot the training history\u001b[0m\u001b[0;34m\u001b[0m\u001b[0;34m\u001b[0m\u001b[0m\n\u001b[1;32m      6\u001b[0m \u001b[0mprint\u001b[0m\u001b[0;34m(\u001b[0m\u001b[0;34m\"[INFO] plotting training history...\"\u001b[0m\u001b[0;34m)\u001b[0m\u001b[0;34m\u001b[0m\u001b[0;34m\u001b[0m\u001b[0m\n\u001b[0;32m----> 7\u001b[0;31m \u001b[0mutils\u001b[0m\u001b[0;34m.\u001b[0m\u001b[0mplot_training\u001b[0m\u001b[0;34m(\u001b[0m\u001b[0mhistory\u001b[0m\u001b[0;34m,\u001b[0m \u001b[0mconfig\u001b[0m\u001b[0;34m.\u001b[0m\u001b[0mcontrast_plot_path\u001b[0m\u001b[0;34m)\u001b[0m\u001b[0;34m\u001b[0m\u001b[0;34m\u001b[0m\u001b[0m\n\u001b[0m",
            "\u001b[0;32m/content/drive/MyDrive/loader_util/projects/siamese/utils.py\u001b[0m in \u001b[0;36mplot_training\u001b[0;34m(H, plotPath)\u001b[0m\n\u001b[1;32m     82\u001b[0m \u001b[0;34m\u001b[0m\u001b[0m\n\u001b[1;32m     83\u001b[0m     \u001b[0;32mif\u001b[0m \u001b[0mH\u001b[0m\u001b[0;34m.\u001b[0m\u001b[0mhistory\u001b[0m\u001b[0;34m.\u001b[0m\u001b[0mget\u001b[0m\u001b[0;34m(\u001b[0m\u001b[0;34m\"loss\"\u001b[0m\u001b[0;34m)\u001b[0m\u001b[0;34m:\u001b[0m\u001b[0;34m\u001b[0m\u001b[0;34m\u001b[0m\u001b[0m\n\u001b[0;32m---> 84\u001b[0;31m         \u001b[0mplt\u001b[0m\u001b[0;34m.\u001b[0m\u001b[0mplot\u001b[0m\u001b[0;34m(\u001b[0m\u001b[0mH\u001b[0m\u001b[0;34m.\u001b[0m\u001b[0mhistory\u001b[0m\u001b[0;34m[\u001b[0m\u001b[0;34m\"loss\"\u001b[0m\u001b[0;34m]\u001b[0m\u001b[0;34m,\u001b[0m \u001b[0mlabel\u001b[0m\u001b[0;34m=\u001b[0m\u001b[0;34m\"train_loss\"\u001b[0m\u001b[0;34m)\u001b[0m\u001b[0;34m\u001b[0m\u001b[0;34m\u001b[0m\u001b[0m\n\u001b[0m\u001b[1;32m     85\u001b[0m \u001b[0;34m\u001b[0m\u001b[0m\n\u001b[1;32m     86\u001b[0m     \u001b[0;32mif\u001b[0m \u001b[0mH\u001b[0m\u001b[0;34m.\u001b[0m\u001b[0mhistory\u001b[0m\u001b[0;34m.\u001b[0m\u001b[0mget\u001b[0m\u001b[0;34m(\u001b[0m\u001b[0;34m\"val_loss\"\u001b[0m\u001b[0;34m)\u001b[0m\u001b[0;34m:\u001b[0m\u001b[0;34m\u001b[0m\u001b[0;34m\u001b[0m\u001b[0m\n",
            "\u001b[0;31mKeyError\u001b[0m: 'accuracy'"
          ]
        },
        {
          "output_type": "display_data",
          "data": {
            "text/plain": [
              "<Figure size 640x480 with 1 Axes>"
            ],
            "image/png": "[encoded data removed]"
          },
          "metadata": {}
        }
      ]
    }
  ],
  "metadata": {
    "kernelspec": {
      "display_name": "Python 3",
      "name": "python3"
    },
    "language_info": {
      "codemirror_mode": {
        "name": "ipython",
        "version": 2
      },
      "file_extension": ".py",
      "mimetype": "text/x-python",
      "name": "python",
      "nbconvert_exporter": "python",
      "pygments_lexer": "ipython2",
      "version": "2.7.6"
    },
    "colab": {
      "provenance": [],
      "machine_shape": "hm",
      "gpuType": "T4"
    },
    "accelerator": "GPU"
  },
  "nbformat": 4,
  "nbformat_minor": 0
}