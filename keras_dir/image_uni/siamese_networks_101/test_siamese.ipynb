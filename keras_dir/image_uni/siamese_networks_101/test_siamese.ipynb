{
  "cells": [
    {
      "cell_type": "code",
      "execution_count": 1,
      "outputs": [
        {
          "output_type": "stream",
          "name": "stdout",
          "text": [
            "Looking in indexes: https://pypi.org/simple, https://us-python.pkg.dev/colab-wheels/public/simple/\n",
            "Collecting opencv-python==4.5.5.64\n",
            "  Downloading opencv_python-4.5.5.64-cp36-abi3-manylinux_2_17_x86_64.manylinux2014_x86_64.whl (60.5 MB)\n",
            "\u001b[2K     \u001b[90m━━━━━━━━━━━━━━━━━━━━━━━━━━━━━━━━━━━━━━━━\u001b[0m \u001b[32m60.5/60.5 MB\u001b[0m \u001b[31m26.8 MB/s\u001b[0m eta \u001b[36m0:00:00\u001b[0m\n",
            "\u001b[?25hRequirement already satisfied: numpy>=1.21.2 in /usr/local/lib/python3.10/dist-packages (from opencv-python==4.5.5.64) (1.22.4)\n",
            "Installing collected packages: opencv-python\n",
            "  Attempting uninstall: opencv-python\n",
            "    Found existing installation: opencv-python 4.7.0.72\n",
            "    Uninstalling opencv-python-4.7.0.72:\n",
            "      Successfully uninstalled opencv-python-4.7.0.72\n",
            "Successfully installed opencv-python-4.5.5.64\n"
          ]
        }
      ],
      "source": [
        "pip install opencv-python==4.5.5.64\n"
      ],
      "metadata": {
        "colab": {
          "base_uri": "https://localhost:8080/"
        },
        "id": "LS13f9rvu4d9",
        "outputId": "b9588620-a1eb-422a-a258-4446e5d0413c"
      }
    },
    {
      "cell_type": "code",
      "execution_count": 2,
      "outputs": [
        {
          "output_type": "stream",
          "name": "stdout",
          "text": [
            "Mounted at /content/drive\n"
          ]
        }
      ],
      "source": [
        "import sys\n",
        "from google.colab import drive\n",
        "drive.mount('/content/drive')\n",
        "sys.path.append(r\"/content/drive/MyDrive/\")"
      ],
      "metadata": {
        "colab": {
          "base_uri": "https://localhost:8080/"
        },
        "id": "vsOu3GFAu4eA",
        "outputId": "c4ff3d19-1a68-4560-deed-f2f7116b5afc"
      }
    },
    {
      "cell_type": "code",
      "execution_count": 3,
      "metadata": {
        "collapsed": true,
        "ExecuteTime": {
          "end_time": "2023-06-16T19:38:23.043569Z",
          "start_time": "2023-06-16T19:38:16.628697300Z"
        },
        "id": "Zat0WId8u4eA"
      },
      "outputs": [],
      "source": [
        "# import the necessary packages\n",
        "from loader_util.projects.siamese import config\n",
        "from loader_util.projects.siamese import utils\n",
        "from tensorflow.keras.models import load_model\n",
        "from imutils.paths import list_images\n",
        "import matplotlib.pyplot as plt\n",
        "from matplotlib.figure import Figure\n",
        "from matplotlib.axes import Axes\n",
        "import numpy as np\n",
        "import cv2"
      ]
    },
    {
      "cell_type": "code",
      "execution_count": 4,
      "outputs": [],
      "source": [
        "# script constants\n",
        "examples_dir = r\"/content/drive/MyDrive/Colab Notebooks/pyimagesearch/projects/siamese_networks_101/examples\"\n",
        "saved_model_path = r\"/content/drive/MyDrive/Colab Notebooks/pyimagesearch/projects/siamese_networks_101/output/siamese_model\""
      ],
      "metadata": {
        "id": "-gPifmdMu4eC"
      }
    },
    {
      "cell_type": "code",
      "execution_count": 5,
      "outputs": [
        {
          "output_type": "stream",
          "name": "stdout",
          "text": [
            "[INFO] loading test dataset...\n",
            "[INFO] loading siamese model...\n"
          ]
        }
      ],
      "source": [
        "# grab the test dataset image paths and then randomly generate a\n",
        "# total of 10 image pairs\n",
        "print(\"[INFO] loading test dataset...\")\n",
        "test_image_paths = list(list_images(examples_dir))\n",
        "\n",
        "np.random.seed(42)\n",
        "# randomly generate a total of 10 pair of image paths\n",
        "image_path_pairs = np.random.choice(test_image_paths, size=(10, 2))\n",
        "\n",
        "# load the model from disk\n",
        "print(\"[INFO] loading siamese model...\")\n",
        "model = load_model(saved_model_path)"
      ],
      "metadata": {
        "colab": {
          "base_uri": "https://localhost:8080/"
        },
        "id": "E3IPvGSZu4eD",
        "outputId": "408447f4-fbf7-4494-9db5-29a2b55c41bf"
      }
    },
    {
      "cell_type": "code",
      "execution_count": 7,
      "outputs": [
        {
          "output_type": "stream",
          "name": "stdout",
          "text": [
            "1/1 [==============================] - 8s 8s/step\n"
          ]
        },
        {
          "output_type": "display_data",
          "data": {
            "text/plain": [
              "<Figure size 400x200 with 2 Axes>"
            ],
            "image/png": "[encoded data removed]"
          },
          "metadata": {}
        },
        {
          "output_type": "stream",
          "name": "stdout",
          "text": [
            "1/1 [==============================] - 0s 20ms/step\n"
          ]
        },
        {
          "output_type": "display_data",
          "data": {
            "text/plain": [
              "<Figure size 400x200 with 2 Axes>"
            ],
            "image/png": "[encoded data removed]"
          },
          "metadata": {}
        },
        {
          "output_type": "stream",
          "name": "stdout",
          "text": [
            "1/1 [==============================] - 0s 21ms/step\n"
          ]
        },
        {
          "output_type": "display_data",
          "data": {
            "text/plain": [
              "<Figure size 400x200 with 2 Axes>"
            ],
            "image/png": "[encoded data removed]"
          },
          "metadata": {}
        },
        {
          "output_type": "stream",
          "name": "stdout",
          "text": [
            "1/1 [==============================] - 0s 20ms/step\n"
          ]
        },
        {
          "output_type": "display_data",
          "data": {
            "text/plain": [
              "<Figure size 400x200 with 2 Axes>"
            ],
            "image/png": "[encoded data removed]"
          },
          "metadata": {}
        },
        {
          "output_type": "stream",
          "name": "stdout",
          "text": [
            "1/1 [==============================] - 0s 20ms/step\n"
          ]
        },
        {
          "output_type": "display_data",
          "data": {
            "text/plain": [
              "<Figure size 400x200 with 2 Axes>"
            ],
            "image/png": "[encoded data removed]"
          },
          "metadata": {}
        },
        {
          "output_type": "stream",
          "name": "stdout",
          "text": [
            "1/1 [==============================] - 0s 26ms/step\n"
          ]
        },
        {
          "output_type": "display_data",
          "data": {
            "text/plain": [
              "<Figure size 400x200 with 2 Axes>"
            ],
            "image/png": "[encoded data removed]"
          },
          "metadata": {}
        },
        {
          "output_type": "stream",
          "name": "stdout",
          "text": [
            "1/1 [==============================] - 0s 26ms/step\n"
          ]
        },
        {
          "output_type": "display_data",
          "data": {
            "text/plain": [
              "<Figure size 400x200 with 2 Axes>"
            ],
            "image/png": "[encoded data removed]"
          },
          "metadata": {}
        },
        {
          "output_type": "stream",
          "name": "stdout",
          "text": [
            "1/1 [==============================] - 0s 28ms/step\n"
          ]
        },
        {
          "output_type": "display_data",
          "data": {
            "text/plain": [
              "<Figure size 400x200 with 2 Axes>"
            ],
            "image/png": "[encoded data removed]"
          },
          "metadata": {}
        },
        {
          "output_type": "stream",
          "name": "stdout",
          "text": [
            "1/1 [==============================] - 0s 29ms/step\n"
          ]
        },
        {
          "output_type": "display_data",
          "data": {
            "text/plain": [
              "<Figure size 400x200 with 2 Axes>"
            ],
            "image/png": "[encoded data removed]"
          },
          "metadata": {}
        },
        {
          "output_type": "stream",
          "name": "stdout",
          "text": [
            "1/1 [==============================] - 0s 19ms/step\n"
          ]
        },
        {
          "output_type": "display_data",
          "data": {
            "text/plain": [
              "<Figure size 400x200 with 2 Axes>"
            ],
            "image/png": "[encoded data removed]"
          },
          "metadata": {}
        }
      ],
      "source": [
        "# loop over all image path pairs\n",
        "for i, (patha, pathb) in enumerate(image_path_pairs):\n",
        "    imagea = cv2.imread(patha, 0)\n",
        "    imageb = cv2.imread(pathb, 0)\n",
        "\n",
        "    # create a copy of both the images for visualization purpose\n",
        "    origa = imagea.copy()\n",
        "    origb = imageb.copy()\n",
        "\n",
        "    # add channel a dimension to both the images\n",
        "    imagea = np.expand_dims(imagea, axis=-1)\n",
        "    imageb = np.expand_dims(imageb, axis=-1)\n",
        "\n",
        "    # add a batch dimension to both images\n",
        "    imagea = np.expand_dims(imagea, axis=0)\n",
        "    imageb = np.expand_dims(imageb, axis=0)\n",
        "\n",
        "    # scale the pixel values to the range of [0, 1]\n",
        "    imagea = imagea / 255.0\n",
        "    imageb = imageb / 255.0\n",
        "\n",
        "    # use our siamese model to make predictions on the image pair,\n",
        "    # indicating whether or not the images belong to the same class\n",
        "    preds = model.predict([imagea, imageb])\n",
        "    proba = preds[0][0]\n",
        "\n",
        "    # initialize the figure\n",
        "    fig = plt.figure(\"Pair #{}\".format(i + 1), figsize=(4, 2))\n",
        "    plt.suptitle(\"Similarity: {:.2f}\".format(proba))\n",
        "\n",
        "    # show first image\n",
        "    ax = fig.add_subplot(1, 2, 1)\n",
        "    plt.imshow(origa, cmap=plt.cm.gray)\n",
        "    plt.axis(\"off\")\n",
        "\n",
        "    # show the second image\n",
        "    ax = fig.add_subplot(1, 2, 2)\n",
        "    plt.imshow(origb, cmap=plt.cm.gray)\n",
        "    plt.axis(\"off\")\n",
        "\n",
        "    # show the plot\n",
        "    plt.show()\n"
      ],
      "metadata": {
        "colab": {
          "base_uri": "https://localhost:8080/",
          "height": 1000
        },
        "id": "tuEwp7KXu4eE",
        "outputId": "9092388a-ef29-42bb-fbe9-600eb11cf95a"
      }
    }
  ],
  "metadata": {
    "kernelspec": {
      "display_name": "Python 3",
      "name": "python3"
    },
    "language_info": {
      "codemirror_mode": {
        "name": "ipython",
        "version": 2
      },
      "file_extension": ".py",
      "mimetype": "text/x-python",
      "name": "python",
      "nbconvert_exporter": "python",
      "pygments_lexer": "ipython2",
      "version": "2.7.6"
    },
    "colab": {
      "provenance": [],
      "machine_shape": "hm",
      "gpuType": "T4"
    },
    "accelerator": "GPU"
  },
  "nbformat": 4,
  "nbformat_minor": 0
}