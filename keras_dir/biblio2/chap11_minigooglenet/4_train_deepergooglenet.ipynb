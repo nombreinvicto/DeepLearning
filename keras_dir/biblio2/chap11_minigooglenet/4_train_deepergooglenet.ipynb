{
 "cells": [
  {
   "cell_type": "code",
   "execution_count": 1,
   "metadata": {
    "collapsed": true,
    "colab": {
     "base_uri": "https://localhost:8080/"
    },
    "id": "eGKVdGazFKXF",
    "outputId": "65e3d31b-f89b-4813-d0f2-7c1d2117dcfd"
   },
   "outputs": [
    {
     "output_type": "stream",
     "name": "stdout",
     "text": [
      "Looking in indexes: https://pypi.org/simple, https://us-python.pkg.dev/colab-wheels/public/simple/\n",
      "Collecting opencv-python==4.5.5.64\n",
      "  Downloading opencv_python-4.5.5.64-cp36-abi3-manylinux_2_17_x86_64.manylinux2014_x86_64.whl (60.5 MB)\n",
      "\u001B[K     |████████████████████████████████| 60.5 MB 100 kB/s \n",
      "\u001B[?25hRequirement already satisfied: numpy>=1.17.3 in /usr/local/lib/python3.8/dist-packages (from opencv-python==4.5.5.64) (1.21.6)\n",
      "Installing collected packages: opencv-python\n",
      "  Attempting uninstall: opencv-python\n",
      "    Found existing installation: opencv-python 4.6.0.66\n",
      "    Uninstalling opencv-python-4.6.0.66:\n",
      "      Successfully uninstalled opencv-python-4.6.0.66\n",
      "Successfully installed opencv-python-4.5.5.64\n"
     ]
    }
   ],
   "source": [
    "! pip install opencv-python==4.5.5.64"
   ]
  },
  {
   "cell_type": "markdown",
   "source": [],
   "metadata": {
    "collapsed": false,
    "id": "Eqjt3sj9FKXI"
   }
  },
  {
   "cell_type": "code",
   "execution_count": 2,
   "outputs": [
    {
     "output_type": "stream",
     "name": "stdout",
     "text": [
      "Mounted at /content/drive\n"
     ]
    }
   ],
   "source": [
    "import sys\n",
    "from google.colab import drive\n",
    "\n",
    "drive.mount('/content/drive')\n",
    "sys.path.append(r\"/content/drive/MyDrive/\")"
   ],
   "metadata": {
    "colab": {
     "base_uri": "https://localhost:8080/"
    },
    "id": "1QUJQ3VqFKXM",
    "outputId": "64d77554-e5f3-4a06-977b-e3db751a4365"
   }
  },
  {
   "cell_type": "code",
   "execution_count": 3,
   "outputs": [],
   "source": [
    "from loader_util.preprocessing import ImageToArrayPreprocessor\n",
    "from loader_util.preprocessing import SimplePreProcessor\n",
    "from loader_util.preprocessing import MeanPreprocessor\n",
    "from loader_util.callbacks import EpochCheckpoint\n",
    "from loader_util.callbacks import TrainingMonitor\n",
    "from loader_util.io import HDF5DatasetGenerator\n",
    "from loader_util.nn.conv import DeeperGoogleNet\n",
    "\n",
    "from tensorflow.keras.preprocessing.image import ImageDataGenerator\n",
    "from tensorflow.keras.optimizers import Adam, SGD\n",
    "from tensorflow.keras.models import load_model, Model\n",
    "import tensorflow.keras.backend as K\n",
    "import json\n"
   ],
   "metadata": {
    "id": "77MlvWh_FKXU"
   }
  },
  {
   "cell_type": "code",
   "execution_count": 18,
   "outputs": [],
   "source": [
    "# script constants\n",
    "start_epoch = 30\n",
    "dataset_mean_filepath = r\"/content/drive/MyDrive/Colab Notebooks/pyimagesearch/bibilio2/chap11/deepergooglenet/tiny_imagenet_mean.json\"\n",
    "train_hdf5_path = r\"/content/drive/MyDrive/ImageDataset/book2/tiny-imagenet-200/hdf5/train.hdf5\"\n",
    "valid_hdf5_path = r\"/content/drive/MyDrive/ImageDataset/book2/tiny-imagenet-200/hdf5/val.hdf5\"\n",
    "checkpoint_dir = r\"/content/drive/MyDrive/Colab Notebooks/pyimagesearch/bibilio2/chap11/deepergooglenet/output_artifacts/model_checkpoints\"\n",
    "model_filepath = r\"/content/drive/MyDrive/Colab Notebooks/pyimagesearch/bibilio2/chap11/deepergooglenet/output_artifacts/model_checkpoints/model_epoch_30.h5\"\n",
    "#model_filepath = None\n",
    "\n",
    "fig_output_filepath = \"/content/drive/MyDrive/Colab Notebooks/pyimagesearch/bibilio2/chap11/deepergooglenet/output_artifacts/loss_curves.png\"\n",
    "json_output_filepath = r\"/content/drive/MyDrive/Colab Notebooks/pyimagesearch/bibilio2/chap11/deepergooglenet/output_artifacts/history.json\""
   ],
   "metadata": {
    "id": "lq85nUmOFKXW"
   }
  },
  {
   "cell_type": "code",
   "execution_count": 19,
   "outputs": [
    {
     "output_type": "execute_result",
     "data": {
      "text/plain": [
       "{'R': 122.49462207573785, 'G': 114.28757347005208, 'B': 101.35285097927517}"
      ]
     },
     "metadata": {},
     "execution_count": 19
    }
   ],
   "source": [
    "# construct the train image generator\n",
    "aug = ImageDataGenerator(rotation_range=18,\n",
    "                         zoom_range=0.15,\n",
    "                         width_shift_range=0.2,\n",
    "                         height_shift_range=0.2,\n",
    "                         shear_range=0.15,\n",
    "                         horizontal_flip=True,\n",
    "                         fill_mode=\"nearest\")\n",
    "\n",
    "# load the dataset mean json\n",
    "means = json.loads(open(dataset_mean_filepath, mode=\"r\").read())\n",
    "means"
   ],
   "metadata": {
    "colab": {
     "base_uri": "https://localhost:8080/"
    },
    "id": "vXtCmbCbFKXX",
    "outputId": "608e00f7-cbf7-4812-f3b2-70f574061cdd"
   }
  },
  {
   "cell_type": "code",
   "execution_count": 20,
   "outputs": [
    {
     "output_type": "execute_result",
     "data": {
      "text/plain": [
       "90000"
      ]
     },
     "metadata": {},
     "execution_count": 20
    }
   ],
   "source": [
    "# init the preprocessors\n",
    "sp = SimplePreProcessor(64, 64)\n",
    "mp = MeanPreprocessor(rmean=means['R'],\n",
    "                      gmean=means['G'],\n",
    "                      bmean=means[\"B\"])\n",
    "iap = ImageToArrayPreprocessor()\n",
    "\n",
    "batch_size = 64\n",
    "classes = 200\n",
    "# init the train and valid dataset gens\n",
    "traingen = HDF5DatasetGenerator(db_path=train_hdf5_path,\n",
    "                                batch_size=batch_size,\n",
    "                                aug=aug,\n",
    "                                preprocessors=[sp, mp, iap],\n",
    "                                classes=classes)\n",
    "valgen = HDF5DatasetGenerator(db_path=valid_hdf5_path,\n",
    "                              batch_size=batch_size,\n",
    "                              preprocessors=[sp, mp, iap],\n",
    "                              classes=classes)\n",
    "traingen.num_images"
   ],
   "metadata": {
    "colab": {
     "base_uri": "https://localhost:8080/"
    },
    "id": "cxb8sZgbFKXZ",
    "outputId": "2bbc0d6a-f6b2-4fbb-8ce9-9bd36de7541e"
   }
  },
  {
   "cell_type": "code",
   "execution_count": 22,
   "outputs": [
    {
     "output_type": "stream",
     "name": "stdout",
     "text": [
      "[INFO] loading model checkpoint: /content/drive/MyDrive/Colab Notebooks/pyimagesearch/bibilio2/chap11/deepergooglenet/output_artifacts/model_checkpoints/model_epoch_30.h5......\n",
      "[INFO] old learning rate was: 9.999999747378752e-05. New learning rate set to: 9.999999747378752e-06\n"
     ]
    }
   ],
   "source": [
    "# if no model checkpoint supplied then compile brand new model\n",
    "model: Model\n",
    "if not model_filepath:\n",
    "    print(f\"[INFO] compiling brand new model......\")\n",
    "    model = DeeperGoogleNet.build(width=64,\n",
    "                                  height=64,\n",
    "                                  depth=3,\n",
    "                                  classes=classes,\n",
    "                                  reg=0.0002)\n",
    "    opt = Adam(0.001)\n",
    "    model.compile(loss=\"categorical_crossentropy\",\n",
    "                  optimizer=opt,\n",
    "                  metrics=['accuracy'])\n",
    "    #print(model.summary())\n",
    "else:\n",
    "    print(f\"[INFO] loading model checkpoint: {model_filepath}......\")\n",
    "    model = load_model(model_filepath)\n",
    "\n",
    "    # update learning rate\n",
    "    old_lr = K.get_value(model.optimizer.lr)\n",
    "    new_lr = 0.00001\n",
    "    K.set_value(model.optimizer.lr, new_lr)\n",
    "    print(f\"[INFO] old learning rate was: {old_lr}. \"\n",
    "          f\"New learning rate set to: {K.get_value(model.optimizer.lr)}\")"
   ],
   "metadata": {
    "colab": {
     "base_uri": "https://localhost:8080/"
    },
    "id": "Y0xR5A1EFKXb",
    "outputId": "774cc138-891e-4d2a-99d0-efe1510fa649"
   }
  },
  {
   "cell_type": "code",
   "execution_count": 23,
   "outputs": [],
   "source": [
    "# construct 2 callbacks, one to save checkpoints every 5 epochs\n",
    "# the other one to monitor training loss curves over entire process\n",
    "\n",
    "callbacks = [\n",
    "    EpochCheckpoint(outputPath=checkpoint_dir,\n",
    "                    every=5,\n",
    "                    startAt=start_epoch),\n",
    "    TrainingMonitor(figPath=fig_output_filepath,\n",
    "                    jsonPath=json_output_filepath,\n",
    "                    startAt=start_epoch)]"
   ],
   "metadata": {
    "id": "iJU441cfFKXc"
   }
  },
  {
   "cell_type": "code",
   "execution_count": null,
   "outputs": [
    {
     "output_type": "stream",
     "name": "stderr",
     "text": [
      "<ipython-input-24-009fa18d996e>:2: UserWarning: `Model.fit_generator` is deprecated and will be removed in a future version. Please use `Model.fit`, which supports generators.\n",
      "  model.fit_generator(traingen.generator(),\n"
     ]
    },
    {
     "output_type": "stream",
     "name": "stdout",
     "text": [
      "Epoch 1/30\n",
      "1406/1406 [==============================] - 133s 93ms/step - loss: 2.2918 - accuracy: 0.5429 - val_loss: 2.9514 - val_accuracy: 0.4216\n",
      "Epoch 2/30\n",
      "1406/1406 [==============================] - 131s 93ms/step - loss: 2.2808 - accuracy: 0.5447 - val_loss: 2.9457 - val_accuracy: 0.4227\n",
      "Epoch 3/30\n",
      "1406/1406 [==============================] - 122s 87ms/step - loss: 2.2755 - accuracy: 0.5448 - val_loss: 2.9482 - val_accuracy: 0.4226\n",
      "Epoch 4/30\n",
      "1406/1406 [==============================] - 123s 87ms/step - loss: 2.2681 - accuracy: 0.5466 - val_loss: 2.9460 - val_accuracy: 0.4238\n",
      "Epoch 5/30\n",
      "1406/1406 [==============================] - 123s 88ms/step - loss: 2.2636 - accuracy: 0.5494 - val_loss: 2.9364 - val_accuracy: 0.4264\n",
      "Epoch 6/30\n",
      "1406/1406 [==============================] - 123s 87ms/step - loss: 2.2550 - accuracy: 0.5488 - val_loss: 2.9452 - val_accuracy: 0.4227\n",
      "Epoch 7/30\n",
      "1406/1406 [==============================] - 122s 87ms/step - loss: 2.2563 - accuracy: 0.5482 - val_loss: 2.9312 - val_accuracy: 0.4263\n",
      "Epoch 8/30\n",
      "1406/1406 [==============================] - 122s 87ms/step - loss: 2.2527 - accuracy: 0.5488 - val_loss: 2.9529 - val_accuracy: 0.4224\n",
      "Epoch 9/30\n",
      "1174/1406 [========================>.....] - ETA: 19s - loss: 2.2576 - accuracy: 0.5472"
     ]
    }
   ],
   "source": [
    "# train the network\n",
    "model.fit_generator(traingen.generator(),\n",
    "                    steps_per_epoch=traingen.num_images // batch_size,\n",
    "                    validation_data=valgen.generator(),\n",
    "                    validation_steps=valgen.num_images // batch_size,\n",
    "                    epochs=30,\n",
    "                    max_queue_size=10,\n",
    "                    callbacks=callbacks,\n",
    "                    verbose=1)\n",
    "# close db\n",
    "traingen.close()\n",
    "valgen.close()"
   ],
   "metadata": {
    "colab": {
     "base_uri": "https://localhost:8080/"
    },
    "id": "xyBBFP8fFKXd",
    "outputId": "2b0943f1-7ba0-4dc5-876e-1060ab214a93"
   }
  },
  {
   "cell_type": "code",
   "execution_count": null,
   "outputs": [],
   "source": [],
   "metadata": {
    "id": "4cIVbuneFKXf"
   }
  },
  {
   "cell_type": "code",
   "execution_count": null,
   "outputs": [],
   "source": [],
   "metadata": {
    "id": "uhLqY2BoFKXg"
   }
  },
  {
   "cell_type": "code",
   "execution_count": null,
   "outputs": [],
   "source": [],
   "metadata": {
    "id": "WHbtUpX2FKXh"
   }
  },
  {
   "cell_type": "code",
   "execution_count": null,
   "outputs": [],
   "source": [],
   "metadata": {
    "id": "c1KOgj8qFKXh"
   }
  }
 ],
 "metadata": {
  "kernelspec": {
   "display_name": "Python 3",
   "language": "python",
   "name": "python3"
  },
  "language_info": {
   "codemirror_mode": {
    "name": "ipython",
    "version": 2
   },
   "file_extension": ".py",
   "mimetype": "text/x-python",
   "name": "python",
   "nbconvert_exporter": "python",
   "pygments_lexer": "ipython2",
   "version": "2.7.6"
  },
  "colab": {
   "provenance": [],
   "machine_shape": "hm"
  },
  "accelerator": "GPU",
  "gpuClass": "premium"
 },
 "nbformat": 4,
 "nbformat_minor": 0
}
