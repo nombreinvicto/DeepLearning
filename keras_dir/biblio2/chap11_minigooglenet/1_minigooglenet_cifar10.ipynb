{
 "cells": [
  {
   "cell_type": "code",
   "execution_count": 3,
   "outputs": [
    {
     "output_type": "stream",
     "name": "stdout",
     "text": [
      "Mounted at /content/drive\n"
     ]
    }
   ],
   "source": [
    "import sys\n",
    "from google.colab import drive\n",
    "\n",
    "drive.mount('/content/drive')\n",
    "sys.path.append(r\"/content/drive/MyDrive/\")"
   ],
   "metadata": {
    "colab": {
     "base_uri": "https://localhost:8080/"
    },
    "id": "lm7rlvdmQ2MD",
    "outputId": "0c3ef00f-c18c-417e-d7bf-24ce52284227"
   }
  },
  {
   "cell_type": "code",
   "execution_count": 4,
   "outputs": [],
   "source": [
    "from sklearn.preprocessing import LabelBinarizer\n",
    "from loader_util.nn.conv import MiniGoogLeNet\n",
    "from loader_util.callbacks import TrainingMonitor\n",
    "from tensorflow.keras.preprocessing.image import ImageDataGenerator\n",
    "from tensorflow.keras.callbacks import LearningRateScheduler\n",
    "from tensorflow.keras.optimizers import SGD\n",
    "from tensorflow.keras.datasets import cifar10\n",
    "import numpy as np\n",
    "import os"
   ],
   "metadata": {
    "id": "1gzzDmwdQ2MJ"
   }
  },
  {
   "cell_type": "code",
   "execution_count": 5,
   "outputs": [],
   "source": [
    "# create the learning rate decay function\n",
    "TOTAL_EPOCHS = 70\n",
    "INIT_LR = 0.005\n",
    "\n",
    "\n",
    "def poly_decay(epoch):\n",
    "    max_epochs = TOTAL_EPOCHS\n",
    "    base_lr = INIT_LR\n",
    "    power = 1.0\n",
    "\n",
    "    alpha = base_lr * (1 - (epoch / float(max_epochs))) ** power\n",
    "    return alpha"
   ],
   "metadata": {
    "id": "Pq4iS8fUQ2MM"
   }
  },
  {
   "cell_type": "code",
   "execution_count": 6,
   "outputs": [],
   "source": [
    "# script constants\n",
    "model_output_path = r\"/content/drive/MyDrive/Colab Notebooks/pyimagesearch/bibilio2/chap11/artifacts/model_28nov\"\n",
    "artifacts_output_dir = r\"/content/drive/MyDrive/Colab Notebooks/pyimagesearch/bibilio2/chap11/artifacts\""
   ],
   "metadata": {
    "id": "SdtFzz1eQ2MP"
   }
  },
  {
   "cell_type": "code",
   "execution_count": 7,
   "outputs": [
    {
     "output_type": "stream",
     "name": "stdout",
     "text": [
      "[INFO] loading cifar10 data......\n",
      "Downloading data from https://www.cs.toronto.edu/~kriz/cifar-10-python.tar.gz\n",
      "170498071/170498071 [==============================] - 6s 0us/step\n"
     ]
    }
   ],
   "source": [
    "print(f\"[INFO] loading cifar10 data......\")\n",
    "((trainx, trainy), (testx, testy)) = cifar10.load_data()\n",
    "trainx = trainx.astype(\"float\")\n",
    "testx = testx.astype(\"float\")\n",
    "\n",
    "# apply mean subtraction\n",
    "mean = np.mean(trainx, axis=0)\n",
    "trainx -= mean\n",
    "testx -= mean"
   ],
   "metadata": {
    "colab": {
     "base_uri": "https://localhost:8080/"
    },
    "id": "DraI7BWuQ2MR",
    "outputId": "2c676b11-af90-4733-ea96-5d132db68fbf"
   }
  },
  {
   "cell_type": "code",
   "execution_count": 8,
   "outputs": [],
   "source": [
    "# convert the labels to encoded versions\n",
    "lb = LabelBinarizer()\n",
    "trainy = lb.fit_transform(trainy)\n",
    "testy = lb.transform(testy)"
   ],
   "metadata": {
    "id": "ctUw-b1gQ2MT"
   }
  },
  {
   "cell_type": "code",
   "execution_count": 9,
   "outputs": [],
   "source": [
    "# init the data augmentation\n",
    "aug = ImageDataGenerator(width_shift_range=0.1,\n",
    "                         height_shift_range=0.1,\n",
    "                         horizontal_flip=True,\n",
    "                         fill_mode=\"nearest\")"
   ],
   "metadata": {
    "id": "voI75CnMQ2MU"
   }
  },
  {
   "cell_type": "code",
   "execution_count": 10,
   "outputs": [],
   "source": [
    "# construct the set of callbacks\n",
    "fig_path = os.path.sep.join([artifacts_output_dir, f\"{os.getpid()}.png\"])\n",
    "json_path = os.path.sep.join([artifacts_output_dir, f\"{os.getpid()}.json\"])\n",
    "callbacks = [TrainingMonitor(fig_path, json_path),\n",
    "             LearningRateScheduler(poly_decay)]"
   ],
   "metadata": {
    "id": "GtxlMgrxQ2MX"
   }
  },
  {
   "cell_type": "code",
   "execution_count": 11,
   "outputs": [
    {
     "output_type": "stream",
     "name": "stdout",
     "text": [
      "[INFO] compiling model......\n"
     ]
    }
   ],
   "source": [
    "# init the opt and the model\n",
    "print(f\"[INFO] compiling model......\")\n",
    "opt = SGD(learning_rate=INIT_LR,\n",
    "          momentum=0.9)\n",
    "model = MiniGoogLeNet.build(width=32, height=32, depth=3, classes=10)\n",
    "model.compile(loss=\"categorical_crossentropy\",\n",
    "              optimizer=opt,\n",
    "              metrics=[\"accuracy\"])"
   ],
   "metadata": {
    "colab": {
     "base_uri": "https://localhost:8080/"
    },
    "id": "x8CugjkEQ2Ma",
    "outputId": "ca679eec-9f49-45e9-e10c-899ffeaaad14"
   }
  },
  {
   "cell_type": "code",
   "execution_count": 12,
   "outputs": [
    {
     "output_type": "stream",
     "name": "stdout",
     "text": [
      "[INFO] training the network......\n"
     ]
    },
    {
     "output_type": "stream",
     "name": "stderr",
     "text": [
      "/usr/local/lib/python3.7/dist-packages/ipykernel_launcher.py:8: UserWarning: `Model.fit_generator` is deprecated and will be removed in a future version. Please use `Model.fit`, which supports generators.\n",
      "  \n"
     ]
    },
    {
     "output_type": "stream",
     "name": "stdout",
     "text": [
      "Epoch 1/70\n",
      "781/781 [==============================] - 40s 36ms/step - loss: 1.5753 - accuracy: 0.4473 - val_loss: 1.2303 - val_accuracy: 0.5808 - lr: 0.0050\n",
      "Epoch 2/70\n",
      "781/781 [==============================] - 28s 36ms/step - loss: 1.1471 - accuracy: 0.5938 - val_loss: 1.0688 - val_accuracy: 0.6381 - lr: 0.0049\n",
      "Epoch 3/70\n",
      "781/781 [==============================] - 28s 35ms/step - loss: 1.0033 - accuracy: 0.6467 - val_loss: 0.8948 - val_accuracy: 0.6831 - lr: 0.0049\n",
      "Epoch 4/70\n",
      "781/781 [==============================] - 28s 36ms/step - loss: 0.9011 - accuracy: 0.6834 - val_loss: 0.8071 - val_accuracy: 0.7241 - lr: 0.0048\n",
      "Epoch 5/70\n",
      "781/781 [==============================] - 28s 36ms/step - loss: 0.8197 - accuracy: 0.7130 - val_loss: 0.8205 - val_accuracy: 0.7177 - lr: 0.0047\n",
      "Epoch 6/70\n",
      "781/781 [==============================] - 28s 35ms/step - loss: 0.7639 - accuracy: 0.7335 - val_loss: 0.7822 - val_accuracy: 0.7307 - lr: 0.0046\n",
      "Epoch 7/70\n",
      "781/781 [==============================] - 28s 36ms/step - loss: 0.7178 - accuracy: 0.7509 - val_loss: 0.6851 - val_accuracy: 0.7691 - lr: 0.0046\n",
      "Epoch 8/70\n",
      "781/781 [==============================] - 28s 35ms/step - loss: 0.6779 - accuracy: 0.7651 - val_loss: 0.8729 - val_accuracy: 0.7259 - lr: 0.0045\n",
      "Epoch 9/70\n",
      "781/781 [==============================] - 28s 36ms/step - loss: 0.6387 - accuracy: 0.7782 - val_loss: 0.6488 - val_accuracy: 0.7838 - lr: 0.0044\n",
      "Epoch 10/70\n",
      "781/781 [==============================] - 28s 35ms/step - loss: 0.6153 - accuracy: 0.7877 - val_loss: 0.7436 - val_accuracy: 0.7549 - lr: 0.0044\n",
      "Epoch 11/70\n",
      "781/781 [==============================] - 28s 36ms/step - loss: 0.5878 - accuracy: 0.7973 - val_loss: 0.8556 - val_accuracy: 0.7272 - lr: 0.0043\n",
      "Epoch 12/70\n",
      "781/781 [==============================] - 28s 36ms/step - loss: 0.5631 - accuracy: 0.8048 - val_loss: 0.5742 - val_accuracy: 0.8078 - lr: 0.0042\n",
      "Epoch 13/70\n",
      "781/781 [==============================] - 28s 36ms/step - loss: 0.5376 - accuracy: 0.8131 - val_loss: 0.6117 - val_accuracy: 0.8017 - lr: 0.0041\n",
      "Epoch 14/70\n",
      "781/781 [==============================] - 28s 36ms/step - loss: 0.5180 - accuracy: 0.8204 - val_loss: 0.6333 - val_accuracy: 0.7930 - lr: 0.0041\n",
      "Epoch 15/70\n",
      "781/781 [==============================] - 28s 36ms/step - loss: 0.5063 - accuracy: 0.8245 - val_loss: 0.6093 - val_accuracy: 0.8005 - lr: 0.0040\n",
      "Epoch 16/70\n",
      "781/781 [==============================] - 28s 36ms/step - loss: 0.4878 - accuracy: 0.8310 - val_loss: 0.5082 - val_accuracy: 0.8289 - lr: 0.0039\n",
      "Epoch 17/70\n",
      "781/781 [==============================] - 28s 36ms/step - loss: 0.4699 - accuracy: 0.8372 - val_loss: 0.4715 - val_accuracy: 0.8384 - lr: 0.0039\n",
      "Epoch 18/70\n",
      "781/781 [==============================] - 28s 36ms/step - loss: 0.4533 - accuracy: 0.8406 - val_loss: 0.5096 - val_accuracy: 0.8361 - lr: 0.0038\n",
      "Epoch 19/70\n",
      "781/781 [==============================] - 28s 36ms/step - loss: 0.4446 - accuracy: 0.8478 - val_loss: 0.4386 - val_accuracy: 0.8520 - lr: 0.0037\n",
      "Epoch 20/70\n",
      "781/781 [==============================] - 28s 36ms/step - loss: 0.4301 - accuracy: 0.8514 - val_loss: 0.5925 - val_accuracy: 0.8155 - lr: 0.0036\n",
      "Epoch 21/70\n",
      "781/781 [==============================] - 28s 35ms/step - loss: 0.4156 - accuracy: 0.8567 - val_loss: 0.4585 - val_accuracy: 0.8491 - lr: 0.0036\n",
      "Epoch 22/70\n",
      "781/781 [==============================] - 28s 35ms/step - loss: 0.4045 - accuracy: 0.8601 - val_loss: 0.5286 - val_accuracy: 0.8258 - lr: 0.0035\n",
      "Epoch 23/70\n",
      "781/781 [==============================] - 28s 36ms/step - loss: 0.3951 - accuracy: 0.8644 - val_loss: 0.5133 - val_accuracy: 0.8310 - lr: 0.0034\n",
      "Epoch 24/70\n",
      "781/781 [==============================] - 28s 36ms/step - loss: 0.3837 - accuracy: 0.8676 - val_loss: 0.4431 - val_accuracy: 0.8497 - lr: 0.0034\n",
      "Epoch 25/70\n",
      "781/781 [==============================] - 28s 36ms/step - loss: 0.3776 - accuracy: 0.8689 - val_loss: 0.5241 - val_accuracy: 0.8306 - lr: 0.0033\n",
      "Epoch 26/70\n",
      "781/781 [==============================] - 28s 36ms/step - loss: 0.3635 - accuracy: 0.8750 - val_loss: 0.4818 - val_accuracy: 0.8446 - lr: 0.0032\n",
      "Epoch 27/70\n",
      "781/781 [==============================] - 28s 36ms/step - loss: 0.3538 - accuracy: 0.8772 - val_loss: 0.4327 - val_accuracy: 0.8593 - lr: 0.0031\n",
      "Epoch 28/70\n",
      "781/781 [==============================] - 28s 36ms/step - loss: 0.3455 - accuracy: 0.8801 - val_loss: 0.5224 - val_accuracy: 0.8389 - lr: 0.0031\n",
      "Epoch 29/70\n",
      "781/781 [==============================] - 28s 36ms/step - loss: 0.3393 - accuracy: 0.8820 - val_loss: 0.4211 - val_accuracy: 0.8566 - lr: 0.0030\n",
      "Epoch 30/70\n",
      "781/781 [==============================] - 28s 36ms/step - loss: 0.3257 - accuracy: 0.8870 - val_loss: 0.5195 - val_accuracy: 0.8309 - lr: 0.0029\n",
      "Epoch 31/70\n",
      "781/781 [==============================] - 28s 36ms/step - loss: 0.3259 - accuracy: 0.8872 - val_loss: 0.4179 - val_accuracy: 0.8623 - lr: 0.0029\n",
      "Epoch 32/70\n",
      "781/781 [==============================] - 28s 36ms/step - loss: 0.3140 - accuracy: 0.8909 - val_loss: 0.4653 - val_accuracy: 0.8492 - lr: 0.0028\n",
      "Epoch 33/70\n",
      "781/781 [==============================] - 28s 35ms/step - loss: 0.3068 - accuracy: 0.8935 - val_loss: 0.4451 - val_accuracy: 0.8561 - lr: 0.0027\n",
      "Epoch 34/70\n",
      "781/781 [==============================] - 28s 36ms/step - loss: 0.3033 - accuracy: 0.8951 - val_loss: 0.4356 - val_accuracy: 0.8548 - lr: 0.0026\n",
      "Epoch 35/70\n",
      "781/781 [==============================] - 28s 35ms/step - loss: 0.2936 - accuracy: 0.8975 - val_loss: 0.4173 - val_accuracy: 0.8626 - lr: 0.0026\n",
      "Epoch 36/70\n",
      "781/781 [==============================] - 28s 35ms/step - loss: 0.2871 - accuracy: 0.9006 - val_loss: 0.5235 - val_accuracy: 0.8357 - lr: 0.0025\n",
      "Epoch 37/70\n",
      "781/781 [==============================] - 27s 35ms/step - loss: 0.2791 - accuracy: 0.9021 - val_loss: 0.4733 - val_accuracy: 0.8535 - lr: 0.0024\n",
      "Epoch 38/70\n",
      "781/781 [==============================] - 27s 34ms/step - loss: 0.2760 - accuracy: 0.9048 - val_loss: 0.4648 - val_accuracy: 0.8525 - lr: 0.0024\n",
      "Epoch 39/70\n",
      "781/781 [==============================] - 27s 35ms/step - loss: 0.2675 - accuracy: 0.9072 - val_loss: 0.4783 - val_accuracy: 0.8515 - lr: 0.0023\n",
      "Epoch 40/70\n",
      "781/781 [==============================] - 28s 36ms/step - loss: 0.2588 - accuracy: 0.9096 - val_loss: 0.4760 - val_accuracy: 0.8539 - lr: 0.0022\n",
      "Epoch 41/70\n",
      "781/781 [==============================] - 28s 35ms/step - loss: 0.2520 - accuracy: 0.9133 - val_loss: 0.3744 - val_accuracy: 0.8744 - lr: 0.0021\n",
      "Epoch 42/70\n",
      "781/781 [==============================] - 28s 35ms/step - loss: 0.2513 - accuracy: 0.9121 - val_loss: 0.4875 - val_accuracy: 0.8470 - lr: 0.0021\n",
      "Epoch 43/70\n",
      "781/781 [==============================] - 28s 35ms/step - loss: 0.2449 - accuracy: 0.9146 - val_loss: 0.4084 - val_accuracy: 0.8728 - lr: 0.0020\n",
      "Epoch 44/70\n",
      "781/781 [==============================] - 28s 36ms/step - loss: 0.2360 - accuracy: 0.9188 - val_loss: 0.4954 - val_accuracy: 0.8485 - lr: 0.0019\n",
      "Epoch 45/70\n",
      "781/781 [==============================] - 28s 36ms/step - loss: 0.2318 - accuracy: 0.9193 - val_loss: 0.4431 - val_accuracy: 0.8620 - lr: 0.0019\n",
      "Epoch 46/70\n",
      "781/781 [==============================] - 28s 35ms/step - loss: 0.2283 - accuracy: 0.9195 - val_loss: 0.5722 - val_accuracy: 0.8329 - lr: 0.0018\n",
      "Epoch 47/70\n",
      "781/781 [==============================] - 28s 35ms/step - loss: 0.2203 - accuracy: 0.9222 - val_loss: 0.4946 - val_accuracy: 0.8483 - lr: 0.0017\n",
      "Epoch 48/70\n",
      "781/781 [==============================] - 28s 36ms/step - loss: 0.2163 - accuracy: 0.9247 - val_loss: 0.3670 - val_accuracy: 0.8800 - lr: 0.0016\n",
      "Epoch 49/70\n",
      "781/781 [==============================] - 28s 35ms/step - loss: 0.2122 - accuracy: 0.9257 - val_loss: 0.4880 - val_accuracy: 0.8555 - lr: 0.0016\n",
      "Epoch 50/70\n",
      "781/781 [==============================] - 28s 36ms/step - loss: 0.2046 - accuracy: 0.9277 - val_loss: 0.4534 - val_accuracy: 0.8608 - lr: 0.0015\n",
      "Epoch 51/70\n",
      "781/781 [==============================] - 28s 35ms/step - loss: 0.2006 - accuracy: 0.9288 - val_loss: 0.4370 - val_accuracy: 0.8690 - lr: 0.0014\n",
      "Epoch 52/70\n",
      "781/781 [==============================] - 28s 36ms/step - loss: 0.1972 - accuracy: 0.9320 - val_loss: 0.4113 - val_accuracy: 0.8718 - lr: 0.0014\n",
      "Epoch 53/70\n",
      "781/781 [==============================] - 28s 35ms/step - loss: 0.1905 - accuracy: 0.9330 - val_loss: 0.3927 - val_accuracy: 0.8795 - lr: 0.0013\n",
      "Epoch 54/70\n",
      "781/781 [==============================] - 28s 36ms/step - loss: 0.1886 - accuracy: 0.9336 - val_loss: 0.4719 - val_accuracy: 0.8643 - lr: 0.0012\n",
      "Epoch 55/70\n",
      "781/781 [==============================] - 28s 36ms/step - loss: 0.1818 - accuracy: 0.9364 - val_loss: 0.4070 - val_accuracy: 0.8749 - lr: 0.0011\n",
      "Epoch 56/70\n",
      "781/781 [==============================] - 28s 35ms/step - loss: 0.1815 - accuracy: 0.9370 - val_loss: 0.3787 - val_accuracy: 0.8802 - lr: 0.0011\n",
      "Epoch 57/70\n",
      "781/781 [==============================] - 27s 35ms/step - loss: 0.1714 - accuracy: 0.9407 - val_loss: 0.3992 - val_accuracy: 0.8802 - lr: 0.0010\n",
      "Epoch 58/70\n",
      "781/781 [==============================] - 27s 35ms/step - loss: 0.1699 - accuracy: 0.9416 - val_loss: 0.3638 - val_accuracy: 0.8856 - lr: 9.2857e-04\n",
      "Epoch 59/70\n",
      "781/781 [==============================] - 28s 36ms/step - loss: 0.1669 - accuracy: 0.9419 - val_loss: 0.3916 - val_accuracy: 0.8797 - lr: 8.5714e-04\n",
      "Epoch 60/70\n",
      "781/781 [==============================] - 28s 36ms/step - loss: 0.1616 - accuracy: 0.9437 - val_loss: 0.3829 - val_accuracy: 0.8824 - lr: 7.8571e-04\n",
      "Epoch 61/70\n",
      "781/781 [==============================] - 28s 35ms/step - loss: 0.1551 - accuracy: 0.9464 - val_loss: 0.3866 - val_accuracy: 0.8813 - lr: 7.1429e-04\n",
      "Epoch 62/70\n",
      "781/781 [==============================] - 28s 36ms/step - loss: 0.1528 - accuracy: 0.9470 - val_loss: 0.3680 - val_accuracy: 0.8859 - lr: 6.4286e-04\n",
      "Epoch 63/70\n",
      "781/781 [==============================] - 28s 36ms/step - loss: 0.1514 - accuracy: 0.9473 - val_loss: 0.3720 - val_accuracy: 0.8862 - lr: 5.7143e-04\n",
      "Epoch 64/70\n",
      "781/781 [==============================] - 28s 35ms/step - loss: 0.1463 - accuracy: 0.9496 - val_loss: 0.4669 - val_accuracy: 0.8690 - lr: 5.0000e-04\n",
      "Epoch 65/70\n",
      "781/781 [==============================] - 28s 36ms/step - loss: 0.1427 - accuracy: 0.9502 - val_loss: 0.3572 - val_accuracy: 0.8912 - lr: 4.2857e-04\n",
      "Epoch 66/70\n",
      "781/781 [==============================] - 28s 36ms/step - loss: 0.1404 - accuracy: 0.9517 - val_loss: 0.3791 - val_accuracy: 0.8856 - lr: 3.5714e-04\n",
      "Epoch 67/70\n",
      "781/781 [==============================] - 28s 36ms/step - loss: 0.1341 - accuracy: 0.9536 - val_loss: 0.3652 - val_accuracy: 0.8893 - lr: 2.8571e-04\n",
      "Epoch 68/70\n",
      "781/781 [==============================] - 28s 36ms/step - loss: 0.1308 - accuracy: 0.9544 - val_loss: 0.3669 - val_accuracy: 0.8890 - lr: 2.1429e-04\n",
      "Epoch 69/70\n",
      "781/781 [==============================] - 28s 35ms/step - loss: 0.1309 - accuracy: 0.9543 - val_loss: 0.3665 - val_accuracy: 0.8906 - lr: 1.4286e-04\n",
      "Epoch 70/70\n",
      "781/781 [==============================] - 28s 36ms/step - loss: 0.1315 - accuracy: 0.9541 - val_loss: 0.3614 - val_accuracy: 0.8902 - lr: 7.1429e-05\n",
      "[INFO] serializing the model......\n"
     ]
    },
    {
     "output_type": "stream",
     "name": "stderr",
     "text": [
      "WARNING:absl:Found untraced functions such as _jit_compiled_convolution_op, _jit_compiled_convolution_op, _jit_compiled_convolution_op, _jit_compiled_convolution_op, _jit_compiled_convolution_op while saving (showing 5 of 15). These functions will not be directly callable after loading.\n"
     ]
    }
   ],
   "source": [
    "# train the network\n",
    "print(f\"[INFO] training the network......\")\n",
    "model.fit_generator(aug.flow(trainx, trainy, batch_size=64),\n",
    "                    validation_data=(testx, testy),\n",
    "                    steps_per_epoch=len(trainx) // 64,\n",
    "                    epochs=TOTAL_EPOCHS,\n",
    "                    callbacks=callbacks,\n",
    "                    verbose=1)\n",
    "# saving the model\n",
    "print(f\"[INFO] serializing the model......\")\n",
    "model.save(model_output_path)"
   ],
   "metadata": {
    "colab": {
     "base_uri": "https://localhost:8080/"
    },
    "id": "4RGZviI6Q2Mc",
    "outputId": "bc9fc6ee-d779-474b-b462-ed43ffb2480a"
   }
  },
  {
   "cell_type": "code",
   "execution_count": null,
   "outputs": [],
   "source": [],
   "metadata": {
    "id": "Z4umEajXQ2Mf"
   }
  }
 ],
 "metadata": {
  "kernelspec": {
   "display_name": "Python 3",
   "language": "python",
   "name": "python3"
  },
  "language_info": {
   "codemirror_mode": {
    "name": "ipython",
    "version": 2
   },
   "file_extension": ".py",
   "mimetype": "text/x-python",
   "name": "python",
   "nbconvert_exporter": "python",
   "pygments_lexer": "ipython2",
   "version": "2.7.6"
  },
  "colab": {
   "provenance": [],
   "machine_shape": "hm"
  },
  "accelerator": "GPU",
  "gpuClass": "premium"
 },
 "nbformat": 4,
 "nbformat_minor": 0
}
