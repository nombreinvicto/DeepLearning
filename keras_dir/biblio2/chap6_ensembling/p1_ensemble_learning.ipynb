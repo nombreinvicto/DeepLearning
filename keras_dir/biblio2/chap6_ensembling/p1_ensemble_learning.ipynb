{
 "cells": [
  {
   "cell_type": "code",
   "execution_count": null,
   "outputs": [],
   "source": [
    "# %%\n",
    "import numpy as np\n",
    "import pandas as pd\n",
    "import seaborn as sns\n",
    "import matplotlib.pyplot as plt"
   ],
   "metadata": {
    "collapsed": false,
    "pycharm": {
     "name": "#%%\n"
    }
   }
  },
  {
   "cell_type": "code",
   "execution_count": null,
   "outputs": [],
   "source": [
    "# import the necessary packages\n",
    "from sklearn.preprocessing import LabelBinarizer\n",
    "from sklearn.metrics import classification_report\n",
    "from loader_util.nn.conv import FCHeadNet, MinVGGNet\n",
    "##\n",
    "from tensorflow.keras.preprocessing.image import ImageDataGenerator\n",
    "from tensorflow.keras.optimizers import RMSprop, SGD\n",
    "from tensorflow.keras.datasets import cifar10"
   ],
   "metadata": {
    "collapsed": false,
    "pycharm": {
     "name": "#%%\n"
    }
   }
  },
  {
   "cell_type": "code",
   "execution_count": null,
   "outputs": [],
   "source": [
    "# construct the argument parser\n",
    "\n",
    "data_dir = r\"C:\\Users\\mhasa\\Google Drive\\Tutorial Corner\\PYTH\\DeepLearning\\DeepLearning-DL4CV\\ImageDatasets\\biblio2chap6\"\n",
    "args_dict = {\n",
    "    \"output\": f\"{data_dir}//outputs\",\n",
    "    \"models\": f\"{data_dir}//models\",\n",
    "    \"num_models\": 5\n",
    "}"
   ],
   "metadata": {
    "collapsed": false,
    "pycharm": {
     "name": "#%%\n"
    }
   }
  },
  {
   "cell_type": "code",
   "execution_count": null,
   "outputs": [],
   "source": [
    "(trainx, trainy), (testx, testy) = cifar10.load_data()\n",
    "trainx = trainx.astype(\"float32\") / 255.0\n",
    "testx = testx.astype(\"float32\") / 255.0\n",
    "\n",
    "# binarise the labels\n",
    "le = LabelBinarizer()\n",
    "trainy = le.fit_transform(trainy)\n",
    "testy = le.transform(testy)\n",
    "\n",
    "class_names = [\"airplane\", \"automobile\", \"bird\", \"cat\", \"deer\", \"dog\", \"frog\",\n",
    "               \"horse\", \"ship\", \"truck\"]"
   ],
   "metadata": {
    "collapsed": false,
    "pycharm": {
     "name": "#%%\n"
    }
   }
  },
  {
   "cell_type": "code",
   "execution_count": null,
   "outputs": [],
   "source": [
    "# construct the image generator\n",
    "aug = ImageDataGenerator(rotation_range=30,\n",
    "                         width_shift_range=0.1,\n",
    "                         height_shift_range=0.1,\n",
    "                         horizontal_flip=True,\n",
    "                         fill_mode='nearest')"
   ],
   "metadata": {
    "collapsed": false,
    "pycharm": {
     "name": "#%%\n"
    }
   }
  },
  {
   "cell_type": "code",
   "execution_count": null,
   "outputs": [],
   "source": [
    "epoch_num = 40\n",
    "batch_size = 64\n",
    "# loop over the no of models to be trained\n",
    "for model_no in range(args_dict[\"num_models\"]):\n",
    "    print(f\"[INFO] Initialising model {model_no + 1}\"\n",
    "          f\"/{args_dict['num_models']}\")\n",
    "    opt = SGD(lr=0.01, decay=0.01 / epoch_num, momentum=0.9, nesterov=True)\n",
    "    model = MinVGGNet.build(32, 32, 3, classes=len(class_names))\n",
    "    model.compile(loss=\"categorical_crossentropy\",\n",
    "                  optimizer=opt,\n",
    "                  metrics=[\"accuracy\"])\n",
    "    # trian the network\n",
    "    print(f\"[INFO] Starting training of model: {model_no + 1}\")\n",
    "    H = model.fit_generator(aug.flow(trainx, trainy, batch_size=batch_size),\n",
    "                            validation_data=(testx, testy),\n",
    "                            epochs=epoch_num,\n",
    "                            steps_per_epoch=len(trainx) // batch_size,\n",
    "                            verbose=1)\n",
    "    print(f\"[INFO] Training complete......\")\n",
    "\n",
    "    # save the model\n",
    "    model.save(filepath=f'{args_dict[\"models\"]}//model{model_no}.pt')\n",
    "\n",
    "    # evaluate network\n",
    "    preds = model.predict(testx, batch_size=batch_size)\n",
    "    report = classification_report(testy.argmax(axis=1),\n",
    "                                   preds.argmax(axis=1),\n",
    "                                   target_names=class_names)\n",
    "\n",
    "    # save report\n",
    "    f = open(f'{args_dict[\"output\"]}//report{model_no}.txt', mode=\"w\")\n",
    "    f.write(report)\n",
    "    f.close()\n",
    "\n",
    "\n",
    "    # plot loss accuracy and then save\n",
    "    # plot the performance\n",
    "    epochs = range(1, epoch_num)\n",
    "    loss = H.history['loss']\n",
    "    accuracy = H.history['acc']\n",
    "    val_loss = H.history['val_loss']\n",
    "    val_accuracy = H.history['val_acc']\n",
    "    plot_df = pd.DataFrame(\n",
    "        data=np.c_[epochs, loss, accuracy, val_loss, val_accuracy],\n",
    "        columns=['epochs', 'loss', 'accuracy', 'val_loss', 'val_accuracy'])\n",
    "\n",
    "    # do the actual plots\n",
    "    sns.set(font_scale=1)\n",
    "    f, ax = plt.subplots(1, 1, figsize=(15, 8))\n",
    "    sns.lineplot(data=plot_df, x='epochs', y='loss', ax=ax, label='train loss',\n",
    "                 linewidth=3)\n",
    "    sns.lineplot(data=plot_df, x='epochs', y='accuracy', ax=ax,\n",
    "                 label='train accuracy', linewidth=3)\n",
    "    sns.lineplot(data=plot_df, x='epochs', y='val_loss', ax=ax,\n",
    "                 label='val loss', linewidth=3)\n",
    "    sns.lineplot(data=plot_df, x='epochs', y='val_accuracy', ax=ax,\n",
    "                 label='val_accuracy', linewidth=3)\n",
    "    ax.set_ylabel('Loss or Accuracy')\n",
    "    ax.set_xlabel('Epochs')\n",
    "    plt.setp(ax.get_legend().get_texts(), fontsize='18');  # for legend text\n",
    "    plt.savefig(f'{args_dict[\"output\"]}//model{model_no}_plot.png')\n",
    "    plt.close()"
   ],
   "metadata": {
    "collapsed": false,
    "pycharm": {
     "name": "#%%\n"
    }
   }
  }
 ],
 "metadata": {
  "kernelspec": {
   "display_name": "Python 3",
   "language": "python",
   "name": "python3"
  },
  "language_info": {
   "codemirror_mode": {
    "name": "ipython",
    "version": 2
   },
   "file_extension": ".py",
   "mimetype": "text/x-python",
   "name": "python",
   "nbconvert_exporter": "python",
   "pygments_lexer": "ipython2",
   "version": "2.7.6"
  }
 },
 "nbformat": 4,
 "nbformat_minor": 0
}