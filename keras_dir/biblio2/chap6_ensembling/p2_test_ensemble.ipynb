{
 "cells": [
  {
   "cell_type": "code",
   "execution_count": 1,
   "metadata": {
    "pycharm": {
     "name": "#%%\n"
    }
   },
   "outputs": [],
   "source": [
    "import sys\n",
    "sys.path.extend([\"/home/mhasan3/Desktop/WorkFolder/\"])"
   ]
  },
  {
   "cell_type": "code",
   "execution_count": 2,
   "metadata": {},
   "outputs": [],
   "source": [
    "from sklearn.preprocessing import LabelBinarizer\n",
    "from sklearn.metrics import classification_report\n",
    "from tensorflow.keras.models import load_model, Model\n",
    "from tensorflow.keras.datasets import cifar10\n",
    "import numpy as np\n",
    "import os, glob"
   ]
  },
  {
   "cell_type": "code",
   "execution_count": 3,
   "metadata": {
    "pycharm": {
     "name": "#%%\n"
    }
   },
   "outputs": [],
   "source": [
    "args = {\n",
    "    \"models\" : r\"/home/mhasan3/Desktop/WorkFolder/keras_dir/biblio2/chap6_ensembling/models/\"\n",
    "}"
   ]
  },
  {
   "cell_type": "code",
   "execution_count": 4,
   "metadata": {
    "pycharm": {
     "name": "#%%\n"
    }
   },
   "outputs": [],
   "source": [
    "testx, testy = cifar10.load_data()[1]\n",
    "testx = testx.astype('float') / 255.0\n",
    "\n",
    "# init the labels names\n",
    "unique_class_names = [\"airplane\", \"automobile\", \"bird\", \"cat\", \"deer\", \"dog\",\n",
    "                \"frog\", \"horse\", \"ship\", \"truck\"]\n",
    "\n",
    "# encode the labels\n",
    "lb = LabelBinarizer()\n",
    "testy = lb.fit_transform(testy)"
   ]
  },
  {
   "cell_type": "code",
   "execution_count": 5,
   "metadata": {
    "pycharm": {
     "name": "#%%\n"
    }
   },
   "outputs": [
    {
     "name": "stdout",
     "output_type": "stream",
     "text": [
      "[INFO] loading model 1/5.....\n",
      "WARNING:tensorflow:From /usr/local/lib/python3.6/dist-packages/tensorflow/python/ops/resource_variable_ops.py:435: colocate_with (from tensorflow.python.framework.ops) is deprecated and will be removed in a future version.\n",
      "Instructions for updating:\n",
      "Colocations handled automatically by placer.\n",
      "WARNING:tensorflow:From /usr/local/lib/python3.6/dist-packages/tensorflow/python/keras/layers/core.py:143: calling dropout (from tensorflow.python.ops.nn_ops) with keep_prob is deprecated and will be removed in a future version.\n",
      "Instructions for updating:\n",
      "Please use `rate` instead of `keep_prob`. Rate should be set to `rate = 1 - keep_prob`.\n",
      "WARNING:tensorflow:From /usr/local/lib/python3.6/dist-packages/tensorflow/python/ops/math_ops.py:3066: to_int32 (from tensorflow.python.ops.math_ops) is deprecated and will be removed in a future version.\n",
      "Instructions for updating:\n",
      "Use tf.cast instead.\n",
      "[INFO] loading model 2/5.....\n",
      "[INFO] loading model 3/5.....\n",
      "[INFO] loading model 4/5.....\n",
      "[INFO] loading model 5/5.....\n"
     ]
    }
   ],
   "source": [
    "# construct the path to models\n",
    "model_paths = os.path.join(args[\"models\"], \"*.hdf5\")\n",
    "model_paths = list(glob.glob(model_paths))\n",
    "models = []\n",
    "\n",
    "# loop over model paths\n",
    "for i, model_path in enumerate(model_paths):\n",
    "    print(f'[INFO] loading model {i+1}/{len(model_paths)}.....')\n",
    "    models.append(load_model(model_path))"
   ]
  },
  {
   "cell_type": "code",
   "execution_count": 6,
   "metadata": {
    "pycharm": {
     "name": "#%%\n"
    }
   },
   "outputs": [
    {
     "name": "stdout",
     "output_type": "stream",
     "text": [
      "[INFO] evaluating the ensembles.....\n",
      "              precision    recall  f1-score   support\n",
      "\n",
      "    airplane       0.85      0.93      0.88      1000\n",
      "  automobile       0.92      0.96      0.94      1000\n",
      "        bird       0.85      0.81      0.83      1000\n",
      "         cat       0.81      0.72      0.76      1000\n",
      "        deer       0.90      0.82      0.86      1000\n",
      "         dog       0.93      0.69      0.80      1000\n",
      "        frog       0.75      0.97      0.85      1000\n",
      "       horse       0.90      0.93      0.92      1000\n",
      "        ship       0.93      0.94      0.93      1000\n",
      "       truck       0.92      0.92      0.92      1000\n",
      "\n",
      "    accuracy                           0.87     10000\n",
      "   macro avg       0.88      0.87      0.87     10000\n",
      "weighted avg       0.88      0.87      0.87     10000\n",
      "\n"
     ]
    }
   ],
   "source": [
    "# initialise the list of predictions\n",
    "print(f'[INFO] evaluating the ensembles.....')\n",
    "preds = []\n",
    "\n",
    "# loop over the models\n",
    "model : Model\n",
    "for model in models:\n",
    "    preds.append(model.predict(testx, batch_size=64))\n",
    "\n",
    "preds = np.average(preds, axis=0)\n",
    "\n",
    "# evaluate the network\n",
    "print (classification_report(testy.argmax(axis=1 ),\n",
    "preds.argmax(axis=1 ), target_names=unique_class_names))"
   ]
  },
  {
   "cell_type": "code",
   "execution_count": null,
   "metadata": {
    "pycharm": {
     "name": "#%%\n"
    }
   },
   "outputs": [],
   "source": []
  }
 ],
 "metadata": {
  "kernelspec": {
   "display_name": "Python 3",
   "language": "python",
   "name": "python3"
  },
  "language_info": {
   "codemirror_mode": {
    "name": "ipython",
    "version": 3
   },
   "file_extension": ".py",
   "mimetype": "text/x-python",
   "name": "python",
   "nbconvert_exporter": "python",
   "pygments_lexer": "ipython3",
   "version": "3.6.7"
  }
 },
 "nbformat": 4,
 "nbformat_minor": 1
}
