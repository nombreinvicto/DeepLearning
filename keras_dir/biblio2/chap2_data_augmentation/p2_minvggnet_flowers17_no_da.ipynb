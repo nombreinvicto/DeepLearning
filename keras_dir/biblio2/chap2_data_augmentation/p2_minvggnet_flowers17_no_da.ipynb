{
 "cells": [
  {
   "cell_type": "code",
   "execution_count": null,
   "metadata": {},
   "outputs": [],
   "source": [
    "!pip3 install -U pip\n",
    "!pip3 install opencv-python"
   ]
  },
  {
   "cell_type": "code",
   "execution_count": 4,
   "metadata": {},
   "outputs": [],
   "source": [
    "import sys\n",
    "sys.path.append('/home/mhasan3/Desktop/WorkFolder')"
   ]
  },
  {
   "cell_type": "code",
   "execution_count": 17,
   "metadata": {
    "pycharm": {
     "name": "#%%\n"
    }
   },
   "outputs": [],
   "source": [
    "# import the necessary keras packages\n",
    "from sklearn.preprocessing import LabelBinarizer\n",
    "from sklearn.model_selection import train_test_split\n",
    "from sklearn.metrics import classification_report\n",
    "from loader_util.preprocessing import ImageToArrayPreprocessor, \\\n",
    "    AspectAwarePreprocessor\n",
    "from loader_util.datasets import SimpleDatasetLoader\n",
    "from loader_util.nn.conv import FCHeadNet, MinVGGNet\n",
    "##\n",
    "from tensorflow.keras.optimizers import RMSprop, SGD\n",
    "import matplotlib.pyplot as plt\n",
    "from imutils import paths\n",
    "import seaborn as sns\n",
    "import pandas as pd\n",
    "import numpy as np\n",
    "import os"
   ]
  },
  {
   "cell_type": "code",
   "execution_count": 11,
   "metadata": {
    "pycharm": {
     "name": "#%%\n"
    }
   },
   "outputs": [
    {
     "name": "stdout",
     "output_type": "stream",
     "text": [
      "[INFO] loading 1360 images.....\n"
     ]
    }
   ],
   "source": [
    "data_dir = r'/home/mhasan3/Desktop/WorkFolder/keras_dir/biblio2/chap2_data_augmentation/flowers17/images/'\n",
    "\n",
    "# grab the list of images\n",
    "\n",
    "image_paths = list(paths.list_images(data_dir))\n",
    "class_names = [pt.split(os.path.sep)[-2] for pt in image_paths]\n",
    "unique_class_names = np.unique(class_names)\n",
    "total_classes = len(unique_class_names)\n",
    "print(f'[INFO] loading {len(image_paths)} images.....')"
   ]
  },
  {
   "cell_type": "code",
   "execution_count": 12,
   "metadata": {
    "pycharm": {
     "name": "#%%\n"
    }
   },
   "outputs": [
    {
     "name": "stdout",
     "output_type": "stream",
     "text": [
      "[INFO] processed 500/1360\n",
      "[INFO] processed 1000/1360\n"
     ]
    }
   ],
   "source": [
    "# initialise the preprocessors\n",
    "aap = AspectAwarePreprocessor(width=64, height=64)\n",
    "iap = ImageToArrayPreprocessor()\n",
    "\n",
    "# load the dataset from disk and then scale raw pixels to [0-1]\n",
    "sdl = SimpleDatasetLoader(preprocessors=[aap, iap])\n",
    "data, labels = sdl.load(image_paths,\n",
    "                        verbose=500)  # type: np.ndarray, np.ndarray\n",
    "data = data.astype('float') / 255.0"
   ]
  },
  {
   "cell_type": "code",
   "execution_count": 13,
   "metadata": {
    "pycharm": {
     "name": "#%%\n"
    }
   },
   "outputs": [
    {
     "name": "stdout",
     "output_type": "stream",
     "text": [
      "[INFO] compiling model.....\n",
      "WARNING:tensorflow:From /usr/local/lib/python3.6/dist-packages/tensorflow/python/ops/resource_variable_ops.py:435: colocate_with (from tensorflow.python.framework.ops) is deprecated and will be removed in a future version.\n",
      "Instructions for updating:\n",
      "Colocations handled automatically by placer.\n",
      "WARNING:tensorflow:From /usr/local/lib/python3.6/dist-packages/tensorflow/python/keras/layers/core.py:143: calling dropout (from tensorflow.python.ops.nn_ops) with keep_prob is deprecated and will be removed in a future version.\n",
      "Instructions for updating:\n",
      "Please use `rate` instead of `keep_prob`. Rate should be set to `rate = 1 - keep_prob`.\n"
     ]
    }
   ],
   "source": [
    "# partition data into train and test splits\n",
    "trainx, testx, trainy, testy = train_test_split(data,\n",
    "                                                labels,\n",
    "                                                test_size=0.25,\n",
    "                                                random_state=42)\n",
    "# convert labels to nos\n",
    "lb = LabelBinarizer()\n",
    "trainy = lb.fit_transform(trainy)\n",
    "testy = lb.transform(testy)\n",
    "# %%\n",
    "\n",
    "# init the optimizer and model\n",
    "print(f'[INFO] compiling model.....')\n",
    "opt = SGD(lr=0.05)\n",
    "model = MinVGGNet.build(width=64,\n",
    "                        height=64,\n",
    "                        depth=3,\n",
    "                        classes=total_classes)\n",
    "\n",
    "model.compile(loss=\"categorical_crossentropy\",\n",
    "              optimizer=opt,\n",
    "              metrics=[\"accuracy\"])"
   ]
  },
  {
   "cell_type": "code",
   "execution_count": 14,
   "metadata": {
    "pycharm": {
     "name": "#%%\n"
    }
   },
   "outputs": [
    {
     "name": "stdout",
     "output_type": "stream",
     "text": [
      "[INFO] training network.....\n",
      "Train on 1020 samples, validate on 340 samples\n",
      "WARNING:tensorflow:From /usr/local/lib/python3.6/dist-packages/tensorflow/python/ops/math_ops.py:3066: to_int32 (from tensorflow.python.ops.math_ops) is deprecated and will be removed in a future version.\n",
      "Instructions for updating:\n",
      "Use tf.cast instead.\n",
      "Epoch 1/100\n",
      "1020/1020 [==============================] - 13s 12ms/sample - loss: 3.0653 - acc: 0.2392 - val_loss: 5.1733 - val_acc: 0.1206\n",
      "Epoch 2/100\n",
      "1020/1020 [==============================] - 1s 633us/sample - loss: 1.8613 - acc: 0.4529 - val_loss: 2.6498 - val_acc: 0.1559\n",
      "Epoch 3/100\n",
      "1020/1020 [==============================] - 1s 637us/sample - loss: 1.3634 - acc: 0.5647 - val_loss: 2.5698 - val_acc: 0.2294\n",
      "Epoch 4/100\n",
      "1020/1020 [==============================] - 1s 638us/sample - loss: 1.0865 - acc: 0.6549 - val_loss: 2.3782 - val_acc: 0.2147\n",
      "Epoch 5/100\n",
      "1020/1020 [==============================] - 1s 639us/sample - loss: 0.7783 - acc: 0.7490 - val_loss: 2.4064 - val_acc: 0.2412\n",
      "Epoch 6/100\n",
      "1020/1020 [==============================] - 1s 640us/sample - loss: 0.6375 - acc: 0.7922 - val_loss: 2.0712 - val_acc: 0.3647\n",
      "Epoch 7/100\n",
      "1020/1020 [==============================] - 1s 656us/sample - loss: 0.5700 - acc: 0.8088 - val_loss: 2.1396 - val_acc: 0.3588\n",
      "Epoch 8/100\n",
      "1020/1020 [==============================] - 1s 648us/sample - loss: 0.3896 - acc: 0.8745 - val_loss: 1.5634 - val_acc: 0.4941\n",
      "Epoch 9/100\n",
      "1020/1020 [==============================] - 1s 645us/sample - loss: 0.2850 - acc: 0.9078 - val_loss: 1.6792 - val_acc: 0.4706\n",
      "Epoch 10/100\n",
      "1020/1020 [==============================] - 1s 667us/sample - loss: 0.2213 - acc: 0.9373 - val_loss: 1.5375 - val_acc: 0.5088\n",
      "Epoch 11/100\n",
      "1020/1020 [==============================] - 1s 692us/sample - loss: 0.1945 - acc: 0.9392 - val_loss: 1.4945 - val_acc: 0.5588\n",
      "Epoch 12/100\n",
      "1020/1020 [==============================] - 1s 668us/sample - loss: 0.1634 - acc: 0.9510 - val_loss: 1.8357 - val_acc: 0.4882\n",
      "Epoch 13/100\n",
      "1020/1020 [==============================] - 1s 793us/sample - loss: 0.1009 - acc: 0.9735 - val_loss: 1.5265 - val_acc: 0.5706\n",
      "Epoch 14/100\n",
      "1020/1020 [==============================] - 1s 710us/sample - loss: 0.1405 - acc: 0.9598 - val_loss: 1.7412 - val_acc: 0.5647\n",
      "Epoch 15/100\n",
      "1020/1020 [==============================] - 1s 665us/sample - loss: 0.0924 - acc: 0.9755 - val_loss: 1.5907 - val_acc: 0.5588\n",
      "Epoch 16/100\n",
      "1020/1020 [==============================] - 1s 649us/sample - loss: 0.0615 - acc: 0.9882 - val_loss: 1.6189 - val_acc: 0.5882\n",
      "Epoch 17/100\n",
      "1020/1020 [==============================] - 1s 658us/sample - loss: 0.0478 - acc: 0.9912 - val_loss: 1.5543 - val_acc: 0.5882\n",
      "Epoch 18/100\n",
      "1020/1020 [==============================] - 1s 661us/sample - loss: 0.0518 - acc: 0.9882 - val_loss: 1.5623 - val_acc: 0.6000\n",
      "Epoch 19/100\n",
      "1020/1020 [==============================] - 1s 662us/sample - loss: 0.0418 - acc: 0.9941 - val_loss: 1.6705 - val_acc: 0.5765\n",
      "Epoch 20/100\n",
      "1020/1020 [==============================] - 1s 648us/sample - loss: 0.0345 - acc: 0.9951 - val_loss: 1.6372 - val_acc: 0.5882\n",
      "Epoch 21/100\n",
      "1020/1020 [==============================] - 1s 678us/sample - loss: 0.0364 - acc: 0.9961 - val_loss: 1.6821 - val_acc: 0.5618\n",
      "Epoch 22/100\n",
      "1020/1020 [==============================] - 1s 692us/sample - loss: 0.0444 - acc: 0.9882 - val_loss: 1.7223 - val_acc: 0.5588\n",
      "Epoch 23/100\n",
      "1020/1020 [==============================] - 1s 688us/sample - loss: 0.0358 - acc: 0.9931 - val_loss: 1.8320 - val_acc: 0.5412\n",
      "Epoch 24/100\n",
      "1020/1020 [==============================] - 1s 667us/sample - loss: 0.0275 - acc: 0.9971 - val_loss: 1.5991 - val_acc: 0.5941\n",
      "Epoch 25/100\n",
      "1020/1020 [==============================] - 1s 661us/sample - loss: 0.0332 - acc: 0.9922 - val_loss: 1.7175 - val_acc: 0.5912\n",
      "Epoch 26/100\n",
      "1020/1020 [==============================] - 1s 741us/sample - loss: 0.0253 - acc: 0.9931 - val_loss: 1.7296 - val_acc: 0.5941\n",
      "Epoch 27/100\n",
      "1020/1020 [==============================] - 1s 761us/sample - loss: 0.0190 - acc: 0.9990 - val_loss: 1.6959 - val_acc: 0.6000\n",
      "Epoch 28/100\n",
      "1020/1020 [==============================] - 1s 691us/sample - loss: 0.0308 - acc: 0.9922 - val_loss: 1.6859 - val_acc: 0.5765\n",
      "Epoch 29/100\n",
      "1020/1020 [==============================] - 1s 725us/sample - loss: 0.0210 - acc: 0.9980 - val_loss: 1.6355 - val_acc: 0.5912\n",
      "Epoch 30/100\n",
      "1020/1020 [==============================] - 1s 691us/sample - loss: 0.0204 - acc: 0.9951 - val_loss: 1.6821 - val_acc: 0.6088\n",
      "Epoch 31/100\n",
      "1020/1020 [==============================] - 1s 670us/sample - loss: 0.0103 - acc: 1.0000 - val_loss: 1.7039 - val_acc: 0.5765\n",
      "Epoch 32/100\n",
      "1020/1020 [==============================] - 1s 673us/sample - loss: 0.0215 - acc: 0.9941 - val_loss: 1.6442 - val_acc: 0.6059\n",
      "Epoch 33/100\n",
      "1020/1020 [==============================] - 1s 677us/sample - loss: 0.0158 - acc: 0.9980 - val_loss: 1.7278 - val_acc: 0.5706\n",
      "Epoch 34/100\n",
      "1020/1020 [==============================] - 1s 682us/sample - loss: 0.0145 - acc: 0.9990 - val_loss: 1.6880 - val_acc: 0.5765\n",
      "Epoch 35/100\n",
      "1020/1020 [==============================] - 1s 661us/sample - loss: 0.0093 - acc: 1.0000 - val_loss: 1.6801 - val_acc: 0.5735\n",
      "Epoch 36/100\n",
      "1020/1020 [==============================] - 1s 670us/sample - loss: 0.0099 - acc: 1.0000 - val_loss: 1.7271 - val_acc: 0.5676\n",
      "Epoch 37/100\n",
      "1020/1020 [==============================] - 1s 667us/sample - loss: 0.0110 - acc: 0.9990 - val_loss: 1.7353 - val_acc: 0.5676\n",
      "Epoch 38/100\n",
      "1020/1020 [==============================] - 1s 684us/sample - loss: 0.0114 - acc: 0.9980 - val_loss: 1.7723 - val_acc: 0.5765\n",
      "Epoch 39/100\n",
      "1020/1020 [==============================] - 1s 701us/sample - loss: 0.0134 - acc: 0.9951 - val_loss: 1.8041 - val_acc: 0.5912\n",
      "Epoch 40/100\n",
      "1020/1020 [==============================] - 1s 756us/sample - loss: 0.0072 - acc: 1.0000 - val_loss: 1.7793 - val_acc: 0.5824\n",
      "Epoch 41/100\n",
      "1020/1020 [==============================] - 1s 751us/sample - loss: 0.0123 - acc: 0.9971 - val_loss: 1.7430 - val_acc: 0.6088\n",
      "Epoch 42/100\n",
      "1020/1020 [==============================] - ETA: 0s - loss: 0.0073 - acc: 1.000 - 1s 678us/sample - loss: 0.0073 - acc: 1.0000 - val_loss: 1.7379 - val_acc: 0.6147\n",
      "Epoch 43/100\n",
      "1020/1020 [==============================] - 1s 712us/sample - loss: 0.0069 - acc: 0.9990 - val_loss: 1.7047 - val_acc: 0.5971\n",
      "Epoch 44/100\n",
      "1020/1020 [==============================] - 1s 682us/sample - loss: 0.0082 - acc: 0.9990 - val_loss: 1.7364 - val_acc: 0.6059\n",
      "Epoch 45/100\n",
      "1020/1020 [==============================] - 1s 681us/sample - loss: 0.0070 - acc: 0.9980 - val_loss: 1.7975 - val_acc: 0.6029\n",
      "Epoch 46/100\n",
      "1020/1020 [==============================] - 1s 689us/sample - loss: 0.0117 - acc: 0.9980 - val_loss: 1.8658 - val_acc: 0.5824\n",
      "Epoch 47/100\n",
      "1020/1020 [==============================] - 1s 710us/sample - loss: 0.0097 - acc: 0.9980 - val_loss: 1.7507 - val_acc: 0.6118\n",
      "Epoch 48/100\n",
      "1020/1020 [==============================] - 1s 706us/sample - loss: 0.0113 - acc: 0.9980 - val_loss: 1.7238 - val_acc: 0.6029\n",
      "Epoch 49/100\n",
      "1020/1020 [==============================] - 1s 718us/sample - loss: 0.0126 - acc: 0.9980 - val_loss: 1.8318 - val_acc: 0.5941\n",
      "Epoch 50/100\n",
      "1020/1020 [==============================] - 1s 673us/sample - loss: 0.0079 - acc: 0.9990 - val_loss: 1.8228 - val_acc: 0.5971\n",
      "Epoch 51/100\n",
      "1020/1020 [==============================] - 1s 701us/sample - loss: 0.0071 - acc: 0.9990 - val_loss: 1.8076 - val_acc: 0.5824\n",
      "Epoch 52/100\n",
      "1020/1020 [==============================] - 1s 685us/sample - loss: 0.0067 - acc: 0.9990 - val_loss: 1.8610 - val_acc: 0.5882\n",
      "Epoch 53/100\n",
      "1020/1020 [==============================] - 1s 737us/sample - loss: 0.0094 - acc: 0.9990 - val_loss: 1.8298 - val_acc: 0.5853\n",
      "Epoch 54/100\n",
      "1020/1020 [==============================] - 1s 721us/sample - loss: 0.0071 - acc: 0.9990 - val_loss: 1.8055 - val_acc: 0.6029\n",
      "Epoch 55/100\n",
      "1020/1020 [==============================] - 1s 670us/sample - loss: 0.0064 - acc: 1.0000 - val_loss: 1.8311 - val_acc: 0.6000\n",
      "Epoch 56/100\n",
      "1020/1020 [==============================] - 1s 673us/sample - loss: 0.0061 - acc: 1.0000 - val_loss: 1.8274 - val_acc: 0.5912\n"
     ]
    },
    {
     "name": "stdout",
     "output_type": "stream",
     "text": [
      "Epoch 57/100\n",
      "1020/1020 [==============================] - 1s 675us/sample - loss: 0.0057 - acc: 1.0000 - val_loss: 1.8405 - val_acc: 0.5882\n",
      "Epoch 58/100\n",
      "1020/1020 [==============================] - 1s 732us/sample - loss: 0.0051 - acc: 0.9990 - val_loss: 1.8561 - val_acc: 0.5794\n",
      "Epoch 59/100\n",
      "1020/1020 [==============================] - 1s 716us/sample - loss: 0.0056 - acc: 0.9990 - val_loss: 1.8299 - val_acc: 0.5882\n",
      "Epoch 60/100\n",
      "1020/1020 [==============================] - 1s 701us/sample - loss: 0.0037 - acc: 1.0000 - val_loss: 1.8295 - val_acc: 0.5853\n",
      "Epoch 61/100\n",
      "1020/1020 [==============================] - 1s 685us/sample - loss: 0.0048 - acc: 0.9990 - val_loss: 1.9235 - val_acc: 0.5794\n",
      "Epoch 62/100\n",
      "1020/1020 [==============================] - 1s 684us/sample - loss: 0.0044 - acc: 1.0000 - val_loss: 1.8845 - val_acc: 0.5824\n",
      "Epoch 63/100\n",
      "1020/1020 [==============================] - 1s 679us/sample - loss: 0.0050 - acc: 1.0000 - val_loss: 1.8424 - val_acc: 0.5941\n",
      "Epoch 64/100\n",
      "1020/1020 [==============================] - 1s 672us/sample - loss: 0.0042 - acc: 1.0000 - val_loss: 1.8443 - val_acc: 0.5912\n",
      "Epoch 65/100\n",
      "1020/1020 [==============================] - 1s 666us/sample - loss: 0.0048 - acc: 1.0000 - val_loss: 1.8581 - val_acc: 0.5971\n",
      "Epoch 66/100\n",
      "1020/1020 [==============================] - 1s 714us/sample - loss: 0.0032 - acc: 1.0000 - val_loss: 1.8747 - val_acc: 0.5941\n",
      "Epoch 67/100\n",
      "1020/1020 [==============================] - 1s 673us/sample - loss: 0.0047 - acc: 1.0000 - val_loss: 1.8093 - val_acc: 0.6000\n",
      "Epoch 68/100\n",
      "1020/1020 [==============================] - 1s 682us/sample - loss: 0.0033 - acc: 1.0000 - val_loss: 1.8088 - val_acc: 0.5941\n",
      "Epoch 69/100\n",
      "1020/1020 [==============================] - 1s 699us/sample - loss: 0.0035 - acc: 1.0000 - val_loss: 1.8213 - val_acc: 0.5912\n",
      "Epoch 70/100\n",
      "1020/1020 [==============================] - 1s 676us/sample - loss: 0.0105 - acc: 0.9980 - val_loss: 1.8990 - val_acc: 0.5941\n",
      "Epoch 71/100\n",
      "1020/1020 [==============================] - 1s 675us/sample - loss: 0.0056 - acc: 1.0000 - val_loss: 1.8226 - val_acc: 0.5912\n",
      "Epoch 72/100\n",
      "1020/1020 [==============================] - 1s 693us/sample - loss: 0.0051 - acc: 0.9990 - val_loss: 1.8053 - val_acc: 0.5882\n",
      "Epoch 73/100\n",
      "1020/1020 [==============================] - 1s 668us/sample - loss: 0.0063 - acc: 0.9980 - val_loss: 1.8269 - val_acc: 0.5824\n",
      "Epoch 74/100\n",
      "1020/1020 [==============================] - 1s 668us/sample - loss: 0.0041 - acc: 0.9990 - val_loss: 1.8320 - val_acc: 0.5824\n",
      "Epoch 75/100\n",
      "1020/1020 [==============================] - 1s 809us/sample - loss: 0.0041 - acc: 1.0000 - val_loss: 1.8427 - val_acc: 0.5853\n",
      "Epoch 76/100\n",
      "1020/1020 [==============================] - 1s 715us/sample - loss: 0.0086 - acc: 0.9980 - val_loss: 1.8847 - val_acc: 0.6000\n",
      "Epoch 77/100\n",
      "1020/1020 [==============================] - 1s 666us/sample - loss: 0.0046 - acc: 1.0000 - val_loss: 1.8343 - val_acc: 0.5912\n",
      "Epoch 78/100\n",
      "1020/1020 [==============================] - 1s 707us/sample - loss: 0.0033 - acc: 1.0000 - val_loss: 1.8235 - val_acc: 0.6059\n",
      "Epoch 79/100\n",
      "1020/1020 [==============================] - 1s 732us/sample - loss: 0.0070 - acc: 0.9990 - val_loss: 1.8285 - val_acc: 0.5912\n",
      "Epoch 80/100\n",
      "1020/1020 [==============================] - 1s 714us/sample - loss: 0.0032 - acc: 1.0000 - val_loss: 1.8256 - val_acc: 0.5853\n",
      "Epoch 81/100\n",
      "1020/1020 [==============================] - 1s 674us/sample - loss: 0.0040 - acc: 1.0000 - val_loss: 1.8326 - val_acc: 0.5794\n",
      "Epoch 82/100\n",
      "1020/1020 [==============================] - 1s 675us/sample - loss: 0.0032 - acc: 0.9990 - val_loss: 1.8287 - val_acc: 0.5912\n",
      "Epoch 83/100\n",
      "1020/1020 [==============================] - 1s 675us/sample - loss: 0.0025 - acc: 1.0000 - val_loss: 1.8483 - val_acc: 0.5853\n",
      "Epoch 84/100\n",
      "1020/1020 [==============================] - 1s 675us/sample - loss: 0.0028 - acc: 1.0000 - val_loss: 1.8225 - val_acc: 0.5912\n",
      "Epoch 85/100\n",
      "1020/1020 [==============================] - 1s 680us/sample - loss: 0.0029 - acc: 1.0000 - val_loss: 1.8315 - val_acc: 0.5882\n",
      "Epoch 86/100\n",
      "1020/1020 [==============================] - 1s 671us/sample - loss: 0.0028 - acc: 1.0000 - val_loss: 1.8184 - val_acc: 0.5853\n",
      "Epoch 87/100\n",
      "1020/1020 [==============================] - 1s 672us/sample - loss: 0.0026 - acc: 1.0000 - val_loss: 1.8263 - val_acc: 0.5853\n",
      "Epoch 88/100\n",
      "1020/1020 [==============================] - 1s 665us/sample - loss: 0.0028 - acc: 1.0000 - val_loss: 1.8188 - val_acc: 0.5824\n",
      "Epoch 89/100\n",
      "1020/1020 [==============================] - 1s 722us/sample - loss: 0.0043 - acc: 0.9980 - val_loss: 1.8254 - val_acc: 0.5853\n",
      "Epoch 90/100\n",
      "1020/1020 [==============================] - 1s 691us/sample - loss: 0.0021 - acc: 1.0000 - val_loss: 1.8337 - val_acc: 0.5794\n",
      "Epoch 91/100\n",
      "1020/1020 [==============================] - 1s 697us/sample - loss: 0.0028 - acc: 1.0000 - val_loss: 1.8108 - val_acc: 0.5941\n",
      "Epoch 92/100\n",
      "1020/1020 [==============================] - 1s 656us/sample - loss: 0.0036 - acc: 1.0000 - val_loss: 1.8084 - val_acc: 0.6000\n",
      "Epoch 93/100\n",
      "1020/1020 [==============================] - 1s 663us/sample - loss: 0.0023 - acc: 1.0000 - val_loss: 1.8152 - val_acc: 0.5971\n",
      "Epoch 94/100\n",
      "1020/1020 [==============================] - 1s 656us/sample - loss: 0.0025 - acc: 1.0000 - val_loss: 1.8312 - val_acc: 0.6000\n",
      "Epoch 95/100\n",
      "1020/1020 [==============================] - 1s 667us/sample - loss: 0.0031 - acc: 1.0000 - val_loss: 1.8049 - val_acc: 0.6029\n",
      "Epoch 96/100\n",
      "1020/1020 [==============================] - 1s 695us/sample - loss: 0.0030 - acc: 0.9990 - val_loss: 1.8000 - val_acc: 0.6088\n",
      "Epoch 97/100\n",
      "1020/1020 [==============================] - 1s 777us/sample - loss: 0.0027 - acc: 0.9990 - val_loss: 1.8115 - val_acc: 0.6029\n",
      "Epoch 98/100\n",
      "1020/1020 [==============================] - 1s 675us/sample - loss: 0.0038 - acc: 0.9990 - val_loss: 1.8202 - val_acc: 0.6088\n",
      "Epoch 99/100\n",
      "1020/1020 [==============================] - 1s 663us/sample - loss: 0.0033 - acc: 1.0000 - val_loss: 1.8525 - val_acc: 0.6118\n",
      "Epoch 100/100\n",
      "1020/1020 [==============================] - 1s 677us/sample - loss: 0.0016 - acc: 1.0000 - val_loss: 1.8616 - val_acc: 0.6176\n"
     ]
    }
   ],
   "source": [
    "print(f'[INFO] training network.....')\n",
    "H = model.fit(trainx, trainy, validation_data=(testx, testy),\n",
    "              batch_size=32, epochs=100, verbose=1)\n"
   ]
  },
  {
   "cell_type": "code",
   "execution_count": 15,
   "metadata": {},
   "outputs": [
    {
     "name": "stdout",
     "output_type": "stream",
     "text": [
      "[INFO] evaluating network...\n",
      "              precision    recall  f1-score   support\n",
      "\n",
      "    bluebell       0.62      0.75      0.68        20\n",
      "   buttercup       0.50      0.50      0.50        22\n",
      "   coltsfoot       0.53      0.60      0.56        15\n",
      "     cowslip       0.40      0.30      0.34        20\n",
      "      crocus       0.58      0.61      0.60        23\n",
      "    daffodil       0.44      0.44      0.44        18\n",
      "       daisy       0.89      0.84      0.86        19\n",
      "   dandelion       0.55      0.60      0.57        20\n",
      "  fritillary       0.74      0.70      0.72        20\n",
      "        iris       0.65      0.69      0.67        16\n",
      "  lilyvalley       0.63      0.52      0.57        23\n",
      "       pansy       0.65      0.81      0.72        16\n",
      "    snowdrop       0.67      0.61      0.64        23\n",
      "   sunflower       0.86      0.95      0.90        19\n",
      "   tigerlily       0.88      0.78      0.82        27\n",
      "       tulip       0.18      0.19      0.19        21\n",
      "  windflower       0.71      0.67      0.69        18\n",
      "\n",
      "    accuracy                           0.62       340\n",
      "   macro avg       0.62      0.62      0.62       340\n",
      "weighted avg       0.62      0.62      0.62       340\n",
      "\n"
     ]
    }
   ],
   "source": [
    "# %%\n",
    "# evaluate the network\n",
    "print(\"[INFO] evaluating network...\")\n",
    "predictions = model.predict(testx, batch_size=32)\n",
    "print(classification_report(testy.argmax(axis=1),\n",
    "                            predictions.argmax(axis=1),\n",
    "                            target_names=unique_class_names))"
   ]
  },
  {
   "cell_type": "code",
   "execution_count": 19,
   "metadata": {
    "pycharm": {
     "name": "#%%\n"
    }
   },
   "outputs": [
    {
     "data": {
      "image/png": "[encoded data removed]",
      "text/plain": [
       "<Figure size 1080x576 with 1 Axes>"
      ]
     },
     "metadata": {},
     "output_type": "display_data"
    }
   ],
   "source": [
    "# plot the performance\n",
    "epochs = range(1, 101)\n",
    "loss = H.history['loss']\n",
    "accuracy = H.history['acc']\n",
    "val_loss = H.history['val_loss']\n",
    "val_accuracy = H.history['val_acc']\n",
    "plot_df = pd.DataFrame(\n",
    "    data=np.c_[epochs, loss, accuracy, val_loss, val_accuracy],\n",
    "    columns=['epochs', 'loss', 'accuracy', 'val_loss', 'val_accuracy'])\n",
    "\n",
    "# do the actual plots\n",
    "sns.set(font_scale=1)\n",
    "f, ax = plt.subplots(1, 1, figsize=(15, 8))\n",
    "sns.lineplot(data=plot_df, x='epochs', y='loss', ax=ax, label='train loss',\n",
    "             linewidth=3)\n",
    "sns.lineplot(data=plot_df, x='epochs', y='accuracy', ax=ax,\n",
    "             label='train accuracy', linewidth=3)\n",
    "sns.lineplot(data=plot_df, x='epochs', y='val_loss', ax=ax, label='val loss',\n",
    "             linewidth=3)\n",
    "sns.lineplot(data=plot_df, x='epochs', y='val_accuracy', ax=ax,\n",
    "             label='val_accuracy', linewidth=3)\n",
    "ax.set_ylabel('Loss or Accuracy')\n",
    "ax.set_xlabel('Epochs')\n",
    "plt.setp(ax.get_legend().get_texts(), fontsize='18');  "
   ]
  },
  {
   "cell_type": "code",
   "execution_count": null,
   "metadata": {
    "pycharm": {
     "name": "#%%"
    }
   },
   "outputs": [],
   "source": []
  }
 ],
 "metadata": {
  "kernelspec": {
   "display_name": "Python 3",
   "language": "python",
   "name": "python3"
  },
  "language_info": {
   "codemirror_mode": {
    "name": "ipython",
    "version": 3
   },
   "file_extension": ".py",
   "mimetype": "text/x-python",
   "name": "python",
   "nbconvert_exporter": "python",
   "pygments_lexer": "ipython3",
   "version": "3.6.7"
  }
 },
 "nbformat": 4,
 "nbformat_minor": 1
}
