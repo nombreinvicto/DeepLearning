{
 "cells": [
  {
   "cell_type": "code",
   "execution_count": null,
   "metadata": {
    "collapsed": true
   },
   "outputs": [],
   "source": [
    "import sys\n",
    "from google.colab import drive\n",
    "\n",
    "drive.mount('/content/drive')\n",
    "sys.path.append(r\"/content/drive/MyDrive/\")"
   ]
  },
  {
   "cell_type": "code",
   "execution_count": null,
   "outputs": [],
   "source": [
    "import dogs_cats_config as config\n",
    "from loader_util.preprocessing import ImageToArrayPreprocessor\n",
    "from loader_util.preprocessing import SimplePreProcessor\n",
    "from loader_util.preprocessing import PatchPreprocessor\n",
    "from loader_util.preprocessing import MeanPreprocessor\n",
    "from loader_util.io import HDF5DatasetGenerator\n",
    "from loader_util.callbacks import TrainingMonitor\n",
    "from loader_util.nn.conv import AlexNet\n",
    "##\n",
    "from tensorflow.keras.preprocessing.image import ImageDataGenerator\n",
    "from tensorflow.keras.optimizers import Adam\n",
    "import json\n",
    "import os"
   ],
   "metadata": {
    "collapsed": false,
    "pycharm": {
     "is_executing": true
    }
   }
  },
  {
   "cell_type": "code",
   "execution_count": null,
   "outputs": [],
   "source": [
    "# construct the trian image generator\n",
    "aug = ImageDataGenerator(rotation_range=20,\n",
    "                         zoom_range=0.15,\n",
    "                         width_shift_range=0.2,\n",
    "                         height_shift_range=0.2,\n",
    "                         shear_range=0.15,\n",
    "                         horizontal_flip=True,\n",
    "                         fill_mode=\"nearest\")"
   ],
   "metadata": {
    "collapsed": false
   }
  },
  {
   "cell_type": "code",
   "execution_count": null,
   "outputs": [],
   "source": [
    "# load the RGB means\n",
    "means = json.loads(open(config.DATASET_MEAN_PATH).read())\n",
    "\n",
    "# init the image processors\n",
    "sp = SimplePreProcessor(227, 227)\n",
    "pp = PatchPreprocessor(227, 227)\n",
    "mp = MeanPreprocessor(means[\"R\"], means[\"G\"], means[\"B\"])\n",
    "iap = ImageToArrayPreprocessor()"
   ],
   "metadata": {
    "collapsed": false
   }
  },
  {
   "cell_type": "code",
   "execution_count": null,
   "outputs": [],
   "source": [
    "# init the train and validation dataset generators\n",
    "train_gen = HDF5DatasetGenerator(db_path=config.TRAIN_HDF5_PATH,\n",
    "                                 batch_size=128,\n",
    "                                 aug=aug,\n",
    "                                 preprocessors=[pp, mp, iap],\n",
    "                                 classes=2)\n",
    "\n",
    "val_gen = HDF5DatasetGenerator(db_path=config.VAL_HDF5_PATH,\n",
    "                               batch_size=128,\n",
    "                               preprocessors=[sp, mp, iap],\n",
    "                               classes=2)"
   ],
   "metadata": {
    "collapsed": false
   }
  },
  {
   "cell_type": "code",
   "execution_count": null,
   "outputs": [],
   "source": [
    "print(f\"[INFO] compiling model......\")\n",
    "opt = Adam(learning_rate=0.001)\n",
    "model = AlexNet.build(width=227, height=227, depth=3,\n",
    "                      classes=2, reg=0.0002)\n",
    "model.compile(loss=\"binary_crossentropy\",\n",
    "              optimizer=opt,\n",
    "              metrics=[\"accuracy\"])\n",
    "\n",
    "# construct the path of call backs\n",
    "path = os.path.sep.join([config.OUTPUT_DIR, f\"{os.getpid()}.png\"])\n",
    "callbacks = [TrainingMonitor(path)]\n"
   ],
   "metadata": {
    "collapsed": false
   }
  },
  {
   "cell_type": "code",
   "execution_count": null,
   "outputs": [],
   "source": [
    "# train the network\n",
    "H = model.fit_generator(train_gen.generator(),\n",
    "                        steps_per_epoch=train_gen.num_images // 128,\n",
    "                        validation_data=val_gen.generator(),\n",
    "                        validation_steps=val_gen.num_images // 128,\n",
    "                        epochs=75,\n",
    "                        max_queue_size=10,\n",
    "                        callbacks=callbacks,\n",
    "                        verbose=1)"
   ],
   "metadata": {
    "collapsed": false
   }
  },
  {
   "cell_type": "code",
   "execution_count": null,
   "outputs": [],
   "source": [
    "print(f\"[INFO] serializing model......\")\n",
    "model.save(config.MODEL_PATH, overwrite=True)\n",
    "\n",
    "# close the datasets\n",
    "train_gen.close()\n",
    "val_gen.close()"
   ],
   "metadata": {
    "collapsed": false
   }
  },
  {
   "cell_type": "code",
   "execution_count": null,
   "outputs": [],
   "source": [],
   "metadata": {
    "collapsed": false
   }
  },
  {
   "cell_type": "code",
   "execution_count": null,
   "outputs": [],
   "source": [],
   "metadata": {
    "collapsed": false
   }
  }
 ],
 "metadata": {
  "kernelspec": {
   "display_name": "Python 3",
   "language": "python",
   "name": "python3"
  },
  "language_info": {
   "codemirror_mode": {
    "name": "ipython",
    "version": 2
   },
   "file_extension": ".py",
   "mimetype": "text/x-python",
   "name": "python",
   "nbconvert_exporter": "python",
   "pygments_lexer": "ipython2",
   "version": "2.7.6"
  }
 },
 "nbformat": 4,
 "nbformat_minor": 0
}
