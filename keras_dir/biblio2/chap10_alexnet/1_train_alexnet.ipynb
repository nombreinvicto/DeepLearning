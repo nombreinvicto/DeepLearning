{
 "cells": [
  {
   "cell_type": "code",
   "execution_count": null,
   "metadata": {
    "collapsed": true,
    "colab": {
     "base_uri": "https://localhost:8080/"
    },
    "id": "Uj4-l6ajSww0",
    "outputId": "79f3e9e4-50e3-4876-a017-08d9473b2ec4"
   },
   "outputs": [
    {
     "output_type": "stream",
     "name": "stdout",
     "text": [
      "Drive already mounted at /content/drive; to attempt to forcibly remount, call drive.mount(\"/content/drive\", force_remount=True).\n"
     ]
    }
   ],
   "source": [
    "import sys\n",
    "from google.colab import drive\n",
    "\n",
    "drive.mount('/content/drive')\n",
    "sys.path.append(r\"/content/drive/MyDrive/\")"
   ]
  },
  {
   "cell_type": "code",
   "execution_count": null,
   "outputs": [],
   "source": [
    "from loader_util.preprocessing import ImageToArrayPreprocessor\n",
    "from loader_util.preprocessing import SimplePreProcessor\n",
    "from loader_util.preprocessing import PatchPreprocessor\n",
    "from loader_util.preprocessing import MeanPreprocessor\n",
    "from loader_util.io import HDF5DatasetGenerator\n",
    "from loader_util.callbacks import TrainingMonitor\n",
    "from loader_util.nn.conv import AlexNet\n",
    "##\n",
    "from tensorflow.keras.preprocessing.image import ImageDataGenerator\n",
    "from tensorflow.keras.optimizers import Adam\n",
    "import json\n",
    "import os"
   ],
   "metadata": {
    "pycharm": {
     "is_executing": true
    },
    "id": "dIkMCNImSww3"
   }
  },
  {
   "cell_type": "code",
   "execution_count": null,
   "outputs": [],
   "source": [
    "# construct the trian image generator\n",
    "aug = ImageDataGenerator(rotation_range=20,\n",
    "                         zoom_range=0.15,\n",
    "                         width_shift_range=0.2,\n",
    "                         height_shift_range=0.2,\n",
    "                         shear_range=0.15,\n",
    "                         horizontal_flip=True,\n",
    "                         fill_mode=\"nearest\")"
   ],
   "metadata": {
    "id": "2ke4zWILSww7"
   }
  },
  {
   "cell_type": "code",
   "execution_count": null,
   "outputs": [],
   "source": [
    "# load the RGB means\n",
    "DATASET_MEAN_PATH = r\"/content/drive/MyDrive/Colab Notebooks/pyimagesearch/bibilio2/chap10/dogs_cats_mean.json\"\n",
    "means = json.loads(open(DATASET_MEAN_PATH).read())\n",
    "\n",
    "# init the image processors\n",
    "sp = SimplePreProcessor(227, 227)\n",
    "pp = PatchPreprocessor(227, 227)\n",
    "mp = MeanPreprocessor(means[\"R\"], means[\"G\"], means[\"B\"])\n",
    "iap = ImageToArrayPreprocessor()"
   ],
   "metadata": {
    "id": "tqPmp4fTSww9"
   }
  },
  {
   "cell_type": "code",
   "execution_count": null,
   "outputs": [],
   "source": [
    "# init the train and validation dataset generators\n",
    "TRAIN_HDF5_PATH = r\"/content/drive/MyDrive/ImageDataset/book2/kaggle_dogs_vs_cats/hdf5/train.hdf5\"\n",
    "VAL_HDF5_PATH = r\"/content/drive/MyDrive/ImageDataset/book2/kaggle_dogs_vs_cats/hdf5/val.hdf5\"\n",
    "TEST_HDF5_PATH = r\"/content/drive/MyDrive/ImageDataset/book2/kaggle_dogs_vs_cats/hdf5/test.hdf5\"\n",
    "train_gen = HDF5DatasetGenerator(db_path=TRAIN_HDF5_PATH,\n",
    "                                 batch_size=128,\n",
    "                                 aug=aug,\n",
    "                                 preprocessors=[pp, mp, iap],\n",
    "                                 classes=2)\n",
    "\n",
    "val_gen = HDF5DatasetGenerator(db_path=VAL_HDF5_PATH,\n",
    "                               batch_size=128,\n",
    "                               preprocessors=[sp, mp, iap],\n",
    "                               classes=2)"
   ],
   "metadata": {
    "id": "ErGSu8l-Sww-"
   }
  },
  {
   "cell_type": "code",
   "execution_count": null,
   "outputs": [
    {
     "output_type": "stream",
     "name": "stdout",
     "text": [
      "[INFO] compiling model......\n"
     ]
    }
   ],
   "source": [
    "print(f\"[INFO] compiling model......\")\n",
    "OUTPUT_DIR = r\"/content/drive/MyDrive/Colab Notebooks/pyimagesearch/bibilio2/chap10/\"\n",
    "opt = Adam(learning_rate=0.001)\n",
    "model = AlexNet.build(width=227, height=227, depth=3,\n",
    "                      classes=2, reg=0.0002)\n",
    "model.compile(loss=\"binary_crossentropy\",\n",
    "              optimizer=opt,\n",
    "              metrics=[\"accuracy\"])\n",
    "\n",
    "# construct the path of call backs\n",
    "path = os.path.sep.join([OUTPUT_DIR, f\"{os.getpid()}.png\"])\n",
    "callbacks = [TrainingMonitor(path)]\n"
   ],
   "metadata": {
    "colab": {
     "base_uri": "https://localhost:8080/"
    },
    "id": "6x_4yELySwxA",
    "outputId": "c9499fcd-29e2-49d9-8fba-217841dd77b3"
   }
  },
  {
   "cell_type": "code",
   "execution_count": null,
   "outputs": [
    {
     "metadata": {
      "tags": null
     },
     "name": "stderr",
     "output_type": "stream",
     "text": [
      "/usr/local/lib/python3.7/dist-packages/ipykernel_launcher.py:9: UserWarning: `Model.fit_generator` is deprecated and will be removed in a future version. Please use `Model.fit`, which supports generators.\n",
      "  if __name__ == '__main__':\n"
     ]
    },
    {
     "output_type": "stream",
     "name": "stdout",
     "text": [
      "Epoch 1/75\n",
      "156/156 [==============================] - 457s 3s/step - loss: 3.2617 - accuracy: 0.5848 - val_loss: 2.7927 - val_accuracy: 0.6003\n",
      "Epoch 2/75\n",
      "156/156 [==============================] - 340s 2s/step - loss: 2.3937 - accuracy: 0.6553 - val_loss: 2.7420 - val_accuracy: 0.5111\n",
      "Epoch 3/75\n",
      "156/156 [==============================] - 342s 2s/step - loss: 1.8148 - accuracy: 0.6849 - val_loss: 1.6737 - val_accuracy: 0.6797\n",
      "Epoch 4/75\n",
      "156/156 [==============================] - 343s 2s/step - loss: 1.3980 - accuracy: 0.7228 - val_loss: 1.2595 - val_accuracy: 0.7533\n",
      "Epoch 5/75\n",
      "156/156 [==============================] - 347s 2s/step - loss: 1.0931 - accuracy: 0.7572 - val_loss: 0.9421 - val_accuracy: 0.7952\n",
      "Epoch 6/75\n",
      "156/156 [==============================] - 344s 2s/step - loss: 0.8967 - accuracy: 0.7874 - val_loss: 0.7916 - val_accuracy: 0.8232\n",
      "Epoch 7/75\n",
      "156/156 [==============================] - 346s 2s/step - loss: 0.7862 - accuracy: 0.8049 - val_loss: 0.7371 - val_accuracy: 0.8265\n",
      "Epoch 8/75\n",
      "156/156 [==============================] - 344s 2s/step - loss: 0.7799 - accuracy: 0.8103 - val_loss: 0.8186 - val_accuracy: 0.8117\n",
      "Epoch 9/75\n",
      "156/156 [==============================] - 347s 2s/step - loss: 0.7001 - accuracy: 0.8290 - val_loss: 0.5876 - val_accuracy: 0.8775\n",
      "Epoch 10/75\n",
      "156/156 [==============================] - 348s 2s/step - loss: 0.6396 - accuracy: 0.8488 - val_loss: 0.6131 - val_accuracy: 0.8602\n",
      "Epoch 11/75\n",
      "156/156 [==============================] - 348s 2s/step - loss: 0.6382 - accuracy: 0.8486 - val_loss: 0.6946 - val_accuracy: 0.7837\n",
      "Epoch 12/75\n",
      "156/156 [==============================] - 349s 2s/step - loss: 0.6298 - accuracy: 0.8566 - val_loss: 0.6552 - val_accuracy: 0.8557\n",
      "Epoch 13/75\n",
      "156/156 [==============================] - 347s 2s/step - loss: 0.6380 - accuracy: 0.8628 - val_loss: 0.7303 - val_accuracy: 0.8211\n",
      "Epoch 14/75\n",
      "156/156 [==============================] - 346s 2s/step - loss: 0.6798 - accuracy: 0.8507 - val_loss: 0.6408 - val_accuracy: 0.8766\n",
      "Epoch 15/75\n",
      "156/156 [==============================] - 348s 2s/step - loss: 0.6711 - accuracy: 0.8697 - val_loss: 0.6310 - val_accuracy: 0.8845\n",
      "Epoch 16/75\n",
      "156/156 [==============================] - 350s 2s/step - loss: 0.8743 - accuracy: 0.8421 - val_loss: 0.7198 - val_accuracy: 0.8853\n",
      "Epoch 17/75\n",
      "156/156 [==============================] - 350s 2s/step - loss: 0.7391 - accuracy: 0.8628 - val_loss: 0.6352 - val_accuracy: 0.8738\n",
      "Epoch 18/75\n",
      "156/156 [==============================] - 349s 2s/step - loss: 0.7699 - accuracy: 0.8513 - val_loss: 0.8475 - val_accuracy: 0.8359\n",
      "Epoch 19/75\n",
      "156/156 [==============================] - 349s 2s/step - loss: 0.7878 - accuracy: 0.8618 - val_loss: 0.7707 - val_accuracy: 0.8660\n",
      "Epoch 20/75\n",
      "156/156 [==============================] - 348s 2s/step - loss: 0.6860 - accuracy: 0.8783 - val_loss: 1.2387 - val_accuracy: 0.7730\n",
      "Epoch 21/75\n",
      "156/156 [==============================] - 348s 2s/step - loss: 0.7565 - accuracy: 0.8632 - val_loss: 0.7035 - val_accuracy: 0.8886\n",
      "Epoch 22/75\n",
      "156/156 [==============================] - 348s 2s/step - loss: 0.6633 - accuracy: 0.8827 - val_loss: 0.6319 - val_accuracy: 0.8931\n",
      "Epoch 23/75\n",
      "156/156 [==============================] - 348s 2s/step - loss: 0.7029 - accuracy: 0.8794 - val_loss: 0.7941 - val_accuracy: 0.8507\n",
      "Epoch 24/75\n",
      "156/156 [==============================] - 347s 2s/step - loss: 0.6953 - accuracy: 0.8826 - val_loss: 0.5880 - val_accuracy: 0.8931\n",
      "Epoch 25/75\n",
      "156/156 [==============================] - 347s 2s/step - loss: 0.5780 - accuracy: 0.8904 - val_loss: 0.5363 - val_accuracy: 0.9021\n",
      "Epoch 26/75\n",
      "156/156 [==============================] - 347s 2s/step - loss: 0.5502 - accuracy: 0.8925 - val_loss: 0.5657 - val_accuracy: 0.8651\n",
      "Epoch 27/75\n",
      "156/156 [==============================] - 347s 2s/step - loss: 0.5390 - accuracy: 0.8904 - val_loss: 0.5142 - val_accuracy: 0.8956\n",
      "Epoch 28/75\n",
      "156/156 [==============================] - 345s 2s/step - loss: 0.5393 - accuracy: 0.8943 - val_loss: 0.4889 - val_accuracy: 0.9095\n",
      "Epoch 29/75\n",
      "156/156 [==============================] - 345s 2s/step - loss: 0.5229 - accuracy: 0.8984 - val_loss: 0.5007 - val_accuracy: 0.9021\n",
      "Epoch 30/75\n",
      "156/156 [==============================] - 346s 2s/step - loss: 0.5151 - accuracy: 0.8969 - val_loss: 0.5282 - val_accuracy: 0.8857\n",
      "Epoch 31/75\n",
      "156/156 [==============================] - 346s 2s/step - loss: 0.5243 - accuracy: 0.8974 - val_loss: 0.5132 - val_accuracy: 0.9038\n",
      "Epoch 32/75\n",
      "156/156 [==============================] - 348s 2s/step - loss: 0.5273 - accuracy: 0.8989 - val_loss: 0.5248 - val_accuracy: 0.9083\n",
      "Epoch 33/75\n",
      "156/156 [==============================] - 354s 2s/step - loss: 0.5258 - accuracy: 0.8969 - val_loss: 0.4985 - val_accuracy: 0.9025\n",
      "Epoch 34/75\n",
      "156/156 [==============================] - 347s 2s/step - loss: 0.5092 - accuracy: 0.9007 - val_loss: 0.5262 - val_accuracy: 0.8984\n",
      "Epoch 35/75\n",
      "156/156 [==============================] - 347s 2s/step - loss: 0.5211 - accuracy: 0.9000 - val_loss: 0.5515 - val_accuracy: 0.8832\n",
      "Epoch 36/75\n",
      "156/156 [==============================] - 349s 2s/step - loss: 0.5278 - accuracy: 0.8995 - val_loss: 0.4784 - val_accuracy: 0.9219\n",
      "Epoch 37/75\n",
      "156/156 [==============================] - 348s 2s/step - loss: 0.5308 - accuracy: 0.9012 - val_loss: 0.4930 - val_accuracy: 0.9042\n",
      "Epoch 38/75\n",
      "156/156 [==============================] - 346s 2s/step - loss: 0.5221 - accuracy: 0.8994 - val_loss: 0.5038 - val_accuracy: 0.9083\n",
      "Epoch 39/75\n",
      "156/156 [==============================] - 348s 2s/step - loss: 0.5269 - accuracy: 0.9012 - val_loss: 0.4850 - val_accuracy: 0.9194\n",
      "Epoch 40/75\n",
      "156/156 [==============================] - 352s 2s/step - loss: 0.5154 - accuracy: 0.8999 - val_loss: 0.5194 - val_accuracy: 0.8939\n",
      "Epoch 41/75\n",
      "156/156 [==============================] - 350s 2s/step - loss: 0.5167 - accuracy: 0.9054 - val_loss: 0.5644 - val_accuracy: 0.8754\n",
      "Epoch 42/75\n",
      "156/156 [==============================] - 353s 2s/step - loss: 0.4977 - accuracy: 0.9067 - val_loss: 0.5109 - val_accuracy: 0.8960\n",
      "Epoch 43/75\n",
      "156/156 [==============================] - 351s 2s/step - loss: 0.5255 - accuracy: 0.9040 - val_loss: 0.5114 - val_accuracy: 0.9042\n",
      "Epoch 44/75\n",
      "156/156 [==============================] - 349s 2s/step - loss: 0.5129 - accuracy: 0.9065 - val_loss: 0.4683 - val_accuracy: 0.9149\n",
      "Epoch 45/75\n",
      "156/156 [==============================] - 351s 2s/step - loss: 0.5184 - accuracy: 0.9058 - val_loss: 0.6568 - val_accuracy: 0.8450\n",
      "Epoch 46/75\n",
      "156/156 [==============================] - 354s 2s/step - loss: 0.5146 - accuracy: 0.9072 - val_loss: 0.4686 - val_accuracy: 0.9280\n",
      "Epoch 47/75\n",
      "156/156 [==============================] - 352s 2s/step - loss: 0.4906 - accuracy: 0.9102 - val_loss: 0.5305 - val_accuracy: 0.8808\n",
      "Epoch 48/75\n",
      "156/156 [==============================] - 351s 2s/step - loss: 0.5089 - accuracy: 0.9038 - val_loss: 0.4597 - val_accuracy: 0.9285\n",
      "Epoch 49/75\n",
      "156/156 [==============================] - 350s 2s/step - loss: 0.5041 - accuracy: 0.9080 - val_loss: 0.4407 - val_accuracy: 0.9260\n",
      "Epoch 50/75\n",
      "156/156 [==============================] - 352s 2s/step - loss: 0.5020 - accuracy: 0.9140 - val_loss: 0.4748 - val_accuracy: 0.9100\n",
      "Epoch 51/75\n",
      "156/156 [==============================] - 352s 2s/step - loss: 0.4796 - accuracy: 0.9146 - val_loss: 0.4630 - val_accuracy: 0.9186\n",
      "Epoch 52/75\n",
      "156/156 [==============================] - 351s 2s/step - loss: 0.4927 - accuracy: 0.9138 - val_loss: 0.4652 - val_accuracy: 0.9211\n",
      "Epoch 53/75\n",
      "156/156 [==============================] - 352s 2s/step - loss: 0.4795 - accuracy: 0.9162 - val_loss: 0.5375 - val_accuracy: 0.9025\n",
      "Epoch 54/75\n",
      "156/156 [==============================] - 353s 2s/step - loss: 0.5042 - accuracy: 0.9110 - val_loss: 0.4704 - val_accuracy: 0.9235\n",
      "Epoch 55/75\n",
      "156/156 [==============================] - 352s 2s/step - loss: 0.4873 - accuracy: 0.9087 - val_loss: 0.4693 - val_accuracy: 0.9194\n",
      "Epoch 56/75\n",
      "156/156 [==============================] - 352s 2s/step - loss: 0.4844 - accuracy: 0.9126 - val_loss: 0.4903 - val_accuracy: 0.9268\n",
      "Epoch 57/75\n",
      "156/156 [==============================] - 353s 2s/step - loss: 0.4741 - accuracy: 0.9139 - val_loss: 0.4160 - val_accuracy: 0.9338\n",
      "Epoch 58/75\n",
      "156/156 [==============================] - 352s 2s/step - loss: 0.4846 - accuracy: 0.9150 - val_loss: 0.5304 - val_accuracy: 0.9223\n",
      "Epoch 59/75\n",
      "156/156 [==============================] - 353s 2s/step - loss: 0.4852 - accuracy: 0.9141 - val_loss: 0.4900 - val_accuracy: 0.9243\n",
      "Epoch 60/75\n",
      "156/156 [==============================] - 353s 2s/step - loss: 0.4808 - accuracy: 0.9169 - val_loss: 0.4765 - val_accuracy: 0.9112\n",
      "Epoch 61/75\n",
      "156/156 [==============================] - 351s 2s/step - loss: 0.4570 - accuracy: 0.9157 - val_loss: 0.4560 - val_accuracy: 0.9178\n",
      "Epoch 62/75\n",
      "156/156 [==============================] - 351s 2s/step - loss: 0.4788 - accuracy: 0.9158 - val_loss: 0.5604 - val_accuracy: 0.8935\n",
      "Epoch 63/75\n",
      "156/156 [==============================] - 351s 2s/step - loss: 0.4764 - accuracy: 0.9155 - val_loss: 0.4623 - val_accuracy: 0.9231\n",
      "Epoch 64/75\n",
      "156/156 [==============================] - 349s 2s/step - loss: 0.4608 - accuracy: 0.9193 - val_loss: 0.5143 - val_accuracy: 0.8980\n",
      "Epoch 65/75\n",
      "156/156 [==============================] - 348s 2s/step - loss: 0.4515 - accuracy: 0.9195 - val_loss: 0.4076 - val_accuracy: 0.9285\n",
      "Epoch 66/75\n",
      "156/156 [==============================] - 347s 2s/step - loss: 0.4469 - accuracy: 0.9195 - val_loss: 0.4193 - val_accuracy: 0.9317\n",
      "Epoch 67/75\n",
      "156/156 [==============================] - 348s 2s/step - loss: 0.4361 - accuracy: 0.9198 - val_loss: 0.4567 - val_accuracy: 0.9137\n",
      "Epoch 68/75\n",
      "156/156 [==============================] - 350s 2s/step - loss: 0.4584 - accuracy: 0.9156 - val_loss: 0.4273 - val_accuracy: 0.9223\n",
      "Epoch 69/75\n",
      "156/156 [==============================] - 351s 2s/step - loss: 0.4424 - accuracy: 0.9187 - val_loss: 0.4337 - val_accuracy: 0.9178\n",
      "Epoch 70/75\n",
      "156/156 [==============================] - 358s 2s/step - loss: 0.4471 - accuracy: 0.9204 - val_loss: 0.3900 - val_accuracy: 0.9338\n",
      "Epoch 71/75\n",
      "156/156 [==============================] - 353s 2s/step - loss: 0.4458 - accuracy: 0.9196 - val_loss: 0.5199 - val_accuracy: 0.8960\n",
      "Epoch 72/75\n",
      "156/156 [==============================] - 354s 2s/step - loss: 0.4408 - accuracy: 0.9202 - val_loss: 0.5071 - val_accuracy: 0.8906\n",
      "Epoch 73/75\n",
      "156/156 [==============================] - 354s 2s/step - loss: 0.4352 - accuracy: 0.9225 - val_loss: 0.4955 - val_accuracy: 0.9017\n",
      "Epoch 74/75\n",
      "156/156 [==============================] - 350s 2s/step - loss: 0.4292 - accuracy: 0.9214 - val_loss: 0.4429 - val_accuracy: 0.9120\n",
      "Epoch 75/75\n",
      "156/156 [==============================] - 357s 2s/step - loss: 0.4267 - accuracy: 0.9231 - val_loss: 0.4465 - val_accuracy: 0.9120\n"
     ]
    }
   ],
   "source": [
    "# train the network\n",
    "H = model.fit_generator(train_gen.generator(),\n",
    "                        steps_per_epoch=train_gen.num_images // 128,\n",
    "                        validation_data=val_gen.generator(),\n",
    "                        validation_steps=val_gen.num_images // 128,\n",
    "                        epochs=75,\n",
    "                        max_queue_size=10,\n",
    "                        callbacks=callbacks,\n",
    "                        verbose=1)"
   ],
   "metadata": {
    "colab": {
     "base_uri": "https://localhost:8080/"
    },
    "id": "_JTEkl5lSwxC",
    "outputId": "cfdfa104-d716-4391-ca52-4b5a67b1f91f"
   }
  },
  {
   "cell_type": "code",
   "execution_count": null,
   "outputs": [
    {
     "output_type": "stream",
     "name": "stdout",
     "text": [
      "[INFO] serializing model......\n"
     ]
    },
    {
     "output_type": "stream",
     "name": "stderr",
     "text": [
      "WARNING:absl:Found untraced functions such as _jit_compiled_convolution_op, _jit_compiled_convolution_op, _jit_compiled_convolution_op, _jit_compiled_convolution_op, _jit_compiled_convolution_op while saving (showing 5 of 5). These functions will not be directly callable after loading.\n"
     ]
    }
   ],
   "source": [
    "print(f\"[INFO] serializing model......\")\n",
    "model.save(OUTPUT_DIR, overwrite=True)\n",
    "\n",
    "# close the datasets\n",
    "train_gen.close()\n",
    "val_gen.close()"
   ],
   "metadata": {
    "colab": {
     "base_uri": "https://localhost:8080/"
    },
    "id": "oRaD8ajZSwxD",
    "outputId": "360cb474-3347-4b21-823e-7ebd0115cea2"
   }
  },
  {
   "cell_type": "code",
   "execution_count": null,
   "outputs": [],
   "source": [],
   "metadata": {
    "id": "z2Dij92GSwxE"
   }
  },
  {
   "cell_type": "code",
   "execution_count": null,
   "outputs": [],
   "source": [],
   "metadata": {
    "id": "KGhVpeQTSwxG"
   }
  }
 ],
 "metadata": {
  "kernelspec": {
   "display_name": "Python 3",
   "language": "python",
   "name": "python3"
  },
  "language_info": {
   "codemirror_mode": {
    "name": "ipython",
    "version": 2
   },
   "file_extension": ".py",
   "mimetype": "text/x-python",
   "name": "python",
   "nbconvert_exporter": "python",
   "pygments_lexer": "ipython2",
   "version": "2.7.6"
  },
  "colab": {
   "provenance": [],
   "machine_shape": "hm"
  },
  "accelerator": "GPU",
  "gpuClass": "premium"
 },
 "nbformat": 4,
 "nbformat_minor": 0
}
