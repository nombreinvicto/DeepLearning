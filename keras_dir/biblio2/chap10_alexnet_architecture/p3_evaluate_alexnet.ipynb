{
 "cells": [
  {
   "cell_type": "code",
   "execution_count": 7,
   "metadata": {
    "collapsed": true
   },
   "outputs": [],
   "source": [
    "from loader_util.dogs_vs_cats.config import dog_vs_cats_config as config\n",
    "from loader_util.preprocessing import ImageToArrayPreprocessor, \\\n",
    "    SimplePreProcessor, MeanPreprocessor, CropPreprocessor\n",
    "from loader_util.io import HDF5DatasetGenerator\n",
    "from loader_util.utils.ranked import rank5_accuracy\n",
    "from tensorflow.keras.models import load_model\n",
    "from tensorflow.keras.models import Model\n",
    "import numpy as np\n",
    "import progressbar\n",
    "import json"
   ]
  },
  {
   "cell_type": "code",
   "execution_count": 8,
   "outputs": [],
   "source": [
    "# load the RGB means\n",
    "means = json.loads(open(config.DATASET_MEAN).read())\n",
    "\n",
    "# init the prepreocessors\n",
    "sp = SimplePreProcessor(227, 227)\n",
    "mp = MeanPreprocessor(rmean=means[\"R\"],\n",
    "                      gmean=means[\"G\"],\n",
    "                      bmean=means[\"B\"])\n",
    "cp = CropPreprocessor(227, 227)\n",
    "iap = ImageToArrayPreprocessor()"
   ],
   "metadata": {
    "collapsed": false,
    "pycharm": {
     "name": "#%%\n"
    }
   }
  },
  {
   "cell_type": "code",
   "execution_count": 9,
   "outputs": [],
   "source": [
    "# load the saved model\n",
    "model = load_model(config.MODEL_PATH) # type: Model"
   ],
   "metadata": {
    "collapsed": false,
    "pycharm": {
     "name": "#%%\n"
    }
   }
  },
  {
   "cell_type": "code",
   "execution_count": 10,
   "outputs": [
    {
     "name": "stdout",
     "output_type": "stream",
     "text": [
      "[INFO] predicting on test data with no crops.....\n",
      "[INFO] rank1 accuracy : 89.38.....\n"
     ]
    }
   ],
   "source": [
    "# init the testing dataset generator then make predictions on the testing\n",
    "# dataset\n",
    "print(f'[INFO] predicting on test data with no crops.....')\n",
    "test_gen = HDF5DatasetGenerator(dbPath=config.TEST_HDF5,\n",
    "                                batchSize=64,\n",
    "                                preprocessors=[sp, mp, iap],\n",
    "                                classes=2)\n",
    "\n",
    "predictions = model.predict_generator(test_gen.generator(),\n",
    "                                      steps=test_gen.numImages//64,\n",
    "                                      max_queue_size=10)\n",
    "# compute the rank1 and rank5 accuracies\n",
    "rank1, rank5 = rank5_accuracy(predictions, test_gen.db[\"labels\"])\n",
    "print(f'[INFO] rank1 accuracy : {rank1*100:0.2f}.....')"
   ],
   "metadata": {
    "collapsed": false,
    "pycharm": {
     "name": "#%%\n"
    }
   }
  },
  {
   "cell_type": "code",
   "execution_count": 12,
   "outputs": [
    {
     "name": "stderr",
     "output_type": "stream",
     "text": [
      " Evaluating: 100% |############################################| Time:  0:06:38\n"
     ]
    }
   ],
   "source": [
    "# reinitialise test generator for cropping inclusion\n",
    "# remmeber we only apply MC\n",
    "test_gen2 = HDF5DatasetGenerator(config.TEST_HDF5,\n",
    "                                 64,\n",
    "                                 preprocessors=[mp],\n",
    "                                 classes=2)\n",
    "\n",
    "predictions = []\n",
    "\n",
    "# init the progressbar\n",
    "widgets = [\" Evaluating:\", \" \",  progressbar.Percentage(), \" \", progressbar\n",
    "    .Bar(), \" \", progressbar.ETA()]\n",
    "pbar = progressbar.ProgressBar(maxval=test_gen.numImages // 64,\n",
    "                               widgets=widgets).start()\n",
    "\n",
    "\n",
    "# loop over a single image\n",
    "for i, (images, labels) in enumerate(test_gen2.generator(passes=1)):\n",
    "    for image in images:\n",
    "        crops = cp.preprocess(image)\n",
    "        crops = np.array([iap.preprocess(c) for c in crops], dtype=\"float\")\n",
    "        preds = model.predict(crops)\n",
    "        predictions.append(preds.mean(axis=0))\n",
    "    pbar.update(i)\n",
    "\n",
    "pbar.finish()"
   ],
   "metadata": {
    "collapsed": false,
    "pycharm": {
     "name": "#%%\n"
    }
   }
  },
  {
   "cell_type": "code",
   "execution_count": 13,
   "outputs": [
    {
     "name": "stdout",
     "output_type": "stream",
     "text": [
      "[INFO] predicting on test data with crops.....\n",
      "[INFO] rank1: 91.48.....\n"
     ]
    }
   ],
   "source": [
    "print(f'[INFO] predicting on test data with crops.....')\n",
    "rank1, rank5 = rank5_accuracy(predictions, test_gen2.db[\"labels\"])\n",
    "print(f'[INFO] rank1: {rank1*100:0.2f}.....')\n",
    "test_gen2.close()"
   ],
   "metadata": {
    "collapsed": false,
    "pycharm": {
     "name": "#%%\n"
    }
   }
  },
  {
   "cell_type": "code",
   "execution_count": null,
   "outputs": [],
   "source": [],
   "metadata": {
    "collapsed": false,
    "pycharm": {
     "name": "#%%\n"
    }
   }
  }
 ],
 "metadata": {
  "kernelspec": {
   "display_name": "Python 3",
   "language": "python",
   "name": "python3"
  },
  "language_info": {
   "codemirror_mode": {
    "name": "ipython",
    "version": 2
   },
   "file_extension": ".py",
   "mimetype": "text/x-python",
   "name": "python",
   "nbconvert_exporter": "python",
   "pygments_lexer": "ipython2",
   "version": "2.7.6"
  }
 },
 "nbformat": 4,
 "nbformat_minor": 0
}