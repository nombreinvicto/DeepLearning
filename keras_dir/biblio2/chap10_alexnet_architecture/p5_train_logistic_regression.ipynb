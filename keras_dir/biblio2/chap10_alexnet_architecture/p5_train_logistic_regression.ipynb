{
 "cells": [
  {
   "cell_type": "code",
   "execution_count": 1,
   "metadata": {
    "collapsed": true
   },
   "outputs": [],
   "source": [
    "import h5py\n",
    "import pickle\n",
    "import numpy as np\n",
    "import pandas as pd\n",
    "import seaborn as sns\n",
    "import matplotlib.pyplot as plt\n",
    "from matplotlib.figure import Figure\n",
    "import matplotlib.axes._axes as axes\n",
    "sns.set()"
   ]
  },
  {
   "cell_type": "code",
   "execution_count": 2,
   "outputs": [],
   "source": [
    "# import the necessary keras packages\n",
    "from sklearn.preprocessing import LabelBinarizer\n",
    "from sklearn.model_selection import train_test_split\n",
    "from sklearn.metrics import classification_report, accuracy_score\n",
    "from loader_util.preprocessing import ImageToArrayPreprocessor, AspectAwarePreprocessor\n",
    "from loader_util.datasets import SimpleDatasetLoader\n",
    "from loader_util.nn.conv import FCHeadNet\n",
    "##\n",
    "from tensorflow.keras.layers import Conv2D, Activation, Flatten, Dense\n",
    "from tensorflow.keras.preprocessing.image import ImageDataGenerator\n",
    "from tensorflow.keras.optimizers import RMSprop, SGD\n",
    "from tensorflow.keras.applications import VGG16\n",
    "from tensorflow.keras.layers import Input\n",
    "from tensorflow.keras.models import Model\n",
    "from tensorflow.keras.utils import plot_model\n",
    "from tensorflow.keras import backend as K\n",
    "from imutils import paths"
   ],
   "metadata": {
    "collapsed": false,
    "pycharm": {
     "name": "#%%\n"
    }
   }
  },
  {
   "cell_type": "code",
   "execution_count": 3,
   "outputs": [],
   "source": [
    "# import scoring and utility functions from sklearn\n",
    "from sklearn.model_selection import train_test_split, GridSearchCV, learning_curve, ShuffleSplit\n",
    "from sklearn.feature_extraction.text import CountVectorizer\n",
    "from sklearn.metrics import f1_score, make_scorer\n",
    "from sklearn.preprocessing import MinMaxScaler\n",
    "from sklearn.datasets import make_blobs\n",
    "#\n",
    "from sklearn.linear_model import LogisticRegression\n",
    "from sklearn.tree import DecisionTreeClassifier\n",
    "from sklearn.naive_bayes import MultinomialNB\n",
    "from sklearn.svm import SVC"
   ],
   "metadata": {
    "collapsed": false,
    "pycharm": {
     "name": "#%%\n"
    }
   }
  },
  {
   "cell_type": "code",
   "execution_count": 4,
   "outputs": [],
   "source": [
    "# construct the argument parser\n",
    "data_dir = r\"C:\\Users\\mhasa\\Google Drive\\Tutorial Corner\\PYTH\\DeepLearning\\DeepLearning-DL4CV\\ImageDatasets\\all_cats_dogs\"\n",
    "\n",
    "args = {\n",
    "    \"dataset\": r\"{data_dir}//hdf5//extracted_features.hdf5\",\n",
    "    \"model\": fr\"{data_dir}//outputs//extracted_features_lr_model.pt\",\n",
    "    \"jobs\": -1\n",
    "}"
   ],
   "metadata": {
    "collapsed": false,
    "pycharm": {
     "name": "#%%\n"
    }
   }
  },
  {
   "cell_type": "code",
   "execution_count": null,
   "outputs": [],
   "source": [
    "# open the hdf5 dataset to get the extracted features\n",
    "db = h5py.File(args[\"dataset\"], \"r\")\n",
    "i = int(db[\"labels\"].shape[0] * 0.75)"
   ],
   "metadata": {
    "collapsed": false,
    "pycharm": {
     "name": "#%%\n"
    }
   }
  },
  {
   "cell_type": "code",
   "execution_count": null,
   "outputs": [],
   "source": [
    "# define the set of gridsearch parameters\n",
    "print(f'[INFO] tuning hyperparameters.....')\n",
    "params = {\"C\": [0.0001, 0.001, 0.01, 0.1, 1.0]}\n",
    "model = GridSearchCV(LogisticRegression(solver=\"lbfgs\",\n",
    "                                        multi_class=\"auto\"),\n",
    "                     param_grid=params,\n",
    "                     cv=3,\n",
    "                     n_jobs=args[\"jobs\"])\n",
    "model.fit(db[\"extracted_features\"][:i], db[\"labels\"][:i])\n",
    "print(f'[INFO] best hyperparameters are: {model.best_params_}.....')"
   ],
   "metadata": {
    "collapsed": false,
    "pycharm": {
     "name": "#%%\n"
    }
   }
  },
  {
   "cell_type": "code",
   "execution_count": null,
   "outputs": [],
   "source": [
    "print(f'[INFO] evaluating.....')\n",
    "preds = model.predict(db[\"extracted_features\"][i:])\n",
    "print(classification_report(db[\"labels\"][i:], preds,\n",
    "                            target_names=db[\"label_names\"]))\n",
    "\n",
    "# compute the raw accuracy with extra precision\n",
    "acc = accuracy_score(db[\"labels\"][i:], preds)\n",
    "print(f'[INFO] score: {acc}.....')"
   ],
   "metadata": {
    "collapsed": false,
    "pycharm": {
     "name": "#%%\n"
    }
   }
  },
  {
   "cell_type": "code",
   "execution_count": null,
   "outputs": [],
   "source": [
    "# serialise the model to disk\n",
    "print(f'[INFO] saving model.....')\n",
    "f = open(args[\"model\"], \"wb\")\n",
    "f.write(pickle.dumps(model.best_estimator_))\n",
    "f.close()\n",
    "db.close()"
   ],
   "metadata": {
    "collapsed": false,
    "pycharm": {
     "name": "#%%\n"
    }
   }
  },
  {
   "cell_type": "code",
   "execution_count": null,
   "outputs": [],
   "source": [],
   "metadata": {
    "collapsed": false,
    "pycharm": {
     "name": "#%%"
    }
   }
  }
 ],
 "metadata": {
  "kernelspec": {
   "display_name": "Python 3",
   "language": "python",
   "name": "python3"
  },
  "language_info": {
   "codemirror_mode": {
    "name": "ipython",
    "version": 2
   },
   "file_extension": ".py",
   "mimetype": "text/x-python",
   "name": "python",
   "nbconvert_exporter": "python",
   "pygments_lexer": "ipython2",
   "version": "2.7.6"
  }
 },
 "nbformat": 4,
 "nbformat_minor": 0
}