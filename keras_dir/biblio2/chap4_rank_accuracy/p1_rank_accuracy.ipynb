{
 "cells": [
  {
   "cell_type": "code",
   "execution_count": 2,
   "metadata": {},
   "outputs": [],
   "source": [
    "import sys\n",
    "sys.path.append('/home/mhasan3/Desktop/WorkFolder/')"
   ]
  },
  {
   "cell_type": "code",
   "execution_count": 8,
   "metadata": {},
   "outputs": [],
   "source": [
    "from loader_util.utils.ranked import rank5_accuracy\n",
    "from tensorflow.keras.models import Model\n",
    "import pickle\n",
    "import h5py"
   ]
  },
  {
   "cell_type": "code",
   "execution_count": 9,
   "metadata": {
    "pycharm": {
     "name": "#%%\n"
    }
   },
   "outputs": [],
   "source": [
    "args = {\n",
    "    \"db\" : r\"/home/mhasan3/Desktop/WorkFolder/Datasets/caltech-101/extracted_features/extracted_features_caltech.hdf5\",\n",
    "    \"model\": r\"/home/mhasan3/Desktop/WorkFolder/keras_dir/biblio2/chap4_rank_accuracy/model_caltech.cpickle\"\n",
    "}"
   ]
  },
  {
   "cell_type": "code",
   "execution_count": 10,
   "metadata": {
    "pycharm": {
     "name": "#%%\n"
    }
   },
   "outputs": [
    {
     "name": "stdout",
     "output_type": "stream",
     "text": [
      "[INFO] loading pretrained model LR.....\n",
      "6507\n"
     ]
    }
   ],
   "source": [
    "print(f'[INFO] loading pretrained model LR.....')\n",
    "model = pickle.loads(open(args[\"model\"], mode=\"rb\").read()) #type:Model\n",
    "\n",
    "db = h5py.File(args[\"db\"], mode=\"r\")\n",
    "i  = int(db[\"labels\"].shape[0] * 0.75)\n",
    "print(i)"
   ]
  },
  {
   "cell_type": "code",
   "execution_count": 11,
   "metadata": {
    "pycharm": {
     "name": "#%%\n"
    }
   },
   "outputs": [
    {
     "name": "stdout",
     "output_type": "stream",
     "text": [
      "[INFO] predicting.....\n"
     ]
    }
   ],
   "source": [
    "print(f'[INFO] predicting.....')\n",
    "preds = model.predict_proba(db[\"extracted_features\"][i:])\n",
    "rank1, rank5 = rank5_accuracy(preds, db[\"labels\"][i:])"
   ]
  },
  {
   "cell_type": "code",
   "execution_count": 12,
   "metadata": {
    "pycharm": {
     "name": "#%%\n"
    }
   },
   "outputs": [
    {
     "name": "stdout",
     "output_type": "stream",
     "text": [
      "[INFO] rank-1: 96.037.....\n",
      "[INFO] rank-5: 99.217.....\n"
     ]
    }
   ],
   "source": [
    "# display the ranked accuracies\n",
    "print(f'[INFO] rank-1: {rank1*100:0.3f}.....')\n",
    "print(f'[INFO] rank-5: {rank5*100:0.3f}.....')\n",
    "db.close()"
   ]
  },
  {
   "cell_type": "code",
   "execution_count": null,
   "metadata": {
    "pycharm": {
     "name": "#%%\n"
    }
   },
   "outputs": [],
   "source": []
  }
 ],
 "metadata": {
  "kernelspec": {
   "display_name": "Python 3",
   "language": "python",
   "name": "python3"
  },
  "language_info": {
   "codemirror_mode": {
    "name": "ipython",
    "version": 3
   },
   "file_extension": ".py",
   "mimetype": "text/x-python",
   "name": "python",
   "nbconvert_exporter": "python",
   "pygments_lexer": "ipython3",
   "version": "3.6.7"
  }
 },
 "nbformat": 4,
 "nbformat_minor": 1
}
