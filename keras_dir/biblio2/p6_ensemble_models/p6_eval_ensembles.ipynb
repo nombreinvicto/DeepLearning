{
  "nbformat": 4,
  "nbformat_minor": 0,
  "metadata": {
    "kernelspec": {
      "display_name": "Python 3",
      "language": "python",
      "name": "python3"
    },
    "language_info": {
      "codemirror_mode": {
        "name": "ipython",
        "version": 2
      },
      "file_extension": ".py",
      "mimetype": "text/x-python",
      "name": "python",
      "nbconvert_exporter": "python",
      "pygments_lexer": "ipython2",
      "version": "2.7.6"
    },
    "colab": {
      "name": "p6_eval_ensembles.ipynb",
      "provenance": [],
      "collapsed_sections": []
    }
  },
  "cells": [
    {
      "cell_type": "code",
      "metadata": {
        "colab": {
          "base_uri": "https://localhost:8080/"
        },
        "id": "Ch9qgNRcus6t",
        "outputId": "3d9f771d-eeba-4ccc-a9e2-2e954815db4d"
      },
      "source": [
        "import sys\n",
        "from google.colab import drive\n",
        "drive.mount('/content/drive')\n",
        "sys.path.append(r\"/content/drive/MyDrive/\")"
      ],
      "execution_count": 1,
      "outputs": [
        {
          "output_type": "stream",
          "text": [
            "Mounted at /content/drive\n"
          ],
          "name": "stdout"
        }
      ]
    },
    {
      "cell_type": "code",
      "metadata": {
        "collapsed": true,
        "id": "_82obLxIunGE"
      },
      "source": [
        "import sys, os, glob\n",
        "import numpy as np\n",
        "import pandas as pd\n",
        "import seaborn as sns\n",
        "import argparse, progressbar\n",
        "import matplotlib.pyplot as plt\n",
        "from matplotlib.figure import Figure\n",
        "import matplotlib.axes._axes as axes\n",
        "\n",
        "sns.set()"
      ],
      "execution_count": 2,
      "outputs": []
    },
    {
      "cell_type": "code",
      "metadata": {
        "pycharm": {
          "name": "#%%\n"
        },
        "id": "DDApNZgounGH"
      },
      "source": [
        "# import the necessary packages\n",
        "from sklearn.preprocessing import LabelBinarizer\n",
        "from sklearn.model_selection import train_test_split\n",
        "from sklearn.metrics import classification_report\n",
        "from loader_util.preprocessing import ImageToArrayPreprocessor,AspectAwarePreprocessor\n",
        "from loader_util.datasets import SimpleDatasetLoader\n",
        "from loader_util.nn.conv import FCHeadNet\n",
        "##\n",
        "import tensorflow as tf\n",
        "from tensorflow.keras.layers import Conv2D, Activation, Flatten, Dense\n",
        "from tensorflow.keras.preprocessing.image import ImageDataGenerator\n",
        "from tensorflow.keras.optimizers import RMSprop, SGD\n",
        "from tensorflow.keras.applications import VGG16\n",
        "from tensorflow.keras.layers import Input\n",
        "from tensorflow.keras.models import Model, load_model\n",
        "from tensorflow.keras.datasets import cifar10\n",
        "from tensorflow.keras import backend as K\n",
        "from imutils import paths"
      ],
      "execution_count": 4,
      "outputs": []
    },
    {
      "cell_type": "code",
      "metadata": {
        "pycharm": {
          "name": "#%%\n"
        },
        "id": "_GG-keonunGJ"
      },
      "source": [
        "args = {\n",
        "    \"models\": r\"/content/drive/MyDrive/TrainingFolder/p6_ensemble/models\"\n",
        "}"
      ],
      "execution_count": 5,
      "outputs": []
    },
    {
      "cell_type": "code",
      "metadata": {
        "pycharm": {
          "name": "#%%\n"
        },
        "colab": {
          "base_uri": "https://localhost:8080/"
        },
        "id": "VYkwFujCunGK",
        "outputId": "444c63df-07e7-444b-e720-75a4c7327d7b"
      },
      "source": [
        "(testx, testy) = cifar10.load_data()[1]\n",
        "testx = testx.astype(\"float\") / 255.0\n",
        "\n",
        "# initialize the label names for the CIFAR-10 dataset\n",
        "labelNames = [\"airplane\", \"automobile\", \"bird\", \"cat\", \"deer\",\n",
        "              \"dog\", \"frog\", \"horse\", \"ship\", \"truck\"]\n",
        "\n",
        "# encode labels\n",
        "lb = LabelBinarizer()\n",
        "testy = lb.fit_transform(testy)"
      ],
      "execution_count": 6,
      "outputs": [
        {
          "output_type": "stream",
          "text": [
            "Downloading data from https://www.cs.toronto.edu/~kriz/cifar-10-python.tar.gz\n",
            "170500096/170498071 [==============================] - 11s 0us/step\n"
          ],
          "name": "stdout"
        }
      ]
    },
    {
      "cell_type": "code",
      "metadata": {
        "pycharm": {
          "name": "#%%\n"
        },
        "id": "vJABatROunGL"
      },
      "source": [
        "model_paths = os.path.sep.join([args[\"models\"], \"*.model\"])\n",
        "model_paths = list(glob.glob(model_paths))\n",
        "\n",
        "models = []"
      ],
      "execution_count": 7,
      "outputs": []
    },
    {
      "cell_type": "code",
      "metadata": {
        "pycharm": {
          "name": "#%%\n"
        },
        "colab": {
          "base_uri": "https://localhost:8080/"
        },
        "id": "eS2iB54uunGM",
        "outputId": "7be14107-01aa-4f06-b792-b397ffb573ee"
      },
      "source": [
        "# loop over model paths and then add them to model list\n",
        "for i, model_path in enumerate(model_paths):\n",
        "    print(f\"[INFO] loading model {i + 1}/{len(model_paths)}......\")\n",
        "    models.append(load_model(model_path))"
      ],
      "execution_count": 9,
      "outputs": [
        {
          "output_type": "stream",
          "text": [
            "[INFO] loading model 1/5......\n",
            "[INFO] loading model 2/5......\n",
            "[INFO] loading model 3/5......\n",
            "[INFO] loading model 4/5......\n",
            "[INFO] loading model 5/5......\n"
          ],
          "name": "stdout"
        }
      ]
    },
    {
      "cell_type": "code",
      "metadata": {
        "pycharm": {
          "name": "#%%\n"
        },
        "colab": {
          "base_uri": "https://localhost:8080/"
        },
        "id": "TdovNJ1eunGN",
        "outputId": "c8b4d418-e652-466f-d456-5ee8e8109be9"
      },
      "source": [
        "# init the list of preds\n",
        "print(f\"[INFO] evaluating ensembles......\")\n",
        "preds = []\n",
        "\n",
        "for model in models:\n",
        "    preds.append(model.predict(testx, batch_size=64))\n",
        "\n",
        "# avg all probs - this is the ensembling\n",
        "predictions = np.average(preds, axis=0)\n",
        "print(classification_report(testy.argmax(axis=1),\n",
        "                            predictions.argmax(axis=1),\n",
        "                            target_names=labelNames))"
      ],
      "execution_count": 11,
      "outputs": [
        {
          "output_type": "stream",
          "text": [
            "[INFO] evaluating ensembles......\n",
            "              precision    recall  f1-score   support\n",
            "\n",
            "    airplane       0.85      0.85      0.85      1000\n",
            "  automobile       0.91      0.95      0.93      1000\n",
            "        bird       0.83      0.67      0.74      1000\n",
            "         cat       0.78      0.58      0.66      1000\n",
            "        deer       0.78      0.78      0.78      1000\n",
            "         dog       0.84      0.68      0.75      1000\n",
            "        frog       0.63      0.97      0.76      1000\n",
            "       horse       0.88      0.87      0.88      1000\n",
            "        ship       0.92      0.91      0.92      1000\n",
            "       truck       0.86      0.93      0.89      1000\n",
            "\n",
            "    accuracy                           0.82     10000\n",
            "   macro avg       0.83      0.82      0.82     10000\n",
            "weighted avg       0.83      0.82      0.82     10000\n",
            "\n"
          ],
          "name": "stdout"
        }
      ]
    },
    {
      "cell_type": "code",
      "metadata": {
        "pycharm": {
          "name": "#%%\n"
        },
        "id": "Rx41kh2gunGO"
      },
      "source": [
        ""
      ],
      "execution_count": null,
      "outputs": []
    }
  ]
}