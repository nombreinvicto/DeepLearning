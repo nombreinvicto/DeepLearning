{
 "cells": [
  {
   "cell_type": "code",
   "execution_count": 2,
   "metadata": {
    "collapsed": true
   },
   "outputs": [],
   "source": [
    "from tensorflow.keras.applications import VGG16\n",
    "from tensorflow.keras.models import Model"
   ]
  },
  {
   "cell_type": "code",
   "execution_count": 3,
   "outputs": [
    {
     "name": "stdout",
     "output_type": "stream",
     "text": [
      "[INFO] loading network.....\n",
      "[INFO] showing layers.....\n",
      "[INFO] Layer 0 with name InputLayer.....\n",
      "[INFO] Layer 1 with name Conv2D.....\n",
      "[INFO] Layer 2 with name Conv2D.....\n",
      "[INFO] Layer 3 with name MaxPooling2D.....\n",
      "[INFO] Layer 4 with name Conv2D.....\n",
      "[INFO] Layer 5 with name Conv2D.....\n",
      "[INFO] Layer 6 with name MaxPooling2D.....\n",
      "[INFO] Layer 7 with name Conv2D.....\n",
      "[INFO] Layer 8 with name Conv2D.....\n",
      "[INFO] Layer 9 with name Conv2D.....\n",
      "[INFO] Layer 10 with name MaxPooling2D.....\n",
      "[INFO] Layer 11 with name Conv2D.....\n",
      "[INFO] Layer 12 with name Conv2D.....\n",
      "[INFO] Layer 13 with name Conv2D.....\n",
      "[INFO] Layer 14 with name MaxPooling2D.....\n",
      "[INFO] Layer 15 with name Conv2D.....\n",
      "[INFO] Layer 16 with name Conv2D.....\n",
      "[INFO] Layer 17 with name Conv2D.....\n",
      "[INFO] Layer 18 with name MaxPooling2D.....\n",
      "[INFO] Layer 19 with name Flatten.....\n",
      "[INFO] Layer 20 with name Dense.....\n",
      "[INFO] Layer 21 with name Dense.....\n",
      "[INFO] Layer 22 with name Dense.....\n"
     ]
    }
   ],
   "source": [
    "# load the model\n",
    "print(f'[INFO] loading network.....')\n",
    "model = VGG16(weights=\"imagenet\", include_top=True) #type: Model\n",
    "\n",
    "print(f'[INFO] showing layers.....')\n",
    "for i, layer in enumerate(model.layers):\n",
    "    print(f'[INFO] Layer {i} with name {layer.__class__.__name__}.....')"
   ],
   "metadata": {
    "collapsed": false,
    "pycharm": {
     "name": "#%%\n"
    }
   }
  },
  {
   "cell_type": "code",
   "execution_count": 4,
   "outputs": [
    {
     "name": "stdout",
     "output_type": "stream",
     "text": [
      "[INFO] loading network.....\n",
      "[INFO] showing layers.....\n",
      "[INFO] Layer 0 with name InputLayer.....\n",
      "[INFO] Layer 1 with name Conv2D.....\n",
      "[INFO] Layer 2 with name Conv2D.....\n",
      "[INFO] Layer 3 with name MaxPooling2D.....\n",
      "[INFO] Layer 4 with name Conv2D.....\n",
      "[INFO] Layer 5 with name Conv2D.....\n",
      "[INFO] Layer 6 with name MaxPooling2D.....\n",
      "[INFO] Layer 7 with name Conv2D.....\n",
      "[INFO] Layer 8 with name Conv2D.....\n",
      "[INFO] Layer 9 with name Conv2D.....\n",
      "[INFO] Layer 10 with name MaxPooling2D.....\n",
      "[INFO] Layer 11 with name Conv2D.....\n",
      "[INFO] Layer 12 with name Conv2D.....\n",
      "[INFO] Layer 13 with name Conv2D.....\n",
      "[INFO] Layer 14 with name MaxPooling2D.....\n",
      "[INFO] Layer 15 with name Conv2D.....\n",
      "[INFO] Layer 16 with name Conv2D.....\n",
      "[INFO] Layer 17 with name Conv2D.....\n",
      "[INFO] Layer 18 with name MaxPooling2D.....\n"
     ]
    }
   ],
   "source": [
    "# load the model\n",
    "print(f'[INFO] loading network.....')\n",
    "model = VGG16(weights=\"imagenet\", include_top=False) #type: Model\n",
    "\n",
    "print(f'[INFO] showing layers.....')\n",
    "for i, layer in enumerate(model.layers):\n",
    "    print(f'[INFO] Layer {i} with name {layer.__class__.__name__}.....')"
   ],
   "metadata": {
    "collapsed": false,
    "pycharm": {
     "name": "#%%\n"
    }
   }
  },
  {
   "cell_type": "code",
   "execution_count": null,
   "outputs": [],
   "source": [],
   "metadata": {
    "collapsed": false,
    "pycharm": {
     "name": "#%%\n"
    }
   }
  }
 ],
 "metadata": {
  "kernelspec": {
   "display_name": "Python 3",
   "language": "python",
   "name": "python3"
  },
  "language_info": {
   "codemirror_mode": {
    "name": "ipython",
    "version": 2
   },
   "file_extension": ".py",
   "mimetype": "text/x-python",
   "name": "python",
   "nbconvert_exporter": "python",
   "pygments_lexer": "ipython2",
   "version": "2.7.6"
  }
 },
 "nbformat": 4,
 "nbformat_minor": 0
}