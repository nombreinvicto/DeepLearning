{
 "cells": [
  {
   "cell_type": "code",
   "execution_count": 1,
   "metadata": {
    "collapsed": true,
    "pycharm": {
     "is_executing": true
    },
    "colab": {
     "base_uri": "https://localhost:8080/"
    },
    "id": "7YB05kp8IVKW",
    "outputId": "473c4e04-0d8c-4583-8b7e-08ae3b1cd92c"
   },
   "outputs": [
    {
     "output_type": "stream",
     "name": "stdout",
     "text": [
      "Mounted at /content/drive\n"
     ]
    }
   ],
   "source": [
    "import sys\n",
    "from google.colab import drive\n",
    "\n",
    "drive.mount('/content/drive')\n",
    "sys.path.append(r\"/content/drive/MyDrive/\")"
   ]
  },
  {
   "cell_type": "code",
   "execution_count": 2,
   "outputs": [],
   "source": [
    "from sklearn.linear_model import LogisticRegression\n",
    "from sklearn.model_selection import GridSearchCV\n",
    "from sklearn.metrics import classification_report\n",
    "import pickle\n",
    "import h5py"
   ],
   "metadata": {
    "id": "wnqzjcL2IVKZ"
   }
  },
  {
   "cell_type": "code",
   "execution_count": 3,
   "outputs": [],
   "source": [
    "# script constants\n",
    "h5_db_path = r\"/content/drive/MyDrive/ImageDataset/book2/animals/hdf5/features.hdf5\"\n"
   ],
   "metadata": {
    "id": "xD0VPNQ_IVKd"
   }
  },
  {
   "cell_type": "code",
   "execution_count": 4,
   "outputs": [
    {
     "output_type": "execute_result",
     "data": {
      "text/plain": [
       "2250"
      ]
     },
     "metadata": {},
     "execution_count": 4
    }
   ],
   "source": [
    "# open the hdf5 db\n",
    "db = h5py.File(name=h5_db_path, mode=\"r\")\n",
    "i = int(db[\"labels\"].shape[0] * 0.75)\n",
    "i"
   ],
   "metadata": {
    "colab": {
     "base_uri": "https://localhost:8080/"
    },
    "id": "0maGAA7AIVKf",
    "outputId": "7a1cfe76-2c58-4773-dcb1-832f32b4839f"
   }
  },
  {
   "cell_type": "code",
   "execution_count": 6,
   "outputs": [
    {
     "output_type": "stream",
     "name": "stdout",
     "text": [
      "[INFO] tuning hyperparams......\n"
     ]
    },
    {
     "output_type": "execute_result",
     "data": {
      "text/plain": [
       "GridSearchCV(cv=3, estimator=LogisticRegression(), n_jobs=1,\n",
       "             param_grid={'C': [0.1, 1.0, 10.0, 100.0, 1000.0]})"
      ]
     },
     "metadata": {},
     "execution_count": 6
    }
   ],
   "source": [
    "print(f\"[INFO] tuning hyperparams......\")\n",
    "params = {\"C\": [0.1, 1.0, 10.0, 100.0, 1000.0]}\n",
    "model = GridSearchCV(LogisticRegression(solver=\"lbfgs\",\n",
    "                                        multi_class=\"auto\", ),\n",
    "                     param_grid=params,\n",
    "                     cv=3,\n",
    "                     n_jobs=1)\n",
    "model.fit(db[\"features\"][:i], db[\"labels\"][:i])"
   ],
   "metadata": {
    "colab": {
     "base_uri": "https://localhost:8080/"
    },
    "id": "Js5d30euIVKh",
    "outputId": "55ac2c6d-2da6-4be8-fd47-21bb6a849b86"
   }
  },
  {
   "cell_type": "code",
   "execution_count": 7,
   "outputs": [
    {
     "output_type": "stream",
     "name": "stdout",
     "text": [
      "[INFO] best hyperparams are: {'C': 1.0}......\n"
     ]
    }
   ],
   "source": [
    "print(f\"[INFO] best hyperparams are: {model.best_params_}......\")"
   ],
   "metadata": {
    "colab": {
     "base_uri": "https://localhost:8080/"
    },
    "id": "njos2e2RIVKj",
    "outputId": "c733290a-1bf4-41e7-c7ce-991398d17835"
   }
  },
  {
   "cell_type": "code",
   "execution_count": 15,
   "outputs": [
    {
     "output_type": "stream",
     "name": "stdout",
     "text": [
      "[INFO] evaluating model......\n",
      "              precision    recall  f1-score   support\n",
      "\n",
      "        cats       0.98      0.98      0.98       258\n",
      "        dogs       0.98      0.98      0.98       254\n",
      "       panda       1.00      1.00      1.00       238\n",
      "\n",
      "    accuracy                           0.99       750\n",
      "   macro avg       0.99      0.99      0.99       750\n",
      "weighted avg       0.99      0.99      0.99       750\n",
      "\n"
     ]
    }
   ],
   "source": [
    "# evaluate the model\n",
    "print(f\"[INFO] evaluating model......\")\n",
    "target_names = [target.decode() for target in db[\"label_names\"]]\n",
    "preds = model.predict(db[\"features\"][i:])\n",
    "\n",
    "print(classification_report(db[\"labels\"][i:],\n",
    "                            preds,\n",
    "                            target_names=target_names))\n"
   ],
   "metadata": {
    "colab": {
     "base_uri": "https://localhost:8080/"
    },
    "id": "F5GPOl1TIVKl",
    "outputId": "2232ff65-88f2-46d6-fe96-c5e43cc7b8d1"
   }
  },
  {
   "cell_type": "code",
   "source": [],
   "metadata": {
    "id": "PWXaX06iJjZE"
   },
   "execution_count": null,
   "outputs": []
  }
 ],
 "metadata": {
  "kernelspec": {
   "display_name": "Python 3",
   "language": "python",
   "name": "python3"
  },
  "language_info": {
   "codemirror_mode": {
    "name": "ipython",
    "version": 2
   },
   "file_extension": ".py",
   "mimetype": "text/x-python",
   "name": "python",
   "nbconvert_exporter": "python",
   "pygments_lexer": "ipython2",
   "version": "2.7.6"
  },
  "colab": {
   "provenance": []
  },
  "accelerator": "GPU",
  "gpuClass": "premium"
 },
 "nbformat": 4,
 "nbformat_minor": 0
}
