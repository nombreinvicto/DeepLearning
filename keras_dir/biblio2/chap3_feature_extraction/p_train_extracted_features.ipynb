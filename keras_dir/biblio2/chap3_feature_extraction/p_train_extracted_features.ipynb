{
 "cells": [
  {
   "cell_type": "code",
   "execution_count": 1,
   "metadata": {},
   "outputs": [],
   "source": [
    "from sklearn.linear_model import LogisticRegression\n",
    "from sklearn.model_selection import GridSearchCV\n",
    "from sklearn.metrics import classification_report\n",
    "import h5py"
   ]
  },
  {
   "cell_type": "code",
   "execution_count": 2,
   "metadata": {
    "pycharm": {
     "name": "#%%\n"
    }
   },
   "outputs": [],
   "source": [
    "args = {\n",
    "    \"db\": r\"/home/mhasan3/Desktop/WorkFolder/Datasets/caltech-101/extracted_features/extracted_features_caltech.hdf5\",\n",
    "    \"jobs\": -1\n",
    "}"
   ]
  },
  {
   "cell_type": "code",
   "execution_count": 3,
   "metadata": {
    "pycharm": {
     "name": "#%%\n"
    }
   },
   "outputs": [
    {
     "name": "stdout",
     "output_type": "stream",
     "text": [
      "6507\n"
     ]
    }
   ],
   "source": [
    "# open the h5py database\n",
    "db = h5py.File(args[\"db\"], mode=\"r\")\n",
    "i = int(db[\"labels\"].shape[0] * 0.75)\n",
    "print(i)"
   ]
  },
  {
   "cell_type": "code",
   "execution_count": 4,
   "metadata": {
    "pycharm": {
     "name": "#%%\n"
    }
   },
   "outputs": [
    {
     "name": "stdout",
     "output_type": "stream",
     "text": [
      "[INFO] tuning hyperparameters.....\n"
     ]
    },
    {
     "name": "stderr",
     "output_type": "stream",
     "text": [
      "/usr/local/lib/python3.6/dist-packages/sklearn/linear_model/logistic.py:947: ConvergenceWarning: lbfgs failed to converge. Increase the number of iterations.\n",
      "  \"of iterations.\", ConvergenceWarning)\n"
     ]
    },
    {
     "data": {
      "text/plain": [
       "GridSearchCV(cv=3, error_score='raise-deprecating',\n",
       "             estimator=LogisticRegression(C=1.0, class_weight=None, dual=False,\n",
       "                                          fit_intercept=True,\n",
       "                                          intercept_scaling=1, l1_ratio=None,\n",
       "                                          max_iter=100, multi_class='auto',\n",
       "                                          n_jobs=None, penalty='l2',\n",
       "                                          random_state=None, solver='lbfgs',\n",
       "                                          tol=0.0001, verbose=0,\n",
       "                                          warm_start=False),\n",
       "             iid='warn', n_jobs=-1,\n",
       "             param_grid={'C': [0.1, 1.0, 10.0, 100.0, 1000.0, 10000.0]},\n",
       "             pre_dispatch='2*n_jobs', refit=True, return_train_score=False,\n",
       "             scoring=None, verbose=0)"
      ]
     },
     "execution_count": 4,
     "metadata": {},
     "output_type": "execute_result"
    }
   ],
   "source": [
    "print(f'[INFO] tuning hyperparameters.....')\n",
    "params = {\n",
    "    \"C\": [0.1, 1.0, 10.0, 100.0, 1000.0, 10000.0]\n",
    "}\n",
    "model = GridSearchCV(LogisticRegression(solver=\"lbfgs\",\n",
    "                                        multi_class=\"auto\"),\n",
    "                     param_grid=params,\n",
    "                     cv=3,\n",
    "                     n_jobs=args[\"jobs\"])\n",
    "model.fit(db[\"extracted_features\"][:i],\n",
    "          db[\"labels\"][:i])"
   ]
  },
  {
   "cell_type": "code",
   "execution_count": 11,
   "metadata": {
    "pycharm": {
     "name": "#%%\n"
    }
   },
   "outputs": [
    {
     "name": "stdout",
     "output_type": "stream",
     "text": [
      "[INFO] best hyperparams are : {'C': 0.1}.....\n",
      "[INFO] evaluating.....\n",
      "                 precision    recall  f1-score   support\n",
      "\n",
      "          Faces       0.98      0.96      0.97        99\n",
      "     Faces_easy       0.96      1.00      0.98       105\n",
      "       Leopards       0.98      1.00      0.99        45\n",
      "     Motorbikes       1.00      1.00      1.00       220\n",
      "      accordion       1.00      1.00      1.00        12\n",
      "      airplanes       1.00      1.00      1.00       199\n",
      "         anchor       0.60      1.00      0.75         6\n",
      "            ant       0.60      1.00      0.75         3\n",
      "         barrel       1.00      1.00      1.00        13\n",
      "           bass       1.00      0.67      0.80        15\n",
      "         beaver       1.00      0.67      0.80         9\n",
      "      binocular       0.89      0.89      0.89         9\n",
      "         bonsai       0.97      1.00      0.98        32\n",
      "          brain       0.89      1.00      0.94        25\n",
      "   brontosaurus       1.00      1.00      1.00        11\n",
      "         buddha       1.00      1.00      1.00        21\n",
      "      butterfly       0.96      0.96      0.96        25\n",
      "         camera       1.00      0.94      0.97        17\n",
      "         cannon       0.60      0.75      0.67         4\n",
      "       car_side       1.00      1.00      1.00        37\n",
      "    ceiling_fan       0.92      1.00      0.96        12\n",
      "      cellphone       0.94      1.00      0.97        16\n",
      "          chair       1.00      0.86      0.92        14\n",
      "     chandelier       0.97      0.97      0.97        30\n",
      "    cougar_body       0.87      0.68      0.76        19\n",
      "    cougar_face       0.88      1.00      0.94        15\n",
      "           crab       0.95      0.91      0.93        22\n",
      "       crayfish       0.86      1.00      0.92        12\n",
      "      crocodile       0.88      0.88      0.88        16\n",
      " crocodile_head       1.00      0.87      0.93        15\n",
      "            cup       1.00      1.00      1.00        12\n",
      "      dalmatian       1.00      1.00      1.00        20\n",
      "    dollar_bill       0.92      0.92      0.92        12\n",
      "        dolphin       0.89      1.00      0.94        17\n",
      "      dragonfly       1.00      0.96      0.98        24\n",
      "electric_guitar       1.00      1.00      1.00        20\n",
      "       elephant       0.85      0.94      0.89        18\n",
      "            emu       1.00      0.92      0.96        13\n",
      "      euphonium       1.00      1.00      1.00        15\n",
      "           ewer       1.00      1.00      1.00        13\n",
      "          ferry       1.00      1.00      1.00        19\n",
      "       flamingo       0.91      0.83      0.87        12\n",
      "  flamingo_head       0.93      1.00      0.96        13\n",
      "       garfield       1.00      1.00      1.00         3\n",
      "        gerenuk       1.00      0.86      0.92         7\n",
      "     gramophone       1.00      0.92      0.96        13\n",
      "    grand_piano       1.00      1.00      1.00        31\n",
      "      hawksbill       0.96      1.00      0.98        27\n",
      "      headphone       1.00      0.93      0.96        14\n",
      "       hedgehog       0.90      0.90      0.90        10\n",
      "     helicopter       0.95      0.90      0.93        21\n",
      "           ibis       0.94      0.88      0.91        17\n",
      "   inline_skate       1.00      1.00      1.00         4\n",
      "    joshua_tree       1.00      1.00      1.00        15\n",
      "       kangaroo       0.91      1.00      0.95        20\n",
      "          ketch       0.89      0.85      0.87        20\n",
      "           lamp       1.00      1.00      1.00        10\n",
      "         laptop       1.00      1.00      1.00        16\n",
      "          llama       0.77      0.77      0.77        13\n",
      "        lobster       1.00      0.78      0.88         9\n",
      "          lotus       0.63      0.86      0.73        14\n",
      "       mandolin       1.00      1.00      1.00        12\n",
      "         mayfly       1.00      0.70      0.82        10\n",
      "        menorah       0.95      1.00      0.97        19\n",
      "      metronome       0.91      1.00      0.95        10\n",
      "        minaret       1.00      1.00      1.00        18\n",
      "       nautilus       0.94      1.00      0.97        15\n",
      "        octopus       0.62      0.83      0.71         6\n",
      "          okapi       1.00      0.89      0.94         9\n",
      "         pagoda       1.00      1.00      1.00         8\n",
      "          panda       1.00      0.89      0.94         9\n",
      "         pigeon       0.94      1.00      0.97        17\n",
      "          pizza       1.00      1.00      1.00        16\n",
      "       platypus       1.00      0.92      0.96        12\n",
      "        pyramid       1.00      0.92      0.96        13\n",
      "       revolver       1.00      0.95      0.98        22\n",
      "          rhino       0.95      0.95      0.95        20\n",
      "        rooster       1.00      0.94      0.97        16\n",
      "      saxophone       1.00      1.00      1.00        14\n",
      "       schooner       0.83      0.94      0.88        16\n",
      "       scissors       1.00      0.95      0.97        20\n",
      "       scorpion       1.00      1.00      1.00        15\n",
      "      sea_horse       0.88      0.93      0.90        15\n",
      "         snoopy       0.86      1.00      0.92         6\n",
      "    soccer_ball       1.00      1.00      1.00        23\n",
      "        stapler       0.93      1.00      0.96        13\n",
      "       starfish       0.95      0.86      0.90        21\n",
      "    stegosaurus       0.94      1.00      0.97        16\n",
      "      stop_sign       1.00      0.92      0.96        12\n",
      "     strawberry       1.00      1.00      1.00         7\n",
      "      sunflower       0.96      0.96      0.96        23\n",
      "           tick       1.00      1.00      1.00         8\n",
      "      trilobite       1.00      1.00      1.00        30\n",
      "       umbrella       0.89      0.94      0.92        18\n",
      "          watch       1.00      0.98      0.99        60\n",
      "    water_lilly       0.75      0.50      0.60        12\n",
      "     wheelchair       1.00      0.92      0.96        13\n",
      "       wild_cat       0.91      0.83      0.87        12\n",
      "  windsor_chair       0.91      1.00      0.95        10\n",
      "         wrench       0.90      0.90      0.90        10\n",
      "       yin_yang       0.93      1.00      0.97        14\n",
      "\n",
      "       accuracy                           0.96      2170\n",
      "      macro avg       0.94      0.94      0.94      2170\n",
      "   weighted avg       0.96      0.96      0.96      2170\n",
      "\n"
     ]
    }
   ],
   "source": [
    "print(f'[INFO] best hyperparams are : {model.best_params_}.....')\n",
    "print(f'[INFO] evaluating.....')\n",
    "preds = model.predict(db[\"extracted_features\"][i:])\n",
    "print(classification_report(db[\"labels\"][i:], preds,\n",
    "                            target_names=[label.decode() for label in db[\"label_names\"][:]]))"
   ]
  },
  {
   "cell_type": "code",
   "execution_count": null,
   "metadata": {
    "pycharm": {
     "name": "#%%\n"
    }
   },
   "outputs": [],
   "source": []
  }
 ],
 "metadata": {
  "kernelspec": {
   "display_name": "Python 3",
   "language": "python",
   "name": "python3"
  },
  "language_info": {
   "codemirror_mode": {
    "name": "ipython",
    "version": 3
   },
   "file_extension": ".py",
   "mimetype": "text/x-python",
   "name": "python",
   "nbconvert_exporter": "python",
   "pygments_lexer": "ipython3",
   "version": "3.6.7"
  }
 },
 "nbformat": 4,
 "nbformat_minor": 1
}
