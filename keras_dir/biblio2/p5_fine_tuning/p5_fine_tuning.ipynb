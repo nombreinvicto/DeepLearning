{
 "nbformat": 4,
 "nbformat_minor": 0,
 "metadata": {
  "kernelspec": {
   "display_name": "Python 3",
   "language": "python",
   "name": "python3"
  },
  "language_info": {
   "codemirror_mode": {
    "name": "ipython",
    "version": 2
   },
   "file_extension": ".py",
   "mimetype": "text/x-python",
   "name": "python",
   "nbconvert_exporter": "python",
   "pygments_lexer": "ipython2",
   "version": "2.7.6"
  },
  "colab": {
   "name": "p5_fine_tuning.ipynb",
   "provenance": [],
   "collapsed_sections": []
  },
  "accelerator": "GPU"
 },
 "cells": [
  {
   "cell_type": "code",
   "metadata": {
    "pycharm": {
     "name": "#%%\n"
    },
    "colab": {
     "base_uri": "https://localhost:8080/"
    },
    "id": "arVfrIdnw2Y2",
    "outputId": "38d86138-48ff-4124-f8d5-a81e05ea24d7"
   },
   "source": [
    "import sys\n",
    "from google.colab import drive\n",
    "\n",
    "drive.mount('/content/drive')\n",
    "sys.path.append(r\"/content/drive/MyDrive/\")"
   ],
   "execution_count": 1,
   "outputs": [
    {
     "output_type": "stream",
     "text": [
      "Mounted at /content/drive\n"
     ],
     "name": "stdout"
    }
   ]
  },
  {
   "cell_type": "code",
   "metadata": {
    "collapsed": true,
    "id": "3V_NUdKew2Y7"
   },
   "source": [
    "import os\n",
    "import numpy as np\n",
    "import pandas as pd\n",
    "import seaborn as sns\n",
    "import argparse, progressbar\n",
    "import matplotlib.pyplot as plt\n",
    "from matplotlib.figure import Figure\n",
    "import matplotlib.axes._axes as axes\n",
    "\n",
    "sns.set()"
   ],
   "execution_count": 2,
   "outputs": []
  },
  {
   "cell_type": "code",
   "metadata": {
    "pycharm": {
     "name": "#%%\n"
    },
    "id": "3vTu8Dw8w2Y8"
   },
   "source": [
    "# import the necessary packages\n",
    "from sklearn.preprocessing import LabelBinarizer\n",
    "from sklearn.model_selection import train_test_split\n",
    "from sklearn.metrics import classification_report\n",
    "from loader_util.preprocessing import ImageToArrayPreprocessor,AspectAwarePreprocessor\n",
    "from loader_util.datasets import SimpleDatasetLoader\n",
    "from loader_util.nn.conv import FCHeadNet\n",
    "##\n",
    "import tensorflow as tf\n",
    "from tensorflow.keras.layers import Conv2D, Activation, Flatten, Dense\n",
    "from tensorflow.keras.preprocessing.image import ImageDataGenerator\n",
    "from tensorflow.keras.optimizers import RMSprop, SGD\n",
    "from tensorflow.keras.applications import VGG16\n",
    "from tensorflow.keras.layers import Input\n",
    "from tensorflow.keras.models import Model\n",
    "from tensorflow.keras import backend as K\n",
    "from imutils import paths"
   ],
   "execution_count": 3,
   "outputs": []
  },
  {
   "cell_type": "code",
   "metadata": {
    "pycharm": {
     "name": "#%%\n"
    },
    "id": "YeG4N22Yw2Y9"
   },
   "source": [
    "# construct the arg parser\n",
    "epochs = 25\n",
    "data_path = r\"/content/drive/MyDrive/ImageDatasets/flowers17/images\"\n",
    "\n",
    "args = {\n",
    "    \"dataset\": data_path,\n",
    "    \"model\": r\"\"\n",
    "}\n",
    "\n",
    "# construct the image generator\n",
    "aug = ImageDataGenerator(rotation_range=30,\n",
    "                         width_shift_range=0.1,\n",
    "                         height_shift_range=0.1,\n",
    "                         shear_range=0.2,\n",
    "                         zoom_range=0.2,\n",
    "                         horizontal_flip=True,\n",
    "                         fill_mode=\"nearest\")"
   ],
   "execution_count": 4,
   "outputs": []
  },
  {
   "cell_type": "code",
   "metadata": {
    "pycharm": {
     "name": "#%%\n"
    },
    "colab": {
     "base_uri": "https://localhost:8080/"
    },
    "id": "4ZT7l6unw2Y-",
    "outputId": "07dabef8-34e7-4760-9cb9-58039d031a6c"
   },
   "source": [
    "print(f\"[INFO] loading images......\")\n",
    "image_paths = list(paths.list_images(args[\"dataset\"]))\n",
    "class_names = [pt.split(os.path.sep)[-2] for pt in image_paths]\n",
    "unique_class_names = np.unique(class_names)"
   ],
   "execution_count": 5,
   "outputs": [
    {
     "output_type": "stream",
     "text": [
      "[INFO] loading images......\n"
     ],
     "name": "stdout"
    }
   ]
  },
  {
   "cell_type": "code",
   "metadata": {
    "pycharm": {
     "name": "#%%\n"
    },
    "colab": {
     "base_uri": "https://localhost:8080/"
    },
    "id": "EgRb_-7hw2Y-",
    "outputId": "7674299b-474b-4155-cb3c-fb712566f29f"
   },
   "source": [
    "# init the preprocessprs\n",
    "aap = AspectAwarePreprocessor(224, 224)\n",
    "iap = ImageToArrayPreprocessor()\n",
    "\n",
    "sdl = SimpleDatasetLoader(preprocessors=[aap, iap])\n",
    "data, labels = sdl.load(image_paths, verbose=200)\n",
    "data = data.astype(np.float32) / 255.0"
   ],
   "execution_count": 6,
   "outputs": [
    {
     "output_type": "stream",
     "text": [
      "[INFO] processed 200/1360\n",
      "[INFO] processed 400/1360\n",
      "[INFO] processed 600/1360\n",
      "[INFO] processed 800/1360\n",
      "[INFO] processed 1000/1360\n",
      "[INFO] processed 1200/1360\n"
     ],
     "name": "stdout"
    }
   ]
  },
  {
   "cell_type": "code",
   "metadata": {
    "pycharm": {
     "name": "#%%\n"
    },
    "id": "M3nIrDuJw2Y_"
   },
   "source": [
    "# split the data\n",
    "trainx, testx, trainy, testy = train_test_split(data, labels,\n",
    "                                                random_state=42,\n",
    "                                                test_size=0.25)\n",
    "# encode the labesl\n",
    "lb = LabelBinarizer()\n",
    "trainy = lb.fit_transform(trainy)\n",
    "testy = lb.transform(testy)"
   ],
   "execution_count": 7,
   "outputs": []
  },
  {
   "cell_type": "code",
   "metadata": {
    "pycharm": {
     "name": "#%%\n"
    },
    "colab": {
     "base_uri": "https://localhost:8080/"
    },
    "id": "MfBYME1Tw2ZA",
    "outputId": "d146fd86-39c7-467f-d090-c9a4ddb26dc6"
   },
   "source": [
    "# load the base net\n",
    "base_model = VGG16(weights=\"imagenet\", include_top=False,\n",
    "                   input_tensor=Input(shape=(224, 224, 3)))  # type: Model\n",
    "head_model = FCHeadNet.builld(baseModel=base_model,\n",
    "                              classes=len(unique_class_names),\n",
    "                              fc_nodes=[256])  # type: Model\n",
    "\n",
    "model = Model(inputs=base_model.input, outputs=head_model)"
   ],
   "execution_count": 8,
   "outputs": [
    {
     "output_type": "stream",
     "text": [
      "Downloading data from https://storage.googleapis.com/tensorflow/keras-applications/vgg16/vgg16_weights_tf_dim_ordering_tf_kernels_notop.h5\n",
      "58892288/58889256 [==============================] - 0s 0us/step\n",
      "BaseModel Out Shape:  (None, 7, 7, 512)\n"
     ],
     "name": "stdout"
    }
   ]
  },
  {
   "cell_type": "code",
   "metadata": {
    "pycharm": {
     "name": "#%%\n"
    },
    "id": "BKl7bsSlw2ZC"
   },
   "source": [
    "# freeze base model layers\n",
    "for layer in base_model.layers:\n",
    "    layer.trainable = False"
   ],
   "execution_count": 9,
   "outputs": []
  },
  {
   "cell_type": "code",
   "metadata": {
    "pycharm": {
     "name": "#%%\n"
    },
    "colab": {
     "base_uri": "https://localhost:8080/"
    },
    "id": "fCjYkXeww2ZD",
    "outputId": "4d966bb5-1944-4fae-fc2a-a7996c3bb147"
   },
   "source": [
    "# compile the model\n",
    "print(f\"[INFO] compiling the model......\")\n",
    "opt = RMSprop(lr=0.001)\n",
    "model.compile(loss=\"categorical_crossentropy\",\n",
    "              optimizer=opt,\n",
    "              metrics=[\"accuracy\"])"
   ],
   "execution_count": 10,
   "outputs": [
    {
     "output_type": "stream",
     "text": [
      "[INFO] compiling the model......\n"
     ],
     "name": "stdout"
    },
    {
     "output_type": "stream",
     "text": [
      "/usr/local/lib/python3.7/dist-packages/tensorflow/python/keras/optimizer_v2/optimizer_v2.py:375: UserWarning: The `lr` argument is deprecated, use `learning_rate` instead.\n",
      "  \"The `lr` argument is deprecated, use `learning_rate` instead.\")\n"
     ],
     "name": "stderr"
    }
   ]
  },
  {
   "cell_type": "code",
   "metadata": {
    "pycharm": {
     "name": "#%%\n"
    },
    "colab": {
     "base_uri": "https://localhost:8080/"
    },
    "id": "nr7AISQvw2ZD",
    "outputId": "32d45b0e-ece4-4659-a000-0c7939c67df3"
   },
   "source": [
    "print(f\"[INFO] training head for few epochs......\")\n",
    "model.fit_generator(aug.flow(trainx, trainy, batch_size=32),\n",
    "                    validation_data=(testx, testy),\n",
    "                    epochs=epochs,\n",
    "                    verbose=1)"
   ],
   "execution_count": 11,
   "outputs": [
    {
     "output_type": "stream",
     "text": [
      "[INFO] training head for few epochs......\n"
     ],
     "name": "stdout"
    },
    {
     "output_type": "stream",
     "text": [
      "/usr/local/lib/python3.7/dist-packages/tensorflow/python/keras/engine/training.py:1940: UserWarning: `Model.fit_generator` is deprecated and will be removed in a future version. Please use `Model.fit`, which supports generators.\n",
      "  warnings.warn('`Model.fit_generator` is deprecated and '\n"
     ],
     "name": "stderr"
    },
    {
     "output_type": "stream",
     "text": [
      "Epoch 1/25\n",
      "32/32 [==============================] - 56s 648ms/step - loss: 4.9458 - accuracy: 0.1824 - val_loss: 2.1831 - val_accuracy: 0.2500\n",
      "Epoch 2/25\n",
      "32/32 [==============================] - 11s 349ms/step - loss: 2.2730 - accuracy: 0.2637 - val_loss: 1.4980 - val_accuracy: 0.5765\n",
      "Epoch 3/25\n",
      "32/32 [==============================] - 11s 353ms/step - loss: 1.9409 - accuracy: 0.3745 - val_loss: 1.1577 - val_accuracy: 0.6559\n",
      "Epoch 4/25\n",
      "32/32 [==============================] - 11s 354ms/step - loss: 1.7252 - accuracy: 0.4529 - val_loss: 1.0575 - val_accuracy: 0.6735\n",
      "Epoch 5/25\n",
      "32/32 [==============================] - 11s 353ms/step - loss: 1.5608 - accuracy: 0.4922 - val_loss: 1.0236 - val_accuracy: 0.6676\n",
      "Epoch 6/25\n",
      "32/32 [==============================] - 11s 355ms/step - loss: 1.3261 - accuracy: 0.5588 - val_loss: 0.7538 - val_accuracy: 0.7912\n",
      "Epoch 7/25\n",
      "32/32 [==============================] - 11s 356ms/step - loss: 1.2903 - accuracy: 0.5745 - val_loss: 0.7520 - val_accuracy: 0.7765\n",
      "Epoch 8/25\n",
      "32/32 [==============================] - 11s 357ms/step - loss: 1.1266 - accuracy: 0.6255 - val_loss: 0.5814 - val_accuracy: 0.7882\n",
      "Epoch 9/25\n",
      "32/32 [==============================] - 12s 361ms/step - loss: 1.0741 - accuracy: 0.6275 - val_loss: 0.6662 - val_accuracy: 0.7706\n",
      "Epoch 10/25\n",
      "32/32 [==============================] - 12s 359ms/step - loss: 1.0586 - accuracy: 0.6529 - val_loss: 0.5387 - val_accuracy: 0.8235\n",
      "Epoch 11/25\n",
      "32/32 [==============================] - 12s 361ms/step - loss: 0.9870 - accuracy: 0.6745 - val_loss: 0.5731 - val_accuracy: 0.8294\n",
      "Epoch 12/25\n",
      "32/32 [==============================] - 11s 356ms/step - loss: 0.9605 - accuracy: 0.6863 - val_loss: 0.5242 - val_accuracy: 0.8118\n",
      "Epoch 13/25\n",
      "32/32 [==============================] - 11s 355ms/step - loss: 0.9123 - accuracy: 0.6971 - val_loss: 0.4954 - val_accuracy: 0.8412\n",
      "Epoch 14/25\n",
      "32/32 [==============================] - 11s 357ms/step - loss: 0.8447 - accuracy: 0.7176 - val_loss: 0.4527 - val_accuracy: 0.8765\n",
      "Epoch 15/25\n",
      "32/32 [==============================] - 11s 356ms/step - loss: 0.7972 - accuracy: 0.7294 - val_loss: 0.4013 - val_accuracy: 0.8647\n",
      "Epoch 16/25\n",
      "32/32 [==============================] - 11s 357ms/step - loss: 0.8455 - accuracy: 0.7186 - val_loss: 0.3824 - val_accuracy: 0.8735\n",
      "Epoch 17/25\n",
      "32/32 [==============================] - 12s 361ms/step - loss: 0.7876 - accuracy: 0.7412 - val_loss: 0.4784 - val_accuracy: 0.8559\n",
      "Epoch 18/25\n",
      "32/32 [==============================] - 11s 357ms/step - loss: 0.8259 - accuracy: 0.7304 - val_loss: 0.4957 - val_accuracy: 0.8618\n",
      "Epoch 19/25\n",
      "32/32 [==============================] - 11s 355ms/step - loss: 0.7239 - accuracy: 0.7637 - val_loss: 0.3975 - val_accuracy: 0.8882\n",
      "Epoch 20/25\n",
      "32/32 [==============================] - 12s 358ms/step - loss: 0.7181 - accuracy: 0.7363 - val_loss: 0.5288 - val_accuracy: 0.8559\n",
      "Epoch 21/25\n",
      "32/32 [==============================] - 11s 357ms/step - loss: 0.7647 - accuracy: 0.7441 - val_loss: 0.4364 - val_accuracy: 0.8676\n",
      "Epoch 22/25\n",
      "32/32 [==============================] - 11s 358ms/step - loss: 0.6908 - accuracy: 0.7647 - val_loss: 0.4613 - val_accuracy: 0.8676\n",
      "Epoch 23/25\n",
      "32/32 [==============================] - 11s 357ms/step - loss: 0.6581 - accuracy: 0.7775 - val_loss: 0.4400 - val_accuracy: 0.8588\n",
      "Epoch 24/25\n",
      "32/32 [==============================] - 11s 356ms/step - loss: 0.7032 - accuracy: 0.7784 - val_loss: 0.4577 - val_accuracy: 0.8588\n",
      "Epoch 25/25\n",
      "32/32 [==============================] - 11s 358ms/step - loss: 0.6606 - accuracy: 0.7853 - val_loss: 0.4263 - val_accuracy: 0.8912\n"
     ],
     "name": "stdout"
    },
    {
     "output_type": "execute_result",
     "data": {
      "text/plain": [
       "<tensorflow.python.keras.callbacks.History at 0x7f19b7027f50>"
      ]
     },
     "metadata": {
      "tags": []
     },
     "execution_count": 11
    }
   ]
  },
  {
   "cell_type": "code",
   "metadata": {
    "pycharm": {
     "name": "#%%\n"
    },
    "colab": {
     "base_uri": "https://localhost:8080/"
    },
    "id": "_WmXFD8kw2ZE",
    "outputId": "ee81bab7-494e-424b-9ae3-d846656ae160"
   },
   "source": [
    "# evaluate the model\n",
    "# evaluate the network\n",
    "print(\"[INFO] evaluating network...\")\n",
    "predictions = model.predict(testx, batch_size=32)\n",
    "print(classification_report(testy.argmax(axis=1),\n",
    "                            predictions.argmax(axis=1),\n",
    "                            target_names=unique_class_names))"
   ],
   "execution_count": 12,
   "outputs": [
    {
     "output_type": "stream",
     "text": [
      "[INFO] evaluating network...\n",
      "              precision    recall  f1-score   support\n",
      "\n",
      "    bluebell       1.00      0.88      0.93        16\n",
      "   buttercup       1.00      0.89      0.94        18\n",
      "   coltsfoot       0.83      0.95      0.88        20\n",
      "     cowslip       0.85      0.77      0.81        22\n",
      "      crocus       0.90      0.83      0.86        23\n",
      "    daffodil       0.78      0.78      0.78        18\n",
      "       daisy       1.00      0.96      0.98        23\n",
      "   dandelion       1.00      0.83      0.90        23\n",
      "  fritillary       0.95      0.95      0.95        20\n",
      "        iris       1.00      0.94      0.97        16\n",
      "  lilyvalley       0.94      0.84      0.89        19\n",
      "       pansy       1.00      0.95      0.97        19\n",
      "    snowdrop       0.75      0.90      0.82        20\n",
      "   sunflower       1.00      1.00      1.00        27\n",
      "   tigerlily       0.95      0.95      0.95        21\n",
      "       tulip       0.46      0.73      0.56        15\n",
      "  windflower       0.90      0.95      0.93        20\n",
      "\n",
      "    accuracy                           0.89       340\n",
      "   macro avg       0.90      0.89      0.89       340\n",
      "weighted avg       0.91      0.89      0.90       340\n",
      "\n"
     ],
     "name": "stdout"
    }
   ]
  },
  {
   "cell_type": "code",
   "metadata": {
    "pycharm": {
     "name": "#%%\n"
    },
    "id": "eeInxxXow2ZE"
   },
   "source": [
    "# unfreeze some layers and retrain\n",
    "for layer in base_model.layers[14:]:\n",
    "    layer.trainable = True"
   ],
   "execution_count": 13,
   "outputs": []
  },
  {
   "cell_type": "code",
   "metadata": {
    "pycharm": {
     "name": "#%%\n"
    },
    "colab": {
     "base_uri": "https://localhost:8080/"
    },
    "id": "dvy4tUesw2ZF",
    "outputId": "c1e7c5be-405b-42f6-b4da-4f70f3aeb066"
   },
   "source": [
    "# recompile the model\n",
    "\n",
    "print(f\"[INFO] re-compiling the model......\")\n",
    "opt = SGD(lr=0.001)\n",
    "model.compile(loss=\"categorical_crossentropy\",\n",
    "              optimizer=opt,\n",
    "              metrics=[\"accuracy\"])"
   ],
   "execution_count": 14,
   "outputs": [
    {
     "output_type": "stream",
     "text": [
      "[INFO] re-compiling the model......\n"
     ],
     "name": "stdout"
    },
    {
     "output_type": "stream",
     "text": [
      "/usr/local/lib/python3.7/dist-packages/tensorflow/python/keras/optimizer_v2/optimizer_v2.py:375: UserWarning: The `lr` argument is deprecated, use `learning_rate` instead.\n",
      "  \"The `lr` argument is deprecated, use `learning_rate` instead.\")\n"
     ],
     "name": "stderr"
    }
   ]
  },
  {
   "cell_type": "code",
   "metadata": {
    "pycharm": {
     "name": "#%%\n"
    },
    "colab": {
     "base_uri": "https://localhost:8080/"
    },
    "id": "R0xXQ-Tgw2ZF",
    "outputId": "fcfbbdd2-cb89-431f-c44d-62835c436a7e"
   },
   "source": [
    "# retrain the model\n",
    "print(f\"[INFO] fine tuning the model......\")\n",
    "H = model.fit_generator(aug.flow(trainx, trainy, batch_size=32),\n",
    "                        validation_data=(testx, testy),\n",
    "                        epochs=100,\n",
    "                        verbose=1)"
   ],
   "execution_count": 15,
   "outputs": [
    {
     "output_type": "stream",
     "text": [
      "[INFO] fine tuning the model......\n"
     ],
     "name": "stdout"
    },
    {
     "output_type": "stream",
     "text": [
      "/usr/local/lib/python3.7/dist-packages/tensorflow/python/keras/engine/training.py:1940: UserWarning: `Model.fit_generator` is deprecated and will be removed in a future version. Please use `Model.fit`, which supports generators.\n",
      "  warnings.warn('`Model.fit_generator` is deprecated and '\n"
     ],
     "name": "stderr"
    },
    {
     "output_type": "stream",
     "text": [
      "Epoch 1/100\n",
      "32/32 [==============================] - 14s 368ms/step - loss: 0.4933 - accuracy: 0.8382 - val_loss: 0.4125 - val_accuracy: 0.8765\n",
      "Epoch 2/100\n",
      "32/32 [==============================] - 12s 374ms/step - loss: 0.4755 - accuracy: 0.8441 - val_loss: 0.3720 - val_accuracy: 0.8941\n",
      "Epoch 3/100\n",
      "32/32 [==============================] - 12s 374ms/step - loss: 0.3973 - accuracy: 0.8559 - val_loss: 0.3579 - val_accuracy: 0.9029\n",
      "Epoch 4/100\n",
      "32/32 [==============================] - 12s 374ms/step - loss: 0.3569 - accuracy: 0.8882 - val_loss: 0.3589 - val_accuracy: 0.8971\n",
      "Epoch 5/100\n",
      "32/32 [==============================] - 12s 367ms/step - loss: 0.3935 - accuracy: 0.8598 - val_loss: 0.3420 - val_accuracy: 0.8941\n",
      "Epoch 6/100\n",
      "32/32 [==============================] - 12s 365ms/step - loss: 0.3974 - accuracy: 0.8637 - val_loss: 0.3432 - val_accuracy: 0.9000\n",
      "Epoch 7/100\n",
      "32/32 [==============================] - 12s 365ms/step - loss: 0.3491 - accuracy: 0.8892 - val_loss: 0.3621 - val_accuracy: 0.8941\n",
      "Epoch 8/100\n",
      "32/32 [==============================] - 12s 366ms/step - loss: 0.3669 - accuracy: 0.8745 - val_loss: 0.3340 - val_accuracy: 0.9118\n",
      "Epoch 9/100\n",
      "32/32 [==============================] - 12s 369ms/step - loss: 0.3487 - accuracy: 0.8853 - val_loss: 0.3376 - val_accuracy: 0.9147\n",
      "Epoch 10/100\n",
      "32/32 [==============================] - 12s 368ms/step - loss: 0.3132 - accuracy: 0.8931 - val_loss: 0.3767 - val_accuracy: 0.9118\n",
      "Epoch 11/100\n",
      "32/32 [==============================] - 12s 362ms/step - loss: 0.3639 - accuracy: 0.8775 - val_loss: 0.3648 - val_accuracy: 0.9147\n",
      "Epoch 12/100\n",
      "32/32 [==============================] - 12s 366ms/step - loss: 0.3361 - accuracy: 0.8804 - val_loss: 0.3356 - val_accuracy: 0.9118\n",
      "Epoch 13/100\n",
      "32/32 [==============================] - 12s 367ms/step - loss: 0.3216 - accuracy: 0.8843 - val_loss: 0.3221 - val_accuracy: 0.9118\n",
      "Epoch 14/100\n",
      "32/32 [==============================] - 12s 366ms/step - loss: 0.2913 - accuracy: 0.8980 - val_loss: 0.3247 - val_accuracy: 0.9088\n",
      "Epoch 15/100\n",
      "32/32 [==============================] - 12s 368ms/step - loss: 0.2821 - accuracy: 0.8971 - val_loss: 0.3664 - val_accuracy: 0.9147\n",
      "Epoch 16/100\n",
      "32/32 [==============================] - 12s 365ms/step - loss: 0.2569 - accuracy: 0.9098 - val_loss: 0.4368 - val_accuracy: 0.8941\n",
      "Epoch 17/100\n",
      "32/32 [==============================] - 12s 369ms/step - loss: 0.2961 - accuracy: 0.8873 - val_loss: 0.3406 - val_accuracy: 0.9059\n",
      "Epoch 18/100\n",
      "32/32 [==============================] - 12s 368ms/step - loss: 0.2964 - accuracy: 0.8980 - val_loss: 0.3505 - val_accuracy: 0.9147\n",
      "Epoch 19/100\n",
      "32/32 [==============================] - 12s 365ms/step - loss: 0.3061 - accuracy: 0.8824 - val_loss: 0.3504 - val_accuracy: 0.9206\n",
      "Epoch 20/100\n",
      "32/32 [==============================] - 12s 366ms/step - loss: 0.3057 - accuracy: 0.8912 - val_loss: 0.3348 - val_accuracy: 0.9147\n",
      "Epoch 21/100\n",
      "32/32 [==============================] - 12s 369ms/step - loss: 0.2939 - accuracy: 0.8971 - val_loss: 0.3681 - val_accuracy: 0.9059\n",
      "Epoch 22/100\n",
      "32/32 [==============================] - 12s 368ms/step - loss: 0.2914 - accuracy: 0.9000 - val_loss: 0.3719 - val_accuracy: 0.9088\n",
      "Epoch 23/100\n",
      "32/32 [==============================] - 12s 368ms/step - loss: 0.2577 - accuracy: 0.9137 - val_loss: 0.3746 - val_accuracy: 0.9147\n",
      "Epoch 24/100\n",
      "32/32 [==============================] - 12s 366ms/step - loss: 0.2508 - accuracy: 0.9118 - val_loss: 0.3962 - val_accuracy: 0.9000\n",
      "Epoch 25/100\n",
      "32/32 [==============================] - 12s 368ms/step - loss: 0.2539 - accuracy: 0.9176 - val_loss: 0.3421 - val_accuracy: 0.9324\n",
      "Epoch 26/100\n",
      "32/32 [==============================] - 12s 367ms/step - loss: 0.3186 - accuracy: 0.8931 - val_loss: 0.2968 - val_accuracy: 0.9294\n",
      "Epoch 27/100\n",
      "32/32 [==============================] - 12s 364ms/step - loss: 0.2541 - accuracy: 0.9127 - val_loss: 0.3109 - val_accuracy: 0.9147\n",
      "Epoch 28/100\n",
      "32/32 [==============================] - 12s 366ms/step - loss: 0.2373 - accuracy: 0.9216 - val_loss: 0.3392 - val_accuracy: 0.9294\n",
      "Epoch 29/100\n",
      "32/32 [==============================] - 12s 368ms/step - loss: 0.2670 - accuracy: 0.9118 - val_loss: 0.3268 - val_accuracy: 0.9147\n",
      "Epoch 30/100\n",
      "32/32 [==============================] - 12s 365ms/step - loss: 0.2150 - accuracy: 0.9225 - val_loss: 0.3296 - val_accuracy: 0.9265\n",
      "Epoch 31/100\n",
      "32/32 [==============================] - 12s 366ms/step - loss: 0.2865 - accuracy: 0.9029 - val_loss: 0.3687 - val_accuracy: 0.9118\n",
      "Epoch 32/100\n",
      "32/32 [==============================] - 12s 366ms/step - loss: 0.2493 - accuracy: 0.9127 - val_loss: 0.2931 - val_accuracy: 0.9353\n",
      "Epoch 33/100\n",
      "32/32 [==============================] - 12s 368ms/step - loss: 0.2169 - accuracy: 0.9216 - val_loss: 0.3134 - val_accuracy: 0.9353\n",
      "Epoch 34/100\n",
      "32/32 [==============================] - 12s 365ms/step - loss: 0.2266 - accuracy: 0.9216 - val_loss: 0.3184 - val_accuracy: 0.9324\n",
      "Epoch 35/100\n",
      "32/32 [==============================] - 12s 366ms/step - loss: 0.2296 - accuracy: 0.9265 - val_loss: 0.3415 - val_accuracy: 0.9265\n",
      "Epoch 36/100\n",
      "32/32 [==============================] - 12s 367ms/step - loss: 0.2409 - accuracy: 0.9088 - val_loss: 0.3035 - val_accuracy: 0.9353\n",
      "Epoch 37/100\n",
      "32/32 [==============================] - 12s 365ms/step - loss: 0.2558 - accuracy: 0.9088 - val_loss: 0.3212 - val_accuracy: 0.9265\n",
      "Epoch 38/100\n",
      "32/32 [==============================] - 12s 365ms/step - loss: 0.2284 - accuracy: 0.9225 - val_loss: 0.3018 - val_accuracy: 0.9294\n",
      "Epoch 39/100\n",
      "32/32 [==============================] - 12s 365ms/step - loss: 0.2269 - accuracy: 0.9324 - val_loss: 0.2917 - val_accuracy: 0.9382\n",
      "Epoch 40/100\n",
      "32/32 [==============================] - 12s 368ms/step - loss: 0.2219 - accuracy: 0.9176 - val_loss: 0.3595 - val_accuracy: 0.9235\n",
      "Epoch 41/100\n",
      "32/32 [==============================] - 12s 367ms/step - loss: 0.2668 - accuracy: 0.8971 - val_loss: 0.2985 - val_accuracy: 0.9412\n",
      "Epoch 42/100\n",
      "32/32 [==============================] - 12s 367ms/step - loss: 0.2087 - accuracy: 0.9324 - val_loss: 0.3221 - val_accuracy: 0.9265\n",
      "Epoch 43/100\n",
      "32/32 [==============================] - 12s 369ms/step - loss: 0.2134 - accuracy: 0.9235 - val_loss: 0.3174 - val_accuracy: 0.9382\n",
      "Epoch 44/100\n",
      "32/32 [==============================] - 12s 368ms/step - loss: 0.2223 - accuracy: 0.9284 - val_loss: 0.3438 - val_accuracy: 0.9235\n",
      "Epoch 45/100\n",
      "32/32 [==============================] - 12s 365ms/step - loss: 0.2049 - accuracy: 0.9275 - val_loss: 0.3110 - val_accuracy: 0.9324\n",
      "Epoch 46/100\n",
      "32/32 [==============================] - 12s 365ms/step - loss: 0.2253 - accuracy: 0.9176 - val_loss: 0.3180 - val_accuracy: 0.9324\n",
      "Epoch 47/100\n",
      "32/32 [==============================] - 12s 366ms/step - loss: 0.1961 - accuracy: 0.9353 - val_loss: 0.3060 - val_accuracy: 0.9353\n",
      "Epoch 48/100\n",
      "32/32 [==============================] - 12s 364ms/step - loss: 0.2088 - accuracy: 0.9245 - val_loss: 0.3159 - val_accuracy: 0.9324\n",
      "Epoch 49/100\n",
      "32/32 [==============================] - 12s 369ms/step - loss: 0.2034 - accuracy: 0.9255 - val_loss: 0.2952 - val_accuracy: 0.9412\n",
      "Epoch 50/100\n",
      "32/32 [==============================] - 12s 365ms/step - loss: 0.1823 - accuracy: 0.9304 - val_loss: 0.4029 - val_accuracy: 0.9147\n",
      "Epoch 51/100\n",
      "32/32 [==============================] - 12s 366ms/step - loss: 0.1934 - accuracy: 0.9304 - val_loss: 0.3283 - val_accuracy: 0.9353\n",
      "Epoch 52/100\n",
      "32/32 [==============================] - 12s 367ms/step - loss: 0.2022 - accuracy: 0.9353 - val_loss: 0.2938 - val_accuracy: 0.9353\n",
      "Epoch 53/100\n",
      "32/32 [==============================] - 12s 365ms/step - loss: 0.1922 - accuracy: 0.9382 - val_loss: 0.2874 - val_accuracy: 0.9353\n",
      "Epoch 54/100\n",
      "32/32 [==============================] - 12s 367ms/step - loss: 0.2008 - accuracy: 0.9373 - val_loss: 0.3232 - val_accuracy: 0.9324\n",
      "Epoch 55/100\n",
      "32/32 [==============================] - 12s 366ms/step - loss: 0.2046 - accuracy: 0.9255 - val_loss: 0.2977 - val_accuracy: 0.9382\n",
      "Epoch 56/100\n",
      "32/32 [==============================] - 12s 368ms/step - loss: 0.1889 - accuracy: 0.9284 - val_loss: 0.3123 - val_accuracy: 0.9324\n",
      "Epoch 57/100\n",
      "32/32 [==============================] - 12s 367ms/step - loss: 0.1726 - accuracy: 0.9392 - val_loss: 0.3242 - val_accuracy: 0.9353\n",
      "Epoch 58/100\n",
      "32/32 [==============================] - 12s 364ms/step - loss: 0.1983 - accuracy: 0.9275 - val_loss: 0.2990 - val_accuracy: 0.9412\n",
      "Epoch 59/100\n",
      "32/32 [==============================] - 12s 366ms/step - loss: 0.1767 - accuracy: 0.9353 - val_loss: 0.3286 - val_accuracy: 0.9294\n",
      "Epoch 60/100\n",
      "32/32 [==============================] - 12s 365ms/step - loss: 0.2161 - accuracy: 0.9147 - val_loss: 0.2896 - val_accuracy: 0.9294\n",
      "Epoch 61/100\n",
      "32/32 [==============================] - 12s 365ms/step - loss: 0.1590 - accuracy: 0.9461 - val_loss: 0.2869 - val_accuracy: 0.9353\n",
      "Epoch 62/100\n",
      "32/32 [==============================] - 12s 366ms/step - loss: 0.1506 - accuracy: 0.9500 - val_loss: 0.3170 - val_accuracy: 0.9294\n",
      "Epoch 63/100\n",
      "32/32 [==============================] - 12s 368ms/step - loss: 0.2090 - accuracy: 0.9235 - val_loss: 0.2888 - val_accuracy: 0.9382\n",
      "Epoch 64/100\n",
      "32/32 [==============================] - 12s 366ms/step - loss: 0.1812 - accuracy: 0.9402 - val_loss: 0.3063 - val_accuracy: 0.9382\n",
      "Epoch 65/100\n",
      "32/32 [==============================] - 12s 365ms/step - loss: 0.1763 - accuracy: 0.9431 - val_loss: 0.3034 - val_accuracy: 0.9353\n",
      "Epoch 66/100\n",
      "32/32 [==============================] - 12s 365ms/step - loss: 0.1633 - accuracy: 0.9451 - val_loss: 0.3223 - val_accuracy: 0.9382\n",
      "Epoch 67/100\n",
      "32/32 [==============================] - 12s 364ms/step - loss: 0.1747 - accuracy: 0.9451 - val_loss: 0.3201 - val_accuracy: 0.9441\n",
      "Epoch 68/100\n",
      "32/32 [==============================] - 12s 365ms/step - loss: 0.1406 - accuracy: 0.9529 - val_loss: 0.3040 - val_accuracy: 0.9441\n",
      "Epoch 69/100\n",
      "32/32 [==============================] - 12s 366ms/step - loss: 0.1665 - accuracy: 0.9441 - val_loss: 0.3355 - val_accuracy: 0.9382\n",
      "Epoch 70/100\n",
      "32/32 [==============================] - 12s 368ms/step - loss: 0.1643 - accuracy: 0.9382 - val_loss: 0.3002 - val_accuracy: 0.9382\n",
      "Epoch 71/100\n",
      "32/32 [==============================] - 12s 368ms/step - loss: 0.1792 - accuracy: 0.9314 - val_loss: 0.3104 - val_accuracy: 0.9412\n",
      "Epoch 72/100\n",
      "32/32 [==============================] - 12s 366ms/step - loss: 0.1521 - accuracy: 0.9451 - val_loss: 0.3108 - val_accuracy: 0.9441\n",
      "Epoch 73/100\n",
      "32/32 [==============================] - 12s 364ms/step - loss: 0.1830 - accuracy: 0.9441 - val_loss: 0.2849 - val_accuracy: 0.9412\n",
      "Epoch 74/100\n",
      "32/32 [==============================] - 12s 367ms/step - loss: 0.1472 - accuracy: 0.9490 - val_loss: 0.2920 - val_accuracy: 0.9353\n",
      "Epoch 75/100\n",
      "32/32 [==============================] - 12s 366ms/step - loss: 0.1567 - accuracy: 0.9539 - val_loss: 0.2878 - val_accuracy: 0.9471\n",
      "Epoch 76/100\n",
      "32/32 [==============================] - 12s 366ms/step - loss: 0.1836 - accuracy: 0.9294 - val_loss: 0.3005 - val_accuracy: 0.9324\n",
      "Epoch 77/100\n",
      "32/32 [==============================] - 12s 368ms/step - loss: 0.1786 - accuracy: 0.9402 - val_loss: 0.3235 - val_accuracy: 0.9324\n",
      "Epoch 78/100\n",
      "32/32 [==============================] - 12s 366ms/step - loss: 0.1787 - accuracy: 0.9324 - val_loss: 0.3140 - val_accuracy: 0.9353\n",
      "Epoch 79/100\n",
      "32/32 [==============================] - 12s 366ms/step - loss: 0.1394 - accuracy: 0.9500 - val_loss: 0.2966 - val_accuracy: 0.9441\n",
      "Epoch 80/100\n",
      "32/32 [==============================] - 12s 364ms/step - loss: 0.1341 - accuracy: 0.9461 - val_loss: 0.3256 - val_accuracy: 0.9265\n",
      "Epoch 81/100\n",
      "32/32 [==============================] - 12s 367ms/step - loss: 0.1391 - accuracy: 0.9480 - val_loss: 0.3261 - val_accuracy: 0.9294\n",
      "Epoch 82/100\n",
      "32/32 [==============================] - 12s 368ms/step - loss: 0.1300 - accuracy: 0.9490 - val_loss: 0.2888 - val_accuracy: 0.9412\n",
      "Epoch 83/100\n",
      "32/32 [==============================] - 12s 368ms/step - loss: 0.1564 - accuracy: 0.9451 - val_loss: 0.3080 - val_accuracy: 0.9412\n",
      "Epoch 84/100\n",
      "32/32 [==============================] - 12s 366ms/step - loss: 0.1673 - accuracy: 0.9441 - val_loss: 0.2839 - val_accuracy: 0.9441\n",
      "Epoch 85/100\n",
      "32/32 [==============================] - 12s 364ms/step - loss: 0.1549 - accuracy: 0.9451 - val_loss: 0.2953 - val_accuracy: 0.9353\n",
      "Epoch 86/100\n",
      "32/32 [==============================] - 12s 364ms/step - loss: 0.1699 - accuracy: 0.9392 - val_loss: 0.3156 - val_accuracy: 0.9324\n",
      "Epoch 87/100\n",
      "32/32 [==============================] - 12s 366ms/step - loss: 0.1401 - accuracy: 0.9480 - val_loss: 0.3373 - val_accuracy: 0.9294\n",
      "Epoch 88/100\n",
      "32/32 [==============================] - 12s 365ms/step - loss: 0.1668 - accuracy: 0.9451 - val_loss: 0.3004 - val_accuracy: 0.9324\n",
      "Epoch 89/100\n",
      "32/32 [==============================] - 12s 365ms/step - loss: 0.1109 - accuracy: 0.9598 - val_loss: 0.3289 - val_accuracy: 0.9324\n",
      "Epoch 90/100\n",
      "32/32 [==============================] - 12s 367ms/step - loss: 0.1404 - accuracy: 0.9510 - val_loss: 0.3024 - val_accuracy: 0.9353\n",
      "Epoch 91/100\n",
      "32/32 [==============================] - 12s 363ms/step - loss: 0.1565 - accuracy: 0.9500 - val_loss: 0.2999 - val_accuracy: 0.9412\n",
      "Epoch 92/100\n",
      "32/32 [==============================] - 12s 362ms/step - loss: 0.1427 - accuracy: 0.9422 - val_loss: 0.2857 - val_accuracy: 0.9412\n",
      "Epoch 93/100\n",
      "32/32 [==============================] - 12s 363ms/step - loss: 0.1172 - accuracy: 0.9618 - val_loss: 0.3213 - val_accuracy: 0.9324\n",
      "Epoch 94/100\n",
      "32/32 [==============================] - 12s 362ms/step - loss: 0.1016 - accuracy: 0.9667 - val_loss: 0.3367 - val_accuracy: 0.9265\n",
      "Epoch 95/100\n",
      "32/32 [==============================] - 12s 364ms/step - loss: 0.1497 - accuracy: 0.9392 - val_loss: 0.2757 - val_accuracy: 0.9441\n",
      "Epoch 96/100\n",
      "32/32 [==============================] - 12s 364ms/step - loss: 0.1332 - accuracy: 0.9520 - val_loss: 0.3281 - val_accuracy: 0.9324\n",
      "Epoch 97/100\n",
      "32/32 [==============================] - 12s 365ms/step - loss: 0.1096 - accuracy: 0.9618 - val_loss: 0.3006 - val_accuracy: 0.9471\n",
      "Epoch 98/100\n",
      "32/32 [==============================] - 12s 362ms/step - loss: 0.1500 - accuracy: 0.9461 - val_loss: 0.2772 - val_accuracy: 0.9412\n",
      "Epoch 99/100\n",
      "32/32 [==============================] - 12s 363ms/step - loss: 0.1217 - accuracy: 0.9569 - val_loss: 0.3019 - val_accuracy: 0.9353\n",
      "Epoch 100/100\n",
      "32/32 [==============================] - 12s 362ms/step - loss: 0.1120 - accuracy: 0.9627 - val_loss: 0.3317 - val_accuracy: 0.9294\n"
     ],
     "name": "stdout"
    }
   ]
  },
  {
   "cell_type": "code",
   "metadata": {
    "pycharm": {
     "name": "#%%\n"
    },
    "colab": {
     "base_uri": "https://localhost:8080/",
     "height": 927
    },
    "id": "VQSWnwybw2ZG",
    "outputId": "3d3d70e3-a8a8-45a8-e736-cf1cf2eaa36a"
   },
   "source": [
    "# eval the fine tuned model\n",
    "# evaluate the network\n",
    "print(\"[INFO] evaluating network...\")\n",
    "predictions = model.predict(testx, batch_size=32)\n",
    "print(classification_report(testy.argmax(axis=1),\n",
    "                            predictions.argmax(axis=1),\n",
    "                            target_names=unique_class_names))\n",
    "\n",
    "# plot the performance\n",
    "epochs = range(1, 101)\n",
    "loss = H.history['loss']\n",
    "accuracy = H.history['accuracy']\n",
    "val_loss = H.history['val_loss']\n",
    "val_accuracy = H.history['val_accuracy']\n",
    "plot_df = pd.DataFrame(\n",
    "    data=np.c_[epochs, loss, accuracy, val_loss, val_accuracy],\n",
    "    columns=['epochs', 'loss', 'accuracy', 'val_loss', 'val_accuracy'])\n",
    "\n",
    "# do the actual plots\n",
    "sns.set(font_scale=1)\n",
    "f, ax = plt.subplots(1, 1, figsize=(15, 8))\n",
    "sns.lineplot(data=plot_df, x='epochs', y='loss', ax=ax, label='train loss',\n",
    "             linewidth=3)\n",
    "sns.lineplot(data=plot_df, x='epochs', y='accuracy', ax=ax,\n",
    "             label='train accuracy', linewidth=3)\n",
    "sns.lineplot(data=plot_df, x='epochs', y='val_loss', ax=ax, label='val loss',\n",
    "             linewidth=3)\n",
    "sns.lineplot(data=plot_df, x='epochs', y='val_accuracy', ax=ax,\n",
    "             label='val_accuracy', linewidth=3)\n",
    "ax.set_ylabel('Loss or Accuracy')\n",
    "ax.set_xlabel('Epochs')\n",
    "plt.setp(ax.get_legend().get_texts(), fontsize='18');  # for legend text"
   ],
   "execution_count": 16,
   "outputs": [
    {
     "output_type": "stream",
     "text": [
      "[INFO] evaluating network...\n",
      "              precision    recall  f1-score   support\n",
      "\n",
      "    bluebell       0.88      0.94      0.91        16\n",
      "   buttercup       1.00      1.00      1.00        18\n",
      "   coltsfoot       0.83      0.95      0.88        20\n",
      "     cowslip       0.94      0.77      0.85        22\n",
      "      crocus       0.85      1.00      0.92        23\n",
      "    daffodil       0.94      0.83      0.88        18\n",
      "       daisy       1.00      0.96      0.98        23\n",
      "   dandelion       1.00      0.83      0.90        23\n",
      "  fritillary       0.95      1.00      0.98        20\n",
      "        iris       1.00      1.00      1.00        16\n",
      "  lilyvalley       1.00      0.89      0.94        19\n",
      "       pansy       1.00      0.89      0.94        19\n",
      "    snowdrop       0.90      0.90      0.90        20\n",
      "   sunflower       1.00      1.00      1.00        27\n",
      "   tigerlily       1.00      0.95      0.98        21\n",
      "       tulip       0.61      0.93      0.74        15\n",
      "  windflower       1.00      0.95      0.97        20\n",
      "\n",
      "    accuracy                           0.93       340\n",
      "   macro avg       0.94      0.93      0.93       340\n",
      "weighted avg       0.94      0.93      0.93       340\n",
      "\n"
     ],
     "name": "stdout"
    },
    {
     "output_type": "display_data",
     "data": {
      "image/png": "[encoded data removed]",
      "text/plain": [
       "<Figure size 1080x576 with 1 Axes>"
      ]
     },
     "metadata": {
      "tags": []
     }
    }
   ]
  },
  {
   "cell_type": "code",
   "metadata": {
    "id": "6BVCQAzbBoR4"
   },
   "source": [
    ""
   ],
   "execution_count": null,
   "outputs": []
  }
 ]
}