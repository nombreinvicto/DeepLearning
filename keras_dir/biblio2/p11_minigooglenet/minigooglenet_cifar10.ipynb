{
 "nbformat": 4,
 "nbformat_minor": 0,
 "metadata": {
  "kernelspec": {
   "display_name": "Python 3",
   "language": "python",
   "name": "python3"
  },
  "language_info": {
   "codemirror_mode": {
    "name": "ipython",
    "version": 2
   },
   "file_extension": ".py",
   "mimetype": "text/x-python",
   "name": "python",
   "nbconvert_exporter": "python",
   "pygments_lexer": "ipython2",
   "version": "2.7.6"
  },
  "colab": {
   "name": "minigooglenet_cifar10.ipynb",
   "provenance": [],
   "machine_shape": "hm"
  },
  "accelerator": "GPU"
 },
 "cells": [
  {
   "cell_type": "code",
   "metadata": {
    "collapsed": true,
    "colab": {
     "base_uri": "https://localhost:8080/"
    },
    "id": "DYno_uE0ALqX",
    "outputId": "748b0759-775b-48ef-89fd-4f42fc127df8"
   },
   "source": [
    "import sys\n",
    "from google.colab import drive\n",
    "\n",
    "drive.mount('/content/drive')\n",
    "sys.path.append(r\"/content/drive/MyDrive/\")"
   ],
   "execution_count": 1,
   "outputs": [
    {
     "output_type": "stream",
     "text": [
      "Mounted at /content/drive\n"
     ],
     "name": "stdout"
    }
   ]
  },
  {
   "cell_type": "code",
   "metadata": {
    "pycharm": {
     "name": "#%%\n"
    },
    "id": "2vp7brn3ALqf"
   },
   "source": [
    "import os\n",
    "import numpy as np\n",
    "import seaborn as sns\n",
    "\n",
    "sns.set()\n"
   ],
   "execution_count": 2,
   "outputs": []
  },
  {
   "cell_type": "code",
   "metadata": {
    "pycharm": {
     "name": "#%%\n"
    },
    "id": "ZiVXsmpYALqg"
   },
   "source": [
    "# import the necessary packages\n",
    "from sklearn.preprocessing import LabelBinarizer\n",
    "from loader_util.nn.conv import MiniGoogleNet\n",
    "from loader_util.callbacks import TrainingMonitor\n",
    "##\n",
    "import tensorflow as tf\n",
    "from tensorflow.keras.callbacks import LearningRateScheduler\n",
    "from tensorflow.keras.datasets import cifar10\n",
    "from tensorflow.keras.preprocessing.image import ImageDataGenerator\n",
    "from tensorflow.keras.optimizers import SGD"
   ],
   "execution_count": 3,
   "outputs": []
  },
  {
   "cell_type": "code",
   "metadata": {
    "pycharm": {
     "name": "#%%\n"
    },
    "id": "TV31cwYfALqh"
   },
   "source": [
    "epoch_nums = 70\n",
    "#init_lr = 0.001\n",
    "#init_lr = 0.01\n",
    "init_lr = 0.005\n",
    "batch_size = 64\n",
    "\n",
    "\n",
    "def poly_decay(epoch):\n",
    "    power = 1.0\n",
    "    alpha = init_lr * (1 - (epoch / epoch_nums)) ** power\n",
    "    return alpha"
   ],
   "execution_count": 4,
   "outputs": []
  },
  {
   "cell_type": "code",
   "metadata": {
    "pycharm": {
     "name": "#%%\n"
    },
    "id": "awfx7hqfALqh"
   },
   "source": [
    "# construct the argument parser\n",
    "args = {\n",
    "    \"model\": r\"/content/drive/MyDrive/ImageDatasets/minigooglenet/model/model_lr_0.005.model\",\n",
    "    \"output\": r\"/content/drive/MyDrive/ImageDatasets/minigooglenet/output\"\n",
    "}"
   ],
   "execution_count": 5,
   "outputs": []
  },
  {
   "cell_type": "code",
   "metadata": {
    "pycharm": {
     "name": "#%%\n"
    },
    "colab": {
     "base_uri": "https://localhost:8080/"
    },
    "id": "k_cm-l8eALqi",
    "outputId": "155ad757-35b8-470c-98d0-a7989eefd2d2"
   },
   "source": [
    "# load the train and test data\n",
    "print(f\"[INFO] loading cifar10 data......\")\n",
    "((trainx, trainy), (testx, testy)) = cifar10.load_data()\n",
    "trainx = trainx.astype(\"float32\")\n",
    "testx = testx.astype(\"float32\")\n",
    "\n",
    "# apply mean subtraction to the data\n",
    "mean = np.mean(trainx, axis=0)\n",
    "trainx = trainx - mean\n",
    "testx = testx - mean\n",
    "\n",
    "# encode the labels\n",
    "lb = LabelBinarizer()\n",
    "trainy = lb.fit_transform(trainy)\n",
    "testy = lb.transform(testy)"
   ],
   "execution_count": 6,
   "outputs": [
    {
     "output_type": "stream",
     "text": [
      "[INFO] loading cifar10 data......\n",
      "Downloading data from https://www.cs.toronto.edu/~kriz/cifar-10-python.tar.gz\n",
      "170500096/170498071 [==============================] - 11s 0us/step\n"
     ],
     "name": "stdout"
    }
   ]
  },
  {
   "cell_type": "code",
   "metadata": {
    "pycharm": {
     "name": "#%%\n"
    },
    "id": "YKEobYLTALqi"
   },
   "source": [
    "# init the image generator\n",
    "aug = ImageDataGenerator(width_shift_range=0.1,\n",
    "                         height_shift_range=0.1,\n",
    "                         horizontal_flip=True,\n",
    "                         fill_mode=\"nearest\")"
   ],
   "execution_count": 7,
   "outputs": []
  },
  {
   "cell_type": "code",
   "metadata": {
    "pycharm": {
     "name": "#%%\n"
    },
    "id": "YYLPDIgdALqj"
   },
   "source": [
    "# construct the set callbacks\n",
    "fig_path = os.path.sep.join([args[\"output\"], f\"{os.getpid()}.png\"])\n",
    "json_path = os.path.sep.join([args[\"output\"], f\"{os.getpid()}.png\"])\n",
    "callbacks = [TrainingMonitor(fig_path, jsonPath=json_path)]"
   ],
   "execution_count": 8,
   "outputs": []
  },
  {
   "cell_type": "code",
   "metadata": {
    "pycharm": {
     "name": "#%%\n"
    },
    "id": "sgmUJCCbALqj",
    "colab": {
     "base_uri": "https://localhost:8080/"
    },
    "outputId": "eafb94c9-0293-426a-e85b-16ed073f0cb1"
   },
   "source": [
    "# init the optimizer and model\n",
    "print(f\"[INFO] compiling model......\")\n",
    "opt = SGD(learning_rate=init_lr, momentum=0.9)\n",
    "model = MiniGoogleNet.build(32, 32, 3, classes=10)\n",
    "model.compile(loss=\"categorical_crossentropy\", optimizer=opt,\n",
    "              metrics=[\"accuracy\"])"
   ],
   "execution_count": 9,
   "outputs": [
    {
     "output_type": "stream",
     "text": [
      "[INFO] compiling model......\n"
     ],
     "name": "stdout"
    }
   ]
  },
  {
   "cell_type": "code",
   "metadata": {
    "pycharm": {
     "name": "#%%\n"
    },
    "colab": {
     "base_uri": "https://localhost:8080/"
    },
    "id": "GbxXbJpeALqk",
    "outputId": "cd011175-d800-4732-fc4b-3c5d5c0b2e7e"
   },
   "source": [
    "print(f\"[INFO] train the net......\")\n",
    "model.fit_generator(aug.flow(trainx, trainy, batch_size=batch_size),\n",
    "                    validation_data=(testx, testy),\n",
    "                    steps_per_epoch=len(trainx) // batch_size,\n",
    "                    epochs=epoch_nums,\n",
    "                    callbacks=callbacks,\n",
    "                    verbose=1)"
   ],
   "execution_count": 10,
   "outputs": [
    {
     "output_type": "stream",
     "text": [
      "[INFO] train the net......\n"
     ],
     "name": "stdout"
    },
    {
     "output_type": "stream",
     "text": [
      "/usr/local/lib/python3.7/dist-packages/tensorflow/python/keras/engine/training.py:1940: UserWarning: `Model.fit_generator` is deprecated and will be removed in a future version. Please use `Model.fit`, which supports generators.\n",
      "  warnings.warn('`Model.fit_generator` is deprecated and '\n"
     ],
     "name": "stderr"
    },
    {
     "output_type": "stream",
     "text": [
      "Epoch 1/70\n",
      "781/781 [==============================] - 57s 50ms/step - loss: 1.4975 - accuracy: 0.4590 - val_loss: 1.3803 - val_accuracy: 0.5091\n",
      "Epoch 2/70\n",
      "781/781 [==============================] - 38s 49ms/step - loss: 1.1067 - accuracy: 0.6042 - val_loss: 0.9739 - val_accuracy: 0.6498\n",
      "Epoch 3/70\n",
      "781/781 [==============================] - 38s 49ms/step - loss: 0.9527 - accuracy: 0.6637 - val_loss: 1.0011 - val_accuracy: 0.6546\n",
      "Epoch 4/70\n",
      "781/781 [==============================] - 38s 49ms/step - loss: 0.8682 - accuracy: 0.6974 - val_loss: 1.2143 - val_accuracy: 0.6001\n",
      "Epoch 5/70\n",
      "781/781 [==============================] - 38s 49ms/step - loss: 0.7998 - accuracy: 0.7195 - val_loss: 1.0581 - val_accuracy: 0.6527\n",
      "Epoch 6/70\n",
      "781/781 [==============================] - 38s 49ms/step - loss: 0.7397 - accuracy: 0.7433 - val_loss: 0.7775 - val_accuracy: 0.7287\n",
      "Epoch 7/70\n",
      "781/781 [==============================] - 38s 49ms/step - loss: 0.7036 - accuracy: 0.7545 - val_loss: 0.9367 - val_accuracy: 0.6989\n",
      "Epoch 8/70\n",
      "781/781 [==============================] - 38s 49ms/step - loss: 0.6724 - accuracy: 0.7668 - val_loss: 0.8476 - val_accuracy: 0.7109\n",
      "Epoch 9/70\n",
      "781/781 [==============================] - 38s 49ms/step - loss: 0.6407 - accuracy: 0.7781 - val_loss: 0.7435 - val_accuracy: 0.7559\n",
      "Epoch 10/70\n",
      "781/781 [==============================] - 38s 49ms/step - loss: 0.6114 - accuracy: 0.7876 - val_loss: 0.6023 - val_accuracy: 0.7881\n",
      "Epoch 11/70\n",
      "781/781 [==============================] - 38s 49ms/step - loss: 0.5830 - accuracy: 0.7997 - val_loss: 0.6555 - val_accuracy: 0.7771\n",
      "Epoch 12/70\n",
      "781/781 [==============================] - 38s 49ms/step - loss: 0.5620 - accuracy: 0.8061 - val_loss: 0.6926 - val_accuracy: 0.7770\n",
      "Epoch 13/70\n",
      "781/781 [==============================] - 38s 49ms/step - loss: 0.5354 - accuracy: 0.8152 - val_loss: 0.7407 - val_accuracy: 0.7657\n",
      "Epoch 14/70\n",
      "781/781 [==============================] - 38s 49ms/step - loss: 0.5275 - accuracy: 0.8188 - val_loss: 0.7337 - val_accuracy: 0.7608\n",
      "Epoch 15/70\n",
      "781/781 [==============================] - 38s 49ms/step - loss: 0.5043 - accuracy: 0.8256 - val_loss: 0.8079 - val_accuracy: 0.7286\n",
      "Epoch 16/70\n",
      "781/781 [==============================] - 38s 49ms/step - loss: 0.4874 - accuracy: 0.8312 - val_loss: 0.7155 - val_accuracy: 0.7566\n",
      "Epoch 17/70\n",
      "781/781 [==============================] - 38s 49ms/step - loss: 0.4713 - accuracy: 0.8383 - val_loss: 0.5858 - val_accuracy: 0.8030\n",
      "Epoch 18/70\n",
      "781/781 [==============================] - 38s 49ms/step - loss: 0.4569 - accuracy: 0.8434 - val_loss: 0.6257 - val_accuracy: 0.7887\n",
      "Epoch 19/70\n",
      "781/781 [==============================] - 38s 49ms/step - loss: 0.4428 - accuracy: 0.8483 - val_loss: 0.7052 - val_accuracy: 0.7730\n",
      "Epoch 20/70\n",
      "781/781 [==============================] - 38s 49ms/step - loss: 0.4303 - accuracy: 0.8505 - val_loss: 0.5434 - val_accuracy: 0.8231\n",
      "Epoch 21/70\n",
      "781/781 [==============================] - 38s 49ms/step - loss: 0.4212 - accuracy: 0.8542 - val_loss: 0.7172 - val_accuracy: 0.7787\n",
      "Epoch 22/70\n",
      "781/781 [==============================] - 38s 49ms/step - loss: 0.4078 - accuracy: 0.8596 - val_loss: 0.7914 - val_accuracy: 0.7612\n",
      "Epoch 23/70\n",
      "781/781 [==============================] - 38s 49ms/step - loss: 0.3974 - accuracy: 0.8626 - val_loss: 0.6374 - val_accuracy: 0.7974\n",
      "Epoch 24/70\n",
      "781/781 [==============================] - 38s 49ms/step - loss: 0.3909 - accuracy: 0.8671 - val_loss: 0.5730 - val_accuracy: 0.8208\n",
      "Epoch 25/70\n",
      "781/781 [==============================] - 38s 49ms/step - loss: 0.3727 - accuracy: 0.8708 - val_loss: 0.7473 - val_accuracy: 0.7659\n",
      "Epoch 26/70\n",
      "781/781 [==============================] - 38s 49ms/step - loss: 0.3666 - accuracy: 0.8722 - val_loss: 0.6964 - val_accuracy: 0.7767\n",
      "Epoch 27/70\n",
      "781/781 [==============================] - 38s 49ms/step - loss: 0.3543 - accuracy: 0.8781 - val_loss: 0.5823 - val_accuracy: 0.8210\n",
      "Epoch 28/70\n",
      "781/781 [==============================] - 38s 49ms/step - loss: 0.3456 - accuracy: 0.8808 - val_loss: 0.6168 - val_accuracy: 0.8183\n",
      "Epoch 29/70\n",
      "781/781 [==============================] - 38s 49ms/step - loss: 0.3357 - accuracy: 0.8832 - val_loss: 0.6894 - val_accuracy: 0.7958\n",
      "Epoch 30/70\n",
      "781/781 [==============================] - 38s 49ms/step - loss: 0.3324 - accuracy: 0.8837 - val_loss: 0.7773 - val_accuracy: 0.7908\n",
      "Epoch 31/70\n",
      "781/781 [==============================] - 38s 49ms/step - loss: 0.3249 - accuracy: 0.8879 - val_loss: 0.6100 - val_accuracy: 0.8061\n",
      "Epoch 32/70\n",
      "781/781 [==============================] - 38s 49ms/step - loss: 0.3123 - accuracy: 0.8906 - val_loss: 0.5594 - val_accuracy: 0.8186\n",
      "Epoch 33/70\n",
      "781/781 [==============================] - 38s 49ms/step - loss: 0.3065 - accuracy: 0.8937 - val_loss: 0.5781 - val_accuracy: 0.8160\n",
      "Epoch 34/70\n",
      "781/781 [==============================] - 38s 49ms/step - loss: 0.2942 - accuracy: 0.8976 - val_loss: 0.6893 - val_accuracy: 0.8031\n",
      "Epoch 35/70\n",
      "781/781 [==============================] - 38s 49ms/step - loss: 0.2972 - accuracy: 0.8970 - val_loss: 0.4977 - val_accuracy: 0.8429\n",
      "Epoch 36/70\n",
      "781/781 [==============================] - 38s 49ms/step - loss: 0.2859 - accuracy: 0.9014 - val_loss: 0.4596 - val_accuracy: 0.8549\n",
      "Epoch 37/70\n",
      "781/781 [==============================] - 38s 49ms/step - loss: 0.2812 - accuracy: 0.9025 - val_loss: 0.5771 - val_accuracy: 0.8238\n",
      "Epoch 38/70\n",
      "781/781 [==============================] - 38s 49ms/step - loss: 0.2719 - accuracy: 0.9062 - val_loss: 0.6836 - val_accuracy: 0.8107\n",
      "Epoch 39/70\n",
      "781/781 [==============================] - 38s 49ms/step - loss: 0.2713 - accuracy: 0.9040 - val_loss: 0.8025 - val_accuracy: 0.7870\n",
      "Epoch 40/70\n",
      "781/781 [==============================] - 38s 49ms/step - loss: 0.2586 - accuracy: 0.9106 - val_loss: 0.4856 - val_accuracy: 0.8533\n",
      "Epoch 41/70\n",
      "781/781 [==============================] - 38s 49ms/step - loss: 0.2546 - accuracy: 0.9115 - val_loss: 0.5500 - val_accuracy: 0.8305\n",
      "Epoch 42/70\n",
      "781/781 [==============================] - 38s 49ms/step - loss: 0.2509 - accuracy: 0.9127 - val_loss: 0.5994 - val_accuracy: 0.8163\n",
      "Epoch 43/70\n",
      "781/781 [==============================] - 38s 49ms/step - loss: 0.2448 - accuracy: 0.9138 - val_loss: 0.5456 - val_accuracy: 0.8339\n",
      "Epoch 44/70\n",
      "781/781 [==============================] - 38s 49ms/step - loss: 0.2354 - accuracy: 0.9176 - val_loss: 0.6878 - val_accuracy: 0.8112\n",
      "Epoch 45/70\n",
      "781/781 [==============================] - 38s 49ms/step - loss: 0.2342 - accuracy: 0.9175 - val_loss: 0.4492 - val_accuracy: 0.8644\n",
      "Epoch 46/70\n",
      "781/781 [==============================] - 38s 49ms/step - loss: 0.2258 - accuracy: 0.9214 - val_loss: 0.9771 - val_accuracy: 0.7731\n",
      "Epoch 47/70\n",
      "781/781 [==============================] - 38s 49ms/step - loss: 0.2243 - accuracy: 0.9216 - val_loss: 0.7902 - val_accuracy: 0.7944\n",
      "Epoch 48/70\n",
      "781/781 [==============================] - 38s 49ms/step - loss: 0.2219 - accuracy: 0.9226 - val_loss: 0.4651 - val_accuracy: 0.8601\n",
      "Epoch 49/70\n",
      "781/781 [==============================] - 38s 49ms/step - loss: 0.2087 - accuracy: 0.9269 - val_loss: 0.5111 - val_accuracy: 0.8440\n",
      "Epoch 50/70\n",
      "781/781 [==============================] - 38s 49ms/step - loss: 0.2130 - accuracy: 0.9263 - val_loss: 0.4272 - val_accuracy: 0.8666\n",
      "Epoch 51/70\n",
      "781/781 [==============================] - 38s 49ms/step - loss: 0.2104 - accuracy: 0.9274 - val_loss: 0.6199 - val_accuracy: 0.8249\n",
      "Epoch 52/70\n",
      "781/781 [==============================] - 38s 49ms/step - loss: 0.1986 - accuracy: 0.9315 - val_loss: 0.4500 - val_accuracy: 0.8627\n",
      "Epoch 53/70\n",
      "781/781 [==============================] - 38s 49ms/step - loss: 0.1945 - accuracy: 0.9314 - val_loss: 0.6144 - val_accuracy: 0.8280\n",
      "Epoch 54/70\n",
      "781/781 [==============================] - 38s 49ms/step - loss: 0.1906 - accuracy: 0.9332 - val_loss: 0.5615 - val_accuracy: 0.8382\n",
      "Epoch 55/70\n",
      "781/781 [==============================] - 38s 49ms/step - loss: 0.1900 - accuracy: 0.9347 - val_loss: 0.4520 - val_accuracy: 0.8624\n",
      "Epoch 56/70\n",
      "781/781 [==============================] - 38s 49ms/step - loss: 0.1831 - accuracy: 0.9358 - val_loss: 0.7088 - val_accuracy: 0.8185\n",
      "Epoch 57/70\n",
      "781/781 [==============================] - 38s 49ms/step - loss: 0.1814 - accuracy: 0.9352 - val_loss: 0.5857 - val_accuracy: 0.8416\n",
      "Epoch 58/70\n",
      "781/781 [==============================] - 38s 49ms/step - loss: 0.1809 - accuracy: 0.9369 - val_loss: 0.7080 - val_accuracy: 0.8188\n",
      "Epoch 59/70\n",
      "781/781 [==============================] - 38s 49ms/step - loss: 0.1712 - accuracy: 0.9389 - val_loss: 0.5714 - val_accuracy: 0.8324\n",
      "Epoch 60/70\n",
      "781/781 [==============================] - 38s 49ms/step - loss: 0.1691 - accuracy: 0.9417 - val_loss: 0.7623 - val_accuracy: 0.8077\n",
      "Epoch 61/70\n",
      "781/781 [==============================] - 39s 49ms/step - loss: 0.1671 - accuracy: 0.9415 - val_loss: 0.5689 - val_accuracy: 0.8449\n",
      "Epoch 62/70\n",
      "781/781 [==============================] - 39s 49ms/step - loss: 0.1620 - accuracy: 0.9424 - val_loss: 0.7388 - val_accuracy: 0.8302\n",
      "Epoch 63/70\n",
      "781/781 [==============================] - 38s 49ms/step - loss: 0.1584 - accuracy: 0.9443 - val_loss: 0.8022 - val_accuracy: 0.7937\n",
      "Epoch 64/70\n",
      "781/781 [==============================] - 38s 49ms/step - loss: 0.1603 - accuracy: 0.9431 - val_loss: 0.5540 - val_accuracy: 0.8523\n",
      "Epoch 65/70\n",
      "781/781 [==============================] - 38s 49ms/step - loss: 0.1508 - accuracy: 0.9475 - val_loss: 0.4627 - val_accuracy: 0.8790\n",
      "Epoch 66/70\n",
      "781/781 [==============================] - 38s 49ms/step - loss: 0.1528 - accuracy: 0.9463 - val_loss: 0.6494 - val_accuracy: 0.8349\n",
      "Epoch 67/70\n",
      "781/781 [==============================] - 38s 49ms/step - loss: 0.1480 - accuracy: 0.9474 - val_loss: 0.6519 - val_accuracy: 0.8333\n",
      "Epoch 68/70\n",
      "781/781 [==============================] - 38s 49ms/step - loss: 0.1434 - accuracy: 0.9481 - val_loss: 0.4680 - val_accuracy: 0.8656\n",
      "Epoch 69/70\n",
      "781/781 [==============================] - 38s 49ms/step - loss: 0.1484 - accuracy: 0.9480 - val_loss: 0.8496 - val_accuracy: 0.8072\n",
      "Epoch 70/70\n",
      "781/781 [==============================] - 39s 49ms/step - loss: 0.1402 - accuracy: 0.9500 - val_loss: 0.6365 - val_accuracy: 0.8413\n"
     ],
     "name": "stdout"
    },
    {
     "output_type": "execute_result",
     "data": {
      "text/plain": [
       "<tensorflow.python.keras.callbacks.History at 0x7f521df00dd0>"
      ]
     },
     "metadata": {
      "tags": []
     },
     "execution_count": 10
    }
   ]
  },
  {
   "cell_type": "code",
   "metadata": {
    "pycharm": {
     "name": "#%%\n"
    },
    "colab": {
     "base_uri": "https://localhost:8080/"
    },
    "id": "M5tYCD8HALqk",
    "outputId": "01072955-9934-4034-be9d-cd0f0eff0a3a"
   },
   "source": [
    "print(f\"[INFO] serialising the model......\")\n",
    "model.save(args[\"model\"])"
   ],
   "execution_count": 11,
   "outputs": [
    {
     "output_type": "stream",
     "text": [
      "[INFO] serialising the model......\n",
      "INFO:tensorflow:Assets written to: /content/drive/MyDrive/ImageDatasets/minigooglenet/model/model_lr_0.005.model/assets\n"
     ],
     "name": "stdout"
    }
   ]
  },
  {
   "cell_type": "code",
   "metadata": {
    "id": "erCCDF52143m"
   },
   "source": [
    ""
   ],
   "execution_count": null,
   "outputs": []
  }
 ]
}