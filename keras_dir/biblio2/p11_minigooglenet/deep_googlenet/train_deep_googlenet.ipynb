{
 "cells": [
  {
   "cell_type": "code",
   "execution_count": null,
   "metadata": {
    "collapsed": true
   },
   "outputs": [],
   "source": [
    "import sys, os, json\n",
    "import numpy as np\n",
    "import pandas as pd\n",
    "import seaborn as sns\n",
    "import argparse, progressbar\n",
    "import matplotlib.pyplot as plt\n",
    "from matplotlib.figure import Figure\n",
    "import matplotlib.axes._axes as axes\n",
    "import tiny_imagenet_config as config\n",
    "sns.set()"
   ]
  },
  {
   "cell_type": "code",
   "execution_count": null,
   "outputs": [],
   "source": [
    "# import the necessary packages\n",
    "from imutils import paths\n",
    "from sklearn.preprocessing import LabelBinarizer\n",
    "from sklearn.model_selection import train_test_split\n",
    "from sklearn.metrics import classification_report\n",
    "from loader_util.preprocessing import ImageToArrayPreprocessor, \\\n",
    "    AspectAwarePreprocessor, SimplePreProcessor, MeanPreprocessor\n",
    "from loader_util.io import HDF5DatasetGenerator\n",
    "from loader_util.datasets import SimpleDatasetLoader\n",
    "from loader_util.nn.conv import FCHeadNet, DeepGoogleNet\n",
    "from loader_util.callbacks import EpochCheckpoint, TrainingMonitor\n",
    "##\n",
    "import tensorflow as tf\n",
    "from tensorflow.keras import backend as K\n",
    "from tensorflow.keras.layers import Conv2D, Activation, Flatten, Dense, \\\n",
    "    BatchNormalization, MaxPooling2D, AveragePooling2D, Dropout\n",
    "from tensorflow.keras.layers import Input, concatenate\n",
    "from tensorflow.keras.preprocessing.image import ImageDataGenerator\n",
    "from tensorflow.keras.optimizers import RMSprop, SGD, Adam\n",
    "from tensorflow.keras.regularizers import l2\n",
    "from tensorflow.keras.applications import VGG16\n",
    "from tensorflow.keras.models import Model, load_model"
   ],
   "metadata": {
    "collapsed": false,
    "pycharm": {
     "name": "#%%\n"
    }
   }
  },
  {
   "cell_type": "code",
   "execution_count": null,
   "outputs": [],
   "source": [
    "\n",
    "args = {\n",
    "    \"checkpoints\": r\"\",\n",
    "    \"model\": r\"\",\n",
    "    \"start_epoch\": 0\n",
    "}"
   ],
   "metadata": {
    "collapsed": false,
    "pycharm": {
     "name": "#%%\n"
    }
   }
  },
  {
   "cell_type": "code",
   "execution_count": null,
   "outputs": [],
   "source": [
    "# image generator\n",
    "aug = ImageDataGenerator(rotation_range=18,\n",
    "                         zoom_range=0.15,\n",
    "                         width_shift_range=0.2,\n",
    "                         height_shift_range=0.2,\n",
    "                         shear_range=0.15,\n",
    "                         horizontal_flip=True,\n",
    "                         fill_mode='nearest')\n",
    "# load the RGB means for the train set\n",
    "means = json.loads(open(config.dataset_mean).read())"
   ],
   "metadata": {
    "collapsed": false,
    "pycharm": {
     "name": "#%%\n"
    }
   }
  },
  {
   "cell_type": "code",
   "execution_count": null,
   "outputs": [],
   "source": [
    "# init the image preprocessors\n",
    "sp = SimplePreProcessor(64, 64)\n",
    "mp = MeanPreprocessor(means[\"R\"], means[\"G\"], means[\"B\"])\n",
    "iap = ImageToArrayPreprocessor()\n",
    "\n",
    "# init the train and valid dataset generators\n",
    "traingen = HDF5DatasetGenerator(dbPath=config.train_hdf5,\n",
    "                                batchSize=64,\n",
    "                                preprocessors=[sp, mp, iap],\n",
    "                                classes=config.num_classes)\n",
    "validgen = HDF5DatasetGenerator(dbPath=config.valid_hdf5,\n",
    "                                batchSize=64,\n",
    "                                preprocessors=[sp, mp, iap],\n",
    "                                classes=config.num_classes)"
   ],
   "metadata": {
    "collapsed": false,
    "pycharm": {
     "name": "#%%\n"
    }
   }
  },
  {
   "cell_type": "code",
   "execution_count": null,
   "outputs": [],
   "source": [
    "# if no specific checkpoint supplied then init model and compile it\n",
    "if not args[\"model\"]:\n",
    "    print(f\"[INFO] compiling the model......\")\n",
    "    model = DeepGoogleNet.build(64, 64, 3,\n",
    "                                classes=config.num_classes, reg=0.0002)\n",
    "    opt = Adam(learning_rate=0.001)\n",
    "    model.compile(optimizer=opt,\n",
    "                  loss=\"categorical_crossentropy\",\n",
    "                  metrics=[\"accuracy\"])\n",
    "else:\n",
    "    print(f\"[INFO] loading model: {args['model']}......\")\n",
    "    model = load_model(args[\"model\"]) # type: Model\n",
    "\n",
    "    #update the learning rate\n",
    "    print(f\"[INFO] old learning rate: {K.get_value(model.optimizer.learning_rate)}......\")\n",
    "    K.set_value(model.optimizer.learning_rate, 0.00001)\n",
    "    print(f\"[INFO] new learning rate: {K.get_value(model.optimizer.learning_rate)}......\")"
   ],
   "metadata": {
    "collapsed": false,
    "pycharm": {
     "name": "#%%\n"
    }
   }
  },
  {
   "cell_type": "code",
   "execution_count": null,
   "outputs": [],
   "source": [
    "# construct a set of callbacks\n",
    "callbacks = [\n",
    "    EpochCheckpoint(outputPath=args[\"checkpoints\"],\n",
    "                    every=5,\n",
    "                    startAt=args[\"start_epoch\"]),\n",
    "    TrainingMonitor(figPath=config.fig_path,\n",
    "                    jsonPath=config.json_path,\n",
    "                    startAt=args[\"start_epoch\"])\n",
    "]"
   ],
   "metadata": {
    "collapsed": false,
    "pycharm": {
     "name": "#%%\n"
    }
   }
  },
  {
   "cell_type": "code",
   "execution_count": null,
   "outputs": [],
   "source": [
    "# train the net\n",
    "H = model.fit_generator(traingen.generator(),\n",
    "                        steps_per_epoch=traingen.numImages//64,\n",
    "                        validation_data=validgen.generator(),\n",
    "                        validation_steps=validgen.numImages//64,\n",
    "                        epochs=10,\n",
    "                        max_queue_size=10,\n",
    "                        callbacks=callbacks,\n",
    "                        verbose=1)\n",
    "# close the database\n",
    "traingen.close()\n",
    "validgen.close()"
   ],
   "metadata": {
    "collapsed": false,
    "pycharm": {
     "name": "#%%\n"
    }
   }
  },
  {
   "cell_type": "code",
   "execution_count": null,
   "outputs": [],
   "source": [],
   "metadata": {
    "collapsed": false,
    "pycharm": {
     "name": "#%%"
    }
   }
  }
 ],
 "metadata": {
  "kernelspec": {
   "display_name": "Python 3",
   "language": "python",
   "name": "python3"
  },
  "language_info": {
   "codemirror_mode": {
    "name": "ipython",
    "version": 2
   },
   "file_extension": ".py",
   "mimetype": "text/x-python",
   "name": "python",
   "nbconvert_exporter": "python",
   "pygments_lexer": "ipython2",
   "version": "2.7.6"
  }
 },
 "nbformat": 4,
 "nbformat_minor": 0
}