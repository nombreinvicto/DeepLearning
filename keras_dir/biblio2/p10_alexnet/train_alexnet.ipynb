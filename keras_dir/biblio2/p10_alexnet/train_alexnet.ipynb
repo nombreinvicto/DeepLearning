{
 "nbformat": 4,
 "nbformat_minor": 0,
 "metadata": {
  "kernelspec": {
   "display_name": "Python 3",
   "language": "python",
   "name": "python3"
  },
  "language_info": {
   "codemirror_mode": {
    "name": "ipython",
    "version": 2
   },
   "file_extension": ".py",
   "mimetype": "text/x-python",
   "name": "python",
   "nbconvert_exporter": "python",
   "pygments_lexer": "ipython2",
   "version": "2.7.6"
  },
  "colab": {
   "name": "train_alexnet.ipynb",
   "provenance": [],
   "collapsed_sections": [],
   "machine_shape": "hm"
  },
  "accelerator": "GPU"
 },
 "cells": [
  {
   "cell_type": "code",
   "metadata": {
    "pycharm": {
     "name": "#%%\n"
    },
    "colab": {
     "base_uri": "https://localhost:8080/"
    },
    "id": "N1alDQ2MYoTx",
    "outputId": "a0a8dfea-0a5f-46b8-a1e5-7806025d51a1"
   },
   "source": [
    "import sys\n",
    "from google.colab import drive\n",
    "drive.mount('/content/drive')\n",
    "sys.path.append(r\"/content/drive/MyDrive/\")"
   ],
   "execution_count": 1,
   "outputs": [
    {
     "output_type": "stream",
     "text": [
      "Mounted at /content/drive\n"
     ],
     "name": "stdout"
    }
   ]
  },
  {
   "cell_type": "code",
   "metadata": {
    "collapsed": true,
    "id": "jTai1T6DYoT4"
   },
   "source": [
    "import os, json\n",
    "import numpy as np\n",
    "import pandas as pd\n",
    "import seaborn as sns\n",
    "import matplotlib.pyplot as plt\n",
    "sns.set()"
   ],
   "execution_count": 9,
   "outputs": []
  },
  {
   "cell_type": "code",
   "metadata": {
    "pycharm": {
     "name": "#%%\n"
    },
    "id": "BLezQochYoT6"
   },
   "source": [
    "# import the necessary packages\n",
    "from sklearn.preprocessing import LabelBinarizer\n",
    "from sklearn.model_selection import train_test_split\n",
    "from sklearn.metrics import classification_report\n",
    "from loader_util.preprocessing import ImageToArrayPreprocessor,SimplePreProcessor, PatchPreprocessor, MeanPreprocessor\n",
    "from loader_util.datasets import SimpleDatasetLoader\n",
    "from loader_util.nn.conv import FCHeadNet, AlexNet\n",
    "from loader_util.callbacks import TrainingMonitor\n",
    "from loader_util.io import HDF5DatasetGenerator\n",
    "##\n",
    "import tensorflow as tf\n",
    "\n",
    "from tensorflow.keras.preprocessing.image import ImageDataGenerator\n",
    "from tensorflow.keras.optimizers import RMSprop, SGD, Adam"
   ],
   "execution_count": 10,
   "outputs": []
  },
  {
   "cell_type": "code",
   "metadata": {
    "pycharm": {
     "name": "#%%\n"
    },
    "id": "exhrhVixYoT7"
   },
   "source": [
    "# construct the training image generator\n",
    "aug = ImageDataGenerator(rotation_range=20,\n",
    "                         zoom_range=0.15,\n",
    "                         width_shift_range=0.2,\n",
    "                         height_shift_range=0.2,\n",
    "                         shear_range=0.15,\n",
    "                         horizontal_flip=True,\n",
    "                         fill_mode=\"nearest\")"
   ],
   "execution_count": 11,
   "outputs": []
  },
  {
   "cell_type": "code",
   "metadata": {
    "pycharm": {
     "name": "#%%\n"
    },
    "id": "TnH1OWiFYoT8"
   },
   "source": [
    "# load the RGB means for the train set\n",
    "json_path = r\"/content/drive/MyDrive/ImageDatasets/cats_dogs_hdf5/output/alexnet_dogs_vs_cats_mean.json\"\n",
    "train_path = r\"/content/drive/MyDrive/ImageDatasets/cats_dogs_hdf5/train.hdf5\"\n",
    "valid_path = r\"/content/drive/MyDrive/ImageDatasets/cats_dogs_hdf5/val.hdf5\"\n",
    "test_path = r\"/content/drive/MyDrive/ImageDatasets/cats_dogs_hdf5/test.hdf5\"\n",
    "model_path = r\"/content/drive/MyDrive/ImageDatasets/cats_dogs_hdf5/model\"\n",
    "outpath = r\"/content/drive/MyDrive/ImageDatasets/cats_dogs_hdf5/output\"\n",
    "epochs = 75\n",
    "batch_size = 128\n",
    "\n",
    "means = json.loads(open(json_path).read())\n",
    "\n",
    "# init the preprocessors\n",
    "sp = SimplePreProcessor(227, 227)\n",
    "pp = PatchPreprocessor(227, 227)\n",
    "mp = MeanPreprocessor(means[\"R\"], means[\"G\"], means[\"B\"])\n",
    "iap = ImageToArrayPreprocessor()"
   ],
   "execution_count": 12,
   "outputs": []
  },
  {
   "cell_type": "code",
   "metadata": {
    "pycharm": {
     "name": "#%%\n"
    },
    "id": "NMbQuui0YoT8"
   },
   "source": [
    "traingen = HDF5DatasetGenerator(dbPath=train_path,\n",
    "                                batchSize=batch_size,\n",
    "                                preprocessors=[pp, mp, iap],\n",
    "                                classes=2,\n",
    "                                aug=aug)\n",
    "\n",
    "validgen = HDF5DatasetGenerator(dbPath=valid_path,\n",
    "                                batchSize=batch_size,\n",
    "                                preprocessors=[sp, mp, iap],\n",
    "                                classes=2)"
   ],
   "execution_count": 13,
   "outputs": []
  },
  {
   "cell_type": "code",
   "metadata": {
    "pycharm": {
     "name": "#%%\n"
    },
    "colab": {
     "base_uri": "https://localhost:8080/"
    },
    "id": "GPacImR5YoT9",
    "outputId": "380c57b3-0faa-41a4-cf62-327e017075ec"
   },
   "source": [
    "# init the optimizer\n",
    "print(f\"[INFO] compiling model ......\")\n",
    "opt = Adam(learning_rate=0.001)\n",
    "model = AlexNet.build(width=227,\n",
    "                      height=227,\n",
    "                      depth=3,\n",
    "                      classes=2,\n",
    "                      reg=0.0002)\n",
    "\n",
    "model.compile(loss=\"binary_crossentropy\", optimizer=opt, metrics=[\"accuracy\"])\n",
    "\n",
    "# construct the set of callbacks\n",
    "path = os.path.sep.join([outpath, f\"{os.getpid()}.png\"])\n",
    "callbacks = [TrainingMonitor(path)]"
   ],
   "execution_count": 14,
   "outputs": [
    {
     "output_type": "stream",
     "text": [
      "[INFO] compiling model ......\n"
     ],
     "name": "stdout"
    }
   ]
  },
  {
   "cell_type": "code",
   "metadata": {
    "pycharm": {
     "name": "#%%\n"
    },
    "colab": {
     "base_uri": "https://localhost:8080/"
    },
    "id": "z-qXemKZYoT9",
    "outputId": "32854881-8c78-4650-d596-68dc3d0d442f"
   },
   "source": [
    "H = model.fit_generator(traingen.generator(),\n",
    "                        validation_data=validgen.generator(),\n",
    "                        epochs=epochs,\n",
    "                        max_queue_size=10,\n",
    "                        callbacks=callbacks,\n",
    "                        steps_per_epoch=traingen.numImages //batch_size,\n",
    "                        validation_steps=validgen.numImages //batch_size)"
   ],
   "execution_count": 16,
   "outputs": [
    {
     "output_type": "stream",
     "text": [
      "/usr/local/lib/python3.7/dist-packages/tensorflow/python/keras/engine/training.py:1940: UserWarning: `Model.fit_generator` is deprecated and will be removed in a future version. Please use `Model.fit`, which supports generators.\n",
      "  warnings.warn('`Model.fit_generator` is deprecated and '\n"
     ],
     "name": "stderr"
    },
    {
     "output_type": "stream",
     "text": [
      "Epoch 1/75\n",
      "156/156 [==============================] - 690s 4s/step - loss: 3.2383 - accuracy: 0.5571 - val_loss: 2.7838 - val_accuracy: 0.5744\n",
      "Epoch 2/75\n",
      "156/156 [==============================] - 703s 5s/step - loss: 2.3521 - accuracy: 0.6269 - val_loss: 1.9419 - val_accuracy: 0.6669\n",
      "Epoch 3/75\n",
      "156/156 [==============================] - 698s 5s/step - loss: 1.7540 - accuracy: 0.6839 - val_loss: 1.5343 - val_accuracy: 0.6715\n",
      "Epoch 4/75\n",
      "156/156 [==============================] - 701s 5s/step - loss: 1.3843 - accuracy: 0.7165 - val_loss: 1.7034 - val_accuracy: 0.6172\n",
      "Epoch 5/75\n",
      "156/156 [==============================] - 705s 5s/step - loss: 1.1651 - accuracy: 0.7390 - val_loss: 1.1007 - val_accuracy: 0.7438\n",
      "Epoch 6/75\n",
      "156/156 [==============================] - 706s 5s/step - loss: 0.9755 - accuracy: 0.7736 - val_loss: 0.9154 - val_accuracy: 0.7603\n",
      "Epoch 7/75\n",
      "156/156 [==============================] - 705s 5s/step - loss: 0.8299 - accuracy: 0.8023 - val_loss: 0.7888 - val_accuracy: 0.7956\n",
      "Epoch 8/75\n",
      "156/156 [==============================] - 701s 5s/step - loss: 0.7501 - accuracy: 0.8185 - val_loss: 0.8492 - val_accuracy: 0.7241\n",
      "Epoch 9/75\n",
      "156/156 [==============================] - 696s 4s/step - loss: 0.7316 - accuracy: 0.8258 - val_loss: 0.9875 - val_accuracy: 0.7200\n",
      "Epoch 10/75\n",
      "156/156 [==============================] - 697s 4s/step - loss: 0.6924 - accuracy: 0.8329 - val_loss: 0.7259 - val_accuracy: 0.8121\n",
      "Epoch 11/75\n",
      "156/156 [==============================] - 698s 5s/step - loss: 0.7723 - accuracy: 0.8257 - val_loss: 0.7943 - val_accuracy: 0.8368\n",
      "Epoch 12/75\n",
      "156/156 [==============================] - 698s 5s/step - loss: 0.7365 - accuracy: 0.8351 - val_loss: 0.7737 - val_accuracy: 0.8203\n",
      "Epoch 13/75\n",
      "156/156 [==============================] - 700s 5s/step - loss: 0.7132 - accuracy: 0.8510 - val_loss: 0.6548 - val_accuracy: 0.8721\n",
      "Epoch 14/75\n",
      "156/156 [==============================] - 702s 5s/step - loss: 0.7100 - accuracy: 0.8483 - val_loss: 0.7818 - val_accuracy: 0.8265\n",
      "Epoch 15/75\n",
      "156/156 [==============================] - 703s 5s/step - loss: 0.7561 - accuracy: 0.8450 - val_loss: 0.7370 - val_accuracy: 0.8359\n",
      "Epoch 16/75\n",
      "156/156 [==============================] - 704s 5s/step - loss: 0.7287 - accuracy: 0.8566 - val_loss: 0.7458 - val_accuracy: 0.8351\n",
      "Epoch 17/75\n",
      "156/156 [==============================] - 702s 5s/step - loss: 0.7370 - accuracy: 0.8653 - val_loss: 0.7896 - val_accuracy: 0.8359\n",
      "Epoch 18/75\n",
      "156/156 [==============================] - 699s 5s/step - loss: 0.7199 - accuracy: 0.8660 - val_loss: 0.8137 - val_accuracy: 0.7821\n",
      "Epoch 19/75\n",
      "156/156 [==============================] - 701s 5s/step - loss: 0.6249 - accuracy: 0.8709 - val_loss: 0.5555 - val_accuracy: 0.8812\n",
      "Epoch 20/75\n",
      "156/156 [==============================] - 704s 5s/step - loss: 0.5622 - accuracy: 0.8823 - val_loss: 0.5815 - val_accuracy: 0.8808\n",
      "Epoch 21/75\n",
      "156/156 [==============================] - 709s 5s/step - loss: 0.5643 - accuracy: 0.8836 - val_loss: 0.6238 - val_accuracy: 0.8512\n",
      "Epoch 22/75\n",
      "156/156 [==============================] - 707s 5s/step - loss: 0.5736 - accuracy: 0.8803 - val_loss: 0.6733 - val_accuracy: 0.8586\n",
      "Epoch 23/75\n",
      "156/156 [==============================] - 709s 5s/step - loss: 0.5556 - accuracy: 0.8887 - val_loss: 0.6601 - val_accuracy: 0.8417\n",
      "Epoch 24/75\n",
      "156/156 [==============================] - 711s 5s/step - loss: 0.5613 - accuracy: 0.8826 - val_loss: 0.6504 - val_accuracy: 0.8577\n",
      "Epoch 25/75\n",
      "156/156 [==============================] - 710s 5s/step - loss: 0.5598 - accuracy: 0.8887 - val_loss: 0.5965 - val_accuracy: 0.8479\n",
      "Epoch 26/75\n",
      "156/156 [==============================] - 708s 5s/step - loss: 0.5534 - accuracy: 0.8899 - val_loss: 0.4888 - val_accuracy: 0.9038\n",
      "Epoch 27/75\n",
      "156/156 [==============================] - 706s 5s/step - loss: 0.5485 - accuracy: 0.8913 - val_loss: 0.5245 - val_accuracy: 0.9038\n",
      "Epoch 28/75\n",
      "156/156 [==============================] - 703s 5s/step - loss: 0.5537 - accuracy: 0.8921 - val_loss: 0.6510 - val_accuracy: 0.8520\n",
      "Epoch 29/75\n",
      "156/156 [==============================] - 706s 5s/step - loss: 0.5664 - accuracy: 0.8903 - val_loss: 0.7876 - val_accuracy: 0.8257\n",
      "Epoch 30/75\n",
      "156/156 [==============================] - 708s 5s/step - loss: 0.6187 - accuracy: 0.8858 - val_loss: 0.4929 - val_accuracy: 0.9141\n",
      "Epoch 31/75\n",
      "156/156 [==============================] - 706s 5s/step - loss: 0.5578 - accuracy: 0.8928 - val_loss: 0.5200 - val_accuracy: 0.9120\n",
      "Epoch 32/75\n",
      "156/156 [==============================] - 706s 5s/step - loss: 0.5623 - accuracy: 0.8960 - val_loss: 0.5587 - val_accuracy: 0.8927\n",
      "Epoch 33/75\n",
      "156/156 [==============================] - 701s 5s/step - loss: 0.5607 - accuracy: 0.8978 - val_loss: 0.5175 - val_accuracy: 0.9083\n",
      "Epoch 34/75\n",
      "156/156 [==============================] - 704s 5s/step - loss: 0.5860 - accuracy: 0.8948 - val_loss: 0.6915 - val_accuracy: 0.8606\n",
      "Epoch 35/75\n",
      "156/156 [==============================] - 695s 4s/step - loss: 0.5718 - accuracy: 0.8959 - val_loss: 0.5900 - val_accuracy: 0.8705\n",
      "Epoch 36/75\n",
      "156/156 [==============================] - 689s 4s/step - loss: 0.5502 - accuracy: 0.8992 - val_loss: 0.5976 - val_accuracy: 0.8894\n",
      "Epoch 37/75\n",
      "156/156 [==============================] - 688s 4s/step - loss: 0.5567 - accuracy: 0.8975 - val_loss: 0.5301 - val_accuracy: 0.9100\n",
      "Epoch 38/75\n",
      "156/156 [==============================] - 691s 4s/step - loss: 0.5469 - accuracy: 0.9039 - val_loss: 0.5282 - val_accuracy: 0.9030\n",
      "Epoch 39/75\n",
      "156/156 [==============================] - 694s 4s/step - loss: 0.5460 - accuracy: 0.9041 - val_loss: 0.5190 - val_accuracy: 0.9100\n",
      "Epoch 40/75\n",
      "156/156 [==============================] - 692s 4s/step - loss: 0.5541 - accuracy: 0.9031 - val_loss: 0.6338 - val_accuracy: 0.8479\n",
      "Epoch 41/75\n",
      "156/156 [==============================] - 699s 5s/step - loss: 0.5520 - accuracy: 0.9015 - val_loss: 0.5151 - val_accuracy: 0.8993\n",
      "Epoch 42/75\n",
      "156/156 [==============================] - 698s 5s/step - loss: 0.5370 - accuracy: 0.9051 - val_loss: 0.5224 - val_accuracy: 0.9067\n",
      "Epoch 43/75\n",
      "156/156 [==============================] - 701s 5s/step - loss: 0.5231 - accuracy: 0.9045 - val_loss: 0.5583 - val_accuracy: 0.8779\n",
      "Epoch 44/75\n",
      "156/156 [==============================] - 702s 5s/step - loss: 0.5417 - accuracy: 0.9047 - val_loss: 0.5917 - val_accuracy: 0.9104\n",
      "Epoch 45/75\n",
      "156/156 [==============================] - 703s 5s/step - loss: 0.5581 - accuracy: 0.9045 - val_loss: 0.4848 - val_accuracy: 0.9112\n",
      "Epoch 46/75\n",
      "156/156 [==============================] - 699s 5s/step - loss: 0.5210 - accuracy: 0.9065 - val_loss: 0.4923 - val_accuracy: 0.9137\n",
      "Epoch 47/75\n",
      "156/156 [==============================] - 695s 4s/step - loss: 0.5393 - accuracy: 0.9061 - val_loss: 0.6369 - val_accuracy: 0.8828\n",
      "Epoch 48/75\n",
      "156/156 [==============================] - 694s 4s/step - loss: 0.5176 - accuracy: 0.9071 - val_loss: 0.5214 - val_accuracy: 0.9005\n",
      "Epoch 49/75\n",
      "156/156 [==============================] - 696s 4s/step - loss: 0.5315 - accuracy: 0.9060 - val_loss: 0.4680 - val_accuracy: 0.9211\n",
      "Epoch 50/75\n",
      "156/156 [==============================] - 697s 4s/step - loss: 0.5142 - accuracy: 0.9109 - val_loss: 0.4891 - val_accuracy: 0.9145\n",
      "Epoch 51/75\n",
      "156/156 [==============================] - 705s 5s/step - loss: 0.5312 - accuracy: 0.9112 - val_loss: 0.6763 - val_accuracy: 0.8355\n",
      "Epoch 52/75\n",
      "156/156 [==============================] - 702s 5s/step - loss: 0.5130 - accuracy: 0.9130 - val_loss: 0.4787 - val_accuracy: 0.9145\n",
      "Epoch 53/75\n",
      "156/156 [==============================] - 701s 5s/step - loss: 0.5188 - accuracy: 0.9114 - val_loss: 0.4953 - val_accuracy: 0.9095\n",
      "Epoch 54/75\n",
      "156/156 [==============================] - 695s 4s/step - loss: 0.5152 - accuracy: 0.9119 - val_loss: 0.5401 - val_accuracy: 0.8943\n",
      "Epoch 55/75\n",
      "156/156 [==============================] - 696s 4s/step - loss: 0.4937 - accuracy: 0.9143 - val_loss: 0.5397 - val_accuracy: 0.8988\n",
      "Epoch 56/75\n",
      "156/156 [==============================] - 698s 4s/step - loss: 0.5146 - accuracy: 0.9131 - val_loss: 0.5004 - val_accuracy: 0.9239\n",
      "Epoch 57/75\n",
      "156/156 [==============================] - 693s 4s/step - loss: 0.5049 - accuracy: 0.9123 - val_loss: 0.5288 - val_accuracy: 0.9124\n",
      "Epoch 58/75\n",
      "156/156 [==============================] - 693s 4s/step - loss: 0.5068 - accuracy: 0.9138 - val_loss: 0.4712 - val_accuracy: 0.9194\n",
      "Epoch 59/75\n",
      "156/156 [==============================] - 695s 4s/step - loss: 0.4879 - accuracy: 0.9170 - val_loss: 0.5517 - val_accuracy: 0.8993\n",
      "Epoch 60/75\n",
      "156/156 [==============================] - 696s 4s/step - loss: 0.4922 - accuracy: 0.9192 - val_loss: 0.5225 - val_accuracy: 0.9182\n",
      "Epoch 61/75\n",
      "156/156 [==============================] - 692s 4s/step - loss: 0.4939 - accuracy: 0.9158 - val_loss: 0.5476 - val_accuracy: 0.8988\n",
      "Epoch 62/75\n",
      "156/156 [==============================] - 695s 4s/step - loss: 0.4991 - accuracy: 0.9145 - val_loss: 0.5992 - val_accuracy: 0.8803\n",
      "Epoch 63/75\n",
      "156/156 [==============================] - 692s 4s/step - loss: 0.4883 - accuracy: 0.9163 - val_loss: 0.5955 - val_accuracy: 0.8725\n",
      "Epoch 64/75\n",
      "156/156 [==============================] - 693s 4s/step - loss: 0.4737 - accuracy: 0.9189 - val_loss: 0.6393 - val_accuracy: 0.8524\n",
      "Epoch 65/75\n",
      "156/156 [==============================] - 692s 4s/step - loss: 0.4735 - accuracy: 0.9190 - val_loss: 0.4552 - val_accuracy: 0.9161\n",
      "Epoch 66/75\n",
      "156/156 [==============================] - 694s 4s/step - loss: 0.4666 - accuracy: 0.9196 - val_loss: 0.4508 - val_accuracy: 0.9178\n",
      "Epoch 67/75\n",
      "156/156 [==============================] - 693s 4s/step - loss: 0.4777 - accuracy: 0.9161 - val_loss: 0.4823 - val_accuracy: 0.9038\n",
      "Epoch 68/75\n",
      "156/156 [==============================] - 694s 4s/step - loss: 0.4623 - accuracy: 0.9214 - val_loss: 0.5285 - val_accuracy: 0.8762\n",
      "Epoch 69/75\n",
      "156/156 [==============================] - 694s 4s/step - loss: 0.4931 - accuracy: 0.9201 - val_loss: 0.5469 - val_accuracy: 0.8984\n",
      "Epoch 70/75\n",
      "156/156 [==============================] - 694s 4s/step - loss: 0.4744 - accuracy: 0.9203 - val_loss: 0.4351 - val_accuracy: 0.9219\n",
      "Epoch 71/75\n",
      "156/156 [==============================] - 691s 4s/step - loss: 0.4622 - accuracy: 0.9211 - val_loss: 0.4191 - val_accuracy: 0.9367\n",
      "Epoch 72/75\n",
      "156/156 [==============================] - 696s 4s/step - loss: 0.4723 - accuracy: 0.9220 - val_loss: 0.4217 - val_accuracy: 0.9268\n",
      "Epoch 73/75\n",
      "156/156 [==============================] - 698s 5s/step - loss: 0.4516 - accuracy: 0.9196 - val_loss: 0.7094 - val_accuracy: 0.8549\n",
      "Epoch 74/75\n",
      "156/156 [==============================] - 698s 5s/step - loss: 0.4677 - accuracy: 0.9199 - val_loss: 0.4530 - val_accuracy: 0.9153\n",
      "Epoch 75/75\n",
      "156/156 [==============================] - 695s 4s/step - loss: 0.4615 - accuracy: 0.9198 - val_loss: 0.4102 - val_accuracy: 0.9305\n"
     ],
     "name": "stdout"
    }
   ]
  },
  {
   "cell_type": "code",
   "metadata": {
    "pycharm": {
     "name": "#%%\n"
    },
    "colab": {
     "base_uri": "https://localhost:8080/"
    },
    "id": "eFVU_2a1YoT-",
    "outputId": "a5fbafea-2bc9-4937-f9c0-7ddbdd76155e"
   },
   "source": [
    "# save the model\n",
    "model_path = r\"/content/drive/MyDrive/ImageDatasets/cats_dogs_hdf5/model/saved_model/alexnet_dogs_cats.model\"\n",
    "print(f\"[INFO] serialising the model......\")\n",
    "model.save(model_path, overwrite=True)\n",
    "\n",
    "# close everything\n",
    "traingen.close()\n",
    "validgen.close()"
   ],
   "execution_count": 22,
   "outputs": [
    {
     "output_type": "stream",
     "text": [
      "[INFO] serialising the model......\n",
      "INFO:tensorflow:Assets written to: /content/drive/MyDrive/ImageDatasets/cats_dogs_hdf5/model/saved_model/alexnet_dogs_cats.model/assets\n"
     ],
     "name": "stdout"
    }
   ]
  },
  {
   "cell_type": "code",
   "metadata": {
    "pycharm": {
     "name": "#%%\n"
    },
    "colab": {
     "base_uri": "https://localhost:8080/",
     "height": 502
    },
    "id": "KRT6QjadYoT-",
    "outputId": "d1e5dfcf-482a-4256-fa1b-e1a8578cf09b"
   },
   "source": [
    "\n",
    "\n",
    "# plot the performance\n",
    "epochs = range(1,75+1)\n",
    "loss = H.history['loss']\n",
    "accuracy = H.history['accuracy']\n",
    "val_loss = H.history['val_loss']\n",
    "val_accuracy = H.history['val_accuracy']\n",
    "plot_df = pd.DataFrame(data=np.c_[epochs,loss,accuracy,val_loss,val_accuracy],\n",
    "                       columns=['epochs','loss', 'accuracy', 'val_loss', 'val_accuracy'])\n",
    "\n",
    "# do the actual plots\n",
    "sns.set(font_scale=1)\n",
    "f, ax = plt.subplots(1, 1, figsize=(15,8))\n",
    "sns.lineplot(data=plot_df, x='epochs', y='loss', ax=ax, label='train loss', linewidth=3)\n",
    "sns.lineplot(data=plot_df, x='epochs', y='accuracy', ax=ax, label='train accuracy', linewidth=3)\n",
    "sns.lineplot(data=plot_df, x='epochs', y='val_loss', ax=ax, label='val loss', linewidth=3)\n",
    "sns.lineplot(data=plot_df, x='epochs', y='val_accuracy', ax=ax, label='val_accuracy', linewidth=3)\n",
    "ax.set_ylabel('Loss or Accuracy')\n",
    "ax.set_xlabel('Epochs')\n",
    "plt.setp(ax.get_legend().get_texts(), fontsize='18'); # for legend text"
   ],
   "execution_count": 21,
   "outputs": [
    {
     "output_type": "display_data",
     "data": {
      "image/png": "[encoded data removed]",
      "text/plain": [
       "<Figure size 1080x576 with 1 Axes>"
      ]
     },
     "metadata": {
      "tags": []
     }
    }
   ]
  },
  {
   "cell_type": "code",
   "metadata": {
    "pycharm": {
     "name": "#%%"
    },
    "id": "MRieSgQUYoT_"
   },
   "source": [
    ""
   ],
   "execution_count": null,
   "outputs": []
  }
 ]
}