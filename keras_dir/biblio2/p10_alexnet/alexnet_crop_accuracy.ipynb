{
 "nbformat": 4,
 "nbformat_minor": 0,
 "metadata": {
  "kernelspec": {
   "display_name": "Python 3",
   "language": "python",
   "name": "python3"
  },
  "language_info": {
   "codemirror_mode": {
    "name": "ipython",
    "version": 2
   },
   "file_extension": ".py",
   "mimetype": "text/x-python",
   "name": "python",
   "nbconvert_exporter": "python",
   "pygments_lexer": "ipython2",
   "version": "2.7.6"
  },
  "colab": {
   "name": "alexnet_crop_accuracy.ipynb",
   "provenance": [],
   "collapsed_sections": [],
   "machine_shape": "hm"
  },
  "accelerator": "GPU"
 },
 "cells": [
  {
   "cell_type": "code",
   "metadata": {
    "colab": {
     "base_uri": "https://localhost:8080/"
    },
    "id": "UsjbR-DA7g6B",
    "outputId": "7455c0ce-bb15-4d5f-b783-949df45cf3b1"
   },
   "source": [
    "import sys\n",
    "from google.colab import drive\n",
    "drive.mount('/content/drive')\n",
    "sys.path.append(r\"/content/drive/MyDrive/\")"
   ],
   "execution_count": 1,
   "outputs": [
    {
     "output_type": "stream",
     "text": [
      "Mounted at /content/drive\n"
     ],
     "name": "stdout"
    }
   ]
  },
  {
   "cell_type": "code",
   "metadata": {
    "collapsed": true,
    "id": "t_R5zIas7bOG"
   },
   "source": [
    "from loader_util.preprocessing import ImageToArrayPreprocessor, \\\n",
    "    SimplePreProcessor, MeanPreprocessor, CropPreprocessor\n",
    "from loader_util.io import HDF5DatasetGenerator\n",
    "from loader_util.utils.ranked import rank5_accuracy\n",
    "from tensorflow.keras.models import load_model\n",
    "from tensorflow.keras.models import Model\n",
    "import numpy as np\n",
    "import progressbar\n",
    "import json"
   ],
   "execution_count": 2,
   "outputs": []
  },
  {
   "cell_type": "code",
   "metadata": {
    "pycharm": {
     "name": "#%%\n"
    },
    "colab": {
     "base_uri": "https://localhost:8080/"
    },
    "id": "k107SDPr7bOM",
    "outputId": "7d3dd168-413c-4125-cc2e-b60631f63996"
   },
   "source": [
    "json_path = r\"/content/drive/MyDrive/ImageDatasets/cats_dogs_hdf5/output/alexnet_dogs_vs_cats_mean.json\"\n",
    "model_path = r\"/content/drive/MyDrive/ImageDatasets/cats_dogs_hdf5/model/saved_model/alexnet_dogs_cats.model\"\n",
    "test_path = r\"/content/drive/MyDrive/ImageDatasets/cats_dogs_hdf5/test.hdf5\"\n",
    "\n",
    "# load the RGB means for the train set\n",
    "means = json.loads(open(json_path).read())\n",
    "\n",
    "# init the image preprocessors\n",
    "sp = SimplePreProcessor(227, 227)\n",
    "mp = MeanPreprocessor(means[\"R\"], means[\"G\"], means[\"B\"])\n",
    "cp = CropPreprocessor(227, 227)\n",
    "iap = ImageToArrayPreprocessor()\n",
    "\n",
    "# load the pretrained network\n",
    "print(f\"[INFO] loading model......\")\n",
    "model = load_model(model_path) # type: Model"
   ],
   "execution_count": 3,
   "outputs": [
    {
     "output_type": "stream",
     "text": [
      "[INFO] loading model......\n"
     ],
     "name": "stdout"
    }
   ]
  },
  {
   "cell_type": "code",
   "metadata": {
    "pycharm": {
     "name": "#%%\n"
    },
    "colab": {
     "base_uri": "https://localhost:8080/"
    },
    "id": "4DOon_d07bOM",
    "outputId": "2384b76e-4dd4-4686-f2eb-c1b5561d3032"
   },
   "source": [
    "# init the testing dataset generator then make prediction on the testing data\n",
    "print(f\"[INFO] prediction on test data (no crops)......\")\n",
    "testgen = HDF5DatasetGenerator(dbPath=test_path,\n",
    "                               batchSize=64,\n",
    "                               classes=2,\n",
    "                               preprocessors=[sp, mp, iap])\n",
    "\n",
    "# get the predictions\n",
    "preds = model.predict_generator(testgen.generator(),\n",
    "                                steps=testgen.numImages // 64,\n",
    "                                max_queue_size=10)\n",
    "\n",
    "\n",
    "# computer the rank5 accuracies\n",
    "rank1, _ = rank5_accuracy(preds, testgen.db[\"labels\"])\n",
    "print(f\"[INFO] rank1 accuracy: {rank1: 0.2f}......\")\n",
    "testgen.close()"
   ],
   "execution_count": 4,
   "outputs": [
    {
     "output_type": "stream",
     "text": [
      "[INFO] prediction on test data (no crops)......\n"
     ],
     "name": "stdout"
    },
    {
     "output_type": "stream",
     "text": [
      "/usr/local/lib/python3.7/dist-packages/tensorflow/python/keras/engine/training.py:2001: UserWarning: `Model.predict_generator` is deprecated and will be removed in a future version. Please use `Model.predict`, which supports generators.\n",
      "  warnings.warn('`Model.predict_generator` is deprecated and '\n"
     ],
     "name": "stderr"
    },
    {
     "output_type": "stream",
     "text": [
      "[INFO] rank1 accuracy:  0.93......\n"
     ],
     "name": "stdout"
    }
   ]
  },
  {
   "cell_type": "code",
   "metadata": {
    "pycharm": {
     "name": "#%%\n"
    },
    "colab": {
     "base_uri": "https://localhost:8080/"
    },
    "id": "yEtij3uu7bON",
    "outputId": "bb11fa35-9be0-44f2-afe1-7aaa8a28a683"
   },
   "source": [
    "# reinit the test set generator for crop preprocessing\n",
    "testgen = HDF5DatasetGenerator(test_path,\n",
    "                               batchSize=64,\n",
    "                               preprocessors=[mp],\n",
    "                               classes=2,)\n",
    "predictions = []\n",
    "\n",
    "\n",
    "# init the progressbar\n",
    "# initialize the progress bar\n",
    "widgets = [\"Building Dataset: \", progressbar.Percentage(), \" \",\n",
    "           progressbar.Bar(), \" \", progressbar.ETA()]\n",
    "pbar = progressbar.ProgressBar(maxval=testgen.numImages // 64,\n",
    "                               widgets=widgets).start()\n",
    "\n",
    "# loop over the single pass of the test data\n",
    "for i, (images, labels) in enumerate(testgen.generator(passes=1)):\n",
    "    # we just got back a batch of image from the test data\n",
    "    for image in images:\n",
    "        crops = cp.preprocess(image)\n",
    "        crops = np.array([iap.preprocess(c) for c in crops], dtype=\"float32\")\n",
    "\n",
    "        # make predictions on the crops and then average them together\n",
    "        pred = model.predict(crops)\n",
    "        predictions.append(pred.mean(axis=0))\n",
    "\n",
    "    pbar.update(i) # gets updated every batch\n",
    "pbar.finish()"
   ],
   "execution_count": 5,
   "outputs": [
    {
     "output_type": "stream",
     "text": [
      "Building Dataset: 100% |#######################################| Time:  0:02:31\n"
     ],
     "name": "stderr"
    }
   ]
  },
  {
   "cell_type": "code",
   "metadata": {
    "pycharm": {
     "name": "#%%\n"
    },
    "colab": {
     "base_uri": "https://localhost:8080/"
    },
    "id": "v-inf9cP7bOO",
    "outputId": "5f0db1b1-9e57-406f-e0c3-7286761524a6"
   },
   "source": [
    "print(f\"[INFO] predicting on test data with crops......\")\n",
    "rank1, _ = rank5_accuracy(predictions, testgen.db[\"labels\"])\n",
    "print(f\"[INFO] rank1 accuracy = {rank1: 0.2f}......\")\n",
    "testgen.close()"
   ],
   "execution_count": 6,
   "outputs": [
    {
     "output_type": "stream",
     "text": [
      "[INFO] predicting on test data with crops......\n",
      "[INFO] rank1 accuracy =  0.94......\n"
     ],
     "name": "stdout"
    }
   ]
  },
  {
   "cell_type": "code",
   "metadata": {
    "pycharm": {
     "name": "#%%\n"
    },
    "id": "7AxfYSkR7bOO"
   },
   "source": [
    ""
   ],
   "execution_count": null,
   "outputs": []
  }
 ]
}