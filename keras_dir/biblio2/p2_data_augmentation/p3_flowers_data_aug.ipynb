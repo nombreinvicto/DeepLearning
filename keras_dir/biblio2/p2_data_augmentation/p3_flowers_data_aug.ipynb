{
 "cells": [
  {
   "cell_type": "code",
   "execution_count": 1,
   "outputs": [],
   "source": [
    "import sys, os\n",
    "import numpy as np\n",
    "import pandas as pd\n",
    "import seaborn as sns\n",
    "import matplotlib.pyplot as plt\n",
    "from matplotlib.figure import Figure\n",
    "import matplotlib.axes._axes as axes\n",
    "\n",
    "sns.set()"
   ],
   "metadata": {
    "collapsed": false,
    "pycharm": {
     "name": "#%%\n"
    }
   }
  },
  {
   "cell_type": "code",
   "execution_count": null,
   "outputs": [],
   "source": [
    "# import the necessary packages\n",
    "from sklearn.preprocessing import LabelBinarizer\n",
    "from sklearn.model_selection import train_test_split\n",
    "from sklearn.metrics import classification_report\n",
    "from loader_util.preprocessing import \\\n",
    "    ImageToArrayPreprocessor, AspectAwarePreprocessor\n",
    "from loader_util.datasets import SimpleDatasetLoader\n",
    "from loader_util.nn.conv import FCHeadNet, MinVGGNet\n",
    "##\n",
    "from tensorflow.keras.layers import Conv2D, Activation, Flatten, Dense\n",
    "from tensorflow.keras.preprocessing.image import ImageDataGenerator\n",
    "from tensorflow.keras.optimizers import RMSprop, SGD\n",
    "from tensorflow.keras.applications import VGG16\n",
    "from tensorflow.keras.layers import Input\n",
    "from tensorflow.keras.models import Model\n",
    "from tensorflow.keras import backend as K\n",
    "from imutils import paths"
   ],
   "metadata": {
    "collapsed": false,
    "pycharm": {
     "name": "#%%\n"
    }
   }
  },
  {
   "cell_type": "code",
   "execution_count": null,
   "outputs": [],
   "source": [
    "data_path = r\"C:\\Users\\mhasa\\Google Drive\\Tutorial Corner\\PYTH\\DeepLearning\\DeepLearning-DL4CV\\ImageDatasets\\flowers17\\images\"\n",
    "epochs = 100\n",
    "batch_size = 32\n",
    "\n",
    "# grab the list of images\n",
    "print(f\"[INFO] loading images......\")\n",
    "image_paths = list(paths.list_images(data_path))\n",
    "class_names = [pt.split(os.path.sep)[-2] for pt in image_paths]\n",
    "unique_class_names = np.unique(class_names)"
   ],
   "metadata": {
    "collapsed": false,
    "pycharm": {
     "name": "#%%\n"
    }
   }
  },
  {
   "cell_type": "code",
   "execution_count": null,
   "outputs": [],
   "source": [
    " # init the preprocessors\n",
    "aap = AspectAwarePreprocessor(64, 64)\n",
    "iap = ImageToArrayPreprocessor()\n",
    "\n",
    "# load the dataset from disk\n",
    "sdl = SimpleDatasetLoader(preprocessors=[aap, iap])\n",
    "data, labels = sdl.load(image_paths, verbose=500)\n",
    "data = data.astype('float32') / 255.0"
   ],
   "metadata": {
    "collapsed": false,
    "pycharm": {
     "name": "#%%\n"
    }
   }
  },
  {
   "cell_type": "code",
   "execution_count": null,
   "outputs": [],
   "source": [
    "# partition the data\n",
    "trainx, testx, trainy, testy = train_test_split(data, labels,\n",
    "                                                test_size=0.25,\n",
    "                                                random_state=42)\n",
    "\n",
    "# encode the labels\n",
    "lb = LabelBinarizer()\n",
    "trainy = lb.fit_transform(trainy)\n",
    "testy = lb.transform(testy)"
   ],
   "metadata": {
    "collapsed": false,
    "pycharm": {
     "name": "#%%\n"
    }
   }
  },
  {
   "cell_type": "code",
   "execution_count": null,
   "outputs": [],
   "source": [
    " # init the data aumentation generator\n",
    "aug = ImageDataGenerator(rotation_range=30,\n",
    "                         width_shift_range=0.1,\n",
    "                         height_shift_range=0.1,\n",
    "                         shear_range=0.2,\n",
    "                         zoom_range=0.2,\n",
    "                         horizontal_flip=True,\n",
    "                         fill_mode='nearest')"
   ],
   "metadata": {
    "collapsed": false,
    "pycharm": {
     "name": "#%%\n"
    }
   }
  },
  {
   "cell_type": "code",
   "execution_count": null,
   "outputs": [],
   "source": [
    "# compile the model\n",
    "print(f\"[INFO] compiling the model......\")\n",
    "opt = SGD(lr=0.05)\n",
    "model = MinVGGNet.build(64, 64, 3, classes=len(unique_class_names))\n",
    "model.compile(optimizer=opt, loss=\"categorical_crossentropy\",\n",
    "              metrics=['accuracy'])"
   ],
   "metadata": {
    "collapsed": false,
    "pycharm": {
     "name": "#%%\n"
    }
   }
  },
  {
   "cell_type": "code",
   "execution_count": null,
   "outputs": [],
   "source": [
    "# train the network\n",
    "H = model.fit_generator(aug.flow(trainx, trainy, batch_size=batch_size),\n",
    "                        validation_data=(testx, testy),\n",
    "                        epochs=epochs, verbose=1)"
   ],
   "metadata": {
    "collapsed": false,
    "pycharm": {
     "name": "#%%\n"
    }
   }
  },
  {
   "cell_type": "code",
   "execution_count": null,
   "outputs": [],
   "source": [
    "# evaluate the network\n",
    "print(\"[INFO] evaluating network...\")\n",
    "predictions = model.predict(testx, batch_size=32)\n",
    "print(classification_report(testy.argmax(axis=1),\n",
    "                            predictions.argmax(axis=1),\n",
    "                            target_names=unique_class_names))\n",
    "\n",
    "# plot the performance\n",
    "epochs = range(1, epochs + 1)\n",
    "loss = H.history['loss']\n",
    "accuracy = H.history['accuracy']\n",
    "val_loss = H.history['val_loss']\n",
    "val_accuracy = H.history['val_accuracy']\n",
    "plot_df = pd.DataFrame(\n",
    "    data=np.c_[epochs, loss, accuracy, val_loss, val_accuracy],\n",
    "    columns=['epochs', 'loss', 'accuracy', 'val_loss', 'val_accuracy'])\n",
    "\n",
    "# do the actual plots\n",
    "sns.set(font_scale=1)\n",
    "f, ax = plt.subplots(1, 1, figsize=(15, 8))\n",
    "sns.lineplot(data=plot_df, x='epochs', y='loss', ax=ax, label='train loss',\n",
    "             linewidth=3)\n",
    "sns.lineplot(data=plot_df, x='epochs', y='accuracy', ax=ax,\n",
    "             label='train accuracy', linewidth=3)\n",
    "sns.lineplot(data=plot_df, x='epochs', y='val_loss', ax=ax, label='val loss',\n",
    "             linewidth=3)\n",
    "sns.lineplot(data=plot_df, x='epochs', y='val_accuracy', ax=ax,\n",
    "             label='val_accuracy', linewidth=3)\n",
    "ax.set_ylabel('Loss or Accuracy')\n",
    "ax.set_xlabel('Epochs')\n",
    "plt.setp(ax.get_legend().get_texts(), fontsize='18');  # for legend text"
   ],
   "metadata": {
    "collapsed": false,
    "pycharm": {
     "name": "#%%\n"
    }
   }
  },
  {
   "cell_type": "code",
   "execution_count": null,
   "outputs": [],
   "source": [],
   "metadata": {
    "collapsed": false,
    "pycharm": {
     "name": "#%%"
    }
   }
  }
 ],
 "metadata": {
  "kernelspec": {
   "display_name": "Python 3",
   "language": "python",
   "name": "python3"
  },
  "language_info": {
   "codemirror_mode": {
    "name": "ipython",
    "version": 2
   },
   "file_extension": ".py",
   "mimetype": "text/x-python",
   "name": "python",
   "nbconvert_exporter": "python",
   "pygments_lexer": "ipython2",
   "version": "2.7.6"
  }
 },
 "nbformat": 4,
 "nbformat_minor": 0
}