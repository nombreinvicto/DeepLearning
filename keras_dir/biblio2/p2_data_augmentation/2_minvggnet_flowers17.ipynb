{
 "cells": [
  {
   "cell_type": "code",
   "execution_count": 13,
   "metadata": {
    "collapsed": true,
    "colab": {
     "base_uri": "https://localhost:8080/"
    },
    "id": "xDbeQ1KQcwnK",
    "executionInfo": {
     "status": "ok",
     "timestamp": 1668974573358,
     "user_tz": 420,
     "elapsed": 1402,
     "user": {
      "displayName": "Mahmud Hasan",
      "userId": "12038503323124398731"
     }
    },
    "outputId": "8cf822a6-01da-4875-b2a9-6ba387dd6a12"
   },
   "outputs": [
    {
     "output_type": "stream",
     "name": "stdout",
     "text": [
      "Drive already mounted at /content/drive; to attempt to forcibly remount, call drive.mount(\"/content/drive\", force_remount=True).\n"
     ]
    }
   ],
   "source": [
    "import sys\n",
    "from google.colab import drive\n",
    "\n",
    "drive.mount('/content/drive')\n",
    "sys.path.append(r\"/content/drive/MyDrive/\")"
   ]
  },
  {
   "cell_type": "code",
   "execution_count": 14,
   "outputs": [],
   "source": [
    "import sys, os, json\n",
    "import numpy as np\n",
    "import pandas as pd\n",
    "import seaborn as sns\n",
    "import argparse, progressbar\n",
    "import matplotlib.pyplot as plt\n",
    "from matplotlib.figure import Figure\n",
    "from matplotlib.axes import Axes\n",
    "\n",
    "sns.set()"
   ],
   "metadata": {
    "id": "zwwpMyhfcwnP",
    "executionInfo": {
     "status": "ok",
     "timestamp": 1668974580072,
     "user_tz": 420,
     "elapsed": 378,
     "user": {
      "displayName": "Mahmud Hasan",
      "userId": "12038503323124398731"
     }
    }
   }
  },
  {
   "cell_type": "code",
   "execution_count": 15,
   "outputs": [],
   "source": [
    "# import the necessary packages\n",
    "from imutils import paths\n",
    "from sklearn.preprocessing import LabelBinarizer\n",
    "from sklearn.model_selection import train_test_split\n",
    "from sklearn.metrics import classification_report\n",
    "from loader_util.preprocessing import ImageToArrayPreprocessor, AspectAwarePreprocessor\n",
    "from loader_util.datasets import SimpleDatasetLoader\n",
    "from loader_util.nn.conv import MinVGGNet\n",
    "##\n",
    "from tensorflow.keras.preprocessing.image import ImageDataGenerator\n",
    "from tensorflow.keras.optimizers import RMSprop, SGD"
   ],
   "metadata": {
    "id": "kdWxIhNncwnU",
    "executionInfo": {
     "status": "ok",
     "timestamp": 1668974581338,
     "user_tz": 420,
     "elapsed": 224,
     "user": {
      "displayName": "Mahmud Hasan",
      "userId": "12038503323124398731"
     }
    }
   }
  },
  {
   "cell_type": "code",
   "execution_count": 16,
   "outputs": [],
   "source": [
    "# get the arguments\n",
    "#dataset_dir = r\"C:\\Users\\mhasa\\google_drive\\PYTH\\DeepLearning\\DeepLearning-DL4CV\\Edition3\\ImageDataset\\book2\\flowers17\\images\"\n",
    "dataset_dir = r\"/content/drive/MyDrive/ImageDataset/book2/flowers17/images\"\n"
   ],
   "metadata": {
    "id": "IaGlzyw6cwnY",
    "executionInfo": {
     "status": "ok",
     "timestamp": 1668974583767,
     "user_tz": 420,
     "elapsed": 189,
     "user": {
      "displayName": "Mahmud Hasan",
      "userId": "12038503323124398731"
     }
    }
   }
  },
  {
   "cell_type": "code",
   "execution_count": 17,
   "outputs": [
    {
     "output_type": "stream",
     "name": "stdout",
     "text": [
      "[INFO] loading images......\n"
     ]
    }
   ],
   "source": [
    "print(f\"[INFO] loading images......\")\n",
    "image_paths = list(paths.list_images(dataset_dir))\n",
    "class_names = [path.split(os.path.sep)[-2] for path in image_paths]\n",
    "class_names = [str(x) for x in np.unique(class_names)]"
   ],
   "metadata": {
    "colab": {
     "base_uri": "https://localhost:8080/"
    },
    "id": "_o2_XsLKcwnZ",
    "executionInfo": {
     "status": "ok",
     "timestamp": 1668974585487,
     "user_tz": 420,
     "elapsed": 463,
     "user": {
      "displayName": "Mahmud Hasan",
      "userId": "12038503323124398731"
     }
    },
    "outputId": "58888f45-6daa-4e00-a98b-88217ac187eb"
   }
  },
  {
   "cell_type": "code",
   "execution_count": 18,
   "outputs": [
    {
     "output_type": "stream",
     "name": "stdout",
     "text": [
      "[INFO] processed 500/1360\n",
      "[INFO] processed 1000/1360\n"
     ]
    }
   ],
   "source": [
    "# init the preprocessors\n",
    "aap = AspectAwarePreprocessor(64, 64)\n",
    "iap = ImageToArrayPreprocessor()\n",
    "\n",
    "# load the dataset from disk, then scale\n",
    "sdl = SimpleDatasetLoader(preprocessors=[aap, iap])\n",
    "data, labels = sdl.load(image_paths=image_paths,\n",
    "                        verbose=500)\n",
    "data = data.astype(\"float\") / 255.0"
   ],
   "metadata": {
    "colab": {
     "base_uri": "https://localhost:8080/"
    },
    "id": "yUoOQ-oEcwnb",
    "executionInfo": {
     "status": "ok",
     "timestamp": 1668974599925,
     "user_tz": 420,
     "elapsed": 12407,
     "user": {
      "displayName": "Mahmud Hasan",
      "userId": "12038503323124398731"
     }
    },
    "outputId": "4876bee6-51e8-4c00-93e1-d5ec1ed648ea"
   }
  },
  {
   "cell_type": "code",
   "execution_count": 19,
   "outputs": [],
   "source": [
    "#partition the data into train test splits\n",
    "trainx, testx, trainy, testy = train_test_split(data,\n",
    "                                                labels,\n",
    "                                                random_state=42,\n",
    "                                                test_size=0.25)\n",
    "# binarise the labels\n",
    "lb = LabelBinarizer()\n",
    "trainy = lb.fit_transform(trainy)\n",
    "testy = lb.transform(testy)"
   ],
   "metadata": {
    "id": "4oglxtfQcwnc",
    "executionInfo": {
     "status": "ok",
     "timestamp": 1668974619317,
     "user_tz": 420,
     "elapsed": 242,
     "user": {
      "displayName": "Mahmud Hasan",
      "userId": "12038503323124398731"
     }
    }
   }
  },
  {
   "cell_type": "code",
   "source": [
    "# create augmentation generator\n",
    "aug = ImageDataGenerator(rotation_range=30,\n",
    "                         width_shift_range=0.1,\n",
    "                         height_shift_range=0.1,\n",
    "                         shear_range=0.2,\n",
    "                         zoom_range=0.2,\n",
    "                         horizontal_flip=True,\n",
    "                         fill_mode=\"nearest\")"
   ],
   "metadata": {
    "id": "wXaM7cxWonXV",
    "executionInfo": {
     "status": "ok",
     "timestamp": 1668974621586,
     "user_tz": 420,
     "elapsed": 182,
     "user": {
      "displayName": "Mahmud Hasan",
      "userId": "12038503323124398731"
     }
    }
   },
   "execution_count": 20,
   "outputs": []
  },
  {
   "cell_type": "code",
   "execution_count": 21,
   "outputs": [
    {
     "output_type": "stream",
     "name": "stdout",
     "text": [
      "[INFO] compiling the model......\n"
     ]
    }
   ],
   "source": [
    "print(f\"[INFO] compiling the model......\")\n",
    "opt = SGD(learning_rate=0.05)\n",
    "model = MinVGGNet.build(width=64,\n",
    "                        height=64,\n",
    "                        depth=3,\n",
    "                        classes=len(class_names))\n",
    "model.compile(loss=\"categorical_crossentropy\",\n",
    "              optimizer=opt,\n",
    "              metrics=[\"accuracy\"])"
   ],
   "metadata": {
    "pycharm": {
     "is_executing": true
    },
    "colab": {
     "base_uri": "https://localhost:8080/"
    },
    "id": "qf6P3lZrcwne",
    "executionInfo": {
     "status": "ok",
     "timestamp": 1668974627031,
     "user_tz": 420,
     "elapsed": 214,
     "user": {
      "displayName": "Mahmud Hasan",
      "userId": "12038503323124398731"
     }
    },
    "outputId": "0ef0b691-e386-44cb-8e3e-912f07abe275"
   }
  },
  {
   "cell_type": "code",
   "execution_count": 22,
   "outputs": [
    {
     "output_type": "stream",
     "name": "stdout",
     "text": [
      "[INFO] training network......\n",
      "using generator\n",
      "Epoch 1/100\n"
     ]
    },
    {
     "output_type": "stream",
     "name": "stderr",
     "text": [
      "/usr/local/lib/python3.7/dist-packages/ipykernel_launcher.py:12: UserWarning: `Model.fit_generator` is deprecated and will be removed in a future version. Please use `Model.fit`, which supports generators.\n",
      "  if sys.path[0] == '':\n"
     ]
    },
    {
     "output_type": "stream",
     "name": "stdout",
     "text": [
      "31/31 [==============================] - 2s 47ms/step - loss: 3.4368 - accuracy: 0.2024 - val_loss: 3.0724 - val_accuracy: 0.1088\n",
      "Epoch 2/100\n",
      "31/31 [==============================] - 1s 40ms/step - loss: 2.3367 - accuracy: 0.3522 - val_loss: 2.5126 - val_accuracy: 0.2059\n",
      "Epoch 3/100\n",
      "31/31 [==============================] - 1s 39ms/step - loss: 2.0342 - accuracy: 0.4083 - val_loss: 2.9166 - val_accuracy: 0.1941\n",
      "Epoch 4/100\n",
      "31/31 [==============================] - 1s 40ms/step - loss: 1.7946 - accuracy: 0.4545 - val_loss: 2.7880 - val_accuracy: 0.2265\n",
      "Epoch 5/100\n",
      "31/31 [==============================] - 1s 40ms/step - loss: 1.7100 - accuracy: 0.4808 - val_loss: 1.9842 - val_accuracy: 0.3647\n",
      "Epoch 6/100\n",
      "31/31 [==============================] - 1s 40ms/step - loss: 1.7337 - accuracy: 0.4808 - val_loss: 2.8235 - val_accuracy: 0.2382\n",
      "Epoch 7/100\n",
      "31/31 [==============================] - 1s 40ms/step - loss: 1.5789 - accuracy: 0.5283 - val_loss: 2.5137 - val_accuracy: 0.2412\n",
      "Epoch 8/100\n",
      "31/31 [==============================] - 1s 40ms/step - loss: 1.5395 - accuracy: 0.5294 - val_loss: 2.0097 - val_accuracy: 0.4353\n",
      "Epoch 9/100\n",
      "31/31 [==============================] - 1s 40ms/step - loss: 1.4480 - accuracy: 0.5445 - val_loss: 1.7452 - val_accuracy: 0.4676\n",
      "Epoch 10/100\n",
      "31/31 [==============================] - 1s 40ms/step - loss: 1.2985 - accuracy: 0.5800 - val_loss: 1.4015 - val_accuracy: 0.5500\n",
      "Epoch 11/100\n",
      "31/31 [==============================] - 1s 40ms/step - loss: 1.2325 - accuracy: 0.5992 - val_loss: 1.3686 - val_accuracy: 0.5735\n",
      "Epoch 12/100\n",
      "31/31 [==============================] - 1s 39ms/step - loss: 1.1991 - accuracy: 0.6103 - val_loss: 1.3857 - val_accuracy: 0.6029\n",
      "Epoch 13/100\n",
      "31/31 [==============================] - 1s 40ms/step - loss: 1.2145 - accuracy: 0.6103 - val_loss: 1.3498 - val_accuracy: 0.5882\n",
      "Epoch 14/100\n",
      "31/31 [==============================] - 1s 40ms/step - loss: 1.0431 - accuracy: 0.6589 - val_loss: 1.4048 - val_accuracy: 0.5735\n",
      "Epoch 15/100\n",
      "31/31 [==============================] - 1s 40ms/step - loss: 1.1533 - accuracy: 0.6103 - val_loss: 1.8382 - val_accuracy: 0.5029\n",
      "Epoch 16/100\n",
      "31/31 [==============================] - 1s 39ms/step - loss: 1.0953 - accuracy: 0.6397 - val_loss: 1.1694 - val_accuracy: 0.6353\n",
      "Epoch 17/100\n",
      "31/31 [==============================] - 1s 40ms/step - loss: 0.9674 - accuracy: 0.6731 - val_loss: 1.2580 - val_accuracy: 0.6147\n",
      "Epoch 18/100\n",
      "31/31 [==============================] - 1s 39ms/step - loss: 1.0568 - accuracy: 0.6447 - val_loss: 1.2830 - val_accuracy: 0.6088\n",
      "Epoch 19/100\n",
      "31/31 [==============================] - 1s 40ms/step - loss: 1.0283 - accuracy: 0.6630 - val_loss: 1.8138 - val_accuracy: 0.5324\n",
      "Epoch 20/100\n",
      "31/31 [==============================] - 1s 39ms/step - loss: 0.9931 - accuracy: 0.6731 - val_loss: 1.5057 - val_accuracy: 0.5412\n",
      "Epoch 21/100\n",
      "31/31 [==============================] - 1s 40ms/step - loss: 0.9550 - accuracy: 0.6714 - val_loss: 1.1728 - val_accuracy: 0.6412\n",
      "Epoch 22/100\n",
      "31/31 [==============================] - 1s 39ms/step - loss: 0.9278 - accuracy: 0.6812 - val_loss: 1.3451 - val_accuracy: 0.6441\n",
      "Epoch 23/100\n",
      "31/31 [==============================] - 1s 40ms/step - loss: 0.9497 - accuracy: 0.6943 - val_loss: 1.2771 - val_accuracy: 0.6529\n",
      "Epoch 24/100\n",
      "31/31 [==============================] - 1s 39ms/step - loss: 0.9061 - accuracy: 0.6893 - val_loss: 1.3001 - val_accuracy: 0.6088\n",
      "Epoch 25/100\n",
      "31/31 [==============================] - 1s 40ms/step - loss: 0.8354 - accuracy: 0.7196 - val_loss: 1.4738 - val_accuracy: 0.5941\n",
      "Epoch 26/100\n",
      "31/31 [==============================] - 1s 40ms/step - loss: 0.8507 - accuracy: 0.7087 - val_loss: 1.1406 - val_accuracy: 0.6471\n",
      "Epoch 27/100\n",
      "31/31 [==============================] - 1s 40ms/step - loss: 0.7741 - accuracy: 0.7460 - val_loss: 1.2611 - val_accuracy: 0.6353\n",
      "Epoch 28/100\n",
      "31/31 [==============================] - 1s 40ms/step - loss: 0.8278 - accuracy: 0.7247 - val_loss: 1.3585 - val_accuracy: 0.6441\n",
      "Epoch 29/100\n",
      "31/31 [==============================] - 1s 40ms/step - loss: 0.7782 - accuracy: 0.7247 - val_loss: 1.3380 - val_accuracy: 0.6441\n",
      "Epoch 30/100\n",
      "31/31 [==============================] - 1s 40ms/step - loss: 0.8477 - accuracy: 0.7156 - val_loss: 1.1315 - val_accuracy: 0.6676\n",
      "Epoch 31/100\n",
      "31/31 [==============================] - 1s 40ms/step - loss: 0.7406 - accuracy: 0.7540 - val_loss: 1.4013 - val_accuracy: 0.6147\n",
      "Epoch 32/100\n",
      "31/31 [==============================] - 1s 40ms/step - loss: 0.7321 - accuracy: 0.7540 - val_loss: 1.2628 - val_accuracy: 0.6706\n",
      "Epoch 33/100\n",
      "31/31 [==============================] - 1s 39ms/step - loss: 0.7893 - accuracy: 0.7298 - val_loss: 1.1927 - val_accuracy: 0.6324\n",
      "Epoch 34/100\n",
      "31/31 [==============================] - 1s 39ms/step - loss: 0.8559 - accuracy: 0.7308 - val_loss: 1.2902 - val_accuracy: 0.6412\n",
      "Epoch 35/100\n",
      "31/31 [==============================] - 1s 39ms/step - loss: 0.7494 - accuracy: 0.7510 - val_loss: 1.4941 - val_accuracy: 0.6294\n",
      "Epoch 36/100\n",
      "31/31 [==============================] - 1s 40ms/step - loss: 0.6432 - accuracy: 0.7783 - val_loss: 1.4365 - val_accuracy: 0.6441\n",
      "Epoch 37/100\n",
      "31/31 [==============================] - 1s 40ms/step - loss: 0.7132 - accuracy: 0.7530 - val_loss: 1.1684 - val_accuracy: 0.6706\n",
      "Epoch 38/100\n",
      "31/31 [==============================] - 1s 40ms/step - loss: 0.7143 - accuracy: 0.7591 - val_loss: 1.8504 - val_accuracy: 0.5706\n",
      "Epoch 39/100\n",
      "31/31 [==============================] - 1s 40ms/step - loss: 0.6081 - accuracy: 0.8087 - val_loss: 1.3683 - val_accuracy: 0.6206\n",
      "Epoch 40/100\n",
      "31/31 [==============================] - 1s 39ms/step - loss: 0.6301 - accuracy: 0.7652 - val_loss: 1.2110 - val_accuracy: 0.6676\n",
      "Epoch 41/100\n",
      "31/31 [==============================] - 1s 40ms/step - loss: 0.6448 - accuracy: 0.7915 - val_loss: 1.1148 - val_accuracy: 0.6794\n",
      "Epoch 42/100\n",
      "31/31 [==============================] - 1s 40ms/step - loss: 0.6513 - accuracy: 0.7814 - val_loss: 1.2314 - val_accuracy: 0.6588\n",
      "Epoch 43/100\n",
      "31/31 [==============================] - 1s 40ms/step - loss: 0.5995 - accuracy: 0.8067 - val_loss: 1.2671 - val_accuracy: 0.6471\n",
      "Epoch 44/100\n",
      "31/31 [==============================] - 1s 40ms/step - loss: 0.5908 - accuracy: 0.8006 - val_loss: 1.1137 - val_accuracy: 0.6765\n",
      "Epoch 45/100\n",
      "31/31 [==============================] - 1s 40ms/step - loss: 0.5776 - accuracy: 0.8016 - val_loss: 1.2197 - val_accuracy: 0.6882\n",
      "Epoch 46/100\n",
      "31/31 [==============================] - 1s 39ms/step - loss: 0.5557 - accuracy: 0.8057 - val_loss: 1.2137 - val_accuracy: 0.6559\n",
      "Epoch 47/100\n",
      "31/31 [==============================] - 1s 40ms/step - loss: 0.5902 - accuracy: 0.8087 - val_loss: 1.2405 - val_accuracy: 0.6971\n",
      "Epoch 48/100\n",
      "31/31 [==============================] - 1s 40ms/step - loss: 0.5834 - accuracy: 0.8077 - val_loss: 1.1917 - val_accuracy: 0.6676\n",
      "Epoch 49/100\n",
      "31/31 [==============================] - 1s 40ms/step - loss: 0.5140 - accuracy: 0.8188 - val_loss: 1.1660 - val_accuracy: 0.6941\n",
      "Epoch 50/100\n",
      "31/31 [==============================] - 1s 39ms/step - loss: 0.4914 - accuracy: 0.8330 - val_loss: 1.2651 - val_accuracy: 0.6794\n",
      "Epoch 51/100\n",
      "31/31 [==============================] - 1s 39ms/step - loss: 0.5039 - accuracy: 0.8158 - val_loss: 1.1660 - val_accuracy: 0.7059\n",
      "Epoch 52/100\n",
      "31/31 [==============================] - 1s 40ms/step - loss: 0.5194 - accuracy: 0.8107 - val_loss: 1.1654 - val_accuracy: 0.7000\n",
      "Epoch 53/100\n",
      "31/31 [==============================] - 1s 39ms/step - loss: 0.5115 - accuracy: 0.8188 - val_loss: 1.3927 - val_accuracy: 0.6412\n",
      "Epoch 54/100\n",
      "31/31 [==============================] - 1s 40ms/step - loss: 0.4576 - accuracy: 0.8300 - val_loss: 1.2601 - val_accuracy: 0.6618\n",
      "Epoch 55/100\n",
      "31/31 [==============================] - 1s 39ms/step - loss: 0.5433 - accuracy: 0.8067 - val_loss: 1.3970 - val_accuracy: 0.6471\n",
      "Epoch 56/100\n",
      "31/31 [==============================] - 1s 39ms/step - loss: 0.4789 - accuracy: 0.8300 - val_loss: 1.2280 - val_accuracy: 0.6853\n",
      "Epoch 57/100\n",
      "31/31 [==============================] - 1s 40ms/step - loss: 0.4687 - accuracy: 0.8421 - val_loss: 1.3798 - val_accuracy: 0.6735\n",
      "Epoch 58/100\n",
      "31/31 [==============================] - 1s 39ms/step - loss: 0.4640 - accuracy: 0.8411 - val_loss: 1.3960 - val_accuracy: 0.6706\n",
      "Epoch 59/100\n",
      "31/31 [==============================] - 1s 39ms/step - loss: 0.4560 - accuracy: 0.8391 - val_loss: 1.4007 - val_accuracy: 0.6676\n",
      "Epoch 60/100\n",
      "31/31 [==============================] - 1s 40ms/step - loss: 0.4834 - accuracy: 0.8441 - val_loss: 1.3869 - val_accuracy: 0.6706\n",
      "Epoch 61/100\n",
      "31/31 [==============================] - 1s 39ms/step - loss: 0.4155 - accuracy: 0.8522 - val_loss: 1.2064 - val_accuracy: 0.7118\n",
      "Epoch 62/100\n",
      "31/31 [==============================] - 1s 40ms/step - loss: 0.4237 - accuracy: 0.8563 - val_loss: 1.1347 - val_accuracy: 0.7176\n",
      "Epoch 63/100\n",
      "31/31 [==============================] - 1s 40ms/step - loss: 0.4144 - accuracy: 0.8512 - val_loss: 1.3711 - val_accuracy: 0.6735\n",
      "Epoch 64/100\n",
      "31/31 [==============================] - 1s 40ms/step - loss: 0.4105 - accuracy: 0.8573 - val_loss: 1.2759 - val_accuracy: 0.6912\n",
      "Epoch 65/100\n",
      "31/31 [==============================] - 1s 40ms/step - loss: 0.4158 - accuracy: 0.8553 - val_loss: 1.1174 - val_accuracy: 0.7176\n",
      "Epoch 66/100\n",
      "31/31 [==============================] - 1s 40ms/step - loss: 0.4397 - accuracy: 0.8462 - val_loss: 1.2504 - val_accuracy: 0.6853\n",
      "Epoch 67/100\n",
      "31/31 [==============================] - 1s 39ms/step - loss: 0.4396 - accuracy: 0.8543 - val_loss: 1.2357 - val_accuracy: 0.6971\n",
      "Epoch 68/100\n",
      "31/31 [==============================] - 1s 40ms/step - loss: 0.4958 - accuracy: 0.8340 - val_loss: 1.5760 - val_accuracy: 0.6382\n",
      "Epoch 69/100\n",
      "31/31 [==============================] - 1s 39ms/step - loss: 0.4279 - accuracy: 0.8451 - val_loss: 1.2606 - val_accuracy: 0.6735\n",
      "Epoch 70/100\n",
      "31/31 [==============================] - 1s 40ms/step - loss: 0.3596 - accuracy: 0.8806 - val_loss: 1.2013 - val_accuracy: 0.6912\n",
      "Epoch 71/100\n",
      "31/31 [==============================] - 1s 40ms/step - loss: 0.3710 - accuracy: 0.8887 - val_loss: 1.1187 - val_accuracy: 0.7235\n",
      "Epoch 72/100\n",
      "31/31 [==============================] - 1s 40ms/step - loss: 0.3282 - accuracy: 0.8866 - val_loss: 1.3001 - val_accuracy: 0.6794\n",
      "Epoch 73/100\n",
      "31/31 [==============================] - 1s 40ms/step - loss: 0.3189 - accuracy: 0.8846 - val_loss: 1.1884 - val_accuracy: 0.6971\n",
      "Epoch 74/100\n",
      "31/31 [==============================] - 1s 40ms/step - loss: 0.3839 - accuracy: 0.8613 - val_loss: 1.2705 - val_accuracy: 0.7059\n",
      "Epoch 75/100\n",
      "31/31 [==============================] - 1s 39ms/step - loss: 0.3504 - accuracy: 0.8866 - val_loss: 1.5272 - val_accuracy: 0.6441\n",
      "Epoch 76/100\n",
      "31/31 [==============================] - 1s 39ms/step - loss: 0.4005 - accuracy: 0.8654 - val_loss: 1.2234 - val_accuracy: 0.7235\n",
      "Epoch 77/100\n",
      "31/31 [==============================] - 1s 40ms/step - loss: 0.3440 - accuracy: 0.8796 - val_loss: 1.1590 - val_accuracy: 0.7294\n",
      "Epoch 78/100\n",
      "31/31 [==============================] - 1s 40ms/step - loss: 0.3602 - accuracy: 0.8796 - val_loss: 1.2696 - val_accuracy: 0.6735\n",
      "Epoch 79/100\n",
      "31/31 [==============================] - 1s 41ms/step - loss: 0.2749 - accuracy: 0.9008 - val_loss: 1.3198 - val_accuracy: 0.7118\n",
      "Epoch 80/100\n",
      "31/31 [==============================] - 1s 40ms/step - loss: 0.3693 - accuracy: 0.8745 - val_loss: 1.5096 - val_accuracy: 0.6676\n",
      "Epoch 81/100\n",
      "31/31 [==============================] - 1s 40ms/step - loss: 0.3815 - accuracy: 0.8644 - val_loss: 1.1563 - val_accuracy: 0.7265\n",
      "Epoch 82/100\n",
      "31/31 [==============================] - 1s 40ms/step - loss: 0.3712 - accuracy: 0.8780 - val_loss: 1.1999 - val_accuracy: 0.6941\n",
      "Epoch 83/100\n",
      "31/31 [==============================] - 1s 39ms/step - loss: 0.3366 - accuracy: 0.8846 - val_loss: 1.7644 - val_accuracy: 0.6088\n",
      "Epoch 84/100\n",
      "31/31 [==============================] - 1s 40ms/step - loss: 0.3335 - accuracy: 0.8866 - val_loss: 1.3233 - val_accuracy: 0.6824\n",
      "Epoch 85/100\n",
      "31/31 [==============================] - 1s 39ms/step - loss: 0.3778 - accuracy: 0.8684 - val_loss: 1.2049 - val_accuracy: 0.6941\n",
      "Epoch 86/100\n",
      "31/31 [==============================] - 1s 39ms/step - loss: 0.2894 - accuracy: 0.8927 - val_loss: 1.2323 - val_accuracy: 0.7176\n",
      "Epoch 87/100\n",
      "31/31 [==============================] - 1s 39ms/step - loss: 0.3131 - accuracy: 0.8937 - val_loss: 1.3719 - val_accuracy: 0.6676\n",
      "Epoch 88/100\n",
      "31/31 [==============================] - 1s 40ms/step - loss: 0.2927 - accuracy: 0.8947 - val_loss: 1.2522 - val_accuracy: 0.7029\n",
      "Epoch 89/100\n",
      "31/31 [==============================] - 1s 40ms/step - loss: 0.3184 - accuracy: 0.8877 - val_loss: 1.1641 - val_accuracy: 0.7265\n",
      "Epoch 90/100\n",
      "31/31 [==============================] - 1s 39ms/step - loss: 0.2535 - accuracy: 0.9150 - val_loss: 1.1351 - val_accuracy: 0.7471\n",
      "Epoch 91/100\n",
      "31/31 [==============================] - 1s 39ms/step - loss: 0.3139 - accuracy: 0.8856 - val_loss: 1.3474 - val_accuracy: 0.7176\n",
      "Epoch 92/100\n",
      "31/31 [==============================] - 1s 39ms/step - loss: 0.2780 - accuracy: 0.9059 - val_loss: 1.3565 - val_accuracy: 0.6912\n",
      "Epoch 93/100\n",
      "31/31 [==============================] - 1s 39ms/step - loss: 0.2832 - accuracy: 0.8947 - val_loss: 1.2671 - val_accuracy: 0.7324\n",
      "Epoch 94/100\n",
      "31/31 [==============================] - 1s 39ms/step - loss: 0.2922 - accuracy: 0.9049 - val_loss: 1.2529 - val_accuracy: 0.7294\n",
      "Epoch 95/100\n",
      "31/31 [==============================] - 1s 40ms/step - loss: 0.2700 - accuracy: 0.9089 - val_loss: 1.3206 - val_accuracy: 0.7029\n",
      "Epoch 96/100\n",
      "31/31 [==============================] - 1s 40ms/step - loss: 0.3387 - accuracy: 0.8785 - val_loss: 1.4581 - val_accuracy: 0.6588\n",
      "Epoch 97/100\n",
      "31/31 [==============================] - 1s 40ms/step - loss: 0.3390 - accuracy: 0.8856 - val_loss: 1.2807 - val_accuracy: 0.7147\n",
      "Epoch 98/100\n",
      "31/31 [==============================] - 1s 40ms/step - loss: 0.2423 - accuracy: 0.9221 - val_loss: 1.2592 - val_accuracy: 0.7265\n",
      "Epoch 99/100\n",
      "31/31 [==============================] - 1s 39ms/step - loss: 0.2849 - accuracy: 0.9018 - val_loss: 1.2779 - val_accuracy: 0.7000\n",
      "Epoch 100/100\n",
      "31/31 [==============================] - 1s 40ms/step - loss: 0.2804 - accuracy: 0.8988 - val_loss: 1.1914 - val_accuracy: 0.7235\n"
     ]
    }
   ],
   "source": [
    "# train the network\n",
    "print(f\"[INFO] training network......\")\n",
    "if not aug:\n",
    "    H = model.fit(trainx, trainy, validation_data=(testx, testy),\n",
    "                  batch_size=32, epochs=100, verbose=1)\n",
    "else:\n",
    "    print(\"using generator\")\n",
    "    H = model.fit_generator(aug.flow(trainx, trainy, batch_size=32),\n",
    "                            validation_data=(testx, testy),\n",
    "                            steps_per_epoch=len(trainx)//32,\n",
    "                            epochs=100,\n",
    "                            verbose=1)"
   ],
   "metadata": {
    "pycharm": {
     "is_executing": true
    },
    "colab": {
     "base_uri": "https://localhost:8080/"
    },
    "id": "yRz-PsBRcwnf",
    "executionInfo": {
     "status": "ok",
     "timestamp": 1668974818255,
     "user_tz": 420,
     "elapsed": 127239,
     "user": {
      "displayName": "Mahmud Hasan",
      "userId": "12038503323124398731"
     }
    },
    "outputId": "fa6e59f5-a6cf-4327-eae3-ce4ffcbf83bc"
   }
  },
  {
   "cell_type": "code",
   "execution_count": 23,
   "outputs": [
    {
     "output_type": "stream",
     "name": "stdout",
     "text": [
      "[INFO] evaluating network...\n",
      "11/11 [==============================] - 0s 3ms/step\n",
      "              precision    recall  f1-score   support\n",
      "\n",
      "    bluebell       0.74      0.74      0.74        23\n",
      "   buttercup       0.75      0.65      0.70        23\n",
      "   coltsfoot       0.68      0.72      0.70        18\n",
      "     cowslip       0.53      0.56      0.54        18\n",
      "      crocus       0.40      0.75      0.52        16\n",
      "    daffodil       0.89      0.36      0.52        22\n",
      "       daisy       0.90      0.95      0.93        20\n",
      "   dandelion       0.78      0.90      0.84        20\n",
      "  fritillary       0.93      0.81      0.87        16\n",
      "        iris       0.76      0.70      0.73        27\n",
      "  lilyvalley       0.65      0.75      0.70        20\n",
      "       pansy       0.82      0.86      0.84        21\n",
      "    snowdrop       0.64      0.37      0.47        19\n",
      "   sunflower       0.95      0.87      0.91        23\n",
      "   tigerlily       0.90      0.95      0.93        20\n",
      "       tulip       0.35      0.53      0.42        15\n",
      "  windflower       0.94      0.79      0.86        19\n",
      "\n",
      "    accuracy                           0.72       340\n",
      "   macro avg       0.74      0.72      0.72       340\n",
      "weighted avg       0.75      0.72      0.72       340\n",
      "\n"
     ]
    }
   ],
   "source": [
    "print ( \"[INFO] evaluating network...\" )\n",
    "predictions = model.predict(testx, batch_size=32 )\n",
    "print (classification_report(testy.argmax(axis=1 ),\n",
    "predictions.argmax(axis=1 ), target_names=class_names))"
   ],
   "metadata": {
    "colab": {
     "base_uri": "https://localhost:8080/"
    },
    "id": "v23p5F_4cwnj",
    "executionInfo": {
     "status": "ok",
     "timestamp": 1668974822821,
     "user_tz": 420,
     "elapsed": 652,
     "user": {
      "displayName": "Mahmud Hasan",
      "userId": "12038503323124398731"
     }
    },
    "outputId": "2f3200a1-b800-4455-f6aa-46fb1c97e7ab"
   }
  },
  {
   "cell_type": "code",
   "execution_count": 24,
   "outputs": [
    {
     "output_type": "display_data",
     "data": {
      "text/plain": [
       "<Figure size 1080x576 with 1 Axes>"
      ],
      "image/png": "[encoded data removed]"
     },
     "metadata": {}
    }
   ],
   "source": [
    "# plot the performance\n",
    "epochs = range(1,101)\n",
    "loss = H.history['loss']\n",
    "accuracy = H.history['accuracy']\n",
    "val_loss = H.history['val_loss']\n",
    "val_accuracy = H.history['val_accuracy']\n",
    "plot_df = pd.DataFrame(data=np.c_[epochs,loss,accuracy,val_loss,val_accuracy],\n",
    "                       columns=['epochs','loss', 'accuracy', 'val_loss', 'val_accuracy'])\n",
    "\n",
    "# do the actual plots\n",
    "sns.set(font_scale=1)\n",
    "f, ax = plt.subplots(1, 1, figsize=(15,8))\n",
    "sns.lineplot(data=plot_df, x='epochs', y='loss', ax=ax, label='train loss', linewidth=3)\n",
    "sns.lineplot(data=plot_df, x='epochs', y='accuracy', ax=ax, label='train accuracy', linewidth=3)\n",
    "sns.lineplot(data=plot_df, x='epochs', y='val_loss', ax=ax, label='val loss', linewidth=3)\n",
    "sns.lineplot(data=plot_df, x='epochs', y='val_accuracy', ax=ax, label='val_accuracy', linewidth=3)\n",
    "ax.set_ylabel('Loss or Accuracy')\n",
    "ax.set_xlabel('Epochs')\n",
    "plt.setp(ax.get_legend().get_texts(), fontsize='18'); # for legend text"
   ],
   "metadata": {
    "colab": {
     "base_uri": "https://localhost:8080/",
     "height": 502
    },
    "id": "kJFvcOhzcwnl",
    "executionInfo": {
     "status": "ok",
     "timestamp": 1668974827829,
     "user_tz": 420,
     "elapsed": 966,
     "user": {
      "displayName": "Mahmud Hasan",
      "userId": "12038503323124398731"
     }
    },
    "outputId": "d45487ae-290e-4f22-8ce8-21846692f444"
   }
  },
  {
   "cell_type": "code",
   "execution_count": null,
   "outputs": [],
   "source": [],
   "metadata": {
    "id": "wbLCe9hLcwnm"
   }
  }
 ],
 "metadata": {
  "kernelspec": {
   "display_name": "Python 3",
   "language": "python",
   "name": "python3"
  },
  "language_info": {
   "codemirror_mode": {
    "name": "ipython",
    "version": 2
   },
   "file_extension": ".py",
   "mimetype": "text/x-python",
   "name": "python",
   "nbconvert_exporter": "python",
   "pygments_lexer": "ipython2",
   "version": "2.7.6"
  },
  "colab": {
   "provenance": [],
   "machine_shape": "hm"
  },
  "accelerator": "GPU",
  "gpuClass": "premium"
 },
 "nbformat": 4,
 "nbformat_minor": 0
}
