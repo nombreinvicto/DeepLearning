{
 "cells": [
  {
   "cell_type": "code",
   "execution_count": 1,
   "outputs": [],
   "source": [
    "import sys, os, json\n",
    "import numpy as np\n",
    "import pandas as pd\n",
    "import seaborn as sns\n",
    "import argparse, progressbar\n",
    "import matplotlib.pyplot as plt\n",
    "from matplotlib.figure import Figure\n",
    "from matplotlib.axes import Axes\n",
    "\n",
    "sns.set()"
   ],
   "metadata": {
    "collapsed": false,
    "pycharm": {
     "name": "#%%\n"
    }
   }
  },
  {
   "cell_type": "code",
   "execution_count": 2,
   "outputs": [],
   "source": [
    "from tensorflow.keras.datasets import mnist"
   ],
   "metadata": {
    "collapsed": false,
    "pycharm": {
     "name": "#%%\n"
    }
   }
  },
  {
   "cell_type": "code",
   "execution_count": 3,
   "outputs": [],
   "source": [
    "(train_images, train_labels), _ = mnist.load_data()\n",
    "train_images = train_images.reshape((60_000, 28 * 28))\n",
    "train_images = train_images.astype(\"float32\") / 255"
   ],
   "metadata": {
    "collapsed": false,
    "pycharm": {
     "name": "#%%\n"
    }
   }
  },
  {
   "cell_type": "code",
   "execution_count": 4,
   "outputs": [
    {
     "data": {
      "text/plain": "60000"
     },
     "execution_count": 4,
     "metadata": {},
     "output_type": "execute_result"
    }
   ],
   "source": [
    "len(train_images)"
   ],
   "metadata": {
    "collapsed": false,
    "pycharm": {
     "name": "#%%\n"
    }
   }
  },
  {
   "cell_type": "code",
   "execution_count": 5,
   "outputs": [],
   "source": [
    "train_images_with_noise_channels = np.concatenate(\n",
    "    [train_images, np.random.random((len(train_images), 784))], axis=1)"
   ],
   "metadata": {
    "collapsed": false,
    "pycharm": {
     "name": "#%%\n"
    }
   }
  },
  {
   "cell_type": "code",
   "execution_count": 6,
   "outputs": [],
   "source": [
    "train_images_with_zeros_channels = np.concatenate(\n",
    "    [train_images, np.zeros((len(train_images), 784))], axis=1)"
   ],
   "metadata": {
    "collapsed": false,
    "pycharm": {
     "name": "#%%\n"
    }
   }
  },
  {
   "cell_type": "code",
   "execution_count": 7,
   "outputs": [],
   "source": [
    "from tensorflow import keras\n",
    "from tensorflow.keras import layers"
   ],
   "metadata": {
    "collapsed": false,
    "pycharm": {
     "name": "#%%\n"
    }
   }
  },
  {
   "cell_type": "code",
   "execution_count": 8,
   "outputs": [],
   "source": [
    "# import the necessary packages\n",
    "import tensorflow as tf\n",
    "from tensorflow.keras import backend as K\n",
    "from tensorflow.keras import layers\n",
    "from tensorflow.keras.preprocessing.image import ImageDataGenerator\n",
    "from tensorflow.keras.optimizers import RMSprop, SGD\n",
    "from tensorflow.keras.regularizers import l2\n",
    "from tensorflow.keras.applications import VGG16\n",
    "from tensorflow.keras.models import Model, load_model, Sequential"
   ],
   "metadata": {
    "collapsed": false,
    "pycharm": {
     "name": "#%%\n"
    }
   }
  },
  {
   "cell_type": "code",
   "execution_count": 9,
   "outputs": [],
   "source": [
    "def get_model():\n",
    "    model = Sequential([\n",
    "        layers.Dense(512, activation=\"relu\"),\n",
    "        layers.Dense(10, activation=\"softmax\")\n",
    "    ])\n",
    "\n",
    "    model.compile(optimizer=\"rmsprop\",\n",
    "                  loss=\"sparse_categorical_crossentropy\")\n",
    "    return model"
   ],
   "metadata": {
    "collapsed": false,
    "pycharm": {
     "name": "#%%\n"
    }
   }
  },
  {
   "cell_type": "code",
   "execution_count": 10,
   "outputs": [
    {
     "name": "stdout",
     "output_type": "stream",
     "text": [
      "Train on 48000 samples, validate on 12000 samples\n",
      "Epoch 1/10\n",
      "48000/48000 [==============================] - 46s 949us/sample - loss: 0.6193 - val_loss: 0.3305\n",
      "Epoch 2/10\n",
      "48000/48000 [==============================] - 13s 262us/sample - loss: 0.2506 - val_loss: 0.2142\n",
      "Epoch 3/10\n",
      "48000/48000 [==============================] - 13s 268us/sample - loss: 0.1613 - val_loss: 0.1472\n",
      "Epoch 4/10\n",
      "48000/48000 [==============================] - 13s 263us/sample - loss: 0.1135 - val_loss: 0.1301\n",
      "Epoch 5/10\n",
      "48000/48000 [==============================] - 14s 285us/sample - loss: 0.0815 - val_loss: 0.1625\n",
      "Epoch 6/10\n",
      "48000/48000 [==============================] - 13s 270us/sample - loss: 0.0595 - val_loss: 0.1711\n",
      "Epoch 7/10\n",
      "48000/48000 [==============================] - 13s 276us/sample - loss: 0.0454 - val_loss: 0.2004\n",
      "Epoch 8/10\n",
      "48000/48000 [==============================] - 15s 316us/sample - loss: 0.0325 - val_loss: 0.1523\n",
      "Epoch 9/10\n",
      "48000/48000 [==============================] - 15s 314us/sample - loss: 0.0255 - val_loss: 0.1370\n",
      "Epoch 10/10\n",
      "48000/48000 [==============================] - 16s 340us/sample - loss: 0.0211 - val_loss: 0.1320\n"
     ]
    }
   ],
   "source": [
    "model = get_model()\n",
    "H_noise = model.fit(\n",
    "    train_images_with_noise_channels,\n",
    "    train_labels,\n",
    "    epochs=10,\n",
    "    batch_size=128,\n",
    "    validation_split=0.2\n",
    ")"
   ],
   "metadata": {
    "collapsed": false,
    "pycharm": {
     "name": "#%%\n"
    }
   }
  },
  {
   "cell_type": "code",
   "execution_count": 11,
   "outputs": [
    {
     "name": "stdout",
     "output_type": "stream",
     "text": [
      "Train on 48000 samples, validate on 12000 samples\n",
      "Epoch 1/10\n",
      "48000/48000 [==============================] - 18s 377us/sample - loss: 0.2869 - val_loss: 0.1481\n",
      "Epoch 2/10\n",
      "48000/48000 [==============================] - 16s 328us/sample - loss: 0.1191 - val_loss: 0.1035\n",
      "Epoch 3/10\n",
      "48000/48000 [==============================] - 16s 336us/sample - loss: 0.0785 - val_loss: 0.1072\n",
      "Epoch 4/10\n",
      "48000/48000 [==============================] - 18s 366us/sample - loss: 0.0575 - val_loss: 0.0808\n",
      "Epoch 5/10\n",
      "48000/48000 [==============================] - 15s 320us/sample - loss: 0.0427 - val_loss: 0.0740\n",
      "Epoch 6/10\n",
      "48000/48000 [==============================] - 15s 308us/sample - loss: 0.0315 - val_loss: 0.0804\n",
      "Epoch 7/10\n",
      "48000/48000 [==============================] - 15s 308us/sample - loss: 0.0243 - val_loss: 0.0848\n",
      "Epoch 8/10\n",
      "48000/48000 [==============================] - 15s 317us/sample - loss: 0.0191 - val_loss: 0.0817\n",
      "Epoch 9/10\n",
      "48000/48000 [==============================] - 15s 317us/sample - loss: 0.0141 - val_loss: 0.0893\n",
      "Epoch 10/10\n",
      "48000/48000 [==============================] - 16s 323us/sample - loss: 0.0110 - val_loss: 0.0951\n"
     ]
    }
   ],
   "source": [
    "model = get_model()\n",
    "H_zeroes = model.fit(\n",
    "    train_images_with_zeros_channels, train_labels,\n",
    "    epochs=10,\n",
    "    batch_size=128,\n",
    "    validation_split=0.2\n",
    ")"
   ],
   "metadata": {
    "collapsed": false,
    "pycharm": {
     "name": "#%%\n"
    }
   }
  },
  {
   "cell_type": "code",
   "execution_count": 17,
   "outputs": [
    {
     "data": {
      "text/plain": "<Figure size 1080x576 with 1 Axes>",
      "image/png": "[encoded data removed]"
     },
     "metadata": {},
     "output_type": "display_data"
    }
   ],
   "source": [
    "# plot the performance\n",
    "epochs = range(1, 11)\n",
    "noise_accuracy = H_noise.history['val_loss']\n",
    "zero_accuracy = H_zeroes.history['val_loss']\n",
    "plot_df = pd.DataFrame(data=np.c_[epochs, noise_accuracy, zero_accuracy],\n",
    "                       columns=['epochs', 'noise_accuracy', 'zero_accuracy'])\n",
    "\n",
    "# do the actual plots\n",
    "sns.set(font_scale=1)\n",
    "f, ax = plt.subplots(1, 1, figsize=(15, 8))\n",
    "sns.lineplot(data=plot_df, x='epochs', y='noise_accuracy', ax=ax, label='noise_accuracy', linewidth=3)\n",
    "sns.lineplot(data=plot_df, x='epochs', y='zero_accuracy', ax=ax, label='zero_accuracy', linewidth=3)\n",
    "ax.set_ylabel('Loss')\n",
    "ax.set_xlabel('Epochs')\n",
    "plt.setp(ax.get_legend().get_texts(), fontsize='18');  # for legend textCNN"
   ],
   "metadata": {
    "collapsed": false,
    "pycharm": {
     "name": "#%%\n"
    }
   }
  },
  {
   "cell_type": "code",
   "execution_count": 16,
   "outputs": [
    {
     "data": {
      "text/plain": "dict_keys(['loss', 'val_loss'])"
     },
     "execution_count": 16,
     "metadata": {},
     "output_type": "execute_result"
    }
   ],
   "source": [
    "H_noise.history.keys()"
   ],
   "metadata": {
    "collapsed": false,
    "pycharm": {
     "name": "#%%\n"
    }
   }
  },
  {
   "cell_type": "code",
   "execution_count": null,
   "outputs": [],
   "source": [],
   "metadata": {
    "collapsed": false,
    "pycharm": {
     "name": "#%%\n"
    }
   }
  }
 ],
 "metadata": {
  "kernelspec": {
   "display_name": "Python 3",
   "language": "python",
   "name": "python3"
  },
  "language_info": {
   "codemirror_mode": {
    "name": "ipython",
    "version": 2
   },
   "file_extension": ".py",
   "mimetype": "text/x-python",
   "name": "python",
   "nbconvert_exporter": "python",
   "pygments_lexer": "ipython2",
   "version": "2.7.6"
  }
 },
 "nbformat": 4,
 "nbformat_minor": 0
}