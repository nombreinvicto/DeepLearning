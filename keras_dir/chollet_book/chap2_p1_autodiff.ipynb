{
 "cells": [
  {
   "cell_type": "code",
   "execution_count": 37,
   "outputs": [],
   "source": [
    "# import the necessary packages\n",
    "import numpy as np\n",
    "import tensorflow as tf"
   ],
   "metadata": {
    "collapsed": false,
    "pycharm": {
     "name": "#%%\n"
    }
   }
  },
  {
   "cell_type": "code",
   "execution_count": 26,
   "outputs": [],
   "source": [
    "# Dense class\n",
    "class NaiveDense:\n",
    "    def __init__(self, input_size, output_size, activation):\n",
    "        self.activation = activation\n",
    "\n",
    "        # set the weight\n",
    "        w_shape = (input_size, output_size)\n",
    "        w_initial_value = tf.random.uniform(w_shape, minval=0, maxval=1e-1)\n",
    "        self.W = tf.Variable(w_initial_value)\n",
    "\n",
    "        # set the bias\n",
    "        b_shape = (output_size,)\n",
    "        b_initial_value = tf.zeros(b_shape)\n",
    "        self.b = tf.Variable(b_initial_value)\n",
    "\n",
    "    def __call__(self, inputs):\n",
    "        return self.activation(tf.matmul(inputs, self.W) + self.b)\n",
    "\n",
    "    @property\n",
    "    def weights(self):\n",
    "        return [self.W, self.b]\n"
   ],
   "metadata": {
    "collapsed": false,
    "pycharm": {
     "name": "#%%\n"
    }
   }
  },
  {
   "cell_type": "code",
   "execution_count": 27,
   "outputs": [],
   "source": [
    "# sequential class\n",
    "\n",
    "class NaiveSequential:\n",
    "    def __init__(self, layers):\n",
    "        self.layers = layers\n",
    "\n",
    "    def __call__(self, inputs):\n",
    "        x = inputs\n",
    "        for layer in self.layers:\n",
    "            x = layer(x)\n",
    "        return x\n",
    "\n",
    "    @property\n",
    "    def weights(self):\n",
    "        weights = []\n",
    "        for layer in self.layers:\n",
    "            weights += layer.weights\n",
    "        return weights"
   ],
   "metadata": {
    "collapsed": false,
    "pycharm": {
     "name": "#%%\n"
    }
   }
  },
  {
   "cell_type": "code",
   "execution_count": 28,
   "outputs": [],
   "source": [
    "# batch generator class\n",
    "import math\n",
    "\n",
    "\n",
    "class BatchGenerator:\n",
    "    def __init__(self, images, labels, batch_size=128):\n",
    "        assert len(images) == len(labels)\n",
    "        self.index = 0\n",
    "        self.images = images\n",
    "        self.labels = labels\n",
    "        self.batch_size = batch_size\n",
    "        self.num_batches = math.ceil(len(images) / batch_size)\n",
    "\n",
    "    def next(self):\n",
    "        images = self.images[self.index: self.index + self.batch_size]\n",
    "        labels = self.labels[self.index: self.index + self.batch_size]\n",
    "        self.index += self.batch_size\n",
    "        return images, labels"
   ],
   "metadata": {
    "collapsed": false,
    "pycharm": {
     "name": "#%%\n"
    }
   }
  },
  {
   "cell_type": "code",
   "execution_count": 29,
   "outputs": [],
   "source": [
    "# instantiate the model\n",
    "model = NaiveSequential([\n",
    "    NaiveDense(input_size=28 * 28,\n",
    "               output_size=512,\n",
    "               activation=tf.nn.relu),\n",
    "    NaiveDense(input_size=512,\n",
    "               output_size=10,\n",
    "               activation=tf.nn.softmax)\n",
    "])\n",
    "\n",
    "assert len(model.weights) == 4"
   ],
   "metadata": {
    "collapsed": false,
    "pycharm": {
     "name": "#%%\n"
    }
   }
  },
  {
   "cell_type": "code",
   "execution_count": 30,
   "outputs": [],
   "source": [
    "# update weights\n",
    "lr = 1e-3\n",
    "\n",
    "\n",
    "def update_weights(gradients: tf.Variable, weights: tf.Variable):\n",
    "    for g, w in zip(gradients, weights):\n",
    "        g: tf.Variable\n",
    "        w: tf.Variable\n",
    "\n",
    "        w.assign_sub(lr * g)\n"
   ],
   "metadata": {
    "collapsed": false,
    "pycharm": {
     "name": "#%%\n"
    }
   }
  },
  {
   "cell_type": "code",
   "execution_count": 31,
   "outputs": [],
   "source": [
    "# one training step\n",
    "def one_training_step(model, images_batch, labels_batch):\n",
    "    with tf.GradientTape() as tape:\n",
    "        preds = model(images_batch)\n",
    "        per_sample_losses = tf.keras.losses.sparse_categorical_crossentropy(labels_batch, preds)\n",
    "        avg_loss = tf.reduce_mean(per_sample_losses)\n",
    "        gradients = tape.gradient(avg_loss, model.weights)\n",
    "        update_weights(gradients, model.weights)\n",
    "        return avg_loss\n"
   ],
   "metadata": {
    "collapsed": false,
    "pycharm": {
     "name": "#%%\n"
    }
   }
  },
  {
   "cell_type": "code",
   "execution_count": 32,
   "outputs": [],
   "source": [
    "# fit function\n",
    "def fit (model,images, labels, epochs, batch_size=128):\n",
    "    for epoch_counter in range(epochs):\n",
    "        print(f\"[INFO] epoch {epoch_counter + 1}......\")\n",
    "\n",
    "        batch_gen = BatchGenerator(images, labels)\n",
    "        for batch_counter in range(batch_gen.num_batches):\n",
    "            images_batch, labels_batch = batch_gen.next()\n",
    "            loss = one_training_step(model, images_batch, labels_batch)\n",
    "            if batch_counter % 100 == 0:\n",
    "                print(f\"[INFO] loss at batch: {batch_counter + 1} : {loss: .2f}......\")"
   ],
   "metadata": {
    "collapsed": false,
    "pycharm": {
     "name": "#%%\n"
    }
   }
  },
  {
   "cell_type": "code",
   "execution_count": 34,
   "outputs": [],
   "source": [
    "# load the data\n",
    "from tensorflow.keras.datasets import mnist\n",
    "\n",
    "(train_images, train_labels), (test_images, test_labels) = mnist.load_data()\n",
    "\n",
    "train_images = train_images.reshape((60000, 28 * 28))\n",
    "train_images = train_images.astype(\"float32\") / 255\n",
    "test_images = test_images.reshape((10000, 28 * 28))\n",
    "test_images = test_images.astype(\"float32\") / 255"
   ],
   "metadata": {
    "collapsed": false,
    "pycharm": {
     "name": "#%%\n"
    }
   }
  },
  {
   "cell_type": "code",
   "execution_count": 35,
   "outputs": [
    {
     "name": "stdout",
     "output_type": "stream",
     "text": [
      "[INFO] epoch 1......\n",
      "[INFO] loss at batch: 1 :  6.34......\n",
      "[INFO] loss at batch: 101 :  2.25......\n",
      "[INFO] loss at batch: 201 :  2.21......\n",
      "[INFO] loss at batch: 301 :  2.09......\n",
      "[INFO] loss at batch: 401 :  2.16......\n",
      "[INFO] epoch 2......\n",
      "[INFO] loss at batch: 1 :  1.91......\n",
      "[INFO] loss at batch: 101 :  1.88......\n",
      "[INFO] loss at batch: 201 :  1.82......\n",
      "[INFO] loss at batch: 301 :  1.70......\n",
      "[INFO] loss at batch: 401 :  1.77......\n",
      "[INFO] epoch 3......\n",
      "[INFO] loss at batch: 1 :  1.59......\n",
      "[INFO] loss at batch: 101 :  1.58......\n",
      "[INFO] loss at batch: 201 :  1.49......\n",
      "[INFO] loss at batch: 301 :  1.41......\n",
      "[INFO] loss at batch: 401 :  1.47......\n",
      "[INFO] epoch 4......\n",
      "[INFO] loss at batch: 1 :  1.33......\n",
      "[INFO] loss at batch: 101 :  1.34......\n",
      "[INFO] loss at batch: 201 :  1.22......\n",
      "[INFO] loss at batch: 301 :  1.20......\n",
      "[INFO] loss at batch: 401 :  1.25......\n",
      "[INFO] epoch 5......\n",
      "[INFO] loss at batch: 1 :  1.13......\n",
      "[INFO] loss at batch: 101 :  1.16......\n",
      "[INFO] loss at batch: 201 :  1.02......\n",
      "[INFO] loss at batch: 301 :  1.03......\n",
      "[INFO] loss at batch: 401 :  1.09......\n",
      "[INFO] epoch 6......\n",
      "[INFO] loss at batch: 1 :  0.98......\n",
      "[INFO] loss at batch: 101 :  1.02......\n",
      "[INFO] loss at batch: 201 :  0.88......\n",
      "[INFO] loss at batch: 301 :  0.92......\n",
      "[INFO] loss at batch: 401 :  0.98......\n",
      "[INFO] epoch 7......\n",
      "[INFO] loss at batch: 1 :  0.88......\n",
      "[INFO] loss at batch: 101 :  0.91......\n",
      "[INFO] loss at batch: 201 :  0.78......\n",
      "[INFO] loss at batch: 301 :  0.83......\n",
      "[INFO] loss at batch: 401 :  0.89......\n",
      "[INFO] epoch 8......\n",
      "[INFO] loss at batch: 1 :  0.79......\n",
      "[INFO] loss at batch: 101 :  0.83......\n",
      "[INFO] loss at batch: 201 :  0.70......\n",
      "[INFO] loss at batch: 301 :  0.76......\n",
      "[INFO] loss at batch: 401 :  0.83......\n",
      "[INFO] epoch 9......\n",
      "[INFO] loss at batch: 1 :  0.73......\n",
      "[INFO] loss at batch: 101 :  0.76......\n",
      "[INFO] loss at batch: 201 :  0.64......\n",
      "[INFO] loss at batch: 301 :  0.70......\n",
      "[INFO] loss at batch: 401 :  0.78......\n",
      "[INFO] epoch 10......\n",
      "[INFO] loss at batch: 1 :  0.68......\n",
      "[INFO] loss at batch: 101 :  0.71......\n",
      "[INFO] loss at batch: 201 :  0.59......\n",
      "[INFO] loss at batch: 301 :  0.66......\n",
      "[INFO] loss at batch: 401 :  0.73......\n"
     ]
    }
   ],
   "source": [
    "fit(model=model,\n",
    "    images=train_images,\n",
    "    labels=train_labels,\n",
    "    epochs=10)"
   ],
   "metadata": {
    "collapsed": false,
    "pycharm": {
     "name": "#%%\n"
    }
   }
  },
  {
   "cell_type": "code",
   "execution_count": 38,
   "outputs": [
    {
     "name": "stdout",
     "output_type": "stream",
     "text": [
      "[INFO] accuracy:  0.82......\n"
     ]
    }
   ],
   "source": [
    "# evaluate\n",
    "predictions = model(test_images)\n",
    "predictions = predictions.numpy()\n",
    "predicted_labels = np.argmax(predictions, axis=1)\n",
    "matches = predicted_labels == test_labels\n",
    "print(f\"[INFO] accuracy: {matches.mean(): .2f}......\")"
   ],
   "metadata": {
    "collapsed": false,
    "pycharm": {
     "name": "#%%\n"
    }
   }
  },
  {
   "cell_type": "code",
   "execution_count": null,
   "outputs": [],
   "source": [],
   "metadata": {
    "collapsed": false,
    "pycharm": {
     "name": "#%%\n"
    }
   }
  },
  {
   "cell_type": "code",
   "execution_count": null,
   "outputs": [],
   "source": [],
   "metadata": {
    "collapsed": false,
    "pycharm": {
     "name": "#%%\n"
    }
   }
  }
 ],
 "metadata": {
  "kernelspec": {
   "display_name": "Python 3",
   "language": "python",
   "name": "python3"
  },
  "language_info": {
   "codemirror_mode": {
    "name": "ipython",
    "version": 2
   },
   "file_extension": ".py",
   "mimetype": "text/x-python",
   "name": "python",
   "nbconvert_exporter": "python",
   "pygments_lexer": "ipython2",
   "version": "2.7.6"
  }
 },
 "nbformat": 4,
 "nbformat_minor": 0
}