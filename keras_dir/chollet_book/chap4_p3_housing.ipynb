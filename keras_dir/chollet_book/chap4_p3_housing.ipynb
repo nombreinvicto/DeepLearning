{
 "cells": [
  {
   "cell_type": "code",
   "execution_count": 1,
   "outputs": [],
   "source": [
    "import sys, os, json\n",
    "import numpy as np\n",
    "import pandas as pd\n",
    "import seaborn as sns\n",
    "import argparse, progressbar\n",
    "import matplotlib.pyplot as plt\n",
    "from matplotlib.figure import Figure\n",
    "from matplotlib.axes import Axes\n",
    "\n",
    "sns.set()"
   ],
   "metadata": {
    "collapsed": false,
    "pycharm": {
     "name": "#%%\n"
    }
   }
  },
  {
   "cell_type": "code",
   "execution_count": 5,
   "outputs": [],
   "source": [
    "# import the necessary packages\n",
    "from imutils import paths\n",
    "from sklearn.preprocessing import LabelBinarizer\n",
    "from sklearn.model_selection import train_test_split\n",
    "from sklearn.metrics import classification_report\n",
    "\n",
    "##\n",
    "import tensorflow as tf\n",
    "from tensorflow.keras import backend as K\n",
    "from tensorflow.keras import layers\n",
    "from tensorflow.keras.preprocessing.image import ImageDataGenerator\n",
    "from tensorflow.keras.optimizers import RMSprop, SGD\n",
    "from tensorflow.keras.regularizers import l2\n",
    "from tensorflow.keras.applications import VGG16\n",
    "from tensorflow.keras.models import Model, load_model, Sequential"
   ],
   "metadata": {
    "collapsed": false,
    "pycharm": {
     "name": "#%%\n"
    }
   }
  },
  {
   "cell_type": "code",
   "execution_count": 3,
   "outputs": [
    {
     "name": "stdout",
     "output_type": "stream",
     "text": [
      "Downloading data from https://storage.googleapis.com/tensorflow/tf-keras-datasets/boston_housing.npz\n",
      "57344/57026 [==============================] - 0s 1us/step\n"
     ]
    }
   ],
   "source": [
    "from tensorflow.keras.datasets import boston_housing\n",
    "\n",
    "(train_data, train_targets), (test_data, test_targets) = boston_housing.load_data()"
   ],
   "metadata": {
    "collapsed": false,
    "pycharm": {
     "name": "#%%\n"
    }
   }
  },
  {
   "cell_type": "code",
   "execution_count": 4,
   "outputs": [],
   "source": [
    "# standardise the data\n",
    "mean = train_data.mean(axis=0)\n",
    "std = train_data.std(axis=0)\n",
    "train_data -= mean\n",
    "train_data /= std\n",
    "test_data -= mean\n",
    "test_data /= std"
   ],
   "metadata": {
    "collapsed": false,
    "pycharm": {
     "name": "#%%\n"
    }
   }
  },
  {
   "cell_type": "code",
   "execution_count": 7,
   "outputs": [],
   "source": [
    "def build_model():\n",
    "    model = Sequential([\n",
    "        layers.Dense(64, activation=\"relu\"),\n",
    "        layers.Dense(64, activation=\"relu\"),\n",
    "        layers.Dense(1)\n",
    "    ])\n",
    "\n",
    "    model.compile(optimizer=\"rmsprop\", loss=\"mse\", metrics=[\"mae\"])\n",
    "\n",
    "    return model"
   ],
   "metadata": {
    "collapsed": false,
    "pycharm": {
     "name": "#%%\n"
    }
   }
  },
  {
   "cell_type": "code",
   "execution_count": 8,
   "outputs": [
    {
     "name": "stdout",
     "output_type": "stream",
     "text": [
      "[INFO] processing fold: 0......\n",
      "101/1 [======================================================================================================================================================================================================================================================================================================================================================================================================================================================================================================================================================================================================================================================================================================================================================================================================================================================================================================================================================================================================================================================================================================================================================================================================================================================================================================================================================================================================================================================================================================================================================================================================================================================================================================================================================================================================================================================================================================================================================================================================================================================================================================================================================================================================================================================================================================================================================================================================================================================================================================================================================================================================================================================================================================================================================================================================================================================================================================================================================================================================================================================================================================================================================] - 0s 832us/sample - loss: 8.9828 - mae: 1.8881\n",
      "[INFO] processing fold: 1......\n",
      "101/1 [======================================================================================================================================================================================================================================================================================================================================================================================================================================================================================================================================================================================================================================================================================================================================================================================================================================================================================================================================================================================================================================================================================================================================================================================================================================================================================================================================================================================================================================================================================================================================================================================================================================================================================================================================================================================================================================================================================================================================================================================================================================================================================================================================================================================================================================================================================================================================================================================================================================================================================================================================================================================================================================================================================================================================================================================================================================================================================================================================================================================================================================================================================================================================================] - 0s 901us/sample - loss: 10.7514 - mae: 2.4668\n",
      "[INFO] processing fold: 2......\n",
      "101/1 [======================================================================================================================================================================================================================================================================================================================================================================================================================================================================================================================================================================================================================================================================================================================================================================================================================================================================================================================================================================================================================================================================================================================================================================================================================================================================================================================================================================================================================================================================================================================================================================================================================================================================================================================================================================================================================================================================================================================================================================================================================================================================================================================================================================================================================================================================================================================================================================================================================================================================================================================================================================================================================================================================================================================================================================================================================================================================================================================================================================================================================================================================================================================================================] - 0s 1ms/sample - loss: 9.1864 - mae: 2.4462\n",
      "[INFO] processing fold: 3......\n",
      "101/1 [======================================================================================================================================================================================================================================================================================================================================================================================================================================================================================================================================================================================================================================================================================================================================================================================================================================================================================================================================================================================================================================================================================================================================================================================================================================================================================================================================================================================================================================================================================================================================================================================================================================================================================================================================================================================================================================================================================================================================================================================================================================================================================================================================================================================================================================================================================================================================================================================================================================================================================================================================================================================================================================================================================================================================================================================================================================================================================================================================================================================================================================================================================================================================================] - 0s 772us/sample - loss: 6.8710 - mae: 2.4478\n"
     ]
    }
   ],
   "source": [
    "# k fold cross validation\n",
    "k = 4\n",
    "num_val_samples = len(train_data) // k\n",
    "n_epochs = 100\n",
    "all_scores = []\n",
    "\n",
    "for i in range(k):\n",
    "    print(f\"[INFO] processing fold: {i}......\")\n",
    "    val_data = train_data[i * num_val_samples: (i + 1) * num_val_samples]\n",
    "    val_targets = train_targets[i * num_val_samples: (i + 1) * num_val_samples]\n",
    "    partial_train_data = np.concatenate([\n",
    "        train_data[:i * num_val_samples],\n",
    "        train_data[(i + 1) * num_val_samples:]\n",
    "    ], axis=0)\n",
    "\n",
    "    partial_train_targets = np.concatenate([\n",
    "        train_targets[:i * num_val_samples],\n",
    "        train_targets[(i + 1) * num_val_samples:]\n",
    "    ], axis=0)\n",
    "\n",
    "    model = build_model()\n",
    "    H = model.fit(partial_train_data,\n",
    "                  partial_train_targets,\n",
    "                  epochs=n_epochs,\n",
    "                  batch_size=16,\n",
    "                  verbose=0)\n",
    "    val_mse, val_mae = model.evaluate(val_data, val_targets)\n",
    "    all_scores.append(val_mae)"
   ],
   "metadata": {
    "collapsed": false,
    "pycharm": {
     "name": "#%%\n"
    }
   }
  },
  {
   "cell_type": "code",
   "execution_count": 9,
   "outputs": [
    {
     "data": {
      "text/plain": "[1.8881413, 2.4668384, 2.4461758, 2.4478312]"
     },
     "execution_count": 9,
     "metadata": {},
     "output_type": "execute_result"
    }
   ],
   "source": [
    "all_scores"
   ],
   "metadata": {
    "collapsed": false,
    "pycharm": {
     "name": "#%%\n"
    }
   }
  },
  {
   "cell_type": "code",
   "execution_count": 10,
   "outputs": [
    {
     "data": {
      "text/plain": "2.3122466"
     },
     "execution_count": 10,
     "metadata": {},
     "output_type": "execute_result"
    }
   ],
   "source": [
    "np.mean(all_scores)"
   ],
   "metadata": {
    "collapsed": false,
    "pycharm": {
     "name": "#%%\n"
    }
   }
  },
  {
   "cell_type": "code",
   "execution_count": 12,
   "outputs": [
    {
     "name": "stdout",
     "output_type": "stream",
     "text": [
      "[INFO] processing fold: 0......\n",
      "[INFO] processing fold: 1......\n",
      "[INFO] processing fold: 2......\n",
      "[INFO] processing fold: 3......\n"
     ]
    }
   ],
   "source": [
    "n_epochs = 500\n",
    "all_mae_histories = []\n",
    "\n",
    "for i in range(k):\n",
    "    print(f\"[INFO] processing fold: {i}......\")\n",
    "    val_data = train_data[i * num_val_samples: (i + 1) * num_val_samples]\n",
    "    val_targets = train_targets[i * num_val_samples: (i + 1) * num_val_samples]\n",
    "    partial_train_data = np.concatenate([\n",
    "        train_data[:i * num_val_samples],\n",
    "        train_data[(i + 1) * num_val_samples:]\n",
    "    ], axis=0)\n",
    "\n",
    "    partial_train_targets = np.concatenate([\n",
    "        train_targets[:i * num_val_samples],\n",
    "        train_targets[(i + 1) * num_val_samples:]\n",
    "    ], axis=0)\n",
    "\n",
    "    model = build_model()\n",
    "    H = model.fit(partial_train_data,\n",
    "                  partial_train_targets,\n",
    "                  validation_data=(val_data, val_targets),\n",
    "                  epochs=n_epochs,\n",
    "                  batch_size=16,\n",
    "                  verbose=0)\n",
    "    mae_history = H.history[\"val_mae\"]\n",
    "    all_mae_histories.append(mae_history)"
   ],
   "metadata": {
    "collapsed": false,
    "pycharm": {
     "name": "#%%\n"
    }
   }
  },
  {
   "cell_type": "code",
   "execution_count": 20,
   "outputs": [],
   "source": [
    "# calculate per apoch avg val_mae\n",
    "average_mae_history = [\n",
    "    np.mean([x[i] for x in all_mae_histories]) for i in range(n_epochs)]"
   ],
   "metadata": {
    "collapsed": false,
    "pycharm": {
     "name": "#%%\n"
    }
   }
  },
  {
   "cell_type": "code",
   "execution_count": 21,
   "outputs": [
    {
     "data": {
      "text/plain": "[18.888685,\n 15.113352,\n 10.764713,\n 7.2720933,\n 5.5639215,\n 4.604599,\n 3.9591296,\n 3.5863297,\n 3.34866,\n 3.2694504,\n 3.1061072,\n 2.9830692,\n 2.9559064,\n 2.8504972,\n 2.7754924,\n 2.6928105,\n 2.6761482,\n 2.6826408,\n 2.6302886,\n 2.607111,\n 2.5412893,\n 2.6302397,\n 2.567249,\n 2.523388,\n 2.5532432,\n 2.514974,\n 2.4895432,\n 2.538257,\n 2.5017302,\n 2.5014465,\n 2.547789,\n 2.5077572,\n 2.4497733,\n 2.4782467,\n 2.423761,\n 2.4226928,\n 2.4855015,\n 2.4108438,\n 2.4224381,\n 2.40919,\n 2.3966594,\n 2.4194736,\n 2.434154,\n 2.410677,\n 2.3896892,\n 2.37591,\n 2.379013,\n 2.4018817,\n 2.4586015,\n 2.4049335,\n 2.3797133,\n 2.4552069,\n 2.3866644,\n 2.42883,\n 2.338664,\n 2.338007,\n 2.3797338,\n 2.3483884,\n 2.3992505,\n 2.4114707,\n 2.3392854,\n 2.3622987,\n 2.3152199,\n 2.333594,\n 2.3923898,\n 2.372518,\n 2.3482997,\n 2.3430405,\n 2.317306,\n 2.3074563,\n 2.3568923,\n 2.3435974,\n 2.3234606,\n 2.3225996,\n 2.3235264,\n 2.3414912,\n 2.328869,\n 2.3358974,\n 2.3194463,\n 2.3234353,\n 2.313608,\n 2.2838771,\n 2.3604658,\n 2.312362,\n 2.2812076,\n 2.305561,\n 2.3595078,\n 2.2992349,\n 2.2949212,\n 2.3435893,\n 2.3040576,\n 2.3515263,\n 2.3457987,\n 2.3172004,\n 2.2960649,\n 2.277512,\n 2.3618011,\n 2.3021584,\n 2.4097705,\n 2.3013127,\n 2.340566,\n 2.340406,\n 2.3446481,\n 2.3795223,\n 2.3110003,\n 2.3449857,\n 2.3688028,\n 2.2678485,\n 2.395087,\n 2.399655,\n 2.3317728,\n 2.3088965,\n 2.3022761,\n 2.3397322,\n 2.387026,\n 2.2818408,\n 2.2839427,\n 2.3949308,\n 2.3928125,\n 2.2809181,\n 2.26882,\n 2.317224,\n 2.332489,\n 2.3062897,\n 2.3362951,\n 2.272955,\n 2.379221,\n 2.32489,\n 2.294932,\n 2.3003464,\n 2.3537571,\n 2.342515,\n 2.306644,\n 2.2760608,\n 2.3394454,\n 2.322496,\n 2.3171782,\n 2.343211,\n 2.2712069,\n 2.3617792,\n 2.3011189,\n 2.3441522,\n 2.2939136,\n 2.3028312,\n 2.3517523,\n 2.2940898,\n 2.3253944,\n 2.3558943,\n 2.3256505,\n 2.4597197,\n 2.3429625,\n 2.3288717,\n 2.324223,\n 2.3967211,\n 2.296864,\n 2.3206933,\n 2.3323348,\n 2.37282,\n 2.3701336,\n 2.387233,\n 2.306498,\n 2.3339005,\n 2.3495724,\n 2.3680663,\n 2.357333,\n 2.309094,\n 2.3467717,\n 2.3106928,\n 2.337432,\n 2.3861437,\n 2.2869158,\n 2.3412082,\n 2.3247066,\n 2.3835192,\n 2.3041048,\n 2.3268614,\n 2.3532293,\n 2.3693528,\n 2.3771508,\n 2.281229,\n 2.4257095,\n 2.3426049,\n 2.4277902,\n 2.331517,\n 2.2760742,\n 2.3121438,\n 2.330608,\n 2.3416927,\n 2.2608426,\n 2.301163,\n 2.341134,\n 2.339813,\n 2.3471737,\n 2.3219643,\n 2.3986094,\n 2.3254175,\n 2.3403897,\n 2.332898,\n 2.336634,\n 2.3341389,\n 2.32507,\n 2.4327924,\n 2.3811169,\n 2.3037844,\n 2.3597536,\n 2.3986566,\n 2.327275,\n 2.3936737,\n 2.392612,\n 2.2937112,\n 2.3046618,\n 2.3627093,\n 2.380353,\n 2.3607497,\n 2.3631313,\n 2.2735906,\n 2.340249,\n 2.3647285,\n 2.3406744,\n 2.3523207,\n 2.3328853,\n 2.4444752,\n 2.357761,\n 2.2803063,\n 2.3239825,\n 2.3751833,\n 2.3066955,\n 2.3278723,\n 2.3858237,\n 2.3327935,\n 2.3258595,\n 2.343949,\n 2.404541,\n 2.333047,\n 2.3318064,\n 2.451671,\n 2.352845,\n 2.4034476,\n 2.3948638,\n 2.283925,\n 2.3885167,\n 2.3332837,\n 2.3563075,\n 2.3096445,\n 2.331812,\n 2.366416,\n 2.3129306,\n 2.3666368,\n 2.3612661,\n 2.359945,\n 2.3581417,\n 2.3693838,\n 2.3238366,\n 2.3284895,\n 2.337652,\n 2.312225,\n 2.3166625,\n 2.3615437,\n 2.3733647,\n 2.341063,\n 2.3359075,\n 2.3323345,\n 2.3299148,\n 2.3453228,\n 2.380518,\n 2.3975503,\n 2.3618593,\n 2.3708806,\n 2.3311245,\n 2.2986803,\n 2.3717961,\n 2.3493404,\n 2.339292,\n 2.4163592,\n 2.3679802,\n 2.3196177,\n 2.2978778,\n 2.3754103,\n 2.3144922,\n 2.3673425,\n 2.365375,\n 2.3017876,\n 2.3528986,\n 2.362061,\n 2.3720636,\n 2.3336635,\n 2.3851602,\n 2.4143906,\n 2.3982754,\n 2.444418,\n 2.3864338,\n 2.3727655,\n 2.3553452,\n 2.313943,\n 2.4013765,\n 2.3832982,\n 2.4867601,\n 2.4177992,\n 2.3777835,\n 2.3645964,\n 2.3582542,\n 2.381004,\n 2.368099,\n 2.3917732,\n 2.3252552,\n 2.373331,\n 2.3807921,\n 2.383251,\n 2.3165567,\n 2.4447532,\n 2.3589635,\n 2.3494234,\n 2.388053,\n 2.3522341,\n 2.3174307,\n 2.3568234,\n 2.3837533,\n 2.347332,\n 2.3658416,\n 2.3240535,\n 2.3006952,\n 2.3775852,\n 2.395134,\n 2.351589,\n 2.350285,\n 2.381383,\n 2.3927956,\n 2.3625326,\n 2.3867784,\n 2.536732,\n 2.4012854,\n 2.407998,\n 2.4101527,\n 2.3387878,\n 2.4377139,\n 2.3936758,\n 2.4244497,\n 2.4504051,\n 2.3718252,\n 2.452795,\n 2.3465652,\n 2.442997,\n 2.372199,\n 2.410979,\n 2.4766045,\n 2.3988729,\n 2.3689935,\n 2.424882,\n 2.3748155,\n 2.3668876,\n 2.3213413,\n 2.4361577,\n 2.384337,\n 2.4240441,\n 2.419216,\n 2.3763127,\n 2.4075496,\n 2.422782,\n 2.3973184,\n 2.384016,\n 2.3952122,\n 2.3382149,\n 2.409862,\n 2.332554,\n 2.3260295,\n 2.413521,\n 2.4753494,\n 2.4518359,\n 2.43225,\n 2.3793316,\n 2.4380574,\n 2.4287555,\n 2.5008867,\n 2.3902755,\n 2.5081346,\n 2.4653814,\n 2.4390159,\n 2.3838673,\n 2.3904815,\n 2.4203696,\n 2.501336,\n 2.4246254,\n 2.410141,\n 2.3502977,\n 2.3699818,\n 2.3485203,\n 2.4545746,\n 2.4684029,\n 2.4427238,\n 2.4113016,\n 2.4120862,\n 2.3848386,\n 2.4099193,\n 2.42003,\n 2.3994932,\n 2.3828115,\n 2.4940057,\n 2.43847,\n 2.3906362,\n 2.4194636,\n 2.3718693,\n 2.4283023,\n 2.4342966,\n 2.3964572,\n 2.4693286,\n 2.4222717,\n 2.4890068,\n 2.4349513,\n 2.4295418,\n 2.452659,\n 2.5063813,\n 2.4736617,\n 2.4706793,\n 2.4865217,\n 2.4869173,\n 2.4251637,\n 2.4292672,\n 2.4684725,\n 2.4725513,\n 2.4963183,\n 2.4124343,\n 2.4097881,\n 2.4625504,\n 2.4834347,\n 2.490356,\n 2.4614832,\n 2.4808881,\n 2.4913049,\n 2.4964674,\n 2.449026,\n 2.4304118,\n 2.4709105,\n 2.399845,\n 2.4570336,\n 2.4076636,\n 2.4692643,\n 2.4799929,\n 2.4543483,\n 2.4829297,\n 2.4048834,\n 2.4247043,\n 2.4509766,\n 2.4413238,\n 2.4722726,\n 2.414622,\n 2.4176512,\n 2.4310517,\n 2.4939337,\n 2.43053,\n 2.4782631,\n 2.4074993,\n 2.4740264,\n 2.4274077,\n 2.5156763,\n 2.4218926,\n 2.4523385,\n 2.420735,\n 2.5002687,\n 2.5053234,\n 2.4876447,\n 2.4726405,\n 2.4514127,\n 2.4095974,\n 2.508699,\n 2.4521105,\n 2.4937558,\n 2.4801223,\n 2.4289174,\n 2.4512117,\n 2.4446568,\n 2.4329247,\n 2.464028,\n 2.4675272,\n 2.4788334,\n 2.5219421,\n 2.5419486,\n 2.4382946,\n 2.4871144,\n 2.4717925,\n 2.5236928,\n 2.4664104,\n 2.4785335,\n 2.4368992,\n 2.4152012,\n 2.4269195,\n 2.4658196,\n 2.4370518,\n 2.502224,\n 2.4560459,\n 2.5158408,\n 2.5038369,\n 2.5021384,\n 2.489304,\n 2.5145128,\n 2.4479477,\n 2.4693441,\n 2.4820056,\n 2.509257,\n 2.437011,\n 2.4369824]"
     },
     "execution_count": 21,
     "metadata": {},
     "output_type": "execute_result"
    }
   ],
   "source": [
    "average_mae_history"
   ],
   "metadata": {
    "collapsed": false,
    "pycharm": {
     "name": "#%%\n"
    }
   }
  },
  {
   "cell_type": "code",
   "execution_count": 22,
   "outputs": [
    {
     "data": {
      "text/plain": "<Figure size 432x288 with 1 Axes>",
      "image/png": "[encoded data removed]"
     },
     "metadata": {},
     "output_type": "display_data"
    }
   ],
   "source": [
    "plt.plot(range(1, len(average_mae_history) + 1), average_mae_history)\n",
    "plt.xlabel(\"Epochs\")\n",
    "plt.ylabel(\"Validation MAE\")\n",
    "plt.show()"
   ],
   "metadata": {
    "collapsed": false,
    "pycharm": {
     "name": "#%%\n"
    }
   }
  },
  {
   "cell_type": "code",
   "execution_count": null,
   "outputs": [],
   "source": [],
   "metadata": {
    "collapsed": false,
    "pycharm": {
     "name": "#%%\n"
    }
   }
  }
 ],
 "metadata": {
  "kernelspec": {
   "display_name": "Python 3",
   "language": "python",
   "name": "python3"
  },
  "language_info": {
   "codemirror_mode": {
    "name": "ipython",
    "version": 2
   },
   "file_extension": ".py",
   "mimetype": "text/x-python",
   "name": "python",
   "nbconvert_exporter": "python",
   "pygments_lexer": "ipython2",
   "version": "2.7.6"
  }
 },
 "nbformat": 4,
 "nbformat_minor": 0
}