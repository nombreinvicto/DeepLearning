{
 "cells": [
  {
   "cell_type": "code",
   "execution_count": null,
   "outputs": [],
   "source": [
    "import tensorflow as tf"
   ],
   "metadata": {
    "collapsed": false,
    "pycharm": {
     "name": "#%%\n"
    }
   }
  },
  {
   "cell_type": "code",
   "execution_count": null,
   "outputs": [],
   "source": [
    "# say we have a 3 feature input vector\n",
    "x = tf.Variable(initial_value=tf.ones(shape=(1, 3)))\n",
    "W1 = tf.Variable(tf.random.uniform((3, 2)))\n",
    "b1 = tf.Variable(tf.zeros((2,)))\n",
    "W2 = tf.Variable(tf.random.uniform((2, 1)))\n",
    "b2 = tf.Variable(tf.zeros((1,)))"
   ],
   "metadata": {
    "collapsed": false,
    "pycharm": {
     "name": "#%%\n"
    }
   }
  },
  {
   "cell_type": "code",
   "execution_count": null,
   "outputs": [],
   "source": [
    "with tf.GradientTape() as tape:\n",
    "    h = tf.matmul(x, W1) + b1\n",
    "    print(h.shape)\n",
    "\n",
    "    y = tf.matmul(h, W2) + b2\n",
    "    print(y.shape)\n",
    "    print(\"=\" * 50)"
   ],
   "metadata": {
    "collapsed": false,
    "pycharm": {
     "name": "#%%\n"
    }
   }
  },
  {
   "cell_type": "code",
   "execution_count": null,
   "outputs": [],
   "source": [
    "grad_y_wrt_W1_W2 = tape.gradient(y, [W1,W2])"
   ],
   "metadata": {
    "collapsed": false,
    "pycharm": {
     "name": "#%%\n"
    }
   }
  },
  {
   "cell_type": "code",
   "execution_count": null,
   "outputs": [],
   "source": [
    "grad_y_wrt_W1_W2"
   ],
   "metadata": {
    "collapsed": false,
    "pycharm": {
     "name": "#%%\n"
    }
   }
  },
  {
   "cell_type": "markdown",
   "source": [
    "So the shape of the gradient vectors seem to be the same as the shape of the variables wrt which the gradients are being taken. We have the following calculations:\n",
    "\n",
    "<br>\n",
    "\n",
    "\n",
    "<img src=\"./sample_gradient.JPG\" width=2000px>\n",
    "\n"
   ],
   "metadata": {
    "collapsed": false,
    "pycharm": {
     "name": "#%% md\n"
    }
   }
  },
  {
   "cell_type": "code",
   "execution_count": null,
   "outputs": [],
   "source": [
    "# lets see what are the values and dimensions of h. del_y/del_W2 = h as per our calculation\n",
    "# the values of h are equal to the gradient shown in the last cell, only the shape is transposed\n",
    "h"
   ],
   "metadata": {
    "collapsed": false,
    "pycharm": {
     "name": "#%%\n"
    }
   }
  },
  {
   "cell_type": "code",
   "execution_count": null,
   "outputs": [],
   "source": [
    "# the same is the case for del_y/del_W1 which should be equal to W2 x X in values but of transposed shape\n",
    "tf.matmul(W2,x)"
   ],
   "metadata": {
    "collapsed": false,
    "pycharm": {
     "name": "#%%\n"
    }
   }
  }
 ],
 "metadata": {
  "kernelspec": {
   "display_name": "Python 3",
   "language": "python",
   "name": "python3"
  },
  "language_info": {
   "codemirror_mode": {
    "name": "ipython",
    "version": 3
   },
   "file_extension": ".py",
   "mimetype": "text/x-python",
   "name": "python",
   "nbconvert_exporter": "python",
   "pygments_lexer": "ipython3",
   "version": "3.6.5"
  }
 },
 "nbformat": 4,
 "nbformat_minor": 1
}