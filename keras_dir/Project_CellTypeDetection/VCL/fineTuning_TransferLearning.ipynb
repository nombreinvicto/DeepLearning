{
 "cells": [
  {
   "cell_type": "code",
   "execution_count": 1,
   "metadata": {
    "pycharm": {
     "is_executing": false
    }
   },
   "outputs": [
    {
     "name": "stderr",
     "output_type": "stream",
     "text": [
      "/usr/local/lib/python3.6/dist-packages/tensorflow/python/framework/dtypes.py:526: FutureWarning: Passing (type, 1) or '1type' as a synonym of type is deprecated; in a future version of numpy, it will be understood as (type, (1,)) / '(1,)type'.\n",
      "  _np_qint8 = np.dtype([(\"qint8\", np.int8, 1)])\n",
      "/usr/local/lib/python3.6/dist-packages/tensorflow/python/framework/dtypes.py:527: FutureWarning: Passing (type, 1) or '1type' as a synonym of type is deprecated; in a future version of numpy, it will be understood as (type, (1,)) / '(1,)type'.\n",
      "  _np_quint8 = np.dtype([(\"quint8\", np.uint8, 1)])\n",
      "/usr/local/lib/python3.6/dist-packages/tensorflow/python/framework/dtypes.py:528: FutureWarning: Passing (type, 1) or '1type' as a synonym of type is deprecated; in a future version of numpy, it will be understood as (type, (1,)) / '(1,)type'.\n",
      "  _np_qint16 = np.dtype([(\"qint16\", np.int16, 1)])\n",
      "/usr/local/lib/python3.6/dist-packages/tensorflow/python/framework/dtypes.py:529: FutureWarning: Passing (type, 1) or '1type' as a synonym of type is deprecated; in a future version of numpy, it will be understood as (type, (1,)) / '(1,)type'.\n",
      "  _np_quint16 = np.dtype([(\"quint16\", np.uint16, 1)])\n",
      "/usr/local/lib/python3.6/dist-packages/tensorflow/python/framework/dtypes.py:530: FutureWarning: Passing (type, 1) or '1type' as a synonym of type is deprecated; in a future version of numpy, it will be understood as (type, (1,)) / '(1,)type'.\n",
      "  _np_qint32 = np.dtype([(\"qint32\", np.int32, 1)])\n",
      "/usr/local/lib/python3.6/dist-packages/tensorflow/python/framework/dtypes.py:535: FutureWarning: Passing (type, 1) or '1type' as a synonym of type is deprecated; in a future version of numpy, it will be understood as (type, (1,)) / '(1,)type'.\n",
      "  np_resource = np.dtype([(\"resource\", np.ubyte, 1)])\n"
     ]
    }
   ],
   "source": [
    "# import the necessary packages\n",
    "from sklearn.preprocessing import LabelBinarizer\n",
    "from sklearn.model_selection import train_test_split\n",
    "from sklearn.metrics import classification_report\n",
    "from loader_util.preprocessing import ImageToArrayPreprocessor, \\\n",
    "    AspectAwarePreprocessor, \\\n",
    "    MeanSubtractionPreProcessor\n",
    "from loader_util.datasets import SimpleDatasetLoader\n",
    "from loader_util.nn.conv import FCHeadNet\n",
    "##\n",
    "from tensorflow.keras.preprocessing.image import ImageDataGenerator\n",
    "from tensorflow.keras.optimizers import RMSprop, SGD\n",
    "from tensorflow.keras.applications import VGG16\n",
    "from tensorflow.keras.layers import Input\n",
    "from tensorflow.keras.models import Model\n",
    "from imutils import paths\n",
    "import numpy as np\n",
    "import os"
   ]
  },
  {
   "cell_type": "code",
   "execution_count": 2,
   "metadata": {
    "pycharm": {
     "is_executing": false,
     "name": "#%%\n"
    }
   },
   "outputs": [],
   "source": [
    "args = {\n",
    "    'dataset':r\"/home/mhasan3/Desktop/WorkFolder/cellImages3/\"}"
   ]
  },
  {
   "cell_type": "code",
   "execution_count": 3,
   "metadata": {
    "pycharm": {
     "is_executing": false,
     "name": "#%%\n"
    }
   },
   "outputs": [],
   "source": [
    "# construct the image generator\n",
    "aug = ImageDataGenerator(rotation_range=30,\n",
    "                         width_shift_range=0.1,\n",
    "                         height_shift_range=0.1,\n",
    "                         shear_range=0.2,\n",
    "                         zoom_range=0.2, \n",
    "                         horizontal_flip=True,\n",
    "                         vertical_flip=True,\n",
    "                         fill_mode='nearest')"
   ]
  },
  {
   "cell_type": "code",
   "execution_count": 4,
   "metadata": {
    "pycharm": {
     "is_executing": false,
     "name": "#%%\n"
    }
   },
   "outputs": [],
   "source": [
    "# grab the list of images that we'll be describing then extract the class \n",
    "# label names from the imagePaths\n",
    "imagePaths = list(paths.list_images(args['dataset']))\n",
    "classNames = [pt.split(os.path.sep)[-2] for pt in imagePaths]\n",
    "classNames = [str(x) for x in np.unique(classNames)]"
   ]
  },
  {
   "cell_type": "code",
   "execution_count": 5,
   "metadata": {
    "pycharm": {
     "is_executing": false,
     "name": "#%%\n"
    }
   },
   "outputs": [
    {
     "name": "stdout",
     "output_type": "stream",
     "text": [
      "[INFO] processed 500/1728\n",
      "[INFO] processed 1000/1728\n",
      "[INFO] processed 1500/1728\n"
     ]
    }
   ],
   "source": [
    "# initialise the image preprocessor\n",
    "msp = MeanSubtractionPreProcessor()\n",
    "aap = AspectAwarePreprocessor(224,224)\n",
    "iap = ImageToArrayPreprocessor()\n",
    "\n",
    "# load the dataset from disk then scale the raw pixels\n",
    "sdl = SimpleDatasetLoader(preprocessors=[msp, aap, iap])\n",
    "data, labels = sdl.load(imagePaths, verbose=500)\n",
    "#data = data.astype('float') / 255.0"
   ]
  },
  {
   "cell_type": "code",
   "execution_count": 6,
   "metadata": {
    "pycharm": {
     "is_executing": false,
     "name": "#%%\n"
    }
   },
   "outputs": [],
   "source": [
    "# partition the data into training and test splits\n",
    "trainx, testx, trainy, testy = train_test_split(data,\n",
    "                                                labels,\n",
    "                                                test_size=0.25,\n",
    "                                                random_state=42)\n",
    "\n",
    "# convert labels from integers into vectors\n",
    "le = LabelBinarizer()\n",
    "trainy = le.fit_transform(trainy)\n",
    "testy = le.transform(testy)"
   ]
  },
  {
   "cell_type": "code",
   "execution_count": 7,
   "metadata": {},
   "outputs": [
    {
     "data": {
      "text/plain": [
       "array(['3T3', 'MG 63', 'hASC'], dtype='<U5')"
      ]
     },
     "execution_count": 7,
     "metadata": {},
     "output_type": "execute_result"
    }
   ],
   "source": [
    "le.classes_"
   ]
  },
  {
   "cell_type": "code",
   "execution_count": 30,
   "metadata": {
    "pycharm": {
     "is_executing": false,
     "name": "#%%\n"
    }
   },
   "outputs": [
    {
     "name": "stdout",
     "output_type": "stream",
     "text": [
      "(?, 7, 7, 512)\n"
     ]
    }
   ],
   "source": [
    "# load the VGG16 network ensuring the head FC layer sets are left off\n",
    "baseModel = VGG16(weights='imagenet', include_top=False, \n",
    "                  input_tensor=Input(shape=(224, 224, 3))) # type: Model\n",
    "\n",
    "# initialise the new head of the network, a set of FC layers followed by \n",
    "# softmax\n",
    "headModel = FCHeadNet.builld(baseModel, len(classNames), D=256) # type: Model\n",
    "\n",
    "# place the head FC model on top of the base model - this will be the actual\n",
    "# model to train\n",
    "model = Model(inputs=baseModel.input, outputs=headModel)"
   ]
  },
  {
   "cell_type": "code",
   "execution_count": 31,
   "metadata": {
    "pycharm": {
     "is_executing": false,
     "name": "#%%\n"
    }
   },
   "outputs": [],
   "source": [
    "# loop over all the layers in the base model and freeze them\n",
    "for layer in baseModel.layers:\n",
    "    layer.trainable = False"
   ]
  },
  {
   "cell_type": "code",
   "execution_count": 32,
   "metadata": {
    "pycharm": {
     "is_executing": false,
     "name": "#%%\n"
    }
   },
   "outputs": [
    {
     "name": "stdout",
     "output_type": "stream",
     "text": [
      "Epoch 1/25\n",
      "432/432 [==============================] - 4s 10ms/sample - loss: 0.3787 - acc: 0.9306\n",
      "41/41 [==============================] - 16s 385ms/step - loss: 4.2349 - acc: 0.6296 - val_loss: 0.3787 - val_acc: 0.9306\n",
      "Epoch 2/25\n",
      "432/432 [==============================] - 4s 9ms/sample - loss: 0.0258 - acc: 0.9907\n",
      "41/41 [==============================] - 15s 370ms/step - loss: 0.1865 - acc: 0.9483 - val_loss: 0.0373 - val_acc: 0.9907\n",
      "Epoch 3/25\n",
      "432/432 [==============================] - 4s 9ms/sample - loss: 0.0265 - acc: 0.9907\n",
      "41/41 [==============================] - 15s 372ms/step - loss: 0.1517 - acc: 0.9552 - val_loss: 0.0321 - val_acc: 0.9907\n",
      "Epoch 4/25\n",
      "432/432 [==============================] - 4s 9ms/sample - loss: 0.0192 - acc: 0.9931\n",
      "41/41 [==============================] - 15s 373ms/step - loss: 0.1189 - acc: 0.9622 - val_loss: 0.0263 - val_acc: 0.9931\n",
      "Epoch 5/25\n",
      "432/432 [==============================] - 4s 9ms/sample - loss: 0.0129 - acc: 0.9977\n",
      "41/41 [==============================] - 15s 370ms/step - loss: 0.1188 - acc: 0.9745 - val_loss: 0.0232 - val_acc: 0.9977\n",
      "Epoch 6/25\n",
      "432/432 [==============================] - 4s 9ms/sample - loss: 0.0078 - acc: 0.9954\n",
      "41/41 [==============================] - 15s 374ms/step - loss: 0.1300 - acc: 0.9699 - val_loss: 0.0108 - val_acc: 0.9954\n",
      "Epoch 7/25\n",
      "432/432 [==============================] - 4s 9ms/sample - loss: 0.0168 - acc: 0.9977\n",
      "41/41 [==============================] - 15s 375ms/step - loss: 0.1110 - acc: 0.9815 - val_loss: 0.0312 - val_acc: 0.9977\n",
      "Epoch 8/25\n",
      "432/432 [==============================] - 4s 9ms/sample - loss: 0.0118 - acc: 0.9977\n",
      "41/41 [==============================] - 15s 372ms/step - loss: 0.0588 - acc: 0.9838 - val_loss: 0.0217 - val_acc: 0.9977\n",
      "Epoch 9/25\n",
      "432/432 [==============================] - 4s 9ms/sample - loss: 0.0121 - acc: 0.9907\n",
      "41/41 [==============================] - 15s 373ms/step - loss: 0.0348 - acc: 0.9877 - val_loss: 0.0138 - val_acc: 0.9907\n",
      "Epoch 10/25\n",
      "432/432 [==============================] - 4s 9ms/sample - loss: 0.0222 - acc: 0.9907\n",
      "41/41 [==============================] - 15s 372ms/step - loss: 0.0969 - acc: 0.9792 - val_loss: 0.0267 - val_acc: 0.9907\n",
      "Epoch 11/25\n",
      "432/432 [==============================] - 4s 9ms/sample - loss: 0.0185 - acc: 0.9954\n",
      "41/41 [==============================] - 15s 370ms/step - loss: 0.0582 - acc: 0.9869 - val_loss: 0.0192 - val_acc: 0.9954\n",
      "Epoch 12/25\n",
      "432/432 [==============================] - 4s 9ms/sample - loss: 0.0220 - acc: 0.9977\n",
      "41/41 [==============================] - 15s 372ms/step - loss: 0.0725 - acc: 0.9861 - val_loss: 0.0411 - val_acc: 0.9977\n",
      "Epoch 13/25\n",
      "432/432 [==============================] - 4s 9ms/sample - loss: 0.0063 - acc: 0.9977\n",
      "41/41 [==============================] - 15s 372ms/step - loss: 0.0640 - acc: 0.9869 - val_loss: 0.0094 - val_acc: 0.9977\n",
      "Epoch 14/25\n",
      "432/432 [==============================] - 4s 9ms/sample - loss: 0.0281 - acc: 0.9977\n",
      "41/41 [==============================] - 15s 371ms/step - loss: 0.0925 - acc: 0.9830 - val_loss: 0.0524 - val_acc: 0.9977\n",
      "Epoch 15/25\n",
      "432/432 [==============================] - 4s 9ms/sample - loss: 0.0130 - acc: 0.9977\n",
      "41/41 [==============================] - 15s 371ms/step - loss: 0.0461 - acc: 0.9900 - val_loss: 0.0241 - val_acc: 0.9977\n",
      "Epoch 16/25\n",
      "432/432 [==============================] - 4s 9ms/sample - loss: 0.0104 - acc: 0.9977\n",
      "41/41 [==============================] - 15s 373ms/step - loss: 0.0331 - acc: 0.9907 - val_loss: 0.0192 - val_acc: 0.9977\n",
      "Epoch 17/25\n",
      "432/432 [==============================] - 4s 9ms/sample - loss: 0.0170 - acc: 0.9977\n",
      "41/41 [==============================] - 15s 370ms/step - loss: 0.0252 - acc: 0.9931 - val_loss: 0.0316 - val_acc: 0.9977\n",
      "Epoch 18/25\n",
      "432/432 [==============================] - 4s 9ms/sample - loss: 0.0388 - acc: 0.9954\n",
      "41/41 [==============================] - 15s 374ms/step - loss: 0.0373 - acc: 0.9907 - val_loss: 0.0701 - val_acc: 0.9954\n",
      "Epoch 19/25\n",
      "432/432 [==============================] - 4s 9ms/sample - loss: 0.0291 - acc: 0.9977\n",
      "41/41 [==============================] - 15s 371ms/step - loss: 0.0456 - acc: 0.9869 - val_loss: 0.0543 - val_acc: 0.9977\n",
      "Epoch 20/25\n",
      "432/432 [==============================] - 4s 9ms/sample - loss: 0.0220 - acc: 0.9977\n",
      "41/41 [==============================] - 15s 371ms/step - loss: 0.0781 - acc: 0.9892 - val_loss: 0.0410 - val_acc: 0.9977\n",
      "Epoch 21/25\n",
      "432/432 [==============================] - 4s 9ms/sample - loss: 0.0347 - acc: 0.9977\n",
      "41/41 [==============================] - 15s 374ms/step - loss: 0.0278 - acc: 0.9938 - val_loss: 0.0648 - val_acc: 0.9977\n",
      "Epoch 22/25\n",
      "432/432 [==============================] - 4s 9ms/sample - loss: 0.0110 - acc: 0.9954\n",
      "41/41 [==============================] - 15s 370ms/step - loss: 0.0330 - acc: 0.9946 - val_loss: 0.0172 - val_acc: 0.9954\n",
      "Epoch 23/25\n",
      "432/432 [==============================] - 4s 9ms/sample - loss: 0.0126 - acc: 0.9954\n",
      "41/41 [==============================] - 15s 370ms/step - loss: 0.0374 - acc: 0.9907 - val_loss: 0.0215 - val_acc: 0.9954\n",
      "Epoch 24/25\n",
      "432/432 [==============================] - 4s 9ms/sample - loss: 0.0284 - acc: 0.9954\n",
      "41/41 [==============================] - 15s 372ms/step - loss: 0.0626 - acc: 0.9907 - val_loss: 0.0510 - val_acc: 0.9954\n",
      "Epoch 25/25\n",
      "432/432 [==============================] - 4s 9ms/sample - loss: 0.0343 - acc: 0.9977\n",
      "41/41 [==============================] - 15s 373ms/step - loss: 0.0113 - acc: 0.9961 - val_loss: 0.0635 - val_acc: 0.9977\n"
     ]
    },
    {
     "data": {
      "text/plain": [
       "<tensorflow.python.keras.callbacks.History at 0x7f0345c952b0>"
      ]
     },
     "execution_count": 32,
     "metadata": {},
     "output_type": "execute_result"
    }
   ],
   "source": [
    "# compile and optimise model\n",
    "opt = RMSprop(lr=0.001)\n",
    "model.compile(loss='categorical_crossentropy',\n",
    "              optimizer=opt,\n",
    "              metrics=['accuracy'])\n",
    "\n",
    "# train the head for few epochs\n",
    "model.fit_generator(aug.flow(trainx, trainy, batch_size=32),\n",
    "                    validation_data=(testx, testy),\n",
    "                    epochs=25,\n",
    "                    steps_per_epoch=len(trainx) // 32,\n",
    "                    verbose=1)"
   ]
  },
  {
   "cell_type": "code",
   "execution_count": 33,
   "metadata": {
    "pycharm": {
     "is_executing": false,
     "name": "#%%\n"
    }
   },
   "outputs": [
    {
     "name": "stdout",
     "output_type": "stream",
     "text": [
      "              precision    recall  f1-score   support\n",
      "\n",
      "         3T3       0.99      1.00      1.00       147\n",
      "       MG 63       1.00      0.99      1.00       119\n",
      "        hASC       1.00      1.00      1.00       166\n",
      "\n",
      "    accuracy                           1.00       432\n",
      "   macro avg       1.00      1.00      1.00       432\n",
      "weighted avg       1.00      1.00      1.00       432\n",
      "\n"
     ]
    }
   ],
   "source": [
    "# evaluate the network\n",
    "preds = model.predict(testx, batch_size=32)\n",
    "print(classification_report(testy.argmax(axis=1),\n",
    "                            preds.argmax(axis=1),\n",
    "                            target_names=classNames))"
   ]
  },
  {
   "cell_type": "code",
   "execution_count": 34,
   "metadata": {
    "pycharm": {
     "is_executing": false,
     "name": "#%%\n"
    }
   },
   "outputs": [],
   "source": [
    "# now that FC layers have been trained, lets unfreeze the final set of CONV \n",
    "# layers and make them trainable\n",
    "for layer in baseModel.layers[15:]:\n",
    "    layer.trainable = True"
   ]
  },
  {
   "cell_type": "code",
   "execution_count": 35,
   "metadata": {
    "pycharm": {
     "is_executing": false,
     "name": "#%%\n"
    }
   },
   "outputs": [
    {
     "name": "stdout",
     "output_type": "stream",
     "text": [
      "Epoch 1/100\n",
      "432/432 [==============================] - 4s 9ms/sample - loss: 0.0210 - acc: 0.9931\n",
      "41/41 [==============================] - 17s 408ms/step - loss: 1.6632 - acc: 0.8565 - val_loss: 0.0204 - val_acc: 0.9931\n",
      "Epoch 2/100\n",
      "432/432 [==============================] - 4s 9ms/sample - loss: 0.0012 - acc: 1.0000\n",
      "41/41 [==============================] - 16s 398ms/step - loss: 0.0270 - acc: 0.9923 - val_loss: 0.0012 - val_acc: 1.0000\n",
      "Epoch 3/100\n",
      "432/432 [==============================] - 4s 9ms/sample - loss: 0.0016 - acc: 1.0000\n",
      "41/41 [==============================] - 17s 403ms/step - loss: 0.0165 - acc: 0.9977 - val_loss: 0.0016 - val_acc: 1.0000\n",
      "Epoch 4/100\n",
      "432/432 [==============================] - 4s 9ms/sample - loss: 2.7738e-04 - acc: 1.0000\n",
      "41/41 [==============================] - 16s 399ms/step - loss: 0.0089 - acc: 0.9977 - val_loss: 2.8949e-04 - val_acc: 1.0000\n",
      "Epoch 5/100\n",
      "432/432 [==============================] - 4s 9ms/sample - loss: 0.0027 - acc: 0.9977\n",
      "41/41 [==============================] - 16s 401ms/step - loss: 0.0043 - acc: 0.9985 - val_loss: 0.0051 - val_acc: 0.9977\n",
      "Epoch 6/100\n",
      "432/432 [==============================] - 4s 9ms/sample - loss: 2.7654e-04 - acc: 1.0000\n",
      "41/41 [==============================] - 17s 403ms/step - loss: 0.0036 - acc: 0.9985 - val_loss: 5.0772e-04 - val_acc: 1.0000\n",
      "Epoch 7/100\n",
      "432/432 [==============================] - 4s 9ms/sample - loss: 0.0026 - acc: 0.9977\n",
      "41/41 [==============================] - 17s 405ms/step - loss: 0.0155 - acc: 0.9977 - val_loss: 0.0048 - val_acc: 0.9977\n",
      "Epoch 8/100\n",
      "432/432 [==============================] - 4s 9ms/sample - loss: 8.4905e-04 - acc: 1.0000\n",
      "41/41 [==============================] - 16s 400ms/step - loss: 0.0076 - acc: 0.9977 - val_loss: 0.0016 - val_acc: 1.0000\n",
      "Epoch 9/100\n",
      "432/432 [==============================] - 4s 9ms/sample - loss: 0.0108 - acc: 0.9977\n",
      "41/41 [==============================] - 16s 402ms/step - loss: 0.0013 - acc: 0.9992 - val_loss: 0.0201 - val_acc: 0.9977\n",
      "Epoch 10/100\n",
      "432/432 [==============================] - 4s 9ms/sample - loss: 0.0017 - acc: 1.0000\n",
      "41/41 [==============================] - 17s 402ms/step - loss: 0.0238 - acc: 0.9931 - val_loss: 0.0031 - val_acc: 1.0000\n",
      "Epoch 11/100\n",
      "432/432 [==============================] - 4s 9ms/sample - loss: 8.4899e-04 - acc: 1.0000\n",
      "41/41 [==============================] - 16s 399ms/step - loss: 3.0730e-04 - acc: 1.0000 - val_loss: 0.0016 - val_acc: 1.0000\n",
      "Epoch 12/100\n",
      "432/432 [==============================] - 4s 9ms/sample - loss: 1.6136e-04 - acc: 1.0000\n",
      "41/41 [==============================] - 16s 399ms/step - loss: 0.0052 - acc: 0.9977 - val_loss: 1.5675e-04 - val_acc: 1.0000\n",
      "Epoch 13/100\n",
      "432/432 [==============================] - 4s 9ms/sample - loss: 5.2130e-04 - acc: 1.0000\n",
      "41/41 [==============================] - 16s 401ms/step - loss: 0.0153 - acc: 0.9977 - val_loss: 9.7264e-04 - val_acc: 1.0000\n",
      "Epoch 14/100\n",
      "432/432 [==============================] - 4s 9ms/sample - loss: 3.6777e-05 - acc: 1.0000\n",
      "41/41 [==============================] - 16s 402ms/step - loss: 0.0104 - acc: 0.9977 - val_loss: 6.7759e-05 - val_acc: 1.0000\n",
      "Epoch 15/100\n",
      "432/432 [==============================] - 4s 9ms/sample - loss: 7.1067e-06 - acc: 1.0000\n",
      "41/41 [==============================] - 16s 398ms/step - loss: 0.0019 - acc: 0.9992 - val_loss: 9.4767e-06 - val_acc: 1.0000\n",
      "Epoch 16/100\n",
      "432/432 [==============================] - 4s 9ms/sample - loss: 7.6586e-06 - acc: 1.0000\n",
      "41/41 [==============================] - 17s 404ms/step - loss: 0.0138 - acc: 0.9961 - val_loss: 7.7962e-06 - val_acc: 1.0000\n",
      "Epoch 17/100\n",
      "432/432 [==============================] - 4s 9ms/sample - loss: 5.5658e-06 - acc: 1.0000\n",
      "41/41 [==============================] - 16s 400ms/step - loss: 0.0021 - acc: 0.9992 - val_loss: 9.1551e-06 - val_acc: 1.0000\n",
      "Epoch 18/100\n",
      "432/432 [==============================] - 4s 9ms/sample - loss: 1.6223e-05 - acc: 1.0000\n",
      "41/41 [==============================] - 16s 398ms/step - loss: 9.8468e-04 - acc: 0.9992 - val_loss: 1.5800e-05 - val_acc: 1.0000\n",
      "Epoch 19/100\n",
      "432/432 [==============================] - 4s 9ms/sample - loss: 1.0003e-05 - acc: 1.0000\n",
      "41/41 [==============================] - 16s 402ms/step - loss: 6.0332e-04 - acc: 1.0000 - val_loss: 9.8700e-06 - val_acc: 1.0000\n",
      "Epoch 20/100\n",
      "432/432 [==============================] - 4s 9ms/sample - loss: 1.9867e-05 - acc: 1.0000\n",
      "41/41 [==============================] - 16s 399ms/step - loss: 0.0010 - acc: 0.9992 - val_loss: 3.6735e-05 - val_acc: 1.0000\n",
      "Epoch 21/100\n",
      "432/432 [==============================] - 4s 9ms/sample - loss: 4.2147e-05 - acc: 1.0000\n",
      "41/41 [==============================] - 16s 399ms/step - loss: 2.1318e-04 - acc: 1.0000 - val_loss: 7.8159e-05 - val_acc: 1.0000\n",
      "Epoch 22/100\n",
      "432/432 [==============================] - 4s 9ms/sample - loss: 4.4166e-04 - acc: 1.0000\n",
      "41/41 [==============================] - 16s 401ms/step - loss: 0.0021 - acc: 0.9992 - val_loss: 8.2381e-04 - val_acc: 1.0000\n",
      "Epoch 23/100\n",
      "432/432 [==============================] - 4s 9ms/sample - loss: 5.2077e-05 - acc: 1.0000\n",
      "41/41 [==============================] - 16s 400ms/step - loss: 0.0019 - acc: 0.9992 - val_loss: 5.0286e-05 - val_acc: 1.0000\n",
      "Epoch 24/100\n",
      "432/432 [==============================] - 4s 9ms/sample - loss: 1.4819e-05 - acc: 1.0000\n",
      "41/41 [==============================] - 16s 402ms/step - loss: 1.6418e-04 - acc: 1.0000 - val_loss: 1.4313e-05 - val_acc: 1.0000\n",
      "Epoch 25/100\n",
      "432/432 [==============================] - 4s 9ms/sample - loss: 1.9213e-06 - acc: 1.0000\n",
      "41/41 [==============================] - 16s 400ms/step - loss: 0.0042 - acc: 0.9985 - val_loss: 1.8608e-06 - val_acc: 1.0000\n",
      "Epoch 26/100\n",
      "432/432 [==============================] - 4s 9ms/sample - loss: 2.4524e-05 - acc: 1.0000\n",
      "41/41 [==============================] - 17s 404ms/step - loss: 8.2139e-04 - acc: 1.0000 - val_loss: 2.3683e-05 - val_acc: 1.0000\n",
      "Epoch 27/100\n",
      "432/432 [==============================] - 4s 9ms/sample - loss: 2.2510e-05 - acc: 1.0000\n",
      "41/41 [==============================] - 16s 401ms/step - loss: 5.1281e-05 - acc: 1.0000 - val_loss: 2.1738e-05 - val_acc: 1.0000\n",
      "Epoch 28/100\n",
      "432/432 [==============================] - 4s 9ms/sample - loss: 2.0084e-05 - acc: 1.0000\n",
      "41/41 [==============================] - 16s 401ms/step - loss: 3.2346e-05 - acc: 1.0000 - val_loss: 1.9396e-05 - val_acc: 1.0000\n",
      "Epoch 29/100\n",
      "432/432 [==============================] - 4s 9ms/sample - loss: 1.6750e-06 - acc: 1.0000\n",
      "41/41 [==============================] - 17s 402ms/step - loss: 0.0041 - acc: 0.9992 - val_loss: 2.9638e-06 - val_acc: 1.0000\n",
      "Epoch 30/100\n",
      "432/432 [==============================] - 4s 9ms/sample - loss: 1.8932e-05 - acc: 1.0000\n",
      "41/41 [==============================] - 16s 399ms/step - loss: 0.0059 - acc: 0.9985 - val_loss: 1.8284e-05 - val_acc: 1.0000\n",
      "Epoch 31/100\n",
      "432/432 [==============================] - 4s 9ms/sample - loss: 1.0096e-05 - acc: 1.0000\n",
      "41/41 [==============================] - 16s 401ms/step - loss: 0.0020 - acc: 0.9992 - val_loss: 1.8599e-05 - val_acc: 1.0000\n",
      "Epoch 32/100\n",
      "432/432 [==============================] - 4s 9ms/sample - loss: 2.5283e-07 - acc: 1.0000\n",
      "41/41 [==============================] - 16s 402ms/step - loss: 0.0011 - acc: 1.0000 - val_loss: 2.7674e-07 - val_acc: 1.0000\n",
      "Epoch 33/100\n",
      "432/432 [==============================] - 4s 9ms/sample - loss: 5.8830e-07 - acc: 1.0000\n",
      "41/41 [==============================] - 16s 400ms/step - loss: 4.7597e-04 - acc: 1.0000 - val_loss: 5.7906e-07 - val_acc: 1.0000\n",
      "Epoch 34/100\n",
      "432/432 [==============================] - 4s 9ms/sample - loss: 9.8170e-07 - acc: 1.0000\n",
      "41/41 [==============================] - 17s 407ms/step - loss: 2.2094e-04 - acc: 1.0000 - val_loss: 9.8170e-07 - val_acc: 1.0000\n",
      "Epoch 35/100\n",
      "432/432 [==============================] - 4s 9ms/sample - loss: 2.2057e-07 - acc: 1.0000\n",
      "41/41 [==============================] - 16s 401ms/step - loss: 0.0072 - acc: 0.9985 - val_loss: 2.9377e-07 - val_acc: 1.0000\n",
      "Epoch 36/100\n",
      "432/432 [==============================] - 4s 9ms/sample - loss: 2.2861e-07 - acc: 1.0000\n",
      "41/41 [==============================] - 16s 400ms/step - loss: 3.1769e-05 - acc: 1.0000 - val_loss: 3.1027e-07 - val_acc: 1.0000\n"
     ]
    },
    {
     "name": "stdout",
     "output_type": "stream",
     "text": [
      "Epoch 37/100\n",
      "432/432 [==============================] - 4s 9ms/sample - loss: 6.0686e-07 - acc: 1.0000\n",
      "41/41 [==============================] - 16s 401ms/step - loss: 0.0019 - acc: 0.9992 - val_loss: 5.9210e-07 - val_acc: 1.0000\n",
      "Epoch 38/100\n",
      "432/432 [==============================] - 4s 9ms/sample - loss: 5.4715e-07 - acc: 1.0000\n",
      "41/41 [==============================] - 16s 402ms/step - loss: 0.0036 - acc: 0.9985 - val_loss: 5.3368e-07 - val_acc: 1.0000\n",
      "Epoch 39/100\n",
      "432/432 [==============================] - 4s 9ms/sample - loss: 1.6441e-04 - acc: 1.0000\n",
      "41/41 [==============================] - 16s 399ms/step - loss: 0.0099 - acc: 0.9985 - val_loss: 2.9307e-04 - val_acc: 1.0000\n",
      "Epoch 40/100\n",
      "432/432 [==============================] - 4s 9ms/sample - loss: 5.4021e-07 - acc: 1.0000\n",
      "41/41 [==============================] - 17s 403ms/step - loss: 8.3541e-04 - acc: 1.0000 - val_loss: 8.9054e-07 - val_acc: 1.0000\n",
      "Epoch 41/100\n",
      "432/432 [==============================] - 4s 9ms/sample - loss: 3.5333e-07 - acc: 1.0000\n",
      "41/41 [==============================] - 17s 404ms/step - loss: 2.9541e-04 - acc: 1.0000 - val_loss: 5.4990e-07 - val_acc: 1.0000\n",
      "Epoch 42/100\n",
      "432/432 [==============================] - 4s 9ms/sample - loss: 2.3825e-07 - acc: 1.0000\n",
      "41/41 [==============================] - 16s 402ms/step - loss: 1.0410e-04 - acc: 1.0000 - val_loss: 3.3794e-07 - val_acc: 1.0000\n",
      "Epoch 43/100\n",
      "432/432 [==============================] - 4s 9ms/sample - loss: 1.9007e-07 - acc: 1.0000\n",
      "41/41 [==============================] - 16s 401ms/step - loss: 1.4789e-04 - acc: 1.0000 - val_loss: 2.4800e-07 - val_acc: 1.0000\n",
      "Epoch 44/100\n",
      "432/432 [==============================] - 4s 9ms/sample - loss: 1.5293e-07 - acc: 1.0000\n",
      "41/41 [==============================] - 17s 403ms/step - loss: 2.8193e-04 - acc: 1.0000 - val_loss: 1.7309e-07 - val_acc: 1.0000\n",
      "Epoch 45/100\n",
      "432/432 [==============================] - 4s 9ms/sample - loss: 1.5421e-07 - acc: 1.0000\n",
      "41/41 [==============================] - 16s 401ms/step - loss: 1.5968e-04 - acc: 1.0000 - val_loss: 1.6032e-07 - val_acc: 1.0000\n",
      "Epoch 46/100\n",
      "432/432 [==============================] - 4s 9ms/sample - loss: 1.6626e-07 - acc: 1.0000\n",
      "41/41 [==============================] - 16s 400ms/step - loss: 2.2616e-04 - acc: 1.0000 - val_loss: 2.0343e-07 - val_acc: 1.0000\n",
      "Epoch 47/100\n",
      "432/432 [==============================] - 4s 9ms/sample - loss: 1.4412e-07 - acc: 1.0000\n",
      "41/41 [==============================] - 17s 405ms/step - loss: 1.3599e-04 - acc: 1.0000 - val_loss: 1.5367e-07 - val_acc: 1.0000\n",
      "Epoch 48/100\n",
      "432/432 [==============================] - 4s 9ms/sample - loss: 1.4357e-07 - acc: 1.0000\n",
      "41/41 [==============================] - 17s 403ms/step - loss: 5.3574e-05 - acc: 1.0000 - val_loss: 1.5300e-07 - val_acc: 1.0000\n",
      "Epoch 49/100\n",
      "432/432 [==============================] - 4s 9ms/sample - loss: 7.6580e-07 - acc: 1.0000\n",
      "41/41 [==============================] - 16s 399ms/step - loss: 8.6151e-04 - acc: 0.9992 - val_loss: 1.3162e-06 - val_acc: 1.0000\n",
      "Epoch 50/100\n",
      "432/432 [==============================] - 4s 9ms/sample - loss: 4.6318e-07 - acc: 1.0000\n",
      "41/41 [==============================] - 17s 405ms/step - loss: 8.7660e-04 - acc: 1.0000 - val_loss: 4.5171e-07 - val_acc: 1.0000\n",
      "Epoch 51/100\n",
      "432/432 [==============================] - 4s 9ms/sample - loss: 1.5649e-07 - acc: 1.0000\n",
      "41/41 [==============================] - 16s 400ms/step - loss: 2.8286e-04 - acc: 1.0000 - val_loss: 1.6099e-07 - val_acc: 1.0000\n",
      "Epoch 52/100\n",
      "432/432 [==============================] - 4s 9ms/sample - loss: 1.4756e-07 - acc: 1.0000\n",
      "41/41 [==============================] - 16s 399ms/step - loss: 4.7371e-04 - acc: 1.0000 - val_loss: 1.5686e-07 - val_acc: 1.0000\n",
      "Epoch 53/100\n",
      "432/432 [==============================] - 4s 9ms/sample - loss: 1.4911e-05 - acc: 1.0000\n",
      "41/41 [==============================] - 17s 404ms/step - loss: 8.6562e-04 - acc: 0.9992 - val_loss: 1.4401e-05 - val_acc: 1.0000\n",
      "Epoch 54/100\n",
      "432/432 [==============================] - 4s 9ms/sample - loss: 2.9533e-07 - acc: 1.0000\n",
      "41/41 [==============================] - 17s 406ms/step - loss: 5.9548e-04 - acc: 1.0000 - val_loss: 2.8951e-07 - val_acc: 1.0000\n",
      "Epoch 55/100\n",
      "432/432 [==============================] - 4s 9ms/sample - loss: 2.7934e-07 - acc: 1.0000\n",
      "41/41 [==============================] - 16s 399ms/step - loss: 1.6306e-04 - acc: 1.0000 - val_loss: 2.7408e-07 - val_acc: 1.0000\n",
      "Epoch 56/100\n",
      "432/432 [==============================] - 4s 9ms/sample - loss: 1.4136e-07 - acc: 1.0000\n",
      "41/41 [==============================] - 16s 402ms/step - loss: 4.4999e-04 - acc: 1.0000 - val_loss: 1.5087e-07 - val_acc: 1.0000\n",
      "Epoch 57/100\n",
      "432/432 [==============================] - 4s 9ms/sample - loss: 1.4166e-07 - acc: 1.0000\n",
      "41/41 [==============================] - 16s 400ms/step - loss: 1.9668e-04 - acc: 1.0000 - val_loss: 1.4436e-07 - val_acc: 1.0000\n",
      "Epoch 58/100\n",
      "432/432 [==============================] - 4s 9ms/sample - loss: 1.5360e-07 - acc: 1.0000\n",
      "41/41 [==============================] - 16s 401ms/step - loss: 2.8781e-04 - acc: 1.0000 - val_loss: 1.8068e-07 - val_acc: 1.0000\n",
      "Epoch 59/100\n",
      "432/432 [==============================] - 4s 9ms/sample - loss: 1.5303e-07 - acc: 1.0000\n",
      "41/41 [==============================] - 17s 403ms/step - loss: 1.3355e-05 - acc: 1.0000 - val_loss: 1.7961e-07 - val_acc: 1.0000\n",
      "Epoch 60/100\n",
      "432/432 [==============================] - 4s 9ms/sample - loss: 1.5746e-07 - acc: 1.0000\n",
      "41/41 [==============================] - 16s 399ms/step - loss: 2.4200e-05 - acc: 1.0000 - val_loss: 1.8813e-07 - val_acc: 1.0000\n",
      "Epoch 61/100\n",
      "432/432 [==============================] - 4s 9ms/sample - loss: 1.3939e-07 - acc: 1.0000\n",
      "41/41 [==============================] - 16s 400ms/step - loss: 0.0020 - acc: 0.9992 - val_loss: 1.4050e-07 - val_acc: 1.0000\n",
      "Epoch 62/100\n",
      "432/432 [==============================] - 4s 9ms/sample - loss: 1.3391e-07 - acc: 1.0000\n",
      "41/41 [==============================] - 17s 404ms/step - loss: 1.7608e-04 - acc: 1.0000 - val_loss: 1.3597e-07 - val_acc: 1.0000\n",
      "Epoch 63/100\n",
      "432/432 [==============================] - 4s 9ms/sample - loss: 1.3202e-07 - acc: 1.0000\n",
      "41/41 [==============================] - 16s 401ms/step - loss: 4.2719e-05 - acc: 1.0000 - val_loss: 1.3531e-07 - val_acc: 1.0000\n",
      "Epoch 64/100\n",
      "432/432 [==============================] - 4s 9ms/sample - loss: 1.3229e-07 - acc: 1.0000\n",
      "41/41 [==============================] - 16s 398ms/step - loss: 1.3797e-05 - acc: 1.0000 - val_loss: 1.3531e-07 - val_acc: 1.0000\n",
      "Epoch 65/100\n",
      "432/432 [==============================] - 4s 9ms/sample - loss: 1.3229e-07 - acc: 1.0000\n",
      "41/41 [==============================] - 16s 398ms/step - loss: 6.0848e-06 - acc: 1.0000 - val_loss: 1.3517e-07 - val_acc: 1.0000\n",
      "Epoch 66/100\n",
      "432/432 [==============================] - 4s 9ms/sample - loss: 1.6543e-07 - acc: 1.0000\n",
      "41/41 [==============================] - 17s 404ms/step - loss: 0.0052 - acc: 0.9977 - val_loss: 1.8028e-07 - val_acc: 1.0000\n",
      "Epoch 67/100\n",
      "432/432 [==============================] - 4s 9ms/sample - loss: 3.2347e-07 - acc: 1.0000\n",
      "41/41 [==============================] - 16s 400ms/step - loss: 2.8914e-04 - acc: 1.0000 - val_loss: 3.1746e-07 - val_acc: 1.0000\n",
      "Epoch 68/100\n",
      "432/432 [==============================] - 4s 9ms/sample - loss: 1.4377e-07 - acc: 1.0000\n",
      "41/41 [==============================] - 17s 404ms/step - loss: 0.0015 - acc: 0.9992 - val_loss: 1.5859e-07 - val_acc: 1.0000\n",
      "Epoch 69/100\n",
      "432/432 [==============================] - 4s 9ms/sample - loss: 1.4135e-07 - acc: 1.0000\n",
      "41/41 [==============================] - 16s 399ms/step - loss: 7.6908e-05 - acc: 1.0000 - val_loss: 1.5061e-07 - val_acc: 1.0000\n",
      "Epoch 70/100\n",
      "432/432 [==============================] - 4s 9ms/sample - loss: 1.6159e-07 - acc: 1.0000\n",
      "41/41 [==============================] - 16s 400ms/step - loss: 1.3931e-04 - acc: 1.0000 - val_loss: 1.6218e-07 - val_acc: 1.0000\n",
      "Epoch 71/100\n",
      "432/432 [==============================] - 4s 9ms/sample - loss: 1.5801e-07 - acc: 1.0000\n",
      "41/41 [==============================] - 16s 402ms/step - loss: 3.4594e-05 - acc: 1.0000 - val_loss: 1.5886e-07 - val_acc: 1.0000\n",
      "Epoch 72/100\n",
      "432/432 [==============================] - 4s 9ms/sample - loss: 1.5333e-07 - acc: 1.0000\n",
      "41/41 [==============================] - 16s 401ms/step - loss: 8.8966e-04 - acc: 0.9992 - val_loss: 1.5447e-07 - val_acc: 1.0000\n",
      "Epoch 73/100\n",
      "432/432 [==============================] - 4s 9ms/sample - loss: 1.5718e-07 - acc: 1.0000\n",
      "41/41 [==============================] - 16s 399ms/step - loss: 3.4038e-05 - acc: 1.0000 - val_loss: 1.5793e-07 - val_acc: 1.0000\n",
      "Epoch 74/100\n",
      "432/432 [==============================] - 4s 9ms/sample - loss: 1.5690e-07 - acc: 1.0000\n",
      "41/41 [==============================] - 17s 403ms/step - loss: 8.6868e-06 - acc: 1.0000 - val_loss: 1.5753e-07 - val_acc: 1.0000\n",
      "Epoch 75/100\n",
      "432/432 [==============================] - 4s 9ms/sample - loss: 1.5731e-07 - acc: 1.0000\n",
      "41/41 [==============================] - 16s 399ms/step - loss: 4.2283e-06 - acc: 1.0000 - val_loss: 1.5793e-07 - val_acc: 1.0000\n",
      "Epoch 76/100\n",
      "432/432 [==============================] - 4s 9ms/sample - loss: 1.3790e-07 - acc: 1.0000\n",
      "41/41 [==============================] - 16s 399ms/step - loss: 1.8278e-04 - acc: 1.0000 - val_loss: 1.4342e-07 - val_acc: 1.0000\n",
      "Epoch 77/100\n",
      "432/432 [==============================] - 4s 9ms/sample - loss: 2.9966e-06 - acc: 1.0000\n",
      "41/41 [==============================] - 16s 402ms/step - loss: 7.8557e-04 - acc: 0.9992 - val_loss: 5.4799e-06 - val_acc: 1.0000\n",
      "Epoch 78/100\n",
      "432/432 [==============================] - 4s 9ms/sample - loss: 1.8213e-07 - acc: 1.0000\n",
      "41/41 [==============================] - 16s 400ms/step - loss: 9.6498e-04 - acc: 0.9992 - val_loss: 2.3443e-07 - val_acc: 1.0000\n",
      "Epoch 79/100\n",
      "432/432 [==============================] - 4s 9ms/sample - loss: 1.7971e-07 - acc: 1.0000\n",
      "41/41 [==============================] - 16s 399ms/step - loss: 1.9543e-05 - acc: 1.0000 - val_loss: 2.3004e-07 - val_acc: 1.0000\n",
      "Epoch 80/100\n",
      "432/432 [==============================] - 4s 9ms/sample - loss: 2.0198e-07 - acc: 1.0000\n",
      "41/41 [==============================] - 16s 398ms/step - loss: 5.0179e-04 - acc: 1.0000 - val_loss: 2.7235e-07 - val_acc: 1.0000\n",
      "Epoch 81/100\n",
      "432/432 [==============================] - 4s 9ms/sample - loss: 1.4873e-07 - acc: 1.0000\n",
      "41/41 [==============================] - 16s 402ms/step - loss: 8.2517e-05 - acc: 1.0000 - val_loss: 1.7083e-07 - val_acc: 1.0000\n",
      "Epoch 82/100\n",
      "432/432 [==============================] - 4s 9ms/sample - loss: 1.3334e-04 - acc: 1.0000\n",
      "41/41 [==============================] - 16s 400ms/step - loss: 0.0026 - acc: 0.9992 - val_loss: 1.2874e-04 - val_acc: 1.0000\n",
      "Epoch 83/100\n",
      "432/432 [==============================] - 4s 9ms/sample - loss: 2.5729e-07 - acc: 1.0000\n",
      "41/41 [==============================] - 16s 401ms/step - loss: 0.0012 - acc: 0.9992 - val_loss: 3.7546e-07 - val_acc: 1.0000\n",
      "Epoch 84/100\n",
      "432/432 [==============================] - 4s 9ms/sample - loss: 1.2673e-07 - acc: 1.0000\n",
      "41/41 [==============================] - 17s 403ms/step - loss: 2.9216e-04 - acc: 1.0000 - val_loss: 1.3238e-07 - val_acc: 1.0000\n",
      "Epoch 85/100\n",
      "432/432 [==============================] - 4s 9ms/sample - loss: 1.2544e-07 - acc: 1.0000\n",
      "41/41 [==============================] - 16s 399ms/step - loss: 5.4630e-05 - acc: 1.0000 - val_loss: 1.2972e-07 - val_acc: 1.0000\n",
      "Epoch 86/100\n",
      "432/432 [==============================] - 4s 9ms/sample - loss: 1.2486e-07 - acc: 1.0000\n",
      "41/41 [==============================] - 16s 400ms/step - loss: 3.9059e-05 - acc: 1.0000 - val_loss: 1.2852e-07 - val_acc: 1.0000\n",
      "Epoch 87/100\n",
      "432/432 [==============================] - 4s 9ms/sample - loss: 1.2544e-07 - acc: 1.0000\n",
      "41/41 [==============================] - 16s 402ms/step - loss: 3.1647e-05 - acc: 1.0000 - val_loss: 1.2985e-07 - val_acc: 1.0000\n",
      "Epoch 88/100\n",
      "432/432 [==============================] - 4s 9ms/sample - loss: 1.2442e-07 - acc: 1.0000\n",
      "41/41 [==============================] - 16s 398ms/step - loss: 5.4353e-05 - acc: 1.0000 - val_loss: 1.2719e-07 - val_acc: 1.0000\n",
      "Epoch 89/100\n",
      "432/432 [==============================] - 4s 9ms/sample - loss: 1.2431e-07 - acc: 1.0000\n",
      "41/41 [==============================] - 17s 408ms/step - loss: 2.7902e-05 - acc: 1.0000 - val_loss: 1.2431e-07 - val_acc: 1.0000\n",
      "Epoch 90/100\n",
      "432/432 [==============================] - 4s 9ms/sample - loss: 1.2502e-07 - acc: 1.0000\n",
      "41/41 [==============================] - 16s 402ms/step - loss: 0.0015 - acc: 0.9985 - val_loss: 1.2533e-07 - val_acc: 1.0000\n",
      "Epoch 91/100\n",
      "432/432 [==============================] - 4s 9ms/sample - loss: 1.2488e-07 - acc: 1.0000\n",
      "41/41 [==============================] - 16s 399ms/step - loss: 5.0012e-05 - acc: 1.0000 - val_loss: 1.2533e-07 - val_acc: 1.0000\n",
      "Epoch 92/100\n",
      "432/432 [==============================] - 4s 9ms/sample - loss: 1.2475e-07 - acc: 1.0000\n",
      "41/41 [==============================] - 16s 399ms/step - loss: 8.9734e-06 - acc: 1.0000 - val_loss: 1.2533e-07 - val_acc: 1.0000\n",
      "Epoch 93/100\n",
      "432/432 [==============================] - 4s 9ms/sample - loss: 1.4098e-07 - acc: 1.0000\n",
      "41/41 [==============================] - 17s 404ms/step - loss: 4.8930e-04 - acc: 1.0000 - val_loss: 1.4023e-07 - val_acc: 1.0000\n",
      "Epoch 94/100\n",
      "432/432 [==============================] - 4s 9ms/sample - loss: 1.2503e-07 - acc: 1.0000\n",
      "41/41 [==============================] - 16s 400ms/step - loss: 2.0076e-04 - acc: 1.0000 - val_loss: 1.2573e-07 - val_acc: 1.0000\n",
      "Epoch 95/100\n",
      "432/432 [==============================] - 4s 9ms/sample - loss: 1.2295e-07 - acc: 1.0000\n",
      "41/41 [==============================] - 16s 399ms/step - loss: 2.0978e-04 - acc: 1.0000 - val_loss: 1.2333e-07 - val_acc: 1.0000\n",
      "Epoch 96/100\n",
      "432/432 [==============================] - 4s 9ms/sample - loss: 1.2556e-07 - acc: 1.0000\n",
      "41/41 [==============================] - 17s 405ms/step - loss: 0.0097 - acc: 0.9985 - val_loss: 1.2560e-07 - val_acc: 1.0000\n",
      "Epoch 97/100\n",
      "432/432 [==============================] - 4s 9ms/sample - loss: 1.2218e-07 - acc: 1.0000\n",
      "41/41 [==============================] - 16s 400ms/step - loss: 0.0027 - acc: 0.9992 - val_loss: 1.2413e-07 - val_acc: 1.0000\n",
      "Epoch 98/100\n",
      "432/432 [==============================] - 4s 9ms/sample - loss: 1.2261e-07 - acc: 1.0000\n",
      "41/41 [==============================] - 16s 399ms/step - loss: 4.3713e-05 - acc: 1.0000 - val_loss: 1.2506e-07 - val_acc: 1.0000\n",
      "Epoch 99/100\n",
      "432/432 [==============================] - 4s 9ms/sample - loss: 1.2296e-07 - acc: 1.0000\n",
      "41/41 [==============================] - 16s 400ms/step - loss: 0.0014 - acc: 0.9992 - val_loss: 1.2360e-07 - val_acc: 1.0000\n",
      "Epoch 100/100\n",
      "432/432 [==============================] - 4s 9ms/sample - loss: 1.2255e-07 - acc: 1.0000\n",
      "41/41 [==============================] - 17s 403ms/step - loss: 3.0264e-05 - acc: 1.0000 - val_loss: 1.2347e-07 - val_acc: 1.0000\n"
     ]
    },
    {
     "data": {
      "text/plain": [
       "<tensorflow.python.keras.callbacks.History at 0x7f034582a160>"
      ]
     },
     "execution_count": 35,
     "metadata": {},
     "output_type": "execute_result"
    }
   ],
   "source": [
    "# for changes to take effect we need to recompile model\n",
    "opt = SGD(lr=0.001)\n",
    "model.compile(loss='categorical_crossentropy',\n",
    "              optimizer=opt,\n",
    "              metrics=['accuracy'])\n",
    "model.fit_generator(aug.flow(trainx, trainy, batch_size=32),\n",
    "                    validation_data=(testx, testy),\n",
    "                    epochs=100,\n",
    "                    steps_per_epoch=len(trainx) // 32,\n",
    "                    verbose=1)"
   ]
  },
  {
   "cell_type": "code",
   "execution_count": 36,
   "metadata": {
    "pycharm": {
     "is_executing": false,
     "name": "#%%\n"
    }
   },
   "outputs": [
    {
     "name": "stdout",
     "output_type": "stream",
     "text": [
      "              precision    recall  f1-score   support\n",
      "\n",
      "         3T3       1.00      1.00      1.00       147\n",
      "       MG 63       1.00      1.00      1.00       119\n",
      "        hASC       1.00      1.00      1.00       166\n",
      "\n",
      "    accuracy                           1.00       432\n",
      "   macro avg       1.00      1.00      1.00       432\n",
      "weighted avg       1.00      1.00      1.00       432\n",
      "\n"
     ]
    }
   ],
   "source": [
    "# evaluate the network again\n",
    "preds = model.predict(testx, batch_size=32)\n",
    "print(classification_report(testy.argmax(axis=1),\n",
    "                            preds.argmax(axis=1),\n",
    "                            target_names=classNames))"
   ]
  },
  {
   "cell_type": "code",
   "execution_count": 38,
   "metadata": {
    "pycharm": {
     "name": "#%%\n"
    }
   },
   "outputs": [],
   "source": [
    "# save serialised model\n",
    "model.save('keras_finetune_acc1.00.pth')"
   ]
  },
  {
   "cell_type": "code",
   "execution_count": null,
   "metadata": {},
   "outputs": [],
   "source": []
  }
 ],
 "metadata": {
  "kernelspec": {
   "display_name": "Python 3",
   "language": "python",
   "name": "python3"
  },
  "language_info": {
   "codemirror_mode": {
    "name": "ipython",
    "version": 3
   },
   "file_extension": ".py",
   "mimetype": "text/x-python",
   "name": "python",
   "nbconvert_exporter": "python",
   "pygments_lexer": "ipython3",
   "version": "3.6.7"
  },
  "pycharm": {
   "stem_cell": {
    "cell_type": "raw",
    "metadata": {
     "collapsed": false
    },
    "source": []
   }
  }
 },
 "nbformat": 4,
 "nbformat_minor": 1
}
