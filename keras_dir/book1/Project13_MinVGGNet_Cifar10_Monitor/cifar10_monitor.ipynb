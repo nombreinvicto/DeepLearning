{
 "cells": [
  {
   "cell_type": "code",
   "execution_count": 1,
   "metadata": {
    "pycharm": {
     "is_executing": false,
     "name": "#%%\n"
    }
   },
   "outputs": [],
   "source": [
    "# import the necessary packages\n",
    "from loader_util.callbacks import TrainingMonitor\n",
    "from sklearn.preprocessing import LabelBinarizer\n",
    "from loader_util.nn.conv import MinVGGNet\n",
    "from tensorflow.keras.optimizers import SGD\n",
    "from tensorflow.keras.datasets import cifar10\n",
    "import os"
   ]
  },
  {
   "cell_type": "code",
   "execution_count": 2,
   "metadata": {
    "pycharm": {
     "name": "#%%\n"
    }
   },
   "outputs": [
    {
     "name": "stdout",
     "output_type": "stream",
     "text": [
      "[INFO] process ID: 3952\n"
     ]
    }
   ],
   "source": [
    "args = {\n",
    "    'output': \"output\"\n",
    "}\n",
    "\n",
    "# show information on the process ID\n",
    "print(f\"[INFO] process ID: {os.getpid()}\")"
   ]
  },
  {
   "cell_type": "code",
   "execution_count": 3,
   "metadata": {
    "pycharm": {
     "name": "#%%\n"
    }
   },
   "outputs": [],
   "source": [
    "# load the dataset and normalise\n",
    "(trainx, trainy), (testx, testy) = cifar10.load_data()\n",
    "trainx = trainx.astype('float') / 255.0\n",
    "testx = testx.astype('float') / 255.0\n",
    "\n",
    "# convert the labels from integers to vectors\n",
    "lb = LabelBinarizer()\n",
    "trainy = lb.fit_transform(trainy)\n",
    "testy = lb.transform(testy)\n",
    "\n",
    "# initialize the label names for the CIFAR-10 dataset\n",
    "labelNames = [ \"airplane\" , \"automobile\" , \"bird\" , \"cat\" , \"deer\" ,\n",
    "               \"dog\" , \"frog\" , \"horse\" , \"ship\" , \"truck\" ]"
   ]
  },
  {
   "cell_type": "code",
   "execution_count": 4,
   "metadata": {
    "pycharm": {
     "name": "#%%\n"
    }
   },
   "outputs": [
    {
     "name": "stdout",
     "output_type": "stream",
     "text": [
      "[INFO] compiling model........\n",
      "WARNING:tensorflow:From /usr/local/lib/python3.6/dist-packages/tensorflow/python/ops/resource_variable_ops.py:435: colocate_with (from tensorflow.python.framework.ops) is deprecated and will be removed in a future version.\n",
      "Instructions for updating:\n",
      "Colocations handled automatically by placer.\n",
      "WARNING:tensorflow:From /usr/local/lib/python3.6/dist-packages/tensorflow/python/keras/layers/core.py:143: calling dropout (from tensorflow.python.ops.nn_ops) with keep_prob is deprecated and will be removed in a future version.\n",
      "Instructions for updating:\n",
      "Please use `rate` instead of `keep_prob`. Rate should be set to `rate = 1 - keep_prob`.\n"
     ]
    }
   ],
   "source": [
    "# initialise the SGD optimizer but without any learning rate decay\n",
    "print('[INFO] compiling model........')\n",
    "opt = SGD(lr=0.01, momentum=0.9, nesterov=True)\n",
    "model = MinVGGNet.build(width=32, height=32, depth=3, classes=10)\n",
    "model.compile(loss=\"categorical_crossentropy\", optimizer=opt,\n",
    "              metrics=['accuracy'])"
   ]
  },
  {
   "cell_type": "code",
   "execution_count": null,
   "metadata": {
    "pycharm": {
     "name": "#%%\n"
    }
   },
   "outputs": [
    {
     "name": "stdout",
     "output_type": "stream",
     "text": [
      "[INFO] training network.......\n",
      "Train on 50000 samples, validate on 10000 samples\n",
      "WARNING:tensorflow:From /usr/local/lib/python3.6/dist-packages/tensorflow/python/ops/math_ops.py:3066: to_int32 (from tensorflow.python.ops.math_ops) is deprecated and will be removed in a future version.\n",
      "Instructions for updating:\n",
      "Use tf.cast instead.\n",
      "Epoch 1/100\n",
      "50000/50000 [==============================] - 20s 390us/sample - loss: 1.5993 - acc: 0.4642 - val_loss: 1.3781 - val_acc: 0.5098\n",
      "Epoch 2/100\n",
      "50000/50000 [==============================] - 17s 348us/sample - loss: 1.1345 - acc: 0.6095 - val_loss: 0.9671 - val_acc: 0.6607\n",
      "Epoch 3/100\n",
      "50000/50000 [==============================] - 18s 355us/sample - loss: 0.9543 - acc: 0.6705 - val_loss: 0.8251 - val_acc: 0.7116\n",
      "Epoch 4/100\n",
      "50000/50000 [==============================] - 18s 354us/sample - loss: 0.8522 - acc: 0.7043 - val_loss: 0.7530 - val_acc: 0.7375\n",
      "Epoch 5/100\n",
      "50000/50000 [==============================] - 18s 353us/sample - loss: 0.7798 - acc: 0.7262 - val_loss: 0.7206 - val_acc: 0.7429\n",
      "Epoch 6/100\n",
      "50000/50000 [==============================] - 18s 357us/sample - loss: 0.7180 - acc: 0.7511 - val_loss: 0.6691 - val_acc: 0.7669\n",
      "Epoch 7/100\n",
      "50000/50000 [==============================] - 17s 346us/sample - loss: 0.6738 - acc: 0.7642 - val_loss: 0.7112 - val_acc: 0.7600\n",
      "Epoch 8/100\n",
      "50000/50000 [==============================] - 18s 351us/sample - loss: 0.6281 - acc: 0.7777 - val_loss: 0.6296 - val_acc: 0.7854\n",
      "Epoch 9/100\n",
      "50000/50000 [==============================] - 17s 348us/sample - loss: 0.5929 - acc: 0.7907 - val_loss: 0.7395 - val_acc: 0.7555\n",
      "Epoch 10/100\n",
      "50000/50000 [==============================] - 17s 348us/sample - loss: 0.5530 - acc: 0.8054 - val_loss: 0.6035 - val_acc: 0.7947\n",
      "Epoch 11/100\n",
      "50000/50000 [==============================] - 18s 357us/sample - loss: 0.5259 - acc: 0.8159 - val_loss: 0.5826 - val_acc: 0.8025\n",
      "Epoch 12/100\n",
      "50000/50000 [==============================] - 18s 355us/sample - loss: 0.4932 - acc: 0.8282 - val_loss: 0.6268 - val_acc: 0.7857\n",
      "Epoch 13/100\n",
      "50000/50000 [==============================] - 18s 358us/sample - loss: 0.4685 - acc: 0.8335 - val_loss: 0.6228 - val_acc: 0.7946\n",
      "Epoch 14/100\n",
      "50000/50000 [==============================] - 18s 360us/sample - loss: 0.4433 - acc: 0.8431 - val_loss: 0.5895 - val_acc: 0.8060\n",
      "Epoch 15/100\n",
      "50000/50000 [==============================] - 18s 352us/sample - loss: 0.4233 - acc: 0.8491 - val_loss: 0.5810 - val_acc: 0.8101\n",
      "Epoch 16/100\n",
      "50000/50000 [==============================] - 18s 354us/sample - loss: 0.3983 - acc: 0.8581 - val_loss: 0.7045 - val_acc: 0.7775\n",
      "Epoch 17/100\n",
      "50000/50000 [==============================] - 18s 363us/sample - loss: 0.3827 - acc: 0.8641 - val_loss: 0.5962 - val_acc: 0.8056\n",
      "Epoch 18/100\n",
      "50000/50000 [==============================] - 17s 350us/sample - loss: 0.3654 - acc: 0.8702 - val_loss: 0.5507 - val_acc: 0.8183\n",
      "Epoch 19/100\n",
      "50000/50000 [==============================] - 18s 350us/sample - loss: 0.3463 - acc: 0.8766 - val_loss: 0.5490 - val_acc: 0.8224\n",
      "Epoch 20/100\n",
      "50000/50000 [==============================] - 18s 361us/sample - loss: 0.3308 - acc: 0.8830 - val_loss: 0.5848 - val_acc: 0.8169\n",
      "Epoch 21/100\n",
      "50000/50000 [==============================] - 17s 346us/sample - loss: 0.3203 - acc: 0.8859 - val_loss: 0.5843 - val_acc: 0.8156\n",
      "Epoch 22/100\n",
      "50000/50000 [==============================] - 18s 358us/sample - loss: 0.3027 - acc: 0.8931 - val_loss: 0.5705 - val_acc: 0.8197\n",
      "Epoch 23/100\n",
      "50000/50000 [==============================] - 18s 354us/sample - loss: 0.2954 - acc: 0.8951 - val_loss: 0.5796 - val_acc: 0.8153\n",
      "Epoch 24/100\n",
      "50000/50000 [==============================] - 18s 350us/sample - loss: 0.2759 - acc: 0.9026 - val_loss: 0.5798 - val_acc: 0.8175\n",
      "Epoch 25/100\n",
      "50000/50000 [==============================] - 18s 363us/sample - loss: 0.2707 - acc: 0.9037 - val_loss: 0.5732 - val_acc: 0.8275\n",
      "Epoch 26/100\n",
      "50000/50000 [==============================] - 18s 354us/sample - loss: 0.2632 - acc: 0.9061 - val_loss: 0.5862 - val_acc: 0.8251\n",
      "Epoch 27/100\n",
      "50000/50000 [==============================] - 18s 354us/sample - loss: 0.2493 - acc: 0.9105 - val_loss: 0.5791 - val_acc: 0.8216\n",
      "Epoch 28/100\n",
      "50000/50000 [==============================] - 18s 362us/sample - loss: 0.2414 - acc: 0.9131 - val_loss: 0.6778 - val_acc: 0.8055\n",
      "Epoch 29/100\n",
      "50000/50000 [==============================] - 17s 348us/sample - loss: 0.2365 - acc: 0.9164 - val_loss: 0.5615 - val_acc: 0.8321\n",
      "Epoch 30/100\n",
      "50000/50000 [==============================] - 18s 354us/sample - loss: 0.2320 - acc: 0.9186 - val_loss: 0.6649 - val_acc: 0.8046\n",
      "Epoch 31/100\n",
      "50000/50000 [==============================] - 18s 361us/sample - loss: 0.2169 - acc: 0.9222 - val_loss: 0.6130 - val_acc: 0.8251\n",
      "Epoch 32/100\n",
      "50000/50000 [==============================] - 18s 351us/sample - loss: 0.2143 - acc: 0.9234 - val_loss: 0.6306 - val_acc: 0.8173\n",
      "Epoch 33/100\n",
      "50000/50000 [==============================] - 18s 356us/sample - loss: 0.2140 - acc: 0.9246 - val_loss: 0.5911 - val_acc: 0.8232\n",
      "Epoch 34/100\n",
      "50000/50000 [==============================] - 18s 357us/sample - loss: 0.1979 - acc: 0.9296 - val_loss: 0.6348 - val_acc: 0.8175\n",
      "Epoch 35/100\n",
      "50000/50000 [==============================] - 18s 353us/sample - loss: 0.1995 - acc: 0.9296 - val_loss: 0.6584 - val_acc: 0.8158\n",
      "Epoch 36/100\n",
      "50000/50000 [==============================] - 18s 360us/sample - loss: 0.2035 - acc: 0.9272 - val_loss: 0.6327 - val_acc: 0.8171\n",
      "Epoch 37/100\n",
      "50000/50000 [==============================] - 18s 361us/sample - loss: 0.1952 - acc: 0.9307 - val_loss: 0.6057 - val_acc: 0.8254\n",
      "Epoch 38/100\n",
      "50000/50000 [==============================] - 18s 351us/sample - loss: 0.1834 - acc: 0.9339 - val_loss: 0.5946 - val_acc: 0.8293\n",
      "Epoch 39/100\n",
      "50000/50000 [==============================] - 18s 359us/sample - loss: 0.1786 - acc: 0.9364 - val_loss: 0.6108 - val_acc: 0.8245\n",
      "Epoch 40/100\n",
      "50000/50000 [==============================] - 18s 356us/sample - loss: 0.1729 - acc: 0.9392 - val_loss: 0.6304 - val_acc: 0.8234\n",
      "Epoch 41/100\n",
      "50000/50000 [==============================] - 17s 350us/sample - loss: 0.1686 - acc: 0.9395 - val_loss: 0.6820 - val_acc: 0.8137\n",
      "Epoch 42/100\n",
      "50000/50000 [==============================] - 18s 360us/sample - loss: 0.1643 - acc: 0.9431 - val_loss: 0.6295 - val_acc: 0.8235\n",
      "Epoch 43/100\n",
      "50000/50000 [==============================] - 18s 353us/sample - loss: 0.1616 - acc: 0.9416 - val_loss: 0.6337 - val_acc: 0.8261\n",
      "Epoch 44/100\n",
      "50000/50000 [==============================] - 18s 351us/sample - loss: 0.1542 - acc: 0.9454 - val_loss: 0.6094 - val_acc: 0.8272\n",
      "Epoch 45/100\n",
      "50000/50000 [==============================] - 18s 365us/sample - loss: 0.1566 - acc: 0.9440 - val_loss: 0.6209 - val_acc: 0.8256\n",
      "Epoch 46/100\n",
      "50000/50000 [==============================] - 18s 355us/sample - loss: 0.1497 - acc: 0.9474 - val_loss: 0.6236 - val_acc: 0.8292\n",
      "Epoch 47/100\n",
      "50000/50000 [==============================] - 18s 360us/sample - loss: 0.1503 - acc: 0.9466 - val_loss: 0.6661 - val_acc: 0.8218\n",
      "Epoch 48/100\n",
      "50000/50000 [==============================] - 18s 361us/sample - loss: 0.1491 - acc: 0.9464 - val_loss: 0.6581 - val_acc: 0.8222\n",
      "Epoch 49/100\n",
      "50000/50000 [==============================] - 18s 364us/sample - loss: 0.1408 - acc: 0.9507 - val_loss: 0.6352 - val_acc: 0.8311\n",
      "Epoch 50/100\n",
      "50000/50000 [==============================] - 18s 355us/sample - loss: 0.1385 - acc: 0.9512 - val_loss: 0.6401 - val_acc: 0.8300\n",
      "Epoch 51/100\n",
      "50000/50000 [==============================] - 18s 355us/sample - loss: 0.1407 - acc: 0.9508 - val_loss: 0.6459 - val_acc: 0.8256\n",
      "Epoch 52/100\n",
      "50000/50000 [==============================] - 18s 359us/sample - loss: 0.1365 - acc: 0.9517 - val_loss: 0.6062 - val_acc: 0.8325\n",
      "Epoch 53/100\n",
      "50000/50000 [==============================] - 19s 371us/sample - loss: 0.1324 - acc: 0.9541 - val_loss: 0.6977 - val_acc: 0.8210\n",
      "Epoch 54/100\n",
      "50000/50000 [==============================] - 18s 352us/sample - loss: 0.1341 - acc: 0.9530 - val_loss: 0.6412 - val_acc: 0.8273\n",
      "Epoch 55/100\n",
      "50000/50000 [==============================] - 18s 356us/sample - loss: 0.1300 - acc: 0.9537 - val_loss: 0.6763 - val_acc: 0.8243\n",
      "Epoch 56/100\n"
     ]
    },
    {
     "name": "stdout",
     "output_type": "stream",
     "text": [
      "50000/50000 [==============================] - 18s 361us/sample - loss: 0.1367 - acc: 0.9528 - val_loss: 0.6455 - val_acc: 0.8311\n",
      "Epoch 57/100\n",
      "50000/50000 [==============================] - 18s 351us/sample - loss: 0.1280 - acc: 0.9545 - val_loss: 0.6286 - val_acc: 0.8327\n",
      "Epoch 58/100\n",
      "50000/50000 [==============================] - 18s 352us/sample - loss: 0.1247 - acc: 0.9561 - val_loss: 0.6274 - val_acc: 0.8279\n",
      "Epoch 59/100\n",
      "50000/50000 [==============================] - 18s 362us/sample - loss: 0.1163 - acc: 0.9590 - val_loss: 0.6579 - val_acc: 0.8255\n",
      "Epoch 60/100\n",
      "50000/50000 [==============================] - 18s 363us/sample - loss: 0.1151 - acc: 0.9600 - val_loss: 0.6762 - val_acc: 0.8261\n",
      "Epoch 61/100\n",
      "50000/50000 [==============================] - 18s 355us/sample - loss: 0.1196 - acc: 0.9582 - val_loss: 0.7221 - val_acc: 0.8149\n",
      "Epoch 62/100\n",
      "50000/50000 [==============================] - 18s 357us/sample - loss: 0.1699 - acc: 0.9408 - val_loss: 0.6158 - val_acc: 0.8305\n",
      "Epoch 63/100\n",
      "50000/50000 [==============================] - 18s 365us/sample - loss: 0.1252 - acc: 0.9550 - val_loss: 0.7112 - val_acc: 0.8208\n",
      "Epoch 64/100\n",
      "50000/50000 [==============================] - 18s 352us/sample - loss: 0.1165 - acc: 0.9584 - val_loss: 0.6392 - val_acc: 0.8307\n",
      "Epoch 65/100\n",
      "50000/50000 [==============================] - 18s 353us/sample - loss: 0.1134 - acc: 0.9607 - val_loss: 0.6515 - val_acc: 0.8266\n",
      "Epoch 66/100\n",
      "50000/50000 [==============================] - 18s 360us/sample - loss: 0.1094 - acc: 0.9611 - val_loss: 0.6768 - val_acc: 0.8205\n",
      "Epoch 67/100\n",
      "50000/50000 [==============================] - 18s 365us/sample - loss: 0.1141 - acc: 0.9600 - val_loss: 0.6575 - val_acc: 0.8292\n",
      "Epoch 68/100\n",
      "50000/50000 [==============================] - 18s 353us/sample - loss: 0.1073 - acc: 0.9618 - val_loss: 0.6465 - val_acc: 0.8318\n",
      "Epoch 69/100\n",
      "50000/50000 [==============================] - 18s 358us/sample - loss: 0.1072 - acc: 0.9621 - val_loss: 0.6749 - val_acc: 0.8292\n",
      "Epoch 70/100\n",
      "50000/50000 [==============================] - 18s 360us/sample - loss: 0.1018 - acc: 0.9639 - val_loss: 0.6572 - val_acc: 0.8297\n",
      "Epoch 71/100\n",
      "50000/50000 [==============================] - 18s 352us/sample - loss: 0.1012 - acc: 0.9654 - val_loss: 0.6565 - val_acc: 0.8311\n",
      "Epoch 72/100\n",
      "50000/50000 [==============================] - 18s 356us/sample - loss: 0.1026 - acc: 0.9639 - val_loss: 0.6685 - val_acc: 0.8290\n",
      "Epoch 73/100\n",
      "50000/50000 [==============================] - 18s 363us/sample - loss: 0.0962 - acc: 0.9662 - val_loss: 0.6913 - val_acc: 0.8277\n",
      "Epoch 74/100\n",
      "50000/50000 [==============================] - 18s 353us/sample - loss: 0.0971 - acc: 0.9657 - val_loss: 0.6543 - val_acc: 0.8319\n",
      "Epoch 75/100\n",
      "50000/50000 [==============================] - 17s 345us/sample - loss: 0.0982 - acc: 0.9652 - val_loss: 0.6944 - val_acc: 0.8332\n",
      "Epoch 76/100\n",
      "50000/50000 [==============================] - 18s 358us/sample - loss: 0.0948 - acc: 0.9674 - val_loss: 0.6713 - val_acc: 0.8315\n",
      "Epoch 77/100\n",
      "50000/50000 [==============================] - 17s 348us/sample - loss: 0.0954 - acc: 0.9665 - val_loss: 0.7147 - val_acc: 0.8231\n",
      "Epoch 78/100\n",
      "50000/50000 [==============================] - 18s 357us/sample - loss: 0.0938 - acc: 0.9664 - val_loss: 0.6774 - val_acc: 0.8340\n",
      "Epoch 79/100\n",
      "50000/50000 [==============================] - 18s 358us/sample - loss: 0.0969 - acc: 0.9670 - val_loss: 0.6587 - val_acc: 0.8289\n",
      "Epoch 80/100\n",
      "50000/50000 [==============================] - 17s 350us/sample - loss: 0.0910 - acc: 0.9675 - val_loss: 0.6759 - val_acc: 0.8264\n",
      "Epoch 81/100\n",
      "50000/50000 [==============================] - 18s 354us/sample - loss: 0.0876 - acc: 0.9691 - val_loss: 0.6804 - val_acc: 0.8347\n",
      "Epoch 82/100\n",
      "50000/50000 [==============================] - 18s 356us/sample - loss: 0.0883 - acc: 0.9689 - val_loss: 0.6793 - val_acc: 0.8311\n",
      "Epoch 83/100\n",
      "50000/50000 [==============================] - 17s 346us/sample - loss: 0.0914 - acc: 0.9678 - val_loss: 0.6721 - val_acc: 0.8348\n",
      "Epoch 84/100\n",
      "50000/50000 [==============================] - 18s 356us/sample - loss: 0.0855 - acc: 0.9699 - val_loss: 0.6871 - val_acc: 0.8332\n",
      "Epoch 85/100\n",
      "50000/50000 [==============================] - 18s 355us/sample - loss: 0.0886 - acc: 0.9687 - val_loss: 0.7013 - val_acc: 0.8254\n",
      "Epoch 86/100\n",
      "50000/50000 [==============================] - 18s 357us/sample - loss: 0.1127 - acc: 0.9599 - val_loss: 0.6750 - val_acc: 0.8286\n",
      "Epoch 87/100\n",
      "50000/50000 [==============================] - 18s 361us/sample - loss: 0.0914 - acc: 0.9670 - val_loss: 0.6718 - val_acc: 0.8322\n",
      "Epoch 88/100\n",
      "50000/50000 [==============================] - 17s 347us/sample - loss: 0.0846 - acc: 0.9710 - val_loss: 0.6694 - val_acc: 0.8328\n",
      "Epoch 89/100\n",
      "50000/50000 [==============================] - 18s 357us/sample - loss: 0.0851 - acc: 0.9710 - val_loss: 0.6745 - val_acc: 0.8300\n",
      "Epoch 90/100\n",
      "50000/50000 [==============================] - 18s 353us/sample - loss: 0.0853 - acc: 0.9700 - val_loss: 0.6748 - val_acc: 0.8300\n",
      "Epoch 91/100\n",
      "50000/50000 [==============================] - 18s 360us/sample - loss: 0.0807 - acc: 0.9725 - val_loss: 0.6819 - val_acc: 0.8350\n",
      "Epoch 92/100\n",
      "50000/50000 [==============================] - 18s 353us/sample - loss: 0.0801 - acc: 0.9716 - val_loss: 0.6704 - val_acc: 0.8308\n",
      "Epoch 93/100\n",
      "50000/50000 [==============================] - 18s 364us/sample - loss: 0.0840 - acc: 0.9699 - val_loss: 0.6979 - val_acc: 0.8324\n",
      "Epoch 94/100\n",
      "50000/50000 [==============================] - 18s 354us/sample - loss: 0.0833 - acc: 0.9707 - val_loss: 0.6923 - val_acc: 0.8342\n",
      "Epoch 95/100\n",
      "50000/50000 [==============================] - 18s 355us/sample - loss: 0.0783 - acc: 0.9734 - val_loss: 0.6786 - val_acc: 0.8320\n",
      "Epoch 96/100\n",
      "50000/50000 [==============================] - 18s 357us/sample - loss: 0.0795 - acc: 0.9718 - val_loss: 0.7461 - val_acc: 0.8285\n",
      "Epoch 97/100\n",
      "50000/50000 [==============================] - 18s 350us/sample - loss: 0.0796 - acc: 0.9712 - val_loss: 0.6908 - val_acc: 0.8357\n",
      "Epoch 98/100\n",
      "50000/50000 [==============================] - 18s 355us/sample - loss: 0.0787 - acc: 0.9728 - val_loss: 0.7127 - val_acc: 0.8316\n",
      "Epoch 99/100\n",
      "50000/50000 [==============================] - 18s 364us/sample - loss: 0.0784 - acc: 0.9735 - val_loss: 0.6734 - val_acc: 0.8375\n",
      "Epoch 100/100\n",
      "20864/50000 [===========>..................] - ETA: 9s - loss: 0.0746 - acc: 0.9746"
     ]
    }
   ],
   "source": [
    "# construct the set of callbacks\n",
    "figPath = os.path.sep.join([args['output'], f'{os.getpid()}.png'])\n",
    "jsonPath = os.path.sep.join([args['output'], f'{os.getpid()}.json'])\n",
    "\n",
    "callbacks = [TrainingMonitor(figPath=figPath, jsonPath=jsonPath)]\n",
    "\n",
    "# train the network\n",
    "print('[INFO] training network.......')\n",
    "model.fit(trainx, trainy, validation_data=(testx, testy),\n",
    "          batch_size=64, epochs=100, callbacks=callbacks, verbose=1)"
   ]
  },
  {
   "cell_type": "code",
   "execution_count": null,
   "metadata": {},
   "outputs": [],
   "source": []
  }
 ],
 "metadata": {
  "kernelspec": {
   "display_name": "Python 3",
   "language": "python",
   "name": "python3"
  },
  "language_info": {
   "codemirror_mode": {
    "name": "ipython",
    "version": 3
   },
   "file_extension": ".py",
   "mimetype": "text/x-python",
   "name": "python",
   "nbconvert_exporter": "python",
   "pygments_lexer": "ipython3",
   "version": "3.6.8"
  },
  "pycharm": {
   "stem_cell": {
    "cell_type": "raw",
    "metadata": {
     "collapsed": false
    },
    "source": []
   }
  }
 },
 "nbformat": 4,
 "nbformat_minor": 1
}
