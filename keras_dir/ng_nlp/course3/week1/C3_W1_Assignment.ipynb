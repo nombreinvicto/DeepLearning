{
 "cells": [
  {
   "cell_type": "markdown",
   "metadata": {
    "colab_type": "text",
    "id": "eM2WI45DjCVp",
    "pycharm": {
     "name": "#%% md\n"
    }
   },
   "source": [
    "# Assignment 1:  Sentiment with Deep Neural Networks\n",
    "\n",
    "Welcome to the first assignment of course 3. In this assignment, you will explore sentiment analysis using deep neural networks. \n",
    "\n",
    "## Important Note on Submission to the AutoGrader\n",
    "\n",
    "Before submitting your assignment to the AutoGrader, please make sure you are not doing the following:\n",
    "\n",
    "1. You have not added any _extra_ `print` statement(s) in the assignment.\n",
    "2. You have not added any _extra_ code cell(s) in the assignment.\n",
    "3. You have not changed any of the function parameters.\n",
    "4. You are not using any global variables inside your graded exercises. Unless specifically instructed to do so, please refrain from it and use the local variables instead.\n",
    "5. You are not changing the assignment code where it is not required, like creating _extra_ variables.\n",
    "\n",
    "If you do any of the following, you will get something like, `Grader not found` (or similarly unexpected) error upon submitting your assignment. Before asking for help/debugging the errors in your assignment, check for these first. If this is the case, and you don't remember the changes you have made, you can get a fresh copy of the assignment by following these [instructions](https://www.coursera.org/learn/sequence-models-in-nlp/supplement/6ThZO/how-to-refresh-your-workspace).\n",
    "\n",
    "## Outline\n",
    "- [Part 1:  Import libraries and try out Trax](#1)\n",
    "- [Part 2:  Importing the data](#2)\n",
    "    - [2.1  Loading in the data](#2.1)\n",
    "    - [2.2  Building the vocabulary](#2.2)\n",
    "    - [2.3  Converting a tweet to a tensor](#2.3)\n",
    "        - [Exercise 01](#ex01)\n",
    "    - [2.4  Creating a batch generator](#2.4)\n",
    "        - [Exercise 02](#ex02)\n",
    "- [Part 3:  Defining classes](#3)\n",
    "    - [3.1  ReLU class](#3.1)\n",
    "        - [Exercise 03](#ex03)\n",
    "    - [3.2  Dense class ](#3.2)\n",
    "        - [Exercise 04](#ex04)\n",
    "    - [3.3  Model](#3.3)\n",
    "        - [Exercise 05](#ex05)\n",
    "- [Part 4:  Training](#4)\n",
    "    - [4.1  Training the model](#4.1)\n",
    "        - [Exercise 06](#ex06)\n",
    "    - [4.2  Practice Making a prediction](#4.2)\n",
    "- [Part 5:  Evaluation  ](#5)\n",
    "    - [5.1  Computing the accuracy on a batch](#5.1)\n",
    "        - [Exercise 07](#ex07)\n",
    "    - [5.2  Testing your model on Validation Data](#5.2)\n",
    "        - [Exercise 08](#ex08)\n",
    "- [Part 6:  Testing with your own input](#6)\n",
    "- [Part 7: Word Embeddings](#7)\n"
   ]
  },
  {
   "cell_type": "markdown",
   "metadata": {
    "colab_type": "text",
    "id": "8aeCPdILgrga",
    "pycharm": {
     "name": "#%% md\n"
    }
   },
   "source": [
    "In course 1, you implemented Logistic regression and Naive Bayes for sentiment analysis. However if you were to give your old models an example like:\n",
    "\n",
    "<center> <span style='color:blue'> <b>This movie was almost good.</b> </span> </center>\n",
    "\n",
    "Your model would have predicted a positive sentiment for that review. However, that sentence has a negative sentiment and indicates that the movie was not good. To solve those kinds of misclassifications, you will write a program that uses deep neural networks to identify sentiment in text. By completing this assignment, you will: \n",
    "\n",
    "- Understand how you can build/design a model using layers\n",
    "- Train a model using a training loop\n",
    "- Use a binary cross-entropy loss function\n",
    "- Compute the accuracy of your model\n",
    "- Predict using your own input\n",
    "\n",
    "As you can tell, this model follows a similar structure to the one you previously implemented in the second course of this specialization. \n",
    "- Indeed most of the deep nets you will be implementing will have a similar structure. The only thing that changes is the model architecture, the inputs, and the outputs. Before starting the assignment, we will introduce you to the Google library `trax` that we use for building and training models.\n",
    "\n",
    "\n",
    "Now we will show you how to compute the gradient of a certain function `f` by just using `  .grad(f)`. \n",
    "\n",
    "- Trax source code can be found on Github: [Trax](https://github.com/google/trax)\n",
    "- The Trax code also uses the JAX library: [JAX](https://jax.readthedocs.io/en/latest/index.html)"
   ]
  },
  {
   "cell_type": "markdown",
   "metadata": {
    "colab_type": "text",
    "id": "IOK4n9JEjCVs",
    "pycharm": {
     "name": "#%% md\n"
    }
   },
   "source": [
    "<a name=\"1\"></a>\n",
    "# Part 1:  Import libraries and try out Trax\n",
    "\n",
    "- Let's import libraries and look at an example of using the Trax library."
   ]
  },
  {
   "cell_type": "code",
   "execution_count": 7,
   "metadata": {
    "colab": {
     "base_uri": "https://localhost:8080/",
     "height": 493
    },
    "colab_type": "code",
    "id": "WOTfm2P0jCVt",
    "outputId": "d4903011-7268-4bea-ae35-ea3fd0b46311",
    "pycharm": {
     "name": "#%%\n"
    }
   },
   "outputs": [],
   "source": [
    "import os\n",
    "import shutil\n",
    "import random as rnd\n",
    "\n",
    "# import relevant libraries\n",
    "import trax\n",
    "import trax.fastmath.numpy as np\n",
    "from trax import layers as tl\n",
    "from trax import fastmath\n",
    "\n",
    "# import Layer from the utils.py file\n",
    "from utils import Layer, load_tweets, process_tweet\n",
    "import w1_unittest"
   ]
  },
  {
   "cell_type": "code",
   "execution_count": 8,
   "metadata": {
    "colab": {
     "base_uri": "https://localhost:8080/",
     "height": 51
    },
    "colab_type": "code",
    "id": "EyMnUt38jCVw",
    "outputId": "6981112a-3bf8-48a9-bf7d-6fc6d64150b1",
    "pycharm": {
     "name": "#%%\n"
    }
   },
   "outputs": [
    {
     "data": {
      "text/plain": "DeviceArray(5., dtype=float32)"
     },
     "metadata": {},
     "output_type": "display_data"
    },
    {
     "name": "stdout",
     "output_type": "stream",
     "text": [
      "<class 'jaxlib.xla_extension.DeviceArray'>\n"
     ]
    }
   ],
   "source": [
    "\n",
    "# Create an array using trax.fastmath.numpy\n",
    "a = np.array(5.0)\n",
    "\n",
    "# View the returned array\n",
    "display(a)\n",
    "\n",
    "print(type(a))"
   ]
  },
  {
   "cell_type": "markdown",
   "metadata": {
    "colab_type": "text",
    "id": "WtEWAFUIjCVz",
    "pycharm": {
     "name": "#%% md\n"
    }
   },
   "source": [
    "Notice that trax.fastmath.numpy returns a DeviceArray from the jax library."
   ]
  },
  {
   "cell_type": "code",
   "execution_count": 9,
   "metadata": {
    "colab": {},
    "colab_type": "code",
    "id": "J2RUtDtrjCV0",
    "pycharm": {
     "name": "#%%\n"
    }
   },
   "outputs": [],
   "source": [
    "# Define a function that will use the trax.fastmath.numpy array\n",
    "def f(x):\n",
    "    # f = x^2\n",
    "    return (x ** 2)"
   ]
  },
  {
   "cell_type": "code",
   "execution_count": 10,
   "metadata": {
    "colab": {
     "base_uri": "https://localhost:8080/",
     "height": 34
    },
    "colab_type": "code",
    "id": "qvUd-xzqjCV4",
    "outputId": "cdda13b4-b56b-4d10-e6be-abbfcb523e78",
    "pycharm": {
     "name": "#%%\n"
    }
   },
   "outputs": [
    {
     "name": "stdout",
     "output_type": "stream",
     "text": [
      "f(a) for a=5.0 is 25.0\n"
     ]
    }
   ],
   "source": [
    "# Call the function\n",
    "print(f\"f(a) for a={a} is {f(a)}\")"
   ]
  },
  {
   "cell_type": "markdown",
   "metadata": {
    "colab_type": "text",
    "id": "yGKhSeasjCV7",
    "pycharm": {
     "name": "#%% md\n"
    }
   },
   "source": [
    "The gradient (derivative) of function `f` with respect to its input `x` is the derivative of $x^2$.\n",
    "- The derivative of $x^2$ is $2x$.  \n",
    "- When x is 5, then $2x=10$.\n",
    "\n",
    "You can calculate the gradient of a function by using `trax.fastmath.grad(fun=)` and passing in the name of the function.\n",
    "- In this case the function you want to take the gradient of is `f`.\n",
    "- The object returned (saved in `grad_f` in this example) is a function that can calculate the gradient of f for a given trax.fastmath.numpy array."
   ]
  },
  {
   "cell_type": "code",
   "execution_count": 11,
   "metadata": {
    "colab": {
     "base_uri": "https://localhost:8080/",
     "height": 34
    },
    "colab_type": "code",
    "id": "2Im5Hkc9jCV8",
    "outputId": "4c963756-9b0d-46b8-b05d-a8e4de5d0740",
    "pycharm": {
     "name": "#%%\n"
    }
   },
   "outputs": [
    {
     "data": {
      "text/plain": "function"
     },
     "execution_count": 11,
     "metadata": {},
     "output_type": "execute_result"
    }
   ],
   "source": [
    "# Directly use trax.fastmath.grad to calculate the gradient (derivative) of the function\n",
    "grad_f = trax.fastmath.grad(fun=f)  # df / dx - Gradient of function f(x) with respect to x\n",
    "\n",
    "# View the type of the retuned object (it's a function)\n",
    "type(grad_f)"
   ]
  },
  {
   "cell_type": "code",
   "execution_count": 12,
   "metadata": {
    "colab": {
     "base_uri": "https://localhost:8080/",
     "height": 34
    },
    "colab_type": "code",
    "id": "0lDIVvx3jCV_",
    "outputId": "16ad5e34-f634-4d38-ccd8-96786e1d412d",
    "pycharm": {
     "name": "#%%\n"
    }
   },
   "outputs": [
    {
     "data": {
      "text/plain": "DeviceArray(10., dtype=float32)"
     },
     "metadata": {},
     "output_type": "display_data"
    }
   ],
   "source": [
    "# Call the newly created function and pass in a value for x (the DeviceArray stored in 'a')\n",
    "grad_calculation = grad_f(a)\n",
    "\n",
    "# View the result of calling the grad_f function\n",
    "display(grad_calculation)"
   ]
  },
  {
   "cell_type": "markdown",
   "metadata": {
    "colab_type": "text",
    "id": "41l3WDBkjCWD",
    "pycharm": {
     "name": "#%% md\n"
    }
   },
   "source": [
    "The function returned by trax.fastmath.grad takes in x=5 and calculates the gradient of f, which is 2*x, which is 10. The value is also stored as a DeviceArray from the jax library."
   ]
  },
  {
   "cell_type": "markdown",
   "metadata": {
    "colab_type": "text",
    "id": "CZ8RUynQsktn",
    "pycharm": {
     "name": "#%% md\n"
    }
   },
   "source": [
    "<a name=\"2\"></a>\n",
    "# Part 2:  Importing the data\n",
    "\n",
    "<a name=\"2.1\"></a>\n",
    "## 2.1  Loading in the data\n",
    "\n",
    "Import the data set.  \n",
    "- You may recognize this from earlier assignments in the specialization.\n",
    "- Details of process_tweet function are available in utils.py file"
   ]
  },
  {
   "cell_type": "code",
   "execution_count": 13,
   "metadata": {
    "colab": {
     "base_uri": "https://localhost:8080/",
     "height": 85
    },
    "colab_type": "code",
    "id": "h5ClwIOSuLJh",
    "outputId": "dee50364-c476-405f-8cdd-63d067b848d6",
    "pycharm": {
     "name": "#%%\n"
    }
   },
   "outputs": [],
   "source": [
    "## DO NOT EDIT THIS CELL\n",
    "\n",
    "# Import functions from the utils.py file\n",
    "\n",
    "def train_val_split():\n",
    "    # Load positive and negative tweets\n",
    "    all_positive_tweets, all_negative_tweets = load_tweets()\n",
    "\n",
    "    # View the total number of positive and negative tweets.\n",
    "    print(f\"The number of positive tweets: {len(all_positive_tweets)}\")\n",
    "    print(f\"The number of negative tweets: {len(all_negative_tweets)}\")\n",
    "\n",
    "    # Split positive set into validation and training\n",
    "    val_pos = all_positive_tweets[4000:]  # generating validation set for positive tweets\n",
    "    train_pos = all_positive_tweets[:4000]  # generating training set for positive tweets\n",
    "\n",
    "    # Split negative set into validation and training\n",
    "    val_neg = all_negative_tweets[4000:]  # generating validation set for negative tweets\n",
    "    train_neg = all_negative_tweets[:4000]  # generating training set for nagative tweets\n",
    "\n",
    "    # Combine training data into one set\n",
    "    train_x = train_pos + train_neg\n",
    "\n",
    "    # Combine validation data into one set\n",
    "    val_x = val_pos + val_neg\n",
    "\n",
    "    # Set the labels for the training set (1 for positive, 0 for negative)\n",
    "    train_y = np.append(np.ones(len(train_pos)), np.zeros(len(train_neg)))\n",
    "\n",
    "    # Set the labels for the validation set (1 for positive, 0 for negative)\n",
    "    val_y = np.append(np.ones(len(val_pos)), np.zeros(len(val_neg)))\n",
    "\n",
    "    return train_pos, train_neg, train_x, train_y, val_pos, val_neg, val_x, val_y"
   ]
  },
  {
   "cell_type": "code",
   "execution_count": 14,
   "metadata": {
    "pycharm": {
     "name": "#%%\n"
    }
   },
   "outputs": [
    {
     "name": "stdout",
     "output_type": "stream",
     "text": [
      "The number of positive tweets: 5000\n",
      "The number of negative tweets: 5000\n",
      "length of train_x 8000\n",
      "length of val_x 2000\n"
     ]
    }
   ],
   "source": [
    "train_pos, train_neg, train_x, train_y, val_pos, val_neg, val_x, val_y = train_val_split()\n",
    "\n",
    "print(f\"length of train_x {len(train_x)}\")\n",
    "print(f\"length of val_x {len(val_x)}\")"
   ]
  },
  {
   "cell_type": "markdown",
   "metadata": {
    "colab_type": "text",
    "id": "dNQq4LmbjCWG",
    "pycharm": {
     "name": "#%% md\n"
    }
   },
   "source": [
    "Now import a function that processes tweets (we've provided this in the utils.py file).\n",
    "- `process_tweets` removes unwanted characters e.g. hashtag, hyperlinks, stock tickers from tweet.\n",
    "- It also returns a list of words (it tokenizes the original string)."
   ]
  },
  {
   "cell_type": "code",
   "execution_count": 15,
   "metadata": {
    "colab": {
     "base_uri": "https://localhost:8080/",
     "height": 85
    },
    "colab_type": "code",
    "id": "2bRX6aPDjCWH",
    "outputId": "09497362-bf73-4d63-e99f-460027e91eb5",
    "pycharm": {
     "name": "#%%\n"
    }
   },
   "outputs": [
    {
     "name": "stdout",
     "output_type": "stream",
     "text": [
      "original tweet at training position 0\n",
      "#FollowFriday @France_Inte @PKuchly57 @Milipol_Paris for being top engaged members in my community this week :)\n",
      "Tweet at training position 0 after processing:\n"
     ]
    },
    {
     "data": {
      "text/plain": "['followfriday', 'top', 'engag', 'member', 'commun', 'week', ':)']"
     },
     "execution_count": 15,
     "metadata": {},
     "output_type": "execute_result"
    }
   ],
   "source": [
    "# Try out function that processes tweets\n",
    "print(\"original tweet at training position 0\")\n",
    "print(train_pos[0])\n",
    "\n",
    "print(\"Tweet at training position 0 after processing:\")\n",
    "process_tweet(train_pos[0])"
   ]
  },
  {
   "cell_type": "markdown",
   "metadata": {
    "colab_type": "text",
    "id": "00XdS3LOjCWK",
    "pycharm": {
     "name": "#%% md\n"
    }
   },
   "source": [
    "Notice that the function `process_tweet` keeps key words, removes the hash # symbol, and ignores usernames (words that begin with '@').  It also returns a list of the words."
   ]
  },
  {
   "cell_type": "markdown",
   "metadata": {
    "colab_type": "text",
    "id": "ac4D5WSUAVub",
    "pycharm": {
     "name": "#%% md\n"
    }
   },
   "source": [
    "<a name=\"2.2\"></a>\n",
    "## 2.2  Building the vocabulary\n",
    "\n",
    "Now build the vocabulary.\n",
    "- Map each word in each tweet to an integer (an \"index\"). \n",
    "- The following code does this for you, but please read it and understand what it's doing.\n",
    "- Note that you will build the vocabulary based on the training data. \n",
    "- To do so, you will assign an index to everyword by iterating over your training set.\n",
    "\n",
    "The vocabulary will also include some special tokens\n",
    "- `__PAD__`: padding\n",
    "- `</e>`: end of line\n",
    "- `__UNK__`: a token representing any word that is not in the vocabulary."
   ]
  },
  {
   "cell_type": "code",
   "execution_count": 16,
   "metadata": {
    "colab": {
     "base_uri": "https://localhost:8080/",
     "height": 1000
    },
    "colab_type": "code",
    "id": "rQaHKs7kAVuc",
    "outputId": "1d360f94-902d-471c-d3c3-0d69c27f5eaf",
    "pycharm": {
     "name": "#%%\n"
    }
   },
   "outputs": [
    {
     "name": "stdout",
     "output_type": "stream",
     "text": [
      "Total words in vocab are 9089\n"
     ]
    },
    {
     "data": {
      "text/plain": "{'__PAD__': 0,\n '__</e>__': 1,\n '__UNK__': 2,\n 'followfriday': 3,\n 'top': 4,\n 'engag': 5,\n 'member': 6,\n 'commun': 7,\n 'week': 8,\n ':)': 9,\n 'hey': 10,\n 'jame': 11,\n 'odd': 12,\n ':/': 13,\n 'pleas': 14,\n 'call': 15,\n 'contact': 16,\n 'centr': 17,\n '02392441234': 18,\n 'abl': 19,\n 'assist': 20,\n 'mani': 21,\n 'thank': 22,\n 'listen': 23,\n 'last': 24,\n 'night': 25,\n 'bleed': 26,\n 'amaz': 27,\n 'track': 28,\n 'scotland': 29,\n 'congrat': 30,\n 'yeaaah': 31,\n 'yipppi': 32,\n 'accnt': 33,\n 'verifi': 34,\n 'rqst': 35,\n 'succeed': 36,\n 'got': 37,\n 'blue': 38,\n 'tick': 39,\n 'mark': 40,\n 'fb': 41,\n 'profil': 42,\n '15': 43,\n 'day': 44,\n 'one': 45,\n 'irresist': 46,\n 'flipkartfashionfriday': 47,\n 'like': 48,\n 'keep': 49,\n 'love': 50,\n 'custom': 51,\n 'wait': 52,\n 'long': 53,\n 'hope': 54,\n 'enjoy': 55,\n 'happi': 56,\n 'friday': 57,\n 'lwwf': 58,\n 'second': 59,\n 'thought': 60,\n '’': 61,\n 'enough': 62,\n 'time': 63,\n 'dd': 64,\n 'new': 65,\n 'short': 66,\n 'enter': 67,\n 'system': 68,\n 'sheep': 69,\n 'must': 70,\n 'buy': 71,\n 'jgh': 72,\n 'go': 73,\n 'bayan': 74,\n ':d': 75,\n 'bye': 76,\n 'act': 77,\n 'mischiev': 78,\n 'etl': 79,\n 'layer': 80,\n 'in-hous': 81,\n 'wareh': 82,\n 'app': 83,\n 'katamari': 84,\n 'well': 85,\n '…': 86,\n 'name': 87,\n 'impli': 88,\n ':p': 89,\n 'influenc': 90,\n 'big': 91,\n '...': 92,\n 'juici': 93,\n 'selfi': 94,\n 'follow': 95,\n 'perfect': 96,\n 'alreadi': 97,\n 'know': 98,\n \"what'\": 99,\n 'great': 100,\n 'opportun': 101,\n 'junior': 102,\n 'triathlet': 103,\n 'age': 104,\n '12': 105,\n '13': 106,\n 'gatorad': 107,\n 'seri': 108,\n 'get': 109,\n 'entri': 110,\n 'lay': 111,\n 'greet': 112,\n 'card': 113,\n 'rang': 114,\n 'print': 115,\n 'today': 116,\n 'job': 117,\n ':-)': 118,\n \"friend'\": 119,\n 'lunch': 120,\n 'yummm': 121,\n 'nostalgia': 122,\n 'tb': 123,\n 'ku': 124,\n 'id': 125,\n 'conflict': 126,\n 'help': 127,\n \"here'\": 128,\n 'screenshot': 129,\n 'work': 130,\n 'hi': 131,\n 'liv': 132,\n 'hello': 133,\n 'need': 134,\n 'someth': 135,\n 'u': 136,\n 'fm': 137,\n 'twitter': 138,\n '—': 139,\n 'sure': 140,\n 'thing': 141,\n 'dm': 142,\n 'x': 143,\n \"i'v\": 144,\n 'heard': 145,\n 'four': 146,\n 'season': 147,\n 'pretti': 148,\n 'dope': 149,\n 'penthous': 150,\n 'obv': 151,\n 'gobigorgohom': 152,\n 'fun': 153,\n \"y'all\": 154,\n 'yeah': 155,\n 'suppos': 156,\n 'lol': 157,\n 'chat': 158,\n 'bit': 159,\n 'youth': 160,\n '💅🏽': 161,\n '💋': 162,\n 'seen': 163,\n 'year': 164,\n 'rest': 165,\n 'goe': 166,\n 'quickli': 167,\n 'bed': 168,\n 'music': 169,\n 'fix': 170,\n 'dream': 171,\n 'spiritu': 172,\n 'ritual': 173,\n 'festiv': 174,\n 'népal': 175,\n 'begin': 176,\n 'line-up': 177,\n 'left': 178,\n 'see': 179,\n 'sarah': 180,\n 'send': 181,\n 'us': 182,\n 'email': 183,\n 'bitsy@bitdefender.com': 184,\n \"we'll\": 185,\n 'asap': 186,\n 'kik': 187,\n 'hatessuc': 188,\n '32429': 189,\n 'kikm': 190,\n 'lgbt': 191,\n 'tinder': 192,\n 'nsfw': 193,\n 'akua': 194,\n 'cumshot': 195,\n 'come': 196,\n 'hous': 197,\n 'nsn_supplement': 198,\n 'effect': 199,\n 'press': 200,\n 'releas': 201,\n 'distribut': 202,\n 'result': 203,\n 'link': 204,\n 'remov': 205,\n 'pressreleas': 206,\n 'newsdistribut': 207,\n 'bam': 208,\n 'bestfriend': 209,\n 'lot': 210,\n 'warsaw': 211,\n '<3': 212,\n 'x46': 213,\n 'everyon': 214,\n 'watch': 215,\n 'documentari': 216,\n 'earthl': 217,\n 'youtub': 218,\n 'support': 219,\n 'buuut': 220,\n 'oh': 221,\n 'look': 222,\n 'forward': 223,\n 'visit': 224,\n 'next': 225,\n 'letsgetmessi': 226,\n 'jo': 227,\n 'make': 228,\n 'feel': 229,\n 'better': 230,\n 'never': 231,\n 'anyon': 232,\n 'kpop': 233,\n 'flesh': 234,\n 'good': 235,\n 'girl': 236,\n 'best': 237,\n 'wish': 238,\n 'reason': 239,\n 'epic': 240,\n 'soundtrack': 241,\n 'shout': 242,\n 'ad': 243,\n 'video': 244,\n 'playlist': 245,\n 'would': 246,\n 'dear': 247,\n 'jordan': 248,\n 'okay': 249,\n 'fake': 250,\n 'gameplay': 251,\n ';)': 252,\n 'haha': 253,\n 'im': 254,\n 'kid': 255,\n 'stuff': 256,\n 'exactli': 257,\n 'product': 258,\n 'line': 259,\n 'etsi': 260,\n 'shop': 261,\n 'check': 262,\n 'vacat': 263,\n 'recharg': 264,\n 'normal': 265,\n 'charger': 266,\n 'asleep': 267,\n 'talk': 268,\n 'sooo': 269,\n 'someon': 270,\n 'text': 271,\n 'ye': 272,\n 'bet': 273,\n \"he'll\": 274,\n 'fit': 275,\n 'hear': 276,\n 'speech': 277,\n 'piti': 278,\n 'green': 279,\n 'garden': 280,\n 'midnight': 281,\n 'sun': 282,\n 'beauti': 283,\n 'canal': 284,\n 'dasvidaniya': 285,\n 'till': 286,\n 'scout': 287,\n 'sg': 288,\n 'futur': 289,\n 'wlan': 290,\n 'pro': 291,\n 'confer': 292,\n 'asia': 293,\n 'chang': 294,\n 'lollipop': 295,\n '🍭': 296,\n 'nez': 297,\n 'agnezmo': 298,\n 'oley': 299,\n 'mama': 300,\n 'stand': 301,\n 'stronger': 302,\n 'god': 303,\n 'misti': 304,\n 'babi': 305,\n 'cute': 306,\n 'woohoo': 307,\n \"can't\": 308,\n 'sign': 309,\n 'yet': 310,\n 'still': 311,\n 'think': 312,\n 'mka': 313,\n 'liam': 314,\n 'access': 315,\n 'welcom': 316,\n 'stat': 317,\n 'arriv': 318,\n '1': 319,\n 'unfollow': 320,\n 'via': 321,\n 'surpris': 322,\n 'figur': 323,\n 'happybirthdayemilybett': 324,\n 'sweet': 325,\n 'talent': 326,\n '2': 327,\n 'plan': 328,\n 'drain': 329,\n 'gotta': 330,\n 'timezon': 331,\n 'parent': 332,\n 'proud': 333,\n 'least': 334,\n 'mayb': 335,\n 'sometim': 336,\n 'grade': 337,\n 'al': 338,\n 'grand': 339,\n 'manila_bro': 340,\n 'chosen': 341,\n 'let': 342,\n 'around': 343,\n '..': 344,\n 'side': 345,\n 'world': 346,\n 'eh': 347,\n 'take': 348,\n 'care': 349,\n 'final': 350,\n 'fuck': 351,\n 'weekend': 352,\n 'real': 353,\n 'x45': 354,\n 'join': 355,\n 'hushedcallwithfraydo': 356,\n 'gift': 357,\n 'yeahhh': 358,\n 'hushedpinwithsammi': 359,\n 'event': 360,\n 'might': 361,\n 'luv': 362,\n 'realli': 363,\n 'appreci': 364,\n 'share': 365,\n 'wow': 366,\n 'tom': 367,\n 'gym': 368,\n 'monday': 369,\n 'invit': 370,\n 'scope': 371,\n 'friend': 372,\n 'nude': 373,\n 'sleep': 374,\n 'birthday': 375,\n 'want': 376,\n 't-shirt': 377,\n 'cool': 378,\n 'haw': 379,\n 'phela': 380,\n 'mom': 381,\n 'obvious': 382,\n 'princ': 383,\n 'charm': 384,\n 'stage': 385,\n 'luck': 386,\n 'tyler': 387,\n 'hipster': 388,\n 'glass': 389,\n 'marti': 390,\n 'glad': 391,\n 'done': 392,\n 'afternoon': 393,\n 'read': 394,\n 'kahfi': 395,\n 'finish': 396,\n 'ohmyg': 397,\n 'yaya': 398,\n 'dub': 399,\n 'stalk': 400,\n 'ig': 401,\n 'gondooo': 402,\n 'moo': 403,\n 'tologooo': 404,\n 'becom': 405,\n 'detail': 406,\n 'zzz': 407,\n 'xx': 408,\n 'physiotherapi': 409,\n 'hashtag': 410,\n '💪': 411,\n 'monica': 412,\n 'miss': 413,\n 'sound': 414,\n 'morn': 415,\n \"that'\": 416,\n 'x43': 417,\n 'definit': 418,\n 'tri': 419,\n 'tonight': 420,\n 'took': 421,\n 'advic': 422,\n 'treviso': 423,\n 'concert': 424,\n 'citi': 425,\n 'countri': 426,\n \"i'll\": 427,\n 'start': 428,\n 'fine': 429,\n 'gorgeou': 430,\n 'xo': 431,\n 'oven': 432,\n 'roast': 433,\n 'garlic': 434,\n 'oliv': 435,\n 'oil': 436,\n 'dri': 437,\n 'tomato': 438,\n 'basil': 439,\n 'centuri': 440,\n 'tuna': 441,\n 'right': 442,\n 'back': 443,\n 'atchya': 444,\n 'even': 445,\n 'almost': 446,\n 'chanc': 447,\n 'cheer': 448,\n 'po': 449,\n 'ice': 450,\n 'cream': 451,\n 'agre': 452,\n '100': 453,\n 'heheheh': 454,\n 'that': 455,\n 'point': 456,\n 'stay': 457,\n 'home': 458,\n 'soon': 459,\n 'promis': 460,\n 'web': 461,\n 'whatsapp': 462,\n 'volta': 463,\n 'funcionar': 464,\n 'com': 465,\n 'iphon': 466,\n 'jailbroken': 467,\n 'later': 468,\n '34': 469,\n 'min': 470,\n 'leia': 471,\n 'appear': 472,\n 'hologram': 473,\n 'r2d2': 474,\n 'w': 475,\n 'messag': 476,\n 'obi': 477,\n 'wan': 478,\n 'sit': 479,\n 'luke': 480,\n 'inter': 481,\n '3': 482,\n 'ucl': 483,\n 'arsen': 484,\n 'small': 485,\n 'team': 486,\n 'pass': 487,\n '🚂': 488,\n 'dewsburi': 489,\n 'railway': 490,\n 'station': 491,\n 'dew': 492,\n 'west': 493,\n 'yorkshir': 494,\n '430': 495,\n 'smh': 496,\n '9:25': 497,\n 'live': 498,\n 'strang': 499,\n 'imagin': 500,\n 'megan': 501,\n 'masaantoday': 502,\n 'a4': 503,\n 'shweta': 504,\n 'tripathi': 505,\n '5': 506,\n '20': 507,\n 'kurta': 508,\n 'half': 509,\n 'number': 510,\n 'wsalelov': 511,\n 'ah': 512,\n 'larri': 513,\n 'anyway': 514,\n 'kinda': 515,\n 'goood': 516,\n 'life': 517,\n 'enn': 518,\n 'could': 519,\n 'warmup': 520,\n '15th': 521,\n 'bath': 522,\n 'dum': 523,\n 'andar': 524,\n 'ram': 525,\n 'sampath': 526,\n 'sona': 527,\n 'mohapatra': 528,\n 'samantha': 529,\n 'edward': 530,\n 'mein': 531,\n 'tulan': 532,\n 'razi': 533,\n 'wah': 534,\n 'josh': 535,\n 'alway': 536,\n 'smile': 537,\n 'pictur': 538,\n '16.20': 539,\n 'giveitup': 540,\n 'given': 541,\n 'ga': 542,\n 'subsidi': 543,\n 'initi': 544,\n 'propos': 545,\n 'delight': 546,\n 'yesterday': 547,\n 'x42': 548,\n 'lmaoo': 549,\n 'song': 550,\n 'ever': 551,\n 'shall': 552,\n 'littl': 553,\n 'throwback': 554,\n 'outli': 555,\n 'island': 556,\n 'cheung': 557,\n 'chau': 558,\n 'mui': 559,\n 'wo': 560,\n 'total': 561,\n 'differ': 562,\n 'kfckitchentour': 563,\n 'kitchen': 564,\n 'clean': 565,\n \"i'm\": 566,\n 'cusp': 567,\n 'test': 568,\n 'water': 569,\n 'reward': 570,\n 'arummzz': 571,\n \"let'\": 572,\n 'drive': 573,\n 'travel': 574,\n 'yogyakarta': 575,\n 'jeep': 576,\n 'indonesia': 577,\n 'instamood': 578,\n 'wanna': 579,\n 'skype': 580,\n 'may': 581,\n 'nice': 582,\n 'friendli': 583,\n 'pretend': 584,\n 'film': 585,\n 'congratul': 586,\n 'winner': 587,\n 'cheesydelight': 588,\n 'contest': 589,\n 'address': 590,\n 'guy': 591,\n 'market': 592,\n '24/7': 593,\n '14': 594,\n 'hour': 595,\n 'leav': 596,\n 'without': 597,\n 'delay': 598,\n 'actual': 599,\n 'easi': 600,\n 'guess': 601,\n 'train': 602,\n 'wd': 603,\n 'shift': 604,\n 'engin': 605,\n 'etc': 606,\n 'sunburn': 607,\n 'peel': 608,\n 'blog': 609,\n 'huge': 610,\n 'warm': 611,\n '☆': 612,\n 'complet': 613,\n 'triangl': 614,\n 'northern': 615,\n 'ireland': 616,\n 'sight': 617,\n 'smthng': 618,\n 'fr': 619,\n 'hug': 620,\n 'xoxo': 621,\n 'uu': 622,\n 'jaann': 623,\n 'topnewfollow': 624,\n 'connect': 625,\n 'wonder': 626,\n 'made': 627,\n 'fluffi': 628,\n 'insid': 629,\n 'pirouett': 630,\n 'moos': 631,\n 'trip': 632,\n 'philli': 633,\n 'decemb': 634,\n \"i'd\": 635,\n 'dude': 636,\n 'x41': 637,\n 'question': 638,\n 'flaw': 639,\n 'pain': 640,\n 'negat': 641,\n 'strength': 642,\n 'went': 643,\n 'solo': 644,\n 'move': 645,\n 'fav': 646,\n 'nirvana': 647,\n 'smell': 648,\n 'teen': 649,\n 'spirit': 650,\n 'rip': 651,\n 'ami': 652,\n 'winehous': 653,\n 'coupl': 654,\n 'tomhiddleston': 655,\n 'elizabetholsen': 656,\n 'yaytheylookgreat': 657,\n 'goodnight': 658,\n 'vid': 659,\n 'wake': 660,\n 'gonna': 661,\n 'shoot': 662,\n 'itti': 663,\n 'bitti': 664,\n 'teeni': 665,\n 'bikini': 666,\n 'much': 667,\n '4th': 668,\n 'togeth': 669,\n 'end': 670,\n 'xfile': 671,\n 'content': 672,\n 'rain': 673,\n 'fabul': 674,\n 'fantast': 675,\n '♡': 676,\n 'jb': 677,\n 'forev': 678,\n 'belieb': 679,\n 'nighti': 680,\n 'bug': 681,\n 'bite': 682,\n 'bracelet': 683,\n 'idea': 684,\n 'foundri': 685,\n 'game': 686,\n 'sens': 687,\n 'pic': 688,\n 'ef': 689,\n 'phone': 690,\n 'woot': 691,\n 'derek': 692,\n 'use': 693,\n 'parkshar': 694,\n 'gloucestershir': 695,\n 'aaaahhh': 696,\n 'man': 697,\n 'traffic': 698,\n 'stress': 699,\n 'reliev': 700,\n \"how'r\": 701,\n 'arbeloa': 702,\n 'turn': 703,\n '17': 704,\n 'omg': 705,\n 'say': 706,\n 'europ': 707,\n 'rise': 708,\n 'find': 709,\n 'hard': 710,\n 'believ': 711,\n 'uncount': 712,\n 'coz': 713,\n 'unlimit': 714,\n 'cours': 715,\n 'teamposit': 716,\n 'aldub': 717,\n '☕': 718,\n 'rita': 719,\n 'info': 720,\n \"we'd\": 721,\n 'way': 722,\n 'boy': 723,\n 'x40': 724,\n 'true': 725,\n 'sethi': 726,\n 'high': 727,\n 'exe': 728,\n 'skeem': 729,\n 'saam': 730,\n 'peopl': 731,\n 'polit': 732,\n 'izzat': 733,\n 'wese': 734,\n 'trust': 735,\n 'khawateen': 736,\n 'k': 737,\n 'sath': 738,\n 'mana': 739,\n 'kar': 740,\n 'deya': 741,\n 'sort': 742,\n 'smart': 743,\n 'hair': 744,\n 'tbh': 745,\n 'jacob': 746,\n 'g': 747,\n 'upgrad': 748,\n 'tee': 749,\n 'famili': 750,\n 'person': 751,\n 'two': 752,\n 'convers': 753,\n 'onlin': 754,\n 'mclaren': 755,\n 'fridayfeel': 756,\n 'tgif': 757,\n 'squar': 758,\n 'enix': 759,\n 'bissmillah': 760,\n 'ya': 761,\n 'allah': 762,\n \"we'r\": 763,\n 'socent': 764,\n 'startup': 765,\n 'drop': 766,\n 'your': 767,\n 'arnd': 768,\n 'town': 769,\n 'basic': 770,\n 'piss': 771,\n 'cup': 772,\n 'also': 773,\n 'terribl': 774,\n 'complic': 775,\n 'discuss': 776,\n 'snapchat': 777,\n 'lynettelow': 778,\n 'kikmenow': 779,\n 'snapm': 780,\n 'hot': 781,\n 'amazon': 782,\n 'kikmeguy': 783,\n 'defin': 784,\n 'grow': 785,\n 'sport': 786,\n 'rt': 787,\n 'rakyat': 788,\n 'write': 789,\n 'sinc': 790,\n 'mention': 791,\n 'fli': 792,\n 'fish': 793,\n 'promot': 794,\n 'post': 795,\n 'cyber': 796,\n 'ourdaughtersourprid': 797,\n 'mypapamyprid': 798,\n 'papa': 799,\n 'coach': 800,\n 'posit': 801,\n 'kha': 802,\n 'atleast': 803,\n 'x39': 804,\n 'mango': 805,\n \"lassi'\": 806,\n \"monty'\": 807,\n 'marvel': 808,\n 'though': 809,\n 'suspect': 810,\n 'meant': 811,\n '24': 812,\n 'hr': 813,\n 'touch': 814,\n 'kepler': 815,\n '452b': 816,\n 'chalna': 817,\n 'hai': 818,\n 'thankyou': 819,\n 'hazel': 820,\n 'food': 821,\n 'brooklyn': 822,\n 'pta': 823,\n 'awak': 824,\n 'okayi': 825,\n 'awww': 826,\n 'ha': 827,\n 'doc': 828,\n 'splendid': 829,\n 'spam': 830,\n 'folder': 831,\n 'amount': 832,\n 'nigeria': 833,\n 'claim': 834,\n 'rted': 835,\n 'leg': 836,\n 'hurt': 837,\n 'bad': 838,\n 'mine': 839,\n 'saturday': 840,\n 'thaaank': 841,\n 'puhon': 842,\n 'happinesss': 843,\n 'tnc': 844,\n 'prior': 845,\n 'notif': 846,\n 'fat': 847,\n 'co': 848,\n 'probabl': 849,\n 'ate': 850,\n 'yuna': 851,\n 'tamesid': 852,\n '´': 853,\n 'googl': 854,\n 'account': 855,\n 'scouser': 856,\n 'everyth': 857,\n 'zoe': 858,\n 'mate': 859,\n 'liter': 860,\n \"they'r\": 861,\n 'samee': 862,\n 'edgar': 863,\n 'updat': 864,\n 'log': 865,\n 'bring': 866,\n 'abe': 867,\n 'meet': 868,\n 'x38': 869,\n 'sigh': 870,\n 'dreamili': 871,\n 'pout': 872,\n 'eye': 873,\n 'quacketyquack': 874,\n 'funni': 875,\n 'happen': 876,\n 'phil': 877,\n 'em': 878,\n 'del': 879,\n 'rodder': 880,\n 'els': 881,\n 'play': 882,\n 'newest': 883,\n 'gamejam': 884,\n 'irish': 885,\n 'literatur': 886,\n 'inaccess': 887,\n \"kareena'\": 888,\n 'fan': 889,\n 'brain': 890,\n 'dot': 891,\n 'braindot': 892,\n 'fair': 893,\n 'rush': 894,\n 'either': 895,\n 'brandi': 896,\n '18': 897,\n 'carniv': 898,\n 'men': 899,\n 'put': 900,\n 'mask': 901,\n 'xavier': 902,\n 'forneret': 903,\n 'jennif': 904,\n 'site': 905,\n 'free': 906,\n '50.000': 907,\n '8': 908,\n 'ball': 909,\n 'pool': 910,\n 'coin': 911,\n 'edit': 912,\n 'trish': 913,\n '♥': 914,\n 'grate': 915,\n 'three': 916,\n 'comment': 917,\n 'wakeup': 918,\n 'besid': 919,\n 'dirti': 920,\n 'sex': 921,\n 'lmaooo': 922,\n '😤': 923,\n 'loui': 924,\n \"he'\": 925,\n 'throw': 926,\n 'caus': 927,\n 'inspir': 928,\n 'ff': 929,\n 'twoof': 930,\n 'gr8': 931,\n 'wkend': 932,\n 'kind': 933,\n 'exhaust': 934,\n 'word': 935,\n 'cheltenham': 936,\n 'area': 937,\n 'kale': 938,\n 'crisp': 939,\n 'ruin': 940,\n 'x37': 941,\n 'open': 942,\n 'worldwid': 943,\n 'outta': 944,\n 'sfvbeta': 945,\n 'vantast': 946,\n 'xcylin': 947,\n 'bundl': 948,\n 'show': 949,\n 'internet': 950,\n 'price': 951,\n 'realisticli': 952,\n 'pay': 953,\n 'net': 954,\n 'educ': 955,\n 'power': 956,\n 'weapon': 957,\n 'nelson': 958,\n 'mandela': 959,\n 'recent': 960,\n 'j': 961,\n 'chenab': 962,\n 'flow': 963,\n 'pakistan': 964,\n 'incredibleindia': 965,\n 'teenchoic': 966,\n 'choiceinternationalartist': 967,\n 'superjunior': 968,\n 'caught': 969,\n 'first': 970,\n 'salmon': 971,\n 'super-blend': 972,\n 'project': 973,\n 'youth@bipolaruk.org.uk': 974,\n 'awesom': 975,\n 'stream': 976,\n 'alma': 977,\n 'mater': 978,\n 'highschoolday': 979,\n 'clientvisit': 980,\n 'faith': 981,\n 'christian': 982,\n 'school': 983,\n 'lizaminnelli': 984,\n 'upcom': 985,\n 'uk': 986,\n '😄': 987,\n 'singl': 988,\n 'hill': 989,\n 'everi': 990,\n 'beat': 991,\n 'wrong': 992,\n 'readi': 993,\n 'natur': 994,\n 'pefumeri': 995,\n 'workshop': 996,\n 'neal': 997,\n 'yard': 998,\n 'covent': 999,\n ...}"
     },
     "metadata": {},
     "output_type": "display_data"
    }
   ],
   "source": [
    "# Build the vocabulary\n",
    "# Unit Test Note - There is no test set here only train/val\n",
    "def get_vocab(train_x):\n",
    "    # Include special tokens\n",
    "    # started with pad, end of line and unk tokens\n",
    "    Vocab = {'__PAD__': 0, '__</e>__': 1, '__UNK__': 2}\n",
    "\n",
    "    # Note that we build vocab using training data\n",
    "    for tweet in train_x:\n",
    "        processed_tweet = process_tweet(tweet)\n",
    "        for word in processed_tweet:\n",
    "            if word not in Vocab:\n",
    "                Vocab[word] = len(Vocab)\n",
    "\n",
    "    return Vocab\n",
    "\n",
    "\n",
    "Vocab = get_vocab(train_x)\n",
    "\n",
    "print(\"Total words in vocab are\", len(Vocab))\n",
    "display(Vocab)"
   ]
  },
  {
   "cell_type": "markdown",
   "metadata": {
    "colab_type": "text",
    "id": "gP6K9qcCAVue",
    "pycharm": {
     "name": "#%% md\n"
    }
   },
   "source": [
    "The dictionary `Vocab` will look like this:\n",
    "```CPP\n",
    "{'__PAD__': 0,\n",
    " '__</e>__': 1,\n",
    " '__UNK__': 2,\n",
    " 'followfriday': 3,\n",
    " 'top': 4,\n",
    " 'engag': 5,\n",
    " ...\n",
    "```\n",
    "\n",
    "- Each unique word has a unique integer associated with it.\n",
    "- The total number of words in Vocab: 9088"
   ]
  },
  {
   "cell_type": "markdown",
   "metadata": {
    "colab_type": "text",
    "id": "0x8pND8tAVuf",
    "pycharm": {
     "name": "#%% md\n"
    }
   },
   "source": [
    "<a name=\"2.3\"></a>\n",
    "## 2.3  Converting a tweet to a tensor\n",
    "\n",
    "Write a function that will convert each tweet to a tensor (a list of unique integer IDs representing the processed tweet).\n",
    "- Note, the returned data type will be a **regular Python `list()`**\n",
    "    - You won't use TensorFlow in this function\n",
    "    - You also won't use a numpy array\n",
    "    - You also won't use trax.fastmath.numpy array\n",
    "- For words in the tweet that are not in the vocabulary, set them to the unique ID for the token `__UNK__`.\n",
    "\n",
    "##### Example\n",
    "Input a tweet:\n",
    "```CPP\n",
    "'@happypuppy, is Maria happy?'\n",
    "```\n",
    "\n",
    "The tweet_to_tensor will first conver the tweet into a list of tokens (including only relevant words)\n",
    "```CPP\n",
    "['maria', 'happi']\n",
    "```\n",
    "\n",
    "Then it will convert each word into its unique integer\n",
    "\n",
    "```CPP\n",
    "[2, 56]\n",
    "```\n",
    "- Notice that the word \"maria\" is not in the vocabulary, so it is assigned the unique integer associated with the `__UNK__` token, because it is considered \"unknown.\"\n",
    "\n"
   ]
  },
  {
   "cell_type": "markdown",
   "metadata": {
    "colab_type": "text",
    "id": "QtQhtv0kjCWQ",
    "pycharm": {
     "name": "#%% md\n"
    }
   },
   "source": [
    "<a name=\"ex01\"></a>\n",
    "### Exercise 01\n",
    "**Instructions:** Write a program `tweet_to_tensor` that takes in a tweet and converts it to an array of numbers. You can use the `Vocab` dictionary you just found to help create the tensor. \n",
    "\n",
    "- Use the vocab_dict parameter and not a global variable.\n",
    "- Do not hard code the integer value for the `__UNK__` token."
   ]
  },
  {
   "cell_type": "markdown",
   "metadata": {
    "colab_type": "text",
    "id": "sKSx1SBYjCWR",
    "pycharm": {
     "name": "#%% md\n"
    }
   },
   "source": [
    "<details>    \n",
    "<summary>\n",
    "    <font size=\"3\" color=\"darkgreen\"><b>Hints</b></font>\n",
    "</summary>\n",
    "<p>\n",
    "<ul>\n",
    "    <li>Map each word in tweet to corresponding token in 'Vocab'</li>\n",
    "    <li>Use Python's Dictionary.get(key,value) so that the function returns a default value if the key is not found in the dictionary.</li>\n",
    "</ul>\n",
    "</p>\n"
   ]
  },
  {
   "cell_type": "code",
   "execution_count": 17,
   "metadata": {
    "colab": {},
    "colab_type": "code",
    "id": "Ft1zNGMaAVuf",
    "pycharm": {
     "name": "#%%\n"
    }
   },
   "outputs": [],
   "source": [
    "# CANDIDATE FOR TABLE TEST - If a student forgets to check for unk, there might be errors or just wrong values in the list.\n",
    "# We can add those errors to check in autograder through tabled test or here student facing user test.\n",
    "\n",
    "# UNQ_C1 (UNIQUE CELL IDENTIFIER, DO NOT EDIT) \n",
    "# GRADED FUNCTION: tweet_to_tensor\n",
    "def tweet_to_tensor(tweet, vocab_dict, unk_token='__UNK__', verbose=False):\n",
    "    '''\n",
    "    Input: \n",
    "        tweet - A string containing a tweet\n",
    "        vocab_dict - The words dictionary\n",
    "        unk_token - The special string for unknown tokens\n",
    "        verbose - Print info durign runtime\n",
    "    Output:\n",
    "        tensor_l - A python list with\n",
    "        \n",
    "    '''\n",
    "    ### START CODE HERE (Replace instances of 'None' with your code) ###\n",
    "    # Process the tweet into a list of words\n",
    "    # where only important words are kept (stop words removed)\n",
    "    word_l = process_tweet(tweet)\n",
    "\n",
    "    if verbose:\n",
    "        print(\"List of words from the processed tweet:\")\n",
    "        print(word_l)\n",
    "\n",
    "    # Initialize the list that will contain the unique integer IDs of each word\n",
    "    tensor_l = []\n",
    "\n",
    "    # Get the unique integer ID of the __UNK__ token\n",
    "    unk_ID = vocab_dict.get(unk_token)\n",
    "\n",
    "    if verbose:\n",
    "        print(f\"The unique integer ID for the unk_token is {unk_ID}\")\n",
    "\n",
    "    # for each word in the list:\n",
    "    for word in word_l:\n",
    "        # Get the unique integer ID.\n",
    "        # If the word doesn't exist in the vocab dictionary,\n",
    "        # use the unique ID for __UNK__ instead.        \n",
    "        word_ID = vocab_dict.get(word, unk_ID)\n",
    "\n",
    "        # Append the unique integer ID to the tensor list.\n",
    "        tensor_l.append(word_ID)\n",
    "    ### END CODE HERE ###\n",
    "    return tensor_l"
   ]
  },
  {
   "cell_type": "code",
   "execution_count": 18,
   "metadata": {
    "colab": {
     "base_uri": "https://localhost:8080/",
     "height": 136
    },
    "colab_type": "code",
    "id": "ze0Zx_5UjCWU",
    "outputId": "a9427907-b364-4c5f-fed5-bd2502e18bab",
    "pycharm": {
     "name": "#%%\n"
    }
   },
   "outputs": [
    {
     "name": "stdout",
     "output_type": "stream",
     "text": [
      "Actual tweet is\n",
      " Bro:U wan cut hair anot,ur hair long Liao bo\n",
      "Me:since ord liao,take it easy lor treat as save $ leave it longer :)\n",
      "Bro:LOL Sibei xialan\n",
      "\n",
      "Tensor of tweet:\n",
      " [1064, 136, 478, 2351, 744, 8149, 1122, 744, 53, 2, 2671, 790, 2, 2, 348, 600, 2, 3488, 1016, 596, 4558, 9, 1064, 157, 2, 2]\n"
     ]
    }
   ],
   "source": [
    "print(\"Actual tweet is\\n\", val_pos[0])\n",
    "print(\"\\nTensor of tweet:\\n\", tweet_to_tensor(val_pos[0], vocab_dict=Vocab))"
   ]
  },
  {
   "cell_type": "markdown",
   "metadata": {
    "colab_type": "text",
    "id": "s0MbWVeijCWW",
    "pycharm": {
     "name": "#%% md\n"
    }
   },
   "source": [
    "##### Expected output\n",
    "\n",
    "```CPP\n",
    "Actual tweet is\n",
    " Bro:U wan cut hair anot,ur hair long Liao bo\n",
    "Me:since ord liao,take it easy lor treat as save $ leave it longer :)\n",
    "Bro:LOL Sibei xialan\n",
    "\n",
    "Tensor of tweet:\n",
    " [1065, 136, 479, 2351, 745, 8148, 1123, 745, 53, 2, 2672, 791, 2, 2, 349, 601, 2, 3489, 1017, 597, 4559, 9, 1065, 157, 2, 2]\n",
    "```"
   ]
  },
  {
   "cell_type": "code",
   "execution_count": 19,
   "metadata": {
    "pycharm": {
     "name": "#%%\n"
    }
   },
   "outputs": [
    {
     "name": "stdout",
     "output_type": "stream",
     "text": [
      "Output does not match with expected values. Maybe you can check the value you are using for unk_token variable. Also, try to avoid using the global dictionary Vocab.\n",
      " Expected: [444, 2, 304, 567, 56, 9].\n",
      " Got: [443, 2, 303, 566, 56, 9].\n",
      "Output does not match with expected values. Maybe you can check the value you are using for unk_token variable. Also, try to avoid using the global dictionary Vocab.\n",
      " Expected: [444, 3, 304, 567, 56, 9].\n",
      " Got: [443, 3, 303, 566, 56, 9].\n",
      "Output does not match with expected values. Maybe you can check the value you are using for unk_token variable. Also, try to avoid using the global dictionary Vocab.\n",
      " Expected: [60, 2992, 2, 22, 236, 1292, 45, 1354, 118].\n",
      " Got: [60, 2991, 2, 22, 235, 1291, 45, 1353, 118].\n",
      "Output does not match with expected values. Maybe you can check the value you are using for unk_token variable. Also, try to avoid using the global dictionary Vocab.\n",
      " Expected: [-1, -10, 2, -22, 236, 1292, 45, -4531, 118].\n",
      " Got: [-1, -10, 2, -22, 235, 1291, 45, -4531, 118].\n",
      "\u001B[92m 4  Tests passed\n",
      "\u001B[91m 4  Tests failed\n"
     ]
    }
   ],
   "source": [
    "# Test your function\n",
    "w1_unittest.test_tweet_to_tensor(tweet_to_tensor, Vocab)"
   ]
  },
  {
   "cell_type": "markdown",
   "metadata": {
    "colab_type": "text",
    "id": "rwAZZIYYAVuj",
    "pycharm": {
     "name": "#%% md\n"
    }
   },
   "source": [
    "<a name=\"2.4\"></a>\n",
    "## 2.4  Creating a batch generator\n",
    "\n",
    "Most of the time in Natural Language Processing, and AI in general we use batches when training our data sets. \n",
    "- If instead of training with batches of examples, you were to train a model with one example at a time, it would take a very long time to train the model. \n",
    "- You will now build a data generator that takes in the positive/negative tweets and returns a batch of training examples. It returns the model inputs, the targets (positive or negative labels) and the weight for each target (ex: this allows us to can treat some examples as more important to get right than others, but commonly this will all be 1.0). \n",
    "\n",
    "Once you create the generator, you could include it in a for loop\n",
    "\n",
    "```CPP\n",
    "for batch_inputs, batch_targets, batch_example_weights in data_generator:\n",
    "    ...\n",
    "```\n",
    "\n",
    "You can also get a single batch like this:\n",
    "\n",
    "```CPP\n",
    "batch_inputs, batch_targets, batch_example_weights = next(data_generator)\n",
    "```\n",
    "The generator returns the next batch each time it's called. \n",
    "- This generator returns the data in a format (tensors) that you could directly use in your model.\n",
    "- It returns a triplet: the inputs, targets, and loss weights:\n",
    "    - Inputs is a tensor that contains the batch of tweets we put into the model.\n",
    "    - Targets is the corresponding batch of labels that we train to generate.\n",
    "    - Loss weights here are just 1s with same shape as targets. Next week, you will use it to mask input padding."
   ]
  },
  {
   "cell_type": "markdown",
   "metadata": {
    "colab_type": "text",
    "id": "sR-sF_o0jCWa",
    "pycharm": {
     "name": "#%% md\n"
    }
   },
   "source": [
    "<a name=\"ex02\"></a>\n",
    "### Exercise 02\n",
    "Implement `data_generator`."
   ]
  },
  {
   "cell_type": "code",
   "execution_count": null,
   "metadata": {
    "colab": {},
    "colab_type": "code",
    "id": "fPd9HNT7AVuk",
    "pycharm": {
     "name": "#%%\n"
    }
   },
   "outputs": [],
   "source": [
    "# UNQ_C2 (UNIQUE CELL IDENTIFIER, DO NOT EDIT)\n",
    "# GRADED: Data generator\n",
    "def data_generator(data_pos, data_neg, batch_size, loop, vocab_dict, shuffle=False):\n",
    "    '''\n",
    "    Input: \n",
    "        data_pos - Set of positive examples\n",
    "        data_neg - Set of negative examples\n",
    "        batch_size - number of samples per batch. Must be even\n",
    "        loop - True or False\n",
    "        vocab_dict - The words dictionary\n",
    "        shuffle - Shuffle the data order\n",
    "    Yield:\n",
    "        inputs - Subset of positive and negative examples\n",
    "        targets - The corresponding labels for the subset\n",
    "        example_weights - An array specifying the importance of each example\n",
    "        \n",
    "    '''\n",
    "\n",
    "    # make sure the batch size is an even number\n",
    "    # to allow an equal number of positive and negative samples    \n",
    "    assert batch_size % 2 == 0\n",
    "\n",
    "    # Number of positive examples in each batch is half of the batch size\n",
    "    # same with number of negative examples in each batch\n",
    "    n_to_take = batch_size // 2\n",
    "\n",
    "    # Use pos_index to walk through the data_pos array\n",
    "    # same with neg_index and data_neg\n",
    "    pos_index = 0\n",
    "    neg_index = 0\n",
    "\n",
    "    len_data_pos = len(data_pos)\n",
    "    len_data_neg = len(data_neg)\n",
    "\n",
    "    # Get and array with the data indexes\n",
    "    pos_index_lines = list(range(len_data_pos))\n",
    "    neg_index_lines = list(range(len_data_neg))\n",
    "\n",
    "    # shuffle lines if shuffle is set to True\n",
    "    if shuffle:\n",
    "        rnd.shuffle(pos_index_lines)\n",
    "        rnd.shuffle(neg_index_lines)\n",
    "\n",
    "    stop = False\n",
    "\n",
    "    # Loop indefinitely\n",
    "    while not stop:\n",
    "        # create a batch with positive and negative examples\n",
    "        batch = []\n",
    "\n",
    "        # First part: Pack n_to_take positive examples\n",
    "        # Start from pos_index and increment i up to n_to_take\n",
    "        for i in range(n_to_take):\n",
    "            # If the positive index goes past the positive dataset,\n",
    "            if pos_index >= len_data_pos:\n",
    "                # If loop is set to False, break once we reach the end of the dataset\n",
    "                if not loop:\n",
    "                    stop = True;\n",
    "                    break;\n",
    "                # If user wants to keep re-using the data, reset the index\n",
    "                pos_index = 0\n",
    "                if shuffle:\n",
    "                    # Shuffle the index of the positive sample\n",
    "                    rnd.shuffle(pos_index_lines)\n",
    "\n",
    "            # get the tweet as pos_index\n",
    "            tweet = data_pos[pos_index_lines[pos_index]]\n",
    "\n",
    "            # convert the tweet into tensors of integers representing the processed words\n",
    "            tensor = tweet_to_tensor(tweet, vocab_dict)\n",
    "\n",
    "            # append the tensor to the batch list\n",
    "            batch.append(tensor)\n",
    "\n",
    "            # Increment pos_index by one\n",
    "            pos_index = pos_index + 1\n",
    "\n",
    "        ### START CODE HERE (Replace instances of 'None' with your code) ###\n",
    "        # Second part: Pack n_to_take negative examples\n",
    "        # Using the same batch list, start from neg_index and increment i up to n_to_take\n",
    "        for i in range(None):\n",
    "            # If the negative index goes past the negative dataset,\n",
    "            if None\n",
    "\n",
    "                # If loop is set to False, break once we reach the end of the dataset\n",
    "                if not loop:\n",
    "                    stop = True\n",
    "                    break\n",
    "                    # If user wants to keep re-using the data, reset the index\n",
    "                neg_index = None\n",
    "\n",
    "                if shuffle:\n",
    "                    # Shuffle the index of the negative sample\n",
    "                    rnd.shuffle(neg_index_lines)\n",
    "\n",
    "            # get the tweet as neg_index\n",
    "            tweet = None\n",
    "\n",
    "            # convert the tweet into tensors of integers representing the processed words\n",
    "            tensor = None\n",
    "\n",
    "            # append the tensor to the batch list\n",
    "            None\n",
    "\n",
    "            # Increment neg_index by one\n",
    "            neg_index = None\n",
    "\n",
    "        ### END CODE HERE ###        \n",
    "        if stop:\n",
    "            break;\n",
    "\n",
    "        # Get the max tweet length (the length of the longest tweet) \n",
    "        # (you will pad all shorter tweets to have this length)\n",
    "        max_len = max([len(t) for t in batch])\n",
    "\n",
    "        # Initialize the input_l, which will \n",
    "        # store the padded versions of the tensors\n",
    "        tensor_pad_l = []\n",
    "        # Pad shorter tweets with zeros\n",
    "        for tensor in batch:\n",
    "            ### START CODE HERE (Replace instances of 'None' with your code) ###\n",
    "            # Get the number of positions to pad for this tensor so that it will be max_len long\n",
    "            n_pad = None\n",
    "\n",
    "            # Generate a list of zeros, with length n_pad\n",
    "            pad_l = None\n",
    "\n",
    "            # concatenate the tensor and the list of padded zeros\n",
    "            tensor_pad = None\n",
    "\n",
    "            # append the padded tensor to the list of padded tensors\n",
    "            None\n",
    "\n",
    "        # convert the list of padded tensors to a numpy array\n",
    "        # and store this as the model inputs\n",
    "        inputs = None\n",
    "\n",
    "        # Generate the list of targets for the positive examples (a list of ones)\n",
    "        # The length is the number of positive examples in the batch\n",
    "        target_pos = None\n",
    "\n",
    "        # Generate the list of targets for the negative examples (a list of zeros)\n",
    "        # The length is the number of negative examples in the batch\n",
    "        target_neg = None\n",
    "\n",
    "        # Concatenate the positve and negative targets\n",
    "        target_l = None\n",
    "\n",
    "        # Convert the target list into a numpy array\n",
    "        targets = None\n",
    "\n",
    "        # Example weights: Treat all examples equally importantly.\n",
    "        example_weights = None\n",
    "\n",
    "        ### END CODE HERE ###\n",
    "        # note we use yield and not return\n",
    "        yield inputs, targets, example_weights"
   ]
  },
  {
   "cell_type": "markdown",
   "metadata": {
    "colab_type": "text",
    "id": "kI9gEdqpjCWd",
    "pycharm": {
     "name": "#%% md\n"
    }
   },
   "source": [
    "Now you can use your data generator to create a data generator for the training data, and another data generator for the validation data.\n",
    "\n",
    "We will create a third data generator that does not loop, for testing the final accuracy of the model."
   ]
  },
  {
   "cell_type": "code",
   "execution_count": null,
   "metadata": {
    "colab": {
     "base_uri": "https://localhost:8080/",
     "height": 119
    },
    "colab_type": "code",
    "id": "iIwM4YHtAVum",
    "outputId": "d25aa4ae-bad3-41f5-963c-0a091f8fb108",
    "pycharm": {
     "name": "#%%\n"
    }
   },
   "outputs": [],
   "source": [
    "# Set the random number generator for the shuffle procedure\n",
    "rnd.seed(30)\n",
    "\n",
    "\n",
    "# Create the training data generator\n",
    "\n",
    "def train_generator(batch_size, train_pos\n",
    "                    , train_neg, vocab_dict, loop=True\n",
    "                    , shuffle=False):\n",
    "    return data_generator(train_pos, train_neg, batch_size, loop, vocab_dict, shuffle)\n",
    "\n",
    "\n",
    "# Create the validation data generator\n",
    "def val_generator(batch_size, val_pos\n",
    "                  , val_neg, vocab_dict, loop=True\n",
    "                  , shuffle=False):\n",
    "    return data_generator(val_pos, val_neg, batch_size, loop, vocab_dict, shuffle)\n",
    "\n",
    "\n",
    "# Create the validation data generator\n",
    "def test_generator(batch_size, val_pos\n",
    "                   , val_neg, vocab_dict, loop=False\n",
    "                   , shuffle=False):\n",
    "    return data_generator(val_pos, val_neg, batch_size, loop, vocab_dict, shuffle)\n",
    "\n",
    "\n",
    "# Get a batch from the train_generator and inspect.\n",
    "inputs, targets, example_weights = next(train_generator(4, train_pos, train_neg, Vocab, shuffle=True))\n",
    "\n",
    "# this will print a list of 4 tensors padded with zeros\n",
    "print(f'Inputs: {inputs}')\n",
    "print(f'Targets: {targets}')\n",
    "print(f'Example Weights: {example_weights}')"
   ]
  },
  {
   "cell_type": "code",
   "execution_count": null,
   "metadata": {
    "colab": {
     "base_uri": "https://localhost:8080/",
     "height": 102
    },
    "colab_type": "code",
    "id": "mcDOyrx9jCWh",
    "outputId": "1adae96d-fb14-4cc6-d39e-7e4d9517c239",
    "pycharm": {
     "name": "#%%\n"
    }
   },
   "outputs": [],
   "source": [
    "# Test the train_generator\n",
    "\n",
    "# Create a data generator for training data,\n",
    "# which produces batches of size 4 (for tensors and their respective targets)\n",
    "tmp_data_gen = train_generator(batch_size=4, train_pos=train_pos, train_neg=train_neg, vocab_dict=Vocab)\n",
    "\n",
    "# Call the data generator to get one batch and its targets\n",
    "tmp_inputs, tmp_targets, tmp_example_weights = next(tmp_data_gen)\n",
    "\n",
    "print(f\"The inputs shape is {tmp_inputs.shape}\")\n",
    "for i, t in enumerate(tmp_inputs):\n",
    "    print(f\"input tensor: {t}; target {tmp_targets[i]}; example weights {tmp_example_weights[i]}\")"
   ]
  },
  {
   "cell_type": "markdown",
   "metadata": {
    "colab_type": "text",
    "id": "cCTl7w1kjCWj",
    "pycharm": {
     "name": "#%% md\n"
    }
   },
   "source": [
    "##### Expected output\n",
    "\n",
    "```CPP\n",
    "The inputs shape is (4, 14)\n",
    "input tensor: [3 4 5 6 7 8 9 0 0 0 0 0 0 0]; target 1; example weights 1\n",
    "input tensor: [10 11 12 13 14 15 16 17 18 19 20  9 21 22]; target 1; example weights 1\n",
    "input tensor: [5738 2901 3761    0    0    0    0    0    0    0    0    0    0    0]; target 0; example weights 1\n",
    "input tensor: [ 858  256 3652 5739  307 4458  567 1230 2767  328 1202 3761    0    0]; target 0; example weights 1\n",
    "```"
   ]
  },
  {
   "cell_type": "code",
   "execution_count": null,
   "metadata": {
    "pycharm": {
     "name": "#%%\n"
    }
   },
   "outputs": [],
   "source": [
    "# Test your function\n",
    "w1_unittest.test_data_generator(data_generator(data_pos=train_pos, data_neg=train_neg, batch_size=4, loop=True, vocab_dict=Vocab, shuffle=False))"
   ]
  },
  {
   "cell_type": "markdown",
   "metadata": {
    "colab_type": "text",
    "id": "J3HrgcJmAVup",
    "pycharm": {
     "name": "#%% md\n"
    }
   },
   "source": [
    "Now that you have your train/val generators, you can just call them and they will return tensors which correspond to your tweets in the first column and their corresponding labels in the second column. Now you can go ahead and start building your neural network. "
   ]
  },
  {
   "cell_type": "markdown",
   "metadata": {
    "colab_type": "text",
    "id": "X591GrH_stXq",
    "pycharm": {
     "name": "#%% md\n"
    }
   },
   "source": [
    "<a name=\"3\"></a>\n",
    "# Part 3:  Defining classes\n",
    "\n",
    "In this part, you will write your own library of layers. It will be very similar\n",
    "to the one used in Trax and also in Keras and PyTorch. Writing your own small\n",
    "framework will help you understand how they all work and use them effectively\n",
    "in the future.\n",
    "\n",
    "Your framework will be based on the following `Layer` class from utils.py.\n",
    "\n",
    "```CPP\n",
    "class Layer(object):\n",
    "    \"\"\" Base class for layers.\n",
    "    \"\"\"\n",
    "      \n",
    "    # Constructor\n",
    "    def __init__(self):\n",
    "        # set weights to None\n",
    "        self.weights = None\n",
    "\n",
    "    # The forward propagation should be implemented\n",
    "    # by subclasses of this Layer class\n",
    "    def forward(self, x):\n",
    "        raise NotImplementedError\n",
    "\n",
    "    # This function initializes the weights\n",
    "    # based on the input signature and random key,\n",
    "    # should be implemented by subclasses of this Layer class\n",
    "    def init_weights_and_state(self, input_signature, random_key):\n",
    "        pass\n",
    "\n",
    "    # This initializes and returns the weights, do not override.\n",
    "    def init(self, input_signature, random_key):\n",
    "        self.init_weights_and_state(input_signature, random_key)\n",
    "        return self.weights\n",
    " \n",
    "    # __call__ allows an object of this class\n",
    "    # to be called like it's a function.\n",
    "    def __call__(self, x):\n",
    "        # When this layer object is called, \n",
    "        # it calls its forward propagation function\n",
    "        return self.forward(x)\n",
    "```"
   ]
  },
  {
   "cell_type": "markdown",
   "metadata": {
    "colab_type": "text",
    "id": "TcWUXFaPzS-m",
    "pycharm": {
     "name": "#%% md\n"
    }
   },
   "source": [
    "<a name=\"3.1\"></a>\n",
    "## 3.1  ReLU class\n",
    "You will now implement the ReLU activation function in a class below. The ReLU function looks as follows: \n",
    "<img src = \"images/relu.jpg\" style=\"width:300px;height:150px;\"/>\n",
    "\n",
    "$$ \\mathrm{ReLU}(x) = \\mathrm{max}(0,x) $$\n"
   ]
  },
  {
   "cell_type": "markdown",
   "metadata": {
    "colab_type": "text",
    "id": "KVVRVuhjjCWl",
    "pycharm": {
     "name": "#%% md\n"
    }
   },
   "source": [
    "<a name=\"ex03\"></a>\n",
    "### Exercise 03\n",
    "**Instructions:** Implement the ReLU activation function below. Your function should take in a matrix or vector and it should transform all the negative numbers into 0 while keeping all the positive numbers intact. "
   ]
  },
  {
   "cell_type": "markdown",
   "metadata": {
    "colab_type": "text",
    "id": "dPH_EVcHjCWl",
    "pycharm": {
     "name": "#%% md\n"
    }
   },
   "source": [
    "<details>    \n",
    "<summary>\n",
    "    <font size=\"3\" color=\"darkgreen\"><b>Hints</b></font>\n",
    "</summary>\n",
    "<p>\n",
    "<ul>\n",
    "    <li>Please use numpy.maximum(A,k) to find the maximum between each element in A and a scalar k</li>\n",
    "</ul>\n",
    "</p>\n"
   ]
  },
  {
   "cell_type": "code",
   "execution_count": null,
   "metadata": {
    "colab": {},
    "colab_type": "code",
    "id": "VGE5zZ5mzF9x",
    "pycharm": {
     "name": "#%%\n"
    }
   },
   "outputs": [],
   "source": [
    "# UNQ_C3 (UNIQUE CELL IDENTIFIER, DO NOT EDIT)\n",
    "# GRADED FUNCTION: Relu\n",
    "class Relu(Layer):\n",
    "    \"\"\"Relu activation function implementation\"\"\"\n",
    "\n",
    "    def forward(self, x):\n",
    "        '''\n",
    "        Input: \n",
    "            - x (a numpy array): the input\n",
    "        Output:\n",
    "            - activation (numpy array): all positive or 0 version of x\n",
    "        '''\n",
    "        ### START CODE HERE (Replace instances of 'None' with your code) ###\n",
    "        activation = None\n",
    "\n",
    "        ### END CODE HERE ###\n",
    "        return activation"
   ]
  },
  {
   "cell_type": "code",
   "execution_count": null,
   "metadata": {
    "colab": {
     "base_uri": "https://localhost:8080/",
     "height": 119
    },
    "colab_type": "code",
    "id": "hVQ3YtoZ1uYP",
    "outputId": "6565529b-abe1-4b01-f5a8-36f8c7d0d903",
    "pycharm": {
     "name": "#%%\n"
    }
   },
   "outputs": [],
   "source": [
    "# Test your relu function\n",
    "x = np.array([[-2.0, -1.0, 0.0], [0.0, 1.0, 2.0]], dtype=float)\n",
    "relu_layer = Relu()\n",
    "print(\"Test data is:\")\n",
    "print(x)\n",
    "print(\"Output of Relu is:\")\n",
    "print(relu_layer(x))"
   ]
  },
  {
   "cell_type": "markdown",
   "metadata": {
    "colab_type": "text",
    "id": "niL6mIuBAVuu",
    "pycharm": {
     "name": "#%% md\n"
    }
   },
   "source": [
    "##### Expected Outout\n",
    "```CPP\n",
    "Test data is:\n",
    "[[-2. -1.  0.]\n",
    " [ 0.  1.  2.]]\n",
    "Output of Relu is:\n",
    "[[0. 0. 0.]\n",
    " [0. 1. 2.]]\n",
    "```"
   ]
  },
  {
   "cell_type": "code",
   "execution_count": null,
   "metadata": {
    "pycharm": {
     "name": "#%%\n"
    }
   },
   "outputs": [],
   "source": [
    "w1_unittest.test_Relu(Relu)"
   ]
  },
  {
   "cell_type": "markdown",
   "metadata": {
    "colab_type": "text",
    "id": "XepjDxCQ1G8p",
    "pycharm": {
     "name": "#%% md\n"
    }
   },
   "source": [
    "<a name=\"3.2\"></a>\n",
    "## 3.2  Dense class \n",
    "\n",
    "### Exercise\n",
    "\n",
    "Implement the forward function of the Dense class. \n",
    "- The forward function multiplies the input to the layer (`x`) by the weight matrix (`W`)\n",
    "\n",
    "$$\\mathrm{forward}(\\mathbf{x},\\mathbf{W}) = \\mathbf{xW} $$\n",
    "\n",
    "- You can use `numpy.dot` to perform the matrix multiplication.\n",
    "\n",
    "Note that for more efficient code execution, you will use the trax version of `math`, which includes a trax version of `numpy` and also `random`.\n",
    "\n",
    "Implement the weight initializer `new_weights` function\n",
    "- Weights are initialized with a random key.\n",
    "- The second parameter is a tuple for the desired shape of the weights (num_rows, num_cols)\n",
    "- The num of rows for weights should equal the number of columns in x, because for forward propagation, you will multiply x times weights.\n",
    "\n",
    "Please use `trax.fastmath.random.normal(key, shape, dtype=tf.float32)` to generate random values for the weight matrix. The key difference between this function\n",
    "and the standard `numpy` randomness is the explicit use of random keys, which\n",
    "need to be passed. While it can look tedious at the first sight to pass the random key everywhere, you will learn in Course 4 why this is very helpful when\n",
    "implementing some advanced models.\n",
    "- `key` can be generated by calling `random.get_prng(seed=)` and passing in a number for the `seed`.\n",
    "- `shape` is a tuple with the desired shape of the weight matrix.\n",
    "    - The number of rows in the weight matrix should equal the number of columns in the variable `x`.  Since `x` may have 2 dimensions if it represents a single training example (row, col), or three dimensions (batch_size, row, col), get the last dimension from the tuple that holds the dimensions of x.\n",
    "    - The number of columns in the weight matrix is the number of units chosen for that dense layer.  Look at the `__init__` function to see which variable stores the number of units.\n",
    "- `dtype` is the data type of the values in the generated matrix; keep the default of `tf.float32`. In this case, don't explicitly set the dtype (just let it use the default value).\n",
    "\n",
    "Set the standard deviation of the random values to 0.1\n",
    "- The values generated have a mean of 0 and standard deviation of 1.\n",
    "- Set the default standard deviation `stdev` to be 0.1 by multiplying the standard deviation to each of the values in the weight matrix."
   ]
  },
  {
   "cell_type": "code",
   "execution_count": null,
   "metadata": {
    "colab": {
     "base_uri": "https://localhost:8080/",
     "height": 136
    },
    "colab_type": "code",
    "id": "6reTe6asjCWt",
    "outputId": "94480024-f9ec-43d2-f657-f523c9c78504",
    "pycharm": {
     "name": "#%%\n"
    }
   },
   "outputs": [],
   "source": [
    "# See how the trax.fastmath.random.normal function works\n",
    "tmp_key = trax.fastmath.random.get_prng(seed=1)\n",
    "print(\"The random seed generated by random.get_prng\")\n",
    "display(tmp_key)\n",
    "\n",
    "print(\"choose a matrix with 2 rows and 3 columns\")\n",
    "tmp_shape = (2, 3)\n",
    "display(tmp_shape)\n",
    "\n",
    "# Generate a weight matrix\n",
    "# Note that you'll get an error if you try to set dtype to tf.float32, where tf is tensorflow\n",
    "# Just avoid setting the dtype and allow it to use the default data type\n",
    "tmp_weight = trax.fastmath.random.normal(key=tmp_key, shape=tmp_shape)\n",
    "\n",
    "print(\"Weight matrix generated with a normal distribution with mean 0 and stdev of 1\")\n",
    "display(tmp_weight)"
   ]
  },
  {
   "cell_type": "markdown",
   "metadata": {
    "colab_type": "text",
    "id": "IpiJ87L9jCWw",
    "pycharm": {
     "name": "#%% md\n"
    }
   },
   "source": [
    "<a name=\"ex04\"></a>\n",
    "### Exercise 04\n",
    "\n",
    "Implement the `Dense` class."
   ]
  },
  {
   "cell_type": "code",
   "execution_count": null,
   "metadata": {
    "colab": {},
    "colab_type": "code",
    "id": "783FfWt70660",
    "pycharm": {
     "name": "#%%\n"
    }
   },
   "outputs": [],
   "source": [
    "# UNQ_C4 (UNIQUE CELL IDENTIFIER, DO NOT EDIT)\n",
    "# GRADED FUNCTION: Dense\n",
    "class Dense(Layer):\n",
    "    \"\"\"\n",
    "    A dense (fully-connected) layer.\n",
    "    \"\"\"\n",
    "\n",
    "    # __init__ is implemented for you\n",
    "    def __init__(self, n_units, init_stdev=0.1):\n",
    "        # Set the number of units in this layer\n",
    "        self._n_units = n_units\n",
    "        self._init_stdev = init_stdev\n",
    "\n",
    "    # Please implement 'forward()'\n",
    "    def forward(self, x):\n",
    "        ### START CODE HERE (Replace instances of 'None' with your code) ###\n",
    "        # Matrix multiply x and the weight matrix\n",
    "        dense = None\n",
    "\n",
    "        ### END CODE HERE ###\n",
    "        return dense\n",
    "\n",
    "    # init_weights\n",
    "    def init_weights_and_state(self, input_signature, random_key):\n",
    "        ### START CODE HERE (Replace instances of 'None' with your code) ###\n",
    "        # The input_signature has a .shape attribute that gives the shape as a tuple\n",
    "        input_shape = None\n",
    "\n",
    "        # Generate the weight matrix from a normal distribution, \n",
    "        # and standard deviation of 'stdev'        \n",
    "        w = None * trax.fastmath.random.normal(key=None, shape=(None, None))\n",
    "\n",
    "        ### END CODE HERE ###     \n",
    "        self.weights = w\n",
    "        return self.weights"
   ]
  },
  {
   "cell_type": "code",
   "execution_count": null,
   "metadata": {
    "colab": {
     "base_uri": "https://localhost:8080/",
     "height": 170
    },
    "colab_type": "code",
    "id": "vw-z6n8SAVuy",
    "outputId": "60b4a7ca-f8b6-4dce-9a35-b72eba48db1f",
    "pycharm": {
     "name": "#%%\n"
    }
   },
   "outputs": [],
   "source": [
    "# Testing your Dense layer \n",
    "dense_layer = Dense(n_units=10)  #sets  number of units in dense layer\n",
    "random_key = trax.fastmath.random.get_prng(seed=0)  # sets random seed\n",
    "z = np.array([[2.0, 7.0, 25.0]])  # input array\n",
    "\n",
    "dense_layer.init(z, random_key)\n",
    "print(\"Weights are\\n \", dense_layer.weights)  #Returns randomly generated weights\n",
    "print(\"Foward function output is \", dense_layer(z))  # Returns multiplied values of units and weights"
   ]
  },
  {
   "cell_type": "markdown",
   "metadata": {
    "pycharm": {
     "name": "#%% md\n"
    }
   },
   "source": [
    "##### Expected Outout\n",
    "```CPP\n",
    "Weights are\n",
    "  [[-0.02837108  0.09368162 -0.10050076  0.14165013  0.10543301  0.09108126\n",
    "  -0.04265672  0.0986188  -0.05575325  0.00153249]\n",
    " [-0.20785688  0.0554837   0.09142365  0.05744595  0.07227863  0.01210617\n",
    "  -0.03237354  0.16234995  0.02450038 -0.13809784]\n",
    " [-0.06111237  0.01403724  0.08410042 -0.1094358  -0.10775021 -0.11396459\n",
    "  -0.05933381 -0.01557652 -0.03832145 -0.11144515]]\n",
    "Foward function output is  [[-3.0395496   0.9266802   2.5414743  -2.050473   -1.9769388  -2.582209\n",
    "  -1.7952735   0.94427425 -0.8980402  -3.7497487 ]]\n",
    "```"
   ]
  },
  {
   "cell_type": "code",
   "execution_count": null,
   "metadata": {
    "pycharm": {
     "name": "#%%\n"
    }
   },
   "outputs": [],
   "source": [
    "# Testing your Dense layer \n",
    "dense_layer = Dense(n_units=5)  #sets  number of units in dense layer\n",
    "random_key = trax.fastmath.random.get_prng(seed=0)  # sets random seed\n",
    "z = np.array([[-1.0, 10.0, 0.0, 5.0]])  # input array\n",
    "\n",
    "dense_layer.init(z, random_key)\n",
    "print(\"Weights are\\n \", dense_layer.weights)  #Returns randomly generated weights\n",
    "print(\"Foward function output is \", dense_layer(z))  # Returns multiplied values of units and weights"
   ]
  },
  {
   "cell_type": "code",
   "execution_count": null,
   "metadata": {
    "pycharm": {
     "name": "#%%\n"
    }
   },
   "outputs": [],
   "source": [
    "w1_unittest.test_Dense(Dense)"
   ]
  },
  {
   "cell_type": "markdown",
   "metadata": {
    "colab_type": "text",
    "id": "eZEY8vBCgrgy",
    "pycharm": {
     "name": "#%% md\n"
    }
   },
   "source": [
    "<a name=\"3.3\"></a>\n",
    "## 3.3  Model\n",
    "\n",
    "Now you will implement a classifier using neural networks. Here is the model architecture you will be implementing. \n",
    "\n",
    "<img src = \"images/nn.jpg\" style=\"width:400px;height:250px;\"/>\n",
    "\n",
    "For the model implementation, you will use the Trax `layers` module, imported as `tl`.\n",
    "Note that the second character of `tl` is the lowercase of letter `L`, not the number 1. Trax layers are very similar to the ones you implemented above,\n",
    "but in addition to trainable weights also have a non-trainable state.\n",
    "State is used in layers like batch normalization and for inference, you will learn more about it in course 4.\n",
    "\n",
    "First, look at the code of the Trax Dense layer and compare to your implementation above.\n",
    "- [tl.Dense](https://github.com/google/trax/blob/master/trax/layers/core.py#L29): Trax Dense layer implementation\n",
    "\n",
    "One other important layer that you will use a lot is one that allows to execute one layer after another in sequence.\n",
    "- [tl.Serial](https://github.com/google/trax/blob/master/trax/layers/combinators.py#L26): Combinator that applies layers serially.  \n",
    "    - You can pass in the layers as arguments to `Serial`, separated by commas. \n",
    "    - For example: `tl.Serial(tl.Embeddings(...), tl.Mean(...), tl.Dense(...), tl.LogSoftmax(...))`\n",
    "\n",
    "Please use the `help` function to view documentation for each layer."
   ]
  },
  {
   "cell_type": "code",
   "execution_count": null,
   "metadata": {
    "colab": {
     "base_uri": "https://localhost:8080/",
     "height": 1000
    },
    "colab_type": "code",
    "id": "RpbiDzN9jCW2",
    "outputId": "b3d40cc7-c133-404b-db86-fef5fa664a48",
    "pycharm": {
     "name": "#%%\n"
    }
   },
   "outputs": [],
   "source": [
    "# View documentation on tl.Dense\n",
    "help(tl.Dense)"
   ]
  },
  {
   "cell_type": "code",
   "execution_count": null,
   "metadata": {
    "colab": {
     "base_uri": "https://localhost:8080/",
     "height": 1000
    },
    "colab_type": "code",
    "id": "Hrblw_uJ4zmF",
    "outputId": "729a5a60-3d38-4457-e2ae-c9abefae7eac",
    "pycharm": {
     "name": "#%%\n"
    }
   },
   "outputs": [],
   "source": [
    "# View documentation on tl.Serial\n",
    "help(tl.Serial)"
   ]
  },
  {
   "cell_type": "markdown",
   "metadata": {
    "colab_type": "text",
    "id": "n6PptsvwjCW3",
    "pycharm": {
     "name": "#%% md\n"
    }
   },
   "source": [
    "- [tl.Embedding](https://github.com/google/trax/blob/1372b903bb66b0daccee19fd0b1fdf44f659330b/trax/layers/core.py#L113): Layer constructor function for an embedding layer.  \n",
    "    - `tl.Embedding(vocab_size, d_feature)`.\n",
    "    - `vocab_size` is the number of unique words in the given vocabulary.\n",
    "    - `d_feature` is the number of elements in the word embedding (some choices for a word embedding size range from 150 to 300, for example).    "
   ]
  },
  {
   "cell_type": "code",
   "execution_count": null,
   "metadata": {
    "colab": {
     "base_uri": "https://localhost:8080/",
     "height": 1000
    },
    "colab_type": "code",
    "id": "Y5FAphBWjCW4",
    "outputId": "de4678bf-0bcd-456b-988d-66497fb12929",
    "pycharm": {
     "name": "#%%\n"
    }
   },
   "outputs": [],
   "source": [
    "# View documentation for tl.Embedding\n",
    "help(tl.Embedding)"
   ]
  },
  {
   "cell_type": "code",
   "execution_count": null,
   "metadata": {
    "colab": {
     "base_uri": "https://localhost:8080/",
     "height": 34
    },
    "colab_type": "code",
    "id": "Bi4OhkZbjCW6",
    "outputId": "61a46a9c-ef12-42ec-99e7-1ec888937c9a",
    "pycharm": {
     "name": "#%%\n"
    }
   },
   "outputs": [],
   "source": [
    "# An example of and embedding layer\n",
    "rnd.seed(31)\n",
    "tmp_embed = tl.Embedding(d_feature=2, vocab_size=3)\n",
    "display(tmp_embed)"
   ]
  },
  {
   "cell_type": "code",
   "execution_count": null,
   "metadata": {
    "pycharm": {
     "name": "#%%\n"
    }
   },
   "outputs": [],
   "source": [
    "# Let's assume as an example, a batch of two lists\n",
    "# each list represents a set of tokenized words.\n",
    "tmp_in_arr = np.array([[0, 1, 2],\n",
    "                       [3, 2, 0]\n",
    "                       ])\n",
    "\n",
    "# In order to use the layer, we need to initialize its signature\n",
    "tmp_embed.init(trax.shapes.signature(tmp_in_arr))\n",
    "\n",
    "# Embedding layer will return an array of shape (batch size, vocab size, d_feature)\n",
    "tmp_embedded_arr = tmp_embed(tmp_in_arr)\n",
    "\n",
    "print(f\"Shape of returned array is {tmp_embedded_arr.shape}\")\n",
    "display(tmp_embedded_arr)"
   ]
  },
  {
   "cell_type": "markdown",
   "metadata": {
    "colab_type": "text",
    "id": "OD0XVH5jjCW8",
    "pycharm": {
     "name": "#%% md\n"
    }
   },
   "source": [
    "- [tl.Mean](https://github.com/google/trax/blob/1372b903bb66b0daccee19fd0b1fdf44f659330b/trax/layers/core.py#L276): Calculates means across an axis.  In this case, please choose axis = 1 to get an average embedding vector (an embedding vector that is an average of all words in the vocabulary).  \n",
    "- For example, if the embedding matrix is 300 elements and vocab size is 10,000 words, taking the mean of the embedding matrix along axis=1 will yield a vector of 300 elements."
   ]
  },
  {
   "cell_type": "code",
   "execution_count": null,
   "metadata": {
    "colab": {
     "base_uri": "https://localhost:8080/",
     "height": 289
    },
    "colab_type": "code",
    "id": "CO0uMOOmjCW8",
    "outputId": "066c2690-e572-4e0b-8a98-ca6873f8918f",
    "pycharm": {
     "name": "#%%\n"
    }
   },
   "outputs": [],
   "source": [
    "# view the documentation for tl.mean\n",
    "help(tl.Mean)"
   ]
  },
  {
   "cell_type": "code",
   "execution_count": null,
   "metadata": {
    "colab": {
     "base_uri": "https://localhost:8080/",
     "height": 85
    },
    "colab_type": "code",
    "id": "eSS-_d38jCW-",
    "outputId": "eb19ac1d-7f11-4e5c-e7b4-97544a34f7d4",
    "pycharm": {
     "name": "#%%\n"
    }
   },
   "outputs": [],
   "source": [
    "# Pretend the embedding matrix uses \n",
    "# 2 elements for embedding the meaning of a word\n",
    "# and has a vocabulary size of 3\n",
    "# So it has shape (2,3)\n",
    "tmp_embed = np.array([[1, 2, 3, ],\n",
    "                      [4, 5, 6]\n",
    "                      ])\n",
    "\n",
    "# take the mean along axis 0\n",
    "print(\"The mean along axis 0 creates a vector whose length equals the vocabulary size\")\n",
    "display(np.mean(tmp_embed, axis=0))\n",
    "\n",
    "print(\"The mean along axis 1 creates a vector whose length equals the number of elements in a word embedding\")\n",
    "display(np.mean(tmp_embed, axis=1))"
   ]
  },
  {
   "cell_type": "markdown",
   "metadata": {
    "colab_type": "text",
    "id": "08G5yUa_jCXE",
    "pycharm": {
     "name": "#%% md\n"
    }
   },
   "source": [
    "- [tl.LogSoftmax](https://github.com/google/trax/blob/1372b903bb66b0daccee19fd0b1fdf44f659330b/trax/layers/core.py#L242): Implements log softmax function\n",
    "- Here, you don't need to set any parameters for `LogSoftMax()`."
   ]
  },
  {
   "cell_type": "code",
   "execution_count": null,
   "metadata": {
    "colab": {
     "base_uri": "https://localhost:8080/",
     "height": 238
    },
    "colab_type": "code",
    "id": "0UsQjFrAjCXF",
    "outputId": "4ce93870-33b6-47a3-97d4-4e01564e3893",
    "pycharm": {
     "name": "#%%\n"
    }
   },
   "outputs": [],
   "source": [
    "help(tl.LogSoftmax)"
   ]
  },
  {
   "cell_type": "markdown",
   "metadata": {
    "pycharm": {
     "name": "#%% md\n"
    }
   },
   "source": [
    "**Online documentation**\n",
    "\n",
    "- [tl.Dense](https://trax-ml.readthedocs.io/en/latest/trax.layers.html#trax.layers.core.Dense)\n",
    "\n",
    "- [tl.Serial](https://trax-ml.readthedocs.io/en/latest/trax.layers.html#module-trax.layers.combinators)\n",
    "\n",
    "- [tl.Embedding](https://trax-ml.readthedocs.io/en/latest/trax.layers.html#trax.layers.core.Embedding)\n",
    "\n",
    "- [tl.Mean](https://trax-ml.readthedocs.io/en/latest/trax.layers.html#trax.layers.core.Mean)\n",
    "\n",
    "- [tl.LogSoftmax](https://trax-ml.readthedocs.io/en/latest/trax.layers.html#trax.layers.core.LogSoftmax)"
   ]
  },
  {
   "cell_type": "markdown",
   "metadata": {
    "colab_type": "text",
    "id": "W8ONXnJsjCXH",
    "pycharm": {
     "name": "#%% md\n"
    }
   },
   "source": [
    "<a name=\"ex05\"></a>\n",
    "### Exercise 05\n",
    "Implement the classifier function. "
   ]
  },
  {
   "cell_type": "code",
   "execution_count": null,
   "metadata": {
    "colab": {},
    "colab_type": "code",
    "id": "Wh33Hk8lgrgz",
    "pycharm": {
     "name": "#%%\n"
    }
   },
   "outputs": [],
   "source": [
    "# UNQ_C5 (UNIQUE CELL IDENTIFIER, DO NOT EDIT)\n",
    "# GRADED FUNCTION: classifier\n",
    "def classifier(vocab_size=9088, embedding_dim=256, output_dim=2, mode='train'):\n",
    "    ### START CODE HERE (Replace instances of 'None' with your code) ###\n",
    "    # create embedding layer\n",
    "    embed_layer = tl.Embedding(\n",
    "        vocab_size=None,  # Size of the vocabulary\n",
    "        d_feature=None  # Embedding dimension\n",
    "    )\n",
    "\n",
    "    # Create a mean layer, to create an \"average\" word embedding\n",
    "    mean_layer = None\n",
    "\n",
    "    # Create a dense layer, one unit for each output\n",
    "    dense_output_layer = tl.Dense(n_units=None)\n",
    "\n",
    "    # Create the log softmax layer (no parameters needed)\n",
    "    log_softmax_layer = None\n",
    "\n",
    "    # Use tl.Serial to combine all layers\n",
    "    # and create the classifier\n",
    "    # of type trax.layers.combinators.Serial\n",
    "    model = tl.Serial(\n",
    "        None  # embedding layer\n",
    "    None  # mean layer\n",
    "    None  # dense output layer\n",
    "    None  # log softmax layer\n",
    "    )\n",
    "    ### END CODE HERE ###\n",
    "    # return the model of type\n",
    "    return model"
   ]
  },
  {
   "cell_type": "code",
   "execution_count": null,
   "metadata": {
    "colab": {},
    "colab_type": "code",
    "id": "OwJCu3e9jCXK",
    "pycharm": {
     "name": "#%%\n"
    }
   },
   "outputs": [],
   "source": [
    "tmp_model = classifier(vocab_size=len(Vocab))"
   ]
  },
  {
   "cell_type": "code",
   "execution_count": null,
   "metadata": {
    "colab": {
     "base_uri": "https://localhost:8080/",
     "height": 136
    },
    "colab_type": "code",
    "id": "ZsMzvK8YjCXM",
    "outputId": "dbc365af-2a5a-4423-98f1-371d2ee6bba4",
    "pycharm": {
     "name": "#%%\n"
    }
   },
   "outputs": [],
   "source": [
    "print(type(tmp_model))\n",
    "display(tmp_model)"
   ]
  },
  {
   "cell_type": "markdown",
   "metadata": {
    "colab_type": "text",
    "id": "DV0LEuRVjCXO",
    "pycharm": {
     "name": "#%% md\n"
    }
   },
   "source": [
    "##### Expected Outout\n",
    "```python\n",
    "<class 'trax.layers.combinators.Serial'>\n",
    "Serial[\n",
    "  Embedding_9088_256\n",
    "  Mean\n",
    "  Dense_2\n",
    "  LogSoftmax\n",
    "]\n",
    "```"
   ]
  },
  {
   "cell_type": "code",
   "execution_count": null,
   "metadata": {
    "pycharm": {
     "name": "#%%\n"
    }
   },
   "outputs": [],
   "source": [
    "w1_unittest.test_classifier(classifier)"
   ]
  },
  {
   "cell_type": "markdown",
   "metadata": {
    "colab_type": "text",
    "id": "1FaugA_7grg6",
    "pycharm": {
     "name": "#%% md\n"
    }
   },
   "source": [
    "<a name=\"4\"></a>\n",
    "# Part 4:  Training\n",
    "\n",
    "To train a model on a task, Trax defines an abstraction [`trax.supervised.training.TrainTask`](https://trax-ml.readthedocs.io/en/latest/trax.supervised.html#trax.supervised.training.TrainTask) which packages the train data, loss and optimizer (among other things) together into an object.\n",
    "\n",
    "Similarly to evaluate a model, Trax defines an abstraction [`trax.supervised.training.EvalTask`](https://trax-ml.readthedocs.io/en/latest/trax.supervised.html#trax.supervised.training.EvalTask) which packages the eval data and metrics (among other things) into another object.\n",
    "\n",
    "The final piece tying things together is the [`trax.supervised.training.Loop`](https://trax-ml.readthedocs.io/en/latest/trax.supervised.html#trax.supervised.training.Loop) abstraction that is a very simple and flexible way to put everything together and train the model, all the while evaluating it and saving checkpoints.\n",
    "Using `Loop` will save you a lot of code compared to always writing the training loop by hand, like you did in courses 1 and 2. More importantly, you are less likely to have a bug in that code that would ruin your training."
   ]
  },
  {
   "cell_type": "code",
   "execution_count": null,
   "metadata": {
    "colab": {
     "base_uri": "https://localhost:8080/",
     "height": 799
    },
    "colab_type": "code",
    "id": "UGgKw03jjCXP",
    "outputId": "014a4326-53ac-4408-878f-0202f6c4828e",
    "pycharm": {
     "name": "#%%\n"
    }
   },
   "outputs": [],
   "source": [
    "# View documentation for trax.supervised.training.TrainTask\n",
    "help(trax.supervised.training.TrainTask)"
   ]
  },
  {
   "cell_type": "code",
   "execution_count": null,
   "metadata": {
    "colab": {
     "base_uri": "https://localhost:8080/",
     "height": 850
    },
    "colab_type": "code",
    "id": "Tr2MmdWDn6hV",
    "outputId": "daec4adb-694d-407e-f1cc-8eb26628ed05",
    "pycharm": {
     "name": "#%%\n"
    }
   },
   "outputs": [],
   "source": [
    "# View documentation for trax.supervised.training.EvalTask\n",
    "help(trax.supervised.training.EvalTask)"
   ]
  },
  {
   "cell_type": "code",
   "execution_count": null,
   "metadata": {
    "colab": {
     "base_uri": "https://localhost:8080/",
     "height": 1000
    },
    "colab_type": "code",
    "id": "XkUVMzVXn_8f",
    "outputId": "b5bdbd12-ec1c-4a4c-99ac-a122e5534434",
    "pycharm": {
     "name": "#%%\n"
    }
   },
   "outputs": [],
   "source": [
    "# View documentation for trax.supervised.training.Loop\n",
    "help(trax.supervised.training.Loop)"
   ]
  },
  {
   "cell_type": "code",
   "execution_count": null,
   "metadata": {
    "colab": {
     "base_uri": "https://localhost:8080/",
     "height": 374
    },
    "colab_type": "code",
    "id": "Ooekq1F305bt",
    "outputId": "9f60f810-9d6a-47b6-e977-b6a3c478e9ba",
    "pycharm": {
     "name": "#%%\n"
    }
   },
   "outputs": [],
   "source": [
    "# View optimizers that you could choose from\n",
    "help(trax.optimizers)"
   ]
  },
  {
   "cell_type": "markdown",
   "metadata": {
    "colab_type": "text",
    "id": "OmR3BhV41Cxs",
    "pycharm": {
     "name": "#%% md\n"
    }
   },
   "source": [
    "Notice some available optimizers include:\n",
    "```CPP\n",
    "    adafactor\n",
    "    adam\n",
    "    momentum\n",
    "    rms_prop\n",
    "    sm3\n",
    "```"
   ]
  },
  {
   "cell_type": "markdown",
   "metadata": {
    "colab_type": "text",
    "id": "HA01H6K7grg_",
    "pycharm": {
     "name": "#%% md\n"
    }
   },
   "source": [
    "<a name=\"4.1\"></a>\n",
    "## 4.1  Training the model\n",
    "\n",
    "Now you are going to train your model. \n",
    "\n",
    "Let's define the `TrainTask`, `EvalTask` and `Loop` in preparation to train the model."
   ]
  },
  {
   "cell_type": "code",
   "execution_count": null,
   "metadata": {
    "colab": {},
    "colab_type": "code",
    "id": "ogMtJgHSoiZj",
    "pycharm": {
     "name": "#%%\n"
    }
   },
   "outputs": [],
   "source": [
    "# PLEASE, DO NOT MODIFY OR DELETE THIS CELL\n",
    "from trax.supervised import training\n",
    "\n",
    "\n",
    "def get_train_eval_tasks(train_pos, train_neg, val_pos, val_neg, vocab_dict, loop, batch_size=16):\n",
    "    rnd.seed(271)\n",
    "\n",
    "    train_task = training.TrainTask(\n",
    "        labeled_data=train_generator(batch_size, train_pos\n",
    "                                     , train_neg, vocab_dict, loop\n",
    "                                     , shuffle=True),\n",
    "        loss_layer=tl.WeightedCategoryCrossEntropy(),\n",
    "        optimizer=trax.optimizers.Adam(0.01),\n",
    "        n_steps_per_checkpoint=10,\n",
    "    )\n",
    "\n",
    "    eval_task = training.EvalTask(\n",
    "        labeled_data=val_generator(batch_size, val_pos\n",
    "                                   , val_neg, vocab_dict, loop\n",
    "                                   , shuffle=True),\n",
    "        metrics=[tl.WeightedCategoryCrossEntropy(), tl.WeightedCategoryAccuracy()],  #[tl.CrossEntropyLoss(), tl.Accuracy()],\n",
    "    )\n",
    "\n",
    "    return train_task, eval_task\n",
    "\n",
    "\n",
    "train_task, eval_task = get_train_eval_tasks(train_pos, train_neg, val_pos, val_neg, Vocab, True, batch_size=16)\n",
    "model = classifier()"
   ]
  },
  {
   "cell_type": "code",
   "execution_count": null,
   "metadata": {
    "pycharm": {
     "name": "#%%\n"
    }
   },
   "outputs": [],
   "source": [
    "model"
   ]
  },
  {
   "cell_type": "markdown",
   "metadata": {
    "colab_type": "text",
    "id": "R_sw8EGd0Sjk",
    "pycharm": {
     "name": "#%% md\n"
    }
   },
   "source": [
    "This defines a model trained using [`tl.WeightedCategoryCrossEntropy`](https://trax-ml.readthedocs.io/en/latest/trax.layers.html#trax.layers.metrics.WeightedCategoryCrossEntropy) optimized with the [`trax.optimizers.Adam`](https://trax-ml.readthedocs.io/en/latest/trax.optimizers.html#trax.optimizers.adam.Adam) optimizer, all the while tracking the accuracy using [`tl.WeightedCategoryAccuracy`](https://trax-ml.readthedocs.io/en/latest/trax.layers.html#trax.layers.metrics.WeightedCategoryAccuracy) metric. We also track `tl.WeightedCategoryCrossEntropy` on the validation set."
   ]
  },
  {
   "cell_type": "markdown",
   "metadata": {
    "colab_type": "text",
    "id": "yB78IIUerIVG",
    "pycharm": {
     "name": "#%% md\n"
    }
   },
   "source": [
    "Now let's make an output directory and train the model."
   ]
  },
  {
   "cell_type": "code",
   "execution_count": null,
   "metadata": {
    "colab": {
     "base_uri": "https://localhost:8080/",
     "height": 34
    },
    "colab_type": "code",
    "id": "CNx4LnP9rMsO",
    "outputId": "359fab84-7b89-4eea-b64e-5c681f6952c1",
    "pycharm": {
     "name": "#%%\n"
    }
   },
   "outputs": [],
   "source": [
    "dir_path = './model/'\n",
    "\n",
    "try:\n",
    "    shutil.rmtree(dir_path)\n",
    "except OSError as e:\n",
    "    pass\n",
    "\n",
    "output_dir = './model/'\n",
    "output_dir_expand = os.path.expanduser(output_dir)\n",
    "print(output_dir_expand)"
   ]
  },
  {
   "cell_type": "markdown",
   "metadata": {
    "colab_type": "text",
    "id": "e4R4EHUcrwqe",
    "pycharm": {
     "name": "#%% md\n"
    }
   },
   "source": [
    "<a name=\"ex06\"></a>\n",
    "### Exercise 06\n",
    "**Instructions:** Implement `train_model` to train the model (`classifier` that you wrote earlier) for the given number of training steps (`n_steps`) using `TrainTask`, `EvalTask` and `Loop`. For the `EvalTask`, take a look to the cell next to the function definition: the `eval_task` is passed as a list explicitly, so take that into account in the implementation of your `train_model` function."
   ]
  },
  {
   "cell_type": "code",
   "execution_count": null,
   "metadata": {
    "colab": {},
    "colab_type": "code",
    "id": "tolygrj7rpFX",
    "pycharm": {
     "name": "#%%\n"
    }
   },
   "outputs": [],
   "source": [
    "# UNQ_C6 (UNIQUE CELL IDENTIFIER, DO NOT EDIT)\n",
    "# GRADED FUNCTION: train_model\n",
    "def train_model(classifier, train_task, eval_task, n_steps, output_dir):\n",
    "    '''\n",
    "    Input: \n",
    "        classifier - the model you are building\n",
    "        train_task - Training task\n",
    "        eval_task - Evaluation task. Received as a list.\n",
    "        n_steps - the evaluation steps\n",
    "        output_dir - folder to save your files\n",
    "    Output:\n",
    "        trainer -  trax trainer\n",
    "    '''\n",
    "    rnd.seed(31)  # Do NOT modify this random seed. This makes the notebook easier to replicate\n",
    "\n",
    "    ### START CODE HERE (Replace instances of 'None' with your code) ###          \n",
    "    training_loop = training.Loop(\n",
    "        None,  # The learning model\n",
    "        None,  # The training task\n",
    "        eval_tasks=None,  # The evaluation task\n",
    "        output_dir=None,  # The output directory\n",
    "        random_seed=31  # Do not modify this random seed in order to ensure reproducibility and for grading purposes.\n",
    "    )\n",
    "\n",
    "    training_loop.run(n_steps=None)\n",
    "    ### END CODE HERE ###\n",
    "    # Return the training_loop, since it has the model.\n",
    "    return training_loop"
   ]
  },
  {
   "cell_type": "code",
   "execution_count": null,
   "metadata": {
    "colab": {
     "base_uri": "https://localhost:8080/",
     "height": 578
    },
    "colab_type": "code",
    "id": "d-AtiqAYs_rH",
    "outputId": "32fd06b6-9d04-4391-fe3a-689a28734b72",
    "pycharm": {
     "name": "#%%\n"
    }
   },
   "outputs": [],
   "source": [
    "# Do not modify this cell.\n",
    "# Take a look on how the eval_task is inside square brackets and \n",
    "# take that into account for you train_model implementation\n",
    "training_loop = train_model(model, train_task, [eval_task], 100, output_dir_expand)"
   ]
  },
  {
   "cell_type": "markdown",
   "metadata": {
    "colab_type": "text",
    "id": "Wxn24gyx1Xpd",
    "pycharm": {
     "name": "#%% md\n"
    }
   },
   "source": [
    "##### Expected output (Approximately)\n",
    "\n",
    "```python\n",
    "Step      1: Total number of trainable weights: 2327042\n",
    "Step      1: Ran 1 train steps in 1.97 secs\n",
    "Step      1: train WeightedCategoryCrossEntropy |  0.69622028\n",
    "Step      1: eval  WeightedCategoryCrossEntropy |  0.69192076\n",
    "Step      1: eval      WeightedCategoryAccuracy |  0.50000000\n",
    "\n",
    "Step     10: Ran 9 train steps in 5.21 secs\n",
    "Step     10: train WeightedCategoryCrossEntropy |  0.65528679\n",
    "Step     10: eval  WeightedCategoryCrossEntropy |  0.60046232\n",
    "Step     10: eval      WeightedCategoryAccuracy |  0.56250000\n",
    "\n",
    "Step     20: Ran 10 train steps in 5.25 secs\n",
    "Step     20: train WeightedCategoryCrossEntropy |  0.50175923\n",
    "Step     20: eval  WeightedCategoryCrossEntropy |  0.36495924\n",
    "Step     20: eval      WeightedCategoryAccuracy |  1.00000000\n",
    "\n",
    "Step     30: Ran 10 train steps in 0.77 secs\n",
    "Step     30: train WeightedCategoryCrossEntropy |  0.26501414\n",
    "Step     30: eval  WeightedCategoryCrossEntropy |  0.08354092\n",
    "Step     30: eval      WeightedCategoryAccuracy |  1.00000000\n",
    "\n",
    "Step     40: Ran 10 train steps in 2.57 secs\n",
    "Step     40: train WeightedCategoryCrossEntropy |  0.12851816\n",
    "Step     40: eval  WeightedCategoryCrossEntropy |  0.05210059\n",
    "Step     40: eval      WeightedCategoryAccuracy |  1.00000000\n",
    "\n",
    "Step     50: Ran 10 train steps in 0.82 secs\n",
    "Step     50: train WeightedCategoryCrossEntropy |  0.08248711\n",
    "Step     50: eval  WeightedCategoryCrossEntropy |  0.04878317\n",
    "Step     50: eval      WeightedCategoryAccuracy |  1.00000000\n",
    "\n",
    "Step     60: Ran 10 train steps in 0.88 secs\n",
    "Step     60: train WeightedCategoryCrossEntropy |  0.02911613\n",
    "Step     60: eval  WeightedCategoryCrossEntropy |  0.04127706\n",
    "Step     60: eval      WeightedCategoryAccuracy |  1.00000000\n",
    "\n",
    "Step     70: Ran 10 train steps in 1.85 secs\n",
    "Step     70: train WeightedCategoryCrossEntropy |  0.02941268\n",
    "Step     70: eval  WeightedCategoryCrossEntropy |  0.05635862\n",
    "Step     70: eval      WeightedCategoryAccuracy |  1.00000000\n",
    "\n",
    "Step     80: Ran 10 train steps in 0.90 secs\n",
    "Step     80: train WeightedCategoryCrossEntropy |  0.08665229\n",
    "Step     80: eval  WeightedCategoryCrossEntropy |  0.00390498\n",
    "Step     80: eval      WeightedCategoryAccuracy |  1.00000000\n",
    "\n",
    "Step     90: Ran 10 train steps in 0.93 secs\n",
    "Step     90: train WeightedCategoryCrossEntropy |  0.04921404\n",
    "Step     90: eval  WeightedCategoryCrossEntropy |  0.00031546\n",
    "Step     90: eval      WeightedCategoryAccuracy |  1.00000000\n",
    "\n",
    "Step    100: Ran 10 train steps in 0.89 secs\n",
    "Step    100: train WeightedCategoryCrossEntropy |  0.03101571\n",
    "Step    100: eval  WeightedCategoryCrossEntropy |  0.01737435\n",
    "Step    100: eval      WeightedCategoryAccuracy |  1.00000000\n",
    "```"
   ]
  },
  {
   "cell_type": "code",
   "execution_count": null,
   "metadata": {
    "pycharm": {
     "name": "#%%\n"
    }
   },
   "outputs": [],
   "source": [
    "# Test your function. Do not modify this cell.\n",
    "# Take a look on how the eval_task is inside square brackets.\n",
    "try:\n",
    "    shutil.rmtree('./model_test/')\n",
    "except OSError as e:\n",
    "    pass\n",
    "\n",
    "w1_unittest.test_train_model(train_model(classifier(), train_task, [eval_task], 10, './model_test/'))"
   ]
  },
  {
   "cell_type": "markdown",
   "metadata": {
    "colab_type": "text",
    "id": "KVMcsw2kjCX9",
    "pycharm": {
     "name": "#%% md\n"
    }
   },
   "source": [
    "<a name=\"4.2\"></a>\n",
    "## 4.2  Practice Making a prediction\n",
    "\n",
    "Now that you have trained a model, you can access it as `training_loop.model` object. We will actually use `training_loop.eval_model` and in the next weeks you will learn why we sometimes use a different model for evaluation, e.g., one without dropout. For now, make predictions with your model.\n",
    "\n",
    "Use the training data just to see how the prediction process works.  \n",
    "- Later, you will use validation data to evaluate your model's performance.\n"
   ]
  },
  {
   "cell_type": "code",
   "execution_count": null,
   "metadata": {
    "colab": {
     "base_uri": "https://localhost:8080/",
     "height": 85
    },
    "colab_type": "code",
    "id": "WAMgXWY4jCX-",
    "outputId": "7d732b79-6528-49cf-a78a-2f3ee4891681",
    "pycharm": {
     "name": "#%%\n"
    }
   },
   "outputs": [],
   "source": [
    "# Create a generator object\n",
    "tmp_train_generator = train_generator(16, train_pos\n",
    "                                      , train_neg, Vocab, loop=True\n",
    "                                      , shuffle=False)\n",
    "\n",
    "# get one batch\n",
    "tmp_batch = next(tmp_train_generator)\n",
    "\n",
    "# Position 0 has the model inputs (tweets as tensors)\n",
    "# position 1 has the targets (the actual labels)\n",
    "tmp_inputs, tmp_targets, tmp_example_weights = tmp_batch\n",
    "\n",
    "print(f\"The batch is a tuple of length {len(tmp_batch)} because position 0 contains the tweets, and position 1 contains the targets.\")\n",
    "print(f\"The shape of the tweet tensors is {tmp_inputs.shape} (num of examples, length of tweet tensors)\")\n",
    "print(f\"The shape of the labels is {tmp_targets.shape}, which is the batch size.\")\n",
    "print(f\"The shape of the example_weights is {tmp_example_weights.shape}, which is the same as inputs/targets size.\")"
   ]
  },
  {
   "cell_type": "code",
   "execution_count": null,
   "metadata": {
    "colab": {
     "base_uri": "https://localhost:8080/",
     "height": 374
    },
    "colab_type": "code",
    "id": "5XoxD6u5jCX_",
    "outputId": "d857441c-0977-411f-a8de-2037820d8fa4",
    "pycharm": {
     "name": "#%%\n"
    }
   },
   "outputs": [],
   "source": [
    "# feed the tweet tensors into the model to get a prediction\n",
    "tmp_pred = training_loop.eval_model(tmp_inputs)\n",
    "print(f\"The prediction shape is {tmp_pred.shape}, num of tensor_tweets as rows\")\n",
    "print(\"Column 0 is the probability of a negative sentiment (class 0)\")\n",
    "print(\"Column 1 is the probability of a positive sentiment (class 1)\")\n",
    "print()\n",
    "print(\"View the prediction array\")\n",
    "tmp_pred"
   ]
  },
  {
   "cell_type": "markdown",
   "metadata": {
    "colab_type": "text",
    "id": "0aJpFcyljCYB",
    "pycharm": {
     "name": "#%% md\n"
    }
   },
   "source": [
    "To turn these probabilities into categories (negative or positive sentiment prediction), for each row:\n",
    "- Compare the probabilities in each column.\n",
    "- If column 1 has a value greater than column 0, classify that as a positive tweet.\n",
    "- Otherwise if column 1 is less than or equal to column 0, classify that example as a negative tweet."
   ]
  },
  {
   "cell_type": "code",
   "execution_count": null,
   "metadata": {
    "colab": {
     "base_uri": "https://localhost:8080/",
     "height": 289
    },
    "colab_type": "code",
    "id": "6wJHv0TNjCYC",
    "outputId": "0367db61-6e29-44b5-be45-7534600e6931",
    "pycharm": {
     "name": "#%%\n"
    }
   },
   "outputs": [],
   "source": [
    "# turn probabilites into category predictions\n",
    "tmp_is_positive = tmp_pred[:, 1] > tmp_pred[:, 0]\n",
    "for i, p in enumerate(tmp_is_positive):\n",
    "    print(f\"Neg log prob {tmp_pred[i, 0]:.4f}\\tPos log prob {tmp_pred[i, 1]:.4f}\\t is positive? {p}\\t actual {tmp_targets[i]}\")"
   ]
  },
  {
   "cell_type": "markdown",
   "metadata": {
    "colab_type": "text",
    "id": "TywSi02cjCYF",
    "pycharm": {
     "name": "#%% md\n"
    }
   },
   "source": [
    "Notice that since you are making a prediction using a training batch, it's more likely that the model's predictions match the actual targets (labels).  \n",
    "- Every prediction that the tweet is positive is also matching the actual target of 1 (positive sentiment).\n",
    "- Similarly, all predictions that the sentiment is not positive matches the actual target of 0 (negative sentiment)"
   ]
  },
  {
   "cell_type": "markdown",
   "metadata": {
    "colab_type": "text",
    "id": "N6X_0K_EjCYF",
    "pycharm": {
     "name": "#%% md\n"
    }
   },
   "source": [
    "One more useful thing to know is how to compare if the prediction is matching the actual target (label).  \n",
    "- The result of calculation `is_positive` is a boolean.\n",
    "- The target is a type trax.fastmath.numpy.int32\n",
    "- If you expect to be doing division, you may prefer to work with decimal numbers with the data type type trax.fastmath.numpy.int32"
   ]
  },
  {
   "cell_type": "code",
   "execution_count": null,
   "metadata": {
    "colab": {
     "base_uri": "https://localhost:8080/",
     "height": 153
    },
    "colab_type": "code",
    "id": "CQgx_ar9jCYG",
    "outputId": "16b00f0d-9f1a-4602-f38e-b58ea3ab52a9",
    "pycharm": {
     "name": "#%%\n"
    }
   },
   "outputs": [],
   "source": [
    "# View the array of booleans\n",
    "print(\"Array of booleans\")\n",
    "display(tmp_is_positive)\n",
    "\n",
    "# convert boolean to type int32\n",
    "# True is converted to 1\n",
    "# False is converted to 0\n",
    "tmp_is_positive_int = tmp_is_positive.astype(np.int32)\n",
    "\n",
    "# View the array of integers\n",
    "print(\"Array of integers\")\n",
    "display(tmp_is_positive_int)\n",
    "\n",
    "# convert boolean to type float32\n",
    "tmp_is_positive_float = tmp_is_positive.astype(np.float32)\n",
    "\n",
    "# View the array of floats\n",
    "print(\"Array of floats\")\n",
    "display(tmp_is_positive_float)"
   ]
  },
  {
   "cell_type": "markdown",
   "metadata": {
    "colab_type": "text",
    "id": "8gJ3n4UljCYJ",
    "pycharm": {
     "name": "#%% md\n"
    }
   },
   "source": [
    "Note that Python usually does type conversion for you when you compare a boolean to an integer\n",
    "- True compared to 1 is True, otherwise any other integer is False.\n",
    "- False compared to 0 is True, otherwise any ohter integer is False."
   ]
  },
  {
   "cell_type": "code",
   "execution_count": null,
   "metadata": {
    "colab": {
     "base_uri": "https://localhost:8080/",
     "height": 85
    },
    "colab_type": "code",
    "id": "GbKFCf0njCYJ",
    "outputId": "c18362fd-4202-47b5-cfb6-a6797863fff7",
    "pycharm": {
     "name": "#%%\n"
    }
   },
   "outputs": [],
   "source": [
    "print(f\"True == 1: {True == 1}\")\n",
    "print(f\"True == 2: {True == 2}\")\n",
    "print(f\"False == 0: {False == 0}\")\n",
    "print(f\"False == 2: {False == 2}\")"
   ]
  },
  {
   "cell_type": "markdown",
   "metadata": {
    "colab_type": "text",
    "id": "Jh5XfviCjCYK",
    "pycharm": {
     "name": "#%% md\n"
    }
   },
   "source": [
    "However, we recommend that you keep track of the data type of your variables to avoid unexpected outcomes.  So it helps to convert the booleans into integers\n",
    "- Compare 1 to 1 rather than comparing True to 1."
   ]
  },
  {
   "cell_type": "markdown",
   "metadata": {
    "colab_type": "text",
    "id": "37PNk6IzjCYL",
    "pycharm": {
     "name": "#%% md\n"
    }
   },
   "source": [
    "Hopefully you are now familiar with what kinds of inputs and outputs the model uses when making a prediction.\n",
    "- This will help you implement a function that estimates the accuracy of the model's predictions."
   ]
  },
  {
   "cell_type": "markdown",
   "metadata": {
    "colab_type": "text",
    "id": "fRRrgOHJgrhI",
    "pycharm": {
     "name": "#%% md\n"
    }
   },
   "source": [
    "<a name=\"5\"></a>\n",
    "# Part 5:  Evaluation  \n",
    "\n",
    "<a name=\"5.1\"></a>\n",
    "## 5.1  Computing the accuracy on a batch\n",
    "\n",
    "You will now write a function that evaluates your model on the validation set and returns the accuracy. \n",
    "- `preds` contains the predictions.\n",
    "    - Its dimensions are `(batch_size, output_dim)`.  `output_dim` is two in this case.  Column 0 contains the probability that the tweet belongs to class 0 (negative sentiment). Column 1 contains probability that it belongs to class 1 (positive sentiment).\n",
    "    - If the probability in column 1 is greater than the probability in column 0, then interpret this as the model's prediction that the example has label 1 (positive sentiment).  \n",
    "    - Otherwise, if the probabilities are equal or the probability in column 0 is higher, the model's prediction is 0 (negative sentiment).\n",
    "- `y` contains the actual labels.\n",
    "- `y_weights` contains the weights to give to predictions."
   ]
  },
  {
   "cell_type": "markdown",
   "metadata": {
    "colab_type": "text",
    "id": "2hdfk3LEjCYL",
    "pycharm": {
     "name": "#%% md\n"
    }
   },
   "source": [
    "<a name=\"ex07\"></a>\n",
    "### Exercise 07\n",
    "Implement `compute_accuracy`."
   ]
  },
  {
   "cell_type": "code",
   "execution_count": null,
   "metadata": {
    "colab": {},
    "colab_type": "code",
    "id": "WBqaN5f9grhJ",
    "pycharm": {
     "name": "#%%\n"
    }
   },
   "outputs": [],
   "source": [
    "# UNQ_C7 (UNIQUE CELL IDENTIFIER, DO NOT EDIT)\n",
    "# GRADED FUNCTION: compute_accuracy\n",
    "def compute_accuracy(preds, y, y_weights):\n",
    "    \"\"\"\n",
    "    Input: \n",
    "        preds: a tensor of shape (dim_batch, output_dim) \n",
    "        y: a tensor of shape (dim_batch,) with the true labels\n",
    "        y_weights: a n.ndarray with the a weight for each example\n",
    "    Output: \n",
    "        accuracy: a float between 0-1 \n",
    "        weighted_num_correct (np.float32): Sum of the weighted correct predictions\n",
    "        sum_weights (np.float32): Sum of the weights\n",
    "    \"\"\"\n",
    "    ### START CODE HERE (Replace instances of 'None' with your code) ###\n",
    "    # Create an array of booleans, \n",
    "    # True if the probability of positive sentiment is greater than\n",
    "    # the probability of negative sentiment\n",
    "    # else False\n",
    "    is_pos = None\n",
    "\n",
    "    # convert the array of booleans into an array of np.int32\n",
    "    is_pos_int = None\n",
    "\n",
    "    # compare the array of predictions (as int32) with the target (labels) of type int32\n",
    "    correct = None\n",
    "\n",
    "    # Count the sum of the weights.\n",
    "    sum_weights = None\n",
    "\n",
    "    # convert the array of correct predictions (boolean) into an arrayof np.float32\n",
    "    correct_float = None\n",
    "\n",
    "    # Multiply each prediction with its corresponding weight.\n",
    "    weighted_correct_float = None\n",
    "\n",
    "    # Sum up the weighted correct predictions (of type np.float32), to go in the\n",
    "    # denominator.\n",
    "    weighted_num_correct = None\n",
    "\n",
    "    # Divide the number of weighted correct predictions by the sum of the\n",
    "    # weights.\n",
    "    accuracy = None\n",
    "\n",
    "    ### END CODE HERE ###\n",
    "    return accuracy, weighted_num_correct, sum_weights"
   ]
  },
  {
   "cell_type": "code",
   "execution_count": null,
   "metadata": {
    "colab": {
     "base_uri": "https://localhost:8080/",
     "height": 51
    },
    "colab_type": "code",
    "id": "1c7ZOeO0jCYN",
    "outputId": "a2a7414d-0168-4c55-b31f-bf263718c330",
    "pycharm": {
     "name": "#%%\n"
    }
   },
   "outputs": [],
   "source": [
    "# test your function\n",
    "tmp_val_generator = val_generator(64, val_pos\n",
    "                                  , val_neg, Vocab, loop=True\n",
    "                                  , shuffle=False)\n",
    "\n",
    "# get one batch\n",
    "tmp_batch = next(tmp_val_generator)\n",
    "\n",
    "# Position 0 has the model inputs (tweets as tensors)\n",
    "# position 1 has the targets (the actual labels)\n",
    "tmp_inputs, tmp_targets, tmp_example_weights = tmp_batch\n",
    "\n",
    "# feed the tweet tensors into the model to get a prediction\n",
    "tmp_pred = training_loop.eval_model(tmp_inputs)\n",
    "tmp_acc, tmp_num_correct, tmp_num_predictions = compute_accuracy(preds=tmp_pred, y=tmp_targets, y_weights=tmp_example_weights)\n",
    "\n",
    "print(f\"Model's prediction accuracy on a single training batch is: {100 * tmp_acc}%\")\n",
    "print(f\"Weighted number of correct predictions {tmp_num_correct}; weighted number of total observations predicted {tmp_num_predictions}\")"
   ]
  },
  {
   "cell_type": "markdown",
   "metadata": {
    "colab_type": "text",
    "id": "h2ep7nNejCYP",
    "pycharm": {
     "name": "#%% md\n"
    }
   },
   "source": [
    "##### Expected output (Approximately)\n",
    "\n",
    "```\n",
    "Model's prediction accuracy on a single training batch is: 100.0%\n",
    "Weighted number of correct predictions 64.0; weighted number of total observations predicted 64\n",
    "```"
   ]
  },
  {
   "cell_type": "code",
   "execution_count": null,
   "metadata": {
    "pycharm": {
     "name": "#%%\n"
    }
   },
   "outputs": [],
   "source": [
    "w1_unittest.test_compute_accuracy(compute_accuracy)"
   ]
  },
  {
   "cell_type": "markdown",
   "metadata": {
    "colab_type": "text",
    "id": "dqle69F1grhM",
    "pycharm": {
     "name": "#%% md\n"
    }
   },
   "source": [
    "<a name=\"5.2\"></a>\n",
    "## 5.2  Testing your model on Validation Data\n",
    "\n",
    "Now you will write test your model's prediction accuracy on validation data. \n",
    "\n",
    "This program will take in a data generator and your model. \n",
    "- The generator allows you to get batches of data. You can use it with a `for` loop:\n",
    "\n",
    "```\n",
    "for batch in iterator: \n",
    "   # do something with that batch\n",
    "```\n",
    "\n",
    "`batch` has `3` elements:\n",
    "- the first element contains the inputs\n",
    "- the second element contains the targets\n",
    "- the third element contains the weights"
   ]
  },
  {
   "cell_type": "markdown",
   "metadata": {
    "colab_type": "text",
    "id": "1zwYl_f9jCYP",
    "pycharm": {
     "name": "#%% md\n"
    }
   },
   "source": [
    "<a name=\"ex08\"></a>\n",
    "### Exercise 08\n",
    "\n",
    "**Instructions:** \n",
    "- Compute the accuracy over all the batches in the validation iterator. \n",
    "- Make use of `compute_accuracy`, which you recently implemented, and return the overall accuracy."
   ]
  },
  {
   "cell_type": "code",
   "execution_count": null,
   "metadata": {
    "colab": {},
    "colab_type": "code",
    "id": "HKoTad4ggrhN",
    "pycharm": {
     "name": "#%%\n"
    }
   },
   "outputs": [],
   "source": [
    "# UNQ_C8 (UNIQUE CELL IDENTIFIER, DO NOT EDIT)\n",
    "# GRADED FUNCTION: test_model\n",
    "def test_model(generator, model, compute_accuracy=compute_accuracy):\n",
    "    '''\n",
    "    Input: \n",
    "        generator: an iterator instance that provides batches of inputs and targets\n",
    "        model: a model instance \n",
    "    Output: \n",
    "        accuracy: float corresponding to the accuracy\n",
    "    '''\n",
    "\n",
    "    accuracy = 0.\n",
    "    total_num_correct = 0\n",
    "    total_num_pred = 0\n",
    "\n",
    "    ### START CODE HERE (Replace instances of 'None' with your code) ###\n",
    "    for batch in generator:\n",
    "        # Retrieve the inputs from the batch\n",
    "        inputs = None\n",
    "\n",
    "        # Retrieve the targets (actual labels) from the batch\n",
    "        targets = None\n",
    "\n",
    "        # Retrieve the example weight.\n",
    "        example_weight = None\n",
    "\n",
    "        # Make predictions using the inputs            \n",
    "        pred = None\n",
    "\n",
    "        # Calculate accuracy for the batch by comparing its predictions and targets\n",
    "        batch_accuracy, batch_num_correct, batch_num_pred = None\n",
    "\n",
    "        # Update the total number of correct predictions\n",
    "        # by adding the number of correct predictions from this batch\n",
    "        total_num_correct += None\n",
    "\n",
    "        # Update the total number of predictions \n",
    "        # by adding the number of predictions made for the batch\n",
    "        total_num_pred += None\n",
    "\n",
    "    # Calculate accuracy over all examples\n",
    "    accuracy = None\n",
    "\n",
    "    ### END CODE HERE ###\n",
    "    return accuracy"
   ]
  },
  {
   "cell_type": "code",
   "execution_count": null,
   "metadata": {
    "colab": {
     "base_uri": "https://localhost:8080/",
     "height": 34
    },
    "colab_type": "code",
    "id": "1Rm_k21XgrhQ",
    "outputId": "65957ec4-d72b-4363-a5c2-20aa071e9005",
    "pycharm": {
     "name": "#%%\n"
    }
   },
   "outputs": [],
   "source": [
    "# DO NOT EDIT THIS CELL\n",
    "# testing the accuracy of your model: this takes around 20 seconds\n",
    "model = training_loop.eval_model\n",
    "accuracy = test_model(test_generator(16, val_pos\n",
    "                                     , val_neg, Vocab, loop=False\n",
    "                                     , shuffle=False), model)\n",
    "\n",
    "print(f'The accuracy of your model on the validation set is {accuracy:.4f}', )"
   ]
  },
  {
   "cell_type": "markdown",
   "metadata": {
    "colab_type": "text",
    "id": "esUJRMQPgrhS",
    "pycharm": {
     "name": "#%% md\n"
    }
   },
   "source": [
    "##### Expected Output (Approximately)\n",
    "\n",
    "```CPP\n",
    "The accuracy of your model on the validation set is 0.9881\n",
    "```"
   ]
  },
  {
   "cell_type": "code",
   "execution_count": null,
   "metadata": {
    "pycharm": {
     "name": "#%%\n"
    }
   },
   "outputs": [],
   "source": [
    "w1_unittest.unittest_test_model(test_model, test_generator(16, val_pos, val_neg, Vocab, loop=False, shuffle=False), model)"
   ]
  },
  {
   "cell_type": "markdown",
   "metadata": {
    "colab_type": "text",
    "id": "Mct4P9QZgrhT",
    "pycharm": {
     "name": "#%% md\n"
    }
   },
   "source": [
    "<a name=\"6\"></a>\n",
    "# Part 6:  Testing with your own input\n",
    "\n",
    "Finally you will test with your own input. You will see that deepnets are more powerful than the older methods you have used before. Although you go close to 100% accuracy on the first two assignments, the task was way easier. "
   ]
  },
  {
   "cell_type": "code",
   "execution_count": null,
   "metadata": {
    "colab": {},
    "colab_type": "code",
    "id": "SUq5cw-xgrhU",
    "pycharm": {
     "name": "#%%\n"
    }
   },
   "outputs": [],
   "source": [
    "# this is used to predict on your own sentnece\n",
    "def predict(sentence):\n",
    "    inputs = np.array(tweet_to_tensor(sentence, vocab_dict=Vocab))\n",
    "\n",
    "    # Batch size 1, add dimension for batch, to work with the model\n",
    "    inputs = inputs[None, :]\n",
    "\n",
    "    # predict with the model\n",
    "    preds_probs = model(inputs)\n",
    "\n",
    "    # Turn probabilities into categories\n",
    "    preds = int(preds_probs[0, 1] > preds_probs[0, 0])\n",
    "\n",
    "    sentiment = \"negative\"\n",
    "    if preds == 1:\n",
    "        sentiment = 'positive'\n",
    "\n",
    "    return preds, sentiment\n"
   ]
  },
  {
   "cell_type": "code",
   "execution_count": null,
   "metadata": {
    "colab": {
     "base_uri": "https://localhost:8080/",
     "height": 204
    },
    "colab_type": "code",
    "id": "3RJntC57grhX",
    "outputId": "01f92c2d-738f-424b-d2b0-6e1f6ade4fef",
    "pycharm": {
     "name": "#%%\n"
    }
   },
   "outputs": [],
   "source": [
    "# try a positive sentence\n",
    "sentence = \"It's such a nice day, think i'll be taking Sid to Ramsgate fish and chips for lunch at Peter's fish factory and then the beach maybe\"\n",
    "tmp_pred, tmp_sentiment = predict(sentence)\n",
    "print(f\"The sentiment of the sentence \\n***\\n\\\"{sentence}\\\"\\n***\\nis {tmp_sentiment}.\")\n",
    "\n",
    "print()\n",
    "# try a negative sentence\n",
    "sentence = \"I hated my day, it was the worst, I'm so sad.\"\n",
    "tmp_pred, tmp_sentiment = predict(sentence)\n",
    "print(f\"The sentiment of the sentence \\n***\\n\\\"{sentence}\\\"\\n***\\nis {tmp_sentiment}.\")"
   ]
  },
  {
   "cell_type": "markdown",
   "metadata": {
    "colab_type": "text",
    "id": "nZmGCheXjCYX",
    "pycharm": {
     "name": "#%% md\n"
    }
   },
   "source": [
    "Notice that the model works well even for complex sentences."
   ]
  },
  {
   "cell_type": "markdown",
   "metadata": {
    "pycharm": {
     "name": "#%% md\n"
    }
   },
   "source": [
    "<a name=\"7\"></a>\n",
    "# Part 7: Word Embeddings"
   ]
  },
  {
   "cell_type": "markdown",
   "metadata": {
    "pycharm": {
     "name": "#%% md\n"
    }
   },
   "source": [
    "In this section, you will visualize the word embeddings that were constructed for this sentiment analysis task. You can retrieve them by looking at the `model.weights` tuple (recall that the first layer of the model is the embedding layer)."
   ]
  },
  {
   "cell_type": "code",
   "execution_count": null,
   "metadata": {
    "pycharm": {
     "name": "#%%\n"
    }
   },
   "outputs": [],
   "source": [
    "embeddings = model.weights[0]"
   ]
  },
  {
   "cell_type": "markdown",
   "metadata": {
    "pycharm": {
     "name": "#%% md\n"
    }
   },
   "source": [
    "Let's take a look at the size of the embeddings. "
   ]
  },
  {
   "cell_type": "code",
   "execution_count": null,
   "metadata": {
    "pycharm": {
     "name": "#%%\n"
    }
   },
   "outputs": [],
   "source": [
    "embeddings.shape"
   ]
  },
  {
   "cell_type": "markdown",
   "metadata": {
    "pycharm": {
     "name": "#%% md\n"
    }
   },
   "source": [
    "To visualize the word embeddings, it is necessary to choose 2 directions to use as axes for the plot. You could use random directions or the first two eigenvectors from PCA. Here, you'll use scikit-learn to perform dimensionality reduction of the word embeddings using PCA. "
   ]
  },
  {
   "cell_type": "code",
   "execution_count": null,
   "metadata": {
    "pycharm": {
     "name": "#%%\n"
    }
   },
   "outputs": [],
   "source": [
    "from sklearn.decomposition import PCA  #Import PCA from scikit-learn\n",
    "\n",
    "pca = PCA(n_components=2)  #PCA with two dimensions\n",
    "\n",
    "emb_2dim = pca.fit_transform(embeddings)  #Dimensionality reduction of the word embeddings"
   ]
  },
  {
   "cell_type": "markdown",
   "metadata": {
    "pycharm": {
     "name": "#%% md\n"
    }
   },
   "source": [
    "Now, everything is ready to plot a selection of words in 2d. "
   ]
  },
  {
   "cell_type": "code",
   "execution_count": null,
   "metadata": {
    "pycharm": {
     "name": "#%%\n"
    }
   },
   "outputs": [],
   "source": [
    "% matplotlib inline\n",
    "import matplotlib.pyplot as plt\n",
    "\n",
    "#Selection of negative and positive words\n",
    "neg_words = ['worst', 'bad', 'hurt', 'sad', 'hate']\n",
    "pos_words = ['best', 'good', 'nice', 'better', 'love']\n",
    "\n",
    "#Index of each selected word\n",
    "neg_n = [Vocab[w] for w in neg_words]\n",
    "pos_n = [Vocab[w] for w in pos_words]\n",
    "\n",
    "plt.figure()\n",
    "\n",
    "#Scatter plot for negative words\n",
    "plt.scatter(emb_2dim[neg_n][:, 0], emb_2dim[neg_n][:, 1], color='r')\n",
    "for i, txt in enumerate(neg_words):\n",
    "    plt.annotate(txt, (emb_2dim[neg_n][i, 0], emb_2dim[neg_n][i, 1]))\n",
    "\n",
    "#Scatter plot for positive words\n",
    "plt.scatter(emb_2dim[pos_n][:, 0], emb_2dim[pos_n][:, 1], color='g')\n",
    "for i, txt in enumerate(pos_words):\n",
    "    plt.annotate(txt, (emb_2dim[pos_n][i, 0], emb_2dim[pos_n][i, 1]))\n",
    "\n",
    "plt.title('Word embeddings in 2d')\n",
    "\n",
    "plt.show()"
   ]
  },
  {
   "cell_type": "markdown",
   "metadata": {
    "pycharm": {
     "name": "#%% md\n"
    }
   },
   "source": [
    "As you can see, the word embeddings for this task seem to distinguish negative and positive meanings very well. However, clusters don't necessarily have similar words since you only trained the model to analyze overall sentiment. "
   ]
  },
  {
   "cell_type": "markdown",
   "metadata": {
    "colab_type": "text",
    "id": "mNg0fAYIgrhd",
    "pycharm": {
     "name": "#%% md\n"
    }
   },
   "source": [
    "### On Deep Nets\n",
    "\n",
    "Deep nets allow you to understand and capture dependencies that you would have not been able to capture with a simple linear regression, or logistic regression. \n",
    "- It also allows you to better use pre-trained embeddings for classification and tends to generalize better."
   ]
  }
 ],
 "metadata": {
  "jupytext": {
   "encoding": "# -*- coding: utf-8 -*-"
  },
  "kernelspec": {
   "display_name": "Python 3",
   "language": "python",
   "name": "python3"
  },
  "language_info": {
   "codemirror_mode": {
    "name": "ipython",
    "version": 3
   },
   "file_extension": ".py",
   "mimetype": "text/x-python",
   "name": "python",
   "nbconvert_exporter": "python",
   "pygments_lexer": "ipython3",
   "version": "3.7.6"
  }
 },
 "nbformat": 4,
 "nbformat_minor": 5
}