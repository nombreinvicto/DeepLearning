{
 "cells": [
  {
   "cell_type": "markdown",
   "metadata": {},
   "source": [
    "<img src=\"https://habrastorage.org/webt/ia/m9/zk/iam9zkyzqebnf_okxipihkgjwnw.jpeg\" />\n",
    "    \n",
    "**<center>[mlcourse.ai](https://mlcourse.ai) – Open Machine Learning Course** </center><br>\n",
    "Authors: Arina Lopukhova (@erynn), and [Yury Kashnitsky](https://yorko.github.io) (@yorko). Edited by Vadim Shestopalov (@vchulski). [mlcourse.ai](https://mlcourse.ai) is powered by [OpenDataScience (ods.ai)](https://ods.ai/) © 2017—2022"
   ]
  },
  {
   "cell_type": "markdown",
   "metadata": {},
   "source": [
    "# <center>Assignment #1. Task </center> <a class=\"tocSkip\">\n",
    "## <center>Exploratory Data Analysis (EDA) of Olympic games with Pandas </center> <a class=\"tocSkip\">\n",
    "    \n",
    "<img src=\"https://habrastorage.org/webt/my/70/d9/my70d97xhwfj8krp2q2qmn_smww.png\" width=50%>"
   ]
  },
  {
   "cell_type": "markdown",
   "metadata": {},
   "source": [
    "There are ten questions about 120 years of Olympic history in this assignment.\n",
    "\n",
    "### Your task is to:\n",
    " 1. write code and perform computations in the cells below;\n",
    " 2. choose answers in the [webform](https://docs.google.com/forms/d/1SJcNJxnY5Wwb_sDSxmb-FyghraeOt-ZmQMA0XzOLu4I).\n",
    " \n",
    "*If you are sure that something is not 100% correct with the assignment/solution, please leave your feedback via the mentioned webform ↑*\n",
    "\n",
    "-----"
   ]
  },
  {
   "cell_type": "code",
   "execution_count": 79,
   "metadata": {
    "ExecuteTime": {
     "end_time": "2023-04-15T17:44:26.548866Z",
     "start_time": "2023-04-15T17:44:26.485248Z"
    }
   },
   "outputs": [],
   "source": [
    "from pathlib import Path\n",
    "\n",
    "import numpy as np\n",
    "import pandas as pd"
   ]
  },
  {
   "cell_type": "code",
   "execution_count": 80,
   "metadata": {
    "ExecuteTime": {
     "end_time": "2023-04-15T17:44:27.236822Z",
     "start_time": "2023-04-15T17:44:27.183963Z"
    }
   },
   "outputs": [],
   "source": [
    "PATH_TO_DATA = Path(r\"C:\\Users\\mhasa\\GitHub\\deeplearning\\keras_dir\\mlcourse.ai\\bonus_assignments\\_static\\data\\assignment1\")"
   ]
  },
  {
   "cell_type": "code",
   "execution_count": 81,
   "metadata": {
    "ExecuteTime": {
     "end_time": "2023-04-15T17:44:28.854792Z",
     "start_time": "2023-04-15T17:44:27.748091Z"
    }
   },
   "outputs": [
    {
     "data": {
      "text/html": [
       "<div>\n",
       "<style scoped>\n",
       "    .dataframe tbody tr th:only-of-type {\n",
       "        vertical-align: middle;\n",
       "    }\n",
       "\n",
       "    .dataframe tbody tr th {\n",
       "        vertical-align: top;\n",
       "    }\n",
       "\n",
       "    .dataframe thead th {\n",
       "        text-align: right;\n",
       "    }\n",
       "</style>\n",
       "<table border=\"1\" class=\"dataframe\">\n",
       "  <thead>\n",
       "    <tr style=\"text-align: right;\">\n",
       "      <th></th>\n",
       "      <th>Name</th>\n",
       "      <th>Sex</th>\n",
       "      <th>Age</th>\n",
       "      <th>Height</th>\n",
       "      <th>Weight</th>\n",
       "      <th>Team</th>\n",
       "      <th>NOC</th>\n",
       "      <th>Games</th>\n",
       "      <th>Year</th>\n",
       "      <th>Season</th>\n",
       "      <th>City</th>\n",
       "      <th>Sport</th>\n",
       "      <th>Event</th>\n",
       "      <th>Medal</th>\n",
       "    </tr>\n",
       "    <tr>\n",
       "      <th>ID</th>\n",
       "      <th></th>\n",
       "      <th></th>\n",
       "      <th></th>\n",
       "      <th></th>\n",
       "      <th></th>\n",
       "      <th></th>\n",
       "      <th></th>\n",
       "      <th></th>\n",
       "      <th></th>\n",
       "      <th></th>\n",
       "      <th></th>\n",
       "      <th></th>\n",
       "      <th></th>\n",
       "      <th></th>\n",
       "    </tr>\n",
       "  </thead>\n",
       "  <tbody>\n",
       "    <tr>\n",
       "      <th>1</th>\n",
       "      <td>A Dijiang</td>\n",
       "      <td>M</td>\n",
       "      <td>24.0</td>\n",
       "      <td>180.0</td>\n",
       "      <td>80.0</td>\n",
       "      <td>China</td>\n",
       "      <td>CHN</td>\n",
       "      <td>1992 Summer</td>\n",
       "      <td>1992</td>\n",
       "      <td>Summer</td>\n",
       "      <td>Barcelona</td>\n",
       "      <td>Basketball</td>\n",
       "      <td>Basketball Men's Basketball</td>\n",
       "      <td>NaN</td>\n",
       "    </tr>\n",
       "    <tr>\n",
       "      <th>2</th>\n",
       "      <td>A Lamusi</td>\n",
       "      <td>M</td>\n",
       "      <td>23.0</td>\n",
       "      <td>170.0</td>\n",
       "      <td>60.0</td>\n",
       "      <td>China</td>\n",
       "      <td>CHN</td>\n",
       "      <td>2012 Summer</td>\n",
       "      <td>2012</td>\n",
       "      <td>Summer</td>\n",
       "      <td>London</td>\n",
       "      <td>Judo</td>\n",
       "      <td>Judo Men's Extra-Lightweight</td>\n",
       "      <td>NaN</td>\n",
       "    </tr>\n",
       "    <tr>\n",
       "      <th>3</th>\n",
       "      <td>Gunnar Nielsen Aaby</td>\n",
       "      <td>M</td>\n",
       "      <td>24.0</td>\n",
       "      <td>NaN</td>\n",
       "      <td>NaN</td>\n",
       "      <td>Denmark</td>\n",
       "      <td>DEN</td>\n",
       "      <td>1920 Summer</td>\n",
       "      <td>1920</td>\n",
       "      <td>Summer</td>\n",
       "      <td>Antwerpen</td>\n",
       "      <td>Football</td>\n",
       "      <td>Football Men's Football</td>\n",
       "      <td>NaN</td>\n",
       "    </tr>\n",
       "    <tr>\n",
       "      <th>4</th>\n",
       "      <td>Edgar Lindenau Aabye</td>\n",
       "      <td>M</td>\n",
       "      <td>34.0</td>\n",
       "      <td>NaN</td>\n",
       "      <td>NaN</td>\n",
       "      <td>Denmark/Sweden</td>\n",
       "      <td>DEN</td>\n",
       "      <td>1900 Summer</td>\n",
       "      <td>1900</td>\n",
       "      <td>Summer</td>\n",
       "      <td>Paris</td>\n",
       "      <td>Tug-Of-War</td>\n",
       "      <td>Tug-Of-War Men's Tug-Of-War</td>\n",
       "      <td>Gold</td>\n",
       "    </tr>\n",
       "    <tr>\n",
       "      <th>5</th>\n",
       "      <td>Christine Jacoba Aaftink</td>\n",
       "      <td>F</td>\n",
       "      <td>21.0</td>\n",
       "      <td>185.0</td>\n",
       "      <td>82.0</td>\n",
       "      <td>Netherlands</td>\n",
       "      <td>NED</td>\n",
       "      <td>1988 Winter</td>\n",
       "      <td>1988</td>\n",
       "      <td>Winter</td>\n",
       "      <td>Calgary</td>\n",
       "      <td>Speed Skating</td>\n",
       "      <td>Speed Skating Women's 500 metres</td>\n",
       "      <td>NaN</td>\n",
       "    </tr>\n",
       "  </tbody>\n",
       "</table>\n",
       "</div>"
      ],
      "text/plain": [
       "                        Name Sex   Age  Height  Weight            Team  NOC  \\\n",
       "ID                                                                            \n",
       "1                  A Dijiang   M  24.0   180.0    80.0           China  CHN   \n",
       "2                   A Lamusi   M  23.0   170.0    60.0           China  CHN   \n",
       "3        Gunnar Nielsen Aaby   M  24.0     NaN     NaN         Denmark  DEN   \n",
       "4       Edgar Lindenau Aabye   M  34.0     NaN     NaN  Denmark/Sweden  DEN   \n",
       "5   Christine Jacoba Aaftink   F  21.0   185.0    82.0     Netherlands  NED   \n",
       "\n",
       "          Games  Year  Season       City          Sport  \\\n",
       "ID                                                        \n",
       "1   1992 Summer  1992  Summer  Barcelona     Basketball   \n",
       "2   2012 Summer  2012  Summer     London           Judo   \n",
       "3   1920 Summer  1920  Summer  Antwerpen       Football   \n",
       "4   1900 Summer  1900  Summer      Paris     Tug-Of-War   \n",
       "5   1988 Winter  1988  Winter    Calgary  Speed Skating   \n",
       "\n",
       "                               Event Medal  \n",
       "ID                                          \n",
       "1        Basketball Men's Basketball   NaN  \n",
       "2       Judo Men's Extra-Lightweight   NaN  \n",
       "3            Football Men's Football   NaN  \n",
       "4        Tug-Of-War Men's Tug-Of-War  Gold  \n",
       "5   Speed Skating Women's 500 metres   NaN  "
      ]
     },
     "execution_count": 81,
     "metadata": {},
     "output_type": "execute_result"
    }
   ],
   "source": [
    "df = pd.read_csv(PATH_TO_DATA / \"athlete_events.csv.zip\", index_col=\"ID\")\n",
    "#df.drop_duplicates(inplace=True, subset=\"Name\")\n",
    "df.head(5)"
   ]
  },
  {
   "cell_type": "markdown",
   "metadata": {},
   "source": [
    " The dataset has the following features:\n",
    "\n",
    "- __ID__ – Unique number for each athlete\n",
    "- __Name__ – Athlete's name\n",
    "- __Sex__ – M or F\n",
    "- __Age__ – Integer\n",
    "- __Height__ – In centimeters\n",
    "- __Weight__ – In kilograms\n",
    "- __Team__ – Team name\n",
    "- __NOC__ – National Olympic Committee 3-letter code\n",
    "- __Games__ – Year and season\n",
    "- __Year__ – Integer\n",
    "- __Season__ – Summer or Winter\n",
    "- __City__ – Host city\n",
    "- __Sport__ – Sport\n",
    "- __Event__ – Event\n",
    "- __Medal__ – Gold, Silver, Bronze, or NA"
   ]
  },
  {
   "cell_type": "code",
   "execution_count": 82,
   "metadata": {
    "ExecuteTime": {
     "end_time": "2023-04-15T17:44:31.429360Z",
     "start_time": "2023-04-15T17:44:29.728044Z"
    }
   },
   "outputs": [
    {
     "name": "stdout",
     "output_type": "stream",
     "text": [
      "<class 'pandas.core.frame.DataFrame'>\n",
      "Int64Index: 271116 entries, 1 to 135571\n",
      "Data columns (total 14 columns):\n",
      " #   Column  Non-Null Count   Dtype  \n",
      "---  ------  --------------   -----  \n",
      " 0   Name    271116 non-null  object \n",
      " 1   Sex     271116 non-null  object \n",
      " 2   Age     261642 non-null  float64\n",
      " 3   Height  210945 non-null  float64\n",
      " 4   Weight  208241 non-null  float64\n",
      " 5   Team    271116 non-null  object \n",
      " 6   NOC     271116 non-null  object \n",
      " 7   Games   271116 non-null  object \n",
      " 8   Year    271116 non-null  int64  \n",
      " 9   Season  271116 non-null  object \n",
      " 10  City    271116 non-null  object \n",
      " 11  Sport   271116 non-null  object \n",
      " 12  Event   271116 non-null  object \n",
      " 13  Medal   39783 non-null   object \n",
      "dtypes: float64(3), int64(1), object(10)\n",
      "memory usage: 31.0+ MB\n"
     ]
    }
   ],
   "source": [
    "df.info()"
   ]
  },
  {
   "cell_type": "markdown",
   "metadata": {},
   "source": [
    "**<font color='red'>Question 1.</font> How old were the youngest male and female participants of the 1992 Olympics?**\n",
    "\n",
    "- 16 and 15\n",
    "- 14 and 13 \n",
    "- 13 and 11\n",
    "- 11 and 12"
   ]
  },
  {
   "cell_type": "code",
   "execution_count": 83,
   "metadata": {
    "ExecuteTime": {
     "end_time": "2023-04-15T17:44:33.172635Z",
     "start_time": "2023-04-15T17:44:33.080881Z"
    }
   },
   "outputs": [
    {
     "data": {
      "text/plain": [
       "Sex\n",
       "F    12.0\n",
       "M    11.0\n",
       "Name: Age, dtype: float64"
      ]
     },
     "execution_count": 83,
     "metadata": {},
     "output_type": "execute_result"
    }
   ],
   "source": [
    "# You code here (read-only in a JupyterBook, pls run jupyter-notebook to edit)\n",
    "df92 = df[df['Year'] == 1992]\n",
    "df92.groupby(by=[\"Sex\"])[\"Age\"].agg(np.min)"
   ]
  },
  {
   "cell_type": "markdown",
   "metadata": {},
   "source": [
    "**<font color='red'>Question 2.</font> What was the percentage of male basketball players among all the male participants of the 2012 Olympics? Round the answer to the first decimal.**\n",
    "\n",
    "*Hint:* drop duplicate athletes where necessary to count each athlete just once. This applies to other questions as well.\n",
    "\n",
    "- 0.2\n",
    "- 1.5 \n",
    "- 2.5\n",
    "- 7.7"
   ]
  },
  {
   "cell_type": "code",
   "execution_count": 84,
   "metadata": {
    "ExecuteTime": {
     "end_time": "2023-04-15T17:44:38.007155Z",
     "start_time": "2023-04-15T17:44:37.942896Z"
    }
   },
   "outputs": [
    {
     "data": {
      "text/plain": [
       "Athletics            0.166221\n",
       "Swimming             0.107389\n",
       "Gymnastics           0.065588\n",
       "Cycling              0.054469\n",
       "Rowing               0.049683\n",
       "Shooting             0.046587\n",
       "Football             0.037579\n",
       "Canoeing             0.037298\n",
       "Wrestling            0.037016\n",
       "Boxing               0.034764\n",
       "Sailing              0.033357\n",
       "Judo                 0.032512\n",
       "Equestrianism        0.030683\n",
       "Hockey               0.027586\n",
       "Handball             0.024771\n",
       "Fencing              0.024068\n",
       "Water Polo           0.021816\n",
       "Weightlifting        0.020971\n",
       "Volleyball           0.020267\n",
       "Basketball           0.020267\n",
       "Tennis               0.020267\n",
       "Table Tennis         0.016467\n",
       "Archery              0.014075\n",
       "Diving               0.013089\n",
       "Badminton            0.012386\n",
       "Taekwondo            0.009008\n",
       "Triathlon            0.007741\n",
       "Beach Volleyball     0.006756\n",
       "Modern Pentathlon    0.005067\n",
       "Trampolining         0.002252\n",
       "Name: Sport, dtype: float64"
      ]
     },
     "execution_count": 84,
     "metadata": {},
     "output_type": "execute_result"
    }
   ],
   "source": [
    "# You code here (read-only in a JupyterBook, pls run jupyter-notebook to edit)\n",
    "df[(df[\"Year\"] == 2012) & (df[\"Sex\"] == \"M\")][\"Sport\"].value_counts(normalize=True)"
   ]
  },
  {
   "cell_type": "code",
   "execution_count": 85,
   "metadata": {
    "ExecuteTime": {
     "end_time": "2023-04-15T17:44:42.396492Z",
     "start_time": "2023-04-15T17:44:42.331667Z"
    }
   },
   "outputs": [
    {
     "name": "stdout",
     "output_type": "stream",
     "text": [
      "2.458\n"
     ]
    }
   ],
   "source": [
    "q = '(Year == 2012) & (Sex == \"M\")'\n",
    "# dfquery(q) equals to data[(dfYear == 2012) & (dfSex == 'M')]\n",
    "sportsmen_count = len(df.query(q).drop_duplicates(subset=\"Name\"))\n",
    "\n",
    "basketball_count = len(\n",
    "    df.query(q).query('Sport == \"Basketball\"').drop_duplicates(subset=\"Name\")\n",
    ")\n",
    "\n",
    "print(\"%.3f\" % (basketball_count / sportsmen_count * 100))"
   ]
  },
  {
   "cell_type": "markdown",
   "metadata": {},
   "source": [
    "**<font color='red'>Question 3.</font> What are the mean and standard deviation of height for female tennis players who participated in the 2000 Olympics? Round the answer to the first decimal.**\n",
    "\n",
    "- 171.8 and 6.5\n",
    "- 179.4 and 10\n",
    "- 180.7 and 6.7\n",
    "- 182.4 and 9.1 "
   ]
  },
  {
   "cell_type": "code",
   "execution_count": 86,
   "metadata": {
    "ExecuteTime": {
     "end_time": "2023-04-15T17:44:46.850857Z",
     "start_time": "2023-04-15T17:44:46.797002Z"
    }
   },
   "outputs": [
    {
     "name": "stdout",
     "output_type": "stream",
     "text": [
      "171.792 6.4586725890776675\n"
     ]
    }
   ],
   "source": [
    "# You code here (read-only in a JupyterBook, pls run jupyter-notebook to edit)\n",
    "female2000tennis = df[(df[\"Sex\"] == \"F\") &\n",
    "                      (df[\"Year\"] == 2000) &\n",
    "                      (df[\"Sport\"] == \"Tennis\")]\n",
    "mean_height = female2000tennis[\"Height\"].mean()\n",
    "std_height = female2000tennis[\"Height\"].std()\n",
    "print(mean_height, std_height)"
   ]
  },
  {
   "cell_type": "markdown",
   "metadata": {},
   "source": [
    "**<font color='red'>Question 4.</font> Find the heaviest athlete among 2006 Olympics participants. What sport did he or she do?**\n",
    "\n",
    "- Judo\n",
    "- Bobsleigh \n",
    "- Skeleton\n",
    "- Boxing"
   ]
  },
  {
   "cell_type": "code",
   "execution_count": 87,
   "metadata": {
    "ExecuteTime": {
     "end_time": "2023-04-15T17:47:42.058450Z",
     "start_time": "2023-04-15T17:47:41.977341Z"
    }
   },
   "outputs": [
    {
     "data": {
      "text/html": [
       "<div>\n",
       "<style scoped>\n",
       "    .dataframe tbody tr th:only-of-type {\n",
       "        vertical-align: middle;\n",
       "    }\n",
       "\n",
       "    .dataframe tbody tr th {\n",
       "        vertical-align: top;\n",
       "    }\n",
       "\n",
       "    .dataframe thead th {\n",
       "        text-align: right;\n",
       "    }\n",
       "</style>\n",
       "<table border=\"1\" class=\"dataframe\">\n",
       "  <thead>\n",
       "    <tr style=\"text-align: right;\">\n",
       "      <th></th>\n",
       "      <th>Name</th>\n",
       "      <th>Sex</th>\n",
       "      <th>Age</th>\n",
       "      <th>Height</th>\n",
       "      <th>Weight</th>\n",
       "      <th>Team</th>\n",
       "      <th>NOC</th>\n",
       "      <th>Games</th>\n",
       "      <th>Year</th>\n",
       "      <th>Season</th>\n",
       "      <th>City</th>\n",
       "      <th>Sport</th>\n",
       "      <th>Event</th>\n",
       "      <th>Medal</th>\n",
       "    </tr>\n",
       "    <tr>\n",
       "      <th>ID</th>\n",
       "      <th></th>\n",
       "      <th></th>\n",
       "      <th></th>\n",
       "      <th></th>\n",
       "      <th></th>\n",
       "      <th></th>\n",
       "      <th></th>\n",
       "      <th></th>\n",
       "      <th></th>\n",
       "      <th></th>\n",
       "      <th></th>\n",
       "      <th></th>\n",
       "      <th></th>\n",
       "      <th></th>\n",
       "    </tr>\n",
       "  </thead>\n",
       "  <tbody>\n",
       "    <tr>\n",
       "      <th>4476</th>\n",
       "      <td>Patrick R. Antaki</td>\n",
       "      <td>M</td>\n",
       "      <td>41.0</td>\n",
       "      <td>185.0</td>\n",
       "      <td>127.0</td>\n",
       "      <td>Lebanon</td>\n",
       "      <td>LIB</td>\n",
       "      <td>2006 Winter</td>\n",
       "      <td>2006</td>\n",
       "      <td>Winter</td>\n",
       "      <td>Torino</td>\n",
       "      <td>Skeleton</td>\n",
       "      <td>Skeleton Men's Skeleton</td>\n",
       "      <td>NaN</td>\n",
       "    </tr>\n",
       "  </tbody>\n",
       "</table>\n",
       "</div>"
      ],
      "text/plain": [
       "                   Name Sex   Age  Height  Weight     Team  NOC        Games  \\\n",
       "ID                                                                             \n",
       "4476  Patrick R. Antaki   M  41.0   185.0   127.0  Lebanon  LIB  2006 Winter   \n",
       "\n",
       "      Year  Season    City     Sport                    Event Medal  \n",
       "ID                                                                   \n",
       "4476  2006  Winter  Torino  Skeleton  Skeleton Men's Skeleton   NaN  "
      ]
     },
     "execution_count": 87,
     "metadata": {},
     "output_type": "execute_result"
    }
   ],
   "source": [
    "# You code here (read-only in a JupyterBook, pls run jupyter-notebook to edit)\n",
    "df2006 = df[df[\"Year\"] == 2006]\n",
    "highest_weight = df2006[\"Weight\"].max()\n",
    "heaviest_athlete = df2006[df2006[\"Weight\"] == highest_weight]\n",
    "heaviest_athlete"
   ]
  },
  {
   "cell_type": "markdown",
   "metadata": {},
   "source": [
    "**<font color='red'>Question 5.</font> How many times did John Aalberg participate in the Olympics held in different years?**\n",
    "\n",
    "- 0\n",
    "- 1 \n",
    "- 2\n",
    "- 3 "
   ]
  },
  {
   "cell_type": "code",
   "execution_count": 89,
   "metadata": {
    "ExecuteTime": {
     "end_time": "2023-04-15T17:50:34.847810Z",
     "start_time": "2023-04-15T17:50:34.796836Z"
    }
   },
   "outputs": [
    {
     "data": {
      "text/plain": [
       "ID\n",
       "7    1992\n",
       "7    1994\n",
       "Name: Year, dtype: int64"
      ]
     },
     "execution_count": 89,
     "metadata": {},
     "output_type": "execute_result"
    }
   ],
   "source": [
    "# You code here (read-only in a JupyterBook, pls run jupyter-notebook to edit)\n",
    "df[df[\"Name\"] == \"John Aalberg\"].drop_duplicates(subset=\"Year\")[\"Year\"]"
   ]
  },
  {
   "cell_type": "markdown",
   "metadata": {},
   "source": [
    "**<font color='red'>Question 6.</font> How many gold medals in tennis did the Switzerland team win at the 2008 Olympics?**\n",
    "\n",
    "- 0\n",
    "- 1 \n",
    "- 2\n",
    "- 3 "
   ]
  },
  {
   "cell_type": "code",
   "execution_count": 91,
   "metadata": {
    "ExecuteTime": {
     "end_time": "2023-04-15T17:53:40.276787Z",
     "start_time": "2023-04-15T17:53:40.225524Z"
    }
   },
   "outputs": [
    {
     "data": {
      "text/html": [
       "<div>\n",
       "<style scoped>\n",
       "    .dataframe tbody tr th:only-of-type {\n",
       "        vertical-align: middle;\n",
       "    }\n",
       "\n",
       "    .dataframe tbody tr th {\n",
       "        vertical-align: top;\n",
       "    }\n",
       "\n",
       "    .dataframe thead th {\n",
       "        text-align: right;\n",
       "    }\n",
       "</style>\n",
       "<table border=\"1\" class=\"dataframe\">\n",
       "  <thead>\n",
       "    <tr style=\"text-align: right;\">\n",
       "      <th></th>\n",
       "      <th>Name</th>\n",
       "      <th>Sex</th>\n",
       "      <th>Age</th>\n",
       "      <th>Height</th>\n",
       "      <th>Weight</th>\n",
       "      <th>Team</th>\n",
       "      <th>NOC</th>\n",
       "      <th>Games</th>\n",
       "      <th>Year</th>\n",
       "      <th>Season</th>\n",
       "      <th>City</th>\n",
       "      <th>Sport</th>\n",
       "      <th>Event</th>\n",
       "      <th>Medal</th>\n",
       "    </tr>\n",
       "    <tr>\n",
       "      <th>ID</th>\n",
       "      <th></th>\n",
       "      <th></th>\n",
       "      <th></th>\n",
       "      <th></th>\n",
       "      <th></th>\n",
       "      <th></th>\n",
       "      <th></th>\n",
       "      <th></th>\n",
       "      <th></th>\n",
       "      <th></th>\n",
       "      <th></th>\n",
       "      <th></th>\n",
       "      <th></th>\n",
       "      <th></th>\n",
       "    </tr>\n",
       "  </thead>\n",
       "  <tbody>\n",
       "    <tr>\n",
       "      <th>34396</th>\n",
       "      <td>Roger Federer</td>\n",
       "      <td>M</td>\n",
       "      <td>26.0</td>\n",
       "      <td>185.0</td>\n",
       "      <td>80.0</td>\n",
       "      <td>Switzerland</td>\n",
       "      <td>SUI</td>\n",
       "      <td>2008 Summer</td>\n",
       "      <td>2008</td>\n",
       "      <td>Summer</td>\n",
       "      <td>Beijing</td>\n",
       "      <td>Tennis</td>\n",
       "      <td>Tennis Men's Doubles</td>\n",
       "      <td>Gold</td>\n",
       "    </tr>\n",
       "    <tr>\n",
       "      <th>129042</th>\n",
       "      <td>Stanislas Wawrinka</td>\n",
       "      <td>M</td>\n",
       "      <td>23.0</td>\n",
       "      <td>183.0</td>\n",
       "      <td>79.0</td>\n",
       "      <td>Switzerland</td>\n",
       "      <td>SUI</td>\n",
       "      <td>2008 Summer</td>\n",
       "      <td>2008</td>\n",
       "      <td>Summer</td>\n",
       "      <td>Beijing</td>\n",
       "      <td>Tennis</td>\n",
       "      <td>Tennis Men's Doubles</td>\n",
       "      <td>Gold</td>\n",
       "    </tr>\n",
       "  </tbody>\n",
       "</table>\n",
       "</div>"
      ],
      "text/plain": [
       "                      Name Sex   Age  Height  Weight         Team  NOC  \\\n",
       "ID                                                                       \n",
       "34396        Roger Federer   M  26.0   185.0    80.0  Switzerland  SUI   \n",
       "129042  Stanislas Wawrinka   M  23.0   183.0    79.0  Switzerland  SUI   \n",
       "\n",
       "              Games  Year  Season     City   Sport                 Event Medal  \n",
       "ID                                                                              \n",
       "34396   2008 Summer  2008  Summer  Beijing  Tennis  Tennis Men's Doubles  Gold  \n",
       "129042  2008 Summer  2008  Summer  Beijing  Tennis  Tennis Men's Doubles  Gold  "
      ]
     },
     "execution_count": 91,
     "metadata": {},
     "output_type": "execute_result"
    }
   ],
   "source": [
    "# You code here (read-only in a JupyterBook, pls run jupyter-notebook to edit)\n",
    "df_new = df[(df[\"Sport\"] == \"Tennis\") &\n",
    "            (df[\"Team\"] == \"Switzerland\") &\n",
    "            (df[\"Year\"] == 2008) &\n",
    "            (df[\"Medal\"] == \"Gold\")]\n",
    "df_new.head(10)"
   ]
  },
  {
   "cell_type": "code",
   "execution_count": 94,
   "metadata": {
    "ExecuteTime": {
     "end_time": "2023-04-15T17:55:54.015493Z",
     "start_time": "2023-04-15T17:55:53.952023Z"
    }
   },
   "outputs": [
    {
     "data": {
      "text/html": [
       "<div>\n",
       "<style scoped>\n",
       "    .dataframe tbody tr th:only-of-type {\n",
       "        vertical-align: middle;\n",
       "    }\n",
       "\n",
       "    .dataframe tbody tr th {\n",
       "        vertical-align: top;\n",
       "    }\n",
       "\n",
       "    .dataframe thead th {\n",
       "        text-align: right;\n",
       "    }\n",
       "</style>\n",
       "<table border=\"1\" class=\"dataframe\">\n",
       "  <thead>\n",
       "    <tr style=\"text-align: right;\">\n",
       "      <th></th>\n",
       "      <th>Name</th>\n",
       "      <th>Sex</th>\n",
       "      <th>Age</th>\n",
       "      <th>Height</th>\n",
       "      <th>Weight</th>\n",
       "      <th>Team</th>\n",
       "      <th>NOC</th>\n",
       "      <th>Games</th>\n",
       "      <th>Year</th>\n",
       "      <th>Season</th>\n",
       "      <th>City</th>\n",
       "      <th>Sport</th>\n",
       "      <th>Event</th>\n",
       "      <th>Medal</th>\n",
       "    </tr>\n",
       "    <tr>\n",
       "      <th>ID</th>\n",
       "      <th></th>\n",
       "      <th></th>\n",
       "      <th></th>\n",
       "      <th></th>\n",
       "      <th></th>\n",
       "      <th></th>\n",
       "      <th></th>\n",
       "      <th></th>\n",
       "      <th></th>\n",
       "      <th></th>\n",
       "      <th></th>\n",
       "      <th></th>\n",
       "      <th></th>\n",
       "      <th></th>\n",
       "    </tr>\n",
       "  </thead>\n",
       "  <tbody>\n",
       "    <tr>\n",
       "      <th>34396</th>\n",
       "      <td>Roger Federer</td>\n",
       "      <td>M</td>\n",
       "      <td>26.0</td>\n",
       "      <td>185.0</td>\n",
       "      <td>80.0</td>\n",
       "      <td>Switzerland</td>\n",
       "      <td>SUI</td>\n",
       "      <td>2008 Summer</td>\n",
       "      <td>2008</td>\n",
       "      <td>Summer</td>\n",
       "      <td>Beijing</td>\n",
       "      <td>Tennis</td>\n",
       "      <td>Tennis Men's Doubles</td>\n",
       "      <td>Gold</td>\n",
       "    </tr>\n",
       "    <tr>\n",
       "      <th>129042</th>\n",
       "      <td>Stanislas Wawrinka</td>\n",
       "      <td>M</td>\n",
       "      <td>23.0</td>\n",
       "      <td>183.0</td>\n",
       "      <td>79.0</td>\n",
       "      <td>Switzerland</td>\n",
       "      <td>SUI</td>\n",
       "      <td>2008 Summer</td>\n",
       "      <td>2008</td>\n",
       "      <td>Summer</td>\n",
       "      <td>Beijing</td>\n",
       "      <td>Tennis</td>\n",
       "      <td>Tennis Men's Doubles</td>\n",
       "      <td>Gold</td>\n",
       "    </tr>\n",
       "  </tbody>\n",
       "</table>\n",
       "</div>"
      ],
      "text/plain": [
       "                      Name Sex   Age  Height  Weight         Team  NOC  \\\n",
       "ID                                                                       \n",
       "34396        Roger Federer   M  26.0   185.0    80.0  Switzerland  SUI   \n",
       "129042  Stanislas Wawrinka   M  23.0   183.0    79.0  Switzerland  SUI   \n",
       "\n",
       "              Games  Year  Season     City   Sport                 Event Medal  \n",
       "ID                                                                              \n",
       "34396   2008 Summer  2008  Summer  Beijing  Tennis  Tennis Men's Doubles  Gold  \n",
       "129042  2008 Summer  2008  Summer  Beijing  Tennis  Tennis Men's Doubles  Gold  "
      ]
     },
     "execution_count": 94,
     "metadata": {},
     "output_type": "execute_result"
    }
   ],
   "source": [
    "q = '(Year == 2008) & (Team == \"Switzerland\")'\n",
    "df.query(q).groupby([\"Medal\", \"Sport\"]).get_group((\"Gold\", \"Tennis\"))"
   ]
  },
  {
   "cell_type": "markdown",
   "metadata": {},
   "source": [
    "**<font color='red'>Question 7.</font>  Is it true that Spain won fewer medals than Italy at the 2016 Olympics? Do not consider NaN values in the _Medal_ column.**\n",
    "\n",
    "- Yes\n",
    "- No"
   ]
  },
  {
   "cell_type": "code",
   "execution_count": 100,
   "metadata": {
    "ExecuteTime": {
     "end_time": "2023-04-15T18:02:28.925449Z",
     "start_time": "2023-04-15T18:02:28.861619Z"
    }
   },
   "outputs": [
    {
     "name": "stderr",
     "output_type": "stream",
     "text": [
      "C:\\Users\\mhasa\\GitHub\\venvs\\DeepLearning\\lib\\site-packages\\ipykernel_launcher.py:4: SettingWithCopyWarning: \n",
      "A value is trying to be set on a copy of a slice from a DataFrame\n",
      "\n",
      "See the caveats in the documentation: https://pandas.pydata.org/pandas-docs/stable/user_guide/indexing.html#returning-a-view-versus-a-copy\n",
      "  after removing the cwd from sys.path.\n"
     ]
    },
    {
     "data": {
      "text/plain": [
       "Team   Medal \n",
       "Italy  Bronze    24\n",
       "       Gold       8\n",
       "       Silver    38\n",
       "Spain  Bronze    17\n",
       "       Gold       7\n",
       "       Silver    19\n",
       "Name: Medal, dtype: int64"
      ]
     },
     "execution_count": 100,
     "metadata": {},
     "output_type": "execute_result"
    }
   ],
   "source": [
    "# You code here (read-only in a JupyterBook, pls run jupyter-notebook to edit)\n",
    "df2016 = df[(df[\"Year\"] == 2016) &\n",
    "            ((df[\"Team\"] == \"Spain\") | (df[\"Team\"] == \"Italy\"))]\n",
    "df2016.dropna(inplace=True)\n",
    "df2016.groupby(by=[\"Team\", \"Medal\"])[\"Medal\"].count()"
   ]
  },
  {
   "cell_type": "markdown",
   "metadata": {},
   "source": [
    "**<font color='red'>Question 8.</font> What are the least and most common age groups among the participants of the 2008 Olympics?**\n",
    "- [45-55] and [25-35) correspondingly\n",
    "- [45-55] and [15-25) correspondingly\n",
    "- [35-45) and [25-35) correspondingly\n",
    "- [45-55] and [35-45) correspondingly"
   ]
  },
  {
   "cell_type": "code",
   "execution_count": 11,
   "metadata": {},
   "outputs": [],
   "source": [
    "# You code here (read-only in a JupyterBook, pls run jupyter-notebook to edit)\n",
    "df2008 = df[df[\"Year\"] == 2008]\n",
    "bins = pd.IntervalIndex.from_tuples([(0, 15),\n",
    "                                     (15, 25),\n",
    "                                     (25, 35),\n",
    "                                     (35, 45),\n",
    "                                     (45, 55)])"
   ]
  },
  {
   "cell_type": "markdown",
   "metadata": {},
   "source": [
    "**<font color='red'>Question 9.</font> Is it true that there were Summer Olympics held in Atlanta? Is it true that there were Winter Olympics held in Squaw Valley?**\n",
    "\n",
    "- Yes, Yes\n",
    "- Yes, No\n",
    "- No, Yes \n",
    "- No, No "
   ]
  },
  {
   "cell_type": "code",
   "execution_count": 103,
   "metadata": {
    "ExecuteTime": {
     "end_time": "2023-04-15T18:17:24.231689Z",
     "start_time": "2023-04-15T18:17:24.138447Z"
    }
   },
   "outputs": [
    {
     "name": "stdout",
     "output_type": "stream",
     "text": [
      "(13780, 14)\n",
      "(1116, 14)\n"
     ]
    }
   ],
   "source": [
    "# You code here (read-only in a JupyterBook, pls run jupyter-notebook to edit)\n",
    "summer_atlanta = df[(df[\"Season\"] == \"Summer\") &\n",
    "                    (df[\"City\"] == \"Atlanta\")]\n",
    "print(summer_atlanta.shape)\n",
    "\n",
    "winter_valley = df[(df[\"Season\"] == \"Winter\") &\n",
    "                    (df[\"City\"] == \"Squaw Valley\")]\n",
    "print(winter_valley.shape)"
   ]
  },
  {
   "cell_type": "markdown",
   "metadata": {},
   "source": [
    "**<font color='red'>Question 10.</font> What is the absolute difference between the number of unique sports at the 1994 Olympics and 2002 Olympics?**\n",
    "\n",
    "- 3\n",
    "- 10\n",
    "- 15 \n",
    "- 27 "
   ]
  },
  {
   "cell_type": "code",
   "execution_count": 104,
   "metadata": {
    "ExecuteTime": {
     "end_time": "2023-04-15T18:19:55.110559Z",
     "start_time": "2023-04-15T18:19:55.040853Z"
    }
   },
   "outputs": [
    {
     "data": {
      "text/plain": [
       "3"
      ]
     },
     "execution_count": 104,
     "metadata": {},
     "output_type": "execute_result"
    }
   ],
   "source": [
    "# You code here (read-only in a JupyterBook, pls run jupyter-notebook to edit)\n",
    "df2002 = df[df[\"Year\"] == 2002]\n",
    "df1994 = df[df[\"Year\"] == 1994]\n",
    "\n",
    "np.abs(df2002[\"Sport\"].nunique() - df1994[\"Sport\"].nunique())"
   ]
  },
  {
   "cell_type": "code",
   "execution_count": null,
   "metadata": {},
   "outputs": [],
   "source": []
  }
 ],
 "metadata": {
  "kernelspec": {
   "display_name": "Python 3 (ipykernel)",
   "language": "python",
   "name": "python3"
  },
  "language_info": {
   "codemirror_mode": {
    "name": "ipython",
    "version": 3
   },
   "file_extension": ".py",
   "mimetype": "text/x-python",
   "name": "python",
   "nbconvert_exporter": "python",
   "pygments_lexer": "ipython3",
   "version": "3.7.0"
  }
 },
 "nbformat": 4,
 "nbformat_minor": 2
}
