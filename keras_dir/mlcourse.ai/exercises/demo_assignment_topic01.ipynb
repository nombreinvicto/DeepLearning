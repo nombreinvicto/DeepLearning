{
 "cells": [
  {
   "cell_type": "markdown",
   "id": "2b6e8545",
   "metadata": {},
   "source": [
    "\n",
    "\n",
    "# Assignment #1 (demo). Exploratory data analysis with Pandas\n",
    "\n",
    "```{figure} /_static/img/ods_stickers.jpg\n",
    ":name: ods_stickers\n",
    "```\n",
    "\n",
    "**<center>[mlcourse.ai](https://mlcourse.ai) – Open Machine Learning Course** </center><br>\n",
    "\n",
    "Author: [Yury Kashnitsky](https://www.linkedin.com/in/festline/). Translated and edited by [Sergey Isaev](https://www.linkedin.com/in/isvforall/), [Artem Trunov](https://www.linkedin.com/in/datamove/), [Anastasia Manokhina](https://www.linkedin.com/in/anastasiamanokhina/), and [Yuanyuan Pao](https://www.linkedin.com/in/yuanyuanpao/). All content is distributed under the [Creative Commons CC BY-NC-SA 4.0](https://creativecommons.org/licenses/by-nc-sa/4.0/) license.\n",
    "\n",
    "\n",
    "**Same assignment as a [Kaggle Kernel](https://www.kaggle.com/kashnitsky/a1-demo-pandas-and-uci-adult-dataset) + [solution](https://www.kaggle.com/kashnitsky/a1-demo-pandas-and-uci-adult-dataset-solution).**\n",
    "\n",
    "**In this task you should use Pandas to answer a few questions about the [Adult](https://archive.ics.uci.edu/ml/datasets/Adult) dataset. (You don't have to download the data – it's already  in the repository). Choose the answers in the [web-form](https://docs.google.com/forms/d/1uY7MpI2trKx6FLWZte0uVh3ULV4Cm_tDud0VDFGCOKg).**\n",
    "\n",
    "Unique values of features (for more information please see the link above):\n",
    "- `age`: continuous;\n",
    "- `workclass`: `Private`, `Self-emp-not-inc`, `Self-emp-inc`, `Federal-gov`, `Local-gov`, `State-gov`, `Without-pay`, `Never-worked`;\n",
    "- `fnlwgt`: continuous;\n",
    "- `education`: `Bachelors`, `Some-college`, `11th`, `HS-grad`, `Prof-school`, `Assoc-acdm`, `Assoc-voc`, `9th`, `7th-8th`, `12th`, `Masters`, `1st-4th`, `10th`, `Doctorate`, `5th-6th`, `Preschool`;\n",
    "- `education-num`: continuous;\n",
    "- `marital-status`: `Married-civ-spouse`, `Divorced`, `Never-married`, `Separated`, `Widowed`, `Married-spouse-absent`, `Married-AF-spouse`,\n",
    "- `occupation`: `Tech-support`, `Craft-repair`, `Other-service`, `Sales`, `Exec-managerial`, `Prof-specialty`, `Handlers-cleaners`, `Machine-op-inspct`, `Adm-clerical`, `Farming-fishing`, `Transport-moving`, `Priv-house-serv`, `Protective-serv`, `Armed-Forces`;\n",
    "- `relationship`: `Wife`, `Own-child`, `Husband`, `Not-in-family`, `Other-relative`, `Unmarried`;\n",
    "- `race`: `White`, `Asian-Pac-Islander`, `Amer-Indian-Eskimo`, `Other`, `Black`;\n",
    "- `sex`: `Female`, `Male`;\n",
    "- `capital-gain`: continuous.\n",
    "- `capital-loss`: continuous.\n",
    "- `hours-per-week`: continuous.\n",
    "- `native-country`: `United-States`, `Cambodia`, `England`, `Puerto-Rico`, `Canada`, `Germany`, `Outlying-US(Guam-USVI-etc)`, `India`, `Japan`, `Greece`, `South`, `China`, `Cuba`, `Iran`, `Honduras`, `Philippines`, `Italy`, `Poland`, `Jamaica`, `Vietnam`, `Mexico`, `Portugal`, `Ireland`, `France`, `Dominican-Republic`, `Laos`, `Ecuador`, `Taiwan`, `Haiti`, `Columbia`, `Hungary`, `Guatemala`, `Nicaragua`, `Scotland`, `Thailand`, `Yugoslavia`, `El-Salvador`, `Trinadad&Tobago`, `Peru`, `Hong`, `Holand-Netherlands`;\n",
    "- `salary`: `>50K`, `<=50K`."
   ]
  },
  {
   "cell_type": "code",
   "execution_count": 4,
   "id": "e3fc7bc0",
   "metadata": {
    "ExecuteTime": {
     "start_time": "2023-04-13T14:14:24.836511Z",
     "end_time": "2023-04-13T14:14:24.850509Z"
    }
   },
   "outputs": [],
   "source": [
    "import numpy as np\n",
    "import pandas as pd\n",
    "\n",
    "pd.set_option(\"display.max.columns\", 100)\n",
    "# to draw pictures in jupyter notebook\n",
    "%matplotlib inline\n",
    "# we don't like warnings\n",
    "# you can comment the following 2 lines if you'd like to\n",
    "import warnings\n",
    "\n",
    "import matplotlib.pyplot as plt\n",
    "import seaborn as sns\n",
    "\n",
    "warnings.filterwarnings(\"ignore\")"
   ]
  },
  {
   "cell_type": "code",
   "execution_count": 5,
   "id": "049db75f",
   "metadata": {
    "ExecuteTime": {
     "start_time": "2023-04-13T14:14:26.074968Z",
     "end_time": "2023-04-13T14:14:26.096929Z"
    }
   },
   "outputs": [],
   "source": [
    "# for Jupyter-book, we copy data from GitHub, locally, to save Internet traffic,\n",
    "# you can specify the data/ folder from the root of your cloned\n",
    "# https://github.com/Yorko/mlcourse.ai repo, to save Internet traffic\n",
    "DATA_URL = \"https://raw.githubusercontent.com/Yorko/mlcourse.ai/master/data/\""
   ]
  },
  {
   "cell_type": "code",
   "execution_count": 6,
   "id": "ceb0251f",
   "metadata": {
    "ExecuteTime": {
     "start_time": "2023-04-13T14:14:27.836144Z",
     "end_time": "2023-04-13T14:14:29.060919Z"
    }
   },
   "outputs": [
    {
     "data": {
      "text/plain": "   age         workclass  fnlwgt  education  education-num  \\\n0   39         State-gov   77516  Bachelors             13   \n1   50  Self-emp-not-inc   83311  Bachelors             13   \n2   38           Private  215646    HS-grad              9   \n3   53           Private  234721       11th              7   \n4   28           Private  338409  Bachelors             13   \n\n       marital-status         occupation   relationship   race     sex  \\\n0       Never-married       Adm-clerical  Not-in-family  White    Male   \n1  Married-civ-spouse    Exec-managerial        Husband  White    Male   \n2            Divorced  Handlers-cleaners  Not-in-family  White    Male   \n3  Married-civ-spouse  Handlers-cleaners        Husband  Black    Male   \n4  Married-civ-spouse     Prof-specialty           Wife  Black  Female   \n\n   capital-gain  capital-loss  hours-per-week native-country salary  \n0          2174             0              40  United-States  <=50K  \n1             0             0              13  United-States  <=50K  \n2             0             0              40  United-States  <=50K  \n3             0             0              40  United-States  <=50K  \n4             0             0              40           Cuba  <=50K  ",
      "text/html": "<div>\n<style scoped>\n    .dataframe tbody tr th:only-of-type {\n        vertical-align: middle;\n    }\n\n    .dataframe tbody tr th {\n        vertical-align: top;\n    }\n\n    .dataframe thead th {\n        text-align: right;\n    }\n</style>\n<table border=\"1\" class=\"dataframe\">\n  <thead>\n    <tr style=\"text-align: right;\">\n      <th></th>\n      <th>age</th>\n      <th>workclass</th>\n      <th>fnlwgt</th>\n      <th>education</th>\n      <th>education-num</th>\n      <th>marital-status</th>\n      <th>occupation</th>\n      <th>relationship</th>\n      <th>race</th>\n      <th>sex</th>\n      <th>capital-gain</th>\n      <th>capital-loss</th>\n      <th>hours-per-week</th>\n      <th>native-country</th>\n      <th>salary</th>\n    </tr>\n  </thead>\n  <tbody>\n    <tr>\n      <th>0</th>\n      <td>39</td>\n      <td>State-gov</td>\n      <td>77516</td>\n      <td>Bachelors</td>\n      <td>13</td>\n      <td>Never-married</td>\n      <td>Adm-clerical</td>\n      <td>Not-in-family</td>\n      <td>White</td>\n      <td>Male</td>\n      <td>2174</td>\n      <td>0</td>\n      <td>40</td>\n      <td>United-States</td>\n      <td>&lt;=50K</td>\n    </tr>\n    <tr>\n      <th>1</th>\n      <td>50</td>\n      <td>Self-emp-not-inc</td>\n      <td>83311</td>\n      <td>Bachelors</td>\n      <td>13</td>\n      <td>Married-civ-spouse</td>\n      <td>Exec-managerial</td>\n      <td>Husband</td>\n      <td>White</td>\n      <td>Male</td>\n      <td>0</td>\n      <td>0</td>\n      <td>13</td>\n      <td>United-States</td>\n      <td>&lt;=50K</td>\n    </tr>\n    <tr>\n      <th>2</th>\n      <td>38</td>\n      <td>Private</td>\n      <td>215646</td>\n      <td>HS-grad</td>\n      <td>9</td>\n      <td>Divorced</td>\n      <td>Handlers-cleaners</td>\n      <td>Not-in-family</td>\n      <td>White</td>\n      <td>Male</td>\n      <td>0</td>\n      <td>0</td>\n      <td>40</td>\n      <td>United-States</td>\n      <td>&lt;=50K</td>\n    </tr>\n    <tr>\n      <th>3</th>\n      <td>53</td>\n      <td>Private</td>\n      <td>234721</td>\n      <td>11th</td>\n      <td>7</td>\n      <td>Married-civ-spouse</td>\n      <td>Handlers-cleaners</td>\n      <td>Husband</td>\n      <td>Black</td>\n      <td>Male</td>\n      <td>0</td>\n      <td>0</td>\n      <td>40</td>\n      <td>United-States</td>\n      <td>&lt;=50K</td>\n    </tr>\n    <tr>\n      <th>4</th>\n      <td>28</td>\n      <td>Private</td>\n      <td>338409</td>\n      <td>Bachelors</td>\n      <td>13</td>\n      <td>Married-civ-spouse</td>\n      <td>Prof-specialty</td>\n      <td>Wife</td>\n      <td>Black</td>\n      <td>Female</td>\n      <td>0</td>\n      <td>0</td>\n      <td>40</td>\n      <td>Cuba</td>\n      <td>&lt;=50K</td>\n    </tr>\n  </tbody>\n</table>\n</div>"
     },
     "execution_count": 6,
     "metadata": {},
     "output_type": "execute_result"
    }
   ],
   "source": [
    "data = pd.read_csv(DATA_URL + \"adult.data.csv\")\n",
    "data.head()"
   ]
  },
  {
   "cell_type": "code",
   "execution_count": 7,
   "outputs": [
    {
     "name": "stdout",
     "output_type": "stream",
     "text": [
      "<class 'pandas.core.frame.DataFrame'>\n",
      "RangeIndex: 32561 entries, 0 to 32560\n",
      "Data columns (total 15 columns):\n",
      " #   Column          Non-Null Count  Dtype \n",
      "---  ------          --------------  ----- \n",
      " 0   age             32561 non-null  int64 \n",
      " 1   workclass       32561 non-null  object\n",
      " 2   fnlwgt          32561 non-null  int64 \n",
      " 3   education       32561 non-null  object\n",
      " 4   education-num   32561 non-null  int64 \n",
      " 5   marital-status  32561 non-null  object\n",
      " 6   occupation      32561 non-null  object\n",
      " 7   relationship    32561 non-null  object\n",
      " 8   race            32561 non-null  object\n",
      " 9   sex             32561 non-null  object\n",
      " 10  capital-gain    32561 non-null  int64 \n",
      " 11  capital-loss    32561 non-null  int64 \n",
      " 12  hours-per-week  32561 non-null  int64 \n",
      " 13  native-country  32561 non-null  object\n",
      " 14  salary          32561 non-null  object\n",
      "dtypes: int64(6), object(9)\n",
      "memory usage: 3.7+ MB\n"
     ]
    }
   ],
   "source": [
    "data.info()"
   ],
   "metadata": {
    "collapsed": false,
    "ExecuteTime": {
     "start_time": "2023-04-13T14:15:54.534337Z",
     "end_time": "2023-04-13T14:15:54.583207Z"
    }
   }
  },
  {
   "cell_type": "markdown",
   "id": "350b610e",
   "metadata": {},
   "source": [
    "**1. How many men and women (*sex* feature) are represented in this dataset?**"
   ]
  },
  {
   "cell_type": "code",
   "execution_count": 8,
   "id": "ed766d14",
   "metadata": {
    "ExecuteTime": {
     "start_time": "2023-04-13T14:16:15.236541Z",
     "end_time": "2023-04-13T14:16:15.284424Z"
    }
   },
   "outputs": [
    {
     "data": {
      "text/plain": "Male      21790\nFemale    10771\nName: sex, dtype: int64"
     },
     "execution_count": 8,
     "metadata": {},
     "output_type": "execute_result"
    }
   ],
   "source": [
    "# You code here (read-only in a JupyterBook, pls run jupyter-notebook to edit)\n",
    "data[\"sex\"].value_counts()"
   ]
  },
  {
   "cell_type": "markdown",
   "id": "00b3189c",
   "metadata": {},
   "source": [
    "**2. What is the average age (*age* feature) of women?**"
   ]
  },
  {
   "cell_type": "code",
   "execution_count": 9,
   "id": "031be4bc",
   "metadata": {
    "ExecuteTime": {
     "start_time": "2023-04-13T14:17:21.916544Z",
     "end_time": "2023-04-13T14:17:21.979375Z"
    }
   },
   "outputs": [
    {
     "data": {
      "text/plain": "36.85823043357163"
     },
     "execution_count": 9,
     "metadata": {},
     "output_type": "execute_result"
    }
   ],
   "source": [
    "# You code here (read-only in a JupyterBook, pls run jupyter-notebook to edit)\n",
    "data[data[\"sex\"] == \"Female\"][\"age\"].mean()"
   ]
  },
  {
   "cell_type": "markdown",
   "id": "fdd15eac",
   "metadata": {},
   "source": [
    "**3. What is the percentage of German citizens (*native-country* feature)?**"
   ]
  },
  {
   "cell_type": "code",
   "execution_count": 10,
   "id": "24c8495c",
   "metadata": {
    "ExecuteTime": {
     "start_time": "2023-04-13T16:04:11.152617Z",
     "end_time": "2023-04-13T16:04:11.215156Z"
    }
   },
   "outputs": [
    {
     "data": {
      "text/plain": "United-States                 0.895857\nMexico                        0.019748\n?                             0.017905\nPhilippines                   0.006081\nGermany                       0.004207\nCanada                        0.003716\nPuerto-Rico                   0.003501\nEl-Salvador                   0.003255\nIndia                         0.003071\nCuba                          0.002918\nEngland                       0.002764\nJamaica                       0.002488\nSouth                         0.002457\nChina                         0.002303\nItaly                         0.002242\nDominican-Republic            0.002150\nVietnam                       0.002058\nGuatemala                     0.001966\nJapan                         0.001904\nPoland                        0.001843\nColumbia                      0.001812\nTaiwan                        0.001566\nHaiti                         0.001351\nIran                          0.001321\nPortugal                      0.001136\nNicaragua                     0.001044\nPeru                          0.000952\nFrance                        0.000891\nGreece                        0.000891\nEcuador                       0.000860\nIreland                       0.000737\nHong                          0.000614\nCambodia                      0.000584\nTrinadad&Tobago               0.000584\nThailand                      0.000553\nLaos                          0.000553\nYugoslavia                    0.000491\nOutlying-US(Guam-USVI-etc)    0.000430\nHonduras                      0.000399\nHungary                       0.000399\nScotland                      0.000369\nHoland-Netherlands            0.000031\nName: native-country, dtype: float64"
     },
     "execution_count": 10,
     "metadata": {},
     "output_type": "execute_result"
    }
   ],
   "source": [
    "# You code here (read-only in a JupyterBook, pls run jupyter-notebook to edit)\n",
    "data[\"native-country\"].value_counts(normalize=True)"
   ]
  },
  {
   "cell_type": "code",
   "execution_count": 11,
   "outputs": [
    {
     "data": {
      "text/plain": "0.004207487485028101"
     },
     "execution_count": 11,
     "metadata": {},
     "output_type": "execute_result"
    }
   ],
   "source": [
    "float((data[\"native-country\"] == \"Germany\").sum()) / data.shape[0]"
   ],
   "metadata": {
    "collapsed": false,
    "ExecuteTime": {
     "start_time": "2023-04-13T16:05:09.358921Z",
     "end_time": "2023-04-13T16:05:09.425261Z"
    }
   }
  },
  {
   "cell_type": "markdown",
   "id": "a2ced2c8",
   "metadata": {},
   "source": [
    "**4-5. What are the mean and standard deviation of age for those who earn more than 50K per year (*salary* feature) and those who earn less than 50K per year?**"
   ]
  },
  {
   "cell_type": "code",
   "execution_count": 12,
   "id": "6a330550",
   "metadata": {
    "ExecuteTime": {
     "start_time": "2023-04-13T16:08:12.643858Z",
     "end_time": "2023-04-13T16:08:12.732149Z"
    }
   },
   "outputs": [
    {
     "data": {
      "text/plain": "             mean        std\nsalary                      \n<=50K   36.783738  14.020088\n>50K    44.249841  10.519028",
      "text/html": "<div>\n<style scoped>\n    .dataframe tbody tr th:only-of-type {\n        vertical-align: middle;\n    }\n\n    .dataframe tbody tr th {\n        vertical-align: top;\n    }\n\n    .dataframe thead th {\n        text-align: right;\n    }\n</style>\n<table border=\"1\" class=\"dataframe\">\n  <thead>\n    <tr style=\"text-align: right;\">\n      <th></th>\n      <th>mean</th>\n      <th>std</th>\n    </tr>\n    <tr>\n      <th>salary</th>\n      <th></th>\n      <th></th>\n    </tr>\n  </thead>\n  <tbody>\n    <tr>\n      <th>&lt;=50K</th>\n      <td>36.783738</td>\n      <td>14.020088</td>\n    </tr>\n    <tr>\n      <th>&gt;50K</th>\n      <td>44.249841</td>\n      <td>10.519028</td>\n    </tr>\n  </tbody>\n</table>\n</div>"
     },
     "execution_count": 12,
     "metadata": {},
     "output_type": "execute_result"
    }
   ],
   "source": [
    "# You code here (read-only in a JupyterBook, pls run jupyter-notebook to edit)\n",
    "data.groupby([\"salary\"])[\"age\"].agg([np.mean, np.std])"
   ]
  },
  {
   "cell_type": "code",
   "execution_count": 13,
   "outputs": [
    {
     "name": "stdout",
     "output_type": "stream",
     "text": [
      "The average age of the rich: 44 +- 10.5 years, poor - 37 +- 14.0 years.\n"
     ]
    }
   ],
   "source": [
    "ages1 = data[data[\"salary\"] == \">50K\"][\"age\"]\n",
    "ages2 = data[data[\"salary\"] == \"<=50K\"][\"age\"]\n",
    "print(\n",
    "    \"The average age of the rich: {0} +- {1} years, poor - {2} +- {3} years.\".format(\n",
    "        round(ages1.mean()),\n",
    "        round(ages1.std(), 1),\n",
    "        round(ages2.mean()),\n",
    "        round(ages2.std(), 1),\n",
    "    )\n",
    ")"
   ],
   "metadata": {
    "collapsed": false,
    "ExecuteTime": {
     "start_time": "2023-04-13T16:08:56.390074Z",
     "end_time": "2023-04-13T16:08:56.470433Z"
    }
   }
  },
  {
   "cell_type": "markdown",
   "id": "88b9881d",
   "metadata": {},
   "source": [
    "**6. Is it true that people who earn more than 50K have at least high school education? (*education* – `Bachelors`, `Prof-school`, `Assoc-acdm`, `Assoc-voc`, `Masters` or `Doctorate` feature)**"
   ]
  },
  {
   "cell_type": "code",
   "execution_count": 14,
   "id": "33d1d97e",
   "metadata": {
    "ExecuteTime": {
     "start_time": "2023-04-13T16:10:41.931202Z",
     "end_time": "2023-04-13T16:10:41.980937Z"
    }
   },
   "outputs": [
    {
     "data": {
      "text/plain": "Bachelors       2221\nHS-grad         1675\nSome-college    1387\nMasters          959\nProf-school      423\nAssoc-voc        361\nDoctorate        306\nAssoc-acdm       265\n10th              62\n11th              60\n7th-8th           40\n12th              33\n9th               27\n5th-6th           16\n1st-4th            6\nName: education, dtype: int64"
     },
     "execution_count": 14,
     "metadata": {},
     "output_type": "execute_result"
    }
   ],
   "source": [
    "# You code here (read-only in a JupyterBook, pls run jupyter-notebook to edit)\n",
    "data[data[\"salary\"] == \">50K\"][\"education\"].value_counts()"
   ]
  },
  {
   "cell_type": "markdown",
   "id": "4f02bc75",
   "metadata": {},
   "source": [
    "**7. Display age statistics for each race (*race* feature) and each gender (*sex* feature). Use *groupby()* and *describe()*. Find the maximum age of men of `Amer-Indian-Eskimo` race.**"
   ]
  },
  {
   "cell_type": "code",
   "execution_count": 17,
   "id": "723b6dc3",
   "metadata": {
    "ExecuteTime": {
     "start_time": "2023-04-13T16:14:33.316378Z",
     "end_time": "2023-04-13T16:14:33.405943Z"
    }
   },
   "outputs": [
    {
     "data": {
      "text/plain": "                             count       mean        std   min   25%   50%  \\\nrace               sex                                                       \nAmer-Indian-Eskimo Female    119.0  37.117647  13.114991  17.0  27.0  36.0   \n                   Male      192.0  37.208333  12.049563  17.0  28.0  35.0   \nAsian-Pac-Islander Female    346.0  35.089595  12.300845  17.0  25.0  33.0   \n                   Male      693.0  39.073593  12.883944  18.0  29.0  37.0   \nBlack              Female   1555.0  37.854019  12.637197  17.0  28.0  37.0   \n                   Male     1569.0  37.682600  12.882612  17.0  27.0  36.0   \nOther              Female    109.0  31.678899  11.631599  17.0  23.0  29.0   \n                   Male      162.0  34.654321  11.355531  17.0  26.0  32.0   \nWhite              Female   8642.0  36.811618  14.329093  17.0  25.0  35.0   \n                   Male    19174.0  39.652498  13.436029  17.0  29.0  38.0   \n\n                             75%   max  \nrace               sex                  \nAmer-Indian-Eskimo Female  46.00  80.0  \n                   Male    45.00  82.0  \nAsian-Pac-Islander Female  43.75  75.0  \n                   Male    46.00  90.0  \nBlack              Female  46.00  90.0  \n                   Male    46.00  90.0  \nOther              Female  39.00  74.0  \n                   Male    42.00  77.0  \nWhite              Female  46.00  90.0  \n                   Male    49.00  90.0  ",
      "text/html": "<div>\n<style scoped>\n    .dataframe tbody tr th:only-of-type {\n        vertical-align: middle;\n    }\n\n    .dataframe tbody tr th {\n        vertical-align: top;\n    }\n\n    .dataframe thead th {\n        text-align: right;\n    }\n</style>\n<table border=\"1\" class=\"dataframe\">\n  <thead>\n    <tr style=\"text-align: right;\">\n      <th></th>\n      <th></th>\n      <th>count</th>\n      <th>mean</th>\n      <th>std</th>\n      <th>min</th>\n      <th>25%</th>\n      <th>50%</th>\n      <th>75%</th>\n      <th>max</th>\n    </tr>\n    <tr>\n      <th>race</th>\n      <th>sex</th>\n      <th></th>\n      <th></th>\n      <th></th>\n      <th></th>\n      <th></th>\n      <th></th>\n      <th></th>\n      <th></th>\n    </tr>\n  </thead>\n  <tbody>\n    <tr>\n      <th rowspan=\"2\" valign=\"top\">Amer-Indian-Eskimo</th>\n      <th>Female</th>\n      <td>119.0</td>\n      <td>37.117647</td>\n      <td>13.114991</td>\n      <td>17.0</td>\n      <td>27.0</td>\n      <td>36.0</td>\n      <td>46.00</td>\n      <td>80.0</td>\n    </tr>\n    <tr>\n      <th>Male</th>\n      <td>192.0</td>\n      <td>37.208333</td>\n      <td>12.049563</td>\n      <td>17.0</td>\n      <td>28.0</td>\n      <td>35.0</td>\n      <td>45.00</td>\n      <td>82.0</td>\n    </tr>\n    <tr>\n      <th rowspan=\"2\" valign=\"top\">Asian-Pac-Islander</th>\n      <th>Female</th>\n      <td>346.0</td>\n      <td>35.089595</td>\n      <td>12.300845</td>\n      <td>17.0</td>\n      <td>25.0</td>\n      <td>33.0</td>\n      <td>43.75</td>\n      <td>75.0</td>\n    </tr>\n    <tr>\n      <th>Male</th>\n      <td>693.0</td>\n      <td>39.073593</td>\n      <td>12.883944</td>\n      <td>18.0</td>\n      <td>29.0</td>\n      <td>37.0</td>\n      <td>46.00</td>\n      <td>90.0</td>\n    </tr>\n    <tr>\n      <th rowspan=\"2\" valign=\"top\">Black</th>\n      <th>Female</th>\n      <td>1555.0</td>\n      <td>37.854019</td>\n      <td>12.637197</td>\n      <td>17.0</td>\n      <td>28.0</td>\n      <td>37.0</td>\n      <td>46.00</td>\n      <td>90.0</td>\n    </tr>\n    <tr>\n      <th>Male</th>\n      <td>1569.0</td>\n      <td>37.682600</td>\n      <td>12.882612</td>\n      <td>17.0</td>\n      <td>27.0</td>\n      <td>36.0</td>\n      <td>46.00</td>\n      <td>90.0</td>\n    </tr>\n    <tr>\n      <th rowspan=\"2\" valign=\"top\">Other</th>\n      <th>Female</th>\n      <td>109.0</td>\n      <td>31.678899</td>\n      <td>11.631599</td>\n      <td>17.0</td>\n      <td>23.0</td>\n      <td>29.0</td>\n      <td>39.00</td>\n      <td>74.0</td>\n    </tr>\n    <tr>\n      <th>Male</th>\n      <td>162.0</td>\n      <td>34.654321</td>\n      <td>11.355531</td>\n      <td>17.0</td>\n      <td>26.0</td>\n      <td>32.0</td>\n      <td>42.00</td>\n      <td>77.0</td>\n    </tr>\n    <tr>\n      <th rowspan=\"2\" valign=\"top\">White</th>\n      <th>Female</th>\n      <td>8642.0</td>\n      <td>36.811618</td>\n      <td>14.329093</td>\n      <td>17.0</td>\n      <td>25.0</td>\n      <td>35.0</td>\n      <td>46.00</td>\n      <td>90.0</td>\n    </tr>\n    <tr>\n      <th>Male</th>\n      <td>19174.0</td>\n      <td>39.652498</td>\n      <td>13.436029</td>\n      <td>17.0</td>\n      <td>29.0</td>\n      <td>38.0</td>\n      <td>49.00</td>\n      <td>90.0</td>\n    </tr>\n  </tbody>\n</table>\n</div>"
     },
     "execution_count": 17,
     "metadata": {},
     "output_type": "execute_result"
    }
   ],
   "source": [
    "# You code here (read-only in a JupyterBook, pls run jupyter-notebook to edit)\n",
    "data.groupby(by=[\"race\", \"sex\"])[\"age\"].describe()"
   ]
  },
  {
   "cell_type": "code",
   "execution_count": 18,
   "outputs": [
    {
     "name": "stdout",
     "output_type": "stream",
     "text": [
      "Race: Amer-Indian-Eskimo, sex: Female\n",
      "count    119.000000\n",
      "mean      37.117647\n",
      "std       13.114991\n",
      "min       17.000000\n",
      "25%       27.000000\n",
      "50%       36.000000\n",
      "75%       46.000000\n",
      "max       80.000000\n",
      "Name: age, dtype: float64\n",
      "Race: Amer-Indian-Eskimo, sex: Male\n",
      "count    192.000000\n",
      "mean      37.208333\n",
      "std       12.049563\n",
      "min       17.000000\n",
      "25%       28.000000\n",
      "50%       35.000000\n",
      "75%       45.000000\n",
      "max       82.000000\n",
      "Name: age, dtype: float64\n",
      "Race: Asian-Pac-Islander, sex: Female\n",
      "count    346.000000\n",
      "mean      35.089595\n",
      "std       12.300845\n",
      "min       17.000000\n",
      "25%       25.000000\n",
      "50%       33.000000\n",
      "75%       43.750000\n",
      "max       75.000000\n",
      "Name: age, dtype: float64\n",
      "Race: Asian-Pac-Islander, sex: Male\n",
      "count    693.000000\n",
      "mean      39.073593\n",
      "std       12.883944\n",
      "min       18.000000\n",
      "25%       29.000000\n",
      "50%       37.000000\n",
      "75%       46.000000\n",
      "max       90.000000\n",
      "Name: age, dtype: float64\n",
      "Race: Black, sex: Female\n",
      "count    1555.000000\n",
      "mean       37.854019\n",
      "std        12.637197\n",
      "min        17.000000\n",
      "25%        28.000000\n",
      "50%        37.000000\n",
      "75%        46.000000\n",
      "max        90.000000\n",
      "Name: age, dtype: float64\n",
      "Race: Black, sex: Male\n",
      "count    1569.000000\n",
      "mean       37.682600\n",
      "std        12.882612\n",
      "min        17.000000\n",
      "25%        27.000000\n",
      "50%        36.000000\n",
      "75%        46.000000\n",
      "max        90.000000\n",
      "Name: age, dtype: float64\n",
      "Race: Other, sex: Female\n",
      "count    109.000000\n",
      "mean      31.678899\n",
      "std       11.631599\n",
      "min       17.000000\n",
      "25%       23.000000\n",
      "50%       29.000000\n",
      "75%       39.000000\n",
      "max       74.000000\n",
      "Name: age, dtype: float64\n",
      "Race: Other, sex: Male\n",
      "count    162.000000\n",
      "mean      34.654321\n",
      "std       11.355531\n",
      "min       17.000000\n",
      "25%       26.000000\n",
      "50%       32.000000\n",
      "75%       42.000000\n",
      "max       77.000000\n",
      "Name: age, dtype: float64\n",
      "Race: White, sex: Female\n",
      "count    8642.000000\n",
      "mean       36.811618\n",
      "std        14.329093\n",
      "min        17.000000\n",
      "25%        25.000000\n",
      "50%        35.000000\n",
      "75%        46.000000\n",
      "max        90.000000\n",
      "Name: age, dtype: float64\n",
      "Race: White, sex: Male\n",
      "count    19174.000000\n",
      "mean        39.652498\n",
      "std         13.436029\n",
      "min         17.000000\n",
      "25%         29.000000\n",
      "50%         38.000000\n",
      "75%         49.000000\n",
      "max         90.000000\n",
      "Name: age, dtype: float64\n"
     ]
    }
   ],
   "source": [
    "for (race, sex), sub_df in data.groupby([\"race\", \"sex\"]):\n",
    "    print(\"Race: {0}, sex: {1}\".format(race, sex))\n",
    "    print(sub_df[\"age\"].describe())"
   ],
   "metadata": {
    "collapsed": false,
    "ExecuteTime": {
     "start_time": "2023-04-13T16:15:31.478161Z",
     "end_time": "2023-04-13T16:15:31.615055Z"
    }
   }
  },
  {
   "cell_type": "markdown",
   "id": "87488d82",
   "metadata": {},
   "source": [
    "**8. Among whom is the proportion of those who earn a lot (`>50K`) greater: married or single men (*marital-status* feature)? Consider as married those who have a *marital-status* starting with *Married* (`Married-civ-spouse`, `Married-spouse-absent` or `Married-AF-spouse`), the rest are considered bachelors.**"
   ]
  },
  {
   "cell_type": "code",
   "execution_count": 25,
   "id": "370d2b2f",
   "metadata": {
    "ExecuteTime": {
     "start_time": "2023-04-13T16:58:06.285499Z",
     "end_time": "2023-04-13T16:58:06.335879Z"
    }
   },
   "outputs": [
    {
     "data": {
      "text/plain": "marital-status  salary\nMarried         <=50K     0.559486\n                >50K      0.440514\nUnmarried       <=50K     0.915505\n                >50K      0.084495\nName: salary, dtype: float64"
     },
     "execution_count": 25,
     "metadata": {},
     "output_type": "execute_result"
    }
   ],
   "source": [
    "# You code here (read-only in a JupyterBook, pls run jupyter-notebook to edit)\n",
    "males = data[data[\"sex\"] == \"Male\"]\n",
    "males[\"marital-status\"] = males[\"marital-status\"].apply(lambda status: \"Married\" if str(status).startswith(\"Married\") else \"Unmarried\")\n",
    "males.head()\n",
    "males.groupby(by=[\"marital-status\"])[\"salary\"].value_counts(normalize=True)"
   ]
  },
  {
   "cell_type": "markdown",
   "id": "fa9eece4",
   "metadata": {},
   "source": [
    "**9. What is the maximum number of hours a person works per week (*hours-per-week* feature)? How many people work such a number of hours, and what is the percentage of those who earn a lot (`>50K`) among them?**"
   ]
  },
  {
   "cell_type": "code",
   "execution_count": 34,
   "id": "9c733567",
   "metadata": {
    "ExecuteTime": {
     "start_time": "2023-04-13T17:12:49.784370Z",
     "end_time": "2023-04-13T17:12:49.842300Z"
    }
   },
   "outputs": [
    {
     "name": "stdout",
     "output_type": "stream",
     "text": [
      "[INFO] max hrs worked: 99......\n",
      "[INFO] 85 ppl work 99 hrs per week......\n"
     ]
    },
    {
     "data": {
      "text/plain": "<=50K    0.705882\n>50K     0.294118\nName: salary, dtype: float64"
     },
     "execution_count": 34,
     "metadata": {},
     "output_type": "execute_result"
    }
   ],
   "source": [
    "# You code here (read-only in a JupyterBook, pls run jupyter-notebook to edit)\n",
    "max_hrs_per_week = data[\"hours-per-week\"].max()\n",
    "print(f\"[INFO] max hrs worked: {max_hrs_per_week}......\")\n",
    "\n",
    "how_many_ppl = data[data[\"hours-per-week\"] == max_hrs_per_week].shape[0]\n",
    "print(f\"[INFO] {how_many_ppl} ppl work {max_hrs_per_week} hrs per week......\")\n",
    "\n",
    "data[data[\"hours-per-week\"] == max_hrs_per_week][\"salary\"].value_counts(normalize=True)"
   ]
  },
  {
   "cell_type": "code",
   "execution_count": 36,
   "outputs": [
    {
     "name": "stdout",
     "output_type": "stream",
     "text": [
      "Max time - 99 hours./week.\n",
      "Total number of such hard workers 85\n",
      "Percentage of rich among them 29%\n"
     ]
    }
   ],
   "source": [
    "max_load = data[\"hours-per-week\"].max()\n",
    "print(\"Max time - {0} hours./week.\".format(max_load))\n",
    "\n",
    "num_workaholics = data[data[\"hours-per-week\"] == max_load].shape[0]\n",
    "print(\"Total number of such hard workers {0}\".format(num_workaholics))\n",
    "\n",
    "rich_share = (\n",
    "    float(\n",
    "        data[(data[\"hours-per-week\"] == max_load) & (data[\"salary\"] == \">50K\")].shape[0]\n",
    "    )\n",
    "    / num_workaholics\n",
    ")\n",
    "print(\"Percentage of rich among them {0}%\".format(int(100 * rich_share)))"
   ],
   "metadata": {
    "collapsed": false,
    "ExecuteTime": {
     "start_time": "2023-04-13T17:14:21.794821Z",
     "end_time": "2023-04-13T17:14:21.940885Z"
    }
   }
  },
  {
   "cell_type": "markdown",
   "id": "7e626370",
   "metadata": {},
   "source": [
    "**10. Count the average time of work (*hours-per-week*) for those who earn a little and a lot (*salary*) for each country (*native-country*). What will these be for Japan?**"
   ]
  },
  {
   "cell_type": "code",
   "execution_count": 39,
   "id": "d6b6a8a1",
   "metadata": {
    "ExecuteTime": {
     "start_time": "2023-04-13T17:21:45.138467Z",
     "end_time": "2023-04-13T17:21:45.212853Z"
    }
   },
   "outputs": [
    {
     "data": {
      "text/plain": "native-country  salary\n?               <=50K     40.164760\n                >50K      45.547945\nCambodia        <=50K     41.416667\n                >50K      40.000000\nCanada          <=50K     37.914634\n                            ...    \nUnited-States   >50K      45.505369\nVietnam         <=50K     37.193548\n                >50K      39.200000\nYugoslavia      <=50K     41.600000\n                >50K      49.500000\nName: hours-per-week, Length: 82, dtype: float64"
     },
     "execution_count": 39,
     "metadata": {},
     "output_type": "execute_result"
    }
   ],
   "source": [
    "# You code here (read-only in a JupyterBook, pls run jupyter-notebook to edit)\n",
    "data.groupby(by=[\"native-country\", \"salary\"])[\"hours-per-week\"].agg(np.mean)"
   ]
  },
  {
   "cell_type": "code",
   "execution_count": 40,
   "outputs": [
    {
     "data": {
      "text/plain": "native-country          ?   Cambodia     Canada      China   Columbia  \\\nsalary                                                                  \n<=50K           40.164760  41.416667  37.914634  37.381818  38.684211   \n>50K            45.547945  40.000000  45.641026  38.900000  50.000000   \n\nnative-country       Cuba  Dominican-Republic    Ecuador  El-Salvador  \\\nsalary                                                                  \n<=50K           37.985714           42.338235  38.041667    36.030928   \n>50K            42.440000           47.000000  48.750000    45.000000   \n\nnative-country    England     France    Germany     Greece  Guatemala   Haiti  \\\nsalary                                                                          \n<=50K           40.483333  41.058824  39.139785  41.809524  39.360656  36.325   \n>50K            44.533333  50.750000  44.977273  50.625000  36.666667  42.750   \n\nnative-country  Holand-Netherlands   Honduras       Hong  Hungary      India  \\\nsalary                                                                         \n<=50K                         40.0  34.333333  39.142857     31.3  38.233333   \n>50K                           NaN  60.000000  45.000000     50.0  46.475000   \n\nnative-country   Iran    Ireland   Italy    Jamaica      Japan    Laos  \\\nsalary                                                                   \n<=50K           41.44  40.947368  39.625  38.239437  41.000000  40.375   \n>50K            47.50  48.000000  45.400  41.100000  47.958333  40.000   \n\nnative-country     Mexico  Nicaragua  Outlying-US(Guam-USVI-etc)       Peru  \\\nsalary                                                                        \n<=50K           40.003279   36.09375                   41.857143  35.068966   \n>50K            46.575758   37.50000                         NaN  40.000000   \n\nnative-country  Philippines     Poland   Portugal  Puerto-Rico   Scotland  \\\nsalary                                                                      \n<=50K             38.065693  38.166667  41.939394    38.470588  39.444444   \n>50K              43.032787  39.000000  41.500000    39.416667  46.666667   \n\nnative-country     South     Taiwan   Thailand  Trinadad&Tobago  \\\nsalary                                                            \n<=50K           40.15625  33.774194  42.866667        37.058824   \n>50K            51.43750  46.800000  58.333333        40.000000   \n\nnative-country  United-States    Vietnam  Yugoslavia  \nsalary                                                \n<=50K               38.799127  37.193548        41.6  \n>50K                45.505369  39.200000        49.5  ",
      "text/html": "<div>\n<style scoped>\n    .dataframe tbody tr th:only-of-type {\n        vertical-align: middle;\n    }\n\n    .dataframe tbody tr th {\n        vertical-align: top;\n    }\n\n    .dataframe thead th {\n        text-align: right;\n    }\n</style>\n<table border=\"1\" class=\"dataframe\">\n  <thead>\n    <tr style=\"text-align: right;\">\n      <th>native-country</th>\n      <th>?</th>\n      <th>Cambodia</th>\n      <th>Canada</th>\n      <th>China</th>\n      <th>Columbia</th>\n      <th>Cuba</th>\n      <th>Dominican-Republic</th>\n      <th>Ecuador</th>\n      <th>El-Salvador</th>\n      <th>England</th>\n      <th>France</th>\n      <th>Germany</th>\n      <th>Greece</th>\n      <th>Guatemala</th>\n      <th>Haiti</th>\n      <th>Holand-Netherlands</th>\n      <th>Honduras</th>\n      <th>Hong</th>\n      <th>Hungary</th>\n      <th>India</th>\n      <th>Iran</th>\n      <th>Ireland</th>\n      <th>Italy</th>\n      <th>Jamaica</th>\n      <th>Japan</th>\n      <th>Laos</th>\n      <th>Mexico</th>\n      <th>Nicaragua</th>\n      <th>Outlying-US(Guam-USVI-etc)</th>\n      <th>Peru</th>\n      <th>Philippines</th>\n      <th>Poland</th>\n      <th>Portugal</th>\n      <th>Puerto-Rico</th>\n      <th>Scotland</th>\n      <th>South</th>\n      <th>Taiwan</th>\n      <th>Thailand</th>\n      <th>Trinadad&amp;Tobago</th>\n      <th>United-States</th>\n      <th>Vietnam</th>\n      <th>Yugoslavia</th>\n    </tr>\n    <tr>\n      <th>salary</th>\n      <th></th>\n      <th></th>\n      <th></th>\n      <th></th>\n      <th></th>\n      <th></th>\n      <th></th>\n      <th></th>\n      <th></th>\n      <th></th>\n      <th></th>\n      <th></th>\n      <th></th>\n      <th></th>\n      <th></th>\n      <th></th>\n      <th></th>\n      <th></th>\n      <th></th>\n      <th></th>\n      <th></th>\n      <th></th>\n      <th></th>\n      <th></th>\n      <th></th>\n      <th></th>\n      <th></th>\n      <th></th>\n      <th></th>\n      <th></th>\n      <th></th>\n      <th></th>\n      <th></th>\n      <th></th>\n      <th></th>\n      <th></th>\n      <th></th>\n      <th></th>\n      <th></th>\n      <th></th>\n      <th></th>\n      <th></th>\n    </tr>\n  </thead>\n  <tbody>\n    <tr>\n      <th>&lt;=50K</th>\n      <td>40.164760</td>\n      <td>41.416667</td>\n      <td>37.914634</td>\n      <td>37.381818</td>\n      <td>38.684211</td>\n      <td>37.985714</td>\n      <td>42.338235</td>\n      <td>38.041667</td>\n      <td>36.030928</td>\n      <td>40.483333</td>\n      <td>41.058824</td>\n      <td>39.139785</td>\n      <td>41.809524</td>\n      <td>39.360656</td>\n      <td>36.325</td>\n      <td>40.0</td>\n      <td>34.333333</td>\n      <td>39.142857</td>\n      <td>31.3</td>\n      <td>38.233333</td>\n      <td>41.44</td>\n      <td>40.947368</td>\n      <td>39.625</td>\n      <td>38.239437</td>\n      <td>41.000000</td>\n      <td>40.375</td>\n      <td>40.003279</td>\n      <td>36.09375</td>\n      <td>41.857143</td>\n      <td>35.068966</td>\n      <td>38.065693</td>\n      <td>38.166667</td>\n      <td>41.939394</td>\n      <td>38.470588</td>\n      <td>39.444444</td>\n      <td>40.15625</td>\n      <td>33.774194</td>\n      <td>42.866667</td>\n      <td>37.058824</td>\n      <td>38.799127</td>\n      <td>37.193548</td>\n      <td>41.6</td>\n    </tr>\n    <tr>\n      <th>&gt;50K</th>\n      <td>45.547945</td>\n      <td>40.000000</td>\n      <td>45.641026</td>\n      <td>38.900000</td>\n      <td>50.000000</td>\n      <td>42.440000</td>\n      <td>47.000000</td>\n      <td>48.750000</td>\n      <td>45.000000</td>\n      <td>44.533333</td>\n      <td>50.750000</td>\n      <td>44.977273</td>\n      <td>50.625000</td>\n      <td>36.666667</td>\n      <td>42.750</td>\n      <td>NaN</td>\n      <td>60.000000</td>\n      <td>45.000000</td>\n      <td>50.0</td>\n      <td>46.475000</td>\n      <td>47.50</td>\n      <td>48.000000</td>\n      <td>45.400</td>\n      <td>41.100000</td>\n      <td>47.958333</td>\n      <td>40.000</td>\n      <td>46.575758</td>\n      <td>37.50000</td>\n      <td>NaN</td>\n      <td>40.000000</td>\n      <td>43.032787</td>\n      <td>39.000000</td>\n      <td>41.500000</td>\n      <td>39.416667</td>\n      <td>46.666667</td>\n      <td>51.43750</td>\n      <td>46.800000</td>\n      <td>58.333333</td>\n      <td>40.000000</td>\n      <td>45.505369</td>\n      <td>39.200000</td>\n      <td>49.5</td>\n    </tr>\n  </tbody>\n</table>\n</div>"
     },
     "execution_count": 40,
     "metadata": {},
     "output_type": "execute_result"
    }
   ],
   "source": [
    "pd.crosstab(\n",
    "    data[\"native-country\"],\n",
    "    data[\"salary\"],\n",
    "    values=data[\"hours-per-week\"],\n",
    "    aggfunc=np.mean,\n",
    ").T"
   ],
   "metadata": {
    "collapsed": false,
    "ExecuteTime": {
     "start_time": "2023-04-13T17:22:10.745860Z",
     "end_time": "2023-04-13T17:22:10.868536Z"
    }
   }
  },
  {
   "cell_type": "code",
   "execution_count": null,
   "outputs": [],
   "source": [],
   "metadata": {
    "collapsed": false
   }
  }
 ],
 "metadata": {
  "jupytext": {
   "formats": "md:myst",
   "text_representation": {
    "extension": ".md",
    "format_name": "myst"
   }
  },
  "kernelspec": {
   "display_name": "Python 3",
   "language": "python",
   "name": "python3"
  },
  "language_info": {
   "codemirror_mode": {
    "name": "ipython",
    "version": 3
   },
   "file_extension": ".py",
   "mimetype": "text/x-python",
   "name": "python",
   "nbconvert_exporter": "python",
   "pygments_lexer": "ipython3",
   "version": "3.10.9"
  },
  "source_map": [
   11,
   48,
   66,
   74,
   77,
   82,
   84,
   89,
   91,
   96,
   98,
   103,
   105,
   110,
   112,
   117,
   119,
   124,
   126,
   131,
   133,
   138
  ]
 },
 "nbformat": 4,
 "nbformat_minor": 5
}
