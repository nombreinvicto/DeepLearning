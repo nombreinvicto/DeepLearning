{
 "cells": [
  {
   "cell_type": "code",
   "execution_count": null,
   "metadata": {
    "collapsed": true,
    "ExecuteTime": {
     "end_time": "2023-06-06T03:19:15.470832900Z",
     "start_time": "2023-06-06T03:19:15.429942100Z"
    }
   },
   "outputs": [],
   "source": [
    "! pip install opencv-python == 4.5.5.64"
   ]
  },
  {
   "cell_type": "code",
   "execution_count": null,
   "outputs": [],
   "source": [
    "import sys\n",
    "from google.colab import drive\n",
    "\n",
    "drive.mount('/content/drive')\n",
    "sys.path.append(r\"/content/drive/MyDrive/\")"
   ],
   "metadata": {
    "collapsed": false,
    "ExecuteTime": {
     "end_time": "2023-06-06T03:19:15.475823300Z",
     "start_time": "2023-06-06T03:19:15.460859300Z"
    }
   }
  },
  {
   "cell_type": "code",
   "execution_count": null,
   "outputs": [],
   "source": [
    "# import the necessary packages\n",
    "from loader_util.preprocessing import ImageToArrayPreprocessor\n",
    "from loader_util.preprocessing import SimplePreprocessor\n",
    "from loader_util.preprocessing import PatchPreprocessor\n",
    "from loader_util.preprocessing import MeanPreprocessor\n",
    "from loader_util.callbacks import TrainingMonitor\n",
    "from loader_util.io import HDF5DatasetGenerator\n",
    "from loader_util.nn.conv import AlexNet\n",
    "from tensorflow.keras.preprocessing.image import ImageDataGenerator\n",
    "from tensorflow.keras.optimizers import Adam\n",
    "import json\n",
    "import os"
   ],
   "metadata": {
    "collapsed": false,
    "ExecuteTime": {
     "end_time": "2023-06-06T03:19:15.476817100Z",
     "start_time": "2023-06-06T03:19:15.471832900Z"
    }
   }
  },
  {
   "cell_type": "code",
   "execution_count": null,
   "outputs": [],
   "source": [
    "# script constants\n",
    "mean_json_path = r\"\"\n",
    "train_dataset_path = r\"\"\n",
    "valid_dataset_path = r\"\"\n",
    "batch_size = 128\n",
    "num_epochs = 100\n",
    "output_path = r\"\"\n",
    "model_output_path = os.path.sep.join([output_path, \"saved_model.h5\"])"
   ],
   "metadata": {
    "collapsed": false
   }
  },
  {
   "cell_type": "code",
   "execution_count": null,
   "outputs": [],
   "source": [
    "# construct the data augmentor\n",
    "aug = ImageDataGenerator(rotation_range=20,\n",
    "                         zoom_range=0.15,\n",
    "                         width_shift_range=0.2,\n",
    "                         height_shift_range=0.2,\n",
    "                         shear_range=0.15,\n",
    "                         horizontal_flip=True,\n",
    "                         fill_mode=\"nearest\")"
   ],
   "metadata": {
    "collapsed": false,
    "ExecuteTime": {
     "end_time": "2023-06-06T03:19:15.490781400Z",
     "start_time": "2023-06-06T03:19:15.478811400Z"
    }
   }
  },
  {
   "cell_type": "code",
   "execution_count": null,
   "outputs": [],
   "source": [
    "# load the RGB means for the training set\n",
    "means = json.loads(open(mean_json_path).read())\n",
    "\n",
    "# initialize the image preprocessors\n",
    "sp = SimplePreprocessor(227, 227)\n",
    "pp = PatchPreprocessor(227, 227)\n",
    "mp = MeanPreprocessor(means[\"R\"], means[\"G\"], means[\"B\"])\n",
    "iap = ImageToArrayPreprocessor()"
   ],
   "metadata": {
    "collapsed": false,
    "ExecuteTime": {
     "end_time": "2023-06-06T03:19:15.491777300Z",
     "start_time": "2023-06-06T03:19:15.478811400Z"
    }
   }
  },
  {
   "cell_type": "code",
   "execution_count": null,
   "outputs": [],
   "source": [
    "# init the train and valis dataset generators\n",
    "train_gen = HDF5DatasetGenerator(dbpath=train_dataset_path,\n",
    "                                 batch_size=batch_size,\n",
    "                                 aug=aug,\n",
    "                                 preprocessors=[pp, mp, iap])\n",
    "\n",
    "val_gen = HDF5DatasetGenerator(dbpath=valid_dataset_path,\n",
    "                               batch_size=batch_size,\n",
    "                               preprocessors=[sp, mp, iap])"
   ],
   "metadata": {
    "collapsed": false,
    "ExecuteTime": {
     "end_time": "2023-06-06T03:19:15.493771800Z",
     "start_time": "2023-06-06T03:19:15.479809600Z"
    }
   }
  },
  {
   "cell_type": "code",
   "execution_count": null,
   "outputs": [],
   "source": [
    "# initialize the optimizer\n",
    "print(\"[INFO] compiling model...\")\n",
    "opt = Adam(lr=1e-3)\n",
    "model = AlexNet.build(width=227, height=227, depth=3, classes=2, reg=0.0002)\n",
    "model.compile(loss=\"binary_crossentropy\", optimizer=opt, metrics=[\"accuracy\"])\n",
    "\n",
    "# construct the set of callbacks\n",
    "path = os.path.sep.join([output_path, \"{}.png\".format(os.getpid())])\n",
    "callbacks = [TrainingMonitor(path)]"
   ],
   "metadata": {
    "collapsed": false,
    "ExecuteTime": {
     "end_time": "2023-06-06T03:19:15.495766700Z",
     "start_time": "2023-06-06T03:19:15.480805700Z"
    }
   }
  },
  {
   "cell_type": "code",
   "execution_count": null,
   "outputs": [],
   "source": [
    "# train the network\n",
    "H = model.fit_generator(train_gen.generator(),\n",
    "                        steps_per_epoch=train_gen.num_images // batch_size,\n",
    "                        validation_data=val_gen.generator(),\n",
    "                        validation_steps=val_gen.numImages // batch_size,\n",
    "                        epochs=num_epochs,\n",
    "                        max_queue_size=10,\n",
    "                        callbacks=callbacks,\n",
    "                        verbose=1)"
   ],
   "metadata": {
    "collapsed": false,
    "ExecuteTime": {
     "end_time": "2023-06-06T03:19:15.496762700Z",
     "start_time": "2023-06-06T03:19:15.480805700Z"
    }
   }
  },
  {
   "cell_type": "code",
   "execution_count": null,
   "outputs": [],
   "source": [
    "# save the model to file\n",
    "print(\"[INFO] serializing model...\")\n",
    "model.save(model_output_path, overwrite=True)\n",
    "# close the HDF5 datasets\n",
    "train_gen.close()\n",
    "val_gen.close()"
   ],
   "metadata": {
    "collapsed": false,
    "ExecuteTime": {
     "end_time": "2023-06-06T03:19:15.581537200Z",
     "start_time": "2023-06-06T03:19:15.496762700Z"
    }
   }
  },
  {
   "cell_type": "code",
   "execution_count": null,
   "outputs": [],
   "source": [],
   "metadata": {
    "collapsed": false
   }
  }
 ],
 "metadata": {
  "kernelspec": {
   "display_name": "Python 3",
   "language": "python",
   "name": "python3"
  },
  "language_info": {
   "codemirror_mode": {
    "name": "ipython",
    "version": 2
   },
   "file_extension": ".py",
   "mimetype": "text/x-python",
   "name": "python",
   "nbconvert_exporter": "python",
   "pygments_lexer": "ipython2",
   "version": "2.7.6"
  }
 },
 "nbformat": 4,
 "nbformat_minor": 0
}
