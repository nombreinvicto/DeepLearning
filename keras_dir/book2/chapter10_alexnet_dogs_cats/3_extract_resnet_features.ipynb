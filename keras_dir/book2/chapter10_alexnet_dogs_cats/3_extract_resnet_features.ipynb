{
 "cells": [
  {
   "cell_type": "code",
   "execution_count": 1,
   "metadata": {
    "collapsed": true,
    "ExecuteTime": {
     "end_time": "2023-06-09T04:41:14.652142200Z",
     "start_time": "2023-06-09T04:41:12.674094900Z"
    }
   },
   "outputs": [],
   "source": [
    "# import the necessary packages\n",
    "from tensorflow.keras.applications import ResNet50\n",
    "from tensorflow.keras.applications import imagenet_utils\n",
    "from tensorflow.keras.preprocessing.image import img_to_array\n",
    "from tensorflow.keras.preprocessing.image import load_img\n",
    "from sklearn.preprocessing import LabelEncoder\n",
    "from loader_util.io import HDF5DatasetWriter\n",
    "from imutils import paths\n",
    "import numpy as np\n",
    "import progressbar\n",
    "import random\n",
    "import os"
   ]
  },
  {
   "cell_type": "code",
   "execution_count": 2,
   "outputs": [],
   "source": [
    "# path/to/images/cat.0.jpg\n",
    "dataset_images_path = r\"C:\\Users\\mhasa\\Downloads\\dogs-vs-cats\\train\"\n",
    "extracted_features_output_path = r\"C:\\Users\\mhasa\\Downloads\\dogs-vs-cats\\hdf5\\resnet_features.hdf5\"\n",
    "batch_size = 16\n",
    "buffer_size = 1000"
   ],
   "metadata": {
    "collapsed": false,
    "ExecuteTime": {
     "end_time": "2023-06-09T04:41:14.667184Z",
     "start_time": "2023-06-09T04:41:14.608255600Z"
    }
   }
  },
  {
   "cell_type": "code",
   "execution_count": 3,
   "outputs": [
    {
     "name": "stdout",
     "output_type": "stream",
     "text": [
      "[INFO] loading images......\n"
     ]
    }
   ],
   "source": [
    "print(f\"[INFO] loading images......\")\n",
    "image_paths = list(paths.list_images(dataset_images_path))\n",
    "random.shuffle(image_paths)"
   ],
   "metadata": {
    "collapsed": false,
    "ExecuteTime": {
     "end_time": "2023-06-09T04:41:15.374763300Z",
     "start_time": "2023-06-09T04:41:14.624208200Z"
    }
   }
  },
  {
   "cell_type": "code",
   "execution_count": 4,
   "outputs": [
    {
     "name": "stdout",
     "output_type": "stream",
     "text": [
      "['cat' 'dog']\n"
     ]
    }
   ],
   "source": [
    "# extract the class labels from image paths\n",
    "labels = [pth.split(os.path.sep)[-1].split(\".\")[0]\n",
    "          for pth in image_paths]\n",
    "\n",
    "# encode the labels\n",
    "le = LabelEncoder()\n",
    "encoded_labels = le.fit_transform(labels)\n",
    "print(le.classes_)"
   ],
   "metadata": {
    "collapsed": false,
    "ExecuteTime": {
     "end_time": "2023-06-09T04:41:16.609834100Z",
     "start_time": "2023-06-09T04:41:16.576825100Z"
    }
   }
  },
  {
   "cell_type": "code",
   "execution_count": 5,
   "outputs": [
    {
     "name": "stdout",
     "output_type": "stream",
     "text": [
      "[INFO] loading resnet 50......\n"
     ]
    }
   ],
   "source": [
    "print(f\"[INFO] loading resnet 50......\")\n",
    "model = ResNet50(weights=\"imagenet\", include_top=False)"
   ],
   "metadata": {
    "collapsed": false,
    "ExecuteTime": {
     "end_time": "2023-06-09T04:41:21.615939200Z",
     "start_time": "2023-06-09T04:41:18.060181Z"
    }
   }
  },
  {
   "cell_type": "code",
   "execution_count": 6,
   "outputs": [],
   "source": [
    "# init the hdf5datasetwriter for extracted features\n",
    "dataset = HDF5DatasetWriter(dims=(len(image_paths), 100352),\n",
    "                            outpath=extracted_features_output_path,\n",
    "                            bufsize=buffer_size)"
   ],
   "metadata": {
    "collapsed": false,
    "ExecuteTime": {
     "end_time": "2023-06-09T04:41:23.886594400Z",
     "start_time": "2023-06-09T04:41:23.811793300Z"
    }
   }
  },
  {
   "cell_type": "code",
   "execution_count": 7,
   "outputs": [
    {
     "data": {
      "text/plain": "2"
     },
     "execution_count": 7,
     "metadata": {},
     "output_type": "execute_result"
    }
   ],
   "source": [
    "len(le.classes_)"
   ],
   "metadata": {
    "collapsed": false,
    "ExecuteTime": {
     "end_time": "2023-06-09T04:41:26.393791600Z",
     "start_time": "2023-06-09T04:41:26.341718300Z"
    }
   }
  },
  {
   "cell_type": "code",
   "execution_count": 8,
   "outputs": [],
   "source": [
    "dataset.store_string_feature_labels(class_labels=le.classes_)"
   ],
   "metadata": {
    "collapsed": false,
    "ExecuteTime": {
     "end_time": "2023-06-09T04:41:28.545958600Z",
     "start_time": "2023-06-09T04:41:28.468165400Z"
    }
   }
  },
  {
   "cell_type": "code",
   "execution_count": 9,
   "outputs": [
    {
     "name": "stderr",
     "output_type": "stream",
     "text": [
      "Extracting Features:   0% |                                    | ETA:  --:--:--"
     ]
    }
   ],
   "source": [
    "# init the progressbar\n",
    "# initialize the progress bar\n",
    "widgets = [\"Extracting Features: \", progressbar.Percentage(), \" \",\n",
    "           progressbar.Bar(), \" \", progressbar.ETA()]\n",
    "pbar = progressbar.ProgressBar(maxval=len(image_paths),\n",
    "                               widgets=widgets).start()"
   ],
   "metadata": {
    "collapsed": false,
    "ExecuteTime": {
     "end_time": "2023-06-09T04:41:39.678278500Z",
     "start_time": "2023-06-09T04:41:39.561524800Z"
    }
   }
  },
  {
   "cell_type": "code",
   "execution_count": null,
   "outputs": [
    {
     "name": "stderr",
     "output_type": "stream",
     "text": [
      "Extracting Features:  20% |#######                             | ETA:   1:06:23"
     ]
    }
   ],
   "source": [
    "# loop over image paths in batches\n",
    "for i in range(0, len(image_paths), batch_size):\n",
    "    batch_paths = image_paths[i:i + batch_size]\n",
    "    batch_labels = encoded_labels[i:i + batch_size]\n",
    "    batch_images = []\n",
    "\n",
    "    for j, image_path in enumerate(batch_paths):\n",
    "        image = load_img(image_path, target_size=(224, 224))\n",
    "        image = img_to_array(image)\n",
    "        image = np.expand_dims(image, axis=0)\n",
    "        image = imagenet_utils.preprocess_input(image)\n",
    "        batch_images.append(image)\n",
    "\n",
    "    # pass the preprocessed batch thru resnet\n",
    "    batch_images = np.vstack(batch_images)\n",
    "    resnet_features = model.predict(batch_images, batch_size=batch_size)\n",
    "    resnet_features = resnet_features.reshape((resnet_features.shape[0],\n",
    "                                               -1))\n",
    "\n",
    "    # add to the hdf5 dataset\n",
    "    dataset.add(resnet_features, batch_labels)\n",
    "    pbar.update(i)\n",
    "\n",
    "# close the db\n",
    "dataset.close()\n",
    "pbar.finish()"
   ],
   "metadata": {
    "collapsed": false,
    "is_executing": true,
    "ExecuteTime": {
     "start_time": "2023-06-09T04:42:26.028069Z"
    }
   }
  },
  {
   "cell_type": "code",
   "execution_count": null,
   "outputs": [],
   "source": [],
   "metadata": {
    "collapsed": false
   }
  },
  {
   "cell_type": "code",
   "execution_count": null,
   "outputs": [],
   "source": [],
   "metadata": {
    "collapsed": false
   }
  }
 ],
 "metadata": {
  "kernelspec": {
   "display_name": "Python 3",
   "language": "python",
   "name": "python3"
  },
  "language_info": {
   "codemirror_mode": {
    "name": "ipython",
    "version": 2
   },
   "file_extension": ".py",
   "mimetype": "text/x-python",
   "name": "python",
   "nbconvert_exporter": "python",
   "pygments_lexer": "ipython2",
   "version": "2.7.6"
  }
 },
 "nbformat": 4,
 "nbformat_minor": 0
}
