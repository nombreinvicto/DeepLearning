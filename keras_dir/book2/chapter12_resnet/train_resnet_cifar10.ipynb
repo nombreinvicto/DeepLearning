{
  "cells": [
    {
      "cell_type": "code",
      "execution_count": null,
      "metadata": {
        "collapsed": true,
        "colab": {
          "base_uri": "https://localhost:8080/"
        },
        "id": "PHJL_v3F3__l",
        "outputId": "157108fa-6a50-4be7-8f44-54a9d2441c11"
      },
      "outputs": [
        {
          "output_type": "stream",
          "name": "stdout",
          "text": [
            "Looking in indexes: https://pypi.org/simple, https://us-python.pkg.dev/colab-wheels/public/simple/\n",
            "Collecting opencv-python==4.5.5.64\n",
            "  Downloading opencv_python-4.5.5.64-cp36-abi3-manylinux_2_17_x86_64.manylinux2014_x86_64.whl (60.5 MB)\n",
            "\u001b[2K     \u001b[90m━━━━━━━━━━━━━━━━━━━━━━━━━━━━━━━━━━━━━━━━\u001b[0m \u001b[32m60.5/60.5 MB\u001b[0m \u001b[31m24.5 MB/s\u001b[0m eta \u001b[36m0:00:00\u001b[0m\n",
            "\u001b[?25hRequirement already satisfied: numpy>=1.21.2 in /usr/local/lib/python3.10/dist-packages (from opencv-python==4.5.5.64) (1.22.4)\n",
            "Installing collected packages: opencv-python\n",
            "  Attempting uninstall: opencv-python\n",
            "    Found existing installation: opencv-python 4.7.0.72\n",
            "    Uninstalling opencv-python-4.7.0.72:\n",
            "      Successfully uninstalled opencv-python-4.7.0.72\n",
            "Successfully installed opencv-python-4.5.5.64\n"
          ]
        }
      ],
      "source": [
        "! pip install opencv-python==4.5.5.64"
      ]
    },
    {
      "cell_type": "code",
      "execution_count": null,
      "outputs": [
        {
          "output_type": "stream",
          "name": "stdout",
          "text": [
            "Mounted at /content/drive\n"
          ]
        }
      ],
      "source": [
        "import sys\n",
        "from google.colab import drive\n",
        "\n",
        "drive.mount('/content/drive')\n",
        "sys.path.append(r\"/content/drive/MyDrive/\")"
      ],
      "metadata": {
        "colab": {
          "base_uri": "https://localhost:8080/"
        },
        "id": "Gr213UNv3__o",
        "outputId": "3f6410a6-7a32-4c08-cfb5-7a340316ace0"
      }
    },
    {
      "cell_type": "code",
      "execution_count": null,
      "outputs": [],
      "source": [
        "# import the necessary packages\n",
        "from sklearn.preprocessing import LabelBinarizer\n",
        "from loader_util.nn.conv import Resnet\n",
        "from loader_util.callbacks import EpochCheckpoint\n",
        "from loader_util.callbacks import TrainingMonitor\n",
        "from tensorflow.keras.preprocessing.image import ImageDataGenerator\n",
        "from tensorflow.keras.optimizers import SGD\n",
        "from tensorflow.keras.datasets import cifar10\n",
        "from tensorflow.keras.models import load_model\n",
        "import tensorflow.keras.backend as K\n",
        "import numpy as np\n",
        "import argparse\n",
        "import sys"
      ],
      "metadata": {
        "id": "pbCXyFWw3__p"
      }
    },
    {
      "cell_type": "code",
      "execution_count": null,
      "outputs": [],
      "source": [
        "# script constants\n",
        "checkpoints_dir = r\"/content/drive/MyDrive/Colab Notebooks/pyimagesearch/bibilio2/chapter12_resnet/outputs/models/cifar10\"\n",
        "model_to_load = r\"/content/drive/MyDrive/Colab Notebooks/pyimagesearch/bibilio2/chapter12_resnet/outputs/models/cifar10/model_epoch_75.h5\"\n",
        "start_epoch = 75"
      ],
      "metadata": {
        "id": "KAUn-C_J3__q"
      }
    },
    {
      "cell_type": "code",
      "execution_count": null,
      "outputs": [
        {
          "output_type": "stream",
          "name": "stdout",
          "text": [
            "[INFO] loading CIFAR-10 data...\n"
          ]
        },
        {
          "output_type": "execute_result",
          "data": {
            "text/plain": [
              "50000"
            ]
          },
          "metadata": {},
          "execution_count": 23
        }
      ],
      "source": [
        "# load the training and testing data, converting the images from\n",
        "# integers to floats\n",
        "print(\"[INFO] loading CIFAR-10 data...\")\n",
        "((trainx, trainy), (testx, testy)) = cifar10.load_data()\n",
        "trainx = trainx.astype(\"float\")\n",
        "testx = testx.astype(\"float\")\n",
        "\n",
        "# apply mean subtraction to the data\n",
        "mean = np.mean(trainx, axis=0)\n",
        "trainx -= mean\n",
        "testx -= mean\n",
        "\n",
        "# convert the labels from integers to vectors\n",
        "lb = LabelBinarizer()\n",
        "trainy = lb.fit_transform(trainy)\n",
        "testy = lb.transform(testy)\n",
        "len(trainx)"
      ],
      "metadata": {
        "colab": {
          "base_uri": "https://localhost:8080/"
        },
        "id": "m_V-CBLr3__r",
        "outputId": "e00a5a3e-60ce-4239-ad28-b266774a758e"
      }
    },
    {
      "cell_type": "code",
      "execution_count": null,
      "outputs": [],
      "source": [
        "# construct the image generator for data augmentation\n",
        "aug = ImageDataGenerator(width_shift_range=0.1,\n",
        "                         height_shift_range=0.1,\n",
        "                         horizontal_flip=True,\n",
        "                         fill_mode=\"nearest\")"
      ],
      "metadata": {
        "id": "Ssnr8eih3__s"
      }
    },
    {
      "cell_type": "code",
      "execution_count": null,
      "outputs": [
        {
          "output_type": "stream",
          "name": "stdout",
          "text": [
            "[INFO] loading /content/drive/MyDrive/Colab Notebooks/pyimagesearch/bibilio2/chapter12_resnet/outputs/models/cifar10/model_epoch_75.h5...\n",
            "[INFO] old learning rate: 0.009999999776482582\n",
            "[INFO] new learning rate: 0.0010000000474974513\n"
          ]
        }
      ],
      "source": [
        "# if there is no specific model checkpoint supplied, then initialize\n",
        "# the network (ResNet-56) and compile the model\n",
        "if not model_to_load:\n",
        "    print(\"[INFO] compiling model...\")\n",
        "    opt = SGD(learning_rate=1e-1)\n",
        "    model = Resnet.build(32, 32, 3,\n",
        "                         classes=10,\n",
        "                         stages=(9, 9, 9),\n",
        "                         filters=(16, 16, 32, 64),\n",
        "                         reg=0.0001)\n",
        "    model.compile(loss=\"categorical_crossentropy\",\n",
        "                  optimizer=opt,\n",
        "                  metrics=[\"accuracy\"])\n",
        "# otherwise, load the checkpoint from disk\n",
        "else:\n",
        "    print(\"[INFO] loading {}...\".format(model_to_load))\n",
        "    model = load_model(model_to_load)\n",
        "\n",
        "    # update the learning rate\n",
        "    print(\"[INFO] old learning rate: {}\".format(\n",
        "        K.get_value(model.optimizer.lr)))\n",
        "    K.set_value(model.optimizer.lr, 1e-3)\n",
        "    print(\"[INFO] new learning rate: {}\".format(\n",
        "        K.get_value(model.optimizer.lr)))"
      ],
      "metadata": {
        "colab": {
          "base_uri": "https://localhost:8080/"
        },
        "id": "U9dnKhjp3__t",
        "outputId": "7e3ba1d5-aa86-4ac7-d949-3c2e77f7aa06"
      }
    },
    {
      "cell_type": "code",
      "execution_count": null,
      "outputs": [],
      "source": [
        "# construct the set of callbacks\n",
        "import os\n",
        "file_output_dir = r\"/content/drive/MyDrive/Colab Notebooks/pyimagesearch/bibilio2/chapter12_resnet/outputs/files/cifar10\"\n",
        "callbacks = [\n",
        "    EpochCheckpoint(checkpoints_dir,\n",
        "                    every=5,\n",
        "                    startAt=start_epoch),\n",
        "    TrainingMonitor(figPath=os.path.sep.join([file_output_dir, \"resnet56_cifar10.png\"]),\n",
        "                    jsonPath=os.path.sep.join([file_output_dir, \"resnet56_cifar10.json\"]),\n",
        "                    startAt=start_epoch)]"
      ],
      "metadata": {
        "id": "GEuQLodB3__u"
      }
    },
    {
      "cell_type": "code",
      "execution_count": null,
      "outputs": [
        {
          "output_type": "stream",
          "name": "stdout",
          "text": [
            "[INFO] training network...\n",
            "Epoch 1/10\n"
          ]
        },
        {
          "output_type": "stream",
          "name": "stderr",
          "text": [
            "<ipython-input-30-8ffce5a256d1>:3: UserWarning: `Model.fit_generator` is deprecated and will be removed in a future version. Please use `Model.fit`, which supports generators.\n",
            "  model.fit_generator(\n"
          ]
        },
        {
          "output_type": "stream",
          "name": "stdout",
          "text": [
            "390/390 [==============================] - 29s 74ms/step - loss: 0.4602 - accuracy: 0.8771 - val_loss: 0.5846 - val_accuracy: 0.8387\n",
            "Epoch 2/10\n",
            "390/390 [==============================] - 28s 72ms/step - loss: 0.4617 - accuracy: 0.8774 - val_loss: 0.5844 - val_accuracy: 0.8404\n",
            "Epoch 3/10\n",
            "390/390 [==============================] - 28s 72ms/step - loss: 0.4638 - accuracy: 0.8740 - val_loss: 0.5752 - val_accuracy: 0.8428\n",
            "Epoch 4/10\n",
            "390/390 [==============================] - 28s 72ms/step - loss: 0.4630 - accuracy: 0.8760 - val_loss: 0.5891 - val_accuracy: 0.8386\n",
            "Epoch 5/10\n",
            "390/390 [==============================] - 29s 74ms/step - loss: 0.4627 - accuracy: 0.8760 - val_loss: 0.5815 - val_accuracy: 0.8408\n",
            "Epoch 6/10\n",
            "390/390 [==============================] - 29s 74ms/step - loss: 0.4625 - accuracy: 0.8754 - val_loss: 0.5895 - val_accuracy: 0.8386\n",
            "Epoch 7/10\n",
            "390/390 [==============================] - 28s 72ms/step - loss: 0.4638 - accuracy: 0.8743 - val_loss: 0.5849 - val_accuracy: 0.8391\n",
            "Epoch 8/10\n",
            "390/390 [==============================] - 28s 73ms/step - loss: 0.4623 - accuracy: 0.8760 - val_loss: 0.5836 - val_accuracy: 0.8409\n",
            "Epoch 9/10\n",
            "390/390 [==============================] - 28s 72ms/step - loss: 0.4608 - accuracy: 0.8761 - val_loss: 0.5869 - val_accuracy: 0.8386\n",
            "Epoch 10/10\n",
            "390/390 [==============================] - 29s 74ms/step - loss: 0.4622 - accuracy: 0.8757 - val_loss: 0.5875 - val_accuracy: 0.8398\n"
          ]
        },
        {
          "output_type": "execute_result",
          "data": {
            "text/plain": [
              "<keras.callbacks.History at 0x7f6dc1312440>"
            ]
          },
          "metadata": {},
          "execution_count": 30
        }
      ],
      "source": [
        "# train the network\n",
        "print(\"[INFO] training network...\")\n",
        "model.fit_generator(\n",
        "    aug.flow(trainx, trainy, batch_size=128),\n",
        "    validation_data=(testx, testy),\n",
        "    steps_per_epoch=len(trainx) // 128, epochs=10,\n",
        "    callbacks=callbacks, verbose=1)"
      ],
      "metadata": {
        "colab": {
          "base_uri": "https://localhost:8080/"
        },
        "id": "5jsCkhz-3__u",
        "outputId": "0aa1086c-2073-41eb-e1c9-6d55c6b4f177"
      }
    }
  ],
  "metadata": {
    "kernelspec": {
      "display_name": "Python 3",
      "name": "python3"
    },
    "language_info": {
      "codemirror_mode": {
        "name": "ipython",
        "version": 2
      },
      "file_extension": ".py",
      "mimetype": "text/x-python",
      "name": "python",
      "nbconvert_exporter": "python",
      "pygments_lexer": "ipython2",
      "version": "2.7.6"
    },
    "colab": {
      "provenance": [],
      "machine_shape": "hm",
      "gpuType": "T4"
    },
    "accelerator": "GPU"
  },
  "nbformat": 4,
  "nbformat_minor": 0
}