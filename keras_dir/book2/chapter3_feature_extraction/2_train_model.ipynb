{
 "cells": [
  {
   "cell_type": "code",
   "execution_count": 1,
   "outputs": [
    {
     "output_type": "stream",
     "name": "stdout",
     "text": [
      "Mounted at /content/drive\n"
     ]
    }
   ],
   "source": [
    "import sys\n",
    "from google.colab import drive\n",
    "drive.mount('/content/drive')\n",
    "sys.path.append(r\"/content/drive/MyDrive/\")"
   ],
   "metadata": {
    "colab": {
     "base_uri": "https://localhost:8080/"
    },
    "id": "G6YsQ_NzytuC",
    "outputId": "2abe3ea7-9283-487c-806c-cb16ffc0f497"
   }
  },
  {
   "cell_type": "code",
   "execution_count": 2,
   "metadata": {
    "collapsed": true,
    "ExecuteTime": {
     "end_time": "2023-05-28T04:53:28.738279600Z",
     "start_time": "2023-05-28T04:53:28.719099800Z"
    },
    "id": "Q54qolkaytuD"
   },
   "outputs": [],
   "source": [
    "# import the necessary packages\n",
    "from sklearn.linear_model import LogisticRegression\n",
    "from sklearn.model_selection import GridSearchCV\n",
    "from sklearn.metrics import classification_report\n",
    "import h5py"
   ]
  },
  {
   "cell_type": "code",
   "execution_count": 3,
   "outputs": [],
   "source": [
    "# init the script constants\n",
    "db_path = r\"/content/drive/MyDrive/Colab Notebooks/ImageDataset/book2/animals/hdf5/features.hdf5\""
   ],
   "metadata": {
    "ExecuteTime": {
     "end_time": "2023-05-28T04:58:13.386747400Z",
     "start_time": "2023-05-28T04:58:13.370790800Z"
    },
    "id": "4JwxzrY_ytuE"
   }
  },
  {
   "cell_type": "code",
   "execution_count": 9,
   "outputs": [
    {
     "output_type": "execute_result",
     "data": {
      "text/plain": [
       "2250"
      ]
     },
     "metadata": {},
     "execution_count": 9
    }
   ],
   "source": [
    "# open the db\n",
    "db = h5py.File(db_path, mode=\"r\")\n",
    "i = int(db[\"labels\"].shape[0] * 0.75)\n",
    "i"
   ],
   "metadata": {
    "ExecuteTime": {
     "end_time": "2023-05-28T04:53:29.642861600Z",
     "start_time": "2023-05-28T04:53:29.638871800Z"
    },
    "colab": {
     "base_uri": "https://localhost:8080/"
    },
    "id": "_gVkcU9nytuE",
    "outputId": "c8674273-1ce5-464d-fb46-99a306c36aff"
   }
  },
  {
   "cell_type": "code",
   "execution_count": 11,
   "outputs": [
    {
     "output_type": "stream",
     "name": "stdout",
     "text": [
      "[INFO] tuning hyperparameters......\n",
      "[INFO] best hyperparams: {'C': 10000.0}......\n"
     ]
    }
   ],
   "source": [
    "print(f\"[INFO] tuning hyperparameters......\")\n",
    "params = {\"C\": [0.1, 1.0, 10.0, 100.0, 1000.0, 10000.0]}\n",
    "model = GridSearchCV(LogisticRegression(solver=\"lbfgs\",\n",
    "                                        multi_class=\"auto\",\n",
    "                                        ), params, cv=3)\n",
    "model.fit(db[\"features\"][:i], db[\"labels\"][:i])\n",
    "print(f\"[INFO] best hyperparams: {model.best_params_}......\")"
   ],
   "metadata": {
    "ExecuteTime": {
     "end_time": "2023-05-28T04:53:29.926618200Z",
     "start_time": "2023-05-28T04:53:29.903165600Z"
    },
    "colab": {
     "base_uri": "https://localhost:8080/"
    },
    "id": "HlFrvmCOytuF",
    "outputId": "0626d95c-3b42-41b5-f99e-2222d6d1ac54"
   }
  },
  {
   "cell_type": "code",
   "execution_count": 13,
   "outputs": [
    {
     "output_type": "stream",
     "name": "stdout",
     "text": [
      "[INFO] evaluating model......\n",
      "              precision    recall  f1-score   support\n",
      "\n",
      "        cats       0.98      0.99      0.99       267\n",
      "        dogs       0.99      0.97      0.98       252\n",
      "       panda       0.99      1.00      0.99       231\n",
      "\n",
      "    accuracy                           0.99       750\n",
      "   macro avg       0.99      0.99      0.99       750\n",
      "weighted avg       0.99      0.99      0.99       750\n",
      "\n"
     ]
    }
   ],
   "source": [
    "# evaluate model\n",
    "label_names = [name.decode() for name in db[\"label_names\"]]\n",
    "print(f\"[INFO] evaluating model......\")\n",
    "preds = model.predict(db[\"features\"][i:])\n",
    "cr = classification_report(db[\"labels\"][i:], preds,\n",
    "                           target_names=label_names)\n",
    "print(cr)"
   ],
   "metadata": {
    "ExecuteTime": {
     "end_time": "2023-05-28T04:53:30.168515Z",
     "start_time": "2023-05-28T04:53:30.151561300Z"
    },
    "colab": {
     "base_uri": "https://localhost:8080/"
    },
    "id": "V0HjVeVbytuG",
    "outputId": "3d8f17a5-0048-4a8a-e407-f16a517dd3ba"
   }
  }
 ],
 "metadata": {
  "kernelspec": {
   "display_name": "Python 3",
   "name": "python3"
  },
  "language_info": {
   "codemirror_mode": {
    "name": "ipython",
    "version": 2
   },
   "file_extension": ".py",
   "mimetype": "text/x-python",
   "name": "python",
   "nbconvert_exporter": "python",
   "pygments_lexer": "ipython2",
   "version": "2.7.6"
  },
  "colab": {
   "provenance": [],
   "gpuType": "T4"
  },
  "accelerator": "GPU"
 },
 "nbformat": 4,
 "nbformat_minor": 0
}
