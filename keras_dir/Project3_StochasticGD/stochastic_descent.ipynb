{
 "cells": [
  {
   "cell_type": "markdown",
   "source": [
    "## Implementation of the Stochastic Gradient Descent Optimizer Algorithm"
   ],
   "metadata": {
    "collapsed": false,
    "pycharm": {
     "name": "#%% md\n"
    }
   }
  },
  {
   "cell_type": "markdown",
   "source": [
    "We will first begin by training our dataset using the Logistic \n",
    "Regression Algorithm, via the implementation of the Gradient \n",
    "Descent (GD) \n",
    "optimizer followed by the Stochastic Gradient Descent (SGD) optmizer. \n",
    "Finally, a performance curve depicting the loss trends for both \n",
    "the optimizer algorithms would be plotted for comparison and to \n",
    "investigate if infact the SGD optimizer gives lesser losses (and \n",
    "hence higher accuracy models) when compared to the normal vanilla \n",
    "GD optimizers."
   ],
   "metadata": {
    "collapsed": false
   }
  },
  {
   "cell_type": "code",
   "execution_count": 54,
   "outputs": [],
   "source": [
    "# do the necessary imports\n",
    "import numpy as np\n",
    "import seaborn as sns\n",
    "import matplotlib.pyplot as plt\n",
    "import matplotlib.axes._axes as axes\n",
    "sns.set()\n",
    "\n",
    "# import sklearn libraries\n",
    "from sklearn.model_selection import train_test_split\n",
    "from sklearn.datasets import make_blobs"
   ],
   "metadata": {
    "collapsed": false,
    "pycharm": {
     "name": "#%%\n",
     "is_executing": false
    }
   }
  },
  {
   "cell_type": "code",
   "execution_count": 55,
   "outputs": [],
   "source": [
    "# this function will return the sigmoid activation probablity vector\n",
    "# for a given input X vector\n",
    "def sigmoid_activation(x):\n",
    "    return 1.0/(1+np.exp(-x))\n",
    "\n",
    "# this function returns the sigmoid derivative vector for input x \n",
    "# vector, where input x are xvectors already sigmoid activated\n",
    "def sigmoid_deriv(x):\n",
    "    return x * (1 - x)\n",
    "\n",
    "# this function will do the binary class prediction on the testx \n",
    "# vector and hence returns a predicty vector\n",
    "def predict(X, W):\n",
    "    preds = sigmoid_activation(X.dot(W))\n",
    "    preds[preds <= 0.5] = 0\n",
    "    preds[preds > 0] = 1\n",
    "    return preds\n",
    "\n",
    "# this is the next bacth method that will return a batch of x's nd y's\n",
    "# everytime the function is iterated over \n",
    "def next_batch(X, y, batchSize):\n",
    "    for i in np.arange(0, X.shape[0], batchSize):\n",
    "        yield (X[i:i+batchSize], y[i:i+batchSize])"
   ],
   "metadata": {
    "collapsed": false,
    "pycharm": {
     "name": "#%%\n",
     "is_executing": false
    }
   }
  },
  {
   "cell_type": "code",
   "execution_count": 56,
   "outputs": [
    {
     "name": "stdout",
     "text": [
      "[INFO] training .....\n"
     ],
     "output_type": "stream"
    }
   ],
   "source": [
    "# generate 1000 samples of a 2 dimensional features with 2 class \n",
    "# target labels\n",
    "x, y = make_blobs(n_samples=1000,\n",
    "                  n_features=2,\n",
    "                  centers=2,\n",
    "                  cluster_std=1.5,\n",
    "                  random_state=42)\n",
    "y = y.reshape(y.shape[0], 1)\n",
    "\n",
    "# insert a column of 1's as a last entry in the feature matrix\n",
    "one_vector = np.ones((x.shape[0], 1), dtype='float64')\n",
    "x = np.concatenate((x, one_vector), axis=1) # x is now a 1000x3 matrix\n",
    "\n",
    "# now partition the X data into training and testing datasets\n",
    "trainx, testx, trainy, testy = train_test_split(x, y, \n",
    "                                                random_state=42, \n",
    "                                                test_size=0.5)\n",
    "\n",
    "# initalise our weight matrix with random values. X is row x 3 dim.\n",
    "# when W multiplies with X, we need one value for each X. so if X \n",
    "# is 1000 x 3, result shud be 1000 x 1 so W be 3 x 1\n",
    "print(f'[INFO] training .....')\n",
    "W = np.random.rand(x.shape[1], 1)\n",
    "W_sgd = W.copy()\n",
    "W_gd = W.copy()\n",
    "losses_sgd = []\n",
    "losses_gd = []"
   ],
   "metadata": {
    "collapsed": false,
    "pycharm": {
     "name": "#%%\n",
     "is_executing": false
    }
   }
  },
  {
   "cell_type": "markdown",
   "source": [
    "Below we will train on the dataset using batch stochastic gradient \n",
    "descent algorithm as the optimiser."
   ],
   "metadata": {
    "collapsed": false
   }
  },
  {
   "cell_type": "code",
   "execution_count": 57,
   "outputs": [
    {
     "name": "stdout",
     "text": [
      "[INFO] epoch: 0, loss: 6.472792432851783\n[INFO] epoch: 5, loss: 0.9362850460612109\n[INFO] epoch: 10, loss: 0.8296684448054285\n[INFO] epoch: 15, loss: 0.7601933560270203\n[INFO] epoch: 20, loss: 0.7100370728039961\n[INFO] epoch: 25, loss: 0.6715052866363944\n",
      "[INFO] epoch: 30, loss: 0.6405865860862854\n[INFO] epoch: 35, loss: 0.6149728760242402\n[INFO] epoch: 40, loss: 0.5932317407136012\n[INFO] epoch: 45, loss: 0.5744213532578268\n[INFO] epoch: 50, loss: 0.557893745545293\n[INFO] epoch: 55, loss: 0.5431865543517699\n[INFO] epoch: 60, loss: 0.5299598010193538\n[INFO] epoch: 65, loss: 0.5179571316717201\n[INFO] epoch: 70, loss: 0.5069810725885187\n[INFO] epoch: 75, loss: 0.49687668288775966",
      "\n[INFO] epoch: 80, loss: 0.4875204331906014\n[INFO] epoch: 85, loss: 0.47881244460128125\n[INFO] epoch: 90, loss: 0.47067095064380915\n[INFO] epoch: 95, loss: 0.463028266908438\n[INFO] epoch: 100, loss: 0.45582780613696794\n"
     ],
     "output_type": "stream"
    }
   ],
   "source": [
    "# initialise epoch no, learning rate and batchsize\n",
    "epochs = 100\n",
    "alpha = 0.01\n",
    "batchSize = 256\n",
    "\n",
    "for epoch in range(epochs+1):\n",
    "    \n",
    "    # initialise the total loss for the epoch\n",
    "    epochLoss = []\n",
    "    \n",
    "    # loop over our data in batches\n",
    "    for batchx, batchy in next_batch(trainx, trainy, batchSize):\n",
    "        preds = sigmoid_activation(batchx.dot(W_sgd))\n",
    "        error = preds - batchy\n",
    "        epochLoss.append(np.sum(error**2))\n",
    "        \n",
    "        d = error * sigmoid_deriv(preds)\n",
    "        gradient = batchx.T.dot(d)\n",
    "        \n",
    "        W_sgd+= -alpha*gradient\n",
    "    # once the batching is done for an epoch, get avg loss of the \n",
    "    # epoch\n",
    "    loss = np.average(epochLoss)\n",
    "    losses_sgd.append(loss)\n",
    "    \n",
    "    # now going off to next epoch\n",
    "    if epoch==0 or (epoch)%5 ==0:\n",
    "        print(f'[INFO] epoch: {epoch}, loss: {loss}')"
   ],
   "metadata": {
    "collapsed": false,
    "pycharm": {
     "name": "#%%\n",
     "is_executing": false
    }
   }
  },
  {
   "cell_type": "markdown",
   "source": [
    "Below we will train on the dataset using vanilla gradient descent\n",
    "algorithm as the optimiser. "
   ],
   "metadata": {
    "collapsed": false
   }
  },
  {
   "cell_type": "code",
   "execution_count": 58,
   "outputs": [
    {
     "name": "stdout",
     "text": [
      "[INFO] epoch=0, loss=21.179762448350274",
      "\n[INFO] epoch=5, loss=1.7847804645333034\n[INFO] epoch=10, loss=1.2502905516204426\n[INFO] epoch=15, loss=1.16581382768638",
      "\n[INFO] epoch=20, loss=1.132141856272245\n[INFO] epoch=25, loss=1.1039461912305324\n[INFO] epoch=30, loss=1.0784817465467667\n[INFO] epoch=35, loss=1.055234193236873\n[INFO] epoch=40, loss=1.0338614285804413\n[INFO] epoch=45, loss=1.014093873325359\n[INFO] epoch=50, loss=0.9957143192002159\n[INFO] epoch=55, loss=0.9785454424094828\n[INFO] epoch=60, loss=0.9624408206798208\n[INFO] epoch=65, loss=0.9472783084198146\n[INFO] epoch=70, loss=0.9329550708919958\n[INFO] epoch=75, loss=0.9193838077246062\n[INFO] epoch=80, loss=0.9064898429942218\n[INFO] epoch=85, loss=0.8942088561193869\n[INFO] epoch=90, loss=0.8824850930712472\n[INFO] epoch=95, loss=0.8712699420859153\n[INFO] epoch=100, loss=0.8605207891484754\n"
     ],
     "output_type": "stream"
    }
   ],
   "source": [
    "\n",
    "# loop over the desired number of epochs\n",
    "for epoch in np.arange(epochs + 1):\n",
    "    # trainX.W will be a 500x1 vector of scores passed to the sigmoid\n",
    "    # a 500x1 preds probability vector is then returned\n",
    "    preds = sigmoid_activation(trainx.dot(W_gd))\n",
    "\n",
    "    # error is the difference between the 500x1 probability vector\n",
    "    # and the 500x1 true trainY vector\n",
    "    error = preds - trainy\n",
    "\n",
    "    # aggregate all losses as square loss into a single  number\n",
    "    loss = np.sum(error ** 2)\n",
    "    losses_gd.append(loss)\n",
    "    \n",
    "    # this is where we calculate the gradient \n",
    "    d = error * sigmoid_deriv(preds)\n",
    "    gradient = trainx.T.dot(d)\n",
    "\n",
    "    # now male the gradient descent update of the weight matrix\n",
    "    W_gd += -alpha * gradient\n",
    "\n",
    "    # display loss info after every 5 epochs\n",
    "    if epoch == 0 or (epoch) % 5 == 0:\n",
    "        print(f'[INFO] epoch={epoch}, loss={loss}')"
   ],
   "metadata": {
    "collapsed": false,
    "pycharm": {
     "name": "#%%\n",
     "is_executing": false
    }
   }
  },
  {
   "cell_type": "markdown",
   "source": [
    "Let us plot the loss curves for the models trained using \n",
    "Stochastic Gradient Descent Vs vanilla Gradient Descent. We expect \n",
    "that the vanilla gradient descent algorithm would show lesser loss \n",
    "reduction over the epochs as opposed to the stochastic variety."
   ],
   "metadata": {
    "collapsed": false
   }
  },
  {
   "cell_type": "code",
   "execution_count": 59,
   "outputs": [
    {
     "data": {
      "text/plain": "<Figure size 504x432 with 1 Axes>",
      "image/png": "[encoded data removed]"
     },
     "metadata": {},
     "output_type": "display_data"
    }
   ],
   "source": [
    "# now plot the loss performance\n",
    "f, ax = plt.subplots(1,1,figsize=(7,6)) # type: _, axes.Axes\n",
    "sns.lineplot(x=range(0, epochs+1), y = losses_sgd, ax=ax, label='sgd')\n",
    "sns.lineplot(x=range(0, epochs+1), y = losses_gd, ax=ax, label='gd')\n",
    "ax.set_title('Loss curves for SGD Vs GD')\n",
    "ax.set_xlabel('Epochs')\n",
    "ax.set_ylabel('Training Loss');"
   ],
   "metadata": {
    "collapsed": false,
    "pycharm": {
     "name": "#%%\n",
     "is_executing": false
    }
   }
  },
  {
   "cell_type": "markdown",
   "source": [
    "The loss curves clearly show that the SGD algorithm is better in \n",
    "reducing training losses when compared to the vanilla GD optimizer.\n",
    "Additionally, convergence is reached earlier with higher accuracy. \n",
    "This makes the SGD optimizer both faster and more accurate than the\n",
    " normal GD optimizer."
   ],
   "metadata": {
    "collapsed": false,
    "pycharm": {
     "name": "#%% md\n"
    }
   }
  }
 ],
 "metadata": {
  "language_info": {
   "codemirror_mode": {
    "name": "ipython",
    "version": 2
   },
   "file_extension": ".py",
   "mimetype": "text/x-python",
   "name": "python",
   "nbconvert_exporter": "python",
   "pygments_lexer": "ipython2",
   "version": "2.7.6"
  },
  "kernelspec": {
   "name": "python3",
   "language": "python",
   "display_name": "Python 3"
  },
  "pycharm": {
   "stem_cell": {
    "cell_type": "raw",
    "source": [],
    "metadata": {
     "collapsed": false
    }
   }
  }
 },
 "nbformat": 4,
 "nbformat_minor": 0
}