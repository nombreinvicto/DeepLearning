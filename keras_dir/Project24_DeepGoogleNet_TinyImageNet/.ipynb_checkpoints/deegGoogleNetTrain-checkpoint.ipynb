{
 "cells": [
  {
   "cell_type": "code",
   "execution_count": 2,
   "metadata": {},
   "outputs": [],
   "source": [
    "from config import tiny_imagenet_config as config\n",
    "from loader_util.preprocessing import ImageToArrayPreprocessor, \\\n",
    "    SimplePreProcessor, MeanPreprocessor\n",
    "from loader_util.callbacks import TrainingMonitor, EpochCheckpoint\n",
    "from loader_util.io import HDF5DatasetGenerator\n",
    "from loader_util.nn.conv import DeeperGoogleNet"
   ]
  },
  {
   "cell_type": "code",
   "execution_count": 3,
   "metadata": {
    "pycharm": {
     "name": "#%%\n"
    }
   },
   "outputs": [],
   "source": [
    "from tensorflow.keras.preprocessing.image import ImageDataGenerator\n",
    "from tensorflow.keras.optimizers import Adam\n",
    "from tensorflow.keras.models import load_model\n",
    "from tensorflow.keras import backend as K\n",
    "from tensorflow.keras.utils import plot_model\n",
    "import argparse\n",
    "import json"
   ]
  },
  {
   "cell_type": "code",
   "execution_count": null,
   "metadata": {},
   "outputs": [],
   "source": [
    "    model = DeeperGoogleNet.build(width=64,\n",
    "                                  height=64,\n",
    "                                  depth=3,\n",
    "                                  classes=config.NUM_CLASSES,\n",
    "                                  reg=0.0002)"
   ]
  },
  {
   "cell_type": "code",
   "execution_count": 4,
   "metadata": {
    "pycharm": {
     "name": "#%%\n"
    }
   },
   "outputs": [],
   "source": [
    "# construct argument parser and parse the arguments\n",
    "args = {\n",
    "    \"checkpoints\": \"\",\n",
    "    \"model\": \"\",\n",
    "    \"start_epoch\": 0\n",
    "}"
   ]
  },
  {
   "cell_type": "code",
   "execution_count": 5,
   "metadata": {
    "pycharm": {
     "name": "#%%\n"
    }
   },
   "outputs": [
    {
     "ename": "FileNotFoundError",
     "evalue": "[Errno 2] No such file or directory: 'output/tiny-image-net-200-mean.json'",
     "output_type": "error",
     "traceback": [
      "\u001b[1;31m---------------------------------------------------------------------------\u001b[0m",
      "\u001b[1;31mFileNotFoundError\u001b[0m                         Traceback (most recent call last)",
      "\u001b[1;32m<ipython-input-5-b86c9425897f>\u001b[0m in \u001b[0;36m<module>\u001b[1;34m\u001b[0m\n\u001b[0;32m      8\u001b[0m                          fill_mode='nearest')\n\u001b[0;32m      9\u001b[0m \u001b[1;31m# load the RGB means for the train set\u001b[0m\u001b[1;33m\u001b[0m\u001b[1;33m\u001b[0m\u001b[0m\n\u001b[1;32m---> 10\u001b[1;33m \u001b[0mmeans\u001b[0m \u001b[1;33m=\u001b[0m \u001b[0mjson\u001b[0m\u001b[1;33m.\u001b[0m\u001b[0mloads\u001b[0m\u001b[1;33m(\u001b[0m\u001b[0mopen\u001b[0m\u001b[1;33m(\u001b[0m\u001b[0mconfig\u001b[0m\u001b[1;33m.\u001b[0m\u001b[0mDATASET_MEAN\u001b[0m\u001b[1;33m)\u001b[0m\u001b[1;33m.\u001b[0m\u001b[0mread\u001b[0m\u001b[1;33m(\u001b[0m\u001b[1;33m)\u001b[0m\u001b[1;33m)\u001b[0m\u001b[1;33m\u001b[0m\u001b[0m\n\u001b[0m",
      "\u001b[1;31mFileNotFoundError\u001b[0m: [Errno 2] No such file or directory: 'output/tiny-image-net-200-mean.json'"
     ]
    }
   ],
   "source": [
    "# construct the training image generator for data augmentation\n",
    "aug = ImageDataGenerator(rotation_range=18,\n",
    "                         zoom_range=0.15,\n",
    "                         width_shift_range=0.2,\n",
    "                         height_shift_range=0.2,\n",
    "                         shear_range=0.15,\n",
    "                         horizontal_flip=True,\n",
    "                         fill_mode='nearest')\n",
    "# load the RGB means for the train set\n",
    "means = json.loads(open(config.DATASET_MEAN).read())"
   ]
  },
  {
   "cell_type": "code",
   "execution_count": null,
   "metadata": {
    "pycharm": {
     "name": "#%%\n"
    }
   },
   "outputs": [],
   "source": [
    "# initialise the image preprocessors\n",
    "sp = SimplePreProcessor(64,64)\n",
    "mp = MeanPreprocessor(means['R'], means['G'], means['B'])\n",
    "iap = ImageToArrayPreprocessor()\n",
    "\n",
    "# init the train and valid dataset generators\n",
    "trainGen = HDF5DatasetGenerator(dbPath=config.TRAIN_HDF5,\n",
    "                                batchSize=64,\n",
    "                                preprocessors=[sp, mp, iap],\n",
    "                                aug=aug,\n",
    "                                classes=config.NUM_CLASSES)\n",
    "\n",
    "valGen = HDF5DatasetGenerator(dbPath=config.VAL_HDF5,\n",
    "                              batchSize=64,\n",
    "                              preprocessors=[sp, mp, iap],\n",
    "                              classes=config.NUM_CLASSES)"
   ]
  },
  {
   "cell_type": "code",
   "execution_count": null,
   "metadata": {
    "pycharm": {
     "name": "#%%\n"
    }
   },
   "outputs": [],
   "source": [
    "# if there is no specific model checkpoint supplied then init the network\n",
    "if args['model'] is None:\n",
    "    print('[INFO] compiling model.....')\n",
    "    model = DeeperGoogleNet.build(width=64,\n",
    "                                  height=64,\n",
    "                                  depth=3,\n",
    "                                  classes=config.NUM_CLASSES,\n",
    "                                  reg=0.0002)\n",
    "    opt = Adam(1e-3)\n",
    "    model.compile(loss=\"categorical_crossentropy\",\n",
    "                  optimizer=opt,\n",
    "                  metrics=['accuracy'])\n",
    "else:\n",
    "    # otherwise load checkpoint\n",
    "    print(f'[INFO] loading {args[\"model\"]}.....')\n",
    "    model = load_model(args[\"model\"])\n",
    "\n",
    "    # update the leanring rate\n",
    "    print(f\"[INFO] old learning rate {K.get_value(model.optimizer.lr)}\")\n",
    "    K.set_value(model.optimizer.lr, 1e-5)\n",
    "    print(f\"[INFO] new learning rate : {K.get_value(model.optimizer.lr)}\")"
   ]
  },
  {
   "cell_type": "code",
   "execution_count": null,
   "metadata": {
    "pycharm": {
     "name": "#%%\n"
    }
   },
   "outputs": [],
   "source": [
    "# construct the set of callbacks\n",
    "callbacks = [\n",
    "    EpochCheckpoint(outputPath=args[\"checkpoints\"], every=5,\n",
    "                    startAt=args[\"start_epoch\"]),\n",
    "    TrainingMonitor(figPath=config.FIG_PATH, jsonPath=config.JSON_PATH,\n",
    "                    startAt=args[\"start_epoch\"])\n",
    "]"
   ]
  },
  {
   "cell_type": "code",
   "execution_count": null,
   "metadata": {
    "pycharm": {
     "name": "#%%\n"
    }
   },
   "outputs": [],
   "source": [
    "# train the network\n",
    "model.fit_generator(generator=trainGen.generator(),\n",
    "                    steps_per_epoch=trainGen.numImages // 64,\n",
    "                    validation_data=valGen.generator(),\n",
    "                    validation_steps=valGen.numImages // 64,\n",
    "                    epochs=10,\n",
    "                    max_queue_size=10,\n",
    "                    callbacks=callbacks, verbose=1)\n",
    "\n",
    "# close the databases\n",
    "trainGen.close()\n",
    "valGen.close()"
   ]
  },
  {
   "cell_type": "code",
   "execution_count": null,
   "metadata": {
    "pycharm": {
     "name": "#%%\n"
    }
   },
   "outputs": [],
   "source": []
  }
 ],
 "metadata": {
  "kernelspec": {
   "display_name": "Python 3",
   "language": "python",
   "name": "python3"
  },
  "language_info": {
   "codemirror_mode": {
    "name": "ipython",
    "version": 3
   },
   "file_extension": ".py",
   "mimetype": "text/x-python",
   "name": "python",
   "nbconvert_exporter": "python",
   "pygments_lexer": "ipython3",
   "version": "3.6.4"
  }
 },
 "nbformat": 4,
 "nbformat_minor": 1
}
