{
 "cells": [
  {
   "cell_type": "code",
   "execution_count": null,
   "id": "initial_id",
   "metadata": {
    "collapsed": true
   },
   "outputs": [],
   "source": [
    "import sys\n",
    "from google.colab import drive\n",
    "drive.mount('/content/drive')\n",
    "sys.path.append(r\"/content/drive/MyDrive/\")"
   ]
  },
  {
   "metadata": {
    "ExecuteTime": {
     "end_time": "2025-10-30T03:40:53.637944Z",
     "start_time": "2025-10-30T03:40:52.966478Z"
    }
   },
   "cell_type": "code",
   "source": [
    "from sklearn.linear_model import LogisticRegression\n",
    "from sklearn.model_selection import GridSearchCV\n",
    "from sklearn.metrics import classification_report\n",
    "from sklearn.metrics import accuracy_score\n",
    "import pickle\n",
    "import h5py"
   ],
   "id": "19dd50741a55698f",
   "outputs": [],
   "execution_count": 1
  },
  {
   "metadata": {
    "ExecuteTime": {
     "end_time": "2025-10-30T03:41:02.772276Z",
     "start_time": "2025-10-30T03:41:02.758747Z"
    }
   },
   "cell_type": "code",
   "source": [
    "dataset_path = r\"D:\\DL4CV_Data\\practitioner_bundle\\chap10\\cats_dogs_extracted_feat_resnet50.hdf5\"\n",
    "njobs = 10"
   ],
   "id": "593bc3e2b3771e3e",
   "outputs": [],
   "execution_count": 2
  },
  {
   "metadata": {
    "ExecuteTime": {
     "end_time": "2025-10-30T03:41:04.246958Z",
     "start_time": "2025-10-30T03:41:03.827602Z"
    }
   },
   "cell_type": "code",
   "source": [
    "# open the dataset\n",
    "db = h5py.File(dataset_path, mode=\"r\")\n",
    "i = int(db[\"labels\"].shape[0] * 0.75)\n",
    "i"
   ],
   "id": "30bed43b402d0005",
   "outputs": [
    {
     "data": {
      "text/plain": [
       "18750"
      ]
     },
     "execution_count": 3,
     "metadata": {},
     "output_type": "execute_result"
    }
   ],
   "execution_count": 3
  },
  {
   "metadata": {},
   "cell_type": "code",
   "outputs": [],
   "execution_count": null,
   "source": [
    "print(f\"[INFO] tuning hyperparams......\")\n",
    "params = {\"C\": [0.0001, 0.001, 0.01, 0.1, 1.0]}\n",
    "model = GridSearchCV(LogisticRegression(multi_class=\"auto\"), params, cv=3, n_jobs=njobs)\n",
    "model.fit(db[\"features\"][:i], db[\"labels\"][:i])\n",
    "\n",
    "print(f\"[INFO] best hyperparams: {model.best_params_}......\")"
   ],
   "id": "ecf247e73274e0d0"
  },
  {
   "metadata": {},
   "cell_type": "code",
   "outputs": [],
   "execution_count": null,
   "source": [
    "print(f\"[INFO] evaluating model......\")\n",
    "preds = model.predict(db[\"features\"][i:])\n",
    "print(classification_report(db[\"labels\"][i:], preds, target_names=db[\"label_names\"]))\n",
    "\n",
    "acc = accuracy_score(db[\"labels\"][i:], preds)\n",
    "print(f\"[INFO] accuracy score: {acc}......\")\n",
    "\n",
    "db.close()\n"
   ],
   "id": "b9cf3e24c03fdcbb"
  }
 ],
 "metadata": {
  "kernelspec": {
   "display_name": "Python 3",
   "language": "python",
   "name": "python3"
  },
  "language_info": {
   "codemirror_mode": {
    "name": "ipython",
    "version": 2
   },
   "file_extension": ".py",
   "mimetype": "text/x-python",
   "name": "python",
   "nbconvert_exporter": "python",
   "pygments_lexer": "ipython2",
   "version": "2.7.6"
  }
 },
 "nbformat": 4,
 "nbformat_minor": 5
}
