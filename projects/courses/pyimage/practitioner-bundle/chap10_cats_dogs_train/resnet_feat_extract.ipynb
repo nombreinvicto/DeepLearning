{
 "cells": [
  {
   "metadata": {},
   "cell_type": "code",
   "outputs": [],
   "execution_count": null,
   "source": [
    "import sys\n",
    "from google.colab import drive\n",
    "\n",
    "drive.mount('/content/drive')\n",
    "sys.path.append(r\"/content/drive/MyDrive/\")"
   ],
   "id": "bb29024e38490f7c"
  },
  {
   "metadata": {
    "ExecuteTime": {
     "end_time": "2025-10-27T00:49:47.464843Z",
     "start_time": "2025-10-27T00:49:26.351707Z"
    }
   },
   "cell_type": "code",
   "source": [
    "from tensorflow.keras.applications import ResNet50\n",
    "from tensorflow.keras.applications import imagenet_utils\n",
    "from tensorflow.keras.utils import plot_model\n",
    "from tensorflow.keras.preprocessing.image import img_to_array, load_img\n",
    "from sklearn.preprocessing import LabelEncoder\n",
    "from loader_util.io import HDF5DatasetWriter\n",
    "from imutils import paths\n",
    "from tqdm import tqdm_notebook\n",
    "import numpy as np\n",
    "import random\n",
    "import os"
   ],
   "id": "16387b4705fc5d64",
   "outputs": [],
   "execution_count": 1
  },
  {
   "metadata": {
    "ExecuteTime": {
     "end_time": "2025-10-27T00:55:56.115773Z",
     "start_time": "2025-10-27T00:55:56.096676Z"
    }
   },
   "cell_type": "code",
   "source": [
    "# script constants\n",
    "dataset_path = r\"C:\\GoogleDrive\\GitHub\\image_datasets\\kaggle_dogs_vs_cats\\train\"\n",
    "extracted_features_path = r\"D:\\DL4CV_Data\\practitioner_bundle\\chap10\\cats_dogs_extracted_feat_resnet50.hdf5\"\n",
    "batch_size = 16\n",
    "buffer_size = 1000"
   ],
   "id": "1ab776e6073f2898",
   "outputs": [],
   "execution_count": 14
  },
  {
   "metadata": {
    "ExecuteTime": {
     "end_time": "2025-10-27T00:53:21.393028Z",
     "start_time": "2025-10-27T00:53:21.284266Z"
    }
   },
   "cell_type": "code",
   "source": [
    "print(f\"[INFO] loading images......\")\n",
    "image_paths = list(paths.list_images(dataset_path))\n",
    "random.shuffle(image_paths)\n",
    "\n",
    "labels = [pth.split(os.path.sep)[-1].split(\".\")[0] for pth in image_paths]\n",
    "le = LabelEncoder()\n",
    "labels = le.fit_transform(labels)\n",
    "labels"
   ],
   "id": "671393100058cf2d",
   "outputs": [
    {
     "name": "stdout",
     "output_type": "stream",
     "text": [
      "[INFO] loading images......\n"
     ]
    },
    {
     "data": {
      "text/plain": [
       "array([1, 1, 1, ..., 1, 1, 0], dtype=int64)"
      ]
     },
     "execution_count": 3,
     "metadata": {},
     "output_type": "execute_result"
    }
   ],
   "execution_count": 3
  },
  {
   "metadata": {
    "ExecuteTime": {
     "end_time": "2025-10-27T00:53:22.495028Z",
     "start_time": "2025-10-27T00:53:22.488068Z"
    }
   },
   "cell_type": "code",
   "source": "le.classes_",
   "id": "62c39c55ba3ccc40",
   "outputs": [
    {
     "data": {
      "text/plain": [
       "array(['cat', 'dog'], dtype='<U3')"
      ]
     },
     "execution_count": 4,
     "metadata": {},
     "output_type": "execute_result"
    }
   ],
   "execution_count": 4
  },
  {
   "metadata": {
    "ExecuteTime": {
     "end_time": "2025-10-27T00:53:26.280231Z",
     "start_time": "2025-10-27T00:53:24.903950Z"
    }
   },
   "cell_type": "code",
   "source": [
    "print(f\"[INFO] loading the network......\")\n",
    "model = ResNet50(weights=\"imagenet\",\n",
    "                 include_top=False,\n",
    "                 input_shape=(224, 224, 3))"
   ],
   "id": "c5f29d90067ab917",
   "outputs": [
    {
     "name": "stdout",
     "output_type": "stream",
     "text": [
      "[INFO] loading the network......\n"
     ]
    }
   ],
   "execution_count": 5
  },
  {
   "metadata": {
    "ExecuteTime": {
     "end_time": "2025-10-27T00:56:03.006449Z",
     "start_time": "2025-10-27T00:56:00.608460Z"
    }
   },
   "cell_type": "code",
   "source": [
    "dataset = HDF5DatasetWriter(dims=(len(image_paths), 100352),\n",
    "                            outpath=extracted_features_path,\n",
    "                            datakey=\"features\",\n",
    "                            bufsize=buffer_size)\n",
    "dataset.store_string_feature_labels(le.classes_)"
   ],
   "id": "b52955095ec7d380",
   "outputs": [],
   "execution_count": 15
  },
  {
   "metadata": {
    "jupyter": {
     "is_executing": true
    },
    "ExecuteTime": {
     "start_time": "2025-10-27T00:56:06.463183Z"
    }
   },
   "cell_type": "code",
   "source": [
    "\n",
    "for i in range(0, len(image_paths), batch_size):\n",
    "    batch_paths = image_paths[i:i + batch_size]\n",
    "    batch_labels = labels[i:i + batch_size]\n",
    "    batch_images = []\n",
    "\n",
    "    for j, image_path in enumerate(batch_paths):\n",
    "        image = load_img(image_path, target_size=(224, 224))\n",
    "        image = img_to_array(image)\n",
    "        image = np.expand_dims(image, axis=0)\n",
    "        image = imagenet_utils.preprocess_input(image)\n",
    "        batch_images.append(image)\n",
    "\n",
    "    batch_images = np.vstack(batch_images)\n",
    "    features = model.predict(batch_images, batch_size=batch_size)\n",
    "    features = features.reshape((features.shape[0], -1))\n",
    "    dataset.add(features, batch_labels)\n",
    "\n",
    "dataset.close()"
   ],
   "id": "defbd083ef6cea44",
   "outputs": [
    {
     "name": "stdout",
     "output_type": "stream",
     "text": [
      "1/1 [==============================] - 1s 1s/step\n",
      "1/1 [==============================] - 1s 789ms/step\n",
      "1/1 [==============================] - 1s 746ms/step\n",
      "1/1 [==============================] - 1s 750ms/step\n",
      "1/1 [==============================] - 1s 800ms/step\n",
      "1/1 [==============================] - 1s 1s/step\n"
     ]
    }
   ],
   "execution_count": null
  },
  {
   "metadata": {},
   "cell_type": "code",
   "outputs": [],
   "execution_count": null,
   "source": "",
   "id": "8e41f4616d409ed6"
  }
 ],
 "metadata": {
  "kernelspec": {
   "display_name": "Python 3",
   "language": "python",
   "name": "python3"
  },
  "language_info": {
   "codemirror_mode": {
    "name": "ipython",
    "version": 2
   },
   "file_extension": ".py",
   "mimetype": "text/x-python",
   "name": "python",
   "nbconvert_exporter": "python",
   "pygments_lexer": "ipython2",
   "version": "2.7.6"
  }
 },
 "nbformat": 4,
 "nbformat_minor": 5
}
