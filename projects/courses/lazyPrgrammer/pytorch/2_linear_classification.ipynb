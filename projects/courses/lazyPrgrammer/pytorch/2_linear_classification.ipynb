{
 "cells": [
  {
   "cell_type": "markdown",
   "id": "3fbf3cf286e08714",
   "metadata": {},
   "source": [
    "# Linear Classification\n"
   ]
  },
  {
   "cell_type": "code",
   "id": "initial_id",
   "metadata": {
    "collapsed": true,
    "jupyter": {
     "outputs_hidden": true
    },
    "ExecuteTime": {
     "end_time": "2025-10-25T02:04:23.140825Z",
     "start_time": "2025-10-25T02:04:23.064770Z"
    }
   },
   "source": [
    "import sys, os, json\n",
    "import numpy as np\n",
    "import pandas as pd\n",
    "import seaborn as sns\n",
    "from datetime import datetime\n",
    "import argparse, progressbar\n",
    "import matplotlib.pyplot as plt\n",
    "from matplotlib.figure import Figure\n",
    "from matplotlib.axes import Axes\n",
    "\n",
    "sns.set()\n"
   ],
   "outputs": [],
   "execution_count": 1
  },
  {
   "cell_type": "code",
   "id": "459a9b08933aeb5f",
   "metadata": {
    "ExecuteTime": {
     "end_time": "2025-10-25T02:04:29.639707Z",
     "start_time": "2025-10-25T02:04:23.938938Z"
    }
   },
   "source": [
    "## ml imports\n",
    "from sklearn import set_config\n",
    "from sklearn.datasets import load_breast_cancer\n",
    "from sklearn.experimental import enable_iterative_imputer\n",
    "\n",
    "set_config(print_changed_only=False)\n",
    "\n",
    "# import encoders and imputers for feature engineering\n",
    "from sklearn.preprocessing import (\n",
    "    StandardScaler,\n",
    "    OneHotEncoder\n",
    ")\n",
    "from sklearn.impute import (\n",
    "    SimpleImputer,\n",
    "    IterativeImputer\n",
    ")\n",
    "\n",
    "# pipeline and components\n",
    "from sklearn.pipeline import Pipeline, make_pipeline\n",
    "from sklearn.compose import make_column_transformer, make_column_selector\n",
    "\n",
    "# import models\n",
    "import xgboost as xgb\n",
    "from sklearn.svm import SVC\n",
    "from sklearn.linear_model import LogisticRegression\n",
    "from sklearn.ensemble import RandomForestClassifier\n",
    "from sklearn.tree import DecisionTreeClassifier, ExtraTreeClassifier\n",
    "\n",
    "# import model selection utils\n",
    "from sklearn.model_selection import (\n",
    "    train_test_split,\n",
    "    cross_val_score,\n",
    "    RandomizedSearchCV,\n",
    "    GridSearchCV,\n",
    "    StratifiedKFold,\n",
    "    RepeatedStratifiedKFold\n",
    ")\n",
    "\n",
    "# import metrics for evaluation\n",
    "from sklearn.metrics import (\n",
    "    accuracy_score,\n",
    "    precision_score,\n",
    "    recall_score,\n",
    "    f1_score,\n",
    "    balanced_accuracy_score,\n",
    "    roc_auc_score,\n",
    "    RocCurveDisplay,\n",
    "    PrecisionRecallDisplay,\n",
    "    ConfusionMatrixDisplay\n",
    ")\n",
    "\n",
    "# yellowbrick and others\n",
    "import shap\n",
    "import xgbfir\n",
    "import dtreeviz\n",
    "import yellowbrick.model_selection as ms\n",
    "from yellowbrick.classifier import ClassificationReport, DiscriminationThreshold"
   ],
   "outputs": [],
   "execution_count": 2
  },
  {
   "cell_type": "code",
   "id": "3329cfb0c58859d8",
   "metadata": {
    "ExecuteTime": {
     "end_time": "2025-10-25T02:04:35.162546Z",
     "start_time": "2025-10-25T02:04:33.322929Z"
    }
   },
   "source": [
    "import torch\n",
    "import torchvision\n",
    "from torch import nn\n",
    "from torch import optim\n",
    "import torch.nn.functional as F\n",
    "from torch.utils.data import DataLoader\n",
    "from torchvision import datasets, transforms, models"
   ],
   "outputs": [],
   "execution_count": 3
  },
  {
   "cell_type": "markdown",
   "id": "1872a2d02c2b26ba",
   "metadata": {},
   "source": [
    "# Load Data"
   ]
  },
  {
   "cell_type": "code",
   "id": "a6f3464cf6bd7bb2",
   "metadata": {
    "ExecuteTime": {
     "end_time": "2025-10-25T02:04:35.226824Z",
     "start_time": "2025-10-25T02:04:35.178316Z"
    }
   },
   "source": [
    "# bunch is like a dict\n",
    "data = load_breast_cancer()\n",
    "type(data)"
   ],
   "outputs": [
    {
     "data": {
      "text/plain": [
       "sklearn.utils._bunch.Bunch"
      ]
     },
     "execution_count": 4,
     "metadata": {},
     "output_type": "execute_result"
    }
   ],
   "execution_count": 4
  },
  {
   "cell_type": "code",
   "id": "76539b211c00741c",
   "metadata": {
    "ExecuteTime": {
     "end_time": "2025-10-25T02:04:37.491881Z",
     "start_time": "2025-10-25T02:04:37.482367Z"
    }
   },
   "source": [
    "data.keys()"
   ],
   "outputs": [
    {
     "data": {
      "text/plain": [
       "dict_keys(['data', 'target', 'frame', 'target_names', 'DESCR', 'feature_names', 'filename', 'data_module'])"
      ]
     },
     "execution_count": 5,
     "metadata": {},
     "output_type": "execute_result"
    }
   ],
   "execution_count": 5
  },
  {
   "cell_type": "code",
   "id": "9c0534b209e3908a",
   "metadata": {
    "ExecuteTime": {
     "end_time": "2025-10-25T02:04:37.919057Z",
     "start_time": "2025-10-25T02:04:37.900487Z"
    }
   },
   "source": [
    "x, y = data[\"data\"], data[\"target\"]\n",
    "x.dtype, y.dtype"
   ],
   "outputs": [
    {
     "data": {
      "text/plain": [
       "(dtype('float64'), dtype('int32'))"
      ]
     },
     "execution_count": 6,
     "metadata": {},
     "output_type": "execute_result"
    }
   ],
   "execution_count": 6
  },
  {
   "cell_type": "code",
   "id": "ab53d11319c707b0",
   "metadata": {
    "ExecuteTime": {
     "end_time": "2025-10-25T02:04:39.862938Z",
     "start_time": "2025-10-25T02:04:39.843964Z"
    }
   },
   "source": [
    "x.shape, y.shape"
   ],
   "outputs": [
    {
     "data": {
      "text/plain": [
       "((569, 30), (569,))"
      ]
     },
     "execution_count": 7,
     "metadata": {},
     "output_type": "execute_result"
    }
   ],
   "execution_count": 7
  },
  {
   "cell_type": "code",
   "id": "9b2ba72915b6ad6e",
   "metadata": {
    "ExecuteTime": {
     "end_time": "2025-10-25T02:04:41.012992Z",
     "start_time": "2025-10-25T02:04:40.999396Z"
    }
   },
   "source": [
    "np.unique(y)"
   ],
   "outputs": [
    {
     "data": {
      "text/plain": [
       "array([0, 1])"
      ]
     },
     "execution_count": 8,
     "metadata": {},
     "output_type": "execute_result"
    }
   ],
   "execution_count": 8
  },
  {
   "cell_type": "code",
   "id": "37bae1dac458d9f4",
   "metadata": {
    "ExecuteTime": {
     "end_time": "2025-10-25T02:04:42.942074Z",
     "start_time": "2025-10-25T02:04:42.920953Z"
    }
   },
   "source": [
    "data[\"target_names\"]"
   ],
   "outputs": [
    {
     "data": {
      "text/plain": [
       "array(['malignant', 'benign'], dtype='<U9')"
      ]
     },
     "execution_count": 9,
     "metadata": {},
     "output_type": "execute_result"
    }
   ],
   "execution_count": 9
  },
  {
   "cell_type": "code",
   "id": "b40e8842cb63fa40",
   "metadata": {
    "ExecuteTime": {
     "end_time": "2025-10-25T02:04:43.392836Z",
     "start_time": "2025-10-25T02:04:43.375254Z"
    }
   },
   "source": [
    "data[\"feature_names\"]"
   ],
   "outputs": [
    {
     "data": {
      "text/plain": [
       "array(['mean radius', 'mean texture', 'mean perimeter', 'mean area',\n",
       "       'mean smoothness', 'mean compactness', 'mean concavity',\n",
       "       'mean concave points', 'mean symmetry', 'mean fractal dimension',\n",
       "       'radius error', 'texture error', 'perimeter error', 'area error',\n",
       "       'smoothness error', 'compactness error', 'concavity error',\n",
       "       'concave points error', 'symmetry error',\n",
       "       'fractal dimension error', 'worst radius', 'worst texture',\n",
       "       'worst perimeter', 'worst area', 'worst smoothness',\n",
       "       'worst compactness', 'worst concavity', 'worst concave points',\n",
       "       'worst symmetry', 'worst fractal dimension'], dtype='<U23')"
      ]
     },
     "execution_count": 10,
     "metadata": {},
     "output_type": "execute_result"
    }
   ],
   "execution_count": 10
  },
  {
   "cell_type": "markdown",
   "id": "ef369fbda53835b6",
   "metadata": {},
   "source": [
    "# Preprocess the dataset"
   ]
  },
  {
   "cell_type": "code",
   "id": "62026846349cd196",
   "metadata": {
    "ExecuteTime": {
     "end_time": "2025-10-25T02:04:45.010435Z",
     "start_time": "2025-10-25T02:04:44.998662Z"
    }
   },
   "source": [
    "trainx, testx, trainy, testy = train_test_split(x, y,\n",
    "                                                test_size=0.30,\n",
    "                                                shuffle=True,\n",
    "                                                stratify=y)"
   ],
   "outputs": [],
   "execution_count": 11
  },
  {
   "cell_type": "code",
   "id": "373411be873b48e9",
   "metadata": {
    "ExecuteTime": {
     "end_time": "2025-10-25T02:04:45.414215Z",
     "start_time": "2025-10-25T02:04:45.387201Z"
    }
   },
   "source": [
    "pd.Series(trainy).value_counts(normalize=True), pd.Series(testy).value_counts(normalize=True)"
   ],
   "outputs": [
    {
     "data": {
      "text/plain": [
       "(1    0.628141\n",
       " 0    0.371859\n",
       " Name: proportion, dtype: float64,\n",
       " 1    0.625731\n",
       " 0    0.374269\n",
       " Name: proportion, dtype: float64)"
      ]
     },
     "execution_count": 12,
     "metadata": {},
     "output_type": "execute_result"
    }
   ],
   "execution_count": 12
  },
  {
   "cell_type": "code",
   "id": "1ef9bae218d61332",
   "metadata": {
    "ExecuteTime": {
     "end_time": "2025-10-25T02:04:47.238809Z",
     "start_time": "2025-10-25T02:04:47.228866Z"
    }
   },
   "source": [
    "N, D = trainx.shape"
   ],
   "outputs": [],
   "execution_count": 13
  },
  {
   "cell_type": "code",
   "id": "4b2b5093f65b8f21",
   "metadata": {
    "ExecuteTime": {
     "end_time": "2025-10-25T02:04:51.259393Z",
     "start_time": "2025-10-25T02:04:51.220315Z"
    }
   },
   "source": [
    "pd.DataFrame(trainx, columns=list(data[\"feature_names\"]))"
   ],
   "outputs": [
    {
     "data": {
      "text/plain": [
       "     mean radius  mean texture  mean perimeter  mean area  mean smoothness  \\\n",
       "0          9.295         13.90           59.96      257.8          0.13710   \n",
       "1         11.330         14.16           71.79      396.6          0.09379   \n",
       "2         19.890         20.26          130.50     1214.0          0.10370   \n",
       "3          9.333         21.94           59.01      264.0          0.09240   \n",
       "4         10.200         17.48           65.05      321.2          0.08054   \n",
       "..           ...           ...             ...        ...              ...   \n",
       "393       17.300         17.08          113.00      928.2          0.10080   \n",
       "394       16.240         18.77          108.80      805.1          0.10660   \n",
       "395        9.504         12.44           60.34      273.9          0.10240   \n",
       "396       12.720         13.78           81.78      492.1          0.09667   \n",
       "397       15.660         23.20          110.20      773.5          0.11090   \n",
       "\n",
       "     mean compactness  mean concavity  mean concave points  mean symmetry  \\\n",
       "0             0.12250        0.033320             0.024210         0.2197   \n",
       "1             0.03872        0.001487             0.003333         0.1954   \n",
       "2             0.13100        0.141100             0.094310         0.1802   \n",
       "3             0.05605        0.039960             0.012820         0.1692   \n",
       "4             0.05907        0.057740             0.010710         0.1964   \n",
       "..                ...             ...                  ...            ...   \n",
       "393           0.10410        0.126600             0.083530         0.1813   \n",
       "394           0.18020        0.194800             0.090520         0.1876   \n",
       "395           0.06492        0.029560             0.020760         0.1815   \n",
       "396           0.08393        0.012880             0.019240         0.1638   \n",
       "397           0.31140        0.317600             0.137700         0.2495   \n",
       "\n",
       "     mean fractal dimension  ...  worst radius  worst texture  \\\n",
       "0                   0.07696  ...        10.570          17.84   \n",
       "1                   0.05821  ...        12.200          18.99   \n",
       "2                   0.06188  ...        23.730          25.23   \n",
       "3                   0.06576  ...         9.845          25.05   \n",
       "4                   0.06315  ...        11.480          24.47   \n",
       "..                      ...  ...           ...            ...   \n",
       "393                 0.05613  ...        19.850          25.09   \n",
       "394                 0.06684  ...        18.550          25.09   \n",
       "395                 0.06905  ...        10.230          15.66   \n",
       "396                 0.06100  ...        13.500          17.48   \n",
       "397                 0.08104  ...        19.850          31.64   \n",
       "\n",
       "     worst perimeter  worst area  worst smoothness  worst compactness  \\\n",
       "0              67.84       326.6           0.18500            0.20970   \n",
       "1              77.37       458.0           0.12590            0.07348   \n",
       "2             160.50      1646.0           0.14170            0.33090   \n",
       "3              62.86       295.8           0.11030            0.08298   \n",
       "4              75.40       403.7           0.09527            0.13970   \n",
       "..               ...         ...               ...                ...   \n",
       "393           130.90      1222.0           0.14160            0.24050   \n",
       "394           126.90      1031.0           0.13650            0.47060   \n",
       "395            65.13       314.9           0.13240            0.11480   \n",
       "396            88.54       553.7           0.12980            0.14720   \n",
       "397           143.70      1226.0           0.15040            0.51720   \n",
       "\n",
       "     worst concavity  worst concave points  worst symmetry  \\\n",
       "0           0.099960               0.07262          0.3681   \n",
       "1           0.004955               0.01111          0.2758   \n",
       "2           0.418500               0.16130          0.2549   \n",
       "3           0.079930               0.02564          0.2435   \n",
       "4           0.192500               0.03571          0.2868   \n",
       "..               ...                   ...             ...   \n",
       "393         0.337800               0.18570          0.3138   \n",
       "394         0.502600               0.17320          0.2770   \n",
       "395         0.088670               0.06227          0.2450   \n",
       "396         0.052330               0.06343          0.2369   \n",
       "397         0.618100               0.24620          0.3277   \n",
       "\n",
       "     worst fractal dimension  \n",
       "0                    0.08982  \n",
       "1                    0.06386  \n",
       "2                    0.09136  \n",
       "3                    0.07393  \n",
       "4                    0.07809  \n",
       "..                       ...  \n",
       "393                  0.08113  \n",
       "394                  0.10630  \n",
       "395                  0.07773  \n",
       "396                  0.06922  \n",
       "397                  0.10190  \n",
       "\n",
       "[398 rows x 30 columns]"
      ],
      "text/html": [
       "<div>\n",
       "<style scoped>\n",
       "    .dataframe tbody tr th:only-of-type {\n",
       "        vertical-align: middle;\n",
       "    }\n",
       "\n",
       "    .dataframe tbody tr th {\n",
       "        vertical-align: top;\n",
       "    }\n",
       "\n",
       "    .dataframe thead th {\n",
       "        text-align: right;\n",
       "    }\n",
       "</style>\n",
       "<table border=\"1\" class=\"dataframe\">\n",
       "  <thead>\n",
       "    <tr style=\"text-align: right;\">\n",
       "      <th></th>\n",
       "      <th>mean radius</th>\n",
       "      <th>mean texture</th>\n",
       "      <th>mean perimeter</th>\n",
       "      <th>mean area</th>\n",
       "      <th>mean smoothness</th>\n",
       "      <th>mean compactness</th>\n",
       "      <th>mean concavity</th>\n",
       "      <th>mean concave points</th>\n",
       "      <th>mean symmetry</th>\n",
       "      <th>mean fractal dimension</th>\n",
       "      <th>...</th>\n",
       "      <th>worst radius</th>\n",
       "      <th>worst texture</th>\n",
       "      <th>worst perimeter</th>\n",
       "      <th>worst area</th>\n",
       "      <th>worst smoothness</th>\n",
       "      <th>worst compactness</th>\n",
       "      <th>worst concavity</th>\n",
       "      <th>worst concave points</th>\n",
       "      <th>worst symmetry</th>\n",
       "      <th>worst fractal dimension</th>\n",
       "    </tr>\n",
       "  </thead>\n",
       "  <tbody>\n",
       "    <tr>\n",
       "      <th>0</th>\n",
       "      <td>9.295</td>\n",
       "      <td>13.90</td>\n",
       "      <td>59.96</td>\n",
       "      <td>257.8</td>\n",
       "      <td>0.13710</td>\n",
       "      <td>0.12250</td>\n",
       "      <td>0.033320</td>\n",
       "      <td>0.024210</td>\n",
       "      <td>0.2197</td>\n",
       "      <td>0.07696</td>\n",
       "      <td>...</td>\n",
       "      <td>10.570</td>\n",
       "      <td>17.84</td>\n",
       "      <td>67.84</td>\n",
       "      <td>326.6</td>\n",
       "      <td>0.18500</td>\n",
       "      <td>0.20970</td>\n",
       "      <td>0.099960</td>\n",
       "      <td>0.07262</td>\n",
       "      <td>0.3681</td>\n",
       "      <td>0.08982</td>\n",
       "    </tr>\n",
       "    <tr>\n",
       "      <th>1</th>\n",
       "      <td>11.330</td>\n",
       "      <td>14.16</td>\n",
       "      <td>71.79</td>\n",
       "      <td>396.6</td>\n",
       "      <td>0.09379</td>\n",
       "      <td>0.03872</td>\n",
       "      <td>0.001487</td>\n",
       "      <td>0.003333</td>\n",
       "      <td>0.1954</td>\n",
       "      <td>0.05821</td>\n",
       "      <td>...</td>\n",
       "      <td>12.200</td>\n",
       "      <td>18.99</td>\n",
       "      <td>77.37</td>\n",
       "      <td>458.0</td>\n",
       "      <td>0.12590</td>\n",
       "      <td>0.07348</td>\n",
       "      <td>0.004955</td>\n",
       "      <td>0.01111</td>\n",
       "      <td>0.2758</td>\n",
       "      <td>0.06386</td>\n",
       "    </tr>\n",
       "    <tr>\n",
       "      <th>2</th>\n",
       "      <td>19.890</td>\n",
       "      <td>20.26</td>\n",
       "      <td>130.50</td>\n",
       "      <td>1214.0</td>\n",
       "      <td>0.10370</td>\n",
       "      <td>0.13100</td>\n",
       "      <td>0.141100</td>\n",
       "      <td>0.094310</td>\n",
       "      <td>0.1802</td>\n",
       "      <td>0.06188</td>\n",
       "      <td>...</td>\n",
       "      <td>23.730</td>\n",
       "      <td>25.23</td>\n",
       "      <td>160.50</td>\n",
       "      <td>1646.0</td>\n",
       "      <td>0.14170</td>\n",
       "      <td>0.33090</td>\n",
       "      <td>0.418500</td>\n",
       "      <td>0.16130</td>\n",
       "      <td>0.2549</td>\n",
       "      <td>0.09136</td>\n",
       "    </tr>\n",
       "    <tr>\n",
       "      <th>3</th>\n",
       "      <td>9.333</td>\n",
       "      <td>21.94</td>\n",
       "      <td>59.01</td>\n",
       "      <td>264.0</td>\n",
       "      <td>0.09240</td>\n",
       "      <td>0.05605</td>\n",
       "      <td>0.039960</td>\n",
       "      <td>0.012820</td>\n",
       "      <td>0.1692</td>\n",
       "      <td>0.06576</td>\n",
       "      <td>...</td>\n",
       "      <td>9.845</td>\n",
       "      <td>25.05</td>\n",
       "      <td>62.86</td>\n",
       "      <td>295.8</td>\n",
       "      <td>0.11030</td>\n",
       "      <td>0.08298</td>\n",
       "      <td>0.079930</td>\n",
       "      <td>0.02564</td>\n",
       "      <td>0.2435</td>\n",
       "      <td>0.07393</td>\n",
       "    </tr>\n",
       "    <tr>\n",
       "      <th>4</th>\n",
       "      <td>10.200</td>\n",
       "      <td>17.48</td>\n",
       "      <td>65.05</td>\n",
       "      <td>321.2</td>\n",
       "      <td>0.08054</td>\n",
       "      <td>0.05907</td>\n",
       "      <td>0.057740</td>\n",
       "      <td>0.010710</td>\n",
       "      <td>0.1964</td>\n",
       "      <td>0.06315</td>\n",
       "      <td>...</td>\n",
       "      <td>11.480</td>\n",
       "      <td>24.47</td>\n",
       "      <td>75.40</td>\n",
       "      <td>403.7</td>\n",
       "      <td>0.09527</td>\n",
       "      <td>0.13970</td>\n",
       "      <td>0.192500</td>\n",
       "      <td>0.03571</td>\n",
       "      <td>0.2868</td>\n",
       "      <td>0.07809</td>\n",
       "    </tr>\n",
       "    <tr>\n",
       "      <th>...</th>\n",
       "      <td>...</td>\n",
       "      <td>...</td>\n",
       "      <td>...</td>\n",
       "      <td>...</td>\n",
       "      <td>...</td>\n",
       "      <td>...</td>\n",
       "      <td>...</td>\n",
       "      <td>...</td>\n",
       "      <td>...</td>\n",
       "      <td>...</td>\n",
       "      <td>...</td>\n",
       "      <td>...</td>\n",
       "      <td>...</td>\n",
       "      <td>...</td>\n",
       "      <td>...</td>\n",
       "      <td>...</td>\n",
       "      <td>...</td>\n",
       "      <td>...</td>\n",
       "      <td>...</td>\n",
       "      <td>...</td>\n",
       "      <td>...</td>\n",
       "    </tr>\n",
       "    <tr>\n",
       "      <th>393</th>\n",
       "      <td>17.300</td>\n",
       "      <td>17.08</td>\n",
       "      <td>113.00</td>\n",
       "      <td>928.2</td>\n",
       "      <td>0.10080</td>\n",
       "      <td>0.10410</td>\n",
       "      <td>0.126600</td>\n",
       "      <td>0.083530</td>\n",
       "      <td>0.1813</td>\n",
       "      <td>0.05613</td>\n",
       "      <td>...</td>\n",
       "      <td>19.850</td>\n",
       "      <td>25.09</td>\n",
       "      <td>130.90</td>\n",
       "      <td>1222.0</td>\n",
       "      <td>0.14160</td>\n",
       "      <td>0.24050</td>\n",
       "      <td>0.337800</td>\n",
       "      <td>0.18570</td>\n",
       "      <td>0.3138</td>\n",
       "      <td>0.08113</td>\n",
       "    </tr>\n",
       "    <tr>\n",
       "      <th>394</th>\n",
       "      <td>16.240</td>\n",
       "      <td>18.77</td>\n",
       "      <td>108.80</td>\n",
       "      <td>805.1</td>\n",
       "      <td>0.10660</td>\n",
       "      <td>0.18020</td>\n",
       "      <td>0.194800</td>\n",
       "      <td>0.090520</td>\n",
       "      <td>0.1876</td>\n",
       "      <td>0.06684</td>\n",
       "      <td>...</td>\n",
       "      <td>18.550</td>\n",
       "      <td>25.09</td>\n",
       "      <td>126.90</td>\n",
       "      <td>1031.0</td>\n",
       "      <td>0.13650</td>\n",
       "      <td>0.47060</td>\n",
       "      <td>0.502600</td>\n",
       "      <td>0.17320</td>\n",
       "      <td>0.2770</td>\n",
       "      <td>0.10630</td>\n",
       "    </tr>\n",
       "    <tr>\n",
       "      <th>395</th>\n",
       "      <td>9.504</td>\n",
       "      <td>12.44</td>\n",
       "      <td>60.34</td>\n",
       "      <td>273.9</td>\n",
       "      <td>0.10240</td>\n",
       "      <td>0.06492</td>\n",
       "      <td>0.029560</td>\n",
       "      <td>0.020760</td>\n",
       "      <td>0.1815</td>\n",
       "      <td>0.06905</td>\n",
       "      <td>...</td>\n",
       "      <td>10.230</td>\n",
       "      <td>15.66</td>\n",
       "      <td>65.13</td>\n",
       "      <td>314.9</td>\n",
       "      <td>0.13240</td>\n",
       "      <td>0.11480</td>\n",
       "      <td>0.088670</td>\n",
       "      <td>0.06227</td>\n",
       "      <td>0.2450</td>\n",
       "      <td>0.07773</td>\n",
       "    </tr>\n",
       "    <tr>\n",
       "      <th>396</th>\n",
       "      <td>12.720</td>\n",
       "      <td>13.78</td>\n",
       "      <td>81.78</td>\n",
       "      <td>492.1</td>\n",
       "      <td>0.09667</td>\n",
       "      <td>0.08393</td>\n",
       "      <td>0.012880</td>\n",
       "      <td>0.019240</td>\n",
       "      <td>0.1638</td>\n",
       "      <td>0.06100</td>\n",
       "      <td>...</td>\n",
       "      <td>13.500</td>\n",
       "      <td>17.48</td>\n",
       "      <td>88.54</td>\n",
       "      <td>553.7</td>\n",
       "      <td>0.12980</td>\n",
       "      <td>0.14720</td>\n",
       "      <td>0.052330</td>\n",
       "      <td>0.06343</td>\n",
       "      <td>0.2369</td>\n",
       "      <td>0.06922</td>\n",
       "    </tr>\n",
       "    <tr>\n",
       "      <th>397</th>\n",
       "      <td>15.660</td>\n",
       "      <td>23.20</td>\n",
       "      <td>110.20</td>\n",
       "      <td>773.5</td>\n",
       "      <td>0.11090</td>\n",
       "      <td>0.31140</td>\n",
       "      <td>0.317600</td>\n",
       "      <td>0.137700</td>\n",
       "      <td>0.2495</td>\n",
       "      <td>0.08104</td>\n",
       "      <td>...</td>\n",
       "      <td>19.850</td>\n",
       "      <td>31.64</td>\n",
       "      <td>143.70</td>\n",
       "      <td>1226.0</td>\n",
       "      <td>0.15040</td>\n",
       "      <td>0.51720</td>\n",
       "      <td>0.618100</td>\n",
       "      <td>0.24620</td>\n",
       "      <td>0.3277</td>\n",
       "      <td>0.10190</td>\n",
       "    </tr>\n",
       "  </tbody>\n",
       "</table>\n",
       "<p>398 rows × 30 columns</p>\n",
       "</div>"
      ]
     },
     "execution_count": 14,
     "metadata": {},
     "output_type": "execute_result"
    }
   ],
   "execution_count": 14
  },
  {
   "cell_type": "code",
   "id": "5539a66e69f7e671",
   "metadata": {
    "ExecuteTime": {
     "end_time": "2025-10-25T02:04:54.610012Z",
     "start_time": "2025-10-25T02:04:54.598495Z"
    }
   },
   "source": [
    "# prepreocessors\n",
    "sc = StandardScaler()\n",
    "trainx_transformed = sc.fit_transform(trainx)\n",
    "testx_transformed = sc.transform(testx)"
   ],
   "outputs": [],
   "execution_count": 15
  },
  {
   "cell_type": "code",
   "id": "63f379e784e8354d",
   "metadata": {
    "ExecuteTime": {
     "end_time": "2025-10-25T02:04:55.449611Z",
     "start_time": "2025-10-25T02:04:55.416918Z"
    }
   },
   "source": [
    "# convert data types and do reshapes for pytorch\n",
    "trainx_transformed = torch.from_numpy(trainx_transformed.astype(np.float32))\n",
    "testx_transformed = torch.from_numpy(testx_transformed.astype(np.float32))\n",
    "\n",
    "trainy = torch.from_numpy(trainy.astype(np.float32)).reshape(-1, 1)\n",
    "testy = torch.from_numpy(testy.astype(np.float32)).reshape(-1, 1)"
   ],
   "outputs": [],
   "execution_count": 16
  },
  {
   "cell_type": "markdown",
   "id": "a1ca3e7d3bee80b0",
   "metadata": {},
   "source": [
    "# Build the Model"
   ]
  },
  {
   "cell_type": "code",
   "id": "8b8c3e08021078f3",
   "metadata": {
    "ExecuteTime": {
     "end_time": "2025-10-25T02:04:56.898894Z",
     "start_time": "2025-10-25T02:04:56.890344Z"
    }
   },
   "source": [
    "class LogisticRegression(nn.Module):\n",
    "    def __init__(self, input_size, output_size):\n",
    "        super().__init__()\n",
    "        self.model = nn.Sequential(\n",
    "            nn.Linear(in_features=input_size, out_features=output_size))\n",
    "\n",
    "    def forward(self, x):\n",
    "        logits = self.model(x)\n",
    "        return logits"
   ],
   "outputs": [],
   "execution_count": 17
  },
  {
   "cell_type": "markdown",
   "id": "565da5b155ae8b86",
   "metadata": {},
   "source": [
    "# Train the model"
   ]
  },
  {
   "cell_type": "code",
   "id": "eecc645f52207a6",
   "metadata": {
    "ExecuteTime": {
     "end_time": "2025-10-25T02:04:58.283582Z",
     "start_time": "2025-10-25T02:04:58.263987Z"
    }
   },
   "source": [
    "model = LogisticRegression(input_size=D,\n",
    "                           output_size=1)\n",
    "print(model)"
   ],
   "outputs": [
    {
     "name": "stdout",
     "output_type": "stream",
     "text": [
      "LogisticRegression(\n",
      "  (model): Sequential(\n",
      "    (0): Linear(in_features=30, out_features=1, bias=True)\n",
      "  )\n",
      ")\n"
     ]
    }
   ],
   "execution_count": 18
  },
  {
   "cell_type": "code",
   "id": "9b81a6ae59a8217d",
   "metadata": {
    "ExecuteTime": {
     "end_time": "2025-10-25T02:04:59.415833Z",
     "start_time": "2025-10-25T02:04:59.407304Z"
    }
   },
   "source": [
    "device = \"cuda:0\" if torch.cuda.is_available() else \"cpu\"\n",
    "device"
   ],
   "outputs": [
    {
     "data": {
      "text/plain": [
       "'cpu'"
      ]
     },
     "execution_count": 19,
     "metadata": {},
     "output_type": "execute_result"
    }
   ],
   "execution_count": 19
  },
  {
   "cell_type": "code",
   "id": "2ade239209a79a75",
   "metadata": {
    "ExecuteTime": {
     "end_time": "2025-10-25T02:05:00.513004Z",
     "start_time": "2025-10-25T02:05:00.493748Z"
    }
   },
   "source": [
    "criterion = nn.BCEWithLogitsLoss()\n",
    "optimizer = optim.Adam(model.parameters())"
   ],
   "outputs": [],
   "execution_count": 20
  },
  {
   "cell_type": "code",
   "id": "9b7f01fe0e07175d",
   "metadata": {
    "ExecuteTime": {
     "end_time": "2025-10-25T02:05:01.258595Z",
     "start_time": "2025-10-25T02:05:01.244070Z"
    }
   },
   "source": [
    "trainx_transformed.shape"
   ],
   "outputs": [
    {
     "data": {
      "text/plain": [
       "torch.Size([398, 30])"
      ]
     },
     "execution_count": 21,
     "metadata": {},
     "output_type": "execute_result"
    }
   ],
   "execution_count": 21
  },
  {
   "cell_type": "code",
   "id": "2bb14663e638377c",
   "metadata": {
    "ExecuteTime": {
     "end_time": "2025-10-25T02:06:21.240476Z",
     "start_time": "2025-10-25T02:06:19.963095Z"
    }
   },
   "source": [
    "# start the training process\n",
    "# stuff to store\n",
    "epochs = 1000\n",
    "train_losses = []\n",
    "test_losses = []\n",
    "\n",
    "train_accus = []\n",
    "test_accus = []\n",
    "\n",
    "for epoch in range(epochs):\n",
    "    t0 = datetime.now()\n",
    "\n",
    "    #move data to device\n",
    "    inputs, targets = trainx_transformed.to(device), trainy.to(device)\n",
    "\n",
    "    # zero the grad\n",
    "    optimizer.zero_grad()\n",
    "\n",
    "    # forwards pass and get losses\n",
    "    logits = model(inputs)\n",
    "\n",
    "    train_loss = criterion(logits, targets)\n",
    "    train_losses.append(train_loss.item())\n",
    "\n",
    "    # get accus\n",
    "    # convert from logits to probabilities\n",
    "    # 398 X 1\n",
    "    train_logit_probs = 1 / (1 + torch.exp(-logits))\n",
    "    targets_preds = torch.where(train_logit_probs >= 0.5, 1, 0)\n",
    "    equals = targets.view(-1, 1) == targets_preds\n",
    "    train_accu = np.mean(equals.detach().cpu().numpy())\n",
    "    train_accus.append(train_accu)\n",
    "\n",
    "    # BACKSTEP\n",
    "    train_loss.backward()\n",
    "    optimizer.step()\n",
    "\n",
    "    # Now validate\n",
    "    with torch.no_grad():\n",
    "        model.eval()\n",
    "\n",
    "        #move data to device\n",
    "        inputs, targets = testx_transformed.to(device), testy.to(device)\n",
    "\n",
    "        # forwards pass and get losses\n",
    "        logits = model(inputs)\n",
    "\n",
    "        test_loss = criterion(logits, targets)\n",
    "        test_losses.append(test_loss.item())\n",
    "\n",
    "        # get accus\n",
    "        # convert from logits to probabilities\n",
    "        test_logit_probs = 1 / (1 + torch.exp(-logits))\n",
    "        targets_preds = torch.where(test_logit_probs >= 0.5, 1, 0)\n",
    "        equals = targets.view(-1, 1) == targets_preds\n",
    "        test_accu = np.mean(equals.detach().cpu().numpy())\n",
    "        test_accus.append(test_accu)\n",
    "\n",
    "    model.train()\n",
    "\n",
    "    # now getting out to the next epoch\n",
    "    if (epoch + 1) % 10 == 0:\n",
    "        print(f\"Epoch: {epoch + 1}\\n\"\n",
    "              f\"TrainLoss: {train_losses[epoch]:0.2f},\"\n",
    "              f\"TestLoss: {test_losses[epoch]:0.2f},\")\n",
    "        print(f\"TrainAcc: {train_accus[epoch]:0.2f},\"\n",
    "              f\"TestAccus: {test_accus[epoch]:0.2f}\")\n",
    "        print(f\"Duration: {datetime.now() - t0}\")\n",
    "        print(\"=\" * 50)"
   ],
   "outputs": [
    {
     "name": "stdout",
     "output_type": "stream",
     "text": [
      "Epoch: 10\n",
      "TrainLoss: 0.47,TestLoss: 0.47,\n",
      "TrainAcc: 0.89,TestAccus: 0.89\n",
      "Duration: 0:00:00.000998\n",
      "==================================================\n",
      "Epoch: 20\n",
      "TrainLoss: 0.43,TestLoss: 0.44,\n",
      "TrainAcc: 0.90,TestAccus: 0.92\n",
      "Duration: 0:00:00.000988\n",
      "==================================================\n",
      "Epoch: 30\n",
      "TrainLoss: 0.40,TestLoss: 0.40,\n",
      "TrainAcc: 0.94,TestAccus: 0.92\n",
      "Duration: 0:00:00.000694\n",
      "==================================================\n",
      "Epoch: 40\n",
      "TrainLoss: 0.37,TestLoss: 0.38,\n",
      "TrainAcc: 0.94,TestAccus: 0.92\n",
      "Duration: 0:00:00.001005\n",
      "==================================================\n",
      "Epoch: 50\n",
      "TrainLoss: 0.34,TestLoss: 0.35,\n",
      "TrainAcc: 0.95,TestAccus: 0.94\n",
      "Duration: 0:00:00\n",
      "==================================================\n",
      "Epoch: 60\n",
      "TrainLoss: 0.32,TestLoss: 0.33,\n",
      "TrainAcc: 0.96,TestAccus: 0.94\n",
      "Duration: 0:00:00.001023\n",
      "==================================================\n",
      "Epoch: 70\n",
      "TrainLoss: 0.30,TestLoss: 0.31,\n",
      "TrainAcc: 0.96,TestAccus: 0.94\n",
      "Duration: 0:00:00.001026\n",
      "==================================================\n",
      "Epoch: 80\n",
      "TrainLoss: 0.29,TestLoss: 0.30,\n",
      "TrainAcc: 0.96,TestAccus: 0.94\n",
      "Duration: 0:00:00\n",
      "==================================================\n",
      "Epoch: 90\n",
      "TrainLoss: 0.27,TestLoss: 0.29,\n",
      "TrainAcc: 0.97,TestAccus: 0.94\n",
      "Duration: 0:00:00.000998\n",
      "==================================================\n",
      "Epoch: 100\n",
      "TrainLoss: 0.26,TestLoss: 0.27,\n",
      "TrainAcc: 0.97,TestAccus: 0.94\n",
      "Duration: 0:00:00.000712\n",
      "==================================================\n",
      "Epoch: 110\n",
      "TrainLoss: 0.25,TestLoss: 0.26,\n",
      "TrainAcc: 0.97,TestAccus: 0.95\n",
      "Duration: 0:00:00.001009\n",
      "==================================================\n",
      "Epoch: 120\n",
      "TrainLoss: 0.24,TestLoss: 0.26,\n",
      "TrainAcc: 0.97,TestAccus: 0.95\n",
      "Duration: 0:00:00.001214\n",
      "==================================================\n",
      "Epoch: 130\n",
      "TrainLoss: 0.23,TestLoss: 0.25,\n",
      "TrainAcc: 0.98,TestAccus: 0.95\n",
      "Duration: 0:00:00.000999\n",
      "==================================================\n",
      "Epoch: 140\n",
      "TrainLoss: 0.22,TestLoss: 0.24,\n",
      "TrainAcc: 0.98,TestAccus: 0.96\n",
      "Duration: 0:00:00.001006\n",
      "==================================================\n",
      "Epoch: 150\n",
      "TrainLoss: 0.21,TestLoss: 0.23,\n",
      "TrainAcc: 0.98,TestAccus: 0.96\n",
      "Duration: 0:00:00\n",
      "==================================================\n",
      "Epoch: 160\n",
      "TrainLoss: 0.21,TestLoss: 0.23,\n",
      "TrainAcc: 0.98,TestAccus: 0.96\n",
      "Duration: 0:00:00.001000\n",
      "==================================================\n",
      "Epoch: 170\n",
      "TrainLoss: 0.20,TestLoss: 0.22,\n",
      "TrainAcc: 0.98,TestAccus: 0.96\n",
      "Duration: 0:00:00.001035\n",
      "==================================================\n",
      "Epoch: 180\n",
      "TrainLoss: 0.19,TestLoss: 0.21,\n",
      "TrainAcc: 0.98,TestAccus: 0.96\n",
      "Duration: 0:00:00.000999\n",
      "==================================================\n",
      "Epoch: 190\n",
      "TrainLoss: 0.19,TestLoss: 0.21,\n",
      "TrainAcc: 0.98,TestAccus: 0.96\n",
      "Duration: 0:00:00.000998\n",
      "==================================================\n",
      "Epoch: 200\n",
      "TrainLoss: 0.18,TestLoss: 0.21,\n",
      "TrainAcc: 0.98,TestAccus: 0.96\n",
      "Duration: 0:00:00.001960\n",
      "==================================================\n",
      "Epoch: 210\n",
      "TrainLoss: 0.18,TestLoss: 0.20,\n",
      "TrainAcc: 0.98,TestAccus: 0.96\n",
      "Duration: 0:00:00.001015\n",
      "==================================================\n",
      "Epoch: 220\n",
      "TrainLoss: 0.17,TestLoss: 0.20,\n",
      "TrainAcc: 0.98,TestAccus: 0.96\n",
      "Duration: 0:00:00.002506\n",
      "==================================================\n",
      "Epoch: 230\n",
      "TrainLoss: 0.17,TestLoss: 0.19,\n",
      "TrainAcc: 0.98,TestAccus: 0.96\n",
      "Duration: 0:00:00.001507\n",
      "==================================================\n",
      "Epoch: 240\n",
      "TrainLoss: 0.16,TestLoss: 0.19,\n",
      "TrainAcc: 0.98,TestAccus: 0.97\n",
      "Duration: 0:00:00.002513\n",
      "==================================================\n",
      "Epoch: 250\n",
      "TrainLoss: 0.16,TestLoss: 0.19,\n",
      "TrainAcc: 0.98,TestAccus: 0.97\n",
      "Duration: 0:00:00.000999\n",
      "==================================================\n",
      "Epoch: 260\n",
      "TrainLoss: 0.16,TestLoss: 0.18,\n",
      "TrainAcc: 0.98,TestAccus: 0.97\n",
      "Duration: 0:00:00.001022\n",
      "==================================================\n",
      "Epoch: 270\n",
      "TrainLoss: 0.15,TestLoss: 0.18,\n",
      "TrainAcc: 0.98,TestAccus: 0.97\n",
      "Duration: 0:00:00.002012\n",
      "==================================================\n",
      "Epoch: 280\n",
      "TrainLoss: 0.15,TestLoss: 0.18,\n",
      "TrainAcc: 0.98,TestAccus: 0.97\n",
      "Duration: 0:00:00.002033\n",
      "==================================================\n",
      "Epoch: 290\n",
      "TrainLoss: 0.15,TestLoss: 0.17,\n",
      "TrainAcc: 0.98,TestAccus: 0.97\n",
      "Duration: 0:00:00.001001\n",
      "==================================================\n",
      "Epoch: 300\n",
      "TrainLoss: 0.15,TestLoss: 0.17,\n",
      "TrainAcc: 0.98,TestAccus: 0.96\n",
      "Duration: 0:00:00.002021\n",
      "==================================================\n",
      "Epoch: 310\n",
      "TrainLoss: 0.14,TestLoss: 0.17,\n",
      "TrainAcc: 0.98,TestAccus: 0.96\n",
      "Duration: 0:00:00.000981\n",
      "==================================================\n",
      "Epoch: 320\n",
      "TrainLoss: 0.14,TestLoss: 0.17,\n",
      "TrainAcc: 0.98,TestAccus: 0.96\n",
      "Duration: 0:00:00.001000\n",
      "==================================================\n",
      "Epoch: 330\n",
      "TrainLoss: 0.14,TestLoss: 0.17,\n",
      "TrainAcc: 0.98,TestAccus: 0.96\n",
      "Duration: 0:00:00.001003\n",
      "==================================================\n",
      "Epoch: 340\n",
      "TrainLoss: 0.14,TestLoss: 0.16,\n",
      "TrainAcc: 0.98,TestAccus: 0.96\n",
      "Duration: 0:00:00\n",
      "==================================================\n",
      "Epoch: 350\n",
      "TrainLoss: 0.13,TestLoss: 0.16,\n",
      "TrainAcc: 0.98,TestAccus: 0.96\n",
      "Duration: 0:00:00.001039\n",
      "==================================================\n",
      "Epoch: 360\n",
      "TrainLoss: 0.13,TestLoss: 0.16,\n",
      "TrainAcc: 0.98,TestAccus: 0.96\n",
      "Duration: 0:00:00.001024\n",
      "==================================================\n",
      "Epoch: 370\n",
      "TrainLoss: 0.13,TestLoss: 0.16,\n",
      "TrainAcc: 0.98,TestAccus: 0.96\n",
      "Duration: 0:00:00.000999\n",
      "==================================================\n",
      "Epoch: 380\n",
      "TrainLoss: 0.13,TestLoss: 0.16,\n",
      "TrainAcc: 0.98,TestAccus: 0.96\n",
      "Duration: 0:00:00.003556\n",
      "==================================================\n",
      "Epoch: 390\n",
      "TrainLoss: 0.13,TestLoss: 0.15,\n",
      "TrainAcc: 0.98,TestAccus: 0.96\n",
      "Duration: 0:00:00.002000\n",
      "==================================================\n",
      "Epoch: 400\n",
      "TrainLoss: 0.12,TestLoss: 0.15,\n",
      "TrainAcc: 0.98,TestAccus: 0.96\n",
      "Duration: 0:00:00.001991\n",
      "==================================================\n",
      "Epoch: 410\n",
      "TrainLoss: 0.12,TestLoss: 0.15,\n",
      "TrainAcc: 0.98,TestAccus: 0.96\n",
      "Duration: 0:00:00.001974\n",
      "==================================================\n",
      "Epoch: 420\n",
      "TrainLoss: 0.12,TestLoss: 0.15,\n",
      "TrainAcc: 0.98,TestAccus: 0.96\n",
      "Duration: 0:00:00\n",
      "==================================================\n",
      "Epoch: 430\n",
      "TrainLoss: 0.12,TestLoss: 0.15,\n",
      "TrainAcc: 0.98,TestAccus: 0.96\n",
      "Duration: 0:00:00.001502\n",
      "==================================================\n",
      "Epoch: 440\n",
      "TrainLoss: 0.12,TestLoss: 0.15,\n",
      "TrainAcc: 0.98,TestAccus: 0.96\n",
      "Duration: 0:00:00.001996\n",
      "==================================================\n",
      "Epoch: 450\n",
      "TrainLoss: 0.12,TestLoss: 0.15,\n",
      "TrainAcc: 0.98,TestAccus: 0.96\n",
      "Duration: 0:00:00.001082\n",
      "==================================================\n",
      "Epoch: 460\n",
      "TrainLoss: 0.12,TestLoss: 0.14,\n",
      "TrainAcc: 0.98,TestAccus: 0.96\n",
      "Duration: 0:00:00.001959\n",
      "==================================================\n",
      "Epoch: 470\n",
      "TrainLoss: 0.11,TestLoss: 0.14,\n",
      "TrainAcc: 0.98,TestAccus: 0.96\n",
      "Duration: 0:00:00.001504\n",
      "==================================================\n",
      "Epoch: 480\n",
      "TrainLoss: 0.11,TestLoss: 0.14,\n",
      "TrainAcc: 0.98,TestAccus: 0.96\n",
      "Duration: 0:00:00.000951\n",
      "==================================================\n",
      "Epoch: 490\n",
      "TrainLoss: 0.11,TestLoss: 0.14,\n",
      "TrainAcc: 0.98,TestAccus: 0.96\n",
      "Duration: 0:00:00.001004\n",
      "==================================================\n",
      "Epoch: 500\n",
      "TrainLoss: 0.11,TestLoss: 0.14,\n",
      "TrainAcc: 0.98,TestAccus: 0.96\n",
      "Duration: 0:00:00.001563\n",
      "==================================================\n",
      "Epoch: 510\n",
      "TrainLoss: 0.11,TestLoss: 0.14,\n",
      "TrainAcc: 0.98,TestAccus: 0.96\n",
      "Duration: 0:00:00.000510\n",
      "==================================================\n",
      "Epoch: 520\n",
      "TrainLoss: 0.11,TestLoss: 0.14,\n",
      "TrainAcc: 0.98,TestAccus: 0.96\n",
      "Duration: 0:00:00.001000\n",
      "==================================================\n",
      "Epoch: 530\n",
      "TrainLoss: 0.11,TestLoss: 0.14,\n",
      "TrainAcc: 0.98,TestAccus: 0.96\n",
      "Duration: 0:00:00.001023\n",
      "==================================================\n",
      "Epoch: 540\n",
      "TrainLoss: 0.11,TestLoss: 0.14,\n",
      "TrainAcc: 0.98,TestAccus: 0.96\n",
      "Duration: 0:00:00.000999\n",
      "==================================================\n",
      "Epoch: 550\n",
      "TrainLoss: 0.11,TestLoss: 0.14,\n",
      "TrainAcc: 0.98,TestAccus: 0.96\n",
      "Duration: 0:00:00.001001\n",
      "==================================================\n",
      "Epoch: 560\n",
      "TrainLoss: 0.10,TestLoss: 0.13,\n",
      "TrainAcc: 0.98,TestAccus: 0.96\n",
      "Duration: 0:00:00\n",
      "==================================================\n",
      "Epoch: 570\n",
      "TrainLoss: 0.10,TestLoss: 0.13,\n",
      "TrainAcc: 0.98,TestAccus: 0.96\n",
      "Duration: 0:00:00.001021\n",
      "==================================================\n",
      "Epoch: 580\n",
      "TrainLoss: 0.10,TestLoss: 0.13,\n",
      "TrainAcc: 0.98,TestAccus: 0.96\n",
      "Duration: 0:00:00.002033\n",
      "==================================================\n",
      "Epoch: 590\n",
      "TrainLoss: 0.10,TestLoss: 0.13,\n",
      "TrainAcc: 0.98,TestAccus: 0.96\n",
      "Duration: 0:00:00.001032\n",
      "==================================================\n",
      "Epoch: 600\n",
      "TrainLoss: 0.10,TestLoss: 0.13,\n",
      "TrainAcc: 0.98,TestAccus: 0.96\n",
      "Duration: 0:00:00.001699\n",
      "==================================================\n",
      "Epoch: 610\n",
      "TrainLoss: 0.10,TestLoss: 0.13,\n",
      "TrainAcc: 0.98,TestAccus: 0.96\n",
      "Duration: 0:00:00.001000\n",
      "==================================================\n",
      "Epoch: 620\n",
      "TrainLoss: 0.10,TestLoss: 0.13,\n",
      "TrainAcc: 0.98,TestAccus: 0.96\n",
      "Duration: 0:00:00.000999\n",
      "==================================================\n",
      "Epoch: 630\n",
      "TrainLoss: 0.10,TestLoss: 0.13,\n",
      "TrainAcc: 0.98,TestAccus: 0.96\n",
      "Duration: 0:00:00.000999\n",
      "==================================================\n",
      "Epoch: 640\n",
      "TrainLoss: 0.10,TestLoss: 0.13,\n",
      "TrainAcc: 0.98,TestAccus: 0.96\n",
      "Duration: 0:00:00.001002\n",
      "==================================================\n",
      "Epoch: 650\n",
      "TrainLoss: 0.10,TestLoss: 0.13,\n",
      "TrainAcc: 0.98,TestAccus: 0.96\n",
      "Duration: 0:00:00.001025\n",
      "==================================================\n",
      "Epoch: 660\n",
      "TrainLoss: 0.10,TestLoss: 0.13,\n",
      "TrainAcc: 0.98,TestAccus: 0.96\n",
      "Duration: 0:00:00.000999\n",
      "==================================================\n",
      "Epoch: 670\n",
      "TrainLoss: 0.10,TestLoss: 0.13,\n",
      "TrainAcc: 0.98,TestAccus: 0.96\n",
      "Duration: 0:00:00.001000\n",
      "==================================================\n",
      "Epoch: 680\n",
      "TrainLoss: 0.10,TestLoss: 0.13,\n",
      "TrainAcc: 0.98,TestAccus: 0.96\n",
      "Duration: 0:00:00.000993\n",
      "==================================================\n",
      "Epoch: 690\n",
      "TrainLoss: 0.09,TestLoss: 0.13,\n",
      "TrainAcc: 0.98,TestAccus: 0.96\n",
      "Duration: 0:00:00.000999\n",
      "==================================================\n",
      "Epoch: 700\n",
      "TrainLoss: 0.09,TestLoss: 0.12,\n",
      "TrainAcc: 0.98,TestAccus: 0.96\n",
      "Duration: 0:00:00.002000\n",
      "==================================================\n",
      "Epoch: 710\n",
      "TrainLoss: 0.09,TestLoss: 0.12,\n",
      "TrainAcc: 0.98,TestAccus: 0.96\n",
      "Duration: 0:00:00.001265\n",
      "==================================================\n",
      "Epoch: 720\n",
      "TrainLoss: 0.09,TestLoss: 0.12,\n",
      "TrainAcc: 0.98,TestAccus: 0.96\n",
      "Duration: 0:00:00.001000\n",
      "==================================================\n",
      "Epoch: 730\n",
      "TrainLoss: 0.09,TestLoss: 0.12,\n",
      "TrainAcc: 0.98,TestAccus: 0.96\n",
      "Duration: 0:00:00.001003\n",
      "==================================================\n",
      "Epoch: 740\n",
      "TrainLoss: 0.09,TestLoss: 0.12,\n",
      "TrainAcc: 0.98,TestAccus: 0.96\n",
      "Duration: 0:00:00.001018\n",
      "==================================================\n",
      "Epoch: 750\n",
      "TrainLoss: 0.09,TestLoss: 0.12,\n",
      "TrainAcc: 0.98,TestAccus: 0.96\n",
      "Duration: 0:00:00\n",
      "==================================================\n",
      "Epoch: 760\n",
      "TrainLoss: 0.09,TestLoss: 0.12,\n",
      "TrainAcc: 0.98,TestAccus: 0.96\n",
      "Duration: 0:00:00.000997\n",
      "==================================================\n",
      "Epoch: 770\n",
      "TrainLoss: 0.09,TestLoss: 0.12,\n",
      "TrainAcc: 0.98,TestAccus: 0.96\n",
      "Duration: 0:00:00.002002\n",
      "==================================================\n",
      "Epoch: 780\n",
      "TrainLoss: 0.09,TestLoss: 0.12,\n",
      "TrainAcc: 0.98,TestAccus: 0.96\n",
      "Duration: 0:00:00.002000\n",
      "==================================================\n",
      "Epoch: 790\n",
      "TrainLoss: 0.09,TestLoss: 0.12,\n",
      "TrainAcc: 0.98,TestAccus: 0.96\n",
      "Duration: 0:00:00.001513\n",
      "==================================================\n",
      "Epoch: 800\n",
      "TrainLoss: 0.09,TestLoss: 0.12,\n",
      "TrainAcc: 0.98,TestAccus: 0.96\n",
      "Duration: 0:00:00.001000\n",
      "==================================================\n",
      "Epoch: 810\n",
      "TrainLoss: 0.09,TestLoss: 0.12,\n",
      "TrainAcc: 0.98,TestAccus: 0.96\n",
      "Duration: 0:00:00.001999\n",
      "==================================================\n",
      "Epoch: 820\n",
      "TrainLoss: 0.09,TestLoss: 0.12,\n",
      "TrainAcc: 0.98,TestAccus: 0.96\n",
      "Duration: 0:00:00.001006\n",
      "==================================================\n",
      "Epoch: 830\n",
      "TrainLoss: 0.09,TestLoss: 0.12,\n",
      "TrainAcc: 0.98,TestAccus: 0.96\n",
      "Duration: 0:00:00.001001\n",
      "==================================================\n",
      "Epoch: 840\n",
      "TrainLoss: 0.09,TestLoss: 0.12,\n",
      "TrainAcc: 0.98,TestAccus: 0.96\n",
      "Duration: 0:00:00.002998\n",
      "==================================================\n",
      "Epoch: 850\n",
      "TrainLoss: 0.09,TestLoss: 0.12,\n",
      "TrainAcc: 0.98,TestAccus: 0.96\n",
      "Duration: 0:00:00.002028\n",
      "==================================================\n",
      "Epoch: 860\n",
      "TrainLoss: 0.09,TestLoss: 0.12,\n",
      "TrainAcc: 0.98,TestAccus: 0.96\n",
      "Duration: 0:00:00.000996\n",
      "==================================================\n",
      "Epoch: 870\n",
      "TrainLoss: 0.08,TestLoss: 0.12,\n",
      "TrainAcc: 0.98,TestAccus: 0.96\n",
      "Duration: 0:00:00.000998\n",
      "==================================================\n",
      "Epoch: 880\n",
      "TrainLoss: 0.08,TestLoss: 0.12,\n",
      "TrainAcc: 0.98,TestAccus: 0.96\n",
      "Duration: 0:00:00.001000\n",
      "==================================================\n",
      "Epoch: 890\n",
      "TrainLoss: 0.08,TestLoss: 0.12,\n",
      "TrainAcc: 0.98,TestAccus: 0.96\n",
      "Duration: 0:00:00.001507\n",
      "==================================================\n",
      "Epoch: 900\n",
      "TrainLoss: 0.08,TestLoss: 0.12,\n",
      "TrainAcc: 0.98,TestAccus: 0.96\n",
      "Duration: 0:00:00.001010\n",
      "==================================================\n",
      "Epoch: 910\n",
      "TrainLoss: 0.08,TestLoss: 0.12,\n",
      "TrainAcc: 0.98,TestAccus: 0.96\n",
      "Duration: 0:00:00.000987\n",
      "==================================================\n",
      "Epoch: 920\n",
      "TrainLoss: 0.08,TestLoss: 0.11,\n",
      "TrainAcc: 0.98,TestAccus: 0.96\n",
      "Duration: 0:00:00\n",
      "==================================================\n",
      "Epoch: 930\n",
      "TrainLoss: 0.08,TestLoss: 0.11,\n",
      "TrainAcc: 0.98,TestAccus: 0.96\n",
      "Duration: 0:00:00.003067\n",
      "==================================================\n",
      "Epoch: 940\n",
      "TrainLoss: 0.08,TestLoss: 0.11,\n",
      "TrainAcc: 0.98,TestAccus: 0.96\n",
      "Duration: 0:00:00.001002\n",
      "==================================================\n",
      "Epoch: 950\n",
      "TrainLoss: 0.08,TestLoss: 0.11,\n",
      "TrainAcc: 0.98,TestAccus: 0.96\n",
      "Duration: 0:00:00.001024\n",
      "==================================================\n",
      "Epoch: 960\n",
      "TrainLoss: 0.08,TestLoss: 0.11,\n",
      "TrainAcc: 0.98,TestAccus: 0.96\n",
      "Duration: 0:00:00.001507\n",
      "==================================================\n",
      "Epoch: 970\n",
      "TrainLoss: 0.08,TestLoss: 0.11,\n",
      "TrainAcc: 0.98,TestAccus: 0.96\n",
      "Duration: 0:00:00.001233\n",
      "==================================================\n",
      "Epoch: 980\n",
      "TrainLoss: 0.08,TestLoss: 0.11,\n",
      "TrainAcc: 0.98,TestAccus: 0.96\n",
      "Duration: 0:00:00.000981\n",
      "==================================================\n",
      "Epoch: 990\n",
      "TrainLoss: 0.08,TestLoss: 0.11,\n",
      "TrainAcc: 0.98,TestAccus: 0.96\n",
      "Duration: 0:00:00.000990\n",
      "==================================================\n",
      "Epoch: 1000\n",
      "TrainLoss: 0.08,TestLoss: 0.11,\n",
      "TrainAcc: 0.98,TestAccus: 0.96\n",
      "Duration: 0:00:00\n",
      "==================================================\n"
     ]
    }
   ],
   "execution_count": 22
  },
  {
   "cell_type": "code",
   "id": "3af9c3ea48eff536",
   "metadata": {
    "ExecuteTime": {
     "end_time": "2025-10-25T02:06:43.346308Z",
     "start_time": "2025-10-25T02:06:42.979907Z"
    }
   },
   "source": [
    "# init fig and axes objects\n",
    "sns.set(font_scale=1)\n",
    "nrows = 1\n",
    "ncols = 1\n",
    "fig_height = nrows * 5\n",
    "fig_width = ncols * 10\n",
    "f: Figure\n",
    "ax: Axes\n",
    "f, ax = plt.subplots(nrows=nrows, ncols=ncols, figsize=(fig_width, fig_height))\n",
    "# %% ##################################################################\n",
    "ax_ = sns.lineplot(\n",
    "    x=np.arange(epochs),\n",
    "    y=train_losses,\n",
    "    ax=ax,\n",
    "    color=\"blue\",\n",
    "    label=\"train-loss\")\n",
    "ax_ = sns.lineplot(\n",
    "    x=np.arange(epochs),\n",
    "    y=test_losses,\n",
    "    ax=ax,\n",
    "    color=\"red\",\n",
    "    label=\"test-loss\")\n",
    "ax_.set(title=\"Loss Curves Over Epochs\", ylabel=\"Loss\", xlabel=\"Epochs\")\n",
    "# %% ##################################################################\n",
    "ax_ = sns.lineplot(\n",
    "    x=np.arange(epochs),\n",
    "    y=train_accus,\n",
    "    ax=ax,\n",
    "    color=\"orange\",\n",
    "    label=\"train-accuracy\")\n",
    "ax_ = sns.lineplot(\n",
    "    x=np.arange(epochs),\n",
    "    y=test_accus,\n",
    "    ax=ax,\n",
    "    color=\"green\",\n",
    "    label=\"test-accuracy\")\n",
    "ax_.set(title=\"Accuracy Curves Over Epochs\", ylabel=\"Loss\", xlabel=\"Epochs\")\n",
    ";"
   ],
   "outputs": [
    {
     "data": {
      "text/plain": [
       "''"
      ]
     },
     "execution_count": 23,
     "metadata": {},
     "output_type": "execute_result"
    },
    {
     "data": {
      "text/plain": [
       "<Figure size 1000x500 with 1 Axes>"
      ],
      "image/png": "[encoded data removed]"
     },
     "metadata": {},
     "output_type": "display_data",
     "jetTransient": {
      "display_id": null
     }
    }
   ],
   "execution_count": 23
  },
  {
   "cell_type": "code",
   "execution_count": null,
   "id": "e154649780376d69",
   "metadata": {},
   "outputs": [],
   "source": []
  }
 ],
 "metadata": {
  "kernelspec": {
   "display_name": "Python 3 (ipykernel)",
   "language": "python",
   "name": "python3"
  },
  "language_info": {
   "codemirror_mode": {
    "name": "ipython",
    "version": 3
   },
   "file_extension": ".py",
   "mimetype": "text/x-python",
   "name": "python",
   "nbconvert_exporter": "python",
   "pygments_lexer": "ipython3",
   "version": "3.8.10"
  }
 },
 "nbformat": 4,
 "nbformat_minor": 5
}
