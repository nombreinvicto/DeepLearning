{
 "cells": [
  {
   "cell_type": "code",
   "execution_count": 75,
   "metadata": {
    "collapsed": true
   },
   "outputs": [],
   "source": [
    "# do the required imports\n",
    "from tensorflow.keras.datasets import mnist\n",
    "from tensorflow.keras.models import Model\n",
    "import numpy as np\n",
    "\n",
    "#load the images into memory\n",
    "(trainx, trainy), (testx, testy) = mnist.load_data()"
   ]
  },
  {
   "cell_type": "code",
   "execution_count": 76,
   "outputs": [
    {
     "name": "stdout",
     "output_type": "stream",
     "text": [
      "(60000, 28, 28)\n",
      "(60000,)\n"
     ]
    }
   ],
   "source": [
    "print(trainx.shape)\n",
    "print(trainy.shape)"
   ],
   "metadata": {
    "collapsed": false,
    "pycharm": {
     "name": "#%%\n"
    }
   }
  },
  {
   "cell_type": "code",
   "execution_count": 77,
   "outputs": [
    {
     "name": "stdout",
     "output_type": "stream",
     "text": [
      "(10000, 28, 28)\n",
      "(10000,)\n"
     ]
    }
   ],
   "source": [
    "print(testx.shape)\n",
    "print(testy.shape)"
   ],
   "metadata": {
    "collapsed": false,
    "pycharm": {
     "name": "#%%\n"
    }
   }
  },
  {
   "cell_type": "code",
   "execution_count": 78,
   "outputs": [
    {
     "data": {
      "text/plain": "<Figure size 432x288 with 25 Axes>",
      "image/png": "[encoded data removed]"
     },
     "metadata": {
      "needs_background": "light"
     },
     "output_type": "display_data"
    }
   ],
   "source": [
    "import matplotlib.pyplot as plt\n",
    "\n",
    "for i in range(25):\n",
    "    # define subplot\n",
    "    plt.subplot(5, 5, 1+i)\n",
    "\n",
    "    # turn off axis\n",
    "    plt.axis('off')\n",
    "\n",
    "    # plot raw pixel data\n",
    "    plt.imshow(trainx[i], cmap='gray_r')\n",
    "\n",
    "plt.show()"
   ],
   "metadata": {
    "collapsed": false,
    "pycharm": {
     "name": "#%%\n"
    }
   }
  },
  {
   "cell_type": "code",
   "execution_count": 79,
   "outputs": [],
   "source": [
    "from tensorflow.keras.models import Sequential, Model\n",
    "from tensorflow.keras.layers import Conv2D, LeakyReLU, \\\n",
    "    Dropout, Flatten, Dense, Reshape, Conv2DTranspose\n",
    "from tensorflow.keras.optimizers import Adam\n",
    "\n",
    "\n",
    "# define the standalone discriminator model\n",
    "def define_discriminator(in_shape=(28,28,1)):\n",
    "    model = Sequential()\n",
    "    model.add(Conv2D(filters=64,\n",
    "                     kernel_size=(3,3),\n",
    "                     strides=(2,2),\n",
    "                     padding='same',\n",
    "                     input_shape=in_shape))\n",
    "    model.add(LeakyReLU(alpha=0.2))\n",
    "    model.add(Dropout(0.4))\n",
    "\n",
    "    # second conv\n",
    "    model.add(Conv2D(filters=64,\n",
    "                     kernel_size=(3,3),\n",
    "                     strides=(2,2),\n",
    "                     padding='same'))\n",
    "    model.add(LeakyReLU(alpha=0.2))\n",
    "    model.add(Dropout(0.4))\n",
    "\n",
    "    model.add(Flatten())\n",
    "    model.add(Dense(units=1, activation='sigmoid'))\n",
    "\n",
    "    # compile model\n",
    "    opt = Adam(lr=0.0002, beta_1=0.5)\n",
    "    model.compile(loss='binary_crossentropy', optimizer=opt,\n",
    "                  metrics=['accuracy'])\n",
    "    return model"
   ],
   "metadata": {
    "collapsed": false,
    "pycharm": {
     "name": "#%%\n"
    }
   }
  },
  {
   "cell_type": "code",
   "execution_count": 80,
   "outputs": [
    {
     "name": "stdout",
     "output_type": "stream",
     "text": [
      "Model: \"sequential_22\"\n",
      "_________________________________________________________________\n",
      "Layer (type)                 Output Shape              Param #   \n",
      "=================================================================\n",
      "conv2d_30 (Conv2D)           (None, 14, 14, 64)        640       \n",
      "_________________________________________________________________\n",
      "leaky_re_lu_46 (LeakyReLU)   (None, 14, 14, 64)        0         \n",
      "_________________________________________________________________\n",
      "dropout_22 (Dropout)         (None, 14, 14, 64)        0         \n",
      "_________________________________________________________________\n",
      "conv2d_31 (Conv2D)           (None, 7, 7, 64)          36928     \n",
      "_________________________________________________________________\n",
      "leaky_re_lu_47 (LeakyReLU)   (None, 7, 7, 64)          0         \n",
      "_________________________________________________________________\n",
      "dropout_23 (Dropout)         (None, 7, 7, 64)          0         \n",
      "_________________________________________________________________\n",
      "flatten_11 (Flatten)         (None, 3136)              0         \n",
      "_________________________________________________________________\n",
      "dense_19 (Dense)             (None, 1)                 3137      \n",
      "=================================================================\n",
      "Total params: 40,705\n",
      "Trainable params: 40,705\n",
      "Non-trainable params: 0\n",
      "_________________________________________________________________\n"
     ]
    }
   ],
   "source": [
    "discriminator = define_discriminator()\n",
    "discriminator.summary()"
   ],
   "metadata": {
    "collapsed": false,
    "pycharm": {
     "name": "#%%\n"
    }
   }
  },
  {
   "cell_type": "code",
   "execution_count": 81,
   "outputs": [],
   "source": [
    "# load and prepare mnist train images\n",
    "def load_real_samples():\n",
    "    # load the mnist data\n",
    "    (trainx, _), (_,_) = mnist.load_data()\n",
    "\n",
    "    # expand to 3d\n",
    "    X = np.expand_dims(trainx, axis=-1)\n",
    "    X = X.astype('float32') / 255.0\n",
    "\n",
    "    return X"
   ],
   "metadata": {
    "collapsed": false,
    "pycharm": {
     "name": "#%%\n"
    }
   }
  },
  {
   "cell_type": "code",
   "execution_count": 82,
   "outputs": [],
   "source": [
    "# select real samples\n",
    "def generate_real_samples(dataset, n_samples):\n",
    "    # choose random instances ids\n",
    "    ix = np.random.randint(0, dataset.shape[0], n_samples)\n",
    "\n",
    "    # retrieve selected images\n",
    "    X = dataset[ix]\n",
    "\n",
    "    # generate real class labesl\n",
    "    y = np.ones((n_samples, 1))\n",
    "\n",
    "    return X, y"
   ],
   "metadata": {
    "collapsed": false,
    "pycharm": {
     "name": "#%%\n"
    }
   }
  },
  {
   "cell_type": "code",
   "execution_count": 83,
   "outputs": [],
   "source": [
    "# # generate fake samples (n_samples):\n",
    "# def generate_fake_samples(n_samples):\n",
    "#     X = np.random.rand(28*28*n_samples)\n",
    "#     X = X.reshape((n_samples, 28, 28, 1))\n",
    "#     y = np.zeros((n_samples, 1))\n",
    "#\n",
    "#     return X, y"
   ],
   "metadata": {
    "collapsed": false,
    "pycharm": {
     "name": "#%%\n"
    }
   }
  },
  {
   "cell_type": "code",
   "execution_count": 84,
   "outputs": [],
   "source": [
    "# train the discriminator model\n",
    "def train_discriminator(model: Model, dataset, n_iter=100, n_batch=256):\n",
    "    half_batch = int(n_batch / 2)\n",
    "\n",
    "    # manually enumerate\n",
    "    for i in range(n_iter):\n",
    "        # get randomly selected real samples\n",
    "        xreal, yreal = generate_real_samples(dataset, half_batch)\n",
    "\n",
    "        # update discriminator on real samples\n",
    "        real_loss, real_acc = model.train_on_batch(xreal, yreal)\n",
    "\n",
    "        # generate fake samples\n",
    "        xfake, yfake = generate_fake_samples(half_batch)\n",
    "\n",
    "        #update discriminator on fake samples\n",
    "        fake_loss, fake_acc = model.train_on_batch(xfake, yfake)\n",
    "\n",
    "        # summarise the performence\n",
    "        print(f\"{i+1} real={real_acc*100}% fake={fake_acc*100}\")"
   ],
   "metadata": {
    "collapsed": false,
    "pycharm": {
     "name": "#%%\n"
    }
   }
  },
  {
   "cell_type": "code",
   "execution_count": 85,
   "outputs": [
    {
     "ename": "TypeError",
     "evalue": "generate_fake_samples() missing 2 required positional arguments: 'latent_dim' and 'n_samples'",
     "output_type": "error",
     "traceback": [
      "\u001B[1;31m---------------------------------------------------------------------------\u001B[0m",
      "\u001B[1;31mTypeError\u001B[0m                                 Traceback (most recent call last)",
      "\u001B[1;32m<ipython-input-85-90af548c4bf7>\u001B[0m in \u001B[0;36m<module>\u001B[1;34m\u001B[0m\n\u001B[0;32m      6\u001B[0m \u001B[1;33m\u001B[0m\u001B[0m\n\u001B[0;32m      7\u001B[0m \u001B[1;31m# fit the model\u001B[0m\u001B[1;33m\u001B[0m\u001B[1;33m\u001B[0m\u001B[0m\n\u001B[1;32m----> 8\u001B[1;33m \u001B[0mtrain_discriminator\u001B[0m\u001B[1;33m(\u001B[0m\u001B[0mmodel\u001B[0m\u001B[1;33m,\u001B[0m \u001B[0mdataset\u001B[0m\u001B[1;33m=\u001B[0m\u001B[0mdataset\u001B[0m\u001B[1;33m)\u001B[0m\u001B[1;33m\u001B[0m\u001B[0m\n\u001B[0m\u001B[0;32m      9\u001B[0m \u001B[1;33m\u001B[0m\u001B[0m\n",
      "\u001B[1;32m<ipython-input-84-afd6042d7915>\u001B[0m in \u001B[0;36mtrain_discriminator\u001B[1;34m(model, dataset, n_iter, n_batch)\u001B[0m\n\u001B[0;32m     12\u001B[0m \u001B[1;33m\u001B[0m\u001B[0m\n\u001B[0;32m     13\u001B[0m         \u001B[1;31m# generate fake samples\u001B[0m\u001B[1;33m\u001B[0m\u001B[1;33m\u001B[0m\u001B[0m\n\u001B[1;32m---> 14\u001B[1;33m         \u001B[0mxfake\u001B[0m\u001B[1;33m,\u001B[0m \u001B[0myfake\u001B[0m \u001B[1;33m=\u001B[0m \u001B[0mgenerate_fake_samples\u001B[0m\u001B[1;33m(\u001B[0m\u001B[0mhalf_batch\u001B[0m\u001B[1;33m)\u001B[0m\u001B[1;33m\u001B[0m\u001B[0m\n\u001B[0m\u001B[0;32m     15\u001B[0m \u001B[1;33m\u001B[0m\u001B[0m\n\u001B[0;32m     16\u001B[0m         \u001B[1;31m#update discriminator on fake samples\u001B[0m\u001B[1;33m\u001B[0m\u001B[1;33m\u001B[0m\u001B[0m\n",
      "\u001B[1;31mTypeError\u001B[0m: generate_fake_samples() missing 2 required positional arguments: 'latent_dim' and 'n_samples'"
     ]
    }
   ],
   "source": [
    "# now do training\n",
    "model = define_discriminator()\n",
    "\n",
    "# load the image data\n",
    "dataset = load_real_samples()\n",
    "\n",
    "# fit the model\n",
    "train_discriminator(model, dataset=dataset)"
   ],
   "metadata": {
    "collapsed": false,
    "pycharm": {
     "name": "#%%\n"
    }
   }
  },
  {
   "cell_type": "code",
   "execution_count": null,
   "outputs": [],
   "source": [
    "#define the standalone generator model\n",
    "def define_generator(latent_dim):\n",
    "    model = Sequential()\n",
    "\n",
    "    # foundation for 7x7 image\n",
    "    n_nodes = 128*7*7\n",
    "    model.add(Dense(n_nodes, input_dim=latent_dim))\n",
    "    model.add(LeakyReLU(alpha=0.2))\n",
    "    model.add(Reshape((7, 7, 128)))\n",
    "\n",
    "    #upsample to 14x14\n",
    "    model.add(Conv2DTranspose(filters=128, kernel_size=(4,4),\n",
    "                              strides=(2,2), padding='same'))\n",
    "    model.add(LeakyReLU(alpha=0.2))\n",
    "\n",
    "    # upsample to 28x28\n",
    "    model.add(Conv2DTranspose(128, (4,4), strides=(2,2), padding='same'))\n",
    "    model.add(LeakyReLU(alpha=0.2))\n",
    "    model.add(Conv2D(1, (7,7), activation='sigmoid', padding='same'))\n",
    "\n",
    "    return model"
   ],
   "metadata": {
    "collapsed": false,
    "pycharm": {
     "name": "#%%\n"
    }
   }
  },
  {
   "cell_type": "code",
   "execution_count": null,
   "outputs": [],
   "source": [
    "generator_sample = define_generator(100)\n",
    "generator_sample.summary()"
   ],
   "metadata": {
    "collapsed": false,
    "pycharm": {
     "name": "#%%\n"
    }
   }
  },
  {
   "cell_type": "code",
   "execution_count": null,
   "outputs": [],
   "source": [
    "# generate points in the latent space as input for the generator\n",
    "def generate_latent_points(latent_dim, n_samples):\n",
    "    # generate points in the latent space\n",
    "    x_input = np.random.randn(latent_dim * n_samples)\n",
    "\n",
    "    # reshape into batch of inputs for the net\n",
    "    x_input = x_input.reshape(n_samples, latent_dim)\n",
    "\n",
    "    return x_input"
   ],
   "metadata": {
    "collapsed": false,
    "pycharm": {
     "name": "#%%\n"
    }
   }
  },
  {
   "cell_type": "code",
   "execution_count": null,
   "outputs": [],
   "source": [
    "# updated generate fake samples\n",
    "def generate_fake_samples(g_model:Model, latent_dim, n_samples):\n",
    "\n",
    "    # generate points in the latent space\n",
    "    x_input = generate_latent_points(latent_dim, n_samples)\n",
    "\n",
    "    #predic outputs\n",
    "    X = g_model.predict(x_input)\n",
    "    Y = np.zeros((n_samples, 1))\n",
    "\n",
    "    return X, Y"
   ],
   "metadata": {
    "collapsed": false,
    "pycharm": {
     "name": "#%%\n"
    }
   }
  },
  {
   "cell_type": "code",
   "execution_count": 86,
   "outputs": [],
   "source": [
    "latent_dim = 100\n",
    "g_model = define_generator(latent_dim)\n",
    "n_samples = 25\n",
    "\n",
    "X, Y = generate_fake_samples(g_model, latent_dim, n_samples)"
   ],
   "metadata": {
    "collapsed": false,
    "pycharm": {
     "name": "#%%\n"
    }
   }
  },
  {
   "cell_type": "code",
   "execution_count": 87,
   "outputs": [
    {
     "data": {
      "text/plain": "<Figure size 432x288 with 25 Axes>",
      "image/png": "[encoded data removed]"
     },
     "metadata": {
      "needs_background": "light"
     },
     "output_type": "display_data"
    }
   ],
   "source": [
    "for i, sample in enumerate(X):\n",
    "    plt.subplot(5,5,1+i)\n",
    "    plt.axis('off')\n",
    "    plt.imshow(sample.reshape(28,28), cmap='gray_r')\n",
    "plt.show()"
   ],
   "metadata": {
    "collapsed": false,
    "pycharm": {
     "name": "#%%\n"
    }
   }
  },
  {
   "cell_type": "code",
   "execution_count": 88,
   "outputs": [],
   "source": [
    "def define_gan(g_model:Model, d_model:Model):\n",
    "    d_model.trainable = False\n",
    "\n",
    "    # connect the model\n",
    "    gan_model = Sequential()\n",
    "    gan_model.add(g_model)\n",
    "    gan_model.add(d_model)\n",
    "\n",
    "    opt  = Adam(lr=0.0002, beta_1=0.5)\n",
    "    gan_model.compile(loss='binary_crossentropy', optimizer=opt)\n",
    "    return gan_model"
   ],
   "metadata": {
    "collapsed": false,
    "pycharm": {
     "name": "#%%\n"
    }
   }
  },
  {
   "cell_type": "code",
   "execution_count": 89,
   "outputs": [
    {
     "name": "stdout",
     "output_type": "stream",
     "text": [
      "Model: \"sequential_27\"\n",
      "_________________________________________________________________\n",
      "Layer (type)                 Output Shape              Param #   \n",
      "=================================================================\n",
      "sequential_26 (Sequential)   (None, 28, 28, 1)         1164289   \n",
      "_________________________________________________________________\n",
      "sequential_25 (Sequential)   (None, 1)                 40705     \n",
      "=================================================================\n",
      "Total params: 1,204,994\n",
      "Trainable params: 1,164,289\n",
      "Non-trainable params: 40,705\n",
      "_________________________________________________________________\n"
     ]
    }
   ],
   "source": [
    "latent_dim = 100\n",
    "d_model = define_discriminator()\n",
    "g_model = define_generator(latent_dim)\n",
    "gan_model = define_gan(g_model, d_model)\n",
    "\n",
    "gan_model.summary()"
   ],
   "metadata": {
    "collapsed": false,
    "pycharm": {
     "name": "#%%\n"
    }
   }
  },
  {
   "cell_type": "code",
   "execution_count": 90,
   "outputs": [],
   "source": [
    "def save_plot(examples, epoch, n=10):\n",
    "    # plot images\n",
    "    for i in range(n*n):\n",
    "        # define subplot\n",
    "        plt.subplot(n, n, 1+i)\n",
    "        plt.axis('off')\n",
    "        plt.imshow(examples[i, :, :, 0], cmap='gray_r')\n",
    "\n",
    "    # save plot to file\n",
    "    filename = f\"generated_plot_epoch{epoch+1}.png\"\n",
    "    plt.savefig(filename)\n",
    "    plt.close()"
   ],
   "metadata": {
    "collapsed": false,
    "pycharm": {
     "name": "#%%\n"
    }
   }
  },
  {
   "cell_type": "code",
   "execution_count": 91,
   "outputs": [],
   "source": [
    "def summarise_performance(epoch,\n",
    "                          g_model:Model,\n",
    "                          d_model:Model,\n",
    "                          dataset:np.ndarray,\n",
    "                          latent_dim,\n",
    "                          n_samples=100):\n",
    "    # get real samples\n",
    "    xreal, yreal = generate_real_samples(dataset, n_samples)\n",
    "\n",
    "    # evaluate discriminator on real samples\n",
    "    loss_real, acc_real = d_model.evaluate(xreal, yreal)\n",
    "\n",
    "    # prepare fake samples\n",
    "    xfake, yfake = generate_fake_samples(g_model, latent_dim, n_samples)\n",
    "\n",
    "    # eval discrimiantor on fake samples\n",
    "    loss_fake, acc_fake = d_model.evaluate(xfake, yfake, verbose=0)\n",
    "\n",
    "    # summarise discrimiantor performance\n",
    "    print(f\"Epoch={epoch+1} Discriminator Accuracy  \"\n",
    "          f\"Real={acc_real*100} and \"\n",
    "          f\"Fake={acc_fake*100}\")\n",
    "\n",
    "    # save the plot\n",
    "    save_plot(xfake, epoch)\n",
    "\n",
    "    # save the generaor model to file\n",
    "    g_model.save(f\"generator_model_epoch{epoch+1}.hdf5\")"
   ],
   "metadata": {
    "collapsed": false,
    "pycharm": {
     "name": "#%%\n"
    }
   }
  },
  {
   "cell_type": "code",
   "execution_count": 92,
   "outputs": [],
   "source": [
    "# train the generator and the discriminator\n",
    "def train(g_model:Model,\n",
    "          d_model:Model,\n",
    "          gan_model:Model,\n",
    "          dataset:np.ndarray,\n",
    "          latent_dim: int,\n",
    "          n_epochs=100,\n",
    "          n_batch=256):\n",
    "\n",
    "    # evaluate batch per epoch\n",
    "    bat_per_epo = int(dataset.shape[0] / n_batch)\n",
    "\n",
    "    # calculate half-batch\n",
    "    half_batch = int(n_batch / 2)\n",
    "\n",
    "    # manually enumerate epochs\n",
    "    for i in range(n_epochs):\n",
    "\n",
    "        # enumerate bacthes over the trainign set\n",
    "        for j in range(bat_per_epo):\n",
    "            # get randomly selected real samples\n",
    "            xreal, yreal = generate_real_samples(dataset, half_batch)\n",
    "\n",
    "            # get fake examples\n",
    "            xfake, yfake = generate_fake_samples(g_model, latent_dim, half_batch)\n",
    "\n",
    "            # create the train set for the discriminator\n",
    "            x, y = np.vstack((xreal, xfake), (yreal, yfake))\n",
    "\n",
    "            # update discriminator model weights\n",
    "            d_loss, d_acc = d_model.train_on_batch(x, y)\n",
    "\n",
    "            # prepare points in the latent space as inputs for the generator\n",
    "            xgan = generate_latent_points(latent_dim, n_batch)\n",
    "\n",
    "            # create inverted labels for the fake samples\n",
    "            ygan = np.ones((n_batch, 1))\n",
    "\n",
    "            # update the generator via the discriminators error\n",
    "            g_loss = gan_model.train_on_batch(xgan, ygan)\n",
    "\n",
    "            # summarise the loss in this batch\n",
    "            print(f\"Train Epoch: {i+1}, {j+1}/{bat_per_epo} d={d_loss}, \"\n",
    "                  f\"g={g_loss}\")\n",
    "\n",
    "        if i % 10 == 0:\n",
    "            summarise_performance(i, g_model, d_model, dataset, latent_dim)"
   ],
   "metadata": {
    "collapsed": false,
    "pycharm": {
     "name": "#%%\n"
    }
   }
  },
  {
   "cell_type": "code",
   "execution_count": null,
   "outputs": [],
   "source": [
    "latent_dim = 100\n",
    "d_model = define_discriminator()\n",
    "g_model = define_generator(latent_dim)\n",
    "gan_model = define_gan(g_model,d_model)\n",
    "dataset = load_real_samples()\n",
    "train(g_model, d_model, gan_model, dataset, latent_dim)"
   ],
   "metadata": {
    "collapsed": false,
    "pycharm": {
     "name": "#%%\n"
    }
   }
  },
  {
   "cell_type": "code",
   "execution_count": null,
   "outputs": [],
   "source": [],
   "metadata": {
    "collapsed": false,
    "pycharm": {
     "name": "#%%\n"
    }
   }
  }
 ],
 "metadata": {
  "kernelspec": {
   "display_name": "Python 3",
   "language": "python",
   "name": "python3"
  },
  "language_info": {
   "codemirror_mode": {
    "name": "ipython",
    "version": 2
   },
   "file_extension": ".py",
   "mimetype": "text/x-python",
   "name": "python",
   "nbconvert_exporter": "python",
   "pygments_lexer": "ipython2",
   "version": "2.7.6"
  }
 },
 "nbformat": 4,
 "nbformat_minor": 0
}