{
 "cells": [
  {
   "cell_type": "code",
   "execution_count": 1,
   "metadata": {
    "collapsed": true,
    "pycharm": {
     "is_executing": false,
     "name": "#%%\n"
    }
   },
   "outputs": [],
   "source": [
    "import numpy as np\n",
    "\n",
    "class NeuralNetwork:\n",
    "    def __init__(self, layers, alpha=0.1):\n",
    "        self.W = []\n",
    "        self.layers = layers\n",
    "        self.alpha = alpha\n",
    "        \n",
    "        # start looping from the index of the first layer but stop \n",
    "        # before we reach the last 2 layers\n",
    "        for i in range(0, len(layers) -2):\n",
    "            \n",
    "            # randomply init weight matrix connecting the no of \n",
    "            # node in each respective layer together adding extra \n",
    "            # node for bias\n",
    "            w = np.random.randn(layers[i] + 1, layers[i+1] + 1)\n",
    "            self.W.append(w/np.sqrt(layers[i]))\n",
    "            \n",
    "            # last 2 layers are special case where input \n",
    "            # connections need bias term but the output doesnt\n",
    "            \n",
    "            w = np.random.randn(layers[-2]+1, layers[-1])\n",
    "            self.W.append(w/np.sqrt(layers[-2]))\n",
    "            \n",
    "    def __repr__(self):\n",
    "        # return a string that represents network architecture\n",
    "        return f\"NeuralNetwork {'-'.join(str(l) for l in self.layers)}\"\n",
    "    \n",
    "    def sigmoid(self, x):\n",
    "        # return sigmoid activation for given input\n",
    "        return 1.0/(1+np.exp(-x))\n",
    "    \n",
    "    def sigmoid_derivative(self, x):\n",
    "        return x * (1-x)\n",
    "    \n",
    "    def fit(self, X: np, y: np, epochs=1000, displayUpdate=1000):\n",
    "        # insert a column of 1 as a last entry in the feature matrix\n",
    "        X = np.c_[X, np.ones((X.shape[0]))]\n",
    "\n",
    "        # loop over the epochs\n",
    "        for epoch in range(epochs + 1):\n",
    "            # loop over individual data point and train the network\n",
    "            for x, target in zip(X, y):\n",
    "                self.fit_partial(x, target)\n",
    "                \n",
    "            # check to see if there shud be display\n",
    "            if epoch % displayUpdate == 0:\n",
    "                pass\n",
    "\n",
    "\n",
    "     def fit_partial(self, x, y):\n",
    "         pass\n"
   ]
  }
 ],
 "metadata": {
  "language_info": {
   "codemirror_mode": {
    "name": "ipython",
    "version": 2
   },
   "file_extension": ".py",
   "mimetype": "text/x-python",
   "name": "python",
   "nbconvert_exporter": "python",
   "pygments_lexer": "ipython2",
   "version": "2.7.6"
  },
  "kernelspec": {
   "name": "python3",
   "language": "python",
   "display_name": "Python 3"
  },
  "pycharm": {
   "stem_cell": {
    "cell_type": "raw",
    "source": [],
    "metadata": {
     "collapsed": false
    }
   }
  }
 },
 "nbformat": 4,
 "nbformat_minor": 0
}