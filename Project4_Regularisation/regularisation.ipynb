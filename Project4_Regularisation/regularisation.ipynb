{
 "cells": [
  {
   "cell_type": "markdown",
   "source": [
    "First, we will import all the necessary packages. We will use the \n",
    "Support Vector Machine (SVM) classifier with a Stochastic Gradient \n",
    "Descent optimizer, with hyperparatmeters pertaining to its learning\n",
    "rate, regularization protocol and loss function type."
   ],
   "metadata": {
    "collapsed": false
   }
  },
  {
   "cell_type": "code",
   "execution_count": 7,
   "outputs": [],
   "source": [
    "# do the required imports\n",
    "from sklearn.linear_model import SGDClassifier\n",
    "from sklearn.preprocessing import LabelEncoder\n",
    "from sklearn.model_selection import train_test_split\n",
    "from loader_util.preprocessing import SimplePreProcessor\n",
    "from loader_util.datasets import SimpleDatasetLoader\n",
    "from imutils import paths"
   ],
   "metadata": {
    "collapsed": false,
    "pycharm": {
     "name": "#%%\n",
     "is_executing": false
    }
   }
  },
  {
   "cell_type": "markdown",
   "source": [
    "This is where we load the dataset of images (in this case the same \n",
    "animals dataset used in [Project 1](https://github.com/nombreinvicto/DeepLearningCV/tree/master/Project1_knn))\n",
    ". Consequently the dataset will undergo the same sequence of \n",
    "preprocessing and resizing in the folowing code cells."
   ],
   "metadata": {
    "collapsed": false
   }
  },
  {
   "cell_type": "code",
   "execution_count": 2,
   "outputs": [
    {
     "name": "stdout",
     "text": [
      "[INFO] loading images ......\n"
     ],
     "output_type": "stream"
    }
   ],
   "source": [
    "# grab the list of image paths\n",
    "print(f\"[INFO] loading images ......\")\n",
    "path = r\"C:\\Users\\mhasa\\datasets\\animals\"\n",
    "imagePaths = list(paths.list_images(path))"
   ],
   "metadata": {
    "collapsed": false,
    "pycharm": {
     "name": "#%%\n",
     "is_executing": false
    }
   }
  },
  {
   "cell_type": "code",
   "execution_count": 3,
   "outputs": [
    {
     "name": "stdout",
     "text": [
      "[INFO] processed 500/3000\n",
      "[INFO] processed 1000/3000\n",
      "[INFO] processed 1500/3000\n",
      "[INFO] processed 2000/3000\n",
      "[INFO] processed 2500/3000\n",
      "[INFO] processed 3000/3000\n"
     ],
     "output_type": "stream"
    }
   ],
   "source": [
    "# init the image preprocessor and reshape data matrix\n",
    "sp = SimplePreProcessor(32, 32)\n",
    "sdl = SimpleDatasetLoader([sp])\n",
    "data, labels = sdl.load(imagePaths, verbose=500)\n",
    "data = data.reshape((data.shape[0], 3072))"
   ],
   "metadata": {
    "collapsed": false,
    "pycharm": {
     "name": "#%%\n",
     "is_executing": false
    }
   }
  },
  {
   "cell_type": "code",
   "execution_count": 4,
   "outputs": [],
   "source": [
    "# encode the labels as integers\n",
    "le = LabelEncoder()\n",
    "labels = le.fit_transform(labels)"
   ],
   "metadata": {
    "collapsed": false,
    "pycharm": {
     "name": "#%%\n",
     "is_executing": false
    }
   }
  },
  {
   "cell_type": "markdown",
   "source": [
    "We will split the data set into training and testing sets, with 25%\n",
    " in the training set."
   ],
   "metadata": {
    "collapsed": false
   }
  },
  {
   "cell_type": "code",
   "execution_count": 5,
   "outputs": [],
   "source": [
    "# partition the data into train test split\n",
    "trainx, testx, trainy, testy = train_test_split(data, labels,\n",
    "                                                test_size=0.25,\n",
    "                                                random_state=5)"
   ],
   "metadata": {
    "collapsed": false,
    "pycharm": {
     "name": "#%%\n",
     "is_executing": false
    }
   }
  },
  {
   "cell_type": "markdown",
   "source": [
    "In the following code cell, we train the SGD model over two \n",
    "different types of regularization protocols, namely the L1 and L2 \n",
    "regularization protocols. In both cases we will use a learning rate\n",
    " of $\\alpha = 0.01$ and a default regularisation constant $\\lambda \n",
    " = 0.0001$. The models would be trained for 1000 epochs. "
   ],
   "metadata": {
    "collapsed": false
   }
  },
  {
   "cell_type": "code",
   "execution_count": 6,
   "outputs": [
    {
     "name": "stdout",
     "text": [
      "[INFO] training model with None penalty\n",
      "[INFO] None penalty accuracy: 51.33333333333333 \n[INFO] training model with L1 penalty\n",
      "[INFO] L1 penalty accuracy: 52.53333333333333 \n[INFO] training model with L2 penalty\n",
      "[INFO] L2 penalty accuracy: 54.266666666666666 \n"
     ],
     "output_type": "stream"
    }
   ],
   "source": [
    "# lets apply a few different types of regularisation on our classifier\n",
    "for r in (None, 'L1', 'L2'):\n",
    "    # train an SVM with SGD classifier with ssoftmax loss and\n",
    "    # specified regularisation func for 10 epochs\n",
    "    print(f\"[INFO] training model with {r} penalty\")\n",
    "    model = SGDClassifier(loss='log', penalty=r, max_iter=1000,\n",
    "                          learning_rate='constant', eta0=0.01,\n",
    "                          random_state=42)\n",
    "    model.fit(trainx, trainy)\n",
    "\n",
    "    # evaluate model classifier\n",
    "    acc = model.score(testx, testy)\n",
    "    print(f'[INFO] {r} penalty accuracy: {acc * 100} ')"
   ],
   "metadata": {
    "collapsed": false,
    "pycharm": {
     "name": "#%%\n",
     "is_executing": false
    }
   }
  },
  {
   "cell_type": "markdown",
   "source": [
    "It is evident from the code cell output above that the effect of \n",
    "regularisation is to improve the testing accuracy of the model \n",
    "since it penalises over-training on the training data and enables \n",
    "the model to generalise better on the testing data. L2 \n",
    "regularisation shows better accuracy than L1 possibly due to the \n",
    "square term which yields higher penalties."
   ],
   "metadata": {
    "collapsed": false
   }
  }
 ],
 "metadata": {
  "language_info": {
   "codemirror_mode": {
    "name": "ipython",
    "version": 2
   },
   "file_extension": ".py",
   "mimetype": "text/x-python",
   "name": "python",
   "nbconvert_exporter": "python",
   "pygments_lexer": "ipython2",
   "version": "2.7.6"
  },
  "kernelspec": {
   "name": "python3",
   "language": "python",
   "display_name": "Python 3"
  },
  "pycharm": {
   "stem_cell": {
    "cell_type": "raw",
    "source": [],
    "metadata": {
     "collapsed": false
    }
   }
  }
 },
 "nbformat": 4,
 "nbformat_minor": 0
}