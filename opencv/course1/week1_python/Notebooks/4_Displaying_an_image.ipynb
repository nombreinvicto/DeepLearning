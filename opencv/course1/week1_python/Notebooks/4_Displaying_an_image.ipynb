{
 "cells": [
  {
   "cell_type": "markdown",
   "metadata": {},
   "source": [
    "# <font style=\"color:rgb(50,120,229)\">Displaying an Image</font>\n",
    "In the previous section, we printed out the Image matrix and were able to make out what the image was. However, this is not the correct way to visualize images as it wont be possible to print large arrays and make out anything.\n",
    "\n",
    "Let's see how we should display the images so that it looks more familiar!\n",
    "\n",
    "We can use two functions for displaying an image."
   ]
  },
  {
   "cell_type": "markdown",
   "metadata": {},
   "source": [
    "### <font style=\"color:rgb(200,0,0)\">NOTE </font>\n",
    "\n",
    "One important thing to note while displaying images is the datatype of the image. The display functions expect the images to be in the following format.\n",
    "1. If the image is in float data type, then the range of values should be between 0 and 1.\n",
    "1. If the image is in int data type, then the range of values should be between 0 and 255.\n",
    "\n",
    "Keep this in mind to avoid undesirable outputs while displaying the images.\n"
   ]
  },
  {
   "cell_type": "markdown",
   "metadata": {},
   "source": [
    "## <font style=\"color:rgb(50,120,229)\">1. Matplotlib's imshow</font>\n",
    "This function will be used when we want to display the image in Jupyter Notebook.\n",
    "\n",
    "### <font style=\"color:rgb(8,133,37)\">Function Syntax</font>\n",
    "\n",
    "```Python:\n",
    "None\t=\tplt.imshow( mat )\n",
    "```\n",
    "**Parameters**\n",
    "- **`mat`** - Image to be displayed.\n",
    "\n",
    "\n",
    "This function takes a many arguments but has only 1 mandatory argument. You can have a look at the [documentation](https://matplotlib.org/3.1.0/api/_as_gen/matplotlib.pyplot.imshow.html) to see what are the other arguments available."
   ]
  },
  {
   "cell_type": "code",
   "execution_count": 4,
   "metadata": {
    "ExecuteTime": {
     "end_time": "2023-04-18T18:17:24.874914Z",
     "start_time": "2023-04-18T18:17:24.849980Z"
    },
    "collapsed": true
   },
   "outputs": [],
   "source": [
    "# Import libraries\n",
    "import cv2\n",
    "import numpy as np\n",
    "from dataPath import DATA_PATH\n",
    "import matplotlib.pyplot as plt\n",
    "%matplotlib inline"
   ]
  },
  {
   "cell_type": "code",
   "execution_count": 5,
   "metadata": {
    "ExecuteTime": {
     "end_time": "2023-04-18T18:17:25.113277Z",
     "start_time": "2023-04-18T18:17:25.095323Z"
    },
    "collapsed": true
   },
   "outputs": [],
   "source": [
    "import matplotlib\n",
    "matplotlib.rcParams['figure.figsize'] = (6.0, 6.0)\n",
    "matplotlib.rcParams['image.cmap'] = 'gray'"
   ]
  },
  {
   "cell_type": "code",
   "execution_count": 6,
   "metadata": {
    "ExecuteTime": {
     "end_time": "2023-04-18T18:17:26.255456Z",
     "start_time": "2023-04-18T18:17:25.631906Z"
    }
   },
   "outputs": [
    {
     "data": {
      "text/plain": [
       "<matplotlib.colorbar.Colorbar at 0x1b7d1e19a90>"
      ]
     },
     "execution_count": 6,
     "metadata": {},
     "output_type": "execute_result"
    },
    {
     "data": {
      "image/png": "[encoded data removed]",
      "text/plain": [
       "<Figure size 600x600 with 2 Axes>"
      ]
     },
     "metadata": {},
     "output_type": "display_data"
    }
   ],
   "source": [
    "imagePath = DATA_PATH + \"/images/number_zero.jpg\"\n",
    "\n",
    "# Read image in Grayscale format\n",
    "testImage = cv2.imread(imagePath,0)\n",
    "plt.imshow(testImage)\n",
    "plt.colorbar()"
   ]
  },
  {
   "cell_type": "markdown",
   "metadata": {},
   "source": [
    "## <font style=\"color:rgb(50,120,229)\">2. OpenCV's imshow</font>\n",
    "This function will be used when we are running the Python script from command line.\n",
    "\n",
    "### <font style=\"color:rgb(8,133,37)\">Function Syntax</font>\n",
    "\n",
    "```Python:\n",
    "None\t=\tcv2.imshow(\twinname, mat\t)\n",
    "```\n",
    "**Parameters**\n",
    "- **`winname`** - Name of the window.\n",
    "- **`mat`** - Image to be displayed."
   ]
  },
  {
   "cell_type": "code",
   "execution_count": null,
   "metadata": {
    "collapsed": true
   },
   "outputs": [],
   "source": [
    "# Read an image\n",
    "boy = cv2.imread(DATA_PATH + \"/images/boy.jpg\")\n",
    "# Display the image using imshow\n",
    "cv2.imshow(\"Boy\", boy)\n",
    "# Wait for user to press a key\n",
    "cv2.waitKey(0)\n",
    "# Destroy the window\n",
    "cv2.destroyAllWindows()"
   ]
  },
  {
   "cell_type": "markdown",
   "metadata": {},
   "source": [
    "The expected output of the above cell is shown below.\n",
    "![](http://learnopencv.com/wp-content/uploads/2020/08/boy.jpg)\n",
    "### <font style=\"color:rgb(255,0,0)\">Note that this will work only if you run the notebook from your local system and if you have OpenCV installed locally.</font>\n"
   ]
  }
 ],
 "metadata": {
  "kernelspec": {
   "display_name": "Python 3 (ipykernel)",
   "language": "python",
   "name": "python3"
  },
  "language_info": {
   "codemirror_mode": {
    "name": "ipython",
    "version": 3
   },
   "file_extension": ".py",
   "mimetype": "text/x-python",
   "name": "python",
   "nbconvert_exporter": "python",
   "pygments_lexer": "ipython3",
   "version": "3.7.0"
  }
 },
 "nbformat": 4,
 "nbformat_minor": 2
}
