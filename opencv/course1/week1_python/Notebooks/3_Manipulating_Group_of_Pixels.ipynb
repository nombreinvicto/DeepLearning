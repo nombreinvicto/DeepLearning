{
 "cells": [
  {
   "cell_type": "markdown",
   "metadata": {},
   "source": [
    "# <font style=\"color:rgb(50,120,229)\">Manipulating Group of Pixels</font>\n",
    "So, now we know how to manipulate individual pixels. But what about a region or group of pixels? It can be done using range based indexing available in python. \n",
    "\n",
    "Let is try to access the values of a region and name it `test_roi`. ( *ROI is an abbreviation for Region of Interest* )"
   ]
  },
  {
   "cell_type": "markdown",
   "metadata": {},
   "source": [
    "## <font style=\"color:rgb(50,120,229)\">Access a region</font>"
   ]
  },
  {
   "cell_type": "code",
   "execution_count": 1,
   "metadata": {
    "ExecuteTime": {
     "end_time": "2023-04-18T17:29:23.644501Z",
     "start_time": "2023-04-18T17:29:23.583555Z"
    },
    "collapsed": true
   },
   "outputs": [],
   "source": [
    "# Import libraries\n",
    "import cv2\n",
    "import numpy as np\n",
    "from dataPath import DATA_PATH\n",
    "import matplotlib.pyplot as plt\n",
    "%matplotlib inline"
   ]
  },
  {
   "cell_type": "code",
   "execution_count": 2,
   "metadata": {
    "ExecuteTime": {
     "end_time": "2023-04-18T17:29:24.672732Z",
     "start_time": "2023-04-18T17:29:24.660764Z"
    },
    "collapsed": true
   },
   "outputs": [],
   "source": [
    "import matplotlib\n",
    "matplotlib.rcParams['figure.figsize'] = (6.0, 6.0)\n",
    "matplotlib.rcParams['image.cmap'] = 'gray'"
   ]
  },
  {
   "cell_type": "code",
   "execution_count": 3,
   "metadata": {
    "ExecuteTime": {
     "end_time": "2023-04-18T17:29:27.956638Z",
     "start_time": "2023-04-18T17:29:27.922014Z"
    },
    "collapsed": true
   },
   "outputs": [],
   "source": [
    "imagePath = DATA_PATH + \"/images/number_zero.jpg\"\n",
    "\n",
    "# Read image in Grayscale format\n",
    "testImage = cv2.imread(imagePath,0)"
   ]
  },
  {
   "cell_type": "code",
   "execution_count": 4,
   "metadata": {
    "ExecuteTime": {
     "end_time": "2023-04-18T17:29:30.122059Z",
     "start_time": "2023-04-18T17:29:30.090554Z"
    }
   },
   "outputs": [
    {
     "name": "stdout",
     "output_type": "stream",
     "text": [
      "Original Matrix\n",
      "[[  1   0   3   0   3   0   3   2   4   2   0]\n",
      " [  0   1   0   3   3 253 253   0   0   2   1]\n",
      " [  0   0   8   0 249 255 255 253  71   1   5]\n",
      " [  3   0   2 251 255   2   0 253 254   0   2]\n",
      " [  1   5   0 252   4   0   3   0 255   4   0]\n",
      " [  0   0   2 255   0   0   0   3 253   0   4]\n",
      " [  0   5   4 249   4   2   0   0 255   1   0]\n",
      " [  2   0   0 255   3   0   5   0 254   0   4]\n",
      " [  0   0   0 255   1   0   0   3 255   0   0]\n",
      " [  1   5   0 252   2   2   2  76 250   7   0]\n",
      " [  0   0   5   0 254   0   0 255 254   0   1]\n",
      " [  0   8   0   3 253 253 255 250   1   2   1]\n",
      " [  2   0   0   0   5   0   4   1   3   0   0]]\n",
      "\n",
      "Selected Region\n",
      "[[1 0 3 0]\n",
      " [0 1 0 3]]\n",
      "\n"
     ]
    }
   ],
   "source": [
    "test_roi = testImage[0:2,0:4]\n",
    "print(\"Original Matrix\\n{}\\n\".format(testImage))\n",
    "print(\"Selected Region\\n{}\\n\".format(test_roi))"
   ]
  },
  {
   "cell_type": "markdown",
   "metadata": {},
   "source": [
    "## <font style=\"color:rgb(50,120,229)\">Modifying a region</font>\n",
    "Modifying a region is also straightforward. "
   ]
  },
  {
   "cell_type": "code",
   "execution_count": 5,
   "metadata": {
    "ExecuteTime": {
     "end_time": "2023-04-18T17:29:33.762005Z",
     "start_time": "2023-04-18T17:29:33.600888Z"
    }
   },
   "outputs": [
    {
     "name": "stdout",
     "output_type": "stream",
     "text": [
      "Modified Matrix\n",
      "[[111 111 111 111   3   0   3   2   4   2   0]\n",
      " [111 111 111 111   3 253 253   0   0   2   1]\n",
      " [  0   0   8   0 249 255 255 253  71   1   5]\n",
      " [  3   0   2 251 255   2   0 253 254   0   2]\n",
      " [  1   5   0 252   4   0   3   0 255   4   0]\n",
      " [  0   0   2 255   0   0   0   3 253   0   4]\n",
      " [  0   5   4 249   4   2   0   0 255   1   0]\n",
      " [  2   0   0 255   3   0   5   0 254   0   4]\n",
      " [  0   0   0 255   1   0   0   3 255   0   0]\n",
      " [  1   5   0 252   2   2   2  76 250   7   0]\n",
      " [  0   0   5   0 254   0   0 255 254   0   1]\n",
      " [  0   8   0   3 253 253 255 250   1   2   1]\n",
      " [  2   0   0   0   5   0   4   1   3   0   0]]\n",
      "\n"
     ]
    }
   ],
   "source": [
    "testImage[0:2,0:4] = 111\n",
    "print(\"Modified Matrix\\n{}\\n\".format(testImage))"
   ]
  }
 ],
 "metadata": {
  "kernelspec": {
   "display_name": "Python 3 (ipykernel)",
   "language": "python",
   "name": "python3"
  },
  "language_info": {
   "codemirror_mode": {
    "name": "ipython",
    "version": 3
   },
   "file_extension": ".py",
   "mimetype": "text/x-python",
   "name": "python",
   "nbconvert_exporter": "python",
   "pygments_lexer": "ipython3",
   "version": "3.7.0"
  }
 },
 "nbformat": 4,
 "nbformat_minor": 2
}
