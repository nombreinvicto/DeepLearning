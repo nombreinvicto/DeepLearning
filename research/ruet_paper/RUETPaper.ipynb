{
 "cells": [
  {
   "cell_type": "markdown",
   "metadata": {
    "id": "WmWgoXyVMuui"
   },
   "source": [
    "### Loading data from Local drive filename: ai4i2020"
   ]
  },
  {
   "cell_type": "code",
   "execution_count": 1,
   "metadata": {
    "colab": {
     "base_uri": "https://localhost:8080/",
     "height": 75,
     "resources": {
      "http://localhost:8080/nbextensions/google.colab/files.js": {
       "data": "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",
       "headers": [
        [
         "content-type",
         "application/javascript"
        ]
       ],
       "ok": true,
       "status": 200,
       "status_text": "OK"
      }
     }
    },
    "id": "hFoZvw5yJ-_C",
    "outputId": "7c628707-ade7-4127-bf9f-34013d93cfed"
   },
   "outputs": [
    {
     "data": {
      "text/html": [
       "\n",
       "     <input type=\"file\" id=\"files-51a29032-ef9f-452f-a3c0-20c013c1df23\" name=\"files[]\" multiple disabled\n",
       "        style=\"border:none\" />\n",
       "     <output id=\"result-51a29032-ef9f-452f-a3c0-20c013c1df23\">\n",
       "      Upload widget is only available when the cell has been executed in the\n",
       "      current browser session. Please rerun this cell to enable.\n",
       "      </output>\n",
       "      <script src=\"/nbextensions/google.colab/files.js\"></script> "
      ],
      "text/plain": [
       "<IPython.core.display.HTML object>"
      ]
     },
     "metadata": {
      "tags": []
     },
     "output_type": "display_data"
    },
    {
     "name": "stdout",
     "output_type": "stream",
     "text": [
      "Saving ai4i2020_dropdcols.csv to ai4i2020_dropdcols.csv\n"
     ]
    }
   ],
   "source": [
    "# Step 1.\n",
    "# Downloading csv from local drive\n",
    "# imports\n",
    "\n",
    "import pandas as pd\n",
    "import numpy as np\n",
    "\n",
    "from google.colab import files\n",
    "uploaded = files.upload()"
   ]
  },
  {
   "cell_type": "markdown",
   "metadata": {
    "id": "T7DvQKFeNQeh"
   },
   "source": [
    "### Read data into dataframe"
   ]
  },
  {
   "cell_type": "code",
   "execution_count": 2,
   "metadata": {
    "colab": {
     "base_uri": "https://localhost:8080/",
     "height": 224
    },
    "id": "uOCwtqGhNYaS",
    "outputId": "c753d0b4-3f17-448c-9df7-41321e24d9c7"
   },
   "outputs": [
    {
     "data": {
      "text/html": [
       "<div>\n",
       "<style scoped>\n",
       "    .dataframe tbody tr th:only-of-type {\n",
       "        vertical-align: middle;\n",
       "    }\n",
       "\n",
       "    .dataframe tbody tr th {\n",
       "        vertical-align: top;\n",
       "    }\n",
       "\n",
       "    .dataframe thead th {\n",
       "        text-align: right;\n",
       "    }\n",
       "</style>\n",
       "<table border=\"1\" class=\"dataframe\">\n",
       "  <thead>\n",
       "    <tr style=\"text-align: right;\">\n",
       "      <th></th>\n",
       "      <th>Type</th>\n",
       "      <th>Air temperature [K]</th>\n",
       "      <th>Process temperature [K]</th>\n",
       "      <th>Rotational speed [rpm]</th>\n",
       "      <th>Torque [Nm]</th>\n",
       "      <th>Tool wear [min]</th>\n",
       "      <th>Machine failure</th>\n",
       "    </tr>\n",
       "  </thead>\n",
       "  <tbody>\n",
       "    <tr>\n",
       "      <th>0</th>\n",
       "      <td>M</td>\n",
       "      <td>298.1</td>\n",
       "      <td>308.6</td>\n",
       "      <td>1551</td>\n",
       "      <td>42.8</td>\n",
       "      <td>0</td>\n",
       "      <td>0</td>\n",
       "    </tr>\n",
       "    <tr>\n",
       "      <th>1</th>\n",
       "      <td>L</td>\n",
       "      <td>298.2</td>\n",
       "      <td>308.7</td>\n",
       "      <td>1408</td>\n",
       "      <td>46.3</td>\n",
       "      <td>3</td>\n",
       "      <td>0</td>\n",
       "    </tr>\n",
       "    <tr>\n",
       "      <th>2</th>\n",
       "      <td>L</td>\n",
       "      <td>298.1</td>\n",
       "      <td>308.5</td>\n",
       "      <td>1498</td>\n",
       "      <td>49.4</td>\n",
       "      <td>5</td>\n",
       "      <td>0</td>\n",
       "    </tr>\n",
       "    <tr>\n",
       "      <th>3</th>\n",
       "      <td>L</td>\n",
       "      <td>298.2</td>\n",
       "      <td>308.6</td>\n",
       "      <td>1433</td>\n",
       "      <td>39.5</td>\n",
       "      <td>7</td>\n",
       "      <td>0</td>\n",
       "    </tr>\n",
       "    <tr>\n",
       "      <th>4</th>\n",
       "      <td>L</td>\n",
       "      <td>298.2</td>\n",
       "      <td>308.7</td>\n",
       "      <td>1408</td>\n",
       "      <td>40.0</td>\n",
       "      <td>9</td>\n",
       "      <td>0</td>\n",
       "    </tr>\n",
       "  </tbody>\n",
       "</table>\n",
       "</div>"
      ],
      "text/plain": [
       "  Type  Air temperature [K]  ...  Tool wear [min]  Machine failure\n",
       "0    M                298.1  ...                0                0\n",
       "1    L                298.2  ...                3                0\n",
       "2    L                298.1  ...                5                0\n",
       "3    L                298.2  ...                7                0\n",
       "4    L                298.2  ...                9                0\n",
       "\n",
       "[5 rows x 7 columns]"
      ]
     },
     "execution_count": 2,
     "metadata": {
      "tags": []
     },
     "output_type": "execute_result"
    }
   ],
   "source": [
    "df_cnc = pd.read_csv('ai4i2020_dropdcols.csv')\n",
    "df_cnc.head(5)"
   ]
  },
  {
   "cell_type": "code",
   "execution_count": 3,
   "metadata": {
    "colab": {
     "base_uri": "https://localhost:8080/"
    },
    "id": "MMJtMPViWAFp",
    "outputId": "4fb2c333-8e4d-496f-e504-3cd035396cac"
   },
   "outputs": [
    {
     "data": {
      "text/plain": [
       "(10000, 7)"
      ]
     },
     "execution_count": 3,
     "metadata": {
      "tags": []
     },
     "output_type": "execute_result"
    }
   ],
   "source": [
    "df_cnc.shape"
   ]
  },
  {
   "cell_type": "markdown",
   "metadata": {
    "id": "7v6SgL9yTnU0"
   },
   "source": [
    "### Checking missing data"
   ]
  },
  {
   "cell_type": "code",
   "execution_count": 4,
   "metadata": {
    "colab": {
     "base_uri": "https://localhost:8080/",
     "height": 421
    },
    "id": "rip3UI1XV23F",
    "outputId": "60d04ff4-e695-4100-a47e-b81635469e49"
   },
   "outputs": [
    {
     "data": {
      "image/png": "[encoded data removed]",
      "text/plain": [
       "<Figure size 1800x720 with 2 Axes>"
      ]
     },
     "metadata": {
      "needs_background": "light",
      "tags": []
     },
     "output_type": "display_data"
    }
   ],
   "source": [
    "import missingno as msno\n",
    "import matplotlib.pyplot as plt\n",
    "import seaborn as sns\n",
    "\n",
    "%matplotlib inline\n",
    "\n",
    "msno.matrix(df_cnc)\n",
    "plt.show()\n"
   ]
  },
  {
   "cell_type": "markdown",
   "metadata": {
    "id": "xQY2qYhkXO5a"
   },
   "source": [
    "### Load Libraries"
   ]
  },
  {
   "cell_type": "code",
   "execution_count": 5,
   "metadata": {
    "id": "MgOG0IQiXOUa"
   },
   "outputs": [],
   "source": [
    "import numpy\n",
    "from matplotlib import pyplot\n",
    "from pandas import read_csv\n",
    "from pandas import set_option\n",
    "from pandas.plotting import scatter_matrix\n",
    "from sklearn.preprocessing import StandardScaler\n",
    "from sklearn.model_selection import train_test_split\n",
    "from sklearn.model_selection import KFold\n",
    "from sklearn.model_selection import cross_val_score\n",
    "from sklearn.model_selection import GridSearchCV\n",
    "from sklearn.metrics import classification_report\n",
    "from sklearn.metrics import confusion_matrix\n",
    "from sklearn.metrics import accuracy_score, fbeta_score, make_scorer\n",
    "from sklearn.pipeline import Pipeline\n",
    "from sklearn.linear_model import LogisticRegression\n",
    "from sklearn.tree import DecisionTreeClassifier\n",
    "from sklearn.neighbors import KNeighborsClassifier\n",
    "from sklearn.discriminant_analysis import LinearDiscriminantAnalysis\n",
    "from sklearn.naive_bayes import GaussianNB\n",
    "from sklearn.svm import SVC\n",
    "from sklearn.ensemble import AdaBoostClassifier\n",
    "from sklearn.ensemble import GradientBoostingClassifier\n",
    "from sklearn.ensemble import RandomForestClassifier\n",
    "from sklearn.ensemble import ExtraTreesClassifier"
   ]
  },
  {
   "cell_type": "markdown",
   "metadata": {
    "id": "mBKgCjCdYJVE"
   },
   "source": [
    "### Look at data types of each attribute\n",
    "\n",
    "#### 6 numeric 1 object type found\n",
    "\n"
   ]
  },
  {
   "cell_type": "code",
   "execution_count": 6,
   "metadata": {
    "colab": {
     "base_uri": "https://localhost:8080/"
    },
    "id": "PCpkDrV7Yw57",
    "outputId": "23de6ae3-d0d7-4a96-caca-6bffdf223cdf"
   },
   "outputs": [
    {
     "name": "stdout",
     "output_type": "stream",
     "text": [
      "Type                        object\n",
      "Air temperature [K]        float64\n",
      "Process temperature [K]    float64\n",
      "Rotational speed [rpm]       int64\n",
      "Torque [Nm]                float64\n",
      "Tool wear [min]              int64\n",
      "Machine failure              int64\n",
      "dtype: object\n"
     ]
    }
   ],
   "source": [
    "set_option('display.max_rows',10)\n",
    "print(df_cnc.dtypes)"
   ]
  },
  {
   "cell_type": "markdown",
   "metadata": {
    "id": "GvtC-gw8ZMyP"
   },
   "source": [
    "#### Looking into dataset\n",
    "#### They are of different scales"
   ]
  },
  {
   "cell_type": "code",
   "execution_count": 7,
   "metadata": {
    "colab": {
     "base_uri": "https://localhost:8080/",
     "height": 441
    },
    "id": "5U2o3d4NZDcG",
    "outputId": "16852b25-9886-4798-c437-1ad28099bec1"
   },
   "outputs": [
    {
     "data": {
      "text/html": [
       "<div>\n",
       "<style scoped>\n",
       "    .dataframe tbody tr th:only-of-type {\n",
       "        vertical-align: middle;\n",
       "    }\n",
       "\n",
       "    .dataframe tbody tr th {\n",
       "        vertical-align: top;\n",
       "    }\n",
       "\n",
       "    .dataframe thead th {\n",
       "        text-align: right;\n",
       "    }\n",
       "</style>\n",
       "<table border=\"1\" class=\"dataframe\">\n",
       "  <thead>\n",
       "    <tr style=\"text-align: right;\">\n",
       "      <th></th>\n",
       "      <th>Type</th>\n",
       "      <th>Air temperature [K]</th>\n",
       "      <th>Process temperature [K]</th>\n",
       "      <th>Rotational speed [rpm]</th>\n",
       "      <th>Torque [Nm]</th>\n",
       "      <th>Tool wear [min]</th>\n",
       "      <th>Machine failure</th>\n",
       "    </tr>\n",
       "  </thead>\n",
       "  <tbody>\n",
       "    <tr>\n",
       "      <th>0</th>\n",
       "      <td>M</td>\n",
       "      <td>298.1</td>\n",
       "      <td>308.6</td>\n",
       "      <td>1551</td>\n",
       "      <td>42.8</td>\n",
       "      <td>0</td>\n",
       "      <td>0</td>\n",
       "    </tr>\n",
       "    <tr>\n",
       "      <th>1</th>\n",
       "      <td>L</td>\n",
       "      <td>298.2</td>\n",
       "      <td>308.7</td>\n",
       "      <td>1408</td>\n",
       "      <td>46.3</td>\n",
       "      <td>3</td>\n",
       "      <td>0</td>\n",
       "    </tr>\n",
       "    <tr>\n",
       "      <th>2</th>\n",
       "      <td>L</td>\n",
       "      <td>298.1</td>\n",
       "      <td>308.5</td>\n",
       "      <td>1498</td>\n",
       "      <td>49.4</td>\n",
       "      <td>5</td>\n",
       "      <td>0</td>\n",
       "    </tr>\n",
       "    <tr>\n",
       "      <th>3</th>\n",
       "      <td>L</td>\n",
       "      <td>298.2</td>\n",
       "      <td>308.6</td>\n",
       "      <td>1433</td>\n",
       "      <td>39.5</td>\n",
       "      <td>7</td>\n",
       "      <td>0</td>\n",
       "    </tr>\n",
       "    <tr>\n",
       "      <th>4</th>\n",
       "      <td>L</td>\n",
       "      <td>298.2</td>\n",
       "      <td>308.7</td>\n",
       "      <td>1408</td>\n",
       "      <td>40.0</td>\n",
       "      <td>9</td>\n",
       "      <td>0</td>\n",
       "    </tr>\n",
       "    <tr>\n",
       "      <th>...</th>\n",
       "      <td>...</td>\n",
       "      <td>...</td>\n",
       "      <td>...</td>\n",
       "      <td>...</td>\n",
       "      <td>...</td>\n",
       "      <td>...</td>\n",
       "      <td>...</td>\n",
       "    </tr>\n",
       "    <tr>\n",
       "      <th>15</th>\n",
       "      <td>L</td>\n",
       "      <td>298.6</td>\n",
       "      <td>309.2</td>\n",
       "      <td>1542</td>\n",
       "      <td>48.4</td>\n",
       "      <td>42</td>\n",
       "      <td>0</td>\n",
       "    </tr>\n",
       "    <tr>\n",
       "      <th>16</th>\n",
       "      <td>M</td>\n",
       "      <td>298.6</td>\n",
       "      <td>309.2</td>\n",
       "      <td>1311</td>\n",
       "      <td>46.6</td>\n",
       "      <td>44</td>\n",
       "      <td>0</td>\n",
       "    </tr>\n",
       "    <tr>\n",
       "      <th>17</th>\n",
       "      <td>M</td>\n",
       "      <td>298.7</td>\n",
       "      <td>309.2</td>\n",
       "      <td>1410</td>\n",
       "      <td>45.6</td>\n",
       "      <td>47</td>\n",
       "      <td>0</td>\n",
       "    </tr>\n",
       "    <tr>\n",
       "      <th>18</th>\n",
       "      <td>H</td>\n",
       "      <td>298.8</td>\n",
       "      <td>309.2</td>\n",
       "      <td>1306</td>\n",
       "      <td>54.5</td>\n",
       "      <td>50</td>\n",
       "      <td>0</td>\n",
       "    </tr>\n",
       "    <tr>\n",
       "      <th>19</th>\n",
       "      <td>M</td>\n",
       "      <td>298.9</td>\n",
       "      <td>309.3</td>\n",
       "      <td>1632</td>\n",
       "      <td>32.5</td>\n",
       "      <td>55</td>\n",
       "      <td>0</td>\n",
       "    </tr>\n",
       "  </tbody>\n",
       "</table>\n",
       "<p>20 rows × 7 columns</p>\n",
       "</div>"
      ],
      "text/plain": [
       "   Type  Air temperature [K]  ...  Tool wear [min]  Machine failure\n",
       "0     M                298.1  ...                0                0\n",
       "1     L                298.2  ...                3                0\n",
       "2     L                298.1  ...                5                0\n",
       "3     L                298.2  ...                7                0\n",
       "4     L                298.2  ...                9                0\n",
       "..  ...                  ...  ...              ...              ...\n",
       "15    L                298.6  ...               42                0\n",
       "16    M                298.6  ...               44                0\n",
       "17    M                298.7  ...               47                0\n",
       "18    H                298.8  ...               50                0\n",
       "19    M                298.9  ...               55                0\n",
       "\n",
       "[20 rows x 7 columns]"
      ]
     },
     "execution_count": 7,
     "metadata": {
      "tags": []
     },
     "output_type": "execute_result"
    }
   ],
   "source": [
    "df_cnc.head(20)"
   ]
  },
  {
   "cell_type": "markdown",
   "metadata": {
    "id": "XsOhYSulZz2d"
   },
   "source": [
    "#### Data Summary"
   ]
  },
  {
   "cell_type": "code",
   "execution_count": 8,
   "metadata": {
    "colab": {
     "base_uri": "https://localhost:8080/",
     "height": 318
    },
    "id": "EUTka-8rZzsR",
    "outputId": "7850bbff-4669-41b4-f074-9edb560166d5"
   },
   "outputs": [
    {
     "data": {
      "text/html": [
       "<div>\n",
       "<style scoped>\n",
       "    .dataframe tbody tr th:only-of-type {\n",
       "        vertical-align: middle;\n",
       "    }\n",
       "\n",
       "    .dataframe tbody tr th {\n",
       "        vertical-align: top;\n",
       "    }\n",
       "\n",
       "    .dataframe thead th {\n",
       "        text-align: right;\n",
       "    }\n",
       "</style>\n",
       "<table border=\"1\" class=\"dataframe\">\n",
       "  <thead>\n",
       "    <tr style=\"text-align: right;\">\n",
       "      <th></th>\n",
       "      <th>Air temperature [K]</th>\n",
       "      <th>Process temperature [K]</th>\n",
       "      <th>Rotational speed [rpm]</th>\n",
       "      <th>Torque [Nm]</th>\n",
       "      <th>Tool wear [min]</th>\n",
       "      <th>Machine failure</th>\n",
       "    </tr>\n",
       "  </thead>\n",
       "  <tbody>\n",
       "    <tr>\n",
       "      <th>count</th>\n",
       "      <td>10000.000</td>\n",
       "      <td>10000.000</td>\n",
       "      <td>10000.000</td>\n",
       "      <td>10000.000</td>\n",
       "      <td>10000.000</td>\n",
       "      <td>10000.000</td>\n",
       "    </tr>\n",
       "    <tr>\n",
       "      <th>mean</th>\n",
       "      <td>300.005</td>\n",
       "      <td>310.006</td>\n",
       "      <td>1538.776</td>\n",
       "      <td>39.987</td>\n",
       "      <td>107.951</td>\n",
       "      <td>0.034</td>\n",
       "    </tr>\n",
       "    <tr>\n",
       "      <th>std</th>\n",
       "      <td>2.000</td>\n",
       "      <td>1.484</td>\n",
       "      <td>179.284</td>\n",
       "      <td>9.969</td>\n",
       "      <td>63.654</td>\n",
       "      <td>0.181</td>\n",
       "    </tr>\n",
       "    <tr>\n",
       "      <th>min</th>\n",
       "      <td>295.300</td>\n",
       "      <td>305.700</td>\n",
       "      <td>1168.000</td>\n",
       "      <td>3.800</td>\n",
       "      <td>0.000</td>\n",
       "      <td>0.000</td>\n",
       "    </tr>\n",
       "    <tr>\n",
       "      <th>25%</th>\n",
       "      <td>298.300</td>\n",
       "      <td>308.800</td>\n",
       "      <td>1423.000</td>\n",
       "      <td>33.200</td>\n",
       "      <td>53.000</td>\n",
       "      <td>0.000</td>\n",
       "    </tr>\n",
       "    <tr>\n",
       "      <th>50%</th>\n",
       "      <td>300.100</td>\n",
       "      <td>310.100</td>\n",
       "      <td>1503.000</td>\n",
       "      <td>40.100</td>\n",
       "      <td>108.000</td>\n",
       "      <td>0.000</td>\n",
       "    </tr>\n",
       "    <tr>\n",
       "      <th>75%</th>\n",
       "      <td>301.500</td>\n",
       "      <td>311.100</td>\n",
       "      <td>1612.000</td>\n",
       "      <td>46.800</td>\n",
       "      <td>162.000</td>\n",
       "      <td>0.000</td>\n",
       "    </tr>\n",
       "    <tr>\n",
       "      <th>max</th>\n",
       "      <td>304.500</td>\n",
       "      <td>313.800</td>\n",
       "      <td>2886.000</td>\n",
       "      <td>76.600</td>\n",
       "      <td>253.000</td>\n",
       "      <td>1.000</td>\n",
       "    </tr>\n",
       "  </tbody>\n",
       "</table>\n",
       "</div>"
      ],
      "text/plain": [
       "       Air temperature [K]  ...  Machine failure\n",
       "count            10000.000  ...        10000.000\n",
       "mean               300.005  ...            0.034\n",
       "std                  2.000  ...            0.181\n",
       "min                295.300  ...            0.000\n",
       "25%                298.300  ...            0.000\n",
       "50%                300.100  ...            0.000\n",
       "75%                301.500  ...            0.000\n",
       "max                304.500  ...            1.000\n",
       "\n",
       "[8 rows x 6 columns]"
      ]
     },
     "execution_count": 8,
     "metadata": {
      "tags": []
     },
     "output_type": "execute_result"
    }
   ],
   "source": [
    "set_option('precision',3)\n",
    "df_cnc.describe()"
   ]
  },
  {
   "cell_type": "markdown",
   "metadata": {
    "id": "7y_l1O6yaOJp"
   },
   "source": [
    "#### Looking at the break down of 'Type' distribution"
   ]
  },
  {
   "cell_type": "code",
   "execution_count": 9,
   "metadata": {
    "colab": {
     "base_uri": "https://localhost:8080/"
    },
    "id": "4KVNMwykaXf6",
    "outputId": "b1e72bd4-c727-4d00-f5a9-6c7dca8f9f07"
   },
   "outputs": [
    {
     "name": "stdout",
     "output_type": "stream",
     "text": [
      "Type\n",
      "H    1003\n",
      "L    6000\n",
      "M    2997\n",
      "dtype: int64\n"
     ]
    }
   ],
   "source": [
    "print(df_cnc.groupby('Type').size())"
   ]
  },
  {
   "cell_type": "markdown",
   "metadata": {
    "id": "1KDHeq39aw-P"
   },
   "source": [
    "#### Looking at the break down of Machine failure\n",
    "#### Observation: Imbalanced Classes zeros more compared to ones"
   ]
  },
  {
   "cell_type": "code",
   "execution_count": 10,
   "metadata": {
    "colab": {
     "base_uri": "https://localhost:8080/"
    },
    "id": "acHnRKGeaf3g",
    "outputId": "67d59203-6b02-4875-efc7-65e25e44d4c5"
   },
   "outputs": [
    {
     "name": "stdout",
     "output_type": "stream",
     "text": [
      "Machine failure\n",
      "0    9661\n",
      "1     339\n",
      "dtype: int64\n"
     ]
    }
   ],
   "source": [
    "print(df_cnc.groupby('Machine failure').size())"
   ]
  },
  {
   "cell_type": "code",
   "execution_count": 11,
   "metadata": {
    "colab": {
     "base_uri": "https://localhost:8080/",
     "height": 278
    },
    "id": "XJbeIkWPXoEO",
    "outputId": "1e0586c1-75b0-443c-e247-c00d519c3f6d"
   },
   "outputs": [
    {
     "data": {
      "image/png": "[encoded data removed]",
      "text/plain": [
       "<Figure size 432x288 with 1 Axes>"
      ]
     },
     "metadata": {
      "needs_background": "light",
      "tags": []
     },
     "output_type": "display_data"
    }
   ],
   "source": [
    "df_cnc['Machine failure'].value_counts().plot(kind='bar', title='Machine Failuer [1= Failed] [0=Operational');"
   ]
  },
  {
   "cell_type": "markdown",
   "metadata": {
    "id": "e8Kpyl8ubBYa"
   },
   "source": [
    "#### Visual EDA to look at data distribution"
   ]
  },
  {
   "cell_type": "code",
   "execution_count": 12,
   "metadata": {
    "colab": {
     "base_uri": "https://localhost:8080/",
     "height": 607
    },
    "id": "7lvAMH3rb_yt",
    "outputId": "dfd9f485-acbc-4991-f275-d207813a6a71"
   },
   "outputs": [
    {
     "data": {
      "image/png": "[encoded data removed]",
      "text/plain": [
       "<Figure size 720x720 with 6 Axes>"
      ]
     },
     "metadata": {
      "needs_background": "light",
      "tags": []
     },
     "output_type": "display_data"
    }
   ],
   "source": [
    "#histograms\n",
    "df_cnc.hist(sharex=False,sharey=False, figsize=(10,10))\n",
    "pyplot.show()"
   ]
  },
  {
   "cell_type": "code",
   "execution_count": 13,
   "metadata": {
    "colab": {
     "base_uri": "https://localhost:8080/",
     "height": 592
    },
    "id": "PcEkM4ytcjpQ",
    "outputId": "89f5086c-597b-40fa-de0f-e049404200d6"
   },
   "outputs": [
    {
     "data": {
      "image/png": "[encoded data removed]",
      "text/plain": [
       "<Figure size 720x720 with 6 Axes>"
      ]
     },
     "metadata": {
      "needs_background": "light",
      "tags": []
     },
     "output_type": "display_data"
    }
   ],
   "source": [
    "#Density plots\n",
    "df_cnc.plot(kind='density',subplots=True, layout=(3,2),sharex=False,legend=False, figsize=(10,10))\n",
    "pyplot.show()"
   ]
  },
  {
   "cell_type": "code",
   "execution_count": 14,
   "metadata": {
    "colab": {
     "base_uri": "https://localhost:8080/",
     "height": 592
    },
    "id": "FCJpRO05c_3M",
    "outputId": "2ec67a85-a933-475b-e077-759a8936483f"
   },
   "outputs": [
    {
     "data": {
      "image/png": "[encoded data removed]",
      "text/plain": [
       "<Figure size 720x720 with 6 Axes>"
      ]
     },
     "metadata": {
      "needs_background": "light",
      "tags": []
     },
     "output_type": "display_data"
    }
   ],
   "source": [
    "#box and whisker plots\n",
    "df_cnc.plot(kind='box',subplots=True,layout=(3,2),sharex=False,sharey=False,figsize=(10,10))\n",
    "pyplot.show()"
   ]
  },
  {
   "cell_type": "markdown",
   "metadata": {
    "id": "fkshB4FOOb3U"
   },
   "source": [
    "#### Multimodal Data visualization"
   ]
  },
  {
   "cell_type": "code",
   "execution_count": 15,
   "metadata": {
    "colab": {
     "base_uri": "https://localhost:8080/",
     "height": 770
    },
    "id": "Sype-teQOtND",
    "outputId": "b6be869d-aeff-415e-cd89-b46cfd6f3967"
   },
   "outputs": [
    {
     "data": {
      "image/png": "[encoded data removed]",
      "text/plain": [
       "<Figure size 864x720 with 2 Axes>"
      ]
     },
     "metadata": {
      "needs_background": "light",
      "tags": []
     },
     "output_type": "display_data"
    }
   ],
   "source": [
    "f, ax = plt.subplots(nrows=1, ncols=1, figsize=(12, 10))\n",
    "ax.set_title(\"Correlation Matrix\", fontsize=16)\n",
    "sns.heatmap(df_cnc[df_cnc.columns[df_cnc.columns != 'Type']].corr(), vmin=-1, vmax=1, cmap='coolwarm', annot=True)\n",
    "\n",
    "for tick in ax.xaxis.get_major_ticks():\n",
    "    tick.label.set_fontsize(14) \n",
    "    tick.label.set_rotation(90) \n",
    "for tick in ax.yaxis.get_major_ticks():\n",
    "    tick.label.set_fontsize(14)\n",
    "    tick.label.set_rotation(0) \n",
    "plt.show()"
   ]
  },
  {
   "cell_type": "markdown",
   "metadata": {
    "id": "WYjcm9VqR640"
   },
   "source": [
    "#### Ordinal Encoding for 'Type' Column"
   ]
  },
  {
   "cell_type": "code",
   "execution_count": 16,
   "metadata": {
    "colab": {
     "base_uri": "https://localhost:8080/"
    },
    "id": "zaYEtKztmD4b",
    "outputId": "79b2f894-d0b2-4d13-e2ff-8228144341bc"
   },
   "outputs": [
    {
     "name": "stdout",
     "output_type": "stream",
     "text": [
      "Collecting category_encoders\n",
      "\u001b[?25l  Downloading https://files.pythonhosted.org/packages/44/57/fcef41c248701ee62e8325026b90c432adea35555cbc870aff9cfba23727/category_encoders-2.2.2-py2.py3-none-any.whl (80kB)\n",
      "\r",
      "\u001b[K     |████                            | 10kB 10.5MB/s eta 0:00:01\r",
      "\u001b[K     |████████▏                       | 20kB 7.7MB/s eta 0:00:01\r",
      "\u001b[K     |████████████▏                   | 30kB 7.5MB/s eta 0:00:01\r",
      "\u001b[K     |████████████████▎               | 40kB 6.4MB/s eta 0:00:01\r",
      "\u001b[K     |████████████████████▎           | 51kB 4.3MB/s eta 0:00:01\r",
      "\u001b[K     |████████████████████████▍       | 61kB 4.4MB/s eta 0:00:01\r",
      "\u001b[K     |████████████████████████████▍   | 71kB 4.9MB/s eta 0:00:01\r",
      "\u001b[K     |████████████████████████████████| 81kB 3.1MB/s \n",
      "\u001b[?25hRequirement already satisfied: patsy>=0.5.1 in /usr/local/lib/python3.7/dist-packages (from category_encoders) (0.5.1)\n",
      "Requirement already satisfied: pandas>=0.21.1 in /usr/local/lib/python3.7/dist-packages (from category_encoders) (1.1.5)\n",
      "Requirement already satisfied: numpy>=1.14.0 in /usr/local/lib/python3.7/dist-packages (from category_encoders) (1.19.5)\n",
      "Requirement already satisfied: scikit-learn>=0.20.0 in /usr/local/lib/python3.7/dist-packages (from category_encoders) (0.22.2.post1)\n",
      "Requirement already satisfied: statsmodels>=0.9.0 in /usr/local/lib/python3.7/dist-packages (from category_encoders) (0.10.2)\n",
      "Requirement already satisfied: scipy>=1.0.0 in /usr/local/lib/python3.7/dist-packages (from category_encoders) (1.4.1)\n",
      "Requirement already satisfied: six in /usr/local/lib/python3.7/dist-packages (from patsy>=0.5.1->category_encoders) (1.15.0)\n",
      "Requirement already satisfied: pytz>=2017.2 in /usr/local/lib/python3.7/dist-packages (from pandas>=0.21.1->category_encoders) (2018.9)\n",
      "Requirement already satisfied: python-dateutil>=2.7.3 in /usr/local/lib/python3.7/dist-packages (from pandas>=0.21.1->category_encoders) (2.8.1)\n",
      "Requirement already satisfied: joblib>=0.11 in /usr/local/lib/python3.7/dist-packages (from scikit-learn>=0.20.0->category_encoders) (1.0.1)\n",
      "Installing collected packages: category-encoders\n",
      "Successfully installed category-encoders-2.2.2\n"
     ]
    }
   ],
   "source": [
    "#installing category_encoder\n",
    "!pip install category_encoders"
   ]
  },
  {
   "cell_type": "code",
   "execution_count": 17,
   "metadata": {
    "colab": {
     "base_uri": "https://localhost:8080/"
    },
    "id": "shHDMeCgS05h",
    "outputId": "c194624d-c324-47da-bc96-3463f9cfb2ee"
   },
   "outputs": [
    {
     "name": "stderr",
     "output_type": "stream",
     "text": [
      "/usr/local/lib/python3.7/dist-packages/statsmodels/tools/_testing.py:19: FutureWarning: pandas.util.testing is deprecated. Use the functions in the public API at pandas.testing instead.\n",
      "  import pandas.util.testing as tm\n"
     ]
    }
   ],
   "source": [
    "#import for category_encoder\n",
    "import category_encoders as ce\n",
    "#create dictionary\n",
    "dict_map = [{'col':'Type','mapping':{'L':0,'M':1,'H':2}}]\n",
    "#instantiate the encoder\n",
    "encoder = ce.OrdinalEncoder(cols='Type',mapping=dict_map)"
   ]
  },
  {
   "cell_type": "code",
   "execution_count": 18,
   "metadata": {
    "id": "KQfuvRCfbaGC"
   },
   "outputs": [],
   "source": [
    "# encoding to new df\n",
    "df_cnc_encoded = encoder.fit_transform(df_cnc)"
   ]
  },
  {
   "cell_type": "code",
   "execution_count": 19,
   "metadata": {
    "colab": {
     "base_uri": "https://localhost:8080/",
     "height": 380
    },
    "id": "sluLXjlGnlpb",
    "outputId": "7d625d30-f477-488b-eef7-6b59dd257201"
   },
   "outputs": [
    {
     "data": {
      "text/html": [
       "<div>\n",
       "<style scoped>\n",
       "    .dataframe tbody tr th:only-of-type {\n",
       "        vertical-align: middle;\n",
       "    }\n",
       "\n",
       "    .dataframe tbody tr th {\n",
       "        vertical-align: top;\n",
       "    }\n",
       "\n",
       "    .dataframe thead th {\n",
       "        text-align: right;\n",
       "    }\n",
       "</style>\n",
       "<table border=\"1\" class=\"dataframe\">\n",
       "  <thead>\n",
       "    <tr style=\"text-align: right;\">\n",
       "      <th></th>\n",
       "      <th>Type</th>\n",
       "      <th>Air temperature [K]</th>\n",
       "      <th>Process temperature [K]</th>\n",
       "      <th>Rotational speed [rpm]</th>\n",
       "      <th>Torque [Nm]</th>\n",
       "      <th>Tool wear [min]</th>\n",
       "      <th>Machine failure</th>\n",
       "    </tr>\n",
       "  </thead>\n",
       "  <tbody>\n",
       "    <tr>\n",
       "      <th>0</th>\n",
       "      <td>1</td>\n",
       "      <td>298.1</td>\n",
       "      <td>308.6</td>\n",
       "      <td>1551</td>\n",
       "      <td>42.8</td>\n",
       "      <td>0</td>\n",
       "      <td>0</td>\n",
       "    </tr>\n",
       "    <tr>\n",
       "      <th>1</th>\n",
       "      <td>0</td>\n",
       "      <td>298.2</td>\n",
       "      <td>308.7</td>\n",
       "      <td>1408</td>\n",
       "      <td>46.3</td>\n",
       "      <td>3</td>\n",
       "      <td>0</td>\n",
       "    </tr>\n",
       "    <tr>\n",
       "      <th>2</th>\n",
       "      <td>0</td>\n",
       "      <td>298.1</td>\n",
       "      <td>308.5</td>\n",
       "      <td>1498</td>\n",
       "      <td>49.4</td>\n",
       "      <td>5</td>\n",
       "      <td>0</td>\n",
       "    </tr>\n",
       "    <tr>\n",
       "      <th>3</th>\n",
       "      <td>0</td>\n",
       "      <td>298.2</td>\n",
       "      <td>308.6</td>\n",
       "      <td>1433</td>\n",
       "      <td>39.5</td>\n",
       "      <td>7</td>\n",
       "      <td>0</td>\n",
       "    </tr>\n",
       "    <tr>\n",
       "      <th>4</th>\n",
       "      <td>0</td>\n",
       "      <td>298.2</td>\n",
       "      <td>308.7</td>\n",
       "      <td>1408</td>\n",
       "      <td>40.0</td>\n",
       "      <td>9</td>\n",
       "      <td>0</td>\n",
       "    </tr>\n",
       "    <tr>\n",
       "      <th>5</th>\n",
       "      <td>1</td>\n",
       "      <td>298.1</td>\n",
       "      <td>308.6</td>\n",
       "      <td>1425</td>\n",
       "      <td>41.9</td>\n",
       "      <td>11</td>\n",
       "      <td>0</td>\n",
       "    </tr>\n",
       "    <tr>\n",
       "      <th>6</th>\n",
       "      <td>0</td>\n",
       "      <td>298.1</td>\n",
       "      <td>308.6</td>\n",
       "      <td>1558</td>\n",
       "      <td>42.4</td>\n",
       "      <td>14</td>\n",
       "      <td>0</td>\n",
       "    </tr>\n",
       "    <tr>\n",
       "      <th>7</th>\n",
       "      <td>0</td>\n",
       "      <td>298.1</td>\n",
       "      <td>308.6</td>\n",
       "      <td>1527</td>\n",
       "      <td>40.2</td>\n",
       "      <td>16</td>\n",
       "      <td>0</td>\n",
       "    </tr>\n",
       "    <tr>\n",
       "      <th>8</th>\n",
       "      <td>1</td>\n",
       "      <td>298.3</td>\n",
       "      <td>308.7</td>\n",
       "      <td>1667</td>\n",
       "      <td>28.6</td>\n",
       "      <td>18</td>\n",
       "      <td>0</td>\n",
       "    </tr>\n",
       "    <tr>\n",
       "      <th>9</th>\n",
       "      <td>1</td>\n",
       "      <td>298.5</td>\n",
       "      <td>309.0</td>\n",
       "      <td>1741</td>\n",
       "      <td>28.0</td>\n",
       "      <td>21</td>\n",
       "      <td>0</td>\n",
       "    </tr>\n",
       "  </tbody>\n",
       "</table>\n",
       "</div>"
      ],
      "text/plain": [
       "   Type  Air temperature [K]  ...  Tool wear [min]  Machine failure\n",
       "0     1                298.1  ...                0                0\n",
       "1     0                298.2  ...                3                0\n",
       "2     0                298.1  ...                5                0\n",
       "3     0                298.2  ...                7                0\n",
       "4     0                298.2  ...                9                0\n",
       "5     1                298.1  ...               11                0\n",
       "6     0                298.1  ...               14                0\n",
       "7     0                298.1  ...               16                0\n",
       "8     1                298.3  ...               18                0\n",
       "9     1                298.5  ...               21                0\n",
       "\n",
       "[10 rows x 7 columns]"
      ]
     },
     "execution_count": 19,
     "metadata": {
      "tags": []
     },
     "output_type": "execute_result"
    }
   ],
   "source": [
    "df_cnc_encoded.head(10)"
   ]
  },
  {
   "cell_type": "markdown",
   "metadata": {
    "id": "elpsT207ntBD"
   },
   "source": [
    "### Validaiton Step"
   ]
  },
  {
   "cell_type": "code",
   "execution_count": 20,
   "metadata": {
    "id": "ncToEtZnnvOr"
   },
   "outputs": [],
   "source": [
    "array = df_cnc_encoded.values\n",
    "X = array[:,0:6]\n",
    "Y = array[:,6]\n",
    "validation_size = 0.20\n",
    "seed = 7\n",
    "X_train, X_validation, Y_train, Y_validation = train_test_split(X,Y, test_size=validation_size,\n",
    "                                                                random_state=seed)"
   ]
  },
  {
   "cell_type": "markdown",
   "metadata": {
    "id": "ymEOqJoncujw"
   },
   "source": [
    "### Oversampling on minority class [machine failures]"
   ]
  },
  {
   "cell_type": "code",
   "execution_count": 21,
   "metadata": {
    "colab": {
     "base_uri": "https://localhost:8080/"
    },
    "id": "pNIpnU3yc4dG",
    "outputId": "a9b6f3f3-1947-4cc8-ce03-d932df0796f2"
   },
   "outputs": [
    {
     "name": "stderr",
     "output_type": "stream",
     "text": [
      "/usr/local/lib/python3.7/dist-packages/sklearn/externals/six.py:31: FutureWarning: The module is deprecated in version 0.21 and will be removed in version 0.23 since we've dropped support for Python 2.7. Please rely on the official version of six (https://pypi.org/project/six/).\n",
      "  \"(https://pypi.org/project/six/).\", FutureWarning)\n",
      "/usr/local/lib/python3.7/dist-packages/sklearn/utils/deprecation.py:144: FutureWarning: The sklearn.neighbors.base module is  deprecated in version 0.22 and will be removed in version 0.24. The corresponding classes / functions should instead be imported from sklearn.neighbors. Anything that cannot be imported from sklearn.neighbors is now part of the private API.\n",
      "  warnings.warn(message, FutureWarning)\n",
      "/usr/local/lib/python3.7/dist-packages/sklearn/utils/deprecation.py:87: FutureWarning: Function safe_indexing is deprecated; safe_indexing is deprecated in version 0.22 and will be removed in version 0.24.\n",
      "  warnings.warn(msg, category=FutureWarning)\n"
     ]
    }
   ],
   "source": [
    "import imblearn\n",
    "from imblearn.over_sampling import SMOTE\n",
    "smote = SMOTE(ratio='minority')\n",
    "X_train, Y_train = smote.fit_sample(X_train, Y_train)\n",
    "\n"
   ]
  },
  {
   "cell_type": "markdown",
   "metadata": {
    "id": "c8uiXOc0cfqi"
   },
   "source": [
    "### Running baseline models with Accuracy as metric"
   ]
  },
  {
   "cell_type": "code",
   "execution_count": 22,
   "metadata": {
    "colab": {
     "base_uri": "https://localhost:8080/"
    },
    "id": "VgF89DCxpWf-",
    "outputId": "60016a45-9634-45b2-e1a4-6f1b159402b5"
   },
   "outputs": [
    {
     "name": "stdout",
     "output_type": "stream",
     "text": [
      "LR: accuracy(0.803722) std(0.008063)\n",
      "LDA: accuracy(0.804303) std(0.008924)\n",
      "KNN: accuracy(0.927128) std(0.045916)\n",
      "CART: accuracy(0.967180) std(0.010232)\n",
      "NB: accuracy(0.802818) std(0.018599)\n",
      "SVM: accuracy(0.804438) std(0.036743)\n"
     ]
    }
   ],
   "source": [
    "# Setting test options and evaluation metric\n",
    "num_folds = 10\n",
    "seed = 7\n",
    "scoring = 'accuracy' #make_scorer(fbeta_score, beta=2)\n",
    "\n",
    "models = []\n",
    "models.append(('LR', LogisticRegression()))\n",
    "models.append(('LDA', LinearDiscriminantAnalysis()))\n",
    "models.append(('KNN', KNeighborsClassifier()))\n",
    "models.append(('CART', DecisionTreeClassifier()))\n",
    "models.append(('NB', GaussianNB()))\n",
    "models.append(('SVM', SVC()))\n",
    "\n",
    "results = []\n",
    "names = []\n",
    "\n",
    "for name, model in models:\n",
    "  kfold = KFold(n_splits=num_folds)\n",
    "  cv_results = cross_val_score(model,X_train,Y_train,cv=kfold,scoring=scoring)\n",
    "  results.append(cv_results)\n",
    "  names.append(name)\n",
    "  msg = \"%s: accuracy(%f) std(%f)\" % (name, cv_results.mean(), cv_results.std())\n",
    "  print(msg)\n"
   ]
  },
  {
   "cell_type": "code",
   "execution_count": 23,
   "metadata": {
    "colab": {
     "base_uri": "https://localhost:8080/",
     "height": 294
    },
    "id": "0ZVaYLDfuPoZ",
    "outputId": "6f51a5c7-9ce2-4210-de9e-184cec4b5249"
   },
   "outputs": [
    {
     "data": {
      "image/png": "[encoded data removed]",
      "text/plain": [
       "<Figure size 432x288 with 1 Axes>"
      ]
     },
     "metadata": {
      "needs_background": "light",
      "tags": []
     },
     "output_type": "display_data"
    }
   ],
   "source": [
    "# Comparing Algorithms\n",
    "fig = pyplot.figure()\n",
    "fig.suptitle('Algorithm Comparison')\n",
    "ax = fig.add_subplot(111)\n",
    "pyplot.boxplot(results)\n",
    "ax.set_xticklabels(names)\n",
    "pyplot.show()"
   ]
  },
  {
   "cell_type": "markdown",
   "metadata": {
    "id": "j57bXpMLcnrg"
   },
   "source": [
    "### Running same baseline with f-beta score as metric"
   ]
  },
  {
   "cell_type": "code",
   "execution_count": 24,
   "metadata": {
    "colab": {
     "base_uri": "https://localhost:8080/"
    },
    "id": "mb4HJEur0WCi",
    "outputId": "80280640-a8ca-40a4-db65-af0e9071d169"
   },
   "outputs": [
    {
     "name": "stdout",
     "output_type": "stream",
     "text": [
      "LR: f_beta(0.611097) std(0.225875)\n",
      "LDA: f_beta(0.613975) std(0.224882)\n",
      "KNN: f_beta(0.778549) std(0.201536)\n",
      "CART: f_beta(0.840164) std(0.145569)\n",
      "NB: f_beta(0.607937) std(0.241877)\n",
      "SVM: f_beta(0.620043) std(0.248431)\n"
     ]
    }
   ],
   "source": [
    "# Doing the same as above now with f-beta score\n",
    "# Setting test options and evaluation metric\n",
    "num_folds = 10\n",
    "seed = 7\n",
    "scoring = make_scorer(fbeta_score, beta=2)\n",
    "\n",
    "models = []\n",
    "models.append(('LR', LogisticRegression()))\n",
    "models.append(('LDA', LinearDiscriminantAnalysis()))\n",
    "models.append(('KNN', KNeighborsClassifier()))\n",
    "models.append(('CART', DecisionTreeClassifier()))\n",
    "models.append(('NB', GaussianNB()))\n",
    "models.append(('SVM', SVC()))\n",
    "\n",
    "results = []\n",
    "names = []\n",
    "\n",
    "for name, model in models:\n",
    "  kfold = KFold(n_splits=num_folds)\n",
    "  cv_results = cross_val_score(model,X_train,Y_train,cv=kfold,scoring=scoring)\n",
    "  results.append(cv_results)\n",
    "  names.append(name)\n",
    "  msg = \"%s: f_beta(%f) std(%f)\" % (name, cv_results.mean(), cv_results.std())\n",
    "  print(msg)\n"
   ]
  },
  {
   "cell_type": "markdown",
   "metadata": {
    "id": "l5MpUKvausBJ"
   },
   "source": [
    "### Performing on a standardized data set"
   ]
  },
  {
   "cell_type": "code",
   "execution_count": 60,
   "metadata": {
    "colab": {
     "base_uri": "https://localhost:8080/"
    },
    "id": "yzrMQObVuwS3",
    "outputId": "4b34a679-167b-479d-a227-3896d30e4760"
   },
   "outputs": [
    {
     "name": "stdout",
     "output_type": "stream",
     "text": [
      "ScaledLR: 0.805273 (0.009124)\n",
      "ScaledLDA: 0.804303 (0.008924)\n",
      "ScaledKNN: 0.959430 (0.028112)\n",
      "ScaledCART: 0.967761 (0.009656)\n",
      "ScaledNB: 0.802818 (0.018599)\n",
      "ScaledSVM: 0.926737 (0.018776)\n"
     ]
    }
   ],
   "source": [
    "# Standardize the dataset\n",
    "pipelines = []\n",
    "scoring = 'accuracy'\n",
    "pipelines.append(('ScaledLR', Pipeline([('Scaler', StandardScaler()),('LR',\n",
    "LogisticRegression())])))\n",
    "pipelines.append(('ScaledLDA', Pipeline([('Scaler', StandardScaler()),('LDA',\n",
    "LinearDiscriminantAnalysis())])))\n",
    "pipelines.append(('ScaledKNN', Pipeline([('Scaler', StandardScaler()),('KNN',\n",
    "KNeighborsClassifier())])))\n",
    "pipelines.append(('ScaledCART', Pipeline([('Scaler', StandardScaler()),('CART',\n",
    "DecisionTreeClassifier())])))\n",
    "pipelines.append(('ScaledNB', Pipeline([('Scaler', StandardScaler()),('NB',\n",
    "GaussianNB())])))\n",
    "pipelines.append(('ScaledSVM', Pipeline([('Scaler', StandardScaler()),('SVM', SVC())])))\n",
    "results = []\n",
    "names = []\n",
    "for name, model in pipelines:\n",
    "  kfold = KFold(n_splits=num_folds)\n",
    "  cv_results = cross_val_score(model, X_train, Y_train, cv=kfold, scoring=scoring)\n",
    "  results.append(cv_results)\n",
    "  names.append(name)\n",
    "  msg = \"%s: %f (%f)\" % (name, cv_results.mean(), cv_results.std())\n",
    "  print(msg)"
   ]
  },
  {
   "cell_type": "code",
   "execution_count": 59,
   "metadata": {
    "colab": {
     "base_uri": "https://localhost:8080/",
     "height": 294
    },
    "id": "Rl6HuC6yvAlR",
    "outputId": "3c4dc1fb-6075-4d6f-dd5d-e734167e2d1a"
   },
   "outputs": [
    {
     "data": {
      "image/png": "[encoded data removed]",
      "text/plain": [
       "<Figure size 432x288 with 1 Axes>"
      ]
     },
     "metadata": {
      "tags": []
     },
     "output_type": "display_data"
    }
   ],
   "source": [
    "# Compare Algorithms\n",
    "fig = pyplot.figure()\n",
    "fig.suptitle('Scaled Algorithm Comparison')\n",
    "ax = fig.add_subplot(111)\n",
    "sns.set_style(\"darkgrid\")\n",
    "pyplot.boxplot(results)\n",
    "ax.set_xticklabels(names)\n",
    "pyplot.show()"
   ]
  },
  {
   "cell_type": "code",
   "execution_count": 61,
   "metadata": {
    "colab": {
     "base_uri": "https://localhost:8080/"
    },
    "id": "NdzYzP2204zU",
    "outputId": "7cfc2d97-dac0-4ec1-b3bb-86e13ad29882"
   },
   "outputs": [
    {
     "name": "stdout",
     "output_type": "stream",
     "text": [
      "ScaledLR: 0.612326 (0.228406)\n",
      "ScaledLDA: 0.613975 (0.224882)\n",
      "ScaledKNN: 0.845737 (0.144798)\n",
      "ScaledCART: 0.840958 (0.145026)\n",
      "ScaledNB: 0.607937 (0.241877)\n",
      "ScaledSVM: 0.782547 (0.172768)\n"
     ]
    }
   ],
   "source": [
    "# Run this for Standardized setting using f-beta scoring\n",
    "scoring = make_scorer(fbeta_score, beta=2)\n",
    "pipelines = []\n",
    "pipelines.append(('ScaledLR', Pipeline([('Scaler', StandardScaler()),('LR',\n",
    "LogisticRegression())])))\n",
    "pipelines.append(('ScaledLDA', Pipeline([('Scaler', StandardScaler()),('LDA',\n",
    "LinearDiscriminantAnalysis())])))\n",
    "pipelines.append(('ScaledKNN', Pipeline([('Scaler', StandardScaler()),('KNN',\n",
    "KNeighborsClassifier())])))\n",
    "pipelines.append(('ScaledCART', Pipeline([('Scaler', StandardScaler()),('CART',\n",
    "DecisionTreeClassifier())])))\n",
    "pipelines.append(('ScaledNB', Pipeline([('Scaler', StandardScaler()),('NB',\n",
    "GaussianNB())])))\n",
    "pipelines.append(('ScaledSVM', Pipeline([('Scaler', StandardScaler()),('SVM', SVC())])))\n",
    "results = []\n",
    "names = []\n",
    "for name, model in pipelines:\n",
    "  kfold = KFold(n_splits=num_folds)\n",
    "  cv_results = cross_val_score(model, X_train, Y_train, cv=kfold, scoring=scoring)\n",
    "  results.append(cv_results)\n",
    "  names.append(name)\n",
    "  msg = \"%s: %f (%f)\" % (name, cv_results.mean(), cv_results.std())\n",
    "  print(msg)"
   ]
  },
  {
   "cell_type": "code",
   "execution_count": 62,
   "metadata": {
    "colab": {
     "base_uri": "https://localhost:8080/",
     "height": 294
    },
    "id": "Opod_9vuY5Iy",
    "outputId": "a600935d-8415-450c-9a56-4364c5e9230a"
   },
   "outputs": [
    {
     "data": {
      "image/png": "[encoded data removed]",
      "text/plain": [
       "<Figure size 432x288 with 1 Axes>"
      ]
     },
     "metadata": {
      "tags": []
     },
     "output_type": "display_data"
    }
   ],
   "source": [
    "# Compare Algorithms\n",
    "fig = pyplot.figure()\n",
    "fig.suptitle('Scaled Algorithm Comparison')\n",
    "ax = fig.add_subplot(111)\n",
    "sns.set_style(\"darkgrid\")\n",
    "pyplot.boxplot(results)\n",
    "ax.set_xticklabels(names)\n",
    "pyplot.show()"
   ]
  },
  {
   "cell_type": "markdown",
   "metadata": {
    "id": "tg3h7OoWvTnR"
   },
   "source": [
    "### Decision Tree Classifier and KNN seem to perform the best in terms of accuracy\n",
    "\n",
    "#### We will therefore try to tune on \n",
    "\n",
    "\n",
    "*   KNN\n",
    "*   CART\n",
    "\n"
   ]
  },
  {
   "cell_type": "code",
   "execution_count": 28,
   "metadata": {
    "colab": {
     "base_uri": "https://localhost:8080/"
    },
    "id": "QkuAhaipvSqF",
    "outputId": "56002a16-9576-4e49-f5a2-49e1e7c3b38e"
   },
   "outputs": [
    {
     "name": "stdout",
     "output_type": "stream",
     "text": [
      "Best: 0.975257 using {'n_neighbors': 1}\n",
      "0.975257 (0.015341) with: {'n_neighbors': 1}\n",
      "0.965631 (0.023065) with: {'n_neighbors': 3}\n",
      "0.959171 (0.028011) with: {'n_neighbors': 5}\n",
      "0.956717 (0.031246) with: {'n_neighbors': 7}\n",
      "0.953358 (0.034174) with: {'n_neighbors': 9}\n",
      "0.949158 (0.035917) with: {'n_neighbors': 11}\n",
      "0.945347 (0.037464) with: {'n_neighbors': 13}\n",
      "0.943409 (0.038080) with: {'n_neighbors': 15}\n",
      "0.940695 (0.039864) with: {'n_neighbors': 17}\n",
      "0.938757 (0.040800) with: {'n_neighbors': 19}\n",
      "0.936366 (0.039528) with: {'n_neighbors': 21}\n"
     ]
    }
   ],
   "source": [
    "# Tune scaled KNN for accuracy metric\n",
    "scaler = StandardScaler().fit(X_train)\n",
    "rescaledX = scaler.transform(X_train)\n",
    "scoring = 'accuracy'\n",
    "neighbors = [1,3,5,7,9,11,13,15,17,19,21]\n",
    "param_grid = dict(n_neighbors=neighbors)\n",
    "model = KNeighborsClassifier()\n",
    "kfold = KFold(n_splits=num_folds)\n",
    "grid = GridSearchCV(estimator=model, param_grid=param_grid, scoring=scoring, cv=kfold)\n",
    "grid_result = grid.fit(rescaledX, Y_train)\n",
    "print(\"Best: %f using %s\" % (grid_result.best_score_, grid_result.best_params_))\n",
    "\n",
    "means = grid_result.cv_results_['mean_test_score']\n",
    "stds = grid_result.cv_results_['std_test_score']\n",
    "params = grid_result.cv_results_['params']\n",
    "for mean, stdev, param in zip(means, stds, params):\n",
    "  print(\"%f (%f) with: %r\" % (mean, stdev, param))"
   ]
  },
  {
   "cell_type": "code",
   "execution_count": 29,
   "metadata": {
    "colab": {
     "base_uri": "https://localhost:8080/"
    },
    "id": "3Y1gYX-HwaqE",
    "outputId": "75fa991c-f010-4fcd-a455-b8f083abb218"
   },
   "outputs": [
    {
     "name": "stdout",
     "output_type": "stream",
     "text": [
      "Best: 0.958458 using {'max_depth': 10}\n",
      "0.819161 (0.021191) with: {'max_depth': 2}\n",
      "0.839967 (0.025676) with: {'max_depth': 3}\n",
      "0.909164 (0.024645) with: {'max_depth': 4}\n",
      "0.919565 (0.016374) with: {'max_depth': 5}\n",
      "0.934294 (0.010233) with: {'max_depth': 6}\n",
      "0.942693 (0.008703) with: {'max_depth': 7}\n",
      "0.951609 (0.015784) with: {'max_depth': 8}\n",
      "0.953548 (0.014596) with: {'max_depth': 9}\n",
      "0.958458 (0.012418) with: {'max_depth': 10}\n"
     ]
    }
   ],
   "source": [
    "# Tune Decision Tree Classifier\n",
    "scaler = StandardScaler().fit(X_train)\n",
    "rescaledX = scaler.transform(X_train)\n",
    "tree_depth = [2,3,4,5,6,7,8,9,10]\n",
    "param_grid = dict(max_depth=tree_depth)\n",
    "model = DecisionTreeClassifier()\n",
    "kfold = KFold(n_splits=num_folds)\n",
    "grid = GridSearchCV(estimator=model, param_grid=param_grid, scoring=scoring, cv=kfold)\n",
    "grid_result = grid.fit(rescaledX,Y_train)\n",
    "print(\"Best: %f using %s\" % (grid_result.best_score_,grid_result.best_params_))\n",
    "\n",
    "means = grid_result.cv_results_['mean_test_score']\n",
    "stds = grid_result.cv_results_['std_test_score']\n",
    "params = grid_result.cv_results_['params']\n",
    "for mean, stdev, param in zip(means, stds, params):\n",
    "  print(\"%f (%f) with: %r\" % (mean, stdev, param))"
   ]
  },
  {
   "cell_type": "code",
   "execution_count": 30,
   "metadata": {
    "colab": {
     "base_uri": "https://localhost:8080/"
    },
    "id": "MOT2gKdZ1YR0",
    "outputId": "517c2ed9-fbb6-4b18-a1a7-298a8fc4ca26"
   },
   "outputs": [
    {
     "name": "stdout",
     "output_type": "stream",
     "text": [
      "Best: 0.834233 using {'max_depth': 10}\n",
      "0.626823 (0.221277) with: {'max_depth': 2}\n",
      "0.656182 (0.195052) with: {'max_depth': 3}\n",
      "0.742447 (0.203141) with: {'max_depth': 4}\n",
      "0.764669 (0.182220) with: {'max_depth': 5}\n",
      "0.797197 (0.155514) with: {'max_depth': 6}\n",
      "0.798904 (0.162081) with: {'max_depth': 7}\n",
      "0.811613 (0.162540) with: {'max_depth': 8}\n",
      "0.821238 (0.154916) with: {'max_depth': 9}\n",
      "0.834233 (0.144534) with: {'max_depth': 10}\n"
     ]
    }
   ],
   "source": [
    "# For f-beta scoring\n",
    "scoring = make_scorer(fbeta_score, beta=2)\n",
    "# Tune Decision Tree Classifier\n",
    "scaler = StandardScaler().fit(X_train)\n",
    "rescaledX = scaler.transform(X_train)\n",
    "tree_depth = [2,3,4,5,6,7,8,9,10]\n",
    "param_grid = dict(max_depth=tree_depth)\n",
    "model = DecisionTreeClassifier()\n",
    "kfold = KFold(n_splits=num_folds)\n",
    "grid = GridSearchCV(estimator=model, param_grid=param_grid, scoring=scoring, cv=kfold)\n",
    "grid_result = grid.fit(rescaledX,Y_train)\n",
    "print(\"Best: %f using %s\" % (grid_result.best_score_,grid_result.best_params_))\n",
    "\n",
    "means = grid_result.cv_results_['mean_test_score']\n",
    "stds = grid_result.cv_results_['std_test_score']\n",
    "params = grid_result.cv_results_['params']\n",
    "for mean, stdev, param in zip(means, stds, params):\n",
    "  print(\"%f (%f) with: %r\" % (mean, stdev, param))"
   ]
  },
  {
   "cell_type": "markdown",
   "metadata": {
    "id": "93MrvXfMqzLq"
   },
   "source": [
    "### Ensemble methods"
   ]
  },
  {
   "cell_type": "code",
   "execution_count": 31,
   "metadata": {
    "colab": {
     "base_uri": "https://localhost:8080/"
    },
    "id": "noWyxpGHrBI9",
    "outputId": "27d51c6f-bb26-42ef-d0ea-6388cfaab902"
   },
   "outputs": [
    {
     "name": "stdout",
     "output_type": "stream",
     "text": [
      "AB: 0.931905 (0.008925)\n",
      "GBM: 0.958653 (0.017069)\n",
      "RF: 0.981071 (0.010164)\n",
      "ET: 0.985981 (0.008422)\n"
     ]
    }
   ],
   "source": [
    "# ensembles\n",
    "scoring = 'accuracy'\n",
    "ensembles = []\n",
    "ensembles.append(('AB', AdaBoostClassifier()))\n",
    "ensembles.append(('GBM', GradientBoostingClassifier()))\n",
    "ensembles.append(('RF', RandomForestClassifier()))\n",
    "ensembles.append(('ET', ExtraTreesClassifier()))\n",
    "results = []\n",
    "names = []\n",
    "for name, model in ensembles:\n",
    "  kfold = KFold(n_splits=num_folds)\n",
    "  cv_results = cross_val_score(model, X_train, Y_train, cv=kfold, scoring=scoring)\n",
    "  results.append(cv_results)\n",
    "  names.append(name)\n",
    "  msg = \"%s: %f (%f)\" % (name, cv_results.mean(), cv_results.std())\n",
    "  print(msg)"
   ]
  },
  {
   "cell_type": "code",
   "execution_count": 55,
   "metadata": {
    "colab": {
     "base_uri": "https://localhost:8080/"
    },
    "id": "tbFc0Aok1k44",
    "outputId": "a1eb303e-492c-4961-f8b4-a921b24d2463"
   },
   "outputs": [
    {
     "name": "stdout",
     "output_type": "stream",
     "text": [
      "AB: 0.771686 (0.181383)\n",
      "GBM: 0.827827 (0.153449)\n",
      "RF: 0.903610 (0.093298)\n",
      "ET: 0.937381 (0.058075)\n"
     ]
    }
   ],
   "source": [
    "#ensemble for f-beta score\n",
    "scoring = make_scorer(fbeta_score, beta=2)\n",
    "# ensembles\n",
    "ensembles = []\n",
    "ensembles.append(('AB', AdaBoostClassifier()))\n",
    "ensembles.append(('GBM', GradientBoostingClassifier()))\n",
    "ensembles.append(('RF', RandomForestClassifier()))\n",
    "ensembles.append(('ET', ExtraTreesClassifier()))\n",
    "results = []\n",
    "names = []\n",
    "for name, model in ensembles:\n",
    "  kfold = KFold(n_splits=num_folds)\n",
    "  cv_results = cross_val_score(model, X_train, Y_train, cv=kfold, scoring=scoring)\n",
    "  results.append(cv_results)\n",
    "  names.append(name)\n",
    "  msg = \"%s: %f (%f)\" % (name, cv_results.mean(), cv_results.std())\n",
    "  print(msg)"
   ]
  },
  {
   "cell_type": "code",
   "execution_count": 56,
   "metadata": {
    "colab": {
     "base_uri": "https://localhost:8080/",
     "height": 294
    },
    "id": "PRaZ51-TrnkH",
    "outputId": "a4567dbf-ce14-48ba-cb7f-5dd5eb4d69fd"
   },
   "outputs": [
    {
     "data": {
      "image/png": "[encoded data removed]",
      "text/plain": [
       "<Figure size 432x288 with 1 Axes>"
      ]
     },
     "metadata": {
      "tags": []
     },
     "output_type": "display_data"
    }
   ],
   "source": [
    "# Compare Algorithms\n",
    "fig = pyplot.figure()\n",
    "fig.suptitle('Ensemble Algorithm Comparison')\n",
    "ax = fig.add_subplot(111)\n",
    "sns.set_style(\"darkgrid\")\n",
    "pyplot.boxplot(results)\n",
    "ax.set_xticklabels(names)\n",
    "pyplot.show()"
   ]
  },
  {
   "cell_type": "markdown",
   "metadata": {
    "id": "sjM8tKHkTjF-"
   },
   "source": [
    "### Fine Tuning Extra Tree Regressor"
   ]
  },
  {
   "cell_type": "code",
   "execution_count": 67,
   "metadata": {
    "colab": {
     "base_uri": "https://localhost:8080/"
    },
    "id": "Uv0l6TmeTnRX",
    "outputId": "09ee242f-877c-42f5-c6d7-8ced22158801"
   },
   "outputs": [
    {
     "name": "stdout",
     "output_type": "stream",
     "text": [
      "Best: 0.934006 using {'min_samples_leaf': 1, 'n_estimators': 100}\n",
      "0.934006 (0.061338) with: {'min_samples_leaf': 1, 'n_estimators': 100}\n"
     ]
    }
   ],
   "source": [
    "#ensemble for f-beta score\n",
    "scoring = make_scorer(fbeta_score, beta=2)\n",
    "# Tune GBM to accuracy\n",
    "scaler = StandardScaler().fit(X_train)\n",
    "rescaledX = scaler.transform(X_train)\n",
    "estimator = [100]\n",
    "minimum_sample_leaf = [1]\n",
    "param_grid = dict(n_estimators=estimator, min_samples_leaf=minimum_sample_leaf)\n",
    "model = ExtraTreesClassifier()\n",
    "kfold = KFold(n_splits=num_folds)\n",
    "grid = GridSearchCV(estimator=model, param_grid=param_grid, scoring=scoring, cv=kfold)\n",
    "grid_result = grid.fit(rescaledX,Y_train) #rescaledX\n",
    "print(\"Best: %f using %s\" % (grid_result.best_score_,grid_result.best_params_))\n",
    "\n",
    "means = grid_result.cv_results_['mean_test_score']\n",
    "stds = grid_result.cv_results_['std_test_score']\n",
    "params = grid_result.cv_results_['params']\n",
    "for mean, stdev, param in zip(means, stds, params):\n",
    "  print(\"%f (%f) with: %r\" % (mean, stdev, param))"
   ]
  },
  {
   "cell_type": "markdown",
   "metadata": {
    "id": "93uLFfBYeFhE"
   },
   "source": [
    "### Confusion Matrix for ET"
   ]
  },
  {
   "cell_type": "code",
   "execution_count": 69,
   "metadata": {
    "colab": {
     "base_uri": "https://localhost:8080/",
     "height": 504
    },
    "id": "otitC7CJeIXC",
    "outputId": "68801829-8cca-4cf0-f0b4-122e2fb110ba"
   },
   "outputs": [
    {
     "name": "stdout",
     "output_type": "stream",
     "text": [
      "0.9675\n",
      "[[1877   45]\n",
      " [  20   58]]\n",
      "              precision    recall  f1-score   support\n",
      "\n",
      "         0.0       0.99      0.98      0.98      1922\n",
      "         1.0       0.56      0.74      0.64        78\n",
      "\n",
      "    accuracy                           0.97      2000\n",
      "   macro avg       0.78      0.86      0.81      2000\n",
      "weighted avg       0.97      0.97      0.97      2000\n",
      "\n"
     ]
    },
    {
     "data": {
      "text/plain": [
       "<matplotlib.axes._subplots.AxesSubplot at 0x7f8b99bb2890>"
      ]
     },
     "execution_count": 69,
     "metadata": {
      "tags": []
     },
     "output_type": "execute_result"
    },
    {
     "data": {
      "image/png": "[encoded data removed]",
      "text/plain": [
       "<Figure size 432x288 with 2 Axes>"
      ]
     },
     "metadata": {
      "tags": []
     },
     "output_type": "display_data"
    }
   ],
   "source": [
    "# prepare the model\n",
    "scaler = StandardScaler().fit(X_train)\n",
    "rescaledX = scaler.transform(X_train)\n",
    "model = ExtraTreesClassifier(n_estimators=100, min_samples_leaf=1)\n",
    "model.fit(rescaledX, Y_train)\n",
    "# estimate accuracy on validation dataset\n",
    "rescaledValidationX = scaler.transform(X_validation)\n",
    "predictions = model.predict(rescaledValidationX)\n",
    "cf_matrix = confusion_matrix(Y_validation, predictions)\n",
    "print(accuracy_score(Y_validation, predictions))\n",
    "print(cf_matrix)\n",
    "print(classification_report(Y_validation, predictions))\n",
    "sns.heatmap(cf_matrix/np.sum(cf_matrix),annot=True, fmt='.2%',cmap='Blues')"
   ]
  },
  {
   "cell_type": "code",
   "execution_count": 78,
   "metadata": {
    "colab": {
     "base_uri": "https://localhost:8080/",
     "height": 422
    },
    "id": "L0PC-8BuefGn",
    "outputId": "320ea4c5-cb72-45d6-b208-a7d8fed6fd4e"
   },
   "outputs": [
    {
     "data": {
      "text/plain": [
       "Text(0.5, 33.0, 'Predicted Label')"
      ]
     },
     "execution_count": 78,
     "metadata": {
      "tags": []
     },
     "output_type": "execute_result"
    },
    {
     "data": {
      "image/png": "[encoded data removed]",
      "text/plain": [
       "<Figure size 576x432 with 2 Axes>"
      ]
     },
     "metadata": {
      "tags": []
     },
     "output_type": "display_data"
    }
   ],
   "source": [
    "group_names = ['True Neg','False Pos','False Neg','True Pos']\n",
    "group_counts = ['{0:0.0f}'.format(value) for value in cf_matrix.flatten()]\n",
    "group_percentages = ['{0:.2%}'.format(value) for value in cf_matrix.flatten()/np.sum(cf_matrix)]\n",
    "labels = [f'{v1}\\n{v2}\\n{v3}' for v1, v2, v3 in zip(group_names,group_counts,group_percentages)]\n",
    "labels = np.asarray(labels).reshape(2,2)\n",
    "\n",
    "f,ax = plt.subplots(1,1,figsize=(8,6))\n",
    "\n",
    "sns.heatmap(cf_matrix, annot=labels, fmt='', cmap= 'Purples')\n",
    "ax.xaxis.set_ticklabels(['Operational', 'Failure']); \n",
    "ax.yaxis.set_ticklabels(['Operational', 'Failure']);\n",
    "plt.title('Machine Failure Confusion Matrix')\n",
    "plt.ylabel('True Label')\n",
    "plt.xlabel('Predicted Label')"
   ]
  },
  {
   "cell_type": "markdown",
   "metadata": {
    "id": "qSzKxhndtFUs"
   },
   "source": [
    "### Fine Tuning GBM"
   ]
  },
  {
   "cell_type": "code",
   "execution_count": 34,
   "metadata": {
    "colab": {
     "base_uri": "https://localhost:8080/"
    },
    "id": "Ds2ez-8ztLg9",
    "outputId": "53b8530e-55b8-4fe3-fef8-584055130f9a"
   },
   "outputs": [
    {
     "name": "stdout",
     "output_type": "stream",
     "text": [
      "Best: 0.984430 using {'max_depth': 9, 'min_samples_leaf': 30}\n",
      "0.933263 (0.019679) with: {'max_depth': 2, 'min_samples_leaf': 10}\n",
      "0.932682 (0.019487) with: {'max_depth': 2, 'min_samples_leaf': 20}\n",
      "0.933328 (0.020362) with: {'max_depth': 2, 'min_samples_leaf': 30}\n",
      "0.932488 (0.019343) with: {'max_depth': 2, 'min_samples_leaf': 50}\n",
      "0.958266 (0.018152) with: {'max_depth': 3, 'min_samples_leaf': 10}\n",
      "0.959687 (0.017020) with: {'max_depth': 3, 'min_samples_leaf': 20}\n",
      "0.958589 (0.017119) with: {'max_depth': 3, 'min_samples_leaf': 30}\n",
      "0.958395 (0.016543) with: {'max_depth': 3, 'min_samples_leaf': 50}\n",
      "0.968021 (0.013127) with: {'max_depth': 4, 'min_samples_leaf': 10}\n",
      "0.968021 (0.013222) with: {'max_depth': 4, 'min_samples_leaf': 20}\n",
      "0.968086 (0.012869) with: {'max_depth': 4, 'min_samples_leaf': 30}\n",
      "0.967698 (0.013205) with: {'max_depth': 4, 'min_samples_leaf': 50}\n",
      "0.975321 (0.009824) with: {'max_depth': 5, 'min_samples_leaf': 10}\n",
      "0.974610 (0.010423) with: {'max_depth': 5, 'min_samples_leaf': 20}\n",
      "0.974933 (0.008930) with: {'max_depth': 5, 'min_samples_leaf': 30}\n",
      "0.973577 (0.010740) with: {'max_depth': 5, 'min_samples_leaf': 50}\n",
      "0.978487 (0.008367) with: {'max_depth': 6, 'min_samples_leaf': 10}\n",
      "0.978163 (0.008765) with: {'max_depth': 6, 'min_samples_leaf': 20}\n",
      "0.977711 (0.009370) with: {'max_depth': 6, 'min_samples_leaf': 30}\n",
      "0.976613 (0.009696) with: {'max_depth': 6, 'min_samples_leaf': 50}\n",
      "0.981458 (0.008216) with: {'max_depth': 7, 'min_samples_leaf': 10}\n",
      "0.981394 (0.008742) with: {'max_depth': 7, 'min_samples_leaf': 20}\n",
      "0.980295 (0.008084) with: {'max_depth': 7, 'min_samples_leaf': 30}\n",
      "0.979068 (0.008848) with: {'max_depth': 7, 'min_samples_leaf': 50}\n",
      "0.983526 (0.008110) with: {'max_depth': 8, 'min_samples_leaf': 10}\n",
      "0.982944 (0.008248) with: {'max_depth': 8, 'min_samples_leaf': 20}\n",
      "0.982427 (0.007947) with: {'max_depth': 8, 'min_samples_leaf': 30}\n",
      "0.981071 (0.009537) with: {'max_depth': 8, 'min_samples_leaf': 50}\n",
      "0.984236 (0.007736) with: {'max_depth': 9, 'min_samples_leaf': 10}\n",
      "0.984301 (0.007041) with: {'max_depth': 9, 'min_samples_leaf': 20}\n",
      "0.984430 (0.007568) with: {'max_depth': 9, 'min_samples_leaf': 30}\n",
      "0.982686 (0.008475) with: {'max_depth': 9, 'min_samples_leaf': 50}\n",
      "0.984043 (0.007869) with: {'max_depth': 10, 'min_samples_leaf': 10}\n",
      "0.984301 (0.007129) with: {'max_depth': 10, 'min_samples_leaf': 20}\n",
      "0.984430 (0.006734) with: {'max_depth': 10, 'min_samples_leaf': 30}\n",
      "0.983655 (0.009176) with: {'max_depth': 10, 'min_samples_leaf': 50}\n"
     ]
    }
   ],
   "source": [
    "# Tune GBM to accuracy\n",
    "scoring = 'accuracy'\n",
    "scaler = StandardScaler().fit(X_train)\n",
    "rescaledX = scaler.transform(X_train)\n",
    "tree_depth = [2,3,4,5,6,7,8,9,10]\n",
    "minimum_sample_leaf = [10,20,30,50]\n",
    "param_grid = dict(max_depth=tree_depth, min_samples_leaf=minimum_sample_leaf)\n",
    "model = GradientBoostingClassifier()\n",
    "kfold = KFold(n_splits=num_folds)\n",
    "grid = GridSearchCV(estimator=model, param_grid=param_grid, scoring=scoring, cv=kfold)\n",
    "grid_result = grid.fit(rescaledX,Y_train)\n",
    "print(\"Best: %f using %s\" % (grid_result.best_score_,grid_result.best_params_))\n",
    "\n",
    "means = grid_result.cv_results_['mean_test_score']\n",
    "stds = grid_result.cv_results_['std_test_score']\n",
    "params = grid_result.cv_results_['params']\n",
    "for mean, stdev, param in zip(means, stds, params):\n",
    "  print(\"%f (%f) with: %r\" % (mean, stdev, param))"
   ]
  },
  {
   "cell_type": "code",
   "execution_count": 35,
   "metadata": {
    "colab": {
     "base_uri": "https://localhost:8080/"
    },
    "id": "r5dUIrOX6ZTf",
    "outputId": "cde8607e-7f0e-4487-fa6d-278521734b08"
   },
   "outputs": [
    {
     "name": "stdout",
     "output_type": "stream",
     "text": [
      "Best: 0.910278 using {'max_depth': 10, 'min_samples_leaf': 20}\n",
      "0.784583 (0.177651) with: {'max_depth': 2, 'min_samples_leaf': 10}\n",
      "0.785011 (0.176837) with: {'max_depth': 2, 'min_samples_leaf': 20}\n",
      "0.784344 (0.178743) with: {'max_depth': 2, 'min_samples_leaf': 30}\n",
      "0.782728 (0.178905) with: {'max_depth': 2, 'min_samples_leaf': 50}\n",
      "0.827899 (0.153776) with: {'max_depth': 3, 'min_samples_leaf': 10}\n",
      "0.830718 (0.151455) with: {'max_depth': 3, 'min_samples_leaf': 20}\n",
      "0.830786 (0.150313) with: {'max_depth': 3, 'min_samples_leaf': 30}\n",
      "0.827664 (0.152989) with: {'max_depth': 3, 'min_samples_leaf': 50}\n",
      "0.853544 (0.131786) with: {'max_depth': 4, 'min_samples_leaf': 10}\n",
      "0.853435 (0.132427) with: {'max_depth': 4, 'min_samples_leaf': 20}\n",
      "0.853127 (0.132987) with: {'max_depth': 4, 'min_samples_leaf': 30}\n",
      "0.850622 (0.136531) with: {'max_depth': 4, 'min_samples_leaf': 50}\n",
      "0.874998 (0.117714) with: {'max_depth': 5, 'min_samples_leaf': 10}\n",
      "0.868788 (0.122097) with: {'max_depth': 5, 'min_samples_leaf': 20}\n",
      "0.877766 (0.112185) with: {'max_depth': 5, 'min_samples_leaf': 30}\n",
      "0.867425 (0.123140) with: {'max_depth': 5, 'min_samples_leaf': 50}\n",
      "0.886856 (0.107839) with: {'max_depth': 6, 'min_samples_leaf': 10}\n",
      "0.886705 (0.106852) with: {'max_depth': 6, 'min_samples_leaf': 20}\n",
      "0.881545 (0.111510) with: {'max_depth': 6, 'min_samples_leaf': 30}\n",
      "0.874840 (0.118610) with: {'max_depth': 6, 'min_samples_leaf': 50}\n",
      "0.892219 (0.104558) with: {'max_depth': 7, 'min_samples_leaf': 10}\n",
      "0.897086 (0.099366) with: {'max_depth': 7, 'min_samples_leaf': 20}\n",
      "0.887350 (0.107150) with: {'max_depth': 7, 'min_samples_leaf': 30}\n",
      "0.887097 (0.106058) with: {'max_depth': 7, 'min_samples_leaf': 50}\n",
      "0.896346 (0.101171) with: {'max_depth': 8, 'min_samples_leaf': 10}\n",
      "0.901835 (0.096705) with: {'max_depth': 8, 'min_samples_leaf': 20}\n",
      "0.899836 (0.095097) with: {'max_depth': 8, 'min_samples_leaf': 30}\n",
      "0.893818 (0.104421) with: {'max_depth': 8, 'min_samples_leaf': 50}\n",
      "0.904815 (0.091950) with: {'max_depth': 9, 'min_samples_leaf': 10}\n",
      "0.907717 (0.089878) with: {'max_depth': 9, 'min_samples_leaf': 20}\n",
      "0.898774 (0.098488) with: {'max_depth': 9, 'min_samples_leaf': 30}\n",
      "0.899412 (0.095310) with: {'max_depth': 9, 'min_samples_leaf': 50}\n",
      "0.903131 (0.095718) with: {'max_depth': 10, 'min_samples_leaf': 10}\n",
      "0.910278 (0.089024) with: {'max_depth': 10, 'min_samples_leaf': 20}\n",
      "0.904251 (0.094158) with: {'max_depth': 10, 'min_samples_leaf': 30}\n",
      "0.908354 (0.087602) with: {'max_depth': 10, 'min_samples_leaf': 50}\n"
     ]
    }
   ],
   "source": [
    "#ensemble for f-beta score\n",
    "scoring = make_scorer(fbeta_score, beta=2)\n",
    "# Tune GBM to accuracy\n",
    "scaler = StandardScaler().fit(X_train)\n",
    "rescaledX = scaler.transform(X_train)\n",
    "tree_depth = [2,3,4,5,6,7,8,9,10]\n",
    "minimum_sample_leaf = [10,20,30,50]\n",
    "param_grid = dict(max_depth=tree_depth, min_samples_leaf=minimum_sample_leaf)\n",
    "model = GradientBoostingClassifier()\n",
    "kfold = KFold(n_splits=num_folds)\n",
    "grid = GridSearchCV(estimator=model, param_grid=param_grid, scoring=scoring, cv=kfold)\n",
    "grid_result = grid.fit(rescaledX,Y_train)\n",
    "print(\"Best: %f using %s\" % (grid_result.best_score_,grid_result.best_params_))\n",
    "\n",
    "means = grid_result.cv_results_['mean_test_score']\n",
    "stds = grid_result.cv_results_['std_test_score']\n",
    "params = grid_result.cv_results_['params']\n",
    "for mean, stdev, param in zip(means, stds, params):\n",
    "  print(\"%f (%f) with: %r\" % (mean, stdev, param))"
   ]
  },
  {
   "cell_type": "markdown",
   "metadata": {
    "id": "V1Jqj2qgr3hb"
   },
   "source": [
    "### Final Model Performance\n",
    "#### Gradient Boosting"
   ]
  },
  {
   "cell_type": "code",
   "execution_count": 36,
   "metadata": {
    "colab": {
     "base_uri": "https://localhost:8080/",
     "height": 504
    },
    "id": "etk7poCDr7fP",
    "outputId": "cc379446-dba5-4242-e7d0-bd98a1270603"
   },
   "outputs": [
    {
     "name": "stdout",
     "output_type": "stream",
     "text": [
      "0.9645\n",
      "[[1872   50]\n",
      " [  21   57]]\n",
      "              precision    recall  f1-score   support\n",
      "\n",
      "         0.0       0.99      0.97      0.98      1922\n",
      "         1.0       0.53      0.73      0.62        78\n",
      "\n",
      "    accuracy                           0.96      2000\n",
      "   macro avg       0.76      0.85      0.80      2000\n",
      "weighted avg       0.97      0.96      0.97      2000\n",
      "\n"
     ]
    },
    {
     "data": {
      "text/plain": [
       "<matplotlib.axes._subplots.AxesSubplot at 0x7f8b9a89e490>"
      ]
     },
     "execution_count": 36,
     "metadata": {
      "tags": []
     },
     "output_type": "execute_result"
    },
    {
     "data": {
      "image/png": "[encoded data removed]",
      "text/plain": [
       "<Figure size 432x288 with 2 Axes>"
      ]
     },
     "metadata": {
      "needs_background": "light",
      "tags": []
     },
     "output_type": "display_data"
    }
   ],
   "source": [
    "# prepare the model\n",
    "scaler = StandardScaler().fit(X_train)\n",
    "rescaledX = scaler.transform(X_train)\n",
    "model = GradientBoostingClassifier(max_depth=10,min_samples_leaf=10)\n",
    "model.fit(rescaledX, Y_train)\n",
    "# estimate accuracy on validation dataset\n",
    "rescaledValidationX = scaler.transform(X_validation)\n",
    "predictions = model.predict(rescaledValidationX)\n",
    "cf_matrix = confusion_matrix(Y_validation, predictions)\n",
    "print(accuracy_score(Y_validation, predictions))\n",
    "print(cf_matrix)\n",
    "print(classification_report(Y_validation, predictions))\n",
    "sns.heatmap(cf_matrix/np.sum(cf_matrix),annot=True, fmt='.2%',cmap='Blues')"
   ]
  },
  {
   "cell_type": "code",
   "execution_count": 49,
   "metadata": {
    "colab": {
     "base_uri": "https://localhost:8080/",
     "height": 422
    },
    "id": "Xebtr5-pBNpK",
    "outputId": "f3132ed6-0980-4f53-e3a2-c2ea6432a9a6"
   },
   "outputs": [
    {
     "data": {
      "text/plain": [
       "Text(0.5, 33.0, 'Predicted Label')"
      ]
     },
     "execution_count": 49,
     "metadata": {
      "tags": []
     },
     "output_type": "execute_result"
    },
    {
     "data": {
      "image/png": "[encoded data removed]",
      "text/plain": [
       "<Figure size 576x432 with 2 Axes>"
      ]
     },
     "metadata": {
      "needs_background": "light",
      "tags": []
     },
     "output_type": "display_data"
    }
   ],
   "source": [
    "group_names = ['True Neg','False Pos','False Neg','True Pos']\n",
    "group_counts = ['{0:0.0f}'.format(value) for value in cf_matrix.flatten()]\n",
    "group_percentages = ['{0:.2%}'.format(value) for value in cf_matrix.flatten()/np.sum(cf_matrix)]\n",
    "labels = [f'{v1}\\n{v2}\\n{v3}' for v1, v2, v3 in zip(group_names,group_counts,group_percentages)]\n",
    "labels = np.asarray(labels).reshape(2,2)\n",
    "\n",
    "f,ax = plt.subplots(1,1,figsize=(8,6))\n",
    "\n",
    "sns.heatmap(cf_matrix, annot=labels, fmt='', cmap= 'Blues')\n",
    "ax.xaxis.set_ticklabels(['Operational', 'Failure']); \n",
    "ax.yaxis.set_ticklabels(['Operational', 'Failure']);\n",
    "plt.title('Machine Failure Confusion Matrix')\n",
    "plt.ylabel('True Label')\n",
    "plt.xlabel('Predicted Label')\n"
   ]
  }
 ],
 "metadata": {
  "colab": {
   "collapsed_sections": [],
   "name": "RUETPaper.ipynb",
   "provenance": []
  },
  "kernelspec": {
   "display_name": "Python 3",
   "language": "python",
   "name": "python3"
  },
  "language_info": {
   "codemirror_mode": {
    "name": "ipython",
    "version": 3
   },
   "file_extension": ".py",
   "mimetype": "text/x-python",
   "name": "python",
   "nbconvert_exporter": "python",
   "pygments_lexer": "ipython3",
   "version": "3.7.0"
  }
 },
 "nbformat": 4,
 "nbformat_minor": 1
}
