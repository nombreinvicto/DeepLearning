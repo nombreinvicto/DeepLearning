{
 "cells": [
  {
   "cell_type": "code",
   "execution_count": 4,
   "metadata": {
    "collapsed": true
   },
   "outputs": [],
   "source": [
    "import os\n",
    "import numpy as np"
   ]
  },
  {
   "cell_type": "code",
   "execution_count": 5,
   "outputs": [],
   "source": [
    "cwd = os.getcwd()\n",
    "data_dir_raw = f\"{cwd}//combined_dataset\"\n",
    "dump_dir = f\"{data_dir_raw}//processed\""
   ],
   "metadata": {
    "collapsed": false,
    "pycharm": {
     "name": "#%%\n"
    }
   }
  },
  {
   "cell_type": "code",
   "execution_count": 6,
   "outputs": [],
   "source": [
    "part_types = ['bearing', 'bolt', 'collet', 'spring', 'sprocket']\n",
    "\n",
    "for part_type in part_types:\n",
    "\n",
    "    with open(f\"{data_dir_raw}//{part_type}.txt\", 'r') as f:\n",
    "        contents = f.read()\n",
    "    lines = contents.split(\"\\n\")\n",
    "\n",
    "    # get the sentences\n",
    "    sentences = []\n",
    "    for line in lines:\n",
    "        temp_sentences = line.split(\".\")\n",
    "\n",
    "        #\n",
    "        for sent_ in temp_sentences:\n",
    "            if sent_ and len(sent_) > 2:\n",
    "                sentences.append(sent_)\n",
    "\n",
    "    sentences = np.asarray(sentences)\n",
    "\n",
    "    # now store them in new text file\n",
    "    with open(f\"{dump_dir}//{part_type}.txt\", \"a\") as file:\n",
    "        for sentence in sentences:\n",
    "            file.write(sentence+\"\\n\")"
   ],
   "metadata": {
    "collapsed": false,
    "pycharm": {
     "name": "#%%\n"
    }
   }
  },
  {
   "cell_type": "code",
   "execution_count": 10,
   "outputs": [],
   "source": [],
   "metadata": {
    "collapsed": false,
    "pycharm": {
     "name": "#%%\n"
    }
   }
  }
 ],
 "metadata": {
  "kernelspec": {
   "display_name": "Python 3",
   "language": "python",
   "name": "python3"
  },
  "language_info": {
   "codemirror_mode": {
    "name": "ipython",
    "version": 2
   },
   "file_extension": ".py",
   "mimetype": "text/x-python",
   "name": "python",
   "nbconvert_exporter": "python",
   "pygments_lexer": "ipython2",
   "version": "2.7.6"
  }
 },
 "nbformat": 4,
 "nbformat_minor": 0
}