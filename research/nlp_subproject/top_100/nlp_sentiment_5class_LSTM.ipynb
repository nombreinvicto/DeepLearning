{
 "cells": [
  {
   "cell_type": "code",
   "execution_count": 36,
   "metadata": {
    "collapsed": true
   },
   "outputs": [],
   "source": [
    "import numpy as np\n",
    "import pandas as pd\n",
    "import seaborn as sns\n",
    "import matplotlib.pyplot as plt\n",
    "from matplotlib.figure import Figure\n",
    "import matplotlib.axes._axes as axes\n",
    "sns.set()\n",
    "import nltk\n",
    "import string\n",
    "import random"
   ]
  },
  {
   "cell_type": "code",
   "execution_count": 37,
   "outputs": [],
   "source": [
    "from tensorflow.keras.preprocessing.text import Tokenizer\n",
    "from tensorflow.keras.preprocessing.sequence import pad_sequences\n"
   ],
   "metadata": {
    "collapsed": false,
    "pycharm": {
     "name": "#%%\n"
    }
   }
  },
  {
   "cell_type": "code",
   "execution_count": 38,
   "outputs": [],
   "source": [
    "# import the necessary packages\n",
    "from sklearn.preprocessing import LabelBinarizer\n",
    "from sklearn.model_selection import train_test_split\n",
    "from sklearn.metrics import classification_report, confusion_matrix\n",
    "##\n",
    "from tensorflow.keras.layers import Conv2D, Activation, Flatten, Dense, \\\n",
    "    Embedding, GlobalAveragePooling1D, Bidirectional, LSTM, \\\n",
    "    BatchNormalization, Conv1D\n",
    "from tensorflow.keras.optimizers import RMSprop, SGD, Adam\n",
    "from tensorflow.keras.layers import Input\n",
    "from tensorflow.keras.models import load_model\n",
    "from tensorflow.keras.models import Model, Sequential\n"
   ],
   "metadata": {
    "collapsed": false,
    "pycharm": {
     "name": "#%%\n"
    }
   }
  },
  {
   "cell_type": "code",
   "execution_count": 39,
   "outputs": [],
   "source": [
    "# setting global variables\n",
    "dbBase = r\"C:\\Users\\mhasa\\Google Drive\\Tutorial Corner\\PYTH\\PyCharm Projects\\DeepLearning\\research\\nlp_subproject\\top_100\\combined_dataset\\mcmaster_processed_lemmatised\"\n",
    "save_path = r\"C:\\Users\\mhasa\\AppData\\Roaming\\Autodesk\\Autodesk Fusion 360\\MyScripts\\PureFlask_3JS_server\\flask_app\\nlp_model\"\n",
    "\n",
    "all_sentences = []\n",
    "all_labels = []"
   ],
   "metadata": {
    "collapsed": false,
    "pycharm": {
     "name": "#%%\n"
    }
   }
  },
  {
   "cell_type": "code",
   "execution_count": 40,
   "outputs": [],
   "source": [
    "# reading the words from file and creating a dataset\n",
    "types = ['bearing', 'bolt', 'collet', 'spring', 'sprocket']\n",
    "class_num = len(types)\n",
    "\n",
    "for label, type in enumerate(types):\n",
    "\n",
    "    with open(f\"{dbBase}//{type}.txt\", mode='r') as partFile:\n",
    "        content = partFile.readlines()\n",
    "        content = [c.replace(\"\\n\", \"\") for c in content]\n",
    "\n",
    "        all_sentences.extend(content)\n",
    "        all_labels.extend([label] * len(content))\n",
    "\n",
    "all_sentences = np.array(all_sentences)\n",
    "all_labels = np.array(all_labels)"
   ],
   "metadata": {
    "collapsed": false,
    "pycharm": {
     "name": "#%%\n"
    }
   }
  },
  {
   "cell_type": "code",
   "execution_count": 41,
   "outputs": [],
   "source": [
    "# binarize the labels\n",
    "le = LabelBinarizer()\n",
    "all_labels = le.fit_transform(all_labels)"
   ],
   "metadata": {
    "collapsed": false,
    "pycharm": {
     "name": "#%%\n"
    }
   }
  },
  {
   "cell_type": "code",
   "execution_count": 42,
   "outputs": [],
   "source": [
    "epoch_no = 25\n",
    "vocab_size = 1300\n",
    "embedding_dim = 16\n",
    "max_length = 20\n",
    "trunc_type = \"post\"\n",
    "oov_tok = \"<OOV>\"\n",
    "test_size = 0.25"
   ],
   "metadata": {
    "collapsed": false,
    "pycharm": {
     "name": "#%%\n"
    }
   }
  },
  {
   "cell_type": "code",
   "execution_count": 43,
   "outputs": [],
   "source": [
    "# do a trin test split\n",
    "train_sentences, \\\n",
    "test_sentences, \\\n",
    "trainy, \\\n",
    "testy = train_test_split(all_sentences,\n",
    "                         all_labels,\n",
    "                         stratify=all_labels,\n",
    "                         test_size=test_size,\n",
    "                         random_state=random.randint(1, 1000))\n"
   ],
   "metadata": {
    "collapsed": false,
    "pycharm": {
     "name": "#%%\n"
    }
   }
  },
  {
   "cell_type": "code",
   "execution_count": 44,
   "outputs": [
    {
     "name": "stdout",
     "output_type": "stream",
     "text": [
      "1311\n",
      "{'<OOV>': 1, 'bear': 2, 'spring': 3, 'bolt': 4, 'use': 5, 'sprocket': 6, 'shaft': 7, 'chain': 8, 'load': 9, 'steel': 10, 'roller': 11, 'forc': 12, 'thread': 13, 'compress': 14, 'collet': 15, 'resist': 16, 'machin': 17, 'requir': 18, 'chuck': 19, 'workpiec': 20, 'screw': 21, 'head': 22, 'amount': 23, 'corros': 24, 'extend': 25, 'length': 26, 'rotat': 27, 'gear': 28, 'tool': 29, 'rate': 30, 'stainless': 31, 'nut': 32, 'motion': 33, 'also': 34, 'ball': 35, 'hold': 36, 'extens': 37, 'fasten': 38, 'end': 39, 'part': 40, 'made': 41, 'holder': 42, 'lubric': 43, 'tension': 44, 'maximum': 45, 'shield': 46, 'heat': 47, 'seal': 48, 'drive': 49, 'open': 50, 'size': 51, 'harder': 52, 'dust': 53, 'one': 54, 'high': 55, 'energi': 56, 'allow': 57, 'radial': 58, 'block': 59, 'teeth': 60, 'higher': 61, 'shape': 62, 'hex': 63, 'clamp': 64, 'diamet': 65, 'center': 66, 'jaw': 67, 'may': 68, 'taper': 69, 'wear': 70, 'bearings': 71, 'origin': 72, 'two': 73, 'make': 74, 'hole': 75, 'provid': 76, 'wheel': 77, 'elast': 78, 'known': 79, 'coil': 80, 'secur': 81, 'cut': 82, 'better': 83, 'form': 84, 'element': 85, 'flat': 86, 'fit': 87, 'stretch': 88, 'thrust': 89, 'mount': 90, 'speed': 91, 'push': 92, 'hydraul': 93, 'contamin': 94, 'get': 95, 'pull': 96, 'grip': 97, 'dissip': 98, 'effici': 99, 'surfac': 100, 'sleev': 101, 'lock': 102, 'helic': 103, 'keep': 104, 'need': 105, 'design': 106, 'applic': 107, 'everi': 108, 'inch': 109, 'type': 110, 'reduc': 111, 'squeez': 112, 'standard': 113, 'metal': 114, 'self': 115, 'start': 116, 'fulli': 117, 'instal': 118, 'friction': 119, 'return': 120, 'torqu': 121, 'mechan': 122, 'torsion': 123, 'mandrel': 124, 'compon': 125, 'wrench': 126, 'tighten': 127, 'round': 128, 'shank': 129, 'direct': 130, 'handl': 131, 'rear': 132, 'mani': 133, 'number': 134, 'tube': 135, 'held': 136, 'ring': 137, 'attach': 138, 'object': 139, 'angl': 140, 'minimum': 141, 'bore': 142, 'come': 143, 'combin': 144, 'often': 145, 'turn': 146, 'power': 147, 'hand': 148, 'belt': 149, 'intern': 150, 'appli': 151, 'gener': 152, 'in': 153, 'metric': 154, 'washer': 155, 'back': 156, 'retain': 157, 'good': 158, 'brake': 159, 'prevent': 160, 'commonli': 161, 'materi': 162, 'wind': 163, 'around': 164, 'long': 165, 'rod': 166, 'deflect': 167, 'precis': 168, 'side': 169, 'pressur': 170, 'slide': 171, 'place': 172, 'wound': 173, 'inner': 174, 'axl': 175, 'mill': 176, 'remov': 177, 'strength': 178, 'take': 179, 'solid': 180, 'life': 181, 'wide': 182, 'pulley': 183, 'ratio': 184, 'devic': 185, 'member': 186, 'bush': 187, 'distanc': 188, 'togeth': 189, 'conveyor': 190, 'oper': 191, 'degre': 192, 'iso': 193, 'film': 194, 'larger': 195, 'three': 196, 'larg': 197, 'adjust': 198, 'move': 199, 'ground': 200, 'spheric': 201, 'align': 202, 'wood': 203, 'tooth': 204, 'result': 205, 'either': 206, 'joint': 207, 'small': 208, 'lath': 209, 'list': 210, 'tightli': 211, 'face': 212, 'right': 213, 'rang': 214, 'dowel': 215, 'close': 216, 'link': 217, 'insert': 218, 'derailleur': 219, 'hexagon': 220, 'plastic': 221, 'onto': 222, 'chang': 223, 'extern': 224, 'freeli': 225, 'transmit': 226, 'outer': 227, 'hub': 228, 'instead': 229, 'die': 230, 'fluid': 231, 'maintain': 232, 'support': 233, 'leg': 234, 'press': 235, '90â°': 236, 'addit': 237, 'axial': 238, 'easier': 239, 'pinion': 240, 'gripper': 241, 'includ': 242, 'even': 243, 'expand': 244, 'lever': 245, 'unthread': 246, 'hydrodynam': 247, 'flang': 248, 'connect': 249, 'buckl': 250, 'loads': 251, 'concentr': 252, 'posit': 253, 'spline': 254, 'bit': 255, 'mild': 256, 'altern': 257, 'accur': 258, 'moment': 259, 'engag': 260, 'needl': 261, 'bar': 262, 'tight': 263, 'contact': 264, 'industri': 265, 'collar': 266, 'machineri': 267, 'harmon': 268, 'separ': 269, 'absorb': 270, 'differ': 271, 'work': 272, 'roll': 273, 'cylindr': 274, 'built': 275, 'arbor': 276, 'rotari': 277, 'transmiss': 278, 'top': 279, 'fixtur': 280, 'usual': 281, 'cap': 282, 'time': 283, 'doubl': 284, 'increas': 285, 'toward': 286, 'like': 287, 'driven': 288, 'piston': 289, 'latch': 290, 'durabl': 291, 'springs': 292, 'insid': 293, 'give': 294, 'found': 295, 'parallel': 296, 'electr': 297, 'plate': 298, 'much': 299, 'construct': 300, 'multipli': 301, 'wonâ€™t': 302, 'springâ€™': 303, 'shock': 304, 'oil': 305, 'track': 306, 'excel': 307, 'stronger': 308, 'unfinish': 309, 'weld': 310, 'rigid': 311, 'wire': 312, 'accuraci': 313, 'relat': 314, 'bodi': 315, 'point': 316, 'creat': 317, 'perman': 318, 'calcul': 319, 'counter': 320, 'common': 321, 'bevel': 322, 'whenev': 323, 'minim': 324, 'well': 325, 'independ': 326, 'consist': 327, '1': 328, 'row': 329, 'plain': 330, 'run': 331, 'sever': 332, 'non': 333, 'anoth': 334, 'heavi': 335, 'engin': 336, 'however': 337, 'act': 338, 'capac': 339, 'scroll': 340, 'given': 341, 'shoulder': 342, 'contaminants': 343, 'rivet': 344, 'constant': 345, 'slack': 346, 'vibrat': 347, 'screwdriv': 348, 'shifter': 349, 'allen': 350, 'mean': 351, 'case': 352, 'example': 353, '440c': 354, 'cutter': 355, 'harden': 356, 'suspens': 357, 'idler': 358, 'or': 359, 'toler': 360, 'pedal': 361, 'compar': 362, 'structur': 363, 'cylind': 364, 'equal': 365, 'motor': 366, 'help': 367, 'weight': 368, 'sit': 369, 'pin': 370, 'shear': 371, 'interfer': 372, 'fix': 373, 'vehicl': 374, '316': 375, 'rol': 376, 'twisting': 377, 'fastener': 378, 'machinery': 379, 'forg': 380, 'follow': 381, 'tap': 382, 'hous': 383, 'water': 384, 'clasp': 385, 'designs': 386, 'fast': 387, 'thin': 388, 'food': 389, 'divid': 390, 'slight': 391, 'last': 392, 'temperatur': 393, 'failur': 394, 'actuat': 395, 'highli': 396, 'directli': 397, 'strong': 398, 'bor': 399, 'telescop': 400, 'movement': 401, 'system': 402, 'leaf': 403, 'pass': 404, 'bicycl': 405, 'term': 406, 'way': 407, 'modifi': 408, 'wave': 409, 'less': 410, 'section': 411, 'collets': 412, 'switch': 413, 'minut': 414, 'joiner': 415, 'lower': 416, 'left': 417, 'clockwis': 418, 'variou': 419, 'choic': 420, 'deform': 421, 'carri': 422, 'narrow': 423, 'smooth': 424, 'slot': 425, 'etc': 426, 'lightweight': 427, 'stabl': 428, 'polym': 429, 'balls': 430, 'elimin': 431, 'misalign': 432, 'a': 433, 'freedom': 434, 'theyâ€™r': 435, 'determin': 436, 'measur': 437, 'pitch': 438, 'millimet': 439, 'hollow': 440, 'six': 441, 'meet': 442, 'store': 443, 'accommod': 444, 'socket': 445, 'ends': 446, 'distribut': 447, 'within': 448, 'depend': 449, 'bike': 450, 'gearbox': 451, 'front': 452, 'environ': 453, 'cannot': 454, 'current': 455, 'caus': 456, 'squar': 457, 'chrome': 458, 'silicon': 459, 'repetit': 460, 'applications': 461, 'punch': 462, 'chemic': 463, 'dirt': 464, 'product': 465, 'process': 466, 'control': 467, 'advantag': 468, 'four': 469, 'surfaces': 470, 'straight': 471, 'loop': 472, 'calip': 473, 'tighter': 474, 'elev': 475, 'dropped': 476, 'item': 477, 'drop': 478, 'call': 479, 'valu': 480, 'rapid': 481, 'squeezer': 482, 'cast': 483, 'anchor': 484, 'flexibl': 485, 'rotor': 486, 'iron': 487, 'modulu': 488, \"they'r\": 489, 'base': 490, 'rel': 491, 'first': 492, 'sprockets': 493, 'zinc': 494, 'plat': 495, 'screws': 496, 'linear': 497, 'paper': 498, 'bind': 499, 'cadmium': 500, 'pl': 501, 'equipment': 502, 'devices': 503, 'drawn': 504, 'clutch': 505, 'cold': 506, 'treat': 507, 'improv': 508, 'tack': 509, 'cam': 510, 'varieti': 511, 'crankshaft': 512, 'lag': 513, 'join': 514, 'twice': 515, 'mattress': 516, 'countersunk': 517, 'lip': 518, 'panel': 519, 'final': 520, 'dye': 521, 'extra': 522, 'necessary': 523, 'robot': 524, 'finish': 525, 'tie': 526, \"there'\": 527, 'multipl': 528, 'compresses': 529, 'express': 530, 'percentag': 531, 'revers': 532, 'and': 533, 'name': 534, 'upon': 535, 'seri': 536, 'i': 537, 'similar': 538, 'motorcycl': 539, 'characterist': 540, 'acceler': 541, '5c': 542, 'practic': 543, 'curv': 544, 'generally': 545, 'receiv': 546, 'sometim': 547, 'proper': 548, 'via': 549, 'race': 550, 'emerg': 551, 'exactli': 552, 'stabil': 553, 'new': 554, 'piec': 555, '300': 556, 'per': 557, 'complet': 558, 'stock': 559, 'smaller': 560, 'cnc': 561, 'machines': 562, 'due': 563, 'frequent': 564, 'repres': 565, 'broad': 566, 'pivot': 567, 'differenti': 568, 'elong': 569, 'servo': 570, 'independent': 571, 'drill': 572, 'simplest': 573, 'acet': 574, 'quiet': 575, 'nonconduct': 576, 'facilit': 577, 'surround': 578, 'space': 579, 'fixer': 580, 'compens': 581, 'stop': 582, 'particularli': 583, 'spindl': 584, 'od': 585, 'partial': 586, 'ensur': 587, 'bicycle': 588, 'which': 589, 'best': 590, 'tightened': 591, 'dirti': 592, 'sinc': 593, 'malleabl': 594, 'insul': 595, 'lin': 596, 'rather': 597, 'recov': 598, 'lamin': 599, 'chains': 600, 'vari': 601, 'therefore': 602, 'width': 603, 'workhold': 604, '302': 605, 'bolts': 606, 'drywal': 607, 'concret': 608, 'traceabl': 609, 'lot': 610, 'test': 611, 'report': 612, 'paddl': 613, 'configur': 614, 'resili': 615, 'stray': 616, 'damag': 617, 'match': 618, 'desir': 619, 'semi': 620, 'liner': 621, 'trampolin': 622, 'set': 623, 'tensil': 624, 'reliable': 625, 'stamp': 626, 'impli': 627, 'although': 628, 'basic': 629, 'remain': 630, 'rock': 631, 'wall': 632, 'radiu': 633, 'f': 634, 'locat': 635, 'j': 636, 'predril': 637, 'square': 638, 'balanc': 639, 'bend': 640, 'hook': 641, 'journal': 642, 'twist': 643, 'planetari': 644, 'id': 645, 'chainr': 646, 'float': 647, 'chromium': 648, 'swivel': 649, '5â°': 650, 'slippag': 651, 'rope': 652, 'camshaft': 653, 'hard': 654, 'brittl': 655, 'hour': 656, 'defin': 657, 'action': 658, 'distort': 659, 'pneumat': 660, 'stud': 661, 'sideway': 662, 'but': 663, 'circular': 664, 'polyester': 665, 'rubb': 666, 'blend': 667, 'fuel': 668, 'greater': 669, 'disadvantag': 670, 'unsuit': 671, '2': 672, 'gearshift': 673, 'without': 674, 'gaug': 675, 'typic': 676, 'rubber': 677, 'precise': 678, 'perpendicular': 679, 'involv': 680, 'comparison': 681, 'incident': 682, 'retent': 683, 'hardwar': 684, 'adjac': 685, 'flame': 686, 'inches': 687, 'thu': 688, 'exert': 689, 'undercut': 690, 'specif': 691, 'black': 692, 'clarkson': 693, 'five': 694, 'tapered': 695, 'fabric': 696, 'check': 697, 'slug': 698, 'celsiu': 699, 'tapper': 700, 'tear': 701, 'refer': 702, 'plane': 703, 'cool': 704, 'conveyors': 705, 'cars': 706, 'motorcycles': 707, 'gearset': 708, 'step': 709, 'counterclockwis': 710, 'spoke': 711, 'valv': 712, 'different': 713, 's': 714, 'normal': 715, 'free': 716, 'rust': 717, 'sheet': 718, 'shaftâ€”sprocket': 719, 'electron': 720, 'instrument': 721, 'printers': 722, 'compact': 723, 'miniatur': 724, 'cup': 725, 'durability': 726, 'pack': 727, 'shipment': 728, 'oblong': 729, 'prior': 730, 'hese': 731, 'velcro': 732, 'strip': 733, 'ballscrew': 734, 'matter': 735, 'most': 736, 'opt': 737, 'individu': 738, 'subfram': 739, 'angular': 740, 'arrow': 741, 'indic': 742, 'outsid': 743, 'permanent': 744, 'hairlik': 745, 'basi': 746, 'next': 747, 'appropri': 748, 'earli': 749, 'thumb': 750, 'facepl': 751, 'shaftâ€”no': 752, 'down': 753, 'bushing': 754, 'mate': 755, 'swap': 756, 'replac': 757, 'transaxl': 758, 'respons': 759, 'force': 760, 'direction': 761, 'pintl': 762, 'required': 763, 'pick': 764, 'plac': 765, 'autom': 766, 'index': 767, 'transvers': 768, 'er': 769, '25': 770, \"'sprocket'\": 771, 'project': 772, 'short': 773, 'true': 774, 'bearing': 775, 'deriv': 776, 'verb': 777, 'to': 778, 'manual': 779, 'similarli': 780, 'disc': 781, 'machinable': 782, 'custom': 783, 'differences': 784, 'overlap': 785, 'consid': 786, 'unit': 787, 'integr': 788, 'spindle': 789, 'sleeve': 790, 'save': 791, 'entir': 792, 'goe': 793, 'perfectli': 794, 'progress': 795, 'double': 796, 'strand': 797, 'vice': 798, 'versa': 799, 'respect': 800, 'motorcycle': 801, 'fewer': 802, 'more': 803, 'produc': 804, 'decreas': 805, 'versions': 806, 'surpris': 807, 'applied': 808, 'never': 809, 'viscou': 810, 'wedg': 811, 'import': 812, 'loss': 813, 'mainten': 814, 'expens': 815, 'downtim': 816, 'stripper': 817, 'magnet': 818, '5': 819, 'chainset': 820, 'longitudin': 821, 'slinki': 822, 'context': 823, 'truncat': 824, 'cone': 825, 'centrelin': 826, 'parts': 827, 'male': 828, 'toughest': 829, 'expans': 830, 'sprags': 831, 'tolerances': 832, 'slim': 833, 'profile': 834, 'reach': 835, 'raceway': 836, 'fifth': 837, 'becom': 838, 'know': 839, 'ansi': 840, 'split': 841, '180': 842, 'deg': 843, 'segments': 844, 'simplifi': 845, 'removal': 846, 'r8': 847, 'sid': 848, 'throughout': 849, 'world': 850, 'din': 851, 'dimension': 852, 'perhap': 853, 'properli': 854, 'enough': 855, 'dusti': 856, 'environments': 857, 'choice': 858, 'fluiditi': 859, 'enabl': 860, 'method': 861, 'pattern': 862, 'convertor': 863, 'shorter': 864, 'lengths': 865, 'order': 866, 'expend': 867, 'longpitch': 868, 'resembl': 869, 'pocket': 870, 'corner': 871, 'possibl': 872, 'overal': 873, 'count': 874, 'groov': 875, 'thatâ€™': 876, 'together': 877, 'nest': 878, 'other': 879, \"that'\": 880, 'diff': 881, 'swingarm': 882, 'lugnut': 883, 'describ': 884, 'tail': 885, 'groupset': 886, 'stent': 887, 'toolhold': 888, 'ms24586': 889, 'identifi': 890, 'neckstrap': 891, 'shift': 892, 'tailstock': 893, 'powershift': 894, 'general': 895, 'platen': 896, 'easi': 897, 'nonmagnetic': 898, 'used': 899, 'sensit': 900, 'imag': 901, 'equip': 902, 'sure': 903, 'pair': 904, 'con': 905, 'key': 906, 'assum': 907, 'incorrect': 908, 'adapt': 909, 'obvious': 910, 'all': 911, 'out': 912, 'shapes': 913, 'distinct': 914, 'misunderstood': 915, 'tunnel': 916, 'concern': 917, 'largest': 918, 'diameter': 919, \"collet'\": 920, 'trait': 921, 'giblet': 922, 'formula': 923, 'seat': 924, 'curve': 925, 'r': 926, 'clearanc': 927, 'necessari': 928, 'propel': 929, 'overmold': 930, 'foot': 931, 'regardless': 932, 'principl': 933, 'same': 934, 'static': 935, 'rough': 936, 'unclamp': 937, 'reclamp': 938, 'letter': 939, 'spot': 940, 'rubberi': 941, 'sold': 942, 'separately': 943, 'shop': 944, 'floor': 945, 'terminology': 946, 'contradistinction': 947, 'user': 948, 'speak': 949, 'driver': 950, 'pieces': 951, 'sophist': 952, 'demand': 953, 'manufactur': 954, 'highest': 955, 'technolog': 956, 'coach': 957, 'ironwork': 958, 'timber': 959, 'chosen': 960, 'carefully': 961, 'thick': 962, 'suscept': 963, 'excess': 964, 'occasion': 965, 'superior': 966, 'downgrad': 967, 'boundari': 968, 'mix': 969, 'coupl': 970, 'ms24585': 971, 'flathead': 972, '3j': 973, 'dual': 974, 'tendenc': 975, 'versatil': 976, 'expanding': 977, 'immedi': 978, 'drawbar': 979, 'overextending': 980, 'servic': 981, 'systems': 982, 'transfer': 983, 'sourc': 984, 'understand': 985, 'decid': 986, 'extrem': 987, 'bearingsâ€”they': 988, 'oscil': 989, 'admissible': 990, 'setup': 991, 'overtighten': 992, 'nailer': 993, 'coupler': 994, 'towbar': 995, 'whose': 996, 'primari': 997, 'releas': 998, 'benefit': 999, 'handheld': 1000, 'job': 1001, 'mesh': 1002, 'sheav': 1003, 'reason': 1004, 'cases': 1005, 'separated': 1006, 'fork': 1007, 'mathemat': 1008, 'p': 1009, 'n': 1010, 'dr': 1011, 'sixth': 1012, 'hexagonal': 1013, 'geometri': 1014, 'third': 1015, 'elevated': 1016, 'classifi': 1017, 'broadli': 1018, 'accord': 1019, 'operation': 1020, 'allowed': 1021, 'forces': 1022, 'pipe': 1023, 'u': 1024, 'offset': 1025, 'capit': 1026, 'cost': 1027, 'usag': 1028, 'drills': 1029, '30': 1030, 'web': 1031, 'shown': 1032, 'figur': 1033, 'universal': 1034, 'collect': 1035, 'rag': 1036, 'essenti': 1037, 'blocks': 1038, 'star': 1039, 'inde': 1040, 'medium': 1041, 'synthet': 1042, 'natur': 1043, 'color': 1044, '10243': 1045, 'cross': 1046, 'overhead': 1047, 'symmetr': 1048, 'repeat': 1049, 'nodular': 1050, 'contrast': 1051, 'contain': 1052, 'body': 1053, 'bits': 1054, 'mills': 1055, 'reamers': 1056, 'fed': 1057, 'atmospher': 1058, 'repair': 1059, 'bridges': 1060, 'docks': 1061, 'highway': 1062, 'build': 1063, 'steptron': 1064, 'assembly': 1065, 'rot': 1066, 'carriag': 1067, 'correspond': 1068, 'spur': 1069, 'peek': 1070, '300â°': 1071, 'almost': 1072, 'caterpillar': 1073, 'engine': 1074, 'toothed': 1075, 'vehicle': 1076, 'regular': 1077, 'unthreaded': 1078, 'callip': 1079, 'grade': 1080, 'master': 1081, 'kinemat': 1082, 'headstock': 1083, 'auxiliari': 1084, 'components': 1085, 'freehub': 1086, 'hardened': 1087, 'carburized': 1088, 'carbur': 1089, 'induction': 1090, 'claim': 1091, 'hill': 1092, 'downhil': 1093, 'spanner': 1094, 'ductil': 1095, 'greas': 1096, 'rolling': 1097, 'el': 1098, 'limit': 1099, 'fatigu': 1100, 'major': 1101, 'problem': 1102, 'flush': 1103, 'lengthâ€”reduc': 1104, 'breaker': 1105, 'assembl': 1106, 'objects': 1107, 'workabl': 1108, 'belay': 1109, 'overli': 1110, 'correctli': 1111, 'heaviest': 1112, 'wiper': 1113, 'achiev': 1114, 'kerf': 1115, 'along': 1116, 'contract': 1117, 'preload': 1118, 'helix': 1119, 'man': 1120, 'grill': 1121, 'passiv': 1122, 'varianc': 1123, 'longest': 1124, 'external': 1125, 'circumfer': 1126, 'oxid': 1127, 'subtyp': 1128, 'let': 1129, 'technician': 1130, 'disturb': 1131, 'still': 1132, 'today': 1133, 'develop': 1134, '1940': 1135, 'defunct': 1136, 'uk': 1137, 'company': 1138, 'engineers': 1139, 'limited': 1140, 'dynam': 1141, 'tip': 1142, 'epicycl': 1143, 'noiseless': 1144, 'hose': 1145, 'full': 1146, 'significantli': 1147, 'longer': 1148, 'cov': 1149, 'lengthâ€”much': 1150, 'farther': 1151, 'tradit': 1152, 'downs': 1153, 'cord': 1154, 'sampl': 1155, 'verifi': 1156, 'dimens': 1157, 'micromet': 1158, 'hot': 1159, '200': 1160, 'see': 1161, 'slow': 1162, 'hammer': 1163, 'purs': 1164, 'liquid': 1165, 'employ': 1166, 'physic': 1167, 'principles': 1168, 'another': 1169, 'compris': 1170, 'fastened': 1171, 'inclin': 1172, 'slid': 1173, 'solidifi': 1174, 'countershaft': 1175, 'harsh': 1176, 'donâ€™t': 1177, \"here'\": 1178, 'thing': 1179, 'though': 1180, 'alreadi': 1181, 'widen': 1182, 'firmli': 1183, 'moved': 1184, 'buckets': 1185, 'hooks': 1186, 'pad': 1187, 'recesses': 1188, 'gyroscop': 1189, 'kind': 1190, 'domestic': 1191, 'agricultur': 1192, 'draw': 1193, 'print': 1194, 'presses': 1195, 'simpl': 1196, 'presenc': 1197, 'vs': 1198, 'yet': 1199, 'campagnolo': 1200, 'record': 1201, 'serpentin': 1202, 'advanc': 1203, 'm33': 1204, 'lift': 1205, 'light': 1206, 'rig': 1207, 'clevi': 1208, 'thinner': 1209, 'lighten': 1210, 'heavier': 1211, 'ferrul': 1212, 'single': 1213, 'evenli': 1214, 'clothespins': 1215, 'clamps': 1216, 'mousetraps': 1217, 'wrap': 1218, 'undersid': 1219, 'corrod': 1220, 'humid': 1221, 'washdown': 1222, 'insuffici': 1223, 'threads': 1224, 'fret': 1225, 'cartridg': 1226, 'coat': 1227, 'generators': 1228, 'ceram': 1229, 'multi': 1230, 'spe': 1231, '12': 1232, '2018': 1233, '36': 1234, 'steerer': 1235, 'littl': 1236, 'spool': 1237, 'lather': 1238, 'substrat': 1239, 'econom': 1240, 'moder': 1241, 'service': 1242, 'chill': 1243, 'abrasion': 1244, 'with': 1245, 'stiffer': 1246, 'consider': 1247, 'crossed': 1248, 'lines': 1249, 'wiring': 1250, 'capacity': 1251, 'needle': 1252, 'would': 1253, 'l': 1254, 'go': 1255, 'oven': 1256, '870': 1257, 'exampl': 1258, 'tools': 1259, 'speeds': 1260, 'finally': 1261, 'opposit': 1262, 'chamfer': 1263, 'slightli': 1264, 'edg': 1265, 'aid': 1266, \"bolt'\": 1267, 'arm': 1268, 'constrain': 1269, 'sequenti': 1270, 'automat': 1271, 'offer': 1272, 'heavy': 1273, 'duti': 1274, 'drum': 1275, 'drives': 1276, 'bicycles': 1277, 'vehicles': 1278, 'impart': 1279, 'tape': 1280, 'chainstay': 1281, 'spread': 1282, 'area': 1283, 'loosen': 1284, 'coaster': 1285, 'keyway': 1286, 'proport': 1287, 'oppos': 1288, 'aluminium': 1289, 'huge': 1290, 'affect': 1291, 'qualiti': 1292, 'wheelset': 1293, 'carabin': 1294, 'stiff': 1295, 'crusher': 1296, 'mine': 1297, 'field': 1298, 'rib': 1299, 'perform': 1300, 'coeffici': 1301, 'limber': 1302, 'stapl': 1303, 'axis': 1304, 'vector': 1305, 'young': 1306, 'abl': 1307, 'withstand': 1308, 'advers': 1309, 'condit': 1310, 'suppl': 1311}\n"
     ]
    }
   ],
   "source": [
    "# tokenize the train set\n",
    "tokenizer = Tokenizer(num_words=vocab_size, oov_token=oov_tok)\n",
    "tokenizer.fit_on_texts(train_sentences)\n",
    "train_sequences = tokenizer.texts_to_sequences(train_sentences)\n",
    "padded_train_sequences = pad_sequences(train_sequences, maxlen=max_length,\n",
    "                                       truncating=trunc_type)\n",
    "# tokenise and pad the test set\n",
    "test_sequences = tokenizer.texts_to_sequences(test_sentences)\n",
    "padded_test_sequences = pad_sequences(test_sequences, maxlen=max_length)\n",
    "\n",
    "# check out the word index\n",
    "print(len(tokenizer.word_index.keys()))\n",
    "print(tokenizer.word_index)"
   ],
   "metadata": {
    "collapsed": false,
    "pycharm": {
     "name": "#%%\n"
    }
   }
  },
  {
   "cell_type": "code",
   "execution_count": 45,
   "outputs": [
    {
     "name": "stdout",
     "output_type": "stream",
     "text": [
      "Model: \"sequential_2\"\n",
      "_________________________________________________________________\n",
      "Layer (type)                 Output Shape              Param #   \n",
      "=================================================================\n",
      "embedding_2 (Embedding)      (None, 20, 16)            20800     \n",
      "_________________________________________________________________\n",
      "lstm_2 (LSTM)                (None, 8)                 800       \n",
      "_________________________________________________________________\n",
      "dense_4 (Dense)              (None, 5)                 45        \n",
      "_________________________________________________________________\n",
      "batch_normalization_2 (Batch (None, 5)                 20        \n",
      "_________________________________________________________________\n",
      "dense_5 (Dense)              (None, 5)                 30        \n",
      "=================================================================\n",
      "Total params: 21,695\n",
      "Trainable params: 21,685\n",
      "Non-trainable params: 10\n",
      "_________________________________________________________________\n"
     ]
    }
   ],
   "source": [
    "# now construct the model\n",
    "model = Sequential()\n",
    "model.add(Embedding(input_dim=vocab_size,\n",
    "                    output_dim=embedding_dim,\n",
    "                    input_length=max_length))\n",
    "\n",
    "# change here\n",
    "#model.add(Flatten())\n",
    "\n",
    "model.add(LSTM(8, return_sequences=False))\n",
    "#model.add(Bidirectional(LSTM(16)))\n",
    "\n",
    "# model.add(Conv1D(filters=128, kernel_size=3, activation='relu'))\n",
    "# model.add(GlobalAveragePooling1D())\n",
    "\n",
    "# change ends here\n",
    "model.add(Dense(units=5, activation='relu'))\n",
    "model.add(BatchNormalization())\n",
    "model.add(Dense(units=class_num, activation=\"softmax\"))\n",
    "\n",
    "# compile the model\n",
    "model.compile(loss=\"categorical_crossentropy\",\n",
    "              optimizer = 'adam', metrics=['accuracy'])\n",
    "\n",
    "model.summary()"
   ],
   "metadata": {
    "collapsed": false,
    "pycharm": {
     "name": "#%%\n"
    }
   }
  },
  {
   "cell_type": "code",
   "execution_count": 46,
   "outputs": [
    {
     "name": "stdout",
     "output_type": "stream",
     "text": [
      "Train on 970 samples, validate on 324 samples\n",
      "Epoch 1/25\n",
      "970/970 [==============================] - 4s 4ms/sample - loss: 1.4865 - accuracy: 0.4113 - val_loss: 1.5870 - val_accuracy: 0.2531\b\b\b\b\b\b\b\b\b\b\b\b\b\b\b\b\b\b\b\b\b\b\b\b\b\b\b\b\b\b\b\b\b\b\b\b\b\b\b\b\b\b\b\b\b\b\b\b\b\b\b\b\b\b\b\b\b\b\b\b\b\b\b\b\b\b\b\b\b\b\b\b\b\b\b\b\b\b\b\b\b\b\b\b\b\b\b\b\b\b\b\b\b\b\b\b\b\b\b\b\b\b\b\b\b\b\b\b\b\b\b\b\b\b\b\b\b\b\b\b\b\b\b\b\b\b\b\b\b\b\b\b\b\b\b\b\b\b\b\b\b\b\b\b\b\b\b\b\b\b\b\b\b\b\b\b\b\b\b\b\b\b\b\b\b\b\b\b\b\b\b\b\b\b\b\b\b\b\b\b\b\b\b\b\b\b\b\b\b\b\b\b\b\b\b\b\b\b\b\b\b\b\b\b\b\b\b\b\b\b\b\b\b\b\b\b\b\b\b\b\b\b\b\b\b\b\b\b\b\b\b\b\b\b\b\b\b\b\b\b\b\b\b\b\b\b\b\b\b\b\b\b\b\b\b\b\b\b\b\b\b\b\b\b\b\b\b\b\b\b\b\b\b\b\b\b\b\b\b\b\b\b\b\b\b\b\b\b\b\b\b\b\b\b\b\b\b\b\b\b\b\b\b\b\b\b\b\b\b\b\b\b\b\b\b\b\b\b\b\b\b\b\b\b\b\b\b\b\b\b\b\b\b\b\b\b\b\b\b\b\b\b\b\b\b\b\b\b\b\b\b\b\b\b\b\b\b\b\b\b\b\b\b\b\b\b\b\b\b\b\b\b\b\b\b\b\b\n",
      "Epoch 2/25\n",
      "970/970 [==============================] - 0s 342us/sample - loss: 1.1503 - accuracy: 0.6814 - val_loss: 1.5517 - val_accuracy: 0.2840\b\b\b\b\b\b\b\b\b\b\b\b\b\b\b\b\b\b\b\b\b\b\b\b\b\b\b\b\b\b\b\b\b\b\b\b\b\b\b\b\b\b\b\b\b\b\b\b\b\b\b\b\b\b\b\b\b\b\b\b\b\b\b\b\b\b\b\b\b\b\b\b\b\b\b\b\b\b\b\b\b\b\b\b\b\b\b\b\b\b\b\b\b\b\b\b\b\b\b\b\b\b\b\b\b\b\b\b\b\b\b\b\b\b\b\b\b\b\b\b\b\b\b\b\b\b\b\b\b\b\b\b\b\b\b\b\b\b\b\b\b\b\b\b\b\b\b\b\b\b\b\b\b\b\b\b\b\b\b\b\b\b\b\b\b\b\b\b\b\b\b\b\b\b\b\b\b\b\b\b\b\b\b\b\b\b\b\b\b\b\b\b\b\b\b\b\b\b\b\b\b\b\b\b\b\b\b\b\b\b\b\b\b\b\b\b\b\b\b\b\b\b\b\b\b\b\b\b\b\b\b\b\b\b\b\b\b\b\b\b\b\b\b\b\b\b\b\b\b\b\b\b\b\b\b\b\b\b\b\b\b\b\b\b\b\b\b\b\b\b\b\b\b\b\b\b\b\b\b\b\b\b\b\b\b\b\b\b\b\b\b\b\b\b\b\b\b\b\b\b\b\b\b\b\b\b\b\b\b\b\b\b\b\b\b\b\b\b\b\b\b\b\b\b\b\b\b\b\b\b\b\b\b\b\b\b\b\b\b\b\b\b\b\b\b\b\b\b\b\b\b\b\b\b\b\b\b\b\b\b\b\b\b\b\b\b\b\b\b\b\n",
      "Epoch 3/25\n",
      "970/970 [==============================] - 0s 325us/sample - loss: 0.8827 - accuracy: 0.8495 - val_loss: 1.5110 - val_accuracy: 0.3333\b\b\b\b\b\b\b\b\b\b\b\b\b\b\b\b\b\b\b\b\b\b\b\b\b\b\b\b\b\b\b\b\b\b\b\b\b\b\b\b\b\b\b\b\b\b\b\b\b\b\b\b\b\b\b\b\b\b\b\b\b\b\b\b\b\b\b\b\b\b\b\b\b\b\b\b\b\b\b\b\b\b\b\b\b\b\b\b\b\b\b\b\b\b\b\b\b\b\b\b\b\b\b\b\b\b\b\b\b\b\b\b\b\b\b\b\b\b\b\b\b\b\b\b\b\b\b\b\b\b\b\b\b\b\b\b\b\b\b\b\b\b\b\b\b\b\b\b\b\b\b\b\b\b\b\b\b\b\b\b\b\b\b\b\b\b\b\b\b\b\b\b\b\b\b\b\b\b\b\b\b\b\b\b\b\b\b\b\b\b\b\b\b\b\b\b\b\b\b\b\b\b\b\b\b\b\b\b\b\b\b\b\b\b\b\b\b\b\b\b\b\b\b\b\b\b\b\b\b\b\b\b\b\b\b\b\b\b\b\b\b\b\b\b\b\b\b\b\b\b\b\b\b\b\b\b\b\b\b\b\b\b\b\b\b\b\b\b\b\b\b\b\b\b\b\b\b\b\b\b\b\b\b\b\b\b\b\b\b\b\b\b\b\b\b\b\b\b\b\b\b\b\b\b\b\b\b\b\b\b\b\b\b\b\b\b\b\b\b\b\b\b\b\b\b\b\b\b\b\b\b\b\b\b\b\b\b\b\b\b\b\b\b\b\b\b\b\b\b\b\b\b\b\b\b\b\b\b\b\b\b\b\b\b\b\b\b\b\b\b\n",
      "Epoch 4/25\n",
      "970/970 [==============================] - 0s 305us/sample - loss: 0.6934 - accuracy: 0.9227 - val_loss: 1.4543 - val_accuracy: 0.5216\b\b\b\b\b\b\b\b\b\b\b\b\b\b\b\b\b\b\b\b\b\b\b\b\b\b\b\b\b\b\b\b\b\b\b\b\b\b\b\b\b\b\b\b\b\b\b\b\b\b\b\b\b\b\b\b\b\b\b\b\b\b\b\b\b\b\b\b\b\b\b\b\b\b\b\b\b\b\b\b\b\b\b\b\b\b\b\b\b\b\b\b\b\b\b\b\b\b\b\b\b\b\b\b\b\b\b\b\b\b\b\b\b\b\b\b\b\b\b\b\b\b\b\b\b\b\b\b\b\b\b\b\b\b\b\b\b\b\b\b\b\b\b\b\b\b\b\b\b\b\b\b\b\b\b\b\b\b\b\b\b\b\b\b\b\b\b\b\b\b\b\b\b\b\b\b\b\b\b\b\b\b\b\b\b\b\b\b\b\b\b\b\b\b\b\b\b\b\b\b\b\b\b\b\b\b\b\b\b\b\b\b\b\b\b\b\b\b\b\b\b\b\b\b\b\b\b\b\b\b\b\b\b\b\b\b\b\b\b\b\b\b\b\b\b\b\b\b\b\b\b\b\b\b\b\b\b\b\b\b\b\b\b\b\b\b\b\b\b\b\b\b\b\b\b\b\b\b\b\b\b\b\b\b\b\b\b\b\b\b\b\b\b\b\b\b\b\b\b\b\b\b\b\b\b\b\b\b\b\b\b\b\b\b\b\b\b\b\b\b\b\b\b\b\b\b\b\b\b\b\b\b\b\b\b\b\b\b\b\b\b\b\b\b\b\b\b\b\b\b\b\b\b\b\b\b\b\b\b\b\b\b\b\b\b\b\b\b\b\b\n",
      "Epoch 5/25\n",
      "970/970 [==============================] - 0s 307us/sample - loss: 0.5585 - accuracy: 0.9464 - val_loss: 1.3909 - val_accuracy: 0.6235\b\b\b\b\b\b\b\b\b\b\b\b\b\b\b\b\b\b\b\b\b\b\b\b\b\b\b\b\b\b\b\b\b\b\b\b\b\b\b\b\b\b\b\b\b\b\b\b\b\b\b\b\b\b\b\b\b\b\b\b\b\b\b\b\b\b\b\b\b\b\b\b\b\b\b\b\b\b\b\b\b\b\b\b\b\b\b\b\b\b\b\b\b\b\b\b\b\b\b\b\b\b\b\b\b\b\b\b\b\b\b\b\b\b\b\b\b\b\b\b\b\b\b\b\b\b\b\b\b\b\b\b\b\b\b\b\b\b\b\b\b\b\b\b\b\b\b\b\b\b\b\b\b\b\b\b\b\b\b\b\b\b\b\b\b\b\b\b\b\b\b\b\b\b\b\b\b\b\b\b\b\b\b\b\b\b\b\b\b\b\b\b\b\b\b\b\b\b\b\b\b\b\b\b\b\b\b\b\b\b\b\b\b\b\b\b\b\b\b\b\b\b\b\b\b\b\b\b\b\b\b\b\b\b\b\b\b\b\b\b\b\b\b\b\b\b\b\b\b\b\b\b\b\b\b\b\b\b\b\b\b\b\b\b\b\b\b\b\b\b\b\b\b\b\b\b\b\b\b\b\b\b\b\b\b\b\b\b\b\b\b\b\b\b\b\b\b\b\b\b\b\b\b\b\b\b\b\b\b\b\b\b\b\b\b\b\b\b\b\b\b\b\b\b\b\b\b\b\b\b\b\b\b\b\b\b\b\b\b\b\b\b\b\b\b\b\b\b\b\b\b\b\b\b\b\b\b\b\b\b\b\b\b\b\b\b\b\b\b\b\n",
      "Epoch 6/25\n",
      "970/970 [==============================] - 0s 310us/sample - loss: 0.4601 - accuracy: 0.9629 - val_loss: 1.3255 - val_accuracy: 0.7654\b\b\b\b\b\b\b\b\b\b\b\b\b\b\b\b\b\b\b\b\b\b\b\b\b\b\b\b\b\b\b\b\b\b\b\b\b\b\b\b\b\b\b\b\b\b\b\b\b\b\b\b\b\b\b\b\b\b\b\b\b\b\b\b\b\b\b\b\b\b\b\b\b\b\b\b\b\b\b\b\b\b\b\b\b\b\b\b\b\b\b\b\b\b\b\b\b\b\b\b\b\b\b\b\b\b\b\b\b\b\b\b\b\b\b\b\b\b\b\b\b\b\b\b\b\b\b\b\b\b\b\b\b\b\b\b\b\b\b\b\b\b\b\b\b\b\b\b\b\b\b\b\b\b\b\b\b\b\b\b\b\b\b\b\b\b\b\b\b\b\b\b\b\b\b\b\b\b\b\b\b\b\b\b\b\b\b\b\b\b\b\b\b\b\b\b\b\b\b\b\b\b\b\b\b\b\b\b\b\b\b\b\b\b\b\b\b\b\b\b\b\b\b\b\b\b\b\b\b\b\b\b\b\b\b\b\b\b\b\b\b\b\b\b\b\b\b\b\b\b\b\b\b\b\b\b\b\b\b\b\b\b\b\b\b\b\b\b\b\b\b\b\b\b\b\b\b\b\b\b\b\b\b\b\b\b\b\b\b\b\b\b\b\b\b\b\b\b\b\b\b\b\b\b\b\b\b\b\b\b\b\b\b\b\b\b\b\b\b\b\b\b\b\b\b\b\b\b\b\b\b\b\b\b\b\b\b\b\b\b\b\b\b\b\b\b\b\b\b\b\b\b\b\b\b\b\b\b\b\b\b\b\b\b\b\b\b\b\b\b\n",
      "Epoch 7/25\n",
      "970/970 [==============================] - 0s 290us/sample - loss: 0.3820 - accuracy: 0.9691 - val_loss: 1.2338 - val_accuracy: 0.7593\b\b\b\b\b\b\b\b\b\b\b\b\b\b\b\b\b\b\b\b\b\b\b\b\b\b\b\b\b\b\b\b\b\b\b\b\b\b\b\b\b\b\b\b\b\b\b\b\b\b\b\b\b\b\b\b\b\b\b\b\b\b\b\b\b\b\b\b\b\b\b\b\b\b\b\b\b\b\b\b\b\b\b\b\b\b\b\b\b\b\b\b\b\b\b\b\b\b\b\b\b\b\b\b\b\b\b\b\b\b\b\b\b\b\b\b\b\b\b\b\b\b\b\b\b\b\b\b\b\b\b\b\b\b\b\b\b\b\b\b\b\b\b\b\b\b\b\b\b\b\b\b\b\b\b\b\b\b\b\b\b\b\b\b\b\b\b\b\b\b\b\b\b\b\b\b\b\b\b\b\b\b\b\b\b\b\b\b\b\b\b\b\b\b\b\b\b\b\b\b\b\b\b\b\b\b\b\b\b\b\b\b\b\b\b\b\b\b\b\b\b\b\b\b\b\b\b\b\b\b\b\b\b\b\b\b\b\b\b\b\b\b\b\b\b\b\b\b\b\b\b\b\b\b\b\b\b\b\b\b\b\b\b\b\b\b\b\b\b\b\b\b\b\b\b\b\b\b\b\b\b\b\b\b\b\b\b\b\b\b\b\b\b\b\b\b\b\b\b\b\b\b\b\b\b\b\b\b\b\b\b\b\b\b\b\b\b\b\b\b\b\b\b\b\b\b\b\b\b\b\b\b\b\b\b\b\b\b\b\b\b\b\b\b\b\b\b\b\b\b\b\b\b\b\b\b\b\b\b\b\b\b\b\b\b\b\b\b\b\b\n",
      "Epoch 8/25\n",
      "970/970 [==============================] - 0s 274us/sample - loss: 0.3130 - accuracy: 0.9742 - val_loss: 1.1441 - val_accuracy: 0.7994\b\b\b\b\b\b\b\b\b\b\b\b\b\b\b\b\b\b\b\b\b\b\b\b\b\b\b\b\b\b\b\b\b\b\b\b\b\b\b\b\b\b\b\b\b\b\b\b\b\b\b\b\b\b\b\b\b\b\b\b\b\b\b\b\b\b\b\b\b\b\b\b\b\b\b\b\b\b\b\b\b\b\b\b\b\b\b\b\b\b\b\b\b\b\b\b\b\b\b\b\b\b\b\b\b\b\b\b\b\b\b\b\b\b\b\b\b\b\b\b\b\b\b\b\b\b\b\b\b\b\b\b\b\b\b\b\b\b\b\b\b\b\b\b\b\b\b\b\b\b\b\b\b\b\b\b\b\b\b\b\b\b\b\b\b\b\b\b\b\b\b\b\b\b\b\b\b\b\b\b\b\b\b\b\b\b\b\b\b\b\b\b\b\b\b\b\b\b\b\b\b\b\b\b\b\b\b\b\b\b\b\b\b\b\b\b\b\b\b\b\b\b\b\b\b\b\b\b\b\b\b\b\b\b\b\b\b\b\b\b\b\b\b\b\b\b\b\b\b\b\b\b\b\b\b\b\b\b\b\b\b\b\b\b\b\b\b\b\b\b\b\b\b\b\b\b\b\b\b\b\b\b\b\b\b\b\n",
      "Epoch 9/25\n",
      "970/970 [==============================] - 0s 302us/sample - loss: 0.2692 - accuracy: 0.9794 - val_loss: 1.0495 - val_accuracy: 0.8117\b\b\b\b\b\b\b\b\b\b\b\b\b\b\b\b\b\b\b\b\b\b\b\b\b\b\b\b\b\b\b\b\b\b\b\b\b\b\b\b\b\b\b\b\b\b\b\b\b\b\b\b\b\b\b\b\b\b\b\b\b\b\b\b\b\b\b\b\b\b\b\b\b\b\b\b\b\b\b\b\b\b\b\b\b\b\b\b\b\b\b\b\b\b\b\b\b\b\b\b\b\b\b\b\b\b\b\b\b\b\b\b\b\b\b\b\b\b\b\b\b\b\b\b\b\b\b\b\b\b\b\b\b\b\b\b\b\b\b\b\b\b\b\b\b\b\b\b\b\b\b\b\b\b\b\b\b\b\b\b\b\b\b\b\b\b\b\b\b\b\b\b\b\b\b\b\b\b\b\b\b\b\b\b\b\b\b\b\b\b\b\b\b\b\b\b\b\b\b\b\b\b\b\b\b\b\b\b\b\b\b\b\b\b\b\b\b\b\b\b\b\b\b\b\b\b\b\b\b\b\b\b\b\b\b\b\b\b\b\b\b\b\b\b\b\b\b\b\b\b\b\b\b\b\b\b\b\b\b\b\b\b\b\b\b\b\b\b\b\b\b\b\b\b\b\b\b\b\b\b\b\b\b\b\b\b\b\b\b\b\b\b\b\b\b\b\b\b\b\b\b\b\b\b\b\b\b\b\b\b\b\b\b\b\b\b\b\b\b\b\b\b\b\b\b\b\b\b\b\b\b\b\b\b\b\b\b\b\b\b\b\b\b\b\b\b\b\b\b\b\b\b\b\b\b\b\b\b\b\b\b\b\b\b\b\b\b\b\b\b\n",
      "Epoch 10/25\n",
      "970/970 [==============================] - 0s 304us/sample - loss: 0.2326 - accuracy: 0.9784 - val_loss: 0.9564 - val_accuracy: 0.8210\b\b\b\b\b\b\b\b\b\b\b\b\b\b\b\b\b\b\b\b\b\b\b\b\b\b\b\b\b\b\b\b\b\b\b\b\b\b\b\b\b\b\b\b\b\b\b\b\b\b\b\b\b\b\b\b\b\b\b\b\b\b\b\b\b\b\b\b\b\b\b\b\b\b\b\b\b\b\b\b\b\b\b\b\b\b\b\b\b\b\b\b\b\b\b\b\b\b\b\b\b\b\b\b\b\b\b\b\b\b\b\b\b\b\b\b\b\b\b\b\b\b\b\b\b\b\b\b\b\b\b\b\b\b\b\b\b\b\b\b\b\b\b\b\b\b\b\b\b\b\b\b\b\b\b\b\b\b\b\b\b\b\b\b\b\b\b\b\b\b\b\b\b\b\b\b\b\b\b\b\b\b\b\b\b\b\b\b\b\b\b\b\b\b\b\b\b\b\b\b\b\b\b\b\b\b\b\b\b\b\b\b\b\b\b\b\b\b\b\b\b\b\b\b\b\b\b\b\b\b\b\b\b\b\b\b\b\b\b\b\b\b\b\b\b\b\b\b\b\b\b\b\b\b\b\b\b\b\b\b\b\b\b\b\b\b\b\b\b\b\b\b\b\b\b\b\b\b\b\b\b\b\b\b\b\b\b\b\b\b\b\b\b\b\b\b\b\b\b\b\b\b\b\b\b\b\b\b\b\b\b\b\b\b\b\b\b\b\b\b\b\b\b\b\b\b\b\b\b\b\b\b\b\b\b\b\b\b\b\b\b\b\b\b\b\b\b\b\b\b\b\b\b\b\b\b\b\b\b\b\b\b\b\b\b\b\b\b\b\b\n",
      "Epoch 11/25\n",
      "970/970 [==============================] - 0s 297us/sample - loss: 0.2045 - accuracy: 0.9804 - val_loss: 0.8700 - val_accuracy: 0.8086\b\b\b\b\b\b\b\b\b\b\b\b\b\b\b\b\b\b\b\b\b\b\b\b\b\b\b\b\b\b\b\b\b\b\b\b\b\b\b\b\b\b\b\b\b\b\b\b\b\b\b\b\b\b\b\b\b\b\b\b\b\b\b\b\b\b\b\b\b\b\b\b\b\b\b\b\b\b\b\b\b\b\b\b\b\b\b\b\b\b\b\b\b\b\b\b\b\b\b\b\b\b\b\b\b\b\b\b\b\b\b\b\b\b\b\b\b\b\b\b\b\b\b\b\b\b\b\b\b\b\b\b\b\b\b\b\b\b\b\b\b\b\b\b\b\b\b\b\b\b\b\b\b\b\b\b\b\b\b\b\b\b\b\b\b\b\b\b\b\b\b\b\b\b\b\b\b\b\b\b\b\b\b\b\b\b\b\b\b\b\b\b\b\b\b\b\b\b\b\b\b\b\b\b\b\b\b\b\b\b\b\b\b\b\b\b\b\b\b\b\b\b\b\b\b\b\b\b\b\b\b\b\b\b\b\b\b\b\b\b\b\b\b\b\b\b\b\b\b\b\b\b\b\b\b\b\b\b\b\b\b\b\b\b\b\b\b\b\b\b\b\b\b\b\b\b\b\b\b\b\b\b\b\b\b\b\b\b\b\b\b\b\b\b\b\b\b\b\b\b\b\b\b\b\b\b\b\b\b\b\b\b\b\b\b\b\b\b\b\b\b\b\b\b\b\b\b\b\b\b\b\b\b\b\b\b\b\b\b\b\b\b\b\b\b\b\b\b\b\b\b\b\b\b\b\b\b\b\b\b\b\b\b\b\b\b\b\b\b\b\n",
      "Epoch 12/25\n",
      "970/970 [==============================] - 0s 274us/sample - loss: 0.1746 - accuracy: 0.9794 - val_loss: 0.7882 - val_accuracy: 0.8056\b\b\b\b\b\b\b\b\b\b\b\b\b\b\b\b\b\b\b\b\b\b\b\b\b\b\b\b\b\b\b\b\b\b\b\b\b\b\b\b\b\b\b\b\b\b\b\b\b\b\b\b\b\b\b\b\b\b\b\b\b\b\b\b\b\b\b\b\b\b\b\b\b\b\b\b\b\b\b\b\b\b\b\b\b\b\b\b\b\b\b\b\b\b\b\b\b\b\b\b\b\b\b\b\b\b\b\b\b\b\b\b\b\b\b\b\b\b\b\b\b\b\b\b\b\b\b\b\b\b\b\b\b\b\b\b\b\b\b\b\b\b\b\b\b\b\b\b\b\b\b\b\b\b\b\b\b\b\b\b\b\b\b\b\b\b\b\b\b\b\b\b\b\b\b\b\b\b\b\b\b\b\b\b\b\b\b\b\b\b\b\b\b\b\b\b\b\b\b\b\b\b\b\b\b\b\b\b\b\b\b\b\b\b\b\b\b\b\b\b\b\b\b\b\b\b\b\b\b\b\b\b\b\b\b\b\b\b\b\b\b\b\b\b\b\b\b\b\b\b\b\b\b\b\b\b\b\b\b\b\b\b\b\b\b\b\b\b\b\b\b\b\b\b\b\b\b\b\b\b\b\b\b\b\b\b\n",
      "Epoch 13/25\n",
      "970/970 [==============================] - 0s 314us/sample - loss: 0.1531 - accuracy: 0.9845 - val_loss: 0.7096 - val_accuracy: 0.8179\b\b\b\b\b\b\b\b\b\b\b\b\b\b\b\b\b\b\b\b\b\b\b\b\b\b\b\b\b\b\b\b\b\b\b\b\b\b\b\b\b\b\b\b\b\b\b\b\b\b\b\b\b\b\b\b\b\b\b\b\b\b\b\b\b\b\b\b\b\b\b\b\b\b\b\b\b\b\b\b\b\b\b\b\b\b\b\b\b\b\b\b\b\b\b\b\b\b\b\b\b\b\b\b\b\b\b\b\b\b\b\b\b\b\b\b\b\b\b\b\b\b\b\b\b\b\b\b\b\b\b\b\b\b\b\b\b\b\b\b\b\b\b\b\b\b\b\b\b\b\b\b\b\b\b\b\b\b\b\b\b\b\b\b\b\b\b\b\b\b\b\b\b\b\b\b\b\b\b\b\b\b\b\b\b\b\b\b\b\b\b\b\b\b\b\b\b\b\b\b\b\b\b\b\b\b\b\b\b\b\b\b\b\b\b\b\b\b\b\b\b\b\b\b\b\b\b\b\b\b\b\b\b\b\b\b\b\b\b\b\b\b\b\b\b\b\b\b\b\b\b\b\b\b\b\b\b\b\b\b\b\b\b\b\b\b\b\b\b\b\b\b\b\b\b\b\b\b\b\b\b\b\b\b\b\b\b\b\b\b\b\b\b\b\b\b\b\b\b\b\b\b\b\b\b\b\b\b\b\b\b\b\b\b\b\b\b\b\b\b\b\b\b\b\b\b\b\b\b\b\b\b\b\b\b\b\b\b\b\b\b\b\b\b\b\b\b\b\b\b\b\b\b\b\b\b\b\b\b\b\b\b\b\b\b\b\b\b\b\b\n",
      "Epoch 14/25\n",
      "970/970 [==============================] - 0s 312us/sample - loss: 0.1324 - accuracy: 0.9835 - val_loss: 0.6813 - val_accuracy: 0.8179\b\b\b\b\b\b\b\b\b\b\b\b\b\b\b\b\b\b\b\b\b\b\b\b\b\b\b\b\b\b\b\b\b\b\b\b\b\b\b\b\b\b\b\b\b\b\b\b\b\b\b\b\b\b\b\b\b\b\b\b\b\b\b\b\b\b\b\b\b\b\b\b\b\b\b\b\b\b\b\b\b\b\b\b\b\b\b\b\b\b\b\b\b\b\b\b\b\b\b\b\b\b\b\b\b\b\b\b\b\b\b\b\b\b\b\b\b\b\b\b\b\b\b\b\b\b\b\b\b\b\b\b\b\b\b\b\b\b\b\b\b\b\b\b\b\b\b\b\b\b\b\b\b\b\b\b\b\b\b\b\b\b\b\b\b\b\b\b\b\b\b\b\b\b\b\b\b\b\b\b\b\b\b\b\b\b\b\b\b\b\b\b\b\b\b\b\b\b\b\b\b\b\b\b\b\b\b\b\b\b\b\b\b\b\b\b\b\b\b\b\b\b\b\b\b\b\b\b\b\b\b\b\b\b\b\b\b\b\b\b\b\b\b\b\b\b\b\b\b\b\b\b\b\b\b\b\b\b\b\b\b\b\b\b\b\b\b\b\b\b\b\b\b\b\b\b\b\b\b\b\b\b\b\b\b\b\b\b\b\b\b\b\b\b\b\b\b\b\b\b\b\b\b\b\b\b\b\b\b\b\b\b\b\b\b\b\b\b\b\b\b\b\b\b\b\b\b\b\b\b\b\b\b\b\b\b\b\b\b\b\b\b\b\b\b\b\b\b\b\b\b\b\b\b\b\b\b\b\b\b\b\b\b\b\b\b\b\b\b\b\n",
      "Epoch 15/25\n",
      "970/970 [==============================] - 0s 308us/sample - loss: 0.1267 - accuracy: 0.9866 - val_loss: 0.6685 - val_accuracy: 0.8086\b\b\b\b\b\b\b\b\b\b\b\b\b\b\b\b\b\b\b\b\b\b\b\b\b\b\b\b\b\b\b\b\b\b\b\b\b\b\b\b\b\b\b\b\b\b\b\b\b\b\b\b\b\b\b\b\b\b\b\b\b\b\b\b\b\b\b\b\b\b\b\b\b\b\b\b\b\b\b\b\b\b\b\b\b\b\b\b\b\b\b\b\b\b\b\b\b\b\b\b\b\b\b\b\b\b\b\b\b\b\b\b\b\b\b\b\b\b\b\b\b\b\b\b\b\b\b\b\b\b\b\b\b\b\b\b\b\b\b\b\b\b\b\b\b\b\b\b\b\b\b\b\b\b\b\b\b\b\b\b\b\b\b\b\b\b\b\b\b\b\b\b\b\b\b\b\b\b\b\b\b\b\b\b\b\b\b\b\b\b\b\b\b\b\b\b\b\b\b\b\b\b\b\b\b\b\b\b\b\b\b\b\b\b\b\b\b\b\b\b\b\b\b\b\b\b\b\b\b\b\b\b\b\b\b\b\b\b\b\b\b\b\b\b\b\b\b\b\b\b\b\b\b\b\b\b\b\b\b\b\b\b\b\b\b\b\b\b\b\b\b\b\b\b\b\b\b\b\b\b\b\b\b\b\b\b\b\b\b\b\b\b\b\b\b\b\b\b\b\b\b\b\b\b\b\b\b\b\b\b\b\b\b\b\b\b\b\b\b\b\b\b\b\b\b\b\b\b\b\b\b\b\b\b\b\b\b\b\b\b\b\b\b\b\b\b\b\b\b\b\b\b\b\b\b\b\b\b\b\b\b\b\b\b\b\b\b\b\b\b\n",
      "Epoch 16/25\n",
      "970/970 [==============================] - 0s 319us/sample - loss: 0.1194 - accuracy: 0.9856 - val_loss: 0.6702 - val_accuracy: 0.8086\b\b\b\b\b\b\b\b\b\b\b\b\b\b\b\b\b\b\b\b\b\b\b\b\b\b\b\b\b\b\b\b\b\b\b\b\b\b\b\b\b\b\b\b\b\b\b\b\b\b\b\b\b\b\b\b\b\b\b\b\b\b\b\b\b\b\b\b\b\b\b\b\b\b\b\b\b\b\b\b\b\b\b\b\b\b\b\b\b\b\b\b\b\b\b\b\b\b\b\b\b\b\b\b\b\b\b\b\b\b\b\b\b\b\b\b\b\b\b\b\b\b\b\b\b\b\b\b\b\b\b\b\b\b\b\b\b\b\b\b\b\b\b\b\b\b\b\b\b\b\b\b\b\b\b\b\b\b\b\b\b\b\b\b\b\b\b\b\b\b\b\b\b\b\b\b\b\b\b\b\b\b\b\b\b\b\b\b\b\b\b\b\b\b\b\b\b\b\b\b\b\b\b\b\b\b\b\b\b\b\b\b\b\b\b\b\b\b\b\b\b\b\b\b\b\b\b\b\b\b\b\b\b\b\b\b\b\b\b\b\b\b\b\b\b\b\b\b\b\b\b\b\b\b\b\b\b\b\b\b\b\b\b\b\b\b\b\b\b\b\b\b\b\b\b\b\b\b\b\b\b\b\b\b\b\b\b\b\b\b\b\b\b\b\b\b\b\b\b\b\b\b\b\b\b\b\b\b\b\b\b\b\b\b\b\b\b\b\b\b\b\b\b\b\b\b\b\b\b\b\b\b\b\b\b\b\b\b\b\b\b\b\b\b\b\b\b\b\b\b\b\b\b\b\b\b\b\b\b\b\b\b\b\b\b\b\b\b\b\b\n",
      "Epoch 17/25\n",
      "970/970 [==============================] - 0s 295us/sample - loss: 0.1135 - accuracy: 0.9835 - val_loss: 0.6312 - val_accuracy: 0.8179\b\b\b\b\b\b\b\b\b\b\b\b\b\b\b\b\b\b\b\b\b\b\b\b\b\b\b\b\b\b\b\b\b\b\b\b\b\b\b\b\b\b\b\b\b\b\b\b\b\b\b\b\b\b\b\b\b\b\b\b\b\b\b\b\b\b\b\b\b\b\b\b\b\b\b\b\b\b\b\b\b\b\b\b\b\b\b\b\b\b\b\b\b\b\b\b\b\b\b\b\b\b\b\b\b\b\b\b\b\b\b\b\b\b\b\b\b\b\b\b\b\b\b\b\b\b\b\b\b\b\b\b\b\b\b\b\b\b\b\b\b\b\b\b\b\b\b\b\b\b\b\b\b\b\b\b\b\b\b\b\b\b\b\b\b\b\b\b\b\b\b\b\b\b\b\b\b\b\b\b\b\b\b\b\b\b\b\b\b\b\b\b\b\b\b\b\b\b\b\b\b\b\b\b\b\b\b\b\b\b\b\b\b\b\b\b\b\b\b\b\b\b\b\b\b\b\b\b\b\b\b\b\b\b\b\b\b\b\b\b\b\b\b\b\b\b\b\b\b\b\b\b\b\b\b\b\b\b\b\b\b\b\b\b\b\b\b\b\b\b\b\b\b\b\b\b\b\b\b\b\b\b\b\b\b\b\b\b\b\b\b\b\b\b\b\b\b\b\b\b\b\b\b\b\b\b\b\b\b\b\b\b\b\b\b\b\b\b\b\b\b\b\b\b\b\b\b\b\b\b\b\b\b\b\b\b\b\b\b\b\b\b\b\b\b\b\b\b\b\b\b\b\b\b\b\b\b\b\b\b\b\b\b\b\b\b\b\b\b\b\n",
      "Epoch 18/25\n",
      "970/970 [==============================] - 0s 278us/sample - loss: 0.1038 - accuracy: 0.9825 - val_loss: 0.6544 - val_accuracy: 0.8117\b\b\b\b\b\b\b\b\b\b\b\b\b\b\b\b\b\b\b\b\b\b\b\b\b\b\b\b\b\b\b\b\b\b\b\b\b\b\b\b\b\b\b\b\b\b\b\b\b\b\b\b\b\b\b\b\b\b\b\b\b\b\b\b\b\b\b\b\b\b\b\b\b\b\b\b\b\b\b\b\b\b\b\b\b\b\b\b\b\b\b\b\b\b\b\b\b\b\b\b\b\b\b\b\b\b\b\b\b\b\b\b\b\b\b\b\b\b\b\b\b\b\b\b\b\b\b\b\b\b\b\b\b\b\b\b\b\b\b\b\b\b\b\b\b\b\b\b\b\b\b\b\b\b\b\b\b\b\b\b\b\b\b\b\b\b\b\b\b\b\b\b\b\b\b\b\b\b\b\b\b\b\b\b\b\b\b\b\b\b\b\b\b\b\b\b\b\b\b\b\b\b\b\b\b\b\b\b\b\b\b\b\b\b\b\b\b\b\b\b\b\b\b\b\b\b\b\b\b\b\b\b\b\b\b\b\b\b\b\b\b\b\b\b\b\b\b\b\b\b\b\b\b\b\b\b\b\b\b\b\b\b\b\b\b\b\b\b\b\b\b\b\b\b\b\b\b\b\b\b\b\b\b\b\b\b\n",
      "Epoch 19/25\n",
      "970/970 [==============================] - 0s 289us/sample - loss: 0.0913 - accuracy: 0.9845 - val_loss: 0.6626 - val_accuracy: 0.8148\b\b\b\b\b\b\b\b\b\b\b\b\b\b\b\b\b\b\b\b\b\b\b\b\b\b\b\b\b\b\b\b\b\b\b\b\b\b\b\b\b\b\b\b\b\b\b\b\b\b\b\b\b\b\b\b\b\b\b\b\b\b\b\b\b\b\b\b\b\b\b\b\b\b\b\b\b\b\b\b\b\b\b\b\b\b\b\b\b\b\b\b\b\b\b\b\b\b\b\b\b\b\b\b\b\b\b\b\b\b\b\b\b\b\b\b\b\b\b\b\b\b\b\b\b\b\b\b\b\b\b\b\b\b\b\b\b\b\b\b\b\b\b\b\b\b\b\b\b\b\b\b\b\b\b\b\b\b\b\b\b\b\b\b\b\b\b\b\b\b\b\b\b\b\b\b\b\b\b\b\b\b\b\b\b\b\b\b\b\b\b\b\b\b\b\b\b\b\b\b\b\b\b\b\b\b\b\b\b\b\b\b\b\b\b\b\b\b\b\b\b\b\b\b\b\b\b\b\b\b\b\b\b\b\b\b\b\b\b\b\b\b\b\b\b\b\b\b\b\b\b\b\b\b\b\b\b\b\b\b\b\b\b\b\b\b\b\b\b\b\b\b\b\b\b\b\b\b\b\b\b\b\b\b\b\b\b\b\b\b\b\b\b\b\b\b\b\b\b\b\b\b\b\b\b\b\b\b\b\b\b\b\b\b\b\b\b\b\b\b\b\b\b\b\b\b\b\b\b\b\b\b\b\b\b\b\b\b\b\b\b\b\b\b\b\b\b\b\b\b\b\b\b\b\b\b\b\b\b\b\b\b\b\b\b\b\b\b\b\b\n",
      "Epoch 20/25\n",
      "970/970 [==============================] - 0s 280us/sample - loss: 0.0904 - accuracy: 0.9804 - val_loss: 0.7076 - val_accuracy: 0.8086\b\b\b\b\b\b\b\b\b\b\b\b\b\b\b\b\b\b\b\b\b\b\b\b\b\b\b\b\b\b\b\b\b\b\b\b\b\b\b\b\b\b\b\b\b\b\b\b\b\b\b\b\b\b\b\b\b\b\b\b\b\b\b\b\b\b\b\b\b\b\b\b\b\b\b\b\b\b\b\b\b\b\b\b\b\b\b\b\b\b\b\b\b\b\b\b\b\b\b\b\b\b\b\b\b\b\b\b\b\b\b\b\b\b\b\b\b\b\b\b\b\b\b\b\b\b\b\b\b\b\b\b\b\b\b\b\b\b\b\b\b\b\b\b\b\b\b\b\b\b\b\b\b\b\b\b\b\b\b\b\b\b\b\b\b\b\b\b\b\b\b\b\b\b\b\b\b\b\b\b\b\b\b\b\b\b\b\b\b\b\b\b\b\b\b\b\b\b\b\b\b\b\b\b\b\b\b\b\b\b\b\b\b\b\b\b\b\b\b\b\b\b\b\b\b\b\b\b\b\b\b\b\b\b\b\b\b\b\b\b\b\b\b\b\b\b\b\b\b\b\b\b\b\b\b\b\b\b\b\b\b\b\b\b\b\b\b\b\b\b\b\b\b\b\b\b\b\b\b\b\b\b\b\b\b\b\n",
      "Epoch 21/25\n",
      "970/970 [==============================] - 0s 325us/sample - loss: 0.0790 - accuracy: 0.9856 - val_loss: 0.7438 - val_accuracy: 0.8148\b\b\b\b\b\b\b\b\b\b\b\b\b\b\b\b\b\b\b\b\b\b\b\b\b\b\b\b\b\b\b\b\b\b\b\b\b\b\b\b\b\b\b\b\b\b\b\b\b\b\b\b\b\b\b\b\b\b\b\b\b\b\b\b\b\b\b\b\b\b\b\b\b\b\b\b\b\b\b\b\b\b\b\b\b\b\b\b\b\b\b\b\b\b\b\b\b\b\b\b\b\b\b\b\b\b\b\b\b\b\b\b\b\b\b\b\b\b\b\b\b\b\b\b\b\b\b\b\b\b\b\b\b\b\b\b\b\b\b\b\b\b\b\b\b\b\b\b\b\b\b\b\b\b\b\b\b\b\b\b\b\b\b\b\b\b\b\b\b\b\b\b\b\b\b\b\b\b\b\b\b\b\b\b\b\b\b\b\b\b\b\b\b\b\b\b\b\b\b\b\b\b\b\b\b\b\b\b\b\b\b\b\b\b\b\b\b\b\b\b\b\b\b\b\b\b\b\b\b\b\b\b\b\b\b\b\b\b\b\b\b\b\b\b\b\b\b\b\b\b\b\b\b\b\b\b\b\b\b\b\b\b\b\b\b\b\b\b\b\b\b\b\b\b\b\b\b\b\b\b\b\b\b\b\b\b\b\b\b\b\b\b\b\b\b\b\b\b\b\b\b\b\b\b\b\b\b\b\b\b\b\b\b\b\b\b\b\b\b\b\b\b\b\b\b\b\b\b\b\b\b\b\b\b\b\b\b\b\b\b\b\b\b\b\b\b\b\b\b\b\b\b\b\b\b\b\b\b\b\b\b\b\b\b\b\b\b\b\b\b\n",
      "Epoch 22/25\n",
      "970/970 [==============================] - 0s 332us/sample - loss: 0.0740 - accuracy: 0.9866 - val_loss: 0.6913 - val_accuracy: 0.8148\b\b\b\b\b\b\b\b\b\b\b\b\b\b\b\b\b\b\b\b\b\b\b\b\b\b\b\b\b\b\b\b\b\b\b\b\b\b\b\b\b\b\b\b\b\b\b\b\b\b\b\b\b\b\b\b\b\b\b\b\b\b\b\b\b\b\b\b\b\b\b\b\b\b\b\b\b\b\b\b\b\b\b\b\b\b\b\b\b\b\b\b\b\b\b\b\b\b\b\b\b\b\b\b\b\b\b\b\b\b\b\b\b\b\b\b\b\b\b\b\b\b\b\b\b\b\b\b\b\b\b\b\b\b\b\b\b\b\b\b\b\b\b\b\b\b\b\b\b\b\b\b\b\b\b\b\b\b\b\b\b\b\b\b\b\b\b\b\b\b\b\b\b\b\b\b\b\b\b\b\b\b\b\b\b\b\b\b\b\b\b\b\b\b\b\b\b\b\b\b\b\b\b\b\b\b\b\b\b\b\b\b\b\b\b\b\b\b\b\b\b\b\b\b\b\b\b\b\b\b\b\b\b\b\b\b\b\b\b\b\b\b\b\b\b\b\b\b\b\b\b\b\b\b\b\b\b\b\b\b\b\b\b\b\b\b\b\b\b\b\b\b\b\b\b\b\b\b\b\b\b\b\b\b\b\b\b\b\b\b\b\b\b\b\b\b\b\b\b\b\b\b\b\b\b\b\b\b\b\b\b\b\b\b\b\b\b\b\b\b\b\b\b\b\b\b\b\b\b\b\b\b\b\b\b\b\b\b\b\b\b\b\b\b\b\b\b\b\b\b\b\b\b\b\b\b\b\b\b\b\b\b\b\b\b\b\b\b\b\b\n",
      "Epoch 23/25\n",
      "970/970 [==============================] - 0s 343us/sample - loss: 0.0732 - accuracy: 0.9814 - val_loss: 0.6981 - val_accuracy: 0.8117\b\b\b\b\b\b\b\b\b\b\b\b\b\b\b\b\b\b\b\b\b\b\b\b\b\b\b\b\b\b\b\b\b\b\b\b\b\b\b\b\b\b\b\b\b\b\b\b\b\b\b\b\b\b\b\b\b\b\b\b\b\b\b\b\b\b\b\b\b\b\b\b\b\b\b\b\b\b\b\b\b\b\b\b\b\b\b\b\b\b\b\b\b\b\b\b\b\b\b\b\b\b\b\b\b\b\b\b\b\b\b\b\b\b\b\b\b\b\b\b\b\b\b\b\b\b\b\b\b\b\b\b\b\b\b\b\b\b\b\b\b\b\b\b\b\b\b\b\b\b\b\b\b\b\b\b\b\b\b\b\b\b\b\b\b\b\b\b\b\b\b\b\b\b\b\b\b\b\b\b\b\b\b\b\b\b\b\b\b\b\b\b\b\b\b\b\b\b\b\b\b\b\b\b\b\b\b\b\b\b\b\b\b\b\b\b\b\b\b\b\b\b\b\b\b\b\b\b\b\b\b\b\b\b\b\b\b\b\b\b\b\b\b\b\b\b\b\b\b\b\b\b\b\b\b\b\b\b\b\b\b\b\b\b\b\b\b\b\b\b\b\b\b\b\b\b\b\b\b\b\b\b\b\b\b\b\b\b\b\b\b\b\b\b\b\b\b\b\b\b\b\b\b\b\b\b\b\b\b\b\b\b\b\b\b\b\b\b\b\b\b\b\b\b\b\b\b\b\b\b\b\b\b\b\b\b\b\b\b\b\b\b\b\b\b\b\b\b\b\b\b\b\b\b\b\b\b\b\b\b\b\b\b\b\b\b\b\b\b\b\n",
      "Epoch 24/25\n",
      "970/970 [==============================] - 0s 334us/sample - loss: 0.0668 - accuracy: 0.9856 - val_loss: 0.8584 - val_accuracy: 0.7932\b\b\b\b\b\b\b\b\b\b\b\b\b\b\b\b\b\b\b\b\b\b\b\b\b\b\b\b\b\b\b\b\b\b\b\b\b\b\b\b\b\b\b\b\b\b\b\b\b\b\b\b\b\b\b\b\b\b\b\b\b\b\b\b\b\b\b\b\b\b\b\b\b\b\b\b\b\b\b\b\b\b\b\b\b\b\b\b\b\b\b\b\b\b\b\b\b\b\b\b\b\b\b\b\b\b\b\b\b\b\b\b\b\b\b\b\b\b\b\b\b\b\b\b\b\b\b\b\b\b\b\b\b\b\b\b\b\b\b\b\b\b\b\b\b\b\b\b\b\b\b\b\b\b\b\b\b\b\b\b\b\b\b\b\b\b\b\b\b\b\b\b\b\b\b\b\b\b\b\b\b\b\b\b\b\b\b\b\b\b\b\b\b\b\b\b\b\b\b\b\b\b\b\b\b\b\b\b\b\b\b\b\b\b\b\b\b\b\b\b\b\b\b\b\b\b\b\b\b\b\b\b\b\b\b\b\b\b\b\b\b\b\b\b\b\b\b\b\b\b\b\b\b\b\b\b\b\b\b\b\b\b\b\b\b\b\b\b\b\b\b\b\b\b\b\b\b\b\b\b\b\b\b\b\b\b\b\b\b\b\b\b\b\b\b\b\b\b\b\b\b\b\b\b\b\b\b\b\b\b\b\b\b\b\b\b\b\b\b\b\b\b\b\b\b\b\b\b\b\b\b\b\b\b\b\b\b\b\b\b\b\b\b\b\b\b\b\b\b\b\b\b\b\b\b\b\b\b\b\b\b\b\b\b\b\b\b\b\b\b\n",
      "Epoch 25/25\n",
      "970/970 [==============================] - 0s 336us/sample - loss: 0.0689 - accuracy: 0.9845 - val_loss: 0.7713 - val_accuracy: 0.8056\b\b\b\b\b\b\b\b\b\b\b\b\b\b\b\b\b\b\b\b\b\b\b\b\b\b\b\b\b\b\b\b\b\b\b\b\b\b\b\b\b\b\b\b\b\b\b\b\b\b\b\b\b\b\b\b\b\b\b\b\b\b\b\b\b\b\b\b\b\b\b\b\b\b\b\b\b\b\b\b\b\b\b\b\b\b\b\b\b\b\b\b\b\b\b\b\b\b\b\b\b\b\b\b\b\b\b\b\b\b\b\b\b\b\b\b\b\b\b\b\b\b\b\b\b\b\b\b\b\b\b\b\b\b\b\b\b\b\b\b\b\b\b\b\b\b\b\b\b\b\b\b\b\b\b\b\b\b\b\b\b\b\b\b\b\b\b\b\b\b\b\b\b\b\b\b\b\b\b\b\b\b\b\b\b\b\b\b\b\b\b\b\b\b\b\b\b\b\b\b\b\b\b\b\b\b\b\b\b\b\b\b\b\b\b\b\b\b\b\b\b\b\b\b\b\b\b\b\b\b\b\b\b\b\b\b\b\b\b\b\b\b\b\b\b\b\b\b\b\b\b\b\b\b\b\b\b\b\b\b\b\b\b\b\b\b\b\b\b\b\b\b\b\b\b\b\b\b\b\b\b\b\b\b\b\b\b\b\b\b\b\b\b\b\b\b\b\b\b\b\b\b\b\b\b\b\b\b\b\b\b\b\b\b\b\b\b\b\b\b\b\b\b\b\b\b\b\b\b\b\b\b\b\b\b\b\b\b\b\b\b\b\b\b\b\b\b\b\b\b\b\b\b\b\b\b\b\b\b\b\b\b\b\b\b\b\b\b\b\b\n"
     ]
    }
   ],
   "source": [
    "H = model.fit(padded_train_sequences,\n",
    "          trainy,\n",
    "          epochs=epoch_no,\n",
    "          validation_data=(padded_test_sequences, testy))"
   ],
   "metadata": {
    "collapsed": false,
    "pycharm": {
     "name": "#%%\n"
    }
   }
  },
  {
   "cell_type": "code",
   "execution_count": 47,
   "outputs": [],
   "source": [
    "epochs = range(1,epoch_no+1)\n",
    "loss = H.history['loss']\n",
    "accuracy = H.history['accuracy']\n",
    "val_loss = H.history['val_loss']\n",
    "val_accuracy = H.history['val_accuracy']\n",
    "plot_df = pd.DataFrame(data=np.c_[epochs,loss,accuracy,val_loss,val_accuracy],\n",
    "                       columns=['epochs','loss', 'accuracy', 'val_loss', 'val_accuracy'])"
   ],
   "metadata": {
    "collapsed": false,
    "pycharm": {
     "name": "#%%\n"
    }
   }
  },
  {
   "cell_type": "code",
   "execution_count": 48,
   "outputs": [
    {
     "data": {
      "text/plain": "<Figure size 1080x720 with 1 Axes>",
      "image/png": "[encoded data removed]"
     },
     "metadata": {},
     "output_type": "display_data"
    }
   ],
   "source": [
    "sns.set(font_scale=1)\n",
    "f, ax = plt.subplots(1, 1, figsize=(15,10))\n",
    "sns.lineplot(data=plot_df, x='epochs', y='loss', ax=ax, label='train loss', linewidth=3)\n",
    "sns.lineplot(data=plot_df, x='epochs', y='accuracy', ax=ax, label='train accuracy', linewidth=3)\n",
    "sns.lineplot(data=plot_df, x='epochs', y='val_loss', ax=ax, label='val loss', linewidth=3)\n",
    "sns.lineplot(data=plot_df, x='epochs', y='val_accuracy', ax=ax, label='val_accuracy', linewidth=3)\n",
    "ax.set_ylabel('Loss or Accuracy')\n",
    "ax.set_xlabel('Epochs')\n",
    "plt.setp(ax.get_legend().get_texts(), fontsize='18'); # for legend text"
   ],
   "metadata": {
    "collapsed": false,
    "pycharm": {
     "name": "#%%\n"
    }
   }
  },
  {
   "cell_type": "code",
   "execution_count": 49,
   "outputs": [],
   "source": [
    "\n",
    "def print_confusion_matrix(confusion_matrix,\n",
    "                           class_names,\n",
    "                           figsize = (10,7),\n",
    "                           fontsize=12, normalize=True):\n",
    "\n",
    "\n",
    "\n",
    "    # if normalize:\n",
    "    #     confusion_matrix = confusion_matrix.astype('float') / confusion_matrix.sum(axis=1)[:, np.newaxis]\n",
    "    #     print(\"Normalized confusion matrix\")\n",
    "    # else:\n",
    "    #     print('Confusion matrix, without normalization')\n",
    "\n",
    "\n",
    "    df_cm = pd.DataFrame(\n",
    "        confusion_matrix, index=class_names, columns=class_names)\n",
    "    fig = plt.figure(figsize=figsize)\n",
    "\n",
    "\n",
    "    try:\n",
    "        heatmap = sns.heatmap(df_cm, annot=True, fmt=\"d\", cmap='viridis')\n",
    "    except ValueError:\n",
    "        raise ValueError(\"Confusion matrix values must be integers.\")\n",
    "    heatmap.yaxis.set_ticklabels(heatmap.yaxis.get_ticklabels(), rotation=0, ha='right', fontsize=fontsize)\n",
    "    heatmap.xaxis.set_ticklabels(heatmap.xaxis.get_ticklabels(), rotation=45, ha='right', fontsize=fontsize)\n",
    "    plt.ylabel('True label')\n",
    "    plt.xlabel('Predicted label')"
   ],
   "metadata": {
    "collapsed": false,
    "pycharm": {
     "name": "#%%\n"
    }
   }
  },
  {
   "cell_type": "code",
   "execution_count": 50,
   "outputs": [
    {
     "name": "stdout",
     "output_type": "stream",
     "text": [
      "[INFO] evaluating network...\n",
      "              precision    recall  f1-score   support\n",
      "\n",
      "     bearing       0.91      0.68      0.78        73\n",
      "        bolt       0.74      0.82      0.78        62\n",
      "      collet       0.92      0.85      0.88        52\n",
      "      spring       0.76      0.89      0.82        80\n",
      "    sprocket       0.78      0.79      0.78        57\n",
      "\n",
      "    accuracy                           0.81       324\n",
      "   macro avg       0.82      0.81      0.81       324\n",
      "weighted avg       0.82      0.81      0.81       324\n",
      "\n"
     ]
    }
   ],
   "source": [
    "# evaluate the network\n",
    "print ( \"[INFO] evaluating network...\" )\n",
    "predictions = model.predict(padded_test_sequences)\n",
    "print (classification_report(testy.argmax(axis=1 ),\n",
    "predictions.argmax(axis=1 ), target_names=types))"
   ],
   "metadata": {
    "collapsed": false,
    "pycharm": {
     "name": "#%%\n"
    }
   }
  },
  {
   "cell_type": "code",
   "execution_count": 51,
   "outputs": [
    {
     "data": {
      "text/plain": "<Figure size 720x504 with 2 Axes>",
      "image/png": "[encoded data removed]"
     },
     "metadata": {},
     "output_type": "display_data"
    }
   ],
   "source": [
    "cm = confusion_matrix(testy.argmax(axis=1),\n",
    "                      predictions.argmax(axis=1),\n",
    "                      )\n",
    "print_confusion_matrix(cm, types)"
   ],
   "metadata": {
    "collapsed": false,
    "pycharm": {
     "name": "#%%\n"
    }
   }
  },
  {
   "cell_type": "code",
   "execution_count": 52,
   "outputs": [
    {
     "ename": "ValueError",
     "evalue": "plot_confusion_matrix only supports classifiers",
     "output_type": "error",
     "traceback": [
      "\u001B[1;31m---------------------------------------------------------------------------\u001B[0m",
      "\u001B[1;31mValueError\u001B[0m                                Traceback (most recent call last)",
      "\u001B[1;32m<ipython-input-52-be05a74866fb>\u001B[0m in \u001B[0;36m<module>\u001B[1;34m\u001B[0m\n\u001B[0;32m      4\u001B[0m                                  \u001B[0mdisplay_labels\u001B[0m\u001B[1;33m=\u001B[0m\u001B[0mtypes\u001B[0m\u001B[1;33m,\u001B[0m\u001B[1;33m\u001B[0m\u001B[0m\n\u001B[0;32m      5\u001B[0m                                  \u001B[0mcmap\u001B[0m\u001B[1;33m=\u001B[0m\u001B[0mplt\u001B[0m\u001B[1;33m.\u001B[0m\u001B[0mcm\u001B[0m\u001B[1;33m.\u001B[0m\u001B[0mBlues\u001B[0m\u001B[1;33m,\u001B[0m\u001B[1;33m\u001B[0m\u001B[0m\n\u001B[1;32m----> 6\u001B[1;33m                                  normalize='true')\n\u001B[0m\u001B[0;32m      7\u001B[0m \u001B[1;33m\u001B[0m\u001B[0m\n\u001B[0;32m      8\u001B[0m \u001B[0mprint\u001B[0m\u001B[1;33m(\u001B[0m\u001B[0mdisp\u001B[0m\u001B[1;33m.\u001B[0m\u001B[0mconfusion_matrix\u001B[0m\u001B[1;33m)\u001B[0m\u001B[1;33m\u001B[0m\u001B[0m\n",
      "\u001B[1;32mc:\\users\\mhasa\\google drive\\tutorial corner\\pyth\\pycharm projects\\deeplearning\\venv\\lib\\site-packages\\sklearn\\utils\\validation.py\u001B[0m in \u001B[0;36minner_f\u001B[1;34m(*args, **kwargs)\u001B[0m\n\u001B[0;32m     70\u001B[0m                           FutureWarning)\n\u001B[0;32m     71\u001B[0m         \u001B[0mkwargs\u001B[0m\u001B[1;33m.\u001B[0m\u001B[0mupdate\u001B[0m\u001B[1;33m(\u001B[0m\u001B[1;33m{\u001B[0m\u001B[0mk\u001B[0m\u001B[1;33m:\u001B[0m \u001B[0marg\u001B[0m \u001B[1;32mfor\u001B[0m \u001B[0mk\u001B[0m\u001B[1;33m,\u001B[0m \u001B[0marg\u001B[0m \u001B[1;32min\u001B[0m \u001B[0mzip\u001B[0m\u001B[1;33m(\u001B[0m\u001B[0msig\u001B[0m\u001B[1;33m.\u001B[0m\u001B[0mparameters\u001B[0m\u001B[1;33m,\u001B[0m \u001B[0margs\u001B[0m\u001B[1;33m)\u001B[0m\u001B[1;33m}\u001B[0m\u001B[1;33m)\u001B[0m\u001B[1;33m\u001B[0m\u001B[0m\n\u001B[1;32m---> 72\u001B[1;33m         \u001B[1;32mreturn\u001B[0m \u001B[0mf\u001B[0m\u001B[1;33m(\u001B[0m\u001B[1;33m**\u001B[0m\u001B[0mkwargs\u001B[0m\u001B[1;33m)\u001B[0m\u001B[1;33m\u001B[0m\u001B[0m\n\u001B[0m\u001B[0;32m     73\u001B[0m     \u001B[1;32mreturn\u001B[0m \u001B[0minner_f\u001B[0m\u001B[1;33m\u001B[0m\u001B[0m\n\u001B[0;32m     74\u001B[0m \u001B[1;33m\u001B[0m\u001B[0m\n",
      "\u001B[1;32mc:\\users\\mhasa\\google drive\\tutorial corner\\pyth\\pycharm projects\\deeplearning\\venv\\lib\\site-packages\\sklearn\\metrics\\_plot\\confusion_matrix.py\u001B[0m in \u001B[0;36mplot_confusion_matrix\u001B[1;34m(estimator, X, y_true, labels, sample_weight, normalize, display_labels, include_values, xticks_rotation, values_format, cmap, ax)\u001B[0m\n\u001B[0;32m    215\u001B[0m \u001B[1;33m\u001B[0m\u001B[0m\n\u001B[0;32m    216\u001B[0m     \u001B[1;32mif\u001B[0m \u001B[1;32mnot\u001B[0m \u001B[0mis_classifier\u001B[0m\u001B[1;33m(\u001B[0m\u001B[0mestimator\u001B[0m\u001B[1;33m)\u001B[0m\u001B[1;33m:\u001B[0m\u001B[1;33m\u001B[0m\u001B[0m\n\u001B[1;32m--> 217\u001B[1;33m         \u001B[1;32mraise\u001B[0m \u001B[0mValueError\u001B[0m\u001B[1;33m(\u001B[0m\u001B[1;34m\"plot_confusion_matrix only supports classifiers\"\u001B[0m\u001B[1;33m)\u001B[0m\u001B[1;33m\u001B[0m\u001B[0m\n\u001B[0m\u001B[0;32m    218\u001B[0m \u001B[1;33m\u001B[0m\u001B[0m\n\u001B[0;32m    219\u001B[0m     \u001B[0my_pred\u001B[0m \u001B[1;33m=\u001B[0m \u001B[0mestimator\u001B[0m\u001B[1;33m.\u001B[0m\u001B[0mpredict\u001B[0m\u001B[1;33m(\u001B[0m\u001B[0mX\u001B[0m\u001B[1;33m)\u001B[0m\u001B[1;33m\u001B[0m\u001B[0m\n",
      "\u001B[1;31mValueError\u001B[0m: plot_confusion_matrix only supports classifiers"
     ]
    }
   ],
   "source": [
    "from sklearn.metrics import plot_confusion_matrix\n",
    "\n",
    "disp = plot_confusion_matrix(model, padded_test_sequences, testy ,\n",
    "                                 display_labels=types,\n",
    "                                 cmap=plt.cm.Blues,\n",
    "                                 normalize='true')\n",
    "\n",
    "print(disp.confusion_matrix)"
   ],
   "metadata": {
    "collapsed": false,
    "pycharm": {
     "name": "#%%\n"
    }
   }
  },
  {
   "cell_type": "code",
   "execution_count": null,
   "outputs": [],
   "source": [
    "\n",
    "train_sentences, \\\n",
    "test_sentences, \\\n",
    "trainy, \\\n",
    "testy\n",
    "\n",
    "\n",
    "\n",
    "\n",
    "\n",
    "\n",
    "\n",
    "\n",
    "\n",
    "\n",
    "\n",
    "\n"
   ],
   "metadata": {
    "collapsed": false,
    "pycharm": {
     "name": "#%%\n"
    }
   }
  },
  {
   "cell_type": "code",
   "execution_count": null,
   "outputs": [],
   "source": [],
   "metadata": {
    "collapsed": false,
    "pycharm": {
     "name": "#%%\n"
    }
   }
  },
  {
   "cell_type": "code",
   "execution_count": null,
   "outputs": [],
   "source": [
    "# save the model\n",
    "save_path = r\"C:\\Users\\mhasa\\AppData\\Roaming\\Autodesk\\Autodesk Fusion 360\\MyScripts\\PureFlask_3JS_server\\flask_app\\nlp_model\"\n",
    "model.save(f\"{save_path}\\\\nlp_model_mcmaster_stemmed_simpler1.h5\",\n",
    "           overwrite=True)"
   ],
   "metadata": {
    "collapsed": false,
    "pycharm": {
     "name": "#%%\n"
    }
   }
  },
  {
   "cell_type": "code",
   "execution_count": 67,
   "outputs": [
    {
     "name": "stdout",
     "output_type": "stream",
     "text": [
      "(1300, 16)\n"
     ]
    }
   ],
   "source": [
    "embedding_layer = model.layers[0]\n",
    "embedding_weights = embedding_layer.get_weights()[0]\n",
    "print(embedding_weights.shape)"
   ],
   "metadata": {
    "collapsed": false,
    "pycharm": {
     "name": "#%%\n"
    }
   }
  },
  {
   "cell_type": "code",
   "execution_count": 68,
   "outputs": [],
   "source": [
    "reverse_word_index = dict([(val, key)\n",
    "                           for (key, val) in tokenizer.word_index.items()])"
   ],
   "metadata": {
    "collapsed": false,
    "pycharm": {
     "name": "#%%\n"
    }
   }
  },
  {
   "cell_type": "code",
   "execution_count": 69,
   "outputs": [],
   "source": [
    "import io\n",
    "\n",
    "out_v = io.open('vecs1.tsv', 'w', encoding='utf-8')\n",
    "out_m = io.open('meta1.tsv', 'w', encoding='utf-8')\n",
    "for word_num in range(1, vocab_size):\n",
    "  word = reverse_word_index[word_num]\n",
    "  embeddings = embedding_weights[word_num]\n",
    "  out_m.write(word + \"\\n\")\n",
    "  out_v.write('\\t'.join([str(x) for x in embeddings]) + \"\\n\")\n",
    "out_v.close()\n",
    "out_m.close()"
   ],
   "metadata": {
    "collapsed": false,
    "pycharm": {
     "name": "#%%\n"
    }
   }
  },
  {
   "cell_type": "code",
   "execution_count": 70,
   "outputs": [],
   "source": [
    "# save my embedding matrix\n",
    "out_e = io.open('embed_matrix1.txt', 'w', encoding='utf-8')\n",
    "\n",
    "for word_num in range(1, vocab_size):\n",
    "  word = reverse_word_index[word_num]\n",
    "  embeddings = embedding_weights[word_num]\n",
    "  out_str = word + '\\t' + '\\t'.join([str(x) for x in embeddings]) + \"\\n\"\n",
    "  out_e.write(out_str)\n",
    "out_e.close()"
   ],
   "metadata": {
    "collapsed": false,
    "pycharm": {
     "name": "#%%\n"
    }
   }
  },
  {
   "cell_type": "markdown",
   "source": [
    "### Below we have load model and test model protocols\n"
   ],
   "metadata": {
    "collapsed": false
   }
  },
  {
   "cell_type": "code",
   "execution_count": 71,
   "outputs": [],
   "source": [
    "import pickle\n",
    "\n",
    "# saving\n",
    "with open(f'{save_path}//tokenizer_mcmaster_stemmed1.pickle', 'wb') as handle:\n",
    "    pickle.dump(tokenizer, handle, protocol=pickle.HIGHEST_PROTOCOL)"
   ],
   "metadata": {
    "collapsed": false,
    "pycharm": {
     "name": "#%%\n"
    }
   }
  },
  {
   "cell_type": "code",
   "execution_count": 73,
   "outputs": [],
   "source": [
    "# loading the tokenizer\n",
    "import pickle\n",
    "\n",
    "with open(f'{save_path}//tokenizer_mcmaster_stemmed1.pickle', 'rb') as handle:\n",
    "    loaded_tokenizer = pickle.load(handle)"
   ],
   "metadata": {
    "collapsed": false,
    "pycharm": {
     "name": "#%%\n"
    }
   }
  },
  {
   "cell_type": "code",
   "execution_count": 74,
   "outputs": [],
   "source": [
    "loaded_model = load_model(f\"{save_path}//nlp_model_mcmaster_stemmed_simpler1.h5\")\n"
   ],
   "metadata": {
    "collapsed": false,
    "pycharm": {
     "name": "#%%\n"
    }
   }
  },
  {
   "cell_type": "code",
   "execution_count": 75,
   "outputs": [],
   "source": [
    "# remove unwanted words then stem\n",
    "from nltk.corpus import stopwords\n",
    "from string import punctuation\n",
    "from nltk.stem import PorterStemmer\n",
    "\n",
    "stemmer = PorterStemmer()\n",
    "stopwords_english = stopwords.words(\"english\")"
   ],
   "metadata": {
    "collapsed": false,
    "pycharm": {
     "name": "#%%\n"
    }
   }
  },
  {
   "cell_type": "code",
   "execution_count": 76,
   "outputs": [],
   "source": [
    "def preprocess(sent_:str):\n",
    "\n",
    "    # remove any leading space\n",
    "    sent_ = sent_.lstrip(\" \").lower()\n",
    "    words_in_sent_ = sent_.split(\" \")\n",
    "\n",
    "    # now remove stopwords and punctuation from sentence\n",
    "    words_to_allow_from_sent_ = []\n",
    "    for word in words_in_sent_:\n",
    "        if (word not in stopwords_english and word not in punctuation):\n",
    "            words_to_allow_from_sent_.append(word)\n",
    "\n",
    "    # now stem the words\n",
    "    words_to_allow_from_sent_stemmed = []\n",
    "    for word in words_to_allow_from_sent_:\n",
    "        stem_word = stemmer.stem(word)\n",
    "        words_to_allow_from_sent_stemmed.append(stem_word)\n",
    "\n",
    "    # finally reconstruct the sentence\n",
    "    final_cleaned_sentence = \" \".join(words_to_allow_from_sent_stemmed)\n",
    "    return final_cleaned_sentence\n",
    "\n"
   ],
   "metadata": {
    "collapsed": false,
    "pycharm": {
     "name": "#%%\n"
    }
   }
  },
  {
   "cell_type": "code",
   "execution_count": 77,
   "outputs": [],
   "source": [
    "user_query = \"something that can be used to hold workpiece in cnc machine\"\n",
    "sample_text = [preprocess(user_query)]\n",
    "sample_text_array = np.asarray(sample_text)"
   ],
   "metadata": {
    "collapsed": false,
    "pycharm": {
     "name": "#%%\n"
    }
   }
  },
  {
   "cell_type": "code",
   "execution_count": 78,
   "outputs": [
    {
     "data": {
      "text/plain": "array([[  0,   0,   0,   0,   0,   0,   0,   0,   0,   0,   0,   0,   0,\n          0,   1,   6,  33,  22, 434,  18]])"
     },
     "execution_count": 78,
     "metadata": {},
     "output_type": "execute_result"
    }
   ],
   "source": [
    "sample_text_sequence = loaded_tokenizer.texts_to_sequences(sample_text_array)\n",
    "padded_sample_sequence = pad_sequences(sample_text_sequence, maxlen=max_length)\n",
    "padded_sample_sequence"
   ],
   "metadata": {
    "collapsed": false,
    "pycharm": {
     "name": "#%%\n"
    }
   }
  },
  {
   "cell_type": "code",
   "execution_count": 79,
   "outputs": [
    {
     "name": "stdout",
     "output_type": "stream",
     "text": [
      "Queried part is: Collets\n"
     ]
    }
   ],
   "source": [
    "types = ['Bearings', 'Bolts', 'Collets', 'Springs', 'Sprockets']\n",
    "pred = loaded_model.predict(padded_sample_sequence)\n",
    "index = np.argmax(pred)\n",
    "queried_part = types[int(index)]\n",
    "print(f\"Queried part is: {queried_part}\")"
   ],
   "metadata": {
    "collapsed": false,
    "pycharm": {
     "name": "#%%\n"
    }
   }
  },
  {
   "cell_type": "code",
   "execution_count": 3,
   "outputs": [],
   "source": [
    "\n",
    "stemmer = nltk.stem.PorterStemmer()\n",
    "stopwords_english = nltk.corpus.stopwords.words(\"english\")\n",
    "\n",
    "\n",
    "def stem_preprocess(sent_: str):\n",
    "    # remove punctuation\n",
    "    for punc in string.punctuation:\n",
    "        if punc in sent_:\n",
    "            sent_ = sent_.replace(punc, \"\")\n",
    "\n",
    "    # remove any leading space\n",
    "    sent_ = sent_.lstrip(\" \").lower()\n",
    "    words_in_sent_ = sent_.split(\" \")\n",
    "\n",
    "    # now remove stopwords from sentence\n",
    "    words_to_allow_from_sent_ = []\n",
    "    for word in words_in_sent_:\n",
    "        if word not in stopwords_english and word not in string.punctuation:\n",
    "            words_to_allow_from_sent_.append(word)\n",
    "\n",
    "    # now stem the words\n",
    "    words_to_allow_from_sent_stemmed = []\n",
    "    for word in words_to_allow_from_sent_:\n",
    "        stem_word = stemmer.stem(word)\n",
    "        words_to_allow_from_sent_stemmed.append(stem_word)\n",
    "\n",
    "    # finally reconstruct the sentence\n",
    "    final_cleaned_sentence = \" \".join(words_to_allow_from_sent_stemmed)\n",
    "    return final_cleaned_sentence"
   ],
   "metadata": {
    "collapsed": false,
    "pycharm": {
     "name": "#%%\n"
    }
   }
  },
  {
   "cell_type": "code",
   "execution_count": 2,
   "outputs": [],
   "source": [],
   "metadata": {
    "collapsed": false,
    "pycharm": {
     "name": "#%%\n"
    }
   }
  },
  {
   "cell_type": "code",
   "execution_count": 4,
   "outputs": [
    {
     "name": "stdout",
     "output_type": "stream",
     "text": [
      "absorb energi shock deform load\n"
     ]
    }
   ],
   "source": [
    "print(stem_preprocess(\"Absorbs energy and shock, deforms under load!!!!!\"))"
   ],
   "metadata": {
    "collapsed": false,
    "pycharm": {
     "name": "#%%\n"
    }
   }
  }
 ],
 "metadata": {
  "kernelspec": {
   "display_name": "Python 3",
   "language": "python",
   "name": "python3"
  },
  "language_info": {
   "codemirror_mode": {
    "name": "ipython",
    "version": 2
   },
   "file_extension": ".py",
   "mimetype": "text/x-python",
   "name": "python",
   "nbconvert_exporter": "python",
   "pygments_lexer": "ipython2",
   "version": "2.7.6"
  }
 },
 "nbformat": 4,
 "nbformat_minor": 0
}