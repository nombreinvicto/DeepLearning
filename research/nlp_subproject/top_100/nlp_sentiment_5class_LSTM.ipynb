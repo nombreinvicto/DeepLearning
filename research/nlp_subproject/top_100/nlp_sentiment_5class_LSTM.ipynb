{
 "cells": [
  {
   "cell_type": "code",
   "execution_count": 8,
   "metadata": {
    "collapsed": true
   },
   "outputs": [],
   "source": [
    "import numpy as np\n",
    "import pandas as pd\n",
    "import seaborn as sns\n",
    "import matplotlib.pyplot as plt\n",
    "from matplotlib.figure import Figure\n",
    "import matplotlib.axes._axes as axes\n",
    "sns.set()"
   ]
  },
  {
   "cell_type": "code",
   "execution_count": 9,
   "outputs": [],
   "source": [
    "from tensorflow.keras.preprocessing.text import Tokenizer\n",
    "from tensorflow.keras.preprocessing.sequence import pad_sequences\n"
   ],
   "metadata": {
    "collapsed": false,
    "pycharm": {
     "name": "#%%\n"
    }
   }
  },
  {
   "cell_type": "code",
   "execution_count": 10,
   "outputs": [],
   "source": [
    "# import the necessary packages\n",
    "from sklearn.preprocessing import LabelBinarizer\n",
    "from sklearn.model_selection import train_test_split\n",
    "from sklearn.metrics import classification_report\n",
    "##\n",
    "from tensorflow.keras.layers import Conv2D, Activation, Flatten, Dense, \\\n",
    "    Embedding, GlobalAveragePooling1D, Bidirectional, LSTM, \\\n",
    "    BatchNormalization, Conv1D\n",
    "from tensorflow.keras.optimizers import RMSprop, SGD, Adam\n",
    "from tensorflow.keras.layers import Input\n",
    "from tensorflow.keras.models import load_model\n",
    "from tensorflow.keras.models import Model, Sequential\n"
   ],
   "metadata": {
    "collapsed": false,
    "pycharm": {
     "name": "#%%\n"
    }
   }
  },
  {
   "cell_type": "code",
   "execution_count": 11,
   "outputs": [],
   "source": [
    "# setting global variables\n",
    "dbBase = r\"refined_dataset\"\n",
    "save_path = r\"C:\\Users\\mhasa\\AppData\\Roaming\\Autodesk\\Autodesk Fusion 360\\MyScripts\\PureFlask_3JS_server\\flask_app\\nlp_model\"\n",
    "\n",
    "all_sentences = []\n",
    "all_labels = []"
   ],
   "metadata": {
    "collapsed": false,
    "pycharm": {
     "name": "#%%\n"
    }
   }
  },
  {
   "cell_type": "code",
   "execution_count": 12,
   "outputs": [],
   "source": [
    "# reading the words from file and creating a dataset\n",
    "types = ['bearing', 'bolt', 'collet', 'spring', 'sprocket']\n",
    "class_num = len(types)\n",
    "\n",
    "for label, type in enumerate(types):\n",
    "\n",
    "    with open(f\"{dbBase}//{type}_100.txt\", mode='r') as partFile:\n",
    "        content = partFile.readlines()\n",
    "        content = [c.replace(\"\\n\", \"\") for c in content]\n",
    "\n",
    "        all_sentences.extend(content)\n",
    "        all_labels.extend([label] * len(content))\n",
    "\n",
    "all_sentences = np.array(all_sentences)\n",
    "all_labels = np.array(all_labels)"
   ],
   "metadata": {
    "collapsed": false,
    "pycharm": {
     "name": "#%%\n"
    }
   }
  },
  {
   "cell_type": "code",
   "execution_count": 13,
   "outputs": [],
   "source": [
    "# binarize the labels\n",
    "le = LabelBinarizer()\n",
    "all_labels = le.fit_transform(all_labels)"
   ],
   "metadata": {
    "collapsed": false,
    "pycharm": {
     "name": "#%%\n"
    }
   }
  },
  {
   "cell_type": "code",
   "execution_count": 14,
   "outputs": [],
   "source": [
    "epoch_no = 50\n",
    "vocab_size = 350\n",
    "embedding_dim = 50\n",
    "max_length = 4\n",
    "trunc_type = \"post\"\n",
    "oov_tok = \"<OOV>\"\n",
    "test_size = 0.3"
   ],
   "metadata": {
    "collapsed": false,
    "pycharm": {
     "name": "#%%\n"
    }
   }
  },
  {
   "cell_type": "code",
   "execution_count": 15,
   "outputs": [],
   "source": [
    "# do a trin test split\n",
    "train_sentences, \\\n",
    "test_sentences, \\\n",
    "trainy, \\\n",
    "testy = train_test_split(all_sentences,\n",
    "                         all_labels,\n",
    "                         stratify=all_labels,\n",
    "                         test_size=test_size,\n",
    "                         random_state=42)\n"
   ],
   "metadata": {
    "collapsed": false,
    "pycharm": {
     "name": "#%%\n"
    }
   }
  },
  {
   "cell_type": "code",
   "execution_count": 16,
   "outputs": [
    {
     "name": "stdout",
     "output_type": "stream",
     "text": [
      "397\n",
      "{'<OOV>': 1, 'holder': 2, 'elastic': 3, 'roller': 4, 'workpiece': 5, 'centering': 6, 'screw': 7, 'energy': 8, 'gear': 9, 'tool': 10, 'self': 11, 'chain': 12, 'rod': 13, 'threaded': 14, 'element': 15, 'rear': 16, 'jaw': 17, 'wheel': 18, 'chuck': 19, 'harmonic': 20, 'clamping': 21, 'coil': 22, 'hex': 23, 'helical': 24, 'bearings': 25, 'member': 26, 'shafts': 27, 'pinion': 28, 'derailleur': 29, 'machine': 30, 'tensioner': 31, 'piston': 32, 'gears': 33, 'radial': 34, 'shaft': 35, 'belt': 36, 'component': 37, 'compression': 38, 'fixture': 39, 'wrench': 40, 'brake': 41, 'holding': 42, 'taper': 43, 'driven': 44, 'hydraulically': 45, 'valves': 46, 'lever': 47, 'mechanism': 48, 'bolts': 49, 'tension': 50, 'spring': 51, 'fastener': 52, 'spherical': 53, 'concentric': 54, 'joiner': 55, 'hydraulic': 56, 'torque': 57, 'springs': 58, 'gripper': 59, 'speed': 60, 'hold': 61, 'bolt': 62, 'allen': 63, 'extension': 64, 'suspension': 65, 'gearbox': 66, 'shock': 67, 'absorber': 68, 'outer': 69, 'sleeve': 70, 'spline': 71, 'device': 72, 'screws': 73, 'rotary': 74, 'idler': 75, 'pulley': 76, 'scroll': 77, 'squeezer': 78, 'tapered': 79, 'flange': 80, 'torsion': 81, 'axle': 82, 'grease': 83, 'mandrel': 84, 'wheels': 85, 'slinky': 86, 'fixer': 87, 'fasteners': 88, 'headstock': 89, 'cnc': 90, 'ferrule': 91, 'balancer': 92, 'pneumatically': 93, 'coiled': 94, 'nuts': 95, 'vehicle': 96, 'tailstock': 97, 'torsional': 98, 'cartridge': 99, 'chromium': 100, 'plated': 101, 'bevel': 102, 'windings': 103, 'belts': 104, 'pulleys': 105, 'fast': 106, 'chucking': 107, 'socket': 108, 'head': 109, 'latching': 110, 'dowel': 111, 'conveyor': 112, 'rollers': 113, 'chainset': 114, 'shifters': 115, 'inner': 116, 'axles': 117, 'retention': 118, 'locking': 119, 'gearset': 120, 'drill': 121, 'bit': 122, 'front': 123, 'race': 124, 'cylindrical': 125, 'latch': 126, 'elongates': 127, 'thread': 128, 'force': 129, 'absorbing': 130, 'mattresses': 131, 'collar': 132, 'swingarm': 133, 'pivot': 134, 'clasps': 135, 'tooth': 136, 'chainring': 137, 'stiffness': 138, 'secure': 139, 'drive': 140, 'servo': 141, 'spindle': 142, 'jaws': 143, 'diff': 144, 'compressive': 145, 'elements': 146, 'wrenches': 147, 'balance': 148, 'mounted': 149, 'collet': 150, 'shifter': 151, 'paddle': 152, 'pin': 153, 'sprocket': 154, 'overtightened': 155, 'bar': 156, 'rivet': 157, 'conveyors': 158, 'squeezing': 159, 'crankshaft': 160, 'lubricated': 161, 'transmission': 162, 'motion': 163, 'key': 164, 'cam': 165, 'independant': 166, 'workholding': 167, 'buckling': 168, 'planetary': 169, 'timing': 170, 'lubricate': 171, 'spoked': 172, 'hairlike': 173, 'material': 174, 'reducers': 175, 'keyways': 176, 'carriage': 177, 'wiper': 178, 'motors': 179, 'splined': 180, 'pad': 181, 'mounting': 182, 'clamp': 183, 'nodular': 184, 'iron': 185, 'range': 186, 'coiling': 187, 'arbor': 188, 'securer': 189, 'over': 190, 'aligning': 191, 'm20': 192, 'pneumatic': 193, 'cylinders': 194, 'axial': 195, 'loading': 196, 'remove': 197, 'giblets': 198, 'semi': 199, 'automatic': 200, 'gyroscope': 201, 'motor': 202, 'bolted': 203, 'joint': 204, 'staple': 205, 'velcro': 206, 'strips': 207, 'cap': 208, 'freehub': 209, 'body': 210, 'transaxle': 211, 'tail': 212, 'stock': 213, 'adjuster': 214, 'adjustable': 215, 'camshaft': 216, 'partially': 217, 'sheave': 218, 'toroid': 219, 'spool': 220, 'tappet': 221, 'coupler': 222, 'ring': 223, 'sphere': 224, 'industrial': 225, 'joining': 226, 'mesh': 227, 'suppleness': 228, 'components': 229, 'structure': 230, 'rods': 231, 'auxiliary': 232, 'hydraulics': 233, 'lock': 234, 'metallic': 235, 'fixtures': 236, 'predrilled': 237, 'holes': 238, 'wound': 239, 'bicycle': 240, 'gearing': 241, 'caliper': 242, 'brakes': 243, 'flexibility': 244, 'helices': 245, 'padlock': 246, 'derailleurs': 247, 'waviness': 248, 'expandable': 249, 'stent': 250, 'male': 251, 'ballscrew': 252, 'drywall': 253, 'controlled': 254, 'm33': 255, 'bearing': 256, 'distortion': 257, 'weld': 258, 'hydrostatic': 259, 'oscillatory': 260, 'high': 261, 'campagnolo': 262, 'record': 263, 'rolling': 264, 'track': 265, 'silicone': 266, 'metric': 267, 'chainstays': 268, 'removable': 269, 'laminations': 270, 'mandrels': 271, 'locks': 272, 'three': 273, 'headed': 274, 'teeth': 275, 'pintle': 276, 'pliancy': 277, 'lathe': 278, 'sheet': 279, 'metal': 280, 'anchor': 281, 'fixers': 282, 'pistons': 283, 'milling': 284, 'storing': 285, 'change': 286, 'bore': 287, 'proportioning': 288, 'm10': 289, 'lugnut': 290, 'cog': 291, 'longitudinally': 292, 'engine': 293, 'four': 294, 'variable': 295, 'thumb': 296, 'six': 297, 'steptronic': 298, 'nailers': 299, 'dual': 300, 'calipers': 301, 'train': 302, 'hexagonal': 303, 'tack': 304, 'welded': 305, 'tightening': 306, 'ball': 307, 'collars': 308, 'hardware': 309, 'helically': 310, 'center': 311, 'machining': 312, 'malleability': 313, 'lubrication': 314, 'levers': 315, 'differential': 316, 'coefficient': 317, 'of': 318, 'resilience': 319, 'counter': 320, 'multiaxial': 321, 'piping': 322, 'convertor': 323, 'powershift': 324, 'twisted': 325, 'cotter': 326, 'fittings': 327, 'cranksets': 328, 'machined': 329, 'fastenings': 330, 'chrome': 331, 'grilles': 332, 'for': 333, 'adjustment': 334, 'hexagon': 335, 'wheelsets': 336, 'thin': 337, 'wall': 338, 'tubing': 339, 'tensioners': 340, 'propeller': 341, 'winding': 342, 'stud': 343, 'trampoline': 344, 'serpentine': 345, 'cylinder': 346, 'bores': 347, 'telescopic': 348, 'forks': 349, 'shift': 350, 'without': 351, 'nut': 352, 'chucks': 353, 'rag': 354, 'leaf': 355, 'bike': 356, 'groupsets': 357, 'rotor': 358, 'reducer': 359, 'youngs': 360, 'modulus': 361, 'clasp': 362, 'angle': 363, 'gearboxes': 364, 'rigidity': 365, 'gearshift': 366, 'belay': 367, 'hollow': 368, 'screwdriving': 369, 'sequential': 370, 'telescoping': 371, 'tube': 372, 'tightener': 373, 'workability': 374, 'deformation': 375, 'flanges': 376, 'ductility': 377, 'powered': 378, 'trunnion': 379, 'limberness': 380, 'skidplate': 381, 'arm': 382, 'shapes': 383, 'clutch': 384, 'triple': 385, 'gated': 386, 'toothed': 387, 'steerer': 388, 'adaptability': 389, 'skewer': 390, 'simple': 391, 'under': 392, 'operated': 393, 'countersunk': 394, 'compressor': 395, 'spur': 396, 'actuated': 397}\n"
     ]
    }
   ],
   "source": [
    "# tokenize the train set\n",
    "tokenizer = Tokenizer(num_words=vocab_size, oov_token=oov_tok)\n",
    "tokenizer.fit_on_texts(train_sentences)\n",
    "train_sequences = tokenizer.texts_to_sequences(train_sentences)\n",
    "padded_train_sequences = pad_sequences(train_sequences, maxlen=max_length,\n",
    "                                       truncating=trunc_type)\n",
    "# tokenise and pad the test set\n",
    "test_sequences = tokenizer.texts_to_sequences(test_sentences)\n",
    "padded_test_sequences = pad_sequences(test_sequences, maxlen=max_length)\n",
    "\n",
    "# check out the word index\n",
    "print(len(tokenizer.word_index.keys()))\n",
    "print(tokenizer.word_index)"
   ],
   "metadata": {
    "collapsed": false,
    "pycharm": {
     "name": "#%%\n"
    }
   }
  },
  {
   "cell_type": "code",
   "execution_count": 17,
   "outputs": [
    {
     "name": "stdout",
     "output_type": "stream",
     "text": [
      "Model: \"sequential\"\n",
      "_________________________________________________________________\n",
      "Layer (type)                 Output Shape              Param #   \n",
      "=================================================================\n",
      "embedding (Embedding)        (None, 4, 50)             17500     \n",
      "_________________________________________________________________\n",
      "conv1d (Conv1D)              (None, 2, 128)            19328     \n",
      "_________________________________________________________________\n",
      "global_average_pooling1d (Gl (None, 128)               0         \n",
      "_________________________________________________________________\n",
      "dense (Dense)                (None, 32)                4128      \n",
      "_________________________________________________________________\n",
      "batch_normalization (BatchNo (None, 32)                128       \n",
      "_________________________________________________________________\n",
      "dense_1 (Dense)              (None, 5)                 165       \n",
      "=================================================================\n",
      "Total params: 41,249\n",
      "Trainable params: 41,185\n",
      "Non-trainable params: 64\n",
      "_________________________________________________________________\n"
     ]
    }
   ],
   "source": [
    "# now construct the model\n",
    "model = Sequential()\n",
    "model.add(Embedding(input_dim=vocab_size,\n",
    "                    output_dim=embedding_dim,\n",
    "                    input_length=max_length))\n",
    "\n",
    "# change here\n",
    "#model.add(Flatten())\n",
    "\n",
    "# model.add(Bidirectional(LSTM(128, return_sequences=True)))\n",
    "# model.add(Bidirectional(LSTM(64)))\n",
    "\n",
    "model.add(Conv1D(filters=128, kernel_size=3, activation='relu'))\n",
    "model.add(GlobalAveragePooling1D())\n",
    "\n",
    "# change ends here\n",
    "model.add(Dense(units=32, activation='relu'))\n",
    "model.add(BatchNormalization())\n",
    "model.add(Dense(units=class_num, activation=\"softmax\"))\n",
    "\n",
    "# compile the model\n",
    "model.compile(loss=\"categorical_crossentropy\",\n",
    "              optimizer = 'adam', metrics=['accuracy'])\n",
    "\n",
    "model.summary()"
   ],
   "metadata": {
    "collapsed": false,
    "pycharm": {
     "name": "#%%\n"
    }
   }
  },
  {
   "cell_type": "code",
   "execution_count": 18,
   "outputs": [
    {
     "name": "stdout",
     "output_type": "stream",
     "text": [
      "Train on 420 samples, validate on 180 samples\n",
      "Epoch 1/50\n",
      "420/420 [==============================] - 2s 4ms/sample - loss: 1.5231 - accuracy: 0.3286 - val_loss: 1.5976 - val_accuracy: 0.3889\b\b\b\b\b\b\b\b\b\b\b\b\b\b\b\b\b\b\b\b\b\b\b\b\b\b\b\b\b\b\b\b\b\b\b\b\b\b\n",
      "Epoch 2/50\n",
      "420/420 [==============================] - 0s 128us/sample - loss: 1.1031 - accuracy: 0.7000 - val_loss: 1.5806 - val_accuracy: 0.5111\b\b\b\b\b\b\b\b\b\b\b\b\b\b\b\b\b\b\b\b\b\b\b\b\b\b\b\b\b\b\b\b\b\b\n",
      "Epoch 3/50\n",
      "420/420 [==============================] - 0s 117us/sample - loss: 0.7618 - accuracy: 0.8119 - val_loss: 1.5533 - val_accuracy: 0.6500\b\b\b\b\b\b\b\b\b\b\b\b\b\b\b\b\b\b\b\b\b\b\b\b\b\b\b\b\b\b\b\b\b\b\n",
      "Epoch 4/50\n",
      "420/420 [==============================] - 0s 124us/sample - loss: 0.4830 - accuracy: 0.8738 - val_loss: 1.5203 - val_accuracy: 0.6667\b\b\b\b\b\b\b\b\b\b\b\b\b\b\b\b\b\b\b\b\b\b\b\b\b\b\b\b\b\b\b\b\b\b\n",
      "Epoch 5/50\n",
      "420/420 [==============================] - 0s 126us/sample - loss: 0.3300 - accuracy: 0.9238 - val_loss: 1.4907 - val_accuracy: 0.6944\b\b\b\b\b\b\b\b\b\b\b\b\b\b\b\b\b\b\b\b\b\b\b\b\b\b\b\b\b\b\b\b\b\b\n",
      "Epoch 6/50\n",
      "420/420 [==============================] - 0s 128us/sample - loss: 0.2531 - accuracy: 0.9405 - val_loss: 1.4613 - val_accuracy: 0.6611\b\b\b\b\b\b\b\b\b\b\b\b\b\b\b\b\b\b\b\b\b\b\b\b\b\b\b\b\b\b\b\b\b\b\n",
      "Epoch 7/50\n",
      "420/420 [==============================] - 0s 123us/sample - loss: 0.1891 - accuracy: 0.9500 - val_loss: 1.4367 - val_accuracy: 0.7000\b\b\b\b\b\b\b\b\b\b\b\b\b\b\b\b\b\b\b\b\b\b\b\b\b\b\b\b\b\b\b\b\b\b\n",
      "Epoch 8/50\n",
      "420/420 [==============================] - 0s 117us/sample - loss: 0.1690 - accuracy: 0.9500 - val_loss: 1.4138 - val_accuracy: 0.6778\b\b\b\b\b\b\b\b\b\b\b\b\b\b\b\b\b\b\b\b\b\b\b\b\b\b\b\b\b\b\b\b\b\b\n",
      "Epoch 9/50\n",
      "420/420 [==============================] - 0s 111us/sample - loss: 0.1382 - accuracy: 0.9548 - val_loss: 1.3878 - val_accuracy: 0.7000\b\b\b\b\b\b\b\b\b\b\b\b\b\b\b\b\b\b\b\b\b\b\b\b\b\b\b\b\b\b\b\b\b\b\n",
      "Epoch 10/50\n",
      "420/420 [==============================] - 0s 119us/sample - loss: 0.1366 - accuracy: 0.9548 - val_loss: 1.3646 - val_accuracy: 0.6611\b\b\b\b\b\b\b\b\b\b\b\b\b\b\b\b\b\b\b\b\b\b\b\b\b\b\b\b\b\b\b\b\b\b\n",
      "Epoch 11/50\n",
      "420/420 [==============================] - 0s 116us/sample - loss: 0.1338 - accuracy: 0.9571 - val_loss: 1.3377 - val_accuracy: 0.6500\b\b\b\b\b\b\b\b\b\b\b\b\b\b\b\b\b\b\b\b\b\b\b\b\b\b\b\b\b\b\b\b\b\b\n",
      "Epoch 12/50\n",
      "420/420 [==============================] - 0s 126us/sample - loss: 0.1265 - accuracy: 0.9476 - val_loss: 1.3126 - val_accuracy: 0.6444\b\b\b\b\b\b\b\b\b\b\b\b\b\b\b\b\b\b\b\b\b\b\b\b\b\b\b\b\b\b\b\b\b\b\n",
      "Epoch 13/50\n",
      "420/420 [==============================] - 0s 116us/sample - loss: 0.1312 - accuracy: 0.9524 - val_loss: 1.2785 - val_accuracy: 0.6833\b\b\b\b\b\b\b\b\b\b\b\b\b\b\b\b\b\b\b\b\b\b\b\b\b\b\b\b\b\b\b\b\b\b\n",
      "Epoch 14/50\n",
      "420/420 [==============================] - 0s 109us/sample - loss: 0.1301 - accuracy: 0.9548 - val_loss: 1.2574 - val_accuracy: 0.6167\b\b\b\b\b\b\b\b\b\b\b\b\b\b\b\b\b\b\b\b\b\b\b\b\b\b\b\b\b\b\b\b\b\b\n",
      "Epoch 15/50\n",
      "420/420 [==============================] - 0s 128us/sample - loss: 0.1353 - accuracy: 0.9571 - val_loss: 1.2205 - val_accuracy: 0.6889\b\b\b\b\b\b\b\b\b\b\b\b\b\b\b\b\b\b\b\b\b\b\b\b\b\b\b\b\b\b\b\b\b\b\n",
      "Epoch 16/50\n",
      "420/420 [==============================] - 0s 115us/sample - loss: 0.1297 - accuracy: 0.9571 - val_loss: 1.1926 - val_accuracy: 0.6944\b\b\b\b\b\b\b\b\b\b\b\b\b\b\b\b\b\b\b\b\b\b\b\b\b\b\b\b\b\b\b\b\b\b\n",
      "Epoch 17/50\n",
      "420/420 [==============================] - 0s 115us/sample - loss: 0.1221 - accuracy: 0.9595 - val_loss: 1.1732 - val_accuracy: 0.6667\b\b\b\b\b\b\b\b\b\b\b\b\b\b\b\b\b\b\b\b\b\b\b\b\b\b\b\b\b\b\b\b\b\b\n",
      "Epoch 18/50\n",
      "420/420 [==============================] - 0s 105us/sample - loss: 0.1267 - accuracy: 0.9500 - val_loss: 1.1715 - val_accuracy: 0.6389\b\b\b\b\b\b\b\b\b\b\b\b\b\b\b\b\b\b\b\b\b\b\b\b\b\b\b\b\b\b\b\b\b\b\n",
      "Epoch 19/50\n",
      "420/420 [==============================] - 0s 121us/sample - loss: 0.1102 - accuracy: 0.9619 - val_loss: 1.1212 - val_accuracy: 0.6500\b\b\b\b\b\b\b\b\b\b\b\b\b\b\b\b\b\b\b\b\b\b\b\b\b\b\b\b\b\b\b\b\b\b\n",
      "Epoch 20/50\n",
      "420/420 [==============================] - 0s 135us/sample - loss: 0.1155 - accuracy: 0.9548 - val_loss: 1.0745 - val_accuracy: 0.6722\b\b\b\b\b\b\b\b\b\b\b\b\b\b\b\b\b\b\b\b\b\b\b\b\b\b\b\b\b\b\b\b\b\b\n",
      "Epoch 21/50\n",
      "420/420 [==============================] - 0s 124us/sample - loss: 0.1093 - accuracy: 0.9595 - val_loss: 1.0744 - val_accuracy: 0.6722\b\b\b\b\b\b\b\b\b\b\b\b\b\b\b\b\b\b\b\b\b\b\b\b\b\b\b\b\b\b\b\b\b\b\n",
      "Epoch 22/50\n",
      "420/420 [==============================] - 0s 107us/sample - loss: 0.1292 - accuracy: 0.9405 - val_loss: 1.0370 - val_accuracy: 0.6556\b\b\b\b\b\b\b\b\b\b\b\b\b\b\b\b\b\b\b\b\b\b\b\b\b\b\b\b\b\b\b\b\b\b\n",
      "Epoch 23/50\n",
      "420/420 [==============================] - 0s 98us/sample - loss: 0.1066 - accuracy: 0.9524 - val_loss: 1.0432 - val_accuracy: 0.6500\b\b\b\b\b\b\b\b\b\b\b\b\b\b\b\b\b\b\b\b\b\b\b\b\b\b\b\b\b\b\b\b\b\b\b\n",
      "Epoch 24/50\n",
      "420/420 [==============================] - 0s 128us/sample - loss: 0.1056 - accuracy: 0.9643 - val_loss: 1.0047 - val_accuracy: 0.6611\b\b\b\b\b\b\b\b\b\b\b\b\b\b\b\b\b\b\b\b\b\b\b\b\b\b\b\b\b\b\b\b\b\b\n",
      "Epoch 25/50\n",
      "420/420 [==============================] - 0s 112us/sample - loss: 0.1055 - accuracy: 0.9548 - val_loss: 0.9935 - val_accuracy: 0.6444\b\b\b\b\b\b\b\b\b\b\b\b\b\b\b\b\b\b\b\b\b\b\b\b\b\b\b\b\b\b\b\b\b\b\n",
      "Epoch 26/50\n",
      "420/420 [==============================] - 0s 123us/sample - loss: 0.0992 - accuracy: 0.9571 - val_loss: 0.9540 - val_accuracy: 0.6722\b\b\b\b\b\b\b\b\b\b\b\b\b\b\b\b\b\b\b\b\b\b\b\b\b\b\b\b\b\b\b\b\b\b\n",
      "Epoch 27/50\n",
      "420/420 [==============================] - 0s 116us/sample - loss: 0.1007 - accuracy: 0.9643 - val_loss: 0.9163 - val_accuracy: 0.6722\b\b\b\b\b\b\b\b\b\b\b\b\b\b\b\b\b\b\b\b\b\b\b\b\b\b\b\b\b\b\b\b\b\b\n",
      "Epoch 28/50\n",
      "420/420 [==============================] - 0s 150us/sample - loss: 0.1055 - accuracy: 0.9595 - val_loss: 0.9057 - val_accuracy: 0.6833\b\b\b\b\b\b\b\b\b\b\b\b\b\b\b\b\b\b\b\b\b\b\b\b\b\b\b\b\b\b\b\b\b\b\n",
      "Epoch 29/50\n",
      "420/420 [==============================] - 0s 145us/sample - loss: 0.1134 - accuracy: 0.9548 - val_loss: 0.9487 - val_accuracy: 0.6722\b\b\b\b\b\b\b\b\b\b\b\b\b\b\b\b\b\b\b\b\b\b\b\b\b\b\b\b\b\b\b\b\b\b\n",
      "Epoch 30/50\n",
      "420/420 [==============================] - 0s 121us/sample - loss: 0.1064 - accuracy: 0.9619 - val_loss: 0.9450 - val_accuracy: 0.6389\b\b\b\b\b\b\b\b\b\b\b\b\b\b\b\b\b\b\b\b\b\b\b\b\b\b\b\b\b\b\b\b\b\b\n",
      "Epoch 31/50\n",
      "420/420 [==============================] - 0s 107us/sample - loss: 0.1070 - accuracy: 0.9571 - val_loss: 0.9256 - val_accuracy: 0.6278\b\b\b\b\b\b\b\b\b\b\b\b\b\b\b\b\b\b\b\b\b\b\b\b\b\b\b\b\b\b\b\b\b\b\n",
      "Epoch 32/50\n",
      "420/420 [==============================] - 0s 116us/sample - loss: 0.1086 - accuracy: 0.9524 - val_loss: 0.9441 - val_accuracy: 0.6278\b\b\b\b\b\b\b\b\b\b\b\b\b\b\b\b\b\b\b\b\b\b\b\b\b\b\b\b\b\b\b\b\b\b\n",
      "Epoch 33/50\n",
      "420/420 [==============================] - 0s 122us/sample - loss: 0.0986 - accuracy: 0.9619 - val_loss: 0.8944 - val_accuracy: 0.6889\b\b\b\b\b\b\b\b\b\b\b\b\b\b\b\b\b\b\b\b\b\b\b\b\b\b\b\b\b\b\b\b\b\b\n",
      "Epoch 34/50\n",
      "420/420 [==============================] - 0s 116us/sample - loss: 0.1097 - accuracy: 0.9476 - val_loss: 0.9529 - val_accuracy: 0.6667\b\b\b\b\b\b\b\b\b\b\b\b\b\b\b\b\b\b\b\b\b\b\b\b\b\b\b\b\b\b\b\b\b\b\n",
      "Epoch 35/50\n",
      "420/420 [==============================] - 0s 123us/sample - loss: 0.0996 - accuracy: 0.9524 - val_loss: 0.9343 - val_accuracy: 0.6778\b\b\b\b\b\b\b\b\b\b\b\b\b\b\b\b\b\b\b\b\b\b\b\b\b\b\b\b\b\b\b\b\b\b\n",
      "Epoch 36/50\n",
      "420/420 [==============================] - 0s 135us/sample - loss: 0.0969 - accuracy: 0.9643 - val_loss: 1.0450 - val_accuracy: 0.6778\b\b\b\b\b\b\b\b\b\b\b\b\b\b\b\b\b\b\b\b\b\b\b\b\b\b\b\b\b\b\b\b\b\b\n",
      "Epoch 37/50\n",
      "420/420 [==============================] - 0s 152us/sample - loss: 0.0976 - accuracy: 0.9619 - val_loss: 1.0075 - val_accuracy: 0.6778\b\b\b\b\b\b\b\b\b\b\b\b\b\b\b\b\b\b\b\b\b\b\b\b\b\b\b\b\b\b\b\b\b\b\n",
      "Epoch 38/50\n",
      "420/420 [==============================] - 0s 138us/sample - loss: 0.1140 - accuracy: 0.9643 - val_loss: 0.9604 - val_accuracy: 0.6889\b\b\b\b\b\b\b\b\b\b\b\b\b\b\b\b\b\b\b\b\b\b\b\b\b\b\b\b\b\b\b\b\b\b\n",
      "Epoch 39/50\n",
      "420/420 [==============================] - 0s 180us/sample - loss: 0.1042 - accuracy: 0.9548 - val_loss: 1.0008 - val_accuracy: 0.6667\b\b\b\b\b\b\b\b\b\b\b\b\b\b\b\b\b\b\b\b\b\b\b\b\b\b\b\b\b\b\b\b\b\b\n",
      "Epoch 40/50\n",
      "420/420 [==============================] - 0s 157us/sample - loss: 0.1102 - accuracy: 0.9524 - val_loss: 0.9701 - val_accuracy: 0.6500\b\b\b\b\b\b\b\b\b\b\b\b\b\b\b\b\b\b\b\b\b\b\b\b\b\b\b\b\b\b\b\b\b\b\n",
      "Epoch 41/50\n",
      "420/420 [==============================] - 0s 147us/sample - loss: 0.1153 - accuracy: 0.9619 - val_loss: 0.9679 - val_accuracy: 0.6778\b\b\b\b\b\b\b\b\b\b\b\b\b\b\b\b\b\b\b\b\b\b\b\b\b\b\b\b\b\b\b\b\b\b\n",
      "Epoch 42/50\n",
      "420/420 [==============================] - 0s 171us/sample - loss: 0.0904 - accuracy: 0.9619 - val_loss: 0.9524 - val_accuracy: 0.6944\b\b\b\b\b\b\b\b\b\b\b\b\b\b\b\b\b\b\b\b\b\b\b\b\b\b\b\b\b\b\b\b\b\b\n",
      "Epoch 43/50\n",
      "420/420 [==============================] - 0s 133us/sample - loss: 0.0986 - accuracy: 0.9619 - val_loss: 1.0412 - val_accuracy: 0.6778\b\b\b\b\b\b\b\b\b\b\b\b\b\b\b\b\b\b\b\b\b\b\b\b\b\b\b\b\b\b\b\b\b\b\n",
      "Epoch 44/50\n",
      "420/420 [==============================] - 0s 131us/sample - loss: 0.1089 - accuracy: 0.9571 - val_loss: 1.0996 - val_accuracy: 0.6500\b\b\b\b\b\b\b\b\b\b\b\b\b\b\b\b\b\b\b\b\b\b\b\b\b\b\b\b\b\b\b\b\b\b\n",
      "Epoch 45/50\n",
      "420/420 [==============================] - 0s 138us/sample - loss: 0.1154 - accuracy: 0.9548 - val_loss: 1.0248 - val_accuracy: 0.6833\b\b\b\b\b\b\b\b\b\b\b\b\b\b\b\b\b\b\b\b\b\b\b\b\b\b\b\b\b\b\b\b\b\b\n",
      "Epoch 46/50\n",
      "420/420 [==============================] - 0s 116us/sample - loss: 0.1016 - accuracy: 0.9571 - val_loss: 1.0395 - val_accuracy: 0.6778\b\b\b\b\b\b\b\b\b\b\b\b\b\b\b\b\b\b\b\b\b\b\b\b\b\b\b\b\b\b\b\b\b\b\n",
      "Epoch 47/50\n",
      "420/420 [==============================] - 0s 109us/sample - loss: 0.1005 - accuracy: 0.9548 - val_loss: 1.0392 - val_accuracy: 0.6556\b\b\b\b\b\b\b\b\b\b\b\b\b\b\b\b\b\b\b\b\b\b\b\b\b\b\b\b\b\b\b\b\b\b\n",
      "Epoch 48/50\n",
      "420/420 [==============================] - 0s 109us/sample - loss: 0.1080 - accuracy: 0.9548 - val_loss: 1.0484 - val_accuracy: 0.6833\b\b\b\b\b\b\b\b\b\b\b\b\b\b\b\b\b\b\b\b\b\b\b\b\b\b\b\b\b\b\b\b\b\b\n",
      "Epoch 49/50\n",
      "420/420 [==============================] - 0s 112us/sample - loss: 0.0989 - accuracy: 0.9619 - val_loss: 1.2090 - val_accuracy: 0.6667\b\b\b\b\b\b\b\b\b\b\b\b\b\b\b\b\b\b\b\b\b\b\b\b\b\b\b\b\b\b\b\b\b\b\n",
      "Epoch 50/50\n",
      "420/420 [==============================] - 0s 128us/sample - loss: 0.1211 - accuracy: 0.9500 - val_loss: 1.6837 - val_accuracy: 0.5889\b\b\b\b\b\b\b\b\b\b\b\b\b\b\b\b\b\b\b\b\b\b\b\b\b\b\b\b\b\b\b\b\b\b\n"
     ]
    }
   ],
   "source": [
    "H = model.fit(padded_train_sequences,\n",
    "          trainy,\n",
    "          epochs=epoch_no,\n",
    "          validation_data=(padded_test_sequences, testy))"
   ],
   "metadata": {
    "collapsed": false,
    "pycharm": {
     "name": "#%%\n"
    }
   }
  },
  {
   "cell_type": "code",
   "execution_count": 19,
   "outputs": [],
   "source": [
    "epochs = range(1,epoch_no+1)\n",
    "loss = H.history['loss']\n",
    "accuracy = H.history['accuracy']\n",
    "val_loss = H.history['val_loss']\n",
    "val_accuracy = H.history['val_accuracy']\n",
    "plot_df = pd.DataFrame(data=np.c_[epochs,loss,accuracy,val_loss,val_accuracy],\n",
    "                       columns=['epochs','loss', 'accuracy', 'val_loss', 'val_accuracy'])"
   ],
   "metadata": {
    "collapsed": false,
    "pycharm": {
     "name": "#%%\n"
    }
   }
  },
  {
   "cell_type": "code",
   "execution_count": 20,
   "outputs": [
    {
     "data": {
      "text/plain": "<Figure size 1296x720 with 1 Axes>",
      "image/png": "[encoded data removed]"
     },
     "metadata": {},
     "output_type": "display_data"
    }
   ],
   "source": [
    "sns.set(font_scale=1)\n",
    "f, ax = plt.subplots(1, 1, figsize=(18,10))\n",
    "sns.lineplot(data=plot_df, x='epochs', y='loss', ax=ax, label='train loss', linewidth=3)\n",
    "sns.lineplot(data=plot_df, x='epochs', y='accuracy', ax=ax, label='train accuracy', linewidth=3)\n",
    "sns.lineplot(data=plot_df, x='epochs', y='val_loss', ax=ax, label='val loss', linewidth=3)\n",
    "sns.lineplot(data=plot_df, x='epochs', y='val_accuracy', ax=ax, label='val_accuracy', linewidth=3)\n",
    "ax.set_ylabel('Loss or Accuracy')\n",
    "ax.set_xlabel('Epochs')\n",
    "plt.setp(ax.get_legend().get_texts(), fontsize='18'); # for legend text"
   ],
   "metadata": {
    "collapsed": false,
    "pycharm": {
     "name": "#%%\n"
    }
   }
  },
  {
   "cell_type": "code",
   "execution_count": 21,
   "outputs": [],
   "source": [
    "# save the model\n",
    "save_path = r\"C:\\Users\\mhasa\\AppData\\Roaming\\Autodesk\\Autodesk Fusion 360\\MyScripts\\PureFlask_3JS_server\\flask_app\\nlp_model\"\n",
    "model.save(f\"{save_path}\\\\nlp_model.h5\", overwrite=True)"
   ],
   "metadata": {
    "collapsed": false,
    "pycharm": {
     "name": "#%%\n"
    }
   }
  },
  {
   "cell_type": "code",
   "execution_count": 22,
   "outputs": [
    {
     "name": "stdout",
     "output_type": "stream",
     "text": [
      "(350, 50)\n"
     ]
    }
   ],
   "source": [
    "embedding_layer = model.layers[0]\n",
    "embedding_weights = embedding_layer.get_weights()[0]\n",
    "print(embedding_weights.shape)"
   ],
   "metadata": {
    "collapsed": false,
    "pycharm": {
     "name": "#%%\n"
    }
   }
  },
  {
   "cell_type": "code",
   "execution_count": 23,
   "outputs": [],
   "source": [
    "reverse_word_index = dict([(val, key)\n",
    "                           for (key, val) in tokenizer.word_index.items()])"
   ],
   "metadata": {
    "collapsed": false,
    "pycharm": {
     "name": "#%%\n"
    }
   }
  },
  {
   "cell_type": "code",
   "execution_count": 24,
   "outputs": [],
   "source": [
    "import io\n",
    "\n",
    "out_v = io.open('vecs.tsv', 'w', encoding='utf-8')\n",
    "out_m = io.open('meta.tsv', 'w', encoding='utf-8')\n",
    "for word_num in range(1, vocab_size):\n",
    "  word = reverse_word_index[word_num]\n",
    "  embeddings = embedding_weights[word_num]\n",
    "  out_m.write(word + \"\\n\")\n",
    "  out_v.write('\\t'.join([str(x) for x in embeddings]) + \"\\n\")\n",
    "out_v.close()\n",
    "out_m.close()"
   ],
   "metadata": {
    "collapsed": false,
    "pycharm": {
     "name": "#%%\n"
    }
   }
  },
  {
   "cell_type": "code",
   "execution_count": 25,
   "outputs": [],
   "source": [
    "# save my embedding matrix\n",
    "out_e = io.open('embed_matrix.txt', 'w', encoding='utf-8')\n",
    "\n",
    "for word_num in range(1, vocab_size):\n",
    "  word = reverse_word_index[word_num]\n",
    "  embeddings = embedding_weights[word_num]\n",
    "  out_str = word + '\\t' + '\\t'.join([str(x) for x in embeddings]) + \"\\n\"\n",
    "  out_e.write(out_str)\n",
    "out_e.close()"
   ],
   "metadata": {
    "collapsed": false,
    "pycharm": {
     "name": "#%%\n"
    }
   }
  },
  {
   "cell_type": "code",
   "execution_count": 26,
   "outputs": [
    {
     "data": {
      "text/plain": "array([[  0, 170,  36,  37],\n       [  0,   0,   0,  84],\n       [  0,   0,   0, 171],\n       ...,\n       [  0,   0,  20,   1],\n       [  0,   0,  28,  33],\n       [  0,   0, 169,  33]])"
     },
     "execution_count": 26,
     "metadata": {},
     "output_type": "execute_result"
    }
   ],
   "source": [
    "padded_train_sequences"
   ],
   "metadata": {
    "collapsed": false,
    "pycharm": {
     "name": "#%%\n"
    }
   }
  },
  {
   "cell_type": "code",
   "execution_count": 27,
   "outputs": [],
   "source": [
    "import pickle\n",
    "\n",
    "# saving\n",
    "with open(f'{save_path}//tokenizer.pickle', 'wb') as handle:\n",
    "    pickle.dump(tokenizer, handle, protocol=pickle.HIGHEST_PROTOCOL)"
   ],
   "metadata": {
    "collapsed": false,
    "pycharm": {
     "name": "#%%\n"
    }
   }
  },
  {
   "cell_type": "code",
   "execution_count": 28,
   "outputs": [],
   "source": [
    "# loading the tokenizer\n",
    "import pickle\n",
    "save_path = r\"C:\\Users\\mhasa\\AppData\\Roaming\\Autodesk\\Autodesk Fusion 360\\MyScripts\\PureFlask_3JS_server\\flask_app\\nlp_model\"\n",
    "\n",
    "with open(f'{save_path}//tokenizer.pickle', 'rb') as handle:\n",
    "    loaded_tokenizer = pickle.load(handle)"
   ],
   "metadata": {
    "collapsed": false,
    "pycharm": {
     "name": "#%%\n"
    }
   }
  },
  {
   "cell_type": "code",
   "execution_count": 29,
   "outputs": [],
   "source": [
    "loaded_model = load_model(f\"{save_path}//nlp_model.h5\")"
   ],
   "metadata": {
    "collapsed": false,
    "pycharm": {
     "name": "#%%\n"
    }
   }
  },
  {
   "cell_type": "code",
   "execution_count": 30,
   "outputs": [],
   "source": [
    "sample_text = [\"flexible absorbs shocks\"]\n",
    "sample_text_array = np.asarray(sample_text)"
   ],
   "metadata": {
    "collapsed": false,
    "pycharm": {
     "name": "#%%\n"
    }
   }
  },
  {
   "cell_type": "code",
   "execution_count": 31,
   "outputs": [
    {
     "data": {
      "text/plain": "array([[0, 1, 1, 1]])"
     },
     "execution_count": 31,
     "metadata": {},
     "output_type": "execute_result"
    }
   ],
   "source": [
    "sample_text_sequence = loaded_tokenizer.texts_to_sequences(sample_text_array)\n",
    "padded_sample_sequence = pad_sequences(sample_text_sequence, maxlen=4)\n",
    "padded_sample_sequence"
   ],
   "metadata": {
    "collapsed": false,
    "pycharm": {
     "name": "#%%\n"
    }
   }
  },
  {
   "cell_type": "code",
   "execution_count": 32,
   "outputs": [
    {
     "name": "stdout",
     "output_type": "stream",
     "text": [
      "Queried part is: Collets\n"
     ]
    }
   ],
   "source": [
    "types = ['Bearings', 'Bolts', 'Collets', 'Springs', 'Sprockets']\n",
    "pred = loaded_model.predict(padded_sample_sequence)\n",
    "index = np.argmax(pred)\n",
    "queried_part = types[int(index)]\n",
    "print(f\"Queried part is: {queried_part}\")"
   ],
   "metadata": {
    "collapsed": false,
    "pycharm": {
     "name": "#%%\n"
    }
   }
  },
  {
   "cell_type": "code",
   "execution_count": null,
   "outputs": [],
   "source": [],
   "metadata": {
    "collapsed": false,
    "pycharm": {
     "name": "#%%\n"
    }
   }
  }
 ],
 "metadata": {
  "kernelspec": {
   "display_name": "Python 3",
   "language": "python",
   "name": "python3"
  },
  "language_info": {
   "codemirror_mode": {
    "name": "ipython",
    "version": 2
   },
   "file_extension": ".py",
   "mimetype": "text/x-python",
   "name": "python",
   "nbconvert_exporter": "python",
   "pygments_lexer": "ipython2",
   "version": "2.7.6"
  }
 },
 "nbformat": 4,
 "nbformat_minor": 0
}