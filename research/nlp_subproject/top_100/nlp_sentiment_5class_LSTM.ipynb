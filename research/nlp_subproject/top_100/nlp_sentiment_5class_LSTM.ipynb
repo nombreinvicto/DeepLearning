{
 "cells": [
  {
   "cell_type": "code",
   "execution_count": 1,
   "metadata": {
    "collapsed": true
   },
   "outputs": [],
   "source": [
    "import numpy as np\n",
    "import pandas as pd\n",
    "import seaborn as sns\n",
    "import matplotlib.pyplot as plt\n",
    "from matplotlib.figure import Figure\n",
    "import matplotlib.axes._axes as axes\n",
    "sns.set()"
   ]
  },
  {
   "cell_type": "code",
   "execution_count": 422,
   "outputs": [],
   "source": [
    "from tensorflow.keras.preprocessing.text import Tokenizer\n",
    "from tensorflow.keras.preprocessing.sequence import pad_sequences\n"
   ],
   "metadata": {
    "collapsed": false,
    "pycharm": {
     "name": "#%%\n"
    }
   }
  },
  {
   "cell_type": "code",
   "execution_count": 423,
   "outputs": [],
   "source": [
    "# import the necessary packages\n",
    "from sklearn.preprocessing import LabelBinarizer\n",
    "from sklearn.model_selection import train_test_split\n",
    "from sklearn.metrics import classification_report\n",
    "##\n",
    "from tensorflow.keras.layers import Conv2D, Activation, Flatten, Dense, \\\n",
    "    Embedding, GlobalAveragePooling1D, Bidirectional, LSTM, \\\n",
    "    BatchNormalization, Conv1D\n",
    "from tensorflow.keras.optimizers import RMSprop, SGD\n",
    "from tensorflow.keras.layers import Input\n",
    "from tensorflow.keras.models import Model, Sequential\n"
   ],
   "metadata": {
    "collapsed": false,
    "pycharm": {
     "name": "#%%\n"
    }
   }
  },
  {
   "cell_type": "code",
   "execution_count": 424,
   "outputs": [],
   "source": [
    "# setting global variables\n",
    "dbBase = r\"refined_dataset\"\n",
    "all_sentences = []\n",
    "all_labels = []"
   ],
   "metadata": {
    "collapsed": false,
    "pycharm": {
     "name": "#%%\n"
    }
   }
  },
  {
   "cell_type": "code",
   "execution_count": 425,
   "outputs": [],
   "source": [
    "# reading the words from file and creating a dataset\n",
    "types = ['Bearings', 'Bolts', 'Collets', 'Springs', 'Sprockets']\n",
    "class_num = len(types)\n",
    "\n",
    "for label, type in enumerate(types):\n",
    "\n",
    "    with open(f\"{dbBase}//{type}_100.txt\", mode='r') as partFile:\n",
    "        content = partFile.readlines()\n",
    "        content = [c.replace(\"\\n\", \"\") for c in content]\n",
    "\n",
    "        all_sentences.extend(content)\n",
    "        all_labels.extend([label] * len(content))\n",
    "\n",
    "all_sentences = np.array(all_sentences)\n",
    "all_labels = np.array(all_labels)"
   ],
   "metadata": {
    "collapsed": false,
    "pycharm": {
     "name": "#%%\n"
    }
   }
  },
  {
   "cell_type": "code",
   "execution_count": 425,
   "outputs": [],
   "source": [],
   "metadata": {
    "collapsed": false,
    "pycharm": {
     "name": "#%%\n"
    }
   }
  },
  {
   "cell_type": "code",
   "execution_count": 426,
   "outputs": [],
   "source": [
    "# binarize the labels\n",
    "le = LabelBinarizer()\n",
    "all_labels = le.fit_transform(all_labels)"
   ],
   "metadata": {
    "collapsed": false,
    "pycharm": {
     "name": "#%%\n"
    }
   }
  },
  {
   "cell_type": "code",
   "execution_count": 427,
   "outputs": [],
   "source": [
    "epoch_no = 35\n",
    "vocab_size = 374\n",
    "embedding_dim = 50\n",
    "max_length = 4\n",
    "trunc_type = \"post\"\n",
    "oov_tok = \"<OOV>\"\n",
    "test_size = 0.3"
   ],
   "metadata": {
    "collapsed": false,
    "pycharm": {
     "name": "#%%\n"
    }
   }
  },
  {
   "cell_type": "code",
   "execution_count": 428,
   "outputs": [],
   "source": [
    "# do a trin test split\n",
    "train_sentences, \\\n",
    "test_sentences, \\\n",
    "trainy, \\\n",
    "testy = train_test_split(all_sentences,\n",
    "                         all_labels,\n",
    "                         stratify=all_labels,\n",
    "                         test_size=test_size,\n",
    "                         random_state=42)\n"
   ],
   "metadata": {
    "collapsed": false,
    "pycharm": {
     "name": "#%%\n"
    }
   }
  },
  {
   "cell_type": "code",
   "execution_count": 429,
   "outputs": [
    {
     "name": "stdout",
     "output_type": "stream",
     "text": [
      "374\n",
      "{'<OOV>': 1, 'holder': 2, 'elastic': 3, 'screw': 4, 'gear': 5, 'workpiece': 6, 'roller': 7, 'centering': 8, 'element': 9, 'helical': 10, 'tool': 11, 'energy': 12, 'bearings': 13, 'force': 14, 'rod': 15, 'wheel': 16, 'clamping': 17, 'machine': 18, 'fastener': 19, 'gears': 20, 'threaded': 21, 'shafts': 22, 'harmonic': 23, 'coil': 24, 'chuck': 25, 'pinion': 26, 'member': 27, 'chain': 28, 'tension': 29, 'radial': 30, 'sleeve': 31, 'hex': 32, 'wrench': 33, 'shaft': 34, 'lever': 35, 'rear': 36, 'gripper': 37, 'self': 38, 'concentric': 39, 'squeezer': 40, 'speed': 41, 'holding': 42, 'hold': 43, 'spherical': 44, 'compression': 45, 'shifters': 46, 'gearbox': 47, 'torsion': 48, 'allen': 49, 'torsional': 50, 'torque': 51, 'dowel': 52, 'cnc': 53, 'fixture': 54, 'hydraulic': 55, 'brake': 56, 'springs': 57, 'component': 58, 'bolt': 59, 'axle': 60, 'conveyor': 61, 'tensioner': 62, 'driven': 63, 'jaw': 64, 'piston': 65, 'joiner': 66, 'fixer': 67, 'ball': 68, 'bevel': 69, 'spline': 70, 'taper': 71, 'shock': 72, 'absorber': 73, 'welded': 74, 'chainset': 75, 'modulus': 76, 'pulley': 77, 'bar': 78, 'tightening': 79, 'pin': 80, 'three': 81, 'derailleur': 82, 'angle': 83, 'planetary': 84, 'paddle': 85, 'windings': 86, 'cylinder': 87, 'diff': 88, 'belts': 89, 'pulleys': 90, 'conveyors': 91, 'stiffness': 92, 'spindle': 93, 'rigidity': 94, 'rollers': 95, 'belt': 96, 'resilience': 97, 'fasteners': 98, 'cylindrical': 99, 'thread': 100, 'balancer': 101, 'sprocket': 102, 'extension': 103, 'shifter': 104, 'motion': 105, 'transmission': 106, 'bearing': 107, 'hydraulically': 108, 'washer': 109, 'screws': 110, 'jaws': 111, 'swingarm': 112, 'pivot': 113, 'wheels': 114, 'spring': 115, 'crankshaft': 116, 'grease': 117, 'collar': 118, 'scroll': 119, 'servo': 120, 'outer': 121, 'pneumatically': 122, 'rivet': 123, 'collet': 124, 'coiled': 125, 'metric': 126, 'overtightened': 127, 'hexagon': 128, 'flexibility': 129, 'reducers': 130, 'shapes': 131, 'multiaxial': 132, 'rubberiness': 133, 'deformation': 134, 'squeezing': 135, 'inner': 136, 'material': 137, 'lubricate': 138, 'tack': 139, 'propeller': 140, 'clasps': 141, 'sequential': 142, 'triple': 143, 'youngs': 144, 'idler': 145, 'gripping': 146, 'twisting': 147, 'hookes': 148, 'law': 149, 'hydrostatic': 150, 'mandrel': 151, 'weld': 152, 'legged': 153, 'front': 154, 'socket': 155, 'head': 156, 'metallic': 157, 'fixtures': 158, 'retention': 159, 'device': 160, 'telescoping': 161, 'tube': 162, 'tightener': 163, 'spur': 164, 'lubrication': 165, 'mounted': 166, 'electrostatic': 167, 'joining': 168, 'telescopic': 169, 'forks': 170, 'bike': 171, 'groupsets': 172, 'collars': 173, 'wrenches': 174, 'bore': 175, 'retainer': 176, 'sphere': 177, 'pintle': 178, 'motor': 179, 'pneumatic': 180, 'cylinders': 181, 'gearshift': 182, 'locks': 183, 'predrilled': 184, 'holes': 185, 'pad': 186, 'fastening': 187, 'distortion': 188, 'actuated': 189, 'fast': 190, 'chucking': 191, 'oscillatory': 192, 'hairlike': 193, 'structure': 194, 'stud': 195, 'rotor': 196, 'gearset': 197, 'thumb': 198, 'balance': 199, 'high': 200, 'pressure': 201, 'chainstays': 202, 'industrial': 203, 'freehub': 204, 'body': 205, 'helices': 206, 'slinky': 207, 'laminations': 208, 'partially': 209, 'tail': 210, 'stock': 211, 'adjuster': 212, 'swivel': 213, 'casters': 214, 'skidplate': 215, 'rolling': 216, 'screwdriving': 217, 'components': 218, 'staple': 219, 'twisted': 220, 'gated': 221, 'shift': 222, 'absorbing': 223, 'semi': 224, 'automatic': 225, 'differential': 226, 'convertor': 227, 'rotary': 228, 'splined': 229, 'm12': 230, 'spool': 231, 'valves': 232, 'shear': 233, 'derailleurs': 234, 'lock': 235, 'storing': 236, 'ballscrew': 237, 'cranksets': 238, 'slotted': 239, 'remove': 240, 'giblets': 241, 'drive': 242, 'caliper': 243, 'brakes': 244, 'drywall': 245, 'peg': 246, 'flathead': 247, 'screwdriver': 248, 'pistons': 249, 'dual': 250, 'calipers': 251, 'platens': 252, 'snubber': 253, 'wiper': 254, 'motors': 255, 'axial': 256, 'loading': 257, 'transaxle': 258, 'hollow': 259, 'm20': 260, 'tensioners': 261, 'serpentine': 262, 'secure': 263, 'gyroscope': 264, 'strong': 265, 'expandable': 266, 'stent': 267, 'over': 268, 'milling': 269, 'six': 270, 'steptronic': 271, 'locking': 272, 'mechanism': 273, 'carriage': 274, 'removable': 275, 'm33': 276, 'bicycle': 277, 'gearing': 278, 'anchor': 279, 'fixers': 280, 'variable': 281, 'fluidity': 282, 'countersunk': 283, 'four': 284, 'spoked': 285, 'waviness': 286, 'simple': 287, 'teeth': 288, 'hexagonal': 289, 'controlled': 290, 'powershift': 291, 'bolted': 292, 'joint': 293, 'lathe': 294, 'pliancy': 295, 'coupling': 296, 'tappet': 297, 'aligning': 298, 'compressive': 299, 'elements': 300, 'silicone': 301, 'malleability': 302, 'fittings': 303, 'lugnut': 304, 'train': 305, 'lubricated': 306, 'mattresses': 307, 'chrome': 308, 'grilles': 309, 'for': 310, 'adjustment': 311, 'ring': 312, 'gearboxes': 313, 'buttstock': 314, 'compressor': 315, 'thin': 316, 'wall': 317, 'tubing': 318, 'axles': 319, 'padlock': 320, 'bores': 321, 'elongates': 322, 'fastenings': 323, 'cotter': 324, 'helically': 325, 'tailstock': 326, 'belting': 327, 'tooth': 328, 'chainring': 329, 'change': 330, 'wheelsets': 331, 'mounting': 332, 'clamp': 333, 'cog': 334, 'clevis': 335, 'securer': 336, 'bolts': 337, 'skewer': 338, 'give': 339, 'cam': 340, 'campagnolo': 341, 'record': 342, 'machined': 343, 'operated': 344, 'vehicle': 345, 'suspension': 346, 'counter': 347, 'tensioning': 348, 'rods': 349, 'clutch': 350, 'steel': 351, 'key': 352, 'tapered': 353, 'coiling': 354, 'rag': 355, 'under': 356, 'buckling': 357, 'adjustable': 358, 'center': 359, 'machining': 360, 'mandrels': 361, 'nailers': 362, 'keyways': 363, 'chucks': 364, 'chromium': 365, 'plated': 366, 'adaptability': 367, 'hardware': 368, 'wound': 369, 'sheet': 370, 'metal': 371, 'male': 372, 'coefficient': 373, 'of': 374}\n"
     ]
    }
   ],
   "source": [
    "# tokenize the train set\n",
    "tokenizer = Tokenizer(num_words=vocab_size, oov_token=oov_tok)\n",
    "tokenizer.fit_on_texts(train_sentences)\n",
    "train_sequences = tokenizer.texts_to_sequences(train_sentences)\n",
    "padded_train_sequences = pad_sequences(train_sequences, maxlen=max_length,\n",
    "                                       truncating=trunc_type)\n",
    "# tokenise and pad the test set\n",
    "test_sequences = tokenizer.texts_to_sequences(test_sentences)\n",
    "padded_test_sequences = pad_sequences(test_sequences, maxlen=max_length)\n",
    "\n",
    "# check out the word index\n",
    "print(len(tokenizer.word_index.keys()))\n",
    "print(tokenizer.word_index)"
   ],
   "metadata": {
    "collapsed": false,
    "pycharm": {
     "name": "#%%\n"
    }
   }
  },
  {
   "cell_type": "code",
   "execution_count": 413,
   "outputs": [
    {
     "name": "stdout",
     "output_type": "stream",
     "text": [
      "Model: \"sequential_28\"\n",
      "_________________________________________________________________\n",
      "Layer (type)                 Output Shape              Param #   \n",
      "=================================================================\n",
      "embedding_27 (Embedding)     (None, 4, 50)             18700     \n",
      "_________________________________________________________________\n",
      "conv1d_7 (Conv1D)            (None, 2, 128)            19328     \n",
      "_________________________________________________________________\n",
      "global_average_pooling1d_7 ( (None, 128)               0         \n",
      "_________________________________________________________________\n",
      "dense_54 (Dense)             (None, 32)                4128      \n",
      "_________________________________________________________________\n",
      "batch_normalization_21 (Batc (None, 32)                128       \n",
      "_________________________________________________________________\n",
      "dense_55 (Dense)             (None, 5)                 165       \n",
      "=================================================================\n",
      "Total params: 42,449\n",
      "Trainable params: 42,385\n",
      "Non-trainable params: 64\n",
      "_________________________________________________________________\n"
     ]
    }
   ],
   "source": [
    "# now construct the model\n",
    "model = Sequential()\n",
    "model.add(Embedding(input_dim=len(tokenizer.word_index),\n",
    "                    output_dim=embedding_dim,\n",
    "                    input_length=max_length))\n",
    "\n",
    "# change here\n",
    "#model.add(Flatten())\n",
    "\n",
    "# model.add(Bidirectional(LSTM(128, return_sequences=True)))\n",
    "# model.add(Bidirectional(LSTM(64)))\n",
    "\n",
    "model.add(Conv1D(filters=128, kernel_size=3, activation='relu'))\n",
    "model.add(GlobalAveragePooling1D())\n",
    "\n",
    "# change ends here\n",
    "model.add(Dense(units=32, activation='relu'))\n",
    "model.add(BatchNormalization())\n",
    "model.add(Dense(units=class_num, activation=\"softmax\"))\n",
    "\n",
    "# compile the model\n",
    "model.compile(loss=\"categorical_crossentropy\",\n",
    "              optimizer = 'adam', metrics=['accuracy'])\n",
    "\n",
    "model.summary()"
   ],
   "metadata": {
    "collapsed": false,
    "pycharm": {
     "name": "#%%\n"
    }
   }
  },
  {
   "cell_type": "code",
   "execution_count": 414,
   "outputs": [
    {
     "name": "stdout",
     "output_type": "stream",
     "text": [
      "Train on 350 samples, validate on 150 samples\n",
      "Epoch 1/35\n",
      "350/350 [==============================] - 1s 4ms/sample - loss: 1.5488 - accuracy: 0.3057 - val_loss: 1.6031 - val_accuracy: 0.3400\b\b\b\b\b\b\b\b\b\b\b\b\b\b\b\b\b\b\b\b\b\b\b\b\b\b\b\b\b\b\b\b\b\b\b\b\b\b\b\b\b\b\b\b\b\b\b\b\b\b\b\b\b\b\b\b\b\b\b\b\b\b\b\b\b\b\b\b\b\b\b\b\b\b\b\b\b\b\b\b\b\b\b\b\b\b\b\b\b\b\b\b\b\b\b\b\b\b\b\b\b\b\b\b\b\b\b\b\b\b\b\b\b\b\b\b\b\b\b\b\b\b\n",
      "Epoch 2/35\n",
      "350/350 [==============================] - 0s 315us/sample - loss: 1.2831 - accuracy: 0.5971 - val_loss: 1.5931 - val_accuracy: 0.2800\b\b\b\b\b\b\b\b\b\b\b\b\b\b\b\b\b\b\b\b\b\b\b\b\b\b\b\b\b\b\b\b\b\b\b\b\b\b\b\b\b\b\b\b\b\b\b\b\b\b\b\b\b\b\b\b\b\b\b\b\b\b\b\b\b\b\b\b\b\b\b\b\b\b\b\b\b\b\b\b\b\b\b\b\b\b\b\b\b\b\b\b\b\b\b\b\b\b\b\b\b\b\b\b\b\b\b\b\b\b\b\b\b\b\b\b\b\b\n",
      "Epoch 3/35\n",
      "350/350 [==============================] - 0s 290us/sample - loss: 0.9871 - accuracy: 0.7171 - val_loss: 1.5757 - val_accuracy: 0.4733\b\b\b\b\b\b\b\b\b\b\b\b\b\b\b\b\b\b\b\b\b\b\b\b\b\b\b\b\b\b\b\b\b\b\b\b\b\b\b\b\b\b\b\b\b\b\b\b\b\b\b\b\b\b\b\b\b\b\b\b\b\b\b\b\b\b\b\b\b\b\b\b\b\b\b\b\b\b\b\b\b\b\b\b\b\b\b\b\b\b\b\b\b\b\b\b\b\b\b\b\b\b\b\b\b\b\b\b\b\b\b\b\b\b\b\b\b\b\n",
      "Epoch 4/35\n",
      "350/350 [==============================] - 0s 291us/sample - loss: 0.6910 - accuracy: 0.8000 - val_loss: 1.5522 - val_accuracy: 0.5667\b\b\b\b\b\b\b\b\b\b\b\b\b\b\b\b\b\b\b\b\b\b\b\b\b\b\b\b\b\b\b\b\b\b\b\b\b\b\b\b\b\b\b\b\b\b\b\b\b\b\b\b\b\b\b\b\b\b\b\b\b\b\b\b\b\b\b\b\b\b\b\b\b\b\b\b\b\b\b\b\b\b\b\b\b\b\b\b\b\b\b\b\b\b\b\b\b\b\b\b\b\b\b\b\b\b\b\b\b\b\b\b\b\b\b\b\b\b\n",
      "Epoch 5/35\n",
      "350/350 [==============================] - 0s 259us/sample - loss: 0.4594 - accuracy: 0.9000 - val_loss: 1.5291 - val_accuracy: 0.5800\b\b\b\b\b\b\b\b\b\b\b\b\b\b\b\b\b\b\b\b\b\b\b\b\b\b\b\b\b\b\b\b\b\b\b\b\b\b\b\b\b\b\b\b\b\b\b\b\b\b\b\b\b\b\b\b\b\b\b\b\b\b\b\b\b\b\b\b\b\b\b\b\b\b\b\b\b\b\b\b\b\b\b\b\b\b\b\b\b\b\b\b\b\b\b\b\b\b\b\b\b\b\b\b\b\b\b\b\b\b\b\b\b\b\b\b\b\b\n",
      "Epoch 6/35\n",
      "350/350 [==============================] - 0s 248us/sample - loss: 0.3266 - accuracy: 0.9286 - val_loss: 1.5091 - val_accuracy: 0.5533\b\b\b\b\b\b\b\b\b\b\b\b\b\b\b\b\b\b\b\b\b\b\b\b\b\b\b\b\b\b\b\b\b\b\n",
      "Epoch 7/35\n",
      "350/350 [==============================] - 0s 262us/sample - loss: 0.2203 - accuracy: 0.9514 - val_loss: 1.4893 - val_accuracy: 0.5600\b\b\b\b\b\b\b\b\b\b\b\b\b\b\b\b\b\b\b\b\b\b\b\b\b\b\b\b\b\b\b\b\b\b\b\b\b\b\b\b\b\b\b\b\b\b\b\b\b\b\b\b\b\b\b\b\b\b\b\b\b\b\b\b\b\b\b\b\b\b\b\b\b\b\b\b\b\b\b\b\b\b\b\b\b\b\b\b\b\b\b\b\b\b\b\b\b\b\b\b\b\b\b\b\b\b\b\b\b\b\b\b\b\b\b\b\b\b\n",
      "Epoch 8/35\n",
      "350/350 [==============================] - 0s 240us/sample - loss: 0.1601 - accuracy: 0.9686 - val_loss: 1.4721 - val_accuracy: 0.5600\b\b\b\b\b\b\b\b\b\b\b\b\b\b\b\b\b\b\b\b\b\b\b\b\b\b\b\b\b\b\b\b\b\b\b\b\b\b\b\b\b\b\b\b\b\b\b\b\b\b\b\b\b\b\b\b\b\b\b\b\b\b\b\b\b\b\b\b\b\b\b\b\b\b\b\b\b\b\b\b\b\b\b\b\b\b\b\b\b\b\b\b\b\b\b\b\b\b\b\b\b\b\b\b\b\b\b\b\b\b\b\b\b\b\b\b\b\b\n",
      "Epoch 9/35\n",
      "350/350 [==============================] - 0s 268us/sample - loss: 0.1427 - accuracy: 0.9743 - val_loss: 1.4562 - val_accuracy: 0.5267\b\b\b\b\b\b\b\b\b\b\b\b\b\b\b\b\b\b\b\b\b\b\b\b\b\b\b\b\b\b\b\b\b\b\n",
      "Epoch 10/35\n",
      "350/350 [==============================] - 0s 251us/sample - loss: 0.1155 - accuracy: 0.9686 - val_loss: 1.4390 - val_accuracy: 0.5733\b\b\b\b\b\b\b\b\b\b\b\b\b\b\b\b\b\b\b\b\b\b\b\b\b\b\b\b\b\b\b\b\b\b\b\b\b\b\b\b\b\b\b\b\b\b\b\b\b\b\b\b\b\b\b\b\b\b\b\b\b\b\b\b\b\b\b\b\b\b\b\b\b\b\b\b\b\b\b\b\b\b\b\b\b\b\b\b\b\b\b\b\b\b\b\b\b\b\b\b\b\b\b\b\b\b\b\b\b\b\b\b\b\b\b\b\b\b\n",
      "Epoch 11/35\n",
      "350/350 [==============================] - 0s 228us/sample - loss: 0.1103 - accuracy: 0.9686 - val_loss: 1.4254 - val_accuracy: 0.5667\b\b\b\b\b\b\b\b\b\b\b\b\b\b\b\b\b\b\b\b\b\b\b\b\b\b\b\b\b\b\b\b\b\b\n",
      "Epoch 12/35\n",
      "350/350 [==============================] - 0s 251us/sample - loss: 0.0935 - accuracy: 0.9657 - val_loss: 1.4092 - val_accuracy: 0.5733\b\b\b\b\b\b\b\b\b\b\b\b\b\b\b\b\b\b\b\b\b\b\b\b\b\b\b\b\b\b\b\b\b\b\n",
      "Epoch 13/35\n",
      "350/350 [==============================] - 0s 231us/sample - loss: 0.0859 - accuracy: 0.9686 - val_loss: 1.3877 - val_accuracy: 0.5733\b\b\b\b\b\b\b\b\b\b\b\b\b\b\b\b\b\b\b\b\b\b\b\b\b\b\b\b\b\b\b\b\b\b\n",
      "Epoch 14/35\n",
      "350/350 [==============================] - 0s 231us/sample - loss: 0.0804 - accuracy: 0.9714 - val_loss: 1.3688 - val_accuracy: 0.5733\b\b\b\b\b\b\b\b\b\b\b\b\b\b\b\b\b\b\b\b\b\b\b\b\b\b\b\b\b\b\b\b\b\b\n",
      "Epoch 15/35\n",
      "350/350 [==============================] - 0s 262us/sample - loss: 0.0866 - accuracy: 0.9629 - val_loss: 1.3522 - val_accuracy: 0.5733\b\b\b\b\b\b\b\b\b\b\b\b\b\b\b\b\b\b\b\b\b\b\b\b\b\b\b\b\b\b\b\b\b\b\b\b\b\b\b\b\b\b\b\b\b\b\b\b\b\b\b\b\b\b\b\b\b\b\b\b\b\b\b\b\b\b\b\b\b\b\b\b\b\b\b\b\b\b\b\b\b\b\b\b\b\b\b\b\b\b\b\b\b\b\b\b\b\b\b\b\b\b\b\b\b\b\b\b\b\b\b\b\b\b\b\b\b\b\n",
      "Epoch 16/35\n",
      "350/350 [==============================] - 0s 231us/sample - loss: 0.0740 - accuracy: 0.9686 - val_loss: 1.3301 - val_accuracy: 0.6000\b\b\b\b\b\b\b\b\b\b\b\b\b\b\b\b\b\b\b\b\b\b\b\b\b\b\b\b\b\b\b\b\b\b\n",
      "Epoch 17/35\n",
      "350/350 [==============================] - 0s 236us/sample - loss: 0.0778 - accuracy: 0.9714 - val_loss: 1.3123 - val_accuracy: 0.6133\b\b\b\b\b\b\b\b\b\b\b\b\b\b\b\b\b\b\b\b\b\b\b\b\b\b\b\b\b\b\b\b\b\b\n",
      "Epoch 18/35\n",
      "350/350 [==============================] - 0s 228us/sample - loss: 0.0730 - accuracy: 0.9686 - val_loss: 1.2970 - val_accuracy: 0.6000\b\b\b\b\b\b\b\b\b\b\b\b\b\b\b\b\b\b\b\b\b\b\b\b\b\b\b\b\b\b\b\b\b\b\n",
      "Epoch 19/35\n",
      "350/350 [==============================] - 0s 232us/sample - loss: 0.0750 - accuracy: 0.9629 - val_loss: 1.2781 - val_accuracy: 0.5933\b\b\b\b\b\b\b\b\b\b\b\b\b\b\b\b\b\b\b\b\b\b\b\b\b\b\b\b\b\b\b\b\b\b\n",
      "Epoch 20/35\n",
      "350/350 [==============================] - 0s 228us/sample - loss: 0.0709 - accuracy: 0.9629 - val_loss: 1.2510 - val_accuracy: 0.6200\b\b\b\b\b\b\b\b\b\b\b\b\b\b\b\b\b\b\b\b\b\b\b\b\b\b\b\b\b\b\b\b\b\b\n",
      "Epoch 21/35\n",
      "350/350 [==============================] - 0s 228us/sample - loss: 0.0926 - accuracy: 0.9543 - val_loss: 1.2325 - val_accuracy: 0.6200\b\b\b\b\b\b\b\b\b\b\b\b\b\b\b\b\b\b\b\b\b\b\b\b\b\b\b\b\b\b\b\b\b\b\n",
      "Epoch 22/35\n",
      "350/350 [==============================] - 0s 233us/sample - loss: 0.0827 - accuracy: 0.9686 - val_loss: 1.2103 - val_accuracy: 0.5933\b\b\b\b\b\b\b\b\b\b\b\b\b\b\b\b\b\b\b\b\b\b\b\b\b\b\b\b\b\b\b\b\b\b\n",
      "Epoch 23/35\n",
      "350/350 [==============================] - 0s 238us/sample - loss: 0.0633 - accuracy: 0.9771 - val_loss: 1.1906 - val_accuracy: 0.6133\b\b\b\b\b\b\b\b\b\b\b\b\b\b\b\b\b\b\b\b\b\b\b\b\b\b\b\b\b\b\b\b\b\b\n",
      "Epoch 24/35\n",
      "350/350 [==============================] - 0s 225us/sample - loss: 0.0595 - accuracy: 0.9743 - val_loss: 1.1833 - val_accuracy: 0.5933\b\b\b\b\b\b\b\b\b\b\b\b\b\b\b\b\b\b\b\b\b\b\b\b\b\b\b\b\b\b\b\b\b\b\n",
      "Epoch 25/35\n",
      "350/350 [==============================] - 0s 248us/sample - loss: 0.0686 - accuracy: 0.9657 - val_loss: 1.1629 - val_accuracy: 0.6200\b\b\b\b\b\b\b\b\b\b\b\b\b\b\b\b\b\b\b\b\b\b\b\b\b\b\b\b\b\b\b\b\b\b\b\b\b\b\b\b\b\b\b\b\b\b\b\b\b\b\b\b\b\b\b\b\b\b\b\b\b\b\b\b\b\b\b\b\b\b\b\b\b\b\b\b\b\b\b\b\b\b\b\b\b\b\b\b\b\b\b\b\b\b\b\b\b\b\b\b\b\b\b\b\b\b\b\b\b\b\b\b\b\b\b\b\b\b\n",
      "Epoch 26/35\n",
      "350/350 [==============================] - 0s 228us/sample - loss: 0.0629 - accuracy: 0.9686 - val_loss: 1.1398 - val_accuracy: 0.6200\b\b\b\b\b\b\b\b\b\b\b\b\b\b\b\b\b\b\b\b\b\b\b\b\b\b\b\b\b\b\b\b\b\b\n",
      "Epoch 27/35\n",
      "350/350 [==============================] - 0s 259us/sample - loss: 0.0699 - accuracy: 0.9629 - val_loss: 1.1299 - val_accuracy: 0.6067\b\b\b\b\b\b\b\b\b\b\b\b\b\b\b\b\b\b\b\b\b\b\b\b\b\b\b\b\b\b\b\b\b\b\b\b\b\b\b\b\b\b\b\b\b\b\b\b\b\b\b\b\b\b\b\b\b\b\b\b\b\b\b\b\b\b\b\b\b\b\b\b\b\b\b\b\b\b\b\b\b\b\b\b\b\b\b\b\b\b\b\b\b\b\b\b\b\b\b\b\b\b\b\b\b\b\b\b\b\b\b\b\b\b\b\b\b\b\n",
      "Epoch 28/35\n",
      "350/350 [==============================] - 0s 250us/sample - loss: 0.0680 - accuracy: 0.9714 - val_loss: 1.1087 - val_accuracy: 0.6133\b\b\b\b\b\b\b\b\b\b\b\b\b\b\b\b\b\b\b\b\b\b\b\b\b\b\b\b\b\b\b\b\b\b\b\b\b\b\b\b\b\b\b\b\b\b\b\b\b\b\b\b\b\b\b\b\b\b\b\b\b\b\b\b\b\b\b\b\b\b\b\b\b\b\b\b\b\b\b\b\b\b\b\b\b\b\b\b\b\b\b\b\b\b\b\b\b\b\b\b\b\b\b\b\b\b\b\b\b\b\b\b\b\b\b\b\b\b\n",
      "Epoch 29/35\n",
      "350/350 [==============================] - 0s 231us/sample - loss: 0.0590 - accuracy: 0.9714 - val_loss: 1.0930 - val_accuracy: 0.6000\b\b\b\b\b\b\b\b\b\b\b\b\b\b\b\b\b\b\b\b\b\b\b\b\b\b\b\b\b\b\b\b\b\b\n",
      "Epoch 30/35\n",
      "350/350 [==============================] - 0s 239us/sample - loss: 0.0748 - accuracy: 0.9657 - val_loss: 1.0854 - val_accuracy: 0.6133\b\b\b\b\b\b\b\b\b\b\b\b\b\b\b\b\b\b\b\b\b\b\b\b\b\b\b\b\b\b\b\b\b\b\n",
      "Epoch 31/35\n",
      "350/350 [==============================] - 0s 237us/sample - loss: 0.0681 - accuracy: 0.9714 - val_loss: 1.0783 - val_accuracy: 0.6000\b\b\b\b\b\b\b\b\b\b\b\b\b\b\b\b\b\b\b\b\b\b\b\b\b\b\b\b\b\b\b\b\b\b\n",
      "Epoch 32/35\n",
      "350/350 [==============================] - 0s 262us/sample - loss: 0.0611 - accuracy: 0.9714 - val_loss: 1.0658 - val_accuracy: 0.6067\b\b\b\b\b\b\b\b\b\b\b\b\b\b\b\b\b\b\b\b\b\b\b\b\b\b\b\b\b\b\b\b\b\b\b\b\b\b\b\b\b\b\b\b\b\b\b\b\b\b\b\b\b\b\b\b\b\b\b\b\b\b\b\b\b\b\b\b\b\b\b\b\b\b\b\b\b\b\b\b\b\b\b\b\b\b\b\b\b\b\b\b\b\b\b\b\b\b\b\b\b\b\b\b\b\b\b\b\b\b\b\b\b\b\b\b\b\b\n",
      "Epoch 33/35\n",
      "350/350 [==============================] - 0s 234us/sample - loss: 0.0731 - accuracy: 0.9600 - val_loss: 1.0544 - val_accuracy: 0.6200\b\b\b\b\b\b\b\b\b\b\b\b\b\b\b\b\b\b\b\b\b\b\b\b\b\b\b\b\b\b\b\b\b\b\n",
      "Epoch 34/35\n",
      "350/350 [==============================] - 0s 225us/sample - loss: 0.0691 - accuracy: 0.9629 - val_loss: 1.0556 - val_accuracy: 0.6067\b\b\b\b\b\b\b\b\b\b\b\b\b\b\b\b\b\b\b\b\b\b\b\b\b\b\b\b\b\b\b\b\b\b\n",
      "Epoch 35/35\n",
      "350/350 [==============================] - 0s 222us/sample - loss: 0.0706 - accuracy: 0.9629 - val_loss: 1.0535 - val_accuracy: 0.5867\b\b\b\b\b\b\b\b\b\b\b\b\b\b\b\b\b\b\b\b\b\b\b\b\b\b\b\b\b\b\b\b\b\b\n"
     ]
    }
   ],
   "source": [
    "H = model.fit(padded_train_sequences,\n",
    "          trainy,\n",
    "          epochs=epoch_no,\n",
    "          validation_data=(padded_test_sequences, testy))"
   ],
   "metadata": {
    "collapsed": false,
    "pycharm": {
     "name": "#%%\n"
    }
   }
  },
  {
   "cell_type": "code",
   "execution_count": 415,
   "outputs": [],
   "source": [
    "epochs = range(1,epoch_no+1)\n",
    "loss = H.history['loss']\n",
    "accuracy = H.history['accuracy']\n",
    "val_loss = H.history['val_loss']\n",
    "val_accuracy = H.history['val_accuracy']\n",
    "plot_df = pd.DataFrame(data=np.c_[epochs,loss,accuracy,val_loss,val_accuracy],\n",
    "                       columns=['epochs','loss', 'accuracy', 'val_loss', 'val_accuracy'])"
   ],
   "metadata": {
    "collapsed": false,
    "pycharm": {
     "name": "#%%\n"
    }
   }
  },
  {
   "cell_type": "code",
   "execution_count": 416,
   "outputs": [
    {
     "data": {
      "text/plain": "<Figure size 1296x720 with 1 Axes>",
      "image/png": "[encoded data removed]"
     },
     "metadata": {},
     "output_type": "display_data"
    }
   ],
   "source": [
    "sns.set(font_scale=1)\n",
    "f, ax = plt.subplots(1, 1, figsize=(18,10))\n",
    "sns.lineplot(data=plot_df, x='epochs', y='loss', ax=ax, label='train loss', linewidth=3)\n",
    "sns.lineplot(data=plot_df, x='epochs', y='accuracy', ax=ax, label='train accuracy', linewidth=3)\n",
    "sns.lineplot(data=plot_df, x='epochs', y='val_loss', ax=ax, label='val loss', linewidth=3)\n",
    "sns.lineplot(data=plot_df, x='epochs', y='val_accuracy', ax=ax, label='val_accuracy', linewidth=3)\n",
    "ax.set_ylabel('Loss or Accuracy')\n",
    "ax.set_xlabel('Epochs')\n",
    "plt.setp(ax.get_legend().get_texts(), fontsize='18'); # for legend text"
   ],
   "metadata": {
    "collapsed": false,
    "pycharm": {
     "name": "#%%\n"
    }
   }
  },
  {
   "cell_type": "code",
   "execution_count": 417,
   "outputs": [
    {
     "name": "stdout",
     "output_type": "stream",
     "text": [
      "(374, 50)\n"
     ]
    }
   ],
   "source": [
    "embedding_layer = model.layers[0]\n",
    "embedding_weights = embedding_layer.get_weights()[0]\n",
    "print(embedding_weights.shape)"
   ],
   "metadata": {
    "collapsed": false,
    "pycharm": {
     "name": "#%%\n"
    }
   }
  },
  {
   "cell_type": "code",
   "execution_count": 418,
   "outputs": [],
   "source": [
    "reverse_word_index = dict([(val, key) for (key, val) in tokenizer.word_index\n",
    "                       .items()])"
   ],
   "metadata": {
    "collapsed": false,
    "pycharm": {
     "name": "#%%\n"
    }
   }
  },
  {
   "cell_type": "code",
   "execution_count": 419,
   "outputs": [],
   "source": [
    "import io\n",
    "\n",
    "out_v = io.open('vecs.tsv', 'w', encoding='utf-8')\n",
    "out_m = io.open('meta.tsv', 'w', encoding='utf-8')\n",
    "for word_num in range(1, vocab_size):\n",
    "  word = reverse_word_index[word_num]\n",
    "  embeddings = embedding_weights[word_num]\n",
    "  out_m.write(word + \"\\n\")\n",
    "  out_v.write('\\t'.join([str(x) for x in embeddings]) + \"\\n\")\n",
    "out_v.close()\n",
    "out_m.close()"
   ],
   "metadata": {
    "collapsed": false,
    "pycharm": {
     "name": "#%%\n"
    }
   }
  },
  {
   "cell_type": "code",
   "execution_count": 420,
   "outputs": [],
   "source": [
    "# save my embedding matrix\n",
    "out_e = io.open('embed_matrix.txt', 'w', encoding='utf-8')\n",
    "\n",
    "for word_num in range(1, vocab_size):\n",
    "  word = reverse_word_index[word_num]\n",
    "  embeddings = embedding_weights[word_num]\n",
    "  out_str = word + '\\t' + '\\t'.join([str(x) for x in embeddings]) + \"\\n\"\n",
    "  out_e.write(out_str)\n",
    "out_e.close()"
   ],
   "metadata": {
    "collapsed": false,
    "pycharm": {
     "name": "#%%\n"
    }
   }
  },
  {
   "cell_type": "code",
   "execution_count": 430,
   "outputs": [
    {
     "data": {
      "text/plain": "(4,)"
     },
     "execution_count": 430,
     "metadata": {},
     "output_type": "execute_result"
    }
   ],
   "source": [
    "padded_train_sequences[0].shape"
   ],
   "metadata": {
    "collapsed": false,
    "pycharm": {
     "name": "#%%\n"
    }
   }
  },
  {
   "cell_type": "code",
   "execution_count": null,
   "outputs": [],
   "source": [
    "\n"
   ],
   "metadata": {
    "collapsed": false,
    "pycharm": {
     "name": "#%%\n"
    }
   }
  }
 ],
 "metadata": {
  "kernelspec": {
   "display_name": "Python 3",
   "language": "python",
   "name": "python3"
  },
  "language_info": {
   "codemirror_mode": {
    "name": "ipython",
    "version": 2
   },
   "file_extension": ".py",
   "mimetype": "text/x-python",
   "name": "python",
   "nbconvert_exporter": "python",
   "pygments_lexer": "ipython2",
   "version": "2.7.6"
  }
 },
 "nbformat": 4,
 "nbformat_minor": 0
}