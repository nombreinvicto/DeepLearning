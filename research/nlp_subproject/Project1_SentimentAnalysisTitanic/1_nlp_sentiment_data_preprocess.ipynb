{
 "cells": [
  {
   "cell_type": "code",
   "execution_count": 122,
   "metadata": {
    "collapsed": true
   },
   "outputs": [],
   "source": [
    "import re\n",
    "import os\n",
    "import string\n",
    "from collections import Counter\n",
    "from nltk.corpus import stopwords\n",
    "\n",
    "# load a particular document in memory\n",
    "def load_doc(filename):\n",
    "    # open file as read only\n",
    "    file = open(filename, \"r\")\n",
    "    text = file.read()\n",
    "    file.close()\n",
    "    return text"
   ]
  },
  {
   "cell_type": "code",
   "execution_count": 123,
   "outputs": [],
   "source": [
    "def clean_doc(doc):\n",
    "\n",
    "    # split into tokens by whitespace\n",
    "    tokens = doc.split()\n",
    "\n",
    "    # prepare regex for char filtering\n",
    "    re_punc = re.compile(\"[%s]\" % re.escape(string.punctuation))\n",
    "\n",
    "    # remove puncs from each word\n",
    "    tokens = [re_punc.sub('', w) for w in tokens]\n",
    "\n",
    "    # remove tokens taht are not alphabetic\n",
    "    tokens = [word for word in tokens if word.isalpha()]\n",
    "\n",
    "    # filter out stop words\n",
    "    stop_words = set(stopwords.words('english'))\n",
    "    tokens = [w for w in tokens if not w in stop_words]\n",
    "\n",
    "    # filter out short tokens\n",
    "    tokens = [w for w in tokens if len(w) > 1]\n",
    "\n",
    "    return tokens"
   ],
   "metadata": {
    "collapsed": false,
    "pycharm": {
     "name": "#%%\n"
    }
   }
  },
  {
   "cell_type": "code",
   "execution_count": 124,
   "outputs": [
    {
     "name": "stdout",
     "output_type": "stream",
     "text": [
      "['snake', 'eyes', 'aggravating', 'kind', 'movie', 'kind', 'shows', 'much', 'potential', 'becomes', 'unbelievably', 'disappointing', 'brian', 'depalma', 'film', 'since', 'hes', 'great', 'director', 'one', 'whos', 'films', 'always', 'greeted', 'least', 'fanfare', 'even', 'film', 'starring', 'nicolas', 'cage', 'since', 'gives', 'brauvara', 'performance', 'film', 'hardly', 'worth', 'talents', 'worse', 'aggravating', 'sole', 'reason', 'story', 'could', 'much', 'could', 'totally', 'intelligent', 'opens', 'absolutely', 'subtlety', 'handled', 'complexly', 'intensely', 'one', 'point', 'movie', 'makes', 'wrong', 'turn', 'leads', 'hall', 'fame', 'halfassedness', 'deservedly', 'hall', 'fame', 'eighthassedness', 'certain', 'circles', 'snake', 'eyes', 'advertised', 'kind', 'modern', 'day', 'version', 'kurosawas', 'classic', 'rashomon', 'crime', 'told', 'four', 'different', 'mean', 'different', 'perspectives', 'looks', 'though', 'may', 'actually', 'like', 'opening', 'might', 'add', 'superb', 'one', 'long', 'steadicam', 'shot', 'meet', 'protagonist', 'crooked', 'atlantic', 'city', 'detective', 'rick', 'santoro', 'cage', 'follow', 'boxing', 'match', 'talks', 'cell', 'phone', 'wife', 'interupts', 'payperview', 'event', 'tv', 'chases', 'gambler', 'enters', 'arena', 'pumped', 'fight', 'sits', 'talks', 'bud', 'kevin', 'dunne', 'gary', 'sinise', 'whos', 'character', 'confused', 'actor', 'kevin', 'dunn', 'whos', 'also', 'watches', 'happens', 'theres', 'big', 'name', 'crowd', 'thats', 'secretary', 'defense', 'charles', 'kirkland', 'joel', 'fabiani', 'whos', 'sitting', 'behind', 'rick', 'gets', 'shot', 'second', 'heavyweight', 'champion', 'lincoln', 'tyler', 'stan', 'shaw', 'knocked', 'happens', 'opening', 'shot', 'creates', 'many', 'red', 'herrings', 'possibilities', 'happened', 'opens', 'scene', 'close', 'examination', 'total', 'deconstruction', 'really', 'happened', 'film', 'asks', 'sets', 'film', 'extremely', 'well', 'rick', 'begins', 'question', 'people', 'get', 'different', 'perspectives', 'scene', 'discovers', 'theres', 'good', 'possibility', 'conspiracy', 'follow', 'rick', 'trying', 'learn', 'information', 'also', 'meet', 'woman', 'talking', 'kirkland', 'shot', 'carla', 'gugino', 'flees', 'scene', 'panic', 'tries', 'hide', 'cops', 'arena', 'adjacent', 'casinohotel', 'since', 'cops', 'blocked', 'doors', 'get', 'witness', 'takes', 'happened', 'going', 'pretty', 'fine', 'dandy', 'extremely', 'interesting', 'watch', 'takes', 'one', 'wrong', 'step', 'follow', 'wrong', 'character', 'learn', 'answer', 'mystery', 'early', 'way', 'rick', 'find', 'thats', 'worst', 'part', 'one', 'person', 'didnt', 'think', 'would', 'obviously', 'supposed', 'red', 'herring', 'one', 'didnt', 'think', 'would', 'stupid', 'cliched', 'person', 'behind', 'gets', 'worse', 'film', 'turns', 'chase', 'film', 'half', 'way', 'film', 'since', 'already', 'know', 'happened', 'cant', 'rely', 'ricks', 'investigation', 'interesting', 'film', 'ran', 'guts', 'really', 'complex', 'original', 'third', 'way', 'decided', 'fall', 'back', 'easy', 'way', 'happens', 'mean', 'become', 'less', 'less', 'credible', 'events', 'become', 'proposterous', 'end', 'film', 'decided', 'rely', 'worst', 'offender', 'mysteries', 'like', 'deux', 'ex', 'machina', 'thats', 'outside', 'intereference', 'brings', 'film', 'sudden', 'conclusion', 'makes', 'everything', 'okay', 'time', 'hurricane', 'outofcontrol', 'police', 'car', 'big', 'round', 'ball', 'adorned', 'arena', 'went', 'wrong', 'depalma', 'screenwriter', 'david', 'koepp', 'extremely', 'credible', 'people', 'respective', 'fields', 'known', 'bringing', 'life', 'complexity', 'mysteries', 'depalma', 'idolizes', 'hitchcock', 'death', 'done', 'many', 'film', 'like', 'masterpiece', 'blow', 'movie', 'soundman', 'uses', 'movie', 'elements', 'uncover', 'conspiracy', 'piece', 'piece', 'granted', 'depalma', 'least', 'makes', 'intriguing', 'watch', 'overthetop', 'shot', 'setups', 'notably', 'beginning', 'sequence', 'camera', 'pans', 'top', 'bunch', 'rooms', 'hotel', 'forgetting', 'anything', 'boundaries', 'least', 'direction', 'makes', 'partly', 'theres', 'koepp', 'showed', 'great', 'ability', 'making', 'characters', 'flaws', 'come', 'life', 'like', 'depalmas', 'earlier', 'carlitos', 'way', 'film', 'dove', 'right', 'life', 'past', 'character', 'examined', 'extremely', 'well', 'write', 'flawed', 'character', 'rick', 'santoro', 'seems', 'halfassed', 'effort', 'hes', 'flawed', 'see', 'redemption', 'story', 'wasnt', 'formulaic', 'scene', 'towards', 'end', 'make', 'fatal', 'decision', 'cheapened', 'fact', 'answer', 'emotional', 'buildup', 'may', 'well', 'said', 'opposite', 'says', 'would', 'least', 'gone', 'character', 'like', 'disappointing', 'kind', 'film', 'promises', 'intelligence', 'complexity', 'promises', 'disection', 'flawed', 'character', 'perhaps', 'even', 'redemption', 'pulls', 'rug', 'us', 'convinced', 'would', 'able', 'go', 'way', 'watching', 'first', 'half', 'hour', 'couldnt', 'wait', 'see', 'mystery', 'would', 'unearthed', 'many', 'different', 'perspectives', 'hed', 'given', 'perhaps', 'hed', 'make', 'choice', 'whos', 'believe', 'theres', 'film', 'unfortunately', 'film', 'two', 'major', 'deux', 'ex', 'machinas', 'one', 'disasterous', 'ending', 'half', 'hour', 'film', 'goes', 'autopilot', 'becomes', 'stale', 'recycled', 'piece', 'crap', 'weve', 'seen', 'much', 'never', 'someone', 'like', 'depalma']\n"
     ]
    }
   ],
   "source": [
    "# load the document\n",
    "filename = \"datasets/txt_sentoken/neg/cv023_13847.txt\"\n",
    "text = load_doc(filename)\n",
    "tokens = clean_doc(text)\n",
    "print(tokens)"
   ],
   "metadata": {
    "collapsed": false,
    "pycharm": {
     "name": "#%%\n"
    }
   }
  },
  {
   "cell_type": "code",
   "execution_count": 125,
   "outputs": [],
   "source": [
    "# load the doc and then add to vocab\n",
    "\n",
    "def add_doc_to_vocab(filename, vocab:Counter):\n",
    "    # load the doc\n",
    "    doc = load_doc(filename)\n",
    "\n",
    "    # clean the doc\n",
    "    tokens = clean_doc(doc)\n",
    "\n",
    "    # update counts\n",
    "    vocab.update(tokens)"
   ],
   "metadata": {
    "collapsed": false,
    "pycharm": {
     "name": "#%%\n"
    }
   }
  },
  {
   "cell_type": "code",
   "execution_count": 126,
   "outputs": [],
   "source": [
    "# load all docs in a directory\n",
    "def process_docs(dir, vocab):\n",
    "    for filename in os.listdir(dir):\n",
    "        if filename.endswith(\".txt\"):\n",
    "            path = os.path.join(dir, filename)\n",
    "            add_doc_to_vocab(path, vocab)\n"
   ],
   "metadata": {
    "collapsed": false,
    "pycharm": {
     "name": "#%%\n"
    }
   }
  },
  {
   "cell_type": "code",
   "execution_count": 127,
   "outputs": [],
   "source": [
    "def save_list(lines, filename):\n",
    "    data = \"\\n\".join(lines)\n",
    "    file = open(filename, mode=\"w\")\n",
    "    file.write(data)\n",
    "    file.close()"
   ],
   "metadata": {
    "collapsed": false,
    "pycharm": {
     "name": "#%%\n"
    }
   }
  },
  {
   "cell_type": "code",
   "execution_count": 128,
   "outputs": [
    {
     "name": "stdout",
     "output_type": "stream",
     "text": [
      "46557\n"
     ]
    }
   ],
   "source": [
    "# define vocab\n",
    "vocab = Counter()\n",
    "\n",
    "# add all docs to vocab\n",
    "process_docs(dir=r\"datasets/txt_sentoken/neg\", vocab=vocab)\n",
    "process_docs(dir=r\"datasets/txt_sentoken/pos\", vocab=vocab)\n",
    "\n",
    "# print the size of the vocab\n",
    "print(len(vocab))"
   ],
   "metadata": {
    "collapsed": false,
    "pycharm": {
     "name": "#%%\n"
    }
   }
  },
  {
   "cell_type": "code",
   "execution_count": 129,
   "outputs": [
    {
     "name": "stdout",
     "output_type": "stream",
     "text": [
      "[('film', 8860), ('one', 5521), ('movie', 5440), ('like', 3553), ('even', 2555), ('good', 2320), ('time', 2283), ('story', 2118), ('films', 2102), ('would', 2042), ('much', 2024), ('also', 1965), ('characters', 1947), ('get', 1921), ('character', 1906), ('two', 1825), ('first', 1768), ('see', 1730), ('well', 1694), ('way', 1668), ('make', 1590), ('really', 1563), ('little', 1491), ('life', 1472), ('plot', 1451), ('people', 1420), ('movies', 1416), ('could', 1395), ('bad', 1374), ('scene', 1373), ('never', 1364), ('best', 1301), ('new', 1277), ('many', 1268), ('doesnt', 1267), ('man', 1266), ('scenes', 1265), ('dont', 1210), ('know', 1207), ('hes', 1150), ('great', 1141), ('another', 1111), ('love', 1089), ('action', 1078), ('go', 1075), ('us', 1065), ('director', 1056), ('something', 1048), ('end', 1047), ('still', 1038)]\n"
     ]
    }
   ],
   "source": [
    "# print the top words in the vocab\n",
    "print(vocab.most_common(50))"
   ],
   "metadata": {
    "collapsed": false,
    "pycharm": {
     "name": "#%%\n"
    }
   }
  },
  {
   "cell_type": "code",
   "execution_count": 130,
   "outputs": [
    {
     "name": "stdout",
     "output_type": "stream",
     "text": [
      "27139\n"
     ]
    }
   ],
   "source": [
    "# keep tokens with > 5 occurance\n",
    "min_occurance = 2\n",
    "tokens = [k for k,c in vocab.items() if c >= min_occurance]\n",
    "print(len(tokens))"
   ],
   "metadata": {
    "collapsed": false,
    "pycharm": {
     "name": "#%%\n"
    }
   }
  },
  {
   "cell_type": "code",
   "execution_count": 131,
   "outputs": [],
   "source": [
    "# finally save the tokens to a vocab file\n",
    "save_list(tokens, 'vocab.txt')"
   ],
   "metadata": {
    "collapsed": false,
    "pycharm": {
     "name": "#%%\n"
    }
   }
  },
  {
   "cell_type": "code",
   "execution_count": 132,
   "outputs": [],
   "source": [
    "# prepare the reviews\n",
    "# load doc into memory\n",
    "def load_doc(filename):\n",
    "    file = open(filename, 'r')\n",
    "    text = file.read()\n",
    "    file.close()\n",
    "    return text"
   ],
   "metadata": {
    "collapsed": false,
    "pycharm": {
     "name": "#%%\n"
    }
   }
  },
  {
   "cell_type": "code",
   "execution_count": 133,
   "outputs": [],
   "source": [
    "# load th vocab\n",
    "vocab_filename = r'vocab.txt'\n",
    "vocab = load_doc(vocab_filename)\n",
    "vocab = vocab.split()\n",
    "vocab = set(vocab)"
   ],
   "metadata": {
    "collapsed": false,
    "pycharm": {
     "name": "#%%\n"
    }
   }
  },
  {
   "cell_type": "code",
   "execution_count": 134,
   "outputs": [],
   "source": [
    "# load the doc, clean and return line of tokens\n",
    "def doc_to_line(filename, vocab):\n",
    "    # load the doc\n",
    "    doc = load_doc(filename)\n",
    "\n",
    "    #clean the doc\n",
    "    tokens = clean_doc(doc)\n",
    "\n",
    "    # filter by vocab\n",
    "    tokens = [w for w in tokens if w in vocab]\n",
    "\n",
    "    return ' '.join(tokens)\\"
   ],
   "metadata": {
    "collapsed": false,
    "pycharm": {
     "name": "#%%\n"
    }
   }
  },
  {
   "cell_type": "code",
   "execution_count": 135,
   "outputs": [],
   "source": [
    "# load all docs in a directory\n",
    "def process_docs_new(dir, vocab):\n",
    "    lines = []\n",
    "\n",
    "    for filename in os.listdir(dir):\n",
    "        if filename.endswith(\".txt\"):\n",
    "            path = os.path.join(dir, filename)\n",
    "\n",
    "            # load and clean the doc\n",
    "            line = doc_to_line(path, vocab)\n",
    "\n",
    "            # add to list\n",
    "            lines.append(line)\n",
    "\n",
    "    return lines"
   ],
   "metadata": {
    "collapsed": false,
    "pycharm": {
     "name": "#%%\n"
    }
   }
  },
  {
   "cell_type": "code",
   "execution_count": 136,
   "outputs": [],
   "source": [
    "vocab_filename = 'vocab.txt'\n",
    "vocab = load_doc(vocab_filename)\n",
    "vocab = vocab.split()\n",
    "vocab = set(vocab)\n",
    "\n",
    "# prepare negative reviews\n",
    "negative_lines = process_docs_new(dir=r\"datasets/txt_sentoken/neg\", vocab=vocab)\n",
    "save_list(negative_lines, 'negative.txt')\n",
    "\n",
    "positive_lines = process_docs_new(dir=\"datasets/txt_sentoken/pos\", vocab=vocab)\n",
    "save_list(lines=positive_lines, filename='positive.txt')"
   ],
   "metadata": {
    "collapsed": false,
    "pycharm": {
     "name": "#%%\n"
    }
   }
  },
  {
   "cell_type": "code",
   "execution_count": null,
   "outputs": [],
   "source": [
    "\n",
    "\n"
   ],
   "metadata": {
    "collapsed": false,
    "pycharm": {
     "name": "#%%\n"
    }
   }
  }
 ],
 "metadata": {
  "kernelspec": {
   "display_name": "Python 3",
   "language": "python",
   "name": "python3"
  },
  "language_info": {
   "codemirror_mode": {
    "name": "ipython",
    "version": 2
   },
   "file_extension": ".py",
   "mimetype": "text/x-python",
   "name": "python",
   "nbconvert_exporter": "python",
   "pygments_lexer": "ipython2",
   "version": "2.7.6"
  }
 },
 "nbformat": 4,
 "nbformat_minor": 0
}