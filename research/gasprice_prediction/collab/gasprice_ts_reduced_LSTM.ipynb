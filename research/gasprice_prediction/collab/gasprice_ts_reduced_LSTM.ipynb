{
  "nbformat": 4,
  "nbformat_minor": 0,
  "metadata": {
    "kernelspec": {
      "display_name": "Python 3",
      "language": "python",
      "name": "python3"
    },
    "language_info": {
      "codemirror_mode": {
        "name": "ipython",
        "version": 2
      },
      "file_extension": ".py",
      "mimetype": "text/x-python",
      "name": "python",
      "nbconvert_exporter": "python",
      "pygments_lexer": "ipython2",
      "version": "2.7.6"
    },
    "colab": {
      "name": "gasprice_ts.ipynb",
      "provenance": [],
      "collapsed_sections": []
    },
    "accelerator": "GPU"
  },
  "cells": [
    {
      "cell_type": "code",
      "metadata": {
        "id": "ZaQaDhfnG_vK"
      },
      "source": [
        "import os, sys\n",
        "import numpy as np\n",
        "import pandas as pd\n",
        "import seaborn as sns\n",
        "import matplotlib.pyplot as plt\n",
        "from matplotlib.figure import Figure\n",
        "import matplotlib.axes._axes as axes\n",
        "sns.set()"
      ],
      "execution_count": 1,
      "outputs": []
    },
    {
      "cell_type": "code",
      "metadata": {
        "id": "1AlUOMV0JfVN",
        "outputId": "9f2ff398-b23d-4eb5-886f-848a561f80cc",
        "colab": {
          "base_uri": "https://localhost:8080/",
          "height": 34
        }
      },
      "source": [
        "from google.colab import drive\n",
        "drive.mount('/content/drive')"
      ],
      "execution_count": 2,
      "outputs": [
        {
          "output_type": "stream",
          "text": [
            "Mounted at /content/drive\n"
          ],
          "name": "stdout"
        }
      ]
    },
    {
      "cell_type": "code",
      "metadata": {
        "id": "u5F4OrsnJkez",
        "outputId": "1e18eb08-430c-4e5d-df0e-2b72d3096790",
        "colab": {
          "base_uri": "https://localhost:8080/",
          "height": 34
        }
      },
      "source": [
        "os.listdir(\"/content/\")"
      ],
      "execution_count": 3,
      "outputs": [
        {
          "output_type": "execute_result",
          "data": {
            "text/plain": [
              "['.config', 'drive', 'sample_data']"
            ]
          },
          "metadata": {
            "tags": []
          },
          "execution_count": 3
        }
      ]
    },
    {
      "cell_type": "code",
      "metadata": {
        "pycharm": {
          "name": "#%%\n"
        },
        "id": "klff86ckG_vQ"
      },
      "source": [
        "# import the necessary keras packages\n",
        "from sklearn.preprocessing import LabelBinarizer\n",
        "from sklearn.model_selection import train_test_split\n",
        "from sklearn.metrics import classification_report, mean_squared_error\n",
        "\n",
        "##\n",
        "from tensorflow.keras.layers import Conv2D, Activation, Flatten, Dense\n",
        "from tensorflow.keras.preprocessing.image import ImageDataGenerator\n",
        "from tensorflow.keras.optimizers import RMSprop, SGD\n",
        "from tensorflow.keras.applications import VGG16\n",
        "from tensorflow.keras.layers import Input, Conv1D, MaxPool1D, LSTM\n",
        "from tensorflow.keras.models import Model, Sequential\n",
        "from tensorflow.keras.utils import plot_model\n",
        "from tensorflow.keras import backend as K\n",
        "from imutils import paths"
      ],
      "execution_count": 4,
      "outputs": []
    },
    {
      "cell_type": "code",
      "metadata": {
        "pycharm": {
          "name": "#%%\n"
        },
        "id": "xQQAc7tLG_vU",
        "outputId": "e4a047a1-86d6-4ed9-9c77-f59cf9784dd8",
        "colab": {
          "base_uri": "https://localhost:8080/",
          "height": 235
        }
      },
      "source": [
        "cwd = os.getcwd()\n",
        "data = pd.read_csv(f\"{cwd}/minAvgGasPrice.csv\",\n",
        "                   index_col=0,\n",
        "                   parse_dates=True)\n",
        "data.columns = ['time_stamp', 'gas_price']\n",
        "\n",
        "# create the giga wei column\n",
        "data['gas_price_giga'] = data.gas_price / (10**9)\n",
        "\n",
        "# look at the dataframe\n",
        "data.head()"
      ],
      "execution_count": 6,
      "outputs": [
        {
          "output_type": "execute_result",
          "data": {
            "text/html": [
              "<div>\n",
              "<style scoped>\n",
              "    .dataframe tbody tr th:only-of-type {\n",
              "        vertical-align: middle;\n",
              "    }\n",
              "\n",
              "    .dataframe tbody tr th {\n",
              "        vertical-align: top;\n",
              "    }\n",
              "\n",
              "    .dataframe thead th {\n",
              "        text-align: right;\n",
              "    }\n",
              "</style>\n",
              "<table border=\"1\" class=\"dataframe\">\n",
              "  <thead>\n",
              "    <tr style=\"text-align: right;\">\n",
              "      <th></th>\n",
              "      <th>time_stamp</th>\n",
              "      <th>gas_price</th>\n",
              "      <th>gas_price_giga</th>\n",
              "    </tr>\n",
              "    <tr>\n",
              "      <th>Date(UTC)</th>\n",
              "      <th></th>\n",
              "      <th></th>\n",
              "      <th></th>\n",
              "    </tr>\n",
              "  </thead>\n",
              "  <tbody>\n",
              "    <tr>\n",
              "      <th>2015-08-07</th>\n",
              "      <td>1438905600</td>\n",
              "      <td>604684154870</td>\n",
              "      <td>604.684155</td>\n",
              "    </tr>\n",
              "    <tr>\n",
              "      <th>2015-08-08</th>\n",
              "      <td>1438992000</td>\n",
              "      <td>322713574989</td>\n",
              "      <td>322.713575</td>\n",
              "    </tr>\n",
              "    <tr>\n",
              "      <th>2015-08-09</th>\n",
              "      <td>1439078400</td>\n",
              "      <td>475467129048</td>\n",
              "      <td>475.467129</td>\n",
              "    </tr>\n",
              "    <tr>\n",
              "      <th>2015-08-10</th>\n",
              "      <td>1439164800</td>\n",
              "      <td>421654904254</td>\n",
              "      <td>421.654904</td>\n",
              "    </tr>\n",
              "    <tr>\n",
              "      <th>2015-08-11</th>\n",
              "      <td>1439251200</td>\n",
              "      <td>77838819162</td>\n",
              "      <td>77.838819</td>\n",
              "    </tr>\n",
              "  </tbody>\n",
              "</table>\n",
              "</div>"
            ],
            "text/plain": [
              "            time_stamp     gas_price  gas_price_giga\n",
              "Date(UTC)                                           \n",
              "2015-08-07  1438905600  604684154870      604.684155\n",
              "2015-08-08  1438992000  322713574989      322.713575\n",
              "2015-08-09  1439078400  475467129048      475.467129\n",
              "2015-08-10  1439164800  421654904254      421.654904\n",
              "2015-08-11  1439251200   77838819162       77.838819"
            ]
          },
          "metadata": {
            "tags": []
          },
          "execution_count": 6
        }
      ]
    },
    {
      "cell_type": "code",
      "metadata": {
        "pycharm": {
          "name": "#%%\n"
        },
        "id": "encVpng-G_vY",
        "outputId": "5a05645b-05f4-423b-83ad-8a0f0b323977",
        "colab": {
          "base_uri": "https://localhost:8080/",
          "height": 302
        }
      },
      "source": [
        "# plot the time series\n",
        "sns.lineplot(x=data.index, y=data.gas_price_giga, data=data)"
      ],
      "execution_count": 7,
      "outputs": [
        {
          "output_type": "execute_result",
          "data": {
            "text/plain": [
              "<matplotlib.axes._subplots.AxesSubplot at 0x7f0c15e10048>"
            ]
          },
          "metadata": {
            "tags": []
          },
          "execution_count": 7
        },
        {
          "output_type": "display_data",
          "data": {
            "image/png": "[encoded data removed]",
            "text/plain": [
              "<Figure size 432x288 with 1 Axes>"
            ]
          },
          "metadata": {
            "tags": [],
            "needs_background": "light"
          }
        }
      ]
    },
    {
      "cell_type": "code",
      "metadata": {
        "pycharm": {
          "name": "#%%\n"
        },
        "id": "fceJN3q_G_vb"
      },
      "source": [
        "# naive model for ulti step\n",
        "\n",
        "# evaluate one or more weekly forcatss against expected values\n",
        "def evaluate_forcasts(actual:np.ndarray, predicted:np.ndarray):\n",
        "    scores = []\n",
        "\n",
        "    for i in range(actual.shape[1]):\n",
        "        # calculate the mse\n",
        "        mse = mean_squared_error(actual[:,i], predicted[:,i])\n",
        "        rmse = np.sqrt(mse)\n",
        "        scores.append(rmse)\n",
        "\n",
        "    # calculate overall score\n",
        "    s = 0\n",
        "    for row in range(actual.shape[0]):\n",
        "        for col in range(actual.shape[1]):\n",
        "            s += (actual[row, col] - predicted[row, col])**2\n",
        "    score = np.sqrt(s / (actual.shape[0] * actual.shape[1]))\n",
        "    return score, scores\n"
      ],
      "execution_count": 8,
      "outputs": []
    },
    {
      "cell_type": "code",
      "metadata": {
        "pycharm": {
          "name": "#%%\n"
        },
        "id": "EMRlHGdYG_vf"
      },
      "source": [
        "# summarise scores\n",
        "def summarise_scores(name, score, scores):\n",
        "    s_scores = ', '.join([f\"{s:0.1f}\" for s in scores])\n",
        "    print(f\"{name}: {score:0.3f}==> {s_scores}\")"
      ],
      "execution_count": 9,
      "outputs": []
    },
    {
      "cell_type": "code",
      "metadata": {
        "pycharm": {
          "name": "#%%\n"
        },
        "id": "-5ibd42BG_vi"
      },
      "source": [
        "def split_dataset(data:np.ndarray):\n",
        "    train, test = data[2:1612], data[1612:1878]\n",
        "\n",
        "    # restructure into windows of weekly data\n",
        "    train = np.array(np.split(train, len(train)/7))\n",
        "    test = np.array(np.split(test, len(test)/7))\n",
        "\n",
        "    return train, test"
      ],
      "execution_count": 10,
      "outputs": []
    },
    {
      "cell_type": "code",
      "metadata": {
        "pycharm": {
          "name": "#%%\n"
        },
        "id": "KdUtULWKG_vl",
        "outputId": "9c7eb57f-2af1-4930-cc4d-7dd6b5856126",
        "colab": {
          "base_uri": "https://localhost:8080/",
          "height": 51
        }
      },
      "source": [
        "train, test = split_dataset(data.values)\n",
        "print(train.shape)\n",
        "print(test.shape)"
      ],
      "execution_count": 11,
      "outputs": [
        {
          "output_type": "stream",
          "text": [
            "(230, 7, 3)\n",
            "(38, 7, 3)\n"
          ],
          "name": "stdout"
        }
      ]
    },
    {
      "cell_type": "code",
      "metadata": {
        "pycharm": {
          "name": "#%%\n"
        },
        "id": "4DjLclM2G_vo",
        "outputId": "d5ab5c74-0d84-4467-ae0b-d50505baf6b1",
        "colab": {
          "base_uri": "https://localhost:8080/",
          "height": 34
        }
      },
      "source": [
        "train[0, 0, 2]"
      ],
      "execution_count": 12,
      "outputs": [
        {
          "output_type": "execute_result",
          "data": {
            "text/plain": [
              "475.467129048"
            ]
          },
          "metadata": {
            "tags": []
          },
          "execution_count": 12
        }
      ]
    },
    {
      "cell_type": "code",
      "metadata": {
        "pycharm": {
          "name": "#%%\n"
        },
        "id": "BhKoR9lRG_vt"
      },
      "source": [
        "# evaluate a single model\n",
        "def evaluate_model(model_func, train:np.ndarray, test:np.ndarray):\n",
        "    # history is a list of weekly data\n",
        "    history = [x for x in train]\n",
        "\n",
        "    # walk forweward validation over each week\n",
        "    predictions = []\n",
        "\n",
        "    for i in range(len(test)):\n",
        "        # predict the week\n",
        "        yhat_seq = model_func(history)\n",
        "        predictions.append(yhat_seq)\n",
        "\n",
        "        # get real observations and add to history for predicting next week\n",
        "        history.append(test[i, :])\n",
        "    predictions = np.array(predictions)\n",
        "\n",
        "    # evaluate predictions days for each week\n",
        "    score, scores = evaluate_forcasts(test[:, :, 2], predictions)\n",
        "\n",
        "    return score, scores\n"
      ],
      "execution_count": 13,
      "outputs": []
    },
    {
      "cell_type": "code",
      "metadata": {
        "pycharm": {
          "name": "#%%\n"
        },
        "id": "6kn8H0XSG_vz"
      },
      "source": [
        "# daily naive forcast\n",
        "def daily_persistence(history):\n",
        "    # get the data for the prior week\n",
        "    last_week = history[-1]\n",
        "\n",
        "    # get the gigawei for the last day\n",
        "    value = last_week[-1, 2]\n",
        "\n",
        "    # prepare 7 day forecast\n",
        "    forecast = [value for _ in range(7)]\n",
        "    return forecast"
      ],
      "execution_count": 14,
      "outputs": []
    },
    {
      "cell_type": "code",
      "metadata": {
        "pycharm": {
          "name": "#%%\n"
        },
        "id": "fZEB_voDG_v3"
      },
      "source": [
        "# weekly persistence model\n",
        "def weekly_persistence(history):\n",
        "    # get the data for the prior week\n",
        "    last_week = history[-1]\n",
        "    return last_week[:, 2]"
      ],
      "execution_count": 15,
      "outputs": []
    },
    {
      "cell_type": "code",
      "metadata": {
        "pycharm": {
          "name": "#%%\n"
        },
        "id": "Exd_DcoXG_wB"
      },
      "source": [
        "# week one year ago persistence model\n",
        "def week_one_year_ago_persistence(history):\n",
        "# get the data for the prior week\n",
        "    last_week = history[-52]\n",
        "    return last_week[:, 2]"
      ],
      "execution_count": 16,
      "outputs": []
    },
    {
      "cell_type": "code",
      "metadata": {
        "pycharm": {
          "name": "#%%\n"
        },
        "id": "C9CTOT_WG_wH"
      },
      "source": [
        "# define the names and functions for the models we wish to evaluate\n",
        "models = dict()\n",
        "models[' daily' ] = daily_persistence\n",
        "models[' weekly' ] = weekly_persistence\n",
        "models[' week-oya' ] = week_one_year_ago_persistence"
      ],
      "execution_count": 17,
      "outputs": []
    },
    {
      "cell_type": "code",
      "metadata": {
        "pycharm": {
          "name": "#%%\n"
        },
        "id": "VnPLU1iJG_wR",
        "outputId": "c9c828aa-d77f-4a01-926a-de9ddfdb4132",
        "colab": {
          "base_uri": "https://localhost:8080/",
          "height": 320
        }
      },
      "source": [
        "# evaluate each model\n",
        "days = [' sun' , ' mon' , ' tue' , ' wed' , ' thr' , ' fri' , ' sat' ]\n",
        "for name, func in models.items():\n",
        "    # evaluate and get scores\n",
        "    score, scores = evaluate_model(func, train, test)\n",
        "    # summarize scores\n",
        "    summarise_scores(name , score, scores) # plot scores\n",
        "    plt.plot(days, scores, marker='o' , label=name)"
      ],
      "execution_count": 18,
      "outputs": [
        {
          "output_type": "stream",
          "text": [
            " daily: 80.361==> 31.2, 39.0, 64.9, 113.9, 143.2, 54.8, 44.9\n",
            " weekly: 104.012==> 25.9, 35.4, 80.2, 155.3, 193.8, 60.9, 44.9\n",
            " week-oya: 102.116==> 52.7, 70.1, 104.9, 131.6, 163.5, 80.2, 61.7\n"
          ],
          "name": "stdout"
        },
        {
          "output_type": "display_data",
          "data": {
            "image/png": "[encoded data removed]",
            "text/plain": [
              "<Figure size 432x288 with 1 Axes>"
            ]
          },
          "metadata": {
            "tags": [],
            "needs_background": "light"
          }
        }
      ]
    },
    {
      "cell_type": "code",
      "metadata": {
        "pycharm": {
          "name": "#%%\n"
        },
        "id": "DifysPbXG_wW"
      },
      "source": [
        "####################### CNN HERE"
      ],
      "execution_count": null,
      "outputs": []
    },
    {
      "cell_type": "code",
      "metadata": {
        "pycharm": {
          "name": "#%%\n"
        },
        "id": "BBLSZ686G_wa"
      },
      "source": [
        "# CNN\n",
        "\n",
        "# convert history into inputs and outputs\n",
        "def to_supervised(train:np.ndarray, n_input:int, n_out=7):\n",
        "    # flatten the data\n",
        "    data = train.reshape((train.shape[0] * train.shape[1], train.shape[2]))\n",
        "    X, Y = [], []\n",
        "\n",
        "    in_start = 0\n",
        "\n",
        "    # step ver history one time step at a time\n",
        "    for _ in range(len(data)):\n",
        "        # define the end of the input sequence\n",
        "        in_end = in_start + n_input\n",
        "        out_end = in_end + n_out\n",
        "\n",
        "        if out_end <= len(data):\n",
        "            x_input = data[in_start:in_end, 2]\n",
        "            x_input = x_input.reshape((len(x_input), 1))\n",
        "            X.append(x_input)\n",
        "            Y.append(data[in_end:out_end, 2])\n",
        "        # move along one time step\n",
        "        in_start += 1\n",
        "    return np.array(X), np.array(Y)"
      ],
      "execution_count": 60,
      "outputs": []
    },
    {
      "cell_type": "code",
      "metadata": {
        "pycharm": {
          "name": "#%%\n"
        },
        "id": "HZntEym3G_wf"
      },
      "source": [
        "# train the model\n",
        "def build_model(train, n_input):\n",
        "    # prepare the data\n",
        "    trainx, trainy = to_supervised(train, n_input)\n",
        "\n",
        "    # define params\n",
        "    verbose, epochs, bs = 1, 100, 16\n",
        "    n_timesteps, n_features, n_outputs = trainx.shape[1], \\\n",
        "                                         trainx.shape[2], \\\n",
        "                                         trainy.shape[1]\n",
        "\n",
        "    # define the model\n",
        "    model = Sequential()\n",
        "\n",
        "    # model.add(Conv1D(16, 3, activation=\"relu\", input_shape=(n_timesteps, n_features)))\n",
        "    # model.add(MaxPool1D())\n",
        "    # model.add(Flatten())\n",
        "    # model.add(Dense(10, activation='relu'))\n",
        "\n",
        "    # model.add(LSTM(64, activation='relu' , input_shape=(n_timesteps, n_features), return_sequences=True))\n",
        "    # model.add(LSTM(32, activation='relu', return_sequences=True))\n",
        "    # model.add(LSTM(16, activation='relu'))\n",
        "    # model.add(Dense(10, activation='relu' ))\n",
        "\n",
        "    model.add(LSTM(16, activation='relu' , input_shape=(n_timesteps, n_features)))\n",
        "    model.add(Dense(10, activation='relu' ))\n",
        "\n",
        "\n",
        "\n",
        "    model.add(Dense(n_outputs))\n",
        "    model.compile(loss=\"mse\", optimizer=\"adam\")\n",
        "\n",
        "    # fit\n",
        "    model.fit(trainx, trainy, epochs=epochs, batch_size=bs, verbose=verbose)\n",
        "    return model"
      ],
      "execution_count": 74,
      "outputs": []
    },
    {
      "cell_type": "code",
      "metadata": {
        "pycharm": {
          "name": "#%%\n"
        },
        "id": "loznC0OeG_wl"
      },
      "source": [
        "def forecast(model, history, n_input):\n",
        "\n",
        "    data = np.array(history)\n",
        "    #print(\"this is data shape\")\n",
        "    #print(data.shape)\n",
        "    data = data.reshape((data.shape[0]*data.shape[1], data.shape[2]))\n",
        "\n",
        "    # retrieve last obs\n",
        "    input_x = data[-n_input:, 2]\n",
        "\n",
        "    # reshape\n",
        "    input_x = input_x.reshape((1, len(input_x), 1))\n",
        "\n",
        "    yhat = model.predict(input_x, verbose=0)\n",
        "\n",
        "    yhat = yhat[0]\n",
        "    return yhat"
      ],
      "execution_count": 75,
      "outputs": []
    },
    {
      "cell_type": "code",
      "metadata": {
        "pycharm": {
          "name": "#%%\n"
        },
        "id": "Y4q-YNduG_wt"
      },
      "source": [
        "def evaluate_model(train:np.ndarray, test:np.ndarray, n_input):\n",
        "    # fit the model\n",
        "    model = build_model(train, n_input)\n",
        "\n",
        "    # history is  alist of weekly data\n",
        "    history = [x for x in train]\n",
        "\n",
        "    # walk forward validation over each week\n",
        "    predictions = []\n",
        "\n",
        "    for i in range(len(test)):\n",
        "        # preedict the week\n",
        "        yhat_sequence = forecast(model, history, n_input)\n",
        "\n",
        "        # store the predictions\n",
        "        predictions.append(yhat_sequence)\n",
        "\n",
        "        # get real observations and add to history\n",
        "        history.append(test[i, :])\n",
        "\n",
        "    # evaluate prediction days for each week\n",
        "    predictions = np.array(predictions)\n",
        "    score, scores = evaluate_forcasts(test[:,:,2], predictions)\n",
        "\n",
        "    return score, scores, predictions"
      ],
      "execution_count": 76,
      "outputs": []
    },
    {
      "cell_type": "code",
      "metadata": {
        "pycharm": {
          "name": "#%%\n",
          "is_executing": true
        },
        "id": "CEDPksEAG_w1",
        "outputId": "2a177b03-028d-4696-b10c-4f65ed420453",
        "colab": {
          "base_uri": "https://localhost:8080/",
          "height": 1000
        }
      },
      "source": [
        "train, test = split_dataset(data.values)\n",
        "n_input = 21\n",
        "\n",
        "score, scores, preds = evaluate_model(train, test, n_input)\n",
        "summarise_scores('cnn', score, scores)\n",
        "\n",
        "# plot scores\n",
        "days = [' sun' , ' mon' , ' tue' , ' wed' , ' thr' , ' fri' , ' sat' ]\n",
        "plt.plot(days, scores, marker='o' , label=' cnn' )\n",
        "plt.show()"
      ],
      "execution_count": 77,
      "outputs": [
        {
          "output_type": "stream",
          "text": [
            "WARNING:tensorflow:Layer lstm_22 will not use cuDNN kernel since it doesn't meet the cuDNN kernel criteria. It will use generic GPU kernel as fallback when running on GPU\n",
            "Epoch 1/100\n",
            "99/99 [==============================] - 3s 34ms/step - loss: 1289.5476\n",
            "Epoch 2/100\n",
            "99/99 [==============================] - 3s 35ms/step - loss: 860.9547\n",
            "Epoch 3/100\n",
            "99/99 [==============================] - 3s 33ms/step - loss: 713.0702\n",
            "Epoch 4/100\n",
            "99/99 [==============================] - 3s 33ms/step - loss: 705.9700\n",
            "Epoch 5/100\n",
            "99/99 [==============================] - 3s 32ms/step - loss: 703.7576\n",
            "Epoch 6/100\n",
            "99/99 [==============================] - 3s 32ms/step - loss: 702.8056\n",
            "Epoch 7/100\n",
            "99/99 [==============================] - 3s 33ms/step - loss: 702.3134\n",
            "Epoch 8/100\n",
            "99/99 [==============================] - 3s 33ms/step - loss: 701.7830\n",
            "Epoch 9/100\n",
            "99/99 [==============================] - 3s 33ms/step - loss: 701.4085\n",
            "Epoch 10/100\n",
            "99/99 [==============================] - 3s 33ms/step - loss: 701.8560\n",
            "Epoch 11/100\n",
            "99/99 [==============================] - 3s 33ms/step - loss: 699.1809\n",
            "Epoch 12/100\n",
            "99/99 [==============================] - 3s 32ms/step - loss: 700.8148\n",
            "Epoch 13/100\n",
            "99/99 [==============================] - 3s 33ms/step - loss: 698.4189\n",
            "Epoch 14/100\n",
            "99/99 [==============================] - 3s 33ms/step - loss: 698.2811\n",
            "Epoch 15/100\n",
            "99/99 [==============================] - 3s 32ms/step - loss: 700.3298\n",
            "Epoch 16/100\n",
            "99/99 [==============================] - 3s 33ms/step - loss: 697.4097\n",
            "Epoch 17/100\n",
            "99/99 [==============================] - 3s 32ms/step - loss: 697.7519\n",
            "Epoch 18/100\n",
            "99/99 [==============================] - 3s 32ms/step - loss: 697.8263\n",
            "Epoch 19/100\n",
            "99/99 [==============================] - 3s 33ms/step - loss: 697.0403\n",
            "Epoch 20/100\n",
            "99/99 [==============================] - 3s 33ms/step - loss: 697.9430\n",
            "Epoch 21/100\n",
            "99/99 [==============================] - 3s 33ms/step - loss: 696.9944\n",
            "Epoch 22/100\n",
            "99/99 [==============================] - 3s 32ms/step - loss: 696.0611\n",
            "Epoch 23/100\n",
            "99/99 [==============================] - 3s 32ms/step - loss: 697.0349\n",
            "Epoch 24/100\n",
            "99/99 [==============================] - 3s 32ms/step - loss: 693.3329\n",
            "Epoch 25/100\n",
            "99/99 [==============================] - 3s 32ms/step - loss: 693.9232\n",
            "Epoch 26/100\n",
            "99/99 [==============================] - 3s 32ms/step - loss: 693.7040\n",
            "Epoch 27/100\n",
            "99/99 [==============================] - 3s 33ms/step - loss: 693.7252\n",
            "Epoch 28/100\n",
            "99/99 [==============================] - 3s 33ms/step - loss: 692.5547\n",
            "Epoch 29/100\n",
            "99/99 [==============================] - 3s 33ms/step - loss: 694.0704\n",
            "Epoch 30/100\n",
            "99/99 [==============================] - 3s 33ms/step - loss: 692.8411\n",
            "Epoch 31/100\n",
            "99/99 [==============================] - 3s 32ms/step - loss: 693.5205\n",
            "Epoch 32/100\n",
            "99/99 [==============================] - 3s 32ms/step - loss: 692.4538\n",
            "Epoch 33/100\n",
            "99/99 [==============================] - 3s 33ms/step - loss: 692.1503\n",
            "Epoch 34/100\n",
            "99/99 [==============================] - 3s 33ms/step - loss: 692.9957\n",
            "Epoch 35/100\n",
            "99/99 [==============================] - 3s 32ms/step - loss: 693.4221\n",
            "Epoch 36/100\n",
            "99/99 [==============================] - 3s 32ms/step - loss: 691.7762\n",
            "Epoch 37/100\n",
            "99/99 [==============================] - 3s 32ms/step - loss: 692.5287\n",
            "Epoch 38/100\n",
            "99/99 [==============================] - 3s 33ms/step - loss: 692.0007\n",
            "Epoch 39/100\n",
            "99/99 [==============================] - 3s 33ms/step - loss: 700.8228\n",
            "Epoch 40/100\n",
            "99/99 [==============================] - 3s 32ms/step - loss: 693.4990\n",
            "Epoch 41/100\n",
            "99/99 [==============================] - 3s 32ms/step - loss: 692.4654\n",
            "Epoch 42/100\n",
            "99/99 [==============================] - 3s 32ms/step - loss: 691.8241\n",
            "Epoch 43/100\n",
            "99/99 [==============================] - 3s 33ms/step - loss: 691.0524\n",
            "Epoch 44/100\n",
            "99/99 [==============================] - 3s 32ms/step - loss: 690.7596\n",
            "Epoch 45/100\n",
            "99/99 [==============================] - 3s 32ms/step - loss: 689.6492\n",
            "Epoch 46/100\n",
            "99/99 [==============================] - 3s 33ms/step - loss: 689.6732\n",
            "Epoch 47/100\n",
            "99/99 [==============================] - 3s 32ms/step - loss: 691.7446\n",
            "Epoch 48/100\n",
            "99/99 [==============================] - 3s 32ms/step - loss: 691.4551\n",
            "Epoch 49/100\n",
            "99/99 [==============================] - 3s 32ms/step - loss: 689.9707\n",
            "Epoch 50/100\n",
            "99/99 [==============================] - 3s 33ms/step - loss: 690.7266\n",
            "Epoch 51/100\n",
            "99/99 [==============================] - 3s 32ms/step - loss: 690.0038\n",
            "Epoch 52/100\n",
            "99/99 [==============================] - 3s 33ms/step - loss: 690.3198\n",
            "Epoch 53/100\n",
            "99/99 [==============================] - 3s 32ms/step - loss: 690.0842\n",
            "Epoch 54/100\n",
            "99/99 [==============================] - 3s 32ms/step - loss: 692.0295\n",
            "Epoch 55/100\n",
            "99/99 [==============================] - 3s 33ms/step - loss: 908.4172\n",
            "Epoch 56/100\n",
            "99/99 [==============================] - 3s 32ms/step - loss: 713.0557\n",
            "Epoch 57/100\n",
            "99/99 [==============================] - 3s 33ms/step - loss: 710.2867\n",
            "Epoch 58/100\n",
            "99/99 [==============================] - 3s 33ms/step - loss: 698.0969\n",
            "Epoch 59/100\n",
            "99/99 [==============================] - 3s 32ms/step - loss: 696.6353\n",
            "Epoch 60/100\n",
            "99/99 [==============================] - 3s 32ms/step - loss: 695.1809\n",
            "Epoch 61/100\n",
            "99/99 [==============================] - 3s 32ms/step - loss: 695.5193\n",
            "Epoch 62/100\n",
            "99/99 [==============================] - 3s 34ms/step - loss: 694.6169\n",
            "Epoch 63/100\n",
            "99/99 [==============================] - 3s 35ms/step - loss: 694.1375\n",
            "Epoch 64/100\n",
            "99/99 [==============================] - 3s 34ms/step - loss: 694.0842\n",
            "Epoch 65/100\n",
            "99/99 [==============================] - 3s 33ms/step - loss: 693.8336\n",
            "Epoch 66/100\n",
            "99/99 [==============================] - 3s 33ms/step - loss: 693.4767\n",
            "Epoch 67/100\n",
            "99/99 [==============================] - 3s 35ms/step - loss: 692.8599\n",
            "Epoch 68/100\n",
            "99/99 [==============================] - 4s 35ms/step - loss: 693.0646\n",
            "Epoch 69/100\n",
            "99/99 [==============================] - 3s 34ms/step - loss: 692.4120\n",
            "Epoch 70/100\n",
            "99/99 [==============================] - 3s 34ms/step - loss: 693.2874\n",
            "Epoch 71/100\n",
            "99/99 [==============================] - 3s 34ms/step - loss: 691.8814\n",
            "Epoch 72/100\n",
            "99/99 [==============================] - 3s 34ms/step - loss: 692.2709\n",
            "Epoch 73/100\n",
            "99/99 [==============================] - 3s 34ms/step - loss: 690.6533\n",
            "Epoch 74/100\n",
            "99/99 [==============================] - 3s 34ms/step - loss: 691.8352\n",
            "Epoch 75/100\n",
            "99/99 [==============================] - 3s 34ms/step - loss: 691.5859\n",
            "Epoch 76/100\n",
            "99/99 [==============================] - 3s 34ms/step - loss: 691.8674\n",
            "Epoch 77/100\n",
            "99/99 [==============================] - 3s 35ms/step - loss: 691.2271\n",
            "Epoch 78/100\n",
            "99/99 [==============================] - 3s 35ms/step - loss: 690.9853\n",
            "Epoch 79/100\n",
            "99/99 [==============================] - 3s 34ms/step - loss: 689.9011\n",
            "Epoch 80/100\n",
            "99/99 [==============================] - 3s 34ms/step - loss: 690.3392\n",
            "Epoch 81/100\n",
            "99/99 [==============================] - 3s 34ms/step - loss: 689.7664\n",
            "Epoch 82/100\n",
            "99/99 [==============================] - 3s 34ms/step - loss: 690.5029\n",
            "Epoch 83/100\n",
            "99/99 [==============================] - 3s 35ms/step - loss: 689.4158\n",
            "Epoch 84/100\n",
            "99/99 [==============================] - 3s 34ms/step - loss: 690.6645\n",
            "Epoch 85/100\n",
            "99/99 [==============================] - 3s 34ms/step - loss: 690.9559\n",
            "Epoch 86/100\n",
            "99/99 [==============================] - 3s 35ms/step - loss: 689.3280\n",
            "Epoch 87/100\n",
            "99/99 [==============================] - 3s 34ms/step - loss: 689.1119\n",
            "Epoch 88/100\n",
            "99/99 [==============================] - 3s 34ms/step - loss: 689.6573\n",
            "Epoch 89/100\n",
            "99/99 [==============================] - 3s 34ms/step - loss: 689.7565\n",
            "Epoch 90/100\n",
            "99/99 [==============================] - 3s 34ms/step - loss: 690.0323\n",
            "Epoch 91/100\n",
            "99/99 [==============================] - 3s 34ms/step - loss: 690.6523\n",
            "Epoch 92/100\n",
            "99/99 [==============================] - 3s 34ms/step - loss: 689.8143\n",
            "Epoch 93/100\n",
            "99/99 [==============================] - 3s 34ms/step - loss: 690.1172\n",
            "Epoch 94/100\n",
            "99/99 [==============================] - 3s 33ms/step - loss: 688.9546\n",
            "Epoch 95/100\n",
            "99/99 [==============================] - 4s 36ms/step - loss: 689.4658\n",
            "Epoch 96/100\n",
            "99/99 [==============================] - 4s 36ms/step - loss: 689.0048\n",
            "Epoch 97/100\n",
            "99/99 [==============================] - 3s 35ms/step - loss: 688.5844\n",
            "Epoch 98/100\n",
            "99/99 [==============================] - 3s 35ms/step - loss: 688.3955\n",
            "Epoch 99/100\n",
            "99/99 [==============================] - 3s 34ms/step - loss: 687.6661\n",
            "Epoch 100/100\n",
            "99/99 [==============================] - 3s 33ms/step - loss: 689.4147\n",
            "cnn: 79.109==> 22.6, 30.7, 60.5, 113.1, 146.0, 55.6, 38.6\n"
          ],
          "name": "stdout"
        },
        {
          "output_type": "display_data",
          "data": {
            "image/png": "[encoded data removed]",
            "text/plain": [
              "<Figure size 432x288 with 1 Axes>"
            ]
          },
          "metadata": {
            "tags": [],
            "needs_background": "light"
          }
        }
      ]
    },
    {
      "cell_type": "code",
      "metadata": {
        "id": "LzG8YSsHurJP"
      },
      "source": [
        "preds = preds.ravel()\n",
        "tests = tests.ravel()\n",
        "df = pd.DataFrame(data={'test_data': list(tests), 'predictions': list(preds)})"
      ],
      "execution_count": 78,
      "outputs": []
    },
    {
      "cell_type": "code",
      "metadata": {
        "id": "4mbqqW-HvCiC",
        "outputId": "0391472a-56cc-4dce-8e6e-0254926d8981",
        "colab": {
          "base_uri": "https://localhost:8080/",
          "height": 502
        }
      },
      "source": [
        "f, ax = plt.subplots(1,1, figsize=(16,8)) #type: Figure, axes.Axes\n",
        "ax.set_xlabel(\"Days\")\n",
        "ax.set_ylabel(\"GasPrice\")\n",
        "\n",
        "sns.lineplot(data=df, label='predictions', y = 'predictions',x=list(range(len(df['predictions']))))\n",
        "sns.lineplot(data=df, label='test data', y = 'test_data',x=list(range(len(df['test_data']))))\n",
        "\n",
        "plt.show()"
      ],
      "execution_count": 79,
      "outputs": [
        {
          "output_type": "display_data",
          "data": {
            "image/png": "[encoded data removed]",
            "text/plain": [
              "<Figure size 1152x576 with 1 Axes>"
            ]
          },
          "metadata": {
            "tags": [],
            "needs_background": "light"
          }
        }
      ]
    },
    {
      "cell_type": "code",
      "metadata": {
        "id": "DLnDX0KIvUYv"
      },
      "source": [
        ""
      ],
      "execution_count": null,
      "outputs": []
    }
  ]
}