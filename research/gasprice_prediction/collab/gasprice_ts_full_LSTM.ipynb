{
  "nbformat": 4,
  "nbformat_minor": 0,
  "metadata": {
    "kernelspec": {
      "display_name": "Python 3",
      "language": "python",
      "name": "python3"
    },
    "language_info": {
      "codemirror_mode": {
        "name": "ipython",
        "version": 2
      },
      "file_extension": ".py",
      "mimetype": "text/x-python",
      "name": "python",
      "nbconvert_exporter": "python",
      "pygments_lexer": "ipython2",
      "version": "2.7.6"
    },
    "colab": {
      "name": "gasprice_ts.ipynb",
      "provenance": [],
      "collapsed_sections": []
    },
    "accelerator": "GPU"
  },
  "cells": [
    {
      "cell_type": "code",
      "metadata": {
        "id": "ZaQaDhfnG_vK"
      },
      "source": [
        "import os, sys\n",
        "import numpy as np\n",
        "import pandas as pd\n",
        "import seaborn as sns\n",
        "import matplotlib.pyplot as plt\n",
        "from matplotlib.figure import Figure\n",
        "import matplotlib.axes._axes as axes\n",
        "sns.set()"
      ],
      "execution_count": 1,
      "outputs": []
    },
    {
      "cell_type": "code",
      "metadata": {
        "id": "1AlUOMV0JfVN",
        "outputId": "9f2ff398-b23d-4eb5-886f-848a561f80cc",
        "colab": {
          "base_uri": "https://localhost:8080/",
          "height": 34
        }
      },
      "source": [
        "from google.colab import drive\n",
        "drive.mount('/content/drive')"
      ],
      "execution_count": 2,
      "outputs": [
        {
          "output_type": "stream",
          "text": [
            "Mounted at /content/drive\n"
          ],
          "name": "stdout"
        }
      ]
    },
    {
      "cell_type": "code",
      "metadata": {
        "id": "u5F4OrsnJkez",
        "outputId": "1e18eb08-430c-4e5d-df0e-2b72d3096790",
        "colab": {
          "base_uri": "https://localhost:8080/",
          "height": 34
        }
      },
      "source": [
        "os.listdir(\"/content/\")"
      ],
      "execution_count": 3,
      "outputs": [
        {
          "output_type": "execute_result",
          "data": {
            "text/plain": [
              "['.config', 'drive', 'sample_data']"
            ]
          },
          "metadata": {
            "tags": []
          },
          "execution_count": 3
        }
      ]
    },
    {
      "cell_type": "code",
      "metadata": {
        "pycharm": {
          "name": "#%%\n"
        },
        "id": "klff86ckG_vQ"
      },
      "source": [
        "# import the necessary keras packages\n",
        "from sklearn.preprocessing import LabelBinarizer\n",
        "from sklearn.model_selection import train_test_split\n",
        "from sklearn.metrics import classification_report, mean_squared_error\n",
        "\n",
        "##\n",
        "from tensorflow.keras.layers import Conv2D, Activation, Flatten, Dense\n",
        "from tensorflow.keras.preprocessing.image import ImageDataGenerator\n",
        "from tensorflow.keras.optimizers import RMSprop, SGD\n",
        "from tensorflow.keras.applications import VGG16\n",
        "from tensorflow.keras.layers import Input, Conv1D, MaxPool1D, LSTM\n",
        "from tensorflow.keras.models import Model, Sequential\n",
        "from tensorflow.keras.utils import plot_model\n",
        "from tensorflow.keras import backend as K\n",
        "from imutils import paths"
      ],
      "execution_count": 4,
      "outputs": []
    },
    {
      "cell_type": "code",
      "metadata": {
        "pycharm": {
          "name": "#%%\n"
        },
        "id": "xQQAc7tLG_vU",
        "outputId": "e4a047a1-86d6-4ed9-9c77-f59cf9784dd8",
        "colab": {
          "base_uri": "https://localhost:8080/",
          "height": 235
        }
      },
      "source": [
        "cwd = os.getcwd()\n",
        "data = pd.read_csv(f\"{cwd}/minAvgGasPrice.csv\",\n",
        "                   index_col=0,\n",
        "                   parse_dates=True)\n",
        "data.columns = ['time_stamp', 'gas_price']\n",
        "\n",
        "# create the giga wei column\n",
        "data['gas_price_giga'] = data.gas_price / (10**9)\n",
        "\n",
        "# look at the dataframe\n",
        "data.head()"
      ],
      "execution_count": 6,
      "outputs": [
        {
          "output_type": "execute_result",
          "data": {
            "text/html": [
              "<div>\n",
              "<style scoped>\n",
              "    .dataframe tbody tr th:only-of-type {\n",
              "        vertical-align: middle;\n",
              "    }\n",
              "\n",
              "    .dataframe tbody tr th {\n",
              "        vertical-align: top;\n",
              "    }\n",
              "\n",
              "    .dataframe thead th {\n",
              "        text-align: right;\n",
              "    }\n",
              "</style>\n",
              "<table border=\"1\" class=\"dataframe\">\n",
              "  <thead>\n",
              "    <tr style=\"text-align: right;\">\n",
              "      <th></th>\n",
              "      <th>time_stamp</th>\n",
              "      <th>gas_price</th>\n",
              "      <th>gas_price_giga</th>\n",
              "    </tr>\n",
              "    <tr>\n",
              "      <th>Date(UTC)</th>\n",
              "      <th></th>\n",
              "      <th></th>\n",
              "      <th></th>\n",
              "    </tr>\n",
              "  </thead>\n",
              "  <tbody>\n",
              "    <tr>\n",
              "      <th>2015-08-07</th>\n",
              "      <td>1438905600</td>\n",
              "      <td>604684154870</td>\n",
              "      <td>604.684155</td>\n",
              "    </tr>\n",
              "    <tr>\n",
              "      <th>2015-08-08</th>\n",
              "      <td>1438992000</td>\n",
              "      <td>322713574989</td>\n",
              "      <td>322.713575</td>\n",
              "    </tr>\n",
              "    <tr>\n",
              "      <th>2015-08-09</th>\n",
              "      <td>1439078400</td>\n",
              "      <td>475467129048</td>\n",
              "      <td>475.467129</td>\n",
              "    </tr>\n",
              "    <tr>\n",
              "      <th>2015-08-10</th>\n",
              "      <td>1439164800</td>\n",
              "      <td>421654904254</td>\n",
              "      <td>421.654904</td>\n",
              "    </tr>\n",
              "    <tr>\n",
              "      <th>2015-08-11</th>\n",
              "      <td>1439251200</td>\n",
              "      <td>77838819162</td>\n",
              "      <td>77.838819</td>\n",
              "    </tr>\n",
              "  </tbody>\n",
              "</table>\n",
              "</div>"
            ],
            "text/plain": [
              "            time_stamp     gas_price  gas_price_giga\n",
              "Date(UTC)                                           \n",
              "2015-08-07  1438905600  604684154870      604.684155\n",
              "2015-08-08  1438992000  322713574989      322.713575\n",
              "2015-08-09  1439078400  475467129048      475.467129\n",
              "2015-08-10  1439164800  421654904254      421.654904\n",
              "2015-08-11  1439251200   77838819162       77.838819"
            ]
          },
          "metadata": {
            "tags": []
          },
          "execution_count": 6
        }
      ]
    },
    {
      "cell_type": "code",
      "metadata": {
        "pycharm": {
          "name": "#%%\n"
        },
        "id": "encVpng-G_vY",
        "outputId": "5a05645b-05f4-423b-83ad-8a0f0b323977",
        "colab": {
          "base_uri": "https://localhost:8080/",
          "height": 302
        }
      },
      "source": [
        "# plot the time series\n",
        "sns.lineplot(x=data.index, y=data.gas_price_giga, data=data)"
      ],
      "execution_count": 7,
      "outputs": [
        {
          "output_type": "execute_result",
          "data": {
            "text/plain": [
              "<matplotlib.axes._subplots.AxesSubplot at 0x7f0c15e10048>"
            ]
          },
          "metadata": {
            "tags": []
          },
          "execution_count": 7
        },
        {
          "output_type": "display_data",
          "data": {
            "image/png": "[encoded data removed]",
            "text/plain": [
              "<Figure size 432x288 with 1 Axes>"
            ]
          },
          "metadata": {
            "tags": [],
            "needs_background": "light"
          }
        }
      ]
    },
    {
      "cell_type": "code",
      "metadata": {
        "pycharm": {
          "name": "#%%\n"
        },
        "id": "fceJN3q_G_vb"
      },
      "source": [
        "# naive model for ulti step\n",
        "\n",
        "# evaluate one or more weekly forcatss against expected values\n",
        "def evaluate_forcasts(actual:np.ndarray, predicted:np.ndarray):\n",
        "    scores = []\n",
        "\n",
        "    for i in range(actual.shape[1]):\n",
        "        # calculate the mse\n",
        "        mse = mean_squared_error(actual[:,i], predicted[:,i])\n",
        "        rmse = np.sqrt(mse)\n",
        "        scores.append(rmse)\n",
        "\n",
        "    # calculate overall score\n",
        "    s = 0\n",
        "    for row in range(actual.shape[0]):\n",
        "        for col in range(actual.shape[1]):\n",
        "            s += (actual[row, col] - predicted[row, col])**2\n",
        "    score = np.sqrt(s / (actual.shape[0] * actual.shape[1]))\n",
        "    return score, scores\n"
      ],
      "execution_count": 8,
      "outputs": []
    },
    {
      "cell_type": "code",
      "metadata": {
        "pycharm": {
          "name": "#%%\n"
        },
        "id": "EMRlHGdYG_vf"
      },
      "source": [
        "# summarise scores\n",
        "def summarise_scores(name, score, scores):\n",
        "    s_scores = ', '.join([f\"{s:0.1f}\" for s in scores])\n",
        "    print(f\"{name}: {score:0.3f}==> {s_scores}\")"
      ],
      "execution_count": 9,
      "outputs": []
    },
    {
      "cell_type": "code",
      "metadata": {
        "pycharm": {
          "name": "#%%\n"
        },
        "id": "-5ibd42BG_vi"
      },
      "source": [
        "def split_dataset(data:np.ndarray):\n",
        "    train, test = data[2:1612], data[1612:1878]\n",
        "\n",
        "    # restructure into windows of weekly data\n",
        "    train = np.array(np.split(train, len(train)/7))\n",
        "    test = np.array(np.split(test, len(test)/7))\n",
        "\n",
        "    return train, test"
      ],
      "execution_count": 10,
      "outputs": []
    },
    {
      "cell_type": "code",
      "metadata": {
        "pycharm": {
          "name": "#%%\n"
        },
        "id": "KdUtULWKG_vl",
        "outputId": "9c7eb57f-2af1-4930-cc4d-7dd6b5856126",
        "colab": {
          "base_uri": "https://localhost:8080/",
          "height": 51
        }
      },
      "source": [
        "train, test = split_dataset(data.values)\n",
        "print(train.shape)\n",
        "print(test.shape)"
      ],
      "execution_count": 11,
      "outputs": [
        {
          "output_type": "stream",
          "text": [
            "(230, 7, 3)\n",
            "(38, 7, 3)\n"
          ],
          "name": "stdout"
        }
      ]
    },
    {
      "cell_type": "code",
      "metadata": {
        "pycharm": {
          "name": "#%%\n"
        },
        "id": "4DjLclM2G_vo",
        "outputId": "d5ab5c74-0d84-4467-ae0b-d50505baf6b1",
        "colab": {
          "base_uri": "https://localhost:8080/",
          "height": 34
        }
      },
      "source": [
        "train[0, 0, 2]"
      ],
      "execution_count": 12,
      "outputs": [
        {
          "output_type": "execute_result",
          "data": {
            "text/plain": [
              "475.467129048"
            ]
          },
          "metadata": {
            "tags": []
          },
          "execution_count": 12
        }
      ]
    },
    {
      "cell_type": "code",
      "metadata": {
        "pycharm": {
          "name": "#%%\n"
        },
        "id": "BhKoR9lRG_vt"
      },
      "source": [
        "# evaluate a single model\n",
        "def evaluate_model(model_func, train:np.ndarray, test:np.ndarray):\n",
        "    # history is a list of weekly data\n",
        "    history = [x for x in train]\n",
        "\n",
        "    # walk forweward validation over each week\n",
        "    predictions = []\n",
        "\n",
        "    for i in range(len(test)):\n",
        "        # predict the week\n",
        "        yhat_seq = model_func(history)\n",
        "        predictions.append(yhat_seq)\n",
        "\n",
        "        # get real observations and add to history for predicting next week\n",
        "        history.append(test[i, :])\n",
        "    predictions = np.array(predictions)\n",
        "\n",
        "    # evaluate predictions days for each week\n",
        "    score, scores = evaluate_forcasts(test[:, :, 2], predictions)\n",
        "\n",
        "    return score, scores\n"
      ],
      "execution_count": 13,
      "outputs": []
    },
    {
      "cell_type": "code",
      "metadata": {
        "pycharm": {
          "name": "#%%\n"
        },
        "id": "6kn8H0XSG_vz"
      },
      "source": [
        "# daily naive forcast\n",
        "def daily_persistence(history):\n",
        "    # get the data for the prior week\n",
        "    last_week = history[-1]\n",
        "\n",
        "    # get the gigawei for the last day\n",
        "    value = last_week[-1, 2]\n",
        "\n",
        "    # prepare 7 day forecast\n",
        "    forecast = [value for _ in range(7)]\n",
        "    return forecast"
      ],
      "execution_count": 14,
      "outputs": []
    },
    {
      "cell_type": "code",
      "metadata": {
        "pycharm": {
          "name": "#%%\n"
        },
        "id": "fZEB_voDG_v3"
      },
      "source": [
        "# weekly persistence model\n",
        "def weekly_persistence(history):\n",
        "    # get the data for the prior week\n",
        "    last_week = history[-1]\n",
        "    return last_week[:, 2]"
      ],
      "execution_count": 15,
      "outputs": []
    },
    {
      "cell_type": "code",
      "metadata": {
        "pycharm": {
          "name": "#%%\n"
        },
        "id": "Exd_DcoXG_wB"
      },
      "source": [
        "# week one year ago persistence model\n",
        "def week_one_year_ago_persistence(history):\n",
        "# get the data for the prior week\n",
        "    last_week = history[-52]\n",
        "    return last_week[:, 2]"
      ],
      "execution_count": 16,
      "outputs": []
    },
    {
      "cell_type": "code",
      "metadata": {
        "pycharm": {
          "name": "#%%\n"
        },
        "id": "C9CTOT_WG_wH"
      },
      "source": [
        "# define the names and functions for the models we wish to evaluate\n",
        "models = dict()\n",
        "models[' daily' ] = daily_persistence\n",
        "models[' weekly' ] = weekly_persistence\n",
        "models[' week-oya' ] = week_one_year_ago_persistence"
      ],
      "execution_count": 17,
      "outputs": []
    },
    {
      "cell_type": "code",
      "metadata": {
        "pycharm": {
          "name": "#%%\n"
        },
        "id": "VnPLU1iJG_wR",
        "outputId": "c9c828aa-d77f-4a01-926a-de9ddfdb4132",
        "colab": {
          "base_uri": "https://localhost:8080/",
          "height": 320
        }
      },
      "source": [
        "# evaluate each model\n",
        "days = [' sun' , ' mon' , ' tue' , ' wed' , ' thr' , ' fri' , ' sat' ]\n",
        "for name, func in models.items():\n",
        "    # evaluate and get scores\n",
        "    score, scores = evaluate_model(func, train, test)\n",
        "    # summarize scores\n",
        "    summarise_scores(name , score, scores) # plot scores\n",
        "    plt.plot(days, scores, marker='o' , label=name)"
      ],
      "execution_count": 18,
      "outputs": [
        {
          "output_type": "stream",
          "text": [
            " daily: 80.361==> 31.2, 39.0, 64.9, 113.9, 143.2, 54.8, 44.9\n",
            " weekly: 104.012==> 25.9, 35.4, 80.2, 155.3, 193.8, 60.9, 44.9\n",
            " week-oya: 102.116==> 52.7, 70.1, 104.9, 131.6, 163.5, 80.2, 61.7\n"
          ],
          "name": "stdout"
        },
        {
          "output_type": "display_data",
          "data": {
            "image/png": "[encoded data removed]",
            "text/plain": [
              "<Figure size 432x288 with 1 Axes>"
            ]
          },
          "metadata": {
            "tags": [],
            "needs_background": "light"
          }
        }
      ]
    },
    {
      "cell_type": "code",
      "metadata": {
        "pycharm": {
          "name": "#%%\n"
        },
        "id": "DifysPbXG_wW"
      },
      "source": [
        "####################### CNN HERE"
      ],
      "execution_count": null,
      "outputs": []
    },
    {
      "cell_type": "code",
      "metadata": {
        "pycharm": {
          "name": "#%%\n"
        },
        "id": "BBLSZ686G_wa"
      },
      "source": [
        "# CNN\n",
        "\n",
        "# convert history into inputs and outputs\n",
        "def to_supervised(train:np.ndarray, n_input:int, n_out=7):\n",
        "    # flatten the data\n",
        "    data = train.reshape((train.shape[0] * train.shape[1], train.shape[2]))\n",
        "    X, Y = [], []\n",
        "\n",
        "    in_start = 0\n",
        "\n",
        "    # step ver history one time step at a time\n",
        "    for _ in range(len(data)):\n",
        "        # define the end of the input sequence\n",
        "        in_end = in_start + n_input\n",
        "        out_end = in_end + n_out\n",
        "\n",
        "        if out_end <= len(data):\n",
        "            x_input = data[in_start:in_end, 2]\n",
        "            x_input = x_input.reshape((len(x_input), 1))\n",
        "            X.append(x_input)\n",
        "            Y.append(data[in_end:out_end, 2])\n",
        "        # move along one time step\n",
        "        in_start += 1\n",
        "    return np.array(X), np.array(Y)"
      ],
      "execution_count": 43,
      "outputs": []
    },
    {
      "cell_type": "code",
      "metadata": {
        "pycharm": {
          "name": "#%%\n"
        },
        "id": "HZntEym3G_wf"
      },
      "source": [
        "# train the model\n",
        "def build_model(train, n_input):\n",
        "    # prepare the data\n",
        "    trainx, trainy = to_supervised(train, n_input)\n",
        "\n",
        "    # define params\n",
        "    verbose, epochs, bs = 1, 100, 16\n",
        "    n_timesteps, n_features, n_outputs = trainx.shape[1], \\\n",
        "                                         trainx.shape[2], \\\n",
        "                                         trainy.shape[1]\n",
        "\n",
        "    # define the model\n",
        "    model = Sequential()\n",
        "\n",
        "    # model.add(Conv1D(16, 3, activation=\"relu\", input_shape=(n_timesteps, n_features)))\n",
        "    # model.add(MaxPool1D())\n",
        "    # model.add(Flatten())\n",
        "    # model.add(Dense(10, activation='relu'))\n",
        "\n",
        "    model.add(LSTM(64, activation='relu' , input_shape=(n_timesteps, n_features), return_sequences=True))\n",
        "    model.add(LSTM(32, activation='relu', return_sequences=True))\n",
        "    model.add(LSTM(16, activation='relu'))\n",
        "    model.add(Dense(10, activation='relu' ))\n",
        "\n",
        "\n",
        "\n",
        "    model.add(Dense(n_outputs))\n",
        "    model.compile(loss=\"mse\", optimizer=\"adam\")\n",
        "\n",
        "    # fit\n",
        "    model.fit(trainx, trainy, epochs=epochs, batch_size=bs, verbose=verbose)\n",
        "    return model"
      ],
      "execution_count": 44,
      "outputs": []
    },
    {
      "cell_type": "code",
      "metadata": {
        "pycharm": {
          "name": "#%%\n"
        },
        "id": "loznC0OeG_wl"
      },
      "source": [
        "def forecast(model, history, n_input):\n",
        "\n",
        "    data = np.array(history)\n",
        "    #print(\"this is data shape\")\n",
        "    #print(data.shape)\n",
        "    data = data.reshape((data.shape[0]*data.shape[1], data.shape[2]))\n",
        "\n",
        "    # retrieve last obs\n",
        "    input_x = data[-n_input:, 2]\n",
        "\n",
        "    # reshape\n",
        "    input_x = input_x.reshape((1, len(input_x), 1))\n",
        "\n",
        "    yhat = model.predict(input_x, verbose=0)\n",
        "\n",
        "    yhat = yhat[0]\n",
        "    return yhat"
      ],
      "execution_count": 45,
      "outputs": []
    },
    {
      "cell_type": "code",
      "metadata": {
        "pycharm": {
          "name": "#%%\n"
        },
        "id": "Y4q-YNduG_wt"
      },
      "source": [
        "def evaluate_model(train:np.ndarray, test:np.ndarray, n_input):\n",
        "    # fit the model\n",
        "    model = build_model(train, n_input)\n",
        "\n",
        "    # history is  alist of weekly data\n",
        "    history = [x for x in train]\n",
        "\n",
        "    # walk forward validation over each week\n",
        "    predictions = []\n",
        "\n",
        "    for i in range(len(test)):\n",
        "        # preedict the week\n",
        "        yhat_sequence = forecast(model, history, n_input)\n",
        "\n",
        "        # store the predictions\n",
        "        predictions.append(yhat_sequence)\n",
        "\n",
        "        # get real observations and add to history\n",
        "        history.append(test[i, :])\n",
        "\n",
        "    # evaluate prediction days for each week\n",
        "    predictions = np.array(predictions)\n",
        "    score, scores = evaluate_forcasts(test[:,:,2], predictions)\n",
        "\n",
        "    return score, scores, predictions"
      ],
      "execution_count": 46,
      "outputs": []
    },
    {
      "cell_type": "code",
      "metadata": {
        "pycharm": {
          "name": "#%%\n",
          "is_executing": true
        },
        "id": "CEDPksEAG_w1",
        "outputId": "9b61d568-f9a5-46dc-c040-bd8adf119e1e",
        "colab": {
          "base_uri": "https://localhost:8080/",
          "height": 1000
        }
      },
      "source": [
        "train, test = split_dataset(data.values)\n",
        "n_input = 14\n",
        "\n",
        "score, scores, preds = evaluate_model(train, test, n_input)\n",
        "summarise_scores('cnn', score, scores)\n",
        "\n",
        "# plot scores\n",
        "days = [' sun' , ' mon' , ' tue' , ' wed' , ' thr' , ' fri' , ' sat' ]\n",
        "plt.plot(days, scores, marker='o' , label=' cnn' )\n",
        "plt.show()"
      ],
      "execution_count": 48,
      "outputs": [
        {
          "output_type": "stream",
          "text": [
            "WARNING:tensorflow:Layer lstm_16 will not use cuDNN kernel since it doesn't meet the cuDNN kernel criteria. It will use generic GPU kernel as fallback when running on GPU\n",
            "WARNING:tensorflow:Layer lstm_17 will not use cuDNN kernel since it doesn't meet the cuDNN kernel criteria. It will use generic GPU kernel as fallback when running on GPU\n",
            "WARNING:tensorflow:Layer lstm_18 will not use cuDNN kernel since it doesn't meet the cuDNN kernel criteria. It will use generic GPU kernel as fallback when running on GPU\n",
            "Epoch 1/100\n",
            "100/100 [==============================] - 7s 70ms/step - loss: 1470.2876\n",
            "Epoch 2/100\n",
            "100/100 [==============================] - 7s 68ms/step - loss: 886.5928\n",
            "Epoch 3/100\n",
            "100/100 [==============================] - 7s 69ms/step - loss: 753.1995\n",
            "Epoch 4/100\n",
            "100/100 [==============================] - 7s 68ms/step - loss: 723.7731\n",
            "Epoch 5/100\n",
            "100/100 [==============================] - 7s 68ms/step - loss: 714.6627\n",
            "Epoch 6/100\n",
            "100/100 [==============================] - 7s 67ms/step - loss: 722.8998\n",
            "Epoch 7/100\n",
            "100/100 [==============================] - 7s 68ms/step - loss: 704.8376\n",
            "Epoch 8/100\n",
            "100/100 [==============================] - 7s 67ms/step - loss: 706.3425\n",
            "Epoch 9/100\n",
            "100/100 [==============================] - 7s 67ms/step - loss: 707.5159\n",
            "Epoch 10/100\n",
            "100/100 [==============================] - 7s 68ms/step - loss: 702.6122\n",
            "Epoch 11/100\n",
            "100/100 [==============================] - 7s 66ms/step - loss: 701.3942\n",
            "Epoch 12/100\n",
            "100/100 [==============================] - 7s 67ms/step - loss: 702.6171\n",
            "Epoch 13/100\n",
            "100/100 [==============================] - 7s 67ms/step - loss: 705.2208\n",
            "Epoch 14/100\n",
            "100/100 [==============================] - 7s 69ms/step - loss: 699.8635\n",
            "Epoch 15/100\n",
            "100/100 [==============================] - 7s 70ms/step - loss: 697.3052\n",
            "Epoch 16/100\n",
            "100/100 [==============================] - 7s 70ms/step - loss: 701.7724\n",
            "Epoch 17/100\n",
            "100/100 [==============================] - 7s 71ms/step - loss: 699.8930\n",
            "Epoch 18/100\n",
            "100/100 [==============================] - 7s 70ms/step - loss: 703.1168\n",
            "Epoch 19/100\n",
            "100/100 [==============================] - 7s 72ms/step - loss: 701.6050\n",
            "Epoch 20/100\n",
            "100/100 [==============================] - 7s 71ms/step - loss: 701.9653\n",
            "Epoch 21/100\n",
            "100/100 [==============================] - 7s 71ms/step - loss: 697.7615\n",
            "Epoch 22/100\n",
            "100/100 [==============================] - 7s 70ms/step - loss: 699.2535\n",
            "Epoch 23/100\n",
            "100/100 [==============================] - 7s 72ms/step - loss: 699.7504\n",
            "Epoch 24/100\n",
            "100/100 [==============================] - 7s 70ms/step - loss: 701.3119\n",
            "Epoch 25/100\n",
            "100/100 [==============================] - 7s 70ms/step - loss: 696.8295\n",
            "Epoch 26/100\n",
            "100/100 [==============================] - 7s 70ms/step - loss: 698.3101\n",
            "Epoch 27/100\n",
            "100/100 [==============================] - 7s 72ms/step - loss: 697.9088\n",
            "Epoch 28/100\n",
            "100/100 [==============================] - 7s 71ms/step - loss: 695.3213\n",
            "Epoch 29/100\n",
            "100/100 [==============================] - 7s 71ms/step - loss: 697.1200\n",
            "Epoch 30/100\n",
            "100/100 [==============================] - 7s 71ms/step - loss: 696.9001\n",
            "Epoch 31/100\n",
            "100/100 [==============================] - 7s 70ms/step - loss: 696.2805\n",
            "Epoch 32/100\n",
            "100/100 [==============================] - 7s 70ms/step - loss: 696.5775\n",
            "Epoch 33/100\n",
            "100/100 [==============================] - 7s 70ms/step - loss: 696.4888\n",
            "Epoch 34/100\n",
            "100/100 [==============================] - 7s 69ms/step - loss: 695.6924\n",
            "Epoch 35/100\n",
            "100/100 [==============================] - 7s 70ms/step - loss: 697.0358\n",
            "Epoch 36/100\n",
            "100/100 [==============================] - 7s 69ms/step - loss: 696.2866\n",
            "Epoch 37/100\n",
            "100/100 [==============================] - 7s 70ms/step - loss: 695.3198\n",
            "Epoch 38/100\n",
            "100/100 [==============================] - 7s 70ms/step - loss: 696.4448\n",
            "Epoch 39/100\n",
            "100/100 [==============================] - 7s 70ms/step - loss: 696.9714\n",
            "Epoch 40/100\n",
            "100/100 [==============================] - 7s 70ms/step - loss: 694.9418\n",
            "Epoch 41/100\n",
            "100/100 [==============================] - 7s 69ms/step - loss: 695.5269\n",
            "Epoch 42/100\n",
            "100/100 [==============================] - 7s 68ms/step - loss: 695.8187\n",
            "Epoch 43/100\n",
            "100/100 [==============================] - 7s 69ms/step - loss: 695.0387\n",
            "Epoch 44/100\n",
            "100/100 [==============================] - 7s 69ms/step - loss: 697.5540\n",
            "Epoch 45/100\n",
            "100/100 [==============================] - 7s 68ms/step - loss: 696.4405\n",
            "Epoch 46/100\n",
            "100/100 [==============================] - 7s 69ms/step - loss: 696.9640\n",
            "Epoch 47/100\n",
            "100/100 [==============================] - 7s 69ms/step - loss: 696.6959\n",
            "Epoch 48/100\n",
            "100/100 [==============================] - 7s 70ms/step - loss: 698.6384\n",
            "Epoch 49/100\n",
            "100/100 [==============================] - 7s 69ms/step - loss: 703.0966\n",
            "Epoch 50/100\n",
            "100/100 [==============================] - 7s 68ms/step - loss: 695.6196\n",
            "Epoch 51/100\n",
            "100/100 [==============================] - 7s 68ms/step - loss: 695.0167\n",
            "Epoch 52/100\n",
            "100/100 [==============================] - 7s 68ms/step - loss: 693.4528\n",
            "Epoch 53/100\n",
            "100/100 [==============================] - 7s 69ms/step - loss: 693.8344\n",
            "Epoch 54/100\n",
            "100/100 [==============================] - 7s 66ms/step - loss: 693.7253\n",
            "Epoch 55/100\n",
            "100/100 [==============================] - 7s 70ms/step - loss: 694.3052\n",
            "Epoch 56/100\n",
            "100/100 [==============================] - 7s 69ms/step - loss: 693.4080\n",
            "Epoch 57/100\n",
            "100/100 [==============================] - 7s 70ms/step - loss: 693.5734\n",
            "Epoch 58/100\n",
            "100/100 [==============================] - 7s 69ms/step - loss: 692.1562\n",
            "Epoch 59/100\n",
            "100/100 [==============================] - 7s 68ms/step - loss: 691.3916\n",
            "Epoch 60/100\n",
            "100/100 [==============================] - 7s 67ms/step - loss: 690.6862\n",
            "Epoch 61/100\n",
            "100/100 [==============================] - 7s 69ms/step - loss: 691.9567\n",
            "Epoch 62/100\n",
            "100/100 [==============================] - 7s 68ms/step - loss: 696.4882\n",
            "Epoch 63/100\n",
            "100/100 [==============================] - 7s 69ms/step - loss: 692.6150\n",
            "Epoch 64/100\n",
            "100/100 [==============================] - 7s 69ms/step - loss: 691.6465\n",
            "Epoch 65/100\n",
            "100/100 [==============================] - 7s 69ms/step - loss: 691.4192\n",
            "Epoch 66/100\n",
            "100/100 [==============================] - 7s 68ms/step - loss: 692.4983\n",
            "Epoch 67/100\n",
            "100/100 [==============================] - 7s 68ms/step - loss: 690.8446\n",
            "Epoch 68/100\n",
            "100/100 [==============================] - 7s 67ms/step - loss: 689.4115\n",
            "Epoch 69/100\n",
            "100/100 [==============================] - 7s 69ms/step - loss: 689.6130\n",
            "Epoch 70/100\n",
            "100/100 [==============================] - 7s 69ms/step - loss: 689.2962\n",
            "Epoch 71/100\n",
            "100/100 [==============================] - 7s 67ms/step - loss: 688.9034\n",
            "Epoch 72/100\n",
            "100/100 [==============================] - 7s 67ms/step - loss: 701.9077\n",
            "Epoch 73/100\n",
            "100/100 [==============================] - 7s 69ms/step - loss: 700.4557\n",
            "Epoch 74/100\n",
            "100/100 [==============================] - 7s 68ms/step - loss: 695.0619\n",
            "Epoch 75/100\n",
            "100/100 [==============================] - 7s 69ms/step - loss: 692.5035\n",
            "Epoch 76/100\n",
            "100/100 [==============================] - 7s 68ms/step - loss: 693.8533\n",
            "Epoch 77/100\n",
            "100/100 [==============================] - 7s 68ms/step - loss: 695.1050\n",
            "Epoch 78/100\n",
            "100/100 [==============================] - 7s 69ms/step - loss: 694.6408\n",
            "Epoch 79/100\n",
            "100/100 [==============================] - 7s 69ms/step - loss: 691.1075\n",
            "Epoch 80/100\n",
            "100/100 [==============================] - 7s 68ms/step - loss: 690.7310\n",
            "Epoch 81/100\n",
            "100/100 [==============================] - 7s 69ms/step - loss: 693.8658\n",
            "Epoch 82/100\n",
            "100/100 [==============================] - 7s 70ms/step - loss: 688.9770\n",
            "Epoch 83/100\n",
            "100/100 [==============================] - 7s 68ms/step - loss: 696.6189\n",
            "Epoch 84/100\n",
            "100/100 [==============================] - 7s 68ms/step - loss: 692.9641\n",
            "Epoch 85/100\n",
            "100/100 [==============================] - 7s 68ms/step - loss: 693.4225\n",
            "Epoch 86/100\n",
            "100/100 [==============================] - 7s 68ms/step - loss: 689.9013\n",
            "Epoch 87/100\n",
            "100/100 [==============================] - 7s 69ms/step - loss: 692.1170\n",
            "Epoch 88/100\n",
            "100/100 [==============================] - 7s 67ms/step - loss: 689.8396\n",
            "Epoch 89/100\n",
            "100/100 [==============================] - 7s 69ms/step - loss: 692.2249\n",
            "Epoch 90/100\n",
            "100/100 [==============================] - 7s 68ms/step - loss: 688.7025\n",
            "Epoch 91/100\n",
            "100/100 [==============================] - 7s 69ms/step - loss: 687.1028\n",
            "Epoch 92/100\n",
            "100/100 [==============================] - 7s 67ms/step - loss: 691.0963\n",
            "Epoch 93/100\n",
            "100/100 [==============================] - 7s 70ms/step - loss: 687.8801\n",
            "Epoch 94/100\n",
            "100/100 [==============================] - 7s 69ms/step - loss: 686.6665\n",
            "Epoch 95/100\n",
            "100/100 [==============================] - 7s 67ms/step - loss: 688.0212\n",
            "Epoch 96/100\n",
            "100/100 [==============================] - 7s 69ms/step - loss: 686.2259\n",
            "Epoch 97/100\n",
            "100/100 [==============================] - 7s 68ms/step - loss: 687.4850\n",
            "Epoch 98/100\n",
            "100/100 [==============================] - 7s 68ms/step - loss: 687.0705\n",
            "Epoch 99/100\n",
            "100/100 [==============================] - 7s 68ms/step - loss: 686.2109\n",
            "Epoch 100/100\n",
            "100/100 [==============================] - 7s 68ms/step - loss: 686.3160\n",
            "cnn: 79.707==> 21.9, 33.3, 61.4, 113.6, 147.0, 55.7, 38.4\n"
          ],
          "name": "stdout"
        },
        {
          "output_type": "display_data",
          "data": {
            "image/png": "[encoded data removed]",
            "text/plain": [
              "<Figure size 432x288 with 1 Axes>"
            ]
          },
          "metadata": {
            "tags": [],
            "needs_background": "light"
          }
        }
      ]
    },
    {
      "cell_type": "code",
      "metadata": {
        "pycharm": {
          "name": "#%%\n"
        },
        "id": "IAclzhjwG_w_",
        "outputId": "9b92ec17-9190-4076-bb96-49bf45205d17",
        "colab": {
          "base_uri": "https://localhost:8080/",
          "height": 34
        }
      },
      "source": [
        "preds.shape"
      ],
      "execution_count": 50,
      "outputs": [
        {
          "output_type": "execute_result",
          "data": {
            "text/plain": [
              "(38, 7)"
            ]
          },
          "metadata": {
            "tags": []
          },
          "execution_count": 50
        }
      ]
    },
    {
      "cell_type": "code",
      "metadata": {
        "id": "TJp11S8FuLIz",
        "outputId": "4a036c75-fed8-4c63-a3dd-69f3bf2f75fc",
        "colab": {
          "base_uri": "https://localhost:8080/",
          "height": 34
        }
      },
      "source": [
        "tests = test[:,:,2]\n",
        "tests.shape"
      ],
      "execution_count": 51,
      "outputs": [
        {
          "output_type": "execute_result",
          "data": {
            "text/plain": [
              "(38, 7)"
            ]
          },
          "metadata": {
            "tags": []
          },
          "execution_count": 51
        }
      ]
    },
    {
      "cell_type": "code",
      "metadata": {
        "id": "eRQqI-8XuavA",
        "outputId": "1dda9e67-2869-4281-89f9-20e32904033e",
        "colab": {
          "base_uri": "https://localhost:8080/",
          "height": 34
        }
      },
      "source": [
        "preds = preds.ravel()\n",
        "preds.shape"
      ],
      "execution_count": 52,
      "outputs": [
        {
          "output_type": "execute_result",
          "data": {
            "text/plain": [
              "(266,)"
            ]
          },
          "metadata": {
            "tags": []
          },
          "execution_count": 52
        }
      ]
    },
    {
      "cell_type": "code",
      "metadata": {
        "id": "LzG8YSsHurJP",
        "outputId": "8dd3f7cb-ce97-4c68-f4e3-34ed9bd45b60",
        "colab": {
          "base_uri": "https://localhost:8080/",
          "height": 34
        }
      },
      "source": [
        "tests = tests.ravel()\n",
        "tests.shape"
      ],
      "execution_count": 53,
      "outputs": [
        {
          "output_type": "execute_result",
          "data": {
            "text/plain": [
              "(266,)"
            ]
          },
          "metadata": {
            "tags": []
          },
          "execution_count": 53
        }
      ]
    },
    {
      "cell_type": "code",
      "metadata": {
        "id": "ebksnaS3uxr1"
      },
      "source": [
        "df = pd.DataFrame(data={'test_data': list(tests), 'predictions': list(preds)})"
      ],
      "execution_count": 54,
      "outputs": []
    },
    {
      "cell_type": "code",
      "metadata": {
        "id": "4mbqqW-HvCiC",
        "outputId": "1659b23f-3eac-4689-d22d-03c881d5ee0c",
        "colab": {
          "base_uri": "https://localhost:8080/",
          "height": 502
        }
      },
      "source": [
        "f, ax = plt.subplots(1,1, figsize=(16,8)) #type: Figure, axes.Axes\n",
        "ax.set_xlabel(\"Days\")\n",
        "ax.set_ylabel(\"GasPrice\")\n",
        "\n",
        "sns.lineplot(data=df, label='predictions', y = 'predictions',x=list(range(len(df['predictions']))))\n",
        "sns.lineplot(data=df, label='test data', y = 'test_data',x=list(range(len(df['test_data']))))\n",
        "\n",
        "plt.show()"
      ],
      "execution_count": 59,
      "outputs": [
        {
          "output_type": "display_data",
          "data": {
            "image/png": "[encoded data removed]",
            "text/plain": [
              "<Figure size 1152x576 with 1 Axes>"
            ]
          },
          "metadata": {
            "tags": [],
            "needs_background": "light"
          }
        }
      ]
    },
    {
      "cell_type": "code",
      "metadata": {
        "id": "DLnDX0KIvUYv"
      },
      "source": [
        ""
      ],
      "execution_count": null,
      "outputs": []
    }
  ]
}