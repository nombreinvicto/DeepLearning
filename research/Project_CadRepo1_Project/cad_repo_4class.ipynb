{
 "cells": [
  {
   "cell_type": "code",
   "execution_count": 14,
   "metadata": {
    "pycharm": {
     "name": "#%%\n"
    }
   },
   "outputs": [],
   "source": [
    "import h5py\n",
    "import numpy as np\n",
    "import pandas as pd\n",
    "import seaborn as sns\n",
    "import matplotlib.pyplot as plt\n",
    "from matplotlib.figure import Figure\n",
    "import matplotlib.axes._axes as axes\n",
    "sns.set()"
   ]
  },
  {
   "cell_type": "code",
   "execution_count": 15,
   "metadata": {
    "pycharm": {
     "name": "#%%\n"
    }
   },
   "outputs": [],
   "source": [
    "# import the necessary packages\n",
    "from sklearn.preprocessing import LabelBinarizer\n",
    "from sklearn.model_selection import train_test_split\n",
    "from sklearn.metrics import classification_report\n",
    "from loader_util.preprocessing import ImageToArrayPreprocessor, \\\n",
    "    AspectAwarePreprocessor, MeanSubtractionPreProcessor, SimplePreProcessor\n",
    "from loader_util.datasets import SimpleDatasetLoader\n",
    "from loader_util.io import HDF5DatasetGenerator\n",
    "from loader_util.nn.conv import FCHeadNet\n",
    "from loader_util.callbacks import TrainingMonitor\n",
    "##\n",
    "from tensorflow.keras.layers import Conv2D, Activation, Flatten, Dense\n",
    "from tensorflow.keras.preprocessing.image import ImageDataGenerator\n",
    "from tensorflow.keras.optimizers import RMSprop, SGD, Adam\n",
    "from tensorflow.keras.applications import VGG16, ResNet50\n",
    "from tensorflow.keras.layers import Input\n",
    "from tensorflow.keras.models import Model\n",
    "from tensorflow.keras import backend as K\n",
    "from tensorflow.keras.callbacks import LearningRateScheduler\n",
    "from imutils import paths\n",
    "import os"
   ]
  },
  {
   "cell_type": "code",
   "execution_count": 16,
   "metadata": {
    "pycharm": {
     "name": "#%%\n"
    }
   },
   "outputs": [],
   "source": [
    "# construct the train image generator\n",
    "\n",
    "aug = ImageDataGenerator(rotation_range=20,\n",
    "                         zoom_range=0.15,\n",
    "                         width_shift_range=0.2,\n",
    "                         height_shift_range=0.2,\n",
    "                         shear_range=0.15,\n",
    "                         horizontal_flip=True,\n",
    "                         fill_mode='nearest')"
   ]
  },
  {
   "cell_type": "code",
   "execution_count": 17,
   "metadata": {
    "pycharm": {
     "name": "#%%\n"
    }
   },
   "outputs": [],
   "source": [
    "batch_size = 64\n",
    "epoch_num = 100\n",
    "\n",
    "# initialise the image preprocessors\n",
    "sp = SimplePreProcessor(width=224, height=224)\n",
    "iap = ImageToArrayPreprocessor()"
   ]
  },
  {
   "cell_type": "code",
   "execution_count": 18,
   "metadata": {},
   "outputs": [
    {
     "name": "stdout",
     "output_type": "stream",
     "text": [
      "Total no. of classes in dataset: 4\n"
     ]
    }
   ],
   "source": [
    "# initialise the data paths\n",
    "\n",
    "dbBase = r\"/home/mhasan3/Desktop/WorkFolder/mokn_4class_data\"\n",
    "dbTrainPath = f\"{dbBase}//train_cad1.hdf5\"\n",
    "dbValidPath = f\"{dbBase}//validate_cad1.hdf5\"\n",
    "\n",
    "# get the no. of classes\n",
    "trainFile = h5py.File(name=dbTrainPath, mode=\"r\")\n",
    "class_num = len(list(np.unique(trainFile[\"labels\"])))\n",
    "print(f\"Total no. of classes in dataset: {class_num}\")"
   ]
  },
  {
   "cell_type": "code",
   "execution_count": 19,
   "metadata": {
    "pycharm": {
     "name": "#%%\n"
    }
   },
   "outputs": [],
   "source": [
    "# initialise the train and valid generators\n",
    "trainGen = HDF5DatasetGenerator(dbPath=dbTrainPath,\n",
    "                                batchSize=batch_size,\n",
    "                                preprocessors=[sp, iap],\n",
    "                                classes=class_num,\n",
    "                                aug=aug)\n",
    "\n",
    "valGen = HDF5DatasetGenerator(dbPath=dbValidPath,\n",
    "                              batchSize=batch_size,\n",
    "                              preprocessors=[sp, iap],\n",
    "                              classes=class_num)"
   ]
  },
  {
   "cell_type": "code",
   "execution_count": 20,
   "metadata": {},
   "outputs": [],
   "source": [
    "# define the Learning Rate Scheduler\n",
    "\n",
    "initial_rate = 5e-3\n",
    "\n",
    "def poly_decay(epoch):\n",
    "    max_epochs = epoch_num\n",
    "    baseLR = initial_rate\n",
    "    power = 1.0\n",
    "    \n",
    "    alpha = baseLR * (1 - (epoch / float(max_epochs))) ** power\n",
    "    return alpha"
   ]
  },
  {
   "cell_type": "code",
   "execution_count": 21,
   "metadata": {
    "pycharm": {
     "name": "#%%\n"
    }
   },
   "outputs": [
    {
     "name": "stdout",
     "output_type": "stream",
     "text": [
      "BaseModel Out Shape:  (?, 7, 7, 512)\n"
     ]
    }
   ],
   "source": [
    "# load the VGG16 network ensuring the head FC layer sets are left off\n",
    "baseModel = VGG16(weights='imagenet', include_top=False,\n",
    "                  input_tensor=Input(shape=(224, 224, 3))) # type: Model\n",
    "\n",
    "# initialise the new head of the network, a set of FC layers followed by\n",
    "# softmax\n",
    "headModel = FCHeadNet.builld(baseModel, classes=class_num, D=[1024, 512, 256]) # type: Model\n",
    "\n",
    "# place the head FC model on top of the base model - this will be the actual\n",
    "# model to train\n",
    "model = Model(inputs=baseModel.input, outputs=headModel)"
   ]
  },
  {
   "cell_type": "code",
   "execution_count": 22,
   "metadata": {},
   "outputs": [
    {
     "name": "stdout",
     "output_type": "stream",
     "text": [
      "_________________________________________________________________\n",
      "Layer (type)                 Output Shape              Param #   \n",
      "=================================================================\n",
      "input_2 (InputLayer)         (None, 224, 224, 3)       0         \n",
      "_________________________________________________________________\n",
      "block1_conv1 (Conv2D)        (None, 224, 224, 64)      1792      \n",
      "_________________________________________________________________\n",
      "block1_conv2 (Conv2D)        (None, 224, 224, 64)      36928     \n",
      "_________________________________________________________________\n",
      "block1_pool (MaxPooling2D)   (None, 112, 112, 64)      0         \n",
      "_________________________________________________________________\n",
      "block2_conv1 (Conv2D)        (None, 112, 112, 128)     73856     \n",
      "_________________________________________________________________\n",
      "block2_conv2 (Conv2D)        (None, 112, 112, 128)     147584    \n",
      "_________________________________________________________________\n",
      "block2_pool (MaxPooling2D)   (None, 56, 56, 128)       0         \n",
      "_________________________________________________________________\n",
      "block3_conv1 (Conv2D)        (None, 56, 56, 256)       295168    \n",
      "_________________________________________________________________\n",
      "block3_conv2 (Conv2D)        (None, 56, 56, 256)       590080    \n",
      "_________________________________________________________________\n",
      "block3_conv3 (Conv2D)        (None, 56, 56, 256)       590080    \n",
      "_________________________________________________________________\n",
      "block3_pool (MaxPooling2D)   (None, 28, 28, 256)       0         \n",
      "_________________________________________________________________\n",
      "block4_conv1 (Conv2D)        (None, 28, 28, 512)       1180160   \n",
      "_________________________________________________________________\n",
      "block4_conv2 (Conv2D)        (None, 28, 28, 512)       2359808   \n",
      "_________________________________________________________________\n",
      "block4_conv3 (Conv2D)        (None, 28, 28, 512)       2359808   \n",
      "_________________________________________________________________\n",
      "block4_pool (MaxPooling2D)   (None, 14, 14, 512)       0         \n",
      "_________________________________________________________________\n",
      "block5_conv1 (Conv2D)        (None, 14, 14, 512)       2359808   \n",
      "_________________________________________________________________\n",
      "block5_conv2 (Conv2D)        (None, 14, 14, 512)       2359808   \n",
      "_________________________________________________________________\n",
      "block5_conv3 (Conv2D)        (None, 14, 14, 512)       2359808   \n",
      "_________________________________________________________________\n",
      "block5_pool (MaxPooling2D)   (None, 7, 7, 512)         0         \n",
      "_________________________________________________________________\n",
      "flatten (Flatten)            (None, 25088)             0         \n",
      "_________________________________________________________________\n",
      "dense_2 (Dense)              (None, 256)               6422784   \n",
      "_________________________________________________________________\n",
      "dropout_1 (Dropout)          (None, 256)               0         \n",
      "_________________________________________________________________\n",
      "dense_3 (Dense)              (None, 4)                 1028      \n",
      "=================================================================\n",
      "Total params: 21,138,500\n",
      "Trainable params: 21,138,500\n",
      "Non-trainable params: 0\n",
      "_________________________________________________________________\n"
     ]
    }
   ],
   "source": [
    "model.summary()"
   ]
  },
  {
   "cell_type": "code",
   "execution_count": 23,
   "metadata": {
    "pycharm": {
     "name": "#%%\n"
    }
   },
   "outputs": [],
   "source": [
    "# loop over all the layers in the base model and freeze them\n",
    "for layer in baseModel.layers:\n",
    "    layer.trainable = False"
   ]
  },
  {
   "cell_type": "code",
   "execution_count": 24,
   "metadata": {
    "pycharm": {
     "name": "#%%\n"
    }
   },
   "outputs": [],
   "source": [
    "# compile and optimise model\n",
    "opt = SGD(lr=initial_rate)\n",
    "model.compile(loss='categorical_crossentropy',\n",
    "              optimizer=opt,\n",
    "              metrics=['accuracy'])\n",
    "\n",
    "# construct callbacks\n",
    "path = os.path.sep.join([dbBase, f'{os.getpid()}.png'])\n",
    "callbacks = [TrainingMonitor(path), LearningRateScheduler(poly_decay)]"
   ]
  },
  {
   "cell_type": "code",
   "execution_count": 25,
   "metadata": {
    "pycharm": {
     "name": "#%%\n"
    },
    "scrolled": true
   },
   "outputs": [
    {
     "name": "stdout",
     "output_type": "stream",
     "text": [
      "Epoch 1/100\n",
      "50/50 [==============================] - 28s 559ms/step - loss: 0.1382 - acc: 0.9794\n",
      "117/117 [==============================] - 106s 906ms/step - loss: 0.5871 - acc: 0.8034 - val_loss: 0.1382 - val_acc: 0.9794\n",
      "Epoch 2/100\n",
      "50/50 [==============================] - 30s 597ms/step - loss: 0.0608 - acc: 0.9877\n",
      "117/117 [==============================] - 99s 843ms/step - loss: 0.1894 - acc: 0.9474 - val_loss: 0.0608 - val_acc: 0.9877\n",
      "Epoch 3/100\n",
      "50/50 [==============================] - 27s 534ms/step - loss: 0.0378 - acc: 0.9931\n",
      "117/117 [==============================] - 92s 787ms/step - loss: 0.1189 - acc: 0.9700 - val_loss: 0.0378 - val_acc: 0.9931\n",
      "Epoch 4/100\n",
      "50/50 [==============================] - 29s 576ms/step - loss: 0.0289 - acc: 0.9943\n",
      "117/117 [==============================] - 95s 812ms/step - loss: 0.0877 - acc: 0.9789 - val_loss: 0.0289 - val_acc: 0.9943\n",
      "Epoch 5/100\n",
      "50/50 [==============================] - 29s 582ms/step - loss: 0.0201 - acc: 0.9997\n",
      "117/117 [==============================] - 97s 829ms/step - loss: 0.0746 - acc: 0.9809 - val_loss: 0.0201 - val_acc: 0.9997\n",
      "Epoch 6/100\n",
      "50/50 [==============================] - 27s 531ms/step - loss: 0.0210 - acc: 0.9994\n",
      "117/117 [==============================] - 91s 777ms/step - loss: 0.0586 - acc: 0.9878 - val_loss: 0.0210 - val_acc: 0.9994\n",
      "Epoch 7/100\n",
      "50/50 [==============================] - 29s 573ms/step - loss: 0.0139 - acc: 0.9994\n",
      "117/117 [==============================] - 97s 833ms/step - loss: 0.0511 - acc: 0.9886 - val_loss: 0.0139 - val_acc: 0.9994\n",
      "Epoch 8/100\n",
      "50/50 [==============================] - 29s 571ms/step - loss: 0.0121 - acc: 0.9994\n",
      "117/117 [==============================] - 96s 822ms/step - loss: 0.0474 - acc: 0.9889 - val_loss: 0.0121 - val_acc: 0.9994\n",
      "Epoch 9/100\n",
      "50/50 [==============================] - 29s 578ms/step - loss: 0.0150 - acc: 0.9991\n",
      "117/117 [==============================] - 96s 823ms/step - loss: 0.0398 - acc: 0.9920 - val_loss: 0.0150 - val_acc: 0.9991\n",
      "Epoch 10/100\n",
      "50/50 [==============================] - 29s 574ms/step - loss: 0.0091 - acc: 0.9994\n",
      "117/117 [==============================] - 99s 845ms/step - loss: 0.0352 - acc: 0.9938 - val_loss: 0.0091 - val_acc: 0.9994\n",
      "Epoch 11/100\n",
      "50/50 [==============================] - 28s 561ms/step - loss: 0.0086 - acc: 0.9994\n",
      "117/117 [==============================] - 96s 817ms/step - loss: 0.0318 - acc: 0.9925 - val_loss: 0.0086 - val_acc: 0.9994\n",
      "Epoch 12/100\n",
      "50/50 [==============================] - 29s 583ms/step - loss: 0.0070 - acc: 0.9994\n",
      "117/117 [==============================] - 98s 842ms/step - loss: 0.0302 - acc: 0.9945 - val_loss: 0.0070 - val_acc: 0.9994\n",
      "Epoch 13/100\n",
      "50/50 [==============================] - 28s 561ms/step - loss: 0.0070 - acc: 0.9994\n",
      "117/117 [==============================] - 96s 820ms/step - loss: 0.0266 - acc: 0.9953 - val_loss: 0.0070 - val_acc: 0.9994\n",
      "Epoch 14/100\n",
      "50/50 [==============================] - 29s 579ms/step - loss: 0.0058 - acc: 0.9994\n",
      "117/117 [==============================] - 98s 837ms/step - loss: 0.0281 - acc: 0.9945 - val_loss: 0.0058 - val_acc: 0.9994\n",
      "Epoch 15/100\n",
      "50/50 [==============================] - 29s 577ms/step - loss: 0.0060 - acc: 0.9997\n",
      "117/117 [==============================] - 99s 845ms/step - loss: 0.0258 - acc: 0.9953 - val_loss: 0.0060 - val_acc: 0.9997\n",
      "Epoch 16/100\n",
      "50/50 [==============================] - 29s 583ms/step - loss: 0.0053 - acc: 0.9997\n",
      "117/117 [==============================] - 98s 840ms/step - loss: 0.0241 - acc: 0.9959 - val_loss: 0.0053 - val_acc: 0.9997\n",
      "Epoch 17/100\n",
      "50/50 [==============================] - 29s 579ms/step - loss: 0.0050 - acc: 0.9997\n",
      "117/117 [==============================] - 99s 848ms/step - loss: 0.0234 - acc: 0.9963 - val_loss: 0.0050 - val_acc: 0.9997\n",
      "Epoch 18/100\n",
      "50/50 [==============================] - 29s 579ms/step - loss: 0.0051 - acc: 0.9994\n",
      "117/117 [==============================] - 98s 835ms/step - loss: 0.0223 - acc: 0.9955 - val_loss: 0.0051 - val_acc: 0.9994\n",
      "Epoch 19/100\n",
      "50/50 [==============================] - 29s 583ms/step - loss: 0.0045 - acc: 0.9994\n",
      "117/117 [==============================] - 98s 841ms/step - loss: 0.0210 - acc: 0.9963 - val_loss: 0.0045 - val_acc: 0.9994\n",
      "Epoch 20/100\n",
      "50/50 [==============================] - 29s 574ms/step - loss: 0.0039 - acc: 0.9997\n",
      "117/117 [==============================] - 97s 830ms/step - loss: 0.0193 - acc: 0.9967 - val_loss: 0.0039 - val_acc: 0.9997\n",
      "Epoch 21/100\n",
      "50/50 [==============================] - 28s 569ms/step - loss: 0.0038 - acc: 0.9997\n",
      "117/117 [==============================] - 98s 835ms/step - loss: 0.0205 - acc: 0.9969 - val_loss: 0.0038 - val_acc: 0.9997\n",
      "Epoch 22/100\n",
      "50/50 [==============================] - 29s 570ms/step - loss: 0.0042 - acc: 0.9997\n",
      "117/117 [==============================] - 99s 843ms/step - loss: 0.0164 - acc: 0.9976 - val_loss: 0.0042 - val_acc: 0.9997\n",
      "Epoch 23/100\n",
      "50/50 [==============================] - 29s 578ms/step - loss: 0.0036 - acc: 0.9994\n",
      "117/117 [==============================] - 97s 829ms/step - loss: 0.0158 - acc: 0.9969 - val_loss: 0.0036 - val_acc: 0.9994\n",
      "Epoch 24/100\n",
      "50/50 [==============================] - 29s 575ms/step - loss: 0.0036 - acc: 1.0000\n",
      "117/117 [==============================] - 97s 833ms/step - loss: 0.0159 - acc: 0.9971 - val_loss: 0.0036 - val_acc: 1.0000\n",
      "Epoch 25/100\n",
      "50/50 [==============================] - 29s 577ms/step - loss: 0.0034 - acc: 0.9994\n",
      "117/117 [==============================] - 98s 837ms/step - loss: 0.0166 - acc: 0.9968 - val_loss: 0.0034 - val_acc: 0.9994\n",
      "Epoch 26/100\n",
      "50/50 [==============================] - 29s 575ms/step - loss: 0.0032 - acc: 0.9994\n",
      "117/117 [==============================] - 97s 829ms/step - loss: 0.0153 - acc: 0.9972 - val_loss: 0.0032 - val_acc: 0.9994\n",
      "Epoch 27/100\n",
      "50/50 [==============================] - 29s 575ms/step - loss: 0.0032 - acc: 1.0000\n",
      "117/117 [==============================] - 97s 832ms/step - loss: 0.0137 - acc: 0.9973 - val_loss: 0.0032 - val_acc: 1.0000\n",
      "Epoch 28/100\n",
      "50/50 [==============================] - 28s 569ms/step - loss: 0.0030 - acc: 1.0000\n",
      "117/117 [==============================] - 98s 840ms/step - loss: 0.0138 - acc: 0.9975 - val_loss: 0.0030 - val_acc: 1.0000\n",
      "Epoch 29/100\n",
      "50/50 [==============================] - 28s 569ms/step - loss: 0.0030 - acc: 0.9997\n",
      "117/117 [==============================] - 97s 826ms/step - loss: 0.0134 - acc: 0.9980 - val_loss: 0.0030 - val_acc: 0.9997\n",
      "Epoch 30/100\n",
      "50/50 [==============================] - 29s 574ms/step - loss: 0.0028 - acc: 0.9997\n",
      "117/117 [==============================] - 99s 844ms/step - loss: 0.0117 - acc: 0.9981 - val_loss: 0.0028 - val_acc: 0.9997\n",
      "Epoch 31/100\n",
      "50/50 [==============================] - 28s 568ms/step - loss: 0.0026 - acc: 1.0000\n",
      "117/117 [==============================] - 98s 836ms/step - loss: 0.0130 - acc: 0.9977 - val_loss: 0.0026 - val_acc: 1.0000\n",
      "Epoch 32/100\n",
      "50/50 [==============================] - 28s 560ms/step - loss: 0.0027 - acc: 1.0000\n",
      "117/117 [==============================] - 99s 844ms/step - loss: 0.0117 - acc: 0.9985 - val_loss: 0.0027 - val_acc: 1.0000\n",
      "Epoch 33/100\n",
      "50/50 [==============================] - 28s 566ms/step - loss: 0.0023 - acc: 1.0000\n",
      "117/117 [==============================] - 97s 831ms/step - loss: 0.0111 - acc: 0.9981 - val_loss: 0.0023 - val_acc: 1.0000\n",
      "Epoch 34/100\n",
      "50/50 [==============================] - 28s 569ms/step - loss: 0.0023 - acc: 1.0000\n",
      "117/117 [==============================] - 97s 828ms/step - loss: 0.0113 - acc: 0.9983 - val_loss: 0.0023 - val_acc: 1.0000\n",
      "Epoch 35/100\n",
      "50/50 [==============================] - 28s 569ms/step - loss: 0.0022 - acc: 1.0000\n",
      "117/117 [==============================] - 97s 826ms/step - loss: 0.0117 - acc: 0.9980 - val_loss: 0.0022 - val_acc: 1.0000\n",
      "Epoch 36/100\n",
      "50/50 [==============================] - 28s 567ms/step - loss: 0.0019 - acc: 1.0000\n",
      "117/117 [==============================] - 97s 832ms/step - loss: 0.0109 - acc: 0.9983 - val_loss: 0.0019 - val_acc: 1.0000\n",
      "Epoch 37/100\n",
      "50/50 [==============================] - 29s 576ms/step - loss: 0.0020 - acc: 1.0000\n",
      "117/117 [==============================] - 99s 844ms/step - loss: 0.0111 - acc: 0.9979 - val_loss: 0.0020 - val_acc: 1.0000\n"
     ]
    },
    {
     "name": "stdout",
     "output_type": "stream",
     "text": [
      "Epoch 38/100\n",
      "50/50 [==============================] - 29s 573ms/step - loss: 0.0020 - acc: 1.0000\n",
      "117/117 [==============================] - 98s 834ms/step - loss: 0.0125 - acc: 0.9975 - val_loss: 0.0020 - val_acc: 1.0000\n",
      "Epoch 39/100\n",
      "50/50 [==============================] - 28s 563ms/step - loss: 0.0020 - acc: 1.0000\n",
      "117/117 [==============================] - 97s 830ms/step - loss: 0.0109 - acc: 0.9983 - val_loss: 0.0020 - val_acc: 1.0000\n",
      "Epoch 40/100\n",
      "50/50 [==============================] - 29s 572ms/step - loss: 0.0021 - acc: 1.0000\n",
      "117/117 [==============================] - 98s 840ms/step - loss: 0.0103 - acc: 0.9983 - val_loss: 0.0021 - val_acc: 1.0000\n",
      "Epoch 41/100\n",
      "50/50 [==============================] - 32s 640ms/step - loss: 0.0020 - acc: 1.0000\n",
      "117/117 [==============================] - 112s 961ms/step - loss: 0.0101 - acc: 0.9980 - val_loss: 0.0020 - val_acc: 1.0000\n",
      "Epoch 42/100\n",
      "50/50 [==============================] - 31s 630ms/step - loss: 0.0018 - acc: 1.0000\n",
      "117/117 [==============================] - 126s 1s/step - loss: 0.0094 - acc: 0.9987 - val_loss: 0.0018 - val_acc: 1.0000\n",
      "Epoch 43/100\n",
      "50/50 [==============================] - 32s 641ms/step - loss: 0.0018 - acc: 1.0000\n",
      "117/117 [==============================] - 118s 1s/step - loss: 0.0079 - acc: 0.9993 - val_loss: 0.0018 - val_acc: 1.0000\n",
      "Epoch 44/100\n",
      "50/50 [==============================] - 33s 653ms/step - loss: 0.0018 - acc: 1.0000\n",
      "117/117 [==============================] - 120s 1s/step - loss: 0.0099 - acc: 0.9979 - val_loss: 0.0018 - val_acc: 1.0000\n",
      "Epoch 45/100\n",
      "50/50 [==============================] - 32s 639ms/step - loss: 0.0019 - acc: 1.0000\n",
      "117/117 [==============================] - 126s 1s/step - loss: 0.0092 - acc: 0.9987 - val_loss: 0.0019 - val_acc: 1.0000\n",
      "Epoch 46/100\n",
      "50/50 [==============================] - 33s 662ms/step - loss: 0.0018 - acc: 1.0000\n",
      "117/117 [==============================] - 125s 1s/step - loss: 0.0086 - acc: 0.9988 - val_loss: 0.0018 - val_acc: 1.0000\n",
      "Epoch 47/100\n",
      "50/50 [==============================] - 31s 624ms/step - loss: 0.0018 - acc: 1.0000\n",
      "117/117 [==============================] - 123s 1s/step - loss: 0.0102 - acc: 0.9979 - val_loss: 0.0018 - val_acc: 1.0000\n",
      "Epoch 48/100\n",
      "50/50 [==============================] - 32s 646ms/step - loss: 0.0017 - acc: 1.0000\n",
      "117/117 [==============================] - 122s 1s/step - loss: 0.0089 - acc: 0.9985 - val_loss: 0.0017 - val_acc: 1.0000\n",
      "Epoch 49/100\n",
      "50/50 [==============================] - 30s 596ms/step - loss: 0.0016 - acc: 1.0000\n",
      "117/117 [==============================] - 113s 962ms/step - loss: 0.0097 - acc: 0.9983 - val_loss: 0.0016 - val_acc: 1.0000\n",
      "Epoch 50/100\n",
      "50/50 [==============================] - 29s 587ms/step - loss: 0.0017 - acc: 1.0000\n",
      "117/117 [==============================] - 100s 856ms/step - loss: 0.0097 - acc: 0.9985 - val_loss: 0.0017 - val_acc: 1.0000\n",
      "Epoch 51/100\n",
      "50/50 [==============================] - 31s 610ms/step - loss: 0.0018 - acc: 1.0000\n",
      "117/117 [==============================] - 104s 885ms/step - loss: 0.0080 - acc: 0.9988 - val_loss: 0.0018 - val_acc: 1.0000\n",
      "Epoch 52/100\n",
      "50/50 [==============================] - 31s 615ms/step - loss: 0.0018 - acc: 1.0000\n",
      "117/117 [==============================] - 104s 888ms/step - loss: 0.0089 - acc: 0.9987 - val_loss: 0.0018 - val_acc: 1.0000\n",
      "Epoch 53/100\n",
      "50/50 [==============================] - 29s 577ms/step - loss: 0.0016 - acc: 1.0000\n",
      "117/117 [==============================] - 105s 900ms/step - loss: 0.0082 - acc: 0.9983 - val_loss: 0.0016 - val_acc: 1.0000\n",
      "Epoch 54/100\n",
      "50/50 [==============================] - 29s 573ms/step - loss: 0.0016 - acc: 1.0000\n",
      "117/117 [==============================] - 99s 845ms/step - loss: 0.0082 - acc: 0.9987 - val_loss: 0.0016 - val_acc: 1.0000\n",
      "Epoch 55/100\n",
      "50/50 [==============================] - 29s 579ms/step - loss: 0.0015 - acc: 1.0000\n",
      "117/117 [==============================] - 98s 839ms/step - loss: 0.0093 - acc: 0.9981 - val_loss: 0.0015 - val_acc: 1.0000\n",
      "Epoch 56/100\n",
      "50/50 [==============================] - 29s 575ms/step - loss: 0.0017 - acc: 1.0000\n",
      "117/117 [==============================] - 100s 858ms/step - loss: 0.0077 - acc: 0.9988 - val_loss: 0.0017 - val_acc: 1.0000\n",
      "Epoch 57/100\n",
      "50/50 [==============================] - 29s 589ms/step - loss: 0.0015 - acc: 1.0000\n",
      "117/117 [==============================] - 101s 864ms/step - loss: 0.0075 - acc: 0.9988 - val_loss: 0.0015 - val_acc: 1.0000\n",
      "Epoch 58/100\n",
      "50/50 [==============================] - 30s 607ms/step - loss: 0.0015 - acc: 1.0000\n",
      "117/117 [==============================] - 105s 898ms/step - loss: 0.0080 - acc: 0.9985 - val_loss: 0.0015 - val_acc: 1.0000\n",
      "Epoch 59/100\n",
      "50/50 [==============================] - 29s 588ms/step - loss: 0.0015 - acc: 1.0000\n",
      "117/117 [==============================] - 102s 870ms/step - loss: 0.0080 - acc: 0.9985 - val_loss: 0.0015 - val_acc: 1.0000\n",
      "Epoch 60/100\n",
      "50/50 [==============================] - 29s 581ms/step - loss: 0.0014 - acc: 1.0000\n",
      "117/117 [==============================] - 100s 851ms/step - loss: 0.0071 - acc: 0.9988 - val_loss: 0.0014 - val_acc: 1.0000\n",
      "Epoch 61/100\n",
      "50/50 [==============================] - 31s 613ms/step - loss: 0.0014 - acc: 1.0000\n",
      "117/117 [==============================] - 104s 890ms/step - loss: 0.0082 - acc: 0.9988 - val_loss: 0.0014 - val_acc: 1.0000\n",
      "Epoch 62/100\n",
      "50/50 [==============================] - 30s 591ms/step - loss: 0.0014 - acc: 1.0000\n",
      "117/117 [==============================] - 102s 873ms/step - loss: 0.0078 - acc: 0.9985 - val_loss: 0.0014 - val_acc: 1.0000\n",
      "Epoch 63/100\n",
      "50/50 [==============================] - 30s 610ms/step - loss: 0.0014 - acc: 1.0000\n",
      "117/117 [==============================] - 105s 896ms/step - loss: 0.0072 - acc: 0.9989 - val_loss: 0.0014 - val_acc: 1.0000\n",
      "Epoch 64/100\n",
      "50/50 [==============================] - 31s 630ms/step - loss: 0.0015 - acc: 1.0000\n",
      "117/117 [==============================] - 103s 883ms/step - loss: 0.0084 - acc: 0.9985 - val_loss: 0.0015 - val_acc: 1.0000\n",
      "Epoch 65/100\n",
      "50/50 [==============================] - 29s 583ms/step - loss: 0.0012 - acc: 1.0000\n",
      "117/117 [==============================] - 104s 892ms/step - loss: 0.0076 - acc: 0.9983 - val_loss: 0.0012 - val_acc: 1.0000\n",
      "Epoch 66/100\n",
      "50/50 [==============================] - 29s 574ms/step - loss: 0.0013 - acc: 1.0000\n",
      "117/117 [==============================] - 97s 829ms/step - loss: 0.0070 - acc: 0.9989 - val_loss: 0.0013 - val_acc: 1.0000\n",
      "Epoch 67/100\n",
      "50/50 [==============================] - 29s 586ms/step - loss: 0.0014 - acc: 1.0000\n",
      "117/117 [==============================] - 103s 876ms/step - loss: 0.0078 - acc: 0.9984 - val_loss: 0.0014 - val_acc: 1.0000\n",
      "Epoch 68/100\n",
      "50/50 [==============================] - 29s 583ms/step - loss: 0.0012 - acc: 1.0000\n",
      "117/117 [==============================] - 100s 852ms/step - loss: 0.0076 - acc: 0.9989 - val_loss: 0.0012 - val_acc: 1.0000\n",
      "Epoch 69/100\n",
      "50/50 [==============================] - 30s 596ms/step - loss: 0.0012 - acc: 1.0000\n",
      "117/117 [==============================] - 98s 836ms/step - loss: 0.0075 - acc: 0.9988 - val_loss: 0.0012 - val_acc: 1.0000\n",
      "Epoch 70/100\n",
      "50/50 [==============================] - 30s 605ms/step - loss: 0.0013 - acc: 1.0000\n",
      "117/117 [==============================] - 111s 952ms/step - loss: 0.0075 - acc: 0.9993 - val_loss: 0.0013 - val_acc: 1.0000\n",
      "Epoch 71/100\n",
      "50/50 [==============================] - 29s 585ms/step - loss: 0.0012 - acc: 1.0000\n",
      "117/117 [==============================] - 106s 904ms/step - loss: 0.0074 - acc: 0.9984 - val_loss: 0.0012 - val_acc: 1.0000\n",
      "Epoch 72/100\n",
      "50/50 [==============================] - 32s 641ms/step - loss: 0.0011 - acc: 1.0000\n",
      "117/117 [==============================] - 109s 929ms/step - loss: 0.0065 - acc: 0.9992 - val_loss: 0.0011 - val_acc: 1.0000\n",
      "Epoch 73/100\n",
      "50/50 [==============================] - 29s 574ms/step - loss: 0.0012 - acc: 1.0000\n",
      "117/117 [==============================] - 100s 853ms/step - loss: 0.0065 - acc: 0.9989 - val_loss: 0.0012 - val_acc: 1.0000\n",
      "Epoch 74/100\n",
      "50/50 [==============================] - 30s 596ms/step - loss: 0.0011 - acc: 1.0000\n",
      "117/117 [==============================] - 100s 853ms/step - loss: 0.0067 - acc: 0.9992 - val_loss: 0.0011 - val_acc: 1.0000\n"
     ]
    },
    {
     "name": "stdout",
     "output_type": "stream",
     "text": [
      "Epoch 75/100\n",
      "50/50 [==============================] - 30s 593ms/step - loss: 0.0011 - acc: 1.0000\n",
      "117/117 [==============================] - 100s 855ms/step - loss: 0.0056 - acc: 0.9995 - val_loss: 0.0011 - val_acc: 1.0000\n",
      "Epoch 76/100\n",
      "50/50 [==============================] - 34s 682ms/step - loss: 0.0013 - acc: 1.0000\n",
      "117/117 [==============================] - 106s 907ms/step - loss: 0.0064 - acc: 0.9987 - val_loss: 0.0013 - val_acc: 1.0000\n",
      "Epoch 77/100\n",
      "50/50 [==============================] - 34s 686ms/step - loss: 0.0012 - acc: 1.0000\n",
      "117/117 [==============================] - 130s 1s/step - loss: 0.0068 - acc: 0.9987 - val_loss: 0.0012 - val_acc: 1.0000\n",
      "Epoch 78/100\n",
      "50/50 [==============================] - 33s 654ms/step - loss: 0.0012 - acc: 1.0000\n",
      "117/117 [==============================] - 125s 1s/step - loss: 0.0070 - acc: 0.9992 - val_loss: 0.0012 - val_acc: 1.0000\n",
      "Epoch 79/100\n",
      "50/50 [==============================] - 32s 646ms/step - loss: 0.0011 - acc: 1.0000\n",
      "117/117 [==============================] - 124s 1s/step - loss: 0.0064 - acc: 0.9992 - val_loss: 0.0011 - val_acc: 1.0000\n",
      "Epoch 80/100\n",
      "50/50 [==============================] - 30s 591ms/step - loss: 0.0012 - acc: 1.0000\n",
      "117/117 [==============================] - 116s 995ms/step - loss: 0.0065 - acc: 0.9991 - val_loss: 0.0012 - val_acc: 1.0000\n",
      "Epoch 81/100\n",
      " 61/117 [==============>...............] - ETA: 33s - loss: 0.0067 - acc: 0.9987"
     ]
    },
    {
     "ename": "KeyboardInterrupt",
     "evalue": "",
     "output_type": "error",
     "traceback": [
      "\u001b[0;31m---------------------------------------------------------------------------\u001b[0m",
      "\u001b[0;31mKeyboardInterrupt\u001b[0m                         Traceback (most recent call last)",
      "\u001b[0;32m<ipython-input-25-b7ede844aa5b>\u001b[0m in \u001b[0;36m<module>\u001b[0;34m\u001b[0m\n\u001b[1;32m      8\u001b[0m     \u001b[0mmax_queue_size\u001b[0m\u001b[0;34m=\u001b[0m\u001b[0;36m20\u001b[0m\u001b[0;34m,\u001b[0m\u001b[0;34m\u001b[0m\u001b[0;34m\u001b[0m\u001b[0m\n\u001b[1;32m      9\u001b[0m     \u001b[0mverbose\u001b[0m\u001b[0;34m=\u001b[0m\u001b[0;36m1\u001b[0m\u001b[0;34m,\u001b[0m\u001b[0;34m\u001b[0m\u001b[0;34m\u001b[0m\u001b[0m\n\u001b[0;32m---> 10\u001b[0;31m     \u001b[0mcallbacks\u001b[0m\u001b[0;34m=\u001b[0m\u001b[0mcallbacks\u001b[0m\u001b[0;34m\u001b[0m\u001b[0;34m\u001b[0m\u001b[0m\n\u001b[0m\u001b[1;32m     11\u001b[0m )\n",
      "\u001b[0;32m/usr/local/lib/python3.6/dist-packages/tensorflow/python/keras/engine/training.py\u001b[0m in \u001b[0;36mfit_generator\u001b[0;34m(self, generator, steps_per_epoch, epochs, verbose, callbacks, validation_data, validation_steps, class_weight, max_queue_size, workers, use_multiprocessing, shuffle, initial_epoch)\u001b[0m\n\u001b[1;32m   1424\u001b[0m         \u001b[0muse_multiprocessing\u001b[0m\u001b[0;34m=\u001b[0m\u001b[0muse_multiprocessing\u001b[0m\u001b[0;34m,\u001b[0m\u001b[0;34m\u001b[0m\u001b[0;34m\u001b[0m\u001b[0m\n\u001b[1;32m   1425\u001b[0m         \u001b[0mshuffle\u001b[0m\u001b[0;34m=\u001b[0m\u001b[0mshuffle\u001b[0m\u001b[0;34m,\u001b[0m\u001b[0;34m\u001b[0m\u001b[0;34m\u001b[0m\u001b[0m\n\u001b[0;32m-> 1426\u001b[0;31m         initial_epoch=initial_epoch)\n\u001b[0m\u001b[1;32m   1427\u001b[0m \u001b[0;34m\u001b[0m\u001b[0m\n\u001b[1;32m   1428\u001b[0m   def evaluate_generator(self,\n",
      "\u001b[0;32m/usr/local/lib/python3.6/dist-packages/tensorflow/python/keras/engine/training_generator.py\u001b[0m in \u001b[0;36mmodel_iteration\u001b[0;34m(model, data, steps_per_epoch, epochs, verbose, callbacks, validation_data, validation_steps, class_weight, max_queue_size, workers, use_multiprocessing, shuffle, initial_epoch, mode, batch_size, **kwargs)\u001b[0m\n\u001b[1;32m    189\u001b[0m       \u001b[0mprogbar\u001b[0m\u001b[0;34m.\u001b[0m\u001b[0mon_batch_begin\u001b[0m\u001b[0;34m(\u001b[0m\u001b[0mstep\u001b[0m\u001b[0;34m,\u001b[0m \u001b[0mbatch_logs\u001b[0m\u001b[0;34m)\u001b[0m\u001b[0;34m\u001b[0m\u001b[0;34m\u001b[0m\u001b[0m\n\u001b[1;32m    190\u001b[0m \u001b[0;34m\u001b[0m\u001b[0m\n\u001b[0;32m--> 191\u001b[0;31m       \u001b[0mbatch_outs\u001b[0m \u001b[0;34m=\u001b[0m \u001b[0mbatch_function\u001b[0m\u001b[0;34m(\u001b[0m\u001b[0;34m*\u001b[0m\u001b[0mbatch_data\u001b[0m\u001b[0;34m)\u001b[0m\u001b[0;34m\u001b[0m\u001b[0;34m\u001b[0m\u001b[0m\n\u001b[0m\u001b[1;32m    192\u001b[0m       \u001b[0;32mif\u001b[0m \u001b[0;32mnot\u001b[0m \u001b[0misinstance\u001b[0m\u001b[0;34m(\u001b[0m\u001b[0mbatch_outs\u001b[0m\u001b[0;34m,\u001b[0m \u001b[0mlist\u001b[0m\u001b[0;34m)\u001b[0m\u001b[0;34m:\u001b[0m\u001b[0;34m\u001b[0m\u001b[0;34m\u001b[0m\u001b[0m\n\u001b[1;32m    193\u001b[0m         \u001b[0mbatch_outs\u001b[0m \u001b[0;34m=\u001b[0m \u001b[0;34m[\u001b[0m\u001b[0mbatch_outs\u001b[0m\u001b[0;34m]\u001b[0m\u001b[0;34m\u001b[0m\u001b[0;34m\u001b[0m\u001b[0m\n",
      "\u001b[0;32m/usr/local/lib/python3.6/dist-packages/tensorflow/python/keras/engine/training.py\u001b[0m in \u001b[0;36mtrain_on_batch\u001b[0;34m(self, x, y, sample_weight, class_weight, reset_metrics)\u001b[0m\n\u001b[1;32m   1189\u001b[0m       \u001b[0;32melse\u001b[0m\u001b[0;34m:\u001b[0m\u001b[0;34m\u001b[0m\u001b[0;34m\u001b[0m\u001b[0m\n\u001b[1;32m   1190\u001b[0m         \u001b[0mself\u001b[0m\u001b[0;34m.\u001b[0m\u001b[0m_make_fit_function\u001b[0m\u001b[0;34m(\u001b[0m\u001b[0;34m)\u001b[0m\u001b[0;34m\u001b[0m\u001b[0;34m\u001b[0m\u001b[0m\n\u001b[0;32m-> 1191\u001b[0;31m         \u001b[0moutputs\u001b[0m \u001b[0;34m=\u001b[0m \u001b[0mself\u001b[0m\u001b[0;34m.\u001b[0m\u001b[0m_fit_function\u001b[0m\u001b[0;34m(\u001b[0m\u001b[0mins\u001b[0m\u001b[0;34m)\u001b[0m  \u001b[0;31m# pylint: disable=not-callable\u001b[0m\u001b[0;34m\u001b[0m\u001b[0;34m\u001b[0m\u001b[0m\n\u001b[0m\u001b[1;32m   1192\u001b[0m \u001b[0;34m\u001b[0m\u001b[0m\n\u001b[1;32m   1193\u001b[0m     \u001b[0;32mif\u001b[0m \u001b[0mreset_metrics\u001b[0m\u001b[0;34m:\u001b[0m\u001b[0;34m\u001b[0m\u001b[0;34m\u001b[0m\u001b[0m\n",
      "\u001b[0;32m/usr/local/lib/python3.6/dist-packages/tensorflow/python/keras/backend.py\u001b[0m in \u001b[0;36m__call__\u001b[0;34m(self, inputs)\u001b[0m\n\u001b[1;32m   3074\u001b[0m \u001b[0;34m\u001b[0m\u001b[0m\n\u001b[1;32m   3075\u001b[0m     fetched = self._callable_fn(*array_vals,\n\u001b[0;32m-> 3076\u001b[0;31m                                 run_metadata=self.run_metadata)\n\u001b[0m\u001b[1;32m   3077\u001b[0m     \u001b[0mself\u001b[0m\u001b[0;34m.\u001b[0m\u001b[0m_call_fetch_callbacks\u001b[0m\u001b[0;34m(\u001b[0m\u001b[0mfetched\u001b[0m\u001b[0;34m[\u001b[0m\u001b[0;34m-\u001b[0m\u001b[0mlen\u001b[0m\u001b[0;34m(\u001b[0m\u001b[0mself\u001b[0m\u001b[0;34m.\u001b[0m\u001b[0m_fetches\u001b[0m\u001b[0;34m)\u001b[0m\u001b[0;34m:\u001b[0m\u001b[0;34m]\u001b[0m\u001b[0;34m)\u001b[0m\u001b[0;34m\u001b[0m\u001b[0;34m\u001b[0m\u001b[0m\n\u001b[1;32m   3078\u001b[0m     return nest.pack_sequence_as(self._outputs_structure,\n",
      "\u001b[0;32m/usr/local/lib/python3.6/dist-packages/tensorflow/python/client/session.py\u001b[0m in \u001b[0;36m__call__\u001b[0;34m(self, *args, **kwargs)\u001b[0m\n\u001b[1;32m   1437\u001b[0m           ret = tf_session.TF_SessionRunCallable(\n\u001b[1;32m   1438\u001b[0m               \u001b[0mself\u001b[0m\u001b[0;34m.\u001b[0m\u001b[0m_session\u001b[0m\u001b[0;34m.\u001b[0m\u001b[0m_session\u001b[0m\u001b[0;34m,\u001b[0m \u001b[0mself\u001b[0m\u001b[0;34m.\u001b[0m\u001b[0m_handle\u001b[0m\u001b[0;34m,\u001b[0m \u001b[0margs\u001b[0m\u001b[0;34m,\u001b[0m \u001b[0mstatus\u001b[0m\u001b[0;34m,\u001b[0m\u001b[0;34m\u001b[0m\u001b[0;34m\u001b[0m\u001b[0m\n\u001b[0;32m-> 1439\u001b[0;31m               run_metadata_ptr)\n\u001b[0m\u001b[1;32m   1440\u001b[0m         \u001b[0;32mif\u001b[0m \u001b[0mrun_metadata\u001b[0m\u001b[0;34m:\u001b[0m\u001b[0;34m\u001b[0m\u001b[0;34m\u001b[0m\u001b[0m\n\u001b[1;32m   1441\u001b[0m           \u001b[0mproto_data\u001b[0m \u001b[0;34m=\u001b[0m \u001b[0mtf_session\u001b[0m\u001b[0;34m.\u001b[0m\u001b[0mTF_GetBuffer\u001b[0m\u001b[0;34m(\u001b[0m\u001b[0mrun_metadata_ptr\u001b[0m\u001b[0;34m)\u001b[0m\u001b[0;34m\u001b[0m\u001b[0;34m\u001b[0m\u001b[0m\n",
      "\u001b[0;31mKeyboardInterrupt\u001b[0m: "
     ]
    }
   ],
   "source": [
    "# train the head for few epochs\n",
    "H = model.fit_generator(\n",
    "    trainGen.generator(),\n",
    "    steps_per_epoch=trainGen.numImages//batch_size,\n",
    "    validation_data=valGen.generator(),\n",
    "    validation_steps=valGen.numImages//batch_size,\n",
    "    epochs=epoch_num,\n",
    "    max_queue_size=20,\n",
    "    verbose=1,\n",
    "    callbacks=callbacks\n",
    ")"
   ]
  },
  {
   "cell_type": "code",
   "execution_count": 26,
   "metadata": {},
   "outputs": [],
   "source": [
    "model.save(f\"{dbBase}//mokn_4class_model.pt\")"
   ]
  },
  {
   "cell_type": "code",
   "execution_count": null,
   "metadata": {},
   "outputs": [],
   "source": []
  }
 ],
 "metadata": {
  "kernelspec": {
   "display_name": "Python 3",
   "language": "python",
   "name": "python3"
  },
  "language_info": {
   "codemirror_mode": {
    "name": "ipython",
    "version": 3
   },
   "file_extension": ".py",
   "mimetype": "text/x-python",
   "name": "python",
   "nbconvert_exporter": "python",
   "pygments_lexer": "ipython3",
   "version": "3.6.7"
  }
 },
 "nbformat": 4,
 "nbformat_minor": 1
}
