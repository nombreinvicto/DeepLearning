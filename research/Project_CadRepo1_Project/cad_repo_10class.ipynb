{
 "cells": [
  {
   "cell_type": "code",
   "execution_count": 1,
   "metadata": {
    "pycharm": {
     "name": "#%%\n"
    }
   },
   "outputs": [],
   "source": [
    "import os\n",
    "import h5py\n",
    "import numpy as np\n",
    "import pandas as pd\n",
    "import seaborn as sns\n",
    "from imutils import paths\n",
    "import matplotlib.pyplot as plt\n",
    "from matplotlib.figure import Figure\n",
    "import matplotlib.axes._axes as axes\n",
    "sns.set()"
   ]
  },
  {
   "cell_type": "code",
   "execution_count": 3,
   "metadata": {
    "pycharm": {
     "name": "#%%\n"
    }
   },
   "outputs": [],
   "source": [
    "# import the necessary packages\n",
    "from sklearn.preprocessing import LabelBinarizer, LabelEncoder\n",
    "from sklearn.model_selection import train_test_split\n",
    "from sklearn.metrics import classification_report\n",
    "from loader_util.preprocessing import ImageToArrayPreprocessor, \\\n",
    "    AspectAwarePreprocessor, MeanSubtractionPreProcessor, SimplePreProcessor\n",
    "from loader_util.datasets import SimpleDatasetLoader\n",
    "from loader_util.io import HDF5DatasetGenerator\n",
    "from loader_util.nn.conv import FCHeadNet\n",
    "from loader_util.callbacks import TrainingMonitor, EpochCheckpoint\n",
    "##\n",
    "from tensorflow.keras.layers import Conv2D, Activation, Flatten, Dense\n",
    "from tensorflow.keras.preprocessing.image import ImageDataGenerator\n",
    "from tensorflow.keras.optimizers import RMSprop, SGD, Adam\n",
    "from tensorflow.keras.applications import VGG16, ResNet50\n",
    "from tensorflow.keras.layers import Input\n",
    "from tensorflow.keras.models import Model\n",
    "from tensorflow.keras import backend as K\n",
    "from tensorflow.keras.utils import to_categorical\n",
    "from tensorflow.keras.callbacks import LearningRateScheduler"
   ]
  },
  {
   "cell_type": "code",
   "execution_count": 4,
   "metadata": {
    "pycharm": {
     "name": "#%%\n"
    }
   },
   "outputs": [],
   "source": [
    "# construct the train image generator\n",
    "aug = ImageDataGenerator(rotation_range=20,\n",
    "                         zoom_range=0.15,\n",
    "                         width_shift_range=0.2,\n",
    "                         height_shift_range=0.2,\n",
    "                         shear_range=0.15,\n",
    "                         horizontal_flip=True,\n",
    "                         fill_mode='nearest')"
   ]
  },
  {
   "cell_type": "code",
   "execution_count": 5,
   "metadata": {
    "pycharm": {
     "name": "#%%\n"
    }
   },
   "outputs": [],
   "source": [
    "batch_size = 64\n",
    "epoch_num = 100\n",
    "\n",
    "# initialise the image preprocessors\n",
    "sp = SimplePreProcessor(width=224, height=224)\n",
    "iap = ImageToArrayPreprocessor()"
   ]
  },
  {
   "cell_type": "code",
   "execution_count": 6,
   "metadata": {},
   "outputs": [
    {
     "name": "stdout",
     "output_type": "stream",
     "text": [
      "Total no. of classes in dataset: 10\n"
     ]
    }
   ],
   "source": [
    "# initialise the data paths\n",
    "\n",
    "dbBase = r\"/home/mhasan3/Desktop/WorkFolder/mokn_10class_data/\"\n",
    "dbTrainPath = f\"{dbBase}//train_cad_10class.hdf5\"\n",
    "dbValidPath = f\"{dbBase}//validate_cad_10class.hdf5\"\n",
    "\n",
    "# get the no. of classes\n",
    "trainFile = h5py.File(name=dbTrainPath, mode=\"r\")\n",
    "class_num = len(list(np.unique(trainFile[\"labels\"])))\n",
    "print(f\"Total no. of classes in dataset: {class_num}\")"
   ]
  },
  {
   "cell_type": "code",
   "execution_count": 7,
   "metadata": {
    "pycharm": {
     "name": "#%%\n"
    }
   },
   "outputs": [
    {
     "name": "stdout",
     "output_type": "stream",
     "text": [
      "ClassLabels: [0 1 2 3 4 5 6 7 8 9]\n",
      "ClassWeights: [  8.466549    1.4625913   7.706731    1.5710552   1.          9.618\n",
      "   1.3455513 282.88235    98.14286     1.8439417]\n"
     ]
    }
   ],
   "source": [
    "# consider class weight discrepency\n",
    "le = LabelEncoder()\n",
    "labels = le.fit_transform(trainFile[\"labels\"])\n",
    "encoded_labels = to_categorical(labels)\n",
    "\n",
    "classLabels = le.classes_\n",
    "classTotals = encoded_labels.sum(axis=0) # type: np.ndarray\n",
    "classWeight = classTotals.max() / classTotals\n",
    "\n",
    "print(f\"ClassLabels: {classLabels}\")\n",
    "print(f\"ClassWeights: {classWeight}\")"
   ]
  },
  {
   "cell_type": "code",
   "execution_count": 8,
   "metadata": {
    "pycharm": {
     "name": "#%%\n"
    }
   },
   "outputs": [],
   "source": [
    "# initialise the train and valid generators\n",
    "trainGen = HDF5DatasetGenerator(dbPath=dbTrainPath,\n",
    "                                batchSize=batch_size,\n",
    "                                preprocessors=[sp, iap],\n",
    "                                classes=class_num,\n",
    "                                aug=aug)\n",
    "\n",
    "valGen = HDF5DatasetGenerator(dbPath=dbValidPath,\n",
    "                              batchSize=batch_size,\n",
    "                              preprocessors=[sp, iap],\n",
    "                              classes=class_num)"
   ]
  },
  {
   "cell_type": "code",
   "execution_count": 9,
   "metadata": {},
   "outputs": [],
   "source": [
    "# define the Learning Rate Scheduler\n",
    "\n",
    "initial_rate = 5e-3\n",
    "\n",
    "def poly_decay(epoch):\n",
    "    max_epochs = epoch_num\n",
    "    baseLR = initial_rate\n",
    "    power = 1.0\n",
    "    \n",
    "    alpha = baseLR * (1 - (epoch / float(max_epochs))) ** power\n",
    "    return alpha"
   ]
  },
  {
   "cell_type": "code",
   "execution_count": 10,
   "metadata": {
    "pycharm": {
     "name": "#%%\n"
    }
   },
   "outputs": [
    {
     "name": "stdout",
     "output_type": "stream",
     "text": [
      "WARNING:tensorflow:From /usr/local/lib/python3.6/dist-packages/tensorflow/python/ops/resource_variable_ops.py:435: colocate_with (from tensorflow.python.framework.ops) is deprecated and will be removed in a future version.\n",
      "Instructions for updating:\n",
      "Colocations handled automatically by placer.\n",
      "BaseModel Out Shape:  (?, 7, 7, 512)\n",
      "WARNING:tensorflow:From /usr/local/lib/python3.6/dist-packages/tensorflow/python/keras/layers/core.py:143: calling dropout (from tensorflow.python.ops.nn_ops) with keep_prob is deprecated and will be removed in a future version.\n",
      "Instructions for updating:\n",
      "Please use `rate` instead of `keep_prob`. Rate should be set to `rate = 1 - keep_prob`.\n"
     ]
    }
   ],
   "source": [
    "# load the VGG16 network ensuring the head FC layer sets are left off\n",
    "baseModel = VGG16(weights='imagenet', include_top=False,\n",
    "                  input_tensor=Input(shape=(224, 224, 3))) # type: Model\n",
    "\n",
    "# initialise the new head of the network, a set of FC layers followed by\n",
    "# softmax\n",
    "headModel = FCHeadNet.builld(baseModel, classes=class_num, D=[1024, 512, 256]) # type: Model\n",
    "\n",
    "# place the head FC model on top of the base model - this will be the actual\n",
    "# model to train\n",
    "model = Model(inputs=baseModel.input, outputs=headModel)"
   ]
  },
  {
   "cell_type": "code",
   "execution_count": 11,
   "metadata": {},
   "outputs": [
    {
     "name": "stdout",
     "output_type": "stream",
     "text": [
      "_________________________________________________________________\n",
      "Layer (type)                 Output Shape              Param #   \n",
      "=================================================================\n",
      "input_1 (InputLayer)         (None, 224, 224, 3)       0         \n",
      "_________________________________________________________________\n",
      "block1_conv1 (Conv2D)        (None, 224, 224, 64)      1792      \n",
      "_________________________________________________________________\n",
      "block1_conv2 (Conv2D)        (None, 224, 224, 64)      36928     \n",
      "_________________________________________________________________\n",
      "block1_pool (MaxPooling2D)   (None, 112, 112, 64)      0         \n",
      "_________________________________________________________________\n",
      "block2_conv1 (Conv2D)        (None, 112, 112, 128)     73856     \n",
      "_________________________________________________________________\n",
      "block2_conv2 (Conv2D)        (None, 112, 112, 128)     147584    \n",
      "_________________________________________________________________\n",
      "block2_pool (MaxPooling2D)   (None, 56, 56, 128)       0         \n",
      "_________________________________________________________________\n",
      "block3_conv1 (Conv2D)        (None, 56, 56, 256)       295168    \n",
      "_________________________________________________________________\n",
      "block3_conv2 (Conv2D)        (None, 56, 56, 256)       590080    \n",
      "_________________________________________________________________\n",
      "block3_conv3 (Conv2D)        (None, 56, 56, 256)       590080    \n",
      "_________________________________________________________________\n",
      "block3_pool (MaxPooling2D)   (None, 28, 28, 256)       0         \n",
      "_________________________________________________________________\n",
      "block4_conv1 (Conv2D)        (None, 28, 28, 512)       1180160   \n",
      "_________________________________________________________________\n",
      "block4_conv2 (Conv2D)        (None, 28, 28, 512)       2359808   \n",
      "_________________________________________________________________\n",
      "block4_conv3 (Conv2D)        (None, 28, 28, 512)       2359808   \n",
      "_________________________________________________________________\n",
      "block4_pool (MaxPooling2D)   (None, 14, 14, 512)       0         \n",
      "_________________________________________________________________\n",
      "block5_conv1 (Conv2D)        (None, 14, 14, 512)       2359808   \n",
      "_________________________________________________________________\n",
      "block5_conv2 (Conv2D)        (None, 14, 14, 512)       2359808   \n",
      "_________________________________________________________________\n",
      "block5_conv3 (Conv2D)        (None, 14, 14, 512)       2359808   \n",
      "_________________________________________________________________\n",
      "block5_pool (MaxPooling2D)   (None, 7, 7, 512)         0         \n",
      "_________________________________________________________________\n",
      "flatten (Flatten)            (None, 25088)             0         \n",
      "_________________________________________________________________\n",
      "dense (Dense)                (None, 256)               6422784   \n",
      "_________________________________________________________________\n",
      "dropout (Dropout)            (None, 256)               0         \n",
      "_________________________________________________________________\n",
      "dense_1 (Dense)              (None, 10)                2570      \n",
      "=================================================================\n",
      "Total params: 21,140,042\n",
      "Trainable params: 21,140,042\n",
      "Non-trainable params: 0\n",
      "_________________________________________________________________\n"
     ]
    }
   ],
   "source": [
    "model.summary()"
   ]
  },
  {
   "cell_type": "code",
   "execution_count": 12,
   "metadata": {
    "pycharm": {
     "name": "#%%\n"
    }
   },
   "outputs": [],
   "source": [
    "# loop over all the layers in the base model and freeze them\n",
    "for layer in baseModel.layers:\n",
    "    layer.trainable = False"
   ]
  },
  {
   "cell_type": "code",
   "execution_count": 13,
   "metadata": {
    "pycharm": {
     "name": "#%%\n"
    }
   },
   "outputs": [],
   "source": [
    "# compile and optimise model\n",
    "opt = SGD(lr=initial_rate)\n",
    "model.compile(loss='categorical_crossentropy',\n",
    "              optimizer=opt,\n",
    "              metrics=['accuracy'])\n",
    "\n",
    "# construct callbacks\n",
    "path = os.path.sep.join([dbBase, f'{os.getpid()}.png'])\n",
    "callbacks = [TrainingMonitor(path),\n",
    "             LearningRateScheduler(poly_decay),\n",
    "             EpochCheckpoint(outputPath=dbBase)]"
   ]
  },
  {
   "cell_type": "code",
   "execution_count": 14,
   "metadata": {
    "pycharm": {
     "name": "#%%\n"
    },
    "scrolled": true
   },
   "outputs": [
    {
     "name": "stdout",
     "output_type": "stream",
     "text": [
      "WARNING:tensorflow:From /usr/local/lib/python3.6/dist-packages/tensorflow/python/ops/math_ops.py:3066: to_int32 (from tensorflow.python.ops.math_ops) is deprecated and will be removed in a future version.\n",
      "Instructions for updating:\n",
      "Use tf.cast instead.\n",
      "Epoch 1/100\n",
      "127/127 [==============================] - 85s 666ms/step - loss: 0.6619 - acc: 0.7757\n",
      "298/298 [==============================] - 341s 1s/step - loss: 1.2066 - acc: 0.5955 - val_loss: 0.6619 - val_acc: 0.7757\n",
      "Epoch 2/100\n",
      "127/127 [==============================] - 87s 683ms/step - loss: 0.5042 - acc: 0.8222\n",
      "298/298 [==============================] - 359s 1s/step - loss: 0.7624 - acc: 0.7537 - val_loss: 0.5042 - val_acc: 0.8222\n",
      "Epoch 3/100\n",
      "127/127 [==============================] - 80s 628ms/step - loss: 0.4185 - acc: 0.8499\n",
      "298/298 [==============================] - 351s 1s/step - loss: 0.6213 - acc: 0.7951 - val_loss: 0.4185 - val_acc: 0.8499\n",
      "Epoch 4/100\n",
      "127/127 [==============================] - 79s 619ms/step - loss: 0.3423 - acc: 0.8788\n",
      "298/298 [==============================] - 352s 1s/step - loss: 0.5538 - acc: 0.8142 - val_loss: 0.3423 - val_acc: 0.8788\n",
      "Epoch 5/100\n",
      "127/127 [==============================] - 75s 593ms/step - loss: 0.3317 - acc: 0.8769\n",
      "298/298 [==============================] - 341s 1s/step - loss: 0.5001 - acc: 0.8281 - val_loss: 0.3317 - val_acc: 0.8769\n",
      "Epoch 6/100\n",
      "127/127 [==============================] - 76s 601ms/step - loss: 0.3146 - acc: 0.8811\n",
      "298/298 [==============================] - 326s 1s/step - loss: 0.4619 - acc: 0.8413 - val_loss: 0.3146 - val_acc: 0.8811\n",
      "Epoch 7/100\n",
      "127/127 [==============================] - 78s 617ms/step - loss: 0.3003 - acc: 0.8908\n",
      "298/298 [==============================] - 318s 1s/step - loss: 0.4360 - acc: 0.8496 - val_loss: 0.3003 - val_acc: 0.8908\n",
      "Epoch 8/100\n",
      "127/127 [==============================] - 76s 599ms/step - loss: 0.2791 - acc: 0.9031\n",
      "298/298 [==============================] - 343s 1s/step - loss: 0.4126 - acc: 0.8559 - val_loss: 0.2791 - val_acc: 0.9031\n",
      "Epoch 9/100\n",
      "127/127 [==============================] - 77s 605ms/step - loss: 0.2521 - acc: 0.9100\n",
      "298/298 [==============================] - 350s 1s/step - loss: 0.3892 - acc: 0.8642 - val_loss: 0.2521 - val_acc: 0.9100\n",
      "Epoch 10/100\n",
      "127/127 [==============================] - 83s 651ms/step - loss: 0.2481 - acc: 0.9116\n",
      "298/298 [==============================] - 329s 1s/step - loss: 0.3744 - acc: 0.8684 - val_loss: 0.2481 - val_acc: 0.9116\n",
      "Epoch 11/100\n",
      "127/127 [==============================] - 76s 599ms/step - loss: 0.2450 - acc: 0.9109\n",
      "298/298 [==============================] - 350s 1s/step - loss: 0.3606 - acc: 0.8757 - val_loss: 0.2450 - val_acc: 0.9109\n",
      "Epoch 12/100\n",
      "127/127 [==============================] - 76s 602ms/step - loss: 0.2323 - acc: 0.9181\n",
      "298/298 [==============================] - 339s 1s/step - loss: 0.3457 - acc: 0.8806 - val_loss: 0.2323 - val_acc: 0.9181\n",
      "Epoch 13/100\n",
      "127/127 [==============================] - 80s 629ms/step - loss: 0.2238 - acc: 0.9185\n",
      "298/298 [==============================] - 319s 1s/step - loss: 0.3381 - acc: 0.8819 - val_loss: 0.2238 - val_acc: 0.9185\n",
      "Epoch 14/100\n",
      "127/127 [==============================] - 77s 603ms/step - loss: 0.2245 - acc: 0.9223\n",
      "298/298 [==============================] - 349s 1s/step - loss: 0.3327 - acc: 0.8852 - val_loss: 0.2245 - val_acc: 0.9223\n",
      "Epoch 15/100\n",
      "127/127 [==============================] - 82s 647ms/step - loss: 0.2103 - acc: 0.9265\n",
      "298/298 [==============================] - 371s 1s/step - loss: 0.3191 - acc: 0.8888 - val_loss: 0.2103 - val_acc: 0.9265\n",
      "Epoch 16/100\n",
      "127/127 [==============================] - 78s 616ms/step - loss: 0.1991 - acc: 0.9306\n",
      "298/298 [==============================] - 363s 1s/step - loss: 0.3104 - acc: 0.8922 - val_loss: 0.1991 - val_acc: 0.9306\n",
      "Epoch 17/100\n",
      "127/127 [==============================] - 76s 602ms/step - loss: 0.2051 - acc: 0.9274\n",
      "298/298 [==============================] - 362s 1s/step - loss: 0.3045 - acc: 0.8926 - val_loss: 0.2051 - val_acc: 0.9274\n",
      "Epoch 18/100\n",
      "127/127 [==============================] - 79s 619ms/step - loss: 0.1913 - acc: 0.9333\n",
      "298/298 [==============================] - 336s 1s/step - loss: 0.2929 - acc: 0.8983 - val_loss: 0.1913 - val_acc: 0.9333\n",
      "Epoch 19/100\n",
      "127/127 [==============================] - 80s 627ms/step - loss: 0.1847 - acc: 0.9329\n",
      "298/298 [==============================] - 314s 1s/step - loss: 0.2884 - acc: 0.9003 - val_loss: 0.1847 - val_acc: 0.9329\n",
      "Epoch 20/100\n",
      "127/127 [==============================] - 88s 697ms/step - loss: 0.1959 - acc: 0.9261\n",
      "298/298 [==============================] - 382s 1s/step - loss: 0.2793 - acc: 0.9022 - val_loss: 0.1959 - val_acc: 0.9261\n",
      "Epoch 21/100\n",
      "127/127 [==============================] - 85s 667ms/step - loss: 0.1841 - acc: 0.9286\n",
      "298/298 [==============================] - 370s 1s/step - loss: 0.2749 - acc: 0.9047 - val_loss: 0.1841 - val_acc: 0.9286\n",
      "Epoch 22/100\n",
      "127/127 [==============================] - 78s 616ms/step - loss: 0.1845 - acc: 0.9312\n",
      "298/298 [==============================] - 366s 1s/step - loss: 0.2699 - acc: 0.9043 - val_loss: 0.1845 - val_acc: 0.9312\n",
      "Epoch 23/100\n",
      "127/127 [==============================] - 78s 616ms/step - loss: 0.1832 - acc: 0.9283\n",
      "298/298 [==============================] - 356s 1s/step - loss: 0.2661 - acc: 0.9058 - val_loss: 0.1832 - val_acc: 0.9283\n",
      "Epoch 24/100\n",
      "127/127 [==============================] - 80s 631ms/step - loss: 0.1819 - acc: 0.9315\n",
      "298/298 [==============================] - 321s 1s/step - loss: 0.2600 - acc: 0.9092 - val_loss: 0.1819 - val_acc: 0.9315\n",
      "Epoch 25/100\n",
      "127/127 [==============================] - 85s 672ms/step - loss: 0.1829 - acc: 0.9306\n",
      "298/298 [==============================] - 354s 1s/step - loss: 0.2593 - acc: 0.9107 - val_loss: 0.1829 - val_acc: 0.9306\n",
      "Epoch 26/100\n",
      "127/127 [==============================] - 78s 616ms/step - loss: 0.1690 - acc: 0.9378\n",
      "298/298 [==============================] - 357s 1s/step - loss: 0.2498 - acc: 0.9130 - val_loss: 0.1690 - val_acc: 0.9378\n",
      "Epoch 27/100\n",
      "127/127 [==============================] - 76s 599ms/step - loss: 0.1572 - acc: 0.9447\n",
      "298/298 [==============================] - 349s 1s/step - loss: 0.2463 - acc: 0.9133 - val_loss: 0.1572 - val_acc: 0.9447\n",
      "Epoch 28/100\n",
      "127/127 [==============================] - 80s 628ms/step - loss: 0.1646 - acc: 0.9436\n",
      "298/298 [==============================] - 326s 1s/step - loss: 0.2454 - acc: 0.9146 - val_loss: 0.1646 - val_acc: 0.9436\n",
      "Epoch 29/100\n",
      "127/127 [==============================] - 74s 586ms/step - loss: 0.1560 - acc: 0.9435\n",
      "298/298 [==============================] - 377s 1s/step - loss: 0.2428 - acc: 0.9144 - val_loss: 0.1560 - val_acc: 0.9435\n",
      "Epoch 30/100\n",
      "127/127 [==============================] - 80s 632ms/step - loss: 0.1484 - acc: 0.9459\n",
      "298/298 [==============================] - 360s 1s/step - loss: 0.2352 - acc: 0.9167 - val_loss: 0.1484 - val_acc: 0.9459\n",
      "Epoch 31/100\n",
      "127/127 [==============================] - 76s 600ms/step - loss: 0.1498 - acc: 0.9472\n",
      "298/298 [==============================] - 361s 1s/step - loss: 0.2348 - acc: 0.9173 - val_loss: 0.1498 - val_acc: 0.9472\n",
      "Epoch 32/100\n",
      "127/127 [==============================] - 75s 593ms/step - loss: 0.1538 - acc: 0.9420\n",
      "298/298 [==============================] - 323s 1s/step - loss: 0.2302 - acc: 0.9190 - val_loss: 0.1538 - val_acc: 0.9420\n",
      "Epoch 33/100\n",
      "127/127 [==============================] - 89s 704ms/step - loss: 0.1538 - acc: 0.9464\n",
      "298/298 [==============================] - 357s 1s/step - loss: 0.2308 - acc: 0.9209 - val_loss: 0.1538 - val_acc: 0.9464\n",
      "Epoch 34/100\n",
      "127/127 [==============================] - 84s 661ms/step - loss: 0.1489 - acc: 0.9501\n",
      "298/298 [==============================] - 395s 1s/step - loss: 0.2235 - acc: 0.9223 - val_loss: 0.1489 - val_acc: 0.9501\n",
      "Epoch 35/100\n",
      "127/127 [==============================] - 83s 655ms/step - loss: 0.1443 - acc: 0.9498\n",
      "298/298 [==============================] - 375s 1s/step - loss: 0.2239 - acc: 0.9220 - val_loss: 0.1443 - val_acc: 0.9498\n",
      "Epoch 36/100\n",
      "127/127 [==============================] - 80s 632ms/step - loss: 0.1395 - acc: 0.9546\n",
      "298/298 [==============================] - 367s 1s/step - loss: 0.2152 - acc: 0.9248 - val_loss: 0.1395 - val_acc: 0.9546\n"
     ]
    },
    {
     "name": "stdout",
     "output_type": "stream",
     "text": [
      "Epoch 37/100\n",
      "127/127 [==============================] - 82s 645ms/step - loss: 0.1375 - acc: 0.9517\n",
      "298/298 [==============================] - 390s 1s/step - loss: 0.2122 - acc: 0.9273 - val_loss: 0.1375 - val_acc: 0.9517\n",
      "Epoch 38/100\n",
      "127/127 [==============================] - 84s 659ms/step - loss: 0.1393 - acc: 0.9489\n",
      "298/298 [==============================] - 363s 1s/step - loss: 0.2177 - acc: 0.9232 - val_loss: 0.1393 - val_acc: 0.9489\n",
      "Epoch 39/100\n",
      "127/127 [==============================] - 76s 595ms/step - loss: 0.1363 - acc: 0.9494\n",
      "298/298 [==============================] - 342s 1s/step - loss: 0.2144 - acc: 0.9241 - val_loss: 0.1363 - val_acc: 0.9494\n",
      "Epoch 40/100\n",
      "127/127 [==============================] - 78s 612ms/step - loss: 0.1337 - acc: 0.9521\n",
      "298/298 [==============================] - 343s 1s/step - loss: 0.2063 - acc: 0.9280 - val_loss: 0.1337 - val_acc: 0.9521\n",
      "Epoch 41/100\n",
      "127/127 [==============================] - 83s 655ms/step - loss: 0.1332 - acc: 0.9515\n",
      "298/298 [==============================] - 334s 1s/step - loss: 0.2075 - acc: 0.9271 - val_loss: 0.1332 - val_acc: 0.9515\n",
      "Epoch 42/100\n",
      "127/127 [==============================] - 80s 627ms/step - loss: 0.1307 - acc: 0.9549\n",
      "298/298 [==============================] - 351s 1s/step - loss: 0.2076 - acc: 0.9274 - val_loss: 0.1307 - val_acc: 0.9549\n",
      "Epoch 43/100\n",
      "127/127 [==============================] - 79s 625ms/step - loss: 0.1303 - acc: 0.9546\n",
      "298/298 [==============================] - 370s 1s/step - loss: 0.2010 - acc: 0.9307 - val_loss: 0.1303 - val_acc: 0.9546\n",
      "Epoch 44/100\n",
      "127/127 [==============================] - 80s 629ms/step - loss: 0.1248 - acc: 0.9559\n",
      "298/298 [==============================] - 360s 1s/step - loss: 0.1994 - acc: 0.9315 - val_loss: 0.1248 - val_acc: 0.9559\n",
      "Epoch 45/100\n",
      "127/127 [==============================] - 80s 626ms/step - loss: 0.1258 - acc: 0.9568\n",
      "298/298 [==============================] - 310s 1s/step - loss: 0.1982 - acc: 0.9304 - val_loss: 0.1258 - val_acc: 0.9568\n",
      "Epoch 46/100\n",
      "127/127 [==============================] - 76s 602ms/step - loss: 0.1252 - acc: 0.9560\n",
      "298/298 [==============================] - 357s 1s/step - loss: 0.1968 - acc: 0.9315 - val_loss: 0.1252 - val_acc: 0.9560\n",
      "Epoch 47/100\n",
      "127/127 [==============================] - 78s 617ms/step - loss: 0.1272 - acc: 0.9552\n",
      "298/298 [==============================] - 365s 1s/step - loss: 0.1945 - acc: 0.9318 - val_loss: 0.1272 - val_acc: 0.9552\n",
      "Epoch 48/100\n",
      "127/127 [==============================] - 80s 627ms/step - loss: 0.1222 - acc: 0.9576\n",
      "298/298 [==============================] - 381s 1s/step - loss: 0.1939 - acc: 0.9328 - val_loss: 0.1222 - val_acc: 0.9576\n",
      "Epoch 49/100\n",
      "127/127 [==============================] - 86s 674ms/step - loss: 0.1211 - acc: 0.9586\n",
      "298/298 [==============================] - 375s 1s/step - loss: 0.1898 - acc: 0.9347 - val_loss: 0.1211 - val_acc: 0.9586\n",
      "Epoch 50/100\n",
      "127/127 [==============================] - 82s 649ms/step - loss: 0.1181 - acc: 0.9591\n",
      "298/298 [==============================] - 323s 1s/step - loss: 0.1890 - acc: 0.9353 - val_loss: 0.1181 - val_acc: 0.9591\n",
      "Epoch 51/100\n",
      "127/127 [==============================] - 76s 597ms/step - loss: 0.1199 - acc: 0.9586\n",
      "298/298 [==============================] - 386s 1s/step - loss: 0.1871 - acc: 0.9359 - val_loss: 0.1199 - val_acc: 0.9586\n",
      "Epoch 52/100\n",
      "127/127 [==============================] - 92s 725ms/step - loss: 0.1174 - acc: 0.9592\n",
      "298/298 [==============================] - 381s 1s/step - loss: 0.1840 - acc: 0.9370 - val_loss: 0.1174 - val_acc: 0.9592\n",
      "Epoch 53/100\n",
      "127/127 [==============================] - 82s 649ms/step - loss: 0.1226 - acc: 0.9583\n",
      "298/298 [==============================] - 361s 1s/step - loss: 0.1799 - acc: 0.9377 - val_loss: 0.1226 - val_acc: 0.9583\n",
      "Epoch 54/100\n",
      "127/127 [==============================] - 89s 701ms/step - loss: 0.1167 - acc: 0.9591\n",
      "298/298 [==============================] - 372s 1s/step - loss: 0.1817 - acc: 0.9375 - val_loss: 0.1167 - val_acc: 0.9591\n",
      "Epoch 55/100\n",
      "127/127 [==============================] - 82s 644ms/step - loss: 0.1171 - acc: 0.9591\n",
      "298/298 [==============================] - 396s 1s/step - loss: 0.1863 - acc: 0.9366 - val_loss: 0.1171 - val_acc: 0.9591\n",
      "Epoch 56/100\n",
      "127/127 [==============================] - 83s 650ms/step - loss: 0.1152 - acc: 0.9607\n",
      "298/298 [==============================] - 347s 1s/step - loss: 0.1780 - acc: 0.9364 - val_loss: 0.1152 - val_acc: 0.9607\n",
      "Epoch 57/100\n",
      "127/127 [==============================] - 79s 626ms/step - loss: 0.1137 - acc: 0.9611\n",
      "298/298 [==============================] - 351s 1s/step - loss: 0.1768 - acc: 0.9388 - val_loss: 0.1137 - val_acc: 0.9611\n",
      "Epoch 58/100\n",
      "127/127 [==============================] - 83s 654ms/step - loss: 0.1163 - acc: 0.9597\n",
      "298/298 [==============================] - 352s 1s/step - loss: 0.1762 - acc: 0.9381 - val_loss: 0.1163 - val_acc: 0.9597\n",
      "Epoch 59/100\n",
      "127/127 [==============================] - 74s 583ms/step - loss: 0.1118 - acc: 0.9631\n",
      "298/298 [==============================] - 348s 1s/step - loss: 0.1730 - acc: 0.9402 - val_loss: 0.1118 - val_acc: 0.9631\n",
      "Epoch 60/100\n",
      "127/127 [==============================] - 79s 624ms/step - loss: 0.1096 - acc: 0.9621\n",
      "298/298 [==============================] - 361s 1s/step - loss: 0.1752 - acc: 0.9391 - val_loss: 0.1096 - val_acc: 0.9621\n",
      "Epoch 61/100\n",
      "127/127 [==============================] - 80s 633ms/step - loss: 0.1080 - acc: 0.9636\n",
      "298/298 [==============================] - 321s 1s/step - loss: 0.1738 - acc: 0.9376 - val_loss: 0.1080 - val_acc: 0.9636\n",
      "Epoch 62/100\n",
      "127/127 [==============================] - 77s 605ms/step - loss: 0.1092 - acc: 0.9626\n",
      "298/298 [==============================] - 346s 1s/step - loss: 0.1711 - acc: 0.9414 - val_loss: 0.1092 - val_acc: 0.9626\n",
      "Epoch 63/100\n",
      "127/127 [==============================] - 78s 617ms/step - loss: 0.1090 - acc: 0.9637\n",
      "298/298 [==============================] - 370s 1s/step - loss: 0.1695 - acc: 0.9417 - val_loss: 0.1090 - val_acc: 0.9637\n",
      "Epoch 64/100\n",
      "127/127 [==============================] - 84s 660ms/step - loss: 0.1073 - acc: 0.9633\n",
      "298/298 [==============================] - 366s 1s/step - loss: 0.1709 - acc: 0.9422 - val_loss: 0.1073 - val_acc: 0.9633\n",
      "Epoch 65/100\n",
      "127/127 [==============================] - 82s 643ms/step - loss: 0.1115 - acc: 0.9619\n",
      "298/298 [==============================] - 324s 1s/step - loss: 0.1663 - acc: 0.9430 - val_loss: 0.1115 - val_acc: 0.9619\n",
      "Epoch 66/100\n",
      "127/127 [==============================] - 80s 633ms/step - loss: 0.1139 - acc: 0.9604\n",
      "298/298 [==============================] - 331s 1s/step - loss: 0.1673 - acc: 0.9419 - val_loss: 0.1139 - val_acc: 0.9604\n",
      "Epoch 67/100\n",
      "127/127 [==============================] - 80s 627ms/step - loss: 0.1113 - acc: 0.9626\n",
      "298/298 [==============================] - 359s 1s/step - loss: 0.1654 - acc: 0.9422 - val_loss: 0.1113 - val_acc: 0.9626\n",
      "Epoch 68/100\n",
      "127/127 [==============================] - 81s 640ms/step - loss: 0.1080 - acc: 0.9627\n",
      "298/298 [==============================] - 367s 1s/step - loss: 0.1655 - acc: 0.9433 - val_loss: 0.1080 - val_acc: 0.9627\n",
      "Epoch 69/100\n",
      "127/127 [==============================] - 80s 631ms/step - loss: 0.1091 - acc: 0.9629\n",
      "298/298 [==============================] - 359s 1s/step - loss: 0.1654 - acc: 0.9435 - val_loss: 0.1091 - val_acc: 0.9629\n",
      "Epoch 70/100\n",
      "127/127 [==============================] - 77s 605ms/step - loss: 0.1104 - acc: 0.9622\n",
      "298/298 [==============================] - 336s 1s/step - loss: 0.1599 - acc: 0.9456 - val_loss: 0.1104 - val_acc: 0.9622\n",
      "Epoch 71/100\n",
      "127/127 [==============================] - 80s 626ms/step - loss: 0.1059 - acc: 0.9638\n",
      "298/298 [==============================] - 320s 1s/step - loss: 0.1633 - acc: 0.9455 - val_loss: 0.1059 - val_acc: 0.9638\n",
      "Epoch 72/100\n",
      "127/127 [==============================] - 76s 598ms/step - loss: 0.1066 - acc: 0.9621\n",
      "298/298 [==============================] - 343s 1s/step - loss: 0.1627 - acc: 0.9432 - val_loss: 0.1066 - val_acc: 0.9621\n",
      "Epoch 73/100\n",
      "127/127 [==============================] - 75s 594ms/step - loss: 0.1037 - acc: 0.9636\n",
      "298/298 [==============================] - 350s 1s/step - loss: 0.1628 - acc: 0.9453 - val_loss: 0.1037 - val_acc: 0.9636\n"
     ]
    },
    {
     "name": "stdout",
     "output_type": "stream",
     "text": [
      "Epoch 74/100\n",
      "127/127 [==============================] - 81s 637ms/step - loss: 0.1042 - acc: 0.9636\n",
      "298/298 [==============================] - 318s 1s/step - loss: 0.1604 - acc: 0.9452 - val_loss: 0.1042 - val_acc: 0.9636\n",
      "Epoch 75/100\n",
      "127/127 [==============================] - 76s 597ms/step - loss: 0.1039 - acc: 0.9638\n",
      "298/298 [==============================] - 372s 1s/step - loss: 0.1626 - acc: 0.9446 - val_loss: 0.1039 - val_acc: 0.9638\n",
      "Epoch 76/100\n",
      "127/127 [==============================] - 83s 651ms/step - loss: 0.1015 - acc: 0.9649\n",
      "298/298 [==============================] - 371s 1s/step - loss: 0.1619 - acc: 0.9445 - val_loss: 0.1015 - val_acc: 0.9649\n",
      "Epoch 77/100\n",
      "127/127 [==============================] - 78s 614ms/step - loss: 0.1036 - acc: 0.9631\n",
      "298/298 [==============================] - 350s 1s/step - loss: 0.1584 - acc: 0.9453 - val_loss: 0.1036 - val_acc: 0.9631\n",
      "Epoch 78/100\n",
      "127/127 [==============================] - 89s 704ms/step - loss: 0.1010 - acc: 0.9653\n",
      "298/298 [==============================] - 358s 1s/step - loss: 0.1556 - acc: 0.9473 - val_loss: 0.1010 - val_acc: 0.9653\n",
      "Epoch 79/100\n",
      "127/127 [==============================] - 79s 622ms/step - loss: 0.1004 - acc: 0.9649\n",
      "298/298 [==============================] - 353s 1s/step - loss: 0.1570 - acc: 0.9472 - val_loss: 0.1004 - val_acc: 0.9649\n",
      "Epoch 80/100\n",
      "127/127 [==============================] - 79s 625ms/step - loss: 0.1008 - acc: 0.9622\n",
      "298/298 [==============================] - 319s 1s/step - loss: 0.1545 - acc: 0.9465 - val_loss: 0.1008 - val_acc: 0.9622\n",
      "Epoch 81/100\n",
      "127/127 [==============================] - 79s 626ms/step - loss: 0.1011 - acc: 0.9637\n",
      "298/298 [==============================] - 350s 1s/step - loss: 0.1572 - acc: 0.9468 - val_loss: 0.1011 - val_acc: 0.9637\n",
      "Epoch 82/100\n",
      "127/127 [==============================] - 78s 616ms/step - loss: 0.0996 - acc: 0.9664\n",
      "298/298 [==============================] - 354s 1s/step - loss: 0.1571 - acc: 0.9454 - val_loss: 0.0996 - val_acc: 0.9664\n",
      "Epoch 83/100\n",
      "127/127 [==============================] - 77s 609ms/step - loss: 0.1029 - acc: 0.9627\n",
      "298/298 [==============================] - 355s 1s/step - loss: 0.1531 - acc: 0.9484 - val_loss: 0.1029 - val_acc: 0.9627\n",
      "Epoch 84/100\n",
      "127/127 [==============================] - 77s 609ms/step - loss: 0.1004 - acc: 0.9636\n",
      "298/298 [==============================] - 312s 1s/step - loss: 0.1524 - acc: 0.9487 - val_loss: 0.1004 - val_acc: 0.9636\n",
      "Epoch 85/100\n",
      "127/127 [==============================] - 79s 622ms/step - loss: 0.0991 - acc: 0.9640\n",
      "298/298 [==============================] - 340s 1s/step - loss: 0.1546 - acc: 0.9457 - val_loss: 0.0991 - val_acc: 0.9640\n",
      "Epoch 86/100\n",
      "127/127 [==============================] - 86s 674ms/step - loss: 0.0979 - acc: 0.9658\n",
      "298/298 [==============================] - 359s 1s/step - loss: 0.1537 - acc: 0.9469 - val_loss: 0.0979 - val_acc: 0.9658\n",
      "Epoch 87/100\n",
      "127/127 [==============================] - 84s 665ms/step - loss: 0.0996 - acc: 0.9654\n",
      "298/298 [==============================] - 373s 1s/step - loss: 0.1495 - acc: 0.9486 - val_loss: 0.0996 - val_acc: 0.9654\n",
      "Epoch 88/100\n",
      "127/127 [==============================] - 85s 668ms/step - loss: 0.0978 - acc: 0.9654\n",
      "298/298 [==============================] - 366s 1s/step - loss: 0.1509 - acc: 0.9478 - val_loss: 0.0978 - val_acc: 0.9654\n",
      "Epoch 89/100\n",
      "127/127 [==============================] - 84s 658ms/step - loss: 0.0982 - acc: 0.9659\n",
      "298/298 [==============================] - 351s 1s/step - loss: 0.1533 - acc: 0.9476 - val_loss: 0.0982 - val_acc: 0.9659\n",
      "Epoch 90/100\n",
      "127/127 [==============================] - 79s 620ms/step - loss: 0.0987 - acc: 0.9647\n",
      "298/298 [==============================] - 351s 1s/step - loss: 0.1503 - acc: 0.9487 - val_loss: 0.0987 - val_acc: 0.9647\n",
      "Epoch 91/100\n",
      "127/127 [==============================] - 81s 638ms/step - loss: 0.0975 - acc: 0.9645\n",
      "298/298 [==============================] - 368s 1s/step - loss: 0.1524 - acc: 0.9472 - val_loss: 0.0975 - val_acc: 0.9645\n",
      "Epoch 92/100\n",
      "127/127 [==============================] - 80s 634ms/step - loss: 0.0983 - acc: 0.9649\n",
      "298/298 [==============================] - 335s 1s/step - loss: 0.1499 - acc: 0.9481 - val_loss: 0.0983 - val_acc: 0.9649\n",
      "Epoch 93/100\n",
      "127/127 [==============================] - 79s 623ms/step - loss: 0.0964 - acc: 0.9660\n",
      "298/298 [==============================] - 309s 1s/step - loss: 0.1486 - acc: 0.9494 - val_loss: 0.0964 - val_acc: 0.9660\n",
      "Epoch 94/100\n",
      "127/127 [==============================] - 76s 596ms/step - loss: 0.0959 - acc: 0.9661\n",
      "298/298 [==============================] - 339s 1s/step - loss: 0.1459 - acc: 0.9501 - val_loss: 0.0959 - val_acc: 0.9661\n",
      "Epoch 95/100\n",
      "127/127 [==============================] - 83s 656ms/step - loss: 0.0972 - acc: 0.9666\n",
      "298/298 [==============================] - 352s 1s/step - loss: 0.1490 - acc: 0.9496 - val_loss: 0.0972 - val_acc: 0.9666\n",
      "Epoch 96/100\n",
      "127/127 [==============================] - 86s 680ms/step - loss: 0.0967 - acc: 0.9665\n",
      "298/298 [==============================] - 364s 1s/step - loss: 0.1489 - acc: 0.9492 - val_loss: 0.0967 - val_acc: 0.9665\n",
      "Epoch 97/100\n",
      "127/127 [==============================] - 88s 691ms/step - loss: 0.0970 - acc: 0.9663\n",
      "298/298 [==============================] - 366s 1s/step - loss: 0.1488 - acc: 0.9510 - val_loss: 0.0970 - val_acc: 0.9663\n",
      "Epoch 98/100\n",
      "127/127 [==============================] - 87s 683ms/step - loss: 0.0953 - acc: 0.9668\n",
      "298/298 [==============================] - 362s 1s/step - loss: 0.1498 - acc: 0.9493 - val_loss: 0.0953 - val_acc: 0.9668\n",
      "Epoch 99/100\n",
      "127/127 [==============================] - 84s 661ms/step - loss: 0.0960 - acc: 0.9672\n",
      "298/298 [==============================] - 362s 1s/step - loss: 0.1451 - acc: 0.9504 - val_loss: 0.0960 - val_acc: 0.9672\n",
      "Epoch 100/100\n",
      "127/127 [==============================] - 84s 665ms/step - loss: 0.0965 - acc: 0.9668\n",
      "298/298 [==============================] - 366s 1s/step - loss: 0.1444 - acc: 0.9517 - val_loss: 0.0965 - val_acc: 0.9668\n"
     ]
    }
   ],
   "source": [
    "# train the head for few epochs\n",
    "H = model.fit_generator(\n",
    "    trainGen.generator(),\n",
    "    steps_per_epoch=trainGen.numImages//batch_size,\n",
    "    validation_data=valGen.generator(),\n",
    "    validation_steps=valGen.numImages//batch_size,\n",
    "    epochs=epoch_num,\n",
    "    max_queue_size=20,\n",
    "    verbose=1,\n",
    "    callbacks=callbacks,\n",
    "    class_weight=classWeight\n",
    ")"
   ]
  },
  {
   "cell_type": "code",
   "execution_count": 15,
   "metadata": {},
   "outputs": [],
   "source": [
    "model.save(f\"{dbBase}//cadrepo_10class_model.pt\")"
   ]
  },
  {
   "cell_type": "code",
   "execution_count": null,
   "outputs": [],
   "source": [
    "import h5py\n",
    "from tensorflow.keras.utils import to_categorical\n",
    "validDB = h5py.File(dbValidPath, mode=\"r\")\n",
    "testx = validDB[\"images\"]\n",
    "testy = to_categorical(validDB[\"labels\"], class_num)"
   ],
   "metadata": {
    "collapsed": false,
    "pycharm": {
     "name": "#%%\n"
    }
   }
  },
  {
   "cell_type": "code",
   "execution_count": null,
   "outputs": [],
   "source": [
    "preds = model.predict(testx, batch_size=batch_size)"
   ],
   "metadata": {
    "collapsed": false,
    "pycharm": {
     "name": "#%%\n"
    }
   }
  },
  {
   "cell_type": "code",
   "execution_count": null,
   "outputs": [],
   "source": [
    "print(classification_report(testy.argmax(axis=1),\n",
    "                            preds.argmax(axis=1)))"
   ],
   "metadata": {
    "collapsed": false,
    "pycharm": {
     "name": "#%%\n"
    }
   }
  },
  {
   "cell_type": "code",
   "execution_count": null,
   "outputs": [],
   "source": [
    "from sklearn.metrics import confusion_matrix\n",
    "cm = confusion_matrix(testy.argmax(axis=1),\n",
    "                 preds.argmax(axis=1))\n",
    "cm"
   ],
   "metadata": {
    "collapsed": false,
    "pycharm": {
     "name": "#%%\n"
    }
   }
  },
  {
   "cell_type": "code",
   "execution_count": null,
   "outputs": [],
   "source": [
    "import pandas as pd\n",
    "import matplotlib.pyplot as plt\n",
    "import seaborn as sns\n",
    "\n",
    "def print_confusion_matrix(confusion_matrix, class_names, figsize = (10,7), fontsize=14):\n",
    "\n",
    "    df_cm = pd.DataFrame(\n",
    "        confusion_matrix, index=class_names, columns=class_names, \n",
    "    )\n",
    "    fig = plt.figure(figsize=figsize)\n",
    "    try:\n",
    "        heatmap = sns.heatmap(df_cm, annot=True, fmt=\"d\")\n",
    "    except ValueError:\n",
    "        raise ValueError(\"Confusion matrix values must be integers.\")\n",
    "    heatmap.yaxis.set_ticklabels(heatmap.yaxis.get_ticklabels(), rotation=0, ha='right', fontsize=fontsize)\n",
    "    heatmap.xaxis.set_ticklabels(heatmap.xaxis.get_ticklabels(), rotation=45, ha='right', fontsize=fontsize)\n",
    "    plt.ylabel('True label')\n",
    "    plt.xlabel('Predicted label')\n",
    "    return fig"
   ],
   "metadata": {
    "collapsed": false,
    "pycharm": {
     "name": "#%%\n"
    }
   }
  },
  {
   "cell_type": "code",
   "execution_count": null,
   "outputs": [],
   "source": [
    "class_names = [\n",
    "    'Assembly',\n",
    "    'Bearings',\n",
    "    'Bolts',\n",
    "    'Brackets',\n",
    "    'Bushing',\n",
    "    'Bushing_Liners',\n",
    "    'Casting',\n",
    "    'Collage',\n",
    "    'Collets',\n",
    "    'Forming'\n",
    "]"
   ],
   "metadata": {
    "collapsed": false,
    "pycharm": {
     "name": "#%%\n"
    }
   }
  },
  {
   "cell_type": "code",
   "execution_count": null,
   "outputs": [],
   "source": [
    "print_confusion_matrix(cm, class_names=class_names)"
   ],
   "metadata": {
    "collapsed": false,
    "pycharm": {
     "name": "#%%\n"
    }
   }
  },
  {
   "cell_type": "code",
   "execution_count": 17,
   "metadata": {},
   "outputs": [],
   "source": []
  },
  {
   "cell_type": "code",
   "execution_count": 19,
   "metadata": {},
   "outputs": [
    {
     "data": {
      "text/plain": [
       "array([[7.8120948e-08, 5.2015114e-10, 2.1041895e-08, ..., 7.1358492e-08,\n",
       "        5.3835976e-08, 8.2936574e-05],\n",
       "       [9.1015778e-07, 1.6525485e-07, 8.6915591e-08, ..., 2.4793183e-06,\n",
       "        9.2735434e-07, 9.2613467e-05],\n",
       "       [1.0536983e-07, 3.9073449e-12, 3.6103056e-09, ..., 1.0705749e-08,\n",
       "        1.7865561e-09, 1.4722654e-04],\n",
       "       ...,\n",
       "       [1.2451154e-06, 3.6845258e-09, 3.0475496e-07, ..., 2.0902679e-07,\n",
       "        1.5291604e-07, 6.0345149e-03],\n",
       "       [2.7174092e-05, 1.8306363e-04, 3.1854997e-06, ..., 2.0682257e-04,\n",
       "        4.6612160e-05, 1.1635312e-04],\n",
       "       [8.9778121e-07, 1.8688555e-08, 3.2679662e-08, ..., 1.5470148e-06,\n",
       "        1.5741876e-06, 4.6884536e-04]], dtype=float32)"
      ]
     },
     "execution_count": 19,
     "metadata": {},
     "output_type": "execute_result"
    }
   ],
   "source": [
    "preds = model.predict(testx, batch_size=batch_size)"
   ]
  },
  {
   "cell_type": "code",
   "execution_count": 21,
   "metadata": {},
   "outputs": [
    {
     "name": "stdout",
     "output_type": "stream",
     "text": [
      "              precision    recall  f1-score   support\n",
      "\n",
      "           0       0.94      0.88      0.91       243\n",
      "           1       1.00      1.00      1.00      1410\n",
      "           2       1.00      1.00      1.00       267\n",
      "           3       0.99      1.00      0.99      1313\n",
      "           4       0.99      1.00      0.99      2061\n",
      "           5       0.98      1.00      0.99       214\n",
      "           6       0.94      0.91      0.92      1532\n",
      "           7       1.00      0.29      0.44         7\n",
      "           8       1.00      1.00      1.00        21\n",
      "           9       0.90      0.91      0.91      1118\n",
      "\n",
      "    accuracy                           0.97      8186\n",
      "   macro avg       0.97      0.90      0.92      8186\n",
      "weighted avg       0.97      0.97      0.97      8186\n",
      "\n"
     ]
    }
   ],
   "source": [
    "print(classification_report(testy.argmax(axis=1),\n",
    "                            preds.argmax(axis=1)))"
   ]
  },
  {
   "cell_type": "code",
   "execution_count": 22,
   "metadata": {},
   "outputs": [
    {
     "data": {
      "text/plain": [
       "array([[ 213,    0,    0,    0,    0,    0,   22,    0,    0,    8],\n",
       "       [   0, 1410,    0,    0,    0,    0,    0,    0,    0,    0],\n",
       "       [   0,    0,  267,    0,    0,    0,    0,    0,    0,    0],\n",
       "       [   0,    0,    0, 1311,    0,    0,    2,    0,    0,    0],\n",
       "       [   0,    0,    0,    0, 2057,    0,    4,    0,    0,    0],\n",
       "       [   0,    0,    0,    0,    0,  214,    0,    0,    0,    0],\n",
       "       [   8,    2,    0,    6,   11,    2, 1398,    0,    0,  105],\n",
       "       [   0,    1,    0,    0,    0,    1,    2,    2,    0,    1],\n",
       "       [   0,    0,    0,    0,    0,    0,    0,    0,   21,    0],\n",
       "       [   6,    0,    1,   10,   12,    1,   67,    0,    0, 1021]])"
      ]
     },
     "execution_count": 22,
     "metadata": {},
     "output_type": "execute_result"
    }
   ],
   "source": [
    "from sklearn.metrics import confusion_matrix\n",
    "cm = confusion_matrix(testy.argmax(axis=1),\n",
    "                 preds.argmax(axis=1))\n",
    "cm"
   ]
  },
  {
   "cell_type": "code",
   "execution_count": 23,
   "metadata": {},
   "outputs": [],
   "source": [
    "import pandas as pd\n",
    "import matplotlib.pyplot as plt\n",
    "import seaborn as sns\n",
    "\n",
    "def print_confusion_matrix(confusion_matrix, class_names, figsize = (10,7), fontsize=14):\n",
    "\n",
    "    df_cm = pd.DataFrame(\n",
    "        confusion_matrix, index=class_names, columns=class_names, \n",
    "    )\n",
    "    fig = plt.figure(figsize=figsize)\n",
    "    try:\n",
    "        heatmap = sns.heatmap(df_cm, annot=True, fmt=\"d\")\n",
    "    except ValueError:\n",
    "        raise ValueError(\"Confusion matrix values must be integers.\")\n",
    "    heatmap.yaxis.set_ticklabels(heatmap.yaxis.get_ticklabels(), rotation=0, ha='right', fontsize=fontsize)\n",
    "    heatmap.xaxis.set_ticklabels(heatmap.xaxis.get_ticklabels(), rotation=45, ha='right', fontsize=fontsize)\n",
    "    plt.ylabel('True label')\n",
    "    plt.xlabel('Predicted label')\n",
    "    return fig"
   ]
  },
  {
   "cell_type": "code",
   "execution_count": 26,
   "metadata": {},
   "outputs": [],
   "source": [
    "class_names = [\n",
    "    'Assembly',\n",
    "    'Bearings',\n",
    "    'Bolts',\n",
    "    'Brackets',\n",
    "    'Bushing',\n",
    "    'Bushing_Liners',\n",
    "    'Casting',\n",
    "    'Collage',\n",
    "    'Collets',\n",
    "    'Forming'\n",
    "]"
   ]
  },
  {
   "cell_type": "code",
   "execution_count": 27,
   "metadata": {},
   "outputs": [
    {
     "data": {
      "image/png": "[encoded data removed]",
      "text/plain": [
       "<Figure size 720x504 with 2 Axes>"
      ]
     },
     "execution_count": 27,
     "metadata": {},
     "output_type": "execute_result"
    },
    {
     "data": {
      "image/png": "[encoded data removed]",
      "text/plain": [
       "<Figure size 720x504 with 2 Axes>"
      ]
     },
     "metadata": {},
     "output_type": "display_data"
    }
   ],
   "source": [
    "print_confusion_matrix(cm, class_names=class_names)"
   ]
  },
  {
   "cell_type": "code",
   "execution_count": null,
   "metadata": {},
   "outputs": [],
   "source": []
  }
 ],
 "metadata": {
  "kernelspec": {
   "display_name": "Python 3",
   "language": "python",
   "name": "python3"
  },
  "language_info": {
   "codemirror_mode": {
    "name": "ipython",
    "version": 3
   },
   "file_extension": ".py",
   "mimetype": "text/x-python",
   "name": "python",
   "nbconvert_exporter": "python",
   "pygments_lexer": "ipython3",
   "version": "3.6.7"
  }
 },
 "nbformat": 4,
 "nbformat_minor": 1
}