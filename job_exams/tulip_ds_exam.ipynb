{
 "cells": [
  {
   "cell_type": "code",
   "execution_count": 1,
   "metadata": {
    "colab": {},
    "colab_type": "code",
    "id": "271T5rNSc1qm",
    "pycharm": {
     "name": "#%%\n"
    }
   },
   "outputs": [],
   "source": [
    "# If additional packages need to be used, uncomment the last two lines of this cell and replace <package list> with \n",
    "# a list of additional packages.\n",
    "# This will ensure the notebook has all the dependencies satisfied and works everywhere.\n",
    "\n",
    "#import sys\n",
    "#!{sys.executable} -m pip install <package list>"
   ]
  },
  {
   "cell_type": "markdown",
   "metadata": {
    "colab_type": "text",
    "id": "LNeK6ftQc1qq",
    "pycharm": {
     "name": "#%% md\n"
    }
   },
   "source": [
    "### Libraries"
   ]
  },
  {
   "cell_type": "markdown",
   "metadata": {
    "pycharm": {
     "name": "#%% md\n"
    }
   },
   "source": [
    "#### Here, we will import all the necessary libraries required to do the analysis."
   ]
  },
  {
   "cell_type": "code",
   "execution_count": 1,
   "metadata": {
    "colab": {},
    "colab_type": "code",
    "id": "JjE1ypoyc1qq",
    "pycharm": {
     "name": "#%%\n"
    }
   },
   "outputs": [],
   "source": [
    "import numpy as np\n",
    "import pandas as pd\n",
    "import matplotlib.pyplot as plt\n",
    "import seaborn as sns\n",
    "\n",
    "from warnings import filterwarnings\n",
    "\n",
    "pd.set_option('display.float_format', lambda num:'%1.3f'%num)\n",
    "pd.set_option('display.max_columns', 99)\n",
    "filterwarnings('ignore')"
   ]
  },
  {
   "cell_type": "code",
   "execution_count": 475,
   "metadata": {
    "pycharm": {
     "name": "#%%\n"
    }
   },
   "outputs": [],
   "source": [
    "import pandas as pd\n",
    "import datetime as dt\n",
    "from pandas.plotting import scatter_matrix \n",
    "from sklearn.preprocessing import StandardScaler, OneHotEncoder, LabelEncoder \n",
    "from sklearn.model_selection import train_test_split \n",
    "from sklearn.model_selection import KFold \n",
    "from sklearn.model_selection import cross_val_score \n",
    "from sklearn.model_selection import GridSearchCV \n",
    "from sklearn.pipeline import Pipeline, make_pipeline\n",
    "from sklearn.compose import make_column_transformer\n",
    "\n",
    "from sklearn.metrics import classification_report \n",
    "from sklearn.metrics import confusion_matrix \n",
    "from sklearn.metrics import accuracy_score \n",
    "\n",
    "from sklearn.linear_model import LogisticRegression \n",
    "from sklearn.tree import DecisionTreeClassifier \n",
    "from sklearn.neighbors import KNeighborsClassifier \n",
    "from sklearn.discriminant_analysis import LinearDiscriminantAnalysis \n",
    "from sklearn.naive_bayes import GaussianNB \n",
    "from sklearn.svm import SVC \n",
    "from sklearn.ensemble import AdaBoostClassifier \n",
    "from sklearn.ensemble import GradientBoostingClassifier \n",
    "from sklearn.ensemble import RandomForestClassifier\n",
    "from sklearn.ensemble import ExtraTreesClassifier"
   ]
  },
  {
   "cell_type": "markdown",
   "metadata": {
    "colab_type": "text",
    "id": "3XiMx8grc1qs",
    "pycharm": {
     "name": "#%% md\n"
    }
   },
   "source": [
    "# Data Description\n",
    "\n",
    "Feature | Description\n",
    ":---|:---\n",
    "app_id |The unique application id.\n",
    "category | The category under which app is categorized on the store.\n",
    "reviews| The number of reviews received on the store.\n",
    "size| Size of the app available for download (in KB/MB)\n",
    "installs| The number of people who had installed this app atleast once.\n",
    "price| The price of the app (in US $)\n",
    "suitable_for| Rating given to app based on the usage and content.\n",
    "last_update| When was the app updated last time by the developers.\n",
    "latest_ver| The latest version of the app available for download.\n",
    "popularity| User popularity (High/Low)"
   ]
  },
  {
   "cell_type": "markdown",
   "metadata": {
    "colab_type": "text",
    "id": "dd-AUgk5c1qz",
    "pycharm": {
     "name": "#%% md\n"
    }
   },
   "source": [
    "# Data Wrangling & Visualization \n",
    "\n",
    "\n"
   ]
  },
  {
   "cell_type": "code",
   "execution_count": 476,
   "metadata": {
    "colab": {},
    "colab_type": "code",
    "id": "bPWIkZSyasKH",
    "pycharm": {
     "name": "#%%\n"
    }
   },
   "outputs": [
    {
     "data": {
      "text/html": [
       "<div>\n",
       "<style scoped>\n",
       "    .dataframe tbody tr th:only-of-type {\n",
       "        vertical-align: middle;\n",
       "    }\n",
       "\n",
       "    .dataframe tbody tr th {\n",
       "        vertical-align: top;\n",
       "    }\n",
       "\n",
       "    .dataframe thead th {\n",
       "        text-align: right;\n",
       "    }\n",
       "</style>\n",
       "<table border=\"1\" class=\"dataframe\">\n",
       "  <thead>\n",
       "    <tr style=\"text-align: right;\">\n",
       "      <th></th>\n",
       "      <th>app_id</th>\n",
       "      <th>category</th>\n",
       "      <th>reviews</th>\n",
       "      <th>size</th>\n",
       "      <th>installs</th>\n",
       "      <th>price</th>\n",
       "      <th>suitable_for</th>\n",
       "      <th>last_update</th>\n",
       "      <th>latest_ver</th>\n",
       "      <th>popularity</th>\n",
       "    </tr>\n",
       "  </thead>\n",
       "  <tbody>\n",
       "    <tr>\n",
       "      <th>0</th>\n",
       "      <td>330090</td>\n",
       "      <td>PERSONALIZATION</td>\n",
       "      <td>4</td>\n",
       "      <td>511k</td>\n",
       "      <td>50+</td>\n",
       "      <td>0</td>\n",
       "      <td>Everyone</td>\n",
       "      <td>December 31, 2016</td>\n",
       "      <td>1.4</td>\n",
       "      <td>High</td>\n",
       "    </tr>\n",
       "    <tr>\n",
       "      <th>1</th>\n",
       "      <td>226147</td>\n",
       "      <td>GAME</td>\n",
       "      <td>568391</td>\n",
       "      <td>5.2M</td>\n",
       "      <td>5,000,000+</td>\n",
       "      <td>0</td>\n",
       "      <td>Teen</td>\n",
       "      <td>July 1, 2014</td>\n",
       "      <td>4.3.1</td>\n",
       "      <td>High</td>\n",
       "    </tr>\n",
       "    <tr>\n",
       "      <th>2</th>\n",
       "      <td>107000</td>\n",
       "      <td>FAMILY</td>\n",
       "      <td>144</td>\n",
       "      <td>70M</td>\n",
       "      <td>1,000+</td>\n",
       "      <td>$2.99</td>\n",
       "      <td>Teen</td>\n",
       "      <td>January 26, 2018</td>\n",
       "      <td>1.0.0</td>\n",
       "      <td>High</td>\n",
       "    </tr>\n",
       "    <tr>\n",
       "      <th>3</th>\n",
       "      <td>217582</td>\n",
       "      <td>FAMILY</td>\n",
       "      <td>1499466</td>\n",
       "      <td>96M</td>\n",
       "      <td>10,000,000+</td>\n",
       "      <td>0</td>\n",
       "      <td>Teen</td>\n",
       "      <td>July 24, 2018</td>\n",
       "      <td>1.25.0</td>\n",
       "      <td>High</td>\n",
       "    </tr>\n",
       "    <tr>\n",
       "      <th>4</th>\n",
       "      <td>370113</td>\n",
       "      <td>DATING</td>\n",
       "      <td>84</td>\n",
       "      <td>4.5M</td>\n",
       "      <td>1,000+</td>\n",
       "      <td>0</td>\n",
       "      <td>Mature 17+</td>\n",
       "      <td>July 6, 2018</td>\n",
       "      <td>8.2</td>\n",
       "      <td>High</td>\n",
       "    </tr>\n",
       "  </tbody>\n",
       "</table>\n",
       "</div>"
      ],
      "text/plain": [
       "   app_id         category  reviews  size     installs  price suitable_for  \\\n",
       "0  330090  PERSONALIZATION        4  511k          50+      0     Everyone   \n",
       "1  226147             GAME   568391  5.2M   5,000,000+      0         Teen   \n",
       "2  107000           FAMILY      144   70M       1,000+  $2.99         Teen   \n",
       "3  217582           FAMILY  1499466   96M  10,000,000+      0         Teen   \n",
       "4  370113           DATING       84  4.5M       1,000+      0   Mature 17+   \n",
       "\n",
       "         last_update latest_ver popularity  \n",
       "0  December 31, 2016        1.4       High  \n",
       "1       July 1, 2014      4.3.1       High  \n",
       "2   January 26, 2018      1.0.0       High  \n",
       "3      July 24, 2018     1.25.0       High  \n",
       "4       July 6, 2018        8.2       High  "
      ]
     },
     "execution_count": 476,
     "metadata": {},
     "output_type": "execute_result"
    }
   ],
   "source": [
    "train = pd.read_csv(\"train.csv\")\n",
    "train.head()"
   ]
  },
  {
   "cell_type": "code",
   "execution_count": 477,
   "metadata": {
    "colab": {},
    "colab_type": "code",
    "id": "dNTDbVpS3PNV",
    "pycharm": {
     "name": "#%%\n"
    }
   },
   "outputs": [
    {
     "data": {
      "text/html": [
       "<div>\n",
       "<style scoped>\n",
       "    .dataframe tbody tr th:only-of-type {\n",
       "        vertical-align: middle;\n",
       "    }\n",
       "\n",
       "    .dataframe tbody tr th {\n",
       "        vertical-align: top;\n",
       "    }\n",
       "\n",
       "    .dataframe thead th {\n",
       "        text-align: right;\n",
       "    }\n",
       "</style>\n",
       "<table border=\"1\" class=\"dataframe\">\n",
       "  <thead>\n",
       "    <tr style=\"text-align: right;\">\n",
       "      <th></th>\n",
       "      <th>app_id</th>\n",
       "      <th>reviews</th>\n",
       "    </tr>\n",
       "  </thead>\n",
       "  <tbody>\n",
       "    <tr>\n",
       "      <th>count</th>\n",
       "      <td>1975.000</td>\n",
       "      <td>1975.000</td>\n",
       "    </tr>\n",
       "    <tr>\n",
       "      <th>mean</th>\n",
       "      <td>490685.787</td>\n",
       "      <td>198816.163</td>\n",
       "    </tr>\n",
       "    <tr>\n",
       "      <th>std</th>\n",
       "      <td>288098.937</td>\n",
       "      <td>1494090.662</td>\n",
       "    </tr>\n",
       "    <tr>\n",
       "      <th>min</th>\n",
       "      <td>1160.000</td>\n",
       "      <td>1.000</td>\n",
       "    </tr>\n",
       "    <tr>\n",
       "      <th>25%</th>\n",
       "      <td>239249.500</td>\n",
       "      <td>33.000</td>\n",
       "    </tr>\n",
       "    <tr>\n",
       "      <th>50%</th>\n",
       "      <td>481867.000</td>\n",
       "      <td>516.000</td>\n",
       "    </tr>\n",
       "    <tr>\n",
       "      <th>75%</th>\n",
       "      <td>737373.500</td>\n",
       "      <td>19122.000</td>\n",
       "    </tr>\n",
       "    <tr>\n",
       "      <th>max</th>\n",
       "      <td>999218.000</td>\n",
       "      <td>44891723.000</td>\n",
       "    </tr>\n",
       "  </tbody>\n",
       "</table>\n",
       "</div>"
      ],
      "text/plain": [
       "          app_id      reviews\n",
       "count   1975.000     1975.000\n",
       "mean  490685.787   198816.163\n",
       "std   288098.937  1494090.662\n",
       "min     1160.000        1.000\n",
       "25%   239249.500       33.000\n",
       "50%   481867.000      516.000\n",
       "75%   737373.500    19122.000\n",
       "max   999218.000 44891723.000"
      ]
     },
     "execution_count": 477,
     "metadata": {},
     "output_type": "execute_result"
    }
   ],
   "source": [
    "#Description\n",
    "train.describe()"
   ]
  },
  {
   "cell_type": "code",
   "execution_count": 478,
   "metadata": {
    "colab": {},
    "colab_type": "code",
    "id": "RJPiIhd-asKO",
    "pycharm": {
     "name": "#%%\n"
    }
   },
   "outputs": [
    {
     "name": "stdout",
     "output_type": "stream",
     "text": [
      "<class 'pandas.core.frame.DataFrame'>\n",
      "RangeIndex: 1975 entries, 0 to 1974\n",
      "Data columns (total 10 columns):\n",
      "app_id          1975 non-null int64\n",
      "category        1975 non-null object\n",
      "reviews         1975 non-null int64\n",
      "size            1975 non-null object\n",
      "installs        1975 non-null object\n",
      "price           1975 non-null object\n",
      "suitable_for    1975 non-null object\n",
      "last_update     1975 non-null object\n",
      "latest_ver      1971 non-null object\n",
      "popularity      1975 non-null object\n",
      "dtypes: int64(2), object(8)\n",
      "memory usage: 154.4+ KB\n"
     ]
    }
   ],
   "source": [
    "# exploring data types of the feature columns\n",
    "train.info()"
   ]
  },
  {
   "cell_type": "code",
   "execution_count": 479,
   "metadata": {
    "pycharm": {
     "name": "#%%\n"
    }
   },
   "outputs": [
    {
     "name": "stdout",
     "output_type": "stream",
     "text": [
      "<class 'pandas.core.frame.DataFrame'>\n",
      "Int64Index: 1971 entries, 0 to 1974\n",
      "Data columns (total 10 columns):\n",
      "app_id          1971 non-null int64\n",
      "category        1971 non-null object\n",
      "reviews         1971 non-null int64\n",
      "size            1971 non-null object\n",
      "installs        1971 non-null object\n",
      "price           1971 non-null object\n",
      "suitable_for    1971 non-null object\n",
      "last_update     1971 non-null object\n",
      "latest_ver      1971 non-null object\n",
      "popularity      1971 non-null object\n",
      "dtypes: int64(2), object(8)\n",
      "memory usage: 169.4+ KB\n"
     ]
    }
   ],
   "source": [
    "# drop the rows with null latest_ver values\n",
    "train.dropna(inplace=True)\n",
    "train.info()"
   ]
  },
  {
   "cell_type": "markdown",
   "metadata": {
    "pycharm": {
     "name": "#%% md\n"
    }
   },
   "source": [
    "#### From the above code cell, it looks like some columns that ought to be numeric are present as object or string data types. We need to convert these column data types to numeric so that we can use them as useful features in a machine learning model."
   ]
  },
  {
   "cell_type": "code",
   "execution_count": 480,
   "metadata": {
    "pycharm": {
     "name": "#%%\n"
    }
   },
   "outputs": [
    {
     "data": {
      "text/html": [
       "<div>\n",
       "<style scoped>\n",
       "    .dataframe tbody tr th:only-of-type {\n",
       "        vertical-align: middle;\n",
       "    }\n",
       "\n",
       "    .dataframe tbody tr th {\n",
       "        vertical-align: top;\n",
       "    }\n",
       "\n",
       "    .dataframe thead th {\n",
       "        text-align: right;\n",
       "    }\n",
       "</style>\n",
       "<table border=\"1\" class=\"dataframe\">\n",
       "  <thead>\n",
       "    <tr style=\"text-align: right;\">\n",
       "      <th></th>\n",
       "      <th>app_id</th>\n",
       "      <th>category</th>\n",
       "      <th>reviews</th>\n",
       "      <th>size</th>\n",
       "      <th>installs</th>\n",
       "      <th>price</th>\n",
       "      <th>suitable_for</th>\n",
       "      <th>last_update</th>\n",
       "      <th>latest_ver</th>\n",
       "      <th>popularity</th>\n",
       "    </tr>\n",
       "  </thead>\n",
       "  <tbody>\n",
       "    <tr>\n",
       "      <th>0</th>\n",
       "      <td>330090</td>\n",
       "      <td>PERSONALIZATION</td>\n",
       "      <td>4</td>\n",
       "      <td>511000.000</td>\n",
       "      <td>50+</td>\n",
       "      <td>0</td>\n",
       "      <td>Everyone</td>\n",
       "      <td>December 31, 2016</td>\n",
       "      <td>1.4</td>\n",
       "      <td>High</td>\n",
       "    </tr>\n",
       "    <tr>\n",
       "      <th>1</th>\n",
       "      <td>226147</td>\n",
       "      <td>GAME</td>\n",
       "      <td>568391</td>\n",
       "      <td>5200000.000</td>\n",
       "      <td>5,000,000+</td>\n",
       "      <td>0</td>\n",
       "      <td>Teen</td>\n",
       "      <td>July 1, 2014</td>\n",
       "      <td>4.3.1</td>\n",
       "      <td>High</td>\n",
       "    </tr>\n",
       "    <tr>\n",
       "      <th>2</th>\n",
       "      <td>107000</td>\n",
       "      <td>FAMILY</td>\n",
       "      <td>144</td>\n",
       "      <td>70000000.000</td>\n",
       "      <td>1,000+</td>\n",
       "      <td>$2.99</td>\n",
       "      <td>Teen</td>\n",
       "      <td>January 26, 2018</td>\n",
       "      <td>1.0.0</td>\n",
       "      <td>High</td>\n",
       "    </tr>\n",
       "    <tr>\n",
       "      <th>3</th>\n",
       "      <td>217582</td>\n",
       "      <td>FAMILY</td>\n",
       "      <td>1499466</td>\n",
       "      <td>96000000.000</td>\n",
       "      <td>10,000,000+</td>\n",
       "      <td>0</td>\n",
       "      <td>Teen</td>\n",
       "      <td>July 24, 2018</td>\n",
       "      <td>1.25.0</td>\n",
       "      <td>High</td>\n",
       "    </tr>\n",
       "    <tr>\n",
       "      <th>4</th>\n",
       "      <td>370113</td>\n",
       "      <td>DATING</td>\n",
       "      <td>84</td>\n",
       "      <td>4500000.000</td>\n",
       "      <td>1,000+</td>\n",
       "      <td>0</td>\n",
       "      <td>Mature 17+</td>\n",
       "      <td>July 6, 2018</td>\n",
       "      <td>8.2</td>\n",
       "      <td>High</td>\n",
       "    </tr>\n",
       "  </tbody>\n",
       "</table>\n",
       "</div>"
      ],
      "text/plain": [
       "   app_id         category  reviews         size     installs  price  \\\n",
       "0  330090  PERSONALIZATION        4   511000.000          50+      0   \n",
       "1  226147             GAME   568391  5200000.000   5,000,000+      0   \n",
       "2  107000           FAMILY      144 70000000.000       1,000+  $2.99   \n",
       "3  217582           FAMILY  1499466 96000000.000  10,000,000+      0   \n",
       "4  370113           DATING       84  4500000.000       1,000+      0   \n",
       "\n",
       "  suitable_for        last_update latest_ver popularity  \n",
       "0     Everyone  December 31, 2016        1.4       High  \n",
       "1         Teen       July 1, 2014      4.3.1       High  \n",
       "2         Teen   January 26, 2018      1.0.0       High  \n",
       "3         Teen      July 24, 2018     1.25.0       High  \n",
       "4   Mature 17+       July 6, 2018        8.2       High  "
      ]
     },
     "execution_count": 480,
     "metadata": {},
     "output_type": "execute_result"
    }
   ],
   "source": [
    "# 1. first create a new copy of the dataframe\n",
    "train_df = train.copy()\n",
    "\n",
    "# convert the size feature into proper numers\n",
    "notation_dict = {'M': 1_000_000, 'k':1000}\n",
    "\n",
    "# create the conversion function\n",
    "def convert_to_proper_no(value):\n",
    "    value = str(value)\n",
    "    notation = value[-1]\n",
    "    numeric = float(value[:-1]) * notation_dict[notation]\n",
    "    return numeric\n",
    "\n",
    "train_df['size'] = train_df['size'].apply(convert_to_proper_no)\n",
    "\n",
    "# now take a look at the dataframe to see if values have changed successfully\n",
    "train_df.head()"
   ]
  },
  {
   "cell_type": "code",
   "execution_count": 481,
   "metadata": {
    "pycharm": {
     "name": "#%%\n"
    }
   },
   "outputs": [
    {
     "data": {
      "text/html": [
       "<div>\n",
       "<style scoped>\n",
       "    .dataframe tbody tr th:only-of-type {\n",
       "        vertical-align: middle;\n",
       "    }\n",
       "\n",
       "    .dataframe tbody tr th {\n",
       "        vertical-align: top;\n",
       "    }\n",
       "\n",
       "    .dataframe thead th {\n",
       "        text-align: right;\n",
       "    }\n",
       "</style>\n",
       "<table border=\"1\" class=\"dataframe\">\n",
       "  <thead>\n",
       "    <tr style=\"text-align: right;\">\n",
       "      <th></th>\n",
       "      <th>app_id</th>\n",
       "      <th>category</th>\n",
       "      <th>reviews</th>\n",
       "      <th>size</th>\n",
       "      <th>installs</th>\n",
       "      <th>price</th>\n",
       "      <th>suitable_for</th>\n",
       "      <th>last_update</th>\n",
       "      <th>latest_ver</th>\n",
       "      <th>popularity</th>\n",
       "    </tr>\n",
       "  </thead>\n",
       "  <tbody>\n",
       "    <tr>\n",
       "      <th>0</th>\n",
       "      <td>330090</td>\n",
       "      <td>PERSONALIZATION</td>\n",
       "      <td>4</td>\n",
       "      <td>511000.000</td>\n",
       "      <td>50</td>\n",
       "      <td>0</td>\n",
       "      <td>Everyone</td>\n",
       "      <td>December 31, 2016</td>\n",
       "      <td>1.4</td>\n",
       "      <td>High</td>\n",
       "    </tr>\n",
       "    <tr>\n",
       "      <th>1</th>\n",
       "      <td>226147</td>\n",
       "      <td>GAME</td>\n",
       "      <td>568391</td>\n",
       "      <td>5200000.000</td>\n",
       "      <td>5000000</td>\n",
       "      <td>0</td>\n",
       "      <td>Teen</td>\n",
       "      <td>July 1, 2014</td>\n",
       "      <td>4.3.1</td>\n",
       "      <td>High</td>\n",
       "    </tr>\n",
       "    <tr>\n",
       "      <th>2</th>\n",
       "      <td>107000</td>\n",
       "      <td>FAMILY</td>\n",
       "      <td>144</td>\n",
       "      <td>70000000.000</td>\n",
       "      <td>1000</td>\n",
       "      <td>$2.99</td>\n",
       "      <td>Teen</td>\n",
       "      <td>January 26, 2018</td>\n",
       "      <td>1.0.0</td>\n",
       "      <td>High</td>\n",
       "    </tr>\n",
       "    <tr>\n",
       "      <th>3</th>\n",
       "      <td>217582</td>\n",
       "      <td>FAMILY</td>\n",
       "      <td>1499466</td>\n",
       "      <td>96000000.000</td>\n",
       "      <td>10000000</td>\n",
       "      <td>0</td>\n",
       "      <td>Teen</td>\n",
       "      <td>July 24, 2018</td>\n",
       "      <td>1.25.0</td>\n",
       "      <td>High</td>\n",
       "    </tr>\n",
       "    <tr>\n",
       "      <th>4</th>\n",
       "      <td>370113</td>\n",
       "      <td>DATING</td>\n",
       "      <td>84</td>\n",
       "      <td>4500000.000</td>\n",
       "      <td>1000</td>\n",
       "      <td>0</td>\n",
       "      <td>Mature 17+</td>\n",
       "      <td>July 6, 2018</td>\n",
       "      <td>8.2</td>\n",
       "      <td>High</td>\n",
       "    </tr>\n",
       "  </tbody>\n",
       "</table>\n",
       "</div>"
      ],
      "text/plain": [
       "   app_id         category  reviews         size  installs  price  \\\n",
       "0  330090  PERSONALIZATION        4   511000.000        50      0   \n",
       "1  226147             GAME   568391  5200000.000   5000000      0   \n",
       "2  107000           FAMILY      144 70000000.000      1000  $2.99   \n",
       "3  217582           FAMILY  1499466 96000000.000  10000000      0   \n",
       "4  370113           DATING       84  4500000.000      1000      0   \n",
       "\n",
       "  suitable_for        last_update latest_ver popularity  \n",
       "0     Everyone  December 31, 2016        1.4       High  \n",
       "1         Teen       July 1, 2014      4.3.1       High  \n",
       "2         Teen   January 26, 2018      1.0.0       High  \n",
       "3         Teen      July 24, 2018     1.25.0       High  \n",
       "4   Mature 17+       July 6, 2018        8.2       High  "
      ]
     },
     "execution_count": 481,
     "metadata": {},
     "output_type": "execute_result"
    }
   ],
   "source": [
    "# 2. Remove the + signs from the installs column\n",
    "# Expectation is more is number of installs, higher is the app popularity\n",
    "\n",
    "train_df['installs'] = train_df['installs'].apply(lambda v: int(v[:-1].replace(\",\", \"\")))\n",
    "\n",
    "# now take a look at the dataframe to see if values have changed successfully\n",
    "train_df.head()"
   ]
  },
  {
   "cell_type": "code",
   "execution_count": 482,
   "metadata": {
    "pycharm": {
     "name": "#%%\n"
    }
   },
   "outputs": [
    {
     "data": {
      "text/html": [
       "<div>\n",
       "<style scoped>\n",
       "    .dataframe tbody tr th:only-of-type {\n",
       "        vertical-align: middle;\n",
       "    }\n",
       "\n",
       "    .dataframe tbody tr th {\n",
       "        vertical-align: top;\n",
       "    }\n",
       "\n",
       "    .dataframe thead th {\n",
       "        text-align: right;\n",
       "    }\n",
       "</style>\n",
       "<table border=\"1\" class=\"dataframe\">\n",
       "  <thead>\n",
       "    <tr style=\"text-align: right;\">\n",
       "      <th></th>\n",
       "      <th>app_id</th>\n",
       "      <th>category</th>\n",
       "      <th>reviews</th>\n",
       "      <th>size</th>\n",
       "      <th>installs</th>\n",
       "      <th>price</th>\n",
       "      <th>suitable_for</th>\n",
       "      <th>last_update</th>\n",
       "      <th>latest_ver</th>\n",
       "      <th>popularity</th>\n",
       "    </tr>\n",
       "  </thead>\n",
       "  <tbody>\n",
       "    <tr>\n",
       "      <th>0</th>\n",
       "      <td>330090</td>\n",
       "      <td>PERSONALIZATION</td>\n",
       "      <td>4</td>\n",
       "      <td>511000.000</td>\n",
       "      <td>50</td>\n",
       "      <td>0.000</td>\n",
       "      <td>Everyone</td>\n",
       "      <td>December 31, 2016</td>\n",
       "      <td>1.4</td>\n",
       "      <td>High</td>\n",
       "    </tr>\n",
       "    <tr>\n",
       "      <th>1</th>\n",
       "      <td>226147</td>\n",
       "      <td>GAME</td>\n",
       "      <td>568391</td>\n",
       "      <td>5200000.000</td>\n",
       "      <td>5000000</td>\n",
       "      <td>0.000</td>\n",
       "      <td>Teen</td>\n",
       "      <td>July 1, 2014</td>\n",
       "      <td>4.3.1</td>\n",
       "      <td>High</td>\n",
       "    </tr>\n",
       "    <tr>\n",
       "      <th>2</th>\n",
       "      <td>107000</td>\n",
       "      <td>FAMILY</td>\n",
       "      <td>144</td>\n",
       "      <td>70000000.000</td>\n",
       "      <td>1000</td>\n",
       "      <td>2.990</td>\n",
       "      <td>Teen</td>\n",
       "      <td>January 26, 2018</td>\n",
       "      <td>1.0.0</td>\n",
       "      <td>High</td>\n",
       "    </tr>\n",
       "    <tr>\n",
       "      <th>3</th>\n",
       "      <td>217582</td>\n",
       "      <td>FAMILY</td>\n",
       "      <td>1499466</td>\n",
       "      <td>96000000.000</td>\n",
       "      <td>10000000</td>\n",
       "      <td>0.000</td>\n",
       "      <td>Teen</td>\n",
       "      <td>July 24, 2018</td>\n",
       "      <td>1.25.0</td>\n",
       "      <td>High</td>\n",
       "    </tr>\n",
       "    <tr>\n",
       "      <th>4</th>\n",
       "      <td>370113</td>\n",
       "      <td>DATING</td>\n",
       "      <td>84</td>\n",
       "      <td>4500000.000</td>\n",
       "      <td>1000</td>\n",
       "      <td>0.000</td>\n",
       "      <td>Mature 17+</td>\n",
       "      <td>July 6, 2018</td>\n",
       "      <td>8.2</td>\n",
       "      <td>High</td>\n",
       "    </tr>\n",
       "  </tbody>\n",
       "</table>\n",
       "</div>"
      ],
      "text/plain": [
       "   app_id         category  reviews         size  installs  price  \\\n",
       "0  330090  PERSONALIZATION        4   511000.000        50  0.000   \n",
       "1  226147             GAME   568391  5200000.000   5000000  0.000   \n",
       "2  107000           FAMILY      144 70000000.000      1000  2.990   \n",
       "3  217582           FAMILY  1499466 96000000.000  10000000  0.000   \n",
       "4  370113           DATING       84  4500000.000      1000  0.000   \n",
       "\n",
       "  suitable_for        last_update latest_ver popularity  \n",
       "0     Everyone  December 31, 2016        1.4       High  \n",
       "1         Teen       July 1, 2014      4.3.1       High  \n",
       "2         Teen   January 26, 2018      1.0.0       High  \n",
       "3         Teen      July 24, 2018     1.25.0       High  \n",
       "4   Mature 17+       July 6, 2018        8.2       High  "
      ]
     },
     "execution_count": 482,
     "metadata": {},
     "output_type": "execute_result"
    }
   ],
   "source": [
    "# 3. Remove the $ signs from price and convert to float\n",
    "# Expectation is somewhat subjective here. While free apps can be popular, there are often paid apps that are popular as well.\n",
    "\n",
    "train_df['price'] = train_df['price'].apply(lambda v: float(v.replace(\"$\", \"\")))\n",
    "\n",
    "# now take a look at the dataframe to see if values have changed successfully\n",
    "train_df.head()"
   ]
  },
  {
   "cell_type": "code",
   "execution_count": 483,
   "metadata": {
    "pycharm": {
     "name": "#%%\n"
    }
   },
   "outputs": [
    {
     "data": {
      "text/html": [
       "<div>\n",
       "<style scoped>\n",
       "    .dataframe tbody tr th:only-of-type {\n",
       "        vertical-align: middle;\n",
       "    }\n",
       "\n",
       "    .dataframe tbody tr th {\n",
       "        vertical-align: top;\n",
       "    }\n",
       "\n",
       "    .dataframe thead th {\n",
       "        text-align: right;\n",
       "    }\n",
       "</style>\n",
       "<table border=\"1\" class=\"dataframe\">\n",
       "  <thead>\n",
       "    <tr style=\"text-align: right;\">\n",
       "      <th></th>\n",
       "      <th>app_id</th>\n",
       "      <th>category</th>\n",
       "      <th>reviews</th>\n",
       "      <th>size</th>\n",
       "      <th>installs</th>\n",
       "      <th>price</th>\n",
       "      <th>suitable_for</th>\n",
       "      <th>last_update</th>\n",
       "      <th>latest_ver</th>\n",
       "      <th>popularity</th>\n",
       "    </tr>\n",
       "  </thead>\n",
       "  <tbody>\n",
       "    <tr>\n",
       "      <th>0</th>\n",
       "      <td>330090</td>\n",
       "      <td>PERSONALIZATION</td>\n",
       "      <td>4</td>\n",
       "      <td>511000.000</td>\n",
       "      <td>50</td>\n",
       "      <td>0.000</td>\n",
       "      <td>Everyone</td>\n",
       "      <td>1483142400.000</td>\n",
       "      <td>1.4</td>\n",
       "      <td>High</td>\n",
       "    </tr>\n",
       "    <tr>\n",
       "      <th>1</th>\n",
       "      <td>226147</td>\n",
       "      <td>GAME</td>\n",
       "      <td>568391</td>\n",
       "      <td>5200000.000</td>\n",
       "      <td>5000000</td>\n",
       "      <td>0.000</td>\n",
       "      <td>Teen</td>\n",
       "      <td>1404172800.000</td>\n",
       "      <td>4.3.1</td>\n",
       "      <td>High</td>\n",
       "    </tr>\n",
       "    <tr>\n",
       "      <th>2</th>\n",
       "      <td>107000</td>\n",
       "      <td>FAMILY</td>\n",
       "      <td>144</td>\n",
       "      <td>70000000.000</td>\n",
       "      <td>1000</td>\n",
       "      <td>2.990</td>\n",
       "      <td>Teen</td>\n",
       "      <td>1516924800.000</td>\n",
       "      <td>1.0.0</td>\n",
       "      <td>High</td>\n",
       "    </tr>\n",
       "    <tr>\n",
       "      <th>3</th>\n",
       "      <td>217582</td>\n",
       "      <td>FAMILY</td>\n",
       "      <td>1499466</td>\n",
       "      <td>96000000.000</td>\n",
       "      <td>10000000</td>\n",
       "      <td>0.000</td>\n",
       "      <td>Teen</td>\n",
       "      <td>1532390400.000</td>\n",
       "      <td>1.25.0</td>\n",
       "      <td>High</td>\n",
       "    </tr>\n",
       "    <tr>\n",
       "      <th>4</th>\n",
       "      <td>370113</td>\n",
       "      <td>DATING</td>\n",
       "      <td>84</td>\n",
       "      <td>4500000.000</td>\n",
       "      <td>1000</td>\n",
       "      <td>0.000</td>\n",
       "      <td>Mature 17+</td>\n",
       "      <td>1530835200.000</td>\n",
       "      <td>8.2</td>\n",
       "      <td>High</td>\n",
       "    </tr>\n",
       "  </tbody>\n",
       "</table>\n",
       "</div>"
      ],
      "text/plain": [
       "   app_id         category  reviews         size  installs  price  \\\n",
       "0  330090  PERSONALIZATION        4   511000.000        50  0.000   \n",
       "1  226147             GAME   568391  5200000.000   5000000  0.000   \n",
       "2  107000           FAMILY      144 70000000.000      1000  2.990   \n",
       "3  217582           FAMILY  1499466 96000000.000  10000000  0.000   \n",
       "4  370113           DATING       84  4500000.000      1000  0.000   \n",
       "\n",
       "  suitable_for    last_update latest_ver popularity  \n",
       "0     Everyone 1483142400.000        1.4       High  \n",
       "1         Teen 1404172800.000      4.3.1       High  \n",
       "2         Teen 1516924800.000      1.0.0       High  \n",
       "3         Teen 1532390400.000     1.25.0       High  \n",
       "4   Mature 17+ 1530835200.000        8.2       High  "
      ]
     },
     "execution_count": 483,
     "metadata": {},
     "output_type": "execute_result"
    }
   ],
   "source": [
    "# 4. Convert the last update column to time since epoch\n",
    "# Expectation is , the latest an app has been updated (larger time since epoch), the more popular is the app\n",
    "\n",
    "# first convert the last_update column to datetime\n",
    "train_df['last_update'] = pd.to_datetime(train_df['last_update'])\n",
    "\n",
    "# now convert the column to time since epoch i.e (1970/01/01)\n",
    "train_df['last_update'] = (train_df['last_update'] - dt.datetime(1970,1,1)).dt.total_seconds()\n",
    "\n",
    "# now take a look at the dataframe to see if values have changed successfully\n",
    "train_df.head()"
   ]
  },
  {
   "cell_type": "code",
   "execution_count": 1,
   "metadata": {
    "pycharm": {
     "name": "#%%\n"
    }
   },
   "outputs": [
    {
     "ename": "NameError",
     "evalue": "name 'train_df' is not defined",
     "output_type": "error",
     "traceback": [
      "\u001B[1;31m---------------------------------------------------------------------------\u001B[0m",
      "\u001B[1;31mNameError\u001B[0m                                 Traceback (most recent call last)",
      "\u001B[1;32m<ipython-input-1-a461caae6aac>\u001B[0m in \u001B[0;36m<module>\u001B[1;34m\u001B[0m\n\u001B[0;32m     10\u001B[0m         \u001B[1;32mreturn\u001B[0m \u001B[0mfloat\u001B[0m\u001B[1;33m(\u001B[0m\u001B[0mvalue\u001B[0m\u001B[1;33m)\u001B[0m\u001B[1;33m\u001B[0m\u001B[0m\n\u001B[0;32m     11\u001B[0m \u001B[1;33m\u001B[0m\u001B[0m\n\u001B[1;32m---> 12\u001B[1;33m \u001B[0mtrain_df\u001B[0m\u001B[1;33m[\u001B[0m\u001B[1;34m'latest_ver'\u001B[0m\u001B[1;33m]\u001B[0m \u001B[1;33m=\u001B[0m \u001B[0mtrain_df\u001B[0m\u001B[1;33m[\u001B[0m\u001B[1;34m'latest_ver'\u001B[0m\u001B[1;33m]\u001B[0m\u001B[1;33m.\u001B[0m\u001B[0mapply\u001B[0m\u001B[1;33m(\u001B[0m\u001B[0mconvert_to_numeric_version\u001B[0m\u001B[1;33m)\u001B[0m\u001B[1;33m\u001B[0m\u001B[0m\n\u001B[0m\u001B[0;32m     13\u001B[0m \u001B[1;33m\u001B[0m\u001B[0m\n\u001B[0;32m     14\u001B[0m \u001B[1;31m# now take a look at the dataframe to see if values have changed successfully\u001B[0m\u001B[1;33m\u001B[0m\u001B[1;33m\u001B[0m\u001B[0m\n",
      "\u001B[1;31mNameError\u001B[0m: name 'train_df' is not defined"
     ]
    }
   ],
   "source": [
    "# 5. Convert the latest_ver column to a float with only major and minor revisions of software. Ignore patch number\n",
    "# Expectation is , higher is the version number, the higher should be the probability\n",
    "\n",
    "# define the conversion function\n",
    "def convert_to_numeric_version(value):\n",
    "    dot_counts = value.count(\".\")\n",
    "    if dot_counts > 1:\n",
    "        return float(value.rsplit(\".\", dot_counts-1)[0])\n",
    "    else:\n",
    "        return float(value)\n",
    "    \n",
    "train_df['latest_ver'] = train_df['latest_ver'].apply(convert_to_numeric_version)\n",
    "\n",
    "# now take a look at the dataframe to see if values have changed successfully\n",
    "train_df.head()"
   ]
  },
  {
   "cell_type": "markdown",
   "metadata": {
    "pycharm": {
     "name": "#%% md\n"
    }
   },
   "source": [
    "#### Let us look at the unimodal distributions of the numerical columns. It can be seen that most of the columns exhibit highly skewed features which often negatively impact machine learning model performance."
   ]
  },
  {
   "cell_type": "code",
   "execution_count": 485,
   "metadata": {
    "pycharm": {
     "name": "#%%\n"
    }
   },
   "outputs": [
    {
     "data": {
      "image/png": "[encoded data removed]",
      "text/plain": [
       "<Figure size 432x288 with 9 Axes>"
      ]
     },
     "metadata": {
      "needs_background": "light"
     },
     "output_type": "display_data"
    }
   ],
   "source": [
    "# observe numeric column distributions\n",
    "train_df.hist(sharex=False, sharey=False, xlabelsize=1, ylabelsize=1);"
   ]
  },
  {
   "cell_type": "code",
   "execution_count": 486,
   "metadata": {
    "pycharm": {
     "name": "#%%\n"
    }
   },
   "outputs": [],
   "source": [
    "# 6. let us use a log transformation to transform the skewed features to as close as normal distributions\n",
    "train_df_transformed = train_df.copy()\n",
    "cols_to_transform = ['reviews', 'size', 'installs', 'price', 'last_update', 'latest_ver']\n",
    "\n",
    "for col in cols_to_transform:\n",
    "    train_df_transformed[col] = train_df_transformed[col].apply(lambda x: np.log(x + 1))"
   ]
  },
  {
   "cell_type": "code",
   "execution_count": 487,
   "metadata": {
    "pycharm": {
     "name": "#%%\n"
    }
   },
   "outputs": [
    {
     "data": {
      "image/png": "[encoded data removed]",
      "text/plain": [
       "<Figure size 432x288 with 9 Axes>"
      ]
     },
     "metadata": {
      "needs_background": "light"
     },
     "output_type": "display_data"
    }
   ],
   "source": [
    "# now the distributions on the highly skewed features look much more closer to normal distributions\n",
    "train_df_transformed.hist(sharex=False, sharey=False, xlabelsize=1, ylabelsize=1);"
   ]
  },
  {
   "cell_type": "code",
   "execution_count": 488,
   "metadata": {
    "colab": {},
    "colab_type": "code",
    "id": "kkZwMRwvasKs",
    "pycharm": {
     "name": "#%%\n"
    }
   },
   "outputs": [
    {
     "name": "stdout",
     "output_type": "stream",
     "text": [
      "<class 'pandas.core.frame.DataFrame'>\n",
      "Int64Index: 1971 entries, 0 to 1974\n",
      "Data columns (total 10 columns):\n",
      "app_id          1971 non-null int64\n",
      "category        1971 non-null object\n",
      "reviews         1971 non-null float64\n",
      "size            1971 non-null float64\n",
      "installs        1971 non-null float64\n",
      "price           1971 non-null float64\n",
      "suitable_for    1971 non-null object\n",
      "last_update     1971 non-null float64\n",
      "latest_ver      1971 non-null float64\n",
      "popularity      1971 non-null object\n",
      "dtypes: float64(6), int64(1), object(3)\n",
      "memory usage: 169.4+ KB\n"
     ]
    }
   ],
   "source": [
    "# lets lok at the data types of the dataframe we have so far\n",
    "train_df_transformed.info()"
   ]
  },
  {
   "cell_type": "code",
   "execution_count": 489,
   "metadata": {
    "colab": {},
    "colab_type": "code",
    "id": "OTAmbKi8asKt",
    "pycharm": {
     "name": "#%%\n"
    }
   },
   "outputs": [],
   "source": [
    "# let us drop the app id column since it doesnt seem to be important in predicting app popularity.\n",
    "# Lets also divide the dataframe into X and Y i.e features and targets\n",
    "\n",
    "# we will end up with 8 features\n",
    "X = train_df_transformed.drop(['app_id', 'popularity'], axis=1)\n",
    "Y = train_df_transformed['popularity']"
   ]
  },
  {
   "cell_type": "code",
   "execution_count": 490,
   "metadata": {
    "pycharm": {
     "name": "#%%\n"
    }
   },
   "outputs": [
    {
     "data": {
      "text/html": [
       "<div>\n",
       "<style scoped>\n",
       "    .dataframe tbody tr th:only-of-type {\n",
       "        vertical-align: middle;\n",
       "    }\n",
       "\n",
       "    .dataframe tbody tr th {\n",
       "        vertical-align: top;\n",
       "    }\n",
       "\n",
       "    .dataframe thead th {\n",
       "        text-align: right;\n",
       "    }\n",
       "</style>\n",
       "<table border=\"1\" class=\"dataframe\">\n",
       "  <thead>\n",
       "    <tr style=\"text-align: right;\">\n",
       "      <th></th>\n",
       "      <th>category</th>\n",
       "      <th>reviews</th>\n",
       "      <th>size</th>\n",
       "      <th>installs</th>\n",
       "      <th>price</th>\n",
       "      <th>suitable_for</th>\n",
       "      <th>last_update</th>\n",
       "      <th>latest_ver</th>\n",
       "    </tr>\n",
       "  </thead>\n",
       "  <tbody>\n",
       "    <tr>\n",
       "      <th>0</th>\n",
       "      <td>PERSONALIZATION</td>\n",
       "      <td>1.609</td>\n",
       "      <td>13.144</td>\n",
       "      <td>3.932</td>\n",
       "      <td>0.000</td>\n",
       "      <td>Everyone</td>\n",
       "      <td>21.117</td>\n",
       "      <td>0.875</td>\n",
       "    </tr>\n",
       "    <tr>\n",
       "      <th>1</th>\n",
       "      <td>GAME</td>\n",
       "      <td>13.251</td>\n",
       "      <td>15.464</td>\n",
       "      <td>15.425</td>\n",
       "      <td>0.000</td>\n",
       "      <td>Teen</td>\n",
       "      <td>21.063</td>\n",
       "      <td>1.668</td>\n",
       "    </tr>\n",
       "    <tr>\n",
       "      <th>2</th>\n",
       "      <td>FAMILY</td>\n",
       "      <td>4.977</td>\n",
       "      <td>18.064</td>\n",
       "      <td>6.909</td>\n",
       "      <td>1.384</td>\n",
       "      <td>Teen</td>\n",
       "      <td>21.140</td>\n",
       "      <td>0.693</td>\n",
       "    </tr>\n",
       "    <tr>\n",
       "      <th>3</th>\n",
       "      <td>FAMILY</td>\n",
       "      <td>14.221</td>\n",
       "      <td>18.380</td>\n",
       "      <td>16.118</td>\n",
       "      <td>0.000</td>\n",
       "      <td>Teen</td>\n",
       "      <td>21.150</td>\n",
       "      <td>0.811</td>\n",
       "    </tr>\n",
       "    <tr>\n",
       "      <th>4</th>\n",
       "      <td>DATING</td>\n",
       "      <td>4.443</td>\n",
       "      <td>15.320</td>\n",
       "      <td>6.909</td>\n",
       "      <td>0.000</td>\n",
       "      <td>Mature 17+</td>\n",
       "      <td>21.149</td>\n",
       "      <td>2.219</td>\n",
       "    </tr>\n",
       "  </tbody>\n",
       "</table>\n",
       "</div>"
      ],
      "text/plain": [
       "          category  reviews   size  installs  price suitable_for  last_update  \\\n",
       "0  PERSONALIZATION    1.609 13.144     3.932  0.000     Everyone       21.117   \n",
       "1             GAME   13.251 15.464    15.425  0.000         Teen       21.063   \n",
       "2           FAMILY    4.977 18.064     6.909  1.384         Teen       21.140   \n",
       "3           FAMILY   14.221 18.380    16.118  0.000         Teen       21.150   \n",
       "4           DATING    4.443 15.320     6.909  0.000   Mature 17+       21.149   \n",
       "\n",
       "   latest_ver  \n",
       "0       0.875  \n",
       "1       1.668  \n",
       "2       0.693  \n",
       "3       0.811  \n",
       "4       2.219  "
      ]
     },
     "execution_count": 490,
     "metadata": {},
     "output_type": "execute_result"
    }
   ],
   "source": [
    "# lets look at X once more\n",
    "X.head()"
   ]
  },
  {
   "cell_type": "code",
   "execution_count": 491,
   "metadata": {
    "pycharm": {
     "name": "#%%\n"
    }
   },
   "outputs": [],
   "source": [
    "# we will need to do one hot encoding on categorical columns and feature scaling on numeric columns before we can \n",
    "# fit the data to a model\n",
    "\n",
    "# first extract the numeric and categorical columns\n",
    "numeric_cols = [col for col in X.columns if X[col].dtype != 'O']\n",
    "categorical_cols = [col for col in X.columns if X[col].dtype == 'O']\n",
    "\n",
    "# create a transformer pipeline to do proper transformation to the columns\n",
    "ohe = OneHotEncoder() # one hot encodes categorical columns\n",
    "scaler = StandardScaler() # standardizes numerical columns for more uniform feature scaling across columns\n",
    "\n",
    "ct = make_column_transformer(\n",
    "    (ohe, categorical_cols),\n",
    "    (scaler, numeric_cols),\n",
    "    remainder='passthrough'\n",
    ")\n",
    "\n",
    "# do the transformation of columns\n",
    "X = ct.fit_transform(X)"
   ]
  },
  {
   "cell_type": "code",
   "execution_count": 492,
   "metadata": {
    "pycharm": {
     "name": "#%%\n"
    }
   },
   "outputs": [
    {
     "data": {
      "text/plain": [
       "array([0, 0, 0, ..., 0, 0, 0])"
      ]
     },
     "execution_count": 492,
     "metadata": {},
     "output_type": "execute_result"
    }
   ],
   "source": [
    "# now convert the target vector \"popularity\" into encode variable needed for input into ML algo\n",
    "le = LabelEncoder()\n",
    "Y = le.fit_transform(Y)\n",
    "Y"
   ]
  },
  {
   "cell_type": "code",
   "execution_count": 493,
   "metadata": {
    "pycharm": {
     "name": "#%%\n"
    }
   },
   "outputs": [
    {
     "data": {
      "text/plain": [
       "(1971,)"
      ]
     },
     "execution_count": 493,
     "metadata": {},
     "output_type": "execute_result"
    }
   ],
   "source": [
    "Y.shape"
   ]
  },
  {
   "cell_type": "code",
   "execution_count": 494,
   "metadata": {
    "pycharm": {
     "name": "#%%\n"
    }
   },
   "outputs": [
    {
     "data": {
      "text/plain": [
       "(1971, 44)"
      ]
     },
     "execution_count": 494,
     "metadata": {},
     "output_type": "execute_result"
    }
   ],
   "source": [
    "X.shape"
   ]
  },
  {
   "cell_type": "code",
   "execution_count": 495,
   "metadata": {
    "pycharm": {
     "name": "#%%\n"
    }
   },
   "outputs": [
    {
     "data": {
      "text/html": [
       "<div>\n",
       "<style scoped>\n",
       "    .dataframe tbody tr th:only-of-type {\n",
       "        vertical-align: middle;\n",
       "    }\n",
       "\n",
       "    .dataframe tbody tr th {\n",
       "        vertical-align: top;\n",
       "    }\n",
       "\n",
       "    .dataframe thead th {\n",
       "        text-align: right;\n",
       "    }\n",
       "</style>\n",
       "<table border=\"1\" class=\"dataframe\">\n",
       "  <thead>\n",
       "    <tr style=\"text-align: right;\">\n",
       "      <th></th>\n",
       "      <th>0</th>\n",
       "      <th>1</th>\n",
       "      <th>2</th>\n",
       "      <th>3</th>\n",
       "      <th>4</th>\n",
       "      <th>5</th>\n",
       "      <th>6</th>\n",
       "      <th>7</th>\n",
       "      <th>8</th>\n",
       "      <th>9</th>\n",
       "      <th>10</th>\n",
       "      <th>11</th>\n",
       "      <th>12</th>\n",
       "      <th>13</th>\n",
       "      <th>14</th>\n",
       "      <th>15</th>\n",
       "      <th>16</th>\n",
       "      <th>17</th>\n",
       "      <th>18</th>\n",
       "      <th>19</th>\n",
       "      <th>20</th>\n",
       "      <th>21</th>\n",
       "      <th>22</th>\n",
       "      <th>23</th>\n",
       "      <th>24</th>\n",
       "      <th>25</th>\n",
       "      <th>26</th>\n",
       "      <th>27</th>\n",
       "      <th>28</th>\n",
       "      <th>29</th>\n",
       "      <th>30</th>\n",
       "      <th>31</th>\n",
       "      <th>32</th>\n",
       "      <th>33</th>\n",
       "      <th>34</th>\n",
       "      <th>35</th>\n",
       "      <th>36</th>\n",
       "      <th>37</th>\n",
       "      <th>38</th>\n",
       "      <th>39</th>\n",
       "      <th>40</th>\n",
       "      <th>41</th>\n",
       "      <th>42</th>\n",
       "      <th>43</th>\n",
       "    </tr>\n",
       "  </thead>\n",
       "  <tbody>\n",
       "    <tr>\n",
       "      <th>0</th>\n",
       "      <td>0.000</td>\n",
       "      <td>0.000</td>\n",
       "      <td>0.000</td>\n",
       "      <td>0.000</td>\n",
       "      <td>0.000</td>\n",
       "      <td>0.000</td>\n",
       "      <td>0.000</td>\n",
       "      <td>0.000</td>\n",
       "      <td>0.000</td>\n",
       "      <td>0.000</td>\n",
       "      <td>0.000</td>\n",
       "      <td>0.000</td>\n",
       "      <td>0.000</td>\n",
       "      <td>0.000</td>\n",
       "      <td>0.000</td>\n",
       "      <td>0.000</td>\n",
       "      <td>0.000</td>\n",
       "      <td>0.000</td>\n",
       "      <td>0.000</td>\n",
       "      <td>0.000</td>\n",
       "      <td>0.000</td>\n",
       "      <td>0.000</td>\n",
       "      <td>0.000</td>\n",
       "      <td>1.000</td>\n",
       "      <td>0.000</td>\n",
       "      <td>0.000</td>\n",
       "      <td>0.000</td>\n",
       "      <td>0.000</td>\n",
       "      <td>0.000</td>\n",
       "      <td>0.000</td>\n",
       "      <td>0.000</td>\n",
       "      <td>0.000</td>\n",
       "      <td>0.000</td>\n",
       "      <td>0.000</td>\n",
       "      <td>1.000</td>\n",
       "      <td>0.000</td>\n",
       "      <td>0.000</td>\n",
       "      <td>0.000</td>\n",
       "      <td>-1.345</td>\n",
       "      <td>-2.516</td>\n",
       "      <td>-1.676</td>\n",
       "      <td>-0.289</td>\n",
       "      <td>-0.807</td>\n",
       "      <td>-0.352</td>\n",
       "    </tr>\n",
       "    <tr>\n",
       "      <th>1</th>\n",
       "      <td>0.000</td>\n",
       "      <td>0.000</td>\n",
       "      <td>0.000</td>\n",
       "      <td>0.000</td>\n",
       "      <td>0.000</td>\n",
       "      <td>0.000</td>\n",
       "      <td>0.000</td>\n",
       "      <td>0.000</td>\n",
       "      <td>0.000</td>\n",
       "      <td>0.000</td>\n",
       "      <td>0.000</td>\n",
       "      <td>0.000</td>\n",
       "      <td>0.000</td>\n",
       "      <td>0.000</td>\n",
       "      <td>1.000</td>\n",
       "      <td>0.000</td>\n",
       "      <td>0.000</td>\n",
       "      <td>0.000</td>\n",
       "      <td>0.000</td>\n",
       "      <td>0.000</td>\n",
       "      <td>0.000</td>\n",
       "      <td>0.000</td>\n",
       "      <td>0.000</td>\n",
       "      <td>0.000</td>\n",
       "      <td>0.000</td>\n",
       "      <td>0.000</td>\n",
       "      <td>0.000</td>\n",
       "      <td>0.000</td>\n",
       "      <td>0.000</td>\n",
       "      <td>0.000</td>\n",
       "      <td>0.000</td>\n",
       "      <td>0.000</td>\n",
       "      <td>0.000</td>\n",
       "      <td>0.000</td>\n",
       "      <td>0.000</td>\n",
       "      <td>0.000</td>\n",
       "      <td>0.000</td>\n",
       "      <td>1.000</td>\n",
       "      <td>1.719</td>\n",
       "      <td>-0.622</td>\n",
       "      <td>1.307</td>\n",
       "      <td>-0.289</td>\n",
       "      <td>-3.213</td>\n",
       "      <td>0.380</td>\n",
       "    </tr>\n",
       "    <tr>\n",
       "      <th>2</th>\n",
       "      <td>0.000</td>\n",
       "      <td>0.000</td>\n",
       "      <td>0.000</td>\n",
       "      <td>0.000</td>\n",
       "      <td>0.000</td>\n",
       "      <td>0.000</td>\n",
       "      <td>0.000</td>\n",
       "      <td>0.000</td>\n",
       "      <td>0.000</td>\n",
       "      <td>0.000</td>\n",
       "      <td>0.000</td>\n",
       "      <td>1.000</td>\n",
       "      <td>0.000</td>\n",
       "      <td>0.000</td>\n",
       "      <td>0.000</td>\n",
       "      <td>0.000</td>\n",
       "      <td>0.000</td>\n",
       "      <td>0.000</td>\n",
       "      <td>0.000</td>\n",
       "      <td>0.000</td>\n",
       "      <td>0.000</td>\n",
       "      <td>0.000</td>\n",
       "      <td>0.000</td>\n",
       "      <td>0.000</td>\n",
       "      <td>0.000</td>\n",
       "      <td>0.000</td>\n",
       "      <td>0.000</td>\n",
       "      <td>0.000</td>\n",
       "      <td>0.000</td>\n",
       "      <td>0.000</td>\n",
       "      <td>0.000</td>\n",
       "      <td>0.000</td>\n",
       "      <td>0.000</td>\n",
       "      <td>0.000</td>\n",
       "      <td>0.000</td>\n",
       "      <td>0.000</td>\n",
       "      <td>0.000</td>\n",
       "      <td>1.000</td>\n",
       "      <td>-0.459</td>\n",
       "      <td>1.501</td>\n",
       "      <td>-0.904</td>\n",
       "      <td>2.410</td>\n",
       "      <td>0.184</td>\n",
       "      <td>-0.521</td>\n",
       "    </tr>\n",
       "    <tr>\n",
       "      <th>3</th>\n",
       "      <td>0.000</td>\n",
       "      <td>0.000</td>\n",
       "      <td>0.000</td>\n",
       "      <td>0.000</td>\n",
       "      <td>0.000</td>\n",
       "      <td>0.000</td>\n",
       "      <td>0.000</td>\n",
       "      <td>0.000</td>\n",
       "      <td>0.000</td>\n",
       "      <td>0.000</td>\n",
       "      <td>0.000</td>\n",
       "      <td>1.000</td>\n",
       "      <td>0.000</td>\n",
       "      <td>0.000</td>\n",
       "      <td>0.000</td>\n",
       "      <td>0.000</td>\n",
       "      <td>0.000</td>\n",
       "      <td>0.000</td>\n",
       "      <td>0.000</td>\n",
       "      <td>0.000</td>\n",
       "      <td>0.000</td>\n",
       "      <td>0.000</td>\n",
       "      <td>0.000</td>\n",
       "      <td>0.000</td>\n",
       "      <td>0.000</td>\n",
       "      <td>0.000</td>\n",
       "      <td>0.000</td>\n",
       "      <td>0.000</td>\n",
       "      <td>0.000</td>\n",
       "      <td>0.000</td>\n",
       "      <td>0.000</td>\n",
       "      <td>0.000</td>\n",
       "      <td>0.000</td>\n",
       "      <td>0.000</td>\n",
       "      <td>0.000</td>\n",
       "      <td>0.000</td>\n",
       "      <td>0.000</td>\n",
       "      <td>1.000</td>\n",
       "      <td>1.975</td>\n",
       "      <td>1.759</td>\n",
       "      <td>1.487</td>\n",
       "      <td>-0.289</td>\n",
       "      <td>0.630</td>\n",
       "      <td>-0.412</td>\n",
       "    </tr>\n",
       "    <tr>\n",
       "      <th>4</th>\n",
       "      <td>0.000</td>\n",
       "      <td>0.000</td>\n",
       "      <td>0.000</td>\n",
       "      <td>0.000</td>\n",
       "      <td>0.000</td>\n",
       "      <td>0.000</td>\n",
       "      <td>0.000</td>\n",
       "      <td>1.000</td>\n",
       "      <td>0.000</td>\n",
       "      <td>0.000</td>\n",
       "      <td>0.000</td>\n",
       "      <td>0.000</td>\n",
       "      <td>0.000</td>\n",
       "      <td>0.000</td>\n",
       "      <td>0.000</td>\n",
       "      <td>0.000</td>\n",
       "      <td>0.000</td>\n",
       "      <td>0.000</td>\n",
       "      <td>0.000</td>\n",
       "      <td>0.000</td>\n",
       "      <td>0.000</td>\n",
       "      <td>0.000</td>\n",
       "      <td>0.000</td>\n",
       "      <td>0.000</td>\n",
       "      <td>0.000</td>\n",
       "      <td>0.000</td>\n",
       "      <td>0.000</td>\n",
       "      <td>0.000</td>\n",
       "      <td>0.000</td>\n",
       "      <td>0.000</td>\n",
       "      <td>0.000</td>\n",
       "      <td>0.000</td>\n",
       "      <td>0.000</td>\n",
       "      <td>0.000</td>\n",
       "      <td>0.000</td>\n",
       "      <td>0.000</td>\n",
       "      <td>1.000</td>\n",
       "      <td>0.000</td>\n",
       "      <td>-0.599</td>\n",
       "      <td>-0.740</td>\n",
       "      <td>-0.904</td>\n",
       "      <td>-0.289</td>\n",
       "      <td>0.585</td>\n",
       "      <td>0.889</td>\n",
       "    </tr>\n",
       "  </tbody>\n",
       "</table>\n",
       "</div>"
      ],
      "text/plain": [
       "      0     1     2     3     4     5     6     7     8     9    10    11  \\\n",
       "0 0.000 0.000 0.000 0.000 0.000 0.000 0.000 0.000 0.000 0.000 0.000 0.000   \n",
       "1 0.000 0.000 0.000 0.000 0.000 0.000 0.000 0.000 0.000 0.000 0.000 0.000   \n",
       "2 0.000 0.000 0.000 0.000 0.000 0.000 0.000 0.000 0.000 0.000 0.000 1.000   \n",
       "3 0.000 0.000 0.000 0.000 0.000 0.000 0.000 0.000 0.000 0.000 0.000 1.000   \n",
       "4 0.000 0.000 0.000 0.000 0.000 0.000 0.000 1.000 0.000 0.000 0.000 0.000   \n",
       "\n",
       "     12    13    14    15    16    17    18    19    20    21    22    23  \\\n",
       "0 0.000 0.000 0.000 0.000 0.000 0.000 0.000 0.000 0.000 0.000 0.000 1.000   \n",
       "1 0.000 0.000 1.000 0.000 0.000 0.000 0.000 0.000 0.000 0.000 0.000 0.000   \n",
       "2 0.000 0.000 0.000 0.000 0.000 0.000 0.000 0.000 0.000 0.000 0.000 0.000   \n",
       "3 0.000 0.000 0.000 0.000 0.000 0.000 0.000 0.000 0.000 0.000 0.000 0.000   \n",
       "4 0.000 0.000 0.000 0.000 0.000 0.000 0.000 0.000 0.000 0.000 0.000 0.000   \n",
       "\n",
       "     24    25    26    27    28    29    30    31    32    33    34    35  \\\n",
       "0 0.000 0.000 0.000 0.000 0.000 0.000 0.000 0.000 0.000 0.000 1.000 0.000   \n",
       "1 0.000 0.000 0.000 0.000 0.000 0.000 0.000 0.000 0.000 0.000 0.000 0.000   \n",
       "2 0.000 0.000 0.000 0.000 0.000 0.000 0.000 0.000 0.000 0.000 0.000 0.000   \n",
       "3 0.000 0.000 0.000 0.000 0.000 0.000 0.000 0.000 0.000 0.000 0.000 0.000   \n",
       "4 0.000 0.000 0.000 0.000 0.000 0.000 0.000 0.000 0.000 0.000 0.000 0.000   \n",
       "\n",
       "     36    37     38     39     40     41     42     43  \n",
       "0 0.000 0.000 -1.345 -2.516 -1.676 -0.289 -0.807 -0.352  \n",
       "1 0.000 1.000  1.719 -0.622  1.307 -0.289 -3.213  0.380  \n",
       "2 0.000 1.000 -0.459  1.501 -0.904  2.410  0.184 -0.521  \n",
       "3 0.000 1.000  1.975  1.759  1.487 -0.289  0.630 -0.412  \n",
       "4 1.000 0.000 -0.599 -0.740 -0.904 -0.289  0.585  0.889  "
      ]
     },
     "execution_count": 495,
     "metadata": {},
     "output_type": "execute_result"
    }
   ],
   "source": [
    "pd.DataFrame(data=X.toarray()).head()"
   ]
  },
  {
   "cell_type": "markdown",
   "metadata": {
    "colab_type": "text",
    "id": "VBX5y5Uac1rd",
    "pycharm": {
     "name": "#%% md\n"
    }
   },
   "source": [
    "# Visualization, Modeling, Machine Learning\n",
    "\n",
    "Build a model that can predict whether an app will become be trending or not and determine how different features influence the outcome. Please explain the findings effectively to technical and non-technical audiences using comments and visualizations, if appropriate.\n",
    "- **Build an optimized model that effectively solves the business problem.**\n",
    "- **The model will be evaluated on the basis of Accuracy.**\n",
    "- **Read the test.csv file and prepare features for testing.**"
   ]
  },
  {
   "cell_type": "code",
   "execution_count": 496,
   "metadata": {
    "colab": {},
    "colab_type": "code",
    "id": "nzkTA5ii6i3s",
    "pycharm": {
     "name": "#%%\n"
    }
   },
   "outputs": [
    {
     "data": {
      "text/html": [
       "<div>\n",
       "<style scoped>\n",
       "    .dataframe tbody tr th:only-of-type {\n",
       "        vertical-align: middle;\n",
       "    }\n",
       "\n",
       "    .dataframe tbody tr th {\n",
       "        vertical-align: top;\n",
       "    }\n",
       "\n",
       "    .dataframe thead th {\n",
       "        text-align: right;\n",
       "    }\n",
       "</style>\n",
       "<table border=\"1\" class=\"dataframe\">\n",
       "  <thead>\n",
       "    <tr style=\"text-align: right;\">\n",
       "      <th></th>\n",
       "      <th>app_id</th>\n",
       "      <th>category</th>\n",
       "      <th>reviews</th>\n",
       "      <th>size</th>\n",
       "      <th>installs</th>\n",
       "      <th>price</th>\n",
       "      <th>suitable_for</th>\n",
       "      <th>last_update</th>\n",
       "      <th>latest_ver</th>\n",
       "    </tr>\n",
       "  </thead>\n",
       "  <tbody>\n",
       "    <tr>\n",
       "      <th>0</th>\n",
       "      <td>144236</td>\n",
       "      <td>TOOLS</td>\n",
       "      <td>262076</td>\n",
       "      <td>1.2M</td>\n",
       "      <td>10,000,000+</td>\n",
       "      <td>0</td>\n",
       "      <td>Everyone</td>\n",
       "      <td>January 4, 2018</td>\n",
       "      <td>1.0.2</td>\n",
       "    </tr>\n",
       "    <tr>\n",
       "      <th>1</th>\n",
       "      <td>881323</td>\n",
       "      <td>PHOTOGRAPHY</td>\n",
       "      <td>12204</td>\n",
       "      <td>6.8M</td>\n",
       "      <td>1,000,000+</td>\n",
       "      <td>0</td>\n",
       "      <td>Everyone</td>\n",
       "      <td>March 14, 2017</td>\n",
       "      <td>1.5.2.21</td>\n",
       "    </tr>\n",
       "    <tr>\n",
       "      <th>2</th>\n",
       "      <td>765524</td>\n",
       "      <td>TOOLS</td>\n",
       "      <td>632</td>\n",
       "      <td>8.2M</td>\n",
       "      <td>500,000+</td>\n",
       "      <td>0</td>\n",
       "      <td>Everyone</td>\n",
       "      <td>May 23, 2017</td>\n",
       "      <td>1.0</td>\n",
       "    </tr>\n",
       "    <tr>\n",
       "      <th>3</th>\n",
       "      <td>390533</td>\n",
       "      <td>BUSINESS</td>\n",
       "      <td>29</td>\n",
       "      <td>16M</td>\n",
       "      <td>500+</td>\n",
       "      <td>0</td>\n",
       "      <td>Everyone</td>\n",
       "      <td>July 5, 2018</td>\n",
       "      <td>2.2.1335</td>\n",
       "    </tr>\n",
       "    <tr>\n",
       "      <th>4</th>\n",
       "      <td>817383</td>\n",
       "      <td>ART_AND_DESIGN</td>\n",
       "      <td>192</td>\n",
       "      <td>6.0M</td>\n",
       "      <td>10,000+</td>\n",
       "      <td>0</td>\n",
       "      <td>Everyone</td>\n",
       "      <td>April 25, 2018</td>\n",
       "      <td>1.5</td>\n",
       "    </tr>\n",
       "  </tbody>\n",
       "</table>\n",
       "</div>"
      ],
      "text/plain": [
       "   app_id        category  reviews  size     installs price suitable_for  \\\n",
       "0  144236           TOOLS   262076  1.2M  10,000,000+     0     Everyone   \n",
       "1  881323     PHOTOGRAPHY    12204  6.8M   1,000,000+     0     Everyone   \n",
       "2  765524           TOOLS      632  8.2M     500,000+     0     Everyone   \n",
       "3  390533        BUSINESS       29   16M         500+     0     Everyone   \n",
       "4  817383  ART_AND_DESIGN      192  6.0M      10,000+     0     Everyone   \n",
       "\n",
       "       last_update latest_ver  \n",
       "0  January 4, 2018      1.0.2  \n",
       "1   March 14, 2017   1.5.2.21  \n",
       "2     May 23, 2017        1.0  \n",
       "3     July 5, 2018   2.2.1335  \n",
       "4   April 25, 2018        1.5  "
      ]
     },
     "execution_count": 496,
     "metadata": {},
     "output_type": "execute_result"
    }
   ],
   "source": [
    "#Loading Test data\n",
    "test_data=pd.read_csv('test.csv')\n",
    "test_data.head()"
   ]
  },
  {
   "cell_type": "code",
   "execution_count": 3,
   "metadata": {
    "colab": {},
    "colab_type": "code",
    "id": "EACDc1md6jBU",
    "pycharm": {
     "name": "#%%\n"
    }
   },
   "outputs": [],
   "source": [
    "# split the dataset into train and validation sets. here we follow a 70-30% split\n",
    "validation_size = 0.30 \n",
    "seed = 42 \n",
    "# now do the split\n",
    "X_train, X_validation, Y_train, Y_validation = train_test_split(X.toarray(), Y,test_size=validation_size, random_state=seed)"
   ]
  },
  {
   "cell_type": "code",
   "execution_count": 498,
   "metadata": {
    "pycharm": {
     "name": "#%%\n"
    }
   },
   "outputs": [],
   "source": [
    "# Evaluate an array on algorithms to decide on baseline performance\n",
    "num_folds = 10 \n",
    "seed = 42\n",
    "scoring = 'accuracy'"
   ]
  },
  {
   "cell_type": "code",
   "execution_count": 499,
   "metadata": {
    "pycharm": {
     "name": "#%%\n"
    }
   },
   "outputs": [],
   "source": [
    "# select a series of candidate classifier algorithms with DEFAULT parameters. The target variable is highly\n",
    "# imbalanced so we will assign adaptive weights to the targets via the class_weight parameter\n",
    "\n",
    "models = [] \n",
    "models.append((' LR' , LogisticRegression(solver='liblinear', class_weight='balanced'))) \n",
    "models.append((' KNN' , KNeighborsClassifier())) \n",
    "models.append((' DT' , DecisionTreeClassifier(class_weight='balanced'))) \n",
    "models.append((' NB' , GaussianNB()))\n",
    "models.append((' SVM' , SVC(gamma='auto', class_weight='balanced')))"
   ]
  },
  {
   "cell_type": "markdown",
   "metadata": {
    "pycharm": {
     "name": "#%% md\n"
    }
   },
   "source": [
    "#### The algorithms all use default tuning parameters. Let’s compare the algorithms. We will display the mean and standard deviation of accuracy for each algorithm as we calculate it and collect the results for use later."
   ]
  },
  {
   "cell_type": "code",
   "execution_count": 500,
   "metadata": {
    "pycharm": {
     "name": "#%%\n"
    }
   },
   "outputs": [
    {
     "name": "stdout",
     "output_type": "stream",
     "text": [
      " LR: 0.725188 (0.032292)\n",
      " KNN: 0.728102 (0.028918)\n",
      " DT: 0.683090 (0.040975)\n",
      " NB: 0.323416 (0.023977)\n",
      " SVM: 0.682387 (0.032776)\n"
     ]
    }
   ],
   "source": [
    "results = [] \n",
    "names = [] \n",
    "\n",
    "for name, model in models: \n",
    "    kfold = KFold(n_splits=num_folds, random_state=seed, shuffle=True) \n",
    "    cv_results = cross_val_score(model, X_train, Y_train, cv=kfold, scoring=scoring) \n",
    "    results.append(cv_results) \n",
    "    names.append(name) \n",
    "    msg = \"%s: %f (%f)\" % (name, cv_results.mean(), cv_results.std())\n",
    "    print(msg)"
   ]
  },
  {
   "cell_type": "code",
   "execution_count": 501,
   "metadata": {
    "pycharm": {
     "name": "#%%\n"
    }
   },
   "outputs": [
    {
     "data": {
      "image/png": "[encoded data removed]",
      "text/plain": [
       "<Figure size 432x288 with 1 Axes>"
      ]
     },
     "metadata": {
      "needs_background": "light"
     },
     "output_type": "display_data"
    }
   ],
   "source": [
    "# Compare Algorithms \n",
    "fig = plt.figure() \n",
    "fig.suptitle(' Algorithm Comparison' ) \n",
    "ax = fig.add_subplot(111) \n",
    "plt.boxplot(results) \n",
    "ax.set_xticklabels(names);"
   ]
  },
  {
   "cell_type": "markdown",
   "metadata": {
    "pycharm": {
     "name": "#%% md\n"
    }
   },
   "source": [
    "#### The result shows, Logistic Regression Classifier (LR) to perform the best (72.5% accuracy) on a 10 fold cross validated dataset with the least amount of variance in accuracy values across the 10 folds. Below, we do a grid search on the hyperparameters of SVC to tune the model further."
   ]
  },
  {
   "cell_type": "code",
   "execution_count": 502,
   "metadata": {
    "pycharm": {
     "name": "#%%\n"
    }
   },
   "outputs": [
    {
     "name": "stdout",
     "output_type": "stream",
     "text": [
      "Best: 0.732415 using {'C': 0.23357214690901212, 'penalty': 'l2', 'solver': 'liblinear'}\n"
     ]
    }
   ],
   "source": [
    "c_values = np.logspace(-4, 4, 20)\n",
    "penalty = ['l1', 'l2']\n",
    "solver =  ['liblinear']\n",
    "\n",
    "\n",
    "param_grid = dict(C=c_values, penalty=penalty, solver=solver) \n",
    "model = LogisticRegression(class_weight='balanced') \n",
    "\n",
    "kfold = KFold(n_splits=num_folds, random_state=seed, shuffle=True) \n",
    "grid = GridSearchCV(estimator=model, param_grid=param_grid, scoring=scoring, cv=kfold) \n",
    "grid_result = grid.fit(X_train, Y_train)\n",
    "best_model = grid.best_estimator_\n",
    "print(\"Best: %f using %s\" % (grid_result.best_score_, grid_result.best_params_))"
   ]
  },
  {
   "cell_type": "markdown",
   "metadata": {
    "pycharm": {
     "name": "#%% md\n"
    }
   },
   "source": [
    "#### The best model from grid search has improved accuracy of 73.2%. Below, we will analyse feature importance."
   ]
  },
  {
   "cell_type": "code",
   "execution_count": 503,
   "metadata": {
    "pycharm": {
     "name": "#%%\n"
    }
   },
   "outputs": [
    {
     "data": {
      "text/html": [
       "<div>\n",
       "<style scoped>\n",
       "    .dataframe tbody tr th:only-of-type {\n",
       "        vertical-align: middle;\n",
       "    }\n",
       "\n",
       "    .dataframe tbody tr th {\n",
       "        vertical-align: top;\n",
       "    }\n",
       "\n",
       "    .dataframe thead th {\n",
       "        text-align: right;\n",
       "    }\n",
       "</style>\n",
       "<table border=\"1\" class=\"dataframe\">\n",
       "  <thead>\n",
       "    <tr style=\"text-align: right;\">\n",
       "      <th></th>\n",
       "      <th>x0_ART_AND_DESIGN</th>\n",
       "      <th>x0_AUTO_AND_VEHICLES</th>\n",
       "      <th>x0_BEAUTY</th>\n",
       "      <th>x0_BOOKS_AND_REFERENCE</th>\n",
       "      <th>x0_BUSINESS</th>\n",
       "      <th>x0_COMICS</th>\n",
       "      <th>x0_COMMUNICATION</th>\n",
       "      <th>x0_DATING</th>\n",
       "      <th>x0_EDUCATION</th>\n",
       "      <th>x0_ENTERTAINMENT</th>\n",
       "      <th>x0_EVENTS</th>\n",
       "      <th>x0_FAMILY</th>\n",
       "      <th>x0_FINANCE</th>\n",
       "      <th>x0_FOOD_AND_DRINK</th>\n",
       "      <th>x0_GAME</th>\n",
       "      <th>x0_HEALTH_AND_FITNESS</th>\n",
       "      <th>x0_HOUSE_AND_HOME</th>\n",
       "      <th>x0_LIBRARIES_AND_DEMO</th>\n",
       "      <th>x0_LIFESTYLE</th>\n",
       "      <th>x0_MAPS_AND_NAVIGATION</th>\n",
       "      <th>x0_MEDICAL</th>\n",
       "      <th>x0_NEWS_AND_MAGAZINES</th>\n",
       "      <th>x0_PARENTING</th>\n",
       "      <th>x0_PERSONALIZATION</th>\n",
       "      <th>x0_PHOTOGRAPHY</th>\n",
       "      <th>x0_PRODUCTIVITY</th>\n",
       "      <th>x0_SHOPPING</th>\n",
       "      <th>x0_SOCIAL</th>\n",
       "      <th>x0_SPORTS</th>\n",
       "      <th>x0_TOOLS</th>\n",
       "      <th>x0_TRAVEL_AND_LOCAL</th>\n",
       "      <th>x0_VIDEO_PLAYERS</th>\n",
       "      <th>x0_WEATHER</th>\n",
       "      <th>x1_Adults only 18+</th>\n",
       "      <th>x1_Everyone</th>\n",
       "      <th>x1_Everyone 10+</th>\n",
       "      <th>x1_Mature 17+</th>\n",
       "      <th>x1_Teen</th>\n",
       "      <th>reviews</th>\n",
       "      <th>size</th>\n",
       "      <th>installs</th>\n",
       "      <th>price</th>\n",
       "      <th>last_update</th>\n",
       "      <th>latest_ver</th>\n",
       "    </tr>\n",
       "  </thead>\n",
       "  <tbody>\n",
       "    <tr>\n",
       "      <th>0</th>\n",
       "      <td>0.000</td>\n",
       "      <td>0.000</td>\n",
       "      <td>0.000</td>\n",
       "      <td>0.000</td>\n",
       "      <td>0.000</td>\n",
       "      <td>0.000</td>\n",
       "      <td>0.000</td>\n",
       "      <td>0.000</td>\n",
       "      <td>0.000</td>\n",
       "      <td>0.000</td>\n",
       "      <td>0.000</td>\n",
       "      <td>0.000</td>\n",
       "      <td>0.000</td>\n",
       "      <td>0.000</td>\n",
       "      <td>0.000</td>\n",
       "      <td>0.000</td>\n",
       "      <td>0.000</td>\n",
       "      <td>0.000</td>\n",
       "      <td>0.000</td>\n",
       "      <td>0.000</td>\n",
       "      <td>0.000</td>\n",
       "      <td>0.000</td>\n",
       "      <td>0.000</td>\n",
       "      <td>1.000</td>\n",
       "      <td>0.000</td>\n",
       "      <td>0.000</td>\n",
       "      <td>0.000</td>\n",
       "      <td>0.000</td>\n",
       "      <td>0.000</td>\n",
       "      <td>0.000</td>\n",
       "      <td>0.000</td>\n",
       "      <td>0.000</td>\n",
       "      <td>0.000</td>\n",
       "      <td>0.000</td>\n",
       "      <td>1.000</td>\n",
       "      <td>0.000</td>\n",
       "      <td>0.000</td>\n",
       "      <td>0.000</td>\n",
       "      <td>-1.345</td>\n",
       "      <td>-2.516</td>\n",
       "      <td>-1.676</td>\n",
       "      <td>-0.289</td>\n",
       "      <td>-0.807</td>\n",
       "      <td>-0.352</td>\n",
       "    </tr>\n",
       "    <tr>\n",
       "      <th>1</th>\n",
       "      <td>0.000</td>\n",
       "      <td>0.000</td>\n",
       "      <td>0.000</td>\n",
       "      <td>0.000</td>\n",
       "      <td>0.000</td>\n",
       "      <td>0.000</td>\n",
       "      <td>0.000</td>\n",
       "      <td>0.000</td>\n",
       "      <td>0.000</td>\n",
       "      <td>0.000</td>\n",
       "      <td>0.000</td>\n",
       "      <td>0.000</td>\n",
       "      <td>0.000</td>\n",
       "      <td>0.000</td>\n",
       "      <td>1.000</td>\n",
       "      <td>0.000</td>\n",
       "      <td>0.000</td>\n",
       "      <td>0.000</td>\n",
       "      <td>0.000</td>\n",
       "      <td>0.000</td>\n",
       "      <td>0.000</td>\n",
       "      <td>0.000</td>\n",
       "      <td>0.000</td>\n",
       "      <td>0.000</td>\n",
       "      <td>0.000</td>\n",
       "      <td>0.000</td>\n",
       "      <td>0.000</td>\n",
       "      <td>0.000</td>\n",
       "      <td>0.000</td>\n",
       "      <td>0.000</td>\n",
       "      <td>0.000</td>\n",
       "      <td>0.000</td>\n",
       "      <td>0.000</td>\n",
       "      <td>0.000</td>\n",
       "      <td>0.000</td>\n",
       "      <td>0.000</td>\n",
       "      <td>0.000</td>\n",
       "      <td>1.000</td>\n",
       "      <td>1.719</td>\n",
       "      <td>-0.622</td>\n",
       "      <td>1.307</td>\n",
       "      <td>-0.289</td>\n",
       "      <td>-3.213</td>\n",
       "      <td>0.380</td>\n",
       "    </tr>\n",
       "    <tr>\n",
       "      <th>2</th>\n",
       "      <td>0.000</td>\n",
       "      <td>0.000</td>\n",
       "      <td>0.000</td>\n",
       "      <td>0.000</td>\n",
       "      <td>0.000</td>\n",
       "      <td>0.000</td>\n",
       "      <td>0.000</td>\n",
       "      <td>0.000</td>\n",
       "      <td>0.000</td>\n",
       "      <td>0.000</td>\n",
       "      <td>0.000</td>\n",
       "      <td>1.000</td>\n",
       "      <td>0.000</td>\n",
       "      <td>0.000</td>\n",
       "      <td>0.000</td>\n",
       "      <td>0.000</td>\n",
       "      <td>0.000</td>\n",
       "      <td>0.000</td>\n",
       "      <td>0.000</td>\n",
       "      <td>0.000</td>\n",
       "      <td>0.000</td>\n",
       "      <td>0.000</td>\n",
       "      <td>0.000</td>\n",
       "      <td>0.000</td>\n",
       "      <td>0.000</td>\n",
       "      <td>0.000</td>\n",
       "      <td>0.000</td>\n",
       "      <td>0.000</td>\n",
       "      <td>0.000</td>\n",
       "      <td>0.000</td>\n",
       "      <td>0.000</td>\n",
       "      <td>0.000</td>\n",
       "      <td>0.000</td>\n",
       "      <td>0.000</td>\n",
       "      <td>0.000</td>\n",
       "      <td>0.000</td>\n",
       "      <td>0.000</td>\n",
       "      <td>1.000</td>\n",
       "      <td>-0.459</td>\n",
       "      <td>1.501</td>\n",
       "      <td>-0.904</td>\n",
       "      <td>2.410</td>\n",
       "      <td>0.184</td>\n",
       "      <td>-0.521</td>\n",
       "    </tr>\n",
       "    <tr>\n",
       "      <th>3</th>\n",
       "      <td>0.000</td>\n",
       "      <td>0.000</td>\n",
       "      <td>0.000</td>\n",
       "      <td>0.000</td>\n",
       "      <td>0.000</td>\n",
       "      <td>0.000</td>\n",
       "      <td>0.000</td>\n",
       "      <td>0.000</td>\n",
       "      <td>0.000</td>\n",
       "      <td>0.000</td>\n",
       "      <td>0.000</td>\n",
       "      <td>1.000</td>\n",
       "      <td>0.000</td>\n",
       "      <td>0.000</td>\n",
       "      <td>0.000</td>\n",
       "      <td>0.000</td>\n",
       "      <td>0.000</td>\n",
       "      <td>0.000</td>\n",
       "      <td>0.000</td>\n",
       "      <td>0.000</td>\n",
       "      <td>0.000</td>\n",
       "      <td>0.000</td>\n",
       "      <td>0.000</td>\n",
       "      <td>0.000</td>\n",
       "      <td>0.000</td>\n",
       "      <td>0.000</td>\n",
       "      <td>0.000</td>\n",
       "      <td>0.000</td>\n",
       "      <td>0.000</td>\n",
       "      <td>0.000</td>\n",
       "      <td>0.000</td>\n",
       "      <td>0.000</td>\n",
       "      <td>0.000</td>\n",
       "      <td>0.000</td>\n",
       "      <td>0.000</td>\n",
       "      <td>0.000</td>\n",
       "      <td>0.000</td>\n",
       "      <td>1.000</td>\n",
       "      <td>1.975</td>\n",
       "      <td>1.759</td>\n",
       "      <td>1.487</td>\n",
       "      <td>-0.289</td>\n",
       "      <td>0.630</td>\n",
       "      <td>-0.412</td>\n",
       "    </tr>\n",
       "    <tr>\n",
       "      <th>4</th>\n",
       "      <td>0.000</td>\n",
       "      <td>0.000</td>\n",
       "      <td>0.000</td>\n",
       "      <td>0.000</td>\n",
       "      <td>0.000</td>\n",
       "      <td>0.000</td>\n",
       "      <td>0.000</td>\n",
       "      <td>1.000</td>\n",
       "      <td>0.000</td>\n",
       "      <td>0.000</td>\n",
       "      <td>0.000</td>\n",
       "      <td>0.000</td>\n",
       "      <td>0.000</td>\n",
       "      <td>0.000</td>\n",
       "      <td>0.000</td>\n",
       "      <td>0.000</td>\n",
       "      <td>0.000</td>\n",
       "      <td>0.000</td>\n",
       "      <td>0.000</td>\n",
       "      <td>0.000</td>\n",
       "      <td>0.000</td>\n",
       "      <td>0.000</td>\n",
       "      <td>0.000</td>\n",
       "      <td>0.000</td>\n",
       "      <td>0.000</td>\n",
       "      <td>0.000</td>\n",
       "      <td>0.000</td>\n",
       "      <td>0.000</td>\n",
       "      <td>0.000</td>\n",
       "      <td>0.000</td>\n",
       "      <td>0.000</td>\n",
       "      <td>0.000</td>\n",
       "      <td>0.000</td>\n",
       "      <td>0.000</td>\n",
       "      <td>0.000</td>\n",
       "      <td>0.000</td>\n",
       "      <td>1.000</td>\n",
       "      <td>0.000</td>\n",
       "      <td>-0.599</td>\n",
       "      <td>-0.740</td>\n",
       "      <td>-0.904</td>\n",
       "      <td>-0.289</td>\n",
       "      <td>0.585</td>\n",
       "      <td>0.889</td>\n",
       "    </tr>\n",
       "  </tbody>\n",
       "</table>\n",
       "</div>"
      ],
      "text/plain": [
       "   x0_ART_AND_DESIGN  x0_AUTO_AND_VEHICLES  x0_BEAUTY  x0_BOOKS_AND_REFERENCE  \\\n",
       "0              0.000                 0.000      0.000                   0.000   \n",
       "1              0.000                 0.000      0.000                   0.000   \n",
       "2              0.000                 0.000      0.000                   0.000   \n",
       "3              0.000                 0.000      0.000                   0.000   \n",
       "4              0.000                 0.000      0.000                   0.000   \n",
       "\n",
       "   x0_BUSINESS  x0_COMICS  x0_COMMUNICATION  x0_DATING  x0_EDUCATION  \\\n",
       "0        0.000      0.000             0.000      0.000         0.000   \n",
       "1        0.000      0.000             0.000      0.000         0.000   \n",
       "2        0.000      0.000             0.000      0.000         0.000   \n",
       "3        0.000      0.000             0.000      0.000         0.000   \n",
       "4        0.000      0.000             0.000      1.000         0.000   \n",
       "\n",
       "   x0_ENTERTAINMENT  x0_EVENTS  x0_FAMILY  x0_FINANCE  x0_FOOD_AND_DRINK  \\\n",
       "0             0.000      0.000      0.000       0.000              0.000   \n",
       "1             0.000      0.000      0.000       0.000              0.000   \n",
       "2             0.000      0.000      1.000       0.000              0.000   \n",
       "3             0.000      0.000      1.000       0.000              0.000   \n",
       "4             0.000      0.000      0.000       0.000              0.000   \n",
       "\n",
       "   x0_GAME  x0_HEALTH_AND_FITNESS  x0_HOUSE_AND_HOME  x0_LIBRARIES_AND_DEMO  \\\n",
       "0    0.000                  0.000              0.000                  0.000   \n",
       "1    1.000                  0.000              0.000                  0.000   \n",
       "2    0.000                  0.000              0.000                  0.000   \n",
       "3    0.000                  0.000              0.000                  0.000   \n",
       "4    0.000                  0.000              0.000                  0.000   \n",
       "\n",
       "   x0_LIFESTYLE  x0_MAPS_AND_NAVIGATION  x0_MEDICAL  x0_NEWS_AND_MAGAZINES  \\\n",
       "0         0.000                   0.000       0.000                  0.000   \n",
       "1         0.000                   0.000       0.000                  0.000   \n",
       "2         0.000                   0.000       0.000                  0.000   \n",
       "3         0.000                   0.000       0.000                  0.000   \n",
       "4         0.000                   0.000       0.000                  0.000   \n",
       "\n",
       "   x0_PARENTING  x0_PERSONALIZATION  x0_PHOTOGRAPHY  x0_PRODUCTIVITY  \\\n",
       "0         0.000               1.000           0.000            0.000   \n",
       "1         0.000               0.000           0.000            0.000   \n",
       "2         0.000               0.000           0.000            0.000   \n",
       "3         0.000               0.000           0.000            0.000   \n",
       "4         0.000               0.000           0.000            0.000   \n",
       "\n",
       "   x0_SHOPPING  x0_SOCIAL  x0_SPORTS  x0_TOOLS  x0_TRAVEL_AND_LOCAL  \\\n",
       "0        0.000      0.000      0.000     0.000                0.000   \n",
       "1        0.000      0.000      0.000     0.000                0.000   \n",
       "2        0.000      0.000      0.000     0.000                0.000   \n",
       "3        0.000      0.000      0.000     0.000                0.000   \n",
       "4        0.000      0.000      0.000     0.000                0.000   \n",
       "\n",
       "   x0_VIDEO_PLAYERS  x0_WEATHER  x1_Adults only 18+  x1_Everyone  \\\n",
       "0             0.000       0.000               0.000        1.000   \n",
       "1             0.000       0.000               0.000        0.000   \n",
       "2             0.000       0.000               0.000        0.000   \n",
       "3             0.000       0.000               0.000        0.000   \n",
       "4             0.000       0.000               0.000        0.000   \n",
       "\n",
       "   x1_Everyone 10+  x1_Mature 17+  x1_Teen  reviews   size  installs  price  \\\n",
       "0            0.000          0.000    0.000   -1.345 -2.516    -1.676 -0.289   \n",
       "1            0.000          0.000    1.000    1.719 -0.622     1.307 -0.289   \n",
       "2            0.000          0.000    1.000   -0.459  1.501    -0.904  2.410   \n",
       "3            0.000          0.000    1.000    1.975  1.759     1.487 -0.289   \n",
       "4            0.000          1.000    0.000   -0.599 -0.740    -0.904 -0.289   \n",
       "\n",
       "   last_update  latest_ver  \n",
       "0       -0.807      -0.352  \n",
       "1       -3.213       0.380  \n",
       "2        0.184      -0.521  \n",
       "3        0.630      -0.412  \n",
       "4        0.585       0.889  "
      ]
     },
     "execution_count": 503,
     "metadata": {},
     "output_type": "execute_result"
    }
   ],
   "source": [
    "# lets first look at the dataset the model takes as an input\n",
    "one_hot_cats = list(ct.named_transformers_['onehotencoder'].get_feature_names())\n",
    "all_features = one_hot_cats + numeric_cols\n",
    "\n",
    "X_df = pd.DataFrame(data=X.toarray(), columns=all_features)\n",
    "X_df.head()"
   ]
  },
  {
   "cell_type": "code",
   "execution_count": 504,
   "metadata": {
    "pycharm": {
     "name": "#%%\n"
    }
   },
   "outputs": [],
   "source": [
    "# Feature Importance\n",
    "# get importance\n",
    "importance = best_model.coef_[0]\n",
    "    \n",
    "# plot feature importance\n",
    "xx = [x for x in range(len(importance))]"
   ]
  },
  {
   "cell_type": "code",
   "execution_count": 2,
   "metadata": {
    "colab": {},
    "colab_type": "code",
    "id": "dDUszYgY6jTC",
    "pycharm": {
     "name": "#%%\n"
    }
   },
   "outputs": [],
   "source": [
    "sns.set(font_scale=1)\n",
    "f, ax = plt.subplots(1,1, figsize=(20, 10))\n",
    "chart = sns.barplot(xx, importance, ax=ax)\n",
    "chart.set_xticklabels(labels = all_features, rotation=90);"
   ]
  },
  {
   "cell_type": "markdown",
   "metadata": {
    "colab": {},
    "colab_type": "code",
    "id": "Q10pPSlJ6jxF",
    "pycharm": {
     "name": "#%% md\n"
    }
   },
   "source": [
    "#### The chart shows the feature importance of all the features. The higher the bar, the more is the importance. It looks like the number of installations and the number of reviews have the highest effect on popularity score."
   ]
  },
  {
   "cell_type": "markdown",
   "metadata": {
    "colab_type": "text",
    "id": "BBY_2aqZLmXX",
    "pycharm": {
     "name": "#%% md\n"
    }
   },
   "source": [
    "- **Submit the predictions on the test dataset using your optimized model**\n",
    "\n",
    "    For each record in the test set (`test.csv`), predict the `popularity` variable. Submit a CSV file with a header row and one row per test entry.\n",
    "\n",
    "The file (`submissions.csv`) should have exactly 2 columns:\n",
    "   - **app_id**\n",
    "   - **popularity**"
   ]
  },
  {
   "cell_type": "code",
   "execution_count": 506,
   "metadata": {
    "colab": {},
    "colab_type": "code",
    "id": "XerjX13NL6w0",
    "pycharm": {
     "name": "#%%\n"
    }
   },
   "outputs": [
    {
     "data": {
      "text/html": [
       "<div>\n",
       "<style scoped>\n",
       "    .dataframe tbody tr th:only-of-type {\n",
       "        vertical-align: middle;\n",
       "    }\n",
       "\n",
       "    .dataframe tbody tr th {\n",
       "        vertical-align: top;\n",
       "    }\n",
       "\n",
       "    .dataframe thead th {\n",
       "        text-align: right;\n",
       "    }\n",
       "</style>\n",
       "<table border=\"1\" class=\"dataframe\">\n",
       "  <thead>\n",
       "    <tr style=\"text-align: right;\">\n",
       "      <th></th>\n",
       "      <th>app_id</th>\n",
       "      <th>category</th>\n",
       "      <th>reviews</th>\n",
       "      <th>size</th>\n",
       "      <th>installs</th>\n",
       "      <th>price</th>\n",
       "      <th>suitable_for</th>\n",
       "      <th>last_update</th>\n",
       "      <th>latest_ver</th>\n",
       "    </tr>\n",
       "  </thead>\n",
       "  <tbody>\n",
       "    <tr>\n",
       "      <th>0</th>\n",
       "      <td>144236</td>\n",
       "      <td>TOOLS</td>\n",
       "      <td>262076</td>\n",
       "      <td>1.2M</td>\n",
       "      <td>10,000,000+</td>\n",
       "      <td>0</td>\n",
       "      <td>Everyone</td>\n",
       "      <td>January 4, 2018</td>\n",
       "      <td>1.0.2</td>\n",
       "    </tr>\n",
       "    <tr>\n",
       "      <th>1</th>\n",
       "      <td>881323</td>\n",
       "      <td>PHOTOGRAPHY</td>\n",
       "      <td>12204</td>\n",
       "      <td>6.8M</td>\n",
       "      <td>1,000,000+</td>\n",
       "      <td>0</td>\n",
       "      <td>Everyone</td>\n",
       "      <td>March 14, 2017</td>\n",
       "      <td>1.5.2.21</td>\n",
       "    </tr>\n",
       "    <tr>\n",
       "      <th>2</th>\n",
       "      <td>765524</td>\n",
       "      <td>TOOLS</td>\n",
       "      <td>632</td>\n",
       "      <td>8.2M</td>\n",
       "      <td>500,000+</td>\n",
       "      <td>0</td>\n",
       "      <td>Everyone</td>\n",
       "      <td>May 23, 2017</td>\n",
       "      <td>1.0</td>\n",
       "    </tr>\n",
       "    <tr>\n",
       "      <th>3</th>\n",
       "      <td>390533</td>\n",
       "      <td>BUSINESS</td>\n",
       "      <td>29</td>\n",
       "      <td>16M</td>\n",
       "      <td>500+</td>\n",
       "      <td>0</td>\n",
       "      <td>Everyone</td>\n",
       "      <td>July 5, 2018</td>\n",
       "      <td>2.2.1335</td>\n",
       "    </tr>\n",
       "    <tr>\n",
       "      <th>4</th>\n",
       "      <td>817383</td>\n",
       "      <td>ART_AND_DESIGN</td>\n",
       "      <td>192</td>\n",
       "      <td>6.0M</td>\n",
       "      <td>10,000+</td>\n",
       "      <td>0</td>\n",
       "      <td>Everyone</td>\n",
       "      <td>April 25, 2018</td>\n",
       "      <td>1.5</td>\n",
       "    </tr>\n",
       "  </tbody>\n",
       "</table>\n",
       "</div>"
      ],
      "text/plain": [
       "   app_id        category  reviews  size     installs price suitable_for  \\\n",
       "0  144236           TOOLS   262076  1.2M  10,000,000+     0     Everyone   \n",
       "1  881323     PHOTOGRAPHY    12204  6.8M   1,000,000+     0     Everyone   \n",
       "2  765524           TOOLS      632  8.2M     500,000+     0     Everyone   \n",
       "3  390533        BUSINESS       29   16M         500+     0     Everyone   \n",
       "4  817383  ART_AND_DESIGN      192  6.0M      10,000+     0     Everyone   \n",
       "\n",
       "       last_update latest_ver  \n",
       "0  January 4, 2018      1.0.2  \n",
       "1   March 14, 2017   1.5.2.21  \n",
       "2     May 23, 2017        1.0  \n",
       "3     July 5, 2018   2.2.1335  \n",
       "4   April 25, 2018        1.5  "
      ]
     },
     "execution_count": 506,
     "metadata": {},
     "output_type": "execute_result"
    }
   ],
   "source": [
    "# do all the data preprocessing on the test data set\n",
    "test_df = test_data.copy()\n",
    "test_df.dropna(inplace=True)\n",
    "test_df.head()"
   ]
  },
  {
   "cell_type": "code",
   "execution_count": 507,
   "metadata": {
    "pycharm": {
     "name": "#%%\n"
    }
   },
   "outputs": [],
   "source": [
    "test_df['size'] = test_df['size'].apply(convert_to_proper_no)\n",
    "test_df['installs'] = test_df['installs'].apply(lambda v: int(v[:-1].replace(\",\", \"\")))\n",
    "test_df['price'] = test_df['price'].apply(lambda v: float(v.replace(\"$\", \"\")))\n",
    "test_df['last_update'] = pd.to_datetime(test_df['last_update'])\n",
    "test_df['last_update'] = (test_df['last_update'] - dt.datetime(1970,1,1)).dt.total_seconds()\n",
    "test_df['latest_ver'] = test_df['latest_ver'].apply(convert_to_numeric_version)"
   ]
  },
  {
   "cell_type": "code",
   "execution_count": 508,
   "metadata": {
    "pycharm": {
     "name": "#%%\n"
    }
   },
   "outputs": [],
   "source": [
    "cols_to_transform = ['reviews', 'size', 'installs', 'price', 'last_update', 'latest_ver']\n",
    "\n",
    "for col in cols_to_transform:\n",
    "    test_df[col] = test_df[col].apply(lambda x: np.log(x + 1))"
   ]
  },
  {
   "cell_type": "code",
   "execution_count": 509,
   "metadata": {
    "pycharm": {
     "name": "#%%\n"
    }
   },
   "outputs": [],
   "source": [
    "X_test = test_df.drop(['app_id'], axis=1)\n",
    "X_test = ct.transform(X_test)"
   ]
  },
  {
   "cell_type": "code",
   "execution_count": 510,
   "metadata": {
    "pycharm": {
     "name": "#%%\n"
    }
   },
   "outputs": [],
   "source": [
    "predictions = best_model.predict(X_test)"
   ]
  },
  {
   "cell_type": "code",
   "execution_count": 511,
   "metadata": {
    "pycharm": {
     "name": "#%%\n"
    }
   },
   "outputs": [
    {
     "data": {
      "text/html": [
       "<div>\n",
       "<style scoped>\n",
       "    .dataframe tbody tr th:only-of-type {\n",
       "        vertical-align: middle;\n",
       "    }\n",
       "\n",
       "    .dataframe tbody tr th {\n",
       "        vertical-align: top;\n",
       "    }\n",
       "\n",
       "    .dataframe thead th {\n",
       "        text-align: right;\n",
       "    }\n",
       "</style>\n",
       "<table border=\"1\" class=\"dataframe\">\n",
       "  <thead>\n",
       "    <tr style=\"text-align: right;\">\n",
       "      <th></th>\n",
       "      <th>app_id</th>\n",
       "      <th>popularity</th>\n",
       "    </tr>\n",
       "  </thead>\n",
       "  <tbody>\n",
       "    <tr>\n",
       "      <th>0</th>\n",
       "      <td>144236</td>\n",
       "      <td>High</td>\n",
       "    </tr>\n",
       "    <tr>\n",
       "      <th>1</th>\n",
       "      <td>881323</td>\n",
       "      <td>Low</td>\n",
       "    </tr>\n",
       "    <tr>\n",
       "      <th>2</th>\n",
       "      <td>765524</td>\n",
       "      <td>Low</td>\n",
       "    </tr>\n",
       "    <tr>\n",
       "      <th>3</th>\n",
       "      <td>390533</td>\n",
       "      <td>High</td>\n",
       "    </tr>\n",
       "    <tr>\n",
       "      <th>4</th>\n",
       "      <td>817383</td>\n",
       "      <td>High</td>\n",
       "    </tr>\n",
       "  </tbody>\n",
       "</table>\n",
       "</div>"
      ],
      "text/plain": [
       "   app_id popularity\n",
       "0  144236       High\n",
       "1  881323        Low\n",
       "2  765524        Low\n",
       "3  390533       High\n",
       "4  817383       High"
      ]
     },
     "execution_count": 511,
     "metadata": {},
     "output_type": "execute_result"
    }
   ],
   "source": [
    "submission_df = pd.DataFrame(data={'app_id': test_df['app_id'],\n",
    "                                  'popularity': predictions})\n",
    "submission_df['popularity'] = submission_df['popularity'].map({0: 'High', 1: 'Low'})\n",
    "submission_df.head()"
   ]
  },
  {
   "cell_type": "code",
   "execution_count": 512,
   "metadata": {
    "colab": {},
    "colab_type": "code",
    "id": "_trNCAAzL67H",
    "pycharm": {
     "name": "#%%\n"
    }
   },
   "outputs": [],
   "source": [
    "#Submission\n",
    "submission_df.to_csv('submissions.csv',index=False)"
   ]
  }
 ],
 "metadata": {
  "colab": {
   "collapsed_sections": [],
   "name": "Questions.ipynb",
   "provenance": []
  },
  "kernelspec": {
   "display_name": "Python 3",
   "language": "python",
   "name": "python3"
  },
  "language_info": {
   "codemirror_mode": {
    "name": "ipython",
    "version": 3
   },
   "file_extension": ".py",
   "mimetype": "text/x-python",
   "name": "python",
   "nbconvert_exporter": "python",
   "pygments_lexer": "ipython3",
   "version": "3.6.4"
  }
 },
 "nbformat": 4,
 "nbformat_minor": 4
}