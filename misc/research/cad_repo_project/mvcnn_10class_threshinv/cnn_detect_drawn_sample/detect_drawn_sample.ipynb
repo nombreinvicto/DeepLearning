{
 "cells": [
  {
   "cell_type": "code",
   "execution_count": 68,
   "metadata": {
    "collapsed": true
   },
   "outputs": [],
   "source": [
    "import os\n",
    "from cv2 import cv2\n",
    "import numpy as np\n",
    "from imutils import paths\n",
    "import matplotlib.pyplot as plt\n",
    "from tensorflow.keras.models import load_model"
   ]
  },
  {
   "cell_type": "code",
   "execution_count": 69,
   "outputs": [],
   "source": [
    "dir = r\"C:\\Users\\mhasa\\Desktop\\mvcnn_gray_roi_28px\"\n",
    "image_paths = list(paths.list_images(dir))\n",
    "categories = np.unique([p.split(os.path.sep)[-2] for p in image_paths])"
   ],
   "metadata": {
    "collapsed": false,
    "pycharm": {
     "name": "#%%\n"
    }
   }
  },
  {
   "cell_type": "code",
   "execution_count": 70,
   "outputs": [
    {
     "name": "stdout",
     "output_type": "stream",
     "text": [
      "Model: \"sequential\"\n",
      "_________________________________________________________________\n",
      "Layer (type)                 Output Shape              Param #   \n",
      "=================================================================\n",
      "conv2d (Conv2D)              (None, 28, 28, 32)        320       \n",
      "_________________________________________________________________\n",
      "activation (Activation)      (None, 28, 28, 32)        0         \n",
      "_________________________________________________________________\n",
      "batch_normalization (BatchNo (None, 28, 28, 32)        128       \n",
      "_________________________________________________________________\n",
      "conv2d_1 (Conv2D)            (None, 28, 28, 32)        9248      \n",
      "_________________________________________________________________\n",
      "activation_1 (Activation)    (None, 28, 28, 32)        0         \n",
      "_________________________________________________________________\n",
      "batch_normalization_1 (Batch (None, 28, 28, 32)        128       \n",
      "_________________________________________________________________\n",
      "max_pooling2d (MaxPooling2D) (None, 14, 14, 32)        0         \n",
      "_________________________________________________________________\n",
      "dropout (Dropout)            (None, 14, 14, 32)        0         \n",
      "_________________________________________________________________\n",
      "conv2d_2 (Conv2D)            (None, 14, 14, 64)        18496     \n",
      "_________________________________________________________________\n",
      "activation_2 (Activation)    (None, 14, 14, 64)        0         \n",
      "_________________________________________________________________\n",
      "batch_normalization_2 (Batch (None, 14, 14, 64)        256       \n",
      "_________________________________________________________________\n",
      "conv2d_3 (Conv2D)            (None, 14, 14, 64)        36928     \n",
      "_________________________________________________________________\n",
      "activation_3 (Activation)    (None, 14, 14, 64)        0         \n",
      "_________________________________________________________________\n",
      "batch_normalization_3 (Batch (None, 14, 14, 64)        256       \n",
      "_________________________________________________________________\n",
      "max_pooling2d_1 (MaxPooling2 (None, 7, 7, 64)          0         \n",
      "_________________________________________________________________\n",
      "dropout_1 (Dropout)          (None, 7, 7, 64)          0         \n",
      "_________________________________________________________________\n",
      "flatten (Flatten)            (None, 3136)              0         \n",
      "_________________________________________________________________\n",
      "dense (Dense)                (None, 512)               1606144   \n",
      "_________________________________________________________________\n",
      "activation_4 (Activation)    (None, 512)               0         \n",
      "_________________________________________________________________\n",
      "batch_normalization_4 (Batch (None, 512)               2048      \n",
      "_________________________________________________________________\n",
      "dropout_2 (Dropout)          (None, 512)               0         \n",
      "_________________________________________________________________\n",
      "dense_1 (Dense)              (None, 10)                5130      \n",
      "_________________________________________________________________\n",
      "activation_5 (Activation)    (None, 10)                0         \n",
      "=================================================================\n",
      "Total params: 1,679,082\n",
      "Trainable params: 1,677,674\n",
      "Non-trainable params: 1,408\n",
      "_________________________________________________________________\n",
      "None\n"
     ]
    }
   ],
   "source": [
    "def load_trained_cnn(model_name):\n",
    "    data_dir = r\"C:\\Users\\mhasa\\GDrive\\mvcnn\"\n",
    "    # load the model\n",
    "    loaded_model = load_model(f\"{data_dir}//{model_name}\")\n",
    "    print(loaded_model.summary())\n",
    "    return loaded_model\n",
    "cnn_model = load_trained_cnn(\"model_mvcnn_color_roi_10class_28px1px_255_minvgg.h5\")"
   ],
   "metadata": {
    "collapsed": false,
    "pycharm": {
     "name": "#%%\n"
    }
   }
  },
  {
   "cell_type": "code",
   "execution_count": 71,
   "outputs": [],
   "source": [
    "# read the image and create signature\n",
    "def load_and_preprocess_image(image_name, preprocess=True):\n",
    "\n",
    "    thresh = 180\n",
    "    max_val = 255\n",
    "    target_image_size = 28\n",
    "\n",
    "    data_dir = r\"C:\\Users\\mhasa\\Desktop\\draw_samples\"\n",
    "    img = cv2.imread(f\"{data_dir}//{image_name}.JPG\", cv2.IMREAD_GRAYSCALE)\n",
    "    resizedROI = img\n",
    "\n",
    "\n",
    "    if preprocess == True:\n",
    "        # do inverse thresholding\n",
    "        th, dst_bin = cv2.threshold(img.copy(),\n",
    "                                    thresh=thresh,\n",
    "                                    maxval=max_val,\n",
    "                                    type=cv2.THRESH_BINARY_INV)\n",
    "\n",
    "        # find all contours in the image\n",
    "        contours, hierarchy = cv2.findContours(dst_bin,\n",
    "                                               cv2.RETR_EXTERNAL,\n",
    "                                               cv2.CHAIN_APPROX_NONE)\n",
    "\n",
    "        # then find bounding box ROI\n",
    "        #new_image = dst_bin.copy()\n",
    "        new_image = img.copy()\n",
    "        for cnt in contours:\n",
    "            x, y, w, h = cv2.boundingRect(cnt)\n",
    "\n",
    "            # extract the ROI\n",
    "            pad = 10\n",
    "            roi = new_image[y - pad:y + h + pad, x - pad:x + w + pad]\n",
    "\n",
    "            # resize the ROI\n",
    "            # resizedROI = aap.preprocess(roi)\n",
    "            resizedROI = cv2.resize(roi, (target_image_size, target_image_size))\n",
    "\n",
    "    return resizedROI"
   ],
   "metadata": {
    "collapsed": false,
    "pycharm": {
     "name": "#%%\n"
    }
   }
  },
  {
   "cell_type": "code",
   "execution_count": 72,
   "outputs": [],
   "source": [
    "# predict the image\n",
    "def predict_image_content(processed_image, model):\n",
    "\n",
    "    processed_image = processed_image / 255.0\n",
    "    # channel dim and batch dim since we doing feature extraction\n",
    "    processed_image = np.expand_dims(processed_image, axis=-1)\n",
    "    processed_image = np.expand_dims(processed_image, axis=0)\n",
    "    return model.predict(processed_image)"
   ],
   "metadata": {
    "collapsed": false,
    "pycharm": {
     "name": "#%%\n"
    }
   }
  },
  {
   "cell_type": "code",
   "execution_count": 77,
   "outputs": [
    {
     "data": {
      "text/plain": "<matplotlib.image.AxesImage at 0x16e4d4224a8>"
     },
     "execution_count": 77,
     "metadata": {},
     "output_type": "execute_result"
    },
    {
     "data": {
      "text/plain": "<Figure size 432x288 with 1 Axes>",
      "image/png": "[encoded data removed]"
     },
     "metadata": {
      "needs_background": "light"
     },
     "output_type": "display_data"
    }
   ],
   "source": [
    "img = load_and_preprocess_image(\"gasket\", preprocess=True)\n",
    "plt.imshow(img, cmap='gray')"
   ],
   "metadata": {
    "collapsed": false,
    "pycharm": {
     "name": "#%%\n"
    }
   }
  },
  {
   "cell_type": "code",
   "execution_count": 78,
   "outputs": [
    {
     "name": "stdout",
     "output_type": "stream",
     "text": [
      "O-Rings\n"
     ]
    }
   ],
   "source": [
    "prediction = predict_image_content(img, cnn_model)\n",
    "detected_part = categories[np.argmax(prediction)]\n",
    "print(detected_part)"
   ],
   "metadata": {
    "collapsed": false,
    "pycharm": {
     "name": "#%%\n"
    }
   }
  },
  {
   "cell_type": "code",
   "execution_count": null,
   "outputs": [],
   "source": [],
   "metadata": {
    "collapsed": false,
    "pycharm": {
     "name": "#%%\n"
    }
   }
  }
 ],
 "metadata": {
  "kernelspec": {
   "display_name": "Python 3",
   "language": "python",
   "name": "python3"
  },
  "language_info": {
   "codemirror_mode": {
    "name": "ipython",
    "version": 2
   },
   "file_extension": ".py",
   "mimetype": "text/x-python",
   "name": "python",
   "nbconvert_exporter": "python",
   "pygments_lexer": "ipython2",
   "version": "2.7.6"
  }
 },
 "nbformat": 4,
 "nbformat_minor": 0
}