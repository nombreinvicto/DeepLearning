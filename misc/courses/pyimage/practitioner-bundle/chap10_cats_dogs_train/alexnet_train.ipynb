{
 "cells": [
  {
   "metadata": {},
   "cell_type": "code",
   "outputs": [],
   "execution_count": null,
   "source": [
    "import sys\n",
    "from google.colab import drive\n",
    "drive.mount('/content/drive')\n",
    "sys.path.append(r\"/content/drive/MyDrive/\")"
   ],
   "id": "3df3fb9d8bce5375"
  },
  {
   "cell_type": "code",
   "id": "initial_id",
   "metadata": {
    "collapsed": true,
    "ExecuteTime": {
     "end_time": "2025-09-30T08:01:49.506064Z",
     "start_time": "2025-09-30T08:01:45.742737Z"
    }
   },
   "source": [
    "import config\n",
    "from loader_util.preprocessing import (\n",
    "    ImageToArrayPreprocessor,\n",
    "    SimplePreprocessor,\n",
    "    PatchPreprocessor,\n",
    "    MeanPreprocessor\n",
    ")\n",
    "\n",
    "from loader_util.callbacks import TrainingMonitor\n",
    "from loader_util.io import HDF5DatasetGenerator\n",
    "from loader_util.nn.conv import AlexNet\n",
    "from tensorflow.keras.preprocessing.image import ImageDataGenerator\n",
    "from tensorflow.keras.optimizers import Adam\n",
    "import json\n",
    "import os"
   ],
   "outputs": [],
   "execution_count": 1
  },
  {
   "metadata": {
    "ExecuteTime": {
     "end_time": "2025-09-30T08:06:23.931735Z",
     "start_time": "2025-09-30T08:06:23.900622Z"
    }
   },
   "cell_type": "code",
   "source": [
    "# load the dataset means\n",
    "mean_filepath = r\"C:\\GoogleDrive\\GitHub\\deep_learning\\misc\\courses\\pyimage\\practitioner-bundle\\chap9_cats_dogs_dataprep\\output\\kaggle_cats_dogs.json\"\n",
    "\n",
    "train_path = r\"\"\n",
    "valid_path = r\"\"\n",
    "test_path = r\"\"\n",
    "callback_filepath = r\"\"\n",
    "model_save_filepath = r\"\"\n",
    "\n",
    "# augmentor\n",
    "aug = ImageDataGenerator(rotation_range=20,\n",
    "                         zoom_range=0.15,\n",
    "                         width_shift_range=0.2,\n",
    "                         height_shift_range=0.2,\n",
    "                         shear_range=0.15,\n",
    "                         horizontal_flip=True,\n",
    "                         fill_mode='nearest')\n",
    "\n",
    "means = json.loads(open(mean_filepath).read())\n",
    "\n",
    "# init the preprocessors\n",
    "sp = SimplePreprocessor(227, 227)\n",
    "pp = PatchPreprocessor(227, 227)\n",
    "mp = MeanPreprocessor(rmean=means[\"r\"],\n",
    "                      gmean=means[\"g\"],\n",
    "                      bmean=means[\"b\"])\n",
    "iap = ImageToArrayPreprocessor()\n"
   ],
   "id": "59097eb78d1d9ca1",
   "outputs": [],
   "execution_count": 3
  },
  {
   "metadata": {},
   "cell_type": "code",
   "outputs": [],
   "execution_count": null,
   "source": [
    "# init the train and valid data gens\n",
    "BATCH_SIZE = 128\n",
    "train_gen = HDF5DatasetGenerator(dbpath=train_path,\n",
    "                                 batch_size=BATCH_SIZE,\n",
    "                                 aug=aug,\n",
    "                                 preprocessors=[pp, mp, iap])\n",
    "valid_gen = HDF5DatasetGenerator(dbpath=valid_path,\n",
    "                                 batch_size=BATCH_SIZE,\n",
    "                                 preprocessors=[sp, mp, iap])"
   ],
   "id": "84c145b5e3c8e2e6"
  },
  {
   "metadata": {},
   "cell_type": "code",
   "outputs": [],
   "execution_count": null,
   "source": [
    "# model compilation\n",
    "print(f\"[INFO] compiling the model......\")\n",
    "opt = Adam(learning_rate=0.001)\n",
    "model = AlexNet.build(height=227, width=227, depth=3, classes=2, reg=0.0002)\n",
    "model.compile(loss='binary_crossentropy', optimizer=opt, metrics=['accuracy'])\n",
    "callbacks = [TrainingMonitor(figPath=callback_filepath)]\n"
   ],
   "id": "f9eeb236b8d19342"
  },
  {
   "metadata": {},
   "cell_type": "code",
   "outputs": [],
   "execution_count": null,
   "source": [
    "# train the network\n",
    "H = model.fit(\n",
    "    train_gen.generator(),\n",
    "    steps_per_epoch=train_gen.num_images // BATCH_SIZE,\n",
    "    validation_data=valid_gen.generator(),\n",
    "    validation_steps=valid_gen.num_images // BATCH_SIZE,\n",
    "    epochs=75,\n",
    "    callbacks=callbacks,\n",
    "    max_queue_size=10,\n",
    "    verbose=1\n",
    ")"
   ],
   "id": "9c1f3bdda6ea7ee5"
  },
  {
   "metadata": {},
   "cell_type": "code",
   "outputs": [],
   "execution_count": null,
   "source": [
    "# save the model\n",
    "print(f\"[INFO] serialising the model......\")\n",
    "model.save(model_save_filepath, overwrite=True)\n",
    "train_gen.close()\n",
    "valid_gen.close()"
   ],
   "id": "e26b9af2d4dc3094"
  }
 ],
 "metadata": {
  "kernelspec": {
   "display_name": "Python 3",
   "language": "python",
   "name": "python3"
  },
  "language_info": {
   "codemirror_mode": {
    "name": "ipython",
    "version": 2
   },
   "file_extension": ".py",
   "mimetype": "text/x-python",
   "name": "python",
   "nbconvert_exporter": "python",
   "pygments_lexer": "ipython2",
   "version": "2.7.6"
  }
 },
 "nbformat": 4,
 "nbformat_minor": 5
}
