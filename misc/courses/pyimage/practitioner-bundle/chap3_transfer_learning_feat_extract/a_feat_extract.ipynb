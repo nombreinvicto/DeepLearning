{
 "cells": [
  {
   "cell_type": "code",
   "id": "initial_id",
   "metadata": {
    "collapsed": true,
    "ExecuteTime": {
     "end_time": "2025-07-27T19:00:44.045809Z",
     "start_time": "2025-07-27T19:00:44.026503Z"
    }
   },
   "source": [
    "from tensorflow.keras.applications import VGG16\n",
    "from tensorflow.keras.applications import imagenet_utils\n",
    "from tensorflow.keras.preprocessing.image import img_to_array\n",
    "from tensorflow.keras.preprocessing.image import load_img\n",
    "from sklearn.preprocessing import LabelEncoder\n",
    "from loader_util.io import HDF5DatasetWriter\n",
    "from imutils import paths\n",
    "import numpy as np\n",
    "import progressbar\n",
    "import random\n",
    "import os"
   ],
   "outputs": [],
   "execution_count": 4
  },
  {
   "metadata": {
    "ExecuteTime": {
     "end_time": "2025-07-27T19:01:48.716617Z",
     "start_time": "2025-07-27T19:01:48.707087Z"
    }
   },
   "cell_type": "code",
   "source": [
    "# mock arguments\n",
    "args = {\n",
    "    \"dataset\": r\"C:\\GoogleDrive\\GitHub\\image_datasets\\animals\\images\",\n",
    "    \"output_dir\": r\"C:\\GoogleDrive\\GitHub\\image_datasets\\animals\\hdf5\\features.hdf5\",\n",
    "    \"batch_size\": 32,\n",
    "    \"buffer_size\": 1000,\n",
    "}"
   ],
   "id": "8a1d07cb6431ec41",
   "outputs": [],
   "execution_count": 5
  },
  {
   "metadata": {
    "ExecuteTime": {
     "end_time": "2025-07-27T19:01:49.971066Z",
     "start_time": "2025-07-27T19:01:49.896269Z"
    }
   },
   "cell_type": "code",
   "source": [
    "print(f\"[INFO] loading images......\")\n",
    "image_paths = list(paths.list_images(args[\"dataset\"]))\n",
    "random.shuffle(image_paths)\n",
    "\n",
    "labels = [pth.split(os.path.sep)[-2] for pth in image_paths]\n",
    "le = LabelEncoder()\n",
    "encoded_labels = le.fit_transform(labels)\n",
    "class_names = le.classes_\n"
   ],
   "id": "1d222461e2bdefd0",
   "outputs": [
    {
     "name": "stdout",
     "output_type": "stream",
     "text": [
      "[INFO] loading images......\n"
     ]
    }
   ],
   "execution_count": 6
  },
  {
   "metadata": {
    "ExecuteTime": {
     "end_time": "2025-07-27T19:02:21.701201Z",
     "start_time": "2025-07-27T19:02:01.581698Z"
    }
   },
   "cell_type": "code",
   "source": [
    "print(f\"[INFO] loading the network......\")\n",
    "model = VGG16(weights='imagenet', include_top=False, input_shape=(224, 224, 3))\n",
    "\n",
    "# init the h5 dataset\n",
    "dataset = HDF5DatasetWriter(dims=(len(image_paths), 512 * 7 * 7),\n",
    "                            outpath=args[\"output_dir\"],\n",
    "                            bufsize=args[\"buffer_size\"])\n",
    "dataset.store_string_feature_labels(class_names)"
   ],
   "id": "d679a1daa583cb80",
   "outputs": [
    {
     "name": "stdout",
     "output_type": "stream",
     "text": [
      "[INFO] loading the network......\n",
      "Downloading data from https://storage.googleapis.com/tensorflow/keras-applications/vgg16/vgg16_weights_tf_dim_ordering_tf_kernels_notop.h5\n",
      "58889256/58889256 [==============================] - 19s 0us/step\n"
     ]
    }
   ],
   "execution_count": 7
  },
  {
   "metadata": {
    "ExecuteTime": {
     "end_time": "2025-07-27T19:18:41.847394Z",
     "start_time": "2025-07-27T19:02:26.754017Z"
    }
   },
   "cell_type": "code",
   "source": [
    "\n",
    "# initialize the progress bar\n",
    "widgets = [\"Building Dataset: \", progressbar.Percentage(), \" \",\n",
    "           progressbar.Bar(), \" \", progressbar.ETA()]\n",
    "pbar = progressbar.ProgressBar(maxval=len(image_paths),\n",
    "                               widgets=widgets).start()\n",
    "\n",
    "for i in range(0, len(image_paths), args[\"batch_size\"]):\n",
    "    batch_paths = image_paths[i:i + args[\"batch_size\"]]\n",
    "    batch_labels = encoded_labels[i:i + args[\"batch_size\"]]\n",
    "    batch_images = []\n",
    "\n",
    "    # start processing the images in the batch\n",
    "    for j, image_path in enumerate(batch_paths):\n",
    "        image = load_img(image_path, target_size=(224, 224))\n",
    "        image = img_to_array(image)\n",
    "        image = np.expand_dims(image, axis=0)\n",
    "        image = imagenet_utils.preprocess_input(image)\n",
    "        batch_images.append(image)\n",
    "\n",
    "    # batch processed\n",
    "    batch_images = np.vstack(batch_images)\n",
    "    features = model.predict(batch_images, batch_size=args[\"batch_size\"])\n",
    "    features = features.reshape(features.shape[0], 512 * 7 * 7)\n",
    "    dataset.add(rows=features, labels=batch_labels)\n",
    "    pbar.update(i)\n",
    "\n",
    "dataset.close()\n",
    "pbar.finish()\n"
   ],
   "id": "17ab7bf8b3069b5e",
   "outputs": [
    {
     "name": "stderr",
     "output_type": "stream",
     "text": [
      "Building Dataset: \u001B[38;2;255;0;0m  0%\u001B[39m |                                       | ETA:  --:--:--"
     ]
    },
    {
     "name": "stdout",
     "output_type": "stream",
     "text": [
      "1/1 [==============================] - 3s 3s/step\n"
     ]
    },
    {
     "name": "stderr",
     "output_type": "stream",
     "text": [
      "Building Dataset: \u001B[38;2;255;0;0m  0%\u001B[39m |                                       | ETA:  --:--:--"
     ]
    },
    {
     "name": "stdout",
     "output_type": "stream",
     "text": [
      "1/1 [==============================] - 3s 3s/step\n"
     ]
    },
    {
     "name": "stderr",
     "output_type": "stream",
     "text": [
      "Building Dataset: \u001B[38;2;255;7;0m  1%\u001B[39m |                                       | ETA:   0:11:27"
     ]
    },
    {
     "name": "stdout",
     "output_type": "stream",
     "text": [
      "1/1 [==============================] - 3s 3s/step\n"
     ]
    },
    {
     "name": "stderr",
     "output_type": "stream",
     "text": [
      "Building Dataset: \u001B[38;2;255;14;0m  2%\u001B[39m |                                       | ETA:   0:08:10"
     ]
    },
    {
     "name": "stdout",
     "output_type": "stream",
     "text": [
      "1/1 [==============================] - 4s 4s/step\n"
     ]
    },
    {
     "name": "stderr",
     "output_type": "stream",
     "text": [
      "Building Dataset: \u001B[38;2;255;21;0m  3%\u001B[39m |#                                      | ETA:   0:07:30"
     ]
    },
    {
     "name": "stdout",
     "output_type": "stream",
     "text": [
      "1/1 [==============================] - 4s 4s/step\n"
     ]
    },
    {
     "name": "stderr",
     "output_type": "stream",
     "text": [
      "Building Dataset: \u001B[38;2;255;28;0m  4%\u001B[39m |#                                      | ETA:   0:07:14"
     ]
    },
    {
     "name": "stdout",
     "output_type": "stream",
     "text": [
      "1/1 [==============================] - 4s 4s/step\n"
     ]
    },
    {
     "name": "stderr",
     "output_type": "stream",
     "text": [
      "Building Dataset: \u001B[38;2;255;35;0m  5%\u001B[39m |##                                     | ETA:   0:07:05"
     ]
    },
    {
     "name": "stdout",
     "output_type": "stream",
     "text": [
      "1/1 [==============================] - 6s 6s/step\n"
     ]
    },
    {
     "name": "stderr",
     "output_type": "stream",
     "text": [
      "Building Dataset: \u001B[38;2;255;42;0m  6%\u001B[39m |##                                     | ETA:   0:07:18"
     ]
    },
    {
     "name": "stdout",
     "output_type": "stream",
     "text": [
      "1/1 [==============================] - 7s 7s/step\n"
     ]
    },
    {
     "name": "stderr",
     "output_type": "stream",
     "text": [
      "Building Dataset: \u001B[38;2;255;49;0m  7%\u001B[39m |##                                     | ETA:   0:07:38"
     ]
    },
    {
     "name": "stdout",
     "output_type": "stream",
     "text": [
      "1/1 [==============================] - 8s 8s/step\n"
     ]
    },
    {
     "name": "stderr",
     "output_type": "stream",
     "text": [
      "Building Dataset: \u001B[38;2;255;78;0m  8%\u001B[39m |###                                    | ETA:   0:08:08"
     ]
    },
    {
     "name": "stdout",
     "output_type": "stream",
     "text": [
      "1/1 [==============================] - 11s 11s/step\n"
     ]
    },
    {
     "name": "stderr",
     "output_type": "stream",
     "text": [
      "Building Dataset: \u001B[38;2;255;81;0m  9%\u001B[39m |###                                    | ETA:   0:09:02"
     ]
    },
    {
     "name": "stdout",
     "output_type": "stream",
     "text": [
      "1/1 [==============================] - 10s 10s/step\n"
     ]
    },
    {
     "name": "stderr",
     "output_type": "stream",
     "text": [
      "Building Dataset: \u001B[38;2;255;84;0m 10%\u001B[39m |####                                   | ETA:   0:09:35"
     ]
    },
    {
     "name": "stdout",
     "output_type": "stream",
     "text": [
      "1/1 [==============================] - 10s 10s/step\n"
     ]
    },
    {
     "name": "stderr",
     "output_type": "stream",
     "text": [
      "Building Dataset: \u001B[38;2;255;87;0m 11%\u001B[39m |####                                   | ETA:   0:09:57"
     ]
    },
    {
     "name": "stdout",
     "output_type": "stream",
     "text": [
      "1/1 [==============================] - 10s 10s/step\n"
     ]
    },
    {
     "name": "stderr",
     "output_type": "stream",
     "text": [
      "Building Dataset: \u001B[38;2;255;90;0m 12%\u001B[39m |####                                   | ETA:   0:10:15"
     ]
    },
    {
     "name": "stdout",
     "output_type": "stream",
     "text": [
      "1/1 [==============================] - 9s 9s/step\n"
     ]
    },
    {
     "name": "stderr",
     "output_type": "stream",
     "text": [
      "Building Dataset: \u001B[38;2;255;93;0m 13%\u001B[39m |#####                                  | ETA:   0:10:23"
     ]
    },
    {
     "name": "stdout",
     "output_type": "stream",
     "text": [
      "1/1 [==============================] - 9s 9s/step\n"
     ]
    },
    {
     "name": "stderr",
     "output_type": "stream",
     "text": [
      "Building Dataset: \u001B[38;2;255;96;0m 14%\u001B[39m |#####                                  | ETA:   0:10:30"
     ]
    },
    {
     "name": "stdout",
     "output_type": "stream",
     "text": [
      "1/1 [==============================] - 11s 11s/step\n"
     ]
    },
    {
     "name": "stderr",
     "output_type": "stream",
     "text": [
      "Building Dataset: \u001B[38;2;255;99;0m 16%\u001B[39m |######                                 | ETA:   0:10:43"
     ]
    },
    {
     "name": "stdout",
     "output_type": "stream",
     "text": [
      "1/1 [==============================] - 9s 9s/step\n"
     ]
    },
    {
     "name": "stderr",
     "output_type": "stream",
     "text": [
      "Building Dataset: \u001B[38;2;255;102;0m 17%\u001B[39m |######                                 | ETA:   0:10:45"
     ]
    },
    {
     "name": "stdout",
     "output_type": "stream",
     "text": [
      "1/1 [==============================] - 9s 9s/step\n"
     ]
    },
    {
     "name": "stderr",
     "output_type": "stream",
     "text": [
      "Building Dataset: \u001B[38;2;255;105;0m 18%\u001B[39m |#######                                | ETA:   0:10:45"
     ]
    },
    {
     "name": "stdout",
     "output_type": "stream",
     "text": [
      "1/1 [==============================] - 9s 9s/step\n"
     ]
    },
    {
     "name": "stderr",
     "output_type": "stream",
     "text": [
      "Building Dataset: \u001B[38;2;255;108;0m 19%\u001B[39m |#######                                | ETA:   0:10:43"
     ]
    },
    {
     "name": "stdout",
     "output_type": "stream",
     "text": [
      "1/1 [==============================] - 9s 9s/step\n"
     ]
    },
    {
     "name": "stderr",
     "output_type": "stream",
     "text": [
      "Building Dataset: \u001B[38;2;255;111;0m 20%\u001B[39m |#######                                | ETA:   0:10:39"
     ]
    },
    {
     "name": "stdout",
     "output_type": "stream",
     "text": [
      "1/1 [==============================] - 9s 9s/step\n"
     ]
    },
    {
     "name": "stderr",
     "output_type": "stream",
     "text": [
      "Building Dataset: \u001B[38;2;255;114;0m 21%\u001B[39m |########                               | ETA:   0:10:36"
     ]
    },
    {
     "name": "stdout",
     "output_type": "stream",
     "text": [
      "1/1 [==============================] - 10s 10s/step\n"
     ]
    },
    {
     "name": "stderr",
     "output_type": "stream",
     "text": [
      "Building Dataset: \u001B[38;2;255;117;0m 22%\u001B[39m |########                               | ETA:   0:10:35"
     ]
    },
    {
     "name": "stdout",
     "output_type": "stream",
     "text": [
      "1/1 [==============================] - 9s 9s/step\n"
     ]
    },
    {
     "name": "stderr",
     "output_type": "stream",
     "text": [
      "Building Dataset: \u001B[38;2;255;120;0m 23%\u001B[39m |#########                              | ETA:   0:10:30"
     ]
    },
    {
     "name": "stdout",
     "output_type": "stream",
     "text": [
      "1/1 [==============================] - 9s 9s/step\n"
     ]
    },
    {
     "name": "stderr",
     "output_type": "stream",
     "text": [
      "Building Dataset: \u001B[38;2;255;123;0m 24%\u001B[39m |#########                              | ETA:   0:10:24"
     ]
    },
    {
     "name": "stdout",
     "output_type": "stream",
     "text": [
      "1/1 [==============================] - 10s 10s/step\n"
     ]
    },
    {
     "name": "stderr",
     "output_type": "stream",
     "text": [
      "Building Dataset: \u001B[38;2;255;126;0m 25%\u001B[39m |#########                              | ETA:   0:10:21"
     ]
    },
    {
     "name": "stdout",
     "output_type": "stream",
     "text": [
      "1/1 [==============================] - 9s 9s/step\n"
     ]
    },
    {
     "name": "stderr",
     "output_type": "stream",
     "text": [
      "Building Dataset: \u001B[38;2;255;129;0m 26%\u001B[39m |##########                             | ETA:   0:10:13"
     ]
    },
    {
     "name": "stdout",
     "output_type": "stream",
     "text": [
      "1/1 [==============================] - 9s 9s/step\n"
     ]
    },
    {
     "name": "stderr",
     "output_type": "stream",
     "text": [
      "Building Dataset: \u001B[38;2;255;132;0m 27%\u001B[39m |##########                             | ETA:   0:10:10"
     ]
    },
    {
     "name": "stdout",
     "output_type": "stream",
     "text": [
      "1/1 [==============================] - 10s 10s/step\n"
     ]
    },
    {
     "name": "stderr",
     "output_type": "stream",
     "text": [
      "Building Dataset: \u001B[38;2;255;135;0m 28%\u001B[39m |###########                            | ETA:   0:10:05"
     ]
    },
    {
     "name": "stdout",
     "output_type": "stream",
     "text": [
      "1/1 [==============================] - 10s 10s/step\n"
     ]
    },
    {
     "name": "stderr",
     "output_type": "stream",
     "text": [
      "Building Dataset: \u001B[38;2;255;138;0m 29%\u001B[39m |###########                            | ETA:   0:09:59"
     ]
    },
    {
     "name": "stdout",
     "output_type": "stream",
     "text": [
      "1/1 [==============================] - 9s 9s/step\n"
     ]
    },
    {
     "name": "stderr",
     "output_type": "stream",
     "text": [
      "Building Dataset: \u001B[38;2;255;141;0m 30%\u001B[39m |############                           | ETA:   0:09:52"
     ]
    },
    {
     "name": "stdout",
     "output_type": "stream",
     "text": [
      "1/1 [==============================] - 10s 10s/step\n"
     ]
    },
    {
     "name": "stderr",
     "output_type": "stream",
     "text": [
      "Building Dataset: \u001B[38;2;255;144;0m 32%\u001B[39m |############                           | ETA:   0:09:46"
     ]
    },
    {
     "name": "stdout",
     "output_type": "stream",
     "text": [
      "1/1 [==============================] - 10s 10s/step\n"
     ]
    },
    {
     "name": "stderr",
     "output_type": "stream",
     "text": [
      "Building Dataset: \u001B[38;2;255;147;0m 33%\u001B[39m |############                           | ETA:   0:09:41"
     ]
    },
    {
     "name": "stdout",
     "output_type": "stream",
     "text": [
      "1/1 [==============================] - 9s 9s/step\n"
     ]
    },
    {
     "name": "stderr",
     "output_type": "stream",
     "text": [
      "Building Dataset: \u001B[38;2;255;150;0m 34%\u001B[39m |#############                          | ETA:   0:09:34"
     ]
    },
    {
     "name": "stdout",
     "output_type": "stream",
     "text": [
      "1/1 [==============================] - 10s 10s/step\n"
     ]
    },
    {
     "name": "stderr",
     "output_type": "stream",
     "text": [
      "Building Dataset: \u001B[38;2;255;153;0m 35%\u001B[39m |#############                          | ETA:   0:09:26"
     ]
    },
    {
     "name": "stdout",
     "output_type": "stream",
     "text": [
      "1/1 [==============================] - 10s 10s/step\n"
     ]
    },
    {
     "name": "stderr",
     "output_type": "stream",
     "text": [
      "Building Dataset: \u001B[38;2;255;156;0m 36%\u001B[39m |##############                         | ETA:   0:09:19"
     ]
    },
    {
     "name": "stdout",
     "output_type": "stream",
     "text": [
      "1/1 [==============================] - 9s 9s/step\n"
     ]
    },
    {
     "name": "stderr",
     "output_type": "stream",
     "text": [
      "Building Dataset: \u001B[38;2;255;159;0m 37%\u001B[39m |##############                         | ETA:   0:09:10"
     ]
    },
    {
     "name": "stdout",
     "output_type": "stream",
     "text": [
      "1/1 [==============================] - 9s 9s/step\n"
     ]
    },
    {
     "name": "stderr",
     "output_type": "stream",
     "text": [
      "Building Dataset: \u001B[38;2;255;162;0m 38%\u001B[39m |##############                         | ETA:   0:09:00"
     ]
    },
    {
     "name": "stdout",
     "output_type": "stream",
     "text": [
      "1/1 [==============================] - 8s 8s/step\n"
     ]
    },
    {
     "name": "stderr",
     "output_type": "stream",
     "text": [
      "Building Dataset: \u001B[38;2;255;165;0m 39%\u001B[39m |###############                        | ETA:   0:08:50"
     ]
    },
    {
     "name": "stdout",
     "output_type": "stream",
     "text": [
      "1/1 [==============================] - 14s 14s/step\n"
     ]
    },
    {
     "name": "stderr",
     "output_type": "stream",
     "text": [
      "Building Dataset: \u001B[38;2;255;168;0m 40%\u001B[39m |###############                        | ETA:   0:08:48"
     ]
    },
    {
     "name": "stdout",
     "output_type": "stream",
     "text": [
      "1/1 [==============================] - 14s 14s/step\n"
     ]
    },
    {
     "name": "stderr",
     "output_type": "stream",
     "text": [
      "Building Dataset: \u001B[38;2;255;171;0m 41%\u001B[39m |################                       | ETA:   0:08:47"
     ]
    },
    {
     "name": "stdout",
     "output_type": "stream",
     "text": [
      "1/1 [==============================] - 14s 14s/step\n"
     ]
    },
    {
     "name": "stderr",
     "output_type": "stream",
     "text": [
      "Building Dataset: \u001B[38;2;255;173;0m 42%\u001B[39m |################                       | ETA:   0:08:45"
     ]
    },
    {
     "name": "stdout",
     "output_type": "stream",
     "text": [
      "1/1 [==============================] - 14s 14s/step\n"
     ]
    },
    {
     "name": "stderr",
     "output_type": "stream",
     "text": [
      "Building Dataset: \u001B[38;2;255;179;0m 43%\u001B[39m |#################                      | ETA:   0:08:41"
     ]
    },
    {
     "name": "stdout",
     "output_type": "stream",
     "text": [
      "1/1 [==============================] - 14s 14s/step\n"
     ]
    },
    {
     "name": "stderr",
     "output_type": "stream",
     "text": [
      "Building Dataset: \u001B[38;2;255;185;0m 44%\u001B[39m |#################                      | ETA:   0:08:38"
     ]
    },
    {
     "name": "stdout",
     "output_type": "stream",
     "text": [
      "1/1 [==============================] - 13s 13s/step\n"
     ]
    },
    {
     "name": "stderr",
     "output_type": "stream",
     "text": [
      "Building Dataset: \u001B[38;2;255;191;0m 45%\u001B[39m |#################                      | ETA:   0:08:33"
     ]
    },
    {
     "name": "stdout",
     "output_type": "stream",
     "text": [
      "1/1 [==============================] - 16s 16s/step\n"
     ]
    },
    {
     "name": "stderr",
     "output_type": "stream",
     "text": [
      "Building Dataset: \u001B[38;2;255;197;0m 46%\u001B[39m |##################                     | ETA:   0:08:30"
     ]
    },
    {
     "name": "stdout",
     "output_type": "stream",
     "text": [
      "1/1 [==============================] - 14s 14s/step\n"
     ]
    },
    {
     "name": "stderr",
     "output_type": "stream",
     "text": [
      "Building Dataset: \u001B[38;2;255;203;0m 48%\u001B[39m |##################                     | ETA:   0:08:25"
     ]
    },
    {
     "name": "stdout",
     "output_type": "stream",
     "text": [
      "1/1 [==============================] - 13s 13s/step\n"
     ]
    },
    {
     "name": "stderr",
     "output_type": "stream",
     "text": [
      "Building Dataset: \u001B[38;2;255;209;0m 49%\u001B[39m |###################                    | ETA:   0:08:18"
     ]
    },
    {
     "name": "stdout",
     "output_type": "stream",
     "text": [
      "1/1 [==============================] - 12s 12s/step\n"
     ]
    },
    {
     "name": "stderr",
     "output_type": "stream",
     "text": [
      "Building Dataset: \u001B[38;2;255;215;0m 50%\u001B[39m |###################                    | ETA:   0:08:10"
     ]
    },
    {
     "name": "stdout",
     "output_type": "stream",
     "text": [
      "1/1 [==============================] - 12s 12s/step\n"
     ]
    },
    {
     "name": "stderr",
     "output_type": "stream",
     "text": [
      "Building Dataset: \u001B[38;2;255;221;0m 51%\u001B[39m |###################                    | ETA:   0:08:02"
     ]
    },
    {
     "name": "stdout",
     "output_type": "stream",
     "text": [
      "1/1 [==============================] - 13s 13s/step\n"
     ]
    },
    {
     "name": "stderr",
     "output_type": "stream",
     "text": [
      "Building Dataset: \u001B[38;2;255;227;0m 52%\u001B[39m |####################                   | ETA:   0:07:55"
     ]
    },
    {
     "name": "stdout",
     "output_type": "stream",
     "text": [
      "1/1 [==============================] - 13s 13s/step\n"
     ]
    },
    {
     "name": "stderr",
     "output_type": "stream",
     "text": [
      "Building Dataset: \u001B[38;2;255;233;0m 53%\u001B[39m |####################                   | ETA:   0:07:47"
     ]
    },
    {
     "name": "stdout",
     "output_type": "stream",
     "text": [
      "1/1 [==============================] - 12s 12s/step\n"
     ]
    },
    {
     "name": "stderr",
     "output_type": "stream",
     "text": [
      "Building Dataset: \u001B[38;2;255;239;0m 54%\u001B[39m |#####################                  | ETA:   0:07:38"
     ]
    },
    {
     "name": "stdout",
     "output_type": "stream",
     "text": [
      "1/1 [==============================] - 11s 11s/step\n"
     ]
    },
    {
     "name": "stderr",
     "output_type": "stream",
     "text": [
      "Building Dataset: \u001B[38;2;255;245;0m 55%\u001B[39m |#####################                  | ETA:   0:07:28"
     ]
    },
    {
     "name": "stdout",
     "output_type": "stream",
     "text": [
      "1/1 [==============================] - 11s 11s/step\n"
     ]
    },
    {
     "name": "stderr",
     "output_type": "stream",
     "text": [
      "Building Dataset: \u001B[38;2;255;251;0m 56%\u001B[39m |######################                 | ETA:   0:07:18"
     ]
    },
    {
     "name": "stdout",
     "output_type": "stream",
     "text": [
      "1/1 [==============================] - 11s 11s/step\n"
     ]
    },
    {
     "name": "stderr",
     "output_type": "stream",
     "text": [
      "Building Dataset: \u001B[38;2;255;257;0m 57%\u001B[39m |######################                 | ETA:   0:07:08"
     ]
    },
    {
     "name": "stdout",
     "output_type": "stream",
     "text": [
      "1/1 [==============================] - 11s 11s/step\n"
     ]
    },
    {
     "name": "stderr",
     "output_type": "stream",
     "text": [
      "Building Dataset: \u001B[38;2;250;255;0m 58%\u001B[39m |######################                 | ETA:   0:06:58"
     ]
    },
    {
     "name": "stdout",
     "output_type": "stream",
     "text": [
      "1/1 [==============================] - 10s 10s/step\n"
     ]
    },
    {
     "name": "stderr",
     "output_type": "stream",
     "text": [
      "Building Dataset: \u001B[38;2;247;255;0m 59%\u001B[39m |#######################                | ETA:   0:06:48"
     ]
    },
    {
     "name": "stdout",
     "output_type": "stream",
     "text": [
      "1/1 [==============================] - 9s 9s/step\n"
     ]
    },
    {
     "name": "stderr",
     "output_type": "stream",
     "text": [
      "Building Dataset: \u001B[38;2;244;255;0m 60%\u001B[39m |#######################                | ETA:   0:06:36"
     ]
    },
    {
     "name": "stdout",
     "output_type": "stream",
     "text": [
      "1/1 [==============================] - 10s 10s/step\n"
     ]
    },
    {
     "name": "stderr",
     "output_type": "stream",
     "text": [
      "Building Dataset: \u001B[38;2;241;255;0m 61%\u001B[39m |########################               | ETA:   0:06:25"
     ]
    },
    {
     "name": "stdout",
     "output_type": "stream",
     "text": [
      "1/1 [==============================] - 10s 10s/step\n"
     ]
    },
    {
     "name": "stderr",
     "output_type": "stream",
     "text": [
      "Building Dataset: \u001B[38;2;238;255;0m 62%\u001B[39m |########################               | ETA:   0:06:15"
     ]
    },
    {
     "name": "stdout",
     "output_type": "stream",
     "text": [
      "1/1 [==============================] - 11s 11s/step\n"
     ]
    },
    {
     "name": "stderr",
     "output_type": "stream",
     "text": [
      "Building Dataset: \u001B[38;2;235;255;0m 64%\u001B[39m |########################               | ETA:   0:06:05"
     ]
    },
    {
     "name": "stdout",
     "output_type": "stream",
     "text": [
      "1/1 [==============================] - 10s 10s/step\n"
     ]
    },
    {
     "name": "stderr",
     "output_type": "stream",
     "text": [
      "Building Dataset: \u001B[38;2;232;255;0m 65%\u001B[39m |#########################              | ETA:   0:05:54"
     ]
    },
    {
     "name": "stdout",
     "output_type": "stream",
     "text": [
      "1/1 [==============================] - 10s 10s/step\n"
     ]
    },
    {
     "name": "stderr",
     "output_type": "stream",
     "text": [
      "Building Dataset: \u001B[38;2;229;255;0m 66%\u001B[39m |#########################              | ETA:   0:05:43"
     ]
    },
    {
     "name": "stdout",
     "output_type": "stream",
     "text": [
      "1/1 [==============================] - 10s 10s/step\n"
     ]
    },
    {
     "name": "stderr",
     "output_type": "stream",
     "text": [
      "Building Dataset: \u001B[38;2;226;255;0m 67%\u001B[39m |##########################             | ETA:   0:05:33"
     ]
    },
    {
     "name": "stdout",
     "output_type": "stream",
     "text": [
      "1/1 [==============================] - 10s 10s/step\n"
     ]
    },
    {
     "name": "stderr",
     "output_type": "stream",
     "text": [
      "Building Dataset: \u001B[38;2;223;255;0m 68%\u001B[39m |##########################             | ETA:   0:05:22"
     ]
    },
    {
     "name": "stdout",
     "output_type": "stream",
     "text": [
      "1/1 [==============================] - 11s 11s/step\n"
     ]
    },
    {
     "name": "stderr",
     "output_type": "stream",
     "text": [
      "Building Dataset: \u001B[38;2;220;255;0m 69%\u001B[39m |###########################            | ETA:   0:05:11"
     ]
    },
    {
     "name": "stdout",
     "output_type": "stream",
     "text": [
      "1/1 [==============================] - 12s 12s/step\n"
     ]
    },
    {
     "name": "stderr",
     "output_type": "stream",
     "text": [
      "Building Dataset: \u001B[38;2;217;255;0m 70%\u001B[39m |###########################            | ETA:   0:05:01"
     ]
    },
    {
     "name": "stdout",
     "output_type": "stream",
     "text": [
      "1/1 [==============================] - 13s 13s/step\n"
     ]
    },
    {
     "name": "stderr",
     "output_type": "stream",
     "text": [
      "Building Dataset: \u001B[38;2;214;255;0m 71%\u001B[39m |###########################            | ETA:   0:04:52"
     ]
    },
    {
     "name": "stdout",
     "output_type": "stream",
     "text": [
      "1/1 [==============================] - 8s 8s/step\n"
     ]
    },
    {
     "name": "stderr",
     "output_type": "stream",
     "text": [
      "Building Dataset: \u001B[38;2;211;255;0m 72%\u001B[39m |############################           | ETA:   0:04:40"
     ]
    },
    {
     "name": "stdout",
     "output_type": "stream",
     "text": [
      "1/1 [==============================] - 7s 7s/step\n"
     ]
    },
    {
     "name": "stderr",
     "output_type": "stream",
     "text": [
      "Building Dataset: \u001B[38;2;208;255;0m 73%\u001B[39m |############################           | ETA:   0:04:28"
     ]
    },
    {
     "name": "stdout",
     "output_type": "stream",
     "text": [
      "1/1 [==============================] - 7s 7s/step\n"
     ]
    },
    {
     "name": "stderr",
     "output_type": "stream",
     "text": [
      "Building Dataset: \u001B[38;2;205;255;0m 74%\u001B[39m |#############################          | ETA:   0:04:16"
     ]
    },
    {
     "name": "stdout",
     "output_type": "stream",
     "text": [
      "1/1 [==============================] - 8s 8s/step\n"
     ]
    },
    {
     "name": "stderr",
     "output_type": "stream",
     "text": [
      "Building Dataset: \u001B[38;2;202;255;0m 75%\u001B[39m |#############################          | ETA:   0:04:05"
     ]
    },
    {
     "name": "stdout",
     "output_type": "stream",
     "text": [
      "1/1 [==============================] - 9s 9s/step\n"
     ]
    },
    {
     "name": "stderr",
     "output_type": "stream",
     "text": [
      "Building Dataset: \u001B[38;2;199;255;0m 76%\u001B[39m |#############################          | ETA:   0:03:53"
     ]
    },
    {
     "name": "stdout",
     "output_type": "stream",
     "text": [
      "1/1 [==============================] - 8s 8s/step\n"
     ]
    },
    {
     "name": "stderr",
     "output_type": "stream",
     "text": [
      "Building Dataset: \u001B[38;2;196;255;0m 77%\u001B[39m |##############################         | ETA:   0:03:42"
     ]
    },
    {
     "name": "stdout",
     "output_type": "stream",
     "text": [
      "1/1 [==============================] - 8s 8s/step\n"
     ]
    },
    {
     "name": "stderr",
     "output_type": "stream",
     "text": [
      "Building Dataset: \u001B[38;2;193;255;0m 78%\u001B[39m |##############################         | ETA:   0:03:31"
     ]
    },
    {
     "name": "stdout",
     "output_type": "stream",
     "text": [
      "1/1 [==============================] - 8s 8s/step\n"
     ]
    },
    {
     "name": "stderr",
     "output_type": "stream",
     "text": [
      "Building Dataset: \u001B[38;2;190;255;0m 80%\u001B[39m |###############################        | ETA:   0:03:20"
     ]
    },
    {
     "name": "stdout",
     "output_type": "stream",
     "text": [
      "1/1 [==============================] - 6s 6s/step\n"
     ]
    },
    {
     "name": "stderr",
     "output_type": "stream",
     "text": [
      "Building Dataset: \u001B[38;2;188;255;0m 81%\u001B[39m |###############################        | ETA:   0:03:08"
     ]
    },
    {
     "name": "stdout",
     "output_type": "stream",
     "text": [
      "1/1 [==============================] - 8s 8s/step\n"
     ]
    },
    {
     "name": "stderr",
     "output_type": "stream",
     "text": [
      "Building Dataset: \u001B[38;2;185;255;0m 82%\u001B[39m |################################       | ETA:   0:02:57"
     ]
    },
    {
     "name": "stdout",
     "output_type": "stream",
     "text": [
      "1/1 [==============================] - 8s 8s/step\n"
     ]
    },
    {
     "name": "stderr",
     "output_type": "stream",
     "text": [
      "Building Dataset: \u001B[38;2;182;255;0m 83%\u001B[39m |################################       | ETA:   0:02:46"
     ]
    },
    {
     "name": "stdout",
     "output_type": "stream",
     "text": [
      "1/1 [==============================] - 8s 8s/step\n"
     ]
    },
    {
     "name": "stderr",
     "output_type": "stream",
     "text": [
      "Building Dataset: \u001B[38;2;179;255;0m 84%\u001B[39m |################################       | ETA:   0:02:35"
     ]
    },
    {
     "name": "stdout",
     "output_type": "stream",
     "text": [
      "1/1 [==============================] - 7s 7s/step\n"
     ]
    },
    {
     "name": "stderr",
     "output_type": "stream",
     "text": [
      "Building Dataset: \u001B[38;2;176;255;0m 85%\u001B[39m |#################################      | ETA:   0:02:24"
     ]
    },
    {
     "name": "stdout",
     "output_type": "stream",
     "text": [
      "1/1 [==============================] - 7s 7s/step\n"
     ]
    },
    {
     "name": "stderr",
     "output_type": "stream",
     "text": [
      "Building Dataset: \u001B[38;2;173;255;0m 86%\u001B[39m |#################################      | ETA:   0:02:13"
     ]
    },
    {
     "name": "stdout",
     "output_type": "stream",
     "text": [
      "1/1 [==============================] - 7s 7s/step\n"
     ]
    },
    {
     "name": "stderr",
     "output_type": "stream",
     "text": [
      "Building Dataset: \u001B[38;2;170;255;0m 87%\u001B[39m |##################################     | ETA:   0:02:02"
     ]
    },
    {
     "name": "stdout",
     "output_type": "stream",
     "text": [
      "1/1 [==============================] - 8s 8s/step\n"
     ]
    },
    {
     "name": "stderr",
     "output_type": "stream",
     "text": [
      "Building Dataset: \u001B[38;2;167;255;0m 88%\u001B[39m |##################################     | ETA:   0:01:52"
     ]
    },
    {
     "name": "stdout",
     "output_type": "stream",
     "text": [
      "1/1 [==============================] - 14s 14s/step\n"
     ]
    },
    {
     "name": "stderr",
     "output_type": "stream",
     "text": [
      "Building Dataset: \u001B[38;2;164;255;0m 89%\u001B[39m |##################################     | ETA:   0:01:42"
     ]
    },
    {
     "name": "stdout",
     "output_type": "stream",
     "text": [
      "1/1 [==============================] - 12s 12s/step\n"
     ]
    },
    {
     "name": "stderr",
     "output_type": "stream",
     "text": [
      "Building Dataset: \u001B[38;2;161;255;0m 90%\u001B[39m |###################################    | ETA:   0:01:32"
     ]
    },
    {
     "name": "stdout",
     "output_type": "stream",
     "text": [
      "1/1 [==============================] - 9s 9s/step\n"
     ]
    },
    {
     "name": "stderr",
     "output_type": "stream",
     "text": [
      "Building Dataset: \u001B[38;2;101;255;0m 91%\u001B[39m |###################################    | ETA:   0:01:21"
     ]
    },
    {
     "name": "stdout",
     "output_type": "stream",
     "text": [
      "1/1 [==============================] - 9s 9s/step\n"
     ]
    },
    {
     "name": "stderr",
     "output_type": "stream",
     "text": [
      "Building Dataset: \u001B[38;2;88;255;0m 92%\u001B[39m |####################################   | ETA:   0:01:11"
     ]
    },
    {
     "name": "stdout",
     "output_type": "stream",
     "text": [
      "1/1 [==============================] - 10s 10s/step\n"
     ]
    },
    {
     "name": "stderr",
     "output_type": "stream",
     "text": [
      "Building Dataset: \u001B[38;2;75;255;0m 93%\u001B[39m |####################################   | ETA:   0:01:00"
     ]
    },
    {
     "name": "stdout",
     "output_type": "stream",
     "text": [
      "1/1 [==============================] - 9s 9s/step\n"
     ]
    },
    {
     "name": "stderr",
     "output_type": "stream",
     "text": [
      "Building Dataset: \u001B[38;2;62;255;0m 94%\u001B[39m |#####################################  | ETA:   0:00:49"
     ]
    },
    {
     "name": "stdout",
     "output_type": "stream",
     "text": [
      "1/1 [==============================] - 9s 9s/step\n"
     ]
    },
    {
     "name": "stderr",
     "output_type": "stream",
     "text": [
      "Building Dataset: \u001B[38;2;49;255;0m 96%\u001B[39m |#####################################  | ETA:   0:00:39"
     ]
    },
    {
     "name": "stdout",
     "output_type": "stream",
     "text": [
      "1/1 [==============================] - 10s 10s/step\n"
     ]
    },
    {
     "name": "stderr",
     "output_type": "stream",
     "text": [
      "Building Dataset: \u001B[38;2;35;255;0m 97%\u001B[39m |#####################################  | ETA:   0:00:28"
     ]
    },
    {
     "name": "stdout",
     "output_type": "stream",
     "text": [
      "1/1 [==============================] - 9s 9s/step\n"
     ]
    },
    {
     "name": "stderr",
     "output_type": "stream",
     "text": [
      "Building Dataset: \u001B[38;2;22;255;0m 98%\u001B[39m |###################################### | ETA:   0:00:18"
     ]
    },
    {
     "name": "stdout",
     "output_type": "stream",
     "text": [
      "1/1 [==============================] - 7s 7s/step\n"
     ]
    },
    {
     "name": "stderr",
     "output_type": "stream",
     "text": [
      "Building Dataset: \u001B[38;2;0;255;0m100%\u001B[39m |#######################################| Time:  0:16:15\n"
     ]
    }
   ],
   "execution_count": 8
  },
  {
   "metadata": {},
   "cell_type": "code",
   "outputs": [],
   "execution_count": null,
   "source": "",
   "id": "c8ee23e1dae0a914"
  }
 ],
 "metadata": {
  "kernelspec": {
   "display_name": "Python 3",
   "language": "python",
   "name": "python3"
  },
  "language_info": {
   "codemirror_mode": {
    "name": "ipython",
    "version": 2
   },
   "file_extension": ".py",
   "mimetype": "text/x-python",
   "name": "python",
   "nbconvert_exporter": "python",
   "pygments_lexer": "ipython2",
   "version": "2.7.6"
  }
 },
 "nbformat": 4,
 "nbformat_minor": 5
}
