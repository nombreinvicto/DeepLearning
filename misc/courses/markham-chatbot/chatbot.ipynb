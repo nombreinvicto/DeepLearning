{
 "cells": [
  {
   "cell_type": "code",
   "id": "initial_id",
   "metadata": {
    "collapsed": true,
    "ExecuteTime": {
     "end_time": "2025-01-24T05:28:28.927273Z",
     "start_time": "2025-01-24T05:28:28.920308Z"
    }
   },
   "source": [
    "from dotenv import load_dotenv\n",
    "from langchain_openai import ChatOpenAI\n",
    "from langgraph.graph import StateGraph, MessagesState, START\n",
    "from langgraph.checkpoint.memory import MemorySaver\n",
    "\n",
    "ret = load_dotenv()\n",
    "\n",
    "# returns True if .env loaded successfully\n",
    "print(ret)"
   ],
   "outputs": [
    {
     "name": "stdout",
     "output_type": "stream",
     "text": [
      "True\n"
     ]
    }
   ],
   "execution_count": 12
  },
  {
   "metadata": {
    "ExecuteTime": {
     "end_time": "2025-01-24T05:28:37.141975Z",
     "start_time": "2025-01-24T05:28:30.534856Z"
    }
   },
   "cell_type": "code",
   "source": [
    "model = ChatOpenAI(model_name=\"gpt-4o-mini\")\n",
    "model_response = model.invoke(\"Tell me about Dexcom Stelo\")\n",
    "print(model_response)"
   ],
   "id": "bfe3bafcb8e5fcaf",
   "outputs": [
    {
     "name": "stdout",
     "output_type": "stream",
     "text": [
      "content=\"As of my last knowledge update in October 2023, Dexcom Stelo is a continuous glucose monitoring (CGM) system developed by Dexcom, designed to help individuals with diabetes manage their blood glucose levels more effectively. The system is a part of Dexcom's innovative approach to diabetes management, providing real-time glucose data to users through a small sensor placed under the skin.\\n\\nSome key features of the Dexcom Stelo system include:\\n\\n1. **Real-time Glucose Monitoring**: The Stelo system continuously tracks glucose levels and transmits data to a compatible device, allowing users to monitor their blood sugar levels in real time.\\n\\n2. **Alerts and Notifications**: Users can set customizable alerts and notifications for high or low glucose levels, which can help in timely intervention to prevent hyperglycemia or hypoglycemia.\\n\\n3. **Data Sharing**: The system often features the ability to share glucose data with caregivers, family members, or healthcare providers via a secure app, enhancing communication and support.\\n\\n4. **Integration with Other Devices**: Dexcom systems are often integrated with insulin pumps and other diabetes management devices, providing a more cohesive diabetes management experience.\\n\\n5. **User-friendly Interface**: The accompanying app typically provides an easy-to-understand overview of glucose trends, making it accessible for users of different technical backgrounds.\\n\\nPlease note that specific details about Dexcom Stelo, including features, launch dates, or clinical information, may have changed or expanded after my last update. For the most accurate and updated information, it is recommended to check Dexcom's official website or consult with a healthcare professional.\" additional_kwargs={'refusal': None} response_metadata={'token_usage': {'completion_tokens': 323, 'prompt_tokens': 14, 'total_tokens': 337, 'completion_tokens_details': {'accepted_prediction_tokens': 0, 'audio_tokens': 0, 'reasoning_tokens': 0, 'rejected_prediction_tokens': 0}, 'prompt_tokens_details': {'audio_tokens': 0, 'cached_tokens': 0}}, 'model_name': 'gpt-4o-mini-2024-07-18', 'system_fingerprint': 'fp_bd83329f63', 'finish_reason': 'stop', 'logprobs': None} id='run-3c391557-33df-4e1e-89f5-731030679c54-0' usage_metadata={'input_tokens': 14, 'output_tokens': 323, 'total_tokens': 337, 'input_token_details': {'audio': 0, 'cache_read': 0}, 'output_token_details': {'audio': 0, 'reasoning': 0}}\n"
     ]
    }
   ],
   "execution_count": 13
  },
  {
   "metadata": {
    "ExecuteTime": {
     "end_time": "2025-01-24T05:34:58.288630Z",
     "start_time": "2025-01-24T05:34:58.277293Z"
    }
   },
   "cell_type": "code",
   "source": [
    "# define the function that calls the model\n",
    "def call_model(state: MessagesState):\n",
    "    # state[\"messages\"] is a list of all historical messages\n",
    "    updated_messages = model.invoke(state[\"messages\"])\n",
    "\n",
    "    # models response appended to the existing list of messages\n",
    "    return {\"messages\": updated_messages}"
   ],
   "id": "7f487748c7b42acc",
   "outputs": [],
   "execution_count": 16
  },
  {
   "metadata": {
    "ExecuteTime": {
     "end_time": "2025-01-24T05:35:55.241996Z",
     "start_time": "2025-01-24T05:35:55.213009Z"
    }
   },
   "cell_type": "code",
   "source": [
    "# workflow is a stategraph, keeps track of the state of the application\n",
    "# we need to use a schema, MessagesState helps to keep track a list\n",
    "# of messages\n",
    "workflow = StateGraph(MessagesState)\n",
    "workflow.add_node(\"model_node\", call_model)\n",
    "\n",
    "# after START, run the model node which calls the model\n",
    "workflow.add_edge(START, \"model_node\")"
   ],
   "id": "b4112da7945a6d1b",
   "outputs": [
    {
     "data": {
      "text/plain": [
       "<langgraph.graph.state.StateGraph at 0x18f682bf350>"
      ]
     },
     "execution_count": 18,
     "metadata": {},
     "output_type": "execute_result"
    }
   ],
   "execution_count": 18
  },
  {
   "metadata": {
    "ExecuteTime": {
     "end_time": "2025-01-24T05:37:12.917397Z",
     "start_time": "2025-01-24T05:37:12.906865Z"
    }
   },
   "cell_type": "code",
   "source": [
    "# real apps will use Postgres or SQlite checkpointers\n",
    "# for experimentation use in memory checkpointer\n",
    "# checkpointers store snapshots of past conversation\n",
    "memory = MemorySaver()\n",
    "app = workflow.compile(memory)"
   ],
   "id": "3e80023bf7187004",
   "outputs": [],
   "execution_count": 19
  },
  {
   "metadata": {
    "ExecuteTime": {
     "end_time": "2025-01-24T05:43:04.955883Z",
     "start_time": "2025-01-24T05:43:04.037038Z"
    }
   },
   "cell_type": "code",
   "source": [
    "# app is now a runnable bject so has invoke method\n",
    "# because schema used is MessagesState, input expected\n",
    "# is dict of {'messages': \"\"}\n",
    "\n",
    "chat1 = {'configurable': {'thread_id': 1}}\n",
    "app.invoke({\"messages\": \"Hi My name is Mahmud!\"}, config=chat1)"
   ],
   "id": "838a8b368f1de90e",
   "outputs": [
    {
     "data": {
      "text/plain": [
       "{'messages': [HumanMessage(content='Hi My name is Mahmud!', additional_kwargs={}, response_metadata={}, id='5c6081e0-dedc-47c5-8236-bf175c5c3133'),\n",
       "  AIMessage(content='Hi Mahmud! How can I assist you today?', additional_kwargs={'refusal': None}, response_metadata={'token_usage': {'completion_tokens': 12, 'prompt_tokens': 14, 'total_tokens': 26, 'completion_tokens_details': {'accepted_prediction_tokens': 0, 'audio_tokens': 0, 'reasoning_tokens': 0, 'rejected_prediction_tokens': 0}, 'prompt_tokens_details': {'audio_tokens': 0, 'cached_tokens': 0}}, 'model_name': 'gpt-4o-mini-2024-07-18', 'system_fingerprint': 'fp_72ed7ab54c', 'finish_reason': 'stop', 'logprobs': None}, id='run-954d42d8-6d7b-43ae-a408-a2e6028a8318-0', usage_metadata={'input_tokens': 14, 'output_tokens': 12, 'total_tokens': 26, 'input_token_details': {'audio': 0, 'cache_read': 0}, 'output_token_details': {'audio': 0, 'reasoning': 0}})]}"
      ]
     },
     "execution_count": 21,
     "metadata": {},
     "output_type": "execute_result"
    }
   ],
   "execution_count": 21
  },
  {
   "metadata": {
    "ExecuteTime": {
     "end_time": "2025-01-24T05:43:42.908891Z",
     "start_time": "2025-01-24T05:43:42.117326Z"
    }
   },
   "cell_type": "code",
   "source": [
    "# look at the reply. the whole conversation is here\n",
    "app.invoke({\"messages\": \"What is my name!\"}, config=chat1)"
   ],
   "id": "8815c59bc40ddd5",
   "outputs": [
    {
     "data": {
      "text/plain": [
       "{'messages': [HumanMessage(content='Hi My name is Mahmud!', additional_kwargs={}, response_metadata={}, id='5c6081e0-dedc-47c5-8236-bf175c5c3133'),\n",
       "  AIMessage(content='Hi Mahmud! How can I assist you today?', additional_kwargs={'refusal': None}, response_metadata={'token_usage': {'completion_tokens': 12, 'prompt_tokens': 14, 'total_tokens': 26, 'completion_tokens_details': {'accepted_prediction_tokens': 0, 'audio_tokens': 0, 'reasoning_tokens': 0, 'rejected_prediction_tokens': 0}, 'prompt_tokens_details': {'audio_tokens': 0, 'cached_tokens': 0}}, 'model_name': 'gpt-4o-mini-2024-07-18', 'system_fingerprint': 'fp_72ed7ab54c', 'finish_reason': 'stop', 'logprobs': None}, id='run-954d42d8-6d7b-43ae-a408-a2e6028a8318-0', usage_metadata={'input_tokens': 14, 'output_tokens': 12, 'total_tokens': 26, 'input_token_details': {'audio': 0, 'cache_read': 0}, 'output_token_details': {'audio': 0, 'reasoning': 0}}),\n",
       "  HumanMessage(content='What is my name!', additional_kwargs={}, response_metadata={}, id='72bc894f-0c89-4fb4-924a-7e10d28ba595'),\n",
       "  AIMessage(content='Your name is Mahmud! How can I help you today, Mahmud?', additional_kwargs={'refusal': None}, response_metadata={'token_usage': {'completion_tokens': 17, 'prompt_tokens': 38, 'total_tokens': 55, 'completion_tokens_details': {'accepted_prediction_tokens': 0, 'audio_tokens': 0, 'reasoning_tokens': 0, 'rejected_prediction_tokens': 0}, 'prompt_tokens_details': {'audio_tokens': 0, 'cached_tokens': 0}}, 'model_name': 'gpt-4o-mini-2024-07-18', 'system_fingerprint': 'fp_72ed7ab54c', 'finish_reason': 'stop', 'logprobs': None}, id='run-4c4d3f4c-a7c1-4c56-90e1-3582e4c34cef-0', usage_metadata={'input_tokens': 38, 'output_tokens': 17, 'total_tokens': 55, 'input_token_details': {'audio': 0, 'cache_read': 0}, 'output_token_details': {'audio': 0, 'reasoning': 0}})]}"
      ]
     },
     "execution_count": 22,
     "metadata": {},
     "output_type": "execute_result"
    }
   ],
   "execution_count": 22
  },
  {
   "metadata": {
    "ExecuteTime": {
     "end_time": "2025-01-24T05:45:53.593864Z",
     "start_time": "2025-01-24T05:45:53.587926Z"
    }
   },
   "cell_type": "code",
   "source": [
    "output = app.invoke(None, config=chat1)\n",
    "for message in output[\"messages\"]:\n",
    "    message.pretty_print()"
   ],
   "id": "8543780c1a19c48c",
   "outputs": [
    {
     "name": "stdout",
     "output_type": "stream",
     "text": [
      "================================\u001B[1m Human Message \u001B[0m=================================\n",
      "\n",
      "Hi My name is Mahmud!\n",
      "==================================\u001B[1m Ai Message \u001B[0m==================================\n",
      "\n",
      "Hi Mahmud! How can I assist you today?\n",
      "================================\u001B[1m Human Message \u001B[0m=================================\n",
      "\n",
      "What is my name!\n",
      "==================================\u001B[1m Ai Message \u001B[0m==================================\n",
      "\n",
      "Your name is Mahmud! How can I help you today, Mahmud?\n"
     ]
    }
   ],
   "execution_count": 24
  },
  {
   "metadata": {
    "ExecuteTime": {
     "end_time": "2025-01-24T05:47:24.112285Z",
     "start_time": "2025-01-24T05:47:23.064705Z"
    }
   },
   "cell_type": "code",
   "source": [
    "# can the app support multiple independant conversations?\n",
    "chat2 = {'configurable': {'thread_id': 2}}\n",
    "app.invoke({\"messages\": \"What is my name!\"}, config=chat2)[\"messages\"][-1].content"
   ],
   "id": "ae646e4a1b914437",
   "outputs": [
    {
     "data": {
      "text/plain": [
       "\"I don't know your name unless you tell me! How can I assist you today?\""
      ]
     },
     "execution_count": 25,
     "metadata": {},
     "output_type": "execute_result"
    }
   ],
   "execution_count": 25
  },
  {
   "metadata": {},
   "cell_type": "markdown",
   "source": "This time the app doesnt know my name confirming this is an entirely different chat",
   "id": "e9a748714965aef3"
  },
  {
   "metadata": {
    "ExecuteTime": {
     "end_time": "2025-01-24T05:51:32.156563Z",
     "start_time": "2025-01-24T05:51:32.149873Z"
    }
   },
   "cell_type": "code",
   "source": [
    "# make the app more interactive\n",
    "def chatbot(chat_id: int):\n",
    "    config = {\"configurable\": {\"thread_id\": chat_id}}\n",
    "\n",
    "    while True:\n",
    "        user_input = input(\"User: \")\n",
    "        if user_input in ('exit', 'quit'):\n",
    "            print(\"Goodbye\")\n",
    "            break\n",
    "        else:\n",
    "            output = app.invoke({\"messages\": user_input}, config=config)\n",
    "            ai_response = output[\"messages\"][-1].content\n",
    "            print(\"AI response:\", ai_response)\n"
   ],
   "id": "2f41d290a69d8b78",
   "outputs": [],
   "execution_count": 26
  },
  {
   "metadata": {
    "ExecuteTime": {
     "end_time": "2025-01-24T05:52:14.242666Z",
     "start_time": "2025-01-24T05:51:46.112276Z"
    }
   },
   "cell_type": "code",
   "source": "chatbot(4)",
   "id": "a6a6bee8f637f5c1",
   "outputs": [
    {
     "name": "stdout",
     "output_type": "stream",
     "text": [
      "AI response: Hello! I'm just a program, so I don't have feelings, but I'm here and ready to help you. How can I assist you today?\n",
      "Goodbye\n"
     ]
    }
   ],
   "execution_count": 27
  },
  {
   "metadata": {},
   "cell_type": "code",
   "outputs": [],
   "execution_count": null,
   "source": "",
   "id": "afd6c2544da979c9"
  }
 ],
 "metadata": {
  "kernelspec": {
   "display_name": "Python 3",
   "language": "python",
   "name": "python3"
  },
  "language_info": {
   "codemirror_mode": {
    "name": "ipython",
    "version": 2
   },
   "file_extension": ".py",
   "mimetype": "text/x-python",
   "name": "python",
   "nbconvert_exporter": "python",
   "pygments_lexer": "ipython2",
   "version": "2.7.6"
  }
 },
 "nbformat": 4,
 "nbformat_minor": 5
}
