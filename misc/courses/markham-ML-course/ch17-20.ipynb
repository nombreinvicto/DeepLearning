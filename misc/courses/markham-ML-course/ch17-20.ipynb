{
 "cells": [
  {
   "cell_type": "markdown",
   "metadata": {},
   "source": [
    "# Course: [Master Machine Learning with scikit-learn](https://courses.dataschool.io/view/courses/master-machine-learning-with-scikit-learn)\n",
    "\n",
    "## Chapters 17-20\n",
    "\n",
    "*© 2024 Data School. All rights reserved.*"
   ]
  },
  {
   "cell_type": "markdown",
   "metadata": {},
   "source": [
    "# Chapter 17: High-cardinality categorical features"
   ]
  },
  {
   "cell_type": "markdown",
   "metadata": {},
   "source": [
    "## 17.1 Recap of nominal and ordinal features"
   ]
  },
  {
   "cell_type": "markdown",
   "metadata": {},
   "source": [
    "Before we begin, I should note that this chapter marks the start of another new notebook. As such, we need to run the following cells in order to set up our environment with the relevant imports, objects, and settings.\n",
    "\n",
    "Now that that's complete, let's talk about categorical features. There are two types of categorical features that we've covered in the course:\n",
    "\n",
    "A nominal feature has categories that are unordered, such as Embarked and Sex.\n",
    "\n",
    "An ordinal feature has categories with an inherent logical ordering, such as Pclass."
   ]
  },
  {
   "cell_type": "code",
   "metadata": {
    "ExecuteTime": {
     "end_time": "2024-10-21T14:02:45.012799Z",
     "start_time": "2024-10-21T14:02:44.501336Z"
    }
   },
   "source": [
    "import pandas as pd\n",
    "import numpy as np\n",
    "from sklearn.preprocessing import OneHotEncoder, OrdinalEncoder\n",
    "from sklearn.linear_model import LogisticRegression\n",
    "from sklearn.ensemble import RandomForestClassifier\n",
    "from sklearn.compose import make_column_transformer\n",
    "from sklearn.pipeline import make_pipeline\n",
    "from sklearn.model_selection import cross_val_score, GridSearchCV, train_test_split\n",
    "from sklearn import set_config"
   ],
   "outputs": [],
   "execution_count": 1
  },
  {
   "cell_type": "code",
   "metadata": {
    "ExecuteTime": {
     "end_time": "2024-10-21T14:02:46.425935Z",
     "start_time": "2024-10-21T14:02:45.018812Z"
    }
   },
   "source": [
    "df = pd.read_csv('http://bit.ly/MLtrain')\n",
    "y = df['Survived']"
   ],
   "outputs": [],
   "execution_count": 2
  },
  {
   "cell_type": "code",
   "metadata": {
    "ExecuteTime": {
     "end_time": "2024-10-21T14:02:47.384968Z",
     "start_time": "2024-10-21T14:02:47.379406Z"
    }
   },
   "source": [
    "logreg = LogisticRegression(solver='liblinear', random_state=1)\n",
    "rf = RandomForestClassifier(random_state=1, n_jobs=-1)"
   ],
   "outputs": [],
   "execution_count": 3
  },
  {
   "cell_type": "code",
   "metadata": {
    "ExecuteTime": {
     "end_time": "2024-10-21T14:02:47.430642Z",
     "start_time": "2024-10-21T14:02:47.425697Z"
    }
   },
   "source": [
    "set_config(display='diagram')"
   ],
   "outputs": [],
   "execution_count": 4
  },
  {
   "cell_type": "markdown",
   "metadata": {},
   "source": [
    "So far, here's the advice that I've given for encoding nominal and ordinal features:\n",
    "\n",
    "For a nominal feature, you should use OneHotEncoder, and it will output one column for each category.\n",
    "\n",
    "For an ordinal feature that is already encoded numerically, you should leave it as-is.\n",
    "\n",
    "And for an ordinal feature that is encoded as strings, you should use OrdinalEncoder, and it will output a single column using the category ordering that you define."
   ]
  },
  {
   "cell_type": "markdown",
   "metadata": {},
   "source": [
    "**Types of categorical features:**\n",
    "\n",
    "- **Nominal:** Unordered categories\n",
    "  - Embarked\n",
    "  - Sex\n",
    "- **Ordinal:** Ordered categories\n",
    "  - Pclass"
   ]
  },
  {
   "cell_type": "markdown",
   "metadata": {},
   "source": [
    "**Advice for encoding categorical data:**\n",
    "\n",
    "- **Nominal feature:** Use OneHotEncoder\n",
    "- **Ordinal feature stored as numbers:** Leave as-is\n",
    "- **Ordinal feature stored as strings:** Use OrdinalEncoder"
   ]
  },
  {
   "cell_type": "markdown",
   "metadata": {},
   "source": [
    "Let's do a quick recap as to why OneHotEncoder is the preferred approach for a nominal feature, using Embarked as an example.\n",
    "\n",
    "Embarked has three categories, so OneHotEncoder would output 3 features. From each of the three features, the model can learn the relationship between the target value and whether or not a given passenger embarked at that port. For example, the model might learn from the first feature that passengers who embarked at C have a higher survival rate than passengers who didn't embark at C.\n",
    "\n",
    "If you were to instead use OrdinalEncoder with Embarked, it would output 1 feature. This is problematic because it would imply an ordering of the categories that doesn't inherently exist. For example, if passengers who embarked at C and S had high survival rates, and passengers who embarked at Q had low survival rates, there's no way for a linear model to learn this relationship if Embarked is encoded as a single feature.\n",
    "\n",
    "In this chapter, we're going to explore whether this advice still holds when you have high-cardinality categorical features, which are categorical features with lots of unique values"
   ]
  },
  {
   "cell_type": "markdown",
   "metadata": {},
   "source": [
    "**Why use OneHotEncoder for Embarked?**\n",
    "\n",
    "- **OneHotEncoder:**\n",
    "  - Outputs 3 features\n",
    "  - Model can learn the relationship between each feature and the target value\n",
    "- **OrdinalEncoder:**\n",
    "  - Outputs 1 feature\n",
    "  - Implies an ordering that doesn't inherently exist\n",
    "  - Linear model can't necessarily learn the relationships in the data"
   ]
  },
  {
   "cell_type": "markdown",
   "metadata": {},
   "source": []
  },
  {
   "cell_type": "code",
   "metadata": {
    "ExecuteTime": {
     "end_time": "2024-10-21T14:02:47.582447Z",
     "start_time": "2024-10-21T14:02:47.566132Z"
    }
   },
   "source": [
    "df['Embarked'].value_counts()"
   ],
   "outputs": [
    {
     "data": {
      "text/plain": [
       "Embarked\n",
       "S    644\n",
       "C    168\n",
       "Q     77\n",
       "Name: count, dtype: int64"
      ]
     },
     "execution_count": 5,
     "metadata": {},
     "output_type": "execute_result"
    }
   ],
   "execution_count": 5
  },
  {
   "cell_type": "markdown",
   "metadata": {},
   "source": [
    "## 17.2 Preparing the census dataset"
   ]
  },
  {
   "cell_type": "markdown",
   "metadata": {},
   "source": [
    "We'll use a new dataset for this chapter, namely a dataset of US census data from 1994.\n",
    "\n",
    "We'll read the dataset into a new DataFrame called census. You can read it from a URL or from your local computer, so choose whichever option your prefer.\n",
    "\n",
    "We're only going to use the categorical features, which we can explore by using the DataFrame describe method."
   ]
  },
  {
   "cell_type": "code",
   "metadata": {
    "ExecuteTime": {
     "end_time": "2024-10-21T14:02:50.307057Z",
     "start_time": "2024-10-21T14:02:47.802142Z"
    }
   },
   "source": [
    "census = pd.read_csv('http://bit.ly/censusdataset')\n",
    "census = pd.read_csv('census.csv')"
   ],
   "outputs": [],
   "execution_count": 6
  },
  {
   "cell_type": "code",
   "metadata": {
    "scrolled": true,
    "ExecuteTime": {
     "end_time": "2024-10-21T14:02:50.391282Z",
     "start_time": "2024-10-21T14:02:50.341356Z"
    }
   },
   "source": [
    "census.describe(include='object')"
   ],
   "outputs": [
    {
     "data": {
      "text/plain": [
       "       workclass education       marital-status       occupation relationship  \\\n",
       "count      48842     48842                48842            48842        48842   \n",
       "unique         9        16                    7               15            6   \n",
       "top      Private   HS-grad   Married-civ-spouse   Prof-specialty      Husband   \n",
       "freq       33906     15784                22379             6172        19716   \n",
       "\n",
       "          race    sex  native-country   class  \n",
       "count    48842  48842           48842   48842  \n",
       "unique       5      2              42       2  \n",
       "top      White   Male   United-States   <=50K  \n",
       "freq     41762  32650           43832   37155  "
      ],
      "text/html": [
       "<div>\n",
       "<style scoped>\n",
       "    .dataframe tbody tr th:only-of-type {\n",
       "        vertical-align: middle;\n",
       "    }\n",
       "\n",
       "    .dataframe tbody tr th {\n",
       "        vertical-align: top;\n",
       "    }\n",
       "\n",
       "    .dataframe thead th {\n",
       "        text-align: right;\n",
       "    }\n",
       "</style>\n",
       "<table border=\"1\" class=\"dataframe\">\n",
       "  <thead>\n",
       "    <tr style=\"text-align: right;\">\n",
       "      <th></th>\n",
       "      <th>workclass</th>\n",
       "      <th>education</th>\n",
       "      <th>marital-status</th>\n",
       "      <th>occupation</th>\n",
       "      <th>relationship</th>\n",
       "      <th>race</th>\n",
       "      <th>sex</th>\n",
       "      <th>native-country</th>\n",
       "      <th>class</th>\n",
       "    </tr>\n",
       "  </thead>\n",
       "  <tbody>\n",
       "    <tr>\n",
       "      <th>count</th>\n",
       "      <td>48842</td>\n",
       "      <td>48842</td>\n",
       "      <td>48842</td>\n",
       "      <td>48842</td>\n",
       "      <td>48842</td>\n",
       "      <td>48842</td>\n",
       "      <td>48842</td>\n",
       "      <td>48842</td>\n",
       "      <td>48842</td>\n",
       "    </tr>\n",
       "    <tr>\n",
       "      <th>unique</th>\n",
       "      <td>9</td>\n",
       "      <td>16</td>\n",
       "      <td>7</td>\n",
       "      <td>15</td>\n",
       "      <td>6</td>\n",
       "      <td>5</td>\n",
       "      <td>2</td>\n",
       "      <td>42</td>\n",
       "      <td>2</td>\n",
       "    </tr>\n",
       "    <tr>\n",
       "      <th>top</th>\n",
       "      <td>Private</td>\n",
       "      <td>HS-grad</td>\n",
       "      <td>Married-civ-spouse</td>\n",
       "      <td>Prof-specialty</td>\n",
       "      <td>Husband</td>\n",
       "      <td>White</td>\n",
       "      <td>Male</td>\n",
       "      <td>United-States</td>\n",
       "      <td>&lt;=50K</td>\n",
       "    </tr>\n",
       "    <tr>\n",
       "      <th>freq</th>\n",
       "      <td>33906</td>\n",
       "      <td>15784</td>\n",
       "      <td>22379</td>\n",
       "      <td>6172</td>\n",
       "      <td>19716</td>\n",
       "      <td>41762</td>\n",
       "      <td>32650</td>\n",
       "      <td>43832</td>\n",
       "      <td>37155</td>\n",
       "    </tr>\n",
       "  </tbody>\n",
       "</table>\n",
       "</div>"
      ]
     },
     "execution_count": 7,
     "metadata": {},
     "output_type": "execute_result"
    }
   ],
   "execution_count": 7
  },
  {
   "cell_type": "markdown",
   "metadata": {},
   "source": [
    "**Categorical features in census dataset:**\n",
    "\n",
    "- **High-cardinality (3 of 8):** education, occupation, native-country\n",
    "- **Nominal (7 of 8):** All except education"
   ]
  },
  {
   "cell_type": "markdown",
   "metadata": {},
   "source": [
    "From the row labeled \"unique\", you can see that education, occupation, and native-country all have more than 10 unique values. There's no hard-and-fast rule for what counts as a high-cardinality feature, but all three of these could be considered high-cardinality since they have a lot of unique values.\n",
    "\n",
    "You can't tell from this display, but these 8 features are all nominal features, with the exception of education since it does have a logical ordering. However, we're going to be treating education as nominal for this experiment."
   ]
  },
  {
   "cell_type": "markdown",
   "metadata": {},
   "source": [
    "The column labeled \"class\" is actually our target. This column indicates whether the person has an income of more or less than fifty thousand dollars a year.\n",
    "\n",
    "We can view the class proportions by normalizing the output of value_counts."
   ]
  },
  {
   "cell_type": "code",
   "metadata": {
    "ExecuteTime": {
     "end_time": "2024-10-21T14:02:50.548818Z",
     "start_time": "2024-10-21T14:02:50.540193Z"
    }
   },
   "source": [
    "census['class'].value_counts(normalize=True)"
   ],
   "outputs": [
    {
     "data": {
      "text/plain": [
       "class\n",
       "<=50K    0.760718\n",
       ">50K     0.239282\n",
       "Name: proportion, dtype: float64"
      ]
     },
     "execution_count": 8,
     "metadata": {},
     "output_type": "execute_result"
    }
   ],
   "execution_count": 8
  },
  {
   "cell_type": "markdown",
   "metadata": {},
   "source": [
    "When defining our X DataFrame, which I'm calling census_X, we're only going to use the 8 categorical columns, which I've listed out manually. And we'll use \"class\" as our y Series, which I'm calling census_y."
   ]
  },
  {
   "cell_type": "code",
   "metadata": {
    "ExecuteTime": {
     "end_time": "2024-10-21T14:02:50.884768Z",
     "start_time": "2024-10-21T14:02:50.872405Z"
    }
   },
   "source": [
    "census_cols = ['workclass',\n",
    "               'education',\n",
    "               'marital-status',\n",
    "               'occupation',\n",
    "               'relationship',\n",
    "               'race',\n",
    "               'sex',\n",
    "               'native-country']\n",
    "census_X = census[census_cols]\n",
    "census_y = census['class']"
   ],
   "outputs": [],
   "execution_count": 9
  },
  {
   "cell_type": "markdown",
   "metadata": {},
   "source": [
    "## 17.3 Setting up the encoders"
   ]
  },
  {
   "cell_type": "markdown",
   "metadata": {},
   "source": [
    "We're going to be testing the effectiveness of both OneHotEncoder and OrdinalEncoder with these 8 features. For this experiment, we would normally just create instances using the default arguments.\n",
    "\n",
    "Notice that we created an instance of OrdinalEncoder without defining the category ordering. This is because we're treating all of the features as nominal, and as such there is no logical ordering."
   ]
  },
  {
   "cell_type": "code",
   "metadata": {
    "ExecuteTime": {
     "end_time": "2024-10-21T14:02:51.222410Z",
     "start_time": "2024-10-21T14:02:51.217030Z"
    }
   },
   "source": [
    "ohe = OneHotEncoder()\n",
    "oe = OrdinalEncoder()"
   ],
   "outputs": [],
   "execution_count": 10
  },
  {
   "cell_type": "markdown",
   "metadata": {},
   "source": [
    "As a result, OrdinalEncoder would simply learn the categories for each feature in alphabetical order, which we can confirm by fitting the OrdinalEncoder and checking the categories_ attribute.\n",
    "\n",
    "That being said, we're actually going to run into a problem with encoding due to our highest cardinality feature, native-country. Let's take a look at it and see why."
   ]
  },
  {
   "cell_type": "code",
   "metadata": {
    "ExecuteTime": {
     "end_time": "2024-10-21T14:02:51.638552Z",
     "start_time": "2024-10-21T14:02:51.624135Z"
    }
   },
   "source": [
    "oe.fit(census_X).categories_"
   ],
   "outputs": [
    {
     "data": {
      "text/plain": [
       "[array([' ?', ' Federal-gov', ' Local-gov', ' Never-worked', ' Private',\n",
       "        ' Self-emp-inc', ' Self-emp-not-inc', ' State-gov', ' Without-pay'],\n",
       "       dtype=object),\n",
       " array([' 10th', ' 11th', ' 12th', ' 1st-4th', ' 5th-6th', ' 7th-8th',\n",
       "        ' 9th', ' Assoc-acdm', ' Assoc-voc', ' Bachelors', ' Doctorate',\n",
       "        ' HS-grad', ' Masters', ' Preschool', ' Prof-school',\n",
       "        ' Some-college'], dtype=object),\n",
       " array([' Divorced', ' Married-AF-spouse', ' Married-civ-spouse',\n",
       "        ' Married-spouse-absent', ' Never-married', ' Separated',\n",
       "        ' Widowed'], dtype=object),\n",
       " array([' ?', ' Adm-clerical', ' Armed-Forces', ' Craft-repair',\n",
       "        ' Exec-managerial', ' Farming-fishing', ' Handlers-cleaners',\n",
       "        ' Machine-op-inspct', ' Other-service', ' Priv-house-serv',\n",
       "        ' Prof-specialty', ' Protective-serv', ' Sales', ' Tech-support',\n",
       "        ' Transport-moving'], dtype=object),\n",
       " array([' Husband', ' Not-in-family', ' Other-relative', ' Own-child',\n",
       "        ' Unmarried', ' Wife'], dtype=object),\n",
       " array([' Amer-Indian-Eskimo', ' Asian-Pac-Islander', ' Black', ' Other',\n",
       "        ' White'], dtype=object),\n",
       " array([' Female', ' Male'], dtype=object),\n",
       " array([' ?', ' Cambodia', ' Canada', ' China', ' Columbia', ' Cuba',\n",
       "        ' Dominican-Republic', ' Ecuador', ' El-Salvador', ' England',\n",
       "        ' France', ' Germany', ' Greece', ' Guatemala', ' Haiti',\n",
       "        ' Holand-Netherlands', ' Honduras', ' Hong', ' Hungary', ' India',\n",
       "        ' Iran', ' Ireland', ' Italy', ' Jamaica', ' Japan', ' Laos',\n",
       "        ' Mexico', ' Nicaragua', ' Outlying-US(Guam-USVI-etc)', ' Peru',\n",
       "        ' Philippines', ' Poland', ' Portugal', ' Puerto-Rico',\n",
       "        ' Scotland', ' South', ' Taiwan', ' Thailand', ' Trinadad&Tobago',\n",
       "        ' United-States', ' Vietnam', ' Yugoslavia'], dtype=object)]"
      ]
     },
     "execution_count": 11,
     "metadata": {},
     "output_type": "execute_result"
    }
   ],
   "execution_count": 11
  },
  {
   "cell_type": "markdown",
   "metadata": {},
   "source": [
    "You can see that one of the categories appears only once in the dataset. As we talked about in lesson 15.7, rare category values can cause problems with cross-validation.\n",
    "\n",
    "In this case, it will definitely create a problem, because that sample is guaranteed to appear in the test fold but not a training fold during one of the runs of cross-validation. That will cause an error for both OneHotEncoder and OrdinalEncoder.\n",
    "\n",
    "In the case of OneHotEncoder, the solution is simply to set the handle_unknown parameter to \"ignore\"."
   ]
  },
  {
   "cell_type": "code",
   "metadata": {
    "ExecuteTime": {
     "end_time": "2024-10-21T14:02:51.888023Z",
     "start_time": "2024-10-21T14:02:51.877753Z"
    }
   },
   "source": [
    "census_X['native-country'].value_counts()"
   ],
   "outputs": [
    {
     "data": {
      "text/plain": [
       "native-country\n",
       "United-States                 43832\n",
       "Mexico                          951\n",
       "?                               857\n",
       "Philippines                     295\n",
       "Germany                         206\n",
       "Puerto-Rico                     184\n",
       "Canada                          182\n",
       "El-Salvador                     155\n",
       "India                           151\n",
       "Cuba                            138\n",
       "England                         127\n",
       "China                           122\n",
       "South                           115\n",
       "Jamaica                         106\n",
       "Italy                           105\n",
       "Dominican-Republic              103\n",
       "Japan                            92\n",
       "Guatemala                        88\n",
       "Poland                           87\n",
       "Vietnam                          86\n",
       "Columbia                         85\n",
       "Haiti                            75\n",
       "Portugal                         67\n",
       "Taiwan                           65\n",
       "Iran                             59\n",
       "Greece                           49\n",
       "Nicaragua                        49\n",
       "Peru                             46\n",
       "Ecuador                          45\n",
       "France                           38\n",
       "Ireland                          37\n",
       "Hong                             30\n",
       "Thailand                         30\n",
       "Cambodia                         28\n",
       "Trinadad&Tobago                  27\n",
       "Laos                             23\n",
       "Yugoslavia                       23\n",
       "Outlying-US(Guam-USVI-etc)       23\n",
       "Scotland                         21\n",
       "Honduras                         20\n",
       "Hungary                          19\n",
       "Holand-Netherlands                1\n",
       "Name: count, dtype: int64"
      ]
     },
     "execution_count": 12,
     "metadata": {},
     "output_type": "execute_result"
    }
   ],
   "execution_count": 12
  },
  {
   "cell_type": "markdown",
   "metadata": {},
   "source": [
    "Starting in scikit-learn version 0.24, OrdinalEncoder will have a similar handle_unknown parameter that could be used for this situation.\n",
    "\n",
    "But for now, the best solution is to define the categories in advance for each feature using a list comprehension. The list comprehension iterates through the feature columns, extracts the unique values from each column, and stores the result in a list called \"cats\"."
   ]
  },
  {
   "cell_type": "markdown",
   "metadata": {},
   "source": [
    "**Resolving the cross-validation error caused by rare categories:**\n",
    "\n",
    "- **OneHotEncoder:** Set handle_unknown='ignore'\n",
    "- **OrdinalEncoder (before 0.24):** Define the categories in advance\n",
    "- **OrdinalEncoder (starting in 0.24):** Set handle_unknown='use_encoded_value'"
   ]
  },
  {
   "cell_type": "code",
   "metadata": {
    "ExecuteTime": {
     "end_time": "2024-10-21T14:02:52.059957Z",
     "start_time": "2024-10-21T14:02:52.055438Z"
    }
   },
   "source": [
    "ohe_ignore = OneHotEncoder(handle_unknown='ignore')"
   ],
   "outputs": [],
   "execution_count": 13
  },
  {
   "cell_type": "code",
   "metadata": {
    "ExecuteTime": {
     "end_time": "2024-10-21T14:02:52.250165Z",
     "start_time": "2024-10-21T14:02:52.226448Z"
    }
   },
   "source": [
    "cats = [census_X[col].unique() \n",
    "        for col in census_X[census_cols]]\n",
    "cats"
   ],
   "outputs": [
    {
     "data": {
      "text/plain": [
       "[array([' Private', ' Local-gov', ' ?', ' Self-emp-not-inc',\n",
       "        ' Federal-gov', ' State-gov', ' Self-emp-inc', ' Without-pay',\n",
       "        ' Never-worked'], dtype=object),\n",
       " array([' 11th', ' HS-grad', ' Assoc-acdm', ' Some-college', ' 10th',\n",
       "        ' Prof-school', ' 7th-8th', ' Bachelors', ' Masters', ' Doctorate',\n",
       "        ' 5th-6th', ' Assoc-voc', ' 9th', ' 12th', ' 1st-4th',\n",
       "        ' Preschool'], dtype=object),\n",
       " array([' Never-married', ' Married-civ-spouse', ' Widowed', ' Divorced',\n",
       "        ' Separated', ' Married-spouse-absent', ' Married-AF-spouse'],\n",
       "       dtype=object),\n",
       " array([' Machine-op-inspct', ' Farming-fishing', ' Protective-serv', ' ?',\n",
       "        ' Other-service', ' Prof-specialty', ' Craft-repair',\n",
       "        ' Adm-clerical', ' Exec-managerial', ' Tech-support', ' Sales',\n",
       "        ' Priv-house-serv', ' Transport-moving', ' Handlers-cleaners',\n",
       "        ' Armed-Forces'], dtype=object),\n",
       " array([' Own-child', ' Husband', ' Not-in-family', ' Unmarried', ' Wife',\n",
       "        ' Other-relative'], dtype=object),\n",
       " array([' Black', ' White', ' Asian-Pac-Islander', ' Other',\n",
       "        ' Amer-Indian-Eskimo'], dtype=object),\n",
       " array([' Male', ' Female'], dtype=object),\n",
       " array([' United-States', ' ?', ' Peru', ' Guatemala', ' Mexico',\n",
       "        ' Dominican-Republic', ' Ireland', ' Germany', ' Philippines',\n",
       "        ' Thailand', ' Haiti', ' El-Salvador', ' Puerto-Rico', ' Vietnam',\n",
       "        ' South', ' Columbia', ' Japan', ' India', ' Cambodia', ' Poland',\n",
       "        ' Laos', ' England', ' Cuba', ' Taiwan', ' Italy', ' Canada',\n",
       "        ' Portugal', ' China', ' Nicaragua', ' Honduras', ' Iran',\n",
       "        ' Scotland', ' Jamaica', ' Ecuador', ' Yugoslavia', ' Hungary',\n",
       "        ' Hong', ' Greece', ' Trinadad&Tobago',\n",
       "        ' Outlying-US(Guam-USVI-etc)', ' France', ' Holand-Netherlands'],\n",
       "       dtype=object)]"
      ]
     },
     "execution_count": 14,
     "metadata": {},
     "output_type": "execute_result"
    }
   ],
   "execution_count": 14
  },
  {
   "cell_type": "markdown",
   "metadata": {},
   "source": [
    "Then, we can pass the \"cats\" list to the categories parameter of OrdinalEncoder when creating an instance. This solves our problem since no unknown categories will ever appear during cross-validation."
   ]
  },
  {
   "cell_type": "code",
   "metadata": {
    "ExecuteTime": {
     "end_time": "2024-10-21T14:02:52.500241Z",
     "start_time": "2024-10-21T14:02:52.495239Z"
    }
   },
   "source": [
    "oe_cats = OrdinalEncoder(categories=cats)"
   ],
   "outputs": [],
   "execution_count": 15
  },
  {
   "cell_type": "markdown",
   "metadata": {},
   "source": [
    "## 17.4 Encoding nominal features for a linear model"
   ]
  },
  {
   "cell_type": "markdown",
   "metadata": {},
   "source": [
    "Now that we've set up our OneHotEncoder, called \"ohe_ignore\", and our OrdinalEncoder, called \"oe_cats\", let's see what happens when we pass census_X to fit_transform and then check the shape.\n",
    "\n",
    "As expected, the OneHotEncoder creates a lot of columns due to the high-cardinality features, whereas the OrdinalEncoder creates only one column for each of the eight features."
   ]
  },
  {
   "cell_type": "code",
   "metadata": {
    "ExecuteTime": {
     "end_time": "2024-10-21T14:02:52.746918Z",
     "start_time": "2024-10-21T14:02:52.692482Z"
    }
   },
   "source": [
    "ohe_ignore.fit_transform(census_X).shape"
   ],
   "outputs": [
    {
     "data": {
      "text/plain": [
       "(48842, 102)"
      ]
     },
     "execution_count": 16,
     "metadata": {},
     "output_type": "execute_result"
    }
   ],
   "execution_count": 16
  },
  {
   "cell_type": "code",
   "metadata": {
    "ExecuteTime": {
     "end_time": "2024-10-21T14:02:52.870630Z",
     "start_time": "2024-10-21T14:02:52.818718Z"
    }
   },
   "source": [
    "oe_cats.fit_transform(census_X).shape"
   ],
   "outputs": [
    {
     "data": {
      "text/plain": [
       "(48842, 8)"
      ]
     },
     "execution_count": 17,
     "metadata": {},
     "output_type": "execute_result"
    }
   ],
   "execution_count": 17
  },
  {
   "cell_type": "markdown",
   "metadata": {},
   "source": [
    "Now let's actually test the advice that I've given, which is that OneHotEncoder should be used for nominal features, to see if this advice still holds for high-cardinality features.The simplest method for doing this is to create two Pipelines. One of them uses OneHotEncoder and the other uses OrdinalEncoder, and both end in a logistic regression model."
   ]
  },
  {
   "cell_type": "markdown",
   "metadata": {},
   "source": [
    "We'll cross-validate each Pipeline using all features and then compare the accuracies. We'll also time the operations to see if there are significant differences."
   ]
  },
  {
   "cell_type": "code",
   "metadata": {
    "ExecuteTime": {
     "end_time": "2024-10-21T14:02:52.956606Z",
     "start_time": "2024-10-21T14:02:52.952256Z"
    }
   },
   "source": [
    "ohe_logreg = make_pipeline(ohe_ignore, logreg)\n",
    "oe_logreg = make_pipeline(oe_cats, logreg)"
   ],
   "outputs": [],
   "execution_count": 18
  },
  {
   "cell_type": "code",
   "metadata": {
    "ExecuteTime": {
     "end_time": "2024-10-21T14:02:55.240692Z",
     "start_time": "2024-10-21T14:02:53.074332Z"
    }
   },
   "source": [
    "%time cross_val_score(ohe_logreg, census_X, census_y, cv=5, scoring='accuracy').mean()"
   ],
   "outputs": [
    {
     "name": "stdout",
     "output_type": "stream",
     "text": [
      "CPU times: total: 672 ms\n",
      "Wall time: 2.15 s\n"
     ]
    },
    {
     "data": {
      "text/plain": [
       "0.8329920571424309"
      ]
     },
     "execution_count": 19,
     "metadata": {},
     "output_type": "execute_result"
    }
   ],
   "execution_count": 19
  },
  {
   "cell_type": "code",
   "metadata": {
    "ExecuteTime": {
     "end_time": "2024-10-21T14:02:56.130448Z",
     "start_time": "2024-10-21T14:02:55.398442Z"
    }
   },
   "source": [
    "%time cross_val_score(oe_logreg, census_X, census_y, cv=5, scoring='accuracy').mean()"
   ],
   "outputs": [
    {
     "name": "stdout",
     "output_type": "stream",
     "text": [
      "CPU times: total: 172 ms\n",
      "Wall time: 726 ms\n"
     ]
    },
    {
     "data": {
      "text/plain": [
       "0.7547398152859307"
      ]
     },
     "execution_count": 20,
     "metadata": {},
     "output_type": "execute_result"
    }
   ],
   "execution_count": 20
  },
  {
   "cell_type": "markdown",
   "metadata": {},
   "source": [
    "The two Pipelines take around the same amount of time to run, but the accuracy of the OneHotEncoder Pipeline is 0.833, which is significantly better than the 0.755 accuracy of the OrdinalEncoder Pipeline. This would suggest that at least for a linear model like logistic regression, OneHotEncoder should be used for nominal features, even when the features have high cardinality."
   ]
  },
  {
   "cell_type": "markdown",
   "metadata": {},
   "source": [
    "**Pipeline accuracy when encoding nominal features:**\n",
    "\n",
    "- Linear model:\n",
    "  - **OneHotEncoder:** 0.833\n",
    "  - **OrdinalEncoder:** 0.755"
   ]
  },
  {
   "cell_type": "markdown",
   "metadata": {},
   "source": [
    "## 17.5 Encoding nominal features for a non-linear model"
   ]
  },
  {
   "cell_type": "markdown",
   "metadata": {},
   "source": [
    "Let's now do the same comparison as the previous lesson, except this time we'll use random forests, which is a tree-based non-linear model that we used in chapter 11.\n",
    "\n",
    "First, we'll create two more Pipelines, one using OneHotEncoder and the other using OrdinalEncoder, and both ending in a random forest model.\n",
    "\n",
    "Then, we'll cross-validate each Pipeline using all features."
   ]
  },
  {
   "cell_type": "code",
   "metadata": {
    "ExecuteTime": {
     "end_time": "2024-10-21T14:02:56.255702Z",
     "start_time": "2024-10-21T14:02:56.251518Z"
    }
   },
   "source": [
    "ohe_rf = make_pipeline(ohe_ignore, rf)\n",
    "oe_rf = make_pipeline(oe_cats, rf)"
   ],
   "outputs": [],
   "execution_count": 21
  },
  {
   "cell_type": "code",
   "metadata": {
    "ExecuteTime": {
     "end_time": "2024-10-21T14:03:25.229357Z",
     "start_time": "2024-10-21T14:02:56.341770Z"
    }
   },
   "source": [
    "# WARNING: 30 seconds\n",
    "%time cross_val_score(ohe_rf, census_X, census_y, cv=5, scoring='accuracy').mean()"
   ],
   "outputs": [
    {
     "name": "stdout",
     "output_type": "stream",
     "text": [
      "CPU times: total: 3min 10s\n",
      "Wall time: 28.9 s\n"
     ]
    },
    {
     "data": {
      "text/plain": [
       "0.8260513856992514"
      ]
     },
     "execution_count": 22,
     "metadata": {},
     "output_type": "execute_result"
    }
   ],
   "execution_count": 22
  },
  {
   "cell_type": "code",
   "metadata": {
    "scrolled": true,
    "ExecuteTime": {
     "end_time": "2024-10-21T14:03:31.232890Z",
     "start_time": "2024-10-21T14:03:25.597110Z"
    }
   },
   "source": [
    "%time cross_val_score(oe_rf, census_X, census_y, cv=5, scoring='accuracy').mean()"
   ],
   "outputs": [
    {
     "name": "stdout",
     "output_type": "stream",
     "text": [
      "CPU times: total: 12.5 s\n",
      "Wall time: 5.63 s\n"
     ]
    },
    {
     "data": {
      "text/plain": [
       "0.8245362761024548"
      ]
     },
     "execution_count": 23,
     "metadata": {},
     "output_type": "execute_result"
    }
   ],
   "execution_count": 23
  },
  {
   "cell_type": "markdown",
   "metadata": {},
   "source": [
    "We can see that the accuracies are about the same for the OneHotEncoder Pipeline (0.826) and the OrdinalEncoder Pipeline (0.825), even though we were using the OrdinalEncoder on nominal features, which would normally be considered improper.\n",
    "\n",
    "How can this be? Well, because of how decision trees recursively split features, the random forest model can approximately learn the relationships present in categorical features even when they're encoded as single columns with OrdinalEncoder.\n",
    "\n",
    "It's also worth noting that the OrdinalEncoder Pipeline is significantly faster than the OneHotEncoder Pipeline, which is due to the much smaller feature set created by the OrdinalEncoder."
   ]
  },
  {
   "cell_type": "markdown",
   "metadata": {},
   "source": [
    "**Pipeline accuracy when encoding nominal features:**\n",
    "\n",
    "- Linear model:\n",
    "  - **OneHotEncoder:** 0.833\n",
    "  - **OrdinalEncoder:** 0.755\n",
    "- Non-linear model:\n",
    "  - **OneHotEncoder:** 0.826 👈\n",
    "  - **OrdinalEncoder:** 0.825 👈"
   ]
  },
  {
   "cell_type": "markdown",
   "metadata": {},
   "source": [
    "## 17.6 Combining the encodings"
   ]
  },
  {
   "cell_type": "markdown",
   "metadata": {},
   "source": [
    "One final variation that we can try is to use the OneHotEncoder for all features except for education. And since education is actually an ordinal feature, we can use the OrdinalEncoder with it and define the category ordering.\n",
    "\n",
    "Here are the education categories. We'll manually define the category ordering, from \"Preschool\" through \"Doctorate\", and then create an instance of OrdinalEncoder using that ordering.\n",
    "\n",
    "Then we'll create a ColumnTransformer that applies the OrdinalEncoder to education, and applies the OneHotEncoder to all other features."
   ]
  },
  {
   "cell_type": "code",
   "metadata": {
    "ExecuteTime": {
     "end_time": "2024-10-21T14:03:31.504889Z",
     "start_time": "2024-10-21T14:03:31.490873Z"
    }
   },
   "source": [
    "census_X['education'].unique()"
   ],
   "outputs": [
    {
     "data": {
      "text/plain": [
       "array([' 11th', ' HS-grad', ' Assoc-acdm', ' Some-college', ' 10th',\n",
       "       ' Prof-school', ' 7th-8th', ' Bachelors', ' Masters', ' Doctorate',\n",
       "       ' 5th-6th', ' Assoc-voc', ' 9th', ' 12th', ' 1st-4th',\n",
       "       ' Preschool'], dtype=object)"
      ]
     },
     "execution_count": 24,
     "metadata": {},
     "output_type": "execute_result"
    }
   ],
   "execution_count": 24
  },
  {
   "cell_type": "code",
   "metadata": {
    "ExecuteTime": {
     "end_time": "2024-10-21T14:03:31.682064Z",
     "start_time": "2024-10-21T14:03:31.674600Z"
    }
   },
   "source": [
    "cats = [[' Preschool', \n",
    "         ' 1st-4th', \n",
    "         ' 5th-6th', \n",
    "         ' 7th-8th', \n",
    "         ' 9th', \n",
    "         ' 10th',\n",
    "         ' 11th', \n",
    "         ' 12th', \n",
    "         ' HS-grad', \n",
    "         ' Some-college', \n",
    "         ' Assoc-voc',\n",
    "         ' Assoc-acdm', \n",
    "         ' Bachelors', \n",
    "         ' Masters', \n",
    "         ' Prof-school', \n",
    "         ' Doctorate']]\n",
    "oe_cats = OrdinalEncoder(categories=cats)"
   ],
   "outputs": [],
   "execution_count": 25
  },
  {
   "cell_type": "code",
   "metadata": {
    "ExecuteTime": {
     "end_time": "2024-10-21T14:03:31.855963Z",
     "start_time": "2024-10-21T14:03:31.847386Z"
    }
   },
   "source": [
    "ct = make_column_transformer(\n",
    "    (oe_cats, ['education']),\n",
    "    remainder=ohe_ignore)"
   ],
   "outputs": [],
   "execution_count": 26
  },
  {
   "cell_type": "markdown",
   "metadata": {},
   "source": [
    "When we pass census_X to the fit_transform, it creates 87 feature columns, compared to the 102 columns that were created when we only used the OneHotEncoder."
   ]
  },
  {
   "cell_type": "code",
   "metadata": {
    "ExecuteTime": {
     "end_time": "2024-10-21T14:03:32.170799Z",
     "start_time": "2024-10-21T14:03:31.980051Z"
    }
   },
   "source": [
    "ct.fit_transform(census_X).shape"
   ],
   "outputs": [
    {
     "data": {
      "text/plain": [
       "(48842, 87)"
      ]
     },
     "execution_count": 27,
     "metadata": {},
     "output_type": "execute_result"
    }
   ],
   "execution_count": 27
  },
  {
   "cell_type": "markdown",
   "metadata": {},
   "source": [
    "Finally, we'll create two Pipelines. Both of them start with the same ColumnTransformer, but one ends with logistic regression while the other ends with random forests.\n",
    "\n",
    "When we cross-validate the first Pipeline, the accuracy is 0.832, which is nearly the same as the 0.833 achieved by the logistic regression Pipeline that used OneHotEncoding for all features."
   ]
  },
  {
   "cell_type": "code",
   "metadata": {
    "ExecuteTime": {
     "end_time": "2024-10-21T14:03:32.288164Z",
     "start_time": "2024-10-21T14:03:32.280012Z"
    }
   },
   "source": [
    "oe_ohe_logreg = make_pipeline(ct, logreg)\n",
    "oe_ohe_rf = make_pipeline(ct, rf)"
   ],
   "outputs": [],
   "execution_count": 28
  },
  {
   "cell_type": "code",
   "metadata": {
    "ExecuteTime": {
     "end_time": "2024-10-21T14:03:35.133189Z",
     "start_time": "2024-10-21T14:03:32.460406Z"
    }
   },
   "source": [
    "%time cross_val_score(oe_ohe_logreg, census_X, census_y, cv=5, scoring='accuracy').mean()"
   ],
   "outputs": [
    {
     "name": "stdout",
     "output_type": "stream",
     "text": [
      "CPU times: total: 1.62 s\n",
      "Wall time: 2.66 s\n"
     ]
    },
    {
     "data": {
      "text/plain": [
       "0.8314769412578811"
      ]
     },
     "execution_count": 29,
     "metadata": {},
     "output_type": "execute_result"
    }
   ],
   "execution_count": 29
  },
  {
   "cell_type": "code",
   "metadata": {
    "ExecuteTime": {
     "end_time": "2024-10-21T14:04:15.464736Z",
     "start_time": "2024-10-21T14:03:35.412065Z"
    }
   },
   "source": [
    "# WARNING: 30 seconds\n",
    "%time cross_val_score(oe_ohe_rf, census_X, census_y, cv=5, scoring='accuracy').mean()"
   ],
   "outputs": [
    {
     "name": "stdout",
     "output_type": "stream",
     "text": [
      "CPU times: total: 3min 42s\n",
      "Wall time: 40 s\n"
     ]
    },
    {
     "data": {
      "text/plain": [
       "0.8251300537921482"
      ]
     },
     "execution_count": 30,
     "metadata": {},
     "output_type": "execute_result"
    }
   ],
   "execution_count": 30
  },
  {
   "cell_type": "markdown",
   "metadata": {},
   "source": [
    "When we cross-validate the second Pipeline, the accuracy is 0.825, which is nearly the same as the 0.826 achieved by the random forest Pipeline that used OneHotEncoding for all features.\n",
    "\n",
    "In summary, encoding the education feature with OrdinalEncoder and the seven other features with OneHotEncoder performed basically the same as encoding all eight features with OneHotEncoder. However, it's certainly possible that the OrdinalEncoder could provide a benefit under other circumstances."
   ]
  },
  {
   "cell_type": "markdown",
   "metadata": {},
   "source": [
    "**Pipeline accuracy when encoding nominal features:**\n",
    "\n",
    "- Linear model:\n",
    "  - **OneHotEncoder:** 0.833\n",
    "  - **OrdinalEncoder:** 0.755\n",
    "  - **OneHotEncoder (7 features) + OrdinalEncoder (education):** 0.832 👈\n",
    "- Non-linear model:\n",
    "  - **OneHotEncoder:** 0.826\n",
    "  - **OrdinalEncoder:** 0.825\n",
    "  - **OneHotEncoder (7 features) + OrdinalEncoder (education):** 0.825 👈"
   ]
  },
  {
   "cell_type": "markdown",
   "metadata": {},
   "source": [
    "## 17.7 Best practices for encoding"
   ]
  },
  {
   "cell_type": "markdown",
   "metadata": {},
   "source": [
    "Let's summarize what we've learned in this chapter.\n",
    "\n",
    "If you have nominal features, and you're using a linear model, you should definitely use OneHotEncoder, regardless of whether the features have high cardinality.\n",
    "\n",
    "If you have nominal features, and you're using a non-linear model, you can try using OneHotEncoder, and you can try using OrdinalEncoder without defining the category ordering, and then see which option performs better.\n",
    "\n",
    "If you have ordinal features, regardless of the type of model, you can try using OneHotEncoder, and you can try using OrdinalEncoder while defining the category ordering, and then see which option performs better.\n",
    "\n",
    "In all cases, keep in mind that if the features have high cardinality, OrdinalEncoder is likely to run significantly faster than OneHotEncoder, which may or may not matter in your particular case."
   ]
  },
  {
   "cell_type": "markdown",
   "metadata": {},
   "source": [
    "**Summary of best practices:**\n",
    "\n",
    "- **Nominal features, linear model:**\n",
    "  - OneHotEncoder\n",
    "- **Nominal features, non-linear model:**\n",
    "  - OneHotEncoder\n",
    "  - OrdinalEncoder\n",
    "    - Don't define category ordering\n",
    "    - Much faster than OneHotEncoder (if features have high cardinality)\n",
    "- **Ordinal features:**\n",
    "  - OneHotEncoder\n",
    "  - OrdinalEncoder\n",
    "    - Define category ordering\n",
    "    - Much faster than OneHotEncoder (if features have high cardinality)"
   ]
  },
  {
   "cell_type": "markdown",
   "metadata": {},
   "source": [
    "# Chapter 18: Class imbalance"
   ]
  },
  {
   "cell_type": "markdown",
   "metadata": {},
   "source": [
    "## 18.1 Introduction to class imbalance"
   ]
  },
  {
   "cell_type": "markdown",
   "metadata": {},
   "source": [
    "**Overview of class imbalance:**\n",
    "\n",
    "- \"Class imbalance\" is when classes are not equally represented\n",
    "- Inherent to many domains\n",
    "- Can occur in binary and multiclass problems\n",
    "- Binary problems have a \"majority class\" and a \"minority class\"\n",
    "- Makes it harder for the model to learn patterns in the minority class\n",
    "- Most datasets have some class imbalance\n",
    "- Greater class imbalance requires more specialized techniques"
   ]
  },
  {
   "metadata": {},
   "cell_type": "markdown",
   "source": [
    "One of the common issues you might run into when working on a classification problem is known as \"class imbalance\". This refers to a situation in which the classes are not equally represented in the dataset.\n",
    "\n",
    "Class imbalance is inherent to many domains. For example, if we were classifying fraudulent transactions in a credit card dataset, there would naturally be class imbalance since the vast majority of transactions are not going to be fraudulent.\n",
    "\n",
    "Class imbalance can occur in both binary classification problems, meaning there are 2 classes, and multiclass problems, meaning there are more than 2 classes. In binary classification, the class that has more samples is called the \"majority class\", and the class that has fewer samples is called the \"minority class\".\n",
    "\n",
    "So why does class imbalance even matter? In brief, Machine Learning models often have a harder time predicting the minority class because there are fewer examples of this class to learn from. In other words, your model won't be able to learn as much about the patterns in the minority class, and thus it may have a hard time differentiating between the classes.\n",
    "\n",
    "Keep in mind that some class imbalance is present in most datasets. For example, in our Titanic dataset, the majority class represents 62% of the samples, and the minority class represents 38% of the samples. There's even more imbalance in the census dataset, with a split of 76% to 24%."
   ]
  },
  {
   "cell_type": "code",
   "metadata": {
    "ExecuteTime": {
     "end_time": "2024-10-21T14:08:58.402488Z",
     "start_time": "2024-10-21T14:08:58.393012Z"
    }
   },
   "source": [
    "y.value_counts(normalize=True)"
   ],
   "outputs": [
    {
     "data": {
      "text/plain": [
       "Survived\n",
       "0    0.616162\n",
       "1    0.383838\n",
       "Name: proportion, dtype: float64"
      ]
     },
     "execution_count": 31,
     "metadata": {},
     "output_type": "execute_result"
    }
   ],
   "execution_count": 31
  },
  {
   "cell_type": "code",
   "metadata": {
    "ExecuteTime": {
     "end_time": "2024-10-21T14:09:55.540196Z",
     "start_time": "2024-10-21T14:09:55.531303Z"
    }
   },
   "source": [
    "census_y.value_counts(normalize=True)"
   ],
   "outputs": [
    {
     "data": {
      "text/plain": [
       "class\n",
       "<=50K    0.760718\n",
       ">50K     0.239282\n",
       "Name: proportion, dtype: float64"
      ]
     },
     "execution_count": 32,
     "metadata": {},
     "output_type": "execute_result"
    }
   ],
   "execution_count": 32
  },
  {
   "metadata": {},
   "cell_type": "markdown",
   "source": "A small amount of class imbalance (like in the Titanic dataset) tends not to matter, and you should just use all of the usual techniques that you've learned in this course. But as the amount of class imbalance increases, more specialized techniques need to be applied to the problem, and those techniques are the focus of this chapter."
  },
  {
   "cell_type": "markdown",
   "metadata": {},
   "source": [
    "## 18.2 Preparing the mammography dataset"
   ]
  },
  {
   "metadata": {},
   "cell_type": "markdown",
   "source": [
    "For this chapter, we're going to use a dataset of mammography scans that were designed to detect the presence of cancer.\n",
    "\n",
    "We'll read in the dataset using pandas. You can read it from a URL or from your local computer, so choose whichever option you prefer.\n",
    "\n",
    "You can see that there are 6 features as well as a target column called \"class\". Each sample represents an object of interest that was extracted from a scan, and each object was translated into these features using a computer vision algorithm."
   ]
  },
  {
   "cell_type": "code",
   "metadata": {
    "ExecuteTime": {
     "end_time": "2024-10-21T14:10:44.865931Z",
     "start_time": "2024-10-21T14:10:43.400890Z"
    }
   },
   "source": [
    "scan = pd.read_csv('http://bit.ly/scanrecords')\n",
    "scan = pd.read_csv('scan.csv')\n",
    "scan"
   ],
   "outputs": [
    {
     "data": {
      "text/plain": [
       "          attr1     attr2     attr3     attr4     attr5     attr6 class\n",
       "0      0.230020  5.072578 -0.276061  0.832444 -0.377866  0.480322  '-1'\n",
       "1      0.155491 -0.169390  0.670652 -0.859553 -0.377866 -0.945723  '-1'\n",
       "2     -0.784415 -0.443654  5.674705 -0.859553 -0.377866 -0.945723  '-1'\n",
       "3      0.546088  0.131415 -0.456387 -0.859553 -0.377866 -0.945723  '-1'\n",
       "4     -0.102987 -0.394994 -0.140816  0.979703 -0.377866  1.013566  '-1'\n",
       "...         ...       ...       ...       ...       ...       ...   ...\n",
       "11178 -0.250012 -0.377300 -0.321142  1.269157  3.652984  1.092791   '1'\n",
       "11179  0.281343 -0.417112 -0.366224  0.851010  2.789649  1.345700   '1'\n",
       "11180  1.204988  1.763724 -0.501468  1.562408  6.489072  0.931294   '1'\n",
       "11181  0.736644 -0.222474 -0.050653  1.509665  0.539269  1.315229   '1'\n",
       "11182  0.177003 -0.191508 -0.501468  1.578864  7.750705  1.555951   '1'\n",
       "\n",
       "[11183 rows x 7 columns]"
      ],
      "text/html": [
       "<div>\n",
       "<style scoped>\n",
       "    .dataframe tbody tr th:only-of-type {\n",
       "        vertical-align: middle;\n",
       "    }\n",
       "\n",
       "    .dataframe tbody tr th {\n",
       "        vertical-align: top;\n",
       "    }\n",
       "\n",
       "    .dataframe thead th {\n",
       "        text-align: right;\n",
       "    }\n",
       "</style>\n",
       "<table border=\"1\" class=\"dataframe\">\n",
       "  <thead>\n",
       "    <tr style=\"text-align: right;\">\n",
       "      <th></th>\n",
       "      <th>attr1</th>\n",
       "      <th>attr2</th>\n",
       "      <th>attr3</th>\n",
       "      <th>attr4</th>\n",
       "      <th>attr5</th>\n",
       "      <th>attr6</th>\n",
       "      <th>class</th>\n",
       "    </tr>\n",
       "  </thead>\n",
       "  <tbody>\n",
       "    <tr>\n",
       "      <th>0</th>\n",
       "      <td>0.230020</td>\n",
       "      <td>5.072578</td>\n",
       "      <td>-0.276061</td>\n",
       "      <td>0.832444</td>\n",
       "      <td>-0.377866</td>\n",
       "      <td>0.480322</td>\n",
       "      <td>'-1'</td>\n",
       "    </tr>\n",
       "    <tr>\n",
       "      <th>1</th>\n",
       "      <td>0.155491</td>\n",
       "      <td>-0.169390</td>\n",
       "      <td>0.670652</td>\n",
       "      <td>-0.859553</td>\n",
       "      <td>-0.377866</td>\n",
       "      <td>-0.945723</td>\n",
       "      <td>'-1'</td>\n",
       "    </tr>\n",
       "    <tr>\n",
       "      <th>2</th>\n",
       "      <td>-0.784415</td>\n",
       "      <td>-0.443654</td>\n",
       "      <td>5.674705</td>\n",
       "      <td>-0.859553</td>\n",
       "      <td>-0.377866</td>\n",
       "      <td>-0.945723</td>\n",
       "      <td>'-1'</td>\n",
       "    </tr>\n",
       "    <tr>\n",
       "      <th>3</th>\n",
       "      <td>0.546088</td>\n",
       "      <td>0.131415</td>\n",
       "      <td>-0.456387</td>\n",
       "      <td>-0.859553</td>\n",
       "      <td>-0.377866</td>\n",
       "      <td>-0.945723</td>\n",
       "      <td>'-1'</td>\n",
       "    </tr>\n",
       "    <tr>\n",
       "      <th>4</th>\n",
       "      <td>-0.102987</td>\n",
       "      <td>-0.394994</td>\n",
       "      <td>-0.140816</td>\n",
       "      <td>0.979703</td>\n",
       "      <td>-0.377866</td>\n",
       "      <td>1.013566</td>\n",
       "      <td>'-1'</td>\n",
       "    </tr>\n",
       "    <tr>\n",
       "      <th>...</th>\n",
       "      <td>...</td>\n",
       "      <td>...</td>\n",
       "      <td>...</td>\n",
       "      <td>...</td>\n",
       "      <td>...</td>\n",
       "      <td>...</td>\n",
       "      <td>...</td>\n",
       "    </tr>\n",
       "    <tr>\n",
       "      <th>11178</th>\n",
       "      <td>-0.250012</td>\n",
       "      <td>-0.377300</td>\n",
       "      <td>-0.321142</td>\n",
       "      <td>1.269157</td>\n",
       "      <td>3.652984</td>\n",
       "      <td>1.092791</td>\n",
       "      <td>'1'</td>\n",
       "    </tr>\n",
       "    <tr>\n",
       "      <th>11179</th>\n",
       "      <td>0.281343</td>\n",
       "      <td>-0.417112</td>\n",
       "      <td>-0.366224</td>\n",
       "      <td>0.851010</td>\n",
       "      <td>2.789649</td>\n",
       "      <td>1.345700</td>\n",
       "      <td>'1'</td>\n",
       "    </tr>\n",
       "    <tr>\n",
       "      <th>11180</th>\n",
       "      <td>1.204988</td>\n",
       "      <td>1.763724</td>\n",
       "      <td>-0.501468</td>\n",
       "      <td>1.562408</td>\n",
       "      <td>6.489072</td>\n",
       "      <td>0.931294</td>\n",
       "      <td>'1'</td>\n",
       "    </tr>\n",
       "    <tr>\n",
       "      <th>11181</th>\n",
       "      <td>0.736644</td>\n",
       "      <td>-0.222474</td>\n",
       "      <td>-0.050653</td>\n",
       "      <td>1.509665</td>\n",
       "      <td>0.539269</td>\n",
       "      <td>1.315229</td>\n",
       "      <td>'1'</td>\n",
       "    </tr>\n",
       "    <tr>\n",
       "      <th>11182</th>\n",
       "      <td>0.177003</td>\n",
       "      <td>-0.191508</td>\n",
       "      <td>-0.501468</td>\n",
       "      <td>1.578864</td>\n",
       "      <td>7.750705</td>\n",
       "      <td>1.555951</td>\n",
       "      <td>'1'</td>\n",
       "    </tr>\n",
       "  </tbody>\n",
       "</table>\n",
       "<p>11183 rows × 7 columns</p>\n",
       "</div>"
      ]
     },
     "execution_count": 33,
     "metadata": {},
     "output_type": "execute_result"
    }
   ],
   "execution_count": 33
  },
  {
   "metadata": {},
   "cell_type": "markdown",
   "source": [
    "The class column has two possible values, -1 and 1. -1 means the object did not indicate the presence of cancer, and 1 means the object did indicate the presence of cancer. These labels were assigned by a human expert and thus represent the \"ground truth\" labels for the dataset.\n",
    "\n",
    "As you can see, -1 (meaning \"non-cancerous\") is the majority class, and 1 (meaning \"cancerous\") is the minority class. You might call this severe class imbalance because the minority class makes up only 2% of the dataset."
   ]
  },
  {
   "cell_type": "code",
   "metadata": {
    "ExecuteTime": {
     "end_time": "2024-10-21T14:11:48.798581Z",
     "start_time": "2024-10-21T14:11:48.790600Z"
    }
   },
   "source": [
    "scan['class'].value_counts(normalize=True)"
   ],
   "outputs": [
    {
     "data": {
      "text/plain": [
       "class\n",
       "'-1'    0.97675\n",
       "'1'     0.02325\n",
       "Name: proportion, dtype: float64"
      ]
     },
     "execution_count": 34,
     "metadata": {},
     "output_type": "execute_result"
    }
   ],
   "execution_count": 34
  },
  {
   "metadata": {},
   "cell_type": "markdown",
   "source": [
    "Although scikit-learn doesn't require it, we're going to map the strings in the class column to the integers 0 and 1, in which 0 means \"non-cancerous\" and 1 means \"cancerous\".\n",
    "\n",
    "Now that the dataset is ready, we're going to define two objects, scan_X and scan_y, to represent the feature matrix and the target."
   ]
  },
  {
   "cell_type": "code",
   "metadata": {
    "ExecuteTime": {
     "end_time": "2024-10-21T14:11:54.272585Z",
     "start_time": "2024-10-21T14:11:54.257270Z"
    }
   },
   "source": [
    "scan['class'] = scan['class'].map({\"'-1'\": 0, \"'1'\": 1})\n",
    "scan"
   ],
   "outputs": [
    {
     "data": {
      "text/plain": [
       "          attr1     attr2     attr3     attr4     attr5     attr6  class\n",
       "0      0.230020  5.072578 -0.276061  0.832444 -0.377866  0.480322      0\n",
       "1      0.155491 -0.169390  0.670652 -0.859553 -0.377866 -0.945723      0\n",
       "2     -0.784415 -0.443654  5.674705 -0.859553 -0.377866 -0.945723      0\n",
       "3      0.546088  0.131415 -0.456387 -0.859553 -0.377866 -0.945723      0\n",
       "4     -0.102987 -0.394994 -0.140816  0.979703 -0.377866  1.013566      0\n",
       "...         ...       ...       ...       ...       ...       ...    ...\n",
       "11178 -0.250012 -0.377300 -0.321142  1.269157  3.652984  1.092791      1\n",
       "11179  0.281343 -0.417112 -0.366224  0.851010  2.789649  1.345700      1\n",
       "11180  1.204988  1.763724 -0.501468  1.562408  6.489072  0.931294      1\n",
       "11181  0.736644 -0.222474 -0.050653  1.509665  0.539269  1.315229      1\n",
       "11182  0.177003 -0.191508 -0.501468  1.578864  7.750705  1.555951      1\n",
       "\n",
       "[11183 rows x 7 columns]"
      ],
      "text/html": [
       "<div>\n",
       "<style scoped>\n",
       "    .dataframe tbody tr th:only-of-type {\n",
       "        vertical-align: middle;\n",
       "    }\n",
       "\n",
       "    .dataframe tbody tr th {\n",
       "        vertical-align: top;\n",
       "    }\n",
       "\n",
       "    .dataframe thead th {\n",
       "        text-align: right;\n",
       "    }\n",
       "</style>\n",
       "<table border=\"1\" class=\"dataframe\">\n",
       "  <thead>\n",
       "    <tr style=\"text-align: right;\">\n",
       "      <th></th>\n",
       "      <th>attr1</th>\n",
       "      <th>attr2</th>\n",
       "      <th>attr3</th>\n",
       "      <th>attr4</th>\n",
       "      <th>attr5</th>\n",
       "      <th>attr6</th>\n",
       "      <th>class</th>\n",
       "    </tr>\n",
       "  </thead>\n",
       "  <tbody>\n",
       "    <tr>\n",
       "      <th>0</th>\n",
       "      <td>0.230020</td>\n",
       "      <td>5.072578</td>\n",
       "      <td>-0.276061</td>\n",
       "      <td>0.832444</td>\n",
       "      <td>-0.377866</td>\n",
       "      <td>0.480322</td>\n",
       "      <td>0</td>\n",
       "    </tr>\n",
       "    <tr>\n",
       "      <th>1</th>\n",
       "      <td>0.155491</td>\n",
       "      <td>-0.169390</td>\n",
       "      <td>0.670652</td>\n",
       "      <td>-0.859553</td>\n",
       "      <td>-0.377866</td>\n",
       "      <td>-0.945723</td>\n",
       "      <td>0</td>\n",
       "    </tr>\n",
       "    <tr>\n",
       "      <th>2</th>\n",
       "      <td>-0.784415</td>\n",
       "      <td>-0.443654</td>\n",
       "      <td>5.674705</td>\n",
       "      <td>-0.859553</td>\n",
       "      <td>-0.377866</td>\n",
       "      <td>-0.945723</td>\n",
       "      <td>0</td>\n",
       "    </tr>\n",
       "    <tr>\n",
       "      <th>3</th>\n",
       "      <td>0.546088</td>\n",
       "      <td>0.131415</td>\n",
       "      <td>-0.456387</td>\n",
       "      <td>-0.859553</td>\n",
       "      <td>-0.377866</td>\n",
       "      <td>-0.945723</td>\n",
       "      <td>0</td>\n",
       "    </tr>\n",
       "    <tr>\n",
       "      <th>4</th>\n",
       "      <td>-0.102987</td>\n",
       "      <td>-0.394994</td>\n",
       "      <td>-0.140816</td>\n",
       "      <td>0.979703</td>\n",
       "      <td>-0.377866</td>\n",
       "      <td>1.013566</td>\n",
       "      <td>0</td>\n",
       "    </tr>\n",
       "    <tr>\n",
       "      <th>...</th>\n",
       "      <td>...</td>\n",
       "      <td>...</td>\n",
       "      <td>...</td>\n",
       "      <td>...</td>\n",
       "      <td>...</td>\n",
       "      <td>...</td>\n",
       "      <td>...</td>\n",
       "    </tr>\n",
       "    <tr>\n",
       "      <th>11178</th>\n",
       "      <td>-0.250012</td>\n",
       "      <td>-0.377300</td>\n",
       "      <td>-0.321142</td>\n",
       "      <td>1.269157</td>\n",
       "      <td>3.652984</td>\n",
       "      <td>1.092791</td>\n",
       "      <td>1</td>\n",
       "    </tr>\n",
       "    <tr>\n",
       "      <th>11179</th>\n",
       "      <td>0.281343</td>\n",
       "      <td>-0.417112</td>\n",
       "      <td>-0.366224</td>\n",
       "      <td>0.851010</td>\n",
       "      <td>2.789649</td>\n",
       "      <td>1.345700</td>\n",
       "      <td>1</td>\n",
       "    </tr>\n",
       "    <tr>\n",
       "      <th>11180</th>\n",
       "      <td>1.204988</td>\n",
       "      <td>1.763724</td>\n",
       "      <td>-0.501468</td>\n",
       "      <td>1.562408</td>\n",
       "      <td>6.489072</td>\n",
       "      <td>0.931294</td>\n",
       "      <td>1</td>\n",
       "    </tr>\n",
       "    <tr>\n",
       "      <th>11181</th>\n",
       "      <td>0.736644</td>\n",
       "      <td>-0.222474</td>\n",
       "      <td>-0.050653</td>\n",
       "      <td>1.509665</td>\n",
       "      <td>0.539269</td>\n",
       "      <td>1.315229</td>\n",
       "      <td>1</td>\n",
       "    </tr>\n",
       "    <tr>\n",
       "      <th>11182</th>\n",
       "      <td>0.177003</td>\n",
       "      <td>-0.191508</td>\n",
       "      <td>-0.501468</td>\n",
       "      <td>1.578864</td>\n",
       "      <td>7.750705</td>\n",
       "      <td>1.555951</td>\n",
       "      <td>1</td>\n",
       "    </tr>\n",
       "  </tbody>\n",
       "</table>\n",
       "<p>11183 rows × 7 columns</p>\n",
       "</div>"
      ]
     },
     "execution_count": 35,
     "metadata": {},
     "output_type": "execute_result"
    }
   ],
   "execution_count": 35
  },
  {
   "cell_type": "code",
   "metadata": {
    "ExecuteTime": {
     "end_time": "2024-10-21T14:12:24.222950Z",
     "start_time": "2024-10-21T14:12:24.216802Z"
    }
   },
   "source": [
    "scan_X = scan.drop('class', axis='columns')\n",
    "scan_y = scan['class']"
   ],
   "outputs": [],
   "execution_count": 36
  },
  {
   "cell_type": "markdown",
   "metadata": {},
   "source": [
    "## 18.3 Evaluating a model with train/test split"
   ]
  },
  {
   "metadata": {},
   "cell_type": "markdown",
   "source": [
    "Throughout the course, we've been using cross-validation as the model evaluation procedure. But in this chapter, we're going to use train/test split instead, since that will help you to better understand the metrics and techniques I'll be outlining. However, I'll return to cross-validation in chapter 19.\n",
    "\n",
    "Before I get into the code, here's a quick overview of how we use train/test split for model evaluation:\n",
    "\n",
    "You split the dataset into training and testing sets.\n",
    "\n",
    "You fit the model on the training set.\n",
    "\n",
    "You use the fitted model to make predictions on the testing set and evaluate those predictions."
   ]
  },
  {
   "cell_type": "markdown",
   "metadata": {},
   "source": [
    "**Steps of train/test split:**\n",
    "\n",
    "1. Split rows into training and testing sets\n",
    "2. Train model on training set\n",
    "3. Make predictions on testing set\n",
    "4. Evaluate predictions"
   ]
  },
  {
   "metadata": {},
   "cell_type": "markdown",
   "source": "When we use K-fold cross-validation, we're really just running train/test split K times in a very systematic way and then averaging the results. Cross-validation is superior because it outputs a lower variance estimate of model performance, but again, we're going to start with train/test split to help you better understand the concepts in this chapter."
  },
  {
   "cell_type": "markdown",
   "metadata": {},
   "source": [
    "**Cross-validation vs train/test split:**\n",
    "\n",
    "- Cross-validation is just repeated train/test split\n",
    "- Cross-validation outputs a lower variance estimate of performance"
   ]
  },
  {
   "metadata": {},
   "cell_type": "markdown",
   "source": [
    "Anyway, let's start by splitting the dataset into training and testing sets. We'll use a split of 75% of the rows for training and 25% of the rows for testing, and we'll set a random state for reproducibility.\n",
    "\n",
    "We'll use stratified sampling so that the class proportions will be approximately equal in the training and testing sets. This is especially important when you have severe class imbalance, otherwise you might have insufficient examples of the minority class in either the training or testing set."
   ]
  },
  {
   "cell_type": "code",
   "metadata": {
    "ExecuteTime": {
     "end_time": "2024-10-21T14:14:22.002390Z",
     "start_time": "2024-10-21T14:14:21.988537Z"
    }
   },
   "source": [
    "X_train, X_test, y_train, y_test = train_test_split(scan_X, scan_y,\n",
    "                                                    test_size=0.25, random_state=1,\n",
    "                                                    stratify=scan_y)"
   ],
   "outputs": [],
   "execution_count": 37
  },
  {
   "cell_type": "markdown",
   "metadata": {},
   "source": [
    "**Stratified sampling:**\n",
    "\n",
    "- Ensures that each set is representative of the dataset\n",
    "- Especially important when there is severe class imbalance"
   ]
  },
  {
   "metadata": {},
   "cell_type": "markdown",
   "source": [
    "Now we'll fit our logistic regression model on the training set, and use the fitted model to make predictions on the testing set. The predict method outputs class predictions of 0 or 1, which we'll store as y_pred.\n",
    "\n",
    "As an aside, we're not using a Pipeline here because the features are entirely numeric and don't need any preprocessing. However, if you were using a Pipeline, you would just use pipe.fit and pipe.predict instead."
   ]
  },
  {
   "cell_type": "code",
   "metadata": {
    "ExecuteTime": {
     "end_time": "2024-10-21T14:14:56.926223Z",
     "start_time": "2024-10-21T14:14:56.909748Z"
    }
   },
   "source": [
    "logreg.fit(X_train, y_train)\n",
    "y_pred = logreg.predict(X_test)\n",
    "y_pred"
   ],
   "outputs": [
    {
     "data": {
      "text/plain": [
       "array([0, 0, 0, ..., 0, 0, 0], dtype=int64)"
      ]
     },
     "execution_count": 38,
     "metadata": {},
     "output_type": "execute_result"
    }
   ],
   "execution_count": 38
  },
  {
   "metadata": {},
   "cell_type": "markdown",
   "source": [
    "Finally, let's evaluate the model's predictions. We've used accuracy as our evaluation metric throughout the course, so we'll try that here. We have to import the accuracy_score function from the metrics module, and then we pass it the true values followed by the predicted values.\n",
    "\n",
    "It outputs an accuracy of 98%, which sounds great. But as you might recall, about 98% of the target values are 0, so an uninformed model could achieve 98% accuracy by always predicting class 0."
   ]
  },
  {
   "cell_type": "code",
   "metadata": {
    "ExecuteTime": {
     "end_time": "2024-10-21T14:15:26.737445Z",
     "start_time": "2024-10-21T14:15:26.730387Z"
    }
   },
   "source": [
    "from sklearn.metrics import accuracy_score\n",
    "\n",
    "accuracy_score(y_test, y_pred)"
   ],
   "outputs": [
    {
     "data": {
      "text/plain": [
       "0.9831902718168812"
      ]
     },
     "execution_count": 39,
     "metadata": {},
     "output_type": "execute_result"
    }
   ],
   "execution_count": 39
  },
  {
   "metadata": {},
   "cell_type": "markdown",
   "source": "Because the accuracy value isn't telling us much about how the model is actually performing, it's not a particularly useful evaluation metric in cases of severe class imbalance."
  },
  {
   "cell_type": "markdown",
   "metadata": {},
   "source": [
    "## 18.4 Exploring the results with a confusion matrix"
   ]
  },
  {
   "metadata": {},
   "cell_type": "markdown",
   "source": [
    "Before we choose an evaluation metric other than accuracy, let's first use a confusion matrix to get a better understanding of our results.\n",
    "\n",
    "We import it from the metrics module, and then pass it the true values followed by the predicted values. Note that the ordering is important, because your confusion matrix will be incorrect if you pass the predicted values first and the true values second.\n",
    "\n",
    "It can be hard to remember what each of the four boxes represents, so a nice alternative is to use the plot_confusion_matrix function, which was introduced in version 0.22. After importing it, we pass it a fitted model, X_test, and y_test. It makes predictions for X_test, and outputs a confusion matrix by comparing the results to y_test. In other words, it duplicates some of the work we've already done, though it ends up with the same result.\n",
    "\n",
    "As an aside, scikit-learn 1.0 will actually provide a different method for plotting a confusion matrix that allows you to directly pass in y_pred.\n",
    "\n",
    "Anyway, the confusion matrix is now labeled, with the true labels as the rows and the predicted labels as the columns. You can see that:"
   ]
  },
  {
   "metadata": {},
   "cell_type": "markdown",
   "source": [
    "In 2721 cases, the model predicted 0 and that was correct. These are called True Negatives.\n",
    "\n",
    "In 28 cases, it predicted 1 and that was correct. These are True Positives.\n",
    "\n",
    "In 37 cases, it predicted 0 and that was incorrect. These are False Negatives.\n",
    "\n",
    "And in 10 cases, it predicted 1 and that was incorrect. These are False Positives."
   ]
  },
  {
   "cell_type": "code",
   "metadata": {
    "ExecuteTime": {
     "end_time": "2024-10-21T14:18:06.060634Z",
     "start_time": "2024-10-21T14:18:06.049103Z"
    }
   },
   "source": [
    "from sklearn.metrics import confusion_matrix\n",
    "\n",
    "confusion_matrix(y_test, y_pred)"
   ],
   "outputs": [
    {
     "data": {
      "text/plain": [
       "array([[2721,   10],\n",
       "       [  37,   28]], dtype=int64)"
      ]
     },
     "execution_count": 44,
     "metadata": {},
     "output_type": "execute_result"
    }
   ],
   "execution_count": 44
  },
  {
   "metadata": {},
   "cell_type": "markdown",
   "source": [
    "You can see that the confusion matrix helps us understand the performance of our classifier much better than the accuracy score.\n",
    "\n",
    "In particular, it highlights a troubling issue, which we can see in the bottom row. There were 65 samples in which cancer was present in the testing set, and it was only detected in 28 of those cases. Given the context, in which the model is attempting to detect the presence of cancer, you could imagine that it would be highly problematic to miss 37 out of 65 cases. This is an issue that we will address by the end of this chapter."
   ]
  },
  {
   "cell_type": "code",
   "metadata": {
    "ExecuteTime": {
     "end_time": "2024-10-21T14:18:09.419796Z",
     "start_time": "2024-10-21T14:18:09.408177Z"
    }
   },
   "source": [
    "from sklearn.metrics import confusion_matrix\n",
    "\n",
    "disp = confusion_matrix(y_test, logreg.predict(X_test))"
   ],
   "outputs": [],
   "execution_count": 45
  },
  {
   "cell_type": "markdown",
   "metadata": {},
   "source": [
    "&nbsp; | Predicted 0 | Predicted 1\n",
    ":--- | :---: | :---:\n",
    "**True label 0** | True Negatives | False Positives\n",
    "**True label 1** | False Negatives | True Positives"
   ]
  },
  {
   "cell_type": "markdown",
   "metadata": {},
   "source": [
    "## 18.5 Calculating rates from a confusion matrix"
   ]
  },
  {
   "metadata": {},
   "cell_type": "markdown",
   "source": "Before we discuss a solution to the problem from the previous lesson, let's first calculate a few rates from the confusion matrix to help us quantify what we want to improve and what tradeoffs we'll be making. Here's our confusion matrix from the previous lesson."
  },
  {
   "cell_type": "code",
   "metadata": {
    "ExecuteTime": {
     "end_time": "2024-10-21T14:20:27.016471Z",
     "start_time": "2024-10-21T14:20:27.003261Z"
    }
   },
   "source": [
    "confusion_matrix(y_test, y_pred)"
   ],
   "outputs": [
    {
     "data": {
      "text/plain": [
       "array([[2721,   10],\n",
       "       [  37,   28]], dtype=int64)"
      ]
     },
     "execution_count": 46,
     "metadata": {},
     "output_type": "execute_result"
    }
   ],
   "execution_count": 46
  },
  {
   "metadata": {},
   "cell_type": "markdown",
   "source": "True Positive Rate answers the question: When cancer is present, how often is that correctly predicted? We divide the True Positives by the entire bottom row, and we get 43.1%. True Positive Rate is also known as recall."
  },
  {
   "cell_type": "code",
   "metadata": {
    "ExecuteTime": {
     "end_time": "2024-10-21T14:20:29.690018Z",
     "start_time": "2024-10-21T14:20:29.677168Z"
    }
   },
   "source": [
    "28 / (37 + 28)"
   ],
   "outputs": [
    {
     "data": {
      "text/plain": [
       "0.4307692307692308"
      ]
     },
     "execution_count": 47,
     "metadata": {},
     "output_type": "execute_result"
    }
   ],
   "execution_count": 47
  },
  {
   "metadata": {},
   "cell_type": "markdown",
   "source": "True Negative Rate answers the question: When cancer is not present, how often is that correctly predicted? We divide the True Negatives by the entire top row, and we get 99.6%."
  },
  {
   "cell_type": "code",
   "metadata": {
    "ExecuteTime": {
     "end_time": "2024-10-21T14:20:31.323164Z",
     "start_time": "2024-10-21T14:20:31.309337Z"
    }
   },
   "source": [
    "2721 / (2721 + 10)"
   ],
   "outputs": [
    {
     "data": {
      "text/plain": [
       "0.9963383376052728"
      ]
     },
     "execution_count": 48,
     "metadata": {},
     "output_type": "execute_result"
    }
   ],
   "execution_count": 48
  },
  {
   "metadata": {},
   "cell_type": "markdown",
   "source": "False Positive Rate answers the question: When cancer is not present, how often is that incorrectly predicted? We divide the False Positives by the entire top row, and we get 0.4%. As you might have figured out, the False Positive Rate is 1 minus the True Negative Rate."
  },
  {
   "cell_type": "code",
   "metadata": {
    "ExecuteTime": {
     "end_time": "2024-10-21T14:20:33.094136Z",
     "start_time": "2024-10-21T14:20:33.084495Z"
    }
   },
   "source": [
    "10 / (2721 + 10)"
   ],
   "outputs": [
    {
     "data": {
      "text/plain": [
       "0.003661662394727206"
      ]
     },
     "execution_count": 49,
     "metadata": {},
     "output_type": "execute_result"
    }
   ],
   "execution_count": 49
  },
  {
   "metadata": {},
   "cell_type": "markdown",
   "source": [
    "Another way to see these results without doing the calculations yourself is with the classification report. We import it and pass it the true and predicted values.\n",
    "\n",
    "The True Positive Rate is the recall for class 1, which is 43%.\n",
    "\n",
    "The True Negative Rate is the recall for class 0, which has been rounded to 100%.\n",
    "\n",
    "The False Positive Rate is not directly shown, but it's 1 minus the True Negative Rate, thus it's close to 0%.\n",
    "\n",
    "The overall accuracy is also shown, which is 98%, though that's not our focus here."
   ]
  },
  {
   "cell_type": "markdown",
   "metadata": {},
   "source": [
    "**Calculated rates:**\n",
    "\n",
    "- **True Positive Rate:** 0.431\n",
    "  - Recall for class 1\n",
    "- **True Negative Rate:** 0.996\n",
    "  - Recall for class 0\n",
    "- **False Positive Rate:** 0.004\n",
    "  - 1 minus True Negative Rate"
   ]
  },
  {
   "cell_type": "code",
   "metadata": {
    "ExecuteTime": {
     "end_time": "2024-10-21T14:22:18.604988Z",
     "start_time": "2024-10-21T14:22:18.575257Z"
    }
   },
   "source": [
    "from sklearn.metrics import classification_report\n",
    "\n",
    "print(classification_report(y_test, y_pred))"
   ],
   "outputs": [
    {
     "name": "stdout",
     "output_type": "stream",
     "text": [
      "              precision    recall  f1-score   support\n",
      "\n",
      "           0       0.99      1.00      0.99      2731\n",
      "           1       0.74      0.43      0.54        65\n",
      "\n",
      "    accuracy                           0.98      2796\n",
      "   macro avg       0.86      0.71      0.77      2796\n",
      "weighted avg       0.98      0.98      0.98      2796\n",
      "\n"
     ]
    }
   ],
   "execution_count": 50
  },
  {
   "metadata": {},
   "cell_type": "markdown",
   "source": [
    "Because the True Positive Rate of 43% seems quite problematic, you might think that the solution is just to work on maximizing True Positive Rate. However, the danger of only focusing on True Positive Rate is that you might end up with a confusion matrix similar to this.\n",
    "\n",
    "The True Positive Rate in this case is 100%, but that's because we're always predicting the positive class. As such, the False Positive Rate would also be 100%. I think you would agree that this is not a useful solution."
   ]
  },
  {
   "cell_type": "code",
   "metadata": {
    "ExecuteTime": {
     "end_time": "2024-10-21T14:22:23.809171Z",
     "start_time": "2024-10-21T14:22:23.794202Z"
    }
   },
   "source": [
    "confusion_matrix(y_test, np.ones_like(y_pred))"
   ],
   "outputs": [
    {
     "data": {
      "text/plain": [
       "array([[   0, 2731],\n",
       "       [   0,   65]], dtype=int64)"
      ]
     },
     "execution_count": 51,
     "metadata": {},
     "output_type": "execute_result"
    }
   ],
   "execution_count": 51
  },
  {
   "cell_type": "markdown",
   "metadata": {},
   "source": [
    "## 18.6 Using AUC as the evaluation metric"
   ]
  },
  {
   "metadata": {},
   "cell_type": "markdown",
   "source": [
    "Now that I've gone through the nature of the problem, let's start talking about a solution.\n",
    "\n",
    "The first part of the solution is to choose a different evaluation metric to focus on when tuning our model. We're going to use AUC, which is short for Area Under the ROC Curve. At a high level, AUC is a measure of how well the model separates the classes by predicting higher probabilities for the class 1 samples than for the class 0 samples."
   ]
  },
  {
   "metadata": {},
   "cell_type": "markdown",
   "source": [
    "To explain this further, let's have the fitted model output predicted probabilities (rather than class predictions) by using the predict_proba method. We'll store these in y_score and print them out.\n",
    "\n",
    "This first number tells us that for the first sample in the test set, the model predicts a 0.18% likelihood that it belongs to the positive class. The second number tells us that for the second sample in the test set, the model predicts a 0.26% likelihood that it belongs to the positive class. And so on."
   ]
  },
  {
   "cell_type": "code",
   "metadata": {
    "ExecuteTime": {
     "end_time": "2024-10-21T14:29:13.827207Z",
     "start_time": "2024-10-21T14:29:13.706985Z"
    }
   },
   "source": [
    "y_score = logreg.predict_proba(X_test)[:, 1]\n",
    "y_score"
   ],
   "outputs": [
    {
     "data": {
      "text/plain": [
       "array([0.00179856, 0.00255211, 0.00181612, ..., 0.0015053 , 0.02641707,\n",
       "       0.00073432])"
      ]
     },
     "execution_count": 52,
     "metadata": {},
     "output_type": "execute_result"
    }
   ],
   "execution_count": 52
  },
  {
   "metadata": {},
   "cell_type": "markdown",
   "source": "AUC is a measure of how good a job the model is doing at assigning higher probabilities to class 1 samples than class 0 samples. In other words, AUC doesn't care about the actual predicted probability values, rather it cares only about the rank ordering of the values. As such, it can be used with any classifier that outputs predicted probabilities, regardless of whether those probabilities are well-calibrated."
  },
  {
   "metadata": {},
   "cell_type": "markdown",
   "source": ""
  },
  {
   "cell_type": "markdown",
   "metadata": {},
   "source": [
    "**Area Under the ROC Curve (AUC):**\n",
    "\n",
    "- Measures how well the model separates the classes\n",
    "- Wants the model to assign higher probabilites to class 1 samples than class 0 samples\n",
    "- Can be used with any classifier that outputs predicted probabilities"
   ]
  },
  {
   "cell_type": "code",
   "metadata": {
    "ExecuteTime": {
     "end_time": "2024-10-21T14:31:11.664036Z",
     "start_time": "2024-10-21T14:31:11.588959Z"
    }
   },
   "source": [
    "from sklearn.metrics import roc_auc_score\n",
    "\n",
    "roc_auc_score(y_test, y_score)"
   ],
   "outputs": [
    {
     "data": {
      "text/plain": [
       "0.9339323437455991"
      ]
     },
     "execution_count": 53,
     "metadata": {},
     "output_type": "execute_result"
    }
   ],
   "execution_count": 53
  },
  {
   "metadata": {},
   "cell_type": "markdown",
   "source": [
    "Let's actually calculate the AUC for our model. We import the roc_auc_score function, and then we pass it the true values followed by the predicted probabilities, not the class predictions. It outputs an AUC of 0.93, which is quite good.\n",
    "\n",
    "To put this in context, a perfect model would achieve an AUC of 1.0, whereas a completely uninformed model would achieve an AUC of 0.5.\n",
    "\n",
    "A more formal way to interpret this value is as follows: If you randomly chose a class 1 sample and you randomly chose a class 0 sample, there's a 93% probability that the model assigned a higher predicted probability to the class 1 sample than the class 0 sample."
   ]
  },
  {
   "cell_type": "markdown",
   "metadata": {},
   "source": [
    "**AUC scores:**\n",
    "\n",
    "- **Perfect model:** 1.0\n",
    "- **Uninformed model:** 0.5"
   ]
  },
  {
   "metadata": {},
   "cell_type": "markdown",
   "source": [
    "A natural follow-up question might be: Why is the AUC so high, when the True Positive Rate is so low?\n",
    "\n",
    "To answer that question, we have to talk about the decision threshold. The decision threshold is the predicted probability value above which a model will predict the positive class. By default, the threshold is 0.5, which means that if a model predicts a probability of 0.7, it predicts class 1. Whereas if a model predicts a probability of 0.2, it predicts class 0.\n",
    "\n",
    "From looking at the confusion matrix again, we can see that there were only 38 samples in the testing set for which the model predicted class 1.\n",
    "\n",
    "Equivalently, there were only 38 samples for which the model predicted a probability greater than 0.5."
   ]
  },
  {
   "cell_type": "markdown",
   "metadata": {},
   "source": [
    "**Decision threshold:**\n",
    "\n",
    "- Predicted probability value above which a model will predict the positive class\n",
    "- Default threshold is **0.5**:\n",
    "  - Probability of **0.7** -> predicts class 1\n",
    "  - Probability of **0.2** -> predicts class 0"
   ]
  },
  {
   "metadata": {},
   "cell_type": "markdown",
   "source": [
    "In case you're wondering how this code works, the part within the parentheses is creating a boolean array, and summing that array is converting the Trues to ones and the Falses to zeros.\n",
    "\n",
    "With all of that in mind, we can infer two things from the fact that the AUC is high but the True Positive Rate is low:\n",
    "\n",
    "First, we know from the high AUC that the model is already doing a good job separating the classes.\n",
    "\n",
    "Second, we know from the low True Positive Rate that the default decision threshold is not serving us well."
   ]
  },
  {
   "cell_type": "code",
   "metadata": {
    "ExecuteTime": {
     "end_time": "2024-10-21T15:22:10.764093Z",
     "start_time": "2024-10-21T15:22:10.732479Z"
    }
   },
   "source": [
    "confusion_matrix(y_test, y_pred)"
   ],
   "outputs": [
    {
     "data": {
      "text/plain": [
       "array([[2721,   10],\n",
       "       [  37,   28]], dtype=int64)"
      ]
     },
     "execution_count": 54,
     "metadata": {},
     "output_type": "execute_result"
    }
   ],
   "execution_count": 54
  },
  {
   "cell_type": "code",
   "metadata": {
    "ExecuteTime": {
     "end_time": "2024-10-21T15:22:13.259365Z",
     "start_time": "2024-10-21T15:22:13.250061Z"
    }
   },
   "source": [
    "sum(y_score > 0.5)"
   ],
   "outputs": [
    {
     "data": {
      "text/plain": [
       "38"
      ]
     },
     "execution_count": 55,
     "metadata": {},
     "output_type": "execute_result"
    }
   ],
   "execution_count": 55
  },
  {
   "cell_type": "markdown",
   "metadata": {},
   "source": [
    "**What can we infer so far?**\n",
    "\n",
    "- **High AUC:** Model is already doing a good job separating the classes\n",
    "- **Low TPR:** Default decision threshold is not serving us well"
   ]
  },
  {
   "metadata": {},
   "cell_type": "markdown",
   "source": [
    "To understand this second issue better, we'll plot the ROC curve using the plot_roc_curve function, which was introduced in version 0.22. It uses a similar API to plot_confusion_matrix, in that we pass it the fitted model, X_test, and y_test, though the API will be changing in scikit-learn 1.0.\n",
    "\n",
    "So what are we looking at? The ROC curve is a plot of the True Positive Rate (on the y-axis) versus the False Positive Rate (on the x-axis) for all possible decision thresholds.\n",
    "\n",
    "So for example, with the default decision threshold of 0.5, our True Positive Rate was 43%, and our False Positive Rate was nearly 0, which is represented by this point on the curve."
   ]
  },
  {
   "cell_type": "code",
   "metadata": {
    "ExecuteTime": {
     "end_time": "2024-10-21T15:23:31.814772Z",
     "start_time": "2024-10-21T15:23:31.477359Z"
    }
   },
   "source": [
    "from sklearn.metrics import RocCurveDisplay\n",
    "\n",
    "disp = RocCurveDisplay.from_estimator(logreg, X_test, y_test)"
   ],
   "outputs": [
    {
     "data": {
      "text/plain": [
       "<Figure size 640x480 with 1 Axes>"
      ],
      "image/png": "[encoded data removed]"
     },
     "metadata": {},
     "output_type": "display_data"
    }
   ],
   "execution_count": 57
  },
  {
   "metadata": {},
   "cell_type": "markdown",
   "source": "We could move to another point on the curve simply by changing the decision threshold. For example, we could move to this point on the curve, which looks like it has a True Positive Rate of above 90% and a False Positive Rate around 10% by changing the threshold. To be clear, the threshold itself is not shown on this plot, rather the plot only shows the True Positive Rates and False Positive Rates that result from all possible thresholds."
  },
  {
   "metadata": {},
   "cell_type": "markdown",
   "source": "One other thing I want to note about this plot is that the Area Under the Curve is literally the percentage of this box that is underneath this curve. Thus, 93% of this box is underneath this curve. If we can increase the AUC, that means we are moving this line further into the upper left corner, which means that higher True Positive Rates and lower False Positive Rates will be available to us."
  },
  {
   "cell_type": "markdown",
   "metadata": {},
   "source": [
    "**Interpreting the ROC curve:**\n",
    "\n",
    "- Plot of the TPR vs FPR for all possible decision thresholds\n",
    "- Move to another point on the curve by changing the threshold\n",
    "  - Threshold is not shown on this plot\n",
    "- AUC is the percentage of the box underneath the curve"
   ]
  },
  {
   "metadata": {},
   "cell_type": "markdown",
   "source": "Given what we've learned so far, I want to chart our path forward. In lesson 18.7, we're going to try to improve the AUC of our model. Then in lesson 18.8, we're going to explore alternative decision thresholds in order to balance the True Positive Rate and the False Positive Rate to our liking."
  },
  {
   "cell_type": "markdown",
   "metadata": {},
   "source": [
    "**Next steps:**\n",
    "\n",
    "1. Improve the model's AUC\n",
    "2. Explore alternative decision thresholds"
   ]
  },
  {
   "cell_type": "markdown",
   "metadata": {},
   "source": [
    "## 18.7 Cost-sensitive learning"
   ]
  },
  {
   "metadata": {},
   "cell_type": "markdown",
   "source": [
    "Now that we know that our next step is to improve our model's AUC, how do we actually do that? The good news is that we can use any technique I've covered in the course, such as hyperparameter tuning, feature selection, trying non-linear models, and so on. All of those techniques have the potential to improve the model's AUC.\n",
    "\n",
    "However in this lesson, I want to focus on one particular technique that we haven't covered in the course that is particularly useful in cases of class imbalance. That technique is called cost-sensitive learning.\n",
    "\n",
    "The insight behind cost-sensitive learning is that not all prediction errors have the same cost. This can refer to an actual dollar cost of one type of error versus another, or in our case, the real-world implications of a certain type of error.\n",
    "\n",
    "When there's severe class imbalance, it's usually the case that False Negatives, in which positive samples are identified as negative, have a higher cost than False Positives, in which negative samples are identified as positive. This makes sense because the positive samples are rare occurrences, and thus we're more interested in locating the positive samples than the negative samples. In simple terms, we would prefer a False Positive to a False Negative.\n",
    "\n",
    "So how does cost-sensitive learning actually work? In scikit-learn, this is implemented using the class_weight parameter for some models, such as logistic regression and Random Forests."
   ]
  },
  {
   "cell_type": "markdown",
   "metadata": {},
   "source": [
    "**How to improve the model's AUC?**\n",
    "\n",
    "- **Any technique covered in the course:**\n",
    "  - Hyperparameter tuning\n",
    "  - Feature selection\n",
    "  - Trying non-linear models\n",
    "  - Etc.\n",
    "- **Cost-sensitive learning:**\n",
    "  - Particularly useful when there's class imbalance\n",
    "  - Insight: Not all prediction errors have the same \"cost\"\n",
    "  - If positive samples are rare:\n",
    "    - **False Negatives** have a higher cost\n",
    "    - **False Positives** have a lower cost"
   ]
  },
  {
   "cell_type": "markdown",
   "metadata": {},
   "source": [
    "**How does cost-sensitive learning work?**\n",
    "\n",
    "- Gives more weight to samples from the minority class (positive class)\n",
    "  - Model is penalized more for False Negatives than False Positives\n",
    "- Model's goal is to minimize total cost\n",
    "  - Model may be biased toward predicting the minority class"
   ]
  },
  {
   "metadata": {},
   "cell_type": "markdown",
   "source": [
    "By setting class_weight to 'balanced', scikit-learn will give more weight to the samples from the minority class than samples from the majority class. More specifically, the model is penalized more for making mistakes on the minority class (meaning False Negatives) than it is for making mistakes on the majority class (meaning False Positives). Because the model's goal is to minimize the total cost, the model may show increased bias toward predicting the minority class.\n",
    "\n",
    "Let's try this out by creating a logistic regression instance that uses class_weight='balanced'. This specifies a class weighting that is inversely proportional to the class frequencies in the input data, though you can specify custom weights for each class if you like.\n",
    "\n",
    "We'll fit our logistic regression model on the training set, and use the fitted model to make class predictions as well as predicted probabilities on the testing set. Then we'll calculate the AUC, and it has increased from 0.93 to 0.94 simply by setting class weights."
   ]
  },
  {
   "cell_type": "code",
   "metadata": {
    "ExecuteTime": {
     "end_time": "2024-10-21T15:27:24.326400Z",
     "start_time": "2024-10-21T15:27:24.321036Z"
    }
   },
   "source": [
    "logreg_cost = LogisticRegression(solver='liblinear', class_weight='balanced',\n",
    "                                 random_state=1)"
   ],
   "outputs": [],
   "execution_count": 58
  },
  {
   "cell_type": "code",
   "metadata": {
    "ExecuteTime": {
     "end_time": "2024-10-21T15:27:27.112082Z",
     "start_time": "2024-10-21T15:27:27.069196Z"
    }
   },
   "source": [
    "logreg_cost.fit(X_train, y_train)\n",
    "y_pred = logreg_cost.predict(X_test)\n",
    "y_score = logreg_cost.predict_proba(X_test)[:, 1]\n",
    "roc_auc_score(y_test, y_score)"
   ],
   "outputs": [
    {
     "data": {
      "text/plain": [
       "0.9404163028476467"
      ]
     },
     "execution_count": 59,
     "metadata": {},
     "output_type": "execute_result"
    }
   ],
   "execution_count": 59
  },
  {
   "cell_type": "code",
   "metadata": {
    "scrolled": true,
    "ExecuteTime": {
     "end_time": "2024-10-21T15:27:29.690246Z",
     "start_time": "2024-10-21T15:27:29.671635Z"
    }
   },
   "source": [
    "print(classification_report(y_test, y_pred))"
   ],
   "outputs": [
    {
     "name": "stdout",
     "output_type": "stream",
     "text": [
      "              precision    recall  f1-score   support\n",
      "\n",
      "           0       1.00      0.89      0.94      2731\n",
      "           1       0.16      0.88      0.27        65\n",
      "\n",
      "    accuracy                           0.89      2796\n",
      "   macro avg       0.58      0.88      0.61      2796\n",
      "weighted avg       0.98      0.89      0.93      2796\n",
      "\n"
     ]
    }
   ],
   "execution_count": 60
  },
  {
   "cell_type": "markdown",
   "metadata": {},
   "source": [
    "**Changes due to cost-sensitive learning:**\n",
    "\n",
    "- **TPR:** 0.43 -> 0.88\n",
    "- **FPR:** 0.00 -> 0.11"
   ]
  },
  {
   "metadata": {},
   "cell_type": "markdown",
   "source": [
    "Keep in mind that class weighting is not guaranteed to improve your AUC, and thus it should be tuned like any other parameter, as we'll see in the next chapter.\n",
    "\n",
    "Let's take a look at the classification report to see how our rates have changed:\n",
    "\n",
    "The True Positive Rate, which was 43%, is up to 88%.\n",
    "\n",
    "The True Negative Rate, which was nearly 100%, is down to 89%, which means that the False Positive Rate has increased from around 0% to 11%.\n",
    "\n",
    "I do want to point out that even though this model might match our priorities better, its accuracy is down from 98% to 89%. This illustrates how sometimes a useful classifier has a lower accuracy than null accuracy."
   ]
  },
  {
   "cell_type": "markdown",
   "metadata": {},
   "source": [
    "## 18.8 Tuning the decision threshold"
   ]
  },
  {
   "metadata": {},
   "cell_type": "markdown",
   "source": [
    "At this point, we could continue to tune various aspects of our model to increase the AUC, but instead we're just going to move on to tuning the decision threshold.\n",
    "\n",
    "Let's take a look at the ROC curve for our class-weighted logistic regression model. Using the default threshold of 0.5, the model achieved a True Positive Rate of 88% and a False Positive Rate of 11%, which is roughly this point on the curve. If we want to move somewhere else on this curve, in order to better match our priorities, we simply change the threshold."
   ]
  },
  {
   "cell_type": "code",
   "metadata": {
    "ExecuteTime": {
     "end_time": "2024-10-21T15:29:12.398351Z",
     "start_time": "2024-10-21T15:29:12.250734Z"
    }
   },
   "source": "disp = RocCurveDisplay.from_estimator(logreg_cost, X_test, y_test)",
   "outputs": [
    {
     "data": {
      "text/plain": [
       "<Figure size 640x480 with 1 Axes>"
      ],
      "image/png": "[encoded data removed]"
     },
     "metadata": {},
     "output_type": "display_data"
    }
   ],
   "execution_count": 61
  },
  {
   "metadata": {},
   "cell_type": "markdown",
   "source": [
    "Before tuning the threshold, it's useful to examine the confusion matrix. This is our current confusion matrix, which results from the default threshold of 0.5. You might notice that there are a lot more True Positives and False Positives than before.\n",
    "\n",
    "More specifically, the model is predicting the positive class 352 times, whereas previously it predicted the positive class only 38 times.\n",
    "\n",
    "Let's pretend that we're still uncomfortable with having 8 False Negatives, and thus we want to reduce those even further. By decreasing the threshold to 0.25, we find out that the model will predict the positive class 870 times."
   ]
  },
  {
   "cell_type": "code",
   "metadata": {
    "ExecuteTime": {
     "end_time": "2024-10-21T15:29:16.505371Z",
     "start_time": "2024-10-21T15:29:16.490920Z"
    }
   },
   "source": [
    "confusion_matrix(y_test, y_pred)"
   ],
   "outputs": [
    {
     "data": {
      "text/plain": [
       "array([[2436,  295],\n",
       "       [   8,   57]], dtype=int64)"
      ]
     },
     "execution_count": 62,
     "metadata": {},
     "output_type": "execute_result"
    }
   ],
   "execution_count": 62
  },
  {
   "cell_type": "code",
   "metadata": {
    "ExecuteTime": {
     "end_time": "2024-10-21T15:29:19.517950Z",
     "start_time": "2024-10-21T15:29:19.512965Z"
    }
   },
   "source": [
    "sum(y_score > 0.5)"
   ],
   "outputs": [
    {
     "data": {
      "text/plain": [
       "352"
      ]
     },
     "execution_count": 63,
     "metadata": {},
     "output_type": "execute_result"
    }
   ],
   "execution_count": 63
  },
  {
   "cell_type": "code",
   "metadata": {
    "ExecuteTime": {
     "end_time": "2024-10-21T15:29:21.497258Z",
     "start_time": "2024-10-21T15:29:21.490884Z"
    }
   },
   "source": [
    "sum(y_score > 0.25)"
   ],
   "outputs": [
    {
     "data": {
      "text/plain": [
       "870"
      ]
     },
     "execution_count": 64,
     "metadata": {},
     "output_type": "execute_result"
    }
   ],
   "execution_count": 64
  },
  {
   "metadata": {},
   "cell_type": "markdown",
   "source": [
    "The boolean array created by this condition can be converted to class predictions simply by multiplying it by 1.\n",
    "\n",
    "And in fact, the boolean array can be passed directly to the confusion matrix function, and it will do the conversion automatically.\n",
    "\n",
    "Thus we can see that by decreasing the threshold to 0.25, the number of False Negatives has been reduced from 8 to 4, but the number of False Positives has increased from 295 to 809. More generally, decreasing the threshold moves samples from the left column of the confusion matrix to the right column."
   ]
  },
  {
   "cell_type": "code",
   "metadata": {
    "ExecuteTime": {
     "end_time": "2024-10-21T15:29:23.648137Z",
     "start_time": "2024-10-21T15:29:23.641951Z"
    }
   },
   "source": [
    "(y_score > 0.25) * 1"
   ],
   "outputs": [
    {
     "data": {
      "text/plain": [
       "array([0, 0, 0, ..., 0, 1, 0])"
      ]
     },
     "execution_count": 65,
     "metadata": {},
     "output_type": "execute_result"
    }
   ],
   "execution_count": 65
  },
  {
   "cell_type": "code",
   "metadata": {
    "ExecuteTime": {
     "end_time": "2024-10-21T15:29:29.566457Z",
     "start_time": "2024-10-21T15:29:29.559048Z"
    }
   },
   "source": [
    "confusion_matrix(y_test, y_score > 0.25)"
   ],
   "outputs": [
    {
     "data": {
      "text/plain": [
       "array([[1922,  809],\n",
       "       [   4,   61]], dtype=int64)"
      ]
     },
     "execution_count": 66,
     "metadata": {},
     "output_type": "execute_result"
    }
   ],
   "execution_count": 66
  },
  {
   "metadata": {},
   "cell_type": "markdown",
   "source": [
    "Looking at the classification report, the True Positive Rate has increased to 94%, but the False Positive Rate has increased to 30%.\n",
    "\n",
    "Looking back at the ROC curve, here's where we moved."
   ]
  },
  {
   "cell_type": "code",
   "metadata": {
    "ExecuteTime": {
     "end_time": "2024-10-21T15:29:32.393958Z",
     "start_time": "2024-10-21T15:29:32.380470Z"
    }
   },
   "source": [
    "print(classification_report(y_test, y_score > 0.25))"
   ],
   "outputs": [
    {
     "name": "stdout",
     "output_type": "stream",
     "text": [
      "              precision    recall  f1-score   support\n",
      "\n",
      "           0       1.00      0.70      0.83      2731\n",
      "           1       0.07      0.94      0.13        65\n",
      "\n",
      "    accuracy                           0.71      2796\n",
      "   macro avg       0.53      0.82      0.48      2796\n",
      "weighted avg       0.98      0.71      0.81      2796\n",
      "\n"
     ]
    }
   ],
   "execution_count": 67
  },
  {
   "cell_type": "markdown",
   "metadata": {},
   "source": [
    "**Changes due to decreasing the threshold:**\n",
    "\n",
    "- **TPR:** 0.88 -> 0.94\n",
    "- **FPR:** 0.11 -> 0.30"
   ]
  },
  {
   "metadata": {},
   "cell_type": "markdown",
   "source": [
    "Alternatively, let's pretend that we actually think the original threshold resulted in too many False Positives. In that case, we could increase the threshold to 0.75, which moves samples from the right column to the left column.\n",
    "\n",
    "We can see from the classification report that the True Positive Rate has decreased to 77%, but the False Positive Rate has decreased to 4%. Here's where we moved on the ROC curve.\n",
    "\n",
    "Keep in mind that as we change the threshold, it's not actually changing the model itself. Instead, changing the threshold is just a way to make tradeoffs between two different types of errors, namely False Positives and False Negatives."
   ]
  },
  {
   "cell_type": "code",
   "metadata": {
    "ExecuteTime": {
     "end_time": "2024-10-21T15:29:48.899389Z",
     "start_time": "2024-10-21T15:29:48.890560Z"
    }
   },
   "source": [
    "confusion_matrix(y_test, y_score > 0.75)"
   ],
   "outputs": [
    {
     "data": {
      "text/plain": [
       "array([[2632,   99],\n",
       "       [  15,   50]], dtype=int64)"
      ]
     },
     "execution_count": 68,
     "metadata": {},
     "output_type": "execute_result"
    }
   ],
   "execution_count": 68
  },
  {
   "cell_type": "code",
   "metadata": {
    "ExecuteTime": {
     "end_time": "2024-10-21T15:29:51.186023Z",
     "start_time": "2024-10-21T15:29:51.175644Z"
    }
   },
   "source": [
    "print(classification_report(y_test, y_score > 0.75))"
   ],
   "outputs": [
    {
     "name": "stdout",
     "output_type": "stream",
     "text": [
      "              precision    recall  f1-score   support\n",
      "\n",
      "           0       0.99      0.96      0.98      2731\n",
      "           1       0.34      0.77      0.47        65\n",
      "\n",
      "    accuracy                           0.96      2796\n",
      "   macro avg       0.66      0.87      0.72      2796\n",
      "weighted avg       0.98      0.96      0.97      2796\n",
      "\n"
     ]
    }
   ],
   "execution_count": 69
  },
  {
   "cell_type": "markdown",
   "metadata": {},
   "source": [
    "**Changes due to increasing the threshold:**\n",
    "\n",
    "- **TPR:** 0.88 -> 0.77\n",
    "- **FPR:** 0.11 -> 0.04"
   ]
  },
  {
   "metadata": {},
   "cell_type": "markdown",
   "source": "And to be clear, there is no correct threshold that we are trying to find. Instead, the threshold you should choose is the one that best matches your priorities. A method does exist for finding the point on the ROC curve that is closest to the upper left corner and calling that the correct threshold, but again, that threshold is only useful if it matches your priorities."
  },
  {
   "cell_type": "markdown",
   "metadata": {},
   "source": [
    "# Chapter 19: Class imbalance walkthrough"
   ]
  },
  {
   "cell_type": "markdown",
   "metadata": {},
   "source": [
    "## 19.1 Best practices for class imbalance"
   ]
  },
  {
   "metadata": {},
   "cell_type": "markdown",
   "source": [
    "We covered a lot of concepts in the previous chapter that may have been new to you: class imbalance, the confusion matrix and all the rates you can calculate from it, the classification report, ROC curves and AUC, the decision threshold, and cost-sensitive learning.\n",
    "\n",
    "In order to properly demonstrate these concepts, I modified my actual workflow in two important ways that are slightly less than optimal. In this chapter, I'm going to walk through my real workflow for class imbalance problems so that you can see the best practices.\n",
    "\n",
    "So what are the two modifications that I made?\n",
    "\n",
    "In the previous chapter, I used train/test split for model evaluation instead of cross-validation. Cross-validation is better than train/test split because it's easier to use and it provides more reliable estimates of model performance.\n",
    "\n",
    "In the previous chapter, I tuned the decision threshold using the same dataset that I used to optimize the model. It's actually better to tune the threshold using different data than you used to optimize the model, because it has been shown experimentally to lead to more reliable estimates of True Positive Rate and False Positive Rate.\n",
    "\n",
    "In this chapter, I'm going to walk through my entire workflow, start to finish, while making these two improvements."
   ]
  },
  {
   "cell_type": "markdown",
   "metadata": {},
   "source": [
    "**New concepts from chapter 18:**\n",
    "\n",
    "- Class imbalance\n",
    "- Confusion matrix, TPR, TNR, FPR\n",
    "- Classification report\n",
    "- ROC curve and AUC\n",
    "- Decision threshold\n",
    "- Cost-sensitive learning"
   ]
  },
  {
   "cell_type": "markdown",
   "metadata": {},
   "source": [
    "**Workflow improvements in chapter 19:**\n",
    "\n",
    "1. Use cross-validation instead of train/test split\n",
    "  - Easier to use\n",
    "  - More reliable performance estimates\n",
    "2. Use new data to tune the decision threshold\n",
    "  - More reliable TPR/FPR estimates"
   ]
  },
  {
   "cell_type": "markdown",
   "metadata": {},
   "source": [
    "## 19.2 Step 1: Splitting the dataset"
   ]
  },
  {
   "cell_type": "markdown",
   "metadata": {},
   "source": [
    "**Different uses of train/test split:**\n",
    "\n",
    "- **Chapter 18:** Set aside data for model evaluation\n",
    "- **Chapter 19:** Set aside data for tuning the decision threshold"
   ]
  },
  {
   "metadata": {},
   "cell_type": "markdown",
   "source": [
    "Step 1 of my real workflow is to split the dataset into training and testing sets. This might be a confusing way to start, because I just said that we're going to use cross-validation in this chapter rather than train/test split.\n",
    "\n",
    "That is absolutely true, but we're actually using the train_test_split function differently than we did in chapter 18:\n",
    "\n",
    "In chapter 18, we used train/test split for model evaluation.\n",
    "\n",
    "In this chapter, we're using it to set aside independent data for tuning the decision threshold.\n",
    "\n",
    "For a longer discussion of this concept, you can review lesson 10.12.\n",
    "\n",
    "Anyway, our train_test_split code is identical to the code that we used in lesson 18.3, including the use of stratified sampling."
   ]
  },
  {
   "cell_type": "code",
   "metadata": {
    "ExecuteTime": {
     "end_time": "2024-10-21T15:44:22.638912Z",
     "start_time": "2024-10-21T15:44:22.549029Z"
    }
   },
   "source": [
    "X_train, X_test, y_train, y_test = train_test_split(scan_X, scan_y,\n",
    "                                                    test_size=0.25, random_state=1,\n",
    "                                                    stratify=scan_y)"
   ],
   "outputs": [],
   "execution_count": 70
  },
  {
   "cell_type": "markdown",
   "metadata": {},
   "source": [
    "## 19.3 Step 2: Optimizing the model on the training set"
   ]
  },
  {
   "metadata": {},
   "cell_type": "markdown",
   "source": [
    "Step 2 is to optimize your model (or Pipeline) using the training set only.\n",
    "\n",
    "As you can see, I'm using cross-validation as the evaluation procedure, and AUC as the evaluation metric that I want to optimize. But notice that I'm passing the training set only to cross_val_score. I'm not touching the testing set during this step so that it can function as an independent dataset for the next step.\n",
    "\n",
    "To optimize the model, we'll use a grid search. Normally this would be a grid search of all pipeline steps, but in this case it will be a grid search of just the model."
   ]
  },
  {
   "cell_type": "code",
   "metadata": {
    "ExecuteTime": {
     "end_time": "2024-10-21T15:46:12.347085Z",
     "start_time": "2024-10-21T15:46:12.207083Z"
    }
   },
   "source": [
    "cross_val_score(logreg, X_train, y_train, cv=5, scoring='roc_auc').mean()"
   ],
   "outputs": [
    {
     "data": {
      "text/plain": [
       "0.9137689754365026"
      ]
     },
     "execution_count": 71,
     "metadata": {},
     "output_type": "execute_result"
    }
   ],
   "execution_count": 71
  },
  {
   "metadata": {},
   "cell_type": "markdown",
   "source": [
    "Since cost-sensitive learning is useful when there's class imbalance, we're going to include the class_weight parameter in our search. There are four options I'll try:\n",
    "\n",
    "None is the default, and it means don't use cost-sensitive learning.\n",
    "\n",
    "'balanced' is what we used previously, and it specifies class weights that are inversely proportional to the class frequencies in the input data. Since our input data is about 98% class 0 and 2% class 1, it would apply a weight of 2 to class 0 and a weight of 98 to class 1.\n",
    "\n",
    "The third option is custom weights, which we specify with a dictionary. This means for class 0, I want a weight of 1, and for class 1, I want a weight of 99. In other words, I'm applying an even higher weight to class 1 than the 'balanced' option.\n",
    "\n",
    "The fourth option is another set of custom weights, in which I'm applying a slightly lower weight to class 1 than the 'balanced' option. Note that the weights can be any numbers and don't actually have to add up to 100 like I'm doing here."
   ]
  },
  {
   "cell_type": "code",
   "metadata": {
    "ExecuteTime": {
     "end_time": "2024-10-21T15:46:37.662349Z",
     "start_time": "2024-10-21T15:46:37.655425Z"
    }
   },
   "source": [
    "im_params = {}\n",
    "im_params['penalty'] = ['l1', 'l2']\n",
    "im_params['C'] = [0.1, 1, 10]\n",
    "im_params['class_weight'] = [None, 'balanced', {0: 1, 1: 99}, {0: 3, 1: 97}]"
   ],
   "outputs": [],
   "execution_count": 72
  },
  {
   "metadata": {},
   "cell_type": "markdown",
   "source": [
    "Now that we've set up the parameters to be searched, we can pass them to GridSearchCV and use AUC as the metric. When doing the search, again we only pass it the training set.\n",
    "\n",
    "The search results in an AUC of 0.923, which is higher than the unoptimized model we passed to cross_val_score."
   ]
  },
  {
   "cell_type": "code",
   "metadata": {
    "ExecuteTime": {
     "end_time": "2024-10-21T15:47:13.599892Z",
     "start_time": "2024-10-21T15:47:05.078430Z"
    }
   },
   "source": [
    "training_grid = GridSearchCV(logreg, im_params, cv=5, scoring='roc_auc', n_jobs=-1)\n",
    "training_grid.fit(X_train, y_train)\n",
    "training_grid.best_score_"
   ],
   "outputs": [
    {
     "data": {
      "text/plain": [
       "0.9227203254307025"
      ]
     },
     "execution_count": 73,
     "metadata": {},
     "output_type": "execute_result"
    }
   ],
   "execution_count": 73
  },
  {
   "metadata": {},
   "cell_type": "markdown",
   "source": [
    "Here's the best set of parameters it found, which actually uses one of the custom class weights.\n",
    "\n",
    "Now that we've found the best set of parameters, we need to save the model with those parameters as an object.\n",
    "\n",
    "We could try to further optimize the model by creating more features, using feature selection, trying a different type of model, and so on, but instead we're just going to move on to the next step."
   ]
  },
  {
   "cell_type": "code",
   "metadata": {
    "ExecuteTime": {
     "end_time": "2024-10-21T15:47:37.554779Z",
     "start_time": "2024-10-21T15:47:37.541833Z"
    }
   },
   "source": [
    "training_grid.best_params_"
   ],
   "outputs": [
    {
     "data": {
      "text/plain": [
       "{'C': 1, 'class_weight': {0: 1, 1: 99}, 'penalty': 'l2'}"
      ]
     },
     "execution_count": 74,
     "metadata": {},
     "output_type": "execute_result"
    }
   ],
   "execution_count": 74
  },
  {
   "cell_type": "code",
   "metadata": {
    "ExecuteTime": {
     "end_time": "2024-10-21T15:47:39.521774Z",
     "start_time": "2024-10-21T15:47:39.516262Z"
    }
   },
   "source": [
    "best_model = training_grid.best_estimator_"
   ],
   "outputs": [],
   "execution_count": 75
  },
  {
   "cell_type": "markdown",
   "metadata": {},
   "source": [
    "## 19.4 Step 3: Evaluating the model on the testing set"
   ]
  },
  {
   "metadata": {},
   "cell_type": "markdown",
   "source": [
    "Step 3 is to use our best model to make predictions for the testing set and evaluate those predictions. Again, we did not touch the testing set during step 2, so the model has never seen this data.\n",
    "\n",
    "We'll use the predict method to generate class predictions, and the predict_proba method to generate predicted probabilities.\n",
    "\n",
    "We'll evaluate the predicted probabilities using AUC and the ROC curve. The AUC is 0.94, which is our best estimate of how well the trained model will perform on truly new data"
   ]
  },
  {
   "cell_type": "code",
   "metadata": {
    "ExecuteTime": {
     "end_time": "2024-10-21T15:48:35.592430Z",
     "start_time": "2024-10-21T15:48:35.577784Z"
    }
   },
   "source": [
    "y_pred = best_model.predict(X_test)\n",
    "y_score = best_model.predict_proba(X_test)[:, 1]"
   ],
   "outputs": [],
   "execution_count": 76
  },
  {
   "cell_type": "code",
   "metadata": {
    "ExecuteTime": {
     "end_time": "2024-10-21T15:48:56.935927Z",
     "start_time": "2024-10-21T15:48:56.925585Z"
    }
   },
   "source": [
    "roc_auc_score(y_test, y_score)"
   ],
   "outputs": [
    {
     "data": {
      "text/plain": [
       "0.9375038729121483"
      ]
     },
     "execution_count": 77,
     "metadata": {},
     "output_type": "execute_result"
    }
   ],
   "execution_count": 77
  },
  {
   "cell_type": "code",
   "metadata": {
    "scrolled": true,
    "ExecuteTime": {
     "end_time": "2024-10-21T15:49:26.497409Z",
     "start_time": "2024-10-21T15:49:26.262788Z"
    }
   },
   "source": "disp = RocCurveDisplay.from_estimator(best_model, X_test, y_test)",
   "outputs": [
    {
     "data": {
      "text/plain": [
       "<Figure size 640x480 with 1 Axes>"
      ],
      "image/png": "[encoded data removed]"
     },
     "metadata": {},
     "output_type": "display_data"
    }
   ],
   "execution_count": 78
  },
  {
   "metadata": {},
   "cell_type": "markdown",
   "source": "We'll evaluate the class predictions using a confusion matrix and the classification report. Notice that the True Positive Rate is 95%, and the False Positive Rate is 24%."
  },
  {
   "cell_type": "code",
   "metadata": {
    "ExecuteTime": {
     "end_time": "2024-10-21T15:49:30.384393Z",
     "start_time": "2024-10-21T15:49:30.372862Z"
    }
   },
   "source": [
    "confusion_matrix(y_test, y_pred)"
   ],
   "outputs": [
    {
     "data": {
      "text/plain": [
       "array([[2081,  650],\n",
       "       [   3,   62]], dtype=int64)"
      ]
     },
     "execution_count": 79,
     "metadata": {},
     "output_type": "execute_result"
    }
   ],
   "execution_count": 79
  },
  {
   "cell_type": "code",
   "metadata": {
    "ExecuteTime": {
     "end_time": "2024-10-21T15:49:32.652153Z",
     "start_time": "2024-10-21T15:49:32.631419Z"
    }
   },
   "source": [
    "print(classification_report(y_test, y_pred))"
   ],
   "outputs": [
    {
     "name": "stdout",
     "output_type": "stream",
     "text": [
      "              precision    recall  f1-score   support\n",
      "\n",
      "           0       1.00      0.76      0.86      2731\n",
      "           1       0.09      0.95      0.16        65\n",
      "\n",
      "    accuracy                           0.77      2796\n",
      "   macro avg       0.54      0.86      0.51      2796\n",
      "weighted avg       0.98      0.77      0.85      2796\n",
      "\n"
     ]
    }
   ],
   "execution_count": 80
  },
  {
   "cell_type": "markdown",
   "metadata": {},
   "source": [
    "## 19.5 Step 4: Tuning the decision threshold"
   ]
  },
  {
   "metadata": {},
   "cell_type": "markdown",
   "source": [
    "Step 4 is to tune the decision threshold based on our priorities, meaning our tolerance of False Negatives versus False Positives.\n",
    "\n",
    "This is the same process you saw in lesson 18.8, except this time, we're tuning the threshold using a testing set that the model never saw when it was being optimized. Again, this is important because it will lead to a more reliable estimate of the True Positive and False Positive Rates.\n",
    "\n",
    "Anyway, let's pretend that we would prefer a slightly lower False Positive Rate, and are willing to tolerate a lower True Positive Rate in order to achieve it. As such, we'll increase the decision threshold slightly to 0.55.\n",
    "\n",
    "The True Positive Rate has decreased from 95% to 92%, and the False Positive Rate has decreased from 24% to 20%. Let's assume we're happy with these numbers, and we'll move on to the final step."
   ]
  },
  {
   "cell_type": "code",
   "metadata": {
    "ExecuteTime": {
     "end_time": "2024-10-21T15:50:27.904550Z",
     "start_time": "2024-10-21T15:50:27.891117Z"
    }
   },
   "source": [
    "confusion_matrix(y_test, y_score > 0.55)"
   ],
   "outputs": [
    {
     "data": {
      "text/plain": [
       "array([[2179,  552],\n",
       "       [   5,   60]], dtype=int64)"
      ]
     },
     "execution_count": 81,
     "metadata": {},
     "output_type": "execute_result"
    }
   ],
   "execution_count": 81
  },
  {
   "cell_type": "code",
   "metadata": {
    "ExecuteTime": {
     "end_time": "2024-10-21T15:50:32.763949Z",
     "start_time": "2024-10-21T15:50:32.752376Z"
    }
   },
   "source": [
    "print(classification_report(y_test, y_score > 0.55))"
   ],
   "outputs": [
    {
     "name": "stdout",
     "output_type": "stream",
     "text": [
      "              precision    recall  f1-score   support\n",
      "\n",
      "           0       1.00      0.80      0.89      2731\n",
      "           1       0.10      0.92      0.18        65\n",
      "\n",
      "    accuracy                           0.80      2796\n",
      "   macro avg       0.55      0.86      0.53      2796\n",
      "weighted avg       0.98      0.80      0.87      2796\n",
      "\n"
     ]
    }
   ],
   "execution_count": 82
  },
  {
   "cell_type": "markdown",
   "metadata": {},
   "source": [
    "**Changes due to increasing the threshold:**\n",
    "\n",
    "- **TPR:** 0.95 -> 0.92\n",
    "- **FPR:** 0.24 -> 0.20"
   ]
  },
  {
   "cell_type": "markdown",
   "metadata": {},
   "source": [
    "## 19.6 Step 5: Retraining the model and making predictions"
   ]
  },
  {
   "metadata": {},
   "cell_type": "markdown",
   "source": [
    "Step 5 is to use the decision threshold we chose when making predictions on new data.\n",
    "\n",
    "Before making predictions, it's critical that we train our best model on all of our data, meaning the entirety of scan_X and scan_y, otherwise we're throwing away valuable data. In other words, we're using the hyperparameters that were chosen from the training data during step 2, and fitting that model with all of the data.\n",
    "\n",
    "We'll use that model to make predictions on new data, meaning data for which you don't know the actual class labels. I don't have access to any new data, so I'm just going to create some random data for demonstration purposes.\n",
    "\n",
    "I'll set NumPy's random seed for reproducibility, and then use the randint function to create a 4 by 6 array with random integers between 0 and 2. In other words, this is a simulation of 4 samples of new data, each of which has 6 features.\n",
    "\n",
    "To make predictions, we'll pass the new data to the predict_proba method, and save the output.\n",
    "\n",
    "Finally, we'll predict class 1 any time the predicted probability is greater than our decision threshold of 0.55, otherwise we'll predict class 0. These are our class predictions for the 4 new samples."
   ]
  },
  {
   "cell_type": "code",
   "metadata": {
    "scrolled": true,
    "ExecuteTime": {
     "end_time": "2024-10-21T15:51:23.731650Z",
     "start_time": "2024-10-21T15:51:23.699538Z"
    }
   },
   "source": [
    "best_model.fit(scan_X, scan_y)"
   ],
   "outputs": [
    {
     "data": {
      "text/plain": [
       "LogisticRegression(C=1, class_weight={0: 1, 1: 99}, random_state=1,\n",
       "                   solver='liblinear')"
      ],
      "text/html": [
       "<style>#sk-container-id-1 {\n",
       "  /* Definition of color scheme common for light and dark mode */\n",
       "  --sklearn-color-text: black;\n",
       "  --sklearn-color-line: gray;\n",
       "  /* Definition of color scheme for unfitted estimators */\n",
       "  --sklearn-color-unfitted-level-0: #fff5e6;\n",
       "  --sklearn-color-unfitted-level-1: #f6e4d2;\n",
       "  --sklearn-color-unfitted-level-2: #ffe0b3;\n",
       "  --sklearn-color-unfitted-level-3: chocolate;\n",
       "  /* Definition of color scheme for fitted estimators */\n",
       "  --sklearn-color-fitted-level-0: #f0f8ff;\n",
       "  --sklearn-color-fitted-level-1: #d4ebff;\n",
       "  --sklearn-color-fitted-level-2: #b3dbfd;\n",
       "  --sklearn-color-fitted-level-3: cornflowerblue;\n",
       "\n",
       "  /* Specific color for light theme */\n",
       "  --sklearn-color-text-on-default-background: var(--sg-text-color, var(--theme-code-foreground, var(--jp-content-font-color1, black)));\n",
       "  --sklearn-color-background: var(--sg-background-color, var(--theme-background, var(--jp-layout-color0, white)));\n",
       "  --sklearn-color-border-box: var(--sg-text-color, var(--theme-code-foreground, var(--jp-content-font-color1, black)));\n",
       "  --sklearn-color-icon: #696969;\n",
       "\n",
       "  @media (prefers-color-scheme: dark) {\n",
       "    /* Redefinition of color scheme for dark theme */\n",
       "    --sklearn-color-text-on-default-background: var(--sg-text-color, var(--theme-code-foreground, var(--jp-content-font-color1, white)));\n",
       "    --sklearn-color-background: var(--sg-background-color, var(--theme-background, var(--jp-layout-color0, #111)));\n",
       "    --sklearn-color-border-box: var(--sg-text-color, var(--theme-code-foreground, var(--jp-content-font-color1, white)));\n",
       "    --sklearn-color-icon: #878787;\n",
       "  }\n",
       "}\n",
       "\n",
       "#sk-container-id-1 {\n",
       "  color: var(--sklearn-color-text);\n",
       "}\n",
       "\n",
       "#sk-container-id-1 pre {\n",
       "  padding: 0;\n",
       "}\n",
       "\n",
       "#sk-container-id-1 input.sk-hidden--visually {\n",
       "  border: 0;\n",
       "  clip: rect(1px 1px 1px 1px);\n",
       "  clip: rect(1px, 1px, 1px, 1px);\n",
       "  height: 1px;\n",
       "  margin: -1px;\n",
       "  overflow: hidden;\n",
       "  padding: 0;\n",
       "  position: absolute;\n",
       "  width: 1px;\n",
       "}\n",
       "\n",
       "#sk-container-id-1 div.sk-dashed-wrapped {\n",
       "  border: 1px dashed var(--sklearn-color-line);\n",
       "  margin: 0 0.4em 0.5em 0.4em;\n",
       "  box-sizing: border-box;\n",
       "  padding-bottom: 0.4em;\n",
       "  background-color: var(--sklearn-color-background);\n",
       "}\n",
       "\n",
       "#sk-container-id-1 div.sk-container {\n",
       "  /* jupyter's `normalize.less` sets `[hidden] { display: none; }`\n",
       "     but bootstrap.min.css set `[hidden] { display: none !important; }`\n",
       "     so we also need the `!important` here to be able to override the\n",
       "     default hidden behavior on the sphinx rendered scikit-learn.org.\n",
       "     See: https://github.com/scikit-learn/scikit-learn/issues/21755 */\n",
       "  display: inline-block !important;\n",
       "  position: relative;\n",
       "}\n",
       "\n",
       "#sk-container-id-1 div.sk-text-repr-fallback {\n",
       "  display: none;\n",
       "}\n",
       "\n",
       "div.sk-parallel-item,\n",
       "div.sk-serial,\n",
       "div.sk-item {\n",
       "  /* draw centered vertical line to link estimators */\n",
       "  background-image: linear-gradient(var(--sklearn-color-text-on-default-background), var(--sklearn-color-text-on-default-background));\n",
       "  background-size: 2px 100%;\n",
       "  background-repeat: no-repeat;\n",
       "  background-position: center center;\n",
       "}\n",
       "\n",
       "/* Parallel-specific style estimator block */\n",
       "\n",
       "#sk-container-id-1 div.sk-parallel-item::after {\n",
       "  content: \"\";\n",
       "  width: 100%;\n",
       "  border-bottom: 2px solid var(--sklearn-color-text-on-default-background);\n",
       "  flex-grow: 1;\n",
       "}\n",
       "\n",
       "#sk-container-id-1 div.sk-parallel {\n",
       "  display: flex;\n",
       "  align-items: stretch;\n",
       "  justify-content: center;\n",
       "  background-color: var(--sklearn-color-background);\n",
       "  position: relative;\n",
       "}\n",
       "\n",
       "#sk-container-id-1 div.sk-parallel-item {\n",
       "  display: flex;\n",
       "  flex-direction: column;\n",
       "}\n",
       "\n",
       "#sk-container-id-1 div.sk-parallel-item:first-child::after {\n",
       "  align-self: flex-end;\n",
       "  width: 50%;\n",
       "}\n",
       "\n",
       "#sk-container-id-1 div.sk-parallel-item:last-child::after {\n",
       "  align-self: flex-start;\n",
       "  width: 50%;\n",
       "}\n",
       "\n",
       "#sk-container-id-1 div.sk-parallel-item:only-child::after {\n",
       "  width: 0;\n",
       "}\n",
       "\n",
       "/* Serial-specific style estimator block */\n",
       "\n",
       "#sk-container-id-1 div.sk-serial {\n",
       "  display: flex;\n",
       "  flex-direction: column;\n",
       "  align-items: center;\n",
       "  background-color: var(--sklearn-color-background);\n",
       "  padding-right: 1em;\n",
       "  padding-left: 1em;\n",
       "}\n",
       "\n",
       "\n",
       "/* Toggleable style: style used for estimator/Pipeline/ColumnTransformer box that is\n",
       "clickable and can be expanded/collapsed.\n",
       "- Pipeline and ColumnTransformer use this feature and define the default style\n",
       "- Estimators will overwrite some part of the style using the `sk-estimator` class\n",
       "*/\n",
       "\n",
       "/* Pipeline and ColumnTransformer style (default) */\n",
       "\n",
       "#sk-container-id-1 div.sk-toggleable {\n",
       "  /* Default theme specific background. It is overwritten whether we have a\n",
       "  specific estimator or a Pipeline/ColumnTransformer */\n",
       "  background-color: var(--sklearn-color-background);\n",
       "}\n",
       "\n",
       "/* Toggleable label */\n",
       "#sk-container-id-1 label.sk-toggleable__label {\n",
       "  cursor: pointer;\n",
       "  display: block;\n",
       "  width: 100%;\n",
       "  margin-bottom: 0;\n",
       "  padding: 0.5em;\n",
       "  box-sizing: border-box;\n",
       "  text-align: center;\n",
       "}\n",
       "\n",
       "#sk-container-id-1 label.sk-toggleable__label-arrow:before {\n",
       "  /* Arrow on the left of the label */\n",
       "  content: \"▸\";\n",
       "  float: left;\n",
       "  margin-right: 0.25em;\n",
       "  color: var(--sklearn-color-icon);\n",
       "}\n",
       "\n",
       "#sk-container-id-1 label.sk-toggleable__label-arrow:hover:before {\n",
       "  color: var(--sklearn-color-text);\n",
       "}\n",
       "\n",
       "/* Toggleable content - dropdown */\n",
       "\n",
       "#sk-container-id-1 div.sk-toggleable__content {\n",
       "  max-height: 0;\n",
       "  max-width: 0;\n",
       "  overflow: hidden;\n",
       "  text-align: left;\n",
       "  /* unfitted */\n",
       "  background-color: var(--sklearn-color-unfitted-level-0);\n",
       "}\n",
       "\n",
       "#sk-container-id-1 div.sk-toggleable__content.fitted {\n",
       "  /* fitted */\n",
       "  background-color: var(--sklearn-color-fitted-level-0);\n",
       "}\n",
       "\n",
       "#sk-container-id-1 div.sk-toggleable__content pre {\n",
       "  margin: 0.2em;\n",
       "  border-radius: 0.25em;\n",
       "  color: var(--sklearn-color-text);\n",
       "  /* unfitted */\n",
       "  background-color: var(--sklearn-color-unfitted-level-0);\n",
       "}\n",
       "\n",
       "#sk-container-id-1 div.sk-toggleable__content.fitted pre {\n",
       "  /* unfitted */\n",
       "  background-color: var(--sklearn-color-fitted-level-0);\n",
       "}\n",
       "\n",
       "#sk-container-id-1 input.sk-toggleable__control:checked~div.sk-toggleable__content {\n",
       "  /* Expand drop-down */\n",
       "  max-height: 200px;\n",
       "  max-width: 100%;\n",
       "  overflow: auto;\n",
       "}\n",
       "\n",
       "#sk-container-id-1 input.sk-toggleable__control:checked~label.sk-toggleable__label-arrow:before {\n",
       "  content: \"▾\";\n",
       "}\n",
       "\n",
       "/* Pipeline/ColumnTransformer-specific style */\n",
       "\n",
       "#sk-container-id-1 div.sk-label input.sk-toggleable__control:checked~label.sk-toggleable__label {\n",
       "  color: var(--sklearn-color-text);\n",
       "  background-color: var(--sklearn-color-unfitted-level-2);\n",
       "}\n",
       "\n",
       "#sk-container-id-1 div.sk-label.fitted input.sk-toggleable__control:checked~label.sk-toggleable__label {\n",
       "  background-color: var(--sklearn-color-fitted-level-2);\n",
       "}\n",
       "\n",
       "/* Estimator-specific style */\n",
       "\n",
       "/* Colorize estimator box */\n",
       "#sk-container-id-1 div.sk-estimator input.sk-toggleable__control:checked~label.sk-toggleable__label {\n",
       "  /* unfitted */\n",
       "  background-color: var(--sklearn-color-unfitted-level-2);\n",
       "}\n",
       "\n",
       "#sk-container-id-1 div.sk-estimator.fitted input.sk-toggleable__control:checked~label.sk-toggleable__label {\n",
       "  /* fitted */\n",
       "  background-color: var(--sklearn-color-fitted-level-2);\n",
       "}\n",
       "\n",
       "#sk-container-id-1 div.sk-label label.sk-toggleable__label,\n",
       "#sk-container-id-1 div.sk-label label {\n",
       "  /* The background is the default theme color */\n",
       "  color: var(--sklearn-color-text-on-default-background);\n",
       "}\n",
       "\n",
       "/* On hover, darken the color of the background */\n",
       "#sk-container-id-1 div.sk-label:hover label.sk-toggleable__label {\n",
       "  color: var(--sklearn-color-text);\n",
       "  background-color: var(--sklearn-color-unfitted-level-2);\n",
       "}\n",
       "\n",
       "/* Label box, darken color on hover, fitted */\n",
       "#sk-container-id-1 div.sk-label.fitted:hover label.sk-toggleable__label.fitted {\n",
       "  color: var(--sklearn-color-text);\n",
       "  background-color: var(--sklearn-color-fitted-level-2);\n",
       "}\n",
       "\n",
       "/* Estimator label */\n",
       "\n",
       "#sk-container-id-1 div.sk-label label {\n",
       "  font-family: monospace;\n",
       "  font-weight: bold;\n",
       "  display: inline-block;\n",
       "  line-height: 1.2em;\n",
       "}\n",
       "\n",
       "#sk-container-id-1 div.sk-label-container {\n",
       "  text-align: center;\n",
       "}\n",
       "\n",
       "/* Estimator-specific */\n",
       "#sk-container-id-1 div.sk-estimator {\n",
       "  font-family: monospace;\n",
       "  border: 1px dotted var(--sklearn-color-border-box);\n",
       "  border-radius: 0.25em;\n",
       "  box-sizing: border-box;\n",
       "  margin-bottom: 0.5em;\n",
       "  /* unfitted */\n",
       "  background-color: var(--sklearn-color-unfitted-level-0);\n",
       "}\n",
       "\n",
       "#sk-container-id-1 div.sk-estimator.fitted {\n",
       "  /* fitted */\n",
       "  background-color: var(--sklearn-color-fitted-level-0);\n",
       "}\n",
       "\n",
       "/* on hover */\n",
       "#sk-container-id-1 div.sk-estimator:hover {\n",
       "  /* unfitted */\n",
       "  background-color: var(--sklearn-color-unfitted-level-2);\n",
       "}\n",
       "\n",
       "#sk-container-id-1 div.sk-estimator.fitted:hover {\n",
       "  /* fitted */\n",
       "  background-color: var(--sklearn-color-fitted-level-2);\n",
       "}\n",
       "\n",
       "/* Specification for estimator info (e.g. \"i\" and \"?\") */\n",
       "\n",
       "/* Common style for \"i\" and \"?\" */\n",
       "\n",
       ".sk-estimator-doc-link,\n",
       "a:link.sk-estimator-doc-link,\n",
       "a:visited.sk-estimator-doc-link {\n",
       "  float: right;\n",
       "  font-size: smaller;\n",
       "  line-height: 1em;\n",
       "  font-family: monospace;\n",
       "  background-color: var(--sklearn-color-background);\n",
       "  border-radius: 1em;\n",
       "  height: 1em;\n",
       "  width: 1em;\n",
       "  text-decoration: none !important;\n",
       "  margin-left: 1ex;\n",
       "  /* unfitted */\n",
       "  border: var(--sklearn-color-unfitted-level-1) 1pt solid;\n",
       "  color: var(--sklearn-color-unfitted-level-1);\n",
       "}\n",
       "\n",
       ".sk-estimator-doc-link.fitted,\n",
       "a:link.sk-estimator-doc-link.fitted,\n",
       "a:visited.sk-estimator-doc-link.fitted {\n",
       "  /* fitted */\n",
       "  border: var(--sklearn-color-fitted-level-1) 1pt solid;\n",
       "  color: var(--sklearn-color-fitted-level-1);\n",
       "}\n",
       "\n",
       "/* On hover */\n",
       "div.sk-estimator:hover .sk-estimator-doc-link:hover,\n",
       ".sk-estimator-doc-link:hover,\n",
       "div.sk-label-container:hover .sk-estimator-doc-link:hover,\n",
       ".sk-estimator-doc-link:hover {\n",
       "  /* unfitted */\n",
       "  background-color: var(--sklearn-color-unfitted-level-3);\n",
       "  color: var(--sklearn-color-background);\n",
       "  text-decoration: none;\n",
       "}\n",
       "\n",
       "div.sk-estimator.fitted:hover .sk-estimator-doc-link.fitted:hover,\n",
       ".sk-estimator-doc-link.fitted:hover,\n",
       "div.sk-label-container:hover .sk-estimator-doc-link.fitted:hover,\n",
       ".sk-estimator-doc-link.fitted:hover {\n",
       "  /* fitted */\n",
       "  background-color: var(--sklearn-color-fitted-level-3);\n",
       "  color: var(--sklearn-color-background);\n",
       "  text-decoration: none;\n",
       "}\n",
       "\n",
       "/* Span, style for the box shown on hovering the info icon */\n",
       ".sk-estimator-doc-link span {\n",
       "  display: none;\n",
       "  z-index: 9999;\n",
       "  position: relative;\n",
       "  font-weight: normal;\n",
       "  right: .2ex;\n",
       "  padding: .5ex;\n",
       "  margin: .5ex;\n",
       "  width: min-content;\n",
       "  min-width: 20ex;\n",
       "  max-width: 50ex;\n",
       "  color: var(--sklearn-color-text);\n",
       "  box-shadow: 2pt 2pt 4pt #999;\n",
       "  /* unfitted */\n",
       "  background: var(--sklearn-color-unfitted-level-0);\n",
       "  border: .5pt solid var(--sklearn-color-unfitted-level-3);\n",
       "}\n",
       "\n",
       ".sk-estimator-doc-link.fitted span {\n",
       "  /* fitted */\n",
       "  background: var(--sklearn-color-fitted-level-0);\n",
       "  border: var(--sklearn-color-fitted-level-3);\n",
       "}\n",
       "\n",
       ".sk-estimator-doc-link:hover span {\n",
       "  display: block;\n",
       "}\n",
       "\n",
       "/* \"?\"-specific style due to the `<a>` HTML tag */\n",
       "\n",
       "#sk-container-id-1 a.estimator_doc_link {\n",
       "  float: right;\n",
       "  font-size: 1rem;\n",
       "  line-height: 1em;\n",
       "  font-family: monospace;\n",
       "  background-color: var(--sklearn-color-background);\n",
       "  border-radius: 1rem;\n",
       "  height: 1rem;\n",
       "  width: 1rem;\n",
       "  text-decoration: none;\n",
       "  /* unfitted */\n",
       "  color: var(--sklearn-color-unfitted-level-1);\n",
       "  border: var(--sklearn-color-unfitted-level-1) 1pt solid;\n",
       "}\n",
       "\n",
       "#sk-container-id-1 a.estimator_doc_link.fitted {\n",
       "  /* fitted */\n",
       "  border: var(--sklearn-color-fitted-level-1) 1pt solid;\n",
       "  color: var(--sklearn-color-fitted-level-1);\n",
       "}\n",
       "\n",
       "/* On hover */\n",
       "#sk-container-id-1 a.estimator_doc_link:hover {\n",
       "  /* unfitted */\n",
       "  background-color: var(--sklearn-color-unfitted-level-3);\n",
       "  color: var(--sklearn-color-background);\n",
       "  text-decoration: none;\n",
       "}\n",
       "\n",
       "#sk-container-id-1 a.estimator_doc_link.fitted:hover {\n",
       "  /* fitted */\n",
       "  background-color: var(--sklearn-color-fitted-level-3);\n",
       "}\n",
       "</style><div id=\"sk-container-id-1\" class=\"sk-top-container\"><div class=\"sk-text-repr-fallback\"><pre>LogisticRegression(C=1, class_weight={0: 1, 1: 99}, random_state=1,\n",
       "                   solver=&#x27;liblinear&#x27;)</pre><b>In a Jupyter environment, please rerun this cell to show the HTML representation or trust the notebook. <br />On GitHub, the HTML representation is unable to render, please try loading this page with nbviewer.org.</b></div><div class=\"sk-container\" hidden><div class=\"sk-item\"><div class=\"sk-estimator fitted sk-toggleable\"><input class=\"sk-toggleable__control sk-hidden--visually\" id=\"sk-estimator-id-1\" type=\"checkbox\" checked><label for=\"sk-estimator-id-1\" class=\"sk-toggleable__label fitted sk-toggleable__label-arrow fitted\">&nbsp;&nbsp;LogisticRegression<a class=\"sk-estimator-doc-link fitted\" rel=\"noreferrer\" target=\"_blank\" href=\"https://scikit-learn.org/1.5/modules/generated/sklearn.linear_model.LogisticRegression.html\">?<span>Documentation for LogisticRegression</span></a><span class=\"sk-estimator-doc-link fitted\">i<span>Fitted</span></span></label><div class=\"sk-toggleable__content fitted\"><pre>LogisticRegression(C=1, class_weight={0: 1, 1: 99}, random_state=1,\n",
       "                   solver=&#x27;liblinear&#x27;)</pre></div> </div></div></div></div>"
      ]
     },
     "execution_count": 83,
     "metadata": {},
     "output_type": "execute_result"
    }
   ],
   "execution_count": 83
  },
  {
   "cell_type": "code",
   "metadata": {
    "ExecuteTime": {
     "end_time": "2024-10-21T15:51:24.918218Z",
     "start_time": "2024-10-21T15:51:24.908074Z"
    }
   },
   "source": [
    "np.random.seed(1)\n",
    "scan_X_new = np.random.randint(0, 3, (4, 6))\n",
    "scan_X_new"
   ],
   "outputs": [
    {
     "data": {
      "text/plain": [
       "array([[1, 0, 0, 1, 1, 0],\n",
       "       [0, 1, 0, 1, 0, 2],\n",
       "       [1, 2, 0, 2, 1, 2],\n",
       "       [0, 0, 2, 0, 1, 2]])"
      ]
     },
     "execution_count": 84,
     "metadata": {},
     "output_type": "execute_result"
    }
   ],
   "execution_count": 84
  },
  {
   "cell_type": "code",
   "metadata": {
    "ExecuteTime": {
     "end_time": "2024-10-21T15:51:27.881989Z",
     "start_time": "2024-10-21T15:51:27.870850Z"
    }
   },
   "source": [
    "scan_y_new_score = best_model.predict_proba(scan_X_new)[:, 1]"
   ],
   "outputs": [
    {
     "name": "stderr",
     "output_type": "stream",
     "text": [
      "C:\\Users\\mhasa\\PycharmProjects\\baseProject\\.venv\\Lib\\site-packages\\sklearn\\base.py:493: UserWarning: X does not have valid feature names, but LogisticRegression was fitted with feature names\n",
      "  warnings.warn(\n"
     ]
    }
   ],
   "execution_count": 85
  },
  {
   "cell_type": "code",
   "metadata": {
    "ExecuteTime": {
     "end_time": "2024-10-21T15:51:33.252155Z",
     "start_time": "2024-10-21T15:51:33.246630Z"
    }
   },
   "source": [
    "(scan_y_new_score > 0.55) * 1"
   ],
   "outputs": [
    {
     "data": {
      "text/plain": [
       "array([1, 0, 1, 0])"
      ]
     },
     "execution_count": 86,
     "metadata": {},
     "output_type": "execute_result"
    }
   ],
   "execution_count": 86
  },
  {
   "cell_type": "markdown",
   "metadata": {},
   "source": [
    "## 19.7 Q&A: Should I use an ROC curve or a precision-recall curve?"
   ]
  },
  {
   "metadata": {},
   "cell_type": "markdown",
   "source": [
    "One alternative to ROC curves that you might have heard about is the precision-recall curve. In this lesson, I'll explain the precision-recall curve and then compare it to the ROC curve.\n",
    "\n",
    "To start, I want to look at the confusion matrix for our best model from earlier in the chapter. I'm going to fit the model on X_train and y_train, and then generate class predictions and predicted probabilities for X_test.\n",
    "\n",
    "Then, we can create the confusion matrix by comparing the true values with the predicted values. There are two rates that we'll calculate from the confusion matrix this time.\n",
    "\n",
    "The first rate is recall, which is just another name for True Positive Rate. It answers the question: When cancer is present, how often is that correctly predicted? We divide the True Positives by the entire bottom row, and we get 95%.\n",
    "\n",
    "The second rate we'll calculate is called precision. It answers the question: When cancer is predicted, how often is that prediction correct? We divide the True Positives by the entire right column, and we get 9%. Notice that unlike all of our other calculations, the denominator for precision is a column total rather than a row total.\n",
    "\n",
    "Both precision and recall are listed in the classification report. We just calculated the precision and recall for class 1, as you can see here.\n",
    "\n",
    "Now that we understand precision and recall, let's plot the precision-recall curve using the plot_precision_recall_curve function, which was introduced in version 0.22. It uses a similar API to plot_roc_curve in that we pass it the fitted model, X_test, and y_test, though the API will be changing in scikit-learn 1.0.\n",
    "\n",
    "So what are we looking at? The precision-recall curve is a plot of precision (on the y-axis) versus recall (on the x-axis) for all possible decision thresholds. This is very similar to an ROC curve in that it can help you to tune the decision threshold of your model based on your priorities.\n",
    "\n",
    "And just like you can summarize an ROC curve by calculating the area underneath it, you can summarize a precision-recall curve by calculating the area underneath it. There are multiple ways to do this calculation, but the metric used in scikit-learn is called average precision.\n",
    "\n",
    "To calculate average precision, we import it and pass the true values and the predicted probabilities, and it outputs an average precision of 0.55.\n",
    "\n",
    "To put this in context, a perfect model would achieve a score of 1.0, whereas a completely uninformed model would achieve a score equivalent to the fraction of positive samples, which in this case is about 0.02.\n",
    "\n",
    "As a reminder, the AUC of an uninformed model is 0.5, which means that AUC and average precision usually have very different baseline scores for the same problem.\n",
    "\n",
    "In this chapter, I recommended using AUC as your primary evaluation metric in cases of class imbalance. However, there are many people who recommend using average precision instead. Which metric should you use?\n",
    "\n",
    "First, let me share the most common critique of AUC, and then I'll share my response. Looking at our confusion matrix might be helpful to you during this discussion, so I'll share it now.\n",
    "\n",
    "Let's quickly run through the rates again:\n",
    "\n",
    "True Positive Rate (or recall) is 62 out of 65, which is 95%.\n",
    "\n",
    "False Positive Rate is 649 out of 2731, which is 24%.\n",
    "\n",
    "Precision is 62 out of 711, which is 9%.\n",
    "\n",
    "With that in mind, I'll do my best to summarize the most common critique of AUC in cases of class imbalance, which is as follows:\n",
    "\n",
    "In cases of severe class imbalance, there will be a very large number of True Negatives. As such, the False Positive Rate will be artificially low, and thus the AUC will be artificially high, and so AUC will no longer provide a realistic estimate of the model's performance.\n",
    "\n",
    "As an example of this, imagine that we increased the number of True Negatives from 2082 to 200000 but left all the other values the same, as shown here. The False Positive Rate would drop from 24% to 0.3%, and the AUC would increase (though we can't say by how much, since you can't calculate AUC from a confusion matrix). Thus the model would look great based on the AUC, even though the model's precision is still only 9%.\n",
    "\n",
    "The solution, according to this critique, is to use the precision-recall curve and average precision, since it will provide a more realistic estimate of the model's performance by ignoring the number of True Negatives.\n",
    "\n",
    "I have three responses to this critique.\n",
    "\n",
    "My first response is that neither AUC nor average precision is inherently better, rather it depends on what you're trying to measure:\n",
    "\n",
    "AUC focuses on both classes. In the context of this problem, AUC measures how skillfully the model finds cancer when it's present, balanced against how skillfully the model doesn't find cancer when it's not present.\n",
    "\n",
    "Average precision, on the other hand, focuses only on the positive class. Because both precision and recall ignore the number of True Negatives, the average precision will not change regardless of whether there are two thousand or two million True Negatives.\n",
    "\n",
    "Ultimately, the choice between AUC and average precision is as follows:\n",
    "\n",
    "If you're interested in a model's performance across both classes, then AUC is the better choice.\n",
    "\n",
    "If you're only interested in how well the model locates the positive class, then average precision is the better choice.\n",
    "\n",
    "In our particular case of detecting cancer, my judgment is that the performance on both classes is relevant, and thus AUC is the better choice.\n",
    "\n",
    "My second response to this critique is that in cases of severe class imbalance, even if you think the False Positive Rate is artificially low, which makes the model look really good, it's just as fair to call the precision artificially low, which makes the model look really bad.\n",
    "\n",
    "For example, I would judge the model shown in this confusion matrix to be excellent:\n",
    "\n",
    "If someone doesn't actually have cancer, they only have a 3 in 1000 chance of being told that they do.\n",
    "\n",
    "And if someone does have cancer, they only have a 5 in 100 chance of being told that they don't.\n",
    "\n",
    "Despite these characteristics, the model still has a precision of just 9%. And even if we moved all 3 False Negatives to the True Positive box, resulting in a True Positive Rate of 100%, the precision would still be 9%, making it sound like a very poor model.\n",
    "\n",
    "My third response to this critique is that the actual AUC score is irrelevant, and thus it doesn't matter if the AUC is artificially high.\n",
    "\n",
    "The only reason we're using any evaluation metric during model tuning is that we need some relevant metric to maximize in order to choose between models. AUC fits this purpose well because it measures how skillfully the model is separating the classes. Once you've maximized AUC, then you can change the decision threshold to balance the True Positive Rate and False Positive Rate according to your priorities. But the AUC score itself is never your business objective, so it doesn't matter if the AUC is artificially high.\n",
    "\n",
    "The bottom line is as follows:\n",
    "\n",
    "Both AUC and average precision are reasonable metrics to maximize even in cases of class imbalance.\n",
    "\n",
    "Neither metric is a perfect representation of a model's performance.\n",
    "\n",
    "Choose AUC if you're interested in the model's performance across both classes, and choose average precision if you're only interested in how well the model locates the positive class."
   ]
  },
  {
   "cell_type": "code",
   "metadata": {
    "ExecuteTime": {
     "end_time": "2024-10-21T15:51:58.623861Z",
     "start_time": "2024-10-21T15:51:58.586310Z"
    }
   },
   "source": [
    "best_model.fit(X_train, y_train)\n",
    "y_pred = best_model.predict(X_test)\n",
    "y_score = best_model.predict_proba(X_test)[:, 1]"
   ],
   "outputs": [],
   "execution_count": 87
  },
  {
   "cell_type": "code",
   "metadata": {
    "ExecuteTime": {
     "end_time": "2024-10-21T15:52:00.443814Z",
     "start_time": "2024-10-21T15:52:00.433117Z"
    }
   },
   "source": [
    "confusion_matrix(y_test, y_pred)"
   ],
   "outputs": [
    {
     "data": {
      "text/plain": [
       "array([[2081,  650],\n",
       "       [   3,   62]], dtype=int64)"
      ]
     },
     "execution_count": 88,
     "metadata": {},
     "output_type": "execute_result"
    }
   ],
   "execution_count": 88
  },
  {
   "cell_type": "code",
   "metadata": {
    "ExecuteTime": {
     "end_time": "2024-10-21T15:52:03.127372Z",
     "start_time": "2024-10-21T15:52:03.120924Z"
    }
   },
   "source": [
    "62 / (3 + 62)"
   ],
   "outputs": [
    {
     "data": {
      "text/plain": [
       "0.9538461538461539"
      ]
     },
     "execution_count": 89,
     "metadata": {},
     "output_type": "execute_result"
    }
   ],
   "execution_count": 89
  },
  {
   "cell_type": "code",
   "metadata": {
    "ExecuteTime": {
     "end_time": "2024-10-21T15:52:04.559257Z",
     "start_time": "2024-10-21T15:52:04.553868Z"
    }
   },
   "source": [
    "62 / (649 + 62)"
   ],
   "outputs": [
    {
     "data": {
      "text/plain": [
       "0.08720112517580872"
      ]
     },
     "execution_count": 90,
     "metadata": {},
     "output_type": "execute_result"
    }
   ],
   "execution_count": 90
  },
  {
   "cell_type": "markdown",
   "metadata": {},
   "source": [
    "**Calculated rates:**\n",
    "\n",
    "- **Recall:** 0.95\n",
    "- **Precision:** 0.09"
   ]
  },
  {
   "cell_type": "code",
   "metadata": {
    "ExecuteTime": {
     "end_time": "2024-10-21T15:52:09.455964Z",
     "start_time": "2024-10-21T15:52:09.442807Z"
    }
   },
   "source": [
    "print(classification_report(y_test, y_pred))"
   ],
   "outputs": [
    {
     "name": "stdout",
     "output_type": "stream",
     "text": [
      "              precision    recall  f1-score   support\n",
      "\n",
      "           0       1.00      0.76      0.86      2731\n",
      "           1       0.09      0.95      0.16        65\n",
      "\n",
      "    accuracy                           0.77      2796\n",
      "   macro avg       0.54      0.86      0.51      2796\n",
      "weighted avg       0.98      0.77      0.85      2796\n",
      "\n"
     ]
    }
   ],
   "execution_count": 91
  },
  {
   "cell_type": "code",
   "metadata": {
    "scrolled": true,
    "ExecuteTime": {
     "end_time": "2024-10-21T15:52:34.554840Z",
     "start_time": "2024-10-21T15:52:34.410865Z"
    }
   },
   "source": [
    "from sklearn.metrics import PrecisionRecallDisplay\n",
    "\n",
    "disp = PrecisionRecallDisplay.from_estimator(best_model, X_test, y_test)"
   ],
   "outputs": [
    {
     "data": {
      "text/plain": [
       "<Figure size 640x480 with 1 Axes>"
      ],
      "image/png": "[encoded data removed]"
     },
     "metadata": {},
     "output_type": "display_data"
    }
   ],
   "execution_count": 92
  },
  {
   "cell_type": "markdown",
   "metadata": {},
   "source": [
    "**Interpreting the precision-recall curve:**\n",
    "\n",
    "- Plot of precision vs recall for all possible decision thresholds\n",
    "- Move to another point on the curve by changing the threshold\n",
    "- Average precision is the percentage of the box underneath the curve"
   ]
  },
  {
   "cell_type": "code",
   "metadata": {
    "ExecuteTime": {
     "end_time": "2024-10-21T15:52:41.687180Z",
     "start_time": "2024-10-21T15:52:41.678293Z"
    }
   },
   "source": [
    "from sklearn.metrics import average_precision_score\n",
    "\n",
    "average_precision_score(y_test, y_score)"
   ],
   "outputs": [
    {
     "data": {
      "text/plain": [
       "0.5475027895812594"
      ]
     },
     "execution_count": 93,
     "metadata": {},
     "output_type": "execute_result"
    }
   ],
   "execution_count": 93
  },
  {
   "cell_type": "markdown",
   "metadata": {},
   "source": [
    "**Precision-recall scores:**\n",
    "\n",
    "- **Perfect model:** 1.0\n",
    "- **Uninformed model:** 0.02 in this case (fraction of positive samples)"
   ]
  },
  {
   "cell_type": "code",
   "metadata": {
    "ExecuteTime": {
     "end_time": "2024-10-21T15:52:48.015039Z",
     "start_time": "2024-10-21T15:52:48.007815Z"
    }
   },
   "source": [
    "confusion_matrix(y_test, y_pred)"
   ],
   "outputs": [
    {
     "data": {
      "text/plain": [
       "array([[2081,  650],\n",
       "       [   3,   62]], dtype=int64)"
      ]
     },
     "execution_count": 94,
     "metadata": {},
     "output_type": "execute_result"
    }
   ],
   "execution_count": 94
  },
  {
   "cell_type": "markdown",
   "metadata": {},
   "source": [
    "**Calculated rates:**\n",
    "\n",
    "- **TPR / Recall:** 0.95\n",
    "- **FPR:** 0.24\n",
    "- **Precision:** 0.09"
   ]
  },
  {
   "cell_type": "markdown",
   "metadata": {},
   "source": [
    "**Critique of AUC in cases of class imbalance:**\n",
    "\n",
    "- **Results of severe class imbalance:**\n",
    "  - Very large number of True Negatives\n",
    "  - FPR will be artificially low\n",
    "  - AUC will be artificially high and is no longer realistic\n",
    "- **Example:**\n",
    "  - Increase True Negatives from 2082 to 200000\n",
    "  - FPR would drop from 0.24 to 0.003\n",
    "  - AUC would increase\n",
    "  - Precision would still be 0.09\n",
    "- **Proposed solution:**\n",
    "  - Use precision-recall curve and average precision\n",
    "  - More realistic because it ignores the number of True Negatives"
   ]
  },
  {
   "cell_type": "markdown",
   "metadata": {},
   "source": [
    "&nbsp; | Predicted 0 | Predicted 1\n",
    ":--- | :---: | :---:\n",
    "**True label 0** | 200000 | 649\n",
    "**True label 1** | 3 | 62"
   ]
  },
  {
   "cell_type": "markdown",
   "metadata": {},
   "source": [
    "**My responses to this crititque:**\n",
    "\n",
    "- **Neither metric is inherently better:**\n",
    "  - AUC focuses on both classes\n",
    "  - Average precision focuses on positive class only\n",
    "  - In this case: both classes are relevant\n",
    "- **FPR and precision are both artificially low:**\n",
    "  - Excellent model can still have a low precision\n",
    "  - Example: Model can have FPR of 0.003 and TPR of 1.0, but precision of 0.09\n",
    "- **AUC score itself is irrelevant:**\n",
    "  - Our goal is to choose between models\n",
    "  - Maximizing AUC helps you choose the most skillful model\n",
    "  - Balance TPR and FPR based on your priorities\n",
    "  - AUC score itself is never your business objective"
   ]
  },
  {
   "cell_type": "markdown",
   "metadata": {},
   "source": [
    "**Summary of AUC vs average precision:**\n",
    "\n",
    "- Both are reasonable metrics to maximize (even with class imbalance)\n",
    "- Neither metric perfectly captures model performance\n",
    "- AUC focuses on both classes, average precision focuses on positive class only"
   ]
  },
  {
   "cell_type": "markdown",
   "metadata": {},
   "source": [
    "## 19.8 Q&A: Can I use a different metric such as F1 score?"
   ]
  },
  {
   "metadata": {},
   "cell_type": "markdown",
   "source": [
    "There are many other metrics that are popular to use in cases of class imbalance, such as the F1 score or F-beta score, balanced accuracy, Cohen's kappa, and Matthews correlation coefficient.\n",
    "\n",
    "However, all of these metrics require you to choose a decision threshold, whereas AUC and average precision capture the performance of a classifier across all possible thresholds. Thus by using AUC or average precision as your evaluation metric, you can first maximize the overall performance of your classifier during model tuning, and then you can alter the decision threshold to match your priorities.\n",
    "\n",
    "If you were instead trying to maximize F1 score (for example) during model tuning, you'll be optimizing the model's hyperparameters based on the default decision threshold of 0.5, but that threshold might be far from optimal for your given problem. In other words, you might miss out on a more optimal model because you were tuning it based on a non-optimal decision threshold.\n",
    "\n",
    "If you do want to use F1 score (or any of these other metrics), I would recommend using them only to help you choose between different decision thresholds, after your model has already been optimized for either AUC or average precision."
   ]
  },
  {
   "cell_type": "markdown",
   "metadata": {},
   "source": [
    "**Alternative metrics in cases of class imbalance:**\n",
    "\n",
    "- F1 score or F-beta score\n",
    "- Balanced accuracy\n",
    "- Cohen's kappa\n",
    "- Matthews correlation coefficient"
   ]
  },
  {
   "cell_type": "markdown",
   "metadata": {},
   "source": [
    "**Advantage of AUC and average precision:**\n",
    "\n",
    "- They don't require you to choose a decision threshold\n",
    "- You can first maximize classifier performance, then alter the decision threshold"
   ]
  },
  {
   "cell_type": "markdown",
   "metadata": {},
   "source": [
    "**Disadvantage of F1 score (and others) during model tuning:**\n",
    "\n",
    "- You're optimizing hyperparameters based on a decision threshold of 0.5\n",
    "- An alternative decision threshold might lead to a more optimal model"
   ]
  },
  {
   "cell_type": "markdown",
   "metadata": {},
   "source": [
    "## 19.9 Q&A: Should I use resampling to fix class imbalance?"
   ]
  },
  {
   "metadata": {},
   "cell_type": "markdown",
   "source": [
    "In cases of class imbalance, there is a set of techniques collectively known as \"resampling\" that is often used. Resampling refers to any technique that transforms the training data in order to achieve more balance between the classes. In other words, resampling attempts to fix the class imbalance at the dataset level rather than working around it, which is what we've done in this chapter.\n",
    "\n",
    "Here are the two most common resampling approaches:\n",
    "\n",
    "Undersampling (or downsampling) is the process of deleting samples from the majority class.\n",
    "\n",
    "Oversampling (or upsampling) is the process of creating new samples from the minority class, either by duplicating existing samples or by simulating new samples. One popular oversampling method that simulates new samples is SMOTE.\n",
    "\n",
    "Both of these approaches can be done in either a directed, strategic fashion or in a random fashion. Or they can be done together, in which you both undersample and oversample.\n",
    "\n",
    "Regardless of the specific approach, keep in mind that the act of resampling risks deleting important samples and/or adding meaningless new samples.\n",
    "\n",
    "All of that being said, is resampling actually helpful? Experimental results show that resampling methods can be helpful, but are not always helpful. And while there are dozens of different resampling algorithms, no one algorithm works best across all datasets and models, meaning that it's hard to give practical advice for which one to use.\n",
    "\n",
    "If you decide to pursue resampling, keep in mind that it's not yet supported by scikit-learn, though it may eventually be available. In the meantime, you can use the imbalanced-learn library, which is supposed to be fully compatible with scikit-learn. Personally, I tend not to use this approach in order to avoid adding additional complexity or project dependencies.\n",
    "\n",
    "Here are two guidelines for the proper use of resampling:\n",
    "\n",
    "First, you should treat resampling like any other preprocessing technique. Namely, it should be included in a Pipeline in order to avoid data leakage.\n",
    "\n",
    "Second, the resampling technique should only ever be applied to training data, and not testing data. The model should always be tested on the natural, imbalanced data so that it can output a realistic estimate of model performance."
   ]
  },
  {
   "cell_type": "markdown",
   "metadata": {},
   "source": [
    "**What is resampling?**\n",
    "\n",
    "- Transforming the training data in order to balance the classes\n",
    "- Fixes class imbalance at the dataset level"
   ]
  },
  {
   "cell_type": "markdown",
   "metadata": {},
   "source": [
    "**Common resampling approaches:**\n",
    "\n",
    "- **Undersampling (downsampling):**\n",
    "  - Deleting samples from the majority class\n",
    "  - Risk of deleting important samples\n",
    "- **Oversampling (upsampling):**\n",
    "  - Creating new samples of the minority class\n",
    "  - Done through duplication or simulation (SMOTE)\n",
    "  - Risk of adding meaningless new samples"
   ]
  },
  {
   "cell_type": "markdown",
   "metadata": {},
   "source": [
    "**Is resampling helpful?**\n",
    "\n",
    "- Sometimes helpful, sometimes not\n",
    "- No one algorithm works best across all datasets and models"
   ]
  },
  {
   "cell_type": "markdown",
   "metadata": {},
   "source": [
    "**How to implement resampling:**\n",
    "\n",
    "- Not yet supported by scikit-learn\n",
    "- Use imbalanced-learn library (compatible with scikit-learn)"
   ]
  },
  {
   "cell_type": "markdown",
   "metadata": {},
   "source": [
    "**Advice for proper resampling:**\n",
    "\n",
    "- Treat like any other preprocessing technique\n",
    "  - Include in a Pipeline to avoid data leakage\n",
    "- Only apply to training data\n",
    "  - Model should be tested on natural, imbalanced data"
   ]
  },
  {
   "cell_type": "markdown",
   "metadata": {},
   "source": [
    "# Chapter 20: Going further"
   ]
  },
  {
   "cell_type": "markdown",
   "metadata": {},
   "source": [
    "## 20.1 Q&A: How do I read the scikit-learn documentation?"
   ]
  },
  {
   "metadata": {},
   "cell_type": "markdown",
   "source": [
    "In order to become truly proficient with scikit-learn and go beyond what I've covered in the course, you need to be able to read the documentation. In this lesson, I'm going to walk through the five main pages and page types that you need to be familiar with.\n",
    "\n",
    "The first page is the API Reference, which you can get to by clicking on API from the top navigation bar. The API Reference gives you a high-level view of everything available in scikit-learn. Namely, it lists all of the classes and functions, organized by module.\n",
    "\n",
    "For example, this is the compose module. There's a brief description of the module, a link to the relevant section of the User Guide, and descriptions of the two classes and two functions contained in the module. If we wanted to learn more about ColumnTransformer, we could click on it and be taken to the class documentation.\n",
    "\n",
    "The class documentation is the second type of page you need to be familiar with. It gives you a detailed view of a class, in this case the ColumnTransformer class. At the top is the class signature, which lists the parameters and their default values. Starting in version 0.23, everything after the asterisk needs to be passed as a keyword argument, also known as a named argument, rather than by position. There's also a link to the source code for the class.\n",
    "\n",
    "Next is the class description, a link to the relevant section of the User Guide, and sometimes the version in which the class was introduced. Next you'll see the same parameters from the class signature, except here it provides a detailed description of each parameter and the expected data type. Below the parameters are the attributes. As a reminder, attributes will end with an underscore if they are learned or estimated from the data during the fit step.\n",
    "\n",
    "Next are links to any related functions or classes, any important notes, and some simple usage examples. The next big section is a list of the methods. It starts with a description of each method, and below that you can see the parameters and return values for each method. Again, you can click on \"source\" to view the source code for any method. Finally, there are links to examples that use this class.\n",
    "\n",
    "Let's click back to the top of the page, and then click over to the User Guide for ColumnTransformer. The User Guide is the third type of page you need to be familiar with, and you'll know you're in the User Guide when you see the numbered sections. The User Guide is more like a tutorial, because it explains why you might want to use a particular class and advice for how to use that class properly. It often discusses related functions and classes, and includes additional usage examples.\n",
    "\n",
    "Let's go back to the class documentation for ColumnTransformer, click to the bottom, and click on an example. Examples are the fourth type of page you need to be familiar with. Examples vary in structure and length, but their distinguishing feature is that they demonstrate how to solve a particular problem from start to finish. You'll always see imports at the top, and buttons at the bottom to run the example online or download the example to your computer.\n",
    "\n",
    "Let's go back to the class documentation for ColumnTransformer one more time, click up to the top, then scroll to parameters. Sometimes in the documentation, you'll see highlighted terms that are not classes or functions, such as fit and transform in this case. If you click on it, you'll be taken to the Glossary, which is the fifth page you need to be familiar with. The Glossary defines almost all of the important terms used in the scikit-learn documentation. If you just want to browse through it, you can access it through the More menu in the top navigation bar.\n",
    "\n",
    "Let me now summarize the five pages and page types we walked through, and describe how I use them.\n",
    "\n",
    "The first page is the API reference. I go here when I want to see what classes or functions are in a particular module. For example, if I wanted to review all of the classes and functions that are available for preprocessing, the API reference is the fastest way to do this.\n",
    "\n",
    "The second page type is the class documentation. I go here any time I need to understand a particular class in-depth, especially all of its parameters and attributes.\n",
    "\n",
    "The third page type is the User Guide. I go here when I need more context about a particular class or function, or advice about how to use it properly.\n",
    "\n",
    "The fourth page type is Examples. I go here when I need to see a more complex usage example of a particular class, since the examples in the class documentation and User Guide are purposefully simple.\n",
    "\n",
    "The fifth page is the Glossary. I go here when I need to understand a particular term and it's not covered in the User Guide.\n",
    "\n",
    "If you're ever unsure where to start, you can click on User Guide in the top navigation bar and just start browsing the section that seems most relevant, or you can do a search in the search box."
   ]
  },
  {
   "cell_type": "markdown",
   "metadata": {},
   "source": [
    "**Key pages in the documentation:**\n",
    "\n",
    "- **API reference:** List of classes and functions in each module\n",
    "- **Class documentation:** Detailed view of a class\n",
    "- **User Guide:** Advice for proper usage of a class or function\n",
    "- **Examples:** More complex usage examples\n",
    "- **Glossary:** Definitions of important terms"
   ]
  },
  {
   "cell_type": "markdown",
   "metadata": {},
   "source": [
    "## 20.2 Q&A: How do I stay up-to-date with new scikit-learn features?"
   ]
  },
  {
   "metadata": {},
   "cell_type": "markdown",
   "source": [
    "After every major release of scikit-learn, I recommend reviewing the Release Highlights, which are linked from the top of the home page. This page summarizes a small subset of updates that the scikit-learn developers have judged to be especially important or exciting.\n",
    "\n",
    "I also recommend that you review the detailed release notes, which are linked from the Release Highlights and are also linked from the More menu under \"What's new\". This will give you the most comprehensive look at all of the new features, enhancements, and API changes. Even if you aren't upgrading right away, it can help you to decide whether to upgrade and warn you about future API changes so that you can start preparing your code now.\n",
    "\n",
    "Reading this page might seem like an overwhelming task given its length, but my recommendation is to skip past any modules that you never import and only read through the modules that you actually use.\n",
    "\n",
    "While reading about a particular change, you can click through to the class documentation for more details. If you still have questions after reading the class documentation, you can click on the number here to read through the GitHub pull request that introduced this feature or change. Often, the pull request will include a long conversation about the reasons for the change and why it's designed in a certain way. These kinds of details are not always captured in the documentation, and they can help you to build a more in-depth knowledge of scikit-learn."
   ]
  },
  {
   "cell_type": "markdown",
   "metadata": {},
   "source": [
    "**Pages to review after each release:**\n",
    "\n",
    "- **Release highlights:** Most important or exciting changes\n",
    "- **Detailed release notes:** All new features, enhancements, and API changes\n",
    "  - Only review the modules you use\n",
    "  - Read the class documentation for more details\n",
    "  - Read the pull request for further context"
   ]
  },
  {
   "cell_type": "markdown",
   "metadata": {},
   "source": [
    "## 20.3 Q&A: How do I improve my Machine Learning skills?"
   ]
  },
  {
   "metadata": {},
   "cell_type": "markdown",
   "source": [
    "If you want to get better at Machine Learning, my top recommendation is to practice what you've learned in this course as much as possible. I recommend choosing different types of problems and datasets so that you can learn how to adapt these skills to all different types of situations. During that process, you are likely to learn about other topics and scikit-learn modules that we didn't cover in this course, which will expand your Machine Learning and scikit-learn fluency.\n",
    "\n",
    "One particular area that might benefit you is to study Machine Learning models in more depth. This will help you in a number of ways:\n",
    "\n",
    "It will help you to choose which models are worth trying for a given problem.\n",
    "\n",
    "It will help you to efficiently and properly tune those models.\n",
    "\n",
    "And it will help you to better interpret the results of those models.\n",
    "\n",
    "There are many resources on this topic, but my favorite resource is the book, An Introduction to Statistical Learning. It will help you to gain a practical understanding of many of the most important and widely used Machine Learning models. It's available in hardcover, or you can download it as a free PDF from statlearning.com. Although previously the book was written for the R language, there is now a second version that uses Python."
   ]
  },
  {
   "cell_type": "markdown",
   "metadata": {},
   "source": [
    "**Practice what you've learned:**\n",
    "\n",
    "- Choose different types of problems and datasets\n",
    "- Learn about other topics and modules we didn't cover"
   ]
  },
  {
   "cell_type": "markdown",
   "metadata": {},
   "source": [
    "**Study Machine Learning models:**\n",
    "\n",
    "- **Benefits:**\n",
    "  - Learn which models are worth trying\n",
    "  - Learn how to tune those models\n",
    "  - Learn how to interpret those models\n",
    "- **Resource:**\n",
    "  - An Introduction to Statistical Learning (book): https://www.statlearning.com"
   ]
  },
  {
   "cell_type": "markdown",
   "metadata": {},
   "source": [
    "## 20.4 Q&A: How do I learn Deep Learning?"
   ]
  },
  {
   "metadata": {},
   "cell_type": "markdown",
   "source": [
    "As I mentioned at the beginning of the course, there are some specialized problems for which a Deep Learning library will provide results that are superior to what you could achieve with scikit-learn. As such, you may decide that you'd like to spend your time learning how to use Deep Learning.\n",
    "\n",
    "Deep Learning is a fast-moving field, but one course that has stayed up-to-date and is taught in an approachable way is Practical Deep Learning for Coders. It's available for free and is complemented by a book, a deep learning library called fastai, and a huge online community. You can access the course at course.fast.ai.\n",
    "\n",
    "Although Deep Learning has a higher learning curve than Machine Learning, it is based on many of the same fundamental principles that you've learned in this course, and so you're well-positioned to begin learning Deep Learning."
   ]
  },
  {
   "cell_type": "markdown",
   "metadata": {},
   "source": [
    "**Learning Deep Learning:**\n",
    "\n",
    "- **Why?**\n",
    "  - Deep Learning will provide superior results for some specialized problems\n",
    "- **How?**\n",
    "  - Practical Deep Learning for Coders (course): https://course.fast.ai\n",
    "  - Higher learning curve than Machine Learning, but based on many of the same principles"
   ]
  }
 ],
 "metadata": {
  "kernelspec": {
   "display_name": "Python 3 (ipykernel)",
   "language": "python",
   "name": "python3"
  },
  "language_info": {
   "codemirror_mode": {
    "name": "ipython",
    "version": 3
   },
   "file_extension": ".py",
   "mimetype": "text/x-python",
   "name": "python",
   "nbconvert_exporter": "python",
   "pygments_lexer": "ipython3",
   "version": "3.12.2"
  }
 },
 "nbformat": 4,
 "nbformat_minor": 4
}
