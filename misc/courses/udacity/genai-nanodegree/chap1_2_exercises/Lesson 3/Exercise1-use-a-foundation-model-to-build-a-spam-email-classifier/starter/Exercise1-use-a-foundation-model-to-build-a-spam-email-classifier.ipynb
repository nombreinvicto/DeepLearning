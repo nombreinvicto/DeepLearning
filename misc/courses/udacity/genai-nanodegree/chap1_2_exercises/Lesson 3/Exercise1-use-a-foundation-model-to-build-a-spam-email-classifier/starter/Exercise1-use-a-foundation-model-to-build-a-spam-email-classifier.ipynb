{
 "cells": [
  {
   "cell_type": "markdown",
   "metadata": {},
   "source": [
    "# Exercise: Use a foundation model to build a spam email classifier\n",
    "\n",
    "A foundation model serves as a fundamental building block for potentially endless applications. One application we will explore in this exercise is the development of a spam email classifier using only the prompt. By leveraging the capabilities of a foundation model, this project aims to accurately identify and filter out unwanted and potentially harmful emails, enhancing user experience and security.\n",
    "\n",
    "## Steps\n",
    "\n",
    "1. Identify and gather relevant data\n",
    "2. Build and evaluate the spam email classifier\n",
    "3. Build an improved classifier?"
   ]
  },
  {
   "cell_type": "markdown",
   "metadata": {},
   "source": [
    "## Step 1: Identify and gather relevant data\n",
    "\n",
    "To train and test the spam email classifier, you will need a dataset of emails that are labeled as spam or not spam. It is important to identify and gather a suitable dataset that represents a wide range of spam and non-spam emails."
   ]
  },
  {
   "cell_type": "code",
   "execution_count": null,
   "metadata": {},
   "outputs": [],
   "source": [
    "!pip install --upgrade datasets==3.2.0 huggingface-hub==0.27.1"
   ]
  },
  {
   "cell_type": "code",
   "execution_count": null,
   "metadata": {},
   "outputs": [],
   "source": [
    "# Find a spam dataset at https://huggingface.co/datasets and load it using the datasets library\n",
    "\n",
    "from datasets import load_dataset\n",
    "\n",
    "dataset = load_dataset(\"sms_spam\", split=[\"train\"])[0]\n",
    "\n",
    "for entry in dataset.select(range(3)):\n",
    "    sms = entry[\"sms\"]\n",
    "    label = entry[\"label\"]\n",
    "    print(f\"label={label}, sms={sms}\")"
   ]
  },
  {
   "cell_type": "markdown",
   "metadata": {},
   "source": [
    "Those labels could be easier to read. Let's create some functions to convert numerical ids to labels."
   ]
  },
  {
   "cell_type": "code",
   "execution_count": null,
   "metadata": {},
   "outputs": [],
   "source": [
    "# Convenient dictionaries to convert between labels and ids\n",
    "id2label = {0: \"NOT SPAM\", 1: \"SPAM\"}\n",
    "label2id = {\"NOT SPAM\": 0, \"SPAM\": 1}\n",
    "\n",
    "for entry in dataset.select(range(3)):\n",
    "    sms = entry[\"sms\"]\n",
    "    label_id = entry[\"label\"]\n",
    "    print(f\"label={id2label[label_id]}, sms={sms}\")"
   ]
  },
  {
   "cell_type": "markdown",
   "metadata": {},
   "source": [
    "## Step 2: Build and evaluate the spam email classifier\n",
    "\n",
    "Using the foundation model and the prepared dataset, you can create a spam email classifier.\n",
    "\n",
    "Let's write a prompt that will ask the model to classify 15 message as either \"spam\" or \"not spam\". For easier parsing, we can ask the LLM to respond in JSON."
   ]
  },
  {
   "cell_type": "code",
   "execution_count": null,
   "metadata": {},
   "outputs": [],
   "source": [
    "# Let's start with this helper function that will help us format sms messages\n",
    "# for the LLM.\n",
    "def get_sms_messages_string(dataset, item_numbers, include_labels=False):\n",
    "    sms_messages_string = \"\"\n",
    "    for item_number, entry in zip(item_numbers, dataset.select(item_numbers)):\n",
    "        sms = entry[\"sms\"]\n",
    "        label_id = entry[\"label\"]\n",
    "\n",
    "        if include_labels:\n",
    "            sms_messages_string += (\n",
    "                f\"{item_number} (label={id2label[label_id]}) -> {sms}\\n\"\n",
    "            )\n",
    "        else:\n",
    "            sms_messages_string += f\"{item_number} -> {sms}\\n\"\n",
    "\n",
    "    return sms_messages_string\n",
    "\n",
    "\n",
    "print(get_sms_messages_string(dataset, range(3), include_labels=True))"
   ]
  },
  {
   "cell_type": "markdown",
   "metadata": {},
   "source": [
    "Now let's write a bit of code that will produce your prompt. Your prompt should include a few SMS message to be labelled as well as instructions for the LLM.\n",
    "\n",
    "Some LLMs will also format the output for you as JSON if you ask them, e.g. \"Respond in JSON format.\""
   ]
  },
  {
   "cell_type": "code",
   "execution_count": null,
   "metadata": {},
   "outputs": [],
   "source": [
    "# Replace <MASK> with your code\n",
    "\n",
    "# Get a few messages and format them as a string\n",
    "sms_messages_string = get_sms_messages_string(dataset, range(7, 15))\n",
    "\n",
    "# Construct a query to send to the LLM including the sms messages.\n",
    "# Ask it to respond in JSON format.\n",
    "query = <MASK>\n",
    "\n",
    "print(query)"
   ]
  },
  {
   "cell_type": "code",
   "execution_count": null,
   "metadata": {},
   "outputs": [],
   "source": [
    "# Replace <MASK> with your LLMs response\n",
    "\n",
    "response = <MASK>"
   ]
  },
  {
   "cell_type": "code",
   "execution_count": null,
   "metadata": {},
   "outputs": [],
   "source": [
    "# Estimate the accuracy of your classifier by comparing your responses to the labels in the dataset\n",
    "\n",
    "\n",
    "def get_accuracy(response, dataset, original_indices):\n",
    "    correct = 0\n",
    "    total = 0\n",
    "\n",
    "    for entry_number, prediction in response.items():\n",
    "        if int(entry_number) not in original_indices:\n",
    "            continue\n",
    "\n",
    "        label_id = dataset[int(entry_number)][\"label\"]\n",
    "        label = id2label[label_id]\n",
    "\n",
    "        # If the prediction from the LLM matches the label in the dataset\n",
    "        # we increment the number of correct predictions.\n",
    "        # (Since LLMs do not always produce the same output, we use the\n",
    "        # lower case version of the strings for comparison)\n",
    "        if prediction.lower() == label.lower():\n",
    "            correct += 1\n",
    "\n",
    "        # increment the total number of predictions\n",
    "        total += 1\n",
    "\n",
    "    try:\n",
    "        accuracy = correct / total\n",
    "    except ZeroDivisionError:\n",
    "        print(\"No matching results found!\")\n",
    "        return\n",
    "\n",
    "    return round(accuracy, 2)\n",
    "\n",
    "\n",
    "print(f\"Accuracy: {get_accuracy(response, dataset, range(7, 15))}\")"
   ]
  },
  {
   "cell_type": "markdown",
   "metadata": {},
   "source": [
    "That's not bad! (Assuming you used an LLM capable of handling this task)\n",
    "\n",
    "Surely it won't be correct for every example we throw at it, but it's a great start, especially for not giving it any examples or training data.\n",
    "\n",
    "We can see that the model is able to distinguish between spam and non-spam messages with a high degree of accuracy. This is a great example of how a foundation model can be used to build a spam email classifier."
   ]
  },
  {
   "cell_type": "markdown",
   "metadata": {},
   "source": [
    "## Step 3: Build an improved classifier?\n",
    "\n",
    "If you provide the LLM with some examples for how to complete a task, it will sometimes improve its performance. Let's try that out here."
   ]
  },
  {
   "cell_type": "code",
   "execution_count": null,
   "metadata": {},
   "outputs": [],
   "source": [
    "# Replace <MASK> with your code that constructs a query to send to the LLM\n",
    "\n",
    "# Get a few labelled messages and format them as a string\n",
    "sms_messages_string_w_labels = get_sms_messages_string(\n",
    "    dataset, range(54, 60), include_labels=True\n",
    ")\n",
    "\n",
    "# Get a few unlabelled messages and format them as a string\n",
    "sms_messages_string_no_labels = get_sms_messages_string(dataset, range(7, 15))\n",
    "\n",
    "\n",
    "# Construct a query to send to the LLM including the labelled messages\n",
    "# as well as the unlabelled messages. Ask it to respond in JSON format\n",
    "query = <MASK>\n",
    "\n",
    "print(query)"
   ]
  },
  {
   "cell_type": "markdown",
   "metadata": {},
   "source": [
    "Paste in your response from the LLM below:"
   ]
  },
  {
   "cell_type": "code",
   "execution_count": null,
   "metadata": {},
   "outputs": [],
   "source": [
    "# Replace <MASK> with your LLMs response\n",
    "\n",
    "response = <MASK>"
   ]
  },
  {
   "cell_type": "markdown",
   "metadata": {},
   "source": [
    "Let's check the accuracy now"
   ]
  },
  {
   "cell_type": "code",
   "execution_count": null,
   "metadata": {},
   "outputs": [],
   "source": [
    "# What's the accuracy?\n",
    "\n",
    "print(f\"Accuracy: {get_accuracy(response, dataset, range(7,15)):.2f}\")"
   ]
  },
  {
   "cell_type": "markdown",
   "metadata": {},
   "source": [
    "If there are any misclassified items, let's view them."
   ]
  },
  {
   "cell_type": "code",
   "execution_count": null,
   "metadata": {},
   "outputs": [],
   "source": [
    "# Show the messages that were misclassified, if you have any\n",
    "\n",
    "\n",
    "def print_misclassified_messages(response, dataset):\n",
    "    for entry_number, prediction in response.items():\n",
    "        label_id = dataset[int(entry_number)][\"label\"]\n",
    "        label = id2label[label_id]\n",
    "\n",
    "        if prediction.lower() != label.lower():\n",
    "            sms = dataset[int(entry_number)][\"sms\"]\n",
    "            print(\"---\")\n",
    "            print(f\"Message: {sms}\")\n",
    "            print(f\"Label: {label}\")\n",
    "            print(f\"Prediction: {prediction}\")\n",
    "\n",
    "\n",
    "print_misclassified_messages(response, dataset)"
   ]
  },
  {
   "cell_type": "markdown",
   "metadata": {},
   "source": [
    "Interesting (if there were any mistakes). What do you think is going on?"
   ]
  }
 ],
 "metadata": {
  "kernelspec": {
   "display_name": "Python 3 (ipykernel)",
   "language": "python",
   "name": "python3"
  },
  "language_info": {
   "codemirror_mode": {
    "name": "ipython",
    "version": 3
   },
   "file_extension": ".py",
   "mimetype": "text/x-python",
   "name": "python",
   "nbconvert_exporter": "python",
   "pygments_lexer": "ipython3",
   "version": "3.10.11"
  }
 },
 "nbformat": 4,
 "nbformat_minor": 2
}
