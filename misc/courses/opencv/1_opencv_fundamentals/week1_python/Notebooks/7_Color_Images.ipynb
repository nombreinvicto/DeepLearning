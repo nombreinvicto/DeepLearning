{
 "cells": [
  {
   "cell_type": "markdown",
   "metadata": {},
   "source": [
    "# <font style=\"color:rgb(50,120,229)\">Color Images</font>\n",
    "In the previous section, we saw how an image is represented as a 2D Matrix. In this section, we will see how to load color images and discuss a few important points related to color images. \n",
    "\n",
    "Let us load a different image this time.\n",
    "<img src=\"https://www.dropbox.com/s/odrry84c0w6p6rv/musk.jpg?dl=1\" width=400>"
   ]
  },
  {
   "cell_type": "code",
   "execution_count": 1,
   "metadata": {
    "collapsed": true
   },
   "outputs": [],
   "source": [
    "# Import libraries\n",
    "import cv2\n",
    "import numpy as np\n",
    "from dataPath import DATA_PATH\n",
    "import matplotlib.pyplot as plt\n",
    "%matplotlib inline"
   ]
  },
  {
   "cell_type": "code",
   "execution_count": 2,
   "metadata": {
    "collapsed": true
   },
   "outputs": [],
   "source": [
    "import matplotlib\n",
    "matplotlib.rcParams['figure.figsize'] = (6.0, 6.0)\n",
    "matplotlib.rcParams['image.cmap'] = 'gray'"
   ]
  },
  {
   "cell_type": "code",
   "execution_count": 3,
   "metadata": {},
   "outputs": [
    {
     "name": "stdout",
     "output_type": "stream",
     "text": [
      "image Dimension =(500, 600, 3)\n"
     ]
    }
   ],
   "source": [
    "# Path of the image to be loaded\n",
    "# Here we are supplying a relative path\n",
    "imagePath = DATA_PATH + \"/images/musk.jpg\"\n",
    "\n",
    "# Read the image\n",
    "img = cv2.imread(imagePath)\n",
    "print(\"image Dimension ={}\".format(img.shape))"
   ]
  },
  {
   "cell_type": "markdown",
   "metadata": {},
   "source": [
    "There are a few things to note here : \n",
    "\n",
    "1. The image in this case has 3 dimensions. \n",
    "1. The third dimension indicates the number of channels in an image. For most images, this number is 3 ( namely R,G,B ). In some cases, there may be an additional channel (called alpha channel) which contains transparency information of the pixels - More on this later!"
   ]
  }
 ],
 "metadata": {
  "kernelspec": {
   "display_name": "Python 3.7",
   "language": "python",
   "name": "python3"
  },
  "language_info": {
   "codemirror_mode": {
    "name": "ipython",
    "version": 3
   },
   "file_extension": ".py",
   "mimetype": "text/x-python",
   "name": "python",
   "nbconvert_exporter": "python",
   "pygments_lexer": "ipython3",
   "version": "3.6.4"
  }
 },
 "nbformat": 4,
 "nbformat_minor": 2
}
