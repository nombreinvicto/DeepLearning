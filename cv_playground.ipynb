{
 "cells": [
  {
   "cell_type": "code",
   "source": "import torch",
   "metadata": {
    "collapsed": false,
    "ExecuteTime": {
     "end_time": "2025-09-18T03:03:23.686250Z",
     "start_time": "2025-09-18T03:03:20.990951Z"
    }
   },
   "outputs": [],
   "execution_count": 1
  },
  {
   "metadata": {
    "ExecuteTime": {
     "end_time": "2025-09-18T03:05:30.794240Z",
     "start_time": "2025-09-18T03:05:30.785244Z"
    }
   },
   "cell_type": "code",
   "source": "torch.cuda.is_available()",
   "outputs": [
    {
     "data": {
      "text/plain": [
       "False"
      ]
     },
     "execution_count": 3,
     "metadata": {},
     "output_type": "execute_result"
    }
   ],
   "execution_count": 3
  },
  {
   "metadata": {
    "ExecuteTime": {
     "end_time": "2025-09-18T03:05:31.351173Z",
     "start_time": "2025-09-18T03:05:31.319645Z"
    }
   },
   "cell_type": "code",
   "source": [
    "device = torch.device(\"cuda:0\" if torch.cuda.is_available() else \"cpu\")\n",
    "tensor = torch.tensor([[1, 2, 3], [4, 5, 6]]).to(device)"
   ],
   "outputs": [],
   "execution_count": 4
  },
  {
   "metadata": {
    "ExecuteTime": {
     "end_time": "2025-09-18T03:05:31.964179Z",
     "start_time": "2025-09-18T03:05:31.945263Z"
    }
   },
   "cell_type": "code",
   "source": "tensor.shape",
   "outputs": [
    {
     "data": {
      "text/plain": [
       "torch.Size([2, 3])"
      ]
     },
     "execution_count": 5,
     "metadata": {},
     "output_type": "execute_result"
    }
   ],
   "execution_count": 5
  },
  {
   "metadata": {
    "ExecuteTime": {
     "end_time": "2025-09-18T03:05:32.445483Z",
     "start_time": "2025-09-18T03:05:32.417947Z"
    }
   },
   "cell_type": "code",
   "source": "tensor.view(-1,1)",
   "outputs": [
    {
     "data": {
      "text/plain": [
       "tensor([[1],\n",
       "        [2],\n",
       "        [3],\n",
       "        [4],\n",
       "        [5],\n",
       "        [6]])"
      ]
     },
     "execution_count": 6,
     "metadata": {},
     "output_type": "execute_result"
    }
   ],
   "execution_count": 6
  },
  {
   "metadata": {
    "ExecuteTime": {
     "end_time": "2025-09-18T03:05:33.278092Z",
     "start_time": "2025-09-18T03:05:33.215493Z"
    }
   },
   "cell_type": "code",
   "source": "torch.exp(tensor)",
   "outputs": [
    {
     "data": {
      "text/plain": [
       "tensor([[  2.7183,   7.3891,  20.0855],\n",
       "        [ 54.5981, 148.4132, 403.4288]])"
      ]
     },
     "execution_count": 7,
     "metadata": {},
     "output_type": "execute_result"
    }
   ],
   "execution_count": 7
  },
  {
   "metadata": {
    "ExecuteTime": {
     "end_time": "2025-09-18T03:05:34.201454Z",
     "start_time": "2025-09-18T03:05:33.677181Z"
    }
   },
   "cell_type": "code",
   "source": "torch.exp(tensor) / torch.sum(torch.exp(tensor), dim=1)",
   "outputs": [
    {
     "ename": "RuntimeError",
     "evalue": "The size of tensor a (3) must match the size of tensor b (2) at non-singleton dimension 1",
     "output_type": "error",
     "traceback": [
      "\u001B[1;31m---------------------------------------------------------------------------\u001B[0m",
      "\u001B[1;31mRuntimeError\u001B[0m                              Traceback (most recent call last)",
      "Cell \u001B[1;32mIn[8], line 1\u001B[0m\n\u001B[1;32m----> 1\u001B[0m \u001B[43mtorch\u001B[49m\u001B[38;5;241;43m.\u001B[39;49m\u001B[43mexp\u001B[49m\u001B[43m(\u001B[49m\u001B[43mtensor\u001B[49m\u001B[43m)\u001B[49m\u001B[43m \u001B[49m\u001B[38;5;241;43m/\u001B[39;49m\u001B[43m \u001B[49m\u001B[43mtorch\u001B[49m\u001B[38;5;241;43m.\u001B[39;49m\u001B[43msum\u001B[49m\u001B[43m(\u001B[49m\u001B[43mtorch\u001B[49m\u001B[38;5;241;43m.\u001B[39;49m\u001B[43mexp\u001B[49m\u001B[43m(\u001B[49m\u001B[43mtensor\u001B[49m\u001B[43m)\u001B[49m\u001B[43m,\u001B[49m\u001B[43m \u001B[49m\u001B[43mdim\u001B[49m\u001B[38;5;241;43m=\u001B[39;49m\u001B[38;5;241;43m1\u001B[39;49m\u001B[43m)\u001B[49m\n",
      "\u001B[1;31mRuntimeError\u001B[0m: The size of tensor a (3) must match the size of tensor b (2) at non-singleton dimension 1"
     ]
    }
   ],
   "execution_count": 8
  },
  {
   "metadata": {
    "ExecuteTime": {
     "end_time": "2025-09-18T03:05:41.634738Z",
     "start_time": "2025-09-18T03:05:41.618954Z"
    }
   },
   "cell_type": "code",
   "source": "torch.sum(torch.exp(tensor), dim=1).numpy().shape",
   "outputs": [
    {
     "data": {
      "text/plain": [
       "(2,)"
      ]
     },
     "execution_count": 9,
     "metadata": {},
     "output_type": "execute_result"
    }
   ],
   "execution_count": 9
  },
  {
   "metadata": {
    "ExecuteTime": {
     "end_time": "2025-09-18T03:05:48.215578Z",
     "start_time": "2025-09-18T03:05:45.579408Z"
    }
   },
   "cell_type": "code",
   "source": [
    "import numpy as np\n",
    "import pandas as pd\n",
    "from sklearn.ensemble import RandomForestClassifier\n",
    "import shap\n",
    "import matplotlib.pyplot as plt\n",
    "\n",
    "# --- 1. Create datasets ---\n",
    "np.random.seed(42)\n",
    "n = 800\n",
    "\n",
    "# Features\n",
    "age = np.random.randint(20, 70, n)\n",
    "exercise = np.random.randint(0, 10, n)\n",
    "\n",
    "# --- Case A: No interaction (additive) ---\n",
    "risk_no_inter = 0.3*age - 5*exercise\n",
    "prob_no_inter = 1 / (1 + np.exp(-(risk_no_inter - 50)))\n",
    "y_no_inter = np.random.binomial(1, prob_no_inter)\n",
    "\n",
    "# --- Case B: With interaction ---\n",
    "risk_inter = 0.3*age - 5*exercise + 0.2*age*exercise\n",
    "prob_inter = 1 / (1 + np.exp(-(risk_inter - 80)))\n",
    "y_inter = np.random.binomial(1, prob_inter)\n",
    "\n",
    "# --- 2. Train models ---\n",
    "X_no_inter = pd.DataFrame({\"Age\": age, \"Exercise\": exercise})\n",
    "X_inter = X_no_inter.copy()\n",
    "\n",
    "model_no_inter = RandomForestClassifier(n_estimators=200, random_state=42).fit(X_no_inter, y_no_inter)\n",
    "model_inter = RandomForestClassifier(n_estimators=200, random_state=42).fit(X_inter, y_inter)\n",
    "\n",
    "# --- 3. SHAP explanations ---\n",
    "explainer_no_inter = shap.TreeExplainer(model_no_inter)\n",
    "shap_no_inter = explainer_no_inter(X_no_inter)\n",
    "\n",
    "explainer_inter = shap.TreeExplainer(model_inter)\n",
    "shap_inter = explainer_inter(X_inter)\n"
   ],
   "outputs": [],
   "execution_count": 10
  },
  {
   "metadata": {
    "ExecuteTime": {
     "end_time": "2025-09-05T09:38:46.711951Z",
     "start_time": "2025-09-05T09:38:46.591938Z"
    }
   },
   "cell_type": "code",
   "source": "shap.plots.beeswarm(shap_no_inter)",
   "outputs": [
    {
     "data": {
      "text/plain": [
       "<Figure size 800x230 with 2 Axes>"
      ],
      "image/png": "[encoded data removed]"
     },
     "metadata": {},
     "output_type": "display_data",
     "jetTransient": {
      "display_id": null
     }
    }
   ],
   "execution_count": 22
  },
  {
   "metadata": {
    "ExecuteTime": {
     "end_time": "2025-09-05T09:37:42.933186Z",
     "start_time": "2025-09-05T09:37:42.829262Z"
    }
   },
   "cell_type": "code",
   "source": [
    "# --- 4. Plots ---\n",
    "print(\"Case A: No Interaction\")\n",
    "shap.plots.scatter(shap_no_inter[:, \"Age\"],\n",
    "                   color=shap_no_inter[:, \"Exercise\"],\n",
    "                   x_jitter=0,\n",
    "hist=False)"
   ],
   "outputs": [
    {
     "name": "stdout",
     "output_type": "stream",
     "text": [
      "Case A: No Interaction\n"
     ]
    },
    {
     "data": {
      "text/plain": [
       "<Figure size 600x500 with 1 Axes>"
      ],
      "image/png": "[encoded data removed]"
     },
     "metadata": {},
     "output_type": "display_data",
     "jetTransient": {
      "display_id": null
     }
    }
   ],
   "execution_count": 21
  },
  {
   "metadata": {
    "ExecuteTime": {
     "end_time": "2025-09-05T09:35:57.399388Z",
     "start_time": "2025-09-05T09:35:57.319228Z"
    }
   },
   "cell_type": "code",
   "source": [
    "print(\"Case B: With Interaction\")\n",
    "shap.plots.scatter(shap_inter[:, \"Age\"], color=shap_inter[:, \"Exercise\"])"
   ],
   "outputs": [
    {
     "name": "stdout",
     "output_type": "stream",
     "text": [
      "Case B: With Interaction\n"
     ]
    },
    {
     "ename": "Exception",
     "evalue": "The passed Explanation object has multiple columns, please pass a single feature column to shap.plots.dependence like: shap_values[:,column]",
     "output_type": "error",
     "traceback": [
      "\u001B[1;31m---------------------------------------------------------------------------\u001B[0m",
      "\u001B[1;31mException\u001B[0m                                 Traceback (most recent call last)",
      "Cell \u001B[1;32mIn[19], line 2\u001B[0m\n\u001B[0;32m      1\u001B[0m \u001B[38;5;28mprint\u001B[39m(\u001B[38;5;124m\"\u001B[39m\u001B[38;5;124mCase B: With Interaction\u001B[39m\u001B[38;5;124m\"\u001B[39m)\n\u001B[1;32m----> 2\u001B[0m \u001B[43mshap\u001B[49m\u001B[38;5;241;43m.\u001B[39;49m\u001B[43mplots\u001B[49m\u001B[38;5;241;43m.\u001B[39;49m\u001B[43mscatter\u001B[49m\u001B[43m(\u001B[49m\u001B[43mshap_inter\u001B[49m\u001B[43m[\u001B[49m\u001B[43m:\u001B[49m\u001B[43m,\u001B[49m\u001B[43m \u001B[49m\u001B[38;5;124;43m\"\u001B[39;49m\u001B[38;5;124;43mAge\u001B[39;49m\u001B[38;5;124;43m\"\u001B[39;49m\u001B[43m]\u001B[49m\u001B[43m,\u001B[49m\u001B[43m \u001B[49m\u001B[43mcolor\u001B[49m\u001B[38;5;241;43m=\u001B[39;49m\u001B[43mshap_inter\u001B[49m\u001B[43m[\u001B[49m\u001B[43m:\u001B[49m\u001B[43m,\u001B[49m\u001B[43m \u001B[49m\u001B[38;5;124;43m\"\u001B[39;49m\u001B[38;5;124;43mExercise\u001B[39;49m\u001B[38;5;124;43m\"\u001B[39;49m\u001B[43m]\u001B[49m\u001B[43m)\u001B[49m\n",
      "File \u001B[1;32mC:\\GoogleDrive\\GitHub\\deep_learning\\.dlvenv\\lib\\site-packages\\shap\\plots\\_scatter.py:119\u001B[0m, in \u001B[0;36mscatter\u001B[1;34m(shap_values, color, hist, axis_color, cmap, dot_size, x_jitter, alpha, title, xmin, xmax, ymin, ymax, overlay, ax, ylabel, show)\u001B[0m\n\u001B[0;32m    116\u001B[0m     \u001B[38;5;28;01mreturn\u001B[39;00m\n\u001B[0;32m    118\u001B[0m \u001B[38;5;28;01mif\u001B[39;00m \u001B[38;5;28mlen\u001B[39m(shap_values\u001B[38;5;241m.\u001B[39mshape) \u001B[38;5;241m!=\u001B[39m \u001B[38;5;241m1\u001B[39m:\n\u001B[1;32m--> 119\u001B[0m     \u001B[38;5;28;01mraise\u001B[39;00m \u001B[38;5;167;01mException\u001B[39;00m(\u001B[38;5;124m\"\u001B[39m\u001B[38;5;124mThe passed Explanation object has multiple columns, please pass a single feature column to \u001B[39m\u001B[38;5;124m\"\u001B[39m \u001B[38;5;241m+\u001B[39m \\\n\u001B[0;32m    120\u001B[0m                     \u001B[38;5;124m\"\u001B[39m\u001B[38;5;124mshap.plots.dependence like: shap_values[:,column]\u001B[39m\u001B[38;5;124m\"\u001B[39m)\n\u001B[0;32m    122\u001B[0m \u001B[38;5;66;03m# this unpacks the explanation object for the code that was written earlier\u001B[39;00m\n\u001B[0;32m    123\u001B[0m feature_names \u001B[38;5;241m=\u001B[39m [shap_values\u001B[38;5;241m.\u001B[39mfeature_names]\n",
      "\u001B[1;31mException\u001B[0m: The passed Explanation object has multiple columns, please pass a single feature column to shap.plots.dependence like: shap_values[:,column]"
     ]
    }
   ],
   "execution_count": 19
  },
  {
   "metadata": {
    "ExecuteTime": {
     "end_time": "2025-09-17T09:02:00.250025Z",
     "start_time": "2025-09-17T09:01:59.975012Z"
    }
   },
   "cell_type": "code",
   "source": [
    "import sys, os, json\n",
    "import numpy as np\n",
    "import pandas as pd\n",
    "import seaborn as sns\n",
    "import argparse, progressbar\n",
    "import matplotlib.pyplot as plt\n",
    "from matplotlib.figure import Figure\n",
    "from matplotlib.axes import Axes\n",
    "sns.set()\n"
   ],
   "outputs": [],
   "execution_count": 3
  },
  {
   "metadata": {
    "ExecuteTime": {
     "end_time": "2025-09-17T04:06:09.830312Z",
     "start_time": "2025-09-17T04:06:09.814615Z"
    }
   },
   "cell_type": "code",
   "source": [
    "x1 = np.array([1, 2, 3, 4, 5, 6, 7, 8, 9, 20])\n",
    "x2 = 5 - 10 * x1\n",
    "print(x2)\n"
   ],
   "outputs": [
    {
     "name": "stdout",
     "output_type": "stream",
     "text": [
      "[  -5  -15  -25  -35  -45  -55  -65  -75  -85 -195]\n"
     ]
    }
   ],
   "execution_count": 2
  },
  {
   "metadata": {},
   "cell_type": "code",
   "outputs": [],
   "execution_count": null,
   "source": [
    "# init fig and axes objects\n",
    "sns.set(font_scale=2)\n",
    "nrows = 1\n",
    "ncols = 1\n",
    "fig_height = nrows * 8\n",
    "fig_width = ncols * 4\n",
    "f: Figure\n",
    "ax: Axes\n",
    "f, ax = plt.subplots(nrows=nrows, ncols=ncols, figsize=(fig_width, fig_height))\n",
    "# %% ##################################################################\n",
    "ax_ = sns.scatterplot()"
   ]
  },
  {
   "metadata": {},
   "cell_type": "code",
   "outputs": [],
   "execution_count": null,
   "source": ""
  },
  {
   "metadata": {
    "ExecuteTime": {
     "end_time": "2025-09-17T09:03:50.116841Z",
     "start_time": "2025-09-17T09:03:50.109251Z"
    }
   },
   "cell_type": "code",
   "source": [
    "y = np.array([[12],\n",
    "              [16],\n",
    "              [10]])\n",
    "D = np.array([[1, 1, 2],\n",
    "              [1, 2, 3],\n",
    "              [1, 2, 1]])\n",
    "D.shape"
   ],
   "outputs": [
    {
     "data": {
      "text/plain": [
       "(3, 3)"
      ]
     },
     "execution_count": 8,
     "metadata": {},
     "output_type": "execute_result"
    }
   ],
   "execution_count": 8
  },
  {
   "metadata": {
    "ExecuteTime": {
     "end_time": "2025-09-17T09:03:53.829109Z",
     "start_time": "2025-09-17T09:03:53.817536Z"
    }
   },
   "cell_type": "code",
   "source": "D_inv = np.linalg.inv(D)",
   "outputs": [],
   "execution_count": 9
  },
  {
   "metadata": {
    "ExecuteTime": {
     "end_time": "2025-09-17T09:04:42.711355Z",
     "start_time": "2025-09-17T09:04:42.687510Z"
    }
   },
   "cell_type": "code",
   "source": "np.dot(D_inv, y)",
   "outputs": [
    {
     "data": {
      "text/plain": [
       "array([[5.],\n",
       "       [1.],\n",
       "       [3.]])"
      ]
     },
     "execution_count": 10,
     "metadata": {},
     "output_type": "execute_result"
    }
   ],
   "execution_count": 10
  },
  {
   "metadata": {
    "ExecuteTime": {
     "end_time": "2025-09-17T09:06:39.482134Z",
     "start_time": "2025-09-17T09:06:39.453495Z"
    }
   },
   "cell_type": "code",
   "source": [
    "D_coll = D\n",
    "D_coll[:,2] = 5 - D_coll[:,1]\n",
    "D_coll"
   ],
   "outputs": [
    {
     "data": {
      "text/plain": [
       "array([[1, 1, 4],\n",
       "       [1, 2, 3],\n",
       "       [1, 2, 3]])"
      ]
     },
     "execution_count": 11,
     "metadata": {},
     "output_type": "execute_result"
    }
   ],
   "execution_count": 11
  },
  {
   "metadata": {
    "ExecuteTime": {
     "end_time": "2025-09-17T09:07:10.178596Z",
     "start_time": "2025-09-17T09:07:09.995486Z"
    }
   },
   "cell_type": "code",
   "source": "np.linalg.inv(D_coll)",
   "outputs": [
    {
     "ename": "LinAlgError",
     "evalue": "Singular matrix",
     "output_type": "error",
     "traceback": [
      "\u001B[1;31m---------------------------------------------------------------------------\u001B[0m",
      "\u001B[1;31mLinAlgError\u001B[0m                               Traceback (most recent call last)",
      "Cell \u001B[1;32mIn[12], line 1\u001B[0m\n\u001B[1;32m----> 1\u001B[0m \u001B[43mnp\u001B[49m\u001B[38;5;241;43m.\u001B[39;49m\u001B[43mlinalg\u001B[49m\u001B[38;5;241;43m.\u001B[39;49m\u001B[43minv\u001B[49m\u001B[43m(\u001B[49m\u001B[43mD_coll\u001B[49m\u001B[43m)\u001B[49m\n",
      "File \u001B[1;32m<__array_function__ internals>:200\u001B[0m, in \u001B[0;36minv\u001B[1;34m(*args, **kwargs)\u001B[0m\n",
      "File \u001B[1;32mC:\\GoogleDrive\\GitHub\\deep_learning\\.dlvenv\\lib\\site-packages\\numpy\\linalg\\linalg.py:538\u001B[0m, in \u001B[0;36minv\u001B[1;34m(a)\u001B[0m\n\u001B[0;32m    536\u001B[0m signature \u001B[38;5;241m=\u001B[39m \u001B[38;5;124m'\u001B[39m\u001B[38;5;124mD->D\u001B[39m\u001B[38;5;124m'\u001B[39m \u001B[38;5;28;01mif\u001B[39;00m isComplexType(t) \u001B[38;5;28;01melse\u001B[39;00m \u001B[38;5;124m'\u001B[39m\u001B[38;5;124md->d\u001B[39m\u001B[38;5;124m'\u001B[39m\n\u001B[0;32m    537\u001B[0m extobj \u001B[38;5;241m=\u001B[39m get_linalg_error_extobj(_raise_linalgerror_singular)\n\u001B[1;32m--> 538\u001B[0m ainv \u001B[38;5;241m=\u001B[39m \u001B[43m_umath_linalg\u001B[49m\u001B[38;5;241;43m.\u001B[39;49m\u001B[43minv\u001B[49m\u001B[43m(\u001B[49m\u001B[43ma\u001B[49m\u001B[43m,\u001B[49m\u001B[43m \u001B[49m\u001B[43msignature\u001B[49m\u001B[38;5;241;43m=\u001B[39;49m\u001B[43msignature\u001B[49m\u001B[43m,\u001B[49m\u001B[43m \u001B[49m\u001B[43mextobj\u001B[49m\u001B[38;5;241;43m=\u001B[39;49m\u001B[43mextobj\u001B[49m\u001B[43m)\u001B[49m\n\u001B[0;32m    539\u001B[0m \u001B[38;5;28;01mreturn\u001B[39;00m wrap(ainv\u001B[38;5;241m.\u001B[39mastype(result_t, copy\u001B[38;5;241m=\u001B[39m\u001B[38;5;28;01mFalse\u001B[39;00m))\n",
      "File \u001B[1;32mC:\\GoogleDrive\\GitHub\\deep_learning\\.dlvenv\\lib\\site-packages\\numpy\\linalg\\linalg.py:89\u001B[0m, in \u001B[0;36m_raise_linalgerror_singular\u001B[1;34m(err, flag)\u001B[0m\n\u001B[0;32m     88\u001B[0m \u001B[38;5;28;01mdef\u001B[39;00m\u001B[38;5;250m \u001B[39m\u001B[38;5;21m_raise_linalgerror_singular\u001B[39m(err, flag):\n\u001B[1;32m---> 89\u001B[0m     \u001B[38;5;28;01mraise\u001B[39;00m LinAlgError(\u001B[38;5;124m\"\u001B[39m\u001B[38;5;124mSingular matrix\u001B[39m\u001B[38;5;124m\"\u001B[39m)\n",
      "\u001B[1;31mLinAlgError\u001B[0m: Singular matrix"
     ]
    }
   ],
   "execution_count": 12
  },
  {
   "metadata": {
    "ExecuteTime": {
     "end_time": "2025-09-17T09:26:18.314184Z",
     "start_time": "2025-09-17T09:26:18.224582Z"
    }
   },
   "cell_type": "code",
   "source": [
    "x = np.array([[1,1,4],\n",
    "              [1,2,3],\n",
    "              [1,4,1]])\n",
    "np.linalg.inv(x)"
   ],
   "outputs": [
    {
     "ename": "LinAlgError",
     "evalue": "Singular matrix",
     "output_type": "error",
     "traceback": [
      "\u001B[1;31m---------------------------------------------------------------------------\u001B[0m",
      "\u001B[1;31mLinAlgError\u001B[0m                               Traceback (most recent call last)",
      "Cell \u001B[1;32mIn[13], line 4\u001B[0m\n\u001B[0;32m      1\u001B[0m x \u001B[38;5;241m=\u001B[39m np\u001B[38;5;241m.\u001B[39marray([[\u001B[38;5;241m1\u001B[39m,\u001B[38;5;241m1\u001B[39m,\u001B[38;5;241m4\u001B[39m],\n\u001B[0;32m      2\u001B[0m               [\u001B[38;5;241m1\u001B[39m,\u001B[38;5;241m2\u001B[39m,\u001B[38;5;241m3\u001B[39m],\n\u001B[0;32m      3\u001B[0m               [\u001B[38;5;241m1\u001B[39m,\u001B[38;5;241m4\u001B[39m,\u001B[38;5;241m1\u001B[39m]])\n\u001B[1;32m----> 4\u001B[0m \u001B[43mnp\u001B[49m\u001B[38;5;241;43m.\u001B[39;49m\u001B[43mlinalg\u001B[49m\u001B[38;5;241;43m.\u001B[39;49m\u001B[43minv\u001B[49m\u001B[43m(\u001B[49m\u001B[43mx\u001B[49m\u001B[43m)\u001B[49m\n",
      "File \u001B[1;32m<__array_function__ internals>:200\u001B[0m, in \u001B[0;36minv\u001B[1;34m(*args, **kwargs)\u001B[0m\n",
      "File \u001B[1;32mC:\\GoogleDrive\\GitHub\\deep_learning\\.dlvenv\\lib\\site-packages\\numpy\\linalg\\linalg.py:538\u001B[0m, in \u001B[0;36minv\u001B[1;34m(a)\u001B[0m\n\u001B[0;32m    536\u001B[0m signature \u001B[38;5;241m=\u001B[39m \u001B[38;5;124m'\u001B[39m\u001B[38;5;124mD->D\u001B[39m\u001B[38;5;124m'\u001B[39m \u001B[38;5;28;01mif\u001B[39;00m isComplexType(t) \u001B[38;5;28;01melse\u001B[39;00m \u001B[38;5;124m'\u001B[39m\u001B[38;5;124md->d\u001B[39m\u001B[38;5;124m'\u001B[39m\n\u001B[0;32m    537\u001B[0m extobj \u001B[38;5;241m=\u001B[39m get_linalg_error_extobj(_raise_linalgerror_singular)\n\u001B[1;32m--> 538\u001B[0m ainv \u001B[38;5;241m=\u001B[39m \u001B[43m_umath_linalg\u001B[49m\u001B[38;5;241;43m.\u001B[39;49m\u001B[43minv\u001B[49m\u001B[43m(\u001B[49m\u001B[43ma\u001B[49m\u001B[43m,\u001B[49m\u001B[43m \u001B[49m\u001B[43msignature\u001B[49m\u001B[38;5;241;43m=\u001B[39;49m\u001B[43msignature\u001B[49m\u001B[43m,\u001B[49m\u001B[43m \u001B[49m\u001B[43mextobj\u001B[49m\u001B[38;5;241;43m=\u001B[39;49m\u001B[43mextobj\u001B[49m\u001B[43m)\u001B[49m\n\u001B[0;32m    539\u001B[0m \u001B[38;5;28;01mreturn\u001B[39;00m wrap(ainv\u001B[38;5;241m.\u001B[39mastype(result_t, copy\u001B[38;5;241m=\u001B[39m\u001B[38;5;28;01mFalse\u001B[39;00m))\n",
      "File \u001B[1;32mC:\\GoogleDrive\\GitHub\\deep_learning\\.dlvenv\\lib\\site-packages\\numpy\\linalg\\linalg.py:89\u001B[0m, in \u001B[0;36m_raise_linalgerror_singular\u001B[1;34m(err, flag)\u001B[0m\n\u001B[0;32m     88\u001B[0m \u001B[38;5;28;01mdef\u001B[39;00m\u001B[38;5;250m \u001B[39m\u001B[38;5;21m_raise_linalgerror_singular\u001B[39m(err, flag):\n\u001B[1;32m---> 89\u001B[0m     \u001B[38;5;28;01mraise\u001B[39;00m LinAlgError(\u001B[38;5;124m\"\u001B[39m\u001B[38;5;124mSingular matrix\u001B[39m\u001B[38;5;124m\"\u001B[39m)\n",
      "\u001B[1;31mLinAlgError\u001B[0m: Singular matrix"
     ]
    }
   ],
   "execution_count": 13
  },
  {
   "metadata": {},
   "cell_type": "code",
   "outputs": [],
   "execution_count": null,
   "source": ""
  }
 ],
 "metadata": {
  "kernelspec": {
   "display_name": "Python 3",
   "language": "python",
   "name": "python3"
  },
  "language_info": {
   "codemirror_mode": {
    "name": "ipython",
    "version": 2
   },
   "file_extension": ".py",
   "mimetype": "text/x-python",
   "name": "python",
   "nbconvert_exporter": "python",
   "pygments_lexer": "ipython2",
   "version": "2.7.6"
  }
 },
 "nbformat": 4,
 "nbformat_minor": 0
}
