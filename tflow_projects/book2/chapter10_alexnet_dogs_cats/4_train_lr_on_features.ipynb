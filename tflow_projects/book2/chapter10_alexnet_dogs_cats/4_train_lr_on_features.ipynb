{
 "cells": [
  {
   "cell_type": "code",
   "execution_count": 1,
   "metadata": {
    "collapsed": true,
    "ExecuteTime": {
     "end_time": "2023-06-09T06:59:15.085458500Z",
     "start_time": "2023-06-09T06:59:09.998570700Z"
    }
   },
   "outputs": [],
   "source": [
    "# import the necessary packages\n",
    "from sklearn.linear_model import LogisticRegression\n",
    "from sklearn.model_selection import GridSearchCV\n",
    "from sklearn.metrics import classification_report\n",
    "from sklearn.metrics import accuracy_score\n",
    "import h5py"
   ]
  },
  {
   "cell_type": "code",
   "execution_count": 2,
   "outputs": [],
   "source": [
    "# script constants\n",
    "features_hdf5_path = r\"C:\\Users\\mhasa\\Downloads\\dogs-vs-cats\\hdf5\\resnet_features.hdf5\"\n",
    "jobs = 3"
   ],
   "metadata": {
    "collapsed": false,
    "ExecuteTime": {
     "end_time": "2023-06-09T06:59:25.697436Z",
     "start_time": "2023-06-09T06:59:25.676291500Z"
    }
   }
  },
  {
   "cell_type": "code",
   "execution_count": 3,
   "outputs": [
    {
     "data": {
      "text/plain": "18750"
     },
     "execution_count": 3,
     "metadata": {},
     "output_type": "execute_result"
    }
   ],
   "source": [
    "# open the features db\n",
    "db = h5py.File(features_hdf5_path, mode=\"r\")\n",
    "i = int(db[\"labels\"].shape[0] * 0.75)\n",
    "i"
   ],
   "metadata": {
    "collapsed": false,
    "ExecuteTime": {
     "end_time": "2023-06-09T06:59:36.994507800Z",
     "start_time": "2023-06-09T06:59:36.879815300Z"
    }
   }
  },
  {
   "cell_type": "code",
   "execution_count": null,
   "outputs": [
    {
     "name": "stdout",
     "output_type": "stream",
     "text": [
      "[INFO] tuning hyperparams......\n"
     ]
    },
    {
     "name": "stderr",
     "output_type": "stream",
     "text": [
      "C:\\Users\\mhasa\\GitHub\\venvs\\DeepLearning\\lib\\site-packages\\joblib\\externals\\loky\\process_executor.py:703: UserWarning: A worker stopped while some jobs were given to the executor. This can be caused by a too short worker timeout or by a memory leak.\n",
      "  \"timeout or by a memory leak.\", UserWarning\n"
     ]
    }
   ],
   "source": [
    "print(f\"[INFO] tuning hyperparams......\")\n",
    "params = {\"C\": [0.0001, 0.001, 0.01, 0.1, 1.0]}\n",
    "model = GridSearchCV(LogisticRegression(solver=\"lbfgs\", multi_class=\"auto\"), params, cv=3, n_jobs=jobs)\n",
    "\n",
    "model.fit(db[\"features\"][:i], db[\"labels\"][:i])\n",
    "print(f\"[INFO] best hyperparams: {model.best_params_}......\")"
   ],
   "metadata": {
    "collapsed": false,
    "is_executing": true,
    "ExecuteTime": {
     "start_time": "2023-06-09T06:59:43.365424700Z"
    }
   }
  },
  {
   "cell_type": "code",
   "execution_count": null,
   "outputs": [],
   "source": [
    "print(f\"[INFO] evaluating model......\")\n",
    "predictions = model.predict(db[\"features\"][i:])\n",
    "print(classification_report(db[\"labels\"][i:], predictions,\n",
    "                            target_names=db[\"label_names\"]))\n",
    "\n",
    "acc = accuracy_score(db[\"labels\"][i:], predictions)\n",
    "print(f\"[INFO] accuracy_score: {acc}......\")\n",
    "db.close()"
   ],
   "metadata": {
    "collapsed": false,
    "ExecuteTime": {
     "end_time": "2023-06-09T06:52:50.670772600Z",
     "start_time": "2023-06-09T06:52:50.667781Z"
    }
   }
  }
 ],
 "metadata": {
  "kernelspec": {
   "display_name": "Python 3",
   "language": "python",
   "name": "python3"
  },
  "language_info": {
   "codemirror_mode": {
    "name": "ipython",
    "version": 2
   },
   "file_extension": ".py",
   "mimetype": "text/x-python",
   "name": "python",
   "nbconvert_exporter": "python",
   "pygments_lexer": "ipython2",
   "version": "2.7.6"
  }
 },
 "nbformat": 4,
 "nbformat_minor": 0
}
