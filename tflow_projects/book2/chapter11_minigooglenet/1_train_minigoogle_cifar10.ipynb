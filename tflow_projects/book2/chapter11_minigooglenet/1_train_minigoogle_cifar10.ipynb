{
  "cells": [
    {
      "cell_type": "code",
      "execution_count": 2,
      "outputs": [
        {
          "output_type": "stream",
          "name": "stdout",
          "text": [
            "Looking in indexes: https://pypi.org/simple, https://us-python.pkg.dev/colab-wheels/public/simple/\n",
            "Collecting opencv-python==4.5.5.64\n",
            "  Downloading opencv_python-4.5.5.64-cp36-abi3-manylinux_2_17_x86_64.manylinux2014_x86_64.whl (60.5 MB)\n",
            "\u001b[2K     \u001b[90m━━━━━━━━━━━━━━━━━━━━━━━━━━━━━━━━━━━━━━━━\u001b[0m \u001b[32m60.5/60.5 MB\u001b[0m \u001b[31m22.1 MB/s\u001b[0m eta \u001b[36m0:00:00\u001b[0m\n",
            "\u001b[?25hRequirement already satisfied: numpy>=1.21.2 in /usr/local/lib/python3.10/dist-packages (from opencv-python==4.5.5.64) (1.22.4)\n",
            "Installing collected packages: opencv-python\n",
            "  Attempting uninstall: opencv-python\n",
            "    Found existing installation: opencv-python 4.7.0.72\n",
            "    Uninstalling opencv-python-4.7.0.72:\n",
            "      Successfully uninstalled opencv-python-4.7.0.72\n",
            "Successfully installed opencv-python-4.5.5.64\n"
          ]
        }
      ],
      "source": [
        "! pip install opencv-python==4.5.5.64"
      ],
      "metadata": {
        "colab": {
          "base_uri": "https://localhost:8080/"
        },
        "id": "CE1F2iTKMWVJ",
        "outputId": "cbfd4194-2d9f-4fe1-8db8-772e54e5f0c8"
      }
    },
    {
      "cell_type": "code",
      "execution_count": 3,
      "metadata": {
        "collapsed": true,
        "colab": {
          "base_uri": "https://localhost:8080/"
        },
        "id": "eKx4Ol3lMWVP",
        "outputId": "015c3106-6a8c-4e14-ce46-6f6504c2d8e3"
      },
      "outputs": [
        {
          "output_type": "stream",
          "name": "stdout",
          "text": [
            "Mounted at /content/drive\n"
          ]
        }
      ],
      "source": [
        "import sys\n",
        "from google.colab import drive\n",
        "\n",
        "drive.mount('/content/drive')\n",
        "sys.path.append(r\"/content/drive/MyDrive/\")"
      ]
    },
    {
      "cell_type": "code",
      "execution_count": 4,
      "outputs": [],
      "source": [
        "# import the necessary packages\n",
        "from sklearn.preprocessing import LabelBinarizer\n",
        "from loader_util.nn.conv import MiniGooglenet\n",
        "from loader_util.callbacks import TrainingMonitor\n",
        "from tensorflow.keras.preprocessing.image import ImageDataGenerator\n",
        "from tensorflow.keras.callbacks import LearningRateScheduler\n",
        "from tensorflow.keras.optimizers import SGD\n",
        "from tensorflow.keras.datasets import cifar10\n",
        "import numpy as np\n",
        "import os"
      ],
      "metadata": {
        "id": "rBbzHz9LMWVT"
      }
    },
    {
      "cell_type": "code",
      "execution_count": 5,
      "outputs": [],
      "source": [
        "# script constants\n",
        "num_epochs = 70\n",
        "init_lr = 0.001\n",
        "output_path = r\"/content/drive/MyDrive/Colab Notebooks/pyimagesearch/bibilio2/chapter11_minigooglenet/output\""
      ],
      "metadata": {
        "id": "ZkDyb8NHMWVV"
      }
    },
    {
      "cell_type": "code",
      "execution_count": 6,
      "outputs": [],
      "source": [
        "def poly_decay(epoch):\n",
        "    max_epochs = num_epochs\n",
        "    base_lr = init_lr\n",
        "    power = 1.0\n",
        "\n",
        "    new_lr = base_lr * (1 - (epoch / float(max_epochs))) ** power\n",
        "    return new_lr"
      ],
      "metadata": {
        "id": "ZUnHWziQMWVV"
      }
    },
    {
      "cell_type": "code",
      "execution_count": 7,
      "outputs": [
        {
          "output_type": "stream",
          "name": "stdout",
          "text": [
            "[INFO] loading cifar10 data......\n",
            "Downloading data from https://www.cs.toronto.edu/~kriz/cifar-10-python.tar.gz\n",
            "170498071/170498071 [==============================] - 6s 0us/step\n"
          ]
        }
      ],
      "source": [
        "# loading the data\n",
        "print(f\"[INFO] loading cifar10 data......\")\n",
        "# trainx => 50K x 32 x 32 x 3\n",
        "(trainx, trainy), (testx, testy) = cifar10.load_data()\n",
        "trainx = trainx.astype(\"float\")\n",
        "testx = testx.astype(\"float\")\n",
        "\n",
        "# apply mean subtraction to data\n",
        "mean = np.mean(trainx, axis=0)\n",
        "trainx -= mean\n",
        "testx -= mean\n",
        "\n",
        "# encode labels\n",
        "lb = LabelBinarizer()\n",
        "trainy_encoded = lb.fit_transform(trainy)\n",
        "testy_encoded = lb.transform(testy)"
      ],
      "metadata": {
        "colab": {
          "base_uri": "https://localhost:8080/"
        },
        "id": "0JZUcswlMWVW",
        "outputId": "76e240c2-1ffa-4ebb-f59b-6276d1e22d77"
      }
    },
    {
      "cell_type": "code",
      "execution_count": 8,
      "outputs": [],
      "source": [
        "# data augmentor to combat overfitting\n",
        "aug = ImageDataGenerator(width_shift_range=0.1,\n",
        "                         height_shift_range=0.1,\n",
        "                         horizontal_flip=True,\n",
        "                         fill_mode=\"nearest\")"
      ],
      "metadata": {
        "id": "_sHZkNG5MWVX"
      }
    },
    {
      "cell_type": "code",
      "execution_count": 10,
      "outputs": [],
      "source": [
        "# construct the callbacks\n",
        "fig_path = os.path.sep.join([output_path, f\"{os.getpid()}.png\"])\n",
        "json_path = os.path.sep.join([output_path, f\"{os.getpid()}.json\"])\n",
        "call_backs = [TrainingMonitor(figPath=fig_path, jsonPath=json_path),\n",
        "              LearningRateScheduler(poly_decay)]"
      ],
      "metadata": {
        "id": "Jm29KZ62MWVY"
      }
    },
    {
      "cell_type": "code",
      "execution_count": 11,
      "outputs": [
        {
          "output_type": "stream",
          "name": "stdout",
          "text": [
            "[INFO]compiling the opt and model......\n"
          ]
        }
      ],
      "source": [
        "# init the opt and model\n",
        "print(f\"[INFO]compiling the opt and model......\")\n",
        "opt = SGD(learning_rate=init_lr, momentum=0.9)\n",
        "model = MiniGooglenet.build(32, 32, 3, classes=10)\n",
        "model.compile(loss=\"categorical_crossentropy\",\n",
        "              optimizer=opt,\n",
        "              metrics=[\"accuracy\"])\n"
      ],
      "metadata": {
        "colab": {
          "base_uri": "https://localhost:8080/"
        },
        "id": "jy__VCdLMWVZ",
        "outputId": "7f72e191-ea17-4c7c-865c-f10407c5548b"
      }
    },
    {
      "cell_type": "code",
      "execution_count": 12,
      "outputs": [
        {
          "output_type": "stream",
          "name": "stdout",
          "text": [
            "[INFO] training the network......\n",
            "Epoch 1/70\n"
          ]
        },
        {
          "output_type": "stream",
          "name": "stderr",
          "text": [
            "<ipython-input-12-12b1f5f72b60>:2: UserWarning: `Model.fit_generator` is deprecated and will be removed in a future version. Please use `Model.fit`, which supports generators.\n",
            "  model.fit_generator(aug.flow(trainx, trainy_encoded, batch_size=64),\n"
          ]
        },
        {
          "output_type": "stream",
          "name": "stdout",
          "text": [
            "781/781 [==============================] - 59s 56ms/step - loss: 1.7056 - accuracy: 0.3665 - val_loss: 1.5600 - val_accuracy: 0.4620 - lr: 0.0010\n",
            "Epoch 2/70\n",
            "781/781 [==============================] - 44s 56ms/step - loss: 1.3425 - accuracy: 0.5132 - val_loss: 1.2945 - val_accuracy: 0.5501 - lr: 9.8571e-04\n",
            "Epoch 3/70\n",
            "781/781 [==============================] - 43s 55ms/step - loss: 1.1859 - accuracy: 0.5756 - val_loss: 1.4721 - val_accuracy: 0.5289 - lr: 9.7143e-04\n",
            "Epoch 4/70\n",
            "781/781 [==============================] - 44s 56ms/step - loss: 1.0829 - accuracy: 0.6134 - val_loss: 1.1639 - val_accuracy: 0.5795 - lr: 9.5714e-04\n",
            "Epoch 5/70\n",
            "781/781 [==============================] - 44s 56ms/step - loss: 0.9976 - accuracy: 0.6487 - val_loss: 1.0533 - val_accuracy: 0.6326 - lr: 9.4286e-04\n",
            "Epoch 6/70\n",
            "781/781 [==============================] - 43s 55ms/step - loss: 0.9344 - accuracy: 0.6717 - val_loss: 0.8457 - val_accuracy: 0.7003 - lr: 9.2857e-04\n",
            "Epoch 7/70\n",
            "781/781 [==============================] - 43s 56ms/step - loss: 0.8807 - accuracy: 0.6908 - val_loss: 0.8338 - val_accuracy: 0.7090 - lr: 9.1429e-04\n",
            "Epoch 8/70\n",
            "781/781 [==============================] - 43s 55ms/step - loss: 0.8368 - accuracy: 0.7066 - val_loss: 0.8985 - val_accuracy: 0.6838 - lr: 9.0000e-04\n",
            "Epoch 9/70\n",
            "781/781 [==============================] - 43s 55ms/step - loss: 0.7974 - accuracy: 0.7228 - val_loss: 0.8404 - val_accuracy: 0.7086 - lr: 8.8571e-04\n",
            "Epoch 10/70\n",
            "781/781 [==============================] - 43s 55ms/step - loss: 0.7616 - accuracy: 0.7334 - val_loss: 0.7644 - val_accuracy: 0.7316 - lr: 8.7143e-04\n",
            "Epoch 11/70\n",
            "781/781 [==============================] - 43s 55ms/step - loss: 0.7330 - accuracy: 0.7459 - val_loss: 0.7732 - val_accuracy: 0.7268 - lr: 8.5714e-04\n",
            "Epoch 12/70\n",
            "781/781 [==============================] - 43s 55ms/step - loss: 0.7054 - accuracy: 0.7558 - val_loss: 0.7157 - val_accuracy: 0.7534 - lr: 8.4286e-04\n",
            "Epoch 13/70\n",
            "781/781 [==============================] - 42s 54ms/step - loss: 0.6673 - accuracy: 0.7687 - val_loss: 0.6926 - val_accuracy: 0.7609 - lr: 8.2857e-04\n",
            "Epoch 14/70\n",
            "781/781 [==============================] - 43s 54ms/step - loss: 0.6479 - accuracy: 0.7770 - val_loss: 0.6948 - val_accuracy: 0.7561 - lr: 8.1429e-04\n",
            "Epoch 15/70\n",
            "781/781 [==============================] - 43s 55ms/step - loss: 0.6215 - accuracy: 0.7852 - val_loss: 0.6325 - val_accuracy: 0.7850 - lr: 8.0000e-04\n",
            "Epoch 16/70\n",
            "781/781 [==============================] - 43s 55ms/step - loss: 0.6062 - accuracy: 0.7912 - val_loss: 1.0663 - val_accuracy: 0.6681 - lr: 7.8571e-04\n",
            "Epoch 17/70\n",
            "781/781 [==============================] - 43s 55ms/step - loss: 0.5842 - accuracy: 0.7990 - val_loss: 0.7796 - val_accuracy: 0.7558 - lr: 7.7143e-04\n",
            "Epoch 18/70\n",
            "781/781 [==============================] - 43s 55ms/step - loss: 0.5666 - accuracy: 0.8046 - val_loss: 0.6042 - val_accuracy: 0.7949 - lr: 7.5714e-04\n",
            "Epoch 19/70\n",
            "781/781 [==============================] - 43s 55ms/step - loss: 0.5485 - accuracy: 0.8137 - val_loss: 0.6819 - val_accuracy: 0.7798 - lr: 7.4286e-04\n",
            "Epoch 20/70\n",
            "781/781 [==============================] - 43s 55ms/step - loss: 0.5339 - accuracy: 0.8186 - val_loss: 0.6273 - val_accuracy: 0.7879 - lr: 7.2857e-04\n",
            "Epoch 21/70\n",
            "781/781 [==============================] - 43s 55ms/step - loss: 0.5209 - accuracy: 0.8207 - val_loss: 0.6045 - val_accuracy: 0.7922 - lr: 7.1429e-04\n",
            "Epoch 22/70\n",
            "781/781 [==============================] - 43s 55ms/step - loss: 0.5045 - accuracy: 0.8286 - val_loss: 0.6170 - val_accuracy: 0.7898 - lr: 7.0000e-04\n",
            "Epoch 23/70\n",
            "781/781 [==============================] - 43s 55ms/step - loss: 0.4969 - accuracy: 0.8314 - val_loss: 0.5195 - val_accuracy: 0.8228 - lr: 6.8571e-04\n",
            "Epoch 24/70\n",
            "781/781 [==============================] - 43s 55ms/step - loss: 0.4799 - accuracy: 0.8357 - val_loss: 0.5227 - val_accuracy: 0.8202 - lr: 6.7143e-04\n",
            "Epoch 25/70\n",
            "781/781 [==============================] - 43s 55ms/step - loss: 0.4677 - accuracy: 0.8400 - val_loss: 0.5843 - val_accuracy: 0.8046 - lr: 6.5714e-04\n",
            "Epoch 26/70\n",
            "781/781 [==============================] - 43s 55ms/step - loss: 0.4679 - accuracy: 0.8405 - val_loss: 0.5990 - val_accuracy: 0.7988 - lr: 6.4286e-04\n",
            "Epoch 27/70\n",
            "781/781 [==============================] - 42s 54ms/step - loss: 0.4495 - accuracy: 0.8459 - val_loss: 0.5169 - val_accuracy: 0.8241 - lr: 6.2857e-04\n",
            "Epoch 28/70\n",
            "781/781 [==============================] - 43s 55ms/step - loss: 0.4386 - accuracy: 0.8492 - val_loss: 0.6239 - val_accuracy: 0.7956 - lr: 6.1429e-04\n",
            "Epoch 29/70\n",
            "781/781 [==============================] - 43s 54ms/step - loss: 0.4326 - accuracy: 0.8522 - val_loss: 0.5634 - val_accuracy: 0.8171 - lr: 6.0000e-04\n",
            "Epoch 30/70\n",
            "781/781 [==============================] - 43s 55ms/step - loss: 0.4203 - accuracy: 0.8570 - val_loss: 0.5379 - val_accuracy: 0.8202 - lr: 5.8571e-04\n",
            "Epoch 31/70\n",
            "781/781 [==============================] - 43s 55ms/step - loss: 0.4135 - accuracy: 0.8590 - val_loss: 0.5775 - val_accuracy: 0.8080 - lr: 5.7143e-04\n",
            "Epoch 32/70\n",
            "781/781 [==============================] - 43s 55ms/step - loss: 0.4024 - accuracy: 0.8632 - val_loss: 0.5402 - val_accuracy: 0.8195 - lr: 5.5714e-04\n",
            "Epoch 33/70\n",
            "781/781 [==============================] - 43s 55ms/step - loss: 0.3978 - accuracy: 0.8643 - val_loss: 0.4753 - val_accuracy: 0.8394 - lr: 5.4286e-04\n",
            "Epoch 34/70\n",
            "781/781 [==============================] - 43s 55ms/step - loss: 0.3876 - accuracy: 0.8678 - val_loss: 0.4652 - val_accuracy: 0.8426 - lr: 5.2857e-04\n",
            "Epoch 35/70\n",
            "781/781 [==============================] - 43s 55ms/step - loss: 0.3808 - accuracy: 0.8718 - val_loss: 0.4861 - val_accuracy: 0.8381 - lr: 5.1429e-04\n",
            "Epoch 36/70\n",
            "781/781 [==============================] - 43s 55ms/step - loss: 0.3763 - accuracy: 0.8718 - val_loss: 0.5152 - val_accuracy: 0.8280 - lr: 5.0000e-04\n",
            "Epoch 37/70\n",
            "781/781 [==============================] - 43s 54ms/step - loss: 0.3707 - accuracy: 0.8740 - val_loss: 0.5744 - val_accuracy: 0.8143 - lr: 4.8571e-04\n",
            "Epoch 38/70\n",
            "781/781 [==============================] - 42s 54ms/step - loss: 0.3633 - accuracy: 0.8755 - val_loss: 0.4819 - val_accuracy: 0.8399 - lr: 4.7143e-04\n",
            "Epoch 39/70\n",
            "781/781 [==============================] - 42s 54ms/step - loss: 0.3522 - accuracy: 0.8793 - val_loss: 0.4585 - val_accuracy: 0.8415 - lr: 4.5714e-04\n",
            "Epoch 40/70\n",
            "781/781 [==============================] - 43s 55ms/step - loss: 0.3440 - accuracy: 0.8804 - val_loss: 0.4610 - val_accuracy: 0.8415 - lr: 4.4286e-04\n",
            "Epoch 41/70\n",
            "781/781 [==============================] - 43s 55ms/step - loss: 0.3428 - accuracy: 0.8826 - val_loss: 0.4963 - val_accuracy: 0.8341 - lr: 4.2857e-04\n",
            "Epoch 42/70\n",
            "781/781 [==============================] - 43s 55ms/step - loss: 0.3380 - accuracy: 0.8838 - val_loss: 0.6511 - val_accuracy: 0.7986 - lr: 4.1429e-04\n",
            "Epoch 43/70\n",
            "781/781 [==============================] - 43s 54ms/step - loss: 0.3308 - accuracy: 0.8871 - val_loss: 0.4713 - val_accuracy: 0.8445 - lr: 4.0000e-04\n",
            "Epoch 44/70\n",
            "781/781 [==============================] - 43s 54ms/step - loss: 0.3272 - accuracy: 0.8879 - val_loss: 0.4608 - val_accuracy: 0.8459 - lr: 3.8571e-04\n",
            "Epoch 45/70\n",
            "781/781 [==============================] - 43s 55ms/step - loss: 0.3218 - accuracy: 0.8901 - val_loss: 0.4393 - val_accuracy: 0.8535 - lr: 3.7143e-04\n",
            "Epoch 46/70\n",
            "781/781 [==============================] - 43s 55ms/step - loss: 0.3203 - accuracy: 0.8912 - val_loss: 0.4626 - val_accuracy: 0.8456 - lr: 3.5714e-04\n",
            "Epoch 47/70\n",
            "781/781 [==============================] - 43s 55ms/step - loss: 0.3124 - accuracy: 0.8926 - val_loss: 0.4519 - val_accuracy: 0.8476 - lr: 3.4286e-04\n",
            "Epoch 48/70\n",
            "781/781 [==============================] - 43s 55ms/step - loss: 0.3092 - accuracy: 0.8946 - val_loss: 0.4439 - val_accuracy: 0.8559 - lr: 3.2857e-04\n",
            "Epoch 49/70\n",
            "781/781 [==============================] - 43s 55ms/step - loss: 0.3054 - accuracy: 0.8967 - val_loss: 0.4534 - val_accuracy: 0.8503 - lr: 3.1429e-04\n",
            "Epoch 50/70\n",
            "781/781 [==============================] - 43s 55ms/step - loss: 0.2966 - accuracy: 0.8991 - val_loss: 0.4457 - val_accuracy: 0.8512 - lr: 3.0000e-04\n",
            "Epoch 51/70\n",
            "781/781 [==============================] - 43s 55ms/step - loss: 0.2934 - accuracy: 0.9010 - val_loss: 0.4719 - val_accuracy: 0.8457 - lr: 2.8571e-04\n",
            "Epoch 52/70\n",
            "781/781 [==============================] - 43s 55ms/step - loss: 0.2881 - accuracy: 0.9002 - val_loss: 0.4288 - val_accuracy: 0.8569 - lr: 2.7143e-04\n",
            "Epoch 53/70\n",
            "781/781 [==============================] - 42s 54ms/step - loss: 0.2855 - accuracy: 0.9030 - val_loss: 0.4667 - val_accuracy: 0.8513 - lr: 2.5714e-04\n",
            "Epoch 54/70\n",
            "781/781 [==============================] - 43s 55ms/step - loss: 0.2794 - accuracy: 0.9035 - val_loss: 0.4361 - val_accuracy: 0.8526 - lr: 2.4286e-04\n",
            "Epoch 55/70\n",
            "781/781 [==============================] - 43s 55ms/step - loss: 0.2745 - accuracy: 0.9072 - val_loss: 0.4123 - val_accuracy: 0.8622 - lr: 2.2857e-04\n",
            "Epoch 56/70\n",
            "781/781 [==============================] - 43s 55ms/step - loss: 0.2689 - accuracy: 0.9094 - val_loss: 0.4265 - val_accuracy: 0.8589 - lr: 2.1429e-04\n",
            "Epoch 57/70\n",
            "781/781 [==============================] - 43s 54ms/step - loss: 0.2678 - accuracy: 0.9086 - val_loss: 0.4552 - val_accuracy: 0.8530 - lr: 2.0000e-04\n",
            "Epoch 58/70\n",
            "781/781 [==============================] - 43s 55ms/step - loss: 0.2676 - accuracy: 0.9076 - val_loss: 0.4220 - val_accuracy: 0.8590 - lr: 1.8571e-04\n",
            "Epoch 59/70\n",
            "781/781 [==============================] - 43s 55ms/step - loss: 0.2627 - accuracy: 0.9106 - val_loss: 0.4161 - val_accuracy: 0.8619 - lr: 1.7143e-04\n",
            "Epoch 60/70\n",
            "781/781 [==============================] - 43s 55ms/step - loss: 0.2554 - accuracy: 0.9131 - val_loss: 0.4233 - val_accuracy: 0.8611 - lr: 1.5714e-04\n",
            "Epoch 61/70\n",
            "781/781 [==============================] - 43s 55ms/step - loss: 0.2520 - accuracy: 0.9139 - val_loss: 0.4032 - val_accuracy: 0.8647 - lr: 1.4286e-04\n",
            "Epoch 62/70\n",
            "781/781 [==============================] - 43s 55ms/step - loss: 0.2521 - accuracy: 0.9147 - val_loss: 0.4018 - val_accuracy: 0.8651 - lr: 1.2857e-04\n",
            "Epoch 63/70\n",
            "781/781 [==============================] - 43s 55ms/step - loss: 0.2469 - accuracy: 0.9160 - val_loss: 0.4020 - val_accuracy: 0.8676 - lr: 1.1429e-04\n",
            "Epoch 64/70\n",
            "781/781 [==============================] - 43s 55ms/step - loss: 0.2437 - accuracy: 0.9176 - val_loss: 0.4058 - val_accuracy: 0.8661 - lr: 1.0000e-04\n",
            "Epoch 65/70\n",
            "781/781 [==============================] - 43s 55ms/step - loss: 0.2446 - accuracy: 0.9171 - val_loss: 0.4046 - val_accuracy: 0.8661 - lr: 8.5714e-05\n",
            "Epoch 66/70\n",
            "781/781 [==============================] - 43s 55ms/step - loss: 0.2407 - accuracy: 0.9191 - val_loss: 0.3885 - val_accuracy: 0.8716 - lr: 7.1429e-05\n",
            "Epoch 67/70\n",
            "781/781 [==============================] - 43s 55ms/step - loss: 0.2400 - accuracy: 0.9185 - val_loss: 0.3964 - val_accuracy: 0.8689 - lr: 5.7143e-05\n",
            "Epoch 68/70\n",
            "781/781 [==============================] - 43s 55ms/step - loss: 0.2391 - accuracy: 0.9186 - val_loss: 0.3887 - val_accuracy: 0.8703 - lr: 4.2857e-05\n",
            "Epoch 69/70\n",
            "781/781 [==============================] - 43s 55ms/step - loss: 0.2356 - accuracy: 0.9213 - val_loss: 0.3919 - val_accuracy: 0.8690 - lr: 2.8571e-05\n",
            "Epoch 70/70\n",
            "781/781 [==============================] - 43s 55ms/step - loss: 0.2341 - accuracy: 0.9215 - val_loss: 0.3907 - val_accuracy: 0.8705 - lr: 1.4286e-05\n",
            "[INFO] saving the model......\n"
          ]
        }
      ],
      "source": [
        "print(f\"[INFO] training the network......\")\n",
        "model.fit_generator(aug.flow(trainx, trainy_encoded, batch_size=64),\n",
        "                    validation_data=(testx, testy_encoded),\n",
        "                    steps_per_epoch=len(trainx) // 64,\n",
        "                    epochs=num_epochs,\n",
        "                    callbacks=call_backs)\n",
        "\n",
        "print(f\"[INFO] saving the model......\")\n",
        "model_path = os.path.sep.join([output_path, f\"saved_model.h5\"])\n",
        "model.save(model_path)"
      ],
      "metadata": {
        "colab": {
          "base_uri": "https://localhost:8080/"
        },
        "id": "c0XbnVB1MWVa",
        "outputId": "8b379f4c-7d6e-4456-8be1-db6ac70faf36"
      }
    },
    {
      "cell_type": "code",
      "execution_count": null,
      "outputs": [],
      "source": [],
      "metadata": {
        "id": "6HAMODZ4MWVb"
      }
    }
  ],
  "metadata": {
    "kernelspec": {
      "display_name": "Python 3",
      "name": "python3"
    },
    "language_info": {
      "codemirror_mode": {
        "name": "ipython",
        "version": 2
      },
      "file_extension": ".py",
      "mimetype": "text/x-python",
      "name": "python",
      "nbconvert_exporter": "python",
      "pygments_lexer": "ipython2",
      "version": "2.7.6"
    },
    "colab": {
      "provenance": [],
      "machine_shape": "hm",
      "gpuType": "T4"
    },
    "accelerator": "GPU"
  },
  "nbformat": 4,
  "nbformat_minor": 0
}