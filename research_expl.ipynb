{
 "cells": [
  {
   "metadata": {
    "ExecuteTime": {
     "end_time": "2025-10-07T04:45:55.836505Z",
     "start_time": "2025-10-07T04:45:52.034638Z"
    }
   },
   "cell_type": "code",
   "source": [
    "import torch\n",
    "import torchvision\n",
    "from torch import nn\n",
    "from torch import optim\n",
    "import torch.nn.functional as F\n",
    "from torch.utils.data import DataLoader\n",
    "from torchvision import datasets, transforms, models"
   ],
   "outputs": [],
   "execution_count": 1
  },
  {
   "metadata": {
    "ExecuteTime": {
     "end_time": "2025-10-07T05:24:19.379797Z",
     "start_time": "2025-10-07T05:24:19.367842Z"
    }
   },
   "cell_type": "code",
   "source": [
    "rnn1 = nn.RNN(input_size=2,\n",
    "              hidden_size=6,\n",
    "              num_layers=1,\n",
    "              batch_first=True\n",
    "              )\n",
    "\n",
    "rnn3 = nn.RNN(input_size=2,\n",
    "              hidden_size=6,\n",
    "              num_layers=3,\n",
    "              batch_first=True\n",
    "              )\n",
    "\n",
    "rnnBi = nn.RNN(\n",
    "    input_size=2,\n",
    "    hidden_size=6,\n",
    "    num_layers=1,\n",
    "    batch_first=True,\n",
    "    bidirectional=True\n",
    ")"
   ],
   "outputs": [],
   "execution_count": 26
  },
  {
   "metadata": {
    "ExecuteTime": {
     "end_time": "2025-10-07T05:03:48.032045Z",
     "start_time": "2025-10-07T05:03:48.019274Z"
    }
   },
   "cell_type": "code",
   "source": [
    "batch = torch.randn((8, 4, 2))\n",
    "batch.shape"
   ],
   "outputs": [
    {
     "data": {
      "text/plain": [
       "torch.Size([8, 4, 2])"
      ]
     },
     "execution_count": 23,
     "metadata": {},
     "output_type": "execute_result"
    }
   ],
   "execution_count": 23
  },
  {
   "metadata": {
    "ExecuteTime": {
     "end_time": "2025-10-07T05:03:50.921928Z",
     "start_time": "2025-10-07T05:03:50.915407Z"
    }
   },
   "cell_type": "code",
   "source": [
    "out1, final_h1= rnn1(batch)\n",
    "out1.shape, final_h1.permute((1, 0, 2)).shape"
   ],
   "outputs": [
    {
     "data": {
      "text/plain": [
       "(torch.Size([8, 4, 6]), torch.Size([8, 1, 6]))"
      ]
     },
     "execution_count": 24,
     "metadata": {},
     "output_type": "execute_result"
    }
   ],
   "execution_count": 24
  },
  {
   "metadata": {
    "ExecuteTime": {
     "end_time": "2025-10-07T05:05:08.490877Z",
     "start_time": "2025-10-07T05:05:08.477316Z"
    }
   },
   "cell_type": "code",
   "source": [
    "out3, final_h3 = rnn3(batch)\n",
    "out3.shape, final_h3.permute((1, 0, 2)).shape"
   ],
   "outputs": [
    {
     "data": {
      "text/plain": [
       "(torch.Size([8, 4, 6]), torch.Size([8, 3, 6]))"
      ]
     },
     "execution_count": 25,
     "metadata": {},
     "output_type": "execute_result"
    }
   ],
   "execution_count": 25
  },
  {
   "metadata": {
    "ExecuteTime": {
     "end_time": "2025-10-07T05:24:40.768021Z",
     "start_time": "2025-10-07T05:24:40.741772Z"
    }
   },
   "cell_type": "code",
   "source": [
    "out4, final_h4 = rnnBi(batch)\n",
    "out4.shape, final_h4.permute((1, 0, 2)).shape"
   ],
   "outputs": [
    {
     "data": {
      "text/plain": [
       "(torch.Size([8, 4, 12]), torch.Size([8, 2, 6]))"
      ]
     },
     "execution_count": 27,
     "metadata": {},
     "output_type": "execute_result"
    }
   ],
   "execution_count": 27
  },
  {
   "metadata": {},
   "cell_type": "code",
   "outputs": [],
   "execution_count": null,
   "source": ""
  }
 ],
 "metadata": {
  "kernelspec": {
   "display_name": "Python 3",
   "language": "python",
   "name": "python3"
  },
  "language_info": {
   "codemirror_mode": {
    "name": "ipython",
    "version": 2
   },
   "file_extension": ".py",
   "mimetype": "text/x-python",
   "name": "python",
   "nbconvert_exporter": "python",
   "pygments_lexer": "ipython2",
   "version": "2.7.6"
  }
 },
 "nbformat": 4,
 "nbformat_minor": 0
}
