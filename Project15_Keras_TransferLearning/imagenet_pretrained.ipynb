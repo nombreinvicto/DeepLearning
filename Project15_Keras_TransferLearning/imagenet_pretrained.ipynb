{
 "cells": [
  {
   "cell_type": "markdown",
   "source": [
    "### Import the necessary modules and utility functions"
   ],
   "metadata": {
    "collapsed": false
   }
  },
  {
   "cell_type": "code",
   "execution_count": 3,
   "metadata": {
    "collapsed": true,
    "pycharm": {
     "name": "#%%\n",
     "is_executing": false
    }
   },
   "outputs": [],
   "source": [
    "# import the required packages\n",
    "from tensorflow.keras.applications import \\\n",
    "    ResNet50, \\\n",
    "    InceptionV3, \\\n",
    "    Xception, \\\n",
    "    VGG16, \\\n",
    "    VGG19, \\\n",
    "    imagenet_utils\n",
    "from tensorflow.keras.applications import inception_v3\n",
    "from tensorflow.keras.preprocessing.image import \\\n",
    "    img_to_array, \\\n",
    "    load_img\n",
    "import numpy as np\n",
    "import cv2"
   ]
  },
  {
   "cell_type": "markdown",
   "source": [
    "### Initialise the image paths and model dicts"
   ],
   "metadata": {
    "collapsed": false
   }
  },
  {
   "cell_type": "code",
   "execution_count": 4,
   "outputs": [],
   "source": [
    "args = {\n",
    "    'image': 'puppy.jpg',\n",
    "    'model': 'vgg16'\n",
    "}\n",
    "\n",
    "Models = {\n",
    "    'vgg16': VGG16,\n",
    "    'vgg19': VGG19,\n",
    "    'inception': InceptionV3,\n",
    "    'xception': Xception,\n",
    "    'resnet': ResNet50\n",
    "}\n",
    "\n",
    "# ensure a valid model name was supplied via command line argument\n",
    "if args['model'] not in Models.keys():\n",
    "    raise AssertionError(f'The --model command line argument should be a key'\n",
    "                         f' in the models dict: {Models.keys()}')"
   ],
   "metadata": {
    "collapsed": false,
    "pycharm": {
     "name": "#%%\n",
     "is_executing": false
    }
   }
  },
  {
   "cell_type": "markdown",
   "source": [
    "### Preprocess image and load the model"
   ],
   "metadata": {
    "collapsed": false
   }
  },
  {
   "cell_type": "code",
   "execution_count": 5,
   "outputs": [],
   "source": [
    "# VGG16, VGG19, and ResNet all accept 224 ×224\n",
    "# Inception V3 and Xception require 299 ×299 pixel inputs\n",
    "\n",
    "# initialise the input image shape => 224x224 or 299x299 along with \n",
    "# preprocessing function\n",
    "\n",
    "# for VGG16, VGG19 or ResNet\n",
    "inputShape = (224, 224)\n",
    "preprocess = imagenet_utils.preprocess_input\n",
    "\n",
    "# for Inception V3 or Xception\n",
    "if args['model'] in ('inception', 'xception'):\n",
    "    inputShape = (299, 299)\n",
    "    preprocess = inception_v3.preprocess_input    "
   ],
   "metadata": {
    "collapsed": false,
    "pycharm": {
     "name": "#%%\n",
     "is_executing": false
    }
   }
  },
  {
   "cell_type": "code",
   "execution_count": 6,
   "outputs": [
    {
     "name": "stdout",
     "text": [
      "[INFO] loading vgg16\n",
      "[INFO] loading and pre-process image...\n"
     ],
     "output_type": "stream"
    }
   ],
   "source": [
    "# load network from disk\n",
    "print(f'[INFO] loading {args[\"model\"]}')\n",
    "network = Models[args[\"model\"]]\n",
    "model = network(weights=\"imagenet\")\n",
    "\n",
    "# load the input image \n",
    "print(f'[INFO] loading and pre-process image...')\n",
    "image = load_img(args['image'], target_size=inputShape)\n",
    "image = img_to_array(image)\n",
    "image = np.expand_dims(image, axis=0)\n",
    "image = preprocess(image)"
   ],
   "metadata": {
    "collapsed": false,
    "pycharm": {
     "name": "#%%\n",
     "is_executing": false
    }
   }
  },
  {
   "cell_type": "markdown",
   "source": [
    "### Make the predictions on a test image"
   ],
   "metadata": {
    "collapsed": false
   }
  },
  {
   "cell_type": "code",
   "execution_count": 7,
   "outputs": [
    {
     "name": "stdout",
     "text": [
      "[INFO] classifying the image with vgg16\n",
      "1. golden_retriever. 78.86912226676941\n",
      "2. Labrador_retriever. 7.9466961324214935\n",
      "3. Great_Pyrenees. 5.392393842339516\n",
      "4. kuvasz. 4.0157608687877655\n",
      "5. Leonberg. 0.9253856725990772\n"
     ],
     "output_type": "stream"
    }
   ],
   "source": [
    "# classify the image\n",
    "print(f'[INFO] classifying the image with {args[\"model\"]}')\n",
    "preds = model.predict(image)\n",
    "P = imagenet_utils.decode_predictions(preds)\n",
    "\n",
    "# write out the top 5 image classified and theor probabilities\n",
    "for i, (imagenetID, label, prob) in enumerate(P[0]):\n",
    "    print(f'{i+1}. {label}. {prob*100}')"
   ],
   "metadata": {
    "collapsed": false,
    "pycharm": {
     "name": "#%%\n",
     "is_executing": false
    }
   }
  },
  {
   "cell_type": "markdown",
   "source": [
    "### Display the classified image"
   ],
   "metadata": {
    "collapsed": false
   }
  },
  {
   "cell_type": "code",
   "execution_count": 9,
   "outputs": [
    {
     "name": "stderr",
     "text": [
      "Clipping input data to the valid range for imshow with RGB data ([0..1] for floats or [0..255] for integers).\n"
     ],
     "output_type": "stream"
    },
    {
     "data": {
      "text/plain": "<matplotlib.image.AxesImage at 0x26234a9fb38>"
     },
     "metadata": {},
     "output_type": "execute_result",
     "execution_count": 9
    },
    {
     "data": {
      "text/plain": "<Figure size 432x288 with 1 Axes>",
      "image/png": "[encoded data removed]"
     },
     "metadata": {
      "needs_background": "light"
     },
     "output_type": "display_data"
    }
   ],
   "source": [
    "# display image with identified label\n",
    "import matplotlib.pyplot as plt\n",
    "plt.imshow(image[0])"
   ],
   "metadata": {
    "collapsed": false,
    "pycharm": {
     "name": "#%%\n",
     "is_executing": false
    }
   }
  }
 ],
 "metadata": {
  "kernelspec": {
   "display_name": "Python 3",
   "language": "python",
   "name": "python3"
  },
  "language_info": {
   "codemirror_mode": {
    "name": "ipython",
    "version": 2
   },
   "file_extension": ".py",
   "mimetype": "text/x-python",
   "name": "python",
   "nbconvert_exporter": "python",
   "pygments_lexer": "ipython2",
   "version": "2.7.6"
  },
  "pycharm": {
   "stem_cell": {
    "cell_type": "raw",
    "source": [],
    "metadata": {
     "collapsed": false
    }
   }
  }
 },
 "nbformat": 4,
 "nbformat_minor": 0
}